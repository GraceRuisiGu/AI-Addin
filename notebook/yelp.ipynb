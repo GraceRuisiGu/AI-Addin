{
 "cells": [
  {
   "cell_type": "code",
   "execution_count": 1,
   "metadata": {},
   "outputs": [],
   "source": [
    "import h2o\n",
    "import operator\n",
    "from h2o.automl import H2OAutoML\n",
    "import random, os, sys\n",
    "from datetime import datetime\n",
    "import pandas as pd\n",
    "import logging\n",
    "import csv\n",
    "import optparse\n",
    "import time\n",
    "import json\n",
    "from distutils.util import strtobool\n",
    "import psutil\n",
    "import numpy as np\n",
    "from matplotlib import pyplot as plt\n",
    "import warnings\n",
    "import sys\n",
    "sys.path.append('../plot/')\n",
    "from ice import ice, ice_plot\n",
    "from h2o.estimators.glm import H2OGeneralizedLinearEstimator\n",
    "from h2o.estimators import H2OGradientBoostingEstimator\n",
    "warnings.filterwarnings(\"ignore\")\n",
    "from h2o.estimators.random_forest import H2ORandomForestEstimator\n",
    "from IPython.display import Image, display\n",
    "from h2o.backend import H2OLocalServer\n",
    "import subprocess\n",
    "%matplotlib inline"
   ]
  },
  {
   "cell_type": "markdown",
   "metadata": {},
   "source": [
    "# 1 Data Preparation"
   ]
  },
  {
   "cell_type": "markdown",
   "metadata": {},
   "source": [
    "## 1.1 H2O Initialization"
   ]
  },
  {
   "cell_type": "code",
   "execution_count": 2,
   "metadata": {},
   "outputs": [
    {
     "name": "stdout",
     "output_type": "stream",
     "text": [
      "17\n"
     ]
    }
   ],
   "source": [
    "pct_memory=4\n",
    "virtual_memory=psutil.virtual_memory()\n",
    "min_mem_size=int(round(int(pct_memory*virtual_memory.available)/1073741824,0))\n",
    "print(min_mem_size)"
   ]
  },
  {
   "cell_type": "code",
   "execution_count": 3,
   "metadata": {},
   "outputs": [
    {
     "name": "stdout",
     "output_type": "stream",
     "text": [
      "Checking whether there is an H2O instance running at http://localhost:54321 . connected.\n"
     ]
    },
    {
     "data": {
      "text/html": [
       "<div style=\"overflow:auto\"><table style=\"width:50%\"><tr><td>H2O cluster uptime:</td>\n",
       "<td>5 hours 15 mins</td></tr>\n",
       "<tr><td>H2O cluster timezone:</td>\n",
       "<td>America/New_York</td></tr>\n",
       "<tr><td>H2O data parsing timezone:</td>\n",
       "<td>UTC</td></tr>\n",
       "<tr><td>H2O cluster version:</td>\n",
       "<td>3.24.0.2</td></tr>\n",
       "<tr><td>H2O cluster version age:</td>\n",
       "<td>9 days </td></tr>\n",
       "<tr><td>H2O cluster name:</td>\n",
       "<td>H2O_from_python_mandy_jpex0n</td></tr>\n",
       "<tr><td>H2O cluster total nodes:</td>\n",
       "<td>1</td></tr>\n",
       "<tr><td>H2O cluster free memory:</td>\n",
       "<td>26.88 Gb</td></tr>\n",
       "<tr><td>H2O cluster total cores:</td>\n",
       "<td>12</td></tr>\n",
       "<tr><td>H2O cluster allowed cores:</td>\n",
       "<td>12</td></tr>\n",
       "<tr><td>H2O cluster status:</td>\n",
       "<td>locked, healthy</td></tr>\n",
       "<tr><td>H2O connection url:</td>\n",
       "<td>http://localhost:54321</td></tr>\n",
       "<tr><td>H2O connection proxy:</td>\n",
       "<td>None</td></tr>\n",
       "<tr><td>H2O internal security:</td>\n",
       "<td>False</td></tr>\n",
       "<tr><td>H2O API Extensions:</td>\n",
       "<td>Amazon S3, XGBoost, Algos, AutoML, Core V3, Core V4</td></tr>\n",
       "<tr><td>Python version:</td>\n",
       "<td>3.7.2 final</td></tr></table></div>"
      ],
      "text/plain": [
       "--------------------------  ---------------------------------------------------\n",
       "H2O cluster uptime:         5 hours 15 mins\n",
       "H2O cluster timezone:       America/New_York\n",
       "H2O data parsing timezone:  UTC\n",
       "H2O cluster version:        3.24.0.2\n",
       "H2O cluster version age:    9 days\n",
       "H2O cluster name:           H2O_from_python_mandy_jpex0n\n",
       "H2O cluster total nodes:    1\n",
       "H2O cluster free memory:    26.88 Gb\n",
       "H2O cluster total cores:    12\n",
       "H2O cluster allowed cores:  12\n",
       "H2O cluster status:         locked, healthy\n",
       "H2O connection url:         http://localhost:54321\n",
       "H2O connection proxy:\n",
       "H2O internal security:      False\n",
       "H2O API Extensions:         Amazon S3, XGBoost, Algos, AutoML, Core V3, Core V4\n",
       "Python version:             3.7.2 final\n",
       "--------------------------  ---------------------------------------------------"
      ]
     },
     "metadata": {},
     "output_type": "display_data"
    }
   ],
   "source": [
    "h2o.init(strict_version_check=False,max_mem_size=min_mem_size)"
   ]
  },
  {
   "cell_type": "markdown",
   "metadata": {},
   "source": [
    "## 1.2 Data Import & Parse"
   ]
  },
  {
   "cell_type": "code",
   "execution_count": 4,
   "metadata": {},
   "outputs": [
    {
     "name": "stdout",
     "output_type": "stream",
     "text": [
      "Parse progress: |█████████████████████████████████████████████████████████| 100%\n"
     ]
    }
   ],
   "source": [
    "data_path = \"../data/yelp.csv\"\n",
    "\n",
    "# Load data into H2O\n",
    "reviews = h2o.import_file(data_path)"
   ]
  },
  {
   "cell_type": "code",
   "execution_count": 5,
   "metadata": {},
   "outputs": [
    {
     "data": {
      "text/plain": [
       "(10086, 10)"
      ]
     },
     "execution_count": 5,
     "metadata": {},
     "output_type": "execute_result"
    }
   ],
   "source": [
    "reviews.shape"
   ]
  },
  {
   "cell_type": "code",
   "execution_count": 6,
   "metadata": {
    "scrolled": false
   },
   "outputs": [
    {
     "data": {
      "text/html": [
       "<table>\n",
       "<thead>\n",
       "<tr><th>business_id           </th><th>date               </th><th>review_id             </th><th style=\"text-align: right;\">  stars</th><th>text                                                                        </th><th>type  </th><th>user_id               </th><th style=\"text-align: right;\">  cool</th><th style=\"text-align: right;\">  useful</th><th style=\"text-align: right;\">  funny</th></tr>\n",
       "</thead>\n",
       "<tbody>\n",
       "<tr><td>9yKzy9PApeiPPOUJEtnvkg</td><td>2011-01-26 00:00:00</td><td>fWKvX83p0-ka4JS3dc6E5A</td><td style=\"text-align: right;\">      5</td><td>My wife took me here on my birthday for breakfast and it was excellent.  The weather was perfect which made sitting outside overlooking their grounds an absolute pleasure.  Our waitress was excellent and our food arrived quickly on the semi-busy Saturday morning.  It looked like the place fills up pretty quickly so the earlier you get here the better.\n",
       "\n",
       "Do yourself a favor and get their Bloody Mary.  It was phenomenal and simply the best I've ever had.  I'm pretty sure they only use ingredients from their garden and blend them fresh when you order it.  It was amazing.\n",
       "\n",
       "While EVERYTHING on the menu looks excellent, I had the white truffle scrambled eggs vegetable skillet and it was tasty and delicious.  It came with 2 pieces of their griddled bread with was amazing and it absolutely made the meal complete.  It was the best \"toast\" I've ever had.\n",
       "\n",
       "Anyway, I can't wait to go back!                                                                             </td><td>review</td><td>rLtl8ZkDX5vH5nAx9C3q5Q</td><td style=\"text-align: right;\">     2</td><td style=\"text-align: right;\">       5</td><td style=\"text-align: right;\">      0</td></tr>\n",
       "<tr><td>ZRJwVLyzEJq1VAihDhYiow</td><td>2011-07-27 00:00:00</td><td>IjZ33sJrzXqU-0X6U8NwyA</td><td style=\"text-align: right;\">      5</td><td>I have no idea why some people give bad reviews about this place. It goes to show you, you can please everyone. They are probably griping about something that their own fault...there are many people like that.\n",
       "\n",
       "In any case, my friend and I arrived at about 5:50 PM this past Sunday. It was pretty crowded, more than I thought for a Sunday evening and thought we would have to wait forever to get a seat but they said we'll be seated when the girl comes back from seating someone else. We were seated at 5:52 and the waiter came and got our drink orders. Everyone was very pleasant from the host that seated us to the waiter to the server. The prices were very good as well. We placed our orders once we decided what we wanted at 6:02. We shared the baked spaghetti calzone and the small \"Here's The Beef\" pizza so we can both try them. The calzone was huge and we got the smallest one (personal) and got the small 11\" pizza. Both were awesome! My friend liked the pizza better and I liked the calzone better. The calzone does have a sweetish sauce but that's how I like my sauce!\n",
       "\n",
       "We had to box part of the pizza to take it home and we were out the door by 6:42. So, everything was great and not like these bad reviewers. That goes to show you that  you have to try these things yourself because all these bad reviewers have some serious issues.                                                                             </td><td>review</td><td>0a2KyEL0d3Yb1V6aivbIuQ</td><td style=\"text-align: right;\">     0</td><td style=\"text-align: right;\">       0</td><td style=\"text-align: right;\">      0</td></tr>\n",
       "<tr><td>6oRAC4uyJCsJl1X0WZpVSA</td><td>2012-06-14 00:00:00</td><td>IESLBzqUCLdSzSqm0eCSxQ</td><td style=\"text-align: right;\">      4</td><td>love the gyro plate. Rice is so good and I also dig their candy selection :)</td><td>review</td><td>0hT2KtfLiobPvh6cDC8JQg</td><td style=\"text-align: right;\">     0</td><td style=\"text-align: right;\">       1</td><td style=\"text-align: right;\">      0</td></tr>\n",
       "</tbody>\n",
       "</table>"
      ]
     },
     "metadata": {},
     "output_type": "display_data"
    },
    {
     "data": {
      "text/plain": []
     },
     "execution_count": 6,
     "metadata": {},
     "output_type": "execute_result"
    }
   ],
   "source": [
    "reviews.head(3)"
   ]
  },
  {
   "cell_type": "code",
   "execution_count": 7,
   "metadata": {},
   "outputs": [],
   "source": [
    "reviews['PositiveReview']=(reviews['stars']>=reviews['stars'].mean()[0]).ifelse('1','0')"
   ]
  },
  {
   "cell_type": "code",
   "execution_count": 8,
   "metadata": {},
   "outputs": [
    {
     "data": {
      "text/html": [
       "<table>\n",
       "<thead>\n",
       "<tr><th style=\"text-align: right;\">  PositiveReview</th><th style=\"text-align: right;\">  Count</th></tr>\n",
       "</thead>\n",
       "<tbody>\n",
       "<tr><td style=\"text-align: right;\">               0</td><td style=\"text-align: right;\">   3222</td></tr>\n",
       "<tr><td style=\"text-align: right;\">               1</td><td style=\"text-align: right;\">   6864</td></tr>\n",
       "</tbody>\n",
       "</table>"
      ]
     },
     "metadata": {},
     "output_type": "display_data"
    },
    {
     "data": {
      "text/plain": []
     },
     "execution_count": 8,
     "metadata": {},
     "output_type": "execute_result"
    }
   ],
   "source": [
    "reviews['PositiveReview'].table()"
   ]
  },
  {
   "cell_type": "code",
   "execution_count": 9,
   "metadata": {},
   "outputs": [
    {
     "name": "stdout",
     "output_type": "stream",
     "text": [
      "Parse progress: |█████████████████████████████████████████████████████████| 100%\n"
     ]
    },
    {
     "data": {
      "text/plain": [
       "(10086, 1)"
      ]
     },
     "execution_count": 9,
     "metadata": {},
     "output_type": "execute_result"
    }
   ],
   "source": [
    "cols_df = h2o.H2OFrame.from_python(np.transpose(list(range(1, 10087))), column_names=list(['Id']))\n",
    "cols_df.shape"
   ]
  },
  {
   "cell_type": "code",
   "execution_count": 10,
   "metadata": {},
   "outputs": [
    {
     "data": {
      "text/html": [
       "<table>\n",
       "<thead>\n",
       "<tr><th style=\"text-align: right;\">  Id</th><th>business_id           </th><th>date               </th><th>review_id             </th><th style=\"text-align: right;\">  stars</th><th>text                                                                        </th><th>type  </th><th>user_id               </th><th style=\"text-align: right;\">  cool</th><th style=\"text-align: right;\">  useful</th><th style=\"text-align: right;\">  funny</th><th style=\"text-align: right;\">  PositiveReview</th></tr>\n",
       "</thead>\n",
       "<tbody>\n",
       "<tr><td style=\"text-align: right;\">   1</td><td>9yKzy9PApeiPPOUJEtnvkg</td><td>2011-01-26 00:00:00</td><td>fWKvX83p0-ka4JS3dc6E5A</td><td style=\"text-align: right;\">      5</td><td>My wife took me here on my birthday for breakfast and it was excellent.  The weather was perfect which made sitting outside overlooking their grounds an absolute pleasure.  Our waitress was excellent and our food arrived quickly on the semi-busy Saturday morning.  It looked like the place fills up pretty quickly so the earlier you get here the better.\n",
       "\n",
       "Do yourself a favor and get their Bloody Mary.  It was phenomenal and simply the best I've ever had.  I'm pretty sure they only use ingredients from their garden and blend them fresh when you order it.  It was amazing.\n",
       "\n",
       "While EVERYTHING on the menu looks excellent, I had the white truffle scrambled eggs vegetable skillet and it was tasty and delicious.  It came with 2 pieces of their griddled bread with was amazing and it absolutely made the meal complete.  It was the best \"toast\" I've ever had.\n",
       "\n",
       "Anyway, I can't wait to go back!                                                                             </td><td>review</td><td>rLtl8ZkDX5vH5nAx9C3q5Q</td><td style=\"text-align: right;\">     2</td><td style=\"text-align: right;\">       5</td><td style=\"text-align: right;\">      0</td><td style=\"text-align: right;\">               1</td></tr>\n",
       "<tr><td style=\"text-align: right;\">   2</td><td>ZRJwVLyzEJq1VAihDhYiow</td><td>2011-07-27 00:00:00</td><td>IjZ33sJrzXqU-0X6U8NwyA</td><td style=\"text-align: right;\">      5</td><td>I have no idea why some people give bad reviews about this place. It goes to show you, you can please everyone. They are probably griping about something that their own fault...there are many people like that.\n",
       "\n",
       "In any case, my friend and I arrived at about 5:50 PM this past Sunday. It was pretty crowded, more than I thought for a Sunday evening and thought we would have to wait forever to get a seat but they said we'll be seated when the girl comes back from seating someone else. We were seated at 5:52 and the waiter came and got our drink orders. Everyone was very pleasant from the host that seated us to the waiter to the server. The prices were very good as well. We placed our orders once we decided what we wanted at 6:02. We shared the baked spaghetti calzone and the small \"Here's The Beef\" pizza so we can both try them. The calzone was huge and we got the smallest one (personal) and got the small 11\" pizza. Both were awesome! My friend liked the pizza better and I liked the calzone better. The calzone does have a sweetish sauce but that's how I like my sauce!\n",
       "\n",
       "We had to box part of the pizza to take it home and we were out the door by 6:42. So, everything was great and not like these bad reviewers. That goes to show you that  you have to try these things yourself because all these bad reviewers have some serious issues.                                                                             </td><td>review</td><td>0a2KyEL0d3Yb1V6aivbIuQ</td><td style=\"text-align: right;\">     0</td><td style=\"text-align: right;\">       0</td><td style=\"text-align: right;\">      0</td><td style=\"text-align: right;\">               1</td></tr>\n",
       "<tr><td style=\"text-align: right;\">   3</td><td>6oRAC4uyJCsJl1X0WZpVSA</td><td>2012-06-14 00:00:00</td><td>IESLBzqUCLdSzSqm0eCSxQ</td><td style=\"text-align: right;\">      4</td><td>love the gyro plate. Rice is so good and I also dig their candy selection :)</td><td>review</td><td>0hT2KtfLiobPvh6cDC8JQg</td><td style=\"text-align: right;\">     0</td><td style=\"text-align: right;\">       1</td><td style=\"text-align: right;\">      0</td><td style=\"text-align: right;\">               1</td></tr>\n",
       "</tbody>\n",
       "</table>"
      ]
     },
     "metadata": {},
     "output_type": "display_data"
    },
    {
     "data": {
      "text/plain": []
     },
     "execution_count": 10,
     "metadata": {},
     "output_type": "execute_result"
    }
   ],
   "source": [
    "reviews = cols_df.cbind(reviews)\n",
    "reviews.head(3)"
   ]
  },
  {
   "cell_type": "code",
   "execution_count": 11,
   "metadata": {},
   "outputs": [],
   "source": [
    "split = reviews[\"Id\"].quantile(prob = [0.8])[1]\n",
    "reviews[\"Train\"] = (reviews[\"Id\"] < split).ifelse(\"Yes\", \"No\")"
   ]
  },
  {
   "cell_type": "code",
   "execution_count": 12,
   "metadata": {},
   "outputs": [
    {
     "data": {
      "text/html": [
       "<table>\n",
       "<thead>\n",
       "<tr><th>Train  </th><th style=\"text-align: right;\">  Count</th></tr>\n",
       "</thead>\n",
       "<tbody>\n",
       "<tr><td>No     </td><td style=\"text-align: right;\">   2018</td></tr>\n",
       "<tr><td>Yes    </td><td style=\"text-align: right;\">   8068</td></tr>\n",
       "</tbody>\n",
       "</table>"
      ]
     },
     "metadata": {},
     "output_type": "display_data"
    },
    {
     "data": {
      "text/plain": []
     },
     "execution_count": 12,
     "metadata": {},
     "output_type": "execute_result"
    }
   ],
   "source": [
    "reviews['Train'].table()"
   ]
  },
  {
   "cell_type": "code",
   "execution_count": 13,
   "metadata": {},
   "outputs": [],
   "source": [
    "train = reviews[reviews[\"Train\"] == \"Yes\"]\n",
    "test = reviews[reviews[\"Train\"] == \"No\"]"
   ]
  },
  {
   "cell_type": "code",
   "execution_count": 14,
   "metadata": {},
   "outputs": [
    {
     "data": {
      "text/html": [
       "<table>\n",
       "<thead>\n",
       "<tr><th style=\"text-align: right;\">  Id</th><th>business_id           </th><th>date               </th><th>review_id             </th><th style=\"text-align: right;\">  stars</th><th>text                                                                                                                                                                                                                                                                                                                                                         </th><th>type  </th><th>user_id               </th><th style=\"text-align: right;\">  cool</th><th style=\"text-align: right;\">  useful</th><th style=\"text-align: right;\">  funny</th><th style=\"text-align: right;\">  PositiveReview</th><th>Train  </th></tr>\n",
       "</thead>\n",
       "<tbody>\n",
       "<tr><td style=\"text-align: right;\">   1</td><td>9yKzy9PApeiPPOUJEtnvkg</td><td>2011-01-26 00:00:00</td><td>fWKvX83p0-ka4JS3dc6E5A</td><td style=\"text-align: right;\">      5</td><td>My wife took me here on my birthday for breakfast and it was excellent.  The weather was perfect which made sitting outside overlooking their grounds an absolute pleasure.  Our waitress was excellent and our food arrived quickly on the semi-busy Saturday morning.  It looked like the place fills up pretty quickly so the earlier you get here the better.\n",
       "\n",
       "Do yourself a favor and get their Bloody Mary.  It was phenomenal and simply the best I've ever had.  I'm pretty sure they only use ingredients from their garden and blend them fresh when you order it.  It was amazing.\n",
       "\n",
       "While EVERYTHING on the menu looks excellent, I had the white truffle scrambled eggs vegetable skillet and it was tasty and delicious.  It came with 2 pieces of their griddled bread with was amazing and it absolutely made the meal complete.  It was the best \"toast\" I've ever had.\n",
       "\n",
       "Anyway, I can't wait to go back!                                                                                                                                                                                                                                                                                                                                                              </td><td>review</td><td>rLtl8ZkDX5vH5nAx9C3q5Q</td><td style=\"text-align: right;\">     2</td><td style=\"text-align: right;\">       5</td><td style=\"text-align: right;\">      0</td><td style=\"text-align: right;\">               1</td><td>Yes    </td></tr>\n",
       "<tr><td style=\"text-align: right;\">   2</td><td>ZRJwVLyzEJq1VAihDhYiow</td><td>2011-07-27 00:00:00</td><td>IjZ33sJrzXqU-0X6U8NwyA</td><td style=\"text-align: right;\">      5</td><td>I have no idea why some people give bad reviews about this place. It goes to show you, you can please everyone. They are probably griping about something that their own fault...there are many people like that.\n",
       "\n",
       "In any case, my friend and I arrived at about 5:50 PM this past Sunday. It was pretty crowded, more than I thought for a Sunday evening and thought we would have to wait forever to get a seat but they said we'll be seated when the girl comes back from seating someone else. We were seated at 5:52 and the waiter came and got our drink orders. Everyone was very pleasant from the host that seated us to the waiter to the server. The prices were very good as well. We placed our orders once we decided what we wanted at 6:02. We shared the baked spaghetti calzone and the small \"Here's The Beef\" pizza so we can both try them. The calzone was huge and we got the smallest one (personal) and got the small 11\" pizza. Both were awesome! My friend liked the pizza better and I liked the calzone better. The calzone does have a sweetish sauce but that's how I like my sauce!\n",
       "\n",
       "We had to box part of the pizza to take it home and we were out the door by 6:42. So, everything was great and not like these bad reviewers. That goes to show you that  you have to try these things yourself because all these bad reviewers have some serious issues.                                                                                                                                                                                                                                                                                                                                                              </td><td>review</td><td>0a2KyEL0d3Yb1V6aivbIuQ</td><td style=\"text-align: right;\">     0</td><td style=\"text-align: right;\">       0</td><td style=\"text-align: right;\">      0</td><td style=\"text-align: right;\">               1</td><td>Yes    </td></tr>\n",
       "<tr><td style=\"text-align: right;\">   3</td><td>6oRAC4uyJCsJl1X0WZpVSA</td><td>2012-06-14 00:00:00</td><td>IESLBzqUCLdSzSqm0eCSxQ</td><td style=\"text-align: right;\">      4</td><td>love the gyro plate. Rice is so good and I also dig their candy selection :)                                                                                                                                                                                                                                                                                 </td><td>review</td><td>0hT2KtfLiobPvh6cDC8JQg</td><td style=\"text-align: right;\">     0</td><td style=\"text-align: right;\">       1</td><td style=\"text-align: right;\">      0</td><td style=\"text-align: right;\">               1</td><td>Yes    </td></tr>\n",
       "<tr><td style=\"text-align: right;\">   4</td><td>_1QQZuf4zZOyFCvXc0o6Vg</td><td>2010-05-27 00:00:00</td><td>G-WvGaISbqqaMHlNnByodA</td><td style=\"text-align: right;\">      5</td><td>Rosie, Dakota, and I LOVE Chaparral Dog Park!!! It's very convenient and surrounded by a lot of paths, a desert xeriscape, baseball fields, ballparks, and a lake with ducks.\n",
       "\n",
       "The Scottsdale Park and Rec Dept. does a wonderful job of keeping the park clean and shaded.  You can find trash cans and poopy-pick up mitts located all over the park and paths.\n",
       "\n",
       "The fenced in area is huge to let the dogs run, play, and sniff!                                                                                                                                                                                                                                                                                                                                                              </td><td>review</td><td>uZetl9T0NcROGOyFfughhg</td><td style=\"text-align: right;\">     1</td><td style=\"text-align: right;\">       2</td><td style=\"text-align: right;\">      0</td><td style=\"text-align: right;\">               1</td><td>Yes    </td></tr>\n",
       "<tr><td style=\"text-align: right;\">   5</td><td>6ozycU1RpktNG2-1BroVtw</td><td>2012-01-05 00:00:00</td><td>1uJFq2r5QfJG_6ExMRCaGw</td><td style=\"text-align: right;\">      5</td><td>General Manager Scott Petello is a good egg!!! Not to go into detail, but let me assure you if you have any issues (albeit rare) speak with Scott and treat the guy with some respect as you state your case and I'd be surprised if you don't walk out totally satisfied as I just did. Like I always say..... \"Mistakes are inevitable, it's how we recover from them that is important\"!!!\n",
       "\n",
       "Thanks to Scott and his awesome staff. You've got a customer for life!! .......... :^)                                                                                                                                                                                                                                                                                                                                                              </td><td>review</td><td>vYmM4KTsC8ZfQBg-j5MWkw</td><td style=\"text-align: right;\">     0</td><td style=\"text-align: right;\">       0</td><td style=\"text-align: right;\">      0</td><td style=\"text-align: right;\">               1</td><td>Yes    </td></tr>\n",
       "<tr><td style=\"text-align: right;\">   6</td><td>-yxfBYGB6SEqszmxJxd97A</td><td>2007-12-13 00:00:00</td><td>m2CKSsepBCoRYWxiRUsxAg</td><td style=\"text-align: right;\">      4</td><td>Quiessence is, simply put, beautiful.  Full windows and earthy wooden walls give a feeling of warmth inside this restaurant perched in the middle of a farm.  The restaurant seemed fairly full even on a Tuesday evening; we had secured reservations just a couple days before.\n",
       "\n",
       "My friend and I had sampled sandwiches at the Farm Kitchen earlier that week, and were impressed enough to want to eat at the restaurant.  The crisp, fresh veggies didn't disappoint: we ordered the salad with orange and grapefruit slices and the crudites to start.  Both were very good; I didn't even know how much I liked raw radishes and turnips until I tried them with their pesto and aioli sauces.\n",
       "\n",
       "For entrees, I ordered the lamb and my friend ordered the pork shoulder.  Service started out very good, but trailed off quickly.  Waiting for our food took a very long time (a couple seated after us received and finished their entrees before we received our's), and no one bothered to explain the situation until the maitre'd apologized almost 45 minutes later.  Apparently the chef was unhappy with the sauce on my entree, so he started anew.  This isn't really a problem, but they should have communicated this to us earlier.  For our troubles, they comped me the glass of wine I ordered, but they forgot to bring out with my entree  as I had requested.  Also, they didn't offer us bread, but I will echo the lady who whispered this to us on her way out: ask for the bread.  We received warm foccacia, apple walnut, and pomegranate slices of wonder with honey and butter.  YUM.\n",
       "\n",
       "The entrees were both solid, but didn't quite live up to the innovation and freshness of the vegetables.  My lamb's sauce was delicious, but the meat was tough.  Maybe the vegetarian entrees are the way to go?  But our dessert, the gingerbread pear cake, was yet another winner.\n",
       "\n",
       "If the entrees were tad more inspired, or the service weren't so spotty, this place definitely would have warranted five stars.  If I return, I'd like to try the 75$ tasting menu.  Our bill came out to about 100$ for two people, including tip, no drinks.                                                                                                                                                                                                                                                                                                                                                              </td><td>review</td><td>sqYN3lNgvPbPCTRsMFu27g</td><td style=\"text-align: right;\">     4</td><td style=\"text-align: right;\">       3</td><td style=\"text-align: right;\">      1</td><td style=\"text-align: right;\">               1</td><td>Yes    </td></tr>\n",
       "<tr><td style=\"text-align: right;\">   7</td><td>zp713qNhx8d9KCJJnrw1xA</td><td>2010-02-12 00:00:00</td><td>riFQ3vxNpP4rWLk_CSri2A</td><td style=\"text-align: right;\">      5</td><td>Drop what you're doing and drive here. After I ate here I had to go back the next day for more.  The food is that good.\n",
       "\n",
       "This cute little green building may have gone competely unoticed if I hadn't been driving down Palm Rd to avoid construction.  While waiting to turn onto 16th Street the \"Grand Opening\" sign caught my eye and my little yelping soul leaped for joy!  A new place to try!\n",
       "\n",
       "It looked desolate from the outside but when I opened the door I was put at easy by the decor, smell and cleanliness inside.  I ordered dinner for two, to go.  The menu was awesome.  I loved seeing all the variety: poblano peppers, mole, mahi mahi, mushrooms...something wrapped in banana leaves.  It made it difficult to choose something.  Here's what I've had so far: La Condesa Shrimp Burro and Baja Sur Dogfish Shark Taco.  They are both were very delicious meals but the shrimp burro stole the show.  So much flavor.  I snagged some bites from my hubbys mole and mahi mahi burros- mmmm such a delight.  The salsa bar is endless.  I really stocked up.  I was excited to try the strawberry salsa but it was too hot, in fact it all was, but I'm a big wimp when it comes to hot peppers. The horchata is handmade and delicious.  They throw pecans and some fruit in there too which is a yummy bonus!\n",
       "\n",
       "As if the good food wasn't enough to win me over the art in this restaurant sho did!  I'm a sucker for Mexican folk art and Frida Kahlo is my Oprah.  There's a painting of her and Diego hanging over the salsa bar, it's amazing.  All the paintings are great, love the artist.                                                                                                                                                                                                                                                                                                                                                              </td><td>review</td><td>wFweIWhv2fREZV_dYkz_1g</td><td style=\"text-align: right;\">     7</td><td style=\"text-align: right;\">       7</td><td style=\"text-align: right;\">      4</td><td style=\"text-align: right;\">               1</td><td>Yes    </td></tr>\n",
       "<tr><td style=\"text-align: right;\">   8</td><td>hW0Ne_HTHEAgGF1rAdmR-g</td><td>2012-07-12 00:00:00</td><td>JL7GXJ9u4YMx7Rzs05NfiQ</td><td style=\"text-align: right;\">      4</td><td>Luckily, I didn't have to travel far to make my connecting flight. And for this, I thank you, Phoenix.\n",
       "\n",
       "My brief layover was pleasant as the employees were kind and the flight was on time.  Hopefully, next time I can grace Phoenix with my presence for a little while longer.                                                                                                                                                                                                                                                                                                                                                              </td><td>review</td><td>1ieuYcKS7zeAv_U15AB13A</td><td style=\"text-align: right;\">     0</td><td style=\"text-align: right;\">       1</td><td style=\"text-align: right;\">      0</td><td style=\"text-align: right;\">               1</td><td>Yes    </td></tr>\n",
       "<tr><td style=\"text-align: right;\">   9</td><td>wNUea3IXZWD63bbOQaOH-g</td><td>2012-08-17 00:00:00</td><td>XtnfnYmnJYi71yIuGsXIUA</td><td style=\"text-align: right;\">      4</td><td>Definitely come for Happy hour! Prices are amazing, sake bombers for $3...Great atmosphere and wait staff was incredibly nice and right on to all of our needs, didn't have to ask for a thing They were always spot on...Place gets crowded in the evening especially if you plan on sitting outside. I only wish there were one in Apollo Beach or Brandon!</td><td>review</td><td>Vh_DlizgGhSqQh4qfZ2h6A</td><td style=\"text-align: right;\">     0</td><td style=\"text-align: right;\">       0</td><td style=\"text-align: right;\">      0</td><td style=\"text-align: right;\">               1</td><td>Yes    </td></tr>\n",
       "<tr><td style=\"text-align: right;\">  10</td><td>nMHhuYan8e3cONo3PornJA</td><td>2010-08-11 00:00:00</td><td>jJAIXA46pU1swYyRCdfXtQ</td><td style=\"text-align: right;\">      5</td><td>Nobuo shows his unique talents with everything on the menu. Carefully crafted features with much to drink. Start with the pork belly buns and a stout. Then go on until you can no longer.                                                                                                                                                                   </td><td>review</td><td>sUNkXg8-KFtCMQDV6zRzQg</td><td style=\"text-align: right;\">     0</td><td style=\"text-align: right;\">       1</td><td style=\"text-align: right;\">      0</td><td style=\"text-align: right;\">               1</td><td>Yes    </td></tr>\n",
       "</tbody>\n",
       "</table>"
      ]
     },
     "metadata": {},
     "output_type": "display_data"
    },
    {
     "data": {
      "text/plain": []
     },
     "execution_count": 14,
     "metadata": {},
     "output_type": "execute_result"
    }
   ],
   "source": [
    "train.head()"
   ]
  },
  {
   "cell_type": "markdown",
   "metadata": {},
   "source": [
    "## 1.3 Tokenize Words in Review"
   ]
  },
  {
   "cell_type": "code",
   "execution_count": 15,
   "metadata": {},
   "outputs": [],
   "source": [
    "data_path = \"../data/stopwords.csv\"\n",
    "STOP_WORDS = pd.read_csv(data_path, header=0)"
   ]
  },
  {
   "cell_type": "code",
   "execution_count": 16,
   "metadata": {},
   "outputs": [
    {
     "data": {
      "text/html": [
       "<div>\n",
       "<style scoped>\n",
       "    .dataframe tbody tr th:only-of-type {\n",
       "        vertical-align: middle;\n",
       "    }\n",
       "\n",
       "    .dataframe tbody tr th {\n",
       "        vertical-align: top;\n",
       "    }\n",
       "\n",
       "    .dataframe thead th {\n",
       "        text-align: right;\n",
       "    }\n",
       "</style>\n",
       "<table border=\"1\" class=\"dataframe\">\n",
       "  <thead>\n",
       "    <tr style=\"text-align: right;\">\n",
       "      <th></th>\n",
       "      <th>STOP_WORD</th>\n",
       "    </tr>\n",
       "  </thead>\n",
       "  <tbody>\n",
       "    <tr>\n",
       "      <th>0</th>\n",
       "      <td>all</td>\n",
       "    </tr>\n",
       "    <tr>\n",
       "      <th>1</th>\n",
       "      <td>just</td>\n",
       "    </tr>\n",
       "    <tr>\n",
       "      <th>2</th>\n",
       "      <td>being</td>\n",
       "    </tr>\n",
       "    <tr>\n",
       "      <th>3</th>\n",
       "      <td>over</td>\n",
       "    </tr>\n",
       "    <tr>\n",
       "      <th>4</th>\n",
       "      <td>both</td>\n",
       "    </tr>\n",
       "  </tbody>\n",
       "</table>\n",
       "</div>"
      ],
      "text/plain": [
       "  STOP_WORD\n",
       "0       all\n",
       "1      just\n",
       "2     being\n",
       "3      over\n",
       "4      both"
      ]
     },
     "execution_count": 16,
     "metadata": {},
     "output_type": "execute_result"
    }
   ],
   "source": [
    "STOP_WORDS.head()"
   ]
  },
  {
   "cell_type": "code",
   "execution_count": 17,
   "metadata": {},
   "outputs": [],
   "source": [
    "STOP_WORDS = list(STOP_WORDS['STOP_WORD'])"
   ]
  },
  {
   "cell_type": "code",
   "execution_count": 18,
   "metadata": {},
   "outputs": [],
   "source": [
    "def tokenize(sentences, stop_word = STOP_WORDS):\n",
    "    tokenized = sentences.tokenize(\"\\\\W+\")\n",
    "    tokenized_lower = tokenized.tolower()\n",
    "    tokenized_filtered = tokenized_lower[(tokenized_lower.nchar() >= 2) | (tokenized_lower.isna()),:]\n",
    "    tokenized_words = tokenized_filtered[tokenized_filtered.grep(\"[0-9]\",invert=True,output_logical=True),:]\n",
    "    tokenized_words = tokenized_words[(tokenized_words.isna()) | (~ tokenized_words.isin(STOP_WORDS)),:]\n",
    "    return tokenized_words"
   ]
  },
  {
   "cell_type": "code",
   "execution_count": 19,
   "metadata": {},
   "outputs": [],
   "source": [
    "# Break reviews into sequence of words\n",
    "words = tokenize(reviews[\"text\"])"
   ]
  },
  {
   "cell_type": "code",
   "execution_count": 20,
   "metadata": {},
   "outputs": [
    {
     "data": {
      "text/html": [
       "<table>\n",
       "<thead>\n",
       "<tr><th>C1       </th></tr>\n",
       "</thead>\n",
       "<tbody>\n",
       "<tr><td>wife     </td></tr>\n",
       "<tr><td>took     </td></tr>\n",
       "<tr><td>birthday </td></tr>\n",
       "<tr><td>breakfast</td></tr>\n",
       "<tr><td>excellent</td></tr>\n",
       "<tr><td>weather  </td></tr>\n",
       "<tr><td>perfect  </td></tr>\n",
       "<tr><td>made     </td></tr>\n",
       "<tr><td>sitting  </td></tr>\n",
       "<tr><td>outside  </td></tr>\n",
       "</tbody>\n",
       "</table>"
      ]
     },
     "metadata": {},
     "output_type": "display_data"
    },
    {
     "data": {
      "text/plain": []
     },
     "execution_count": 20,
     "metadata": {},
     "output_type": "execute_result"
    }
   ],
   "source": [
    "words.head()"
   ]
  },
  {
   "cell_type": "markdown",
   "metadata": {},
   "source": [
    "## 1.4 Word2Vec Model"
   ]
  },
  {
   "cell_type": "code",
   "execution_count": 21,
   "metadata": {},
   "outputs": [
    {
     "name": "stdout",
     "output_type": "stream",
     "text": [
      "word2vec Model Build progress: |██████████████████████████████████████████| 100%\n"
     ]
    },
    {
     "data": {
      "text/plain": [
       "'/Users/mandy/Desktop/AI-Addin/data/w2v.hex'"
      ]
     },
     "execution_count": 21,
     "metadata": {},
     "output_type": "execute_result"
    }
   ],
   "source": [
    "# Train Word2Vec Model\n",
    "from h2o.estimators.word2vec import H2OWord2vecEstimator\n",
    "\n",
    "w2v_model = H2OWord2vecEstimator(vec_size = 100, model_id = \"w2v.hex\")\n",
    "w2v_model.train(training_frame=words)\n",
    "\n",
    "models_path='../data'\n",
    "h2o.save_model(w2v_model, path = models_path, force = True)"
   ]
  },
  {
   "cell_type": "code",
   "execution_count": 22,
   "metadata": {},
   "outputs": [
    {
     "data": {
      "text/plain": [
       "OrderedDict([('amazing', 0.7305544018745422),\n",
       "             ('great', 0.7073903679847717),\n",
       "             ('fantastic', 0.6555815935134888),\n",
       "             ('good', 0.5999718308448792),\n",
       "             ('love', 0.5915692448616028)])"
      ]
     },
     "execution_count": 22,
     "metadata": {},
     "output_type": "execute_result"
    }
   ],
   "source": [
    "# Sanity check - find synonyms for the word 'coffee'\n",
    "w2v_model.find_synonyms(\"awesome\", count = 5)"
   ]
  },
  {
   "cell_type": "code",
   "execution_count": 23,
   "metadata": {},
   "outputs": [
    {
     "data": {
      "text/plain": [
       "OrderedDict([('lacking', 0.6481058597564697),\n",
       "             ('strangely', 0.6266922950744629),\n",
       "             ('rotting', 0.5957953333854675),\n",
       "             ('fresher', 0.5897741317749023),\n",
       "             ('crumbly', 0.5868799090385437)])"
      ]
     },
     "execution_count": 23,
     "metadata": {},
     "output_type": "execute_result"
    }
   ],
   "source": [
    "# Sanity check - find synonyms for the word 'stale'\n",
    "w2v_model.find_synonyms(\"boring\", count = 5)"
   ]
  },
  {
   "cell_type": "code",
   "execution_count": 24,
   "metadata": {},
   "outputs": [
    {
     "data": {
      "text/html": [
       "<table>\n",
       "<thead>\n",
       "<tr><th style=\"text-align: right;\">         C1</th><th style=\"text-align: right;\">          C2</th><th style=\"text-align: right;\">        C3</th><th style=\"text-align: right;\">        C4</th><th style=\"text-align: right;\">        C5</th><th style=\"text-align: right;\">        C6</th><th style=\"text-align: right;\">        C7</th><th style=\"text-align: right;\">       C8</th><th style=\"text-align: right;\">        C9</th><th style=\"text-align: right;\">      C10</th><th style=\"text-align: right;\">       C11</th><th style=\"text-align: right;\">      C12</th><th style=\"text-align: right;\">       C13</th><th style=\"text-align: right;\">        C14</th><th style=\"text-align: right;\">        C15</th><th style=\"text-align: right;\">        C16</th><th style=\"text-align: right;\">        C17</th><th style=\"text-align: right;\">       C18</th><th style=\"text-align: right;\">        C19</th><th style=\"text-align: right;\">        C20</th><th style=\"text-align: right;\">      C21</th><th style=\"text-align: right;\">        C22</th><th style=\"text-align: right;\">         C23</th><th style=\"text-align: right;\">       C24</th><th style=\"text-align: right;\">        C25</th><th style=\"text-align: right;\">       C26</th><th style=\"text-align: right;\">       C27</th><th style=\"text-align: right;\">       C28</th><th style=\"text-align: right;\">       C29</th><th style=\"text-align: right;\">      C30</th><th style=\"text-align: right;\">        C31</th><th style=\"text-align: right;\">       C32</th><th style=\"text-align: right;\">       C33</th><th style=\"text-align: right;\">      C34</th><th style=\"text-align: right;\">       C35</th><th style=\"text-align: right;\">         C36</th><th style=\"text-align: right;\">       C37</th><th style=\"text-align: right;\">       C38</th><th style=\"text-align: right;\">       C39</th><th style=\"text-align: right;\">        C40</th><th style=\"text-align: right;\">       C41</th><th style=\"text-align: right;\">       C42</th><th style=\"text-align: right;\">      C43</th><th style=\"text-align: right;\">       C44</th><th style=\"text-align: right;\">        C45</th><th style=\"text-align: right;\">        C46</th><th style=\"text-align: right;\">        C47</th><th style=\"text-align: right;\">        C48</th><th style=\"text-align: right;\">        C49</th><th style=\"text-align: right;\">       C50</th><th style=\"text-align: right;\">        C51</th><th style=\"text-align: right;\">        C52</th><th style=\"text-align: right;\">       C53</th><th style=\"text-align: right;\">         C54</th><th style=\"text-align: right;\">        C55</th><th style=\"text-align: right;\">        C56</th><th style=\"text-align: right;\">       C57</th><th style=\"text-align: right;\">        C58</th><th style=\"text-align: right;\">        C59</th><th style=\"text-align: right;\">        C60</th><th style=\"text-align: right;\">        C61</th><th style=\"text-align: right;\">        C62</th><th style=\"text-align: right;\">        C63</th><th style=\"text-align: right;\">        C64</th><th style=\"text-align: right;\">      C65</th><th style=\"text-align: right;\">        C66</th><th style=\"text-align: right;\">       C67</th><th style=\"text-align: right;\">        C68</th><th style=\"text-align: right;\">        C69</th><th style=\"text-align: right;\">       C70</th><th style=\"text-align: right;\">         C71</th><th style=\"text-align: right;\">       C72</th><th style=\"text-align: right;\">        C73</th><th style=\"text-align: right;\">       C74</th><th style=\"text-align: right;\">        C75</th><th style=\"text-align: right;\">        C76</th><th style=\"text-align: right;\">       C77</th><th style=\"text-align: right;\">        C78</th><th style=\"text-align: right;\">        C79</th><th style=\"text-align: right;\">        C80</th><th style=\"text-align: right;\">       C81</th><th style=\"text-align: right;\">        C82</th><th style=\"text-align: right;\">       C83</th><th style=\"text-align: right;\">        C84</th><th style=\"text-align: right;\">      C85</th><th style=\"text-align: right;\">        C86</th><th style=\"text-align: right;\">        C87</th><th style=\"text-align: right;\">        C88</th><th style=\"text-align: right;\">         C89</th><th style=\"text-align: right;\">       C90</th><th style=\"text-align: right;\">       C91</th><th style=\"text-align: right;\">       C92</th><th style=\"text-align: right;\">        C93</th><th style=\"text-align: right;\">       C94</th><th style=\"text-align: right;\">      C95</th><th style=\"text-align: right;\">        C96</th><th style=\"text-align: right;\">        C97</th><th style=\"text-align: right;\">       C98</th><th style=\"text-align: right;\">      C99</th><th style=\"text-align: right;\">       C100</th></tr>\n",
       "</thead>\n",
       "<tbody>\n",
       "<tr><td style=\"text-align: right;\"> 0.0431898 </td><td style=\"text-align: right;\"> 0.00819708 </td><td style=\"text-align: right;\">-0.127153 </td><td style=\"text-align: right;\">-0.112452 </td><td style=\"text-align: right;\">-0.0631461</td><td style=\"text-align: right;\">-0.0435626</td><td style=\"text-align: right;\"> 0.0502669</td><td style=\"text-align: right;\">0.0482737</td><td style=\"text-align: right;\"> 0.0725893</td><td style=\"text-align: right;\">0.138895 </td><td style=\"text-align: right;\">-0.218187 </td><td style=\"text-align: right;\">0.0838325</td><td style=\"text-align: right;\"> 0.0552184</td><td style=\"text-align: right;\">-0.0183307 </td><td style=\"text-align: right;\"> 0.110987  </td><td style=\"text-align: right;\">-0.00389015</td><td style=\"text-align: right;\"> 0.0968412 </td><td style=\"text-align: right;\"> 0.0855157</td><td style=\"text-align: right;\"> 0.00709401</td><td style=\"text-align: right;\">-0.155693  </td><td style=\"text-align: right;\">0.134107 </td><td style=\"text-align: right;\"> 0.0456063 </td><td style=\"text-align: right;\">-0.0596474  </td><td style=\"text-align: right;\"> 0.0763334</td><td style=\"text-align: right;\">-0.0981727 </td><td style=\"text-align: right;\">-0.114887 </td><td style=\"text-align: right;\">-0.0921806</td><td style=\"text-align: right;\">-0.0736998</td><td style=\"text-align: right;\">0.0983805 </td><td style=\"text-align: right;\">0.153152 </td><td style=\"text-align: right;\">-0.0353571 </td><td style=\"text-align: right;\">-0.0620659</td><td style=\"text-align: right;\">-0.134173 </td><td style=\"text-align: right;\">0.123079 </td><td style=\"text-align: right;\"> 0.0573049</td><td style=\"text-align: right;\">-0.0506106  </td><td style=\"text-align: right;\"> 0.0233568</td><td style=\"text-align: right;\">0.104748  </td><td style=\"text-align: right;\"> 0.0746219</td><td style=\"text-align: right;\"> 0.0159259 </td><td style=\"text-align: right;\">-0.0835604</td><td style=\"text-align: right;\">-0.056167 </td><td style=\"text-align: right;\">0.0599406</td><td style=\"text-align: right;\">-0.188318 </td><td style=\"text-align: right;\"> 0.0238897 </td><td style=\"text-align: right;\"> 0.0227452 </td><td style=\"text-align: right;\">-0.0190722 </td><td style=\"text-align: right;\"> 0.0246319 </td><td style=\"text-align: right;\"> 0.00369343</td><td style=\"text-align: right;\">-0.128639 </td><td style=\"text-align: right;\">-0.0416925 </td><td style=\"text-align: right;\"> 0.0659668 </td><td style=\"text-align: right;\">-0.0140636</td><td style=\"text-align: right;\"> 0.0184442  </td><td style=\"text-align: right;\">-0.00780141</td><td style=\"text-align: right;\">-0.0249494 </td><td style=\"text-align: right;\">-0.121143 </td><td style=\"text-align: right;\">-0.117083  </td><td style=\"text-align: right;\"> 0.0023749 </td><td style=\"text-align: right;\">-0.0267237 </td><td style=\"text-align: right;\"> 0.00822276</td><td style=\"text-align: right;\"> 0.0245645 </td><td style=\"text-align: right;\">-0.0415329 </td><td style=\"text-align: right;\">-0.0995334 </td><td style=\"text-align: right;\">-0.254758</td><td style=\"text-align: right;\"> 0.0433231 </td><td style=\"text-align: right;\">-0.130343 </td><td style=\"text-align: right;\">-0.0500048 </td><td style=\"text-align: right;\"> 0.040597  </td><td style=\"text-align: right;\"> 0.0915819</td><td style=\"text-align: right;\"> 0.033776   </td><td style=\"text-align: right;\">-0.127447 </td><td style=\"text-align: right;\"> 0.0660022 </td><td style=\"text-align: right;\">-0.0230274</td><td style=\"text-align: right;\"> 0.0294671 </td><td style=\"text-align: right;\">-0.0220785 </td><td style=\"text-align: right;\">0.0508434 </td><td style=\"text-align: right;\"> 0.0873425 </td><td style=\"text-align: right;\">-0.0878835 </td><td style=\"text-align: right;\">-0.00135121</td><td style=\"text-align: right;\">-0.0737352</td><td style=\"text-align: right;\">-0.0262945 </td><td style=\"text-align: right;\">-0.122483 </td><td style=\"text-align: right;\">-0.0194011 </td><td style=\"text-align: right;\">0.0418162</td><td style=\"text-align: right;\">-0.0632937 </td><td style=\"text-align: right;\">-0.0974902 </td><td style=\"text-align: right;\">-0.0161878 </td><td style=\"text-align: right;\"> 0.0572028  </td><td style=\"text-align: right;\">-0.10692  </td><td style=\"text-align: right;\">-0.11871  </td><td style=\"text-align: right;\">-0.0496035</td><td style=\"text-align: right;\"> 0.105676  </td><td style=\"text-align: right;\">-0.077311 </td><td style=\"text-align: right;\">0.0983732</td><td style=\"text-align: right;\"> 0.0349728 </td><td style=\"text-align: right;\">-0.00113467</td><td style=\"text-align: right;\">-0.0224675</td><td style=\"text-align: right;\">0.17549  </td><td style=\"text-align: right;\">-0.00091791</td></tr>\n",
       "<tr><td style=\"text-align: right;\"> 0.00017889</td><td style=\"text-align: right;\">-0.00720336 </td><td style=\"text-align: right;\">-0.120389 </td><td style=\"text-align: right;\">-0.0925545</td><td style=\"text-align: right;\">-0.0577572</td><td style=\"text-align: right;\"> 0.0244621</td><td style=\"text-align: right;\"> 0.0116285</td><td style=\"text-align: right;\">0.0795576</td><td style=\"text-align: right;\"> 0.0153647</td><td style=\"text-align: right;\">0.0812757</td><td style=\"text-align: right;\">-0.204441 </td><td style=\"text-align: right;\">0.0478633</td><td style=\"text-align: right;\">-0.0123554</td><td style=\"text-align: right;\">-0.0425688 </td><td style=\"text-align: right;\"> 0.0606324 </td><td style=\"text-align: right;\">-0.0384204 </td><td style=\"text-align: right;\">-0.00817711</td><td style=\"text-align: right;\"> 0.0671107</td><td style=\"text-align: right;\"> 0.00808567</td><td style=\"text-align: right;\">-0.156547  </td><td style=\"text-align: right;\">0.100079 </td><td style=\"text-align: right;\"> 0.0853757 </td><td style=\"text-align: right;\">-0.115265   </td><td style=\"text-align: right;\"> 0.041196 </td><td style=\"text-align: right;\">-0.11562   </td><td style=\"text-align: right;\">-0.0917047</td><td style=\"text-align: right;\">-0.0757228</td><td style=\"text-align: right;\">-0.0838364</td><td style=\"text-align: right;\">0.183193  </td><td style=\"text-align: right;\">0.173723 </td><td style=\"text-align: right;\"> 0.00168545</td><td style=\"text-align: right;\">-0.101552 </td><td style=\"text-align: right;\">-0.113226 </td><td style=\"text-align: right;\">0.0257204</td><td style=\"text-align: right;\">-0.0151856</td><td style=\"text-align: right;\">-0.0916757  </td><td style=\"text-align: right;\">-0.0356884</td><td style=\"text-align: right;\">0.0511016 </td><td style=\"text-align: right;\"> 0.127393 </td><td style=\"text-align: right;\">-0.00380766</td><td style=\"text-align: right;\">-0.0669983</td><td style=\"text-align: right;\">-0.0425707</td><td style=\"text-align: right;\">0.0508257</td><td style=\"text-align: right;\">-0.197718 </td><td style=\"text-align: right;\"> 0.00536989</td><td style=\"text-align: right;\"> 0.0617084 </td><td style=\"text-align: right;\"> 0.046265  </td><td style=\"text-align: right;\"> 0.0494187 </td><td style=\"text-align: right;\">-0.0297837 </td><td style=\"text-align: right;\">-0.182351 </td><td style=\"text-align: right;\">-0.0863291 </td><td style=\"text-align: right;\">-0.00952905</td><td style=\"text-align: right;\">-0.0604534</td><td style=\"text-align: right;\"> 0.0227292  </td><td style=\"text-align: right;\"> 0.0484366 </td><td style=\"text-align: right;\"> 0.0184336 </td><td style=\"text-align: right;\">-0.0898357</td><td style=\"text-align: right;\">-0.0172932 </td><td style=\"text-align: right;\">-0.0261528 </td><td style=\"text-align: right;\">-0.0101418 </td><td style=\"text-align: right;\"> 0.0518519 </td><td style=\"text-align: right;\">-0.0442426 </td><td style=\"text-align: right;\">-0.0811379 </td><td style=\"text-align: right;\">-0.0403576 </td><td style=\"text-align: right;\">-0.247911</td><td style=\"text-align: right;\"> 0.0379989 </td><td style=\"text-align: right;\">-0.134306 </td><td style=\"text-align: right;\">-0.0576566 </td><td style=\"text-align: right;\">-0.00829652</td><td style=\"text-align: right;\"> 0.0178307</td><td style=\"text-align: right;\"> 0.000270571</td><td style=\"text-align: right;\">-0.0753186</td><td style=\"text-align: right;\"> 0.0370035 </td><td style=\"text-align: right;\">-0.0824032</td><td style=\"text-align: right;\">-0.0772768 </td><td style=\"text-align: right;\">-0.0890433 </td><td style=\"text-align: right;\">0.135975  </td><td style=\"text-align: right;\">-0.00755732</td><td style=\"text-align: right;\"> 0.0192201 </td><td style=\"text-align: right;\"> 0.0319976 </td><td style=\"text-align: right;\">-0.169339 </td><td style=\"text-align: right;\">-0.012452  </td><td style=\"text-align: right;\">-0.0823149</td><td style=\"text-align: right;\">-0.00834568</td><td style=\"text-align: right;\">0.0610759</td><td style=\"text-align: right;\">-0.00135928</td><td style=\"text-align: right;\">-0.0396396 </td><td style=\"text-align: right;\">-0.0361413 </td><td style=\"text-align: right;\"> 0.0337494  </td><td style=\"text-align: right;\">-0.151135 </td><td style=\"text-align: right;\">-0.0915519</td><td style=\"text-align: right;\">-0.0675402</td><td style=\"text-align: right;\"> 0.0580742 </td><td style=\"text-align: right;\">-0.0934196</td><td style=\"text-align: right;\">0.127513 </td><td style=\"text-align: right;\">-0.00919585</td><td style=\"text-align: right;\"> 0.051046  </td><td style=\"text-align: right;\">-0.029212 </td><td style=\"text-align: right;\">0.149176 </td><td style=\"text-align: right;\">-0.0313857 </td></tr>\n",
       "<tr><td style=\"text-align: right;\"> 0.106799  </td><td style=\"text-align: right;\">-0.0229191  </td><td style=\"text-align: right;\">-0.141101 </td><td style=\"text-align: right;\">-0.14213  </td><td style=\"text-align: right;\"> 0.0116885</td><td style=\"text-align: right;\">-0.168027 </td><td style=\"text-align: right;\"> 0.0414774</td><td style=\"text-align: right;\">0.0247037</td><td style=\"text-align: right;\"> 0.176357 </td><td style=\"text-align: right;\">0.104611 </td><td style=\"text-align: right;\">-0.132004 </td><td style=\"text-align: right;\">0.118546 </td><td style=\"text-align: right;\"> 0.0742827</td><td style=\"text-align: right;\">-0.0280291 </td><td style=\"text-align: right;\"> 0.107955  </td><td style=\"text-align: right;\"> 0.0285146 </td><td style=\"text-align: right;\"> 0.158337  </td><td style=\"text-align: right;\"> 0.117471 </td><td style=\"text-align: right;\"> 0.0672271 </td><td style=\"text-align: right;\">-0.0319159 </td><td style=\"text-align: right;\">0.0707075</td><td style=\"text-align: right;\"> 0.00209604</td><td style=\"text-align: right;\">-0.0865594  </td><td style=\"text-align: right;\"> 0.154967 </td><td style=\"text-align: right;\">-0.0936793 </td><td style=\"text-align: right;\">-0.112215 </td><td style=\"text-align: right;\"> 0.0205206</td><td style=\"text-align: right;\"> 0.0220109</td><td style=\"text-align: right;\">0.0499405 </td><td style=\"text-align: right;\">0.233911 </td><td style=\"text-align: right;\"> 0.0923438 </td><td style=\"text-align: right;\">-0.0354833</td><td style=\"text-align: right;\">-0.0217929</td><td style=\"text-align: right;\">0.030053 </td><td style=\"text-align: right;\">-0.0963186</td><td style=\"text-align: right;\"> 0.0362421  </td><td style=\"text-align: right;\"> 0.0894352</td><td style=\"text-align: right;\">0.0581718 </td><td style=\"text-align: right;\"> 0.15209  </td><td style=\"text-align: right;\">-0.127306  </td><td style=\"text-align: right;\">-0.0423213</td><td style=\"text-align: right;\">-0.044552 </td><td style=\"text-align: right;\">0.212969 </td><td style=\"text-align: right;\">-0.254531 </td><td style=\"text-align: right;\"> 0.135731  </td><td style=\"text-align: right;\">-0.1482    </td><td style=\"text-align: right;\"> 0.0433305 </td><td style=\"text-align: right;\">-0.0297662 </td><td style=\"text-align: right;\">-0.0545842 </td><td style=\"text-align: right;\">-0.040827 </td><td style=\"text-align: right;\">-0.0663244 </td><td style=\"text-align: right;\">-0.139556  </td><td style=\"text-align: right;\">-0.0624151</td><td style=\"text-align: right;\">-0.0841503  </td><td style=\"text-align: right;\"> 0.106131  </td><td style=\"text-align: right;\"> 0.0428485 </td><td style=\"text-align: right;\">-0.25913  </td><td style=\"text-align: right;\">-0.0216093 </td><td style=\"text-align: right;\">-0.0833018 </td><td style=\"text-align: right;\">-0.124735  </td><td style=\"text-align: right;\">-0.0344872 </td><td style=\"text-align: right;\"> 0.0599681 </td><td style=\"text-align: right;\">-0.0650236 </td><td style=\"text-align: right;\">-0.179834  </td><td style=\"text-align: right;\">-0.251437</td><td style=\"text-align: right;\"> 0.0499608 </td><td style=\"text-align: right;\">-0.0875035</td><td style=\"text-align: right;\">-0.0313834 </td><td style=\"text-align: right;\"> 0.13659   </td><td style=\"text-align: right;\"> 0.06815  </td><td style=\"text-align: right;\">-0.00825899 </td><td style=\"text-align: right;\">-0.176989 </td><td style=\"text-align: right;\">-0.0187387 </td><td style=\"text-align: right;\">-0.0960339</td><td style=\"text-align: right;\">-0.0215186 </td><td style=\"text-align: right;\"> 0.0603519 </td><td style=\"text-align: right;\">0.07431   </td><td style=\"text-align: right;\"> 0.0146937 </td><td style=\"text-align: right;\">-0.00427676</td><td style=\"text-align: right;\"> 0.0468974 </td><td style=\"text-align: right;\"> 0.105265 </td><td style=\"text-align: right;\">-0.0218014 </td><td style=\"text-align: right;\">-0.0186733</td><td style=\"text-align: right;\">-0.0136735 </td><td style=\"text-align: right;\">0.0561323</td><td style=\"text-align: right;\">-0.0631116 </td><td style=\"text-align: right;\">-0.185539  </td><td style=\"text-align: right;\">-0.119507  </td><td style=\"text-align: right;\"> 0.0898278  </td><td style=\"text-align: right;\">-0.210977 </td><td style=\"text-align: right;\">-0.122169 </td><td style=\"text-align: right;\">-0.16925  </td><td style=\"text-align: right;\">-0.157575  </td><td style=\"text-align: right;\">-0.10246  </td><td style=\"text-align: right;\">0.0645169</td><td style=\"text-align: right;\"> 0.0173412 </td><td style=\"text-align: right;\"> 0.159447  </td><td style=\"text-align: right;\"> 0.0624964</td><td style=\"text-align: right;\">0.243851 </td><td style=\"text-align: right;\"> 0.0242383 </td></tr>\n",
       "<tr><td style=\"text-align: right;\"> 0.153659  </td><td style=\"text-align: right;\">-0.00604791 </td><td style=\"text-align: right;\"> 0.0200996</td><td style=\"text-align: right;\">-0.0286708</td><td style=\"text-align: right;\">-0.0836917</td><td style=\"text-align: right;\">-0.0182456</td><td style=\"text-align: right;\"> 0.0845177</td><td style=\"text-align: right;\">0.0222955</td><td style=\"text-align: right;\"> 0.0469392</td><td style=\"text-align: right;\">0.0348905</td><td style=\"text-align: right;\">-0.214994 </td><td style=\"text-align: right;\">0.135255 </td><td style=\"text-align: right;\"> 0.0303053</td><td style=\"text-align: right;\">-0.0598665 </td><td style=\"text-align: right;\"> 0.0107332 </td><td style=\"text-align: right;\">-0.012509  </td><td style=\"text-align: right;\">-0.0447251 </td><td style=\"text-align: right;\"> 0.0403478</td><td style=\"text-align: right;\">-0.0957654 </td><td style=\"text-align: right;\">-0.00865626</td><td style=\"text-align: right;\">0.0513762</td><td style=\"text-align: right;\">-0.0570259 </td><td style=\"text-align: right;\"> 0.0691615  </td><td style=\"text-align: right;\">-0.0112706</td><td style=\"text-align: right;\">-0.179633  </td><td style=\"text-align: right;\"> 0.0168146</td><td style=\"text-align: right;\">-0.0787937</td><td style=\"text-align: right;\">-0.0935882</td><td style=\"text-align: right;\">0.00464708</td><td style=\"text-align: right;\">0.0444036</td><td style=\"text-align: right;\">-0.0377064 </td><td style=\"text-align: right;\">-0.246995 </td><td style=\"text-align: right;\">-0.0958932</td><td style=\"text-align: right;\">0.103099 </td><td style=\"text-align: right;\"> 0.0299523</td><td style=\"text-align: right;\"> 0.0363824  </td><td style=\"text-align: right;\"> 0.188732 </td><td style=\"text-align: right;\">0.0928111 </td><td style=\"text-align: right;\"> 0.0893646</td><td style=\"text-align: right;\">-0.100941  </td><td style=\"text-align: right;\">-0.320099 </td><td style=\"text-align: right;\"> 0.0317776</td><td style=\"text-align: right;\">0.124988 </td><td style=\"text-align: right;\">-0.0412817</td><td style=\"text-align: right;\"> 0.0780821 </td><td style=\"text-align: right;\">-0.0460345 </td><td style=\"text-align: right;\"> 0.202563  </td><td style=\"text-align: right;\"> 0.127195  </td><td style=\"text-align: right;\"> 0.0477958 </td><td style=\"text-align: right;\">-0.0483759</td><td style=\"text-align: right;\">-0.0217838 </td><td style=\"text-align: right;\">-0.0558035 </td><td style=\"text-align: right;\">-0.0669146</td><td style=\"text-align: right;\">-0.0562631  </td><td style=\"text-align: right;\">-0.0292553 </td><td style=\"text-align: right;\">-0.0129474 </td><td style=\"text-align: right;\">-0.0655268</td><td style=\"text-align: right;\"> 0.092     </td><td style=\"text-align: right;\">-0.0148345 </td><td style=\"text-align: right;\"> 0.0660297 </td><td style=\"text-align: right;\"> 0.0732411 </td><td style=\"text-align: right;\">-0.0879539 </td><td style=\"text-align: right;\">-0.00616182</td><td style=\"text-align: right;\"> 0.0932567 </td><td style=\"text-align: right;\">-0.214775</td><td style=\"text-align: right;\">-0.0752992 </td><td style=\"text-align: right;\">-0.193387 </td><td style=\"text-align: right;\"> 0.0683538 </td><td style=\"text-align: right;\"> 0.119401  </td><td style=\"text-align: right;\"> 0.0559232</td><td style=\"text-align: right;\">-0.1294     </td><td style=\"text-align: right;\">-0.0518176</td><td style=\"text-align: right;\"> 0.0593187 </td><td style=\"text-align: right;\"> 0.0534077</td><td style=\"text-align: right;\"> 0.0439109 </td><td style=\"text-align: right;\"> 0.255544  </td><td style=\"text-align: right;\">0.0765034 </td><td style=\"text-align: right;\">-0.0176834 </td><td style=\"text-align: right;\"> 0.163881  </td><td style=\"text-align: right;\"> 0.264435  </td><td style=\"text-align: right;\">-0.18032  </td><td style=\"text-align: right;\">-0.115247  </td><td style=\"text-align: right;\">-0.356234 </td><td style=\"text-align: right;\"> 0.115931  </td><td style=\"text-align: right;\">0.132968 </td><td style=\"text-align: right;\"> 0.0545761 </td><td style=\"text-align: right;\"> 0.072905  </td><td style=\"text-align: right;\">-0.113833  </td><td style=\"text-align: right;\"> 0.000766042</td><td style=\"text-align: right;\">-0.0707364</td><td style=\"text-align: right;\">-0.043943 </td><td style=\"text-align: right;\">-0.127965 </td><td style=\"text-align: right;\"> 0.110885  </td><td style=\"text-align: right;\">-0.0161662</td><td style=\"text-align: right;\">0.165213 </td><td style=\"text-align: right;\"> 0.14139   </td><td style=\"text-align: right;\"> 0.0949766 </td><td style=\"text-align: right;\">-0.0147421</td><td style=\"text-align: right;\">0.109903 </td><td style=\"text-align: right;\"> 0.172783  </td></tr>\n",
       "<tr><td style=\"text-align: right;\"> 0.0435176 </td><td style=\"text-align: right;\">-0.0248628  </td><td style=\"text-align: right;\">-0.0140884</td><td style=\"text-align: right;\">-0.0326283</td><td style=\"text-align: right;\">-0.086763 </td><td style=\"text-align: right;\">-0.0109163</td><td style=\"text-align: right;\">-0.0255281</td><td style=\"text-align: right;\">0.0929702</td><td style=\"text-align: right;\"> 0.0563337</td><td style=\"text-align: right;\">0.0866777</td><td style=\"text-align: right;\">-0.204252 </td><td style=\"text-align: right;\">0.0831913</td><td style=\"text-align: right;\"> 0.0651336</td><td style=\"text-align: right;\">-0.0632223 </td><td style=\"text-align: right;\">-0.00864805</td><td style=\"text-align: right;\"> 0.0718053 </td><td style=\"text-align: right;\"> 0.0251311 </td><td style=\"text-align: right;\">-0.0352469</td><td style=\"text-align: right;\">-0.0395134 </td><td style=\"text-align: right;\">-0.134382  </td><td style=\"text-align: right;\">0.185615 </td><td style=\"text-align: right;\">-0.0459614 </td><td style=\"text-align: right;\">-0.0709866  </td><td style=\"text-align: right;\"> 0.0169352</td><td style=\"text-align: right;\"> 0.00362442</td><td style=\"text-align: right;\">-0.0997584</td><td style=\"text-align: right;\">-0.0902663</td><td style=\"text-align: right;\">-0.069414 </td><td style=\"text-align: right;\">0.0739896 </td><td style=\"text-align: right;\">0.178425 </td><td style=\"text-align: right;\">-0.0549535 </td><td style=\"text-align: right;\">-0.0949266</td><td style=\"text-align: right;\">-0.145465 </td><td style=\"text-align: right;\">0.064288 </td><td style=\"text-align: right;\">-0.0207764</td><td style=\"text-align: right;\">-0.106254   </td><td style=\"text-align: right;\">-0.075908 </td><td style=\"text-align: right;\">0.0470454 </td><td style=\"text-align: right;\">-0.0243961</td><td style=\"text-align: right;\">-0.0236123 </td><td style=\"text-align: right;\">-0.141882 </td><td style=\"text-align: right;\"> 0.0548676</td><td style=\"text-align: right;\">0.13899  </td><td style=\"text-align: right;\">-0.241931 </td><td style=\"text-align: right;\">-0.00180084</td><td style=\"text-align: right;\"> 0.0633232 </td><td style=\"text-align: right;\"> 0.0792298 </td><td style=\"text-align: right;\"> 0.0713503 </td><td style=\"text-align: right;\">-0.035604  </td><td style=\"text-align: right;\">-0.214313 </td><td style=\"text-align: right;\">-0.0610001 </td><td style=\"text-align: right;\">-0.0682836 </td><td style=\"text-align: right;\">-0.129088 </td><td style=\"text-align: right;\">-0.0142409  </td><td style=\"text-align: right;\">-0.0272567 </td><td style=\"text-align: right;\">-0.00819673</td><td style=\"text-align: right;\">-0.0771999</td><td style=\"text-align: right;\"> 0.0202278 </td><td style=\"text-align: right;\"> 0.0895177 </td><td style=\"text-align: right;\"> 0.00390841</td><td style=\"text-align: right;\"> 0.0458169 </td><td style=\"text-align: right;\"> 0.0232934 </td><td style=\"text-align: right;\">-0.118953  </td><td style=\"text-align: right;\"> 0.0375144 </td><td style=\"text-align: right;\">-0.193338</td><td style=\"text-align: right;\">-0.0352043 </td><td style=\"text-align: right;\">-0.171535 </td><td style=\"text-align: right;\">-0.0672823 </td><td style=\"text-align: right;\">-0.0163291 </td><td style=\"text-align: right;\"> 0.0581888</td><td style=\"text-align: right;\"> 0.00737823 </td><td style=\"text-align: right;\">-0.0380702</td><td style=\"text-align: right;\">-0.0481226 </td><td style=\"text-align: right;\">-0.0771083</td><td style=\"text-align: right;\">-0.0430691 </td><td style=\"text-align: right;\"> 0.0125467 </td><td style=\"text-align: right;\">0.0541605 </td><td style=\"text-align: right;\"> 0.130629  </td><td style=\"text-align: right;\"> 0.0969204 </td><td style=\"text-align: right;\"> 0.0302939 </td><td style=\"text-align: right;\">-0.119593 </td><td style=\"text-align: right;\">-0.0438708 </td><td style=\"text-align: right;\">-0.158039 </td><td style=\"text-align: right;\">-0.0352364 </td><td style=\"text-align: right;\">0.0387374</td><td style=\"text-align: right;\">-0.0594597 </td><td style=\"text-align: right;\">-0.0352667 </td><td style=\"text-align: right;\">-0.0317426 </td><td style=\"text-align: right;\">-0.0746972  </td><td style=\"text-align: right;\">-0.0889775</td><td style=\"text-align: right;\">-0.21232  </td><td style=\"text-align: right;\"> 0.033756 </td><td style=\"text-align: right;\">-0.0193868 </td><td style=\"text-align: right;\">-0.0417551</td><td style=\"text-align: right;\">0.0905664</td><td style=\"text-align: right;\">-0.014215  </td><td style=\"text-align: right;\"> 0.0937605 </td><td style=\"text-align: right;\">-0.021981 </td><td style=\"text-align: right;\">0.127238 </td><td style=\"text-align: right;\"> 0.0269455 </td></tr>\n",
       "<tr><td style=\"text-align: right;\">-0.0279746 </td><td style=\"text-align: right;\">-0.0147638  </td><td style=\"text-align: right;\">-0.137354 </td><td style=\"text-align: right;\">-0.0741338</td><td style=\"text-align: right;\">-0.0247556</td><td style=\"text-align: right;\">-0.0117413</td><td style=\"text-align: right;\"> 0.0325051</td><td style=\"text-align: right;\">0.0762949</td><td style=\"text-align: right;\"> 0.0845167</td><td style=\"text-align: right;\">0.0802522</td><td style=\"text-align: right;\">-0.141067 </td><td style=\"text-align: right;\">0.0454162</td><td style=\"text-align: right;\"> 0.0468279</td><td style=\"text-align: right;\"> 0.00884102</td><td style=\"text-align: right;\"> 0.0582149 </td><td style=\"text-align: right;\"> 0.00824616</td><td style=\"text-align: right;\"> 0.0479252 </td><td style=\"text-align: right;\"> 0.0770685</td><td style=\"text-align: right;\">-0.013691  </td><td style=\"text-align: right;\">-0.103302  </td><td style=\"text-align: right;\">0.103445 </td><td style=\"text-align: right;\"> 0.0674007 </td><td style=\"text-align: right;\">-0.0498781  </td><td style=\"text-align: right;\"> 0.066779 </td><td style=\"text-align: right;\">-0.106949  </td><td style=\"text-align: right;\">-0.144861 </td><td style=\"text-align: right;\">-0.0673338</td><td style=\"text-align: right;\">-0.0837065</td><td style=\"text-align: right;\">0.126429  </td><td style=\"text-align: right;\">0.14472  </td><td style=\"text-align: right;\"> 0.0381088 </td><td style=\"text-align: right;\">-0.0638776</td><td style=\"text-align: right;\">-0.156268 </td><td style=\"text-align: right;\">0.05338  </td><td style=\"text-align: right;\"> 0.0477856</td><td style=\"text-align: right;\">-0.0299375  </td><td style=\"text-align: right;\">-0.0272698</td><td style=\"text-align: right;\">0.0439205 </td><td style=\"text-align: right;\"> 0.096125 </td><td style=\"text-align: right;\"> 0.0316074 </td><td style=\"text-align: right;\">-0.0722164</td><td style=\"text-align: right;\">-0.0383022</td><td style=\"text-align: right;\">0.0980798</td><td style=\"text-align: right;\">-0.203869 </td><td style=\"text-align: right;\">-0.0151244 </td><td style=\"text-align: right;\"> 0.0672256 </td><td style=\"text-align: right;\">-0.0113064 </td><td style=\"text-align: right;\"> 0.0164205 </td><td style=\"text-align: right;\">-0.0121091 </td><td style=\"text-align: right;\">-0.163835 </td><td style=\"text-align: right;\">-0.0570492 </td><td style=\"text-align: right;\"> 0.0155834 </td><td style=\"text-align: right;\">-0.0449002</td><td style=\"text-align: right;\"> 0.000182191</td><td style=\"text-align: right;\"> 0.0787958 </td><td style=\"text-align: right;\"> 0.0524323 </td><td style=\"text-align: right;\">-0.130345 </td><td style=\"text-align: right;\">-0.057476  </td><td style=\"text-align: right;\">-0.0318372 </td><td style=\"text-align: right;\">-0.078024  </td><td style=\"text-align: right;\"> 0.0284739 </td><td style=\"text-align: right;\"> 0.00122177</td><td style=\"text-align: right;\">-0.0728591 </td><td style=\"text-align: right;\">-0.124978  </td><td style=\"text-align: right;\">-0.240969</td><td style=\"text-align: right;\">-0.0202093 </td><td style=\"text-align: right;\">-0.108842 </td><td style=\"text-align: right;\">-0.098488  </td><td style=\"text-align: right;\"> 0.0384166 </td><td style=\"text-align: right;\"> 0.0387861</td><td style=\"text-align: right;\">-0.0195585  </td><td style=\"text-align: right;\">-0.116423 </td><td style=\"text-align: right;\"> 0.0549396 </td><td style=\"text-align: right;\">-0.0918255</td><td style=\"text-align: right;\">-0.00564446</td><td style=\"text-align: right;\">-0.0368848 </td><td style=\"text-align: right;\">0.0620761 </td><td style=\"text-align: right;\"> 0.0722672 </td><td style=\"text-align: right;\">-0.0396784 </td><td style=\"text-align: right;\">-0.00327317</td><td style=\"text-align: right;\">-0.157475 </td><td style=\"text-align: right;\">-0.00594259</td><td style=\"text-align: right;\">-0.0705865</td><td style=\"text-align: right;\">-0.0227112 </td><td style=\"text-align: right;\">0.0924559</td><td style=\"text-align: right;\">-0.0241125 </td><td style=\"text-align: right;\">-0.0788035 </td><td style=\"text-align: right;\">-0.00747296</td><td style=\"text-align: right;\"> 0.079854   </td><td style=\"text-align: right;\">-0.134251 </td><td style=\"text-align: right;\">-0.0820968</td><td style=\"text-align: right;\">-0.0647936</td><td style=\"text-align: right;\"> 0.0572351 </td><td style=\"text-align: right;\">-0.11822  </td><td style=\"text-align: right;\">0.082965 </td><td style=\"text-align: right;\">-0.0268551 </td><td style=\"text-align: right;\"> 0.0385546 </td><td style=\"text-align: right;\"> 0.0142774</td><td style=\"text-align: right;\">0.22435  </td><td style=\"text-align: right;\">-0.0218921 </td></tr>\n",
       "<tr><td style=\"text-align: right;\">-0.0079376 </td><td style=\"text-align: right;\"> 0.000239642</td><td style=\"text-align: right;\">-0.0984664</td><td style=\"text-align: right;\">-0.0353063</td><td style=\"text-align: right;\">-0.063151 </td><td style=\"text-align: right;\">-0.0446994</td><td style=\"text-align: right;\"> 0.0201578</td><td style=\"text-align: right;\">0.0209528</td><td style=\"text-align: right;\"> 0.1004   </td><td style=\"text-align: right;\">0.0494586</td><td style=\"text-align: right;\">-0.10884  </td><td style=\"text-align: right;\">0.052143 </td><td style=\"text-align: right;\"> 0.0735285</td><td style=\"text-align: right;\"> 0.0418991 </td><td style=\"text-align: right;\"> 0.0960808 </td><td style=\"text-align: right;\">-0.00199502</td><td style=\"text-align: right;\"> 0.0639621 </td><td style=\"text-align: right;\"> 0.0835302</td><td style=\"text-align: right;\"> 0.0272019 </td><td style=\"text-align: right;\">-0.0615781 </td><td style=\"text-align: right;\">0.143118 </td><td style=\"text-align: right;\"> 0.046749  </td><td style=\"text-align: right;\">-0.0848215  </td><td style=\"text-align: right;\"> 0.109407 </td><td style=\"text-align: right;\">-0.148958  </td><td style=\"text-align: right;\">-0.118938 </td><td style=\"text-align: right;\">-0.0500903</td><td style=\"text-align: right;\">-0.072545 </td><td style=\"text-align: right;\">0.150607  </td><td style=\"text-align: right;\">0.184233 </td><td style=\"text-align: right;\"> 0.0333372 </td><td style=\"text-align: right;\">-0.106703 </td><td style=\"text-align: right;\">-0.102631 </td><td style=\"text-align: right;\">0.0672594</td><td style=\"text-align: right;\"> 0.130751 </td><td style=\"text-align: right;\">-0.000328161</td><td style=\"text-align: right;\"> 0.0586504</td><td style=\"text-align: right;\">0.0331312 </td><td style=\"text-align: right;\"> 0.120814 </td><td style=\"text-align: right;\">-0.0717092 </td><td style=\"text-align: right;\">-0.187189 </td><td style=\"text-align: right;\">-0.0775543</td><td style=\"text-align: right;\">0.112567 </td><td style=\"text-align: right;\">-0.15878  </td><td style=\"text-align: right;\"> 0.0259785 </td><td style=\"text-align: right;\">-0.0187768 </td><td style=\"text-align: right;\"> 0.0283797 </td><td style=\"text-align: right;\"> 0.00288021</td><td style=\"text-align: right;\"> 0.00177634</td><td style=\"text-align: right;\">-0.120724 </td><td style=\"text-align: right;\">-0.00271974</td><td style=\"text-align: right;\">-0.0424109 </td><td style=\"text-align: right;\">-0.103039 </td><td style=\"text-align: right;\"> 0.0410107  </td><td style=\"text-align: right;\"> 0.0295693 </td><td style=\"text-align: right;\">-0.0148844 </td><td style=\"text-align: right;\">-0.102871 </td><td style=\"text-align: right;\"> 0.00317737</td><td style=\"text-align: right;\"> 0.0155547 </td><td style=\"text-align: right;\">-0.011263  </td><td style=\"text-align: right;\"> 0.00461578</td><td style=\"text-align: right;\"> 0.0328579 </td><td style=\"text-align: right;\">-0.0221464 </td><td style=\"text-align: right;\">-0.0759283 </td><td style=\"text-align: right;\">-0.233433</td><td style=\"text-align: right;\">-0.00611202</td><td style=\"text-align: right;\">-0.081857 </td><td style=\"text-align: right;\"> 0.00566073</td><td style=\"text-align: right;\"> 0.136763  </td><td style=\"text-align: right;\"> 0.0492475</td><td style=\"text-align: right;\"> 0.00814907 </td><td style=\"text-align: right;\">-0.11846  </td><td style=\"text-align: right;\">-0.0177732 </td><td style=\"text-align: right;\">-0.0558831</td><td style=\"text-align: right;\">-0.0420496 </td><td style=\"text-align: right;\"> 0.0311204 </td><td style=\"text-align: right;\">0.080559  </td><td style=\"text-align: right;\"> 0.058248  </td><td style=\"text-align: right;\">-0.0831334 </td><td style=\"text-align: right;\"> 0.0587819 </td><td style=\"text-align: right;\">-0.126002 </td><td style=\"text-align: right;\">-0.00845879</td><td style=\"text-align: right;\">-0.105155 </td><td style=\"text-align: right;\"> 0.0260639 </td><td style=\"text-align: right;\">0.0110247</td><td style=\"text-align: right;\">-0.0076652 </td><td style=\"text-align: right;\">-0.0741017 </td><td style=\"text-align: right;\">-0.01552   </td><td style=\"text-align: right;\"> 0.0374772  </td><td style=\"text-align: right;\">-0.158608 </td><td style=\"text-align: right;\">-0.0651645</td><td style=\"text-align: right;\">-0.0894966</td><td style=\"text-align: right;\"> 0.0172442 </td><td style=\"text-align: right;\">-0.065065 </td><td style=\"text-align: right;\">0.132266 </td><td style=\"text-align: right;\">-0.0213319 </td><td style=\"text-align: right;\"> 0.00215587</td><td style=\"text-align: right;\"> 0.0560636</td><td style=\"text-align: right;\">0.188338 </td><td style=\"text-align: right;\"> 0.0355053 </td></tr>\n",
       "<tr><td style=\"text-align: right;\">-0.0107979 </td><td style=\"text-align: right;\">-0.0894471  </td><td style=\"text-align: right;\">-0.0331519</td><td style=\"text-align: right;\"> 0.0259351</td><td style=\"text-align: right;\">-0.0815531</td><td style=\"text-align: right;\"> 0.0363954</td><td style=\"text-align: right;\">-0.0540371</td><td style=\"text-align: right;\">0.0205392</td><td style=\"text-align: right;\">-0.0222318</td><td style=\"text-align: right;\">0.0935595</td><td style=\"text-align: right;\">-0.242803 </td><td style=\"text-align: right;\">0.0659615</td><td style=\"text-align: right;\">-0.0403441</td><td style=\"text-align: right;\">-0.0234053 </td><td style=\"text-align: right;\">-0.0169655 </td><td style=\"text-align: right;\">-0.129433  </td><td style=\"text-align: right;\">-0.0821793 </td><td style=\"text-align: right;\">-0.0484089</td><td style=\"text-align: right;\">-0.0796522 </td><td style=\"text-align: right;\">-0.186673  </td><td style=\"text-align: right;\">0.0914385</td><td style=\"text-align: right;\"> 0.0511929 </td><td style=\"text-align: right;\">-0.028196   </td><td style=\"text-align: right;\">-0.0114534</td><td style=\"text-align: right;\">-0.0450742 </td><td style=\"text-align: right;\">-0.111732 </td><td style=\"text-align: right;\">-0.116552 </td><td style=\"text-align: right;\">-0.0644481</td><td style=\"text-align: right;\">0.0867466 </td><td style=\"text-align: right;\">0.242054 </td><td style=\"text-align: right;\">-0.106306  </td><td style=\"text-align: right;\">-0.128762 </td><td style=\"text-align: right;\">-0.118346 </td><td style=\"text-align: right;\">0.0288906</td><td style=\"text-align: right;\"> 0.0894759</td><td style=\"text-align: right;\">-0.127791   </td><td style=\"text-align: right;\">-0.0665335</td><td style=\"text-align: right;\">0.00887877</td><td style=\"text-align: right;\"> 0.0790294</td><td style=\"text-align: right;\"> 0.00213005</td><td style=\"text-align: right;\">-0.178979 </td><td style=\"text-align: right;\">-0.0661297</td><td style=\"text-align: right;\">0.119648 </td><td style=\"text-align: right;\">-0.0947824</td><td style=\"text-align: right;\"> 0.0231361 </td><td style=\"text-align: right;\"> 0.0979804 </td><td style=\"text-align: right;\"> 0.125125  </td><td style=\"text-align: right;\"> 0.108572  </td><td style=\"text-align: right;\">-0.0167103 </td><td style=\"text-align: right;\">-0.200764 </td><td style=\"text-align: right;\">-0.0599196 </td><td style=\"text-align: right;\">-0.039397  </td><td style=\"text-align: right;\">-0.101364 </td><td style=\"text-align: right;\"> 0.0333081  </td><td style=\"text-align: right;\">-0.0620515 </td><td style=\"text-align: right;\"> 0.0400429 </td><td style=\"text-align: right;\">-0.0699384</td><td style=\"text-align: right;\">-0.0283342 </td><td style=\"text-align: right;\"> 0.0818445 </td><td style=\"text-align: right;\"> 0.0992464 </td><td style=\"text-align: right;\"> 0.0620305 </td><td style=\"text-align: right;\">-0.0917163 </td><td style=\"text-align: right;\">-0.0258313 </td><td style=\"text-align: right;\">-0.00347819</td><td style=\"text-align: right;\">-0.229118</td><td style=\"text-align: right;\"> 0.0251399 </td><td style=\"text-align: right;\">-0.194111 </td><td style=\"text-align: right;\"> 0.0616834 </td><td style=\"text-align: right;\">-0.0226545 </td><td style=\"text-align: right;\">-0.0653787</td><td style=\"text-align: right;\">-0.0825671  </td><td style=\"text-align: right;\">-0.014583 </td><td style=\"text-align: right;\">-0.00275514</td><td style=\"text-align: right;\">-0.104595 </td><td style=\"text-align: right;\">-0.0498248 </td><td style=\"text-align: right;\"> 0.0890453 </td><td style=\"text-align: right;\">0.0538658 </td><td style=\"text-align: right;\"> 0.16138   </td><td style=\"text-align: right;\"> 0.111043  </td><td style=\"text-align: right;\"> 0.100431  </td><td style=\"text-align: right;\">-0.140699 </td><td style=\"text-align: right;\">-0.00347689</td><td style=\"text-align: right;\">-0.184399 </td><td style=\"text-align: right;\"> 0.0047847 </td><td style=\"text-align: right;\">0.135706 </td><td style=\"text-align: right;\">-0.0519267 </td><td style=\"text-align: right;\"> 0.00343139</td><td style=\"text-align: right;\"> 0.00103473</td><td style=\"text-align: right;\">-0.061661   </td><td style=\"text-align: right;\"> 0.0266745</td><td style=\"text-align: right;\">-0.097612 </td><td style=\"text-align: right;\">-0.0419897</td><td style=\"text-align: right;\"> 0.128862  </td><td style=\"text-align: right;\">-0.0765294</td><td style=\"text-align: right;\">0.207298 </td><td style=\"text-align: right;\"> 0.0878978 </td><td style=\"text-align: right;\"> 0.0793981 </td><td style=\"text-align: right;\"> 0.059622 </td><td style=\"text-align: right;\">0.109455 </td><td style=\"text-align: right;\"> 0.0343306 </td></tr>\n",
       "<tr><td style=\"text-align: right;\"> 0.00507676</td><td style=\"text-align: right;\"> 0.0436527  </td><td style=\"text-align: right;\">-0.0395099</td><td style=\"text-align: right;\">-0.0600722</td><td style=\"text-align: right;\">-0.0840699</td><td style=\"text-align: right;\"> 0.0858885</td><td style=\"text-align: right;\"> 0.124718 </td><td style=\"text-align: right;\">0.018441 </td><td style=\"text-align: right;\"> 0.0776341</td><td style=\"text-align: right;\">0.0798085</td><td style=\"text-align: right;\">-0.282923 </td><td style=\"text-align: right;\">0.0456516</td><td style=\"text-align: right;\"> 0.0355591</td><td style=\"text-align: right;\">-0.0980995 </td><td style=\"text-align: right;\"> 0.129526  </td><td style=\"text-align: right;\">-0.114663  </td><td style=\"text-align: right;\"> 0.0213484 </td><td style=\"text-align: right;\"> 0.0559252</td><td style=\"text-align: right;\"> 0.0437728 </td><td style=\"text-align: right;\">-0.181879  </td><td style=\"text-align: right;\">0.152003 </td><td style=\"text-align: right;\">-0.0794636 </td><td style=\"text-align: right;\">-0.000942497</td><td style=\"text-align: right;\">-0.0202642</td><td style=\"text-align: right;\">-0.0450935 </td><td style=\"text-align: right;\">-0.108542 </td><td style=\"text-align: right;\">-0.044542 </td><td style=\"text-align: right;\">-0.0480821</td><td style=\"text-align: right;\">0.189363  </td><td style=\"text-align: right;\">0.204273 </td><td style=\"text-align: right;\">-0.0448457 </td><td style=\"text-align: right;\">-0.153256 </td><td style=\"text-align: right;\">-0.127806 </td><td style=\"text-align: right;\">0.116934 </td><td style=\"text-align: right;\">-0.0258627</td><td style=\"text-align: right;\">-0.0834084  </td><td style=\"text-align: right;\">-0.0440389</td><td style=\"text-align: right;\">0.0504018 </td><td style=\"text-align: right;\"> 0.147099 </td><td style=\"text-align: right;\">-0.0105962 </td><td style=\"text-align: right;\">-0.13851  </td><td style=\"text-align: right;\"> 0.0377084</td><td style=\"text-align: right;\">0.0868215</td><td style=\"text-align: right;\">-0.229169 </td><td style=\"text-align: right;\"> 0.0658009 </td><td style=\"text-align: right;\"> 0.0218345 </td><td style=\"text-align: right;\">-0.00272901</td><td style=\"text-align: right;\"> 0.047884  </td><td style=\"text-align: right;\"> 0.0035991 </td><td style=\"text-align: right;\">-0.0326611</td><td style=\"text-align: right;\">-0.0472041 </td><td style=\"text-align: right;\">-0.0112791 </td><td style=\"text-align: right;\">-0.0709667</td><td style=\"text-align: right;\"> 0.0491003  </td><td style=\"text-align: right;\"> 0.0682706 </td><td style=\"text-align: right;\">-0.00323051</td><td style=\"text-align: right;\">-0.102105 </td><td style=\"text-align: right;\">-0.0154458 </td><td style=\"text-align: right;\"> 0.00209917</td><td style=\"text-align: right;\"> 0.00835559</td><td style=\"text-align: right;\"> 0.024572  </td><td style=\"text-align: right;\"> 0.00478247</td><td style=\"text-align: right;\">-0.0122634 </td><td style=\"text-align: right;\">-0.0347263 </td><td style=\"text-align: right;\">-0.240589</td><td style=\"text-align: right;\"> 0.0601757 </td><td style=\"text-align: right;\">-0.143273 </td><td style=\"text-align: right;\"> 0.0172663 </td><td style=\"text-align: right;\">-0.00400822</td><td style=\"text-align: right;\"> 0.0785325</td><td style=\"text-align: right;\">-0.0956434  </td><td style=\"text-align: right;\">-0.0618072</td><td style=\"text-align: right;\">-0.0509367 </td><td style=\"text-align: right;\">-0.0757861</td><td style=\"text-align: right;\"> 0.0653823 </td><td style=\"text-align: right;\"> 0.0479702 </td><td style=\"text-align: right;\">0.0966908 </td><td style=\"text-align: right;\"> 0.114146  </td><td style=\"text-align: right;\"> 0.0126992 </td><td style=\"text-align: right;\">-0.0157762 </td><td style=\"text-align: right;\">-0.12314  </td><td style=\"text-align: right;\">-0.0012765 </td><td style=\"text-align: right;\">-0.115806 </td><td style=\"text-align: right;\"> 0.0440959 </td><td style=\"text-align: right;\">0.0957789</td><td style=\"text-align: right;\">-0.0342974 </td><td style=\"text-align: right;\">-0.0767324 </td><td style=\"text-align: right;\">-0.0583474 </td><td style=\"text-align: right;\">-0.0288127  </td><td style=\"text-align: right;\">-0.0959256</td><td style=\"text-align: right;\">-0.109546 </td><td style=\"text-align: right;\">-0.0226229</td><td style=\"text-align: right;\"> 0.0760573 </td><td style=\"text-align: right;\">-0.0762687</td><td style=\"text-align: right;\">0.159037 </td><td style=\"text-align: right;\"> 0.137234  </td><td style=\"text-align: right;\"> 0.0717199 </td><td style=\"text-align: right;\">-0.0388113</td><td style=\"text-align: right;\">0.0519013</td><td style=\"text-align: right;\"> 0.0493    </td></tr>\n",
       "<tr><td style=\"text-align: right;\"> 0.0123632 </td><td style=\"text-align: right;\"> 0.00421257 </td><td style=\"text-align: right;\">-0.0597323</td><td style=\"text-align: right;\">-0.0853562</td><td style=\"text-align: right;\">-0.020363 </td><td style=\"text-align: right;\">-0.0112503</td><td style=\"text-align: right;\"> 0.0377778</td><td style=\"text-align: right;\">0.0288771</td><td style=\"text-align: right;\"> 0.05851  </td><td style=\"text-align: right;\">0.132342 </td><td style=\"text-align: right;\">-0.0276316</td><td style=\"text-align: right;\">0.135067 </td><td style=\"text-align: right;\"> 0.0506688</td><td style=\"text-align: right;\"> 0.0910027 </td><td style=\"text-align: right;\"> 0.12853   </td><td style=\"text-align: right;\"> 0.0333031 </td><td style=\"text-align: right;\"> 0.0743005 </td><td style=\"text-align: right;\"> 0.0633332</td><td style=\"text-align: right;\"> 0.0932236 </td><td style=\"text-align: right;\">-0.0749122 </td><td style=\"text-align: right;\">0.162952 </td><td style=\"text-align: right;\"> 0.0156866 </td><td style=\"text-align: right;\">-0.123873   </td><td style=\"text-align: right;\"> 0.0406272</td><td style=\"text-align: right;\">-0.134368  </td><td style=\"text-align: right;\">-0.126666 </td><td style=\"text-align: right;\"> 0.0027469</td><td style=\"text-align: right;\">-0.0066285</td><td style=\"text-align: right;\">0.194814  </td><td style=\"text-align: right;\">0.201023 </td><td style=\"text-align: right;\"> 0.0546467 </td><td style=\"text-align: right;\">-0.0965369</td><td style=\"text-align: right;\">-0.0919012</td><td style=\"text-align: right;\">0.023356 </td><td style=\"text-align: right;\">-0.0279989</td><td style=\"text-align: right;\"> 0.021324   </td><td style=\"text-align: right;\">-0.0105123</td><td style=\"text-align: right;\">0.00371864</td><td style=\"text-align: right;\"> 0.0874735</td><td style=\"text-align: right;\"> 0.0494678 </td><td style=\"text-align: right;\">-0.138408 </td><td style=\"text-align: right;\">-0.0672277</td><td style=\"text-align: right;\">0.1198   </td><td style=\"text-align: right;\">-0.113868 </td><td style=\"text-align: right;\">-0.00543357</td><td style=\"text-align: right;\"> 0.00680128</td><td style=\"text-align: right;\"> 0.0359498 </td><td style=\"text-align: right;\"> 0.0578957 </td><td style=\"text-align: right;\"> 0.0240398 </td><td style=\"text-align: right;\">-0.149459 </td><td style=\"text-align: right;\"> 0.00524007</td><td style=\"text-align: right;\">-0.0315617 </td><td style=\"text-align: right;\">-0.0476629</td><td style=\"text-align: right;\">-0.0348321  </td><td style=\"text-align: right;\"> 0.0870327 </td><td style=\"text-align: right;\"> 0.0696385 </td><td style=\"text-align: right;\">-0.16071  </td><td style=\"text-align: right;\">-0.0416927 </td><td style=\"text-align: right;\">-0.0592927 </td><td style=\"text-align: right;\">-0.0750376 </td><td style=\"text-align: right;\"> 0.0307088 </td><td style=\"text-align: right;\">-0.051241  </td><td style=\"text-align: right;\">-0.0415216 </td><td style=\"text-align: right;\">-0.105561  </td><td style=\"text-align: right;\">-0.230134</td><td style=\"text-align: right;\">-0.0417514 </td><td style=\"text-align: right;\">-0.14894  </td><td style=\"text-align: right;\">-0.13296   </td><td style=\"text-align: right;\"> 0.0371372 </td><td style=\"text-align: right;\"> 0.112311 </td><td style=\"text-align: right;\">-0.0370622  </td><td style=\"text-align: right;\">-0.12436  </td><td style=\"text-align: right;\">-0.0153572 </td><td style=\"text-align: right;\">-0.076399 </td><td style=\"text-align: right;\"> 0.0501228 </td><td style=\"text-align: right;\"> 0.00358906</td><td style=\"text-align: right;\">0.00308194</td><td style=\"text-align: right;\"> 0.115709  </td><td style=\"text-align: right;\">-0.1009    </td><td style=\"text-align: right;\"> 0.0219095 </td><td style=\"text-align: right;\">-0.0795927</td><td style=\"text-align: right;\">-0.0213459 </td><td style=\"text-align: right;\">-0.107748 </td><td style=\"text-align: right;\"> 0.0664255 </td><td style=\"text-align: right;\">0.0915418</td><td style=\"text-align: right;\">-0.041732  </td><td style=\"text-align: right;\">-0.0829835 </td><td style=\"text-align: right;\">-0.0630121 </td><td style=\"text-align: right;\"> 0.0572946  </td><td style=\"text-align: right;\">-0.137485 </td><td style=\"text-align: right;\">-0.0787544</td><td style=\"text-align: right;\">-0.111203 </td><td style=\"text-align: right;\"> 0.00565235</td><td style=\"text-align: right;\">-0.040253 </td><td style=\"text-align: right;\">0.0850057</td><td style=\"text-align: right;\">-0.0227328 </td><td style=\"text-align: right;\"> 0.112146  </td><td style=\"text-align: right;\"> 0.0336543</td><td style=\"text-align: right;\">0.171897 </td><td style=\"text-align: right;\"> 0.10303   </td></tr>\n",
       "</tbody>\n",
       "</table>"
      ]
     },
     "metadata": {},
     "output_type": "display_data"
    },
    {
     "data": {
      "text/plain": []
     },
     "execution_count": 24,
     "metadata": {},
     "output_type": "execute_result"
    }
   ],
   "source": [
    "# Calculate a vector for each review\n",
    "review_vecs = w2v_model.transform(words, aggregate_method = \"AVERAGE\")\n",
    "review_vecs"
   ]
  },
  {
   "cell_type": "code",
   "execution_count": 25,
   "metadata": {},
   "outputs": [],
   "source": [
    "# Add aggregated word embeddings \n",
    "ext_reviews = reviews.cbind(review_vecs)"
   ]
  },
  {
   "cell_type": "code",
   "execution_count": 26,
   "metadata": {},
   "outputs": [],
   "source": [
    "ext_reviews = ext_reviews.drop([1, 5])"
   ]
  },
  {
   "cell_type": "code",
   "execution_count": 27,
   "metadata": {},
   "outputs": [
    {
     "data": {
      "text/html": [
       "<table>\n",
       "<thead>\n",
       "<tr><th style=\"text-align: right;\">  Id</th><th>date               </th><th>review_id             </th><th style=\"text-align: right;\">  stars</th><th>type  </th><th>user_id               </th><th style=\"text-align: right;\">  cool</th><th style=\"text-align: right;\">  useful</th><th style=\"text-align: right;\">  funny</th><th style=\"text-align: right;\">  PositiveReview</th><th>Train  </th><th style=\"text-align: right;\">        C1</th><th style=\"text-align: right;\">         C2</th><th style=\"text-align: right;\">       C3</th><th style=\"text-align: right;\">        C4</th><th style=\"text-align: right;\">        C5</th><th style=\"text-align: right;\">        C6</th><th style=\"text-align: right;\">       C7</th><th style=\"text-align: right;\">       C8</th><th style=\"text-align: right;\">       C9</th><th style=\"text-align: right;\">      C10</th><th style=\"text-align: right;\">      C11</th><th style=\"text-align: right;\">      C12</th><th style=\"text-align: right;\">       C13</th><th style=\"text-align: right;\">       C14</th><th style=\"text-align: right;\">      C15</th><th style=\"text-align: right;\">        C16</th><th style=\"text-align: right;\">        C17</th><th style=\"text-align: right;\">      C18</th><th style=\"text-align: right;\">       C19</th><th style=\"text-align: right;\">       C20</th><th style=\"text-align: right;\">      C21</th><th style=\"text-align: right;\">       C22</th><th style=\"text-align: right;\">       C23</th><th style=\"text-align: right;\">      C24</th><th style=\"text-align: right;\">       C25</th><th style=\"text-align: right;\">       C26</th><th style=\"text-align: right;\">       C27</th><th style=\"text-align: right;\">       C28</th><th style=\"text-align: right;\">      C29</th><th style=\"text-align: right;\">     C30</th><th style=\"text-align: right;\">        C31</th><th style=\"text-align: right;\">       C32</th><th style=\"text-align: right;\">       C33</th><th style=\"text-align: right;\">      C34</th><th style=\"text-align: right;\">       C35</th><th style=\"text-align: right;\">       C36</th><th style=\"text-align: right;\">       C37</th><th style=\"text-align: right;\">      C38</th><th style=\"text-align: right;\">      C39</th><th style=\"text-align: right;\">        C40</th><th style=\"text-align: right;\">       C41</th><th style=\"text-align: right;\">       C42</th><th style=\"text-align: right;\">      C43</th><th style=\"text-align: right;\">      C44</th><th style=\"text-align: right;\">       C45</th><th style=\"text-align: right;\">       C46</th><th style=\"text-align: right;\">       C47</th><th style=\"text-align: right;\">       C48</th><th style=\"text-align: right;\">        C49</th><th style=\"text-align: right;\">      C50</th><th style=\"text-align: right;\">       C51</th><th style=\"text-align: right;\">        C52</th><th style=\"text-align: right;\">       C53</th><th style=\"text-align: right;\">       C54</th><th style=\"text-align: right;\">        C55</th><th style=\"text-align: right;\">       C56</th><th style=\"text-align: right;\">       C57</th><th style=\"text-align: right;\">       C58</th><th style=\"text-align: right;\">       C59</th><th style=\"text-align: right;\">       C60</th><th style=\"text-align: right;\">        C61</th><th style=\"text-align: right;\">       C62</th><th style=\"text-align: right;\">       C63</th><th style=\"text-align: right;\">       C64</th><th style=\"text-align: right;\">      C65</th><th style=\"text-align: right;\">      C66</th><th style=\"text-align: right;\">       C67</th><th style=\"text-align: right;\">       C68</th><th style=\"text-align: right;\">        C69</th><th style=\"text-align: right;\">      C70</th><th style=\"text-align: right;\">         C71</th><th style=\"text-align: right;\">       C72</th><th style=\"text-align: right;\">       C73</th><th style=\"text-align: right;\">       C74</th><th style=\"text-align: right;\">       C75</th><th style=\"text-align: right;\">       C76</th><th style=\"text-align: right;\">      C77</th><th style=\"text-align: right;\">        C78</th><th style=\"text-align: right;\">        C79</th><th style=\"text-align: right;\">        C80</th><th style=\"text-align: right;\">       C81</th><th style=\"text-align: right;\">       C82</th><th style=\"text-align: right;\">       C83</th><th style=\"text-align: right;\">        C84</th><th style=\"text-align: right;\">      C85</th><th style=\"text-align: right;\">        C86</th><th style=\"text-align: right;\">       C87</th><th style=\"text-align: right;\">       C88</th><th style=\"text-align: right;\">      C89</th><th style=\"text-align: right;\">      C90</th><th style=\"text-align: right;\">       C91</th><th style=\"text-align: right;\">       C92</th><th style=\"text-align: right;\">       C93</th><th style=\"text-align: right;\">       C94</th><th style=\"text-align: right;\">      C95</th><th style=\"text-align: right;\">        C96</th><th style=\"text-align: right;\">        C97</th><th style=\"text-align: right;\">       C98</th><th style=\"text-align: right;\">     C99</th><th style=\"text-align: right;\">       C100</th></tr>\n",
       "</thead>\n",
       "<tbody>\n",
       "<tr><td style=\"text-align: right;\">   1</td><td>2011-01-26 00:00:00</td><td>fWKvX83p0-ka4JS3dc6E5A</td><td style=\"text-align: right;\">      5</td><td>review</td><td>rLtl8ZkDX5vH5nAx9C3q5Q</td><td style=\"text-align: right;\">     2</td><td style=\"text-align: right;\">       5</td><td style=\"text-align: right;\">      0</td><td style=\"text-align: right;\">               1</td><td>Yes    </td><td style=\"text-align: right;\">0.0431898 </td><td style=\"text-align: right;\"> 0.00819708</td><td style=\"text-align: right;\">-0.127153</td><td style=\"text-align: right;\">-0.112452 </td><td style=\"text-align: right;\">-0.0631461</td><td style=\"text-align: right;\">-0.0435626</td><td style=\"text-align: right;\">0.0502669</td><td style=\"text-align: right;\">0.0482737</td><td style=\"text-align: right;\">0.0725893</td><td style=\"text-align: right;\">0.138895 </td><td style=\"text-align: right;\">-0.218187</td><td style=\"text-align: right;\">0.0838325</td><td style=\"text-align: right;\"> 0.0552184</td><td style=\"text-align: right;\">-0.0183307</td><td style=\"text-align: right;\">0.110987 </td><td style=\"text-align: right;\">-0.00389015</td><td style=\"text-align: right;\"> 0.0968412 </td><td style=\"text-align: right;\">0.0855157</td><td style=\"text-align: right;\">0.00709401</td><td style=\"text-align: right;\">-0.155693 </td><td style=\"text-align: right;\">0.134107 </td><td style=\"text-align: right;\">0.0456063 </td><td style=\"text-align: right;\">-0.0596474</td><td style=\"text-align: right;\">0.0763334</td><td style=\"text-align: right;\">-0.0981727</td><td style=\"text-align: right;\">-0.114887 </td><td style=\"text-align: right;\">-0.0921806</td><td style=\"text-align: right;\">-0.0736998</td><td style=\"text-align: right;\">0.0983805</td><td style=\"text-align: right;\">0.153152</td><td style=\"text-align: right;\">-0.0353571 </td><td style=\"text-align: right;\">-0.0620659</td><td style=\"text-align: right;\">-0.134173 </td><td style=\"text-align: right;\">0.123079 </td><td style=\"text-align: right;\"> 0.0573049</td><td style=\"text-align: right;\">-0.0506106</td><td style=\"text-align: right;\"> 0.0233568</td><td style=\"text-align: right;\">0.104748 </td><td style=\"text-align: right;\">0.0746219</td><td style=\"text-align: right;\"> 0.0159259 </td><td style=\"text-align: right;\">-0.0835604</td><td style=\"text-align: right;\">-0.056167 </td><td style=\"text-align: right;\">0.0599406</td><td style=\"text-align: right;\">-0.188318</td><td style=\"text-align: right;\">0.0238897 </td><td style=\"text-align: right;\"> 0.0227452</td><td style=\"text-align: right;\">-0.0190722</td><td style=\"text-align: right;\"> 0.0246319</td><td style=\"text-align: right;\"> 0.00369343</td><td style=\"text-align: right;\">-0.128639</td><td style=\"text-align: right;\">-0.0416925</td><td style=\"text-align: right;\"> 0.0659668 </td><td style=\"text-align: right;\">-0.0140636</td><td style=\"text-align: right;\"> 0.0184442</td><td style=\"text-align: right;\">-0.00780141</td><td style=\"text-align: right;\">-0.0249494</td><td style=\"text-align: right;\">-0.121143 </td><td style=\"text-align: right;\">-0.117083 </td><td style=\"text-align: right;\"> 0.0023749</td><td style=\"text-align: right;\">-0.0267237</td><td style=\"text-align: right;\"> 0.00822276</td><td style=\"text-align: right;\"> 0.0245645</td><td style=\"text-align: right;\">-0.0415329</td><td style=\"text-align: right;\">-0.0995334</td><td style=\"text-align: right;\">-0.254758</td><td style=\"text-align: right;\">0.0433231</td><td style=\"text-align: right;\">-0.130343 </td><td style=\"text-align: right;\">-0.0500048</td><td style=\"text-align: right;\"> 0.040597  </td><td style=\"text-align: right;\">0.0915819</td><td style=\"text-align: right;\"> 0.033776   </td><td style=\"text-align: right;\">-0.127447 </td><td style=\"text-align: right;\"> 0.0660022</td><td style=\"text-align: right;\">-0.0230274</td><td style=\"text-align: right;\"> 0.0294671</td><td style=\"text-align: right;\">-0.0220785</td><td style=\"text-align: right;\">0.0508434</td><td style=\"text-align: right;\"> 0.0873425 </td><td style=\"text-align: right;\">-0.0878835 </td><td style=\"text-align: right;\">-0.00135121</td><td style=\"text-align: right;\">-0.0737352</td><td style=\"text-align: right;\">-0.0262945</td><td style=\"text-align: right;\">-0.122483 </td><td style=\"text-align: right;\">-0.0194011 </td><td style=\"text-align: right;\">0.0418162</td><td style=\"text-align: right;\">-0.0632937 </td><td style=\"text-align: right;\">-0.0974902</td><td style=\"text-align: right;\">-0.0161878</td><td style=\"text-align: right;\">0.0572028</td><td style=\"text-align: right;\">-0.10692 </td><td style=\"text-align: right;\">-0.11871  </td><td style=\"text-align: right;\">-0.0496035</td><td style=\"text-align: right;\"> 0.105676 </td><td style=\"text-align: right;\">-0.077311 </td><td style=\"text-align: right;\">0.0983732</td><td style=\"text-align: right;\"> 0.0349728 </td><td style=\"text-align: right;\">-0.00113467</td><td style=\"text-align: right;\">-0.0224675</td><td style=\"text-align: right;\">0.17549 </td><td style=\"text-align: right;\">-0.00091791</td></tr>\n",
       "<tr><td style=\"text-align: right;\">   2</td><td>2011-07-27 00:00:00</td><td>IjZ33sJrzXqU-0X6U8NwyA</td><td style=\"text-align: right;\">      5</td><td>review</td><td>0a2KyEL0d3Yb1V6aivbIuQ</td><td style=\"text-align: right;\">     0</td><td style=\"text-align: right;\">       0</td><td style=\"text-align: right;\">      0</td><td style=\"text-align: right;\">               1</td><td>Yes    </td><td style=\"text-align: right;\">0.00017889</td><td style=\"text-align: right;\">-0.00720336</td><td style=\"text-align: right;\">-0.120389</td><td style=\"text-align: right;\">-0.0925545</td><td style=\"text-align: right;\">-0.0577572</td><td style=\"text-align: right;\"> 0.0244621</td><td style=\"text-align: right;\">0.0116285</td><td style=\"text-align: right;\">0.0795576</td><td style=\"text-align: right;\">0.0153647</td><td style=\"text-align: right;\">0.0812757</td><td style=\"text-align: right;\">-0.204441</td><td style=\"text-align: right;\">0.0478633</td><td style=\"text-align: right;\">-0.0123554</td><td style=\"text-align: right;\">-0.0425688</td><td style=\"text-align: right;\">0.0606324</td><td style=\"text-align: right;\">-0.0384204 </td><td style=\"text-align: right;\">-0.00817711</td><td style=\"text-align: right;\">0.0671107</td><td style=\"text-align: right;\">0.00808567</td><td style=\"text-align: right;\">-0.156547 </td><td style=\"text-align: right;\">0.100079 </td><td style=\"text-align: right;\">0.0853757 </td><td style=\"text-align: right;\">-0.115265 </td><td style=\"text-align: right;\">0.041196 </td><td style=\"text-align: right;\">-0.11562  </td><td style=\"text-align: right;\">-0.0917047</td><td style=\"text-align: right;\">-0.0757228</td><td style=\"text-align: right;\">-0.0838364</td><td style=\"text-align: right;\">0.183193 </td><td style=\"text-align: right;\">0.173723</td><td style=\"text-align: right;\"> 0.00168545</td><td style=\"text-align: right;\">-0.101552 </td><td style=\"text-align: right;\">-0.113226 </td><td style=\"text-align: right;\">0.0257204</td><td style=\"text-align: right;\">-0.0151856</td><td style=\"text-align: right;\">-0.0916757</td><td style=\"text-align: right;\">-0.0356884</td><td style=\"text-align: right;\">0.0511016</td><td style=\"text-align: right;\">0.127393 </td><td style=\"text-align: right;\">-0.00380766</td><td style=\"text-align: right;\">-0.0669983</td><td style=\"text-align: right;\">-0.0425707</td><td style=\"text-align: right;\">0.0508257</td><td style=\"text-align: right;\">-0.197718</td><td style=\"text-align: right;\">0.00536989</td><td style=\"text-align: right;\"> 0.0617084</td><td style=\"text-align: right;\"> 0.046265 </td><td style=\"text-align: right;\"> 0.0494187</td><td style=\"text-align: right;\">-0.0297837 </td><td style=\"text-align: right;\">-0.182351</td><td style=\"text-align: right;\">-0.0863291</td><td style=\"text-align: right;\">-0.00952905</td><td style=\"text-align: right;\">-0.0604534</td><td style=\"text-align: right;\"> 0.0227292</td><td style=\"text-align: right;\"> 0.0484366 </td><td style=\"text-align: right;\"> 0.0184336</td><td style=\"text-align: right;\">-0.0898357</td><td style=\"text-align: right;\">-0.0172932</td><td style=\"text-align: right;\">-0.0261528</td><td style=\"text-align: right;\">-0.0101418</td><td style=\"text-align: right;\"> 0.0518519 </td><td style=\"text-align: right;\">-0.0442426</td><td style=\"text-align: right;\">-0.0811379</td><td style=\"text-align: right;\">-0.0403576</td><td style=\"text-align: right;\">-0.247911</td><td style=\"text-align: right;\">0.0379989</td><td style=\"text-align: right;\">-0.134306 </td><td style=\"text-align: right;\">-0.0576566</td><td style=\"text-align: right;\">-0.00829652</td><td style=\"text-align: right;\">0.0178307</td><td style=\"text-align: right;\"> 0.000270571</td><td style=\"text-align: right;\">-0.0753186</td><td style=\"text-align: right;\"> 0.0370035</td><td style=\"text-align: right;\">-0.0824032</td><td style=\"text-align: right;\">-0.0772768</td><td style=\"text-align: right;\">-0.0890433</td><td style=\"text-align: right;\">0.135975 </td><td style=\"text-align: right;\">-0.00755732</td><td style=\"text-align: right;\"> 0.0192201 </td><td style=\"text-align: right;\"> 0.0319976 </td><td style=\"text-align: right;\">-0.169339 </td><td style=\"text-align: right;\">-0.012452 </td><td style=\"text-align: right;\">-0.0823149</td><td style=\"text-align: right;\">-0.00834568</td><td style=\"text-align: right;\">0.0610759</td><td style=\"text-align: right;\">-0.00135928</td><td style=\"text-align: right;\">-0.0396396</td><td style=\"text-align: right;\">-0.0361413</td><td style=\"text-align: right;\">0.0337494</td><td style=\"text-align: right;\">-0.151135</td><td style=\"text-align: right;\">-0.0915519</td><td style=\"text-align: right;\">-0.0675402</td><td style=\"text-align: right;\"> 0.0580742</td><td style=\"text-align: right;\">-0.0934196</td><td style=\"text-align: right;\">0.127513 </td><td style=\"text-align: right;\">-0.00919585</td><td style=\"text-align: right;\"> 0.051046  </td><td style=\"text-align: right;\">-0.029212 </td><td style=\"text-align: right;\">0.149176</td><td style=\"text-align: right;\">-0.0313857 </td></tr>\n",
       "<tr><td style=\"text-align: right;\">   3</td><td>2012-06-14 00:00:00</td><td>IESLBzqUCLdSzSqm0eCSxQ</td><td style=\"text-align: right;\">      4</td><td>review</td><td>0hT2KtfLiobPvh6cDC8JQg</td><td style=\"text-align: right;\">     0</td><td style=\"text-align: right;\">       1</td><td style=\"text-align: right;\">      0</td><td style=\"text-align: right;\">               1</td><td>Yes    </td><td style=\"text-align: right;\">0.106799  </td><td style=\"text-align: right;\">-0.0229191 </td><td style=\"text-align: right;\">-0.141101</td><td style=\"text-align: right;\">-0.14213  </td><td style=\"text-align: right;\"> 0.0116885</td><td style=\"text-align: right;\">-0.168027 </td><td style=\"text-align: right;\">0.0414774</td><td style=\"text-align: right;\">0.0247037</td><td style=\"text-align: right;\">0.176357 </td><td style=\"text-align: right;\">0.104611 </td><td style=\"text-align: right;\">-0.132004</td><td style=\"text-align: right;\">0.118546 </td><td style=\"text-align: right;\"> 0.0742827</td><td style=\"text-align: right;\">-0.0280291</td><td style=\"text-align: right;\">0.107955 </td><td style=\"text-align: right;\"> 0.0285146 </td><td style=\"text-align: right;\"> 0.158337  </td><td style=\"text-align: right;\">0.117471 </td><td style=\"text-align: right;\">0.0672271 </td><td style=\"text-align: right;\">-0.0319159</td><td style=\"text-align: right;\">0.0707075</td><td style=\"text-align: right;\">0.00209604</td><td style=\"text-align: right;\">-0.0865594</td><td style=\"text-align: right;\">0.154967 </td><td style=\"text-align: right;\">-0.0936793</td><td style=\"text-align: right;\">-0.112215 </td><td style=\"text-align: right;\"> 0.0205206</td><td style=\"text-align: right;\"> 0.0220109</td><td style=\"text-align: right;\">0.0499405</td><td style=\"text-align: right;\">0.233911</td><td style=\"text-align: right;\"> 0.0923438 </td><td style=\"text-align: right;\">-0.0354833</td><td style=\"text-align: right;\">-0.0217929</td><td style=\"text-align: right;\">0.030053 </td><td style=\"text-align: right;\">-0.0963186</td><td style=\"text-align: right;\"> 0.0362421</td><td style=\"text-align: right;\"> 0.0894352</td><td style=\"text-align: right;\">0.0581718</td><td style=\"text-align: right;\">0.15209  </td><td style=\"text-align: right;\">-0.127306  </td><td style=\"text-align: right;\">-0.0423213</td><td style=\"text-align: right;\">-0.044552 </td><td style=\"text-align: right;\">0.212969 </td><td style=\"text-align: right;\">-0.254531</td><td style=\"text-align: right;\">0.135731  </td><td style=\"text-align: right;\">-0.1482   </td><td style=\"text-align: right;\"> 0.0433305</td><td style=\"text-align: right;\">-0.0297662</td><td style=\"text-align: right;\">-0.0545842 </td><td style=\"text-align: right;\">-0.040827</td><td style=\"text-align: right;\">-0.0663244</td><td style=\"text-align: right;\">-0.139556  </td><td style=\"text-align: right;\">-0.0624151</td><td style=\"text-align: right;\">-0.0841503</td><td style=\"text-align: right;\"> 0.106131  </td><td style=\"text-align: right;\"> 0.0428485</td><td style=\"text-align: right;\">-0.25913  </td><td style=\"text-align: right;\">-0.0216093</td><td style=\"text-align: right;\">-0.0833018</td><td style=\"text-align: right;\">-0.124735 </td><td style=\"text-align: right;\">-0.0344872 </td><td style=\"text-align: right;\"> 0.0599681</td><td style=\"text-align: right;\">-0.0650236</td><td style=\"text-align: right;\">-0.179834 </td><td style=\"text-align: right;\">-0.251437</td><td style=\"text-align: right;\">0.0499608</td><td style=\"text-align: right;\">-0.0875035</td><td style=\"text-align: right;\">-0.0313834</td><td style=\"text-align: right;\"> 0.13659   </td><td style=\"text-align: right;\">0.06815  </td><td style=\"text-align: right;\">-0.00825899 </td><td style=\"text-align: right;\">-0.176989 </td><td style=\"text-align: right;\">-0.0187387</td><td style=\"text-align: right;\">-0.0960339</td><td style=\"text-align: right;\">-0.0215186</td><td style=\"text-align: right;\"> 0.0603519</td><td style=\"text-align: right;\">0.07431  </td><td style=\"text-align: right;\"> 0.0146937 </td><td style=\"text-align: right;\">-0.00427676</td><td style=\"text-align: right;\"> 0.0468974 </td><td style=\"text-align: right;\"> 0.105265 </td><td style=\"text-align: right;\">-0.0218014</td><td style=\"text-align: right;\">-0.0186733</td><td style=\"text-align: right;\">-0.0136735 </td><td style=\"text-align: right;\">0.0561323</td><td style=\"text-align: right;\">-0.0631116 </td><td style=\"text-align: right;\">-0.185539 </td><td style=\"text-align: right;\">-0.119507 </td><td style=\"text-align: right;\">0.0898278</td><td style=\"text-align: right;\">-0.210977</td><td style=\"text-align: right;\">-0.122169 </td><td style=\"text-align: right;\">-0.16925  </td><td style=\"text-align: right;\">-0.157575 </td><td style=\"text-align: right;\">-0.10246  </td><td style=\"text-align: right;\">0.0645169</td><td style=\"text-align: right;\"> 0.0173412 </td><td style=\"text-align: right;\"> 0.159447  </td><td style=\"text-align: right;\"> 0.0624964</td><td style=\"text-align: right;\">0.243851</td><td style=\"text-align: right;\"> 0.0242383 </td></tr>\n",
       "</tbody>\n",
       "</table>"
      ]
     },
     "metadata": {},
     "output_type": "display_data"
    },
    {
     "data": {
      "text/plain": []
     },
     "execution_count": 27,
     "metadata": {},
     "output_type": "execute_result"
    }
   ],
   "source": [
    "ext_reviews.head(3)"
   ]
  },
  {
   "cell_type": "code",
   "execution_count": 28,
   "metadata": {},
   "outputs": [],
   "source": [
    "ext_train = ext_reviews[ext_reviews[\"Train\"] == \"Yes\"]\n",
    "ext_test = ext_reviews[ext_reviews[\"Train\"] == \"No\"]"
   ]
  },
  {
   "cell_type": "code",
   "execution_count": 29,
   "metadata": {},
   "outputs": [],
   "source": [
    "predictors = ['date','review_id','user_id','cool','useful','funny'] + review_vecs.names\n",
    "response = 'PositiveReview'"
   ]
  },
  {
   "cell_type": "markdown",
   "metadata": {},
   "source": [
    "## 1.5 Leaderboard"
   ]
  },
  {
   "cell_type": "code",
   "execution_count": 90,
   "metadata": {},
   "outputs": [],
   "source": [
    "aml = H2OAutoML()"
   ]
  },
  {
   "cell_type": "code",
   "execution_count": 92,
   "metadata": {},
   "outputs": [
    {
     "name": "stdout",
     "output_type": "stream",
     "text": [
      "AutoML progress: |████████████████████████████████████████████████████████| 100%\n"
     ]
    }
   ],
   "source": [
    "aml.train(x=predictors,y=response,training_frame=ext_test)"
   ]
  },
  {
   "cell_type": "code",
   "execution_count": 93,
   "metadata": {},
   "outputs": [
    {
     "data": {
      "text/html": [
       "<table>\n",
       "<thead>\n",
       "<tr><th>model_id                                          </th><th style=\"text-align: right;\">     auc</th><th style=\"text-align: right;\">  logloss</th><th style=\"text-align: right;\">  mean_per_class_error</th><th style=\"text-align: right;\">    rmse</th><th style=\"text-align: right;\">     mse</th></tr>\n",
       "</thead>\n",
       "<tbody>\n",
       "<tr><td>XGBoost_1_AutoML_20190426_140523                  </td><td style=\"text-align: right;\">0.846889</td><td style=\"text-align: right;\"> 0.436274</td><td style=\"text-align: right;\">              0.275104</td><td style=\"text-align: right;\">0.374472</td><td style=\"text-align: right;\">0.140229</td></tr>\n",
       "<tr><td>GLM_grid_1_AutoML_20190426_140523_model_1         </td><td style=\"text-align: right;\">0.84419 </td><td style=\"text-align: right;\"> 0.44428 </td><td style=\"text-align: right;\">              0.271968</td><td style=\"text-align: right;\">0.376596</td><td style=\"text-align: right;\">0.141824</td></tr>\n",
       "<tr><td>XGBoost_grid_1_AutoML_20190426_140523_model_8     </td><td style=\"text-align: right;\">0.843375</td><td style=\"text-align: right;\"> 0.440441</td><td style=\"text-align: right;\">              0.260929</td><td style=\"text-align: right;\">0.377569</td><td style=\"text-align: right;\">0.142559</td></tr>\n",
       "<tr><td>DeepLearning_grid_1_AutoML_20190426_140523_model_1</td><td style=\"text-align: right;\">0.841085</td><td style=\"text-align: right;\"> 0.466155</td><td style=\"text-align: right;\">              0.280023</td><td style=\"text-align: right;\">0.382047</td><td style=\"text-align: right;\">0.14596 </td></tr>\n",
       "<tr><td>XGBoost_2_AutoML_20190426_140523                  </td><td style=\"text-align: right;\">0.840194</td><td style=\"text-align: right;\"> 0.448026</td><td style=\"text-align: right;\">              0.32472 </td><td style=\"text-align: right;\">0.380326</td><td style=\"text-align: right;\">0.144648</td></tr>\n",
       "<tr><td>XGBoost_grid_1_AutoML_20190426_140523_model_10    </td><td style=\"text-align: right;\">0.839452</td><td style=\"text-align: right;\"> 0.450697</td><td style=\"text-align: right;\">              0.317931</td><td style=\"text-align: right;\">0.380994</td><td style=\"text-align: right;\">0.145157</td></tr>\n",
       "<tr><td>XGBoost_grid_1_AutoML_20190426_140523_model_3     </td><td style=\"text-align: right;\">0.83757 </td><td style=\"text-align: right;\"> 0.455414</td><td style=\"text-align: right;\">              0.298487</td><td style=\"text-align: right;\">0.383773</td><td style=\"text-align: right;\">0.147282</td></tr>\n",
       "<tr><td>XGBoost_3_AutoML_20190426_140523                  </td><td style=\"text-align: right;\">0.837124</td><td style=\"text-align: right;\"> 0.45012 </td><td style=\"text-align: right;\">              0.307592</td><td style=\"text-align: right;\">0.381667</td><td style=\"text-align: right;\">0.14567 </td></tr>\n",
       "<tr><td>GBM_5_AutoML_20190426_140523                      </td><td style=\"text-align: right;\">0.836641</td><td style=\"text-align: right;\"> 0.452982</td><td style=\"text-align: right;\">              0.327585</td><td style=\"text-align: right;\">0.383299</td><td style=\"text-align: right;\">0.146918</td></tr>\n",
       "<tr><td>XGBoost_grid_1_AutoML_20190426_140523_model_2     </td><td style=\"text-align: right;\">0.836577</td><td style=\"text-align: right;\"> 0.455647</td><td style=\"text-align: right;\">              0.303127</td><td style=\"text-align: right;\">0.383852</td><td style=\"text-align: right;\">0.147342</td></tr>\n",
       "</tbody>\n",
       "</table>"
      ]
     },
     "metadata": {},
     "output_type": "display_data"
    },
    {
     "name": "stdout",
     "output_type": "stream",
     "text": [
      "\n"
     ]
    }
   ],
   "source": [
    "print(aml.leaderboard)"
   ]
  },
  {
   "cell_type": "markdown",
   "metadata": {},
   "source": [
    "# 2 Training Models"
   ]
  },
  {
   "cell_type": "markdown",
   "metadata": {},
   "source": [
    "## 2.1 Generalized Linear Model"
   ]
  },
  {
   "cell_type": "markdown",
   "metadata": {},
   "source": [
    "### 2.1.1 Train & Fit Model"
   ]
  },
  {
   "cell_type": "code",
   "execution_count": 71,
   "metadata": {},
   "outputs": [
    {
     "name": "stdout",
     "output_type": "stream",
     "text": [
      "glm Model Build progress: |███████████████████████████████████████████████| 100%\n"
     ]
    }
   ],
   "source": [
    "# Initialize\n",
    "local_glm_plus = H2OGeneralizedLinearEstimator(family='binomial', model_id='glm_surrogate', lambda_search=True)\n",
    "# train \n",
    "local_glm_plus.train(x=predictors, y=response, training_frame=ext_train)"
   ]
  },
  {
   "cell_type": "markdown",
   "metadata": {},
   "source": [
    "### 2.1.2 Interpretability"
   ]
  },
  {
   "cell_type": "markdown",
   "metadata": {},
   "source": [
    "#### Variable Importance"
   ]
  },
  {
   "cell_type": "code",
   "execution_count": 72,
   "metadata": {},
   "outputs": [
    {
     "data": {
      "image/png": "[encoded data removed]",
      "text/plain": [
       "<Figure size 1008x720 with 1 Axes>"
      ]
     },
     "metadata": {
      "needs_background": "light"
     },
     "output_type": "display_data"
    }
   ],
   "source": [
    "local_glm_plus.varimp_plot()"
   ]
  },
  {
   "cell_type": "markdown",
   "metadata": {},
   "source": [
    "#### Partial Dependence Plot (PDP)"
   ]
  },
  {
   "cell_type": "code",
   "execution_count": 81,
   "metadata": {},
   "outputs": [
    {
     "name": "stdout",
     "output_type": "stream",
     "text": [
      "PartialDependencePlot progress: |█████████████████████████████████████████| 100%\n"
     ]
    },
    {
     "data": {
      "image/png": "[encoded data removed]",
      "text/plain": [
       "<Figure size 504x720 with 1 Axes>"
      ]
     },
     "metadata": {
      "needs_background": "light"
     },
     "output_type": "display_data"
    }
   ],
   "source": [
    "pdp_local_linear_plus = local_glm_plus.partial_plot(data = ext_train, cols = [\"cool\"])"
   ]
  },
  {
   "cell_type": "markdown",
   "metadata": {},
   "source": [
    "#### Individual Conditional Expectation (ICE)"
   ]
  },
  {
   "cell_type": "code",
   "execution_count": 39,
   "metadata": {},
   "outputs": [
    {
     "name": "stdout",
     "output_type": "stream",
     "text": [
      "Parse progress: |█████████████████████████████████████████████████████████| 100%\n",
      "glm prediction progress: |████████████████████████████████████████████████| 100%\n"
     ]
    }
   ],
   "source": [
    "cool_ice_df = ice(data=ext_test, column='cool', model=local_glm_plus)"
   ]
  },
  {
   "cell_type": "code",
   "execution_count": 40,
   "metadata": {
    "scrolled": false
   },
   "outputs": [
    {
     "data": {
      "image/png": "[encoded data removed]",
      "text/plain": [
       "<Figure size 1008x792 with 2 Axes>"
      ]
     },
     "metadata": {
      "needs_background": "light"
     },
     "output_type": "display_data"
    }
   ],
   "source": [
    "ice_plot(cool_ice_df, linewidth=0.5, color_by='Id', cmap='coolwarm',\n",
    "        plot_pdp=True, pdp_kwargs={'c': 'k', 'linewidth': 3})\n",
    "vals = cool_ice_df.columns.get_level_values('Id').values\n",
    "sm = plt.cm.ScalarMappable(cmap='coolwarm', norm=plt.Normalize(vmin=vals.min(), vmax=vals.max()))\n",
    "sm._A = []\n",
    "plt.colorbar(sm, label='Id')\n",
    "plt.ylabel('Pred. AV %ile')\n",
    "plt.xlabel('cool');"
   ]
  },
  {
   "cell_type": "markdown",
   "metadata": {},
   "source": [
    "### 2.1.3 Matrix"
   ]
  },
  {
   "cell_type": "code",
   "execution_count": 41,
   "metadata": {},
   "outputs": [
    {
     "name": "stdout",
     "output_type": "stream",
     "text": [
      "\n",
      "Local GLM Coefficients:\n",
      "C79:                      -5.018925505102411\n",
      "C57:                      -4.644016082846337\n",
      "C41:                      -3.878943522779333\n",
      "C60:                      -3.5380527217071758\n",
      "C8:                       -3.5320296316417052\n",
      "C56:                      -3.5291116491948458\n",
      "C63:                      -2.795024660672351\n",
      "C45:                      -2.5072228961521676\n",
      "C77:                      -2.4424988538820256\n",
      "C64:                      -2.350217340582202\n",
      "C18:                      -2.1559747144246257\n",
      "C71:                      -2.0820763289959894\n",
      "C31:                      -2.070175151884911\n",
      "C5:                       -1.9937596154786532\n",
      "C73:                      -1.9482301970044602\n",
      "C39:                      -1.8800649674481873\n",
      "C94:                      -1.869277240029466\n",
      "C14:                      -1.7688666222541425\n",
      "C100:                     -1.7632479917523838\n",
      "C28:                      -1.5875909568990183\n",
      "C88:                      -1.5156756235278732\n",
      "C69:                      -1.1406926282090912\n",
      "user_id.fczQCSmaWF78toLEmb0Zsw: -1.1110106344877169\n",
      "C19:                      -1.0904553812907343\n",
      "C32:                      -0.7176208703866809\n",
      "C7:                       -0.6869439610295494\n",
      "C46:                      -0.6217167614468501\n",
      "C75:                      -0.5346385301191888\n",
      "C3:                       -0.50278587873823\n",
      "C99:                      -0.3898386978414276\n",
      "C11:                      -0.2989818642968408\n",
      "funny:                    -0.17288981368685458\n",
      "useful:                   -0.11061874451015238\n",
      "C27:                      -0.09629239922693454\n",
      "C87:                      -0.09547572415528903\n",
      "C89:                      -0.0768356409292549\n",
      "C82:                      -0.03721980125102483\n",
      "C52:                      -0.03667192514840263\n",
      "C24:                      -0.03176722644739944\n",
      "date:                     4.847044966885466e-14\n",
      "C97:                      0.05558650072476078\n",
      "C22:                      0.12936962261884358\n",
      "C91:                      0.144815382218925\n",
      "cool:                     0.35226119283416735\n",
      "C61:                      0.36385588516798556\n",
      "Intercept:                0.4032689783160389\n",
      "C26:                      0.4641640357138388\n",
      "C54:                      0.5106084661594232\n",
      "C44:                      0.7553362182666102\n",
      "C67:                      0.8108793527527715\n",
      "C43:                      0.8618824189788714\n",
      "C4:                       0.9292350520057298\n",
      "C21:                      1.00973310019791\n",
      "C58:                      1.092905481465508\n",
      "C12:                      1.1174752440904268\n",
      "C47:                      1.2015070717617657\n",
      "C66:                      1.2054554684718173\n",
      "C20:                      1.216121487290742\n",
      "C95:                      1.2823107015554085\n",
      "C68:                      1.3052078136065177\n",
      "C84:                      1.3218629368478712\n",
      "C62:                      1.3235832596567534\n",
      "C72:                      1.6257180753145248\n",
      "C33:                      1.6550800031907713\n",
      "C36:                      1.8205031738610118\n",
      "C48:                      1.8330479274652771\n",
      "C81:                      1.8910365071612805\n",
      "C42:                      1.8962973700282149\n",
      "C93:                      1.9232043624250799\n",
      "C40:                      1.9444123548983732\n",
      "C90:                      2.2841290181492644\n",
      "C98:                      2.4088549089445044\n",
      "C70:                      2.536408909817701\n",
      "C16:                      2.563553019272578\n",
      "C85:                      2.5663995053991595\n",
      "C76:                      2.663099428528668\n",
      "C35:                      2.834828609771225\n",
      "C2:                       2.862676245422924\n",
      "C83:                      2.8704512378780955\n",
      "C13:                      2.9616164412968935\n",
      "C25:                      3.291022494216098\n",
      "C74:                      3.362097941420352\n",
      "C37:                      3.4931992513665833\n",
      "C96:                      3.513221171435621\n",
      "C78:                      3.6692328554401428\n",
      "C55:                      4.010816823260895\n",
      "C92:                      4.042594822176366\n",
      "C86:                      4.223601862406334\n",
      "C1:                       4.320939837632764\n",
      "C53:                      4.4518901854270565\n",
      "C29:                      4.637415537428451\n",
      "C23:                      4.884620073420407\n",
      "C10:                      4.897270054880323\n",
      "C49:                      5.037391035586386\n",
      "C30:                      6.4983402576081515\n",
      "C34:                      6.8098970113700785\n"
     ]
    }
   ],
   "source": [
    "print('\\nLocal GLM Coefficients:')\n",
    "for c_name, c_val in sorted(local_glm_plus.coef().items(), key=operator.itemgetter(1)):\n",
    "    if c_val != 0.0:\n",
    "        print('%s %s' % (str(c_name + ':').ljust(25), c_val))"
   ]
  },
  {
   "cell_type": "code",
   "execution_count": 42,
   "metadata": {},
   "outputs": [
    {
     "data": {
      "text/plain": [
       "{'train': 0.3984611909068989, 'valid': None}"
      ]
     },
     "execution_count": 42,
     "metadata": {},
     "output_type": "execute_result"
    }
   ],
   "source": [
    "local_glm_plus.r2(train=True, valid=True)"
   ]
  },
  {
   "cell_type": "code",
   "execution_count": 43,
   "metadata": {},
   "outputs": [
    {
     "data": {
      "text/plain": [
       "0.8728432206966407"
      ]
     },
     "execution_count": 43,
     "metadata": {},
     "output_type": "execute_result"
    }
   ],
   "source": [
    "local_glm_plus.auc()"
   ]
  },
  {
   "cell_type": "code",
   "execution_count": 44,
   "metadata": {},
   "outputs": [
    {
     "name": "stdout",
     "output_type": "stream",
     "text": [
      "Confusion Matrix (Act/Pred) for max f1 @ threshold = 0.5361433357375776: \n"
     ]
    },
    {
     "data": {
      "text/html": [
       "<div style=\"overflow:auto\"><table style=\"width:50%\"><tr><td><b></b></td>\n",
       "<td><b>0</b></td>\n",
       "<td><b>1</b></td>\n",
       "<td><b>Error</b></td>\n",
       "<td><b>Rate</b></td></tr>\n",
       "<tr><td>0</td>\n",
       "<td>1762.0</td>\n",
       "<td>838.0</td>\n",
       "<td>0.3223</td>\n",
       "<td> (838.0/2600.0)</td></tr>\n",
       "<tr><td>1</td>\n",
       "<td>635.0</td>\n",
       "<td>4833.0</td>\n",
       "<td>0.1161</td>\n",
       "<td> (635.0/5468.0)</td></tr>\n",
       "<tr><td>Total</td>\n",
       "<td>2397.0</td>\n",
       "<td>5671.0</td>\n",
       "<td>0.1826</td>\n",
       "<td> (1473.0/8068.0)</td></tr></table></div>"
      ],
      "text/plain": [
       "       0     1     Error    Rate\n",
       "-----  ----  ----  -------  ---------------\n",
       "0      1762  838   0.3223   (838.0/2600.0)\n",
       "1      635   4833  0.1161   (635.0/5468.0)\n",
       "Total  2397  5671  0.1826   (1473.0/8068.0)"
      ]
     },
     "metadata": {},
     "output_type": "display_data"
    },
    {
     "data": {
      "text/plain": []
     },
     "execution_count": 44,
     "metadata": {},
     "output_type": "execute_result"
    }
   ],
   "source": [
    "local_glm_plus.confusion_matrix()"
   ]
  },
  {
   "cell_type": "markdown",
   "metadata": {},
   "source": [
    "## 2.2 Logistic Regression"
   ]
  },
  {
   "cell_type": "markdown",
   "metadata": {},
   "source": [
    "### 2.2.1 Train & Fit Model"
   ]
  },
  {
   "cell_type": "code",
   "execution_count": 79,
   "metadata": {},
   "outputs": [
    {
     "name": "stdout",
     "output_type": "stream",
     "text": [
      "glm Model Build progress: |███████████████████████████████████████████████| 100%\n"
     ]
    }
   ],
   "source": [
    "glm_logistic_plus_summary = H2OGeneralizedLinearEstimator(family = \"binomial\")\n",
    "glm_logistic_plus_summary.train(x=predictors, \n",
    "                               y= response, \n",
    "                               training_frame = ext_train, \n",
    "                               validation_frame = ext_test, \n",
    "                               model_id=\"glm_logistic\")"
   ]
  },
  {
   "cell_type": "markdown",
   "metadata": {},
   "source": [
    "### 2.2.2 Interpretability"
   ]
  },
  {
   "cell_type": "markdown",
   "metadata": {},
   "source": [
    "#### Variable Importance"
   ]
  },
  {
   "cell_type": "code",
   "execution_count": 80,
   "metadata": {},
   "outputs": [
    {
     "data": {
      "image/png": "[encoded data removed]",
      "text/plain": [
       "<Figure size 1008x720 with 1 Axes>"
      ]
     },
     "metadata": {
      "needs_background": "light"
     },
     "output_type": "display_data"
    }
   ],
   "source": [
    "glm_logistic_plus_summary.varimp_plot()"
   ]
  },
  {
   "cell_type": "markdown",
   "metadata": {},
   "source": [
    "#### Partial Dependence Plot (PDP)"
   ]
  },
  {
   "cell_type": "code",
   "execution_count": 81,
   "metadata": {},
   "outputs": [
    {
     "name": "stdout",
     "output_type": "stream",
     "text": [
      "PartialDependencePlot progress: |█████████████████████████████████████████| 100%\n"
     ]
    },
    {
     "data": {
      "image/png": "[encoded data removed]",
      "text/plain": [
       "<Figure size 504x720 with 1 Axes>"
      ]
     },
     "metadata": {
      "needs_background": "light"
     },
     "output_type": "display_data"
    }
   ],
   "source": [
    "pdp_word_vecs = glm_logistic_plus_summary.partial_plot(data = ext_train, cols = [\"C77\"])"
   ]
  },
  {
   "cell_type": "markdown",
   "metadata": {},
   "source": [
    "#### Individual Conditional Expectation (ICE)"
   ]
  },
  {
   "cell_type": "code",
   "execution_count": 85,
   "metadata": {},
   "outputs": [
    {
     "name": "stdout",
     "output_type": "stream",
     "text": [
      "Parse progress: |█████████████████████████████████████████████████████████| 100%\n"
     ]
    }
   ],
   "source": [
    "ext_train_lice = h2o.H2OFrame(ext_train.as_data_frame().iloc[::25])"
   ]
  },
  {
   "cell_type": "code",
   "execution_count": 87,
   "metadata": {},
   "outputs": [
    {
     "name": "stdout",
     "output_type": "stream",
     "text": [
      "Parse progress: |█████████████████████████████████████████████████████████| 100%\n",
      "glm prediction progress: |████████████████████████████████████████████████| 100%\n"
     ]
    }
   ],
   "source": [
    "C77_ice_df = ice(data=ext_train_lice, column='C77', model=glm_logistic_plus_summary)"
   ]
  },
  {
   "cell_type": "code",
   "execution_count": 88,
   "metadata": {},
   "outputs": [
    {
     "data": {
      "image/png": "[encoded data removed]",
      "text/plain": [
       "<Figure size 1008x792 with 2 Axes>"
      ]
     },
     "metadata": {
      "needs_background": "light"
     },
     "output_type": "display_data"
    }
   ],
   "source": [
    "ice_plot(C77_ice_df, linewidth=0.5, color_by='Id', cmap='coolwarm',\n",
    "        plot_pdp=True, pdp_kwargs={'c': 'k', 'linewidth': 3})\n",
    "vals = C77_ice_df.columns.get_level_values('Id').values\n",
    "sm = plt.cm.ScalarMappable(cmap='coolwarm', norm=plt.Normalize(vmin=vals.min(), vmax=vals.max()))\n",
    "sm._A = []\n",
    "plt.colorbar(sm, label='Id')\n",
    "plt.ylabel('Pred. AV %ile')\n",
    "plt.xlabel('C77');"
   ]
  },
  {
   "cell_type": "markdown",
   "metadata": {},
   "source": [
    "### 2.2.3 Matrix"
   ]
  },
  {
   "cell_type": "code",
   "execution_count": 44,
   "metadata": {},
   "outputs": [
    {
     "name": "stdout",
     "output_type": "stream",
     "text": [
      "With Summary and Review Embeddings AUC: 0.842\n"
     ]
    }
   ],
   "source": [
    "print(\"With Summary and Review Embeddings AUC: \" + str(round(glm_logistic_plus_summary.auc(valid = True), 3)))"
   ]
  },
  {
   "cell_type": "code",
   "execution_count": 45,
   "metadata": {},
   "outputs": [
    {
     "name": "stdout",
     "output_type": "stream",
     "text": [
      "Confusion Matrix (Act/Pred) for max f1 @ threshold = 0.5070642821523546: \n"
     ]
    },
    {
     "data": {
      "text/html": [
       "<div style=\"overflow:auto\"><table style=\"width:50%\"><tr><td><b></b></td>\n",
       "<td><b>0</b></td>\n",
       "<td><b>1</b></td>\n",
       "<td><b>Error</b></td>\n",
       "<td><b>Rate</b></td></tr>\n",
       "<tr><td>0</td>\n",
       "<td>336.0</td>\n",
       "<td>286.0</td>\n",
       "<td>0.4598</td>\n",
       "<td> (286.0/622.0)</td></tr>\n",
       "<tr><td>1</td>\n",
       "<td>121.0</td>\n",
       "<td>1275.0</td>\n",
       "<td>0.0867</td>\n",
       "<td> (121.0/1396.0)</td></tr>\n",
       "<tr><td>Total</td>\n",
       "<td>457.0</td>\n",
       "<td>1561.0</td>\n",
       "<td>0.2017</td>\n",
       "<td> (407.0/2018.0)</td></tr></table></div>"
      ],
      "text/plain": [
       "       0    1     Error    Rate\n",
       "-----  ---  ----  -------  --------------\n",
       "0      336  286   0.4598   (286.0/622.0)\n",
       "1      121  1275  0.0867   (121.0/1396.0)\n",
       "Total  457  1561  0.2017   (407.0/2018.0)"
      ]
     },
     "metadata": {},
     "output_type": "display_data"
    },
    {
     "data": {
      "text/plain": []
     },
     "execution_count": 45,
     "metadata": {},
     "output_type": "execute_result"
    }
   ],
   "source": [
    "glm_logistic_plus_summary.confusion_matrix(valid = True)"
   ]
  },
  {
   "cell_type": "code",
   "execution_count": 46,
   "metadata": {},
   "outputs": [
    {
     "name": "stdout",
     "output_type": "stream",
     "text": [
      "Confusion Matrix (Act/Pred) for max f1 @ threshold = 0.5070642821523546: \n"
     ]
    },
    {
     "data": {
      "text/html": [
       "<div style=\"overflow:auto\"><table style=\"width:50%\"><tr><td><b></b></td>\n",
       "<td><b>0</b></td>\n",
       "<td><b>1</b></td>\n",
       "<td><b>Error</b></td>\n",
       "<td><b>Rate</b></td></tr>\n",
       "<tr><td>0</td>\n",
       "<td>336.0</td>\n",
       "<td>286.0</td>\n",
       "<td>0.4598</td>\n",
       "<td> (286.0/622.0)</td></tr>\n",
       "<tr><td>1</td>\n",
       "<td>121.0</td>\n",
       "<td>1275.0</td>\n",
       "<td>0.0867</td>\n",
       "<td> (121.0/1396.0)</td></tr>\n",
       "<tr><td>Total</td>\n",
       "<td>457.0</td>\n",
       "<td>1561.0</td>\n",
       "<td>0.2017</td>\n",
       "<td> (407.0/2018.0)</td></tr></table></div>"
      ],
      "text/plain": [
       "       0    1     Error    Rate\n",
       "-----  ---  ----  -------  --------------\n",
       "0      336  286   0.4598   (286.0/622.0)\n",
       "1      121  1275  0.0867   (121.0/1396.0)\n",
       "Total  457  1561  0.2017   (407.0/2018.0)"
      ]
     },
     "metadata": {},
     "output_type": "display_data"
    },
    {
     "data": {
      "text/plain": []
     },
     "execution_count": 46,
     "metadata": {},
     "output_type": "execute_result"
    }
   ],
   "source": [
    "glm_logistic_plus_summary.confusion_matrix(valid = True)"
   ]
  },
  {
   "cell_type": "markdown",
   "metadata": {},
   "source": [
    "## 2.3 Decision Tree"
   ]
  },
  {
   "cell_type": "markdown",
   "metadata": {},
   "source": [
    "### 2.3.1 Train & Fit Model"
   ]
  },
  {
   "cell_type": "code",
   "execution_count": 35,
   "metadata": {},
   "outputs": [
    {
     "name": "stdout",
     "output_type": "stream",
     "text": [
      "gbm Model Build progress: |███████████████████████████████████████████████| 100%\n"
     ]
    }
   ],
   "source": [
    "# initialize single tree surrogate model\n",
    "model_id = 'dt_surrogate_mojo'\n",
    "\n",
    "# train single tree surrogate model\n",
    "surrogate = H2OGradientBoostingEstimator(ntrees=1,\n",
    "                                         sample_rate=1,\n",
    "                                         col_sample_rate=1,\n",
    "                                         max_depth=3,\n",
    "                                         seed=12345,\n",
    "                                         model_id=model_id)\n",
    "\n",
    "_ = surrogate.train(x=predictors, y=response, training_frame=ext_train)"
   ]
  },
  {
   "cell_type": "code",
   "execution_count": 36,
   "metadata": {},
   "outputs": [
    {
     "name": "stdout",
     "output_type": "stream",
     "text": [
      "Model Details\n",
      "=============\n",
      "H2OGradientBoostingEstimator :  Gradient Boosting Machine\n",
      "Model Key:  dt_surrogate_mojo\n",
      "\n",
      "\n",
      "ModelMetricsBinomial: gbm\n",
      "** Reported on train data. **\n",
      "\n",
      "MSE: 0.21089871882753441\n",
      "RMSE: 0.4592371052381704\n",
      "LogLoss: 0.6115536861708426\n",
      "Mean Per-Class Error: 0.3109642113555793\n",
      "AUC: 0.7449350416408755\n",
      "pr_auc: 0.6030539354482377\n",
      "Gini: 0.4898700832817511\n",
      "Confusion Matrix (Act/Pred) for max f1 @ threshold = 0.6581554587218695: \n"
     ]
    },
    {
     "data": {
      "text/html": [
       "<div style=\"overflow:auto\"><table style=\"width:50%\"><tr><td><b></b></td>\n",
       "<td><b>0</b></td>\n",
       "<td><b>1</b></td>\n",
       "<td><b>Error</b></td>\n",
       "<td><b>Rate</b></td></tr>\n",
       "<tr><td>0</td>\n",
       "<td>637.0</td>\n",
       "<td>1963.0</td>\n",
       "<td>0.755</td>\n",
       "<td> (1963.0/2600.0)</td></tr>\n",
       "<tr><td>1</td>\n",
       "<td>227.0</td>\n",
       "<td>5241.0</td>\n",
       "<td>0.0415</td>\n",
       "<td> (227.0/5468.0)</td></tr>\n",
       "<tr><td>Total</td>\n",
       "<td>864.0</td>\n",
       "<td>7204.0</td>\n",
       "<td>0.2714</td>\n",
       "<td> (2190.0/8068.0)</td></tr></table></div>"
      ],
      "text/plain": [
       "       0    1     Error    Rate\n",
       "-----  ---  ----  -------  ---------------\n",
       "0      637  1963  0.755    (1963.0/2600.0)\n",
       "1      227  5241  0.0415   (227.0/5468.0)\n",
       "Total  864  7204  0.2714   (2190.0/8068.0)"
      ]
     },
     "metadata": {},
     "output_type": "display_data"
    },
    {
     "name": "stdout",
     "output_type": "stream",
     "text": [
      "Maximum Metrics: Maximum metrics at their respective thresholds\n",
      "\n"
     ]
    },
    {
     "data": {
      "text/html": [
       "<div style=\"overflow:auto\"><table style=\"width:50%\"><tr><td><b>metric</b></td>\n",
       "<td><b>threshold</b></td>\n",
       "<td><b>value</b></td>\n",
       "<td><b>idx</b></td></tr>\n",
       "<tr><td>max f1</td>\n",
       "<td>0.6581555</td>\n",
       "<td>0.8271780</td>\n",
       "<td>6.0</td></tr>\n",
       "<tr><td>max f2</td>\n",
       "<td>0.6349211</td>\n",
       "<td>0.9131597</td>\n",
       "<td>7.0</td></tr>\n",
       "<tr><td>max f0point5</td>\n",
       "<td>0.6828912</td>\n",
       "<td>0.7990986</td>\n",
       "<td>3.0</td></tr>\n",
       "<tr><td>max accuracy</td>\n",
       "<td>0.6599247</td>\n",
       "<td>0.7293009</td>\n",
       "<td>5.0</td></tr>\n",
       "<tr><td>max precision</td>\n",
       "<td>0.7008214</td>\n",
       "<td>0.9132075</td>\n",
       "<td>0.0</td></tr>\n",
       "<tr><td>max recall</td>\n",
       "<td>0.6349211</td>\n",
       "<td>1.0</td>\n",
       "<td>7.0</td></tr>\n",
       "<tr><td>max specificity</td>\n",
       "<td>0.7008214</td>\n",
       "<td>0.9469231</td>\n",
       "<td>0.0</td></tr>\n",
       "<tr><td>max absolute_mcc</td>\n",
       "<td>0.6828912</td>\n",
       "<td>0.3755650</td>\n",
       "<td>3.0</td></tr>\n",
       "<tr><td>max min_per_class_accuracy</td>\n",
       "<td>0.6828912</td>\n",
       "<td>0.5869231</td>\n",
       "<td>3.0</td></tr>\n",
       "<tr><td>max mean_per_class_accuracy</td>\n",
       "<td>0.6828912</td>\n",
       "<td>0.6890358</td>\n",
       "<td>3.0</td></tr></table></div>"
      ],
      "text/plain": [
       "metric                       threshold    value     idx\n",
       "---------------------------  -----------  --------  -----\n",
       "max f1                       0.658155     0.827178  6\n",
       "max f2                       0.634921     0.91316   7\n",
       "max f0point5                 0.682891     0.799099  3\n",
       "max accuracy                 0.659925     0.729301  5\n",
       "max precision                0.700821     0.913208  0\n",
       "max recall                   0.634921     1         7\n",
       "max specificity              0.700821     0.946923  0\n",
       "max absolute_mcc             0.682891     0.375565  3\n",
       "max min_per_class_accuracy   0.682891     0.586923  3\n",
       "max mean_per_class_accuracy  0.682891     0.689036  3"
      ]
     },
     "metadata": {},
     "output_type": "display_data"
    },
    {
     "name": "stdout",
     "output_type": "stream",
     "text": [
      "Gains/Lift Table: Avg response rate: 67.77 %, avg score: 67.74 %\n",
      "\n"
     ]
    },
    {
     "data": {
      "text/html": [
       "<div style=\"overflow:auto\"><table style=\"width:50%\"><tr><td><b></b></td>\n",
       "<td><b>group</b></td>\n",
       "<td><b>cumulative_data_fraction</b></td>\n",
       "<td><b>lower_threshold</b></td>\n",
       "<td><b>lift</b></td>\n",
       "<td><b>cumulative_lift</b></td>\n",
       "<td><b>response_rate</b></td>\n",
       "<td><b>score</b></td>\n",
       "<td><b>cumulative_response_rate</b></td>\n",
       "<td><b>cumulative_score</b></td>\n",
       "<td><b>capture_rate</b></td>\n",
       "<td><b>cumulative_capture_rate</b></td>\n",
       "<td><b>gain</b></td>\n",
       "<td><b>cumulative_gain</b></td></tr>\n",
       "<tr><td></td>\n",
       "<td>1</td>\n",
       "<td>0.1970749</td>\n",
       "<td>0.7008214</td>\n",
       "<td>1.3474321</td>\n",
       "<td>1.3474321</td>\n",
       "<td>0.9132075</td>\n",
       "<td>0.7008214</td>\n",
       "<td>0.9132075</td>\n",
       "<td>0.7008214</td>\n",
       "<td>0.2655450</td>\n",
       "<td>0.2655450</td>\n",
       "<td>34.7432058</td>\n",
       "<td>34.7432058</td></tr>\n",
       "<tr><td></td>\n",
       "<td>2</td>\n",
       "<td>0.3365146</td>\n",
       "<td>0.6898417</td>\n",
       "<td>1.1803950</td>\n",
       "<td>1.2782178</td>\n",
       "<td>0.8</td>\n",
       "<td>0.6898417</td>\n",
       "<td>0.8662983</td>\n",
       "<td>0.6962718</td>\n",
       "<td>0.1645940</td>\n",
       "<td>0.4301390</td>\n",
       "<td>18.0395026</td>\n",
       "<td>27.8217818</td></tr>\n",
       "<tr><td></td>\n",
       "<td>3</td>\n",
       "<td>0.4292266</td>\n",
       "<td>0.6849224</td>\n",
       "<td>1.1066203</td>\n",
       "<td>1.2411532</td>\n",
       "<td>0.75</td>\n",
       "<td>0.6849224</td>\n",
       "<td>0.8411782</td>\n",
       "<td>0.6938204</td>\n",
       "<td>0.1025969</td>\n",
       "<td>0.5327359</td>\n",
       "<td>10.6620337</td>\n",
       "<td>24.1153158</td></tr>\n",
       "<tr><td></td>\n",
       "<td>4</td>\n",
       "<td>0.6693109</td>\n",
       "<td>0.6828912</td>\n",
       "<td>1.0763411</td>\n",
       "<td>1.1820345</td>\n",
       "<td>0.7294786</td>\n",
       "<td>0.6828912</td>\n",
       "<td>0.8011111</td>\n",
       "<td>0.6899000</td>\n",
       "<td>0.2584126</td>\n",
       "<td>0.7911485</td>\n",
       "<td>7.6341102</td>\n",
       "<td>18.2034463</td></tr>\n",
       "<tr><td></td>\n",
       "<td>5</td>\n",
       "<td>0.7471492</td>\n",
       "<td>0.6620022</td>\n",
       "<td>0.7706401</td>\n",
       "<td>1.1391752</td>\n",
       "<td>0.5222930</td>\n",
       "<td>0.6620022</td>\n",
       "<td>0.7720637</td>\n",
       "<td>0.6869936</td>\n",
       "<td>0.0599854</td>\n",
       "<td>0.8511339</td>\n",
       "<td>-22.9359936</td>\n",
       "<td>13.9175193</td></tr>\n",
       "<tr><td></td>\n",
       "<td>6</td>\n",
       "<td>0.8683689</td>\n",
       "<td>0.6599247</td>\n",
       "<td>0.7407643</td>\n",
       "<td>1.0835592</td>\n",
       "<td>0.5020450</td>\n",
       "<td>0.6599247</td>\n",
       "<td>0.7343705</td>\n",
       "<td>0.6832149</td>\n",
       "<td>0.0897952</td>\n",
       "<td>0.9409290</td>\n",
       "<td>-25.9235739</td>\n",
       "<td>8.3559165</td></tr>\n",
       "<tr><td></td>\n",
       "<td>7</td>\n",
       "<td>1.0</td>\n",
       "<td>0.6349211</td>\n",
       "<td>0.4487613</td>\n",
       "<td>1.0</td>\n",
       "<td>0.3041431</td>\n",
       "<td>0.6392529</td>\n",
       "<td>0.6777392</td>\n",
       "<td>0.6774282</td>\n",
       "<td>0.0590710</td>\n",
       "<td>1.0</td>\n",
       "<td>-55.1238708</td>\n",
       "<td>0.0</td></tr></table></div>"
      ],
      "text/plain": [
       "    group    cumulative_data_fraction    lower_threshold    lift      cumulative_lift    response_rate    score     cumulative_response_rate    cumulative_score    capture_rate    cumulative_capture_rate    gain      cumulative_gain\n",
       "--  -------  --------------------------  -----------------  --------  -----------------  ---------------  --------  --------------------------  ------------------  --------------  -------------------------  --------  -----------------\n",
       "    1        0.197075                    0.700821           1.34743   1.34743            0.913208         0.700821  0.913208                    0.700821            0.265545        0.265545                   34.7432   34.7432\n",
       "    2        0.336515                    0.689842           1.1804    1.27822            0.8              0.689842  0.866298                    0.696272            0.164594        0.430139                   18.0395   27.8218\n",
       "    3        0.429227                    0.684922           1.10662   1.24115            0.75             0.684922  0.841178                    0.69382             0.102597        0.532736                   10.662    24.1153\n",
       "    4        0.669311                    0.682891           1.07634   1.18203            0.729479         0.682891  0.801111                    0.6899              0.258413        0.791149                   7.63411   18.2034\n",
       "    5        0.747149                    0.662002           0.77064   1.13918            0.522293         0.662002  0.772064                    0.686994            0.0599854       0.851134                   -22.936   13.9175\n",
       "    6        0.868369                    0.659925           0.740764  1.08356            0.502045         0.659925  0.734371                    0.683215            0.0897952       0.940929                   -25.9236  8.35592\n",
       "    7        1                           0.634921           0.448761  1                  0.304143         0.639253  0.677739                    0.677428            0.059071        1                          -55.1239  0"
      ]
     },
     "metadata": {},
     "output_type": "display_data"
    },
    {
     "name": "stdout",
     "output_type": "stream",
     "text": [
      "\n",
      "Scoring History: \n"
     ]
    },
    {
     "data": {
      "text/html": [
       "<div style=\"overflow:auto\"><table style=\"width:50%\"><tr><td><b></b></td>\n",
       "<td><b>timestamp</b></td>\n",
       "<td><b>duration</b></td>\n",
       "<td><b>number_of_trees</b></td>\n",
       "<td><b>training_rmse</b></td>\n",
       "<td><b>training_logloss</b></td>\n",
       "<td><b>training_auc</b></td>\n",
       "<td><b>training_pr_auc</b></td>\n",
       "<td><b>training_lift</b></td>\n",
       "<td><b>training_classification_error</b></td></tr>\n",
       "<tr><td></td>\n",
       "<td>2019-04-26 17:55:24</td>\n",
       "<td> 0.080 sec</td>\n",
       "<td>0.0</td>\n",
       "<td>0.4673422</td>\n",
       "<td>0.6285618</td>\n",
       "<td>0.5</td>\n",
       "<td>0.0</td>\n",
       "<td>1.0</td>\n",
       "<td>0.3222608</td></tr>\n",
       "<tr><td></td>\n",
       "<td>2019-04-26 17:55:24</td>\n",
       "<td> 0.159 sec</td>\n",
       "<td>1.0</td>\n",
       "<td>0.4592371</td>\n",
       "<td>0.6115537</td>\n",
       "<td>0.7449350</td>\n",
       "<td>0.6030539</td>\n",
       "<td>1.3474321</td>\n",
       "<td>0.2714427</td></tr></table></div>"
      ],
      "text/plain": [
       "    timestamp            duration    number_of_trees    training_rmse    training_logloss    training_auc    training_pr_auc    training_lift    training_classification_error\n",
       "--  -------------------  ----------  -----------------  ---------------  ------------------  --------------  -----------------  ---------------  -------------------------------\n",
       "    2019-04-26 17:55:24  0.080 sec   0                  0.467342         0.628562            0.5             0                  1                0.322261\n",
       "    2019-04-26 17:55:24  0.159 sec   1                  0.459237         0.611554            0.744935        0.603054           1.34743          0.271443"
      ]
     },
     "metadata": {},
     "output_type": "display_data"
    },
    {
     "name": "stdout",
     "output_type": "stream",
     "text": [
      "Variable Importances: \n"
     ]
    },
    {
     "data": {
      "text/html": [
       "<div style=\"overflow:auto\"><table style=\"width:50%\"><tr><td><b>variable</b></td>\n",
       "<td><b>relative_importance</b></td>\n",
       "<td><b>scaled_importance</b></td>\n",
       "<td><b>percentage</b></td></tr>\n",
       "<tr><td>C77</td>\n",
       "<td>139.3017273</td>\n",
       "<td>1.0</td>\n",
       "<td>0.4413810</td></tr>\n",
       "<tr><td>C37</td>\n",
       "<td>98.7354431</td>\n",
       "<td>0.7087884</td>\n",
       "<td>0.3128457</td></tr>\n",
       "<tr><td>C68</td>\n",
       "<td>35.5079460</td>\n",
       "<td>0.2548995</td>\n",
       "<td>0.1125078</td></tr>\n",
       "<tr><td>C42</td>\n",
       "<td>33.6154633</td>\n",
       "<td>0.2413140</td>\n",
       "<td>0.1065114</td></tr>\n",
       "<tr><td>C75</td>\n",
       "<td>8.4436569</td>\n",
       "<td>0.0606142</td>\n",
       "<td>0.0267539</td></tr>\n",
       "<tr><td>---</td>\n",
       "<td>---</td>\n",
       "<td>---</td>\n",
       "<td>---</td></tr>\n",
       "<tr><td>C96</td>\n",
       "<td>0.0</td>\n",
       "<td>0.0</td>\n",
       "<td>0.0</td></tr>\n",
       "<tr><td>C97</td>\n",
       "<td>0.0</td>\n",
       "<td>0.0</td>\n",
       "<td>0.0</td></tr>\n",
       "<tr><td>C98</td>\n",
       "<td>0.0</td>\n",
       "<td>0.0</td>\n",
       "<td>0.0</td></tr>\n",
       "<tr><td>C99</td>\n",
       "<td>0.0</td>\n",
       "<td>0.0</td>\n",
       "<td>0.0</td></tr>\n",
       "<tr><td>C100</td>\n",
       "<td>0.0</td>\n",
       "<td>0.0</td>\n",
       "<td>0.0</td></tr></table></div>"
      ],
      "text/plain": [
       "variable    relative_importance    scaled_importance    percentage\n",
       "----------  ---------------------  -------------------  --------------------\n",
       "C77         139.30172729492188     1.0                  0.4413810435322066\n",
       "C37         98.73544311523438      0.7087883620150466   0.31284574686968464\n",
       "C68         35.5079460144043       0.254899538605353    0.11250782434550868\n",
       "C42         33.61546325683594      0.24131404476892915  0.10651144489908757\n",
       "C75         8.443656921386719      0.06061415809662057  0.026753940353512532\n",
       "---         ---                    ---                  ---\n",
       "C96         0.0                    0.0                  0.0\n",
       "C97         0.0                    0.0                  0.0\n",
       "C98         0.0                    0.0                  0.0\n",
       "C99         0.0                    0.0                  0.0\n",
       "C100        0.0                    0.0                  0.0"
      ]
     },
     "metadata": {},
     "output_type": "display_data"
    },
    {
     "name": "stdout",
     "output_type": "stream",
     "text": [
      "\n",
      "See the whole table with table.as_data_frame()\n",
      "\n",
      "Generated MOJO path:\n",
      " /Users/mandy/Desktop/AI-Addin/notebook/data\n"
     ]
    }
   ],
   "source": [
    "# persist MOJO (compiled, representation of trained model)\n",
    "# from which to generate plot of surrogate\n",
    "mojo_path = surrogate.download_mojo(path='data')\n",
    "\n",
    "print(surrogate)\n",
    "print('Generated MOJO path:\\n', mojo_path)"
   ]
  },
  {
   "cell_type": "code",
   "execution_count": 37,
   "metadata": {},
   "outputs": [
    {
     "name": "stdout",
     "output_type": "stream",
     "text": [
      "Discovered H2O jar path:\n",
      " /anaconda3/lib/python3.7/site-packages/h2o/backend/bin/h2o.jar\n",
      "\n",
      "Calling external process ...\n",
      "java -cp /anaconda3/lib/python3.7/site-packages/h2o/backend/bin/h2o.jar hex.genmodel.tools.PrintMojo --tree 0 -i /Users/mandy/Desktop/AI-Addin/notebook/data -o dt_surrogate_mojo.gv --title Yelp Reviews Decision Tree Surrogate\n"
     ]
    }
   ],
   "source": [
    "details = False # print more info on tree, details = True\n",
    "title = 'Yelp Reviews Decision Tree Surrogate'\n",
    "\n",
    "hs = H2OLocalServer()\n",
    "h2o_jar_path = hs._find_jar()\n",
    "print('Discovered H2O jar path:\\n', h2o_jar_path)\n",
    "\n",
    "gv_file_name = model_id + '.gv'\n",
    "gv_args = str('-cp ' + h2o_jar_path +\n",
    "              ' hex.genmodel.tools.PrintMojo --tree 0 -i '\n",
    "              + mojo_path + ' -o ').split()\n",
    "gv_args.insert(0, 'java')\n",
    "gv_args.append(gv_file_name)\n",
    "\n",
    "if details:\n",
    "    gv_args.append('--detail')\n",
    "\n",
    "if title is not None:\n",
    "    gv_args = gv_args + ['--title', title]\n",
    "    \n",
    "print()\n",
    "print('Calling external process ...')\n",
    "print(' '.join(gv_args))\n",
    "    \n",
    "_ = subprocess.call(gv_args)"
   ]
  },
  {
   "cell_type": "code",
   "execution_count": 38,
   "metadata": {},
   "outputs": [
    {
     "name": "stdout",
     "output_type": "stream",
     "text": [
      "Calling external process ...\n",
      "dot -Tpng dt_surrogate_mojo.gv -o dt_surrogate_mojo.png\n"
     ]
    }
   ],
   "source": [
    "png_file_name = model_id + '.png'\n",
    "png_args = str('dot -Tpng ' + gv_file_name + ' -o ' + png_file_name)\n",
    "png_args = png_args.split()\n",
    "\n",
    "print('Calling external process ...')\n",
    "print(' '.join(png_args))\n",
    "\n",
    "_ = subprocess.call(png_args)"
   ]
  },
  {
   "cell_type": "code",
   "execution_count": 39,
   "metadata": {},
   "outputs": [
    {
     "data": {
      "image/png": "[encoded data removed]",
      "text/plain": [
       "<IPython.core.display.Image object>"
      ]
     },
     "metadata": {},
     "output_type": "display_data"
    }
   ],
   "source": [
    "display(Image((png_file_name)))"
   ]
  },
  {
   "cell_type": "markdown",
   "metadata": {},
   "source": [
    "### 2.3.2 Interpretability"
   ]
  },
  {
   "cell_type": "markdown",
   "metadata": {},
   "source": [
    "#### Variable Importance"
   ]
  },
  {
   "cell_type": "code",
   "execution_count": 40,
   "metadata": {},
   "outputs": [
    {
     "data": {
      "image/png": "[encoded data removed]",
      "text/plain": [
       "<Figure size 1008x720 with 1 Axes>"
      ]
     },
     "metadata": {
      "needs_background": "light"
     },
     "output_type": "display_data"
    }
   ],
   "source": [
    "surrogate.varimp_plot()"
   ]
  },
  {
   "cell_type": "markdown",
   "metadata": {},
   "source": [
    "#### Partial Dependence Plot (PDP)"
   ]
  },
  {
   "cell_type": "code",
   "execution_count": 41,
   "metadata": {},
   "outputs": [
    {
     "name": "stdout",
     "output_type": "stream",
     "text": [
      "PartialDependencePlot progress: |█████████████████████████████████████████| 100%\n"
     ]
    },
    {
     "data": {
      "image/png": "[encoded data removed]",
      "text/plain": [
       "<Figure size 504x720 with 1 Axes>"
      ]
     },
     "metadata": {
      "needs_background": "light"
     },
     "output_type": "display_data"
    }
   ],
   "source": [
    "pdp_word_vecs = surrogate.partial_plot(data = ext_train, cols = [\"C77\"])"
   ]
  },
  {
   "cell_type": "markdown",
   "metadata": {},
   "source": [
    "#### Individual Conditional Expectation (ICE)"
   ]
  },
  {
   "cell_type": "code",
   "execution_count": 58,
   "metadata": {},
   "outputs": [
    {
     "name": "stdout",
     "output_type": "stream",
     "text": [
      "Parse progress: |█████████████████████████████████████████████████████████| 100%\n"
     ]
    }
   ],
   "source": [
    "ext_train_dice = h2o.H2OFrame(ext_train.as_data_frame().iloc[::30])"
   ]
  },
  {
   "cell_type": "code",
   "execution_count": 60,
   "metadata": {},
   "outputs": [
    {
     "name": "stdout",
     "output_type": "stream",
     "text": [
      "Parse progress: |█████████████████████████████████████████████████████████| 100%\n",
      "gbm prediction progress: |████████████████████████████████████████████████| 100%\n"
     ]
    }
   ],
   "source": [
    "C77_ice_df = ice(data=ext_train_dice, column='C77', model=surrogate)"
   ]
  },
  {
   "cell_type": "code",
   "execution_count": 61,
   "metadata": {},
   "outputs": [
    {
     "data": {
      "image/png": "[encoded data removed]",
      "text/plain": [
       "<Figure size 1008x792 with 2 Axes>"
      ]
     },
     "metadata": {
      "needs_background": "light"
     },
     "output_type": "display_data"
    }
   ],
   "source": [
    "ice_plot(C77_ice_df, linewidth=0.5, color_by='Id', cmap='coolwarm',\n",
    "        plot_pdp=True, pdp_kwargs={'c': 'k', 'linewidth': 3})\n",
    "vals = C77_ice_df.columns.get_level_values('Id').values\n",
    "sm = plt.cm.ScalarMappable(cmap='coolwarm', norm=plt.Normalize(vmin=vals.min(), vmax=vals.max()))\n",
    "sm._A = []\n",
    "plt.colorbar(sm, label='Id')\n",
    "plt.ylabel('Pred. AV %ile')\n",
    "plt.xlabel('C77');"
   ]
  },
  {
   "cell_type": "markdown",
   "metadata": {},
   "source": [
    "### 2.3.3 Matrix"
   ]
  },
  {
   "cell_type": "code",
   "execution_count": 43,
   "metadata": {},
   "outputs": [
    {
     "name": "stdout",
     "output_type": "stream",
     "text": [
      "Model Details\n",
      "=============\n",
      "H2OGradientBoostingEstimator :  Gradient Boosting Machine\n",
      "Model Key:  dt_surrogate_mojo\n",
      "\n",
      "\n",
      "ModelMetricsBinomial: gbm\n",
      "** Reported on train data. **\n",
      "\n",
      "MSE: 0.21083847996491153\n",
      "RMSE: 0.45917151475773355\n",
      "LogLoss: 0.6113959663662526\n",
      "Mean Per-Class Error: 0.30551375837037864\n",
      "AUC: 0.7475232119745653\n",
      "pr_auc: 0.5517806090318984\n",
      "Gini: 0.49504642394913057\n",
      "Confusion Matrix (Act/Pred) for max f1 @ threshold = 0.6563125396395844: \n"
     ]
    },
    {
     "data": {
      "text/html": [
       "<div style=\"overflow:auto\"><table style=\"width:50%\"><tr><td><b></b></td>\n",
       "<td><b>0</b></td>\n",
       "<td><b>1</b></td>\n",
       "<td><b>Error</b></td>\n",
       "<td><b>Rate</b></td></tr>\n",
       "<tr><td>0</td>\n",
       "<td>998.0</td>\n",
       "<td>1602.0</td>\n",
       "<td>0.6162</td>\n",
       "<td> (1602.0/2600.0)</td></tr>\n",
       "<tr><td>1</td>\n",
       "<td>504.0</td>\n",
       "<td>4964.0</td>\n",
       "<td>0.0922</td>\n",
       "<td> (504.0/5468.0)</td></tr>\n",
       "<tr><td>Total</td>\n",
       "<td>1502.0</td>\n",
       "<td>6566.0</td>\n",
       "<td>0.261</td>\n",
       "<td> (2106.0/8068.0)</td></tr></table></div>"
      ],
      "text/plain": [
       "       0     1     Error    Rate\n",
       "-----  ----  ----  -------  ---------------\n",
       "0      998   1602  0.6162   (1602.0/2600.0)\n",
       "1      504   4964  0.0922   (504.0/5468.0)\n",
       "Total  1502  6566  0.261    (2106.0/8068.0)"
      ]
     },
     "metadata": {},
     "output_type": "display_data"
    },
    {
     "name": "stdout",
     "output_type": "stream",
     "text": [
      "Maximum Metrics: Maximum metrics at their respective thresholds\n",
      "\n"
     ]
    },
    {
     "data": {
      "text/html": [
       "<div style=\"overflow:auto\"><table style=\"width:50%\"><tr><td><b>metric</b></td>\n",
       "<td><b>threshold</b></td>\n",
       "<td><b>value</b></td>\n",
       "<td><b>idx</b></td></tr>\n",
       "<tr><td>max f1</td>\n",
       "<td>0.6563125</td>\n",
       "<td>0.8249958</td>\n",
       "<td>6.0</td></tr>\n",
       "<tr><td>max f2</td>\n",
       "<td>0.6426143</td>\n",
       "<td>0.9131597</td>\n",
       "<td>7.0</td></tr>\n",
       "<tr><td>max f0point5</td>\n",
       "<td>0.6739827</td>\n",
       "<td>0.8002268</td>\n",
       "<td>4.0</td></tr>\n",
       "<tr><td>max accuracy</td>\n",
       "<td>0.6678134</td>\n",
       "<td>0.7424393</td>\n",
       "<td>5.0</td></tr>\n",
       "<tr><td>max precision</td>\n",
       "<td>0.6993376</td>\n",
       "<td>0.8977733</td>\n",
       "<td>0.0</td></tr>\n",
       "<tr><td>max recall</td>\n",
       "<td>0.6426143</td>\n",
       "<td>1.0</td>\n",
       "<td>7.0</td></tr>\n",
       "<tr><td>max specificity</td>\n",
       "<td>0.6993376</td>\n",
       "<td>0.9223077</td>\n",
       "<td>0.0</td></tr>\n",
       "<tr><td>max absolute_mcc</td>\n",
       "<td>0.6739827</td>\n",
       "<td>0.3800714</td>\n",
       "<td>4.0</td></tr>\n",
       "<tr><td>max min_per_class_accuracy</td>\n",
       "<td>0.6847630</td>\n",
       "<td>0.6376923</td>\n",
       "<td>3.0</td></tr>\n",
       "<tr><td>max mean_per_class_accuracy</td>\n",
       "<td>0.6847630</td>\n",
       "<td>0.6944862</td>\n",
       "<td>3.0</td></tr></table></div>"
      ],
      "text/plain": [
       "metric                       threshold    value     idx\n",
       "---------------------------  -----------  --------  -----\n",
       "max f1                       0.656313     0.824996  6\n",
       "max f2                       0.642614     0.91316   7\n",
       "max f0point5                 0.673983     0.800227  4\n",
       "max accuracy                 0.667813     0.742439  5\n",
       "max precision                0.699338     0.897773  0\n",
       "max recall                   0.642614     1         7\n",
       "max specificity              0.699338     0.922308  0\n",
       "max absolute_mcc             0.673983     0.380071  4\n",
       "max min_per_class_accuracy   0.684763     0.637692  3\n",
       "max mean_per_class_accuracy  0.684763     0.694486  3"
      ]
     },
     "metadata": {},
     "output_type": "display_data"
    },
    {
     "name": "stdout",
     "output_type": "stream",
     "text": [
      "Gains/Lift Table: Avg response rate: 67.77 %, avg score: 67.74 %\n",
      "\n"
     ]
    },
    {
     "data": {
      "text/html": [
       "<div style=\"overflow:auto\"><table style=\"width:50%\"><tr><td><b></b></td>\n",
       "<td><b>group</b></td>\n",
       "<td><b>cumulative_data_fraction</b></td>\n",
       "<td><b>lower_threshold</b></td>\n",
       "<td><b>lift</b></td>\n",
       "<td><b>cumulative_lift</b></td>\n",
       "<td><b>response_rate</b></td>\n",
       "<td><b>score</b></td>\n",
       "<td><b>cumulative_response_rate</b></td>\n",
       "<td><b>cumulative_score</b></td>\n",
       "<td><b>capture_rate</b></td>\n",
       "<td><b>cumulative_capture_rate</b></td>\n",
       "<td><b>gain</b></td>\n",
       "<td><b>cumulative_gain</b></td></tr>\n",
       "<tr><td></td>\n",
       "<td>1</td>\n",
       "<td>0.2449182</td>\n",
       "<td>0.6993376</td>\n",
       "<td>1.3246589</td>\n",
       "<td>1.3246589</td>\n",
       "<td>0.8977733</td>\n",
       "<td>0.6993376</td>\n",
       "<td>0.8977733</td>\n",
       "<td>0.6993376</td>\n",
       "<td>0.3244331</td>\n",
       "<td>0.3244331</td>\n",
       "<td>32.4658891</td>\n",
       "<td>32.4658891</td></tr>\n",
       "<tr><td></td>\n",
       "<td>2</td>\n",
       "<td>0.3242439</td>\n",
       "<td>0.6878483</td>\n",
       "<td>1.1504241</td>\n",
       "<td>1.2820326</td>\n",
       "<td>0.7796875</td>\n",
       "<td>0.6878483</td>\n",
       "<td>0.8688838</td>\n",
       "<td>0.6965268</td>\n",
       "<td>0.0912582</td>\n",
       "<td>0.4156913</td>\n",
       "<td>15.0424058</td>\n",
       "<td>28.2032632</td></tr>\n",
       "<tr><td></td>\n",
       "<td>3</td>\n",
       "<td>0.6259296</td>\n",
       "<td>0.6847630</td>\n",
       "<td>1.1123792</td>\n",
       "<td>1.2002631</td>\n",
       "<td>0.7539030</td>\n",
       "<td>0.6853071</td>\n",
       "<td>0.8134653</td>\n",
       "<td>0.6911191</td>\n",
       "<td>0.3355889</td>\n",
       "<td>0.7512802</td>\n",
       "<td>11.2379248</td>\n",
       "<td>20.0263061</td></tr>\n",
       "<tr><td></td>\n",
       "<td>4</td>\n",
       "<td>0.7612791</td>\n",
       "<td>0.6678134</td>\n",
       "<td>0.8890796</td>\n",
       "<td>1.1449371</td>\n",
       "<td>0.6025641</td>\n",
       "<td>0.6701692</td>\n",
       "<td>0.7759687</td>\n",
       "<td>0.6873944</td>\n",
       "<td>0.1203365</td>\n",
       "<td>0.8716167</td>\n",
       "<td>-11.0920413</td>\n",
       "<td>14.4937051</td></tr>\n",
       "<tr><td></td>\n",
       "<td>5</td>\n",
       "<td>0.8138324</td>\n",
       "<td>0.6563125</td>\n",
       "<td>0.6890278</td>\n",
       "<td>1.1154967</td>\n",
       "<td>0.4669811</td>\n",
       "<td>0.6563125</td>\n",
       "<td>0.7560158</td>\n",
       "<td>0.6853873</td>\n",
       "<td>0.0362107</td>\n",
       "<td>0.9078274</td>\n",
       "<td>-31.0972243</td>\n",
       "<td>11.5496670</td></tr>\n",
       "<tr><td></td>\n",
       "<td>6</td>\n",
       "<td>1.0</td>\n",
       "<td>0.6426143</td>\n",
       "<td>0.4951058</td>\n",
       "<td>1.0</td>\n",
       "<td>0.3355526</td>\n",
       "<td>0.6426143</td>\n",
       "<td>0.6777392</td>\n",
       "<td>0.6774243</td>\n",
       "<td>0.0921726</td>\n",
       "<td>1.0</td>\n",
       "<td>-50.4894230</td>\n",
       "<td>0.0</td></tr></table></div>"
      ],
      "text/plain": [
       "    group    cumulative_data_fraction    lower_threshold    lift      cumulative_lift    response_rate    score     cumulative_response_rate    cumulative_score    capture_rate    cumulative_capture_rate    gain      cumulative_gain\n",
       "--  -------  --------------------------  -----------------  --------  -----------------  ---------------  --------  --------------------------  ------------------  --------------  -------------------------  --------  -----------------\n",
       "    1        0.244918                    0.699338           1.32466   1.32466            0.897773         0.699338  0.897773                    0.699338            0.324433        0.324433                   32.4659   32.4659\n",
       "    2        0.324244                    0.687848           1.15042   1.28203            0.779687         0.687848  0.868884                    0.696527            0.0912582       0.415691                   15.0424   28.2033\n",
       "    3        0.62593                     0.684763           1.11238   1.20026            0.753903         0.685307  0.813465                    0.691119            0.335589        0.75128                    11.2379   20.0263\n",
       "    4        0.761279                    0.667813           0.88908   1.14494            0.602564         0.670169  0.775969                    0.687394            0.120337        0.871617                   -11.092   14.4937\n",
       "    5        0.813832                    0.656313           0.689028  1.1155             0.466981         0.656313  0.756016                    0.685387            0.0362107       0.907827                   -31.0972  11.5497\n",
       "    6        1                           0.642614           0.495106  1                  0.335553         0.642614  0.677739                    0.677424            0.0921726       1                          -50.4894  0"
      ]
     },
     "metadata": {},
     "output_type": "display_data"
    },
    {
     "name": "stdout",
     "output_type": "stream",
     "text": [
      "\n",
      "Scoring History: \n"
     ]
    },
    {
     "data": {
      "text/html": [
       "<div style=\"overflow:auto\"><table style=\"width:50%\"><tr><td><b></b></td>\n",
       "<td><b>timestamp</b></td>\n",
       "<td><b>duration</b></td>\n",
       "<td><b>number_of_trees</b></td>\n",
       "<td><b>training_rmse</b></td>\n",
       "<td><b>training_logloss</b></td>\n",
       "<td><b>training_auc</b></td>\n",
       "<td><b>training_pr_auc</b></td>\n",
       "<td><b>training_lift</b></td>\n",
       "<td><b>training_classification_error</b></td></tr>\n",
       "<tr><td></td>\n",
       "<td>2019-04-26 13:01:22</td>\n",
       "<td> 0.040 sec</td>\n",
       "<td>0.0</td>\n",
       "<td>0.4673422</td>\n",
       "<td>0.6285618</td>\n",
       "<td>0.5</td>\n",
       "<td>0.0</td>\n",
       "<td>1.0</td>\n",
       "<td>0.3222608</td></tr>\n",
       "<tr><td></td>\n",
       "<td>2019-04-26 13:01:23</td>\n",
       "<td> 0.270 sec</td>\n",
       "<td>1.0</td>\n",
       "<td>0.4591715</td>\n",
       "<td>0.6113960</td>\n",
       "<td>0.7475232</td>\n",
       "<td>0.5517806</td>\n",
       "<td>1.3246589</td>\n",
       "<td>0.2610312</td></tr></table></div>"
      ],
      "text/plain": [
       "    timestamp            duration    number_of_trees    training_rmse    training_logloss    training_auc    training_pr_auc    training_lift    training_classification_error\n",
       "--  -------------------  ----------  -----------------  ---------------  ------------------  --------------  -----------------  ---------------  -------------------------------\n",
       "    2019-04-26 13:01:22  0.040 sec   0                  0.467342         0.628562            0.5             0                  1                0.322261\n",
       "    2019-04-26 13:01:23  0.270 sec   1                  0.459172         0.611396            0.747523        0.551781           1.32466          0.261031"
      ]
     },
     "metadata": {},
     "output_type": "display_data"
    },
    {
     "name": "stdout",
     "output_type": "stream",
     "text": [
      "Variable Importances: \n"
     ]
    },
    {
     "data": {
      "text/html": [
       "<div style=\"overflow:auto\"><table style=\"width:50%\"><tr><td><b>variable</b></td>\n",
       "<td><b>relative_importance</b></td>\n",
       "<td><b>scaled_importance</b></td>\n",
       "<td><b>percentage</b></td></tr>\n",
       "<tr><td>C78</td>\n",
       "<td>152.7242279</td>\n",
       "<td>1.0</td>\n",
       "<td>0.4794871</td></tr>\n",
       "<tr><td>C39</td>\n",
       "<td>78.1902924</td>\n",
       "<td>0.5119705</td>\n",
       "<td>0.2454832</td></tr>\n",
       "<tr><td>C76</td>\n",
       "<td>53.5171318</td>\n",
       "<td>0.3504168</td>\n",
       "<td>0.1680203</td></tr>\n",
       "<tr><td>C89</td>\n",
       "<td>27.3431969</td>\n",
       "<td>0.1790364</td>\n",
       "<td>0.0858456</td></tr>\n",
       "<tr><td>C41</td>\n",
       "<td>6.7410007</td>\n",
       "<td>0.0441384</td>\n",
       "<td>0.0211638</td></tr>\n",
       "<tr><td>---</td>\n",
       "<td>---</td>\n",
       "<td>---</td>\n",
       "<td>---</td></tr>\n",
       "<tr><td>C96</td>\n",
       "<td>0.0</td>\n",
       "<td>0.0</td>\n",
       "<td>0.0</td></tr>\n",
       "<tr><td>C97</td>\n",
       "<td>0.0</td>\n",
       "<td>0.0</td>\n",
       "<td>0.0</td></tr>\n",
       "<tr><td>C98</td>\n",
       "<td>0.0</td>\n",
       "<td>0.0</td>\n",
       "<td>0.0</td></tr>\n",
       "<tr><td>C99</td>\n",
       "<td>0.0</td>\n",
       "<td>0.0</td>\n",
       "<td>0.0</td></tr>\n",
       "<tr><td>C100</td>\n",
       "<td>0.0</td>\n",
       "<td>0.0</td>\n",
       "<td>0.0</td></tr></table></div>"
      ],
      "text/plain": [
       "variable    relative_importance    scaled_importance     percentage\n",
       "----------  ---------------------  --------------------  -------------------\n",
       "C78         152.72422790527344     1.0                   0.47948705881267306\n",
       "C39         78.19029235839844      0.5119704543989945    0.24548320737876164\n",
       "C76         53.51713180541992      0.3504167776092062    0.16802031005445284\n",
       "C89         27.343196868896484     0.17903640597126466   0.0858456397195534\n",
       "C41         6.741000652313232      0.044138384228691666  0.02116378403455904\n",
       "---         ---                    ---                   ---\n",
       "C96         0.0                    0.0                   0.0\n",
       "C97         0.0                    0.0                   0.0\n",
       "C98         0.0                    0.0                   0.0\n",
       "C99         0.0                    0.0                   0.0\n",
       "C100        0.0                    0.0                   0.0"
      ]
     },
     "metadata": {},
     "output_type": "display_data"
    },
    {
     "name": "stdout",
     "output_type": "stream",
     "text": [
      "\n",
      "See the whole table with table.as_data_frame()\n",
      "\n"
     ]
    }
   ],
   "source": [
    "print(surrogate)"
   ]
  },
  {
   "cell_type": "markdown",
   "metadata": {},
   "source": [
    "## 2.4 Gradient Boosting"
   ]
  },
  {
   "cell_type": "markdown",
   "metadata": {},
   "source": [
    "### 2.4.1 Train & Fit Model"
   ]
  },
  {
   "cell_type": "code",
   "execution_count": 30,
   "metadata": {},
   "outputs": [
    {
     "name": "stdout",
     "output_type": "stream",
     "text": [
      "gbm Model Build progress: |███████████████████████████████████████████████| 100%\n"
     ]
    }
   ],
   "source": [
    "gbm = H2OGradientBoostingEstimator(stopping_metric = \"AUC\",\n",
    "                                           stopping_tolerance = 0.001,\n",
    "                                           stopping_rounds = 5, \n",
    "                                           score_tree_interval = 10, \n",
    "                                           model_id = 'gbm.hex')\n",
    "gbm.train(x = predictors, \n",
    "                   y = response,\n",
    "                  training_frame = ext_train,\n",
    "                  validation_frame = ext_test)"
   ]
  },
  {
   "cell_type": "code",
   "execution_count": 91,
   "metadata": {},
   "outputs": [
    {
     "name": "stdout",
     "output_type": "stream",
     "text": [
      "Model Details\n",
      "=============\n",
      "H2OGradientBoostingEstimator :  Gradient Boosting Machine\n",
      "Model Key:  gbm.hex\n",
      "\n",
      "\n",
      "ModelMetricsBinomial: gbm\n",
      "** Reported on train data. **\n",
      "\n",
      "MSE: 0.08931967158479732\n",
      "RMSE: 0.29886396836152285\n",
      "LogLoss: 0.3102821431820037\n",
      "Mean Per-Class Error: 0.11260790051207015\n",
      "AUC: 0.9562610432727477\n",
      "pr_auc: 0.9764787387880995\n",
      "Gini: 0.9125220865454955\n",
      "Confusion Matrix (Act/Pred) for max f1 @ threshold = 0.5696446528445371: \n"
     ]
    },
    {
     "data": {
      "text/html": [
       "<div style=\"overflow:auto\"><table style=\"width:50%\"><tr><td><b></b></td>\n",
       "<td><b>0</b></td>\n",
       "<td><b>1</b></td>\n",
       "<td><b>Error</b></td>\n",
       "<td><b>Rate</b></td></tr>\n",
       "<tr><td>0</td>\n",
       "<td>2130.0</td>\n",
       "<td>470.0</td>\n",
       "<td>0.1808</td>\n",
       "<td> (470.0/2600.0)</td></tr>\n",
       "<tr><td>1</td>\n",
       "<td>340.0</td>\n",
       "<td>5128.0</td>\n",
       "<td>0.0622</td>\n",
       "<td> (340.0/5468.0)</td></tr>\n",
       "<tr><td>Total</td>\n",
       "<td>2470.0</td>\n",
       "<td>5598.0</td>\n",
       "<td>0.1004</td>\n",
       "<td> (810.0/8068.0)</td></tr></table></div>"
      ],
      "text/plain": [
       "       0     1     Error    Rate\n",
       "-----  ----  ----  -------  --------------\n",
       "0      2130  470   0.1808   (470.0/2600.0)\n",
       "1      340   5128  0.0622   (340.0/5468.0)\n",
       "Total  2470  5598  0.1004   (810.0/8068.0)"
      ]
     },
     "metadata": {},
     "output_type": "display_data"
    },
    {
     "name": "stdout",
     "output_type": "stream",
     "text": [
      "Maximum Metrics: Maximum metrics at their respective thresholds\n",
      "\n"
     ]
    },
    {
     "data": {
      "text/html": [
       "<div style=\"overflow:auto\"><table style=\"width:50%\"><tr><td><b>metric</b></td>\n",
       "<td><b>threshold</b></td>\n",
       "<td><b>value</b></td>\n",
       "<td><b>idx</b></td></tr>\n",
       "<tr><td>max f1</td>\n",
       "<td>0.5696447</td>\n",
       "<td>0.9268028</td>\n",
       "<td>209.0</td></tr>\n",
       "<tr><td>max f2</td>\n",
       "<td>0.4300638</td>\n",
       "<td>0.9532700</td>\n",
       "<td>260.0</td></tr>\n",
       "<tr><td>max f0point5</td>\n",
       "<td>0.6619498</td>\n",
       "<td>0.9317829</td>\n",
       "<td>173.0</td></tr>\n",
       "<tr><td>max accuracy</td>\n",
       "<td>0.5696447</td>\n",
       "<td>0.8996034</td>\n",
       "<td>209.0</td></tr>\n",
       "<tr><td>max precision</td>\n",
       "<td>0.9812053</td>\n",
       "<td>1.0</td>\n",
       "<td>0.0</td></tr>\n",
       "<tr><td>max recall</td>\n",
       "<td>0.0451686</td>\n",
       "<td>1.0</td>\n",
       "<td>398.0</td></tr>\n",
       "<tr><td>max specificity</td>\n",
       "<td>0.9812053</td>\n",
       "<td>1.0</td>\n",
       "<td>0.0</td></tr>\n",
       "<tr><td>max absolute_mcc</td>\n",
       "<td>0.5696447</td>\n",
       "<td>0.7676461</td>\n",
       "<td>209.0</td></tr>\n",
       "<tr><td>max min_per_class_accuracy</td>\n",
       "<td>0.6539789</td>\n",
       "<td>0.8867959</td>\n",
       "<td>176.0</td></tr>\n",
       "<tr><td>max mean_per_class_accuracy</td>\n",
       "<td>0.6563273</td>\n",
       "<td>0.8873921</td>\n",
       "<td>175.0</td></tr></table></div>"
      ],
      "text/plain": [
       "metric                       threshold    value     idx\n",
       "---------------------------  -----------  --------  -----\n",
       "max f1                       0.569645     0.926803  209\n",
       "max f2                       0.430064     0.95327   260\n",
       "max f0point5                 0.66195      0.931783  173\n",
       "max accuracy                 0.569645     0.899603  209\n",
       "max precision                0.981205     1         0\n",
       "max recall                   0.0451686    1         398\n",
       "max specificity              0.981205     1         0\n",
       "max absolute_mcc             0.569645     0.767646  209\n",
       "max min_per_class_accuracy   0.653979     0.886796  176\n",
       "max mean_per_class_accuracy  0.656327     0.887392  175"
      ]
     },
     "metadata": {},
     "output_type": "display_data"
    },
    {
     "name": "stdout",
     "output_type": "stream",
     "text": [
      "Gains/Lift Table: Avg response rate: 67.77 %, avg score: 67.74 %\n",
      "\n"
     ]
    },
    {
     "data": {
      "text/html": [
       "<div style=\"overflow:auto\"><table style=\"width:50%\"><tr><td><b></b></td>\n",
       "<td><b>group</b></td>\n",
       "<td><b>cumulative_data_fraction</b></td>\n",
       "<td><b>lower_threshold</b></td>\n",
       "<td><b>lift</b></td>\n",
       "<td><b>cumulative_lift</b></td>\n",
       "<td><b>response_rate</b></td>\n",
       "<td><b>score</b></td>\n",
       "<td><b>cumulative_response_rate</b></td>\n",
       "<td><b>cumulative_score</b></td>\n",
       "<td><b>capture_rate</b></td>\n",
       "<td><b>cumulative_capture_rate</b></td>\n",
       "<td><b>gain</b></td>\n",
       "<td><b>cumulative_gain</b></td></tr>\n",
       "<tr><td></td>\n",
       "<td>1</td>\n",
       "<td>0.0100397</td>\n",
       "<td>0.9710622</td>\n",
       "<td>1.4754938</td>\n",
       "<td>1.4754938</td>\n",
       "<td>1.0</td>\n",
       "<td>0.9749312</td>\n",
       "<td>1.0</td>\n",
       "<td>0.9749312</td>\n",
       "<td>0.0148135</td>\n",
       "<td>0.0148135</td>\n",
       "<td>47.5493782</td>\n",
       "<td>47.5493782</td></tr>\n",
       "<tr><td></td>\n",
       "<td>2</td>\n",
       "<td>0.0200793</td>\n",
       "<td>0.9665890</td>\n",
       "<td>1.4754938</td>\n",
       "<td>1.4754938</td>\n",
       "<td>1.0</td>\n",
       "<td>0.9685779</td>\n",
       "<td>1.0</td>\n",
       "<td>0.9717545</td>\n",
       "<td>0.0148135</td>\n",
       "<td>0.0296269</td>\n",
       "<td>47.5493782</td>\n",
       "<td>47.5493782</td></tr>\n",
       "<tr><td></td>\n",
       "<td>3</td>\n",
       "<td>0.0301190</td>\n",
       "<td>0.9634133</td>\n",
       "<td>1.4754938</td>\n",
       "<td>1.4754938</td>\n",
       "<td>1.0</td>\n",
       "<td>0.9648435</td>\n",
       "<td>1.0</td>\n",
       "<td>0.9694508</td>\n",
       "<td>0.0148135</td>\n",
       "<td>0.0444404</td>\n",
       "<td>47.5493782</td>\n",
       "<td>47.5493782</td></tr>\n",
       "<tr><td></td>\n",
       "<td>4</td>\n",
       "<td>0.0400347</td>\n",
       "<td>0.9602228</td>\n",
       "<td>1.4754938</td>\n",
       "<td>1.4754938</td>\n",
       "<td>1.0</td>\n",
       "<td>0.9618061</td>\n",
       "<td>1.0</td>\n",
       "<td>0.9675574</td>\n",
       "<td>0.0146306</td>\n",
       "<td>0.0590710</td>\n",
       "<td>47.5493782</td>\n",
       "<td>47.5493782</td></tr>\n",
       "<tr><td></td>\n",
       "<td>5</td>\n",
       "<td>0.0500744</td>\n",
       "<td>0.9566330</td>\n",
       "<td>1.4754938</td>\n",
       "<td>1.4754938</td>\n",
       "<td>1.0</td>\n",
       "<td>0.9585565</td>\n",
       "<td>1.0</td>\n",
       "<td>0.9657528</td>\n",
       "<td>0.0148135</td>\n",
       "<td>0.0738844</td>\n",
       "<td>47.5493782</td>\n",
       "<td>47.5493782</td></tr>\n",
       "<tr><td></td>\n",
       "<td>6</td>\n",
       "<td>0.1000248</td>\n",
       "<td>0.9426201</td>\n",
       "<td>1.4754938</td>\n",
       "<td>1.4754938</td>\n",
       "<td>1.0</td>\n",
       "<td>0.9494756</td>\n",
       "<td>1.0</td>\n",
       "<td>0.9576243</td>\n",
       "<td>0.0737015</td>\n",
       "<td>0.1475860</td>\n",
       "<td>47.5493782</td>\n",
       "<td>47.5493782</td></tr>\n",
       "<tr><td></td>\n",
       "<td>7</td>\n",
       "<td>0.1500992</td>\n",
       "<td>0.9309371</td>\n",
       "<td>1.4681894</td>\n",
       "<td>1.4730570</td>\n",
       "<td>0.9950495</td>\n",
       "<td>0.9368658</td>\n",
       "<td>0.9983485</td>\n",
       "<td>0.9506991</td>\n",
       "<td>0.0735187</td>\n",
       "<td>0.2211046</td>\n",
       "<td>46.8189357</td>\n",
       "<td>47.3056963</td></tr>\n",
       "<tr><td></td>\n",
       "<td>8</td>\n",
       "<td>0.2000496</td>\n",
       "<td>0.9181663</td>\n",
       "<td>1.4608487</td>\n",
       "<td>1.4700087</td>\n",
       "<td>0.9900744</td>\n",
       "<td>0.9246596</td>\n",
       "<td>0.9962825</td>\n",
       "<td>0.9441973</td>\n",
       "<td>0.0729700</td>\n",
       "<td>0.2940746</td>\n",
       "<td>46.0848682</td>\n",
       "<td>47.0008675</td></tr>\n",
       "<tr><td></td>\n",
       "<td>9</td>\n",
       "<td>0.3000744</td>\n",
       "<td>0.8888696</td>\n",
       "<td>1.4572101</td>\n",
       "<td>1.4657425</td>\n",
       "<td>0.9876084</td>\n",
       "<td>0.9045015</td>\n",
       "<td>0.9933912</td>\n",
       "<td>0.9309653</td>\n",
       "<td>0.1457571</td>\n",
       "<td>0.4398317</td>\n",
       "<td>45.7210092</td>\n",
       "<td>46.5742481</td></tr>\n",
       "<tr><td></td>\n",
       "<td>10</td>\n",
       "<td>0.3999752</td>\n",
       "<td>0.8472880</td>\n",
       "<td>1.4352198</td>\n",
       "<td>1.4581189</td>\n",
       "<td>0.9727047</td>\n",
       "<td>0.8694905</td>\n",
       "<td>0.9882244</td>\n",
       "<td>0.9156109</td>\n",
       "<td>0.1433797</td>\n",
       "<td>0.5832114</td>\n",
       "<td>43.5219758</td>\n",
       "<td>45.8118894</td></tr>\n",
       "<tr><td></td>\n",
       "<td>11</td>\n",
       "<td>0.5</td>\n",
       "<td>0.7854343</td>\n",
       "<td>1.3932172</td>\n",
       "<td>1.4451353</td>\n",
       "<td>0.9442379</td>\n",
       "<td>0.8183450</td>\n",
       "<td>0.9794249</td>\n",
       "<td>0.8961529</td>\n",
       "<td>0.1393563</td>\n",
       "<td>0.7225677</td>\n",
       "<td>39.3217177</td>\n",
       "<td>44.5135333</td></tr>\n",
       "<tr><td></td>\n",
       "<td>12</td>\n",
       "<td>0.6000248</td>\n",
       "<td>0.6976253</td>\n",
       "<td>1.2231789</td>\n",
       "<td>1.4081349</td>\n",
       "<td>0.8289963</td>\n",
       "<td>0.7436046</td>\n",
       "<td>0.9543483</td>\n",
       "<td>0.8707229</td>\n",
       "<td>0.1223482</td>\n",
       "<td>0.8449159</td>\n",
       "<td>22.3178860</td>\n",
       "<td>40.8134946</td></tr>\n",
       "<tr><td></td>\n",
       "<td>13</td>\n",
       "<td>0.6999256</td>\n",
       "<td>0.5584762</td>\n",
       "<td>0.9665766</td>\n",
       "<td>1.3451110</td>\n",
       "<td>0.6550868</td>\n",
       "<td>0.6326631</td>\n",
       "<td>0.9116345</td>\n",
       "<td>0.8367445</td>\n",
       "<td>0.0965618</td>\n",
       "<td>0.9414777</td>\n",
       "<td>-3.3423428</td>\n",
       "<td>34.5111031</td></tr>\n",
       "<tr><td></td>\n",
       "<td>14</td>\n",
       "<td>0.7999504</td>\n",
       "<td>0.3841916</td>\n",
       "<td>0.4424653</td>\n",
       "<td>1.2322453</td>\n",
       "<td>0.2998761</td>\n",
       "<td>0.4713418</td>\n",
       "<td>0.8351410</td>\n",
       "<td>0.7910550</td>\n",
       "<td>0.0442575</td>\n",
       "<td>0.9857352</td>\n",
       "<td>-55.7534702</td>\n",
       "<td>23.2245349</td></tr>\n",
       "<tr><td></td>\n",
       "<td>15</td>\n",
       "<td>0.8999752</td>\n",
       "<td>0.2251770</td>\n",
       "<td>0.1316426</td>\n",
       "<td>1.1099225</td>\n",
       "<td>0.0892193</td>\n",
       "<td>0.3018201</td>\n",
       "<td>0.7522380</td>\n",
       "<td>0.7366806</td>\n",
       "<td>0.0131675</td>\n",
       "<td>0.9989027</td>\n",
       "<td>-86.8357432</td>\n",
       "<td>10.9922468</td></tr>\n",
       "<tr><td></td>\n",
       "<td>16</td>\n",
       "<td>1.0</td>\n",
       "<td>0.0353063</td>\n",
       "<td>0.0109702</td>\n",
       "<td>1.0</td>\n",
       "<td>0.0074349</td>\n",
       "<td>0.1442651</td>\n",
       "<td>0.6777392</td>\n",
       "<td>0.6774244</td>\n",
       "<td>0.0010973</td>\n",
       "<td>1.0</td>\n",
       "<td>-98.9029786</td>\n",
       "<td>0.0</td></tr></table></div>"
      ],
      "text/plain": [
       "    group    cumulative_data_fraction    lower_threshold    lift       cumulative_lift    response_rate    score     cumulative_response_rate    cumulative_score    capture_rate    cumulative_capture_rate    gain      cumulative_gain\n",
       "--  -------  --------------------------  -----------------  ---------  -----------------  ---------------  --------  --------------------------  ------------------  --------------  -------------------------  --------  -----------------\n",
       "    1        0.0100397                   0.971062           1.47549    1.47549            1                0.974931  1                           0.974931            0.0148135       0.0148135                  47.5494   47.5494\n",
       "    2        0.0200793                   0.966589           1.47549    1.47549            1                0.968578  1                           0.971755            0.0148135       0.0296269                  47.5494   47.5494\n",
       "    3        0.030119                    0.963413           1.47549    1.47549            1                0.964844  1                           0.969451            0.0148135       0.0444404                  47.5494   47.5494\n",
       "    4        0.0400347                   0.960223           1.47549    1.47549            1                0.961806  1                           0.967557            0.0146306       0.059071                   47.5494   47.5494\n",
       "    5        0.0500744                   0.956633           1.47549    1.47549            1                0.958556  1                           0.965753            0.0148135       0.0738844                  47.5494   47.5494\n",
       "    6        0.100025                    0.94262            1.47549    1.47549            1                0.949476  1                           0.957624            0.0737015       0.147586                   47.5494   47.5494\n",
       "    7        0.150099                    0.930937           1.46819    1.47306            0.99505          0.936866  0.998348                    0.950699            0.0735187       0.221105                   46.8189   47.3057\n",
       "    8        0.20005                     0.918166           1.46085    1.47001            0.990074         0.92466   0.996283                    0.944197            0.07297         0.294075                   46.0849   47.0009\n",
       "    9        0.300074                    0.88887            1.45721    1.46574            0.987608         0.904501  0.993391                    0.930965            0.145757        0.439832                   45.721    46.5742\n",
       "    10       0.399975                    0.847288           1.43522    1.45812            0.972705         0.86949   0.988224                    0.915611            0.14338         0.583211                   43.522    45.8119\n",
       "    11       0.5                         0.785434           1.39322    1.44514            0.944238         0.818345  0.979425                    0.896153            0.139356        0.722568                   39.3217   44.5135\n",
       "    12       0.600025                    0.697625           1.22318    1.40813            0.828996         0.743605  0.954348                    0.870723            0.122348        0.844916                   22.3179   40.8135\n",
       "    13       0.699926                    0.558476           0.966577   1.34511            0.655087         0.632663  0.911634                    0.836745            0.0965618       0.941478                   -3.34234  34.5111\n",
       "    14       0.79995                     0.384192           0.442465   1.23225            0.299876         0.471342  0.835141                    0.791055            0.0442575       0.985735                   -55.7535  23.2245\n",
       "    15       0.899975                    0.225177           0.131643   1.10992            0.0892193        0.30182   0.752238                    0.736681            0.0131675       0.998903                   -86.8357  10.9922\n",
       "    16       1                           0.0353063          0.0109702  1                  0.00743494       0.144265  0.677739                    0.677424            0.00109729      1                          -98.903   0"
      ]
     },
     "metadata": {},
     "output_type": "display_data"
    },
    {
     "name": "stdout",
     "output_type": "stream",
     "text": [
      "\n",
      "\n",
      "ModelMetricsBinomial: gbm\n",
      "** Reported on validation data. **\n",
      "\n",
      "MSE: 0.1391421627716336\n",
      "RMSE: 0.37301764404868787\n",
      "LogLoss: 0.4304746117959944\n",
      "Mean Per-Class Error: 0.22521973668450967\n",
      "AUC: 0.853525000230332\n",
      "pr_auc: 0.9243414013296912\n",
      "Gini: 0.7070500004606639\n",
      "Confusion Matrix (Act/Pred) for max f1 @ threshold = 0.35734143953952213: \n"
     ]
    },
    {
     "data": {
      "text/html": [
       "<div style=\"overflow:auto\"><table style=\"width:50%\"><tr><td><b></b></td>\n",
       "<td><b>0</b></td>\n",
       "<td><b>1</b></td>\n",
       "<td><b>Error</b></td>\n",
       "<td><b>Rate</b></td></tr>\n",
       "<tr><td>0</td>\n",
       "<td>254.0</td>\n",
       "<td>368.0</td>\n",
       "<td>0.5916</td>\n",
       "<td> (368.0/622.0)</td></tr>\n",
       "<tr><td>1</td>\n",
       "<td>56.0</td>\n",
       "<td>1340.0</td>\n",
       "<td>0.0401</td>\n",
       "<td> (56.0/1396.0)</td></tr>\n",
       "<tr><td>Total</td>\n",
       "<td>310.0</td>\n",
       "<td>1708.0</td>\n",
       "<td>0.2101</td>\n",
       "<td> (424.0/2018.0)</td></tr></table></div>"
      ],
      "text/plain": [
       "       0    1     Error    Rate\n",
       "-----  ---  ----  -------  --------------\n",
       "0      254  368   0.5916   (368.0/622.0)\n",
       "1      56   1340  0.0401   (56.0/1396.0)\n",
       "Total  310  1708  0.2101   (424.0/2018.0)"
      ]
     },
     "metadata": {},
     "output_type": "display_data"
    },
    {
     "name": "stdout",
     "output_type": "stream",
     "text": [
      "Maximum Metrics: Maximum metrics at their respective thresholds\n",
      "\n"
     ]
    },
    {
     "data": {
      "text/html": [
       "<div style=\"overflow:auto\"><table style=\"width:50%\"><tr><td><b>metric</b></td>\n",
       "<td><b>threshold</b></td>\n",
       "<td><b>value</b></td>\n",
       "<td><b>idx</b></td></tr>\n",
       "<tr><td>max f1</td>\n",
       "<td>0.3573414</td>\n",
       "<td>0.8634021</td>\n",
       "<td>299.0</td></tr>\n",
       "<tr><td>max f2</td>\n",
       "<td>0.2707677</td>\n",
       "<td>0.9288618</td>\n",
       "<td>325.0</td></tr>\n",
       "<tr><td>max f0point5</td>\n",
       "<td>0.7246772</td>\n",
       "<td>0.8606151</td>\n",
       "<td>158.0</td></tr>\n",
       "<tr><td>max accuracy</td>\n",
       "<td>0.5371222</td>\n",
       "<td>0.7958375</td>\n",
       "<td>236.0</td></tr>\n",
       "<tr><td>max precision</td>\n",
       "<td>0.9812737</td>\n",
       "<td>1.0</td>\n",
       "<td>0.0</td></tr>\n",
       "<tr><td>max recall</td>\n",
       "<td>0.0910947</td>\n",
       "<td>1.0</td>\n",
       "<td>387.0</td></tr>\n",
       "<tr><td>max specificity</td>\n",
       "<td>0.9812737</td>\n",
       "<td>1.0</td>\n",
       "<td>0.0</td></tr>\n",
       "<tr><td>max absolute_mcc</td>\n",
       "<td>0.6567836</td>\n",
       "<td>0.5204296</td>\n",
       "<td>188.0</td></tr>\n",
       "<tr><td>max min_per_class_accuracy</td>\n",
       "<td>0.6998688</td>\n",
       "<td>0.7693410</td>\n",
       "<td>168.0</td></tr>\n",
       "<tr><td>max mean_per_class_accuracy</td>\n",
       "<td>0.7246772</td>\n",
       "<td>0.7747803</td>\n",
       "<td>158.0</td></tr></table></div>"
      ],
      "text/plain": [
       "metric                       threshold    value     idx\n",
       "---------------------------  -----------  --------  -----\n",
       "max f1                       0.357341     0.863402  299\n",
       "max f2                       0.270768     0.928862  325\n",
       "max f0point5                 0.724677     0.860615  158\n",
       "max accuracy                 0.537122     0.795837  236\n",
       "max precision                0.981274     1         0\n",
       "max recall                   0.0910947    1         387\n",
       "max specificity              0.981274     1         0\n",
       "max absolute_mcc             0.656784     0.52043   188\n",
       "max min_per_class_accuracy   0.699869     0.769341  168\n",
       "max mean_per_class_accuracy  0.724677     0.77478   158"
      ]
     },
     "metadata": {},
     "output_type": "display_data"
    },
    {
     "name": "stdout",
     "output_type": "stream",
     "text": [
      "Gains/Lift Table: Avg response rate: 69.18 %, avg score: 68.67 %\n",
      "\n"
     ]
    },
    {
     "data": {
      "text/html": [
       "<div style=\"overflow:auto\"><table style=\"width:50%\"><tr><td><b></b></td>\n",
       "<td><b>group</b></td>\n",
       "<td><b>cumulative_data_fraction</b></td>\n",
       "<td><b>lower_threshold</b></td>\n",
       "<td><b>lift</b></td>\n",
       "<td><b>cumulative_lift</b></td>\n",
       "<td><b>response_rate</b></td>\n",
       "<td><b>score</b></td>\n",
       "<td><b>cumulative_response_rate</b></td>\n",
       "<td><b>cumulative_score</b></td>\n",
       "<td><b>capture_rate</b></td>\n",
       "<td><b>cumulative_capture_rate</b></td>\n",
       "<td><b>gain</b></td>\n",
       "<td><b>cumulative_gain</b></td></tr>\n",
       "<tr><td></td>\n",
       "<td>1</td>\n",
       "<td>0.0104063</td>\n",
       "<td>0.9707909</td>\n",
       "<td>1.4455587</td>\n",
       "<td>1.4455587</td>\n",
       "<td>1.0</td>\n",
       "<td>0.9741431</td>\n",
       "<td>1.0</td>\n",
       "<td>0.9741431</td>\n",
       "<td>0.0150430</td>\n",
       "<td>0.0150430</td>\n",
       "<td>44.5558739</td>\n",
       "<td>44.5558739</td></tr>\n",
       "<tr><td></td>\n",
       "<td>2</td>\n",
       "<td>0.0203171</td>\n",
       "<td>0.9662386</td>\n",
       "<td>1.3732808</td>\n",
       "<td>1.4103012</td>\n",
       "<td>0.95</td>\n",
       "<td>0.9688937</td>\n",
       "<td>0.9756098</td>\n",
       "<td>0.9715824</td>\n",
       "<td>0.0136103</td>\n",
       "<td>0.0286533</td>\n",
       "<td>37.3280802</td>\n",
       "<td>41.0301209</td></tr>\n",
       "<tr><td></td>\n",
       "<td>3</td>\n",
       "<td>0.0302279</td>\n",
       "<td>0.9631920</td>\n",
       "<td>1.4455587</td>\n",
       "<td>1.4218611</td>\n",
       "<td>1.0</td>\n",
       "<td>0.9646218</td>\n",
       "<td>0.9836066</td>\n",
       "<td>0.9693002</td>\n",
       "<td>0.0143266</td>\n",
       "<td>0.0429799</td>\n",
       "<td>44.5558739</td>\n",
       "<td>42.1861055</td></tr>\n",
       "<tr><td></td>\n",
       "<td>4</td>\n",
       "<td>0.0401388</td>\n",
       "<td>0.9604564</td>\n",
       "<td>1.4455587</td>\n",
       "<td>1.4277123</td>\n",
       "<td>1.0</td>\n",
       "<td>0.9619730</td>\n",
       "<td>0.9876543</td>\n",
       "<td>0.9674910</td>\n",
       "<td>0.0143266</td>\n",
       "<td>0.0573066</td>\n",
       "<td>44.5558739</td>\n",
       "<td>42.7712335</td></tr>\n",
       "<tr><td></td>\n",
       "<td>5</td>\n",
       "<td>0.0500496</td>\n",
       "<td>0.9565430</td>\n",
       "<td>1.4455587</td>\n",
       "<td>1.4312463</td>\n",
       "<td>1.0</td>\n",
       "<td>0.9585820</td>\n",
       "<td>0.9900990</td>\n",
       "<td>0.9657269</td>\n",
       "<td>0.0143266</td>\n",
       "<td>0.0716332</td>\n",
       "<td>44.5558739</td>\n",
       "<td>43.1246276</td></tr>\n",
       "<tr><td></td>\n",
       "<td>6</td>\n",
       "<td>0.1000991</td>\n",
       "<td>0.9429929</td>\n",
       "<td>1.4455587</td>\n",
       "<td>1.4384025</td>\n",
       "<td>1.0</td>\n",
       "<td>0.9501886</td>\n",
       "<td>0.9950495</td>\n",
       "<td>0.9579577</td>\n",
       "<td>0.0723496</td>\n",
       "<td>0.1439828</td>\n",
       "<td>44.5558739</td>\n",
       "<td>43.8402508</td></tr>\n",
       "<tr><td></td>\n",
       "<td>7</td>\n",
       "<td>0.1501487</td>\n",
       "<td>0.9300946</td>\n",
       "<td>1.3883089</td>\n",
       "<td>1.4217046</td>\n",
       "<td>0.9603960</td>\n",
       "<td>0.9365200</td>\n",
       "<td>0.9834983</td>\n",
       "<td>0.9508118</td>\n",
       "<td>0.0694842</td>\n",
       "<td>0.2134670</td>\n",
       "<td>38.8308888</td>\n",
       "<td>42.1704635</td></tr>\n",
       "<tr><td></td>\n",
       "<td>8</td>\n",
       "<td>0.2001982</td>\n",
       "<td>0.9155333</td>\n",
       "<td>1.3739964</td>\n",
       "<td>1.4097776</td>\n",
       "<td>0.9504950</td>\n",
       "<td>0.9231091</td>\n",
       "<td>0.9752475</td>\n",
       "<td>0.9438861</td>\n",
       "<td>0.0687679</td>\n",
       "<td>0.2822350</td>\n",
       "<td>37.3996425</td>\n",
       "<td>40.9777582</td></tr>\n",
       "<tr><td></td>\n",
       "<td>9</td>\n",
       "<td>0.3002973</td>\n",
       "<td>0.8817181</td>\n",
       "<td>1.3310590</td>\n",
       "<td>1.3835381</td>\n",
       "<td>0.9207921</td>\n",
       "<td>0.8996882</td>\n",
       "<td>0.9570957</td>\n",
       "<td>0.9291535</td>\n",
       "<td>0.1332378</td>\n",
       "<td>0.4154728</td>\n",
       "<td>33.1059037</td>\n",
       "<td>38.3538067</td></tr>\n",
       "<tr><td></td>\n",
       "<td>10</td>\n",
       "<td>0.3999009</td>\n",
       "<td>0.8353003</td>\n",
       "<td>1.2873384</td>\n",
       "<td>1.3595776</td>\n",
       "<td>0.8905473</td>\n",
       "<td>0.8604410</td>\n",
       "<td>0.9405204</td>\n",
       "<td>0.9120392</td>\n",
       "<td>0.1282235</td>\n",
       "<td>0.5436963</td>\n",
       "<td>28.7338380</td>\n",
       "<td>35.9577550</td></tr>\n",
       "<tr><td></td>\n",
       "<td>11</td>\n",
       "<td>0.5</td>\n",
       "<td>0.7775694</td>\n",
       "<td>1.1593095</td>\n",
       "<td>1.3194842</td>\n",
       "<td>0.8019802</td>\n",
       "<td>0.8056491</td>\n",
       "<td>0.9127849</td>\n",
       "<td>0.8907401</td>\n",
       "<td>0.1160458</td>\n",
       "<td>0.6597421</td>\n",
       "<td>15.9309484</td>\n",
       "<td>31.9484241</td></tr>\n",
       "<tr><td></td>\n",
       "<td>12</td>\n",
       "<td>0.6000991</td>\n",
       "<td>0.7010490</td>\n",
       "<td>1.0591222</td>\n",
       "<td>1.2760547</td>\n",
       "<td>0.7326733</td>\n",
       "<td>0.7432681</td>\n",
       "<td>0.8827415</td>\n",
       "<td>0.8661411</td>\n",
       "<td>0.1060172</td>\n",
       "<td>0.7657593</td>\n",
       "<td>5.9122245</td>\n",
       "<td>27.6054742</td></tr>\n",
       "<tr><td></td>\n",
       "<td>13</td>\n",
       "<td>0.6997027</td>\n",
       "<td>0.5887370</td>\n",
       "<td>0.8630201</td>\n",
       "<td>1.2172587</td>\n",
       "<td>0.5970149</td>\n",
       "<td>0.6462790</td>\n",
       "<td>0.8420680</td>\n",
       "<td>0.8348435</td>\n",
       "<td>0.0859599</td>\n",
       "<td>0.8517192</td>\n",
       "<td>-13.6979857</td>\n",
       "<td>21.7258740</td></tr>\n",
       "<tr><td></td>\n",
       "<td>14</td>\n",
       "<td>0.7998018</td>\n",
       "<td>0.4467586</td>\n",
       "<td>0.7657168</td>\n",
       "<td>1.1607461</td>\n",
       "<td>0.5297030</td>\n",
       "<td>0.5158462</td>\n",
       "<td>0.8029740</td>\n",
       "<td>0.7949194</td>\n",
       "<td>0.0766476</td>\n",
       "<td>0.9283668</td>\n",
       "<td>-23.4283242</td>\n",
       "<td>16.0746051</td></tr>\n",
       "<tr><td></td>\n",
       "<td>15</td>\n",
       "<td>0.8999009</td>\n",
       "<td>0.2555411</td>\n",
       "<td>0.5438736</td>\n",
       "<td>1.0921292</td>\n",
       "<td>0.3762376</td>\n",
       "<td>0.3501332</td>\n",
       "<td>0.7555066</td>\n",
       "<td>0.7454443</td>\n",
       "<td>0.0544413</td>\n",
       "<td>0.9828080</td>\n",
       "<td>-45.6126415</td>\n",
       "<td>9.2129180</td></tr>\n",
       "<tr><td></td>\n",
       "<td>16</td>\n",
       "<td>1.0</td>\n",
       "<td>0.0364611</td>\n",
       "<td>0.1717496</td>\n",
       "<td>1.0</td>\n",
       "<td>0.1188119</td>\n",
       "<td>0.1585700</td>\n",
       "<td>0.6917740</td>\n",
       "<td>0.6866987</td>\n",
       "<td>0.0171920</td>\n",
       "<td>1.0</td>\n",
       "<td>-82.8250447</td>\n",
       "<td>0.0</td></tr></table></div>"
      ],
      "text/plain": [
       "    group    cumulative_data_fraction    lower_threshold    lift      cumulative_lift    response_rate    score     cumulative_response_rate    cumulative_score    capture_rate    cumulative_capture_rate    gain      cumulative_gain\n",
       "--  -------  --------------------------  -----------------  --------  -----------------  ---------------  --------  --------------------------  ------------------  --------------  -------------------------  --------  -----------------\n",
       "    1        0.0104063                   0.970791           1.44556   1.44556            1                0.974143  1                           0.974143            0.015043        0.015043                   44.5559   44.5559\n",
       "    2        0.0203171                   0.966239           1.37328   1.4103             0.95             0.968894  0.97561                     0.971582            0.0136103       0.0286533                  37.3281   41.0301\n",
       "    3        0.0302279                   0.963192           1.44556   1.42186            1                0.964622  0.983607                    0.9693              0.0143266       0.0429799                  44.5559   42.1861\n",
       "    4        0.0401388                   0.960456           1.44556   1.42771            1                0.961973  0.987654                    0.967491            0.0143266       0.0573066                  44.5559   42.7712\n",
       "    5        0.0500496                   0.956543           1.44556   1.43125            1                0.958582  0.990099                    0.965727            0.0143266       0.0716332                  44.5559   43.1246\n",
       "    6        0.100099                    0.942993           1.44556   1.4384             1                0.950189  0.99505                     0.957958            0.0723496       0.143983                   44.5559   43.8403\n",
       "    7        0.150149                    0.930095           1.38831   1.4217             0.960396         0.93652   0.983498                    0.950812            0.0694842       0.213467                   38.8309   42.1705\n",
       "    8        0.200198                    0.915533           1.374     1.40978            0.950495         0.923109  0.975248                    0.943886            0.0687679       0.282235                   37.3996   40.9778\n",
       "    9        0.300297                    0.881718           1.33106   1.38354            0.920792         0.899688  0.957096                    0.929153            0.133238        0.415473                   33.1059   38.3538\n",
       "    10       0.399901                    0.8353             1.28734   1.35958            0.890547         0.860441  0.94052                     0.912039            0.128223        0.543696                   28.7338   35.9578\n",
       "    11       0.5                         0.777569           1.15931   1.31948            0.80198          0.805649  0.912785                    0.89074             0.116046        0.659742                   15.9309   31.9484\n",
       "    12       0.600099                    0.701049           1.05912   1.27605            0.732673         0.743268  0.882742                    0.866141            0.106017        0.765759                   5.91222   27.6055\n",
       "    13       0.699703                    0.588737           0.86302   1.21726            0.597015         0.646279  0.842068                    0.834843            0.0859599       0.851719                   -13.698   21.7259\n",
       "    14       0.799802                    0.446759           0.765717  1.16075            0.529703         0.515846  0.802974                    0.794919            0.0766476       0.928367                   -23.4283  16.0746\n",
       "    15       0.899901                    0.255541           0.543874  1.09213            0.376238         0.350133  0.755507                    0.745444            0.0544413       0.982808                   -45.6126  9.21292\n",
       "    16       1                           0.0364611          0.17175   1                  0.118812         0.15857   0.691774                    0.686699            0.017192        1                          -82.825   0"
      ]
     },
     "metadata": {},
     "output_type": "display_data"
    },
    {
     "name": "stdout",
     "output_type": "stream",
     "text": [
      "\n",
      "Scoring History: \n"
     ]
    },
    {
     "data": {
      "text/html": [
       "<div style=\"overflow:auto\"><table style=\"width:50%\"><tr><td><b></b></td>\n",
       "<td><b>timestamp</b></td>\n",
       "<td><b>duration</b></td>\n",
       "<td><b>number_of_trees</b></td>\n",
       "<td><b>training_rmse</b></td>\n",
       "<td><b>training_logloss</b></td>\n",
       "<td><b>training_auc</b></td>\n",
       "<td><b>training_pr_auc</b></td>\n",
       "<td><b>training_lift</b></td>\n",
       "<td><b>training_classification_error</b></td>\n",
       "<td><b>validation_rmse</b></td>\n",
       "<td><b>validation_logloss</b></td>\n",
       "<td><b>validation_auc</b></td>\n",
       "<td><b>validation_pr_auc</b></td>\n",
       "<td><b>validation_lift</b></td>\n",
       "<td><b>validation_classification_error</b></td></tr>\n",
       "<tr><td></td>\n",
       "<td>2019-04-26 17:53:38</td>\n",
       "<td> 0.082 sec</td>\n",
       "<td>0.0</td>\n",
       "<td>0.4673422</td>\n",
       "<td>0.6285618</td>\n",
       "<td>0.5</td>\n",
       "<td>0.0</td>\n",
       "<td>1.0</td>\n",
       "<td>0.3222608</td>\n",
       "<td>0.4619737</td>\n",
       "<td>0.6181283</td>\n",
       "<td>0.5</td>\n",
       "<td>0.0</td>\n",
       "<td>1.0</td>\n",
       "<td>0.3082260</td></tr>\n",
       "<tr><td></td>\n",
       "<td>2019-04-26 17:53:40</td>\n",
       "<td> 1.307 sec</td>\n",
       "<td>10.0</td>\n",
       "<td>0.3917510</td>\n",
       "<td>0.4801409</td>\n",
       "<td>0.8832582</td>\n",
       "<td>0.9345443</td>\n",
       "<td>1.4754938</td>\n",
       "<td>0.1774913</td>\n",
       "<td>0.4052403</td>\n",
       "<td>0.5037722</td>\n",
       "<td>0.8251688</td>\n",
       "<td>0.9087745</td>\n",
       "<td>1.4455587</td>\n",
       "<td>0.2239841</td></tr>\n",
       "<tr><td></td>\n",
       "<td>2019-04-26 17:53:41</td>\n",
       "<td> 2.485 sec</td>\n",
       "<td>20.0</td>\n",
       "<td>0.3564140</td>\n",
       "<td>0.4130835</td>\n",
       "<td>0.9134588</td>\n",
       "<td>0.9544897</td>\n",
       "<td>1.4754938</td>\n",
       "<td>0.1481160</td>\n",
       "<td>0.3870605</td>\n",
       "<td>0.4649728</td>\n",
       "<td>0.8402343</td>\n",
       "<td>0.9184697</td>\n",
       "<td>1.4455587</td>\n",
       "<td>0.2125867</td></tr>\n",
       "<tr><td></td>\n",
       "<td>2019-04-26 17:53:42</td>\n",
       "<td> 3.454 sec</td>\n",
       "<td>30.0</td>\n",
       "<td>0.3336222</td>\n",
       "<td>0.3704187</td>\n",
       "<td>0.9308313</td>\n",
       "<td>0.9640868</td>\n",
       "<td>1.4754938</td>\n",
       "<td>0.1341101</td>\n",
       "<td>0.3797440</td>\n",
       "<td>0.4470631</td>\n",
       "<td>0.8468304</td>\n",
       "<td>0.9217538</td>\n",
       "<td>1.3767226</td>\n",
       "<td>0.2115956</td></tr>\n",
       "<tr><td></td>\n",
       "<td>2019-04-26 17:53:43</td>\n",
       "<td> 4.444 sec</td>\n",
       "<td>40.0</td>\n",
       "<td>0.3155239</td>\n",
       "<td>0.3381612</td>\n",
       "<td>0.9446261</td>\n",
       "<td>0.9709304</td>\n",
       "<td>1.4754938</td>\n",
       "<td>0.1144026</td>\n",
       "<td>0.3760943</td>\n",
       "<td>0.4376262</td>\n",
       "<td>0.8501495</td>\n",
       "<td>0.9238651</td>\n",
       "<td>1.4455587</td>\n",
       "<td>0.2115956</td></tr>\n",
       "<tr><td></td>\n",
       "<td>2019-04-26 17:53:44</td>\n",
       "<td> 5.585 sec</td>\n",
       "<td>50.0</td>\n",
       "<td>0.2988640</td>\n",
       "<td>0.3102821</td>\n",
       "<td>0.9562610</td>\n",
       "<td>0.9764787</td>\n",
       "<td>1.4754938</td>\n",
       "<td>0.1003966</td>\n",
       "<td>0.3730176</td>\n",
       "<td>0.4304746</td>\n",
       "<td>0.8535250</td>\n",
       "<td>0.9243414</td>\n",
       "<td>1.4455587</td>\n",
       "<td>0.2101090</td></tr></table></div>"
      ],
      "text/plain": [
       "    timestamp            duration    number_of_trees    training_rmse    training_logloss    training_auc    training_pr_auc    training_lift    training_classification_error    validation_rmse    validation_logloss    validation_auc    validation_pr_auc    validation_lift    validation_classification_error\n",
       "--  -------------------  ----------  -----------------  ---------------  ------------------  --------------  -----------------  ---------------  -------------------------------  -----------------  --------------------  ----------------  -------------------  -----------------  ---------------------------------\n",
       "    2019-04-26 17:53:38  0.082 sec   0                  0.467342         0.628562            0.5             0                  1                0.322261                         0.461974           0.618128              0.5               0                    1                  0.308226\n",
       "    2019-04-26 17:53:40  1.307 sec   10                 0.391751         0.480141            0.883258        0.934544           1.47549          0.177491                         0.40524            0.503772              0.825169          0.908774             1.44556            0.223984\n",
       "    2019-04-26 17:53:41  2.485 sec   20                 0.356414         0.413083            0.913459        0.95449            1.47549          0.148116                         0.387061           0.464973              0.840234          0.91847              1.44556            0.212587\n",
       "    2019-04-26 17:53:42  3.454 sec   30                 0.333622         0.370419            0.930831        0.964087           1.47549          0.13411                          0.379744           0.447063              0.84683           0.921754             1.37672            0.211596\n",
       "    2019-04-26 17:53:43  4.444 sec   40                 0.315524         0.338161            0.944626        0.97093            1.47549          0.114403                         0.376094           0.437626              0.850149          0.923865             1.44556            0.211596\n",
       "    2019-04-26 17:53:44  5.585 sec   50                 0.298864         0.310282            0.956261        0.976479           1.47549          0.100397                         0.373018           0.430475              0.853525          0.924341             1.44556            0.210109"
      ]
     },
     "metadata": {},
     "output_type": "display_data"
    },
    {
     "name": "stdout",
     "output_type": "stream",
     "text": [
      "Variable Importances: \n"
     ]
    },
    {
     "data": {
      "text/html": [
       "<div style=\"overflow:auto\"><table style=\"width:50%\"><tr><td><b>variable</b></td>\n",
       "<td><b>relative_importance</b></td>\n",
       "<td><b>scaled_importance</b></td>\n",
       "<td><b>percentage</b></td></tr>\n",
       "<tr><td>C77</td>\n",
       "<td>795.9478760</td>\n",
       "<td>1.0</td>\n",
       "<td>0.1489959</td></tr>\n",
       "<tr><td>C37</td>\n",
       "<td>452.4991150</td>\n",
       "<td>0.5685035</td>\n",
       "<td>0.0847047</td></tr>\n",
       "<tr><td>C65</td>\n",
       "<td>264.6298218</td>\n",
       "<td>0.3324713</td>\n",
       "<td>0.0495369</td></tr>\n",
       "<tr><td>C75</td>\n",
       "<td>257.5611572</td>\n",
       "<td>0.3235905</td>\n",
       "<td>0.0482137</td></tr>\n",
       "<tr><td>C42</td>\n",
       "<td>248.3355865</td>\n",
       "<td>0.3119998</td>\n",
       "<td>0.0464867</td></tr>\n",
       "<tr><td>---</td>\n",
       "<td>---</td>\n",
       "<td>---</td>\n",
       "<td>---</td></tr>\n",
       "<tr><td>C46</td>\n",
       "<td>2.6425276</td>\n",
       "<td>0.0033200</td>\n",
       "<td>0.0004947</td></tr>\n",
       "<tr><td>C13</td>\n",
       "<td>0.9694639</td>\n",
       "<td>0.0012180</td>\n",
       "<td>0.0001815</td></tr>\n",
       "<tr><td>C39</td>\n",
       "<td>0.0</td>\n",
       "<td>0.0</td>\n",
       "<td>0.0</td></tr>\n",
       "<tr><td>C83</td>\n",
       "<td>0.0</td>\n",
       "<td>0.0</td>\n",
       "<td>0.0</td></tr>\n",
       "<tr><td>C95</td>\n",
       "<td>0.0</td>\n",
       "<td>0.0</td>\n",
       "<td>0.0</td></tr></table></div>"
      ],
      "text/plain": [
       "variable    relative_importance    scaled_importance      percentage\n",
       "----------  ---------------------  ---------------------  ----------------------\n",
       "C77         795.9478759765625      1.0                    0.14899591602357695\n",
       "C37         452.4991149902344      0.5685034518561347     0.08470469257187026\n",
       "C65         264.62982177734375     0.3324712958780935     0.04953686528090222\n",
       "C75         257.5611572265625      0.32359048249303535    0.04821366035556104\n",
       "C42         248.33558654785156     0.3119998105945873     0.04648669757872304\n",
       "---         ---                    ---                    ---\n",
       "C46         2.6425275802612305     0.0033199756667722327  0.0004946628156467144\n",
       "C13         0.9694639444351196     0.0012179992857518052  0.00018147691929665269\n",
       "C39         0.0                    0.0                    0.0\n",
       "C83         0.0                    0.0                    0.0\n",
       "C95         0.0                    0.0                    0.0"
      ]
     },
     "metadata": {},
     "output_type": "display_data"
    },
    {
     "name": "stdout",
     "output_type": "stream",
     "text": [
      "\n",
      "See the whole table with table.as_data_frame()\n",
      "\n",
      "Generated MOJO path:\n",
      " /Users/mandy/Desktop/AI-Addin/notebook/data\n"
     ]
    }
   ],
   "source": [
    "# persist MOJO (compiled, representation of trained model)\n",
    "# from which to generate plot of surrogate\n",
    "mojo_path = gbm.download_mojo(path='data')\n",
    "\n",
    "print(gbm)\n",
    "print('Generated MOJO path:\\n', mojo_path)"
   ]
  },
  {
   "cell_type": "code",
   "execution_count": null,
   "metadata": {},
   "outputs": [],
   "source": []
  },
  {
   "cell_type": "markdown",
   "metadata": {},
   "source": [
    "## 2.4.2 Interpretability"
   ]
  },
  {
   "cell_type": "markdown",
   "metadata": {},
   "source": [
    "#### Variable Importance"
   ]
  },
  {
   "cell_type": "code",
   "execution_count": 31,
   "metadata": {},
   "outputs": [
    {
     "data": {
      "image/png": "[encoded data removed]",
      "text/plain": [
       "<Figure size 1008x720 with 1 Axes>"
      ]
     },
     "metadata": {
      "needs_background": "light"
     },
     "output_type": "display_data"
    }
   ],
   "source": [
    "gbm.varimp_plot()"
   ]
  },
  {
   "cell_type": "markdown",
   "metadata": {},
   "source": [
    "#### Partial Dependence Plot (PDP)"
   ]
  },
  {
   "cell_type": "code",
   "execution_count": 32,
   "metadata": {
    "scrolled": false
   },
   "outputs": [
    {
     "name": "stdout",
     "output_type": "stream",
     "text": [
      "PartialDependencePlot progress: |█████████████████████████████████████████| 100%\n"
     ]
    },
    {
     "data": {
      "image/png": "[encoded data removed]",
      "text/plain": [
       "<Figure size 504x720 with 1 Axes>"
      ]
     },
     "metadata": {
      "needs_background": "light"
     },
     "output_type": "display_data"
    }
   ],
   "source": [
    "pdp_helpfulness = gbm.partial_plot(ext_train, cols = ['C77'])"
   ]
  },
  {
   "cell_type": "markdown",
   "metadata": {},
   "source": [
    "#### Individual Conditional Expectation (ICE)"
   ]
  },
  {
   "cell_type": "code",
   "execution_count": 72,
   "metadata": {},
   "outputs": [
    {
     "name": "stdout",
     "output_type": "stream",
     "text": [
      "Parse progress: |█████████████████████████████████████████████████████████| 100%\n"
     ]
    }
   ],
   "source": [
    "ext_train_gice = h2o.H2OFrame(ext_train.as_data_frame().iloc[::15])"
   ]
  },
  {
   "cell_type": "code",
   "execution_count": 73,
   "metadata": {},
   "outputs": [
    {
     "data": {
      "text/plain": [
       "(538, 111)"
      ]
     },
     "execution_count": 73,
     "metadata": {},
     "output_type": "execute_result"
    }
   ],
   "source": [
    "ext_train_gice.shape"
   ]
  },
  {
   "cell_type": "code",
   "execution_count": 74,
   "metadata": {},
   "outputs": [
    {
     "name": "stdout",
     "output_type": "stream",
     "text": [
      "Parse progress: |█████████████████████████████████████████████████████████| 100%\n",
      "gbm prediction progress: |████████████████████████████████████████████████| 100%\n"
     ]
    }
   ],
   "source": [
    "C77_ice_df = ice(data=ext_train_gice, column='C77', model=gbm)"
   ]
  },
  {
   "cell_type": "code",
   "execution_count": 75,
   "metadata": {},
   "outputs": [
    {
     "data": {
      "image/png": "[encoded data removed]",
      "text/plain": [
       "<Figure size 1008x792 with 2 Axes>"
      ]
     },
     "metadata": {
      "needs_background": "light"
     },
     "output_type": "display_data"
    }
   ],
   "source": [
    "ice_plot(C77_ice_df, linewidth=0.5, color_by='Id', cmap='coolwarm',\n",
    "        plot_pdp=True, pdp_kwargs={'c': 'k', 'linewidth': 3})\n",
    "vals = C77_ice_df.columns.get_level_values('Id').values\n",
    "sm = plt.cm.ScalarMappable(cmap='coolwarm', norm=plt.Normalize(vmin=vals.min(), vmax=vals.max()))\n",
    "sm._A = []\n",
    "plt.colorbar(sm, label='Id')\n",
    "plt.ylabel('Pred. AV %ile')\n",
    "plt.xlabel('C77');"
   ]
  },
  {
   "cell_type": "markdown",
   "metadata": {},
   "source": [
    "### 2.4.3 Matrix"
   ]
  },
  {
   "cell_type": "code",
   "execution_count": 76,
   "metadata": {},
   "outputs": [
    {
     "name": "stdout",
     "output_type": "stream",
     "text": [
      "AUC on validation data: 0.854\n"
     ]
    }
   ],
   "source": [
    "print(\"AUC on validation data: \" + str(round(gbm.auc(valid = True), 3)))"
   ]
  },
  {
   "cell_type": "code",
   "execution_count": 77,
   "metadata": {},
   "outputs": [
    {
     "name": "stdout",
     "output_type": "stream",
     "text": [
      "Confusion Matrix (Act/Pred) for max f1 @ threshold = 0.35734143953952213: \n"
     ]
    },
    {
     "data": {
      "text/html": [
       "<div style=\"overflow:auto\"><table style=\"width:50%\"><tr><td><b></b></td>\n",
       "<td><b>0</b></td>\n",
       "<td><b>1</b></td>\n",
       "<td><b>Error</b></td>\n",
       "<td><b>Rate</b></td></tr>\n",
       "<tr><td>0</td>\n",
       "<td>254.0</td>\n",
       "<td>368.0</td>\n",
       "<td>0.5916</td>\n",
       "<td> (368.0/622.0)</td></tr>\n",
       "<tr><td>1</td>\n",
       "<td>56.0</td>\n",
       "<td>1340.0</td>\n",
       "<td>0.0401</td>\n",
       "<td> (56.0/1396.0)</td></tr>\n",
       "<tr><td>Total</td>\n",
       "<td>310.0</td>\n",
       "<td>1708.0</td>\n",
       "<td>0.2101</td>\n",
       "<td> (424.0/2018.0)</td></tr></table></div>"
      ],
      "text/plain": [
       "       0    1     Error    Rate\n",
       "-----  ---  ----  -------  --------------\n",
       "0      254  368   0.5916   (368.0/622.0)\n",
       "1      56   1340  0.0401   (56.0/1396.0)\n",
       "Total  310  1708  0.2101   (424.0/2018.0)"
      ]
     },
     "metadata": {},
     "output_type": "display_data"
    },
    {
     "data": {
      "text/plain": []
     },
     "execution_count": 77,
     "metadata": {},
     "output_type": "execute_result"
    }
   ],
   "source": [
    "gbm.confusion_matrix(valid=True)"
   ]
  },
  {
   "cell_type": "code",
   "execution_count": 78,
   "metadata": {},
   "outputs": [
    {
     "data": {
      "text/plain": [
       "{'train': 0.5910435682943632, 'valid': 0.3474327558909355}"
      ]
     },
     "execution_count": 78,
     "metadata": {},
     "output_type": "execute_result"
    }
   ],
   "source": [
    "gbm.r2(train=True, valid=True)"
   ]
  },
  {
   "cell_type": "code",
   "execution_count": null,
   "metadata": {},
   "outputs": [],
   "source": []
  },
  {
   "cell_type": "code",
   "execution_count": null,
   "metadata": {},
   "outputs": [],
   "source": []
  },
  {
   "cell_type": "code",
   "execution_count": 22,
   "metadata": {},
   "outputs": [
    {
     "name": "stdout",
     "output_type": "stream",
     "text": [
      "H2O session _sid_970d closed.\n"
     ]
    }
   ],
   "source": [
    "# h2o.cluster().shutdown()"
   ]
  },
  {
   "cell_type": "code",
   "execution_count": null,
   "metadata": {},
   "outputs": [],
   "source": []
  }
 ],
 "metadata": {
  "kernelspec": {
   "display_name": "Python 3",
   "language": "python",
   "name": "python3"
  },
  "language_info": {
   "codemirror_mode": {
    "name": "ipython",
    "version": 3
   },
   "file_extension": ".py",
   "mimetype": "text/x-python",
   "name": "python",
   "nbconvert_exporter": "python",
   "pygments_lexer": "ipython3",
   "version": "3.7.2"
  },
  "toc": {
   "base_numbering": 1,
   "nav_menu": {},
   "number_sections": false,
   "sideBar": true,
   "skip_h1_title": false,
   "title_cell": "Table of Contents",
   "title_sidebar": "Contents",
   "toc_cell": false,
   "toc_position": {
    "height": "calc(100% - 180px)",
    "left": "10px",
    "top": "150px",
    "width": "336px"
   },
   "toc_section_display": true,
   "toc_window_display": true
  },
  "varInspector": {
   "cols": {
    "lenName": 16,
    "lenType": 16,
    "lenVar": 40
   },
   "kernels_config": {
    "python": {
     "delete_cmd_postfix": "",
     "delete_cmd_prefix": "del ",
     "library": "var_list.py",
     "varRefreshCmd": "print(var_dic_list())"
    },
    "r": {
     "delete_cmd_postfix": ") ",
     "delete_cmd_prefix": "rm(",
     "library": "var_list.r",
     "varRefreshCmd": "cat(var_dic_list()) "
    }
   },
   "types_to_exclude": [
    "module",
    "function",
    "builtin_function_or_method",
    "instance",
    "_Feature"
   ],
   "window_display": false
  }
 },
 "nbformat": 4,
 "nbformat_minor": 2
}
