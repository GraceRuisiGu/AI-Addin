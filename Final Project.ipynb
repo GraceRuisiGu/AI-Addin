{
 "cells": [
  {
   "cell_type": "code",
   "execution_count": 1,
   "metadata": {},
   "outputs": [],
   "source": [
    "import h2o\n",
    "import operator\n",
    "from h2o.automl import H2OAutoML\n",
    "import random, os, sys\n",
    "from datetime import datetime\n",
    "import pandas as pd\n",
    "import logging\n",
    "import csv\n",
    "import optparse\n",
    "import time\n",
    "import json\n",
    "from distutils.util import strtobool\n",
    "import psutil\n",
    "import numpy as np\n",
    "from matplotlib import pyplot as plt\n",
    "import warnings\n",
    "from h2o.estimators.glm import H2OGeneralizedLinearEstimator\n",
    "from h2o.estimators import H2OGradientBoostingEstimator\n",
    "warnings.filterwarnings(\"ignore\")"
   ]
  },
  {
   "cell_type": "markdown",
   "metadata": {},
   "source": [
    "# 1 Data Preparation"
   ]
  },
  {
   "cell_type": "markdown",
   "metadata": {},
   "source": [
    "## 1.1 H2O Initialization"
   ]
  },
  {
   "cell_type": "code",
   "execution_count": 2,
   "metadata": {},
   "outputs": [
    {
     "name": "stdout",
     "output_type": "stream",
     "text": [
      "30\n"
     ]
    }
   ],
   "source": [
    "pct_memory=4\n",
    "virtual_memory=psutil.virtual_memory()\n",
    "min_mem_size=int(round(int(pct_memory*virtual_memory.available)/1073741824,0))\n",
    "print(min_mem_size)"
   ]
  },
  {
   "cell_type": "code",
   "execution_count": 3,
   "metadata": {},
   "outputs": [
    {
     "name": "stdout",
     "output_type": "stream",
     "text": [
      "Checking whether there is an H2O instance running at http://localhost:54321 . connected.\n"
     ]
    },
    {
     "data": {
      "text/html": [
       "<div style=\"overflow:auto\"><table style=\"width:50%\"><tr><td>H2O cluster uptime:</td>\n",
       "<td>6 hours 36 mins</td></tr>\n",
       "<tr><td>H2O cluster timezone:</td>\n",
       "<td>America/New_York</td></tr>\n",
       "<tr><td>H2O data parsing timezone:</td>\n",
       "<td>UTC</td></tr>\n",
       "<tr><td>H2O cluster version:</td>\n",
       "<td>3.24.0.1</td></tr>\n",
       "<tr><td>H2O cluster version age:</td>\n",
       "<td>21 days, 7 hours and 1 minute </td></tr>\n",
       "<tr><td>H2O cluster name:</td>\n",
       "<td>H2O_from_python_mandy_ktbc53</td></tr>\n",
       "<tr><td>H2O cluster total nodes:</td>\n",
       "<td>1</td></tr>\n",
       "<tr><td>H2O cluster free memory:</td>\n",
       "<td>29.00 Gb</td></tr>\n",
       "<tr><td>H2O cluster total cores:</td>\n",
       "<td>12</td></tr>\n",
       "<tr><td>H2O cluster allowed cores:</td>\n",
       "<td>12</td></tr>\n",
       "<tr><td>H2O cluster status:</td>\n",
       "<td>locked, healthy</td></tr>\n",
       "<tr><td>H2O connection url:</td>\n",
       "<td>http://localhost:54321</td></tr>\n",
       "<tr><td>H2O connection proxy:</td>\n",
       "<td>None</td></tr>\n",
       "<tr><td>H2O internal security:</td>\n",
       "<td>False</td></tr>\n",
       "<tr><td>H2O API Extensions:</td>\n",
       "<td>Amazon S3, XGBoost, Algos, AutoML, Core V3, Core V4</td></tr>\n",
       "<tr><td>Python version:</td>\n",
       "<td>3.7.2 final</td></tr></table></div>"
      ],
      "text/plain": [
       "--------------------------  ---------------------------------------------------\n",
       "H2O cluster uptime:         6 hours 36 mins\n",
       "H2O cluster timezone:       America/New_York\n",
       "H2O data parsing timezone:  UTC\n",
       "H2O cluster version:        3.24.0.1\n",
       "H2O cluster version age:    21 days, 7 hours and 1 minute\n",
       "H2O cluster name:           H2O_from_python_mandy_ktbc53\n",
       "H2O cluster total nodes:    1\n",
       "H2O cluster free memory:    29.00 Gb\n",
       "H2O cluster total cores:    12\n",
       "H2O cluster allowed cores:  12\n",
       "H2O cluster status:         locked, healthy\n",
       "H2O connection url:         http://localhost:54321\n",
       "H2O connection proxy:\n",
       "H2O internal security:      False\n",
       "H2O API Extensions:         Amazon S3, XGBoost, Algos, AutoML, Core V3, Core V4\n",
       "Python version:             3.7.2 final\n",
       "--------------------------  ---------------------------------------------------"
      ]
     },
     "metadata": {},
     "output_type": "display_data"
    }
   ],
   "source": [
    "h2o.init(strict_version_check=False,max_mem_size=min_mem_size)"
   ]
  },
  {
   "cell_type": "markdown",
   "metadata": {},
   "source": [
    "## 1.2 Data Import & Parse"
   ]
  },
  {
   "cell_type": "code",
   "execution_count": 4,
   "metadata": {},
   "outputs": [
    {
     "name": "stdout",
     "output_type": "stream",
     "text": [
      "Parse progress: |█████████████████████████████████████████████████████████| 100%\n"
     ]
    }
   ],
   "source": [
    "data_path = \"AmazonReviews.Small.csv\"\n",
    "\n",
    "# Load data into H2O\n",
    "reviews = h2o.import_file(data_path)"
   ]
  },
  {
   "cell_type": "code",
   "execution_count": 5,
   "metadata": {},
   "outputs": [
    {
     "data": {
      "text/plain": [
       "(55554, 10)"
      ]
     },
     "execution_count": 5,
     "metadata": {},
     "output_type": "execute_result"
    }
   ],
   "source": [
    "reviews.shape"
   ]
  },
  {
   "cell_type": "code",
   "execution_count": 6,
   "metadata": {
    "scrolled": false
   },
   "outputs": [
    {
     "data": {
      "text/html": [
       "<table>\n",
       "<thead>\n",
       "<tr><th>ProductId  </th><th>UserId        </th><th>Summary                     </th><th style=\"text-align: right;\">  Score</th><th style=\"text-align: right;\">  HelpfulnessDenominator</th><th style=\"text-align: right;\">    Id</th><th>ProfileName        </th><th style=\"text-align: right;\">  HelpfulnessNumerator</th><th style=\"text-align: right;\">       Time</th><th>Text                                                                                                                                                                                                                                                                                                                                                                            </th></tr>\n",
       "</thead>\n",
       "<tbody>\n",
       "<tr><td>B00141QYSQ </td><td>A1YS02UZZGRDCT</td><td>Do Not Buy                  </td><td style=\"text-align: right;\">      1</td><td style=\"text-align: right;\">                       2</td><td style=\"text-align: right;\"> 41471</td><td>Evan Eberhardt     </td><td style=\"text-align: right;\">                     2</td><td style=\"text-align: right;\">1.34836e+09</td><td>These are made in China (do not buy ANY pet food from China).  Dogswell has been using propylene glycol to soften their treats (what are they thinkng?).  Do not purchase or support this company in any way until they clean up their act.  And for whatever reason Amazon doesn't allow returns of this item, so I had to toss mine out.  Bad business all around on this one.</td></tr>\n",
       "<tr><td>B0089SPEO2 </td><td>A3JOYNYL458QHP</td><td>Less lemon and less zing    </td><td style=\"text-align: right;\">      3</td><td style=\"text-align: right;\">                       0</td><td style=\"text-align: right;\"> 28582</td><td>coleridge          </td><td style=\"text-align: right;\">                     0</td><td style=\"text-align: right;\">1.32391e+09</td><td>Everything is ok, except it just isn't as good as it is in the bags.  Just considerably more bland -- less lemon and less zing.  Boring.                                                                                                                                                                                                                                        </td></tr>\n",
       "<tr><td>B001PMCDK2 </td><td>A14TTMM0Z03Y2W</td><td>my cat goes crazy for these!</td><td style=\"text-align: right;\">      5</td><td style=\"text-align: right;\">                       0</td><td style=\"text-align: right;\">389965</td><td>Lindsay S. Bradford</td><td style=\"text-align: right;\">                     0</td><td style=\"text-align: right;\">1.3106e+09 </td><td>Best cat treat ever. There isn't anything comparable to the love my cat has for these treats, he snubs away any other kind now.<br />I know he likes to manipulate me with his cattiness but these treats are my way of manipulating him to come sit on my lap and have some chill time. :)                                                                                     </td></tr>\n",
       "</tbody>\n",
       "</table>"
      ]
     },
     "metadata": {},
     "output_type": "display_data"
    },
    {
     "data": {
      "text/plain": []
     },
     "execution_count": 6,
     "metadata": {},
     "output_type": "execute_result"
    }
   ],
   "source": [
    "reviews.head(3)"
   ]
  },
  {
   "cell_type": "code",
   "execution_count": 7,
   "metadata": {},
   "outputs": [],
   "source": [
    "reviews['PositiveReview']=(reviews['Score']>=reviews['Score'].mean()[0]).ifelse('1','0')"
   ]
  },
  {
   "cell_type": "code",
   "execution_count": 8,
   "metadata": {},
   "outputs": [
    {
     "data": {
      "text/html": [
       "<table>\n",
       "<thead>\n",
       "<tr><th style=\"text-align: right;\">  PositiveReview</th><th style=\"text-align: right;\">  Count</th></tr>\n",
       "</thead>\n",
       "<tbody>\n",
       "<tr><td style=\"text-align: right;\">               0</td><td style=\"text-align: right;\">  20106</td></tr>\n",
       "<tr><td style=\"text-align: right;\">               1</td><td style=\"text-align: right;\">  35448</td></tr>\n",
       "</tbody>\n",
       "</table>"
      ]
     },
     "metadata": {},
     "output_type": "display_data"
    },
    {
     "data": {
      "text/plain": []
     },
     "execution_count": 8,
     "metadata": {},
     "output_type": "execute_result"
    }
   ],
   "source": [
    "reviews['PositiveReview'].table()"
   ]
  },
  {
   "cell_type": "code",
   "execution_count": 9,
   "metadata": {},
   "outputs": [],
   "source": [
    "# Find the 80th quantile of time in the dataset\n",
    "time_split = reviews[\"Time\"].quantile(prob = [0.8])[1]\n",
    "reviews[\"Train\"] = (reviews[\"Time\"] < time_split).ifelse(\"Yes\", \"No\")"
   ]
  },
  {
   "cell_type": "code",
   "execution_count": 10,
   "metadata": {},
   "outputs": [
    {
     "data": {
      "text/html": [
       "<table>\n",
       "<thead>\n",
       "<tr><th>Train  </th><th style=\"text-align: right;\">  Count</th></tr>\n",
       "</thead>\n",
       "<tbody>\n",
       "<tr><td>No     </td><td style=\"text-align: right;\">  11152</td></tr>\n",
       "<tr><td>Yes    </td><td style=\"text-align: right;\">  44402</td></tr>\n",
       "</tbody>\n",
       "</table>"
      ]
     },
     "metadata": {},
     "output_type": "display_data"
    },
    {
     "data": {
      "text/plain": []
     },
     "execution_count": 10,
     "metadata": {},
     "output_type": "execute_result"
    }
   ],
   "source": [
    "reviews['Train'].table()"
   ]
  },
  {
   "cell_type": "code",
   "execution_count": 11,
   "metadata": {},
   "outputs": [],
   "source": [
    "train = reviews[reviews[\"Train\"] == \"Yes\"]\n",
    "test = reviews[reviews[\"Train\"] == \"No\"]"
   ]
  },
  {
   "cell_type": "markdown",
   "metadata": {},
   "source": [
    "## 1.3 Tokenize Words in Review"
   ]
  },
  {
   "cell_type": "code",
   "execution_count": 12,
   "metadata": {},
   "outputs": [],
   "source": [
    "data_path = \"stopwords.csv\"\n",
    "STOP_WORDS = pd.read_csv(data_path, header=0)"
   ]
  },
  {
   "cell_type": "code",
   "execution_count": 13,
   "metadata": {},
   "outputs": [
    {
     "data": {
      "text/html": [
       "<div>\n",
       "<style scoped>\n",
       "    .dataframe tbody tr th:only-of-type {\n",
       "        vertical-align: middle;\n",
       "    }\n",
       "\n",
       "    .dataframe tbody tr th {\n",
       "        vertical-align: top;\n",
       "    }\n",
       "\n",
       "    .dataframe thead th {\n",
       "        text-align: right;\n",
       "    }\n",
       "</style>\n",
       "<table border=\"1\" class=\"dataframe\">\n",
       "  <thead>\n",
       "    <tr style=\"text-align: right;\">\n",
       "      <th></th>\n",
       "      <th>STOP_WORD</th>\n",
       "    </tr>\n",
       "  </thead>\n",
       "  <tbody>\n",
       "    <tr>\n",
       "      <th>0</th>\n",
       "      <td>all</td>\n",
       "    </tr>\n",
       "    <tr>\n",
       "      <th>1</th>\n",
       "      <td>just</td>\n",
       "    </tr>\n",
       "    <tr>\n",
       "      <th>2</th>\n",
       "      <td>being</td>\n",
       "    </tr>\n",
       "    <tr>\n",
       "      <th>3</th>\n",
       "      <td>over</td>\n",
       "    </tr>\n",
       "    <tr>\n",
       "      <th>4</th>\n",
       "      <td>both</td>\n",
       "    </tr>\n",
       "  </tbody>\n",
       "</table>\n",
       "</div>"
      ],
      "text/plain": [
       "  STOP_WORD\n",
       "0       all\n",
       "1      just\n",
       "2     being\n",
       "3      over\n",
       "4      both"
      ]
     },
     "execution_count": 13,
     "metadata": {},
     "output_type": "execute_result"
    }
   ],
   "source": [
    "STOP_WORDS.head()"
   ]
  },
  {
   "cell_type": "code",
   "execution_count": 14,
   "metadata": {},
   "outputs": [],
   "source": [
    "STOP_WORDS = list(STOP_WORDS['STOP_WORD'])"
   ]
  },
  {
   "cell_type": "code",
   "execution_count": 15,
   "metadata": {},
   "outputs": [],
   "source": [
    "def tokenize(sentences, stop_word = STOP_WORDS):\n",
    "    tokenized = sentences.tokenize(\"\\\\W+\")\n",
    "    tokenized_lower = tokenized.tolower()\n",
    "    tokenized_filtered = tokenized_lower[(tokenized_lower.nchar() >= 2) | (tokenized_lower.isna()),:]\n",
    "    tokenized_words = tokenized_filtered[tokenized_filtered.grep(\"[0-9]\",invert=True,output_logical=True),:]\n",
    "    tokenized_words = tokenized_words[(tokenized_words.isna()) | (~ tokenized_words.isin(STOP_WORDS)),:]\n",
    "    return tokenized_words"
   ]
  },
  {
   "cell_type": "code",
   "execution_count": 16,
   "metadata": {},
   "outputs": [],
   "source": [
    "# Break reviews into sequence of words\n",
    "words = tokenize(reviews[\"Text\"])"
   ]
  },
  {
   "cell_type": "code",
   "execution_count": 17,
   "metadata": {},
   "outputs": [
    {
     "data": {
      "text/html": [
       "<table>\n",
       "<thead>\n",
       "<tr><th>C1       </th></tr>\n",
       "</thead>\n",
       "<tbody>\n",
       "<tr><td>made     </td></tr>\n",
       "<tr><td>china    </td></tr>\n",
       "<tr><td>buy      </td></tr>\n",
       "<tr><td>pet      </td></tr>\n",
       "<tr><td>food     </td></tr>\n",
       "<tr><td>china    </td></tr>\n",
       "<tr><td>dogswell </td></tr>\n",
       "<tr><td>using    </td></tr>\n",
       "<tr><td>propylene</td></tr>\n",
       "<tr><td>glycol   </td></tr>\n",
       "</tbody>\n",
       "</table>"
      ]
     },
     "metadata": {},
     "output_type": "display_data"
    },
    {
     "data": {
      "text/plain": []
     },
     "execution_count": 17,
     "metadata": {},
     "output_type": "execute_result"
    }
   ],
   "source": [
    "words.head()"
   ]
  },
  {
   "cell_type": "markdown",
   "metadata": {},
   "source": [
    "## 1.4 Word2Vec Model"
   ]
  },
  {
   "cell_type": "code",
   "execution_count": 18,
   "metadata": {},
   "outputs": [
    {
     "name": "stdout",
     "output_type": "stream",
     "text": [
      "word2vec Model Build progress: |██████████████████████████████████████████| 100%\n"
     ]
    },
    {
     "data": {
      "text/plain": [
       "'/Users/mandy/Documents/Study/AI-Addin/data/w2v.hex'"
      ]
     },
     "execution_count": 18,
     "metadata": {},
     "output_type": "execute_result"
    }
   ],
   "source": [
    "# Train Word2Vec Model\n",
    "from h2o.estimators.word2vec import H2OWord2vecEstimator\n",
    "\n",
    "\n",
    "w2v_model = H2OWord2vecEstimator(vec_size = 100, model_id = \"w2v.hex\")\n",
    "w2v_model.train(training_frame=words)\n",
    "\n",
    "models_path='data'\n",
    "h2o.save_model(w2v_model, path = models_path, force = True)"
   ]
  },
  {
   "cell_type": "code",
   "execution_count": 19,
   "metadata": {},
   "outputs": [
    {
     "data": {
      "text/plain": [
       "OrderedDict([('coffees', 0.8112831115722656),\n",
       "             ('coffe', 0.7672229409217834),\n",
       "             ('starbucks', 0.7373808026313782),\n",
       "             ('espresso', 0.7244898080825806),\n",
       "             ('expresso', 0.7235153913497925)])"
      ]
     },
     "execution_count": 19,
     "metadata": {},
     "output_type": "execute_result"
    }
   ],
   "source": [
    "# Sanity check - find synonyms for the word 'coffee'\n",
    "w2v_model.find_synonyms(\"coffee\", count = 5)"
   ]
  },
  {
   "cell_type": "code",
   "execution_count": 20,
   "metadata": {},
   "outputs": [
    {
     "data": {
      "text/plain": [
       "OrderedDict([('rancid', 0.697009265422821),\n",
       "             ('odd', 0.6221301555633545),\n",
       "             ('unedible', 0.6123058795928955),\n",
       "             ('moldy', 0.6110015511512756),\n",
       "             ('inedible', 0.6071382761001587)])"
      ]
     },
     "execution_count": 20,
     "metadata": {},
     "output_type": "execute_result"
    }
   ],
   "source": [
    "# Sanity check - find synonyms for the word 'stale'\n",
    "w2v_model.find_synonyms(\"stale\", count = 5)"
   ]
  },
  {
   "cell_type": "code",
   "execution_count": 21,
   "metadata": {},
   "outputs": [
    {
     "data": {
      "text/html": [
       "<table>\n",
       "<thead>\n",
       "<tr><th style=\"text-align: right;\">        C1</th><th style=\"text-align: right;\">        C2</th><th style=\"text-align: right;\">        C3</th><th style=\"text-align: right;\">        C4</th><th style=\"text-align: right;\">        C5</th><th style=\"text-align: right;\">        C6</th><th style=\"text-align: right;\">         C7</th><th style=\"text-align: right;\">       C8</th><th style=\"text-align: right;\">          C9</th><th style=\"text-align: right;\">       C10</th><th style=\"text-align: right;\">       C11</th><th style=\"text-align: right;\">       C12</th><th style=\"text-align: right;\">        C13</th><th style=\"text-align: right;\">        C14</th><th style=\"text-align: right;\">      C15</th><th style=\"text-align: right;\">         C16</th><th style=\"text-align: right;\">        C17</th><th style=\"text-align: right;\">        C18</th><th style=\"text-align: right;\">       C19</th><th style=\"text-align: right;\">      C20</th><th style=\"text-align: right;\">        C21</th><th style=\"text-align: right;\">      C22</th><th style=\"text-align: right;\">       C23</th><th style=\"text-align: right;\">     C24</th><th style=\"text-align: right;\">        C25</th><th style=\"text-align: right;\">       C26</th><th style=\"text-align: right;\">        C27</th><th style=\"text-align: right;\">         C28</th><th style=\"text-align: right;\">         C29</th><th style=\"text-align: right;\">        C30</th><th style=\"text-align: right;\">       C31</th><th style=\"text-align: right;\">      C32</th><th style=\"text-align: right;\">       C33</th><th style=\"text-align: right;\">        C34</th><th style=\"text-align: right;\">        C35</th><th style=\"text-align: right;\">       C36</th><th style=\"text-align: right;\">       C37</th><th style=\"text-align: right;\">       C38</th><th style=\"text-align: right;\">        C39</th><th style=\"text-align: right;\">         C40</th><th style=\"text-align: right;\">       C41</th><th style=\"text-align: right;\">        C42</th><th style=\"text-align: right;\">       C43</th><th style=\"text-align: right;\">        C44</th><th style=\"text-align: right;\">       C45</th><th style=\"text-align: right;\">       C46</th><th style=\"text-align: right;\">        C47</th><th style=\"text-align: right;\">        C48</th><th style=\"text-align: right;\">        C49</th><th style=\"text-align: right;\">       C50</th><th style=\"text-align: right;\">         C51</th><th style=\"text-align: right;\">       C52</th><th style=\"text-align: right;\">        C53</th><th style=\"text-align: right;\">      C54</th><th style=\"text-align: right;\">       C55</th><th style=\"text-align: right;\">         C56</th><th style=\"text-align: right;\">       C57</th><th style=\"text-align: right;\">         C58</th><th style=\"text-align: right;\">         C59</th><th style=\"text-align: right;\">        C60</th><th style=\"text-align: right;\">        C61</th><th style=\"text-align: right;\">       C62</th><th style=\"text-align: right;\">       C63</th><th style=\"text-align: right;\">       C64</th><th style=\"text-align: right;\">        C65</th><th style=\"text-align: right;\">        C66</th><th style=\"text-align: right;\">        C67</th><th style=\"text-align: right;\">       C68</th><th style=\"text-align: right;\">       C69</th><th style=\"text-align: right;\">        C70</th><th style=\"text-align: right;\">        C71</th><th style=\"text-align: right;\">       C72</th><th style=\"text-align: right;\">        C73</th><th style=\"text-align: right;\">       C74</th><th style=\"text-align: right;\">       C75</th><th style=\"text-align: right;\">       C76</th><th style=\"text-align: right;\">        C77</th><th style=\"text-align: right;\">       C78</th><th style=\"text-align: right;\">        C79</th><th style=\"text-align: right;\">         C80</th><th style=\"text-align: right;\">        C81</th><th style=\"text-align: right;\">       C82</th><th style=\"text-align: right;\">       C83</th><th style=\"text-align: right;\">        C84</th><th style=\"text-align: right;\">       C85</th><th style=\"text-align: right;\">       C86</th><th style=\"text-align: right;\">        C87</th><th style=\"text-align: right;\">        C88</th><th style=\"text-align: right;\">        C89</th><th style=\"text-align: right;\">     C90</th><th style=\"text-align: right;\">         C91</th><th style=\"text-align: right;\">         C92</th><th style=\"text-align: right;\">        C93</th><th style=\"text-align: right;\">       C94</th><th style=\"text-align: right;\">        C95</th><th style=\"text-align: right;\">        C96</th><th style=\"text-align: right;\">        C97</th><th style=\"text-align: right;\">       C98</th><th style=\"text-align: right;\">        C99</th><th style=\"text-align: right;\">       C100</th></tr>\n",
       "</thead>\n",
       "<tbody>\n",
       "<tr><td style=\"text-align: right;\"> 0.0703094</td><td style=\"text-align: right;\">-0.0395911</td><td style=\"text-align: right;\">-0.117531 </td><td style=\"text-align: right;\"> 0.0104144</td><td style=\"text-align: right;\"> 0.157438 </td><td style=\"text-align: right;\">-0.076705 </td><td style=\"text-align: right;\">-0.0164516 </td><td style=\"text-align: right;\">-0.162256</td><td style=\"text-align: right;\"> 0.165697   </td><td style=\"text-align: right;\"> 0.0514577</td><td style=\"text-align: right;\">-0.0595395</td><td style=\"text-align: right;\">-0.149631 </td><td style=\"text-align: right;\"> 0.181001  </td><td style=\"text-align: right;\"> 0.204681  </td><td style=\"text-align: right;\">0.110963 </td><td style=\"text-align: right;\">-0.0280449  </td><td style=\"text-align: right;\"> 0.014834  </td><td style=\"text-align: right;\">-0.130473  </td><td style=\"text-align: right;\">-0.0134254</td><td style=\"text-align: right;\">-0.224671</td><td style=\"text-align: right;\"> 0.0178087 </td><td style=\"text-align: right;\">-0.0714  </td><td style=\"text-align: right;\">-0.0234392</td><td style=\"text-align: right;\">0.157829</td><td style=\"text-align: right;\">0.185659   </td><td style=\"text-align: right;\"> 0.20062  </td><td style=\"text-align: right;\"> 0.0511474 </td><td style=\"text-align: right;\"> 0.000454547</td><td style=\"text-align: right;\">-0.0639399  </td><td style=\"text-align: right;\"> 0.0239243 </td><td style=\"text-align: right;\"> 0.0268345</td><td style=\"text-align: right;\">0.125227 </td><td style=\"text-align: right;\"> 0.191276 </td><td style=\"text-align: right;\"> 0.0455835 </td><td style=\"text-align: right;\"> 0.178063  </td><td style=\"text-align: right;\">-0.052446 </td><td style=\"text-align: right;\"> 0.0301221</td><td style=\"text-align: right;\"> 0.0254013</td><td style=\"text-align: right;\"> 0.0207386 </td><td style=\"text-align: right;\">-0.128052   </td><td style=\"text-align: right;\">-0.0739024</td><td style=\"text-align: right;\">-0.0750217 </td><td style=\"text-align: right;\"> 0.165129 </td><td style=\"text-align: right;\">-0.219145  </td><td style=\"text-align: right;\">-0.222636 </td><td style=\"text-align: right;\"> 0.107566 </td><td style=\"text-align: right;\">-0.118672  </td><td style=\"text-align: right;\">-0.00979281</td><td style=\"text-align: right;\"> 0.0917284 </td><td style=\"text-align: right;\">-0.0608468</td><td style=\"text-align: right;\"> 0.101565   </td><td style=\"text-align: right;\">-0.0682883</td><td style=\"text-align: right;\"> 0.0371481 </td><td style=\"text-align: right;\">0.187462 </td><td style=\"text-align: right;\"> 0.0415303</td><td style=\"text-align: right;\">-0.0135254  </td><td style=\"text-align: right;\">-0.17125  </td><td style=\"text-align: right;\"> 0.173416   </td><td style=\"text-align: right;\">-0.00203453 </td><td style=\"text-align: right;\"> 0.00241387</td><td style=\"text-align: right;\">-0.140079  </td><td style=\"text-align: right;\"> 0.130033 </td><td style=\"text-align: right;\">-0.0357338</td><td style=\"text-align: right;\">-0.198327 </td><td style=\"text-align: right;\"> 0.103732  </td><td style=\"text-align: right;\">-0.117349  </td><td style=\"text-align: right;\"> 0.00713053</td><td style=\"text-align: right;\">-0.104939 </td><td style=\"text-align: right;\"> 0.012536 </td><td style=\"text-align: right;\"> 0.0385507 </td><td style=\"text-align: right;\">-0.0443138 </td><td style=\"text-align: right;\">-0.100059 </td><td style=\"text-align: right;\"> 0.012989  </td><td style=\"text-align: right;\">-0.0253023</td><td style=\"text-align: right;\">-0.222702 </td><td style=\"text-align: right;\"> 0.0136286</td><td style=\"text-align: right;\">-0.0642296 </td><td style=\"text-align: right;\"> 0.0235267</td><td style=\"text-align: right;\">-0.140536  </td><td style=\"text-align: right;\">-0.00686113 </td><td style=\"text-align: right;\">-0.0510982 </td><td style=\"text-align: right;\">-0.0178214</td><td style=\"text-align: right;\"> 0.120792 </td><td style=\"text-align: right;\"> 0.00643385</td><td style=\"text-align: right;\">-0.116548 </td><td style=\"text-align: right;\">-0.0438167</td><td style=\"text-align: right;\"> 0.0471998 </td><td style=\"text-align: right;\"> 0.00301578</td><td style=\"text-align: right;\">-0.00571513</td><td style=\"text-align: right;\">0.159997</td><td style=\"text-align: right;\">-0.0155437  </td><td style=\"text-align: right;\"> 0.145022   </td><td style=\"text-align: right;\">-0.104031  </td><td style=\"text-align: right;\"> 0.0977537</td><td style=\"text-align: right;\"> 0.0756188 </td><td style=\"text-align: right;\"> 0.023952  </td><td style=\"text-align: right;\">-0.130919  </td><td style=\"text-align: right;\"> 0.0163749</td><td style=\"text-align: right;\">-0.147719  </td><td style=\"text-align: right;\">-0.0516117 </td></tr>\n",
       "<tr><td style=\"text-align: right;\">-0.0519809</td><td style=\"text-align: right;\"> 0.289595 </td><td style=\"text-align: right;\">-0.27588  </td><td style=\"text-align: right;\"> 0.276799 </td><td style=\"text-align: right;\"> 0.0386997</td><td style=\"text-align: right;\">-0.0379946</td><td style=\"text-align: right;\">-0.00665416</td><td style=\"text-align: right;\">-0.316858</td><td style=\"text-align: right;\"> 0.0713603  </td><td style=\"text-align: right;\"> 0.0277716</td><td style=\"text-align: right;\"> 0.0526271</td><td style=\"text-align: right;\"> 0.0238031</td><td style=\"text-align: right;\">-0.0484786 </td><td style=\"text-align: right;\">-0.00488661</td><td style=\"text-align: right;\">0.0612829</td><td style=\"text-align: right;\"> 0.000413289</td><td style=\"text-align: right;\"> 0.0538962 </td><td style=\"text-align: right;\"> 0.0156217 </td><td style=\"text-align: right;\">-0.0210634</td><td style=\"text-align: right;\">-0.147432</td><td style=\"text-align: right;\"> 0.112688  </td><td style=\"text-align: right;\">-0.117605</td><td style=\"text-align: right;\">-0.0882154</td><td style=\"text-align: right;\">0.206558</td><td style=\"text-align: right;\">0.191525   </td><td style=\"text-align: right;\">-0.106603 </td><td style=\"text-align: right;\">-0.0381607 </td><td style=\"text-align: right;\"> 0.220812   </td><td style=\"text-align: right;\">-0.129079   </td><td style=\"text-align: right;\">-0.0684997 </td><td style=\"text-align: right;\">-0.122232 </td><td style=\"text-align: right;\">0.0696295</td><td style=\"text-align: right;\"> 0.116955 </td><td style=\"text-align: right;\">-0.0593617 </td><td style=\"text-align: right;\"> 0.0738468 </td><td style=\"text-align: right;\">-0.0189005</td><td style=\"text-align: right;\">-0.0344434</td><td style=\"text-align: right;\"> 0.0203135</td><td style=\"text-align: right;\">-0.0468166 </td><td style=\"text-align: right;\">-0.0392924  </td><td style=\"text-align: right;\">-0.059241 </td><td style=\"text-align: right;\"> 0.0612486 </td><td style=\"text-align: right;\"> 0.154331 </td><td style=\"text-align: right;\"> 0.00202096</td><td style=\"text-align: right;\">-0.204296 </td><td style=\"text-align: right;\"> 0.0504917</td><td style=\"text-align: right;\">-0.228515  </td><td style=\"text-align: right;\"> 0.0383541 </td><td style=\"text-align: right;\">-0.159064  </td><td style=\"text-align: right;\"> 0.108437 </td><td style=\"text-align: right;\"> 0.0986095  </td><td style=\"text-align: right;\"> 0.0115093</td><td style=\"text-align: right;\">-0.0134482 </td><td style=\"text-align: right;\">0.130059 </td><td style=\"text-align: right;\"> 0.0671229</td><td style=\"text-align: right;\">-0.0965511  </td><td style=\"text-align: right;\">-0.0494418</td><td style=\"text-align: right;\"> 0.00215705 </td><td style=\"text-align: right;\"> 0.0710555  </td><td style=\"text-align: right;\"> 0.0478681 </td><td style=\"text-align: right;\"> 0.015314  </td><td style=\"text-align: right;\"> 0.13318  </td><td style=\"text-align: right;\"> 0.0226682</td><td style=\"text-align: right;\">-0.0653435</td><td style=\"text-align: right;\"> 0.105136  </td><td style=\"text-align: right;\">-0.0808749 </td><td style=\"text-align: right;\">-0.0645779 </td><td style=\"text-align: right;\">-0.0747602</td><td style=\"text-align: right;\"> 0.0540775</td><td style=\"text-align: right;\"> 0.0177461 </td><td style=\"text-align: right;\">-0.208147  </td><td style=\"text-align: right;\">-0.0659113</td><td style=\"text-align: right;\"> 0.00643675</td><td style=\"text-align: right;\"> 0.0316051</td><td style=\"text-align: right;\">-0.0569473</td><td style=\"text-align: right;\"> 0.0569734</td><td style=\"text-align: right;\"> 0.0344189 </td><td style=\"text-align: right;\">-0.0417462</td><td style=\"text-align: right;\">-0.0608028 </td><td style=\"text-align: right;\">-0.000755868</td><td style=\"text-align: right;\">-0.068624  </td><td style=\"text-align: right;\"> 0.0435193</td><td style=\"text-align: right;\">-0.0438224</td><td style=\"text-align: right;\"> 0.00500554</td><td style=\"text-align: right;\">-0.0244429</td><td style=\"text-align: right;\">-0.0926207</td><td style=\"text-align: right;\"> 0.0491446 </td><td style=\"text-align: right;\">-0.0323409 </td><td style=\"text-align: right;\">-0.167125  </td><td style=\"text-align: right;\">0.215232</td><td style=\"text-align: right;\">-0.081445   </td><td style=\"text-align: right;\"> 0.0039682  </td><td style=\"text-align: right;\">-0.119028  </td><td style=\"text-align: right;\"> 0.167116 </td><td style=\"text-align: right;\"> 0.0893888 </td><td style=\"text-align: right;\"> 0.0343704 </td><td style=\"text-align: right;\">-0.0183767 </td><td style=\"text-align: right;\"> 0.0209421</td><td style=\"text-align: right;\"> 0.109631  </td><td style=\"text-align: right;\">-0.0150665 </td></tr>\n",
       "<tr><td style=\"text-align: right;\">-0.0541022</td><td style=\"text-align: right;\"> 0.0248378</td><td style=\"text-align: right;\">-0.0755515</td><td style=\"text-align: right;\"> 0.0729746</td><td style=\"text-align: right;\"> 0.0861826</td><td style=\"text-align: right;\">-0.0917634</td><td style=\"text-align: right;\">-0.169202  </td><td style=\"text-align: right;\">-0.271492</td><td style=\"text-align: right;\"> 0.0110085  </td><td style=\"text-align: right;\"> 0.0456146</td><td style=\"text-align: right;\">-0.0112144</td><td style=\"text-align: right;\">-0.108649 </td><td style=\"text-align: right;\">-0.0402023 </td><td style=\"text-align: right;\"> 0.11135   </td><td style=\"text-align: right;\">0.0956423</td><td style=\"text-align: right;\"> 0.00413042 </td><td style=\"text-align: right;\"> 0.00940824</td><td style=\"text-align: right;\">-0.0766615 </td><td style=\"text-align: right;\">-0.0966248</td><td style=\"text-align: right;\">-0.229758</td><td style=\"text-align: right;\">-0.0384817 </td><td style=\"text-align: right;\">-0.12216 </td><td style=\"text-align: right;\"> 0.113904 </td><td style=\"text-align: right;\">0.156607</td><td style=\"text-align: right;\">0.32386    </td><td style=\"text-align: right;\"> 0.0839406</td><td style=\"text-align: right;\">-0.0780775 </td><td style=\"text-align: right;\"> 0.0357554  </td><td style=\"text-align: right;\">-0.084912   </td><td style=\"text-align: right;\"> 0.0531381 </td><td style=\"text-align: right;\">-0.0829757</td><td style=\"text-align: right;\">0.104065 </td><td style=\"text-align: right;\"> 0.0304965</td><td style=\"text-align: right;\">-0.0368512 </td><td style=\"text-align: right;\">-0.00208455</td><td style=\"text-align: right;\">-0.0707798</td><td style=\"text-align: right;\"> 0.0878331</td><td style=\"text-align: right;\">-0.0116279</td><td style=\"text-align: right;\"> 0.0330673 </td><td style=\"text-align: right;\"> 0.00613481 </td><td style=\"text-align: right;\">-0.221704 </td><td style=\"text-align: right;\">-0.042951  </td><td style=\"text-align: right;\"> 0.162246 </td><td style=\"text-align: right;\">-0.0137851 </td><td style=\"text-align: right;\">-0.169164 </td><td style=\"text-align: right;\"> 0.112649 </td><td style=\"text-align: right;\">-0.11178   </td><td style=\"text-align: right;\">-0.00324176</td><td style=\"text-align: right;\">-0.0587058 </td><td style=\"text-align: right;\">-0.0167382</td><td style=\"text-align: right;\"> 0.175482   </td><td style=\"text-align: right;\">-0.0507775</td><td style=\"text-align: right;\">-0.0125681 </td><td style=\"text-align: right;\">0.13456  </td><td style=\"text-align: right;\"> 0.0175409</td><td style=\"text-align: right;\"> 0.0577606  </td><td style=\"text-align: right;\">-0.154438 </td><td style=\"text-align: right;\"> 0.149454   </td><td style=\"text-align: right;\"> 0.0219627  </td><td style=\"text-align: right;\">-0.0639374 </td><td style=\"text-align: right;\">-0.115874  </td><td style=\"text-align: right;\"> 0.165142 </td><td style=\"text-align: right;\"> 0.0454343</td><td style=\"text-align: right;\">-0.186082 </td><td style=\"text-align: right;\">-0.0969075 </td><td style=\"text-align: right;\"> 0.0177896 </td><td style=\"text-align: right;\">-0.127036  </td><td style=\"text-align: right;\">-0.169897 </td><td style=\"text-align: right;\"> 0.0671924</td><td style=\"text-align: right;\">-0.013323  </td><td style=\"text-align: right;\">-0.0207632 </td><td style=\"text-align: right;\">-0.126095 </td><td style=\"text-align: right;\"> 0.116741  </td><td style=\"text-align: right;\">-0.0242854</td><td style=\"text-align: right;\">-0.194652 </td><td style=\"text-align: right;\"> 0.0466457</td><td style=\"text-align: right;\">-0.074745  </td><td style=\"text-align: right;\">-0.0355895</td><td style=\"text-align: right;\">-0.0290385 </td><td style=\"text-align: right;\">-0.00560758 </td><td style=\"text-align: right;\">-0.0299108 </td><td style=\"text-align: right;\">-0.0396587</td><td style=\"text-align: right;\"> 0.0540669</td><td style=\"text-align: right;\"> 0.0306253 </td><td style=\"text-align: right;\">-0.101068 </td><td style=\"text-align: right;\">-0.157812 </td><td style=\"text-align: right;\"> 0.131107  </td><td style=\"text-align: right;\"> 0.0431382 </td><td style=\"text-align: right;\">-0.0438983 </td><td style=\"text-align: right;\">0.117392</td><td style=\"text-align: right;\"> 0.000871606</td><td style=\"text-align: right;\"> 0.0301853  </td><td style=\"text-align: right;\">-0.0873573 </td><td style=\"text-align: right;\"> 0.180934 </td><td style=\"text-align: right;\"> 0.0903421 </td><td style=\"text-align: right;\"> 0.0397914 </td><td style=\"text-align: right;\"> 0.0482174 </td><td style=\"text-align: right;\">-0.0834084</td><td style=\"text-align: right;\">-0.156003  </td><td style=\"text-align: right;\">-0.0499305 </td></tr>\n",
       "<tr><td style=\"text-align: right;\"> 0.0513997</td><td style=\"text-align: right;\"> 0.0934905</td><td style=\"text-align: right;\">-0.100612 </td><td style=\"text-align: right;\">-0.032194 </td><td style=\"text-align: right;\"> 0.0924043</td><td style=\"text-align: right;\">-0.164963 </td><td style=\"text-align: right;\">-0.161332  </td><td style=\"text-align: right;\">-0.19153 </td><td style=\"text-align: right;\">-0.000320365</td><td style=\"text-align: right;\"> 0.0475645</td><td style=\"text-align: right;\">-0.0166843</td><td style=\"text-align: right;\">-0.0961713</td><td style=\"text-align: right;\">-0.00441075</td><td style=\"text-align: right;\"> 0.0241628 </td><td style=\"text-align: right;\">0.221273 </td><td style=\"text-align: right;\"> 0.00246409 </td><td style=\"text-align: right;\"> 0.0903259 </td><td style=\"text-align: right;\">-0.0901314 </td><td style=\"text-align: right;\">-0.0464216</td><td style=\"text-align: right;\">-0.207196</td><td style=\"text-align: right;\">-0.0695556 </td><td style=\"text-align: right;\">-0.186196</td><td style=\"text-align: right;\"> 0.027052 </td><td style=\"text-align: right;\">0.175714</td><td style=\"text-align: right;\">0.165879   </td><td style=\"text-align: right;\"> 0.0421413</td><td style=\"text-align: right;\">-0.0754322 </td><td style=\"text-align: right;\"> 0.0799999  </td><td style=\"text-align: right;\">-0.0911419  </td><td style=\"text-align: right;\"> 0.016715  </td><td style=\"text-align: right;\">-0.181464 </td><td style=\"text-align: right;\">0.110158 </td><td style=\"text-align: right;\"> 0.105474 </td><td style=\"text-align: right;\">-0.0614032 </td><td style=\"text-align: right;\"> 0.110802  </td><td style=\"text-align: right;\">-0.0293996</td><td style=\"text-align: right;\">-0.0419154</td><td style=\"text-align: right;\"> 0.0188296</td><td style=\"text-align: right;\"> 0.0157434 </td><td style=\"text-align: right;\">-0.0282175  </td><td style=\"text-align: right;\">-0.212372 </td><td style=\"text-align: right;\">-0.0641847 </td><td style=\"text-align: right;\"> 0.0781295</td><td style=\"text-align: right;\"> 0.00828644</td><td style=\"text-align: right;\">-0.173417 </td><td style=\"text-align: right;\"> 0.145838 </td><td style=\"text-align: right;\">-0.194314  </td><td style=\"text-align: right;\"> 0.0398608 </td><td style=\"text-align: right;\">-0.00418616</td><td style=\"text-align: right;\"> 0.0250397</td><td style=\"text-align: right;\"> 0.112956   </td><td style=\"text-align: right;\">-0.141607 </td><td style=\"text-align: right;\">-0.00291517</td><td style=\"text-align: right;\">0.147581 </td><td style=\"text-align: right;\"> 0.0611775</td><td style=\"text-align: right;\">-0.0576637  </td><td style=\"text-align: right;\">-0.0712669</td><td style=\"text-align: right;\"> 0.0422304  </td><td style=\"text-align: right;\"> 0.0177076  </td><td style=\"text-align: right;\">-0.077761  </td><td style=\"text-align: right;\">-0.0592116 </td><td style=\"text-align: right;\"> 0.0138241</td><td style=\"text-align: right;\">-0.075122 </td><td style=\"text-align: right;\">-0.0613803</td><td style=\"text-align: right;\">-0.0321386 </td><td style=\"text-align: right;\">-0.13826   </td><td style=\"text-align: right;\">-0.0366886 </td><td style=\"text-align: right;\">-0.0670438</td><td style=\"text-align: right;\">-0.0696009</td><td style=\"text-align: right;\">-0.00210896</td><td style=\"text-align: right;\"> 0.0423458 </td><td style=\"text-align: right;\">-0.0502366</td><td style=\"text-align: right;\"> 0.14484   </td><td style=\"text-align: right;\"> 0.0521477</td><td style=\"text-align: right;\">-0.259968 </td><td style=\"text-align: right;\">-0.0359919</td><td style=\"text-align: right;\">-0.00440098</td><td style=\"text-align: right;\">-0.0542607</td><td style=\"text-align: right;\">-0.0475285 </td><td style=\"text-align: right;\">-0.146781   </td><td style=\"text-align: right;\">-0.0188785 </td><td style=\"text-align: right;\">-0.0515003</td><td style=\"text-align: right;\"> 0.0223194</td><td style=\"text-align: right;\">-0.0160697 </td><td style=\"text-align: right;\">-0.138103 </td><td style=\"text-align: right;\">-0.140592 </td><td style=\"text-align: right;\"> 0.148511  </td><td style=\"text-align: right;\">-0.0251143 </td><td style=\"text-align: right;\">-0.149889  </td><td style=\"text-align: right;\">0.176507</td><td style=\"text-align: right;\"> 0.0689743  </td><td style=\"text-align: right;\">-0.0480759  </td><td style=\"text-align: right;\">-0.0738736 </td><td style=\"text-align: right;\"> 0.12015  </td><td style=\"text-align: right;\"> 0.00535455</td><td style=\"text-align: right;\"> 0.00907076</td><td style=\"text-align: right;\">-0.00942831</td><td style=\"text-align: right;\">-0.0664165</td><td style=\"text-align: right;\">-0.00787582</td><td style=\"text-align: right;\"> 0.0798387 </td></tr>\n",
       "<tr><td style=\"text-align: right;\"> 0.0924477</td><td style=\"text-align: right;\">-0.0748665</td><td style=\"text-align: right;\">-0.0924074</td><td style=\"text-align: right;\"> 0.132381 </td><td style=\"text-align: right;\"> 0.20507  </td><td style=\"text-align: right;\">-0.115804 </td><td style=\"text-align: right;\">-0.0703381 </td><td style=\"text-align: right;\">-0.181777</td><td style=\"text-align: right;\"> 0.0916794  </td><td style=\"text-align: right;\"> 0.0855639</td><td style=\"text-align: right;\">-0.0963823</td><td style=\"text-align: right;\">-0.134102 </td><td style=\"text-align: right;\"> 0.0845588 </td><td style=\"text-align: right;\"> 0.153906  </td><td style=\"text-align: right;\">0.235117 </td><td style=\"text-align: right;\"> 0.000284905</td><td style=\"text-align: right;\">-0.0468338 </td><td style=\"text-align: right;\">-0.101771  </td><td style=\"text-align: right;\">-0.0265049</td><td style=\"text-align: right;\">-0.252134</td><td style=\"text-align: right;\"> 0.0360664 </td><td style=\"text-align: right;\">-0.111127</td><td style=\"text-align: right;\"> 0.0387038</td><td style=\"text-align: right;\">0.272991</td><td style=\"text-align: right;\">0.230605   </td><td style=\"text-align: right;\"> 0.111465 </td><td style=\"text-align: right;\"> 0.0198004 </td><td style=\"text-align: right;\"> 0.0104687  </td><td style=\"text-align: right;\">-0.0526819  </td><td style=\"text-align: right;\"> 0.0256217 </td><td style=\"text-align: right;\">-0.170958 </td><td style=\"text-align: right;\">0.062525 </td><td style=\"text-align: right;\">-0.0151972</td><td style=\"text-align: right;\">-0.00832085</td><td style=\"text-align: right;\"> 0.145096  </td><td style=\"text-align: right;\"> 0.0531155</td><td style=\"text-align: right;\"> 0.0620283</td><td style=\"text-align: right;\"> 0.0571953</td><td style=\"text-align: right;\"> 0.0167025 </td><td style=\"text-align: right;\">-0.0487384  </td><td style=\"text-align: right;\">-0.130616 </td><td style=\"text-align: right;\">-0.0734049 </td><td style=\"text-align: right;\"> 0.151988 </td><td style=\"text-align: right;\">-0.0275893 </td><td style=\"text-align: right;\">-0.18524  </td><td style=\"text-align: right;\"> 0.0894036</td><td style=\"text-align: right;\">-0.133117  </td><td style=\"text-align: right;\"> 0.0234623 </td><td style=\"text-align: right;\">-0.0605065 </td><td style=\"text-align: right;\">-0.0310835</td><td style=\"text-align: right;\"> 0.163656   </td><td style=\"text-align: right;\">-0.141212 </td><td style=\"text-align: right;\">-0.00641982</td><td style=\"text-align: right;\">0.188531 </td><td style=\"text-align: right;\">-0.0229125</td><td style=\"text-align: right;\">-0.0292585  </td><td style=\"text-align: right;\">-0.0605238</td><td style=\"text-align: right;\"> 0.000296198</td><td style=\"text-align: right;\">-0.0529412  </td><td style=\"text-align: right;\">-0.0260451 </td><td style=\"text-align: right;\">-0.15726   </td><td style=\"text-align: right;\"> 0.14338  </td><td style=\"text-align: right;\">-0.0031434</td><td style=\"text-align: right;\">-0.170411 </td><td style=\"text-align: right;\"> 0.0953152 </td><td style=\"text-align: right;\">-0.119957  </td><td style=\"text-align: right;\">-0.043689  </td><td style=\"text-align: right;\">-0.0937223</td><td style=\"text-align: right;\"> 0.0116434</td><td style=\"text-align: right;\"> 0.0493219 </td><td style=\"text-align: right;\"> 0.0554878 </td><td style=\"text-align: right;\">-0.145606 </td><td style=\"text-align: right;\"> 0.135669  </td><td style=\"text-align: right;\">-0.0361949</td><td style=\"text-align: right;\">-0.215556 </td><td style=\"text-align: right;\"> 0.010962 </td><td style=\"text-align: right;\">-0.0190312 </td><td style=\"text-align: right;\">-0.0784291</td><td style=\"text-align: right;\">-0.0310476 </td><td style=\"text-align: right;\">-0.00682303 </td><td style=\"text-align: right;\"> 0.00531397</td><td style=\"text-align: right;\"> 0.0262634</td><td style=\"text-align: right;\"> 0.0332214</td><td style=\"text-align: right;\"> 0.0463654 </td><td style=\"text-align: right;\">-0.0976306</td><td style=\"text-align: right;\"> 0.0254192</td><td style=\"text-align: right;\"> 0.133072  </td><td style=\"text-align: right;\"> 0.053626  </td><td style=\"text-align: right;\">-0.0118067 </td><td style=\"text-align: right;\">0.141691</td><td style=\"text-align: right;\"> 0.0167507  </td><td style=\"text-align: right;\"> 0.0304439  </td><td style=\"text-align: right;\">-0.166019  </td><td style=\"text-align: right;\"> 0.0799022</td><td style=\"text-align: right;\"> 0.140419  </td><td style=\"text-align: right;\"> 0.0936314 </td><td style=\"text-align: right;\">-0.0148077 </td><td style=\"text-align: right;\">-0.0949079</td><td style=\"text-align: right;\">-0.12464   </td><td style=\"text-align: right;\">-0.00320394</td></tr>\n",
       "<tr><td style=\"text-align: right;\">-0.0648281</td><td style=\"text-align: right;\"> 0.242512 </td><td style=\"text-align: right;\">-0.174689 </td><td style=\"text-align: right;\"> 0.179934 </td><td style=\"text-align: right;\">-0.0450616</td><td style=\"text-align: right;\">-0.228346 </td><td style=\"text-align: right;\">-0.216557  </td><td style=\"text-align: right;\">-0.491819</td><td style=\"text-align: right;\">-0.0530736  </td><td style=\"text-align: right;\"> 0.031718 </td><td style=\"text-align: right;\">-0.142784 </td><td style=\"text-align: right;\">-0.111581 </td><td style=\"text-align: right;\">-0.192517  </td><td style=\"text-align: right;\"> 0.110243  </td><td style=\"text-align: right;\">0.112692 </td><td style=\"text-align: right;\"> 0.0816852  </td><td style=\"text-align: right;\"> 0.0721695 </td><td style=\"text-align: right;\">-0.158724  </td><td style=\"text-align: right;\">-0.0121484</td><td style=\"text-align: right;\">-0.175552</td><td style=\"text-align: right;\"> 0.201273  </td><td style=\"text-align: right;\">-0.187887</td><td style=\"text-align: right;\"> 0.0240258</td><td style=\"text-align: right;\">0.200383</td><td style=\"text-align: right;\">0.000794348</td><td style=\"text-align: right;\"> 0.133098 </td><td style=\"text-align: right;\">-0.0414564 </td><td style=\"text-align: right;\"> 0.183294   </td><td style=\"text-align: right;\">-0.149022   </td><td style=\"text-align: right;\"> 0.00978858</td><td style=\"text-align: right;\">-0.0332713</td><td style=\"text-align: right;\">0.0916368</td><td style=\"text-align: right;\"> 0.0384527</td><td style=\"text-align: right;\"> 0.0518169 </td><td style=\"text-align: right;\"> 0.0342554 </td><td style=\"text-align: right;\">-0.0371446</td><td style=\"text-align: right;\"> 0.161225 </td><td style=\"text-align: right;\"> 0.0148132</td><td style=\"text-align: right;\">-0.0421879 </td><td style=\"text-align: right;\"> 0.000112356</td><td style=\"text-align: right;\">-0.124056 </td><td style=\"text-align: right;\"> 0.105916  </td><td style=\"text-align: right;\"> 0.105682 </td><td style=\"text-align: right;\">-0.0288491 </td><td style=\"text-align: right;\">-0.0801944</td><td style=\"text-align: right;\">-0.0546998</td><td style=\"text-align: right;\"> 0.0578927 </td><td style=\"text-align: right;\"> 0.0549553 </td><td style=\"text-align: right;\"> 0.0404102 </td><td style=\"text-align: right;\">-0.0715031</td><td style=\"text-align: right;\">-0.0125136  </td><td style=\"text-align: right;\"> 0.0628243</td><td style=\"text-align: right;\"> 0.0295289 </td><td style=\"text-align: right;\">0.153641 </td><td style=\"text-align: right;\"> 0.059613 </td><td style=\"text-align: right;\">-0.126995   </td><td style=\"text-align: right;\">-0.0854377</td><td style=\"text-align: right;\"> 0.0116893  </td><td style=\"text-align: right;\">-0.141874   </td><td style=\"text-align: right;\">-0.010903  </td><td style=\"text-align: right;\"> 0.0966954 </td><td style=\"text-align: right;\"> 0.0710137</td><td style=\"text-align: right;\"> 0.0750666</td><td style=\"text-align: right;\">-0.230023 </td><td style=\"text-align: right;\"> 0.0298094 </td><td style=\"text-align: right;\">-0.117413  </td><td style=\"text-align: right;\">-0.172126  </td><td style=\"text-align: right;\">-0.0401066</td><td style=\"text-align: right;\">-0.0458506</td><td style=\"text-align: right;\">-0.00234357</td><td style=\"text-align: right;\">-0.00945018</td><td style=\"text-align: right;\">-0.0792221</td><td style=\"text-align: right;\"> 0.145022  </td><td style=\"text-align: right;\">-0.061004 </td><td style=\"text-align: right;\">-0.176152 </td><td style=\"text-align: right;\"> 0.082944 </td><td style=\"text-align: right;\">-0.080621  </td><td style=\"text-align: right;\">-0.069062 </td><td style=\"text-align: right;\"> 0.0249665 </td><td style=\"text-align: right;\">-0.110495   </td><td style=\"text-align: right;\">-0.125377  </td><td style=\"text-align: right;\"> 0.150739 </td><td style=\"text-align: right;\"> 0.0577801</td><td style=\"text-align: right;\"> 0.0500363 </td><td style=\"text-align: right;\"> 0.0852793</td><td style=\"text-align: right;\">-0.0289403</td><td style=\"text-align: right;\"> 0.0159222 </td><td style=\"text-align: right;\">-0.0933674 </td><td style=\"text-align: right;\">-0.032626  </td><td style=\"text-align: right;\">0.236281</td><td style=\"text-align: right;\"> 0.0584605  </td><td style=\"text-align: right;\">-1.94555e-05</td><td style=\"text-align: right;\">-0.0761265 </td><td style=\"text-align: right;\"> 0.110914 </td><td style=\"text-align: right;\"> 0.0375453 </td><td style=\"text-align: right;\"> 0.123826  </td><td style=\"text-align: right;\"> 0.081848  </td><td style=\"text-align: right;\">-0.0778743</td><td style=\"text-align: right;\"> 0.146286  </td><td style=\"text-align: right;\"> 0.0373113 </td></tr>\n",
       "<tr><td style=\"text-align: right;\"> 0.189244 </td><td style=\"text-align: right;\"> 0.154824 </td><td style=\"text-align: right;\">-0.166364 </td><td style=\"text-align: right;\"> 0.146689 </td><td style=\"text-align: right;\"> 0.0579755</td><td style=\"text-align: right;\">-0.0913327</td><td style=\"text-align: right;\">-0.0967622 </td><td style=\"text-align: right;\">-0.147549</td><td style=\"text-align: right;\"> 0.102724   </td><td style=\"text-align: right;\">-0.043727 </td><td style=\"text-align: right;\"> 0.0407706</td><td style=\"text-align: right;\">-0.106178 </td><td style=\"text-align: right;\"> 0.00584808</td><td style=\"text-align: right;\">-0.0295256 </td><td style=\"text-align: right;\">0.0769877</td><td style=\"text-align: right;\">-0.00699807 </td><td style=\"text-align: right;\"> 0.0749104 </td><td style=\"text-align: right;\">-0.00302879</td><td style=\"text-align: right;\"> 0.0440846</td><td style=\"text-align: right;\">-0.259072</td><td style=\"text-align: right;\">-0.00725257</td><td style=\"text-align: right;\">-0.118148</td><td style=\"text-align: right;\">-0.0682623</td><td style=\"text-align: right;\">0.114454</td><td style=\"text-align: right;\">0.19583    </td><td style=\"text-align: right;\"> 0.0524215</td><td style=\"text-align: right;\">-0.0422696 </td><td style=\"text-align: right;\"> 0.11518    </td><td style=\"text-align: right;\">-0.122442   </td><td style=\"text-align: right;\">-0.0121994 </td><td style=\"text-align: right;\">-0.047655 </td><td style=\"text-align: right;\">0.041526 </td><td style=\"text-align: right;\"> 0.18625  </td><td style=\"text-align: right;\"> 0.0684155 </td><td style=\"text-align: right;\"> 0.167767  </td><td style=\"text-align: right;\">-0.0220406</td><td style=\"text-align: right;\"> 0.0201483</td><td style=\"text-align: right;\">-0.115606 </td><td style=\"text-align: right;\"> 0.0051339 </td><td style=\"text-align: right;\"> 0.0869789  </td><td style=\"text-align: right;\">-0.100042 </td><td style=\"text-align: right;\">-0.0231308 </td><td style=\"text-align: right;\"> 0.152517 </td><td style=\"text-align: right;\">-0.052676  </td><td style=\"text-align: right;\">-0.309299 </td><td style=\"text-align: right;\"> 0.0314363</td><td style=\"text-align: right;\">-0.133504  </td><td style=\"text-align: right;\">-0.00942525</td><td style=\"text-align: right;\"> 0.0940119 </td><td style=\"text-align: right;\"> 0.147696 </td><td style=\"text-align: right;\"> 0.135882   </td><td style=\"text-align: right;\"> 0.0260688</td><td style=\"text-align: right;\"> 0.119058  </td><td style=\"text-align: right;\">0.177051 </td><td style=\"text-align: right;\"> 0.0375934</td><td style=\"text-align: right;\">-0.0324558  </td><td style=\"text-align: right;\"> 0.0452552</td><td style=\"text-align: right;\"> 0.221857   </td><td style=\"text-align: right;\"> 0.000659414</td><td style=\"text-align: right;\"> 0.0627271 </td><td style=\"text-align: right;\"> 0.0139675 </td><td style=\"text-align: right;\"> 0.138317 </td><td style=\"text-align: right;\"> 0.0296733</td><td style=\"text-align: right;\">-0.0068214</td><td style=\"text-align: right;\"> 0.164253  </td><td style=\"text-align: right;\">-0.115168  </td><td style=\"text-align: right;\">-0.147901  </td><td style=\"text-align: right;\">-0.180347 </td><td style=\"text-align: right;\">-0.0710822</td><td style=\"text-align: right;\"> 0.059204  </td><td style=\"text-align: right;\">-0.149522  </td><td style=\"text-align: right;\">-0.0624006</td><td style=\"text-align: right;\"> 0.0847926 </td><td style=\"text-align: right;\">-0.0198255</td><td style=\"text-align: right;\">-0.19536  </td><td style=\"text-align: right;\"> 0.191159 </td><td style=\"text-align: right;\"> 0.152556  </td><td style=\"text-align: right;\">-0.143452 </td><td style=\"text-align: right;\"> 0.0522562 </td><td style=\"text-align: right;\"> 0.017062   </td><td style=\"text-align: right;\">-0.0358952 </td><td style=\"text-align: right;\"> 0.1949   </td><td style=\"text-align: right;\">-0.0131076</td><td style=\"text-align: right;\"> 0.111775  </td><td style=\"text-align: right;\"> 0.0408844</td><td style=\"text-align: right;\">-0.156436 </td><td style=\"text-align: right;\">-0.0186146 </td><td style=\"text-align: right;\">-0.0545681 </td><td style=\"text-align: right;\">-0.0331274 </td><td style=\"text-align: right;\">0.183388</td><td style=\"text-align: right;\"> 0.138711   </td><td style=\"text-align: right;\">-0.0257002  </td><td style=\"text-align: right;\">-0.024079  </td><td style=\"text-align: right;\">-0.0155354</td><td style=\"text-align: right;\"> 0.0110212 </td><td style=\"text-align: right;\">-0.0648009 </td><td style=\"text-align: right;\">-0.0802529 </td><td style=\"text-align: right;\"> 0.0883035</td><td style=\"text-align: right;\">-0.0850748 </td><td style=\"text-align: right;\"> 0.0280618 </td></tr>\n",
       "<tr><td style=\"text-align: right;\">-0.16024  </td><td style=\"text-align: right;\"> 0.298386 </td><td style=\"text-align: right;\">-0.221585 </td><td style=\"text-align: right;\"> 0.229429 </td><td style=\"text-align: right;\">-0.0326249</td><td style=\"text-align: right;\">-0.0376915</td><td style=\"text-align: right;\">-0.0768675 </td><td style=\"text-align: right;\">-0.394699</td><td style=\"text-align: right;\">-0.045872   </td><td style=\"text-align: right;\">-0.0032218</td><td style=\"text-align: right;\">-0.0165797</td><td style=\"text-align: right;\">-0.0553602</td><td style=\"text-align: right;\">-0.0630629 </td><td style=\"text-align: right;\"> 0.00989074</td><td style=\"text-align: right;\">0.0877508</td><td style=\"text-align: right;\"> 0.0726764  </td><td style=\"text-align: right;\"> 0.0302867 </td><td style=\"text-align: right;\">-0.057896  </td><td style=\"text-align: right;\">-0.023419 </td><td style=\"text-align: right;\">-0.178785</td><td style=\"text-align: right;\"> 0.109937  </td><td style=\"text-align: right;\">-0.204917</td><td style=\"text-align: right;\"> 0.0111257</td><td style=\"text-align: right;\">0.212527</td><td style=\"text-align: right;\">0.0800657  </td><td style=\"text-align: right;\"> 0.109197 </td><td style=\"text-align: right;\">-0.00460757</td><td style=\"text-align: right;\"> 0.115931   </td><td style=\"text-align: right;\">-0.099354   </td><td style=\"text-align: right;\"> 0.070131  </td><td style=\"text-align: right;\">-0.0552479</td><td style=\"text-align: right;\">0.0691471</td><td style=\"text-align: right;\"> 0.0330521</td><td style=\"text-align: right;\">-0.0390524 </td><td style=\"text-align: right;\"> 0.115665  </td><td style=\"text-align: right;\"> 0.0422806</td><td style=\"text-align: right;\">-0.0213922</td><td style=\"text-align: right;\"> 0.0822228</td><td style=\"text-align: right;\"> 0.0220991 </td><td style=\"text-align: right;\"> 0.0154468  </td><td style=\"text-align: right;\">-0.242966 </td><td style=\"text-align: right;\"> 0.00254421</td><td style=\"text-align: right;\"> 0.133085 </td><td style=\"text-align: right;\">-0.0221127 </td><td style=\"text-align: right;\">-0.160896 </td><td style=\"text-align: right;\"> 0.110359 </td><td style=\"text-align: right;\">-0.0405974 </td><td style=\"text-align: right;\"> 0.0248109 </td><td style=\"text-align: right;\"> 0.00659468</td><td style=\"text-align: right;\"> 0.0760243</td><td style=\"text-align: right;\"> 0.0279463  </td><td style=\"text-align: right;\"> 0.0387018</td><td style=\"text-align: right;\"> 0.0793413 </td><td style=\"text-align: right;\">0.168307 </td><td style=\"text-align: right;\"> 0.0237829</td><td style=\"text-align: right;\">-0.0108112  </td><td style=\"text-align: right;\">-0.0446788</td><td style=\"text-align: right;\"> 0.0401445  </td><td style=\"text-align: right;\"> 0.0322022  </td><td style=\"text-align: right;\">-0.0436466 </td><td style=\"text-align: right;\"> 0.00655967</td><td style=\"text-align: right;\"> 0.0969792</td><td style=\"text-align: right;\"> 0.0311795</td><td style=\"text-align: right;\">-0.155874 </td><td style=\"text-align: right;\"> 0.0438515 </td><td style=\"text-align: right;\">-0.0751319 </td><td style=\"text-align: right;\">-0.0410292 </td><td style=\"text-align: right;\">-0.141926 </td><td style=\"text-align: right;\"> 0.0462706</td><td style=\"text-align: right;\"> 0.00807602</td><td style=\"text-align: right;\">-0.0192512 </td><td style=\"text-align: right;\">-0.0227821</td><td style=\"text-align: right;\"> 0.0252617 </td><td style=\"text-align: right;\"> 0.0358116</td><td style=\"text-align: right;\">-0.109549 </td><td style=\"text-align: right;\"> 0.0652079</td><td style=\"text-align: right;\">-0.0581035 </td><td style=\"text-align: right;\">-0.0753542</td><td style=\"text-align: right;\"> 0.0105375 </td><td style=\"text-align: right;\">-0.0548248  </td><td style=\"text-align: right;\">-0.120109  </td><td style=\"text-align: right;\"> 0.0474121</td><td style=\"text-align: right;\">-0.0209669</td><td style=\"text-align: right;\"> 0.0249616 </td><td style=\"text-align: right;\"> 0.0504128</td><td style=\"text-align: right;\">-0.0893591</td><td style=\"text-align: right;\">-0.00354703</td><td style=\"text-align: right;\"> 0.0358914 </td><td style=\"text-align: right;\">-0.140283  </td><td style=\"text-align: right;\">0.136527</td><td style=\"text-align: right;\"> 0.006284   </td><td style=\"text-align: right;\">-0.0256832  </td><td style=\"text-align: right;\">-0.00293286</td><td style=\"text-align: right;\"> 0.141941 </td><td style=\"text-align: right;\"> 0.0556456 </td><td style=\"text-align: right;\"> 0.0909426 </td><td style=\"text-align: right;\">-0.0335913 </td><td style=\"text-align: right;\">-0.024326 </td><td style=\"text-align: right;\">-0.0120522 </td><td style=\"text-align: right;\"> 0.00908368</td></tr>\n",
       "<tr><td style=\"text-align: right;\">-0.0365442</td><td style=\"text-align: right;\"> 0.114638 </td><td style=\"text-align: right;\">-0.150335 </td><td style=\"text-align: right;\"> 0.151348 </td><td style=\"text-align: right;\">-0.125296 </td><td style=\"text-align: right;\">-0.197664 </td><td style=\"text-align: right;\">-0.0770661 </td><td style=\"text-align: right;\">-0.364756</td><td style=\"text-align: right;\">-0.0997093  </td><td style=\"text-align: right;\"> 0.124971 </td><td style=\"text-align: right;\">-0.13706  </td><td style=\"text-align: right;\">-0.113729 </td><td style=\"text-align: right;\"> 0.0449967 </td><td style=\"text-align: right;\"> 0.091575  </td><td style=\"text-align: right;\">0.138723 </td><td style=\"text-align: right;\"> 0.101239   </td><td style=\"text-align: right;\">-0.0224053 </td><td style=\"text-align: right;\">-0.0613235 </td><td style=\"text-align: right;\">-0.061712 </td><td style=\"text-align: right;\">-0.189948</td><td style=\"text-align: right;\">-0.00821638</td><td style=\"text-align: right;\">-0.118644</td><td style=\"text-align: right;\"> 0.037209 </td><td style=\"text-align: right;\">0.123645</td><td style=\"text-align: right;\">0.111434   </td><td style=\"text-align: right;\"> 0.0823482</td><td style=\"text-align: right;\">-0.0530503 </td><td style=\"text-align: right;\"> 0.0855969  </td><td style=\"text-align: right;\">-0.0162545  </td><td style=\"text-align: right;\">-0.00290768</td><td style=\"text-align: right;\">-0.0845226</td><td style=\"text-align: right;\">0.134608 </td><td style=\"text-align: right;\"> 0.0983671</td><td style=\"text-align: right;\">-0.0592893 </td><td style=\"text-align: right;\"> 0.0659607 </td><td style=\"text-align: right;\"> 0.0411163</td><td style=\"text-align: right;\"> 0.0904888</td><td style=\"text-align: right;\"> 0.0389108</td><td style=\"text-align: right;\"> 0.00128966</td><td style=\"text-align: right;\">-0.0312618  </td><td style=\"text-align: right;\">-0.2761   </td><td style=\"text-align: right;\">-0.0138616 </td><td style=\"text-align: right;\"> 0.0968223</td><td style=\"text-align: right;\"> 0.0225379 </td><td style=\"text-align: right;\">-0.130938 </td><td style=\"text-align: right;\"> 0.0931177</td><td style=\"text-align: right;\"> 0.00903207</td><td style=\"text-align: right;\"> 0.0610857 </td><td style=\"text-align: right;\"> 0.0181297 </td><td style=\"text-align: right;\">-0.0277382</td><td style=\"text-align: right;\"> 0.119282   </td><td style=\"text-align: right;\"> 0.0381199</td><td style=\"text-align: right;\">-0.0771781 </td><td style=\"text-align: right;\">0.166442 </td><td style=\"text-align: right;\"> 0.0590128</td><td style=\"text-align: right;\">-0.000245984</td><td style=\"text-align: right;\">-0.0637635</td><td style=\"text-align: right;\">-0.0010906  </td><td style=\"text-align: right;\">-0.0617105  </td><td style=\"text-align: right;\"> 0.0826758 </td><td style=\"text-align: right;\">-0.0679127 </td><td style=\"text-align: right;\"> 0.171887 </td><td style=\"text-align: right;\"> 0.0960536</td><td style=\"text-align: right;\">-0.194434 </td><td style=\"text-align: right;\"> 0.00210342</td><td style=\"text-align: right;\">-0.0414386 </td><td style=\"text-align: right;\"> 0.0294974 </td><td style=\"text-align: right;\">-0.106329 </td><td style=\"text-align: right;\">-0.0133149</td><td style=\"text-align: right;\"> 0.0678017 </td><td style=\"text-align: right;\">-0.0070895 </td><td style=\"text-align: right;\">-0.0824815</td><td style=\"text-align: right;\"> 0.0884698 </td><td style=\"text-align: right;\">-0.0429575</td><td style=\"text-align: right;\">-0.222194 </td><td style=\"text-align: right;\"> 0.102083 </td><td style=\"text-align: right;\">-0.0045543 </td><td style=\"text-align: right;\"> 0.081824 </td><td style=\"text-align: right;\"> 0.00640949</td><td style=\"text-align: right;\">-0.147851   </td><td style=\"text-align: right;\">-0.022074  </td><td style=\"text-align: right;\">-0.0144999</td><td style=\"text-align: right;\">-0.0128193</td><td style=\"text-align: right;\"> 0.0124418 </td><td style=\"text-align: right;\"> 0.11159  </td><td style=\"text-align: right;\">-0.123686 </td><td style=\"text-align: right;\"> 0.144875  </td><td style=\"text-align: right;\"> 0.00401946</td><td style=\"text-align: right;\">-0.0797641 </td><td style=\"text-align: right;\">0.230592</td><td style=\"text-align: right;\"> 0.0755498  </td><td style=\"text-align: right;\"> 0.0777742  </td><td style=\"text-align: right;\">-0.0327114 </td><td style=\"text-align: right;\"> 0.137105 </td><td style=\"text-align: right;\">-0.00862823</td><td style=\"text-align: right;\"> 0.0503022 </td><td style=\"text-align: right;\">-0.0280777 </td><td style=\"text-align: right;\"> 0.0455409</td><td style=\"text-align: right;\">-0.0914228 </td><td style=\"text-align: right;\"> 0.0297171 </td></tr>\n",
       "<tr><td style=\"text-align: right;\">-0.0236374</td><td style=\"text-align: right;\"> 0.139376 </td><td style=\"text-align: right;\">-0.375906 </td><td style=\"text-align: right;\"> 0.247439 </td><td style=\"text-align: right;\">-0.368952 </td><td style=\"text-align: right;\"> 0.263241 </td><td style=\"text-align: right;\">-0.258744  </td><td style=\"text-align: right;\">-0.601995</td><td style=\"text-align: right;\">-0.0973911  </td><td style=\"text-align: right;\"> 0.153243 </td><td style=\"text-align: right;\"> 0.0749263</td><td style=\"text-align: right;\">-0.0252649</td><td style=\"text-align: right;\">-0.150117  </td><td style=\"text-align: right;\">-0.123059  </td><td style=\"text-align: right;\">0.23237  </td><td style=\"text-align: right;\"> 0.0566926  </td><td style=\"text-align: right;\">-0.116625  </td><td style=\"text-align: right;\"> 0.0297005 </td><td style=\"text-align: right;\">-0.102142 </td><td style=\"text-align: right;\">-0.105284</td><td style=\"text-align: right;\"> 0.0012641 </td><td style=\"text-align: right;\">-0.254131</td><td style=\"text-align: right;\"> 0.0529814</td><td style=\"text-align: right;\">0.33449 </td><td style=\"text-align: right;\">0.00895882 </td><td style=\"text-align: right;\"> 0.0892724</td><td style=\"text-align: right;\">-0.0478753 </td><td style=\"text-align: right;\">-0.00276708 </td><td style=\"text-align: right;\">-0.000440208</td><td style=\"text-align: right;\">-0.410398  </td><td style=\"text-align: right;\"> 0.0372226</td><td style=\"text-align: right;\">0.174008 </td><td style=\"text-align: right;\"> 0.228821 </td><td style=\"text-align: right;\">-0.141785  </td><td style=\"text-align: right;\"> 0.0716858 </td><td style=\"text-align: right;\">-0.191145 </td><td style=\"text-align: right;\"> 0.340784 </td><td style=\"text-align: right;\">-0.230465 </td><td style=\"text-align: right;\">-0.144522  </td><td style=\"text-align: right;\"> 0.108608   </td><td style=\"text-align: right;\">-0.0292945</td><td style=\"text-align: right;\"> 0.0651762 </td><td style=\"text-align: right;\">-0.0161832</td><td style=\"text-align: right;\">-0.350517  </td><td style=\"text-align: right;\">-0.130187 </td><td style=\"text-align: right;\">-0.0263861</td><td style=\"text-align: right;\">-0.190788  </td><td style=\"text-align: right;\"> 0.197082  </td><td style=\"text-align: right;\">-0.0327773 </td><td style=\"text-align: right;\"> 0.205321 </td><td style=\"text-align: right;\"> 0.000376276</td><td style=\"text-align: right;\">-0.187248 </td><td style=\"text-align: right;\"> 0.110617  </td><td style=\"text-align: right;\">0.0146931</td><td style=\"text-align: right;\"> 0.0661467</td><td style=\"text-align: right;\">-0.080222   </td><td style=\"text-align: right;\">-0.120783 </td><td style=\"text-align: right;\">-0.0181609  </td><td style=\"text-align: right;\">-0.233003   </td><td style=\"text-align: right;\"> 0.0917899 </td><td style=\"text-align: right;\"> 0.183999  </td><td style=\"text-align: right;\">-0.0325835</td><td style=\"text-align: right;\"> 0.118949 </td><td style=\"text-align: right;\">-0.373915 </td><td style=\"text-align: right;\"> 0.296924  </td><td style=\"text-align: right;\"> 0.00315568</td><td style=\"text-align: right;\">-0.106381  </td><td style=\"text-align: right;\">-0.19197  </td><td style=\"text-align: right;\"> 0.0187155</td><td style=\"text-align: right;\"> 0.235406  </td><td style=\"text-align: right;\"> 0.0130494 </td><td style=\"text-align: right;\"> 0.0104757</td><td style=\"text-align: right;\">-0.0748131 </td><td style=\"text-align: right;\"> 0.18282  </td><td style=\"text-align: right;\">-0.277965 </td><td style=\"text-align: right;\">-0.244596 </td><td style=\"text-align: right;\"> 0.042209  </td><td style=\"text-align: right;\">-0.0738456</td><td style=\"text-align: right;\">-0.00897325</td><td style=\"text-align: right;\">-0.191883   </td><td style=\"text-align: right;\">-0.0656664 </td><td style=\"text-align: right;\"> 0.0297734</td><td style=\"text-align: right;\"> 0.0255476</td><td style=\"text-align: right;\">-0.0310598 </td><td style=\"text-align: right;\"> 0.233744 </td><td style=\"text-align: right;\">-0.0143427</td><td style=\"text-align: right;\"> 0.230944  </td><td style=\"text-align: right;\"> 0.285281  </td><td style=\"text-align: right;\">-0.185485  </td><td style=\"text-align: right;\">0.318857</td><td style=\"text-align: right;\">-0.0824344  </td><td style=\"text-align: right;\">-0.0114837  </td><td style=\"text-align: right;\"> 0.0474612 </td><td style=\"text-align: right;\"> 0.268192 </td><td style=\"text-align: right;\">-0.166446  </td><td style=\"text-align: right;\">-0.0578959 </td><td style=\"text-align: right;\"> 0.198348  </td><td style=\"text-align: right;\"> 0.0519918</td><td style=\"text-align: right;\"> 0.153043  </td><td style=\"text-align: right;\"> 0.180762  </td></tr>\n",
       "</tbody>\n",
       "</table>"
      ]
     },
     "metadata": {},
     "output_type": "display_data"
    },
    {
     "data": {
      "text/plain": []
     },
     "execution_count": 21,
     "metadata": {},
     "output_type": "execute_result"
    }
   ],
   "source": [
    "# Calculate a vector for each review\n",
    "review_vecs = w2v_model.transform(words, aggregate_method = \"AVERAGE\")\n",
    "review_vecs"
   ]
  },
  {
   "cell_type": "code",
   "execution_count": 22,
   "metadata": {},
   "outputs": [],
   "source": [
    "# Add aggregated word embeddings \n",
    "ext_reviews = reviews.cbind(review_vecs)"
   ]
  },
  {
   "cell_type": "code",
   "execution_count": 23,
   "metadata": {},
   "outputs": [
    {
     "data": {
      "text/html": [
       "<table>\n",
       "<thead>\n",
       "<tr><th>ProductId  </th><th>UserId        </th><th>Summary                     </th><th style=\"text-align: right;\">  Score</th><th style=\"text-align: right;\">  HelpfulnessDenominator</th><th style=\"text-align: right;\">    Id</th><th>ProfileName        </th><th style=\"text-align: right;\">  HelpfulnessNumerator</th><th style=\"text-align: right;\">       Time</th><th>Text                                                                                                                                                                                                                                                                                                                                                                            </th><th style=\"text-align: right;\">  PositiveReview</th><th>Train  </th><th style=\"text-align: right;\">        C1</th><th style=\"text-align: right;\">        C2</th><th style=\"text-align: right;\">        C3</th><th style=\"text-align: right;\">       C4</th><th style=\"text-align: right;\">       C5</th><th style=\"text-align: right;\">        C6</th><th style=\"text-align: right;\">         C7</th><th style=\"text-align: right;\">       C8</th><th style=\"text-align: right;\">       C9</th><th style=\"text-align: right;\">      C10</th><th style=\"text-align: right;\">       C11</th><th style=\"text-align: right;\">       C12</th><th style=\"text-align: right;\">       C13</th><th style=\"text-align: right;\">        C14</th><th style=\"text-align: right;\">      C15</th><th style=\"text-align: right;\">         C16</th><th style=\"text-align: right;\">       C17</th><th style=\"text-align: right;\">       C18</th><th style=\"text-align: right;\">       C19</th><th style=\"text-align: right;\">      C20</th><th style=\"text-align: right;\">       C21</th><th style=\"text-align: right;\">      C22</th><th style=\"text-align: right;\">       C23</th><th style=\"text-align: right;\">     C24</th><th style=\"text-align: right;\">     C25</th><th style=\"text-align: right;\">       C26</th><th style=\"text-align: right;\">       C27</th><th style=\"text-align: right;\">        C28</th><th style=\"text-align: right;\">       C29</th><th style=\"text-align: right;\">       C30</th><th style=\"text-align: right;\">       C31</th><th style=\"text-align: right;\">      C32</th><th style=\"text-align: right;\">      C33</th><th style=\"text-align: right;\">       C34</th><th style=\"text-align: right;\">        C35</th><th style=\"text-align: right;\">       C36</th><th style=\"text-align: right;\">       C37</th><th style=\"text-align: right;\">       C38</th><th style=\"text-align: right;\">       C39</th><th style=\"text-align: right;\">        C40</th><th style=\"text-align: right;\">       C41</th><th style=\"text-align: right;\">       C42</th><th style=\"text-align: right;\">     C43</th><th style=\"text-align: right;\">        C44</th><th style=\"text-align: right;\">      C45</th><th style=\"text-align: right;\">      C46</th><th style=\"text-align: right;\">      C47</th><th style=\"text-align: right;\">        C48</th><th style=\"text-align: right;\">       C49</th><th style=\"text-align: right;\">       C50</th><th style=\"text-align: right;\">      C51</th><th style=\"text-align: right;\">       C52</th><th style=\"text-align: right;\">       C53</th><th style=\"text-align: right;\">     C54</th><th style=\"text-align: right;\">      C55</th><th style=\"text-align: right;\">       C56</th><th style=\"text-align: right;\">       C57</th><th style=\"text-align: right;\">       C58</th><th style=\"text-align: right;\">        C59</th><th style=\"text-align: right;\">        C60</th><th style=\"text-align: right;\">      C61</th><th style=\"text-align: right;\">     C62</th><th style=\"text-align: right;\">       C63</th><th style=\"text-align: right;\">       C64</th><th style=\"text-align: right;\">       C65</th><th style=\"text-align: right;\">       C66</th><th style=\"text-align: right;\">        C67</th><th style=\"text-align: right;\">       C68</th><th style=\"text-align: right;\">      C69</th><th style=\"text-align: right;\">       C70</th><th style=\"text-align: right;\">       C71</th><th style=\"text-align: right;\">       C72</th><th style=\"text-align: right;\">       C73</th><th style=\"text-align: right;\">       C74</th><th style=\"text-align: right;\">       C75</th><th style=\"text-align: right;\">      C76</th><th style=\"text-align: right;\">       C77</th><th style=\"text-align: right;\">       C78</th><th style=\"text-align: right;\">       C79</th><th style=\"text-align: right;\">         C80</th><th style=\"text-align: right;\">       C81</th><th style=\"text-align: right;\">       C82</th><th style=\"text-align: right;\">       C83</th><th style=\"text-align: right;\">       C84</th><th style=\"text-align: right;\">       C85</th><th style=\"text-align: right;\">       C86</th><th style=\"text-align: right;\">      C87</th><th style=\"text-align: right;\">        C88</th><th style=\"text-align: right;\">        C89</th><th style=\"text-align: right;\">     C90</th><th style=\"text-align: right;\">         C91</th><th style=\"text-align: right;\">      C92</th><th style=\"text-align: right;\">       C93</th><th style=\"text-align: right;\">      C94</th><th style=\"text-align: right;\">      C95</th><th style=\"text-align: right;\">      C96</th><th style=\"text-align: right;\">       C97</th><th style=\"text-align: right;\">       C98</th><th style=\"text-align: right;\">      C99</th><th style=\"text-align: right;\">      C100</th></tr>\n",
       "</thead>\n",
       "<tbody>\n",
       "<tr><td>B00141QYSQ </td><td>A1YS02UZZGRDCT</td><td>Do Not Buy                  </td><td style=\"text-align: right;\">      1</td><td style=\"text-align: right;\">                       2</td><td style=\"text-align: right;\"> 41471</td><td>Evan Eberhardt     </td><td style=\"text-align: right;\">                     2</td><td style=\"text-align: right;\">1.34836e+09</td><td>These are made in China (do not buy ANY pet food from China).  Dogswell has been using propylene glycol to soften their treats (what are they thinkng?).  Do not purchase or support this company in any way until they clean up their act.  And for whatever reason Amazon doesn't allow returns of this item, so I had to toss mine out.  Bad business all around on this one.</td><td style=\"text-align: right;\">               0</td><td>No     </td><td style=\"text-align: right;\"> 0.0703094</td><td style=\"text-align: right;\">-0.0395911</td><td style=\"text-align: right;\">-0.117531 </td><td style=\"text-align: right;\">0.0104144</td><td style=\"text-align: right;\">0.157438 </td><td style=\"text-align: right;\">-0.076705 </td><td style=\"text-align: right;\">-0.0164516 </td><td style=\"text-align: right;\">-0.162256</td><td style=\"text-align: right;\">0.165697 </td><td style=\"text-align: right;\">0.0514577</td><td style=\"text-align: right;\">-0.0595395</td><td style=\"text-align: right;\">-0.149631 </td><td style=\"text-align: right;\"> 0.181001 </td><td style=\"text-align: right;\"> 0.204681  </td><td style=\"text-align: right;\">0.110963 </td><td style=\"text-align: right;\">-0.0280449  </td><td style=\"text-align: right;\">0.014834  </td><td style=\"text-align: right;\">-0.130473 </td><td style=\"text-align: right;\">-0.0134254</td><td style=\"text-align: right;\">-0.224671</td><td style=\"text-align: right;\"> 0.0178087</td><td style=\"text-align: right;\">-0.0714  </td><td style=\"text-align: right;\">-0.0234392</td><td style=\"text-align: right;\">0.157829</td><td style=\"text-align: right;\">0.185659</td><td style=\"text-align: right;\"> 0.20062  </td><td style=\"text-align: right;\"> 0.0511474</td><td style=\"text-align: right;\">0.000454547</td><td style=\"text-align: right;\">-0.0639399</td><td style=\"text-align: right;\"> 0.0239243</td><td style=\"text-align: right;\"> 0.0268345</td><td style=\"text-align: right;\">0.125227 </td><td style=\"text-align: right;\">0.191276 </td><td style=\"text-align: right;\"> 0.0455835</td><td style=\"text-align: right;\"> 0.178063  </td><td style=\"text-align: right;\">-0.052446 </td><td style=\"text-align: right;\"> 0.0301221</td><td style=\"text-align: right;\"> 0.0254013</td><td style=\"text-align: right;\"> 0.0207386</td><td style=\"text-align: right;\">-0.128052  </td><td style=\"text-align: right;\">-0.0739024</td><td style=\"text-align: right;\">-0.0750217</td><td style=\"text-align: right;\">0.165129</td><td style=\"text-align: right;\">-0.219145  </td><td style=\"text-align: right;\">-0.222636</td><td style=\"text-align: right;\">0.107566 </td><td style=\"text-align: right;\">-0.118672</td><td style=\"text-align: right;\">-0.00979281</td><td style=\"text-align: right;\"> 0.0917284</td><td style=\"text-align: right;\">-0.0608468</td><td style=\"text-align: right;\">0.101565 </td><td style=\"text-align: right;\">-0.0682883</td><td style=\"text-align: right;\"> 0.0371481</td><td style=\"text-align: right;\">0.187462</td><td style=\"text-align: right;\">0.0415303</td><td style=\"text-align: right;\">-0.0135254</td><td style=\"text-align: right;\">-0.17125  </td><td style=\"text-align: right;\">0.173416  </td><td style=\"text-align: right;\">-0.00203453</td><td style=\"text-align: right;\"> 0.00241387</td><td style=\"text-align: right;\">-0.140079</td><td style=\"text-align: right;\">0.130033</td><td style=\"text-align: right;\">-0.0357338</td><td style=\"text-align: right;\">-0.198327 </td><td style=\"text-align: right;\"> 0.103732 </td><td style=\"text-align: right;\">-0.117349 </td><td style=\"text-align: right;\"> 0.00713053</td><td style=\"text-align: right;\">-0.104939 </td><td style=\"text-align: right;\">0.012536 </td><td style=\"text-align: right;\"> 0.0385507</td><td style=\"text-align: right;\">-0.0443138</td><td style=\"text-align: right;\">-0.100059 </td><td style=\"text-align: right;\">0.012989  </td><td style=\"text-align: right;\">-0.0253023</td><td style=\"text-align: right;\">-0.222702 </td><td style=\"text-align: right;\">0.0136286</td><td style=\"text-align: right;\">-0.0642296</td><td style=\"text-align: right;\"> 0.0235267</td><td style=\"text-align: right;\">-0.140536 </td><td style=\"text-align: right;\">-0.00686113 </td><td style=\"text-align: right;\">-0.0510982</td><td style=\"text-align: right;\">-0.0178214</td><td style=\"text-align: right;\"> 0.120792 </td><td style=\"text-align: right;\">0.00643385</td><td style=\"text-align: right;\">-0.116548 </td><td style=\"text-align: right;\">-0.0438167</td><td style=\"text-align: right;\">0.0471998</td><td style=\"text-align: right;\"> 0.00301578</td><td style=\"text-align: right;\">-0.00571513</td><td style=\"text-align: right;\">0.159997</td><td style=\"text-align: right;\">-0.0155437  </td><td style=\"text-align: right;\">0.145022 </td><td style=\"text-align: right;\">-0.104031 </td><td style=\"text-align: right;\">0.0977537</td><td style=\"text-align: right;\">0.0756188</td><td style=\"text-align: right;\">0.023952 </td><td style=\"text-align: right;\">-0.130919 </td><td style=\"text-align: right;\"> 0.0163749</td><td style=\"text-align: right;\">-0.147719</td><td style=\"text-align: right;\">-0.0516117</td></tr>\n",
       "<tr><td>B0089SPEO2 </td><td>A3JOYNYL458QHP</td><td>Less lemon and less zing    </td><td style=\"text-align: right;\">      3</td><td style=\"text-align: right;\">                       0</td><td style=\"text-align: right;\"> 28582</td><td>coleridge          </td><td style=\"text-align: right;\">                     0</td><td style=\"text-align: right;\">1.32391e+09</td><td>Everything is ok, except it just isn't as good as it is in the bags.  Just considerably more bland -- less lemon and less zing.  Boring.                                                                                                                                                                                                                                        </td><td style=\"text-align: right;\">               0</td><td>Yes    </td><td style=\"text-align: right;\">-0.0519809</td><td style=\"text-align: right;\"> 0.289595 </td><td style=\"text-align: right;\">-0.27588  </td><td style=\"text-align: right;\">0.276799 </td><td style=\"text-align: right;\">0.0386997</td><td style=\"text-align: right;\">-0.0379946</td><td style=\"text-align: right;\">-0.00665416</td><td style=\"text-align: right;\">-0.316858</td><td style=\"text-align: right;\">0.0713603</td><td style=\"text-align: right;\">0.0277716</td><td style=\"text-align: right;\"> 0.0526271</td><td style=\"text-align: right;\"> 0.0238031</td><td style=\"text-align: right;\">-0.0484786</td><td style=\"text-align: right;\">-0.00488661</td><td style=\"text-align: right;\">0.0612829</td><td style=\"text-align: right;\"> 0.000413289</td><td style=\"text-align: right;\">0.0538962 </td><td style=\"text-align: right;\"> 0.0156217</td><td style=\"text-align: right;\">-0.0210634</td><td style=\"text-align: right;\">-0.147432</td><td style=\"text-align: right;\"> 0.112688 </td><td style=\"text-align: right;\">-0.117605</td><td style=\"text-align: right;\">-0.0882154</td><td style=\"text-align: right;\">0.206558</td><td style=\"text-align: right;\">0.191525</td><td style=\"text-align: right;\">-0.106603 </td><td style=\"text-align: right;\">-0.0381607</td><td style=\"text-align: right;\">0.220812   </td><td style=\"text-align: right;\">-0.129079 </td><td style=\"text-align: right;\">-0.0684997</td><td style=\"text-align: right;\">-0.122232 </td><td style=\"text-align: right;\">0.0696295</td><td style=\"text-align: right;\">0.116955 </td><td style=\"text-align: right;\">-0.0593617</td><td style=\"text-align: right;\"> 0.0738468 </td><td style=\"text-align: right;\">-0.0189005</td><td style=\"text-align: right;\">-0.0344434</td><td style=\"text-align: right;\"> 0.0203135</td><td style=\"text-align: right;\">-0.0468166</td><td style=\"text-align: right;\">-0.0392924 </td><td style=\"text-align: right;\">-0.059241 </td><td style=\"text-align: right;\"> 0.0612486</td><td style=\"text-align: right;\">0.154331</td><td style=\"text-align: right;\"> 0.00202096</td><td style=\"text-align: right;\">-0.204296</td><td style=\"text-align: right;\">0.0504917</td><td style=\"text-align: right;\">-0.228515</td><td style=\"text-align: right;\"> 0.0383541 </td><td style=\"text-align: right;\">-0.159064 </td><td style=\"text-align: right;\"> 0.108437 </td><td style=\"text-align: right;\">0.0986095</td><td style=\"text-align: right;\"> 0.0115093</td><td style=\"text-align: right;\">-0.0134482</td><td style=\"text-align: right;\">0.130059</td><td style=\"text-align: right;\">0.0671229</td><td style=\"text-align: right;\">-0.0965511</td><td style=\"text-align: right;\">-0.0494418</td><td style=\"text-align: right;\">0.00215705</td><td style=\"text-align: right;\"> 0.0710555 </td><td style=\"text-align: right;\"> 0.0478681 </td><td style=\"text-align: right;\"> 0.015314</td><td style=\"text-align: right;\">0.13318 </td><td style=\"text-align: right;\"> 0.0226682</td><td style=\"text-align: right;\">-0.0653435</td><td style=\"text-align: right;\"> 0.105136 </td><td style=\"text-align: right;\">-0.0808749</td><td style=\"text-align: right;\">-0.0645779 </td><td style=\"text-align: right;\">-0.0747602</td><td style=\"text-align: right;\">0.0540775</td><td style=\"text-align: right;\"> 0.0177461</td><td style=\"text-align: right;\">-0.208147 </td><td style=\"text-align: right;\">-0.0659113</td><td style=\"text-align: right;\">0.00643675</td><td style=\"text-align: right;\"> 0.0316051</td><td style=\"text-align: right;\">-0.0569473</td><td style=\"text-align: right;\">0.0569734</td><td style=\"text-align: right;\"> 0.0344189</td><td style=\"text-align: right;\">-0.0417462</td><td style=\"text-align: right;\">-0.0608028</td><td style=\"text-align: right;\">-0.000755868</td><td style=\"text-align: right;\">-0.068624 </td><td style=\"text-align: right;\"> 0.0435193</td><td style=\"text-align: right;\">-0.0438224</td><td style=\"text-align: right;\">0.00500554</td><td style=\"text-align: right;\">-0.0244429</td><td style=\"text-align: right;\">-0.0926207</td><td style=\"text-align: right;\">0.0491446</td><td style=\"text-align: right;\">-0.0323409 </td><td style=\"text-align: right;\">-0.167125  </td><td style=\"text-align: right;\">0.215232</td><td style=\"text-align: right;\">-0.081445   </td><td style=\"text-align: right;\">0.0039682</td><td style=\"text-align: right;\">-0.119028 </td><td style=\"text-align: right;\">0.167116 </td><td style=\"text-align: right;\">0.0893888</td><td style=\"text-align: right;\">0.0343704</td><td style=\"text-align: right;\">-0.0183767</td><td style=\"text-align: right;\"> 0.0209421</td><td style=\"text-align: right;\"> 0.109631</td><td style=\"text-align: right;\">-0.0150665</td></tr>\n",
       "<tr><td>B001PMCDK2 </td><td>A14TTMM0Z03Y2W</td><td>my cat goes crazy for these!</td><td style=\"text-align: right;\">      5</td><td style=\"text-align: right;\">                       0</td><td style=\"text-align: right;\">389965</td><td>Lindsay S. Bradford</td><td style=\"text-align: right;\">                     0</td><td style=\"text-align: right;\">1.3106e+09 </td><td>Best cat treat ever. There isn't anything comparable to the love my cat has for these treats, he snubs away any other kind now.<br />I know he likes to manipulate me with his cattiness but these treats are my way of manipulating him to come sit on my lap and have some chill time. :)                                                                                     </td><td style=\"text-align: right;\">               1</td><td>Yes    </td><td style=\"text-align: right;\">-0.0541022</td><td style=\"text-align: right;\"> 0.0248378</td><td style=\"text-align: right;\">-0.0755515</td><td style=\"text-align: right;\">0.0729746</td><td style=\"text-align: right;\">0.0861826</td><td style=\"text-align: right;\">-0.0917634</td><td style=\"text-align: right;\">-0.169202  </td><td style=\"text-align: right;\">-0.271492</td><td style=\"text-align: right;\">0.0110085</td><td style=\"text-align: right;\">0.0456146</td><td style=\"text-align: right;\">-0.0112144</td><td style=\"text-align: right;\">-0.108649 </td><td style=\"text-align: right;\">-0.0402023</td><td style=\"text-align: right;\"> 0.11135   </td><td style=\"text-align: right;\">0.0956423</td><td style=\"text-align: right;\"> 0.00413042 </td><td style=\"text-align: right;\">0.00940824</td><td style=\"text-align: right;\">-0.0766615</td><td style=\"text-align: right;\">-0.0966248</td><td style=\"text-align: right;\">-0.229758</td><td style=\"text-align: right;\">-0.0384817</td><td style=\"text-align: right;\">-0.12216 </td><td style=\"text-align: right;\"> 0.113904 </td><td style=\"text-align: right;\">0.156607</td><td style=\"text-align: right;\">0.32386 </td><td style=\"text-align: right;\"> 0.0839406</td><td style=\"text-align: right;\">-0.0780775</td><td style=\"text-align: right;\">0.0357554  </td><td style=\"text-align: right;\">-0.084912 </td><td style=\"text-align: right;\"> 0.0531381</td><td style=\"text-align: right;\">-0.0829757</td><td style=\"text-align: right;\">0.104065 </td><td style=\"text-align: right;\">0.0304965</td><td style=\"text-align: right;\">-0.0368512</td><td style=\"text-align: right;\">-0.00208455</td><td style=\"text-align: right;\">-0.0707798</td><td style=\"text-align: right;\"> 0.0878331</td><td style=\"text-align: right;\">-0.0116279</td><td style=\"text-align: right;\"> 0.0330673</td><td style=\"text-align: right;\"> 0.00613481</td><td style=\"text-align: right;\">-0.221704 </td><td style=\"text-align: right;\">-0.042951 </td><td style=\"text-align: right;\">0.162246</td><td style=\"text-align: right;\">-0.0137851 </td><td style=\"text-align: right;\">-0.169164</td><td style=\"text-align: right;\">0.112649 </td><td style=\"text-align: right;\">-0.11178 </td><td style=\"text-align: right;\">-0.00324176</td><td style=\"text-align: right;\">-0.0587058</td><td style=\"text-align: right;\">-0.0167382</td><td style=\"text-align: right;\">0.175482 </td><td style=\"text-align: right;\">-0.0507775</td><td style=\"text-align: right;\">-0.0125681</td><td style=\"text-align: right;\">0.13456 </td><td style=\"text-align: right;\">0.0175409</td><td style=\"text-align: right;\"> 0.0577606</td><td style=\"text-align: right;\">-0.154438 </td><td style=\"text-align: right;\">0.149454  </td><td style=\"text-align: right;\"> 0.0219627 </td><td style=\"text-align: right;\">-0.0639374 </td><td style=\"text-align: right;\">-0.115874</td><td style=\"text-align: right;\">0.165142</td><td style=\"text-align: right;\"> 0.0454343</td><td style=\"text-align: right;\">-0.186082 </td><td style=\"text-align: right;\">-0.0969075</td><td style=\"text-align: right;\"> 0.0177896</td><td style=\"text-align: right;\">-0.127036  </td><td style=\"text-align: right;\">-0.169897 </td><td style=\"text-align: right;\">0.0671924</td><td style=\"text-align: right;\">-0.013323 </td><td style=\"text-align: right;\">-0.0207632</td><td style=\"text-align: right;\">-0.126095 </td><td style=\"text-align: right;\">0.116741  </td><td style=\"text-align: right;\">-0.0242854</td><td style=\"text-align: right;\">-0.194652 </td><td style=\"text-align: right;\">0.0466457</td><td style=\"text-align: right;\">-0.074745 </td><td style=\"text-align: right;\">-0.0355895</td><td style=\"text-align: right;\">-0.0290385</td><td style=\"text-align: right;\">-0.00560758 </td><td style=\"text-align: right;\">-0.0299108</td><td style=\"text-align: right;\">-0.0396587</td><td style=\"text-align: right;\"> 0.0540669</td><td style=\"text-align: right;\">0.0306253 </td><td style=\"text-align: right;\">-0.101068 </td><td style=\"text-align: right;\">-0.157812 </td><td style=\"text-align: right;\">0.131107 </td><td style=\"text-align: right;\"> 0.0431382 </td><td style=\"text-align: right;\">-0.0438983 </td><td style=\"text-align: right;\">0.117392</td><td style=\"text-align: right;\"> 0.000871606</td><td style=\"text-align: right;\">0.0301853</td><td style=\"text-align: right;\">-0.0873573</td><td style=\"text-align: right;\">0.180934 </td><td style=\"text-align: right;\">0.0903421</td><td style=\"text-align: right;\">0.0397914</td><td style=\"text-align: right;\"> 0.0482174</td><td style=\"text-align: right;\">-0.0834084</td><td style=\"text-align: right;\">-0.156003</td><td style=\"text-align: right;\">-0.0499305</td></tr>\n",
       "</tbody>\n",
       "</table>"
      ]
     },
     "metadata": {},
     "output_type": "display_data"
    },
    {
     "data": {
      "text/plain": []
     },
     "execution_count": 23,
     "metadata": {},
     "output_type": "execute_result"
    }
   ],
   "source": [
    "ext_reviews.head(3)"
   ]
  },
  {
   "cell_type": "markdown",
   "metadata": {},
   "source": [
    "## 1.5 Add Summary Column"
   ]
  },
  {
   "cell_type": "code",
   "execution_count": 24,
   "metadata": {},
   "outputs": [],
   "source": [
    "# Break summaries into sequence of word.\n",
    "summary_words = tokenize(reviews['Summary'].ascharacter())"
   ]
  },
  {
   "cell_type": "code",
   "execution_count": 25,
   "metadata": {},
   "outputs": [],
   "source": [
    "summary_vecs = w2v_model.transform(summary_words, aggregate_method='AVERAGE')\n",
    "summary_vecs.names = ['summary_'+ s for s in summary_vecs.names]\n",
    "\n",
    "ext_reviews_new = ext_reviews.cbind(summary_vecs)"
   ]
  },
  {
   "cell_type": "code",
   "execution_count": 26,
   "metadata": {},
   "outputs": [
    {
     "data": {
      "text/html": [
       "<table>\n",
       "<thead>\n",
       "<tr><th>ProductId  </th><th>UserId        </th><th>Summary                     </th><th style=\"text-align: right;\">  Score</th><th style=\"text-align: right;\">  HelpfulnessDenominator</th><th style=\"text-align: right;\">    Id</th><th>ProfileName        </th><th style=\"text-align: right;\">  HelpfulnessNumerator</th><th style=\"text-align: right;\">       Time</th><th>Text                                                                                                                                                                                                                                                                                                                                                                            </th><th style=\"text-align: right;\">  PositiveReview</th><th>Train  </th><th style=\"text-align: right;\">        C1</th><th style=\"text-align: right;\">        C2</th><th style=\"text-align: right;\">        C3</th><th style=\"text-align: right;\">       C4</th><th style=\"text-align: right;\">       C5</th><th style=\"text-align: right;\">        C6</th><th style=\"text-align: right;\">         C7</th><th style=\"text-align: right;\">       C8</th><th style=\"text-align: right;\">       C9</th><th style=\"text-align: right;\">      C10</th><th style=\"text-align: right;\">       C11</th><th style=\"text-align: right;\">       C12</th><th style=\"text-align: right;\">       C13</th><th style=\"text-align: right;\">        C14</th><th style=\"text-align: right;\">      C15</th><th style=\"text-align: right;\">         C16</th><th style=\"text-align: right;\">       C17</th><th style=\"text-align: right;\">       C18</th><th style=\"text-align: right;\">       C19</th><th style=\"text-align: right;\">      C20</th><th style=\"text-align: right;\">       C21</th><th style=\"text-align: right;\">      C22</th><th style=\"text-align: right;\">       C23</th><th style=\"text-align: right;\">     C24</th><th style=\"text-align: right;\">     C25</th><th style=\"text-align: right;\">       C26</th><th style=\"text-align: right;\">       C27</th><th style=\"text-align: right;\">        C28</th><th style=\"text-align: right;\">       C29</th><th style=\"text-align: right;\">       C30</th><th style=\"text-align: right;\">       C31</th><th style=\"text-align: right;\">      C32</th><th style=\"text-align: right;\">      C33</th><th style=\"text-align: right;\">       C34</th><th style=\"text-align: right;\">        C35</th><th style=\"text-align: right;\">       C36</th><th style=\"text-align: right;\">       C37</th><th style=\"text-align: right;\">       C38</th><th style=\"text-align: right;\">       C39</th><th style=\"text-align: right;\">        C40</th><th style=\"text-align: right;\">       C41</th><th style=\"text-align: right;\">       C42</th><th style=\"text-align: right;\">     C43</th><th style=\"text-align: right;\">        C44</th><th style=\"text-align: right;\">      C45</th><th style=\"text-align: right;\">      C46</th><th style=\"text-align: right;\">      C47</th><th style=\"text-align: right;\">        C48</th><th style=\"text-align: right;\">       C49</th><th style=\"text-align: right;\">       C50</th><th style=\"text-align: right;\">      C51</th><th style=\"text-align: right;\">       C52</th><th style=\"text-align: right;\">       C53</th><th style=\"text-align: right;\">     C54</th><th style=\"text-align: right;\">      C55</th><th style=\"text-align: right;\">       C56</th><th style=\"text-align: right;\">       C57</th><th style=\"text-align: right;\">       C58</th><th style=\"text-align: right;\">        C59</th><th style=\"text-align: right;\">        C60</th><th style=\"text-align: right;\">      C61</th><th style=\"text-align: right;\">     C62</th><th style=\"text-align: right;\">       C63</th><th style=\"text-align: right;\">       C64</th><th style=\"text-align: right;\">       C65</th><th style=\"text-align: right;\">       C66</th><th style=\"text-align: right;\">        C67</th><th style=\"text-align: right;\">       C68</th><th style=\"text-align: right;\">      C69</th><th style=\"text-align: right;\">       C70</th><th style=\"text-align: right;\">       C71</th><th style=\"text-align: right;\">       C72</th><th style=\"text-align: right;\">       C73</th><th style=\"text-align: right;\">       C74</th><th style=\"text-align: right;\">       C75</th><th style=\"text-align: right;\">      C76</th><th style=\"text-align: right;\">       C77</th><th style=\"text-align: right;\">       C78</th><th style=\"text-align: right;\">       C79</th><th style=\"text-align: right;\">         C80</th><th style=\"text-align: right;\">       C81</th><th style=\"text-align: right;\">       C82</th><th style=\"text-align: right;\">       C83</th><th style=\"text-align: right;\">       C84</th><th style=\"text-align: right;\">       C85</th><th style=\"text-align: right;\">       C86</th><th style=\"text-align: right;\">      C87</th><th style=\"text-align: right;\">        C88</th><th style=\"text-align: right;\">        C89</th><th style=\"text-align: right;\">     C90</th><th style=\"text-align: right;\">         C91</th><th style=\"text-align: right;\">      C92</th><th style=\"text-align: right;\">       C93</th><th style=\"text-align: right;\">      C94</th><th style=\"text-align: right;\">      C95</th><th style=\"text-align: right;\">      C96</th><th style=\"text-align: right;\">       C97</th><th style=\"text-align: right;\">       C98</th><th style=\"text-align: right;\">      C99</th><th style=\"text-align: right;\">      C100</th><th style=\"text-align: right;\">  summary_C1</th><th style=\"text-align: right;\">  summary_C2</th><th style=\"text-align: right;\">  summary_C3</th><th style=\"text-align: right;\">  summary_C4</th><th style=\"text-align: right;\">  summary_C5</th><th style=\"text-align: right;\">  summary_C6</th><th style=\"text-align: right;\">  summary_C7</th><th style=\"text-align: right;\">  summary_C8</th><th style=\"text-align: right;\">  summary_C9</th><th style=\"text-align: right;\">  summary_C10</th><th style=\"text-align: right;\">  summary_C11</th><th style=\"text-align: right;\">  summary_C12</th><th style=\"text-align: right;\">  summary_C13</th><th style=\"text-align: right;\">  summary_C14</th><th style=\"text-align: right;\">  summary_C15</th><th style=\"text-align: right;\">  summary_C16</th><th style=\"text-align: right;\">  summary_C17</th><th style=\"text-align: right;\">  summary_C18</th><th style=\"text-align: right;\">  summary_C19</th><th style=\"text-align: right;\">  summary_C20</th><th style=\"text-align: right;\">  summary_C21</th><th style=\"text-align: right;\">  summary_C22</th><th style=\"text-align: right;\">  summary_C23</th><th style=\"text-align: right;\">  summary_C24</th><th style=\"text-align: right;\">  summary_C25</th><th style=\"text-align: right;\">  summary_C26</th><th style=\"text-align: right;\">  summary_C27</th><th style=\"text-align: right;\">  summary_C28</th><th style=\"text-align: right;\">  summary_C29</th><th style=\"text-align: right;\">  summary_C30</th><th style=\"text-align: right;\">  summary_C31</th><th style=\"text-align: right;\">  summary_C32</th><th style=\"text-align: right;\">  summary_C33</th><th style=\"text-align: right;\">  summary_C34</th><th style=\"text-align: right;\">  summary_C35</th><th style=\"text-align: right;\">  summary_C36</th><th style=\"text-align: right;\">  summary_C37</th><th style=\"text-align: right;\">  summary_C38</th><th style=\"text-align: right;\">  summary_C39</th><th style=\"text-align: right;\">  summary_C40</th><th style=\"text-align: right;\">  summary_C41</th><th style=\"text-align: right;\">  summary_C42</th><th style=\"text-align: right;\">  summary_C43</th><th style=\"text-align: right;\">  summary_C44</th><th style=\"text-align: right;\">  summary_C45</th><th style=\"text-align: right;\">  summary_C46</th><th style=\"text-align: right;\">  summary_C47</th><th style=\"text-align: right;\">  summary_C48</th><th style=\"text-align: right;\">  summary_C49</th><th style=\"text-align: right;\">  summary_C50</th><th style=\"text-align: right;\">  summary_C51</th><th style=\"text-align: right;\">  summary_C52</th><th style=\"text-align: right;\">  summary_C53</th><th style=\"text-align: right;\">  summary_C54</th><th style=\"text-align: right;\">  summary_C55</th><th style=\"text-align: right;\">  summary_C56</th><th style=\"text-align: right;\">  summary_C57</th><th style=\"text-align: right;\">  summary_C58</th><th style=\"text-align: right;\">  summary_C59</th><th style=\"text-align: right;\">  summary_C60</th><th style=\"text-align: right;\">  summary_C61</th><th style=\"text-align: right;\">  summary_C62</th><th style=\"text-align: right;\">  summary_C63</th><th style=\"text-align: right;\">  summary_C64</th><th style=\"text-align: right;\">  summary_C65</th><th style=\"text-align: right;\">  summary_C66</th><th style=\"text-align: right;\">  summary_C67</th><th style=\"text-align: right;\">  summary_C68</th><th style=\"text-align: right;\">  summary_C69</th><th style=\"text-align: right;\">  summary_C70</th><th style=\"text-align: right;\">  summary_C71</th><th style=\"text-align: right;\">  summary_C72</th><th style=\"text-align: right;\">  summary_C73</th><th style=\"text-align: right;\">  summary_C74</th><th style=\"text-align: right;\">  summary_C75</th><th style=\"text-align: right;\">  summary_C76</th><th style=\"text-align: right;\">  summary_C77</th><th style=\"text-align: right;\">  summary_C78</th><th style=\"text-align: right;\">  summary_C79</th><th style=\"text-align: right;\">  summary_C80</th><th style=\"text-align: right;\">  summary_C81</th><th style=\"text-align: right;\">  summary_C82</th><th style=\"text-align: right;\">  summary_C83</th><th style=\"text-align: right;\">  summary_C84</th><th style=\"text-align: right;\">  summary_C85</th><th style=\"text-align: right;\">  summary_C86</th><th style=\"text-align: right;\">  summary_C87</th><th style=\"text-align: right;\">  summary_C88</th></tr>\n",
       "</thead>\n",
       "<tbody>\n",
       "<tr><td>B00141QYSQ </td><td>A1YS02UZZGRDCT</td><td>Do Not Buy                  </td><td style=\"text-align: right;\">      1</td><td style=\"text-align: right;\">                       2</td><td style=\"text-align: right;\"> 41471</td><td>Evan Eberhardt     </td><td style=\"text-align: right;\">                     2</td><td style=\"text-align: right;\">1.34836e+09</td><td>These are made in China (do not buy ANY pet food from China).  Dogswell has been using propylene glycol to soften their treats (what are they thinkng?).  Do not purchase or support this company in any way until they clean up their act.  And for whatever reason Amazon doesn't allow returns of this item, so I had to toss mine out.  Bad business all around on this one.</td><td style=\"text-align: right;\">               0</td><td>No     </td><td style=\"text-align: right;\"> 0.0703094</td><td style=\"text-align: right;\">-0.0395911</td><td style=\"text-align: right;\">-0.117531 </td><td style=\"text-align: right;\">0.0104144</td><td style=\"text-align: right;\">0.157438 </td><td style=\"text-align: right;\">-0.076705 </td><td style=\"text-align: right;\">-0.0164516 </td><td style=\"text-align: right;\">-0.162256</td><td style=\"text-align: right;\">0.165697 </td><td style=\"text-align: right;\">0.0514577</td><td style=\"text-align: right;\">-0.0595395</td><td style=\"text-align: right;\">-0.149631 </td><td style=\"text-align: right;\"> 0.181001 </td><td style=\"text-align: right;\"> 0.204681  </td><td style=\"text-align: right;\">0.110963 </td><td style=\"text-align: right;\">-0.0280449  </td><td style=\"text-align: right;\">0.014834  </td><td style=\"text-align: right;\">-0.130473 </td><td style=\"text-align: right;\">-0.0134254</td><td style=\"text-align: right;\">-0.224671</td><td style=\"text-align: right;\"> 0.0178087</td><td style=\"text-align: right;\">-0.0714  </td><td style=\"text-align: right;\">-0.0234392</td><td style=\"text-align: right;\">0.157829</td><td style=\"text-align: right;\">0.185659</td><td style=\"text-align: right;\"> 0.20062  </td><td style=\"text-align: right;\"> 0.0511474</td><td style=\"text-align: right;\">0.000454547</td><td style=\"text-align: right;\">-0.0639399</td><td style=\"text-align: right;\"> 0.0239243</td><td style=\"text-align: right;\"> 0.0268345</td><td style=\"text-align: right;\">0.125227 </td><td style=\"text-align: right;\">0.191276 </td><td style=\"text-align: right;\"> 0.0455835</td><td style=\"text-align: right;\"> 0.178063  </td><td style=\"text-align: right;\">-0.052446 </td><td style=\"text-align: right;\"> 0.0301221</td><td style=\"text-align: right;\"> 0.0254013</td><td style=\"text-align: right;\"> 0.0207386</td><td style=\"text-align: right;\">-0.128052  </td><td style=\"text-align: right;\">-0.0739024</td><td style=\"text-align: right;\">-0.0750217</td><td style=\"text-align: right;\">0.165129</td><td style=\"text-align: right;\">-0.219145  </td><td style=\"text-align: right;\">-0.222636</td><td style=\"text-align: right;\">0.107566 </td><td style=\"text-align: right;\">-0.118672</td><td style=\"text-align: right;\">-0.00979281</td><td style=\"text-align: right;\"> 0.0917284</td><td style=\"text-align: right;\">-0.0608468</td><td style=\"text-align: right;\">0.101565 </td><td style=\"text-align: right;\">-0.0682883</td><td style=\"text-align: right;\"> 0.0371481</td><td style=\"text-align: right;\">0.187462</td><td style=\"text-align: right;\">0.0415303</td><td style=\"text-align: right;\">-0.0135254</td><td style=\"text-align: right;\">-0.17125  </td><td style=\"text-align: right;\">0.173416  </td><td style=\"text-align: right;\">-0.00203453</td><td style=\"text-align: right;\"> 0.00241387</td><td style=\"text-align: right;\">-0.140079</td><td style=\"text-align: right;\">0.130033</td><td style=\"text-align: right;\">-0.0357338</td><td style=\"text-align: right;\">-0.198327 </td><td style=\"text-align: right;\"> 0.103732 </td><td style=\"text-align: right;\">-0.117349 </td><td style=\"text-align: right;\"> 0.00713053</td><td style=\"text-align: right;\">-0.104939 </td><td style=\"text-align: right;\">0.012536 </td><td style=\"text-align: right;\"> 0.0385507</td><td style=\"text-align: right;\">-0.0443138</td><td style=\"text-align: right;\">-0.100059 </td><td style=\"text-align: right;\">0.012989  </td><td style=\"text-align: right;\">-0.0253023</td><td style=\"text-align: right;\">-0.222702 </td><td style=\"text-align: right;\">0.0136286</td><td style=\"text-align: right;\">-0.0642296</td><td style=\"text-align: right;\"> 0.0235267</td><td style=\"text-align: right;\">-0.140536 </td><td style=\"text-align: right;\">-0.00686113 </td><td style=\"text-align: right;\">-0.0510982</td><td style=\"text-align: right;\">-0.0178214</td><td style=\"text-align: right;\"> 0.120792 </td><td style=\"text-align: right;\">0.00643385</td><td style=\"text-align: right;\">-0.116548 </td><td style=\"text-align: right;\">-0.0438167</td><td style=\"text-align: right;\">0.0471998</td><td style=\"text-align: right;\"> 0.00301578</td><td style=\"text-align: right;\">-0.00571513</td><td style=\"text-align: right;\">0.159997</td><td style=\"text-align: right;\">-0.0155437  </td><td style=\"text-align: right;\">0.145022 </td><td style=\"text-align: right;\">-0.104031 </td><td style=\"text-align: right;\">0.0977537</td><td style=\"text-align: right;\">0.0756188</td><td style=\"text-align: right;\">0.023952 </td><td style=\"text-align: right;\">-0.130919 </td><td style=\"text-align: right;\"> 0.0163749</td><td style=\"text-align: right;\">-0.147719</td><td style=\"text-align: right;\">-0.0516117</td><td style=\"text-align: right;\">  -0.0964688</td><td style=\"text-align: right;\">   0.0884053</td><td style=\"text-align: right;\"> -0.251391  </td><td style=\"text-align: right;\">    0.306505</td><td style=\"text-align: right;\">   0.0391295</td><td style=\"text-align: right;\">  -0.0934982</td><td style=\"text-align: right;\">  -0.241743 </td><td style=\"text-align: right;\">   -0.104004</td><td style=\"text-align: right;\">   0.0591796</td><td style=\"text-align: right;\">     0.12837 </td><td style=\"text-align: right;\">   -0.0225722</td><td style=\"text-align: right;\">   -0.134852 </td><td style=\"text-align: right;\">   0.116692  </td><td style=\"text-align: right;\">   0.228651  </td><td style=\"text-align: right;\">   -0.0823864</td><td style=\"text-align: right;\">   -0.150752 </td><td style=\"text-align: right;\">     0.109539</td><td style=\"text-align: right;\">   -0.185715 </td><td style=\"text-align: right;\">    0.193877 </td><td style=\"text-align: right;\">   -0.0628558</td><td style=\"text-align: right;\">    0.126579 </td><td style=\"text-align: right;\">    -0.235449</td><td style=\"text-align: right;\">   -0.0934117</td><td style=\"text-align: right;\">    0.31731  </td><td style=\"text-align: right;\">   -0.0494156</td><td style=\"text-align: right;\">    0.0947547</td><td style=\"text-align: right;\">    0.232967 </td><td style=\"text-align: right;\">     0.286615</td><td style=\"text-align: right;\">    0.0599139</td><td style=\"text-align: right;\">     0.146321</td><td style=\"text-align: right;\">    -0.218771</td><td style=\"text-align: right;\">    -0.108481</td><td style=\"text-align: right;\">   -0.130011 </td><td style=\"text-align: right;\">    0.113948 </td><td style=\"text-align: right;\">    0.299431 </td><td style=\"text-align: right;\">    -0.153434</td><td style=\"text-align: right;\">  0.000390161</td><td style=\"text-align: right;\">   -0.059952 </td><td style=\"text-align: right;\">  -0.0649725 </td><td style=\"text-align: right;\">   -0.0300071</td><td style=\"text-align: right;\">    -0.149408</td><td style=\"text-align: right;\">   -0.254386 </td><td style=\"text-align: right;\">     0.126154</td><td style=\"text-align: right;\">   -0.0650592</td><td style=\"text-align: right;\">   -0.0799372</td><td style=\"text-align: right;\">   0.14977   </td><td style=\"text-align: right;\">    -0.137024</td><td style=\"text-align: right;\">    0.0572008</td><td style=\"text-align: right;\">   -0.0742003</td><td style=\"text-align: right;\">  -0.0180369 </td><td style=\"text-align: right;\">    0.10697  </td><td style=\"text-align: right;\">    0.0385332</td><td style=\"text-align: right;\">   0.00562712</td><td style=\"text-align: right;\">     0.311753</td><td style=\"text-align: right;\">   -0.0732493</td><td style=\"text-align: right;\">   -0.224224 </td><td style=\"text-align: right;\">    -0.179725</td><td style=\"text-align: right;\">   -0.0690204</td><td style=\"text-align: right;\">   -0.15012  </td><td style=\"text-align: right;\">     0.165597</td><td style=\"text-align: right;\">   -0.0312288</td><td style=\"text-align: right;\">  -0.00510767</td><td style=\"text-align: right;\">    0.302187 </td><td style=\"text-align: right;\">   -0.154648 </td><td style=\"text-align: right;\">    0.152461 </td><td style=\"text-align: right;\">  -0.0209904 </td><td style=\"text-align: right;\">   -0.250519 </td><td style=\"text-align: right;\">   -0.0435066</td><td style=\"text-align: right;\">    0.152747 </td><td style=\"text-align: right;\">    0.0403589</td><td style=\"text-align: right;\">   -0.0824152</td><td style=\"text-align: right;\">   -0.448322 </td><td style=\"text-align: right;\">    0.255829 </td><td style=\"text-align: right;\">    0.0185374</td><td style=\"text-align: right;\">   -0.348262 </td><td style=\"text-align: right;\">    0.131423 </td><td style=\"text-align: right;\">    -0.202744</td><td style=\"text-align: right;\">   -0.0490962</td><td style=\"text-align: right;\">    0.0409436</td><td style=\"text-align: right;\">    0.0182666</td><td style=\"text-align: right;\">    0.0484543</td><td style=\"text-align: right;\">   -0.0758153</td><td style=\"text-align: right;\">     0.223959</td><td style=\"text-align: right;\">  -0.133539  </td><td style=\"text-align: right;\">   -0.0660264</td><td style=\"text-align: right;\">   0.278755  </td><td style=\"text-align: right;\">    0.0842758</td><td style=\"text-align: right;\">     0.113851</td></tr>\n",
       "<tr><td>B0089SPEO2 </td><td>A3JOYNYL458QHP</td><td>Less lemon and less zing    </td><td style=\"text-align: right;\">      3</td><td style=\"text-align: right;\">                       0</td><td style=\"text-align: right;\"> 28582</td><td>coleridge          </td><td style=\"text-align: right;\">                     0</td><td style=\"text-align: right;\">1.32391e+09</td><td>Everything is ok, except it just isn't as good as it is in the bags.  Just considerably more bland -- less lemon and less zing.  Boring.                                                                                                                                                                                                                                        </td><td style=\"text-align: right;\">               0</td><td>Yes    </td><td style=\"text-align: right;\">-0.0519809</td><td style=\"text-align: right;\"> 0.289595 </td><td style=\"text-align: right;\">-0.27588  </td><td style=\"text-align: right;\">0.276799 </td><td style=\"text-align: right;\">0.0386997</td><td style=\"text-align: right;\">-0.0379946</td><td style=\"text-align: right;\">-0.00665416</td><td style=\"text-align: right;\">-0.316858</td><td style=\"text-align: right;\">0.0713603</td><td style=\"text-align: right;\">0.0277716</td><td style=\"text-align: right;\"> 0.0526271</td><td style=\"text-align: right;\"> 0.0238031</td><td style=\"text-align: right;\">-0.0484786</td><td style=\"text-align: right;\">-0.00488661</td><td style=\"text-align: right;\">0.0612829</td><td style=\"text-align: right;\"> 0.000413289</td><td style=\"text-align: right;\">0.0538962 </td><td style=\"text-align: right;\"> 0.0156217</td><td style=\"text-align: right;\">-0.0210634</td><td style=\"text-align: right;\">-0.147432</td><td style=\"text-align: right;\"> 0.112688 </td><td style=\"text-align: right;\">-0.117605</td><td style=\"text-align: right;\">-0.0882154</td><td style=\"text-align: right;\">0.206558</td><td style=\"text-align: right;\">0.191525</td><td style=\"text-align: right;\">-0.106603 </td><td style=\"text-align: right;\">-0.0381607</td><td style=\"text-align: right;\">0.220812   </td><td style=\"text-align: right;\">-0.129079 </td><td style=\"text-align: right;\">-0.0684997</td><td style=\"text-align: right;\">-0.122232 </td><td style=\"text-align: right;\">0.0696295</td><td style=\"text-align: right;\">0.116955 </td><td style=\"text-align: right;\">-0.0593617</td><td style=\"text-align: right;\"> 0.0738468 </td><td style=\"text-align: right;\">-0.0189005</td><td style=\"text-align: right;\">-0.0344434</td><td style=\"text-align: right;\"> 0.0203135</td><td style=\"text-align: right;\">-0.0468166</td><td style=\"text-align: right;\">-0.0392924 </td><td style=\"text-align: right;\">-0.059241 </td><td style=\"text-align: right;\"> 0.0612486</td><td style=\"text-align: right;\">0.154331</td><td style=\"text-align: right;\"> 0.00202096</td><td style=\"text-align: right;\">-0.204296</td><td style=\"text-align: right;\">0.0504917</td><td style=\"text-align: right;\">-0.228515</td><td style=\"text-align: right;\"> 0.0383541 </td><td style=\"text-align: right;\">-0.159064 </td><td style=\"text-align: right;\"> 0.108437 </td><td style=\"text-align: right;\">0.0986095</td><td style=\"text-align: right;\"> 0.0115093</td><td style=\"text-align: right;\">-0.0134482</td><td style=\"text-align: right;\">0.130059</td><td style=\"text-align: right;\">0.0671229</td><td style=\"text-align: right;\">-0.0965511</td><td style=\"text-align: right;\">-0.0494418</td><td style=\"text-align: right;\">0.00215705</td><td style=\"text-align: right;\"> 0.0710555 </td><td style=\"text-align: right;\"> 0.0478681 </td><td style=\"text-align: right;\"> 0.015314</td><td style=\"text-align: right;\">0.13318 </td><td style=\"text-align: right;\"> 0.0226682</td><td style=\"text-align: right;\">-0.0653435</td><td style=\"text-align: right;\"> 0.105136 </td><td style=\"text-align: right;\">-0.0808749</td><td style=\"text-align: right;\">-0.0645779 </td><td style=\"text-align: right;\">-0.0747602</td><td style=\"text-align: right;\">0.0540775</td><td style=\"text-align: right;\"> 0.0177461</td><td style=\"text-align: right;\">-0.208147 </td><td style=\"text-align: right;\">-0.0659113</td><td style=\"text-align: right;\">0.00643675</td><td style=\"text-align: right;\"> 0.0316051</td><td style=\"text-align: right;\">-0.0569473</td><td style=\"text-align: right;\">0.0569734</td><td style=\"text-align: right;\"> 0.0344189</td><td style=\"text-align: right;\">-0.0417462</td><td style=\"text-align: right;\">-0.0608028</td><td style=\"text-align: right;\">-0.000755868</td><td style=\"text-align: right;\">-0.068624 </td><td style=\"text-align: right;\"> 0.0435193</td><td style=\"text-align: right;\">-0.0438224</td><td style=\"text-align: right;\">0.00500554</td><td style=\"text-align: right;\">-0.0244429</td><td style=\"text-align: right;\">-0.0926207</td><td style=\"text-align: right;\">0.0491446</td><td style=\"text-align: right;\">-0.0323409 </td><td style=\"text-align: right;\">-0.167125  </td><td style=\"text-align: right;\">0.215232</td><td style=\"text-align: right;\">-0.081445   </td><td style=\"text-align: right;\">0.0039682</td><td style=\"text-align: right;\">-0.119028 </td><td style=\"text-align: right;\">0.167116 </td><td style=\"text-align: right;\">0.0893888</td><td style=\"text-align: right;\">0.0343704</td><td style=\"text-align: right;\">-0.0183767</td><td style=\"text-align: right;\"> 0.0209421</td><td style=\"text-align: right;\"> 0.109631</td><td style=\"text-align: right;\">-0.0150665</td><td style=\"text-align: right;\">  -0.184512 </td><td style=\"text-align: right;\">   0.354807 </td><td style=\"text-align: right;\"> -0.333755  </td><td style=\"text-align: right;\">    0.308154</td><td style=\"text-align: right;\">  -0.0519905</td><td style=\"text-align: right;\">  -0.0207875</td><td style=\"text-align: right;\">  -0.0286207</td><td style=\"text-align: right;\">   -0.353695</td><td style=\"text-align: right;\">  -0.0937297</td><td style=\"text-align: right;\">     0.080521</td><td style=\"text-align: right;\">    0.183677 </td><td style=\"text-align: right;\">    0.198189 </td><td style=\"text-align: right;\">   0.00942205</td><td style=\"text-align: right;\">   0.00699335</td><td style=\"text-align: right;\">    0.0925917</td><td style=\"text-align: right;\">   -0.10845  </td><td style=\"text-align: right;\">     0.109636</td><td style=\"text-align: right;\">    0.206641 </td><td style=\"text-align: right;\">   -0.0670874</td><td style=\"text-align: right;\">   -0.188491 </td><td style=\"text-align: right;\">    0.206026 </td><td style=\"text-align: right;\">    -0.208327</td><td style=\"text-align: right;\">   -0.0693178</td><td style=\"text-align: right;\">    0.389197 </td><td style=\"text-align: right;\">    0.223288 </td><td style=\"text-align: right;\">   -0.174165 </td><td style=\"text-align: right;\">    0.0400458</td><td style=\"text-align: right;\">     0.238495</td><td style=\"text-align: right;\">   -0.151389 </td><td style=\"text-align: right;\">    -0.209351</td><td style=\"text-align: right;\">    -0.096018</td><td style=\"text-align: right;\">     0.117113</td><td style=\"text-align: right;\">    0.107163 </td><td style=\"text-align: right;\">   -0.0627294</td><td style=\"text-align: right;\">    0.0161647</td><td style=\"text-align: right;\">     0.143552</td><td style=\"text-align: right;\"> -0.033871   </td><td style=\"text-align: right;\">    0.0773161</td><td style=\"text-align: right;\">   0.00992925</td><td style=\"text-align: right;\">   -0.0122216</td><td style=\"text-align: right;\">    -0.143175</td><td style=\"text-align: right;\">    0.0733249</td><td style=\"text-align: right;\">     0.180318</td><td style=\"text-align: right;\">    0.0210269</td><td style=\"text-align: right;\">   -0.300843 </td><td style=\"text-align: right;\">   0.00493031</td><td style=\"text-align: right;\">    -0.301118</td><td style=\"text-align: right;\">    0.156765 </td><td style=\"text-align: right;\">   -0.152543 </td><td style=\"text-align: right;\">   0.00812951</td><td style=\"text-align: right;\">   -0.0221907</td><td style=\"text-align: right;\">    0.04953  </td><td style=\"text-align: right;\">  -0.0423464 </td><td style=\"text-align: right;\">     0.163575</td><td style=\"text-align: right;\">    0.044362 </td><td style=\"text-align: right;\">   -0.0748352</td><td style=\"text-align: right;\">    -0.149856</td><td style=\"text-align: right;\">   -0.065225 </td><td style=\"text-align: right;\">    0.101699 </td><td style=\"text-align: right;\">     0.220189</td><td style=\"text-align: right;\">    0.0360992</td><td style=\"text-align: right;\">   0.173199  </td><td style=\"text-align: right;\">    0.0243156</td><td style=\"text-align: right;\">    0.104506 </td><td style=\"text-align: right;\">   -0.0356787</td><td style=\"text-align: right;\">  -0.00945632</td><td style=\"text-align: right;\">    0.0589417</td><td style=\"text-align: right;\">   -0.190903 </td><td style=\"text-align: right;\">   -0.0766977</td><td style=\"text-align: right;\">   -0.11024  </td><td style=\"text-align: right;\">   -0.153096 </td><td style=\"text-align: right;\">   -0.0368847</td><td style=\"text-align: right;\">   -0.0109999</td><td style=\"text-align: right;\">    0.0127058</td><td style=\"text-align: right;\">    0.0684822</td><td style=\"text-align: right;\">    0.0580958</td><td style=\"text-align: right;\">     0.131168</td><td style=\"text-align: right;\">   -0.184813 </td><td style=\"text-align: right;\">   -0.254183 </td><td style=\"text-align: right;\">    0.192257 </td><td style=\"text-align: right;\">   -0.143358 </td><td style=\"text-align: right;\">   -0.0340575</td><td style=\"text-align: right;\">    -0.140855</td><td style=\"text-align: right;\">   0.00822982</td><td style=\"text-align: right;\">    0.0247244</td><td style=\"text-align: right;\">  -0.00124291</td><td style=\"text-align: right;\">    0.035455 </td><td style=\"text-align: right;\">    -0.127926</td></tr>\n",
       "<tr><td>B001PMCDK2 </td><td>A14TTMM0Z03Y2W</td><td>my cat goes crazy for these!</td><td style=\"text-align: right;\">      5</td><td style=\"text-align: right;\">                       0</td><td style=\"text-align: right;\">389965</td><td>Lindsay S. Bradford</td><td style=\"text-align: right;\">                     0</td><td style=\"text-align: right;\">1.3106e+09 </td><td>Best cat treat ever. There isn't anything comparable to the love my cat has for these treats, he snubs away any other kind now.<br />I know he likes to manipulate me with his cattiness but these treats are my way of manipulating him to come sit on my lap and have some chill time. :)                                                                                     </td><td style=\"text-align: right;\">               1</td><td>Yes    </td><td style=\"text-align: right;\">-0.0541022</td><td style=\"text-align: right;\"> 0.0248378</td><td style=\"text-align: right;\">-0.0755515</td><td style=\"text-align: right;\">0.0729746</td><td style=\"text-align: right;\">0.0861826</td><td style=\"text-align: right;\">-0.0917634</td><td style=\"text-align: right;\">-0.169202  </td><td style=\"text-align: right;\">-0.271492</td><td style=\"text-align: right;\">0.0110085</td><td style=\"text-align: right;\">0.0456146</td><td style=\"text-align: right;\">-0.0112144</td><td style=\"text-align: right;\">-0.108649 </td><td style=\"text-align: right;\">-0.0402023</td><td style=\"text-align: right;\"> 0.11135   </td><td style=\"text-align: right;\">0.0956423</td><td style=\"text-align: right;\"> 0.00413042 </td><td style=\"text-align: right;\">0.00940824</td><td style=\"text-align: right;\">-0.0766615</td><td style=\"text-align: right;\">-0.0966248</td><td style=\"text-align: right;\">-0.229758</td><td style=\"text-align: right;\">-0.0384817</td><td style=\"text-align: right;\">-0.12216 </td><td style=\"text-align: right;\"> 0.113904 </td><td style=\"text-align: right;\">0.156607</td><td style=\"text-align: right;\">0.32386 </td><td style=\"text-align: right;\"> 0.0839406</td><td style=\"text-align: right;\">-0.0780775</td><td style=\"text-align: right;\">0.0357554  </td><td style=\"text-align: right;\">-0.084912 </td><td style=\"text-align: right;\"> 0.0531381</td><td style=\"text-align: right;\">-0.0829757</td><td style=\"text-align: right;\">0.104065 </td><td style=\"text-align: right;\">0.0304965</td><td style=\"text-align: right;\">-0.0368512</td><td style=\"text-align: right;\">-0.00208455</td><td style=\"text-align: right;\">-0.0707798</td><td style=\"text-align: right;\"> 0.0878331</td><td style=\"text-align: right;\">-0.0116279</td><td style=\"text-align: right;\"> 0.0330673</td><td style=\"text-align: right;\"> 0.00613481</td><td style=\"text-align: right;\">-0.221704 </td><td style=\"text-align: right;\">-0.042951 </td><td style=\"text-align: right;\">0.162246</td><td style=\"text-align: right;\">-0.0137851 </td><td style=\"text-align: right;\">-0.169164</td><td style=\"text-align: right;\">0.112649 </td><td style=\"text-align: right;\">-0.11178 </td><td style=\"text-align: right;\">-0.00324176</td><td style=\"text-align: right;\">-0.0587058</td><td style=\"text-align: right;\">-0.0167382</td><td style=\"text-align: right;\">0.175482 </td><td style=\"text-align: right;\">-0.0507775</td><td style=\"text-align: right;\">-0.0125681</td><td style=\"text-align: right;\">0.13456 </td><td style=\"text-align: right;\">0.0175409</td><td style=\"text-align: right;\"> 0.0577606</td><td style=\"text-align: right;\">-0.154438 </td><td style=\"text-align: right;\">0.149454  </td><td style=\"text-align: right;\"> 0.0219627 </td><td style=\"text-align: right;\">-0.0639374 </td><td style=\"text-align: right;\">-0.115874</td><td style=\"text-align: right;\">0.165142</td><td style=\"text-align: right;\"> 0.0454343</td><td style=\"text-align: right;\">-0.186082 </td><td style=\"text-align: right;\">-0.0969075</td><td style=\"text-align: right;\"> 0.0177896</td><td style=\"text-align: right;\">-0.127036  </td><td style=\"text-align: right;\">-0.169897 </td><td style=\"text-align: right;\">0.0671924</td><td style=\"text-align: right;\">-0.013323 </td><td style=\"text-align: right;\">-0.0207632</td><td style=\"text-align: right;\">-0.126095 </td><td style=\"text-align: right;\">0.116741  </td><td style=\"text-align: right;\">-0.0242854</td><td style=\"text-align: right;\">-0.194652 </td><td style=\"text-align: right;\">0.0466457</td><td style=\"text-align: right;\">-0.074745 </td><td style=\"text-align: right;\">-0.0355895</td><td style=\"text-align: right;\">-0.0290385</td><td style=\"text-align: right;\">-0.00560758 </td><td style=\"text-align: right;\">-0.0299108</td><td style=\"text-align: right;\">-0.0396587</td><td style=\"text-align: right;\"> 0.0540669</td><td style=\"text-align: right;\">0.0306253 </td><td style=\"text-align: right;\">-0.101068 </td><td style=\"text-align: right;\">-0.157812 </td><td style=\"text-align: right;\">0.131107 </td><td style=\"text-align: right;\"> 0.0431382 </td><td style=\"text-align: right;\">-0.0438983 </td><td style=\"text-align: right;\">0.117392</td><td style=\"text-align: right;\"> 0.000871606</td><td style=\"text-align: right;\">0.0301853</td><td style=\"text-align: right;\">-0.0873573</td><td style=\"text-align: right;\">0.180934 </td><td style=\"text-align: right;\">0.0903421</td><td style=\"text-align: right;\">0.0397914</td><td style=\"text-align: right;\"> 0.0482174</td><td style=\"text-align: right;\">-0.0834084</td><td style=\"text-align: right;\">-0.156003</td><td style=\"text-align: right;\">-0.0499305</td><td style=\"text-align: right;\">   0.0447755</td><td style=\"text-align: right;\">  -0.0407911</td><td style=\"text-align: right;\"> -0.00528368</td><td style=\"text-align: right;\">    0.209783</td><td style=\"text-align: right;\">   0.125546 </td><td style=\"text-align: right;\">  -0.169599 </td><td style=\"text-align: right;\">  -0.190308 </td><td style=\"text-align: right;\">   -0.335061</td><td style=\"text-align: right;\">   0.215195 </td><td style=\"text-align: right;\">     0.1843  </td><td style=\"text-align: right;\">    0.193102 </td><td style=\"text-align: right;\">    0.0176743</td><td style=\"text-align: right;\">  -0.0976531 </td><td style=\"text-align: right;\">   0.0354657 </td><td style=\"text-align: right;\">    0.161771 </td><td style=\"text-align: right;\">   -0.0678292</td><td style=\"text-align: right;\">     0.1903  </td><td style=\"text-align: right;\">   -0.0546399</td><td style=\"text-align: right;\">   -0.191245 </td><td style=\"text-align: right;\">   -0.220659 </td><td style=\"text-align: right;\">    0.0278362</td><td style=\"text-align: right;\">    -0.115809</td><td style=\"text-align: right;\">    0.285584 </td><td style=\"text-align: right;\">    0.0780834</td><td style=\"text-align: right;\">    0.287832 </td><td style=\"text-align: right;\">    0.27739  </td><td style=\"text-align: right;\">   -0.0810386</td><td style=\"text-align: right;\">     0.188245</td><td style=\"text-align: right;\">   -0.0414752</td><td style=\"text-align: right;\">     0.100149</td><td style=\"text-align: right;\">    -0.184968</td><td style=\"text-align: right;\">     0.155086</td><td style=\"text-align: right;\">   -0.0523151</td><td style=\"text-align: right;\">   -0.134683 </td><td style=\"text-align: right;\">   -0.123508 </td><td style=\"text-align: right;\">    -0.209789</td><td style=\"text-align: right;\">  0.0932056  </td><td style=\"text-align: right;\">    0.0742095</td><td style=\"text-align: right;\">   0.00633754</td><td style=\"text-align: right;\">   -0.0249495</td><td style=\"text-align: right;\">    -0.232449</td><td style=\"text-align: right;\">   -0.159318 </td><td style=\"text-align: right;\">    -0.018008</td><td style=\"text-align: right;\">    0.110284 </td><td style=\"text-align: right;\">   -0.203944 </td><td style=\"text-align: right;\">   0.325883  </td><td style=\"text-align: right;\">    -0.107403</td><td style=\"text-align: right;\">    0.0784384</td><td style=\"text-align: right;\">   -0.125461 </td><td style=\"text-align: right;\">  -0.111935  </td><td style=\"text-align: right;\">    0.146517 </td><td style=\"text-align: right;\">   -0.186223 </td><td style=\"text-align: right;\">  -0.158077  </td><td style=\"text-align: right;\">    -0.113075</td><td style=\"text-align: right;\">   -0.0679176</td><td style=\"text-align: right;\">    0.0506601</td><td style=\"text-align: right;\">    -0.166662</td><td style=\"text-align: right;\">    0.124101 </td><td style=\"text-align: right;\">    0.0459082</td><td style=\"text-align: right;\">    -0.112854</td><td style=\"text-align: right;\">   -0.0649525</td><td style=\"text-align: right;\">   0.337623  </td><td style=\"text-align: right;\">   -0.0653777</td><td style=\"text-align: right;\">   -0.0965604</td><td style=\"text-align: right;\">   -0.136701 </td><td style=\"text-align: right;\">  -0.0157525 </td><td style=\"text-align: right;\">   -0.0767778</td><td style=\"text-align: right;\">   -0.234274 </td><td style=\"text-align: right;\">   -0.0156772</td><td style=\"text-align: right;\">    0.108309 </td><td style=\"text-align: right;\">    0.0600083</td><td style=\"text-align: right;\">   -0.216676 </td><td style=\"text-align: right;\">    0.130881 </td><td style=\"text-align: right;\">   -0.13567  </td><td style=\"text-align: right;\">   -0.156823 </td><td style=\"text-align: right;\">    0.0299177</td><td style=\"text-align: right;\">    -0.179907</td><td style=\"text-align: right;\">   -0.11522  </td><td style=\"text-align: right;\">   -0.187539 </td><td style=\"text-align: right;\">    0.0293455</td><td style=\"text-align: right;\">    0.177638 </td><td style=\"text-align: right;\">    0.0832801</td><td style=\"text-align: right;\">     0.121712</td><td style=\"text-align: right;\">   0.16676   </td><td style=\"text-align: right;\">   -0.158364 </td><td style=\"text-align: right;\">   0.00138498</td><td style=\"text-align: right;\">    0.180923 </td><td style=\"text-align: right;\">     0.248724</td></tr>\n",
       "</tbody>\n",
       "</table>"
      ]
     },
     "metadata": {},
     "output_type": "display_data"
    },
    {
     "data": {
      "text/plain": []
     },
     "execution_count": 26,
     "metadata": {},
     "output_type": "execute_result"
    }
   ],
   "source": [
    "ext_reviews_new.head(3)"
   ]
  },
  {
   "cell_type": "code",
   "execution_count": 27,
   "metadata": {},
   "outputs": [],
   "source": [
    "ext_train_new = ext_reviews_new[ext_reviews_new[\"Train\"] == \"Yes\"]\n",
    "ext_test_new = ext_reviews_new[ext_reviews_new[\"Train\"] == \"No\"]"
   ]
  },
  {
   "cell_type": "code",
   "execution_count": 28,
   "metadata": {},
   "outputs": [],
   "source": [
    "def plot_par_dep_ICE(xs, par_dep_frame):\n",
    "\n",
    "    \n",
    "    \"\"\" Plots ICE overlayed onto partial dependence for a single variable.\n",
    "    \n",
    "    Args: \n",
    "        xs: Name of variable for which to plot ICE and partial dependence.\n",
    "        par_dep_frame: Name of Pandas DataFrame containing ICE and partial\n",
    "                       dependence values.\n",
    "    \n",
    "    \"\"\"\n",
    "    \n",
    "    # initialize figure and axis\n",
    "    fig, ax = plt.subplots()\n",
    "    \n",
    "    # plot ICE curves\n",
    "    par_dep_frame.drop('partial_dependence', axis=1).plot(x=xs, \n",
    "                                                          colormap='gnuplot',\n",
    "                                                          ax=ax)\n",
    "\n",
    "    # overlay partial dependence, annotate plot\n",
    "    par_dep_frame.plot(title='Partial Dependence and ICE for ' + str(xs),\n",
    "                       x=xs, \n",
    "                       y='partial_dependence',\n",
    "                       style='r-', \n",
    "                       linewidth=3, \n",
    "                       ax=ax)\n",
    "\n",
    "    # add legend\n",
    "    _ = plt.legend(bbox_to_anchor=(1.05, 0),\n",
    "                   loc=3, \n",
    "                   borderaxespad=0.)"
   ]
  },
  {
   "cell_type": "markdown",
   "metadata": {},
   "source": [
    "# 2 Training Models"
   ]
  },
  {
   "cell_type": "markdown",
   "metadata": {},
   "source": [
    "## 2.1 Linear Regression"
   ]
  },
  {
   "cell_type": "markdown",
   "metadata": {},
   "source": [
    "### 2.1.1 Train & Fit Model"
   ]
  },
  {
   "cell_type": "code",
   "execution_count": 29,
   "metadata": {},
   "outputs": [],
   "source": [
    "predictors = ['ProductId', 'UserId', 'HelpfulnessNumerator', 'HelpfulnessDenominator', 'Time'] + summary_vecs.names + review_vecs.names \n",
    "response = 'PositiveReview'"
   ]
  },
  {
   "cell_type": "code",
   "execution_count": 30,
   "metadata": {},
   "outputs": [
    {
     "name": "stdout",
     "output_type": "stream",
     "text": [
      "glm Model Build progress: |███████████████████████████████████████████████| 100%\n"
     ]
    }
   ],
   "source": [
    "# Initialize\n",
    "local_glm_plus = H2OGeneralizedLinearEstimator(family='binomial', model_id='glm_surrogate', lambda_search=True)\n",
    "# train \n",
    "local_glm_plus.train(x=predictors, y=response, training_frame=ext_train_new)"
   ]
  },
  {
   "cell_type": "code",
   "execution_count": 31,
   "metadata": {},
   "outputs": [
    {
     "data": {
      "text/plain": [
       "h2o.estimators.glm.H2OGeneralizedLinearEstimator"
      ]
     },
     "execution_count": 31,
     "metadata": {},
     "output_type": "execute_result"
    }
   ],
   "source": [
    "type(local_glm_plus)"
   ]
  },
  {
   "cell_type": "markdown",
   "metadata": {},
   "source": [
    "### 2.1.2 Interpretability"
   ]
  },
  {
   "cell_type": "markdown",
   "metadata": {},
   "source": [
    "#### Vaviable Importance"
   ]
  },
  {
   "cell_type": "code",
   "execution_count": 32,
   "metadata": {},
   "outputs": [
    {
     "data": {
      "image/png": "[encoded data removed]",
      "text/plain": [
       "<Figure size 1008x720 with 1 Axes>"
      ]
     },
     "metadata": {
      "needs_background": "light"
     },
     "output_type": "display_data"
    }
   ],
   "source": [
    "local_glm_plus.varimp_plot()"
   ]
  },
  {
   "cell_type": "markdown",
   "metadata": {},
   "source": [
    "#### Partial Dependence Plot (PDP)"
   ]
  },
  {
   "cell_type": "code",
   "execution_count": 33,
   "metadata": {},
   "outputs": [
    {
     "name": "stdout",
     "output_type": "stream",
     "text": [
      "PartialDependencePlot progress: |█████████████████████████████████████████| 100%\n"
     ]
    },
    {
     "data": {
      "image/png": "[encoded data removed]",
      "text/plain": [
       "<Figure size 504x720 with 1 Axes>"
      ]
     },
     "metadata": {
      "needs_background": "light"
     },
     "output_type": "display_data"
    }
   ],
   "source": [
    "pdp_local_linear_plus = local_glm_plus.partial_plot(data = ext_train_new, cols = [\"HelpfulnessNumerator\"])"
   ]
  },
  {
   "cell_type": "markdown",
   "metadata": {},
   "source": [
    "#### Individual Conditional Expectation (ICE)"
   ]
  },
  {
   "cell_type": "code",
   "execution_count": 66,
   "metadata": {
    "scrolled": false
   },
   "outputs": [
    {
     "name": "stdout",
     "output_type": "stream",
     "text": [
      "glm prediction progress: |████████████████████████████████████████████████| 100%\n",
      "glm prediction progress: |████████████████████████████████████████████████| 100%\n",
      "glm prediction progress: |████████████████████████████████████████████████| 100%\n",
      "glm prediction progress: |████████████████████████████████████████████████| 100%\n",
      "glm prediction progress: |████████████████████████████████████████████████| 100%\n",
      "glm prediction progress: |████████████████████████████████████████████████| 100%\n",
      "glm prediction progress: |████████████████████████████████████████████████| 100%\n",
      "glm prediction progress: |████████████████████████████████████████████████| 100%\n",
      "glm prediction progress: |████████████████████████████████████████████████| 100%\n",
      "glm prediction progress: |████████████████████████████████████████████████| 100%\n",
      "glm prediction progress: |████████████████████████████████████████████████| 100%\n",
      "glm prediction progress: |████████████████████████████████████████████████| 100%\n",
      "glm prediction progress: |████████████████████████████████████████████████| 100%\n",
      "glm prediction progress: |████████████████████████████████████████████████| 100%\n",
      "glm prediction progress: |████████████████████████████████████████████████| 100%\n",
      "glm prediction progress: |████████████████████████████████████████████████| 100%\n",
      "glm prediction progress: |████████████████████████████████████████████████| 100%\n",
      "glm prediction progress: |████████████████████████████████████████████████| 100%\n",
      "glm prediction progress: |████████████████████████████████████████████████| 100%\n",
      "glm prediction progress: |████████████████████████████████████████████████| 100%\n",
      "    HelpfulnessNumerator  partial_dependence\n",
      "0                    0.0            0.675574\n",
      "1                    4.0            0.750986\n",
      "2                    8.0            0.819943\n",
      "3                   12.0            0.869530\n",
      "4                   16.0            0.908806\n",
      "5                   20.0            0.938128\n",
      "6                   24.0            0.959559\n",
      "7                   28.0            0.973637\n",
      "8                   32.0            0.983859\n",
      "9                   36.0            0.990674\n",
      "10                  40.0            0.994709\n",
      "11                  44.0            0.997041\n",
      "12                  48.0            0.997669\n",
      "13                  52.0            0.998476\n",
      "14                  56.0            0.998834\n",
      "15                  60.0            0.999283\n",
      "16                  64.0            0.999552\n",
      "17                  68.0            0.999552\n",
      "18                  72.0            0.999641\n",
      "19                  76.0            0.999641\n"
     ]
    },
    {
     "data": {
      "image/png": "[encoded data removed]",
      "text/plain": [
       "<Figure size 432x288 with 1 Axes>"
      ]
     },
     "metadata": {
      "needs_background": "light"
     },
     "output_type": "display_data"
    }
   ],
   "source": [
    "def par_dep(xs, frame, model, resolution=20, bins=None):\n",
    "    \n",
    "    \"\"\" Creates Pandas dataframe containing partial dependence for a single variable.\n",
    "    \n",
    "    Args:\n",
    "        xs: Variable for which to calculate partial dependence.\n",
    "        frame: Data for which to calculate partial dependence.\n",
    "        model: Model for which to calculate partial dependence.\n",
    "        resolution: The number of points across the domain of xs for which to calculate partial dependence.\n",
    "    \n",
    "    Returns:\n",
    "        Pandas dataframe containing partial dependence values.\n",
    "        \n",
    "    \"\"\"\n",
    "    \n",
    "    # init empty Pandas frame w/ correct col names\n",
    "    par_dep_frame = pd.DataFrame(columns=[xs, 'partial_dependence'])\n",
    "    \n",
    "    # cache original data \n",
    "    col_cache = h2o.deep_copy(frame[xs], xid='col_cache')\n",
    "  \n",
    "    # determine values at which to calculate partial dependency\n",
    "    if bins == None:\n",
    "        min_ = frame[xs].min()\n",
    "        max_ = frame[xs].max()\n",
    "        by = (max_ - min_)/resolution\n",
    "        bins = np.arange(min_, max_, by)\n",
    "        \n",
    "    # calculate partial dependency  \n",
    "    # by setting column of interest to constant \n",
    "    for j in bins:\n",
    "        frame[xs] = j\n",
    "        par_dep_i = model.predict(frame)\n",
    "        par_dep_j = par_dep_i.mean()[0]\n",
    "        par_dep_frame = par_dep_frame.append({xs:j,\n",
    "                                              'partial_dependence': par_dep_j}, \n",
    "                                              ignore_index=True)\n",
    "        \n",
    "    # return input frame to original cached state    \n",
    "    frame[xs] = h2o.get_frame('col_cache')\n",
    "\n",
    "    return par_dep_frame\n",
    "\n",
    "# show some output\n",
    "par_dep_HelpfulnessNumerator = par_dep('HelpfulnessNumerator', ext_test_new, local_glm_plus)\n",
    "par_dep_HelpfulnessNumerator.plot.line(x='HelpfulnessNumerator', y='partial_dependence')\n",
    "print(par_dep_HelpfulnessNumerator)"
   ]
  },
  {
   "cell_type": "code",
   "execution_count": 71,
   "metadata": {},
   "outputs": [],
   "source": [
    "ext_test_new_s1 = ext_test_new[\"PositiveReview\"]"
   ]
  },
  {
   "cell_type": "code",
   "execution_count": 72,
   "metadata": {},
   "outputs": [],
   "source": [
    "ext_test_new_s2 = ext_test_new[\"Id\"]"
   ]
  },
  {
   "cell_type": "code",
   "execution_count": 73,
   "metadata": {},
   "outputs": [],
   "source": [
    "ext_test_new_s = ext_test_new_s1.cbind(ext_test_new_s2)"
   ]
  },
  {
   "cell_type": "code",
   "execution_count": 74,
   "metadata": {},
   "outputs": [
    {
     "data": {
      "text/html": [
       "<table>\n",
       "<thead>\n",
       "<tr><th style=\"text-align: right;\">  PositiveReview</th><th style=\"text-align: right;\">    Id</th></tr>\n",
       "</thead>\n",
       "<tbody>\n",
       "<tr><td style=\"text-align: right;\">               0</td><td style=\"text-align: right;\"> 41471</td></tr>\n",
       "<tr><td style=\"text-align: right;\">               0</td><td style=\"text-align: right;\">138997</td></tr>\n",
       "<tr><td style=\"text-align: right;\">               1</td><td style=\"text-align: right;\"> 64358</td></tr>\n",
       "<tr><td style=\"text-align: right;\">               1</td><td style=\"text-align: right;\">286942</td></tr>\n",
       "<tr><td style=\"text-align: right;\">               1</td><td style=\"text-align: right;\">368188</td></tr>\n",
       "<tr><td style=\"text-align: right;\">               1</td><td style=\"text-align: right;\">283658</td></tr>\n",
       "<tr><td style=\"text-align: right;\">               1</td><td style=\"text-align: right;\"> 63763</td></tr>\n",
       "<tr><td style=\"text-align: right;\">               0</td><td style=\"text-align: right;\"> 93274</td></tr>\n",
       "<tr><td style=\"text-align: right;\">               1</td><td style=\"text-align: right;\">355476</td></tr>\n",
       "<tr><td style=\"text-align: right;\">               1</td><td style=\"text-align: right;\">375198</td></tr>\n",
       "</tbody>\n",
       "</table>"
      ]
     },
     "metadata": {},
     "output_type": "display_data"
    },
    {
     "data": {
      "text/plain": []
     },
     "execution_count": 74,
     "metadata": {},
     "output_type": "execute_result"
    }
   ],
   "source": [
    "ext_test_new_s.head()"
   ]
  },
  {
   "cell_type": "code",
   "execution_count": 75,
   "metadata": {},
   "outputs": [],
   "source": [
    "def get_quantile_dict(y, id_, frame):\n",
    "\n",
    "    \"\"\" Returns the percentiles of a column y as the indices for another column id_.\n",
    "    \n",
    "    Args:\n",
    "        y: Column in which to find percentiles.\n",
    "        id_: Id column that stores indices for percentiles of y.\n",
    "        frame: H2OFrame containing y and id_. \n",
    "    \n",
    "    Returns:\n",
    "        Dictionary of percentile values and index column values.\n",
    "    \n",
    "    \"\"\"\n",
    "    quantiles_df = frame.as_data_frame(header=None)\n",
    "    quantiles_df.sort_values(y, inplace=True)\n",
    "    quantiles_df.reset_index(inplace=True)\n",
    "    \n",
    "    percentiles_dict = {}\n",
    "    percentiles_dict[0] = quantiles_df.loc[0, id_]\n",
    "    percentiles_dict[99] = quantiles_df.loc[quantiles_df.shape[0]-1, id_]\n",
    "    inc = quantiles_df.shape[0]//10\n",
    "    \n",
    "    for i in range(1, 10):\n",
    "        percentiles_dict[i * 10] = quantiles_df.loc[i * inc,  id_]\n",
    "\n",
    "    return percentiles_dict\n",
    "\n",
    "quantile_dict = get_quantile_dict('PositiveReview', 'Id', ext_test_new_s)"
   ]
  },
  {
   "cell_type": "code",
   "execution_count": 80,
   "metadata": {},
   "outputs": [
    {
     "name": "stdout",
     "output_type": "stream",
     "text": [
      "glm prediction progress: |████████████████████████████████████████████████| 100%\n",
      "glm prediction progress: |████████████████████████████████████████████████| 100%\n",
      "glm prediction progress: |████████████████████████████████████████████████| 100%\n",
      "glm prediction progress: |████████████████████████████████████████████████| 100%\n",
      "glm prediction progress: |████████████████████████████████████████████████| 100%\n",
      "glm prediction progress: |████████████████████████████████████████████████| 100%\n",
      "glm prediction progress: |████████████████████████████████████████████████| 100%\n",
      "glm prediction progress: |████████████████████████████████████████████████| 100%\n",
      "glm prediction progress: |████████████████████████████████████████████████| 100%\n",
      "glm prediction progress: |████████████████████████████████████████████████| 100%\n",
      "glm prediction progress: |████████████████████████████████████████████████| 100%\n",
      "glm prediction progress: |████████████████████████████████████████████████| 100%\n",
      "glm prediction progress: |████████████████████████████████████████████████| 100%\n",
      "glm prediction progress: |████████████████████████████████████████████████| 100%\n",
      "glm prediction progress: |████████████████████████████████████████████████| 100%\n",
      "glm prediction progress: |████████████████████████████████████████████████| 100%\n",
      "glm prediction progress: |████████████████████████████████████████████████| 100%\n",
      "glm prediction progress: |████████████████████████████████████████████████| 100%\n",
      "glm prediction progress: |████████████████████████████████████████████████| 100%\n",
      "glm prediction progress: |████████████████████████████████████████████████| 100%\n",
      "glm prediction progress: |████████████████████████████████████████████████| 100%\n",
      "glm prediction progress: |████████████████████████████████████████████████| 100%\n",
      "glm prediction progress: |████████████████████████████████████████████████| 100%\n",
      "glm prediction progress: |████████████████████████████████████████████████| 100%\n",
      "glm prediction progress: |████████████████████████████████████████████████| 100%\n",
      "glm prediction progress: |████████████████████████████████████████████████| 100%\n",
      "glm prediction progress: |████████████████████████████████████████████████| 100%\n",
      "glm prediction progress: |████████████████████████████████████████████████| 100%\n",
      "glm prediction progress: |████████████████████████████████████████████████| 100%\n",
      "glm prediction progress: |████████████████████████████████████████████████| 100%\n",
      "glm prediction progress: |████████████████████████████████████████████████| 100%\n",
      "glm prediction progress: |████████████████████████████████████████████████| 100%\n",
      "glm prediction progress: |████████████████████████████████████████████████| 100%\n",
      "glm prediction progress: |████████████████████████████████████████████████| 100%\n",
      "glm prediction progress: |████████████████████████████████████████████████| 100%\n",
      "glm prediction progress: |████████████████████████████████████████████████| 100%\n",
      "glm prediction progress: |████████████████████████████████████████████████| 100%\n",
      "glm prediction progress: |████████████████████████████████████████████████| 100%\n",
      "glm prediction progress: |████████████████████████████████████████████████| 100%\n",
      "glm prediction progress: |████████████████████████████████████████████████| 100%\n",
      "glm prediction progress: |████████████████████████████████████████████████| 100%\n",
      "glm prediction progress: |████████████████████████████████████████████████| 100%\n",
      "glm prediction progress: |████████████████████████████████████████████████| 100%\n",
      "glm prediction progress: |████████████████████████████████████████████████| 100%\n",
      "glm prediction progress: |████████████████████████████████████████████████| 100%\n",
      "glm prediction progress: |████████████████████████████████████████████████| 100%\n",
      "glm prediction progress: |████████████████████████████████████████████████| 100%\n",
      "glm prediction progress: |████████████████████████████████████████████████| 100%\n",
      "glm prediction progress: |████████████████████████████████████████████████| 100%\n",
      "glm prediction progress: |████████████████████████████████████████████████| 100%\n",
      "glm prediction progress: |████████████████████████████████████████████████| 100%\n",
      "glm prediction progress: |████████████████████████████████████████████████| 100%\n",
      "glm prediction progress: |████████████████████████████████████████████████| 100%\n",
      "glm prediction progress: |████████████████████████████████████████████████| 100%\n",
      "glm prediction progress: |████████████████████████████████████████████████| 100%\n",
      "glm prediction progress: |████████████████████████████████████████████████| 100%\n",
      "glm prediction progress: |████████████████████████████████████████████████| 100%\n",
      "glm prediction progress: |████████████████████████████████████████████████| 100%\n",
      "glm prediction progress: |████████████████████████████████████████████████| 100%\n",
      "glm prediction progress: |████████████████████████████████████████████████| 100%\n",
      "glm prediction progress: |████████████████████████████████████████████████| 100%\n",
      "glm prediction progress: |████████████████████████████████████████████████| 100%\n",
      "glm prediction progress: |████████████████████████████████████████████████| 100%\n",
      "glm prediction progress: |████████████████████████████████████████████████| 100%\n",
      "glm prediction progress: |████████████████████████████████████████████████| 100%\n",
      "glm prediction progress: |████████████████████████████████████████████████| 100%\n",
      "glm prediction progress: |████████████████████████████████████████████████| 100%\n",
      "glm prediction progress: |████████████████████████████████████████████████| 100%\n",
      "glm prediction progress: |████████████████████████████████████████████████| 100%\n",
      "glm prediction progress: |████████████████████████████████████████████████| 100%\n",
      "glm prediction progress: |████████████████████████████████████████████████| 100%\n",
      "glm prediction progress: |████████████████████████████████████████████████| 100%\n",
      "glm prediction progress: |████████████████████████████████████████████████| 100%\n",
      "glm prediction progress: |████████████████████████████████████████████████| 100%\n",
      "glm prediction progress: |████████████████████████████████████████████████| 100%\n",
      "glm prediction progress: |████████████████████████████████████████████████| 100%\n",
      "glm prediction progress: |████████████████████████████████████████████████| 100%\n",
      "glm prediction progress: |████████████████████████████████████████████████| 100%\n",
      "glm prediction progress: |████████████████████████████████████████████████| 100%\n",
      "glm prediction progress: |████████████████████████████████████████████████| 100%\n",
      "glm prediction progress: |████████████████████████████████████████████████| 100%\n",
      "glm prediction progress: |████████████████████████████████████████████████| 100%\n",
      "glm prediction progress: |████████████████████████████████████████████████| 100%\n",
      "glm prediction progress: |████████████████████████████████████████████████| 100%\n",
      "glm prediction progress: |████████████████████████████████████████████████| 100%\n",
      "glm prediction progress: |████████████████████████████████████████████████| 100%\n",
      "glm prediction progress: |████████████████████████████████████████████████| 100%\n",
      "glm prediction progress: |████████████████████████████████████████████████| 100%\n",
      "glm prediction progress: |████████████████████████████████████████████████| 100%\n",
      "glm prediction progress: |████████████████████████████████████████████████| 100%\n",
      "glm prediction progress: |████████████████████████████████████████████████| 100%\n",
      "glm prediction progress: |████████████████████████████████████████████████| 100%\n",
      "glm prediction progress: |████████████████████████████████████████████████| 100%\n",
      "glm prediction progress: |████████████████████████████████████████████████| 100%\n",
      "glm prediction progress: |████████████████████████████████████████████████| 100%\n",
      "glm prediction progress: |████████████████████████████████████████████████| 100%\n",
      "glm prediction progress: |████████████████████████████████████████████████| 100%\n",
      "glm prediction progress: |████████████████████████████████████████████████| 100%\n",
      "glm prediction progress: |████████████████████████████████████████████████| 100%\n",
      "glm prediction progress: |████████████████████████████████████████████████| 100%\n",
      "glm prediction progress: |████████████████████████████████████████████████| 100%\n"
     ]
    },
    {
     "name": "stdout",
     "output_type": "stream",
     "text": [
      "glm prediction progress: |████████████████████████████████████████████████| 100%\n",
      "glm prediction progress: |████████████████████████████████████████████████| 100%\n",
      "glm prediction progress: |████████████████████████████████████████████████| 100%\n",
      "glm prediction progress: |████████████████████████████████████████████████| 100%\n",
      "glm prediction progress: |████████████████████████████████████████████████| 100%\n",
      "glm prediction progress: |████████████████████████████████████████████████| 100%\n",
      "glm prediction progress: |████████████████████████████████████████████████| 100%\n",
      "glm prediction progress: |████████████████████████████████████████████████| 100%\n",
      "glm prediction progress: |████████████████████████████████████████████████| 100%\n",
      "glm prediction progress: |████████████████████████████████████████████████| 100%\n",
      "glm prediction progress: |████████████████████████████████████████████████| 100%\n",
      "glm prediction progress: |████████████████████████████████████████████████| 100%\n",
      "glm prediction progress: |████████████████████████████████████████████████| 100%\n",
      "glm prediction progress: |████████████████████████████████████████████████| 100%\n",
      "glm prediction progress: |████████████████████████████████████████████████| 100%\n",
      "glm prediction progress: |████████████████████████████████████████████████| 100%\n",
      "glm prediction progress: |████████████████████████████████████████████████| 100%\n",
      "glm prediction progress: |████████████████████████████████████████████████| 100%\n",
      "glm prediction progress: |████████████████████████████████████████████████| 100%\n",
      "glm prediction progress: |████████████████████████████████████████████████| 100%\n",
      "glm prediction progress: |████████████████████████████████████████████████| 100%\n",
      "glm prediction progress: |████████████████████████████████████████████████| 100%\n",
      "glm prediction progress: |████████████████████████████████████████████████| 100%\n",
      "glm prediction progress: |████████████████████████████████████████████████| 100%\n",
      "glm prediction progress: |████████████████████████████████████████████████| 100%\n",
      "glm prediction progress: |████████████████████████████████████████████████| 100%\n",
      "glm prediction progress: |████████████████████████████████████████████████| 100%\n",
      "glm prediction progress: |████████████████████████████████████████████████| 100%\n",
      "glm prediction progress: |████████████████████████████████████████████████| 100%\n",
      "glm prediction progress: |████████████████████████████████████████████████| 100%\n",
      "glm prediction progress: |████████████████████████████████████████████████| 100%\n",
      "glm prediction progress: |████████████████████████████████████████████████| 100%\n",
      "glm prediction progress: |████████████████████████████████████████████████| 100%\n",
      "glm prediction progress: |████████████████████████████████████████████████| 100%\n",
      "glm prediction progress: |████████████████████████████████████████████████| 100%\n",
      "glm prediction progress: |████████████████████████████████████████████████| 100%\n",
      "glm prediction progress: |████████████████████████████████████████████████| 100%\n",
      "glm prediction progress: |████████████████████████████████████████████████| 100%\n",
      "glm prediction progress: |████████████████████████████████████████████████| 100%\n",
      "glm prediction progress: |████████████████████████████████████████████████| 100%\n",
      "glm prediction progress: |████████████████████████████████████████████████| 100%\n",
      "glm prediction progress: |████████████████████████████████████████████████| 100%\n",
      "glm prediction progress: |████████████████████████████████████████████████| 100%\n",
      "glm prediction progress: |████████████████████████████████████████████████| 100%\n",
      "glm prediction progress: |████████████████████████████████████████████████| 100%\n",
      "glm prediction progress: |████████████████████████████████████████████████| 100%\n",
      "glm prediction progress: |████████████████████████████████████████████████| 100%\n",
      "glm prediction progress: |████████████████████████████████████████████████| 100%\n",
      "glm prediction progress: |████████████████████████████████████████████████| 100%\n",
      "glm prediction progress: |████████████████████████████████████████████████| 100%\n",
      "glm prediction progress: |████████████████████████████████████████████████| 100%\n",
      "glm prediction progress: |████████████████████████████████████████████████| 100%\n",
      "glm prediction progress: |████████████████████████████████████████████████| 100%\n",
      "glm prediction progress: |████████████████████████████████████████████████| 100%\n",
      "glm prediction progress: |████████████████████████████████████████████████| 100%\n",
      "glm prediction progress: |████████████████████████████████████████████████| 100%\n",
      "glm prediction progress: |████████████████████████████████████████████████| 100%\n",
      "glm prediction progress: |████████████████████████████████████████████████| 100%\n",
      "glm prediction progress: |████████████████████████████████████████████████| 100%\n",
      "glm prediction progress: |████████████████████████████████████████████████| 100%\n",
      "glm prediction progress: |████████████████████████████████████████████████| 100%\n",
      "glm prediction progress: |████████████████████████████████████████████████| 100%\n",
      "glm prediction progress: |████████████████████████████████████████████████| 100%\n",
      "glm prediction progress: |████████████████████████████████████████████████| 100%\n",
      "glm prediction progress: |████████████████████████████████████████████████| 100%\n",
      "glm prediction progress: |████████████████████████████████████████████████| 100%\n",
      "glm prediction progress: |████████████████████████████████████████████████| 100%\n",
      "glm prediction progress: |████████████████████████████████████████████████| 100%\n",
      "glm prediction progress: |████████████████████████████████████████████████| 100%\n",
      "glm prediction progress: |████████████████████████████████████████████████| 100%\n",
      "glm prediction progress: |████████████████████████████████████████████████| 100%\n",
      "glm prediction progress: |████████████████████████████████████████████████| 100%\n",
      "glm prediction progress: |████████████████████████████████████████████████| 100%\n",
      "glm prediction progress: |████████████████████████████████████████████████| 100%\n",
      "glm prediction progress: |████████████████████████████████████████████████| 100%\n",
      "glm prediction progress: |████████████████████████████████████████████████| 100%\n",
      "glm prediction progress: |████████████████████████████████████████████████| 100%\n",
      "glm prediction progress: |████████████████████████████████████████████████| 100%\n",
      "glm prediction progress: |████████████████████████████████████████████████| 100%\n",
      "glm prediction progress: |████████████████████████████████████████████████| 100%\n",
      "glm prediction progress: |████████████████████████████████████████████████| 100%\n",
      "glm prediction progress: |████████████████████████████████████████████████| 100%\n",
      "glm prediction progress: |████████████████████████████████████████████████| 100%\n",
      "glm prediction progress: |████████████████████████████████████████████████| 100%\n",
      "glm prediction progress: |████████████████████████████████████████████████| 100%\n",
      "glm prediction progress: |████████████████████████████████████████████████| 100%\n",
      "glm prediction progress: |████████████████████████████████████████████████| 100%\n",
      "glm prediction progress: |████████████████████████████████████████████████| 100%\n",
      "glm prediction progress: |████████████████████████████████████████████████| 100%\n",
      "glm prediction progress: |████████████████████████████████████████████████| 100%\n",
      "glm prediction progress: |████████████████████████████████████████████████| 100%\n",
      "glm prediction progress: |████████████████████████████████████████████████| 100%\n",
      "glm prediction progress: |████████████████████████████████████████████████| 100%\n",
      "glm prediction progress: |████████████████████████████████████████████████| 100%\n",
      "glm prediction progress: |████████████████████████████████████████████████| 100%\n",
      "glm prediction progress: |████████████████████████████████████████████████| 100%\n",
      "glm prediction progress: |████████████████████████████████████████████████| 100%\n",
      "glm prediction progress: |████████████████████████████████████████████████| 100%\n",
      "glm prediction progress: |████████████████████████████████████████████████| 100%\n",
      "glm prediction progress: |████████████████████████████████████████████████| 100%\n",
      "glm prediction progress: |████████████████████████████████████████████████| 100%\n"
     ]
    },
    {
     "name": "stdout",
     "output_type": "stream",
     "text": [
      "glm prediction progress: |████████████████████████████████████████████████| 100%\n",
      "glm prediction progress: |████████████████████████████████████████████████| 100%\n",
      "glm prediction progress: |████████████████████████████████████████████████| 100%\n",
      "glm prediction progress: |████████████████████████████████████████████████| 100%\n",
      "glm prediction progress: |████████████████████████████████████████████████| 100%\n",
      "glm prediction progress: |████████████████████████████████████████████████| 100%\n",
      "glm prediction progress: |████████████████████████████████████████████████| 100%\n",
      "glm prediction progress: |████████████████████████████████████████████████| 100%\n",
      "glm prediction progress: |████████████████████████████████████████████████| 100%\n",
      "glm prediction progress: |████████████████████████████████████████████████| 100%\n",
      "glm prediction progress: |████████████████████████████████████████████████| 100%\n",
      "glm prediction progress: |████████████████████████████████████████████████| 100%\n",
      "glm prediction progress: |████████████████████████████████████████████████| 100%\n",
      "glm prediction progress: |████████████████████████████████████████████████| 100%\n",
      "glm prediction progress: |████████████████████████████████████████████████| 100%\n",
      "glm prediction progress: |████████████████████████████████████████████████| 100%\n",
      "glm prediction progress: |████████████████████████████████████████████████| 100%\n",
      "glm prediction progress: |████████████████████████████████████████████████| 100%\n"
     ]
    },
    {
     "data": {
      "text/html": [
       "<div>\n",
       "<style scoped>\n",
       "    .dataframe tbody tr th:only-of-type {\n",
       "        vertical-align: middle;\n",
       "    }\n",
       "\n",
       "    .dataframe tbody tr th {\n",
       "        vertical-align: top;\n",
       "    }\n",
       "\n",
       "    .dataframe thead th {\n",
       "        text-align: right;\n",
       "    }\n",
       "</style>\n",
       "<table border=\"1\" class=\"dataframe\">\n",
       "  <thead>\n",
       "    <tr style=\"text-align: right;\">\n",
       "      <th></th>\n",
       "      <th>HelpfulnessNumerator</th>\n",
       "      <th>partial_dependence</th>\n",
       "      <th>Percentile_0</th>\n",
       "      <th>Percentile_10</th>\n",
       "      <th>Percentile_20</th>\n",
       "      <th>Percentile_30</th>\n",
       "      <th>Percentile_40</th>\n",
       "      <th>Percentile_50</th>\n",
       "      <th>Percentile_60</th>\n",
       "      <th>Percentile_70</th>\n",
       "      <th>Percentile_80</th>\n",
       "      <th>Percentile_90</th>\n",
       "      <th>Percentile_99</th>\n",
       "    </tr>\n",
       "  </thead>\n",
       "  <tbody>\n",
       "    <tr>\n",
       "      <th>0</th>\n",
       "      <td>0.0</td>\n",
       "      <td>0.675574</td>\n",
       "      <td>0.0</td>\n",
       "      <td>1.0</td>\n",
       "      <td>0.0</td>\n",
       "      <td>0.0</td>\n",
       "      <td>1.0</td>\n",
       "      <td>0.0</td>\n",
       "      <td>1.0</td>\n",
       "      <td>1.0</td>\n",
       "      <td>1.0</td>\n",
       "      <td>1.0</td>\n",
       "      <td>1.0</td>\n",
       "    </tr>\n",
       "    <tr>\n",
       "      <th>1</th>\n",
       "      <td>4.0</td>\n",
       "      <td>0.750986</td>\n",
       "      <td>0.0</td>\n",
       "      <td>1.0</td>\n",
       "      <td>0.0</td>\n",
       "      <td>0.0</td>\n",
       "      <td>1.0</td>\n",
       "      <td>1.0</td>\n",
       "      <td>1.0</td>\n",
       "      <td>1.0</td>\n",
       "      <td>1.0</td>\n",
       "      <td>1.0</td>\n",
       "      <td>1.0</td>\n",
       "    </tr>\n",
       "    <tr>\n",
       "      <th>2</th>\n",
       "      <td>8.0</td>\n",
       "      <td>0.819943</td>\n",
       "      <td>0.0</td>\n",
       "      <td>1.0</td>\n",
       "      <td>0.0</td>\n",
       "      <td>0.0</td>\n",
       "      <td>1.0</td>\n",
       "      <td>1.0</td>\n",
       "      <td>1.0</td>\n",
       "      <td>1.0</td>\n",
       "      <td>1.0</td>\n",
       "      <td>1.0</td>\n",
       "      <td>1.0</td>\n",
       "    </tr>\n",
       "    <tr>\n",
       "      <th>3</th>\n",
       "      <td>12.0</td>\n",
       "      <td>0.869530</td>\n",
       "      <td>0.0</td>\n",
       "      <td>1.0</td>\n",
       "      <td>0.0</td>\n",
       "      <td>0.0</td>\n",
       "      <td>1.0</td>\n",
       "      <td>1.0</td>\n",
       "      <td>1.0</td>\n",
       "      <td>1.0</td>\n",
       "      <td>1.0</td>\n",
       "      <td>1.0</td>\n",
       "      <td>1.0</td>\n",
       "    </tr>\n",
       "    <tr>\n",
       "      <th>4</th>\n",
       "      <td>16.0</td>\n",
       "      <td>0.908806</td>\n",
       "      <td>1.0</td>\n",
       "      <td>1.0</td>\n",
       "      <td>0.0</td>\n",
       "      <td>0.0</td>\n",
       "      <td>1.0</td>\n",
       "      <td>1.0</td>\n",
       "      <td>1.0</td>\n",
       "      <td>1.0</td>\n",
       "      <td>1.0</td>\n",
       "      <td>1.0</td>\n",
       "      <td>1.0</td>\n",
       "    </tr>\n",
       "    <tr>\n",
       "      <th>5</th>\n",
       "      <td>20.0</td>\n",
       "      <td>0.938128</td>\n",
       "      <td>1.0</td>\n",
       "      <td>1.0</td>\n",
       "      <td>0.0</td>\n",
       "      <td>0.0</td>\n",
       "      <td>1.0</td>\n",
       "      <td>1.0</td>\n",
       "      <td>1.0</td>\n",
       "      <td>1.0</td>\n",
       "      <td>1.0</td>\n",
       "      <td>1.0</td>\n",
       "      <td>1.0</td>\n",
       "    </tr>\n",
       "    <tr>\n",
       "      <th>6</th>\n",
       "      <td>24.0</td>\n",
       "      <td>0.959559</td>\n",
       "      <td>1.0</td>\n",
       "      <td>1.0</td>\n",
       "      <td>1.0</td>\n",
       "      <td>0.0</td>\n",
       "      <td>1.0</td>\n",
       "      <td>1.0</td>\n",
       "      <td>1.0</td>\n",
       "      <td>1.0</td>\n",
       "      <td>1.0</td>\n",
       "      <td>1.0</td>\n",
       "      <td>1.0</td>\n",
       "    </tr>\n",
       "    <tr>\n",
       "      <th>7</th>\n",
       "      <td>28.0</td>\n",
       "      <td>0.973637</td>\n",
       "      <td>1.0</td>\n",
       "      <td>1.0</td>\n",
       "      <td>1.0</td>\n",
       "      <td>1.0</td>\n",
       "      <td>1.0</td>\n",
       "      <td>1.0</td>\n",
       "      <td>1.0</td>\n",
       "      <td>1.0</td>\n",
       "      <td>1.0</td>\n",
       "      <td>1.0</td>\n",
       "      <td>1.0</td>\n",
       "    </tr>\n",
       "    <tr>\n",
       "      <th>8</th>\n",
       "      <td>32.0</td>\n",
       "      <td>0.983859</td>\n",
       "      <td>1.0</td>\n",
       "      <td>1.0</td>\n",
       "      <td>1.0</td>\n",
       "      <td>1.0</td>\n",
       "      <td>1.0</td>\n",
       "      <td>1.0</td>\n",
       "      <td>1.0</td>\n",
       "      <td>1.0</td>\n",
       "      <td>1.0</td>\n",
       "      <td>1.0</td>\n",
       "      <td>1.0</td>\n",
       "    </tr>\n",
       "    <tr>\n",
       "      <th>9</th>\n",
       "      <td>36.0</td>\n",
       "      <td>0.990674</td>\n",
       "      <td>1.0</td>\n",
       "      <td>1.0</td>\n",
       "      <td>1.0</td>\n",
       "      <td>1.0</td>\n",
       "      <td>1.0</td>\n",
       "      <td>1.0</td>\n",
       "      <td>1.0</td>\n",
       "      <td>1.0</td>\n",
       "      <td>1.0</td>\n",
       "      <td>1.0</td>\n",
       "      <td>1.0</td>\n",
       "    </tr>\n",
       "    <tr>\n",
       "      <th>10</th>\n",
       "      <td>40.0</td>\n",
       "      <td>0.994709</td>\n",
       "      <td>1.0</td>\n",
       "      <td>1.0</td>\n",
       "      <td>1.0</td>\n",
       "      <td>1.0</td>\n",
       "      <td>1.0</td>\n",
       "      <td>1.0</td>\n",
       "      <td>1.0</td>\n",
       "      <td>1.0</td>\n",
       "      <td>1.0</td>\n",
       "      <td>1.0</td>\n",
       "      <td>1.0</td>\n",
       "    </tr>\n",
       "    <tr>\n",
       "      <th>11</th>\n",
       "      <td>44.0</td>\n",
       "      <td>0.997041</td>\n",
       "      <td>1.0</td>\n",
       "      <td>1.0</td>\n",
       "      <td>1.0</td>\n",
       "      <td>1.0</td>\n",
       "      <td>1.0</td>\n",
       "      <td>1.0</td>\n",
       "      <td>1.0</td>\n",
       "      <td>1.0</td>\n",
       "      <td>1.0</td>\n",
       "      <td>1.0</td>\n",
       "      <td>1.0</td>\n",
       "    </tr>\n",
       "    <tr>\n",
       "      <th>12</th>\n",
       "      <td>48.0</td>\n",
       "      <td>0.997669</td>\n",
       "      <td>1.0</td>\n",
       "      <td>1.0</td>\n",
       "      <td>1.0</td>\n",
       "      <td>1.0</td>\n",
       "      <td>1.0</td>\n",
       "      <td>1.0</td>\n",
       "      <td>1.0</td>\n",
       "      <td>1.0</td>\n",
       "      <td>1.0</td>\n",
       "      <td>1.0</td>\n",
       "      <td>1.0</td>\n",
       "    </tr>\n",
       "    <tr>\n",
       "      <th>13</th>\n",
       "      <td>52.0</td>\n",
       "      <td>0.998476</td>\n",
       "      <td>1.0</td>\n",
       "      <td>1.0</td>\n",
       "      <td>1.0</td>\n",
       "      <td>1.0</td>\n",
       "      <td>1.0</td>\n",
       "      <td>1.0</td>\n",
       "      <td>1.0</td>\n",
       "      <td>1.0</td>\n",
       "      <td>1.0</td>\n",
       "      <td>1.0</td>\n",
       "      <td>1.0</td>\n",
       "    </tr>\n",
       "    <tr>\n",
       "      <th>14</th>\n",
       "      <td>56.0</td>\n",
       "      <td>0.998834</td>\n",
       "      <td>1.0</td>\n",
       "      <td>1.0</td>\n",
       "      <td>1.0</td>\n",
       "      <td>1.0</td>\n",
       "      <td>1.0</td>\n",
       "      <td>1.0</td>\n",
       "      <td>1.0</td>\n",
       "      <td>1.0</td>\n",
       "      <td>1.0</td>\n",
       "      <td>1.0</td>\n",
       "      <td>1.0</td>\n",
       "    </tr>\n",
       "    <tr>\n",
       "      <th>15</th>\n",
       "      <td>60.0</td>\n",
       "      <td>0.999283</td>\n",
       "      <td>1.0</td>\n",
       "      <td>1.0</td>\n",
       "      <td>1.0</td>\n",
       "      <td>1.0</td>\n",
       "      <td>1.0</td>\n",
       "      <td>1.0</td>\n",
       "      <td>1.0</td>\n",
       "      <td>1.0</td>\n",
       "      <td>1.0</td>\n",
       "      <td>1.0</td>\n",
       "      <td>1.0</td>\n",
       "    </tr>\n",
       "    <tr>\n",
       "      <th>16</th>\n",
       "      <td>64.0</td>\n",
       "      <td>0.999552</td>\n",
       "      <td>1.0</td>\n",
       "      <td>1.0</td>\n",
       "      <td>1.0</td>\n",
       "      <td>1.0</td>\n",
       "      <td>1.0</td>\n",
       "      <td>1.0</td>\n",
       "      <td>1.0</td>\n",
       "      <td>1.0</td>\n",
       "      <td>1.0</td>\n",
       "      <td>1.0</td>\n",
       "      <td>1.0</td>\n",
       "    </tr>\n",
       "    <tr>\n",
       "      <th>17</th>\n",
       "      <td>68.0</td>\n",
       "      <td>0.999552</td>\n",
       "      <td>1.0</td>\n",
       "      <td>1.0</td>\n",
       "      <td>1.0</td>\n",
       "      <td>1.0</td>\n",
       "      <td>1.0</td>\n",
       "      <td>1.0</td>\n",
       "      <td>1.0</td>\n",
       "      <td>1.0</td>\n",
       "      <td>1.0</td>\n",
       "      <td>1.0</td>\n",
       "      <td>1.0</td>\n",
       "    </tr>\n",
       "    <tr>\n",
       "      <th>18</th>\n",
       "      <td>72.0</td>\n",
       "      <td>0.999641</td>\n",
       "      <td>1.0</td>\n",
       "      <td>1.0</td>\n",
       "      <td>1.0</td>\n",
       "      <td>1.0</td>\n",
       "      <td>1.0</td>\n",
       "      <td>1.0</td>\n",
       "      <td>1.0</td>\n",
       "      <td>1.0</td>\n",
       "      <td>1.0</td>\n",
       "      <td>1.0</td>\n",
       "      <td>1.0</td>\n",
       "    </tr>\n",
       "    <tr>\n",
       "      <th>19</th>\n",
       "      <td>76.0</td>\n",
       "      <td>0.999641</td>\n",
       "      <td>1.0</td>\n",
       "      <td>1.0</td>\n",
       "      <td>1.0</td>\n",
       "      <td>1.0</td>\n",
       "      <td>1.0</td>\n",
       "      <td>1.0</td>\n",
       "      <td>1.0</td>\n",
       "      <td>1.0</td>\n",
       "      <td>1.0</td>\n",
       "      <td>1.0</td>\n",
       "      <td>1.0</td>\n",
       "    </tr>\n",
       "  </tbody>\n",
       "</table>\n",
       "</div>"
      ],
      "text/plain": [
       "    HelpfulnessNumerator  partial_dependence  Percentile_0  Percentile_10  \\\n",
       "0                    0.0            0.675574           0.0            1.0   \n",
       "1                    4.0            0.750986           0.0            1.0   \n",
       "2                    8.0            0.819943           0.0            1.0   \n",
       "3                   12.0            0.869530           0.0            1.0   \n",
       "4                   16.0            0.908806           1.0            1.0   \n",
       "5                   20.0            0.938128           1.0            1.0   \n",
       "6                   24.0            0.959559           1.0            1.0   \n",
       "7                   28.0            0.973637           1.0            1.0   \n",
       "8                   32.0            0.983859           1.0            1.0   \n",
       "9                   36.0            0.990674           1.0            1.0   \n",
       "10                  40.0            0.994709           1.0            1.0   \n",
       "11                  44.0            0.997041           1.0            1.0   \n",
       "12                  48.0            0.997669           1.0            1.0   \n",
       "13                  52.0            0.998476           1.0            1.0   \n",
       "14                  56.0            0.998834           1.0            1.0   \n",
       "15                  60.0            0.999283           1.0            1.0   \n",
       "16                  64.0            0.999552           1.0            1.0   \n",
       "17                  68.0            0.999552           1.0            1.0   \n",
       "18                  72.0            0.999641           1.0            1.0   \n",
       "19                  76.0            0.999641           1.0            1.0   \n",
       "\n",
       "    Percentile_20  Percentile_30  Percentile_40  Percentile_50  Percentile_60  \\\n",
       "0             0.0            0.0            1.0            0.0            1.0   \n",
       "1             0.0            0.0            1.0            1.0            1.0   \n",
       "2             0.0            0.0            1.0            1.0            1.0   \n",
       "3             0.0            0.0            1.0            1.0            1.0   \n",
       "4             0.0            0.0            1.0            1.0            1.0   \n",
       "5             0.0            0.0            1.0            1.0            1.0   \n",
       "6             1.0            0.0            1.0            1.0            1.0   \n",
       "7             1.0            1.0            1.0            1.0            1.0   \n",
       "8             1.0            1.0            1.0            1.0            1.0   \n",
       "9             1.0            1.0            1.0            1.0            1.0   \n",
       "10            1.0            1.0            1.0            1.0            1.0   \n",
       "11            1.0            1.0            1.0            1.0            1.0   \n",
       "12            1.0            1.0            1.0            1.0            1.0   \n",
       "13            1.0            1.0            1.0            1.0            1.0   \n",
       "14            1.0            1.0            1.0            1.0            1.0   \n",
       "15            1.0            1.0            1.0            1.0            1.0   \n",
       "16            1.0            1.0            1.0            1.0            1.0   \n",
       "17            1.0            1.0            1.0            1.0            1.0   \n",
       "18            1.0            1.0            1.0            1.0            1.0   \n",
       "19            1.0            1.0            1.0            1.0            1.0   \n",
       "\n",
       "    Percentile_70  Percentile_80  Percentile_90  Percentile_99  \n",
       "0             1.0            1.0            1.0            1.0  \n",
       "1             1.0            1.0            1.0            1.0  \n",
       "2             1.0            1.0            1.0            1.0  \n",
       "3             1.0            1.0            1.0            1.0  \n",
       "4             1.0            1.0            1.0            1.0  \n",
       "5             1.0            1.0            1.0            1.0  \n",
       "6             1.0            1.0            1.0            1.0  \n",
       "7             1.0            1.0            1.0            1.0  \n",
       "8             1.0            1.0            1.0            1.0  \n",
       "9             1.0            1.0            1.0            1.0  \n",
       "10            1.0            1.0            1.0            1.0  \n",
       "11            1.0            1.0            1.0            1.0  \n",
       "12            1.0            1.0            1.0            1.0  \n",
       "13            1.0            1.0            1.0            1.0  \n",
       "14            1.0            1.0            1.0            1.0  \n",
       "15            1.0            1.0            1.0            1.0  \n",
       "16            1.0            1.0            1.0            1.0  \n",
       "17            1.0            1.0            1.0            1.0  \n",
       "18            1.0            1.0            1.0            1.0  \n",
       "19            1.0            1.0            1.0            1.0  "
      ]
     },
     "execution_count": 80,
     "metadata": {},
     "output_type": "execute_result"
    }
   ],
   "source": [
    "bins = list(par_dep_HelpfulnessNumerator['HelpfulnessNumerator'])\n",
    "for i in sorted(quantile_dict.keys()):\n",
    "    col_name = 'Percentile_' + str(i)\n",
    "    par_dep_HelpfulnessNumerator[col_name] = par_dep('HelpfulnessNumerator', \n",
    "                                            ext_test_new[ext_test_new['Id'] == int(quantile_dict[i])], \n",
    "                                            local_glm_plus, \n",
    "                                            bins=bins)['partial_dependence']\n",
    "par_dep_HelpfulnessNumerator"
   ]
  },
  {
   "cell_type": "code",
   "execution_count": 81,
   "metadata": {},
   "outputs": [],
   "source": [
    "def plot_par_dep_ICE(xs, par_dep_frame):\n",
    "\n",
    "    \n",
    "    \"\"\" Plots ICE overlayed onto partial dependence for a single variable.\n",
    "    \n",
    "    Args: \n",
    "        xs: Name of variable for which to plot ICE and partial dependence.\n",
    "        par_dep_frame: Name of Pandas DataFrame containing ICE and partial\n",
    "                       dependence values.\n",
    "    \n",
    "    \"\"\"\n",
    "    \n",
    "    # initialize figure and axis\n",
    "    fig, ax = plt.subplots()\n",
    "    \n",
    "    # plot ICE curves\n",
    "    par_dep_frame.drop('partial_dependence', axis=1).plot(x=xs, \n",
    "                                                          colormap='gnuplot',\n",
    "                                                          ax=ax)\n",
    "\n",
    "    # overlay partial dependence, annotate plot\n",
    "    par_dep_frame.plot(title='Partial Dependence and ICE for ' + str(xs),\n",
    "                       x=xs, \n",
    "                       y='partial_dependence',\n",
    "                       style='r-', \n",
    "                       linewidth=3, \n",
    "                       ax=ax)\n",
    "\n",
    "    # add legend\n",
    "    _ = plt.legend(bbox_to_anchor=(1.05, 0),\n",
    "                   loc=3, \n",
    "                   borderaxespad=0.)\n"
   ]
  },
  {
   "cell_type": "code",
   "execution_count": 82,
   "metadata": {},
   "outputs": [
    {
     "data": {
      "image/png": "[encoded data removed]",
      "text/plain": [
       "<Figure size 432x288 with 1 Axes>"
      ]
     },
     "metadata": {
      "needs_background": "light"
     },
     "output_type": "display_data"
    }
   ],
   "source": [
    "plot_par_dep_ICE('HelpfulnessNumerator', par_dep_HelpfulnessNumerator)"
   ]
  },
  {
   "cell_type": "markdown",
   "metadata": {},
   "source": [
    "### 2.1.3 Matrix"
   ]
  },
  {
   "cell_type": "code",
   "execution_count": 169,
   "metadata": {},
   "outputs": [
    {
     "name": "stdout",
     "output_type": "stream",
     "text": [
      "\n",
      "Local GLM Coefficients:\n",
      "C46:                      -4.260476800316235\n",
      "C88:                      -3.0978936685560257\n",
      "C22:                      -2.9655688628707715\n",
      "C2:                       -2.9340255339304253\n",
      "C13:                      -2.2511389050009414\n",
      "C89:                      -2.1017036576949235\n",
      "C49:                      -1.950408959025164\n",
      "C32:                      -1.8707779174677097\n",
      "C19:                      -1.8286575243501957\n",
      "C12:                      -1.7966530610909817\n",
      "C11:                      -1.700184340627838\n",
      "C1:                       -1.6847025812196756\n",
      "C82:                      -1.627829319697914\n",
      "C83:                      -1.5565874726680813\n",
      "C29:                      -1.5339705080817085\n",
      "C35:                      -1.3521103076035348\n",
      "C28:                      -1.3443180876656213\n",
      "C33:                      -1.3318451299853227\n",
      "C37:                      -1.2946954862022535\n",
      "C59:                      -1.2792300066640068\n",
      "C96:                      -1.2182719104519433\n",
      "C92:                      -1.165471586649979\n",
      "C84:                      -1.005671035730411\n",
      "summary_C46:              -0.9887284469360819\n",
      "C79:                      -0.9782955096469512\n",
      "summary_C82:              -0.9523415815267741\n",
      "C98:                      -0.9492888257629267\n",
      "C10:                      -0.9176553960302359\n",
      "summary_C13:              -0.8714439777213066\n",
      "summary_C32:              -0.8562798048184127\n",
      "C39:                      -0.8160507159425965\n",
      "summary_C22:              -0.7954929171648278\n",
      "summary_C89:              -0.7126160588624324\n",
      "summary_C88:              -0.695595397657876\n",
      "C70:                      -0.5553562173935883\n",
      "summary_C1:               -0.5277003028422728\n",
      "summary_C35:              -0.48055539202150127\n",
      "summary_C2:               -0.4737158277354006\n",
      "C51:                      -0.45211683502378247\n",
      "summary_C12:              -0.4302724267387639\n",
      "summary_C79:              -0.4169666979560626\n",
      "C42:                      -0.41291839373400246\n",
      "summary_C11:              -0.41155574041772464\n",
      "C43:                      -0.386907082123654\n",
      "C65:                      -0.3806205012965766\n",
      "summary_C19:              -0.35999785671738777\n",
      "summary_C83:              -0.3548401370208142\n",
      "C21:                      -0.3527301136133504\n",
      "summary_C37:              -0.3436098004953751\n",
      "C69:                      -0.3373144386260251\n",
      "summary_C24:              -0.3342359485956226\n",
      "C74:                      -0.3142282660176021\n",
      "summary_C70:              -0.2619624972507879\n",
      "summary_C33:              -0.24824568302943126\n",
      "summary_C28:              -0.23442678940618925\n",
      "summary_C21:              -0.2298489240865572\n",
      "summary_C98:              -0.22236756905686486\n",
      "summary_C43:              -0.20626863216172248\n",
      "summary_C51:              -0.20370951170583576\n",
      "summary_C30:              -0.19733604291766157\n",
      "summary_C29:              -0.19476336038744016\n",
      "summary_C94:              -0.19197604047352512\n",
      "C16:                      -0.190071600657303\n",
      "summary_C7:               -0.18793065470661266\n",
      "C64:                      -0.18378226858285274\n",
      "C23:                      -0.17920132660718144\n",
      "summary_C10:              -0.1747593713000508\n",
      "C62:                      -0.14960064930891093\n",
      "summary_C96:              -0.1262088251166088\n",
      "summary_C62:              -0.11882021274244128\n",
      "summary_C23:              -0.113738477620942\n",
      "summary_C64:              -0.10857539922748806\n",
      "summary_C26:              -0.10496585421717562\n",
      "HelpfulnessDenominator:   -0.09618759115440151\n",
      "summary_C65:              -0.07721104368088262\n",
      "C80:                      -0.068749859901538\n",
      "summary_C59:              -0.025014354827863457\n",
      "summary_C95:              -0.0044725572844783144\n",
      "Time:                     -9.29287922796519e-10\n",
      "summary_C52:              0.0006777140170471783\n",
      "summary_C92:              0.0026301902985524815\n",
      "summary_C90:              0.007689359173949778\n",
      "summary_C39:              0.01898331701020817\n",
      "summary_C67:              0.031597525640386565\n",
      "summary_C42:              0.03423420860835901\n",
      "summary_C18:              0.04289285007776524\n",
      "C31:                      0.057603228928205207\n",
      "summary_C100:             0.067836851219147\n",
      "C36:                      0.07251536115406401\n",
      "summary_C50:              0.09918046064282882\n",
      "summary_C55:              0.09981000049493377\n",
      "summary_C57:              0.10620669181908542\n",
      "C94:                      0.11118832787089393\n",
      "HelpfulnessNumerator:     0.11144737896421535\n",
      "summary_C99:              0.14138753337060903\n",
      "summary_C16:              0.14526679757282526\n",
      "summary_C4:               0.1472842210173801\n",
      "summary_C45:              0.1554676853877125\n",
      "summary_C14:              0.15983390753152377\n",
      "summary_C53:              0.16188535254723194\n",
      "summary_C87:              0.16395405434625668\n",
      "summary_C93:              0.17501915296542211\n",
      "summary_C76:              0.18814325584627323\n",
      "summary_C38:              0.20088921775571905\n",
      "summary_C20:              0.2074740074637712\n",
      "summary_C81:              0.20785312201511544\n",
      "C58:                      0.22922694289520087\n",
      "summary_C60:              0.2357577450591256\n",
      "C100:                     0.2423256466744756\n",
      "C57:                      0.24317913292989204\n",
      "summary_C68:              0.24845764581139276\n",
      "summary_C47:              0.2509865206657005\n",
      "summary_C72:              0.2556179672982405\n",
      "C55:                      0.2604349033184046\n",
      "C18:                      0.2746412129235267\n",
      "C40:                      0.279366055329885\n",
      "summary_C31:              0.28457266019730454\n",
      "C41:                      0.3010731584031337\n",
      "summary_C71:              0.3039883443507119\n",
      "summary_C97:              0.3132414420983138\n",
      "summary_C61:              0.36475746757792066\n",
      "summary_C27:              0.3744826859639896\n",
      "summary_C58:              0.41896198965770204\n",
      "C93:                      0.42660228369966235\n",
      "C47:                      0.42775708147513614\n",
      "summary_C5:               0.43120563544561036\n",
      "C61:                      0.4391613087180442\n",
      "summary_C63:              0.44420693233458103\n",
      "C95:                      0.457503320211817\n",
      "summary_C77:              0.4611604598647555\n",
      "C17:                      0.4798614569190229\n",
      "summary_C66:              0.4868626366316572\n",
      "summary_C44:              0.49000386626148146\n",
      "summary_C3:               0.5027436471904495\n",
      "summary_C91:              0.502789160477183\n",
      "summary_C9:               0.5190170728606894\n",
      "summary_C34:              0.5365885826170156\n",
      "C72:                      0.6262559904957392\n",
      "C68:                      0.6410241580471855\n",
      "summary_C85:              0.6634736764423782\n",
      "summary_C73:              0.6762833446205223\n",
      "C50:                      0.6883634886702364\n",
      "summary_C15:              0.7451730899455046\n",
      "C97:                      0.7595924646444551\n",
      "C67:                      0.8222930238723775\n",
      "summary_C75:              0.8314339463002572\n",
      "C76:                      0.8772134355337319\n",
      "summary_C8:               0.8989988663297133\n",
      "C75:                      1.0264725336702787\n",
      "summary_C48:              1.0668620492379313\n",
      "C73:                      1.0783312761806199\n",
      "C77:                      1.081812568814684\n",
      "C20:                      1.0922623903957713\n",
      "C91:                      1.1005412996405721\n",
      "C4:                       1.148790081314713\n",
      "C48:                      1.2090479968040324\n",
      "C8:                       1.2394207931319698\n",
      "C14:                      1.243136626195636\n",
      "C66:                      1.475550221437668\n",
      "C3:                       1.517876691884352\n",
      "C26:                      1.558594422159404\n",
      "C71:                      1.7156715218650311\n",
      "C52:                      1.8143928390621051\n",
      "Intercept:                1.8528081362730844\n",
      "C27:                      1.90209317291004\n",
      "C81:                      2.2632779022820535\n",
      "C85:                      2.335202756782522\n",
      "C60:                      2.4945105984050064\n",
      "C15:                      2.7063582022443304\n",
      "C44:                      2.9162540933663093\n",
      "C5:                       3.098883742791535\n",
      "C9:                       3.35139839893334\n",
      "C56:                      3.648156511135708\n"
     ]
    }
   ],
   "source": [
    "print('\\nLocal GLM Coefficients:')\n",
    "for c_name, c_val in sorted(local_glm_plus.coef().items(), key=operator.itemgetter(1)):\n",
    "    if c_val != 0.0:\n",
    "        print('%s %s' % (str(c_name + ':').ljust(25), c_val))"
   ]
  },
  {
   "cell_type": "code",
   "execution_count": 170,
   "metadata": {},
   "outputs": [
    {
     "data": {
      "text/plain": [
       "{'train': 0.432012638087628, 'valid': None}"
      ]
     },
     "execution_count": 170,
     "metadata": {},
     "output_type": "execute_result"
    }
   ],
   "source": [
    "local_glm_plus.r2(train=True, valid=True)"
   ]
  },
  {
   "cell_type": "code",
   "execution_count": 171,
   "metadata": {},
   "outputs": [
    {
     "data": {
      "text/plain": [
       "0.8761496423028042"
      ]
     },
     "execution_count": 171,
     "metadata": {},
     "output_type": "execute_result"
    }
   ],
   "source": [
    "local_glm_plus.auc()"
   ]
  },
  {
   "cell_type": "code",
   "execution_count": 172,
   "metadata": {},
   "outputs": [
    {
     "name": "stdout",
     "output_type": "stream",
     "text": [
      "Confusion Matrix (Act/Pred) for max f1 @ threshold = 0.46039732571229414: \n"
     ]
    },
    {
     "data": {
      "text/html": [
       "<div style=\"overflow:auto\"><table style=\"width:50%\"><tr><td><b></b></td>\n",
       "<td><b>0</b></td>\n",
       "<td><b>1</b></td>\n",
       "<td><b>Error</b></td>\n",
       "<td><b>Rate</b></td></tr>\n",
       "<tr><td>0</td>\n",
       "<td>10134.0</td>\n",
       "<td>5760.0</td>\n",
       "<td>0.3624</td>\n",
       "<td> (5760.0/15894.0)</td></tr>\n",
       "<tr><td>1</td>\n",
       "<td>2269.0</td>\n",
       "<td>26239.0</td>\n",
       "<td>0.0796</td>\n",
       "<td> (2269.0/28508.0)</td></tr>\n",
       "<tr><td>Total</td>\n",
       "<td>12403.0</td>\n",
       "<td>31999.0</td>\n",
       "<td>0.1808</td>\n",
       "<td> (8029.0/44402.0)</td></tr></table></div>"
      ],
      "text/plain": [
       "       0      1      Error    Rate\n",
       "-----  -----  -----  -------  ----------------\n",
       "0      10134  5760   0.3624   (5760.0/15894.0)\n",
       "1      2269   26239  0.0796   (2269.0/28508.0)\n",
       "Total  12403  31999  0.1808   (8029.0/44402.0)"
      ]
     },
     "metadata": {},
     "output_type": "display_data"
    },
    {
     "data": {
      "text/plain": []
     },
     "execution_count": 172,
     "metadata": {},
     "output_type": "execute_result"
    }
   ],
   "source": [
    "local_glm_plus.confusion_matrix()"
   ]
  },
  {
   "cell_type": "markdown",
   "metadata": {},
   "source": [
    "## 2.2 Logistic Regression"
   ]
  },
  {
   "cell_type": "markdown",
   "metadata": {},
   "source": [
    "### 2.2.1 Train & Fit Model"
   ]
  },
  {
   "cell_type": "code",
   "execution_count": 173,
   "metadata": {},
   "outputs": [],
   "source": [
    "predictors = ['ProductId', 'UserId', 'HelpfulnessNumerator', 'HelpfulnessDenominator', 'Time'] + summary_vecs.names + review_vecs.names \n",
    "response = 'PositiveReview'"
   ]
  },
  {
   "cell_type": "code",
   "execution_count": 174,
   "metadata": {},
   "outputs": [
    {
     "name": "stdout",
     "output_type": "stream",
     "text": [
      "glm Model Build progress: |███████████████████████████████████████████████| 100%\n"
     ]
    }
   ],
   "source": [
    "glm_logistic_plus_summary = H2OGeneralizedLinearEstimator(family = \"binomial\")\n",
    "glm_logistic_plus_summary.train(x=predictors, \n",
    "                               y= response, \n",
    "                               training_frame = ext_train_new, \n",
    "                               validation_frame = ext_test_new, \n",
    "                               model_id=\"glm_logistic\")"
   ]
  },
  {
   "cell_type": "markdown",
   "metadata": {},
   "source": [
    "### 2.2.2 Interpretability"
   ]
  },
  {
   "cell_type": "code",
   "execution_count": 175,
   "metadata": {},
   "outputs": [
    {
     "data": {
      "image/png": "[encoded data removed]",
      "text/plain": [
       "<Figure size 1008x720 with 1 Axes>"
      ]
     },
     "metadata": {
      "needs_background": "light"
     },
     "output_type": "display_data"
    }
   ],
   "source": [
    "glm_logistic_plus_summary.varimp_plot()"
   ]
  },
  {
   "cell_type": "code",
   "execution_count": 176,
   "metadata": {},
   "outputs": [
    {
     "name": "stdout",
     "output_type": "stream",
     "text": [
      "PartialDependencePlot progress: |█████████████████████████████████████████| 100%\n"
     ]
    },
    {
     "data": {
      "image/png": "[encoded data removed]",
      "text/plain": [
       "<Figure size 504x720 with 1 Axes>"
      ]
     },
     "metadata": {
      "needs_background": "light"
     },
     "output_type": "display_data"
    }
   ],
   "source": [
    "pdp_word_vecs = glm_logistic_plus_summary.partial_plot(data = ext_train_new, cols = [\"summary_C91\"])"
   ]
  },
  {
   "cell_type": "markdown",
   "metadata": {},
   "source": [
    "### 2.2.3 Matrix"
   ]
  },
  {
   "cell_type": "code",
   "execution_count": 177,
   "metadata": {},
   "outputs": [
    {
     "name": "stdout",
     "output_type": "stream",
     "text": [
      "With Summary and Review Embeddings AUC: 0.854\n"
     ]
    }
   ],
   "source": [
    "print(\"With Summary and Review Embeddings AUC: \" + str(round(glm_logistic_plus_summary.auc(valid = True), 3)))"
   ]
  },
  {
   "cell_type": "code",
   "execution_count": 178,
   "metadata": {},
   "outputs": [
    {
     "name": "stdout",
     "output_type": "stream",
     "text": [
      "Confusion Matrix (Act/Pred) for max f1 @ threshold = 0.45977694654643286: \n"
     ]
    },
    {
     "data": {
      "text/html": [
       "<div style=\"overflow:auto\"><table style=\"width:50%\"><tr><td><b></b></td>\n",
       "<td><b>0</b></td>\n",
       "<td><b>1</b></td>\n",
       "<td><b>Error</b></td>\n",
       "<td><b>Rate</b></td></tr>\n",
       "<tr><td>0</td>\n",
       "<td>2383.0</td>\n",
       "<td>1829.0</td>\n",
       "<td>0.4342</td>\n",
       "<td> (1829.0/4212.0)</td></tr>\n",
       "<tr><td>1</td>\n",
       "<td>499.0</td>\n",
       "<td>6441.0</td>\n",
       "<td>0.0719</td>\n",
       "<td> (499.0/6940.0)</td></tr>\n",
       "<tr><td>Total</td>\n",
       "<td>2882.0</td>\n",
       "<td>8270.0</td>\n",
       "<td>0.2088</td>\n",
       "<td> (2328.0/11152.0)</td></tr></table></div>"
      ],
      "text/plain": [
       "       0     1     Error    Rate\n",
       "-----  ----  ----  -------  ----------------\n",
       "0      2383  1829  0.4342   (1829.0/4212.0)\n",
       "1      499   6441  0.0719   (499.0/6940.0)\n",
       "Total  2882  8270  0.2088   (2328.0/11152.0)"
      ]
     },
     "metadata": {},
     "output_type": "display_data"
    },
    {
     "data": {
      "text/plain": []
     },
     "execution_count": 178,
     "metadata": {},
     "output_type": "execute_result"
    }
   ],
   "source": [
    "glm_logistic_plus_summary.confusion_matrix(valid = True)"
   ]
  },
  {
   "cell_type": "code",
   "execution_count": 179,
   "metadata": {},
   "outputs": [
    {
     "name": "stdout",
     "output_type": "stream",
     "text": [
      "Confusion Matrix (Act/Pred) for max f1 @ threshold = 0.45977694654643286: \n"
     ]
    },
    {
     "data": {
      "text/html": [
       "<div style=\"overflow:auto\"><table style=\"width:50%\"><tr><td><b></b></td>\n",
       "<td><b>0</b></td>\n",
       "<td><b>1</b></td>\n",
       "<td><b>Error</b></td>\n",
       "<td><b>Rate</b></td></tr>\n",
       "<tr><td>0</td>\n",
       "<td>2383.0</td>\n",
       "<td>1829.0</td>\n",
       "<td>0.4342</td>\n",
       "<td> (1829.0/4212.0)</td></tr>\n",
       "<tr><td>1</td>\n",
       "<td>499.0</td>\n",
       "<td>6441.0</td>\n",
       "<td>0.0719</td>\n",
       "<td> (499.0/6940.0)</td></tr>\n",
       "<tr><td>Total</td>\n",
       "<td>2882.0</td>\n",
       "<td>8270.0</td>\n",
       "<td>0.2088</td>\n",
       "<td> (2328.0/11152.0)</td></tr></table></div>"
      ],
      "text/plain": [
       "       0     1     Error    Rate\n",
       "-----  ----  ----  -------  ----------------\n",
       "0      2383  1829  0.4342   (1829.0/4212.0)\n",
       "1      499   6441  0.0719   (499.0/6940.0)\n",
       "Total  2882  8270  0.2088   (2328.0/11152.0)"
      ]
     },
     "metadata": {},
     "output_type": "display_data"
    },
    {
     "data": {
      "text/plain": []
     },
     "execution_count": 179,
     "metadata": {},
     "output_type": "execute_result"
    }
   ],
   "source": [
    "glm_logistic_plus_summary.confusion_matrix(valid = True)"
   ]
  },
  {
   "cell_type": "markdown",
   "metadata": {},
   "source": [
    "## 2.3 Decision Tree"
   ]
  },
  {
   "cell_type": "code",
   "execution_count": 180,
   "metadata": {},
   "outputs": [],
   "source": [
    "from h2o.estimators.random_forest import H2ORandomForestEstimator # for single tree\n",
    "# in-notebook display\n",
    "from IPython.display import Image\n",
    "from IPython.display import display\n",
    "%matplotlib inline"
   ]
  },
  {
   "cell_type": "markdown",
   "metadata": {},
   "source": [
    "### 2.3.1 Train & Fit Model"
   ]
  },
  {
   "cell_type": "code",
   "execution_count": 181,
   "metadata": {},
   "outputs": [],
   "source": [
    "predictors = ['ProductId', 'UserId', 'HelpfulnessNumerator', 'HelpfulnessDenominator', 'Time'] + review_vecs.names + summary_vecs.names\n",
    "response = 'PositiveReview'"
   ]
  },
  {
   "cell_type": "code",
   "execution_count": 182,
   "metadata": {},
   "outputs": [
    {
     "name": "stdout",
     "output_type": "stream",
     "text": [
      "gbm Model Build progress: |███████████████████████████████████████████████| 100%\n"
     ]
    }
   ],
   "source": [
    "# initialize single tree surrogate model\n",
    "model_id = 'dt_surrogate_mojo'\n",
    "\n",
    "# train single tree surrogate model\n",
    "surrogate = H2OGradientBoostingEstimator(ntrees=1,\n",
    "                                         sample_rate=1,\n",
    "                                         col_sample_rate=1,\n",
    "                                         max_depth=3,\n",
    "                                         seed=12345,\n",
    "                                         model_id=model_id)\n",
    "\n",
    "_ = surrogate.train(x=predictors, y=response, training_frame=ext_train_new)"
   ]
  },
  {
   "cell_type": "markdown",
   "metadata": {},
   "source": [
    "### 2.3.2 Interpretability"
   ]
  },
  {
   "cell_type": "markdown",
   "metadata": {},
   "source": [
    "### 2.3.3 Matrix"
   ]
  },
  {
   "cell_type": "code",
   "execution_count": 183,
   "metadata": {},
   "outputs": [
    {
     "name": "stdout",
     "output_type": "stream",
     "text": [
      "Model Details\n",
      "=============\n",
      "H2OGradientBoostingEstimator :  Gradient Boosting Machine\n",
      "Model Key:  dt_surrogate_mojo\n",
      "\n",
      "\n",
      "ModelMetricsBinomial: gbm\n",
      "** Reported on train data. **\n",
      "\n",
      "MSE: 0.2243490810149944\n",
      "RMSE: 0.47365502321309166\n",
      "LogLoss: 0.6403868260777803\n",
      "Mean Per-Class Error: 0.3404879658310178\n",
      "AUC: 0.7002122496010603\n",
      "pr_auc: 0.5469332774467338\n",
      "Gini: 0.40042449920212064\n",
      "Confusion Matrix (Act/Pred) for max f1 @ threshold = 0.6306127942269008: \n"
     ]
    },
    {
     "data": {
      "text/html": [
       "<div style=\"overflow:auto\"><table style=\"width:50%\"><tr><td><b></b></td>\n",
       "<td><b>0</b></td>\n",
       "<td><b>1</b></td>\n",
       "<td><b>Error</b></td>\n",
       "<td><b>Rate</b></td></tr>\n",
       "<tr><td>0</td>\n",
       "<td>3105.0</td>\n",
       "<td>12789.0</td>\n",
       "<td>0.8046</td>\n",
       "<td> (12789.0/15894.0)</td></tr>\n",
       "<tr><td>1</td>\n",
       "<td>1183.0</td>\n",
       "<td>27325.0</td>\n",
       "<td>0.0415</td>\n",
       "<td> (1183.0/28508.0)</td></tr>\n",
       "<tr><td>Total</td>\n",
       "<td>4288.0</td>\n",
       "<td>40114.0</td>\n",
       "<td>0.3147</td>\n",
       "<td> (13972.0/44402.0)</td></tr></table></div>"
      ],
      "text/plain": [
       "       0     1      Error    Rate\n",
       "-----  ----  -----  -------  -----------------\n",
       "0      3105  12789  0.8046   (12789.0/15894.0)\n",
       "1      1183  27325  0.0415   (1183.0/28508.0)\n",
       "Total  4288  40114  0.3147   (13972.0/44402.0)"
      ]
     },
     "metadata": {},
     "output_type": "display_data"
    },
    {
     "name": "stdout",
     "output_type": "stream",
     "text": [
      "Maximum Metrics: Maximum metrics at their respective thresholds\n",
      "\n"
     ]
    },
    {
     "data": {
      "text/html": [
       "<div style=\"overflow:auto\"><table style=\"width:50%\"><tr><td><b>metric</b></td>\n",
       "<td><b>threshold</b></td>\n",
       "<td><b>value</b></td>\n",
       "<td><b>idx</b></td></tr>\n",
       "<tr><td>max f1</td>\n",
       "<td>0.6306128</td>\n",
       "<td>0.7963918</td>\n",
       "<td>6.0</td></tr>\n",
       "<tr><td>max f2</td>\n",
       "<td>0.6046605</td>\n",
       "<td>0.8996806</td>\n",
       "<td>7.0</td></tr>\n",
       "<tr><td>max f0point5</td>\n",
       "<td>0.6482974</td>\n",
       "<td>0.7471640</td>\n",
       "<td>3.0</td></tr>\n",
       "<tr><td>max accuracy</td>\n",
       "<td>0.6306128</td>\n",
       "<td>0.6853295</td>\n",
       "<td>6.0</td></tr>\n",
       "<tr><td>max precision</td>\n",
       "<td>0.6620901</td>\n",
       "<td>0.8451599</td>\n",
       "<td>0.0</td></tr>\n",
       "<tr><td>max recall</td>\n",
       "<td>0.6046605</td>\n",
       "<td>1.0</td>\n",
       "<td>7.0</td></tr>\n",
       "<tr><td>max specificity</td>\n",
       "<td>0.6620901</td>\n",
       "<td>0.9065056</td>\n",
       "<td>0.0</td></tr>\n",
       "<tr><td>max absolute_mcc</td>\n",
       "<td>0.6482974</td>\n",
       "<td>0.3059479</td>\n",
       "<td>3.0</td></tr>\n",
       "<tr><td>max min_per_class_accuracy</td>\n",
       "<td>0.6482974</td>\n",
       "<td>0.6247369</td>\n",
       "<td>3.0</td></tr>\n",
       "<tr><td>max mean_per_class_accuracy</td>\n",
       "<td>0.6482974</td>\n",
       "<td>0.6595120</td>\n",
       "<td>3.0</td></tr></table></div>"
      ],
      "text/plain": [
       "metric                       threshold    value     idx\n",
       "---------------------------  -----------  --------  -----\n",
       "max f1                       0.630613     0.796392  6\n",
       "max f2                       0.604661     0.899681  7\n",
       "max f0point5                 0.648297     0.747164  3\n",
       "max accuracy                 0.630613     0.685329  6\n",
       "max precision                0.66209      0.84516   0\n",
       "max recall                   0.604661     1         7\n",
       "max specificity              0.66209      0.906506  0\n",
       "max absolute_mcc             0.648297     0.305948  3\n",
       "max min_per_class_accuracy   0.648297     0.624737  3\n",
       "max mean_per_class_accuracy  0.648297     0.659512  3"
      ]
     },
     "metadata": {},
     "output_type": "display_data"
    },
    {
     "name": "stdout",
     "output_type": "stream",
     "text": [
      "Gains/Lift Table: Avg response rate: 64.20 %, avg score: 64.19 %\n",
      "\n"
     ]
    },
    {
     "data": {
      "text/html": [
       "<div style=\"overflow:auto\"><table style=\"width:50%\"><tr><td><b></b></td>\n",
       "<td><b>group</b></td>\n",
       "<td><b>cumulative_data_fraction</b></td>\n",
       "<td><b>lower_threshold</b></td>\n",
       "<td><b>lift</b></td>\n",
       "<td><b>cumulative_lift</b></td>\n",
       "<td><b>response_rate</b></td>\n",
       "<td><b>score</b></td>\n",
       "<td><b>cumulative_response_rate</b></td>\n",
       "<td><b>cumulative_score</b></td>\n",
       "<td><b>capture_rate</b></td>\n",
       "<td><b>cumulative_capture_rate</b></td>\n",
       "<td><b>gain</b></td>\n",
       "<td><b>cumulative_gain</b></td></tr>\n",
       "<tr><td></td>\n",
       "<td>1</td>\n",
       "<td>0.2161389</td>\n",
       "<td>0.6620901</td>\n",
       "<td>1.3163600</td>\n",
       "<td>1.3163600</td>\n",
       "<td>0.8451599</td>\n",
       "<td>0.6620901</td>\n",
       "<td>0.8451599</td>\n",
       "<td>0.6620901</td>\n",
       "<td>0.2845166</td>\n",
       "<td>0.2845166</td>\n",
       "<td>31.6360036</td>\n",
       "<td>31.6360036</td></tr>\n",
       "<tr><td></td>\n",
       "<td>2</td>\n",
       "<td>0.4462186</td>\n",
       "<td>0.6528164</td>\n",
       "<td>1.1718048</td>\n",
       "<td>1.2418243</td>\n",
       "<td>0.7523493</td>\n",
       "<td>0.6529969</td>\n",
       "<td>0.7973048</td>\n",
       "<td>0.6574015</td>\n",
       "<td>0.2696085</td>\n",
       "<td>0.5541252</td>\n",
       "<td>17.1804815</td>\n",
       "<td>24.1824320</td></tr>\n",
       "<tr><td></td>\n",
       "<td>3</td>\n",
       "<td>0.5105401</td>\n",
       "<td>0.6482974</td>\n",
       "<td>1.0977953</td>\n",
       "<td>1.2236785</td>\n",
       "<td>0.7048319</td>\n",
       "<td>0.6482974</td>\n",
       "<td>0.7856544</td>\n",
       "<td>0.6562545</td>\n",
       "<td>0.0706118</td>\n",
       "<td>0.6247369</td>\n",
       "<td>9.7795267</td>\n",
       "<td>22.3678528</td></tr>\n",
       "<tr><td></td>\n",
       "<td>4</td>\n",
       "<td>0.7076933</td>\n",
       "<td>0.6337028</td>\n",
       "<td>0.8707494</td>\n",
       "<td>1.1253575</td>\n",
       "<td>0.5590587</td>\n",
       "<td>0.6337028</td>\n",
       "<td>0.7225281</td>\n",
       "<td>0.6499719</td>\n",
       "<td>0.1716711</td>\n",
       "<td>0.7964080</td>\n",
       "<td>-12.9250557</td>\n",
       "<td>12.5357514</td></tr>\n",
       "<tr><td></td>\n",
       "<td>5</td>\n",
       "<td>0.9034278</td>\n",
       "<td>0.6306128</td>\n",
       "<td>0.8281366</td>\n",
       "<td>1.0609624</td>\n",
       "<td>0.5316995</td>\n",
       "<td>0.6309350</td>\n",
       "<td>0.6811836</td>\n",
       "<td>0.6458474</td>\n",
       "<td>0.1620949</td>\n",
       "<td>0.9585029</td>\n",
       "<td>-17.1863358</td>\n",
       "<td>6.0962375</td></tr>\n",
       "<tr><td></td>\n",
       "<td>6</td>\n",
       "<td>1.0</td>\n",
       "<td>0.6046605</td>\n",
       "<td>0.4297004</td>\n",
       "<td>1.0</td>\n",
       "<td>0.2758862</td>\n",
       "<td>0.6046605</td>\n",
       "<td>0.6420432</td>\n",
       "<td>0.6418699</td>\n",
       "<td>0.0414971</td>\n",
       "<td>1.0</td>\n",
       "<td>-57.0299608</td>\n",
       "<td>0.0</td></tr></table></div>"
      ],
      "text/plain": [
       "    group    cumulative_data_fraction    lower_threshold    lift      cumulative_lift    response_rate    score     cumulative_response_rate    cumulative_score    capture_rate    cumulative_capture_rate    gain      cumulative_gain\n",
       "--  -------  --------------------------  -----------------  --------  -----------------  ---------------  --------  --------------------------  ------------------  --------------  -------------------------  --------  -----------------\n",
       "    1        0.216139                    0.66209            1.31636   1.31636            0.84516          0.66209   0.84516                     0.66209             0.284517        0.284517                   31.636    31.636\n",
       "    2        0.446219                    0.652816           1.1718    1.24182            0.752349         0.652997  0.797305                    0.657401            0.269609        0.554125                   17.1805   24.1824\n",
       "    3        0.51054                     0.648297           1.0978    1.22368            0.704832         0.648297  0.785654                    0.656254            0.0706118       0.624737                   9.77953   22.3679\n",
       "    4        0.707693                    0.633703           0.870749  1.12536            0.559059         0.633703  0.722528                    0.649972            0.171671        0.796408                   -12.9251  12.5358\n",
       "    5        0.903428                    0.630613           0.828137  1.06096            0.531699         0.630935  0.681184                    0.645847            0.162095        0.958503                   -17.1863  6.09624\n",
       "    6        1                           0.604661           0.4297    1                  0.275886         0.604661  0.642043                    0.64187             0.0414971       1                          -57.03    0"
      ]
     },
     "metadata": {},
     "output_type": "display_data"
    },
    {
     "name": "stdout",
     "output_type": "stream",
     "text": [
      "\n",
      "Scoring History: \n"
     ]
    },
    {
     "data": {
      "text/html": [
       "<div style=\"overflow:auto\"><table style=\"width:50%\"><tr><td><b></b></td>\n",
       "<td><b>timestamp</b></td>\n",
       "<td><b>duration</b></td>\n",
       "<td><b>number_of_trees</b></td>\n",
       "<td><b>training_rmse</b></td>\n",
       "<td><b>training_logloss</b></td>\n",
       "<td><b>training_auc</b></td>\n",
       "<td><b>training_pr_auc</b></td>\n",
       "<td><b>training_lift</b></td>\n",
       "<td><b>training_classification_error</b></td></tr>\n",
       "<tr><td></td>\n",
       "<td>2019-04-22 05:00:54</td>\n",
       "<td> 0.010 sec</td>\n",
       "<td>0.0</td>\n",
       "<td>0.4793994</td>\n",
       "<td>0.6522336</td>\n",
       "<td>0.5</td>\n",
       "<td>0.0</td>\n",
       "<td>1.0</td>\n",
       "<td>0.3579568</td></tr>\n",
       "<tr><td></td>\n",
       "<td>2019-04-22 05:00:55</td>\n",
       "<td> 0.400 sec</td>\n",
       "<td>1.0</td>\n",
       "<td>0.4736550</td>\n",
       "<td>0.6403868</td>\n",
       "<td>0.7002122</td>\n",
       "<td>0.5469333</td>\n",
       "<td>1.3163600</td>\n",
       "<td>0.3146705</td></tr></table></div>"
      ],
      "text/plain": [
       "    timestamp            duration    number_of_trees    training_rmse    training_logloss    training_auc    training_pr_auc    training_lift    training_classification_error\n",
       "--  -------------------  ----------  -----------------  ---------------  ------------------  --------------  -----------------  ---------------  -------------------------------\n",
       "    2019-04-22 05:00:54  0.010 sec   0                  0.479399         0.652234            0.5             0                  1                0.357957\n",
       "    2019-04-22 05:00:55  0.400 sec   1                  0.473655         0.640387            0.700212        0.546933           1.31636          0.314671"
      ]
     },
     "metadata": {},
     "output_type": "display_data"
    },
    {
     "name": "stdout",
     "output_type": "stream",
     "text": [
      "Variable Importances: \n"
     ]
    },
    {
     "data": {
      "text/html": [
       "<div style=\"overflow:auto\"><table style=\"width:50%\"><tr><td><b>variable</b></td>\n",
       "<td><b>relative_importance</b></td>\n",
       "<td><b>scaled_importance</b></td>\n",
       "<td><b>percentage</b></td></tr>\n",
       "<tr><td>C22</td>\n",
       "<td>458.4889832</td>\n",
       "<td>1.0</td>\n",
       "<td>0.3602207</td></tr>\n",
       "<tr><td>summary_C89</td>\n",
       "<td>372.2006226</td>\n",
       "<td>0.8117984</td>\n",
       "<td>0.2924266</td></tr>\n",
       "<tr><td>summary_C48</td>\n",
       "<td>253.5211792</td>\n",
       "<td>0.5529493</td>\n",
       "<td>0.1991838</td></tr>\n",
       "<tr><td>summary_C13</td>\n",
       "<td>145.2473450</td>\n",
       "<td>0.3167957</td>\n",
       "<td>0.1141164</td></tr>\n",
       "<tr><td>summary_C97</td>\n",
       "<td>43.3419533</td>\n",
       "<td>0.0945322</td>\n",
       "<td>0.0340524</td></tr>\n",
       "<tr><td>---</td>\n",
       "<td>---</td>\n",
       "<td>---</td>\n",
       "<td>---</td></tr>\n",
       "<tr><td>summary_C95</td>\n",
       "<td>0.0</td>\n",
       "<td>0.0</td>\n",
       "<td>0.0</td></tr>\n",
       "<tr><td>summary_C96</td>\n",
       "<td>0.0</td>\n",
       "<td>0.0</td>\n",
       "<td>0.0</td></tr>\n",
       "<tr><td>summary_C98</td>\n",
       "<td>0.0</td>\n",
       "<td>0.0</td>\n",
       "<td>0.0</td></tr>\n",
       "<tr><td>summary_C99</td>\n",
       "<td>0.0</td>\n",
       "<td>0.0</td>\n",
       "<td>0.0</td></tr>\n",
       "<tr><td>summary_C100</td>\n",
       "<td>0.0</td>\n",
       "<td>0.0</td>\n",
       "<td>0.0</td></tr></table></div>"
      ],
      "text/plain": [
       "variable      relative_importance    scaled_importance    percentage\n",
       "------------  ---------------------  -------------------  -------------------\n",
       "C22           458.4889831542969      1.0                  0.36022073632793544\n",
       "summary_C89   372.20062255859375     0.8117983991631393   0.2924266170963853\n",
       "summary_C48   253.52117919921875     0.5529493368740344   0.19918381728080825\n",
       "summary_C13   145.24734497070312     0.31679571441703     0.11411638551283691\n",
       "summary_C97   43.34195327758789      0.09453215861241725  0.03405244378203412\n",
       "---           ---                    ---                  ---\n",
       "summary_C95   0.0                    0.0                  0.0\n",
       "summary_C96   0.0                    0.0                  0.0\n",
       "summary_C98   0.0                    0.0                  0.0\n",
       "summary_C99   0.0                    0.0                  0.0\n",
       "summary_C100  0.0                    0.0                  0.0"
      ]
     },
     "metadata": {},
     "output_type": "display_data"
    },
    {
     "name": "stdout",
     "output_type": "stream",
     "text": [
      "\n",
      "See the whole table with table.as_data_frame()\n",
      "\n"
     ]
    }
   ],
   "source": [
    "print(surrogate)"
   ]
  },
  {
   "cell_type": "markdown",
   "metadata": {},
   "source": [
    "## 2.4 Gradient Boosting"
   ]
  },
  {
   "cell_type": "markdown",
   "metadata": {},
   "source": [
    "### 2.4.1 Train & Fit Model"
   ]
  },
  {
   "cell_type": "code",
   "execution_count": 184,
   "metadata": {},
   "outputs": [
    {
     "name": "stdout",
     "output_type": "stream",
     "text": [
      "gbm Model Build progress: |███████████████████████████████████████████████| 100%\n"
     ]
    }
   ],
   "source": [
    "gbm = H2OGradientBoostingEstimator(stopping_metric = \"AUC\",\n",
    "                                           stopping_tolerance = 0.001,\n",
    "                                           stopping_rounds = 5, \n",
    "                                           score_tree_interval = 10, \n",
    "                                           model_id = 'gbm.hex')\n",
    "gbm.train(x = predictors, \n",
    "                   y = response,\n",
    "                  training_frame = ext_train_new,\n",
    "                  validation_frame = ext_test_new)"
   ]
  },
  {
   "cell_type": "markdown",
   "metadata": {},
   "source": [
    "### 2.4.2 Interpretability"
   ]
  },
  {
   "cell_type": "code",
   "execution_count": 185,
   "metadata": {},
   "outputs": [
    {
     "data": {
      "image/png": "[encoded data removed]",
      "text/plain": [
       "<Figure size 1008x720 with 1 Axes>"
      ]
     },
     "metadata": {
      "needs_background": "light"
     },
     "output_type": "display_data"
    }
   ],
   "source": [
    "gbm.varimp_plot()"
   ]
  },
  {
   "cell_type": "code",
   "execution_count": 187,
   "metadata": {
    "scrolled": false
   },
   "outputs": [
    {
     "name": "stdout",
     "output_type": "stream",
     "text": [
      "PartialDependencePlot progress: |█████████████████████████████████████████| 100%\n"
     ]
    },
    {
     "data": {
      "image/png": "[encoded data removed]",
      "text/plain": [
       "<Figure size 504x720 with 1 Axes>"
      ]
     },
     "metadata": {
      "needs_background": "light"
     },
     "output_type": "display_data"
    }
   ],
   "source": [
    "pdp_helpfulness = gbm.partial_plot(ext_train_new, cols = ['C22'])"
   ]
  },
  {
   "cell_type": "code",
   "execution_count": 198,
   "metadata": {},
   "outputs": [
    {
     "name": "stdout",
     "output_type": "stream",
     "text": [
      "glm prediction progress: |████████████████████████████████████████████████| 100%\n",
      "glm prediction progress: |████████████████████████████████████████████████| 100%\n",
      "glm prediction progress: |████████████████████████████████████████████████| 100%\n",
      "glm prediction progress: |████████████████████████████████████████████████| 100%\n",
      "glm prediction progress: |████████████████████████████████████████████████| 100%\n",
      "glm prediction progress: |████████████████████████████████████████████████| 100%\n",
      "glm prediction progress: |████████████████████████████████████████████████| 100%\n",
      "glm prediction progress: |████████████████████████████████████████████████| 100%\n",
      "glm prediction progress: |████████████████████████████████████████████████| 100%\n",
      "glm prediction progress: |████████████████████████████████████████████████| 100%\n",
      "glm prediction progress: |████████████████████████████████████████████████| 100%\n",
      "glm prediction progress: |████████████████████████████████████████████████| 100%\n",
      "glm prediction progress: |████████████████████████████████████████████████| 100%\n",
      "glm prediction progress: |████████████████████████████████████████████████| 100%\n",
      "glm prediction progress: |████████████████████████████████████████████████| 100%\n",
      "glm prediction progress: |████████████████████████████████████████████████| 100%\n",
      "glm prediction progress: |████████████████████████████████████████████████| 100%\n",
      "glm prediction progress: |████████████████████████████████████████████████| 100%\n",
      "glm prediction progress: |████████████████████████████████████████████████| 100%\n",
      "glm prediction progress: |████████████████████████████████████████████████| 100%\n"
     ]
    }
   ],
   "source": [
    "par_dep_HelpfulnessNumerator = par_dep('C22', ext_test_new, local_glm_plus)"
   ]
  },
  {
   "cell_type": "code",
   "execution_count": 202,
   "metadata": {},
   "outputs": [
    {
     "ename": "H2OResponseError",
     "evalue": "Server error java.lang.IllegalArgumentException:\n  Error: Row slicing requires a number-list as the last argument, but found a class water.rapids.ast.params.AstStr\n  Request: POST /99/Rapids\n    data: {'ast': \"(tmp= py_578_sid_803f (rows (cols_py py_574_sid_803f 'Id') 'PositiveReview'))\", 'session_id': '_sid_803f'}\n",
     "output_type": "error",
     "traceback": [
      "\u001b[0;31m---------------------------------------------------------------------------\u001b[0m",
      "\u001b[0;31mH2OResponseError\u001b[0m                          Traceback (most recent call last)",
      "\u001b[0;32m<ipython-input-202-4dc329290830>\u001b[0m in \u001b[0;36m<module>\u001b[0;34m\u001b[0m\n\u001b[0;32m----> 1\u001b[0;31m \u001b[0mquantile_dict\u001b[0m \u001b[0;34m=\u001b[0m \u001b[0mget_quantile_dict\u001b[0m\u001b[0;34m(\u001b[0m\u001b[0;34m'PositiveReview'\u001b[0m\u001b[0;34m,\u001b[0m \u001b[0;34m'Id'\u001b[0m\u001b[0;34m,\u001b[0m \u001b[0mext_test_new\u001b[0m\u001b[0;34m)\u001b[0m\u001b[0;34m\u001b[0m\u001b[0;34m\u001b[0m\u001b[0m\n\u001b[0m",
      "\u001b[0;32m<ipython-input-197-804bd7163494>\u001b[0m in \u001b[0;36mget_quantile_dict\u001b[0;34m(y, id_, frame)\u001b[0m\n\u001b[1;32m     13\u001b[0m     \"\"\"\n\u001b[1;32m     14\u001b[0m     \u001b[0mframe1\u001b[0m \u001b[0;34m=\u001b[0m \u001b[0mframe\u001b[0m\u001b[0;34m[\u001b[0m\u001b[0my\u001b[0m\u001b[0;34m,\u001b[0m \u001b[0mid_\u001b[0m\u001b[0;34m]\u001b[0m\u001b[0;34m\u001b[0m\u001b[0;34m\u001b[0m\u001b[0m\n\u001b[0;32m---> 15\u001b[0;31m     \u001b[0mquantiles_df\u001b[0m \u001b[0;34m=\u001b[0m \u001b[0mframe1\u001b[0m\u001b[0;34m.\u001b[0m\u001b[0mas_data_frame\u001b[0m\u001b[0;34m(\u001b[0m\u001b[0;34m)\u001b[0m\u001b[0;34m\u001b[0m\u001b[0;34m\u001b[0m\u001b[0m\n\u001b[0m\u001b[1;32m     16\u001b[0m     \u001b[0mquantiles_df\u001b[0m\u001b[0;34m.\u001b[0m\u001b[0msort_values\u001b[0m\u001b[0;34m(\u001b[0m\u001b[0my\u001b[0m\u001b[0;34m,\u001b[0m \u001b[0minplace\u001b[0m\u001b[0;34m=\u001b[0m\u001b[0;32mTrue\u001b[0m\u001b[0;34m)\u001b[0m\u001b[0;34m\u001b[0m\u001b[0;34m\u001b[0m\u001b[0m\n\u001b[1;32m     17\u001b[0m     \u001b[0mquantiles_df\u001b[0m\u001b[0;34m.\u001b[0m\u001b[0mreset_index\u001b[0m\u001b[0;34m(\u001b[0m\u001b[0minplace\u001b[0m\u001b[0;34m=\u001b[0m\u001b[0;32mTrue\u001b[0m\u001b[0;34m)\u001b[0m\u001b[0;34m\u001b[0m\u001b[0;34m\u001b[0m\u001b[0m\n",
      "\u001b[0;32m/anaconda3/lib/python3.7/site-packages/h2o/frame.py\u001b[0m in \u001b[0;36mas_data_frame\u001b[0;34m(self, use_pandas, header)\u001b[0m\n\u001b[1;32m   1299\u001b[0m         \u001b[0;32mif\u001b[0m \u001b[0mcan_use_pandas\u001b[0m\u001b[0;34m(\u001b[0m\u001b[0;34m)\u001b[0m \u001b[0;32mand\u001b[0m \u001b[0muse_pandas\u001b[0m\u001b[0;34m:\u001b[0m\u001b[0;34m\u001b[0m\u001b[0;34m\u001b[0m\u001b[0m\n\u001b[1;32m   1300\u001b[0m             \u001b[0;32mimport\u001b[0m \u001b[0mpandas\u001b[0m\u001b[0;34m\u001b[0m\u001b[0;34m\u001b[0m\u001b[0m\n\u001b[0;32m-> 1301\u001b[0;31m             \u001b[0;32mreturn\u001b[0m \u001b[0mpandas\u001b[0m\u001b[0;34m.\u001b[0m\u001b[0mread_csv\u001b[0m\u001b[0;34m(\u001b[0m\u001b[0mStringIO\u001b[0m\u001b[0;34m(\u001b[0m\u001b[0mself\u001b[0m\u001b[0;34m.\u001b[0m\u001b[0mget_frame_data\u001b[0m\u001b[0;34m(\u001b[0m\u001b[0;34m)\u001b[0m\u001b[0;34m)\u001b[0m\u001b[0;34m,\u001b[0m \u001b[0mlow_memory\u001b[0m\u001b[0;34m=\u001b[0m\u001b[0;32mFalse\u001b[0m\u001b[0;34m,\u001b[0m \u001b[0mskip_blank_lines\u001b[0m\u001b[0;34m=\u001b[0m\u001b[0;32mFalse\u001b[0m\u001b[0;34m)\u001b[0m\u001b[0;34m\u001b[0m\u001b[0;34m\u001b[0m\u001b[0m\n\u001b[0m\u001b[1;32m   1302\u001b[0m         \u001b[0mframe\u001b[0m \u001b[0;34m=\u001b[0m \u001b[0;34m[\u001b[0m\u001b[0mrow\u001b[0m \u001b[0;32mfor\u001b[0m \u001b[0mrow\u001b[0m \u001b[0;32min\u001b[0m \u001b[0mcsv\u001b[0m\u001b[0;34m.\u001b[0m\u001b[0mreader\u001b[0m\u001b[0;34m(\u001b[0m\u001b[0mStringIO\u001b[0m\u001b[0;34m(\u001b[0m\u001b[0mself\u001b[0m\u001b[0;34m.\u001b[0m\u001b[0mget_frame_data\u001b[0m\u001b[0;34m(\u001b[0m\u001b[0;34m)\u001b[0m\u001b[0;34m)\u001b[0m\u001b[0;34m)\u001b[0m\u001b[0;34m]\u001b[0m\u001b[0;34m\u001b[0m\u001b[0;34m\u001b[0m\u001b[0m\n\u001b[1;32m   1303\u001b[0m         \u001b[0;32mif\u001b[0m \u001b[0;32mnot\u001b[0m \u001b[0mheader\u001b[0m\u001b[0;34m:\u001b[0m\u001b[0;34m\u001b[0m\u001b[0;34m\u001b[0m\u001b[0m\n",
      "\u001b[0;32m/anaconda3/lib/python3.7/site-packages/h2o/frame.py\u001b[0m in \u001b[0;36mget_frame_data\u001b[0;34m(self)\u001b[0m\n\u001b[1;32m   1313\u001b[0m         \u001b[0mindividual\u001b[0m \u001b[0mvalues\u001b[0m \u001b[0mseparated\u001b[0m \u001b[0mby\u001b[0m \u001b[0mcommas\u001b[0m\u001b[0;34m.\u001b[0m\u001b[0;34m\u001b[0m\u001b[0;34m\u001b[0m\u001b[0m\n\u001b[1;32m   1314\u001b[0m         \"\"\"\n\u001b[0;32m-> 1315\u001b[0;31m         \u001b[0;32mreturn\u001b[0m \u001b[0mh2o\u001b[0m\u001b[0;34m.\u001b[0m\u001b[0mapi\u001b[0m\u001b[0;34m(\u001b[0m\u001b[0;34m\"GET /3/DownloadDataset\"\u001b[0m\u001b[0;34m,\u001b[0m \u001b[0mdata\u001b[0m\u001b[0;34m=\u001b[0m\u001b[0;34m{\u001b[0m\u001b[0;34m\"frame_id\"\u001b[0m\u001b[0;34m:\u001b[0m \u001b[0mself\u001b[0m\u001b[0;34m.\u001b[0m\u001b[0mframe_id\u001b[0m\u001b[0;34m,\u001b[0m \u001b[0;34m\"hex_string\"\u001b[0m\u001b[0;34m:\u001b[0m \u001b[0;32mFalse\u001b[0m\u001b[0;34m}\u001b[0m\u001b[0;34m)\u001b[0m\u001b[0;34m\u001b[0m\u001b[0;34m\u001b[0m\u001b[0m\n\u001b[0m\u001b[1;32m   1316\u001b[0m \u001b[0;34m\u001b[0m\u001b[0m\n\u001b[1;32m   1317\u001b[0m \u001b[0;34m\u001b[0m\u001b[0m\n",
      "\u001b[0;32m/anaconda3/lib/python3.7/site-packages/h2o/frame.py\u001b[0m in \u001b[0;36mframe_id\u001b[0;34m(self)\u001b[0m\n\u001b[1;32m    274\u001b[0m     \u001b[0;32mdef\u001b[0m \u001b[0mframe_id\u001b[0m\u001b[0;34m(\u001b[0m\u001b[0mself\u001b[0m\u001b[0;34m)\u001b[0m\u001b[0;34m:\u001b[0m\u001b[0;34m\u001b[0m\u001b[0;34m\u001b[0m\u001b[0m\n\u001b[1;32m    275\u001b[0m         \u001b[0;34m\"\"\"Internal id of the frame (str).\"\"\"\u001b[0m\u001b[0;34m\u001b[0m\u001b[0;34m\u001b[0m\u001b[0m\n\u001b[0;32m--> 276\u001b[0;31m         \u001b[0;32mreturn\u001b[0m \u001b[0mself\u001b[0m\u001b[0;34m.\u001b[0m\u001b[0m_frame\u001b[0m\u001b[0;34m(\u001b[0m\u001b[0;34m)\u001b[0m\u001b[0;34m.\u001b[0m\u001b[0m_ex\u001b[0m\u001b[0;34m.\u001b[0m\u001b[0m_cache\u001b[0m\u001b[0;34m.\u001b[0m\u001b[0m_id\u001b[0m\u001b[0;34m\u001b[0m\u001b[0;34m\u001b[0m\u001b[0m\n\u001b[0m\u001b[1;32m    277\u001b[0m \u001b[0;34m\u001b[0m\u001b[0m\n\u001b[1;32m    278\u001b[0m     \u001b[0;34m@\u001b[0m\u001b[0mframe_id\u001b[0m\u001b[0;34m.\u001b[0m\u001b[0msetter\u001b[0m\u001b[0;34m\u001b[0m\u001b[0;34m\u001b[0m\u001b[0m\n",
      "\u001b[0;32m/anaconda3/lib/python3.7/site-packages/h2o/frame.py\u001b[0m in \u001b[0;36m_frame\u001b[0;34m(self, rows, rows_offset, cols, cols_offset, fill_cache)\u001b[0m\n\u001b[1;32m    506\u001b[0m \u001b[0;34m\u001b[0m\u001b[0m\n\u001b[1;32m    507\u001b[0m     \u001b[0;32mdef\u001b[0m \u001b[0m_frame\u001b[0m\u001b[0;34m(\u001b[0m\u001b[0mself\u001b[0m\u001b[0;34m,\u001b[0m \u001b[0mrows\u001b[0m\u001b[0;34m=\u001b[0m\u001b[0;36m10\u001b[0m\u001b[0;34m,\u001b[0m \u001b[0mrows_offset\u001b[0m\u001b[0;34m=\u001b[0m\u001b[0;36m0\u001b[0m\u001b[0;34m,\u001b[0m \u001b[0mcols\u001b[0m\u001b[0;34m=\u001b[0m\u001b[0;34m-\u001b[0m\u001b[0;36m1\u001b[0m\u001b[0;34m,\u001b[0m \u001b[0mcols_offset\u001b[0m\u001b[0;34m=\u001b[0m\u001b[0;36m0\u001b[0m\u001b[0;34m,\u001b[0m \u001b[0mfill_cache\u001b[0m\u001b[0;34m=\u001b[0m\u001b[0;32mFalse\u001b[0m\u001b[0;34m)\u001b[0m\u001b[0;34m:\u001b[0m\u001b[0;34m\u001b[0m\u001b[0;34m\u001b[0m\u001b[0m\n\u001b[0;32m--> 508\u001b[0;31m         \u001b[0mself\u001b[0m\u001b[0;34m.\u001b[0m\u001b[0m_ex\u001b[0m\u001b[0;34m.\u001b[0m\u001b[0m_eager_frame\u001b[0m\u001b[0;34m(\u001b[0m\u001b[0;34m)\u001b[0m\u001b[0;34m\u001b[0m\u001b[0;34m\u001b[0m\u001b[0m\n\u001b[0m\u001b[1;32m    509\u001b[0m         \u001b[0;32mif\u001b[0m \u001b[0mfill_cache\u001b[0m\u001b[0;34m:\u001b[0m\u001b[0;34m\u001b[0m\u001b[0;34m\u001b[0m\u001b[0m\n\u001b[1;32m    510\u001b[0m             \u001b[0mself\u001b[0m\u001b[0;34m.\u001b[0m\u001b[0m_ex\u001b[0m\u001b[0;34m.\u001b[0m\u001b[0m_cache\u001b[0m\u001b[0;34m.\u001b[0m\u001b[0mfill\u001b[0m\u001b[0;34m(\u001b[0m\u001b[0mrows\u001b[0m\u001b[0;34m=\u001b[0m\u001b[0mrows\u001b[0m\u001b[0;34m,\u001b[0m \u001b[0mrows_offset\u001b[0m\u001b[0;34m=\u001b[0m\u001b[0mrows_offset\u001b[0m\u001b[0;34m,\u001b[0m \u001b[0mcols\u001b[0m\u001b[0;34m=\u001b[0m\u001b[0mcols\u001b[0m\u001b[0;34m,\u001b[0m \u001b[0mcols_offset\u001b[0m\u001b[0;34m=\u001b[0m\u001b[0mcols_offset\u001b[0m\u001b[0;34m)\u001b[0m\u001b[0;34m\u001b[0m\u001b[0;34m\u001b[0m\u001b[0m\n",
      "\u001b[0;32m/anaconda3/lib/python3.7/site-packages/h2o/expr.py\u001b[0m in \u001b[0;36m_eager_frame\u001b[0;34m(self)\u001b[0m\n\u001b[1;32m     93\u001b[0m         \u001b[0;32mif\u001b[0m \u001b[0;32mnot\u001b[0m \u001b[0mself\u001b[0m\u001b[0;34m.\u001b[0m\u001b[0m_cache\u001b[0m\u001b[0;34m.\u001b[0m\u001b[0mis_empty\u001b[0m\u001b[0;34m(\u001b[0m\u001b[0;34m)\u001b[0m\u001b[0;34m:\u001b[0m \u001b[0;32mreturn\u001b[0m\u001b[0;34m\u001b[0m\u001b[0;34m\u001b[0m\u001b[0m\n\u001b[1;32m     94\u001b[0m         \u001b[0;32mif\u001b[0m \u001b[0mself\u001b[0m\u001b[0;34m.\u001b[0m\u001b[0m_cache\u001b[0m\u001b[0;34m.\u001b[0m\u001b[0m_id\u001b[0m \u001b[0;32mis\u001b[0m \u001b[0;32mnot\u001b[0m \u001b[0;32mNone\u001b[0m\u001b[0;34m:\u001b[0m \u001b[0;32mreturn\u001b[0m  \u001b[0;31m# Data already computed under ID, but not cached locally\u001b[0m\u001b[0;34m\u001b[0m\u001b[0;34m\u001b[0m\u001b[0m\n\u001b[0;32m---> 95\u001b[0;31m         \u001b[0mself\u001b[0m\u001b[0;34m.\u001b[0m\u001b[0m_eval_driver\u001b[0m\u001b[0;34m(\u001b[0m\u001b[0;32mTrue\u001b[0m\u001b[0;34m)\u001b[0m\u001b[0;34m\u001b[0m\u001b[0;34m\u001b[0m\u001b[0m\n\u001b[0m\u001b[1;32m     96\u001b[0m \u001b[0;34m\u001b[0m\u001b[0m\n\u001b[1;32m     97\u001b[0m     \u001b[0;32mdef\u001b[0m \u001b[0m_eager_scalar\u001b[0m\u001b[0;34m(\u001b[0m\u001b[0mself\u001b[0m\u001b[0;34m)\u001b[0m\u001b[0;34m:\u001b[0m  \u001b[0;31m# returns a scalar (or a list of scalars)\u001b[0m\u001b[0;34m\u001b[0m\u001b[0;34m\u001b[0m\u001b[0m\n",
      "\u001b[0;32m/anaconda3/lib/python3.7/site-packages/h2o/expr.py\u001b[0m in \u001b[0;36m_eval_driver\u001b[0;34m(self, top)\u001b[0m\n\u001b[1;32m    111\u001b[0m     \u001b[0;32mdef\u001b[0m \u001b[0m_eval_driver\u001b[0m\u001b[0;34m(\u001b[0m\u001b[0mself\u001b[0m\u001b[0;34m,\u001b[0m \u001b[0mtop\u001b[0m\u001b[0;34m)\u001b[0m\u001b[0;34m:\u001b[0m\u001b[0;34m\u001b[0m\u001b[0;34m\u001b[0m\u001b[0m\n\u001b[1;32m    112\u001b[0m         \u001b[0mexec_str\u001b[0m \u001b[0;34m=\u001b[0m \u001b[0mself\u001b[0m\u001b[0;34m.\u001b[0m\u001b[0m_get_ast_str\u001b[0m\u001b[0;34m(\u001b[0m\u001b[0mtop\u001b[0m\u001b[0;34m)\u001b[0m\u001b[0;34m\u001b[0m\u001b[0;34m\u001b[0m\u001b[0m\n\u001b[0;32m--> 113\u001b[0;31m         \u001b[0mres\u001b[0m \u001b[0;34m=\u001b[0m \u001b[0mExprNode\u001b[0m\u001b[0;34m.\u001b[0m\u001b[0mrapids\u001b[0m\u001b[0;34m(\u001b[0m\u001b[0mexec_str\u001b[0m\u001b[0;34m)\u001b[0m\u001b[0;34m\u001b[0m\u001b[0;34m\u001b[0m\u001b[0m\n\u001b[0m\u001b[1;32m    114\u001b[0m         \u001b[0;32mif\u001b[0m \u001b[0;34m'scalar'\u001b[0m \u001b[0;32min\u001b[0m \u001b[0mres\u001b[0m\u001b[0;34m:\u001b[0m\u001b[0;34m\u001b[0m\u001b[0;34m\u001b[0m\u001b[0m\n\u001b[1;32m    115\u001b[0m             \u001b[0;32mif\u001b[0m \u001b[0misinstance\u001b[0m\u001b[0;34m(\u001b[0m\u001b[0mres\u001b[0m\u001b[0;34m[\u001b[0m\u001b[0;34m'scalar'\u001b[0m\u001b[0;34m]\u001b[0m\u001b[0;34m,\u001b[0m \u001b[0mlist\u001b[0m\u001b[0;34m)\u001b[0m\u001b[0;34m:\u001b[0m\u001b[0;34m\u001b[0m\u001b[0;34m\u001b[0m\u001b[0m\n",
      "\u001b[0;32m/anaconda3/lib/python3.7/site-packages/h2o/expr.py\u001b[0m in \u001b[0;36mrapids\u001b[0;34m(expr)\u001b[0m\n\u001b[1;32m    239\u001b[0m         \u001b[0;34m:\u001b[0m\u001b[0mreturns\u001b[0m\u001b[0;34m:\u001b[0m \u001b[0mThe\u001b[0m \u001b[0mJSON\u001b[0m \u001b[0mresponse\u001b[0m \u001b[0;34m(\u001b[0m\u001b[0;32mas\u001b[0m \u001b[0ma\u001b[0m \u001b[0mpython\u001b[0m \u001b[0mdictionary\u001b[0m\u001b[0;34m)\u001b[0m \u001b[0mof\u001b[0m \u001b[0mthe\u001b[0m \u001b[0mRapids\u001b[0m \u001b[0mexecution\u001b[0m\u001b[0;34m\u001b[0m\u001b[0;34m\u001b[0m\u001b[0m\n\u001b[1;32m    240\u001b[0m         \"\"\"\n\u001b[0;32m--> 241\u001b[0;31m         \u001b[0;32mreturn\u001b[0m \u001b[0mh2o\u001b[0m\u001b[0;34m.\u001b[0m\u001b[0mapi\u001b[0m\u001b[0;34m(\u001b[0m\u001b[0;34m\"POST /99/Rapids\"\u001b[0m\u001b[0;34m,\u001b[0m \u001b[0mdata\u001b[0m\u001b[0;34m=\u001b[0m\u001b[0;34m{\u001b[0m\u001b[0;34m\"ast\"\u001b[0m\u001b[0;34m:\u001b[0m \u001b[0mexpr\u001b[0m\u001b[0;34m,\u001b[0m \u001b[0;34m\"session_id\"\u001b[0m\u001b[0;34m:\u001b[0m \u001b[0mh2o\u001b[0m\u001b[0;34m.\u001b[0m\u001b[0mconnection\u001b[0m\u001b[0;34m(\u001b[0m\u001b[0;34m)\u001b[0m\u001b[0;34m.\u001b[0m\u001b[0msession_id\u001b[0m\u001b[0;34m}\u001b[0m\u001b[0;34m)\u001b[0m\u001b[0;34m\u001b[0m\u001b[0;34m\u001b[0m\u001b[0m\n\u001b[0m\u001b[1;32m    242\u001b[0m \u001b[0;34m\u001b[0m\u001b[0m\n\u001b[1;32m    243\u001b[0m \u001b[0;34m\u001b[0m\u001b[0m\n",
      "\u001b[0;32m/anaconda3/lib/python3.7/site-packages/h2o/h2o.py\u001b[0m in \u001b[0;36mapi\u001b[0;34m(endpoint, data, json, filename, save_to)\u001b[0m\n\u001b[1;32m    104\u001b[0m     \u001b[0;31m# type checks are performed in H2OConnection class\u001b[0m\u001b[0;34m\u001b[0m\u001b[0;34m\u001b[0m\u001b[0;34m\u001b[0m\u001b[0m\n\u001b[1;32m    105\u001b[0m     \u001b[0m_check_connection\u001b[0m\u001b[0;34m(\u001b[0m\u001b[0;34m)\u001b[0m\u001b[0;34m\u001b[0m\u001b[0;34m\u001b[0m\u001b[0m\n\u001b[0;32m--> 106\u001b[0;31m     \u001b[0;32mreturn\u001b[0m \u001b[0mh2oconn\u001b[0m\u001b[0;34m.\u001b[0m\u001b[0mrequest\u001b[0m\u001b[0;34m(\u001b[0m\u001b[0mendpoint\u001b[0m\u001b[0;34m,\u001b[0m \u001b[0mdata\u001b[0m\u001b[0;34m=\u001b[0m\u001b[0mdata\u001b[0m\u001b[0;34m,\u001b[0m \u001b[0mjson\u001b[0m\u001b[0;34m=\u001b[0m\u001b[0mjson\u001b[0m\u001b[0;34m,\u001b[0m \u001b[0mfilename\u001b[0m\u001b[0;34m=\u001b[0m\u001b[0mfilename\u001b[0m\u001b[0;34m,\u001b[0m \u001b[0msave_to\u001b[0m\u001b[0;34m=\u001b[0m\u001b[0msave_to\u001b[0m\u001b[0;34m)\u001b[0m\u001b[0;34m\u001b[0m\u001b[0;34m\u001b[0m\u001b[0m\n\u001b[0m\u001b[1;32m    107\u001b[0m \u001b[0;34m\u001b[0m\u001b[0m\n\u001b[1;32m    108\u001b[0m \u001b[0;34m\u001b[0m\u001b[0m\n",
      "\u001b[0;32m/anaconda3/lib/python3.7/site-packages/h2o/backend/connection.py\u001b[0m in \u001b[0;36mrequest\u001b[0;34m(self, endpoint, data, json, filename, save_to)\u001b[0m\n\u001b[1;32m    405\u001b[0m                                     auth=self._auth, verify=self._verify_ssl_cert, proxies=self._proxies)\n\u001b[1;32m    406\u001b[0m             \u001b[0mself\u001b[0m\u001b[0;34m.\u001b[0m\u001b[0m_log_end_transaction\u001b[0m\u001b[0;34m(\u001b[0m\u001b[0mstart_time\u001b[0m\u001b[0;34m,\u001b[0m \u001b[0mresp\u001b[0m\u001b[0;34m)\u001b[0m\u001b[0;34m\u001b[0m\u001b[0;34m\u001b[0m\u001b[0m\n\u001b[0;32m--> 407\u001b[0;31m             \u001b[0;32mreturn\u001b[0m \u001b[0mself\u001b[0m\u001b[0;34m.\u001b[0m\u001b[0m_process_response\u001b[0m\u001b[0;34m(\u001b[0m\u001b[0mresp\u001b[0m\u001b[0;34m,\u001b[0m \u001b[0msave_to\u001b[0m\u001b[0;34m)\u001b[0m\u001b[0;34m\u001b[0m\u001b[0;34m\u001b[0m\u001b[0m\n\u001b[0m\u001b[1;32m    408\u001b[0m \u001b[0;34m\u001b[0m\u001b[0m\n\u001b[1;32m    409\u001b[0m         \u001b[0;32mexcept\u001b[0m \u001b[0;34m(\u001b[0m\u001b[0mrequests\u001b[0m\u001b[0;34m.\u001b[0m\u001b[0mexceptions\u001b[0m\u001b[0;34m.\u001b[0m\u001b[0mConnectionError\u001b[0m\u001b[0;34m,\u001b[0m \u001b[0mrequests\u001b[0m\u001b[0;34m.\u001b[0m\u001b[0mexceptions\u001b[0m\u001b[0;34m.\u001b[0m\u001b[0mHTTPError\u001b[0m\u001b[0;34m)\u001b[0m \u001b[0;32mas\u001b[0m \u001b[0me\u001b[0m\u001b[0;34m:\u001b[0m\u001b[0;34m\u001b[0m\u001b[0;34m\u001b[0m\u001b[0m\n",
      "\u001b[0;32m/anaconda3/lib/python3.7/site-packages/h2o/backend/connection.py\u001b[0m in \u001b[0;36m_process_response\u001b[0;34m(response, save_to)\u001b[0m\n\u001b[1;32m    741\u001b[0m         \u001b[0;31m# Client errors (400 = \"Bad Request\", 404 = \"Not Found\", 412 = \"Precondition Failed\")\u001b[0m\u001b[0;34m\u001b[0m\u001b[0;34m\u001b[0m\u001b[0;34m\u001b[0m\u001b[0m\n\u001b[1;32m    742\u001b[0m         \u001b[0;32mif\u001b[0m \u001b[0mstatus_code\u001b[0m \u001b[0;32min\u001b[0m \u001b[0;34m{\u001b[0m\u001b[0;36m400\u001b[0m\u001b[0;34m,\u001b[0m \u001b[0;36m404\u001b[0m\u001b[0;34m,\u001b[0m \u001b[0;36m412\u001b[0m\u001b[0;34m}\u001b[0m \u001b[0;32mand\u001b[0m \u001b[0misinstance\u001b[0m\u001b[0;34m(\u001b[0m\u001b[0mdata\u001b[0m\u001b[0;34m,\u001b[0m \u001b[0;34m(\u001b[0m\u001b[0mH2OErrorV3\u001b[0m\u001b[0;34m,\u001b[0m \u001b[0mH2OModelBuilderErrorV3\u001b[0m\u001b[0;34m)\u001b[0m\u001b[0;34m)\u001b[0m\u001b[0;34m:\u001b[0m\u001b[0;34m\u001b[0m\u001b[0;34m\u001b[0m\u001b[0m\n\u001b[0;32m--> 743\u001b[0;31m             \u001b[0;32mraise\u001b[0m \u001b[0mH2OResponseError\u001b[0m\u001b[0;34m(\u001b[0m\u001b[0mdata\u001b[0m\u001b[0;34m)\u001b[0m\u001b[0;34m\u001b[0m\u001b[0;34m\u001b[0m\u001b[0m\n\u001b[0m\u001b[1;32m    744\u001b[0m \u001b[0;34m\u001b[0m\u001b[0m\n\u001b[1;32m    745\u001b[0m         \u001b[0;31m# Server errors (notably 500 = \"Server Error\")\u001b[0m\u001b[0;34m\u001b[0m\u001b[0;34m\u001b[0m\u001b[0;34m\u001b[0m\u001b[0m\n",
      "\u001b[0;31mH2OResponseError\u001b[0m: Server error java.lang.IllegalArgumentException:\n  Error: Row slicing requires a number-list as the last argument, but found a class water.rapids.ast.params.AstStr\n  Request: POST /99/Rapids\n    data: {'ast': \"(tmp= py_578_sid_803f (rows (cols_py py_574_sid_803f 'Id') 'PositiveReview'))\", 'session_id': '_sid_803f'}\n"
     ]
    }
   ],
   "source": [
    "quantile_dict = get_quantile_dict('PositiveReview', 'Id', ext_test_new)"
   ]
  },
  {
   "cell_type": "markdown",
   "metadata": {},
   "source": [
    "### 2.4.3 Matrix"
   ]
  },
  {
   "cell_type": "code",
   "execution_count": 47,
   "metadata": {},
   "outputs": [
    {
     "name": "stdout",
     "output_type": "stream",
     "text": [
      "AUC on validation data: 0.846\n"
     ]
    }
   ],
   "source": [
    "print(\"AUC on validation data: \" + str(round(gbm.auc(valid = True), 3)))"
   ]
  },
  {
   "cell_type": "code",
   "execution_count": 48,
   "metadata": {},
   "outputs": [
    {
     "name": "stdout",
     "output_type": "stream",
     "text": [
      "Confusion Matrix (Act/Pred) for max f1 @ threshold = 0.47887123153948047: \n"
     ]
    },
    {
     "data": {
      "text/html": [
       "<div style=\"overflow:auto\"><table style=\"width:50%\"><tr><td><b></b></td>\n",
       "<td><b>0</b></td>\n",
       "<td><b>1</b></td>\n",
       "<td><b>Error</b></td>\n",
       "<td><b>Rate</b></td></tr>\n",
       "<tr><td>0</td>\n",
       "<td>2446.0</td>\n",
       "<td>1766.0</td>\n",
       "<td>0.4193</td>\n",
       "<td> (1766.0/4212.0)</td></tr>\n",
       "<tr><td>1</td>\n",
       "<td>555.0</td>\n",
       "<td>6385.0</td>\n",
       "<td>0.08</td>\n",
       "<td> (555.0/6940.0)</td></tr>\n",
       "<tr><td>Total</td>\n",
       "<td>3001.0</td>\n",
       "<td>8151.0</td>\n",
       "<td>0.2081</td>\n",
       "<td> (2321.0/11152.0)</td></tr></table></div>"
      ],
      "text/plain": [
       "       0     1     Error    Rate\n",
       "-----  ----  ----  -------  ----------------\n",
       "0      2446  1766  0.4193   (1766.0/4212.0)\n",
       "1      555   6385  0.08     (555.0/6940.0)\n",
       "Total  3001  8151  0.2081   (2321.0/11152.0)"
      ]
     },
     "metadata": {},
     "output_type": "display_data"
    },
    {
     "data": {
      "text/plain": []
     },
     "execution_count": 48,
     "metadata": {},
     "output_type": "execute_result"
    }
   ],
   "source": [
    "gbm.confusion_matrix(valid=True)"
   ]
  },
  {
   "cell_type": "code",
   "execution_count": 49,
   "metadata": {},
   "outputs": [
    {
     "data": {
      "text/plain": [
       "{'train': 0.44591204451732713, 'valid': 0.357253899124959}"
      ]
     },
     "execution_count": 49,
     "metadata": {},
     "output_type": "execute_result"
    }
   ],
   "source": [
    "gbm.r2(train=True, valid=True)"
   ]
  },
  {
   "cell_type": "code",
   "execution_count": null,
   "metadata": {},
   "outputs": [],
   "source": [
    "# h2o.cluster().shutdown()"
   ]
  },
  {
   "cell_type": "code",
   "execution_count": null,
   "metadata": {},
   "outputs": [],
   "source": []
  },
  {
   "cell_type": "code",
   "execution_count": null,
   "metadata": {},
   "outputs": [],
   "source": []
  }
 ],
 "metadata": {
  "kernelspec": {
   "display_name": "Python 3",
   "language": "python",
   "name": "python3"
  },
  "language_info": {
   "codemirror_mode": {
    "name": "ipython",
    "version": 3
   },
   "file_extension": ".py",
   "mimetype": "text/x-python",
   "name": "python",
   "nbconvert_exporter": "python",
   "pygments_lexer": "ipython3",
   "version": "3.7.2"
  },
  "toc": {
   "base_numbering": 1,
   "nav_menu": {},
   "number_sections": false,
   "sideBar": true,
   "skip_h1_title": false,
   "title_cell": "Table of Contents",
   "title_sidebar": "Contents",
   "toc_cell": false,
   "toc_position": {
    "height": "calc(100% - 180px)",
    "left": "10px",
    "top": "150px",
    "width": "336px"
   },
   "toc_section_display": true,
   "toc_window_display": true
  },
  "varInspector": {
   "cols": {
    "lenName": 16,
    "lenType": 16,
    "lenVar": 40
   },
   "kernels_config": {
    "python": {
     "delete_cmd_postfix": "",
     "delete_cmd_prefix": "del ",
     "library": "var_list.py",
     "varRefreshCmd": "print(var_dic_list())"
    },
    "r": {
     "delete_cmd_postfix": ") ",
     "delete_cmd_prefix": "rm(",
     "library": "var_list.r",
     "varRefreshCmd": "cat(var_dic_list()) "
    }
   },
   "types_to_exclude": [
    "module",
    "function",
    "builtin_function_or_method",
    "instance",
    "_Feature"
   ],
   "window_display": false
  }
 },
 "nbformat": 4,
 "nbformat_minor": 2
}
