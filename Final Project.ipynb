{
 "cells": [
  {
   "cell_type": "code",
   "execution_count": 1,
   "metadata": {},
   "outputs": [],
   "source": [
    "import h2o\n",
    "import operator\n",
    "from h2o.automl import H2OAutoML\n",
    "import random, os, sys\n",
    "from datetime import datetime\n",
    "import pandas as pd\n",
    "import logging\n",
    "import csv\n",
    "import optparse\n",
    "import time\n",
    "import json\n",
    "from distutils.util import strtobool\n",
    "import psutil\n",
    "import numpy as np\n",
    "from matplotlib import pyplot as plt\n",
    "import warnings\n",
    "from plot.ice import ice, ice_plot\n",
    "from h2o.estimators.glm import H2OGeneralizedLinearEstimator\n",
    "from h2o.estimators import H2OGradientBoostingEstimator\n",
    "warnings.filterwarnings(\"ignore\")"
   ]
  },
  {
   "cell_type": "markdown",
   "metadata": {},
   "source": [
    "# 1 Data Preparation"
   ]
  },
  {
   "cell_type": "markdown",
   "metadata": {},
   "source": [
    "## 1.1 H2O Initialization"
   ]
  },
  {
   "cell_type": "code",
   "execution_count": 2,
   "metadata": {},
   "outputs": [
    {
     "name": "stdout",
     "output_type": "stream",
     "text": [
      "74\n"
     ]
    }
   ],
   "source": [
    "pct_memory=8\n",
    "virtual_memory=psutil.virtual_memory()\n",
    "min_mem_size=int(round(int(pct_memory*virtual_memory.available)/1073741824,0))\n",
    "print(min_mem_size)"
   ]
  },
  {
   "cell_type": "code",
   "execution_count": 3,
   "metadata": {},
   "outputs": [
    {
     "name": "stdout",
     "output_type": "stream",
     "text": [
      "Checking whether there is an H2O instance running at http://localhost:54321 ..... not found.\n",
      "Attempting to start a local H2O server...\n",
      "  Java Version: java version \"10.0.2\" 2018-07-17; Java(TM) SE Runtime Environment 18.3 (build 10.0.2+13); Java HotSpot(TM) 64-Bit Server VM 18.3 (build 10.0.2+13, mixed mode)\n",
      "  Starting server from /anaconda3/lib/python3.7/site-packages/h2o/backend/bin/h2o.jar\n",
      "  Ice root: /var/folders/5l/qqvypzcs2sjbbnhb777lxczh0000gn/T/tmp6e__5qhn\n",
      "  JVM stdout: /var/folders/5l/qqvypzcs2sjbbnhb777lxczh0000gn/T/tmp6e__5qhn/h2o_mandy_started_from_python.out\n",
      "  JVM stderr: /var/folders/5l/qqvypzcs2sjbbnhb777lxczh0000gn/T/tmp6e__5qhn/h2o_mandy_started_from_python.err\n",
      "  Server is running at http://127.0.0.1:54321\n",
      "Connecting to H2O server at http://127.0.0.1:54321 ... successful.\n"
     ]
    },
    {
     "data": {
      "text/html": [
       "<div style=\"overflow:auto\"><table style=\"width:50%\"><tr><td>H2O cluster uptime:</td>\n",
       "<td>01 secs</td></tr>\n",
       "<tr><td>H2O cluster timezone:</td>\n",
       "<td>America/New_York</td></tr>\n",
       "<tr><td>H2O data parsing timezone:</td>\n",
       "<td>UTC</td></tr>\n",
       "<tr><td>H2O cluster version:</td>\n",
       "<td>3.24.0.1</td></tr>\n",
       "<tr><td>H2O cluster version age:</td>\n",
       "<td>22 days </td></tr>\n",
       "<tr><td>H2O cluster name:</td>\n",
       "<td>H2O_from_python_mandy_m9djdv</td></tr>\n",
       "<tr><td>H2O cluster total nodes:</td>\n",
       "<td>1</td></tr>\n",
       "<tr><td>H2O cluster free memory:</td>\n",
       "<td>74 Gb</td></tr>\n",
       "<tr><td>H2O cluster total cores:</td>\n",
       "<td>12</td></tr>\n",
       "<tr><td>H2O cluster allowed cores:</td>\n",
       "<td>12</td></tr>\n",
       "<tr><td>H2O cluster status:</td>\n",
       "<td>accepting new members, healthy</td></tr>\n",
       "<tr><td>H2O connection url:</td>\n",
       "<td>http://127.0.0.1:54321</td></tr>\n",
       "<tr><td>H2O connection proxy:</td>\n",
       "<td>None</td></tr>\n",
       "<tr><td>H2O internal security:</td>\n",
       "<td>False</td></tr>\n",
       "<tr><td>H2O API Extensions:</td>\n",
       "<td>Amazon S3, XGBoost, Algos, AutoML, Core V3, Core V4</td></tr>\n",
       "<tr><td>Python version:</td>\n",
       "<td>3.7.2 final</td></tr></table></div>"
      ],
      "text/plain": [
       "--------------------------  ---------------------------------------------------\n",
       "H2O cluster uptime:         01 secs\n",
       "H2O cluster timezone:       America/New_York\n",
       "H2O data parsing timezone:  UTC\n",
       "H2O cluster version:        3.24.0.1\n",
       "H2O cluster version age:    22 days\n",
       "H2O cluster name:           H2O_from_python_mandy_m9djdv\n",
       "H2O cluster total nodes:    1\n",
       "H2O cluster free memory:    74 Gb\n",
       "H2O cluster total cores:    12\n",
       "H2O cluster allowed cores:  12\n",
       "H2O cluster status:         accepting new members, healthy\n",
       "H2O connection url:         http://127.0.0.1:54321\n",
       "H2O connection proxy:\n",
       "H2O internal security:      False\n",
       "H2O API Extensions:         Amazon S3, XGBoost, Algos, AutoML, Core V3, Core V4\n",
       "Python version:             3.7.2 final\n",
       "--------------------------  ---------------------------------------------------"
      ]
     },
     "metadata": {},
     "output_type": "display_data"
    }
   ],
   "source": [
    "h2o.init(strict_version_check=False,max_mem_size=min_mem_size)"
   ]
  },
  {
   "cell_type": "markdown",
   "metadata": {},
   "source": [
    "## 1.2 Data Import & Parse"
   ]
  },
  {
   "cell_type": "code",
   "execution_count": 4,
   "metadata": {},
   "outputs": [
    {
     "name": "stdout",
     "output_type": "stream",
     "text": [
      "Parse progress: |█████████████████████████████████████████████████████████| 100%\n"
     ]
    }
   ],
   "source": [
    "data_path = \"data/AmazonReviews.Small.csv\"\n",
    "\n",
    "# Load data into H2O\n",
    "reviews = h2o.import_file(data_path)"
   ]
  },
  {
   "cell_type": "code",
   "execution_count": 5,
   "metadata": {},
   "outputs": [
    {
     "data": {
      "text/plain": [
       "(55554, 10)"
      ]
     },
     "execution_count": 5,
     "metadata": {},
     "output_type": "execute_result"
    }
   ],
   "source": [
    "reviews.shape"
   ]
  },
  {
   "cell_type": "code",
   "execution_count": 6,
   "metadata": {
    "scrolled": false
   },
   "outputs": [
    {
     "data": {
      "text/html": [
       "<table>\n",
       "<thead>\n",
       "<tr><th>ProductId  </th><th>UserId        </th><th>Summary                     </th><th style=\"text-align: right;\">  Score</th><th style=\"text-align: right;\">  HelpfulnessDenominator</th><th style=\"text-align: right;\">    Id</th><th>ProfileName        </th><th style=\"text-align: right;\">  HelpfulnessNumerator</th><th style=\"text-align: right;\">       Time</th><th>Text                                                                                                                                                                                                                                                                                                                                                                            </th></tr>\n",
       "</thead>\n",
       "<tbody>\n",
       "<tr><td>B00141QYSQ </td><td>A1YS02UZZGRDCT</td><td>Do Not Buy                  </td><td style=\"text-align: right;\">      1</td><td style=\"text-align: right;\">                       2</td><td style=\"text-align: right;\"> 41471</td><td>Evan Eberhardt     </td><td style=\"text-align: right;\">                     2</td><td style=\"text-align: right;\">1.34836e+09</td><td>These are made in China (do not buy ANY pet food from China).  Dogswell has been using propylene glycol to soften their treats (what are they thinkng?).  Do not purchase or support this company in any way until they clean up their act.  And for whatever reason Amazon doesn't allow returns of this item, so I had to toss mine out.  Bad business all around on this one.</td></tr>\n",
       "<tr><td>B0089SPEO2 </td><td>A3JOYNYL458QHP</td><td>Less lemon and less zing    </td><td style=\"text-align: right;\">      3</td><td style=\"text-align: right;\">                       0</td><td style=\"text-align: right;\"> 28582</td><td>coleridge          </td><td style=\"text-align: right;\">                     0</td><td style=\"text-align: right;\">1.32391e+09</td><td>Everything is ok, except it just isn't as good as it is in the bags.  Just considerably more bland -- less lemon and less zing.  Boring.                                                                                                                                                                                                                                        </td></tr>\n",
       "<tr><td>B001PMCDK2 </td><td>A14TTMM0Z03Y2W</td><td>my cat goes crazy for these!</td><td style=\"text-align: right;\">      5</td><td style=\"text-align: right;\">                       0</td><td style=\"text-align: right;\">389965</td><td>Lindsay S. Bradford</td><td style=\"text-align: right;\">                     0</td><td style=\"text-align: right;\">1.3106e+09 </td><td>Best cat treat ever. There isn't anything comparable to the love my cat has for these treats, he snubs away any other kind now.<br />I know he likes to manipulate me with his cattiness but these treats are my way of manipulating him to come sit on my lap and have some chill time. :)                                                                                     </td></tr>\n",
       "</tbody>\n",
       "</table>"
      ]
     },
     "metadata": {},
     "output_type": "display_data"
    },
    {
     "data": {
      "text/plain": []
     },
     "execution_count": 6,
     "metadata": {},
     "output_type": "execute_result"
    }
   ],
   "source": [
    "reviews.head(3)"
   ]
  },
  {
   "cell_type": "code",
   "execution_count": 7,
   "metadata": {},
   "outputs": [
    {
     "name": "stdout",
     "output_type": "stream",
     "text": [
      "{'ProductId': 'enum', 'UserId': 'enum', 'Summary': 'enum', 'Score': 'int', 'HelpfulnessDenominator': 'int', 'Id': 'int', 'ProfileName': 'enum', 'HelpfulnessNumerator': 'int', 'Time': 'int', 'Text': 'string'}\n"
     ]
    }
   ],
   "source": [
    "print(reviews.types)"
   ]
  },
  {
   "cell_type": "code",
   "execution_count": 8,
   "metadata": {},
   "outputs": [],
   "source": [
    "reviews['PositiveReview']=(reviews['Score']>=reviews['Score'].mean()[0]).ifelse('1','0')"
   ]
  },
  {
   "cell_type": "code",
   "execution_count": 9,
   "metadata": {},
   "outputs": [
    {
     "data": {
      "text/html": [
       "<table>\n",
       "<thead>\n",
       "<tr><th style=\"text-align: right;\">  PositiveReview</th><th style=\"text-align: right;\">  Count</th></tr>\n",
       "</thead>\n",
       "<tbody>\n",
       "<tr><td style=\"text-align: right;\">               0</td><td style=\"text-align: right;\">  20106</td></tr>\n",
       "<tr><td style=\"text-align: right;\">               1</td><td style=\"text-align: right;\">  35448</td></tr>\n",
       "</tbody>\n",
       "</table>"
      ]
     },
     "metadata": {},
     "output_type": "display_data"
    },
    {
     "data": {
      "text/plain": []
     },
     "execution_count": 9,
     "metadata": {},
     "output_type": "execute_result"
    }
   ],
   "source": [
    "reviews['PositiveReview'].table()"
   ]
  },
  {
   "cell_type": "code",
   "execution_count": 10,
   "metadata": {},
   "outputs": [],
   "source": [
    "# Find the 80th quantile of time in the dataset\n",
    "time_split = reviews[\"Time\"].quantile(prob = [0.8])[1]\n",
    "reviews[\"Train\"] = (reviews[\"Time\"] < time_split).ifelse(\"Yes\", \"No\")"
   ]
  },
  {
   "cell_type": "code",
   "execution_count": 11,
   "metadata": {},
   "outputs": [
    {
     "data": {
      "text/html": [
       "<table>\n",
       "<thead>\n",
       "<tr><th>Train  </th><th style=\"text-align: right;\">  Count</th></tr>\n",
       "</thead>\n",
       "<tbody>\n",
       "<tr><td>No     </td><td style=\"text-align: right;\">  11152</td></tr>\n",
       "<tr><td>Yes    </td><td style=\"text-align: right;\">  44402</td></tr>\n",
       "</tbody>\n",
       "</table>"
      ]
     },
     "metadata": {},
     "output_type": "display_data"
    },
    {
     "data": {
      "text/plain": []
     },
     "execution_count": 11,
     "metadata": {},
     "output_type": "execute_result"
    }
   ],
   "source": [
    "reviews['Train'].table()"
   ]
  },
  {
   "cell_type": "code",
   "execution_count": 12,
   "metadata": {},
   "outputs": [],
   "source": [
    "train = reviews[reviews[\"Train\"] == \"Yes\"]\n",
    "test = reviews[reviews[\"Train\"] == \"No\"]"
   ]
  },
  {
   "cell_type": "markdown",
   "metadata": {},
   "source": [
    "## 1.3 Tokenize Words in Review"
   ]
  },
  {
   "cell_type": "code",
   "execution_count": 13,
   "metadata": {},
   "outputs": [],
   "source": [
    "data_path = \"data/stopwords.csv\"\n",
    "STOP_WORDS = pd.read_csv(data_path, header=0)"
   ]
  },
  {
   "cell_type": "code",
   "execution_count": 14,
   "metadata": {},
   "outputs": [
    {
     "data": {
      "text/html": [
       "<div>\n",
       "<style scoped>\n",
       "    .dataframe tbody tr th:only-of-type {\n",
       "        vertical-align: middle;\n",
       "    }\n",
       "\n",
       "    .dataframe tbody tr th {\n",
       "        vertical-align: top;\n",
       "    }\n",
       "\n",
       "    .dataframe thead th {\n",
       "        text-align: right;\n",
       "    }\n",
       "</style>\n",
       "<table border=\"1\" class=\"dataframe\">\n",
       "  <thead>\n",
       "    <tr style=\"text-align: right;\">\n",
       "      <th></th>\n",
       "      <th>STOP_WORD</th>\n",
       "    </tr>\n",
       "  </thead>\n",
       "  <tbody>\n",
       "    <tr>\n",
       "      <th>0</th>\n",
       "      <td>all</td>\n",
       "    </tr>\n",
       "    <tr>\n",
       "      <th>1</th>\n",
       "      <td>just</td>\n",
       "    </tr>\n",
       "    <tr>\n",
       "      <th>2</th>\n",
       "      <td>being</td>\n",
       "    </tr>\n",
       "    <tr>\n",
       "      <th>3</th>\n",
       "      <td>over</td>\n",
       "    </tr>\n",
       "    <tr>\n",
       "      <th>4</th>\n",
       "      <td>both</td>\n",
       "    </tr>\n",
       "  </tbody>\n",
       "</table>\n",
       "</div>"
      ],
      "text/plain": [
       "  STOP_WORD\n",
       "0       all\n",
       "1      just\n",
       "2     being\n",
       "3      over\n",
       "4      both"
      ]
     },
     "execution_count": 14,
     "metadata": {},
     "output_type": "execute_result"
    }
   ],
   "source": [
    "STOP_WORDS.head()"
   ]
  },
  {
   "cell_type": "code",
   "execution_count": 15,
   "metadata": {},
   "outputs": [],
   "source": [
    "STOP_WORDS = list(STOP_WORDS['STOP_WORD'])"
   ]
  },
  {
   "cell_type": "code",
   "execution_count": 16,
   "metadata": {},
   "outputs": [],
   "source": [
    "def tokenize(sentences, stop_word = STOP_WORDS):\n",
    "    tokenized = sentences.tokenize(\"\\\\W+\")\n",
    "    tokenized_lower = tokenized.tolower()\n",
    "    tokenized_filtered = tokenized_lower[(tokenized_lower.nchar() >= 2) | (tokenized_lower.isna()),:]\n",
    "    tokenized_words = tokenized_filtered[tokenized_filtered.grep(\"[0-9]\",invert=True,output_logical=True),:]\n",
    "    tokenized_words = tokenized_words[(tokenized_words.isna()) | (~ tokenized_words.isin(STOP_WORDS)),:]\n",
    "    return tokenized_words"
   ]
  },
  {
   "cell_type": "code",
   "execution_count": 17,
   "metadata": {},
   "outputs": [],
   "source": [
    "# Break reviews into sequence of words\n",
    "words = tokenize(reviews[\"Text\"])"
   ]
  },
  {
   "cell_type": "code",
   "execution_count": 18,
   "metadata": {},
   "outputs": [
    {
     "data": {
      "text/html": [
       "<table>\n",
       "<thead>\n",
       "<tr><th>C1       </th></tr>\n",
       "</thead>\n",
       "<tbody>\n",
       "<tr><td>made     </td></tr>\n",
       "<tr><td>china    </td></tr>\n",
       "<tr><td>buy      </td></tr>\n",
       "<tr><td>pet      </td></tr>\n",
       "<tr><td>food     </td></tr>\n",
       "<tr><td>china    </td></tr>\n",
       "<tr><td>dogswell </td></tr>\n",
       "<tr><td>using    </td></tr>\n",
       "<tr><td>propylene</td></tr>\n",
       "<tr><td>glycol   </td></tr>\n",
       "</tbody>\n",
       "</table>"
      ]
     },
     "metadata": {},
     "output_type": "display_data"
    },
    {
     "data": {
      "text/plain": []
     },
     "execution_count": 18,
     "metadata": {},
     "output_type": "execute_result"
    }
   ],
   "source": [
    "words.head()"
   ]
  },
  {
   "cell_type": "markdown",
   "metadata": {},
   "source": [
    "## 1.4 Word2Vec Model"
   ]
  },
  {
   "cell_type": "code",
   "execution_count": 19,
   "metadata": {},
   "outputs": [
    {
     "name": "stdout",
     "output_type": "stream",
     "text": [
      "word2vec Model Build progress: |██████████████████████████████████████████| 100%\n"
     ]
    },
    {
     "data": {
      "text/plain": [
       "'/Users/mandy/Documents/Study/AI-Addin/data/w2v.hex'"
      ]
     },
     "execution_count": 19,
     "metadata": {},
     "output_type": "execute_result"
    }
   ],
   "source": [
    "# Train Word2Vec Model\n",
    "from h2o.estimators.word2vec import H2OWord2vecEstimator\n",
    "\n",
    "\n",
    "w2v_model = H2OWord2vecEstimator(vec_size = 100, model_id = \"w2v.hex\")\n",
    "w2v_model.train(training_frame=words)\n",
    "\n",
    "models_path='data'\n",
    "h2o.save_model(w2v_model, path = models_path, force = True)"
   ]
  },
  {
   "cell_type": "code",
   "execution_count": 20,
   "metadata": {},
   "outputs": [
    {
     "data": {
      "text/plain": [
       "OrderedDict([('coffe', 0.7970781922340393),\n",
       "             ('coffees', 0.7813510298728943),\n",
       "             ('espresso', 0.7674856781959534),\n",
       "             ('expresso', 0.7571133971214294),\n",
       "             ('cofee', 0.7395447492599487)])"
      ]
     },
     "execution_count": 20,
     "metadata": {},
     "output_type": "execute_result"
    }
   ],
   "source": [
    "# Sanity check - find synonyms for the word 'coffee'\n",
    "w2v_model.find_synonyms(\"coffee\", count = 5)"
   ]
  },
  {
   "cell_type": "code",
   "execution_count": 21,
   "metadata": {},
   "outputs": [
    {
     "data": {
      "text/plain": [
       "OrderedDict([('unedible', 0.6661795973777771),\n",
       "             ('rancid', 0.6598314046859741),\n",
       "             ('tasteless', 0.5937378406524658),\n",
       "             ('staleness', 0.5809295773506165),\n",
       "             ('inedible', 0.5765999555587769)])"
      ]
     },
     "execution_count": 21,
     "metadata": {},
     "output_type": "execute_result"
    }
   ],
   "source": [
    "# Sanity check - find synonyms for the word 'stale'\n",
    "w2v_model.find_synonyms(\"stale\", count = 5)"
   ]
  },
  {
   "cell_type": "code",
   "execution_count": 22,
   "metadata": {},
   "outputs": [
    {
     "data": {
      "text/html": [
       "<table>\n",
       "<thead>\n",
       "<tr><th style=\"text-align: right;\">        C1</th><th style=\"text-align: right;\">         C2</th><th style=\"text-align: right;\">        C3</th><th style=\"text-align: right;\">        C4</th><th style=\"text-align: right;\">          C5</th><th style=\"text-align: right;\">         C6</th><th style=\"text-align: right;\">        C7</th><th style=\"text-align: right;\">        C8</th><th style=\"text-align: right;\">       C9</th><th style=\"text-align: right;\">        C10</th><th style=\"text-align: right;\">        C11</th><th style=\"text-align: right;\">        C12</th><th style=\"text-align: right;\">       C13</th><th style=\"text-align: right;\">        C14</th><th style=\"text-align: right;\">       C15</th><th style=\"text-align: right;\">       C16</th><th style=\"text-align: right;\">       C17</th><th style=\"text-align: right;\">      C18</th><th style=\"text-align: right;\">       C19</th><th style=\"text-align: right;\">        C20</th><th style=\"text-align: right;\">       C21</th><th style=\"text-align: right;\">         C22</th><th style=\"text-align: right;\">       C23</th><th style=\"text-align: right;\">        C24</th><th style=\"text-align: right;\">     C25</th><th style=\"text-align: right;\">      C26</th><th style=\"text-align: right;\">        C27</th><th style=\"text-align: right;\">      C28</th><th style=\"text-align: right;\">        C29</th><th style=\"text-align: right;\">       C30</th><th style=\"text-align: right;\">       C31</th><th style=\"text-align: right;\">         C32</th><th style=\"text-align: right;\">      C33</th><th style=\"text-align: right;\">        C34</th><th style=\"text-align: right;\">       C35</th><th style=\"text-align: right;\">       C36</th><th style=\"text-align: right;\">        C37</th><th style=\"text-align: right;\">       C38</th><th style=\"text-align: right;\">        C39</th><th style=\"text-align: right;\">        C40</th><th style=\"text-align: right;\">      C41</th><th style=\"text-align: right;\">      C42</th><th style=\"text-align: right;\">         C43</th><th style=\"text-align: right;\">       C44</th><th style=\"text-align: right;\">       C45</th><th style=\"text-align: right;\">       C46</th><th style=\"text-align: right;\">        C47</th><th style=\"text-align: right;\">       C48</th><th style=\"text-align: right;\">        C49</th><th style=\"text-align: right;\">       C50</th><th style=\"text-align: right;\">       C51</th><th style=\"text-align: right;\">       C52</th><th style=\"text-align: right;\">      C53</th><th style=\"text-align: right;\">       C54</th><th style=\"text-align: right;\">       C55</th><th style=\"text-align: right;\">       C56</th><th style=\"text-align: right;\">       C57</th><th style=\"text-align: right;\">        C58</th><th style=\"text-align: right;\">       C59</th><th style=\"text-align: right;\">       C60</th><th style=\"text-align: right;\">       C61</th><th style=\"text-align: right;\">       C62</th><th style=\"text-align: right;\">        C63</th><th style=\"text-align: right;\">       C64</th><th style=\"text-align: right;\">        C65</th><th style=\"text-align: right;\">       C66</th><th style=\"text-align: right;\">       C67</th><th style=\"text-align: right;\">        C68</th><th style=\"text-align: right;\">       C69</th><th style=\"text-align: right;\">       C70</th><th style=\"text-align: right;\">        C71</th><th style=\"text-align: right;\">         C72</th><th style=\"text-align: right;\">       C73</th><th style=\"text-align: right;\">        C74</th><th style=\"text-align: right;\">         C75</th><th style=\"text-align: right;\">       C76</th><th style=\"text-align: right;\">       C77</th><th style=\"text-align: right;\">       C78</th><th style=\"text-align: right;\">       C79</th><th style=\"text-align: right;\">         C80</th><th style=\"text-align: right;\">       C81</th><th style=\"text-align: right;\">       C82</th><th style=\"text-align: right;\">        C83</th><th style=\"text-align: right;\">       C84</th><th style=\"text-align: right;\">        C85</th><th style=\"text-align: right;\">         C86</th><th style=\"text-align: right;\">       C87</th><th style=\"text-align: right;\">       C88</th><th style=\"text-align: right;\">        C89</th><th style=\"text-align: right;\">         C90</th><th style=\"text-align: right;\">        C91</th><th style=\"text-align: right;\">        C92</th><th style=\"text-align: right;\">        C93</th><th style=\"text-align: right;\">        C94</th><th style=\"text-align: right;\">        C95</th><th style=\"text-align: right;\">        C96</th><th style=\"text-align: right;\">       C97</th><th style=\"text-align: right;\">        C98</th><th style=\"text-align: right;\">      C99</th><th style=\"text-align: right;\">      C100</th></tr>\n",
       "</thead>\n",
       "<tbody>\n",
       "<tr><td style=\"text-align: right;\"> 0.0512379</td><td style=\"text-align: right;\">-0.0721153 </td><td style=\"text-align: right;\">-0.126178 </td><td style=\"text-align: right;\">-0.0675017</td><td style=\"text-align: right;\"> 0.133391   </td><td style=\"text-align: right;\"> 0.0797587 </td><td style=\"text-align: right;\"> 0.0103142</td><td style=\"text-align: right;\">-0.0321239</td><td style=\"text-align: right;\">0.165245 </td><td style=\"text-align: right;\"> 0.00981174</td><td style=\"text-align: right;\">-0.143481  </td><td style=\"text-align: right;\"> 0.0289136 </td><td style=\"text-align: right;\"> 0.0474616</td><td style=\"text-align: right;\">-0.00893912</td><td style=\"text-align: right;\">0.0730752 </td><td style=\"text-align: right;\">-0.0257454</td><td style=\"text-align: right;\"> 0.0984852</td><td style=\"text-align: right;\">0.0545966</td><td style=\"text-align: right;\">-0.103137 </td><td style=\"text-align: right;\"> 0.0337534 </td><td style=\"text-align: right;\"> 0.0722866</td><td style=\"text-align: right;\">-0.117647   </td><td style=\"text-align: right;\"> 0.0719933</td><td style=\"text-align: right;\">-0.00717525</td><td style=\"text-align: right;\">0.170082</td><td style=\"text-align: right;\">0.225122 </td><td style=\"text-align: right;\"> 0.0606087 </td><td style=\"text-align: right;\">0.0557539</td><td style=\"text-align: right;\">-0.0101719 </td><td style=\"text-align: right;\">-0.0337641</td><td style=\"text-align: right;\"> 0.0890614</td><td style=\"text-align: right;\"> 0.125439   </td><td style=\"text-align: right;\">0.0406681</td><td style=\"text-align: right;\">-0.163944  </td><td style=\"text-align: right;\"> 0.0372714</td><td style=\"text-align: right;\">-0.103612 </td><td style=\"text-align: right;\">-0.0610768 </td><td style=\"text-align: right;\">-0.0868357</td><td style=\"text-align: right;\">-0.0629312 </td><td style=\"text-align: right;\">-0.0709757 </td><td style=\"text-align: right;\">0.187342 </td><td style=\"text-align: right;\">-0.212725</td><td style=\"text-align: right;\">-0.0660549  </td><td style=\"text-align: right;\">-0.0952291</td><td style=\"text-align: right;\">-0.12006  </td><td style=\"text-align: right;\">-0.102281 </td><td style=\"text-align: right;\"> 0.0815568 </td><td style=\"text-align: right;\">-0.0865792</td><td style=\"text-align: right;\">-0.0256489 </td><td style=\"text-align: right;\">-0.0422642</td><td style=\"text-align: right;\"> 0.173156 </td><td style=\"text-align: right;\">-0.10062  </td><td style=\"text-align: right;\">0.0507264</td><td style=\"text-align: right;\"> 0.0371746</td><td style=\"text-align: right;\">-0.0435043</td><td style=\"text-align: right;\">-0.125482 </td><td style=\"text-align: right;\">-0.120687 </td><td style=\"text-align: right;\"> 0.0600584 </td><td style=\"text-align: right;\"> 0.190227 </td><td style=\"text-align: right;\"> 0.0119428</td><td style=\"text-align: right;\">-0.185613 </td><td style=\"text-align: right;\"> 0.14711  </td><td style=\"text-align: right;\">-0.118     </td><td style=\"text-align: right;\">-0.215221 </td><td style=\"text-align: right;\"> 0.0262088 </td><td style=\"text-align: right;\">-0.0996552</td><td style=\"text-align: right;\">-0.0704781</td><td style=\"text-align: right;\"> 0.00642797</td><td style=\"text-align: right;\">-0.0657946</td><td style=\"text-align: right;\"> 0.0960828</td><td style=\"text-align: right;\">-0.0275167 </td><td style=\"text-align: right;\">-0.00925819 </td><td style=\"text-align: right;\"> 0.340143 </td><td style=\"text-align: right;\">-0.121041  </td><td style=\"text-align: right;\">-0.198822   </td><td style=\"text-align: right;\">-0.0109744</td><td style=\"text-align: right;\"> 0.134112 </td><td style=\"text-align: right;\"> 0.0939372</td><td style=\"text-align: right;\">-0.0549693</td><td style=\"text-align: right;\">-0.099764   </td><td style=\"text-align: right;\"> 0.104656 </td><td style=\"text-align: right;\">-0.0252465</td><td style=\"text-align: right;\"> 0.14791   </td><td style=\"text-align: right;\"> 0.165482 </td><td style=\"text-align: right;\">-0.0873977 </td><td style=\"text-align: right;\"> 0.022409   </td><td style=\"text-align: right;\"> 0.0914604</td><td style=\"text-align: right;\"> 0.104332 </td><td style=\"text-align: right;\"> 0.00821659</td><td style=\"text-align: right;\"> 0.0849414  </td><td style=\"text-align: right;\"> 0.194656  </td><td style=\"text-align: right;\"> 0.097533  </td><td style=\"text-align: right;\">-0.17078   </td><td style=\"text-align: right;\"> 0.0591113 </td><td style=\"text-align: right;\"> 0.130509  </td><td style=\"text-align: right;\">-0.0917772 </td><td style=\"text-align: right;\">-0.0249882</td><td style=\"text-align: right;\"> 0.00505108</td><td style=\"text-align: right;\">0.0983926</td><td style=\"text-align: right;\">-0.0647734</td></tr>\n",
       "<tr><td style=\"text-align: right;\">-0.102811 </td><td style=\"text-align: right;\"> 0.0899272 </td><td style=\"text-align: right;\">-0.272719 </td><td style=\"text-align: right;\"> 0.186553 </td><td style=\"text-align: right;\"> 0.000563222</td><td style=\"text-align: right;\"> 0.0697949 </td><td style=\"text-align: right;\">-0.0506965</td><td style=\"text-align: right;\">-0.181621 </td><td style=\"text-align: right;\">0.0777185</td><td style=\"text-align: right;\"> 0.0570193 </td><td style=\"text-align: right;\">-0.105523  </td><td style=\"text-align: right;\"> 0.0492056 </td><td style=\"text-align: right;\"> 0.0385661</td><td style=\"text-align: right;\">-0.0310148 </td><td style=\"text-align: right;\">0.0253276 </td><td style=\"text-align: right;\">-0.095058 </td><td style=\"text-align: right;\"> 0.365915 </td><td style=\"text-align: right;\">0.0639881</td><td style=\"text-align: right;\"> 0.0233523</td><td style=\"text-align: right;\"> 0.0576137 </td><td style=\"text-align: right;\"> 0.046762 </td><td style=\"text-align: right;\">-0.000548813</td><td style=\"text-align: right;\">-0.0972925</td><td style=\"text-align: right;\">-0.12184   </td><td style=\"text-align: right;\">0.130667</td><td style=\"text-align: right;\">0.032563 </td><td style=\"text-align: right;\">-0.0454111 </td><td style=\"text-align: right;\">0.192679 </td><td style=\"text-align: right;\">-0.139175  </td><td style=\"text-align: right;\">-0.216413 </td><td style=\"text-align: right;\"> 0.0562242</td><td style=\"text-align: right;\"> 0.0883327  </td><td style=\"text-align: right;\">0.17756  </td><td style=\"text-align: right;\">-0.0666698 </td><td style=\"text-align: right;\">-0.155944 </td><td style=\"text-align: right;\"> 0.0647825</td><td style=\"text-align: right;\">-0.047138  </td><td style=\"text-align: right;\">-0.124999 </td><td style=\"text-align: right;\">-0.148338  </td><td style=\"text-align: right;\">-0.153326  </td><td style=\"text-align: right;\">0.112941 </td><td style=\"text-align: right;\">-0.093841</td><td style=\"text-align: right;\"> 0.106316   </td><td style=\"text-align: right;\">-0.161091 </td><td style=\"text-align: right;\">-0.118615 </td><td style=\"text-align: right;\">-0.0725353</td><td style=\"text-align: right;\">-0.0285193 </td><td style=\"text-align: right;\">-0.0675796</td><td style=\"text-align: right;\">-0.146703  </td><td style=\"text-align: right;\">-0.127906 </td><td style=\"text-align: right;\"> 0.207368 </td><td style=\"text-align: right;\">-0.0951551</td><td style=\"text-align: right;\">0.0189869</td><td style=\"text-align: right;\"> 0.124064 </td><td style=\"text-align: right;\"> 0.0611086</td><td style=\"text-align: right;\">-0.106155 </td><td style=\"text-align: right;\">-0.0707478</td><td style=\"text-align: right;\"> 0.00794821</td><td style=\"text-align: right;\"> 0.0533304</td><td style=\"text-align: right;\">-0.0343946</td><td style=\"text-align: right;\">-0.0832121</td><td style=\"text-align: right;\"> 0.0376601</td><td style=\"text-align: right;\">-0.101214  </td><td style=\"text-align: right;\">-0.188025 </td><td style=\"text-align: right;\">-0.00332731</td><td style=\"text-align: right;\">-0.0772085</td><td style=\"text-align: right;\"> 0.0631542</td><td style=\"text-align: right;\">-0.18866   </td><td style=\"text-align: right;\">-0.0308454</td><td style=\"text-align: right;\">-0.111446 </td><td style=\"text-align: right;\">-0.195389  </td><td style=\"text-align: right;\"> 0.130382   </td><td style=\"text-align: right;\"> 0.110561 </td><td style=\"text-align: right;\"> 0.00775046</td><td style=\"text-align: right;\"> 0.0465446  </td><td style=\"text-align: right;\"> 0.117701 </td><td style=\"text-align: right;\">-0.0199998</td><td style=\"text-align: right;\"> 0.0675421</td><td style=\"text-align: right;\">-0.0209609</td><td style=\"text-align: right;\"> 0.000774351</td><td style=\"text-align: right;\">-0.0785983</td><td style=\"text-align: right;\"> 0.0143899</td><td style=\"text-align: right;\">-0.0191827 </td><td style=\"text-align: right;\"> 0.0679432</td><td style=\"text-align: right;\">-0.0631088 </td><td style=\"text-align: right;\"> 3.91559e-05</td><td style=\"text-align: right;\">-0.0792461</td><td style=\"text-align: right;\"> 0.152418 </td><td style=\"text-align: right;\">-0.0989963 </td><td style=\"text-align: right;\"> 0.0437758  </td><td style=\"text-align: right;\">-0.054269  </td><td style=\"text-align: right;\"> 0.0628672 </td><td style=\"text-align: right;\">-0.0293196 </td><td style=\"text-align: right;\"> 0.0288921 </td><td style=\"text-align: right;\"> 0.0689408 </td><td style=\"text-align: right;\">-0.0852168 </td><td style=\"text-align: right;\">-0.0441468</td><td style=\"text-align: right;\"> 0.0396573 </td><td style=\"text-align: right;\">0.0131587</td><td style=\"text-align: right;\"> 0.0746652</td></tr>\n",
       "<tr><td style=\"text-align: right;\"> 0.114766 </td><td style=\"text-align: right;\">-0.0130438 </td><td style=\"text-align: right;\">-0.0585974</td><td style=\"text-align: right;\"> 0.192156 </td><td style=\"text-align: right;\"> 0.0197537  </td><td style=\"text-align: right;\"> 0.194264  </td><td style=\"text-align: right;\">-0.155685 </td><td style=\"text-align: right;\">-0.0380314</td><td style=\"text-align: right;\">0.129872 </td><td style=\"text-align: right;\"> 0.0262021 </td><td style=\"text-align: right;\">-0.111184  </td><td style=\"text-align: right;\">-0.0273064 </td><td style=\"text-align: right;\">-0.0928112</td><td style=\"text-align: right;\"> 0.0242255 </td><td style=\"text-align: right;\">0.0413844 </td><td style=\"text-align: right;\"> 0.0206594</td><td style=\"text-align: right;\"> 0.167563 </td><td style=\"text-align: right;\">0.0965946</td><td style=\"text-align: right;\">-0.0847301</td><td style=\"text-align: right;\">-0.0060851 </td><td style=\"text-align: right;\"> 0.061817 </td><td style=\"text-align: right;\">-0.0691705  </td><td style=\"text-align: right;\"> 0.0898456</td><td style=\"text-align: right;\">-0.0151252 </td><td style=\"text-align: right;\">0.277772</td><td style=\"text-align: right;\">0.134352 </td><td style=\"text-align: right;\">-0.0185895 </td><td style=\"text-align: right;\">0.118439 </td><td style=\"text-align: right;\"> 0.0696441 </td><td style=\"text-align: right;\">-0.0672173</td><td style=\"text-align: right;\">-0.0269194</td><td style=\"text-align: right;\">-0.000672309</td><td style=\"text-align: right;\">0.0787096</td><td style=\"text-align: right;\">-0.0681709 </td><td style=\"text-align: right;\">-0.0711446</td><td style=\"text-align: right;\">-0.0658397</td><td style=\"text-align: right;\"> 0.0161586 </td><td style=\"text-align: right;\">-0.105155 </td><td style=\"text-align: right;\">-0.0795295 </td><td style=\"text-align: right;\"> 0.00550839</td><td style=\"text-align: right;\">0.126492 </td><td style=\"text-align: right;\">-0.325898</td><td style=\"text-align: right;\"> 0.0462371  </td><td style=\"text-align: right;\"> 0.0526431</td><td style=\"text-align: right;\">-0.245147 </td><td style=\"text-align: right;\">-0.150611 </td><td style=\"text-align: right;\">-0.0480858 </td><td style=\"text-align: right;\">-0.0908135</td><td style=\"text-align: right;\">-0.0643411 </td><td style=\"text-align: right;\">-0.0898466</td><td style=\"text-align: right;\"> 0.102228 </td><td style=\"text-align: right;\">-0.190876 </td><td style=\"text-align: right;\">0.0801595</td><td style=\"text-align: right;\"> 0.0271656</td><td style=\"text-align: right;\"> 0.0713714</td><td style=\"text-align: right;\">-0.0659811</td><td style=\"text-align: right;\">-0.158864 </td><td style=\"text-align: right;\"> 0.0269519 </td><td style=\"text-align: right;\"> 0.151973 </td><td style=\"text-align: right;\"> 0.0358079</td><td style=\"text-align: right;\">-0.214575 </td><td style=\"text-align: right;\"> 0.0922647</td><td style=\"text-align: right;\"> 0.0375101 </td><td style=\"text-align: right;\">-0.16325  </td><td style=\"text-align: right;\">-0.0637603 </td><td style=\"text-align: right;\">-0.0583825</td><td style=\"text-align: right;\">-0.0362767</td><td style=\"text-align: right;\">-0.191543  </td><td style=\"text-align: right;\"> 0.0216575</td><td style=\"text-align: right;\"> 0.0662444</td><td style=\"text-align: right;\">-0.0306051 </td><td style=\"text-align: right;\"> 0.0102041  </td><td style=\"text-align: right;\"> 0.253715 </td><td style=\"text-align: right;\">-0.0464548 </td><td style=\"text-align: right;\">-0.048272   </td><td style=\"text-align: right;\"> 0.0127641</td><td style=\"text-align: right;\"> 0.134411 </td><td style=\"text-align: right;\"> 0.053524 </td><td style=\"text-align: right;\">-0.0218468</td><td style=\"text-align: right;\">-0.141084   </td><td style=\"text-align: right;\"> 0.0633585</td><td style=\"text-align: right;\">-0.0392519</td><td style=\"text-align: right;\"> 0.00626611</td><td style=\"text-align: right;\"> 0.114351 </td><td style=\"text-align: right;\">-0.0226757 </td><td style=\"text-align: right;\">-0.0482335  </td><td style=\"text-align: right;\"> 0.0436043</td><td style=\"text-align: right;\"> 0.081014 </td><td style=\"text-align: right;\">-0.0366357 </td><td style=\"text-align: right;\">-0.00668707 </td><td style=\"text-align: right;\"> 0.110992  </td><td style=\"text-align: right;\"> 0.0777355 </td><td style=\"text-align: right;\">-0.0923303 </td><td style=\"text-align: right;\"> 0.0628455 </td><td style=\"text-align: right;\">-0.0494678 </td><td style=\"text-align: right;\"> 0.00479656</td><td style=\"text-align: right;\">-0.0377145</td><td style=\"text-align: right;\"> 0.0311264 </td><td style=\"text-align: right;\">0.064878 </td><td style=\"text-align: right;\"> 0.0711151</td></tr>\n",
       "<tr><td style=\"text-align: right;\"> 0.0513301</td><td style=\"text-align: right;\"> 0.00131011</td><td style=\"text-align: right;\">-0.171288 </td><td style=\"text-align: right;\"> 0.150439 </td><td style=\"text-align: right;\"> 0.0492844  </td><td style=\"text-align: right;\"> 0.0385492 </td><td style=\"text-align: right;\">-0.033171 </td><td style=\"text-align: right;\">-0.0235719</td><td style=\"text-align: right;\">0.0983331</td><td style=\"text-align: right;\"> 0.0572808 </td><td style=\"text-align: right;\">-0.0168457 </td><td style=\"text-align: right;\"> 0.00235049</td><td style=\"text-align: right;\">-0.0516114</td><td style=\"text-align: right;\"> 0.0304622 </td><td style=\"text-align: right;\">0.107396  </td><td style=\"text-align: right;\">-0.0540051</td><td style=\"text-align: right;\"> 0.138532 </td><td style=\"text-align: right;\">0.0583487</td><td style=\"text-align: right;\"> 0.0540453</td><td style=\"text-align: right;\">-0.0205148 </td><td style=\"text-align: right;\"> 0.0400199</td><td style=\"text-align: right;\">-0.173901   </td><td style=\"text-align: right;\"> 0.106716 </td><td style=\"text-align: right;\">-0.0704597 </td><td style=\"text-align: right;\">0.113043</td><td style=\"text-align: right;\">0.0904939</td><td style=\"text-align: right;\"> 0.00318477</td><td style=\"text-align: right;\">0.0781307</td><td style=\"text-align: right;\">-0.045914  </td><td style=\"text-align: right;\">-0.035861 </td><td style=\"text-align: right;\">-0.0385328</td><td style=\"text-align: right;\"> 0.0302334  </td><td style=\"text-align: right;\">0.0814379</td><td style=\"text-align: right;\"> 0.0283254 </td><td style=\"text-align: right;\">-0.129606 </td><td style=\"text-align: right;\"> 0.0428796</td><td style=\"text-align: right;\"> 0.0132533 </td><td style=\"text-align: right;\">-0.0688689</td><td style=\"text-align: right;\">-0.0796644 </td><td style=\"text-align: right;\">-0.0303833 </td><td style=\"text-align: right;\">0.0837261</td><td style=\"text-align: right;\">-0.218518</td><td style=\"text-align: right;\"> 0.00644976 </td><td style=\"text-align: right;\">-0.0714203</td><td style=\"text-align: right;\">-0.271939 </td><td style=\"text-align: right;\">-0.136889 </td><td style=\"text-align: right;\"> 0.0142888 </td><td style=\"text-align: right;\"> 0.0397731</td><td style=\"text-align: right;\">-0.0252144 </td><td style=\"text-align: right;\"> 0.0626499</td><td style=\"text-align: right;\"> 0.202717 </td><td style=\"text-align: right;\">-0.26229  </td><td style=\"text-align: right;\">0.0412344</td><td style=\"text-align: right;\"> 0.0239864</td><td style=\"text-align: right;\"> 0.0497705</td><td style=\"text-align: right;\">-0.179427 </td><td style=\"text-align: right;\">-0.0947447</td><td style=\"text-align: right;\"> 0.0242463 </td><td style=\"text-align: right;\"> 0.0470356</td><td style=\"text-align: right;\"> 0.0426869</td><td style=\"text-align: right;\">-0.241138 </td><td style=\"text-align: right;\"> 0.048686 </td><td style=\"text-align: right;\"> 0.0479628 </td><td style=\"text-align: right;\">-0.191725 </td><td style=\"text-align: right;\">-0.0318026 </td><td style=\"text-align: right;\">-0.153234 </td><td style=\"text-align: right;\">-0.057167 </td><td style=\"text-align: right;\">-0.144383  </td><td style=\"text-align: right;\">-0.0454741</td><td style=\"text-align: right;\">-0.0274355</td><td style=\"text-align: right;\">-0.0550908 </td><td style=\"text-align: right;\"> 0.0799633  </td><td style=\"text-align: right;\"> 0.225963 </td><td style=\"text-align: right;\">-0.141167  </td><td style=\"text-align: right;\">-0.111758   </td><td style=\"text-align: right;\"> 0.0436582</td><td style=\"text-align: right;\"> 0.0799092</td><td style=\"text-align: right;\"> 0.0851157</td><td style=\"text-align: right;\">-0.0105327</td><td style=\"text-align: right;\">-0.192468   </td><td style=\"text-align: right;\">-0.0522688</td><td style=\"text-align: right;\"> 0.0981726</td><td style=\"text-align: right;\">-0.121316  </td><td style=\"text-align: right;\"> 0.156529 </td><td style=\"text-align: right;\">-0.0032251 </td><td style=\"text-align: right;\">-0.0820741  </td><td style=\"text-align: right;\">-0.0444641</td><td style=\"text-align: right;\">-0.0174043</td><td style=\"text-align: right;\">-0.137633  </td><td style=\"text-align: right;\">-0.000905364</td><td style=\"text-align: right;\"> 0.161603  </td><td style=\"text-align: right;\">-0.00995845</td><td style=\"text-align: right;\">-0.0889715 </td><td style=\"text-align: right;\"> 0.0533873 </td><td style=\"text-align: right;\"> 0.00908632</td><td style=\"text-align: right;\"> 0.0366521 </td><td style=\"text-align: right;\">-0.0772961</td><td style=\"text-align: right;\"> 0.118252  </td><td style=\"text-align: right;\">0.0671863</td><td style=\"text-align: right;\"> 0.0612224</td></tr>\n",
       "<tr><td style=\"text-align: right;\">-0.0320117</td><td style=\"text-align: right;\">-0.0226323 </td><td style=\"text-align: right;\">-0.222865 </td><td style=\"text-align: right;\"> 0.166616 </td><td style=\"text-align: right;\"> 0.176832   </td><td style=\"text-align: right;\"> 0.118534  </td><td style=\"text-align: right;\"> 0.0418904</td><td style=\"text-align: right;\">-0.0829966</td><td style=\"text-align: right;\">0.153128 </td><td style=\"text-align: right;\"> 0.0279307 </td><td style=\"text-align: right;\">-0.00957277</td><td style=\"text-align: right;\"> 0.0152508 </td><td style=\"text-align: right;\">-0.0949626</td><td style=\"text-align: right;\">-0.00866062</td><td style=\"text-align: right;\">0.0144197 </td><td style=\"text-align: right;\"> 0.0345395</td><td style=\"text-align: right;\"> 0.104792 </td><td style=\"text-align: right;\">0.0961469</td><td style=\"text-align: right;\"> 0.0124734</td><td style=\"text-align: right;\"> 0.0426334 </td><td style=\"text-align: right;\"> 0.0939962</td><td style=\"text-align: right;\">-0.0650354  </td><td style=\"text-align: right;\"> 0.0890121</td><td style=\"text-align: right;\"> 0.0414646 </td><td style=\"text-align: right;\">0.184425</td><td style=\"text-align: right;\">0.0770201</td><td style=\"text-align: right;\"> 0.0898529 </td><td style=\"text-align: right;\">0.0544044</td><td style=\"text-align: right;\"> 0.00218069</td><td style=\"text-align: right;\">-0.0305027</td><td style=\"text-align: right;\">-0.0279031</td><td style=\"text-align: right;\"> 0.0804837  </td><td style=\"text-align: right;\">0.121775 </td><td style=\"text-align: right;\">-0.00160779</td><td style=\"text-align: right;\">-0.0199602</td><td style=\"text-align: right;\">-0.0648353</td><td style=\"text-align: right;\">-0.0269238 </td><td style=\"text-align: right;\">-0.036266 </td><td style=\"text-align: right;\">-0.0565974 </td><td style=\"text-align: right;\"> 0.00488881</td><td style=\"text-align: right;\">0.102536 </td><td style=\"text-align: right;\">-0.195267</td><td style=\"text-align: right;\">-0.0229502  </td><td style=\"text-align: right;\">-0.0749729</td><td style=\"text-align: right;\">-0.217752 </td><td style=\"text-align: right;\">-0.172307 </td><td style=\"text-align: right;\"> 0.0866498 </td><td style=\"text-align: right;\">-0.0886493</td><td style=\"text-align: right;\">-0.0464153 </td><td style=\"text-align: right;\">-0.0717821</td><td style=\"text-align: right;\"> 0.0927794</td><td style=\"text-align: right;\">-0.195402 </td><td style=\"text-align: right;\">0.0352617</td><td style=\"text-align: right;\">-0.0329337</td><td style=\"text-align: right;\">-0.0814045</td><td style=\"text-align: right;\">-0.137814 </td><td style=\"text-align: right;\">-0.121632 </td><td style=\"text-align: right;\"> 0.0409805 </td><td style=\"text-align: right;\"> 0.141414 </td><td style=\"text-align: right;\">-0.0133326</td><td style=\"text-align: right;\">-0.205414 </td><td style=\"text-align: right;\"> 0.0871242</td><td style=\"text-align: right;\"> 0.00621332</td><td style=\"text-align: right;\">-0.234716 </td><td style=\"text-align: right;\"> 0.05143   </td><td style=\"text-align: right;\">-0.0984212</td><td style=\"text-align: right;\">-0.0144511</td><td style=\"text-align: right;\">-0.101034  </td><td style=\"text-align: right;\">-0.0113671</td><td style=\"text-align: right;\"> 0.10262  </td><td style=\"text-align: right;\">-0.140888  </td><td style=\"text-align: right;\"> 0.0776783  </td><td style=\"text-align: right;\"> 0.31145  </td><td style=\"text-align: right;\">-0.0225482 </td><td style=\"text-align: right;\">-0.14241    </td><td style=\"text-align: right;\"> 0.0966344</td><td style=\"text-align: right;\"> 0.192397 </td><td style=\"text-align: right;\"> 0.0965923</td><td style=\"text-align: right;\"> 0.0298955</td><td style=\"text-align: right;\">-0.159362   </td><td style=\"text-align: right;\"> 0.162324 </td><td style=\"text-align: right;\"> 0.021988 </td><td style=\"text-align: right;\">-0.0405034 </td><td style=\"text-align: right;\"> 0.209551 </td><td style=\"text-align: right;\">-0.0992927 </td><td style=\"text-align: right;\"> 0.0347811  </td><td style=\"text-align: right;\"> 0.0236047</td><td style=\"text-align: right;\"> 0.0375213</td><td style=\"text-align: right;\">-0.00327469</td><td style=\"text-align: right;\"> 0.0635216  </td><td style=\"text-align: right;\"> 0.116366  </td><td style=\"text-align: right;\"> 0.0487218 </td><td style=\"text-align: right;\">-0.188634  </td><td style=\"text-align: right;\">-0.0041518 </td><td style=\"text-align: right;\"> 0.09848   </td><td style=\"text-align: right;\">-0.0164073 </td><td style=\"text-align: right;\">-0.0376768</td><td style=\"text-align: right;\"> 0.021065  </td><td style=\"text-align: right;\">0.083925 </td><td style=\"text-align: right;\"> 0.0338182</td></tr>\n",
       "<tr><td style=\"text-align: right;\"> 0.105845 </td><td style=\"text-align: right;\">-0.0710721 </td><td style=\"text-align: right;\">-0.113691 </td><td style=\"text-align: right;\"> 0.08104  </td><td style=\"text-align: right;\">-0.0321857  </td><td style=\"text-align: right;\">-0.169269  </td><td style=\"text-align: right;\">-0.0711554</td><td style=\"text-align: right;\">-0.162306 </td><td style=\"text-align: right;\">0.0703953</td><td style=\"text-align: right;\"> 0.0817704 </td><td style=\"text-align: right;\">-0.104328  </td><td style=\"text-align: right;\"> 0.00200843</td><td style=\"text-align: right;\">-0.183042 </td><td style=\"text-align: right;\"> 0.00175844</td><td style=\"text-align: right;\">0.12882   </td><td style=\"text-align: right;\">-0.0594221</td><td style=\"text-align: right;\"> 0.212709 </td><td style=\"text-align: right;\">0.159282 </td><td style=\"text-align: right;\">-0.0682115</td><td style=\"text-align: right;\"> 0.148413  </td><td style=\"text-align: right;\"> 0.119515 </td><td style=\"text-align: right;\">-0.0304482  </td><td style=\"text-align: right;\"> 0.203665 </td><td style=\"text-align: right;\">-0.108759  </td><td style=\"text-align: right;\">0.240769</td><td style=\"text-align: right;\">0.0130974</td><td style=\"text-align: right;\"> 0.070404  </td><td style=\"text-align: right;\">0.234032 </td><td style=\"text-align: right;\">-0.127969  </td><td style=\"text-align: right;\">-0.23992  </td><td style=\"text-align: right;\"> 0.101057 </td><td style=\"text-align: right;\"> 0.134857   </td><td style=\"text-align: right;\">0.0461801</td><td style=\"text-align: right;\">-0.123783  </td><td style=\"text-align: right;\">-0.0183425</td><td style=\"text-align: right;\">-0.011989 </td><td style=\"text-align: right;\"> 0.146808  </td><td style=\"text-align: right;\">-0.117501 </td><td style=\"text-align: right;\"> 0.00241956</td><td style=\"text-align: right;\">-0.158932  </td><td style=\"text-align: right;\">0.150804 </td><td style=\"text-align: right;\">-0.196648</td><td style=\"text-align: right;\"> 0.0504151  </td><td style=\"text-align: right;\"> 0.106488 </td><td style=\"text-align: right;\">-0.170316 </td><td style=\"text-align: right;\">-0.145979 </td><td style=\"text-align: right;\">-0.15624   </td><td style=\"text-align: right;\">-0.104477 </td><td style=\"text-align: right;\">-0.111681  </td><td style=\"text-align: right;\">-0.0723377</td><td style=\"text-align: right;\"> 0.0697805</td><td style=\"text-align: right;\">-0.152584 </td><td style=\"text-align: right;\">0.249217 </td><td style=\"text-align: right;\">-0.0812328</td><td style=\"text-align: right;\"> 0.075405 </td><td style=\"text-align: right;\">-0.0686025</td><td style=\"text-align: right;\">-0.0557216</td><td style=\"text-align: right;\"> 0.0401381 </td><td style=\"text-align: right;\">-0.115811 </td><td style=\"text-align: right;\">-0.0135397</td><td style=\"text-align: right;\">-0.116331 </td><td style=\"text-align: right;\"> 0.0466552</td><td style=\"text-align: right;\"> 0.117329  </td><td style=\"text-align: right;\">-0.0597117</td><td style=\"text-align: right;\"> 0.150141  </td><td style=\"text-align: right;\">-0.249426 </td><td style=\"text-align: right;\"> 0.0291654</td><td style=\"text-align: right;\">-0.236921  </td><td style=\"text-align: right;\">-0.0449319</td><td style=\"text-align: right;\">-0.0272821</td><td style=\"text-align: right;\"> 0.0017889 </td><td style=\"text-align: right;\"> 0.190761   </td><td style=\"text-align: right;\"> 0.125493 </td><td style=\"text-align: right;\"> 0.0436126 </td><td style=\"text-align: right;\"> 0.0222205  </td><td style=\"text-align: right;\"> 0.0891105</td><td style=\"text-align: right;\"> 0.0943809</td><td style=\"text-align: right;\">-0.0339171</td><td style=\"text-align: right;\"> 0.0243935</td><td style=\"text-align: right;\">-0.0521437  </td><td style=\"text-align: right;\">-0.118209 </td><td style=\"text-align: right;\"> 0.0984515</td><td style=\"text-align: right;\"> 0.0405139 </td><td style=\"text-align: right;\"> 0.093139 </td><td style=\"text-align: right;\"> 0.00205847</td><td style=\"text-align: right;\">-0.0355413  </td><td style=\"text-align: right;\">-0.23611  </td><td style=\"text-align: right;\">-0.0456909</td><td style=\"text-align: right;\">-0.0589197 </td><td style=\"text-align: right;\"> 0.0368852  </td><td style=\"text-align: right;\">-0.172519  </td><td style=\"text-align: right;\"> 0.0703516 </td><td style=\"text-align: right;\">-0.16886   </td><td style=\"text-align: right;\">-0.0554943 </td><td style=\"text-align: right;\"> 0.0792887 </td><td style=\"text-align: right;\">-0.0590494 </td><td style=\"text-align: right;\">-0.0213746</td><td style=\"text-align: right;\"> 0.103347  </td><td style=\"text-align: right;\">0.0523742</td><td style=\"text-align: right;\"> 0.0611918</td></tr>\n",
       "<tr><td style=\"text-align: right;\"> 0.0149616</td><td style=\"text-align: right;\"> 0.0656955 </td><td style=\"text-align: right;\">-0.10551  </td><td style=\"text-align: right;\"> 0.0668534</td><td style=\"text-align: right;\">-0.00389824 </td><td style=\"text-align: right;\"> 0.0251845 </td><td style=\"text-align: right;\"> 0.111805 </td><td style=\"text-align: right;\">-0.12747  </td><td style=\"text-align: right;\">0.125258 </td><td style=\"text-align: right;\">-0.0304105 </td><td style=\"text-align: right;\">-0.0841308 </td><td style=\"text-align: right;\"> 0.0623065 </td><td style=\"text-align: right;\"> 0.0811442</td><td style=\"text-align: right;\"> 0.0138491 </td><td style=\"text-align: right;\">0.00976486</td><td style=\"text-align: right;\">-0.0656969</td><td style=\"text-align: right;\">-0.0242048</td><td style=\"text-align: right;\">0.0373866</td><td style=\"text-align: right;\">-0.0474175</td><td style=\"text-align: right;\"> 0.0950542 </td><td style=\"text-align: right;\">-0.0333527</td><td style=\"text-align: right;\">-0.0109036  </td><td style=\"text-align: right;\"> 0.0404512</td><td style=\"text-align: right;\">-0.0626372 </td><td style=\"text-align: right;\">0.234804</td><td style=\"text-align: right;\">0.0836534</td><td style=\"text-align: right;\">-0.0634258 </td><td style=\"text-align: right;\">0.183507 </td><td style=\"text-align: right;\"> 0.0281967 </td><td style=\"text-align: right;\">-0.100349 </td><td style=\"text-align: right;\"> 0.199704 </td><td style=\"text-align: right;\"> 0.0804759  </td><td style=\"text-align: right;\">0.125422 </td><td style=\"text-align: right;\"> 0.0190121 </td><td style=\"text-align: right;\">-0.158525 </td><td style=\"text-align: right;\">-0.0871624</td><td style=\"text-align: right;\"> 0.00226319</td><td style=\"text-align: right;\">-0.0359718</td><td style=\"text-align: right;\"> 0.0238512 </td><td style=\"text-align: right;\">-0.141078  </td><td style=\"text-align: right;\">0.0819631</td><td style=\"text-align: right;\">-0.189989</td><td style=\"text-align: right;\"> 0.000367649</td><td style=\"text-align: right;\">-0.0787784</td><td style=\"text-align: right;\">-0.0447594</td><td style=\"text-align: right;\">-0.140072 </td><td style=\"text-align: right;\"> 0.00703158</td><td style=\"text-align: right;\">-0.0939915</td><td style=\"text-align: right;\"> 0.106634  </td><td style=\"text-align: right;\">-0.0859356</td><td style=\"text-align: right;\"> 0.300645 </td><td style=\"text-align: right;\">-0.186479 </td><td style=\"text-align: right;\">0.139349 </td><td style=\"text-align: right;\"> 0.144764 </td><td style=\"text-align: right;\"> 0.0387279</td><td style=\"text-align: right;\">-0.29999  </td><td style=\"text-align: right;\">-0.0458205</td><td style=\"text-align: right;\"> 0.153269  </td><td style=\"text-align: right;\"> 0.0658199</td><td style=\"text-align: right;\"> 0.168225 </td><td style=\"text-align: right;\">-0.0432095</td><td style=\"text-align: right;\"> 0.0248968</td><td style=\"text-align: right;\">-0.177571  </td><td style=\"text-align: right;\">-0.18452  </td><td style=\"text-align: right;\"> 0.0869016 </td><td style=\"text-align: right;\">-0.0838769</td><td style=\"text-align: right;\">-0.0785614</td><td style=\"text-align: right;\">-0.197256  </td><td style=\"text-align: right;\">-0.105856 </td><td style=\"text-align: right;\">-0.196634 </td><td style=\"text-align: right;\">-0.09198   </td><td style=\"text-align: right;\">-0.000954459</td><td style=\"text-align: right;\"> 0.196995 </td><td style=\"text-align: right;\">-0.0328844 </td><td style=\"text-align: right;\">-0.111219   </td><td style=\"text-align: right;\"> 0.131012 </td><td style=\"text-align: right;\"> 0.0754785</td><td style=\"text-align: right;\"> 0.0641354</td><td style=\"text-align: right;\">-0.13704  </td><td style=\"text-align: right;\"> 0.0244403  </td><td style=\"text-align: right;\"> 0.0348885</td><td style=\"text-align: right;\"> 0.0742742</td><td style=\"text-align: right;\">-0.00349898</td><td style=\"text-align: right;\"> 0.173542 </td><td style=\"text-align: right;\">-0.0411638 </td><td style=\"text-align: right;\">-0.0873497  </td><td style=\"text-align: right;\">-0.153275 </td><td style=\"text-align: right;\"> 0.199112 </td><td style=\"text-align: right;\"> 0.0306671 </td><td style=\"text-align: right;\"> 0.181371   </td><td style=\"text-align: right;\"> 0.0217577 </td><td style=\"text-align: right;\">-0.0141128 </td><td style=\"text-align: right;\"> 0.00603226</td><td style=\"text-align: right;\"> 0.00128753</td><td style=\"text-align: right;\"> 0.056798  </td><td style=\"text-align: right;\">-0.030398  </td><td style=\"text-align: right;\"> 0.066799 </td><td style=\"text-align: right;\"> 0.0262394 </td><td style=\"text-align: right;\">0.0915813</td><td style=\"text-align: right;\">-0.0190705</td></tr>\n",
       "<tr><td style=\"text-align: right;\"> 0.0020333</td><td style=\"text-align: right;\"> 0.0413195 </td><td style=\"text-align: right;\">-0.163235 </td><td style=\"text-align: right;\"> 0.0949028</td><td style=\"text-align: right;\">-0.00793227 </td><td style=\"text-align: right;\"> 0.0269963 </td><td style=\"text-align: right;\">-0.106262 </td><td style=\"text-align: right;\">-0.214351 </td><td style=\"text-align: right;\">0.160021 </td><td style=\"text-align: right;\"> 0.076697  </td><td style=\"text-align: right;\">-0.0626084 </td><td style=\"text-align: right;\"> 0.0670227 </td><td style=\"text-align: right;\">-0.0285058</td><td style=\"text-align: right;\">-0.052133  </td><td style=\"text-align: right;\">0.097011  </td><td style=\"text-align: right;\">-0.0775805</td><td style=\"text-align: right;\"> 0.235107 </td><td style=\"text-align: right;\">0.105177 </td><td style=\"text-align: right;\">-0.0516161</td><td style=\"text-align: right;\">-0.0801689 </td><td style=\"text-align: right;\"> 0.0525118</td><td style=\"text-align: right;\">-0.019393   </td><td style=\"text-align: right;\"> 0.0391555</td><td style=\"text-align: right;\">-0.010284  </td><td style=\"text-align: right;\">0.160943</td><td style=\"text-align: right;\">0.0101122</td><td style=\"text-align: right;\">-0.0176219 </td><td style=\"text-align: right;\">0.158107 </td><td style=\"text-align: right;\">-0.0717743 </td><td style=\"text-align: right;\">-0.141018 </td><td style=\"text-align: right;\"> 0.12683  </td><td style=\"text-align: right;\"> 0.0902389  </td><td style=\"text-align: right;\">0.134344 </td><td style=\"text-align: right;\">-0.0857085 </td><td style=\"text-align: right;\">-0.0878901</td><td style=\"text-align: right;\">-0.110449 </td><td style=\"text-align: right;\"> 0.00454657</td><td style=\"text-align: right;\">-0.169397 </td><td style=\"text-align: right;\"> 0.0130031 </td><td style=\"text-align: right;\">-0.186413  </td><td style=\"text-align: right;\">0.120033 </td><td style=\"text-align: right;\">-0.188225</td><td style=\"text-align: right;\"> 0.00997049 </td><td style=\"text-align: right;\">-0.048839 </td><td style=\"text-align: right;\">-0.147409 </td><td style=\"text-align: right;\">-0.117648 </td><td style=\"text-align: right;\">-0.0025758 </td><td style=\"text-align: right;\">-0.0654992</td><td style=\"text-align: right;\">-0.128634  </td><td style=\"text-align: right;\">-0.113407 </td><td style=\"text-align: right;\"> 0.131406 </td><td style=\"text-align: right;\">-0.167567 </td><td style=\"text-align: right;\">0.165243 </td><td style=\"text-align: right;\">-0.0417381</td><td style=\"text-align: right;\"> 0.0252698</td><td style=\"text-align: right;\">-0.0612186</td><td style=\"text-align: right;\">-0.11134  </td><td style=\"text-align: right;\"> 0.0693101 </td><td style=\"text-align: right;\">-0.0733978</td><td style=\"text-align: right;\"> 0.0311816</td><td style=\"text-align: right;\">-0.126176 </td><td style=\"text-align: right;\"> 0.0491572</td><td style=\"text-align: right;\"> 0.0719279 </td><td style=\"text-align: right;\">-0.216708 </td><td style=\"text-align: right;\"> 0.0187119 </td><td style=\"text-align: right;\">-0.104552 </td><td style=\"text-align: right;\"> 0.0150703</td><td style=\"text-align: right;\">-0.189824  </td><td style=\"text-align: right;\">-0.0467718</td><td style=\"text-align: right;\"> 0.0613622</td><td style=\"text-align: right;\">-0.00364206</td><td style=\"text-align: right;\"> 0.119656   </td><td style=\"text-align: right;\"> 0.0702442</td><td style=\"text-align: right;\"> 0.00757286</td><td style=\"text-align: right;\">-0.000390251</td><td style=\"text-align: right;\"> 0.120034 </td><td style=\"text-align: right;\">-0.0374647</td><td style=\"text-align: right;\"> 0.070149 </td><td style=\"text-align: right;\">-0.0308419</td><td style=\"text-align: right;\">-0.087729   </td><td style=\"text-align: right;\">-0.200993 </td><td style=\"text-align: right;\"> 0.0312288</td><td style=\"text-align: right;\">-0.00625095</td><td style=\"text-align: right;\"> 0.105281 </td><td style=\"text-align: right;\"> 0.101637  </td><td style=\"text-align: right;\">-0.0240168  </td><td style=\"text-align: right;\">-0.12483  </td><td style=\"text-align: right;\"> 0.0816526</td><td style=\"text-align: right;\">-0.0523665 </td><td style=\"text-align: right;\"> 0.0769919  </td><td style=\"text-align: right;\">-0.0269718 </td><td style=\"text-align: right;\"> 0.0426057 </td><td style=\"text-align: right;\">-0.0245202 </td><td style=\"text-align: right;\">-0.010114  </td><td style=\"text-align: right;\">-0.0179752 </td><td style=\"text-align: right;\"> 0.00818666</td><td style=\"text-align: right;\">-0.0566688</td><td style=\"text-align: right;\"> 0.0798437 </td><td style=\"text-align: right;\">0.104633 </td><td style=\"text-align: right;\"> 0.0636767</td></tr>\n",
       "<tr><td style=\"text-align: right;\"> 0.0718734</td><td style=\"text-align: right;\">-0.0382766 </td><td style=\"text-align: right;\">-0.0510386</td><td style=\"text-align: right;\"> 0.0298088</td><td style=\"text-align: right;\"> 0.0652123  </td><td style=\"text-align: right;\"> 0.00302339</td><td style=\"text-align: right;\">-0.0393587</td><td style=\"text-align: right;\">-0.165453 </td><td style=\"text-align: right;\">0.0377204</td><td style=\"text-align: right;\"> 0.103676  </td><td style=\"text-align: right;\">-0.097916  </td><td style=\"text-align: right;\"> 0.113616  </td><td style=\"text-align: right;\">-0.0525453</td><td style=\"text-align: right;\">-0.111175  </td><td style=\"text-align: right;\">0.0593467 </td><td style=\"text-align: right;\"> 0.003097 </td><td style=\"text-align: right;\"> 0.137667 </td><td style=\"text-align: right;\">0.0332214</td><td style=\"text-align: right;\">-0.041488 </td><td style=\"text-align: right;\">-0.00932837</td><td style=\"text-align: right;\">-0.0552879</td><td style=\"text-align: right;\">-0.218171   </td><td style=\"text-align: right;\"> 0.150632 </td><td style=\"text-align: right;\">-0.0120649 </td><td style=\"text-align: right;\">0.178857</td><td style=\"text-align: right;\">0.0177005</td><td style=\"text-align: right;\"> 0.0106106 </td><td style=\"text-align: right;\">0.144834 </td><td style=\"text-align: right;\">-0.0314422 </td><td style=\"text-align: right;\">-0.127766 </td><td style=\"text-align: right;\"> 0.0295667</td><td style=\"text-align: right;\"> 0.0765422  </td><td style=\"text-align: right;\">0.0949093</td><td style=\"text-align: right;\">-0.10062   </td><td style=\"text-align: right;\">-0.116913 </td><td style=\"text-align: right;\"> 0.0222808</td><td style=\"text-align: right;\"> 0.101348  </td><td style=\"text-align: right;\">-0.16713  </td><td style=\"text-align: right;\">-0.0420036 </td><td style=\"text-align: right;\">-0.113595  </td><td style=\"text-align: right;\">0.149044 </td><td style=\"text-align: right;\">-0.158312</td><td style=\"text-align: right;\"> 0.105303   </td><td style=\"text-align: right;\"> 0.054323 </td><td style=\"text-align: right;\">-0.0701482</td><td style=\"text-align: right;\">-0.190416 </td><td style=\"text-align: right;\">-0.182031  </td><td style=\"text-align: right;\">-0.114871 </td><td style=\"text-align: right;\"> 0.00186437</td><td style=\"text-align: right;\">-0.0830976</td><td style=\"text-align: right;\"> 0.110863 </td><td style=\"text-align: right;\">-0.156428 </td><td style=\"text-align: right;\">0.154169 </td><td style=\"text-align: right;\">-0.0394688</td><td style=\"text-align: right;\"> 0.0708939</td><td style=\"text-align: right;\">-0.153563 </td><td style=\"text-align: right;\">-0.143338 </td><td style=\"text-align: right;\"> 0.0406099 </td><td style=\"text-align: right;\"> 0.0361177</td><td style=\"text-align: right;\"> 0.072969 </td><td style=\"text-align: right;\">-0.125275 </td><td style=\"text-align: right;\"> 0.081871 </td><td style=\"text-align: right;\"> 0.0370535 </td><td style=\"text-align: right;\">-0.141256 </td><td style=\"text-align: right;\"> 0.0261625 </td><td style=\"text-align: right;\">-0.138167 </td><td style=\"text-align: right;\"> 0.0411501</td><td style=\"text-align: right;\">-0.305914  </td><td style=\"text-align: right;\">-0.0304005</td><td style=\"text-align: right;\"> 0.144577 </td><td style=\"text-align: right;\">-0.0645186 </td><td style=\"text-align: right;\"> 0.122175   </td><td style=\"text-align: right;\"> 0.250378 </td><td style=\"text-align: right;\">-0.0206781 </td><td style=\"text-align: right;\">-0.135709   </td><td style=\"text-align: right;\"> 0.0489261</td><td style=\"text-align: right;\"> 0.0505309</td><td style=\"text-align: right;\"> 0.0402443</td><td style=\"text-align: right;\"> 0.0356104</td><td style=\"text-align: right;\">-0.169048   </td><td style=\"text-align: right;\">-0.0276326</td><td style=\"text-align: right;\"> 0.0947812</td><td style=\"text-align: right;\">-0.112428  </td><td style=\"text-align: right;\"> 0.0302   </td><td style=\"text-align: right;\"> 0.0131784 </td><td style=\"text-align: right;\"> 0.0467692  </td><td style=\"text-align: right;\"> 0.0421669</td><td style=\"text-align: right;\"> 0.0738261</td><td style=\"text-align: right;\">-0.0726436 </td><td style=\"text-align: right;\"> 0.102116   </td><td style=\"text-align: right;\"> 0.106933  </td><td style=\"text-align: right;\"> 0.0396548 </td><td style=\"text-align: right;\">-0.172083  </td><td style=\"text-align: right;\">-0.0233696 </td><td style=\"text-align: right;\">-0.0537482 </td><td style=\"text-align: right;\">-0.0244823 </td><td style=\"text-align: right;\">-0.0751758</td><td style=\"text-align: right;\"> 0.0274853 </td><td style=\"text-align: right;\">0.130145 </td><td style=\"text-align: right;\"> 0.0864677</td></tr>\n",
       "<tr><td style=\"text-align: right;\"> 0.0686626</td><td style=\"text-align: right;\">-0.108398  </td><td style=\"text-align: right;\">-0.319569 </td><td style=\"text-align: right;\">-0.055817 </td><td style=\"text-align: right;\">-0.277378   </td><td style=\"text-align: right;\"> 0.0489574 </td><td style=\"text-align: right;\"> 0.109239 </td><td style=\"text-align: right;\">-0.131995 </td><td style=\"text-align: right;\">0.24669  </td><td style=\"text-align: right;\"> 0.0650143 </td><td style=\"text-align: right;\"> 0.0823195 </td><td style=\"text-align: right;\">-0.0174243 </td><td style=\"text-align: right;\">-0.145694 </td><td style=\"text-align: right;\">-0.0827307 </td><td style=\"text-align: right;\">0.372242  </td><td style=\"text-align: right;\">-0.152249 </td><td style=\"text-align: right;\"> 0.408248 </td><td style=\"text-align: right;\">0.232173 </td><td style=\"text-align: right;\"> 0.176325 </td><td style=\"text-align: right;\">-0.114345  </td><td style=\"text-align: right;\"> 0.190826 </td><td style=\"text-align: right;\">-0.108307   </td><td style=\"text-align: right;\"> 0.225541 </td><td style=\"text-align: right;\"> 0.111481  </td><td style=\"text-align: right;\">0.261163</td><td style=\"text-align: right;\">0.145567 </td><td style=\"text-align: right;\"> 0.12287   </td><td style=\"text-align: right;\">0.321634 </td><td style=\"text-align: right;\">-0.154818  </td><td style=\"text-align: right;\">-0.457731 </td><td style=\"text-align: right;\">-0.0822254</td><td style=\"text-align: right;\"> 0.317425   </td><td style=\"text-align: right;\">0.147596 </td><td style=\"text-align: right;\">-0.0909564 </td><td style=\"text-align: right;\">-0.139659 </td><td style=\"text-align: right;\"> 0.266156 </td><td style=\"text-align: right;\"> 0.0869248 </td><td style=\"text-align: right;\">-0.227206 </td><td style=\"text-align: right;\">-0.0355448 </td><td style=\"text-align: right;\">-0.263836  </td><td style=\"text-align: right;\">0.227341 </td><td style=\"text-align: right;\">-0.308046</td><td style=\"text-align: right;\">-0.142271   </td><td style=\"text-align: right;\"> 0.0817401</td><td style=\"text-align: right;\"> 0.0678068</td><td style=\"text-align: right;\">-0.226455 </td><td style=\"text-align: right;\">-0.203848  </td><td style=\"text-align: right;\">-0.115793 </td><td style=\"text-align: right;\"> 0.0757911 </td><td style=\"text-align: right;\">-0.0520213</td><td style=\"text-align: right;\">-0.062669 </td><td style=\"text-align: right;\"> 0.160647 </td><td style=\"text-align: right;\">0.0317009</td><td style=\"text-align: right;\"> 0.119542 </td><td style=\"text-align: right;\"> 0.0205062</td><td style=\"text-align: right;\"> 0.317574 </td><td style=\"text-align: right;\">-0.225294 </td><td style=\"text-align: right;\">-0.0212045 </td><td style=\"text-align: right;\">-0.187904 </td><td style=\"text-align: right;\"> 0.21643  </td><td style=\"text-align: right;\"> 0.0477281</td><td style=\"text-align: right;\">-0.0379089</td><td style=\"text-align: right;\">-0.0947094 </td><td style=\"text-align: right;\">-0.335295 </td><td style=\"text-align: right;\"> 0.387048  </td><td style=\"text-align: right;\">-0.248102 </td><td style=\"text-align: right;\"> 0.0134419</td><td style=\"text-align: right;\">-0.437157  </td><td style=\"text-align: right;\">-0.06712  </td><td style=\"text-align: right;\">-0.106681 </td><td style=\"text-align: right;\">-0.0598644 </td><td style=\"text-align: right;\"> 0.166608   </td><td style=\"text-align: right;\">-0.0582833</td><td style=\"text-align: right;\">-0.0650262 </td><td style=\"text-align: right;\">-0.163034   </td><td style=\"text-align: right;\"> 0.0762244</td><td style=\"text-align: right;\">-0.143544 </td><td style=\"text-align: right;\">-0.195009 </td><td style=\"text-align: right;\">-0.0573297</td><td style=\"text-align: right;\">-0.0891353  </td><td style=\"text-align: right;\">-0.0548916</td><td style=\"text-align: right;\"> 0.296251 </td><td style=\"text-align: right;\"> 0.0192412 </td><td style=\"text-align: right;\">-0.0359485</td><td style=\"text-align: right;\"> 0.0716265 </td><td style=\"text-align: right;\"> 0.0866753  </td><td style=\"text-align: right;\"> 0.197211 </td><td style=\"text-align: right;\"> 0.051152 </td><td style=\"text-align: right;\">-0.259837  </td><td style=\"text-align: right;\"> 0.0861788  </td><td style=\"text-align: right;\">-0.00193648</td><td style=\"text-align: right;\">-0.194406  </td><td style=\"text-align: right;\">-0.0488396 </td><td style=\"text-align: right;\"> 0.0961084 </td><td style=\"text-align: right;\">-0.0716664 </td><td style=\"text-align: right;\">-0.150226  </td><td style=\"text-align: right;\"> 0.0407559</td><td style=\"text-align: right;\">-0.00191955</td><td style=\"text-align: right;\">0.0618559</td><td style=\"text-align: right;\">-0.052947 </td></tr>\n",
       "</tbody>\n",
       "</table>"
      ]
     },
     "metadata": {},
     "output_type": "display_data"
    },
    {
     "data": {
      "text/plain": []
     },
     "execution_count": 22,
     "metadata": {},
     "output_type": "execute_result"
    }
   ],
   "source": [
    "# Calculate a vector for each review\n",
    "review_vecs = w2v_model.transform(words, aggregate_method = \"AVERAGE\")\n",
    "review_vecs"
   ]
  },
  {
   "cell_type": "code",
   "execution_count": 23,
   "metadata": {},
   "outputs": [],
   "source": [
    "# Add aggregated word embeddings \n",
    "ext_reviews = reviews.cbind(review_vecs)"
   ]
  },
  {
   "cell_type": "code",
   "execution_count": 24,
   "metadata": {},
   "outputs": [
    {
     "data": {
      "text/html": [
       "<table>\n",
       "<thead>\n",
       "<tr><th>ProductId  </th><th>UserId        </th><th>Summary                     </th><th style=\"text-align: right;\">  Score</th><th style=\"text-align: right;\">  HelpfulnessDenominator</th><th style=\"text-align: right;\">    Id</th><th>ProfileName        </th><th style=\"text-align: right;\">  HelpfulnessNumerator</th><th style=\"text-align: right;\">       Time</th><th>Text                                                                                                                                                                                                                                                                                                                                                                            </th><th style=\"text-align: right;\">  PositiveReview</th><th>Train  </th><th style=\"text-align: right;\">        C1</th><th style=\"text-align: right;\">        C2</th><th style=\"text-align: right;\">        C3</th><th style=\"text-align: right;\">        C4</th><th style=\"text-align: right;\">         C5</th><th style=\"text-align: right;\">       C6</th><th style=\"text-align: right;\">        C7</th><th style=\"text-align: right;\">        C8</th><th style=\"text-align: right;\">       C9</th><th style=\"text-align: right;\">       C10</th><th style=\"text-align: right;\">      C11</th><th style=\"text-align: right;\">       C12</th><th style=\"text-align: right;\">       C13</th><th style=\"text-align: right;\">        C14</th><th style=\"text-align: right;\">      C15</th><th style=\"text-align: right;\">       C16</th><th style=\"text-align: right;\">      C17</th><th style=\"text-align: right;\">      C18</th><th style=\"text-align: right;\">       C19</th><th style=\"text-align: right;\">       C20</th><th style=\"text-align: right;\">      C21</th><th style=\"text-align: right;\">         C22</th><th style=\"text-align: right;\">       C23</th><th style=\"text-align: right;\">        C24</th><th style=\"text-align: right;\">     C25</th><th style=\"text-align: right;\">     C26</th><th style=\"text-align: right;\">       C27</th><th style=\"text-align: right;\">      C28</th><th style=\"text-align: right;\">       C29</th><th style=\"text-align: right;\">       C30</th><th style=\"text-align: right;\">       C31</th><th style=\"text-align: right;\">         C32</th><th style=\"text-align: right;\">      C33</th><th style=\"text-align: right;\">       C34</th><th style=\"text-align: right;\">       C35</th><th style=\"text-align: right;\">       C36</th><th style=\"text-align: right;\">       C37</th><th style=\"text-align: right;\">       C38</th><th style=\"text-align: right;\">       C39</th><th style=\"text-align: right;\">        C40</th><th style=\"text-align: right;\">     C41</th><th style=\"text-align: right;\">      C42</th><th style=\"text-align: right;\">       C43</th><th style=\"text-align: right;\">       C44</th><th style=\"text-align: right;\">      C45</th><th style=\"text-align: right;\">       C46</th><th style=\"text-align: right;\">       C47</th><th style=\"text-align: right;\">       C48</th><th style=\"text-align: right;\">       C49</th><th style=\"text-align: right;\">       C50</th><th style=\"text-align: right;\">     C51</th><th style=\"text-align: right;\">       C52</th><th style=\"text-align: right;\">      C53</th><th style=\"text-align: right;\">      C54</th><th style=\"text-align: right;\">       C55</th><th style=\"text-align: right;\">       C56</th><th style=\"text-align: right;\">       C57</th><th style=\"text-align: right;\">       C58</th><th style=\"text-align: right;\">      C59</th><th style=\"text-align: right;\">       C60</th><th style=\"text-align: right;\">       C61</th><th style=\"text-align: right;\">      C62</th><th style=\"text-align: right;\">       C63</th><th style=\"text-align: right;\">      C64</th><th style=\"text-align: right;\">        C65</th><th style=\"text-align: right;\">       C66</th><th style=\"text-align: right;\">       C67</th><th style=\"text-align: right;\">        C68</th><th style=\"text-align: right;\">       C69</th><th style=\"text-align: right;\">       C70</th><th style=\"text-align: right;\">       C71</th><th style=\"text-align: right;\">        C72</th><th style=\"text-align: right;\">     C73</th><th style=\"text-align: right;\">        C74</th><th style=\"text-align: right;\">       C75</th><th style=\"text-align: right;\">       C76</th><th style=\"text-align: right;\">       C77</th><th style=\"text-align: right;\">      C78</th><th style=\"text-align: right;\">       C79</th><th style=\"text-align: right;\">         C80</th><th style=\"text-align: right;\">       C81</th><th style=\"text-align: right;\">       C82</th><th style=\"text-align: right;\">        C83</th><th style=\"text-align: right;\">      C84</th><th style=\"text-align: right;\">       C85</th><th style=\"text-align: right;\">         C86</th><th style=\"text-align: right;\">       C87</th><th style=\"text-align: right;\">     C88</th><th style=\"text-align: right;\">        C89</th><th style=\"text-align: right;\">        C90</th><th style=\"text-align: right;\">      C91</th><th style=\"text-align: right;\">      C92</th><th style=\"text-align: right;\">       C93</th><th style=\"text-align: right;\">      C94</th><th style=\"text-align: right;\">       C95</th><th style=\"text-align: right;\">        C96</th><th style=\"text-align: right;\">       C97</th><th style=\"text-align: right;\">       C98</th><th style=\"text-align: right;\">      C99</th><th style=\"text-align: right;\">      C100</th></tr>\n",
       "</thead>\n",
       "<tbody>\n",
       "<tr><td>B00141QYSQ </td><td>A1YS02UZZGRDCT</td><td>Do Not Buy                  </td><td style=\"text-align: right;\">      1</td><td style=\"text-align: right;\">                       2</td><td style=\"text-align: right;\"> 41471</td><td>Evan Eberhardt     </td><td style=\"text-align: right;\">                     2</td><td style=\"text-align: right;\">1.34836e+09</td><td>These are made in China (do not buy ANY pet food from China).  Dogswell has been using propylene glycol to soften their treats (what are they thinkng?).  Do not purchase or support this company in any way until they clean up their act.  And for whatever reason Amazon doesn't allow returns of this item, so I had to toss mine out.  Bad business all around on this one.</td><td style=\"text-align: right;\">               0</td><td>No     </td><td style=\"text-align: right;\"> 0.0512379</td><td style=\"text-align: right;\">-0.0721153</td><td style=\"text-align: right;\">-0.126178 </td><td style=\"text-align: right;\">-0.0675017</td><td style=\"text-align: right;\">0.133391   </td><td style=\"text-align: right;\">0.0797587</td><td style=\"text-align: right;\"> 0.0103142</td><td style=\"text-align: right;\">-0.0321239</td><td style=\"text-align: right;\">0.165245 </td><td style=\"text-align: right;\">0.00981174</td><td style=\"text-align: right;\">-0.143481</td><td style=\"text-align: right;\"> 0.0289136</td><td style=\"text-align: right;\"> 0.0474616</td><td style=\"text-align: right;\">-0.00893912</td><td style=\"text-align: right;\">0.0730752</td><td style=\"text-align: right;\">-0.0257454</td><td style=\"text-align: right;\">0.0984852</td><td style=\"text-align: right;\">0.0545966</td><td style=\"text-align: right;\">-0.103137 </td><td style=\"text-align: right;\"> 0.0337534</td><td style=\"text-align: right;\">0.0722866</td><td style=\"text-align: right;\">-0.117647   </td><td style=\"text-align: right;\"> 0.0719933</td><td style=\"text-align: right;\">-0.00717525</td><td style=\"text-align: right;\">0.170082</td><td style=\"text-align: right;\">0.225122</td><td style=\"text-align: right;\"> 0.0606087</td><td style=\"text-align: right;\">0.0557539</td><td style=\"text-align: right;\">-0.0101719</td><td style=\"text-align: right;\">-0.0337641</td><td style=\"text-align: right;\"> 0.0890614</td><td style=\"text-align: right;\"> 0.125439   </td><td style=\"text-align: right;\">0.0406681</td><td style=\"text-align: right;\">-0.163944 </td><td style=\"text-align: right;\"> 0.0372714</td><td style=\"text-align: right;\">-0.103612 </td><td style=\"text-align: right;\">-0.0610768</td><td style=\"text-align: right;\">-0.0868357</td><td style=\"text-align: right;\">-0.0629312</td><td style=\"text-align: right;\">-0.0709757 </td><td style=\"text-align: right;\">0.187342</td><td style=\"text-align: right;\">-0.212725</td><td style=\"text-align: right;\">-0.0660549</td><td style=\"text-align: right;\">-0.0952291</td><td style=\"text-align: right;\">-0.12006 </td><td style=\"text-align: right;\">-0.102281 </td><td style=\"text-align: right;\"> 0.0815568</td><td style=\"text-align: right;\">-0.0865792</td><td style=\"text-align: right;\">-0.0256489</td><td style=\"text-align: right;\">-0.0422642</td><td style=\"text-align: right;\">0.173156</td><td style=\"text-align: right;\">-0.10062  </td><td style=\"text-align: right;\">0.0507264</td><td style=\"text-align: right;\">0.0371746</td><td style=\"text-align: right;\">-0.0435043</td><td style=\"text-align: right;\">-0.125482 </td><td style=\"text-align: right;\">-0.120687 </td><td style=\"text-align: right;\">0.0600584 </td><td style=\"text-align: right;\">0.190227 </td><td style=\"text-align: right;\"> 0.0119428</td><td style=\"text-align: right;\">-0.185613 </td><td style=\"text-align: right;\">0.14711  </td><td style=\"text-align: right;\">-0.118    </td><td style=\"text-align: right;\">-0.215221</td><td style=\"text-align: right;\"> 0.0262088 </td><td style=\"text-align: right;\">-0.0996552</td><td style=\"text-align: right;\">-0.0704781</td><td style=\"text-align: right;\"> 0.00642797</td><td style=\"text-align: right;\">-0.0657946</td><td style=\"text-align: right;\"> 0.0960828</td><td style=\"text-align: right;\">-0.0275167</td><td style=\"text-align: right;\">-0.00925819</td><td style=\"text-align: right;\">0.340143</td><td style=\"text-align: right;\">-0.121041  </td><td style=\"text-align: right;\">-0.198822 </td><td style=\"text-align: right;\">-0.0109744</td><td style=\"text-align: right;\"> 0.134112 </td><td style=\"text-align: right;\">0.0939372</td><td style=\"text-align: right;\">-0.0549693</td><td style=\"text-align: right;\">-0.099764   </td><td style=\"text-align: right;\"> 0.104656 </td><td style=\"text-align: right;\">-0.0252465</td><td style=\"text-align: right;\"> 0.14791   </td><td style=\"text-align: right;\">0.165482 </td><td style=\"text-align: right;\">-0.0873977</td><td style=\"text-align: right;\"> 0.022409   </td><td style=\"text-align: right;\"> 0.0914604</td><td style=\"text-align: right;\">0.104332</td><td style=\"text-align: right;\"> 0.00821659</td><td style=\"text-align: right;\"> 0.0849414 </td><td style=\"text-align: right;\"> 0.194656</td><td style=\"text-align: right;\">0.097533 </td><td style=\"text-align: right;\">-0.17078  </td><td style=\"text-align: right;\">0.0591113</td><td style=\"text-align: right;\"> 0.130509 </td><td style=\"text-align: right;\">-0.0917772 </td><td style=\"text-align: right;\">-0.0249882</td><td style=\"text-align: right;\">0.00505108</td><td style=\"text-align: right;\">0.0983926</td><td style=\"text-align: right;\">-0.0647734</td></tr>\n",
       "<tr><td>B0089SPEO2 </td><td>A3JOYNYL458QHP</td><td>Less lemon and less zing    </td><td style=\"text-align: right;\">      3</td><td style=\"text-align: right;\">                       0</td><td style=\"text-align: right;\"> 28582</td><td>coleridge          </td><td style=\"text-align: right;\">                     0</td><td style=\"text-align: right;\">1.32391e+09</td><td>Everything is ok, except it just isn't as good as it is in the bags.  Just considerably more bland -- less lemon and less zing.  Boring.                                                                                                                                                                                                                                        </td><td style=\"text-align: right;\">               0</td><td>Yes    </td><td style=\"text-align: right;\">-0.102811 </td><td style=\"text-align: right;\"> 0.0899272</td><td style=\"text-align: right;\">-0.272719 </td><td style=\"text-align: right;\"> 0.186553 </td><td style=\"text-align: right;\">0.000563222</td><td style=\"text-align: right;\">0.0697949</td><td style=\"text-align: right;\">-0.0506965</td><td style=\"text-align: right;\">-0.181621 </td><td style=\"text-align: right;\">0.0777185</td><td style=\"text-align: right;\">0.0570193 </td><td style=\"text-align: right;\">-0.105523</td><td style=\"text-align: right;\"> 0.0492056</td><td style=\"text-align: right;\"> 0.0385661</td><td style=\"text-align: right;\">-0.0310148 </td><td style=\"text-align: right;\">0.0253276</td><td style=\"text-align: right;\">-0.095058 </td><td style=\"text-align: right;\">0.365915 </td><td style=\"text-align: right;\">0.0639881</td><td style=\"text-align: right;\"> 0.0233523</td><td style=\"text-align: right;\"> 0.0576137</td><td style=\"text-align: right;\">0.046762 </td><td style=\"text-align: right;\">-0.000548813</td><td style=\"text-align: right;\">-0.0972925</td><td style=\"text-align: right;\">-0.12184   </td><td style=\"text-align: right;\">0.130667</td><td style=\"text-align: right;\">0.032563</td><td style=\"text-align: right;\">-0.0454111</td><td style=\"text-align: right;\">0.192679 </td><td style=\"text-align: right;\">-0.139175 </td><td style=\"text-align: right;\">-0.216413 </td><td style=\"text-align: right;\"> 0.0562242</td><td style=\"text-align: right;\"> 0.0883327  </td><td style=\"text-align: right;\">0.17756  </td><td style=\"text-align: right;\">-0.0666698</td><td style=\"text-align: right;\">-0.155944 </td><td style=\"text-align: right;\"> 0.0647825</td><td style=\"text-align: right;\">-0.047138 </td><td style=\"text-align: right;\">-0.124999 </td><td style=\"text-align: right;\">-0.148338 </td><td style=\"text-align: right;\">-0.153326  </td><td style=\"text-align: right;\">0.112941</td><td style=\"text-align: right;\">-0.093841</td><td style=\"text-align: right;\"> 0.106316 </td><td style=\"text-align: right;\">-0.161091 </td><td style=\"text-align: right;\">-0.118615</td><td style=\"text-align: right;\">-0.0725353</td><td style=\"text-align: right;\">-0.0285193</td><td style=\"text-align: right;\">-0.0675796</td><td style=\"text-align: right;\">-0.146703 </td><td style=\"text-align: right;\">-0.127906 </td><td style=\"text-align: right;\">0.207368</td><td style=\"text-align: right;\">-0.0951551</td><td style=\"text-align: right;\">0.0189869</td><td style=\"text-align: right;\">0.124064 </td><td style=\"text-align: right;\"> 0.0611086</td><td style=\"text-align: right;\">-0.106155 </td><td style=\"text-align: right;\">-0.0707478</td><td style=\"text-align: right;\">0.00794821</td><td style=\"text-align: right;\">0.0533304</td><td style=\"text-align: right;\">-0.0343946</td><td style=\"text-align: right;\">-0.0832121</td><td style=\"text-align: right;\">0.0376601</td><td style=\"text-align: right;\">-0.101214 </td><td style=\"text-align: right;\">-0.188025</td><td style=\"text-align: right;\">-0.00332731</td><td style=\"text-align: right;\">-0.0772085</td><td style=\"text-align: right;\"> 0.0631542</td><td style=\"text-align: right;\">-0.18866   </td><td style=\"text-align: right;\">-0.0308454</td><td style=\"text-align: right;\">-0.111446 </td><td style=\"text-align: right;\">-0.195389 </td><td style=\"text-align: right;\"> 0.130382  </td><td style=\"text-align: right;\">0.110561</td><td style=\"text-align: right;\"> 0.00775046</td><td style=\"text-align: right;\"> 0.0465446</td><td style=\"text-align: right;\"> 0.117701 </td><td style=\"text-align: right;\">-0.0199998</td><td style=\"text-align: right;\">0.0675421</td><td style=\"text-align: right;\">-0.0209609</td><td style=\"text-align: right;\"> 0.000774351</td><td style=\"text-align: right;\">-0.0785983</td><td style=\"text-align: right;\"> 0.0143899</td><td style=\"text-align: right;\">-0.0191827 </td><td style=\"text-align: right;\">0.0679432</td><td style=\"text-align: right;\">-0.0631088</td><td style=\"text-align: right;\"> 3.91559e-05</td><td style=\"text-align: right;\">-0.0792461</td><td style=\"text-align: right;\">0.152418</td><td style=\"text-align: right;\">-0.0989963 </td><td style=\"text-align: right;\"> 0.0437758 </td><td style=\"text-align: right;\">-0.054269</td><td style=\"text-align: right;\">0.0628672</td><td style=\"text-align: right;\">-0.0293196</td><td style=\"text-align: right;\">0.0288921</td><td style=\"text-align: right;\"> 0.0689408</td><td style=\"text-align: right;\">-0.0852168 </td><td style=\"text-align: right;\">-0.0441468</td><td style=\"text-align: right;\">0.0396573 </td><td style=\"text-align: right;\">0.0131587</td><td style=\"text-align: right;\"> 0.0746652</td></tr>\n",
       "<tr><td>B001PMCDK2 </td><td>A14TTMM0Z03Y2W</td><td>my cat goes crazy for these!</td><td style=\"text-align: right;\">      5</td><td style=\"text-align: right;\">                       0</td><td style=\"text-align: right;\">389965</td><td>Lindsay S. Bradford</td><td style=\"text-align: right;\">                     0</td><td style=\"text-align: right;\">1.3106e+09 </td><td>Best cat treat ever. There isn't anything comparable to the love my cat has for these treats, he snubs away any other kind now.<br />I know he likes to manipulate me with his cattiness but these treats are my way of manipulating him to come sit on my lap and have some chill time. :)                                                                                     </td><td style=\"text-align: right;\">               1</td><td>Yes    </td><td style=\"text-align: right;\"> 0.114766 </td><td style=\"text-align: right;\">-0.0130438</td><td style=\"text-align: right;\">-0.0585974</td><td style=\"text-align: right;\"> 0.192156 </td><td style=\"text-align: right;\">0.0197537  </td><td style=\"text-align: right;\">0.194264 </td><td style=\"text-align: right;\">-0.155685 </td><td style=\"text-align: right;\">-0.0380314</td><td style=\"text-align: right;\">0.129872 </td><td style=\"text-align: right;\">0.0262021 </td><td style=\"text-align: right;\">-0.111184</td><td style=\"text-align: right;\">-0.0273064</td><td style=\"text-align: right;\">-0.0928112</td><td style=\"text-align: right;\"> 0.0242255 </td><td style=\"text-align: right;\">0.0413844</td><td style=\"text-align: right;\"> 0.0206594</td><td style=\"text-align: right;\">0.167563 </td><td style=\"text-align: right;\">0.0965946</td><td style=\"text-align: right;\">-0.0847301</td><td style=\"text-align: right;\">-0.0060851</td><td style=\"text-align: right;\">0.061817 </td><td style=\"text-align: right;\">-0.0691705  </td><td style=\"text-align: right;\"> 0.0898456</td><td style=\"text-align: right;\">-0.0151252 </td><td style=\"text-align: right;\">0.277772</td><td style=\"text-align: right;\">0.134352</td><td style=\"text-align: right;\">-0.0185895</td><td style=\"text-align: right;\">0.118439 </td><td style=\"text-align: right;\"> 0.0696441</td><td style=\"text-align: right;\">-0.0672173</td><td style=\"text-align: right;\">-0.0269194</td><td style=\"text-align: right;\">-0.000672309</td><td style=\"text-align: right;\">0.0787096</td><td style=\"text-align: right;\">-0.0681709</td><td style=\"text-align: right;\">-0.0711446</td><td style=\"text-align: right;\">-0.0658397</td><td style=\"text-align: right;\"> 0.0161586</td><td style=\"text-align: right;\">-0.105155 </td><td style=\"text-align: right;\">-0.0795295</td><td style=\"text-align: right;\"> 0.00550839</td><td style=\"text-align: right;\">0.126492</td><td style=\"text-align: right;\">-0.325898</td><td style=\"text-align: right;\"> 0.0462371</td><td style=\"text-align: right;\"> 0.0526431</td><td style=\"text-align: right;\">-0.245147</td><td style=\"text-align: right;\">-0.150611 </td><td style=\"text-align: right;\">-0.0480858</td><td style=\"text-align: right;\">-0.0908135</td><td style=\"text-align: right;\">-0.0643411</td><td style=\"text-align: right;\">-0.0898466</td><td style=\"text-align: right;\">0.102228</td><td style=\"text-align: right;\">-0.190876 </td><td style=\"text-align: right;\">0.0801595</td><td style=\"text-align: right;\">0.0271656</td><td style=\"text-align: right;\"> 0.0713714</td><td style=\"text-align: right;\">-0.0659811</td><td style=\"text-align: right;\">-0.158864 </td><td style=\"text-align: right;\">0.0269519 </td><td style=\"text-align: right;\">0.151973 </td><td style=\"text-align: right;\"> 0.0358079</td><td style=\"text-align: right;\">-0.214575 </td><td style=\"text-align: right;\">0.0922647</td><td style=\"text-align: right;\"> 0.0375101</td><td style=\"text-align: right;\">-0.16325 </td><td style=\"text-align: right;\">-0.0637603 </td><td style=\"text-align: right;\">-0.0583825</td><td style=\"text-align: right;\">-0.0362767</td><td style=\"text-align: right;\">-0.191543  </td><td style=\"text-align: right;\"> 0.0216575</td><td style=\"text-align: right;\"> 0.0662444</td><td style=\"text-align: right;\">-0.0306051</td><td style=\"text-align: right;\"> 0.0102041 </td><td style=\"text-align: right;\">0.253715</td><td style=\"text-align: right;\">-0.0464548 </td><td style=\"text-align: right;\">-0.048272 </td><td style=\"text-align: right;\"> 0.0127641</td><td style=\"text-align: right;\"> 0.134411 </td><td style=\"text-align: right;\">0.053524 </td><td style=\"text-align: right;\">-0.0218468</td><td style=\"text-align: right;\">-0.141084   </td><td style=\"text-align: right;\"> 0.0633585</td><td style=\"text-align: right;\">-0.0392519</td><td style=\"text-align: right;\"> 0.00626611</td><td style=\"text-align: right;\">0.114351 </td><td style=\"text-align: right;\">-0.0226757</td><td style=\"text-align: right;\">-0.0482335  </td><td style=\"text-align: right;\"> 0.0436043</td><td style=\"text-align: right;\">0.081014</td><td style=\"text-align: right;\">-0.0366357 </td><td style=\"text-align: right;\">-0.00668707</td><td style=\"text-align: right;\"> 0.110992</td><td style=\"text-align: right;\">0.0777355</td><td style=\"text-align: right;\">-0.0923303</td><td style=\"text-align: right;\">0.0628455</td><td style=\"text-align: right;\">-0.0494678</td><td style=\"text-align: right;\"> 0.00479656</td><td style=\"text-align: right;\">-0.0377145</td><td style=\"text-align: right;\">0.0311264 </td><td style=\"text-align: right;\">0.064878 </td><td style=\"text-align: right;\"> 0.0711151</td></tr>\n",
       "</tbody>\n",
       "</table>"
      ]
     },
     "metadata": {},
     "output_type": "display_data"
    },
    {
     "data": {
      "text/plain": []
     },
     "execution_count": 24,
     "metadata": {},
     "output_type": "execute_result"
    }
   ],
   "source": [
    "ext_reviews.head(3)"
   ]
  },
  {
   "cell_type": "markdown",
   "metadata": {},
   "source": [
    "## 1.5 Add Summary Column"
   ]
  },
  {
   "cell_type": "code",
   "execution_count": 25,
   "metadata": {},
   "outputs": [],
   "source": [
    "# Break summaries into sequence of word.\n",
    "summary_words = tokenize(reviews['Summary'].ascharacter())"
   ]
  },
  {
   "cell_type": "code",
   "execution_count": 26,
   "metadata": {},
   "outputs": [],
   "source": [
    "summary_vecs = w2v_model.transform(summary_words, aggregate_method='AVERAGE')\n",
    "summary_vecs.names = ['summary_'+ s for s in summary_vecs.names]\n",
    "\n",
    "ext_reviews_new = ext_reviews.cbind(summary_vecs)"
   ]
  },
  {
   "cell_type": "code",
   "execution_count": 27,
   "metadata": {},
   "outputs": [
    {
     "data": {
      "text/html": [
       "<table>\n",
       "<thead>\n",
       "<tr><th>ProductId  </th><th>UserId        </th><th>Summary                     </th><th style=\"text-align: right;\">  Score</th><th style=\"text-align: right;\">  HelpfulnessDenominator</th><th style=\"text-align: right;\">    Id</th><th>ProfileName        </th><th style=\"text-align: right;\">  HelpfulnessNumerator</th><th style=\"text-align: right;\">       Time</th><th>Text                                                                                                                                                                                                                                                                                                                                                                            </th><th style=\"text-align: right;\">  PositiveReview</th><th>Train  </th><th style=\"text-align: right;\">        C1</th><th style=\"text-align: right;\">        C2</th><th style=\"text-align: right;\">        C3</th><th style=\"text-align: right;\">        C4</th><th style=\"text-align: right;\">         C5</th><th style=\"text-align: right;\">       C6</th><th style=\"text-align: right;\">        C7</th><th style=\"text-align: right;\">        C8</th><th style=\"text-align: right;\">       C9</th><th style=\"text-align: right;\">       C10</th><th style=\"text-align: right;\">      C11</th><th style=\"text-align: right;\">       C12</th><th style=\"text-align: right;\">       C13</th><th style=\"text-align: right;\">        C14</th><th style=\"text-align: right;\">      C15</th><th style=\"text-align: right;\">       C16</th><th style=\"text-align: right;\">      C17</th><th style=\"text-align: right;\">      C18</th><th style=\"text-align: right;\">       C19</th><th style=\"text-align: right;\">       C20</th><th style=\"text-align: right;\">      C21</th><th style=\"text-align: right;\">         C22</th><th style=\"text-align: right;\">       C23</th><th style=\"text-align: right;\">        C24</th><th style=\"text-align: right;\">     C25</th><th style=\"text-align: right;\">     C26</th><th style=\"text-align: right;\">       C27</th><th style=\"text-align: right;\">      C28</th><th style=\"text-align: right;\">       C29</th><th style=\"text-align: right;\">       C30</th><th style=\"text-align: right;\">       C31</th><th style=\"text-align: right;\">         C32</th><th style=\"text-align: right;\">      C33</th><th style=\"text-align: right;\">       C34</th><th style=\"text-align: right;\">       C35</th><th style=\"text-align: right;\">       C36</th><th style=\"text-align: right;\">       C37</th><th style=\"text-align: right;\">       C38</th><th style=\"text-align: right;\">       C39</th><th style=\"text-align: right;\">        C40</th><th style=\"text-align: right;\">     C41</th><th style=\"text-align: right;\">      C42</th><th style=\"text-align: right;\">       C43</th><th style=\"text-align: right;\">       C44</th><th style=\"text-align: right;\">      C45</th><th style=\"text-align: right;\">       C46</th><th style=\"text-align: right;\">       C47</th><th style=\"text-align: right;\">       C48</th><th style=\"text-align: right;\">       C49</th><th style=\"text-align: right;\">       C50</th><th style=\"text-align: right;\">     C51</th><th style=\"text-align: right;\">       C52</th><th style=\"text-align: right;\">      C53</th><th style=\"text-align: right;\">      C54</th><th style=\"text-align: right;\">       C55</th><th style=\"text-align: right;\">       C56</th><th style=\"text-align: right;\">       C57</th><th style=\"text-align: right;\">       C58</th><th style=\"text-align: right;\">      C59</th><th style=\"text-align: right;\">       C60</th><th style=\"text-align: right;\">       C61</th><th style=\"text-align: right;\">      C62</th><th style=\"text-align: right;\">       C63</th><th style=\"text-align: right;\">      C64</th><th style=\"text-align: right;\">        C65</th><th style=\"text-align: right;\">       C66</th><th style=\"text-align: right;\">       C67</th><th style=\"text-align: right;\">        C68</th><th style=\"text-align: right;\">       C69</th><th style=\"text-align: right;\">       C70</th><th style=\"text-align: right;\">       C71</th><th style=\"text-align: right;\">        C72</th><th style=\"text-align: right;\">     C73</th><th style=\"text-align: right;\">        C74</th><th style=\"text-align: right;\">       C75</th><th style=\"text-align: right;\">       C76</th><th style=\"text-align: right;\">       C77</th><th style=\"text-align: right;\">      C78</th><th style=\"text-align: right;\">       C79</th><th style=\"text-align: right;\">         C80</th><th style=\"text-align: right;\">       C81</th><th style=\"text-align: right;\">       C82</th><th style=\"text-align: right;\">        C83</th><th style=\"text-align: right;\">      C84</th><th style=\"text-align: right;\">       C85</th><th style=\"text-align: right;\">         C86</th><th style=\"text-align: right;\">       C87</th><th style=\"text-align: right;\">     C88</th><th style=\"text-align: right;\">        C89</th><th style=\"text-align: right;\">        C90</th><th style=\"text-align: right;\">      C91</th><th style=\"text-align: right;\">      C92</th><th style=\"text-align: right;\">       C93</th><th style=\"text-align: right;\">      C94</th><th style=\"text-align: right;\">       C95</th><th style=\"text-align: right;\">        C96</th><th style=\"text-align: right;\">       C97</th><th style=\"text-align: right;\">       C98</th><th style=\"text-align: right;\">      C99</th><th style=\"text-align: right;\">      C100</th><th style=\"text-align: right;\">  summary_C1</th><th style=\"text-align: right;\">  summary_C2</th><th style=\"text-align: right;\">  summary_C3</th><th style=\"text-align: right;\">  summary_C4</th><th style=\"text-align: right;\">  summary_C5</th><th style=\"text-align: right;\">  summary_C6</th><th style=\"text-align: right;\">  summary_C7</th><th style=\"text-align: right;\">  summary_C8</th><th style=\"text-align: right;\">  summary_C9</th><th style=\"text-align: right;\">  summary_C10</th><th style=\"text-align: right;\">  summary_C11</th><th style=\"text-align: right;\">  summary_C12</th><th style=\"text-align: right;\">  summary_C13</th><th style=\"text-align: right;\">  summary_C14</th><th style=\"text-align: right;\">  summary_C15</th><th style=\"text-align: right;\">  summary_C16</th><th style=\"text-align: right;\">  summary_C17</th><th style=\"text-align: right;\">  summary_C18</th><th style=\"text-align: right;\">  summary_C19</th><th style=\"text-align: right;\">  summary_C20</th><th style=\"text-align: right;\">  summary_C21</th><th style=\"text-align: right;\">  summary_C22</th><th style=\"text-align: right;\">  summary_C23</th><th style=\"text-align: right;\">  summary_C24</th><th style=\"text-align: right;\">  summary_C25</th><th style=\"text-align: right;\">  summary_C26</th><th style=\"text-align: right;\">  summary_C27</th><th style=\"text-align: right;\">  summary_C28</th><th style=\"text-align: right;\">  summary_C29</th><th style=\"text-align: right;\">  summary_C30</th><th style=\"text-align: right;\">  summary_C31</th><th style=\"text-align: right;\">  summary_C32</th><th style=\"text-align: right;\">  summary_C33</th><th style=\"text-align: right;\">  summary_C34</th><th style=\"text-align: right;\">  summary_C35</th><th style=\"text-align: right;\">  summary_C36</th><th style=\"text-align: right;\">  summary_C37</th><th style=\"text-align: right;\">  summary_C38</th><th style=\"text-align: right;\">  summary_C39</th><th style=\"text-align: right;\">  summary_C40</th><th style=\"text-align: right;\">  summary_C41</th><th style=\"text-align: right;\">  summary_C42</th><th style=\"text-align: right;\">  summary_C43</th><th style=\"text-align: right;\">  summary_C44</th><th style=\"text-align: right;\">  summary_C45</th><th style=\"text-align: right;\">  summary_C46</th><th style=\"text-align: right;\">  summary_C47</th><th style=\"text-align: right;\">  summary_C48</th><th style=\"text-align: right;\">  summary_C49</th><th style=\"text-align: right;\">  summary_C50</th><th style=\"text-align: right;\">  summary_C51</th><th style=\"text-align: right;\">  summary_C52</th><th style=\"text-align: right;\">  summary_C53</th><th style=\"text-align: right;\">  summary_C54</th><th style=\"text-align: right;\">  summary_C55</th><th style=\"text-align: right;\">  summary_C56</th><th style=\"text-align: right;\">  summary_C57</th><th style=\"text-align: right;\">  summary_C58</th><th style=\"text-align: right;\">  summary_C59</th><th style=\"text-align: right;\">  summary_C60</th><th style=\"text-align: right;\">  summary_C61</th><th style=\"text-align: right;\">  summary_C62</th><th style=\"text-align: right;\">  summary_C63</th><th style=\"text-align: right;\">  summary_C64</th><th style=\"text-align: right;\">  summary_C65</th><th style=\"text-align: right;\">  summary_C66</th><th style=\"text-align: right;\">  summary_C67</th><th style=\"text-align: right;\">  summary_C68</th><th style=\"text-align: right;\">  summary_C69</th><th style=\"text-align: right;\">  summary_C70</th><th style=\"text-align: right;\">  summary_C71</th><th style=\"text-align: right;\">  summary_C72</th><th style=\"text-align: right;\">  summary_C73</th><th style=\"text-align: right;\">  summary_C74</th><th style=\"text-align: right;\">  summary_C75</th><th style=\"text-align: right;\">  summary_C76</th><th style=\"text-align: right;\">  summary_C77</th><th style=\"text-align: right;\">  summary_C78</th><th style=\"text-align: right;\">  summary_C79</th><th style=\"text-align: right;\">  summary_C80</th><th style=\"text-align: right;\">  summary_C81</th><th style=\"text-align: right;\">  summary_C82</th><th style=\"text-align: right;\">  summary_C83</th><th style=\"text-align: right;\">  summary_C84</th><th style=\"text-align: right;\">  summary_C85</th><th style=\"text-align: right;\">  summary_C86</th><th style=\"text-align: right;\">  summary_C87</th><th style=\"text-align: right;\">  summary_C88</th></tr>\n",
       "</thead>\n",
       "<tbody>\n",
       "<tr><td>B00141QYSQ </td><td>A1YS02UZZGRDCT</td><td>Do Not Buy                  </td><td style=\"text-align: right;\">      1</td><td style=\"text-align: right;\">                       2</td><td style=\"text-align: right;\"> 41471</td><td>Evan Eberhardt     </td><td style=\"text-align: right;\">                     2</td><td style=\"text-align: right;\">1.34836e+09</td><td>These are made in China (do not buy ANY pet food from China).  Dogswell has been using propylene glycol to soften their treats (what are they thinkng?).  Do not purchase or support this company in any way until they clean up their act.  And for whatever reason Amazon doesn't allow returns of this item, so I had to toss mine out.  Bad business all around on this one.</td><td style=\"text-align: right;\">               0</td><td>No     </td><td style=\"text-align: right;\"> 0.0512379</td><td style=\"text-align: right;\">-0.0721153</td><td style=\"text-align: right;\">-0.126178 </td><td style=\"text-align: right;\">-0.0675017</td><td style=\"text-align: right;\">0.133391   </td><td style=\"text-align: right;\">0.0797587</td><td style=\"text-align: right;\"> 0.0103142</td><td style=\"text-align: right;\">-0.0321239</td><td style=\"text-align: right;\">0.165245 </td><td style=\"text-align: right;\">0.00981174</td><td style=\"text-align: right;\">-0.143481</td><td style=\"text-align: right;\"> 0.0289136</td><td style=\"text-align: right;\"> 0.0474616</td><td style=\"text-align: right;\">-0.00893912</td><td style=\"text-align: right;\">0.0730752</td><td style=\"text-align: right;\">-0.0257454</td><td style=\"text-align: right;\">0.0984852</td><td style=\"text-align: right;\">0.0545966</td><td style=\"text-align: right;\">-0.103137 </td><td style=\"text-align: right;\"> 0.0337534</td><td style=\"text-align: right;\">0.0722866</td><td style=\"text-align: right;\">-0.117647   </td><td style=\"text-align: right;\"> 0.0719933</td><td style=\"text-align: right;\">-0.00717525</td><td style=\"text-align: right;\">0.170082</td><td style=\"text-align: right;\">0.225122</td><td style=\"text-align: right;\"> 0.0606087</td><td style=\"text-align: right;\">0.0557539</td><td style=\"text-align: right;\">-0.0101719</td><td style=\"text-align: right;\">-0.0337641</td><td style=\"text-align: right;\"> 0.0890614</td><td style=\"text-align: right;\"> 0.125439   </td><td style=\"text-align: right;\">0.0406681</td><td style=\"text-align: right;\">-0.163944 </td><td style=\"text-align: right;\"> 0.0372714</td><td style=\"text-align: right;\">-0.103612 </td><td style=\"text-align: right;\">-0.0610768</td><td style=\"text-align: right;\">-0.0868357</td><td style=\"text-align: right;\">-0.0629312</td><td style=\"text-align: right;\">-0.0709757 </td><td style=\"text-align: right;\">0.187342</td><td style=\"text-align: right;\">-0.212725</td><td style=\"text-align: right;\">-0.0660549</td><td style=\"text-align: right;\">-0.0952291</td><td style=\"text-align: right;\">-0.12006 </td><td style=\"text-align: right;\">-0.102281 </td><td style=\"text-align: right;\"> 0.0815568</td><td style=\"text-align: right;\">-0.0865792</td><td style=\"text-align: right;\">-0.0256489</td><td style=\"text-align: right;\">-0.0422642</td><td style=\"text-align: right;\">0.173156</td><td style=\"text-align: right;\">-0.10062  </td><td style=\"text-align: right;\">0.0507264</td><td style=\"text-align: right;\">0.0371746</td><td style=\"text-align: right;\">-0.0435043</td><td style=\"text-align: right;\">-0.125482 </td><td style=\"text-align: right;\">-0.120687 </td><td style=\"text-align: right;\">0.0600584 </td><td style=\"text-align: right;\">0.190227 </td><td style=\"text-align: right;\"> 0.0119428</td><td style=\"text-align: right;\">-0.185613 </td><td style=\"text-align: right;\">0.14711  </td><td style=\"text-align: right;\">-0.118    </td><td style=\"text-align: right;\">-0.215221</td><td style=\"text-align: right;\"> 0.0262088 </td><td style=\"text-align: right;\">-0.0996552</td><td style=\"text-align: right;\">-0.0704781</td><td style=\"text-align: right;\"> 0.00642797</td><td style=\"text-align: right;\">-0.0657946</td><td style=\"text-align: right;\"> 0.0960828</td><td style=\"text-align: right;\">-0.0275167</td><td style=\"text-align: right;\">-0.00925819</td><td style=\"text-align: right;\">0.340143</td><td style=\"text-align: right;\">-0.121041  </td><td style=\"text-align: right;\">-0.198822 </td><td style=\"text-align: right;\">-0.0109744</td><td style=\"text-align: right;\"> 0.134112 </td><td style=\"text-align: right;\">0.0939372</td><td style=\"text-align: right;\">-0.0549693</td><td style=\"text-align: right;\">-0.099764   </td><td style=\"text-align: right;\"> 0.104656 </td><td style=\"text-align: right;\">-0.0252465</td><td style=\"text-align: right;\"> 0.14791   </td><td style=\"text-align: right;\">0.165482 </td><td style=\"text-align: right;\">-0.0873977</td><td style=\"text-align: right;\"> 0.022409   </td><td style=\"text-align: right;\"> 0.0914604</td><td style=\"text-align: right;\">0.104332</td><td style=\"text-align: right;\"> 0.00821659</td><td style=\"text-align: right;\"> 0.0849414 </td><td style=\"text-align: right;\"> 0.194656</td><td style=\"text-align: right;\">0.097533 </td><td style=\"text-align: right;\">-0.17078  </td><td style=\"text-align: right;\">0.0591113</td><td style=\"text-align: right;\"> 0.130509 </td><td style=\"text-align: right;\">-0.0917772 </td><td style=\"text-align: right;\">-0.0249882</td><td style=\"text-align: right;\">0.00505108</td><td style=\"text-align: right;\">0.0983926</td><td style=\"text-align: right;\">-0.0647734</td><td style=\"text-align: right;\">   0.0736377</td><td style=\"text-align: right;\">  -0.0810629</td><td style=\"text-align: right;\">  -0.233307 </td><td style=\"text-align: right;\">    0.119556</td><td style=\"text-align: right;\">   0.273844 </td><td style=\"text-align: right;\">    0.146597</td><td style=\"text-align: right;\">   0.0810001</td><td style=\"text-align: right;\">   0.0262271</td><td style=\"text-align: right;\">    0.172565</td><td style=\"text-align: right;\">   0.163316  </td><td style=\"text-align: right;\">    0.107849 </td><td style=\"text-align: right;\">    0.167474 </td><td style=\"text-align: right;\">    -0.143067</td><td style=\"text-align: right;\">   -0.0669737</td><td style=\"text-align: right;\">   -0.162076 </td><td style=\"text-align: right;\">    -0.281517</td><td style=\"text-align: right;\">     0.266991</td><td style=\"text-align: right;\">    0.225231 </td><td style=\"text-align: right;\">   -0.119962 </td><td style=\"text-align: right;\">    0.085762 </td><td style=\"text-align: right;\">    0.34738  </td><td style=\"text-align: right;\">   -0.147216 </td><td style=\"text-align: right;\">     0.244031</td><td style=\"text-align: right;\">    -0.106265</td><td style=\"text-align: right;\">     0.048189</td><td style=\"text-align: right;\">    0.123948 </td><td style=\"text-align: right;\">    0.0286488</td><td style=\"text-align: right;\">    0.315517 </td><td style=\"text-align: right;\">    0.0182133</td><td style=\"text-align: right;\">   -0.0323263</td><td style=\"text-align: right;\">    0.107456 </td><td style=\"text-align: right;\">   0.159556  </td><td style=\"text-align: right;\">     0.266639</td><td style=\"text-align: right;\">   -0.127413 </td><td style=\"text-align: right;\">    0.132284 </td><td style=\"text-align: right;\">   -0.164774 </td><td style=\"text-align: right;\">  -0.0510552 </td><td style=\"text-align: right;\">   -0.0635668</td><td style=\"text-align: right;\">  -0.0392876 </td><td style=\"text-align: right;\">   -0.0473435</td><td style=\"text-align: right;\">   0.240479  </td><td style=\"text-align: right;\">   -0.22309  </td><td style=\"text-align: right;\">    0.151396 </td><td style=\"text-align: right;\">    -0.117162</td><td style=\"text-align: right;\">   -0.0677344</td><td style=\"text-align: right;\">   -0.215658 </td><td style=\"text-align: right;\">   0.130223  </td><td style=\"text-align: right;\">    0.0672749</td><td style=\"text-align: right;\">   -0.053456 </td><td style=\"text-align: right;\">   -0.0435957</td><td style=\"text-align: right;\">     0.245803</td><td style=\"text-align: right;\">   -0.101941 </td><td style=\"text-align: right;\">    0.0894694</td><td style=\"text-align: right;\">    -0.258211</td><td style=\"text-align: right;\">   -0.103474 </td><td style=\"text-align: right;\">    -0.290408</td><td style=\"text-align: right;\">    0.0963493</td><td style=\"text-align: right;\">    0.294477 </td><td style=\"text-align: right;\">   -0.0831381</td><td style=\"text-align: right;\">    0.0465214</td><td style=\"text-align: right;\">    -0.371121</td><td style=\"text-align: right;\">   -0.0618943</td><td style=\"text-align: right;\">   -0.0920712</td><td style=\"text-align: right;\">   -0.0307658</td><td style=\"text-align: right;\">    0.0923208</td><td style=\"text-align: right;\">   -0.310648 </td><td style=\"text-align: right;\">     0.133186</td><td style=\"text-align: right;\">   -0.0561045</td><td style=\"text-align: right;\">    0.0778475</td><td style=\"text-align: right;\">     0.176205</td><td style=\"text-align: right;\">    -0.191849</td><td style=\"text-align: right;\">   -0.0588145</td><td style=\"text-align: right;\">    0.0938209</td><td style=\"text-align: right;\">   -0.0358418</td><td style=\"text-align: right;\">  -0.190993  </td><td style=\"text-align: right;\">    0.0545527</td><td style=\"text-align: right;\">    0.286906 </td><td style=\"text-align: right;\">   -0.0384496</td><td style=\"text-align: right;\">    0.0926618</td><td style=\"text-align: right;\">    0.079439 </td><td style=\"text-align: right;\">    0.281317 </td><td style=\"text-align: right;\">     0.118198</td><td style=\"text-align: right;\">    0.0748386</td><td style=\"text-align: right;\">    0.100166 </td><td style=\"text-align: right;\">   0.0118044 </td><td style=\"text-align: right;\">    0.274698 </td><td style=\"text-align: right;\">   -0.175892 </td><td style=\"text-align: right;\">    0.245491 </td></tr>\n",
       "<tr><td>B0089SPEO2 </td><td>A3JOYNYL458QHP</td><td>Less lemon and less zing    </td><td style=\"text-align: right;\">      3</td><td style=\"text-align: right;\">                       0</td><td style=\"text-align: right;\"> 28582</td><td>coleridge          </td><td style=\"text-align: right;\">                     0</td><td style=\"text-align: right;\">1.32391e+09</td><td>Everything is ok, except it just isn't as good as it is in the bags.  Just considerably more bland -- less lemon and less zing.  Boring.                                                                                                                                                                                                                                        </td><td style=\"text-align: right;\">               0</td><td>Yes    </td><td style=\"text-align: right;\">-0.102811 </td><td style=\"text-align: right;\"> 0.0899272</td><td style=\"text-align: right;\">-0.272719 </td><td style=\"text-align: right;\"> 0.186553 </td><td style=\"text-align: right;\">0.000563222</td><td style=\"text-align: right;\">0.0697949</td><td style=\"text-align: right;\">-0.0506965</td><td style=\"text-align: right;\">-0.181621 </td><td style=\"text-align: right;\">0.0777185</td><td style=\"text-align: right;\">0.0570193 </td><td style=\"text-align: right;\">-0.105523</td><td style=\"text-align: right;\"> 0.0492056</td><td style=\"text-align: right;\"> 0.0385661</td><td style=\"text-align: right;\">-0.0310148 </td><td style=\"text-align: right;\">0.0253276</td><td style=\"text-align: right;\">-0.095058 </td><td style=\"text-align: right;\">0.365915 </td><td style=\"text-align: right;\">0.0639881</td><td style=\"text-align: right;\"> 0.0233523</td><td style=\"text-align: right;\"> 0.0576137</td><td style=\"text-align: right;\">0.046762 </td><td style=\"text-align: right;\">-0.000548813</td><td style=\"text-align: right;\">-0.0972925</td><td style=\"text-align: right;\">-0.12184   </td><td style=\"text-align: right;\">0.130667</td><td style=\"text-align: right;\">0.032563</td><td style=\"text-align: right;\">-0.0454111</td><td style=\"text-align: right;\">0.192679 </td><td style=\"text-align: right;\">-0.139175 </td><td style=\"text-align: right;\">-0.216413 </td><td style=\"text-align: right;\"> 0.0562242</td><td style=\"text-align: right;\"> 0.0883327  </td><td style=\"text-align: right;\">0.17756  </td><td style=\"text-align: right;\">-0.0666698</td><td style=\"text-align: right;\">-0.155944 </td><td style=\"text-align: right;\"> 0.0647825</td><td style=\"text-align: right;\">-0.047138 </td><td style=\"text-align: right;\">-0.124999 </td><td style=\"text-align: right;\">-0.148338 </td><td style=\"text-align: right;\">-0.153326  </td><td style=\"text-align: right;\">0.112941</td><td style=\"text-align: right;\">-0.093841</td><td style=\"text-align: right;\"> 0.106316 </td><td style=\"text-align: right;\">-0.161091 </td><td style=\"text-align: right;\">-0.118615</td><td style=\"text-align: right;\">-0.0725353</td><td style=\"text-align: right;\">-0.0285193</td><td style=\"text-align: right;\">-0.0675796</td><td style=\"text-align: right;\">-0.146703 </td><td style=\"text-align: right;\">-0.127906 </td><td style=\"text-align: right;\">0.207368</td><td style=\"text-align: right;\">-0.0951551</td><td style=\"text-align: right;\">0.0189869</td><td style=\"text-align: right;\">0.124064 </td><td style=\"text-align: right;\"> 0.0611086</td><td style=\"text-align: right;\">-0.106155 </td><td style=\"text-align: right;\">-0.0707478</td><td style=\"text-align: right;\">0.00794821</td><td style=\"text-align: right;\">0.0533304</td><td style=\"text-align: right;\">-0.0343946</td><td style=\"text-align: right;\">-0.0832121</td><td style=\"text-align: right;\">0.0376601</td><td style=\"text-align: right;\">-0.101214 </td><td style=\"text-align: right;\">-0.188025</td><td style=\"text-align: right;\">-0.00332731</td><td style=\"text-align: right;\">-0.0772085</td><td style=\"text-align: right;\"> 0.0631542</td><td style=\"text-align: right;\">-0.18866   </td><td style=\"text-align: right;\">-0.0308454</td><td style=\"text-align: right;\">-0.111446 </td><td style=\"text-align: right;\">-0.195389 </td><td style=\"text-align: right;\"> 0.130382  </td><td style=\"text-align: right;\">0.110561</td><td style=\"text-align: right;\"> 0.00775046</td><td style=\"text-align: right;\"> 0.0465446</td><td style=\"text-align: right;\"> 0.117701 </td><td style=\"text-align: right;\">-0.0199998</td><td style=\"text-align: right;\">0.0675421</td><td style=\"text-align: right;\">-0.0209609</td><td style=\"text-align: right;\"> 0.000774351</td><td style=\"text-align: right;\">-0.0785983</td><td style=\"text-align: right;\"> 0.0143899</td><td style=\"text-align: right;\">-0.0191827 </td><td style=\"text-align: right;\">0.0679432</td><td style=\"text-align: right;\">-0.0631088</td><td style=\"text-align: right;\"> 3.91559e-05</td><td style=\"text-align: right;\">-0.0792461</td><td style=\"text-align: right;\">0.152418</td><td style=\"text-align: right;\">-0.0989963 </td><td style=\"text-align: right;\"> 0.0437758 </td><td style=\"text-align: right;\">-0.054269</td><td style=\"text-align: right;\">0.0628672</td><td style=\"text-align: right;\">-0.0293196</td><td style=\"text-align: right;\">0.0288921</td><td style=\"text-align: right;\"> 0.0689408</td><td style=\"text-align: right;\">-0.0852168 </td><td style=\"text-align: right;\">-0.0441468</td><td style=\"text-align: right;\">0.0396573 </td><td style=\"text-align: right;\">0.0131587</td><td style=\"text-align: right;\"> 0.0746652</td><td style=\"text-align: right;\">  -0.211636 </td><td style=\"text-align: right;\">   0.0219165</td><td style=\"text-align: right;\">  -0.300489 </td><td style=\"text-align: right;\">    0.131378</td><td style=\"text-align: right;\">  -0.0129829</td><td style=\"text-align: right;\">    0.108218</td><td style=\"text-align: right;\">  -0.0807099</td><td style=\"text-align: right;\">  -0.180085 </td><td style=\"text-align: right;\">    0.11064 </td><td style=\"text-align: right;\">  -0.00482565</td><td style=\"text-align: right;\">   -0.0616797</td><td style=\"text-align: right;\">    0.274178 </td><td style=\"text-align: right;\">     0.128698</td><td style=\"text-align: right;\">   -0.057457 </td><td style=\"text-align: right;\">    0.0987354</td><td style=\"text-align: right;\">    -0.118583</td><td style=\"text-align: right;\">     0.516916</td><td style=\"text-align: right;\">   -0.0593294</td><td style=\"text-align: right;\">    0.0519843</td><td style=\"text-align: right;\">   -0.0315495</td><td style=\"text-align: right;\">   -0.0581852</td><td style=\"text-align: right;\">    0.0480951</td><td style=\"text-align: right;\">    -0.234762</td><td style=\"text-align: right;\">    -0.230829</td><td style=\"text-align: right;\">     0.178799</td><td style=\"text-align: right;\">    0.0775874</td><td style=\"text-align: right;\">   -0.0680471</td><td style=\"text-align: right;\">    0.304915 </td><td style=\"text-align: right;\">   -0.250292 </td><td style=\"text-align: right;\">   -0.282596 </td><td style=\"text-align: right;\">   -0.0597496</td><td style=\"text-align: right;\">   0.216008  </td><td style=\"text-align: right;\">     0.291996</td><td style=\"text-align: right;\">   -0.0123428</td><td style=\"text-align: right;\">   -0.0455536</td><td style=\"text-align: right;\">    0.189858 </td><td style=\"text-align: right;\">   0.00205489</td><td style=\"text-align: right;\">   -0.13076  </td><td style=\"text-align: right;\">  -0.274252  </td><td style=\"text-align: right;\">   -0.207607 </td><td style=\"text-align: right;\">   0.00760113</td><td style=\"text-align: right;\">   -0.0468316</td><td style=\"text-align: right;\">    0.197605 </td><td style=\"text-align: right;\">    -0.248127</td><td style=\"text-align: right;\">   -0.132058 </td><td style=\"text-align: right;\">    0.0913117</td><td style=\"text-align: right;\">  -0.0560099 </td><td style=\"text-align: right;\">   -0.0903104</td><td style=\"text-align: right;\">   -0.0340284</td><td style=\"text-align: right;\">   -0.206358 </td><td style=\"text-align: right;\">     0.271502</td><td style=\"text-align: right;\">   -0.0157532</td><td style=\"text-align: right;\">   -0.0147974</td><td style=\"text-align: right;\">     0.117984</td><td style=\"text-align: right;\">   -0.0664477</td><td style=\"text-align: right;\">    -0.256165</td><td style=\"text-align: right;\">   -0.158254 </td><td style=\"text-align: right;\">   -0.0805706</td><td style=\"text-align: right;\">    0.0624131</td><td style=\"text-align: right;\">    0.0235627</td><td style=\"text-align: right;\">    -0.04742 </td><td style=\"text-align: right;\">    0.201229 </td><td style=\"text-align: right;\">    0.0319778</td><td style=\"text-align: right;\">   -0.0328985</td><td style=\"text-align: right;\">   -0.137558 </td><td style=\"text-align: right;\">    0.130709 </td><td style=\"text-align: right;\">     0.10352 </td><td style=\"text-align: right;\">   -0.165166 </td><td style=\"text-align: right;\">    0.10226  </td><td style=\"text-align: right;\">    -0.1516  </td><td style=\"text-align: right;\">    -0.377221</td><td style=\"text-align: right;\">    0.281924 </td><td style=\"text-align: right;\">   -0.0394196</td><td style=\"text-align: right;\">    0.0857304</td><td style=\"text-align: right;\">   0.00520321</td><td style=\"text-align: right;\">    0.168823 </td><td style=\"text-align: right;\">   -0.0251084</td><td style=\"text-align: right;\">    0.136713 </td><td style=\"text-align: right;\">   -0.0774922</td><td style=\"text-align: right;\">   -0.0466276</td><td style=\"text-align: right;\">   -0.0426052</td><td style=\"text-align: right;\">    -0.062134</td><td style=\"text-align: right;\">   -0.0203903</td><td style=\"text-align: right;\">    0.0710706</td><td style=\"text-align: right;\">   0.00528798</td><td style=\"text-align: right;\">   -0.148912 </td><td style=\"text-align: right;\">   -0.0267653</td><td style=\"text-align: right;\">    0.134844 </td></tr>\n",
       "<tr><td>B001PMCDK2 </td><td>A14TTMM0Z03Y2W</td><td>my cat goes crazy for these!</td><td style=\"text-align: right;\">      5</td><td style=\"text-align: right;\">                       0</td><td style=\"text-align: right;\">389965</td><td>Lindsay S. Bradford</td><td style=\"text-align: right;\">                     0</td><td style=\"text-align: right;\">1.3106e+09 </td><td>Best cat treat ever. There isn't anything comparable to the love my cat has for these treats, he snubs away any other kind now.<br />I know he likes to manipulate me with his cattiness but these treats are my way of manipulating him to come sit on my lap and have some chill time. :)                                                                                     </td><td style=\"text-align: right;\">               1</td><td>Yes    </td><td style=\"text-align: right;\"> 0.114766 </td><td style=\"text-align: right;\">-0.0130438</td><td style=\"text-align: right;\">-0.0585974</td><td style=\"text-align: right;\"> 0.192156 </td><td style=\"text-align: right;\">0.0197537  </td><td style=\"text-align: right;\">0.194264 </td><td style=\"text-align: right;\">-0.155685 </td><td style=\"text-align: right;\">-0.0380314</td><td style=\"text-align: right;\">0.129872 </td><td style=\"text-align: right;\">0.0262021 </td><td style=\"text-align: right;\">-0.111184</td><td style=\"text-align: right;\">-0.0273064</td><td style=\"text-align: right;\">-0.0928112</td><td style=\"text-align: right;\"> 0.0242255 </td><td style=\"text-align: right;\">0.0413844</td><td style=\"text-align: right;\"> 0.0206594</td><td style=\"text-align: right;\">0.167563 </td><td style=\"text-align: right;\">0.0965946</td><td style=\"text-align: right;\">-0.0847301</td><td style=\"text-align: right;\">-0.0060851</td><td style=\"text-align: right;\">0.061817 </td><td style=\"text-align: right;\">-0.0691705  </td><td style=\"text-align: right;\"> 0.0898456</td><td style=\"text-align: right;\">-0.0151252 </td><td style=\"text-align: right;\">0.277772</td><td style=\"text-align: right;\">0.134352</td><td style=\"text-align: right;\">-0.0185895</td><td style=\"text-align: right;\">0.118439 </td><td style=\"text-align: right;\"> 0.0696441</td><td style=\"text-align: right;\">-0.0672173</td><td style=\"text-align: right;\">-0.0269194</td><td style=\"text-align: right;\">-0.000672309</td><td style=\"text-align: right;\">0.0787096</td><td style=\"text-align: right;\">-0.0681709</td><td style=\"text-align: right;\">-0.0711446</td><td style=\"text-align: right;\">-0.0658397</td><td style=\"text-align: right;\"> 0.0161586</td><td style=\"text-align: right;\">-0.105155 </td><td style=\"text-align: right;\">-0.0795295</td><td style=\"text-align: right;\"> 0.00550839</td><td style=\"text-align: right;\">0.126492</td><td style=\"text-align: right;\">-0.325898</td><td style=\"text-align: right;\"> 0.0462371</td><td style=\"text-align: right;\"> 0.0526431</td><td style=\"text-align: right;\">-0.245147</td><td style=\"text-align: right;\">-0.150611 </td><td style=\"text-align: right;\">-0.0480858</td><td style=\"text-align: right;\">-0.0908135</td><td style=\"text-align: right;\">-0.0643411</td><td style=\"text-align: right;\">-0.0898466</td><td style=\"text-align: right;\">0.102228</td><td style=\"text-align: right;\">-0.190876 </td><td style=\"text-align: right;\">0.0801595</td><td style=\"text-align: right;\">0.0271656</td><td style=\"text-align: right;\"> 0.0713714</td><td style=\"text-align: right;\">-0.0659811</td><td style=\"text-align: right;\">-0.158864 </td><td style=\"text-align: right;\">0.0269519 </td><td style=\"text-align: right;\">0.151973 </td><td style=\"text-align: right;\"> 0.0358079</td><td style=\"text-align: right;\">-0.214575 </td><td style=\"text-align: right;\">0.0922647</td><td style=\"text-align: right;\"> 0.0375101</td><td style=\"text-align: right;\">-0.16325 </td><td style=\"text-align: right;\">-0.0637603 </td><td style=\"text-align: right;\">-0.0583825</td><td style=\"text-align: right;\">-0.0362767</td><td style=\"text-align: right;\">-0.191543  </td><td style=\"text-align: right;\"> 0.0216575</td><td style=\"text-align: right;\"> 0.0662444</td><td style=\"text-align: right;\">-0.0306051</td><td style=\"text-align: right;\"> 0.0102041 </td><td style=\"text-align: right;\">0.253715</td><td style=\"text-align: right;\">-0.0464548 </td><td style=\"text-align: right;\">-0.048272 </td><td style=\"text-align: right;\"> 0.0127641</td><td style=\"text-align: right;\"> 0.134411 </td><td style=\"text-align: right;\">0.053524 </td><td style=\"text-align: right;\">-0.0218468</td><td style=\"text-align: right;\">-0.141084   </td><td style=\"text-align: right;\"> 0.0633585</td><td style=\"text-align: right;\">-0.0392519</td><td style=\"text-align: right;\"> 0.00626611</td><td style=\"text-align: right;\">0.114351 </td><td style=\"text-align: right;\">-0.0226757</td><td style=\"text-align: right;\">-0.0482335  </td><td style=\"text-align: right;\"> 0.0436043</td><td style=\"text-align: right;\">0.081014</td><td style=\"text-align: right;\">-0.0366357 </td><td style=\"text-align: right;\">-0.00668707</td><td style=\"text-align: right;\"> 0.110992</td><td style=\"text-align: right;\">0.0777355</td><td style=\"text-align: right;\">-0.0923303</td><td style=\"text-align: right;\">0.0628455</td><td style=\"text-align: right;\">-0.0494678</td><td style=\"text-align: right;\"> 0.00479656</td><td style=\"text-align: right;\">-0.0377145</td><td style=\"text-align: right;\">0.0311264 </td><td style=\"text-align: right;\">0.064878 </td><td style=\"text-align: right;\"> 0.0711151</td><td style=\"text-align: right;\">   0.101544 </td><td style=\"text-align: right;\">  -0.102591 </td><td style=\"text-align: right;\">  -0.0737409</td><td style=\"text-align: right;\">    0.209812</td><td style=\"text-align: right;\">   0.0915192</td><td style=\"text-align: right;\">    0.24846 </td><td style=\"text-align: right;\">  -0.0822785</td><td style=\"text-align: right;\">  -0.100451 </td><td style=\"text-align: right;\">    0.121337</td><td style=\"text-align: right;\">  -0.176796  </td><td style=\"text-align: right;\">   -0.0305047</td><td style=\"text-align: right;\">    0.0629717</td><td style=\"text-align: right;\">    -0.189969</td><td style=\"text-align: right;\">   -0.0367526</td><td style=\"text-align: right;\">    0.0696683</td><td style=\"text-align: right;\">     0.26417 </td><td style=\"text-align: right;\">     0.204324</td><td style=\"text-align: right;\">   -0.0179451</td><td style=\"text-align: right;\">   -0.0761816</td><td style=\"text-align: right;\">    0.121034 </td><td style=\"text-align: right;\">    0.180591 </td><td style=\"text-align: right;\">   -0.0641147</td><td style=\"text-align: right;\">     0.132007</td><td style=\"text-align: right;\">    -0.1149  </td><td style=\"text-align: right;\">     0.335019</td><td style=\"text-align: right;\">    0.185339 </td><td style=\"text-align: right;\">   -0.180112 </td><td style=\"text-align: right;\">    0.0461389</td><td style=\"text-align: right;\">    0.197568 </td><td style=\"text-align: right;\">   -0.1138   </td><td style=\"text-align: right;\">   -0.170654 </td><td style=\"text-align: right;\">  -0.00869607</td><td style=\"text-align: right;\">     0.284749</td><td style=\"text-align: right;\">   -0.0507246</td><td style=\"text-align: right;\">   -0.162588 </td><td style=\"text-align: right;\">    0.0334805</td><td style=\"text-align: right;\">  -0.00204549</td><td style=\"text-align: right;\">    0.0178182</td><td style=\"text-align: right;\">   0.00768609</td><td style=\"text-align: right;\">   -0.110932 </td><td style=\"text-align: right;\">   0.0991275 </td><td style=\"text-align: right;\">   -0.468923 </td><td style=\"text-align: right;\">    0.0707425</td><td style=\"text-align: right;\">     0.12888 </td><td style=\"text-align: right;\">   -0.233296 </td><td style=\"text-align: right;\">   -0.0219103</td><td style=\"text-align: right;\">  -0.00326746</td><td style=\"text-align: right;\">   -0.0103446</td><td style=\"text-align: right;\">   -0.322627 </td><td style=\"text-align: right;\">   -0.127751 </td><td style=\"text-align: right;\">     0.184461</td><td style=\"text-align: right;\">   -0.243169 </td><td style=\"text-align: right;\">    0.157124 </td><td style=\"text-align: right;\">     0.191337</td><td style=\"text-align: right;\">    0.0845236</td><td style=\"text-align: right;\">     0.08934 </td><td style=\"text-align: right;\">   -0.14739  </td><td style=\"text-align: right;\">   -0.10099  </td><td style=\"text-align: right;\">    0.0839067</td><td style=\"text-align: right;\">   -0.0952045</td><td style=\"text-align: right;\">    -0.213078</td><td style=\"text-align: right;\">    0.0937332</td><td style=\"text-align: right;\">   -0.0570652</td><td style=\"text-align: right;\">   -0.0651799</td><td style=\"text-align: right;\">   -0.127379 </td><td style=\"text-align: right;\">    0.0830512</td><td style=\"text-align: right;\">    -0.152995</td><td style=\"text-align: right;\">   -0.257013 </td><td style=\"text-align: right;\">    0.0596167</td><td style=\"text-align: right;\">     0.235364</td><td style=\"text-align: right;\">    -0.136257</td><td style=\"text-align: right;\">   -0.0611979</td><td style=\"text-align: right;\">    0.399781 </td><td style=\"text-align: right;\">    0.0323834</td><td style=\"text-align: right;\">   0.0789574 </td><td style=\"text-align: right;\">   -0.0943553</td><td style=\"text-align: right;\">    0.161078 </td><td style=\"text-align: right;\">    0.0225497</td><td style=\"text-align: right;\">    0.041    </td><td style=\"text-align: right;\">   -0.318998 </td><td style=\"text-align: right;\">    0.156985 </td><td style=\"text-align: right;\">    -0.268106</td><td style=\"text-align: right;\">   -0.0677417</td><td style=\"text-align: right;\">    0.23531  </td><td style=\"text-align: right;\">  -0.248094  </td><td style=\"text-align: right;\">    0.0201291</td><td style=\"text-align: right;\">   -0.0989596</td><td style=\"text-align: right;\">    0.0711686</td></tr>\n",
       "</tbody>\n",
       "</table>"
      ]
     },
     "metadata": {},
     "output_type": "display_data"
    },
    {
     "data": {
      "text/plain": []
     },
     "execution_count": 27,
     "metadata": {},
     "output_type": "execute_result"
    }
   ],
   "source": [
    "ext_reviews_new.head(3)"
   ]
  },
  {
   "cell_type": "code",
   "execution_count": 28,
   "metadata": {},
   "outputs": [],
   "source": [
    "ext_train_new = ext_reviews_new[ext_reviews_new[\"Train\"] == \"Yes\"]\n",
    "ext_test_new = ext_reviews_new[ext_reviews_new[\"Train\"] == \"No\"]"
   ]
  },
  {
   "cell_type": "code",
   "execution_count": 30,
   "metadata": {},
   "outputs": [],
   "source": [
    "ext_train_simple = ext_train_new.drop([2, 6, 9])"
   ]
  },
  {
   "cell_type": "markdown",
   "metadata": {},
   "source": [
    "# 2 Training Models"
   ]
  },
  {
   "cell_type": "markdown",
   "metadata": {},
   "source": [
    "## 2.1 Linear Regression"
   ]
  },
  {
   "cell_type": "markdown",
   "metadata": {},
   "source": [
    "### 2.1.1 Train & Fit Model"
   ]
  },
  {
   "cell_type": "code",
   "execution_count": 31,
   "metadata": {},
   "outputs": [],
   "source": [
    "predictors = ['ProductId', 'UserId', 'HelpfulnessNumerator', 'HelpfulnessDenominator', 'Time'] + summary_vecs.names + review_vecs.names \n",
    "response = 'PositiveReview'"
   ]
  },
  {
   "cell_type": "code",
   "execution_count": 32,
   "metadata": {},
   "outputs": [
    {
     "name": "stdout",
     "output_type": "stream",
     "text": [
      "glm Model Build progress: |███████████████████████████████████████████████| 100%\n"
     ]
    }
   ],
   "source": [
    "# Initialize\n",
    "local_glm_plus = H2OGeneralizedLinearEstimator(family='binomial', model_id='glm_surrogate', lambda_search=True)\n",
    "# train \n",
    "local_glm_plus.train(x=predictors, y=response, training_frame=ext_train_new)"
   ]
  },
  {
   "cell_type": "markdown",
   "metadata": {},
   "source": [
    "### 2.1.2 Interpretability"
   ]
  },
  {
   "cell_type": "markdown",
   "metadata": {},
   "source": [
    "#### Variable Importance"
   ]
  },
  {
   "cell_type": "code",
   "execution_count": 33,
   "metadata": {},
   "outputs": [
    {
     "data": {
      "image/png": "[encoded data removed]",
      "text/plain": [
       "<Figure size 1008x720 with 1 Axes>"
      ]
     },
     "metadata": {
      "needs_background": "light"
     },
     "output_type": "display_data"
    }
   ],
   "source": [
    "local_glm_plus.varimp_plot()"
   ]
  },
  {
   "cell_type": "markdown",
   "metadata": {},
   "source": [
    "#### Partial Dependence Plot (PDP)"
   ]
  },
  {
   "cell_type": "code",
   "execution_count": 34,
   "metadata": {},
   "outputs": [
    {
     "name": "stdout",
     "output_type": "stream",
     "text": [
      "PartialDependencePlot progress: |█████████████████████████████████████████| 100%\n"
     ]
    },
    {
     "data": {
      "image/png": "[encoded data removed]",
      "text/plain": [
       "<Figure size 504x720 with 1 Axes>"
      ]
     },
     "metadata": {
      "needs_background": "light"
     },
     "output_type": "display_data"
    }
   ],
   "source": [
    "pdp_local_linear_plus = local_glm_plus.partial_plot(data = ext_train_new, cols = [\"HelpfulnessNumerator\"])"
   ]
  },
  {
   "cell_type": "markdown",
   "metadata": {},
   "source": [
    "#### Individual Conditional Expectation (ICE)"
   ]
  },
  {
   "cell_type": "code",
   "execution_count": null,
   "metadata": {},
   "outputs": [],
   "source": [
    "ext_train_simple = ext_train_simple.as_data_frame()"
   ]
  },
  {
   "cell_type": "code",
   "execution_count": null,
   "metadata": {},
   "outputs": [],
   "source": [
    "HelpfulnessNumerator_ice_df = ice(data=ext_train_simple, column='HelpfulnessNumerator', model=local_glm_plus)"
   ]
  },
  {
   "cell_type": "code",
   "execution_count": null,
   "metadata": {
    "scrolled": false
   },
   "outputs": [],
   "source": [
    "ice_plot(HelpfulnessNumerator_ice_df, linewidth=0.5, color_by='Score', cmap='coolwarm',\n",
    "        plot_pdp=True, pdp_kwargs={'c': 'k', 'linewidth': 3})\n",
    "vals = HelpfulnessNumerator_ice_df.columns.get_level_values('Score').values\n",
    "sm = plt.cm.ScalarMappable(cmap='coolwarm', norm=plt.Normalize(vmin=vals.min(), vmax=vals.max()))\n",
    "sm._A = []\n",
    "plt.colorbar(sm, label='Score')\n",
    "plt.ylabel('Pred. AV %ile')\n",
    "plt.xlabel('HelpfulnessNumerator');"
   ]
  },
  {
   "cell_type": "markdown",
   "metadata": {},
   "source": [
    "### 2.1.3 Matrix"
   ]
  },
  {
   "cell_type": "code",
   "execution_count": 50,
   "metadata": {},
   "outputs": [
    {
     "name": "stdout",
     "output_type": "stream",
     "text": [
      "\n",
      "Local GLM Coefficients:\n",
      "C53:                      -4.248085286646444\n",
      "C86:                      -3.5439977155180338\n",
      "C93:                      -3.32167742998596\n",
      "C16:                      -3.1467313473222807\n",
      "C20:                      -2.509872132762661\n",
      "C55:                      -2.486115276669438\n",
      "C24:                      -2.370334798592705\n",
      "C33:                      -2.3123344172756872\n",
      "C18:                      -2.2967692009028213\n",
      "C28:                      -2.246327242881251\n",
      "C65:                      -2.013226005963354\n",
      "C79:                      -1.9437759948587077\n",
      "C83:                      -1.8984423139292799\n",
      "C31:                      -1.7364059149347912\n",
      "C38:                      -1.5675858344386404\n",
      "C7:                       -1.5105131786866604\n",
      "C9:                       -1.27399165107544\n",
      "C39:                      -1.2661789669138837\n",
      "C19:                      -1.245008080454141\n",
      "C58:                      -1.0413349420949007\n",
      "C70:                      -1.0327204821644953\n",
      "C57:                      -1.003777790016131\n",
      "C90:                      -0.8207675224905491\n",
      "C21:                      -0.8114184902849282\n",
      "summary_C24:              -0.7929603808175808\n",
      "summary_C57:              -0.7636947758229375\n",
      "summary_C86:              -0.7636499569956241\n",
      "summary_C7:               -0.7554052079467344\n",
      "C80:                      -0.7553778680514884\n",
      "C67:                      -0.7465891216212341\n",
      "C22:                      -0.6998139893026891\n",
      "summary_C38:              -0.6805686816111057\n",
      "summary_C33:              -0.6752250878367531\n",
      "summary_C67:              -0.6534650436733528\n",
      "summary_C19:              -0.6157770336564573\n",
      "C13:                      -0.6047482736081096\n",
      "summary_C55:              -0.5966995464189375\n",
      "C94:                      -0.5879485718147838\n",
      "summary_C31:              -0.5870952429021885\n",
      "summary_C58:              -0.5861464962019902\n",
      "C32:                      -0.5730730634561071\n",
      "summary_C53:              -0.5687721098452135\n",
      "C75:                      -0.5535266174585841\n",
      "C30:                      -0.5334774169662699\n",
      "summary_C85:              -0.5247459891852818\n",
      "summary_C10:              -0.5196686362621187\n",
      "summary_C65:              -0.48759539096868115\n",
      "C85:                      -0.47312486576495916\n",
      "summary_C39:              -0.45964228519662714\n",
      "summary_C90:              -0.43855727144089957\n",
      "summary_C28:              -0.4232448448668137\n",
      "summary_C93:              -0.4218643933592809\n",
      "summary_C9:               -0.4188512758401457\n",
      "C45:                      -0.39276525232348947\n",
      "C10:                      -0.37531274657570357\n",
      "summary_C22:              -0.3742772065164926\n",
      "summary_C16:              -0.37248114369244123\n",
      "summary_C20:              -0.350205077411364\n",
      "summary_C62:              -0.34039500203407125\n",
      "summary_C40:              -0.33659889924964176\n",
      "summary_C79:              -0.2921858199075075\n",
      "summary_C76:              -0.2677787562648641\n",
      "C91:                      -0.22219448536206352\n",
      "C59:                      -0.2189376777171268\n",
      "summary_C8:               -0.21759861429585173\n",
      "summary_C72:              -0.20073451022872474\n",
      "summary_C30:              -0.17611465547518151\n",
      "summary_C13:              -0.1748125524812727\n",
      "summary_C83:              -0.16674544881382658\n",
      "summary_C26:              -0.12118536319446543\n",
      "HelpfulnessDenominator:   -0.10894693130233643\n",
      "summary_C94:              -0.10452682634660843\n",
      "summary_C41:              -0.09961733919720285\n",
      "summary_C21:              -0.08912269056690676\n",
      "C72:                      -0.08694056513100434\n",
      "summary_C91:              -0.0833254639053265\n",
      "C98:                      -0.06974446304934669\n",
      "C61:                      -0.06705759520409205\n",
      "C41:                      -0.06268649511473406\n",
      "summary_C32:              -0.06021668861053706\n",
      "C37:                      -0.052310124275932984\n",
      "summary_C70:              -0.048775608895396984\n",
      "summary_C5:               -0.023627836363527964\n",
      "summary_C95:              -0.019584882390538325\n",
      "summary_C42:              -0.012824973813512025\n",
      "summary_C43:              -0.006197632264768261\n",
      "Time:                     -1.0214681072327504e-09\n",
      "summary_C3:               0.0024348837780913033\n",
      "C73:                      0.031145686085319983\n",
      "summary_C63:              0.05001147632939781\n",
      "summary_C89:              0.05412218826575877\n",
      "summary_C2:               0.0560132839244749\n",
      "C17:                      0.06077490497049776\n",
      "summary_C69:              0.06957935852960437\n",
      "C78:                      0.07989026449827842\n",
      "summary_C82:              0.09027259932164348\n",
      "summary_C6:               0.10317455703595006\n",
      "summary_C52:              0.10369203878342344\n",
      "HelpfulnessNumerator:     0.12577672325702544\n",
      "C40:                      0.13454963496425862\n",
      "C62:                      0.13485057938643766\n",
      "C1:                       0.14996230542594152\n",
      "C95:                      0.15858719710139083\n",
      "summary_C96:              0.19703394185824408\n",
      "C43:                      0.20394499785363746\n",
      "summary_C27:              0.231187919578107\n",
      "summary_C97:              0.23492857511613144\n",
      "C89:                      0.24414957646355354\n",
      "summary_C100:             0.24711440192935905\n",
      "summary_C17:              0.2661265303849088\n",
      "summary_C11:              0.2719871993312455\n",
      "summary_C46:              0.27310195386577757\n",
      "summary_C77:              0.27398391170186637\n",
      "summary_C14:              0.30542711744700957\n",
      "summary_C99:              0.31544033221569967\n",
      "C69:                      0.3292662321456055\n",
      "C29:                      0.3335461913041106\n",
      "C97:                      0.3406567028581277\n",
      "summary_C71:              0.3600258969942747\n",
      "summary_C34:              0.3909595488834864\n",
      "summary_C75:              0.4409173342557651\n",
      "C14:                      0.46577292884238175\n",
      "summary_C68:              0.4666374884206457\n",
      "summary_C25:              0.47816522130524913\n",
      "C76:                      0.5032249040210638\n",
      "C84:                      0.5071298277066236\n",
      "C15:                      0.5112815638589685\n",
      "summary_C66:              0.5166998715490789\n",
      "summary_C23:              0.5170706713243092\n",
      "C100:                     0.5211584187229356\n",
      "C42:                      0.5254998824416807\n",
      "summary_C87:              0.5415066944325175\n",
      "summary_C61:              0.5597235855279173\n",
      "summary_C64:              0.5800610445790415\n",
      "C23:                      0.5891401871922114\n",
      "summary_C50:              0.6142188334693428\n",
      "summary_C12:              0.6317310172508765\n",
      "summary_C98:              0.6327428111033994\n",
      "C47:                      0.642694132495398\n",
      "summary_C88:              0.6471524869367307\n",
      "summary_C35:              0.6852869655437058\n",
      "summary_C48:              0.7142713892534611\n",
      "C44:                      0.719187482072763\n",
      "summary_C78:              0.7536469184459185\n",
      "C11:                      0.7567324291599158\n",
      "C27:                      0.8321083623306639\n",
      "C51:                      0.8338739741118146\n",
      "summary_C36:              0.8344961072709212\n",
      "C56:                      0.8375898859250696\n",
      "C3:                       0.8427399955621818\n",
      "C88:                      0.915352208937401\n",
      "C4:                       0.9301641566977572\n",
      "C60:                      1.242773954577429\n",
      "C99:                      1.4194867492533403\n",
      "C34:                      1.4370187917873014\n",
      "C6:                       1.4372273473263633\n",
      "C50:                      1.4396701379535826\n",
      "C68:                      1.499020435141466\n",
      "C71:                      1.5117257626346694\n",
      "C64:                      1.7501062350217833\n",
      "C66:                      1.8187471849312928\n",
      "C77:                      1.83674894989209\n",
      "C96:                      1.8431011411700775\n",
      "C25:                      1.877065103940187\n",
      "C46:                      1.973937392140966\n",
      "C12:                      2.509349671854106\n",
      "C36:                      3.152601444905887\n",
      "C48:                      3.3365080954611703\n",
      "C35:                      3.358231463543325\n",
      "C87:                      3.7592431017097074\n",
      "Intercept:                3.783707610182716\n"
     ]
    }
   ],
   "source": [
    "print('\\nLocal GLM Coefficients:')\n",
    "for c_name, c_val in sorted(local_glm_plus.coef().items(), key=operator.itemgetter(1)):\n",
    "    if c_val != 0.0:\n",
    "        print('%s %s' % (str(c_name + ':').ljust(25), c_val))"
   ]
  },
  {
   "cell_type": "code",
   "execution_count": 51,
   "metadata": {},
   "outputs": [
    {
     "data": {
      "text/plain": [
       "{'train': 0.4302428504864454, 'valid': None}"
      ]
     },
     "execution_count": 51,
     "metadata": {},
     "output_type": "execute_result"
    }
   ],
   "source": [
    "local_glm_plus.r2(train=True, valid=True)"
   ]
  },
  {
   "cell_type": "code",
   "execution_count": 52,
   "metadata": {},
   "outputs": [
    {
     "data": {
      "text/plain": [
       "0.875392591226614"
      ]
     },
     "execution_count": 52,
     "metadata": {},
     "output_type": "execute_result"
    }
   ],
   "source": [
    "local_glm_plus.auc()"
   ]
  },
  {
   "cell_type": "code",
   "execution_count": 53,
   "metadata": {},
   "outputs": [
    {
     "name": "stdout",
     "output_type": "stream",
     "text": [
      "Confusion Matrix (Act/Pred) for max f1 @ threshold = 0.45119787347032936: \n"
     ]
    },
    {
     "data": {
      "text/html": [
       "<div style=\"overflow:auto\"><table style=\"width:50%\"><tr><td><b></b></td>\n",
       "<td><b>0</b></td>\n",
       "<td><b>1</b></td>\n",
       "<td><b>Error</b></td>\n",
       "<td><b>Rate</b></td></tr>\n",
       "<tr><td>0</td>\n",
       "<td>9957.0</td>\n",
       "<td>5937.0</td>\n",
       "<td>0.3735</td>\n",
       "<td> (5937.0/15894.0)</td></tr>\n",
       "<tr><td>1</td>\n",
       "<td>2145.0</td>\n",
       "<td>26363.0</td>\n",
       "<td>0.0752</td>\n",
       "<td> (2145.0/28508.0)</td></tr>\n",
       "<tr><td>Total</td>\n",
       "<td>12102.0</td>\n",
       "<td>32300.0</td>\n",
       "<td>0.182</td>\n",
       "<td> (8082.0/44402.0)</td></tr></table></div>"
      ],
      "text/plain": [
       "       0      1      Error    Rate\n",
       "-----  -----  -----  -------  ----------------\n",
       "0      9957   5937   0.3735   (5937.0/15894.0)\n",
       "1      2145   26363  0.0752   (2145.0/28508.0)\n",
       "Total  12102  32300  0.182    (8082.0/44402.0)"
      ]
     },
     "metadata": {},
     "output_type": "display_data"
    },
    {
     "data": {
      "text/plain": []
     },
     "execution_count": 53,
     "metadata": {},
     "output_type": "execute_result"
    }
   ],
   "source": [
    "local_glm_plus.confusion_matrix()"
   ]
  },
  {
   "cell_type": "markdown",
   "metadata": {},
   "source": [
    "## 2.2 Logistic Regression"
   ]
  },
  {
   "cell_type": "markdown",
   "metadata": {},
   "source": [
    "### 2.2.1 Train & Fit Model"
   ]
  },
  {
   "cell_type": "code",
   "execution_count": 54,
   "metadata": {},
   "outputs": [
    {
     "name": "stdout",
     "output_type": "stream",
     "text": [
      "glm Model Build progress: |███████████████████████████████████████████████| 100%\n"
     ]
    }
   ],
   "source": [
    "glm_logistic_plus_summary = H2OGeneralizedLinearEstimator(family = \"binomial\")\n",
    "glm_logistic_plus_summary.train(x=predictors, \n",
    "                               y= response, \n",
    "                               training_frame = ext_train_new, \n",
    "                               validation_frame = ext_test_new, \n",
    "                               model_id=\"glm_logistic\")"
   ]
  },
  {
   "cell_type": "markdown",
   "metadata": {},
   "source": [
    "### 2.2.2 Interpretability"
   ]
  },
  {
   "cell_type": "markdown",
   "metadata": {},
   "source": [
    "#### Variable Importance"
   ]
  },
  {
   "cell_type": "code",
   "execution_count": 55,
   "metadata": {},
   "outputs": [
    {
     "data": {
      "image/png": "[encoded data removed]",
      "text/plain": [
       "<Figure size 1008x720 with 1 Axes>"
      ]
     },
     "metadata": {
      "needs_background": "light"
     },
     "output_type": "display_data"
    }
   ],
   "source": [
    "glm_logistic_plus_summary.varimp_plot()"
   ]
  },
  {
   "cell_type": "markdown",
   "metadata": {},
   "source": [
    "#### Partial Dependence Plot (PDP)"
   ]
  },
  {
   "cell_type": "code",
   "execution_count": 67,
   "metadata": {},
   "outputs": [
    {
     "name": "stdout",
     "output_type": "stream",
     "text": [
      "PartialDependencePlot progress: |█████████████████████████████████████████| 100%\n"
     ]
    },
    {
     "data": {
      "image/png": "[encoded data removed]",
      "text/plain": [
       "<Figure size 504x720 with 1 Axes>"
      ]
     },
     "metadata": {
      "needs_background": "light"
     },
     "output_type": "display_data"
    }
   ],
   "source": [
    "pdp_word_vecs = glm_logistic_plus_summary.partial_plot(data = ext_train_new, cols = [\"C53\"])"
   ]
  },
  {
   "cell_type": "markdown",
   "metadata": {},
   "source": [
    "#### Individual Conditional Expectation (ICE)"
   ]
  },
  {
   "cell_type": "code",
   "execution_count": 57,
   "metadata": {},
   "outputs": [
    {
     "ename": "NameError",
     "evalue": "name 'ext_test_s' is not defined",
     "output_type": "error",
     "traceback": [
      "\u001b[0;31m---------------------------------------------------------------------------\u001b[0m",
      "\u001b[0;31mNameError\u001b[0m                                 Traceback (most recent call last)",
      "\u001b[0;32m<ipython-input-57-43de7cf7fcb7>\u001b[0m in \u001b[0;36m<module>\u001b[0;34m\u001b[0m\n\u001b[0;32m----> 1\u001b[0;31m \u001b[0mC20_ice_df\u001b[0m \u001b[0;34m=\u001b[0m \u001b[0mice\u001b[0m\u001b[0;34m(\u001b[0m\u001b[0mdata\u001b[0m\u001b[0;34m=\u001b[0m\u001b[0mext_test_s\u001b[0m\u001b[0;34m,\u001b[0m \u001b[0mcolumn\u001b[0m\u001b[0;34m=\u001b[0m\u001b[0;34m'C20'\u001b[0m\u001b[0;34m,\u001b[0m \u001b[0mmodel\u001b[0m\u001b[0;34m=\u001b[0m\u001b[0mglm_logistic_plus_summary\u001b[0m\u001b[0;34m)\u001b[0m\u001b[0;34m\u001b[0m\u001b[0;34m\u001b[0m\u001b[0m\n\u001b[0m",
      "\u001b[0;31mNameError\u001b[0m: name 'ext_test_s' is not defined"
     ]
    }
   ],
   "source": [
    "C20_ice_df = ice(data=ext_test_s, column='C20', model=glm_logistic_plus_summary)"
   ]
  },
  {
   "cell_type": "markdown",
   "metadata": {},
   "source": [
    "### 2.2.3 Matrix"
   ]
  },
  {
   "cell_type": "code",
   "execution_count": 68,
   "metadata": {},
   "outputs": [
    {
     "name": "stdout",
     "output_type": "stream",
     "text": [
      "With Summary and Review Embeddings AUC: 0.857\n"
     ]
    }
   ],
   "source": [
    "print(\"With Summary and Review Embeddings AUC: \" + str(round(glm_logistic_plus_summary.auc(valid = True), 3)))"
   ]
  },
  {
   "cell_type": "code",
   "execution_count": 69,
   "metadata": {},
   "outputs": [
    {
     "name": "stdout",
     "output_type": "stream",
     "text": [
      "Confusion Matrix (Act/Pred) for max f1 @ threshold = 0.46869425484942073: \n"
     ]
    },
    {
     "data": {
      "text/html": [
       "<div style=\"overflow:auto\"><table style=\"width:50%\"><tr><td><b></b></td>\n",
       "<td><b>0</b></td>\n",
       "<td><b>1</b></td>\n",
       "<td><b>Error</b></td>\n",
       "<td><b>Rate</b></td></tr>\n",
       "<tr><td>0</td>\n",
       "<td>2452.0</td>\n",
       "<td>1760.0</td>\n",
       "<td>0.4179</td>\n",
       "<td> (1760.0/4212.0)</td></tr>\n",
       "<tr><td>1</td>\n",
       "<td>501.0</td>\n",
       "<td>6439.0</td>\n",
       "<td>0.0722</td>\n",
       "<td> (501.0/6940.0)</td></tr>\n",
       "<tr><td>Total</td>\n",
       "<td>2953.0</td>\n",
       "<td>8199.0</td>\n",
       "<td>0.2027</td>\n",
       "<td> (2261.0/11152.0)</td></tr></table></div>"
      ],
      "text/plain": [
       "       0     1     Error    Rate\n",
       "-----  ----  ----  -------  ----------------\n",
       "0      2452  1760  0.4179   (1760.0/4212.0)\n",
       "1      501   6439  0.0722   (501.0/6940.0)\n",
       "Total  2953  8199  0.2027   (2261.0/11152.0)"
      ]
     },
     "metadata": {},
     "output_type": "display_data"
    },
    {
     "data": {
      "text/plain": []
     },
     "execution_count": 69,
     "metadata": {},
     "output_type": "execute_result"
    }
   ],
   "source": [
    "glm_logistic_plus_summary.confusion_matrix(valid = True)"
   ]
  },
  {
   "cell_type": "code",
   "execution_count": 70,
   "metadata": {},
   "outputs": [
    {
     "name": "stdout",
     "output_type": "stream",
     "text": [
      "Confusion Matrix (Act/Pred) for max f1 @ threshold = 0.46869425484942073: \n"
     ]
    },
    {
     "data": {
      "text/html": [
       "<div style=\"overflow:auto\"><table style=\"width:50%\"><tr><td><b></b></td>\n",
       "<td><b>0</b></td>\n",
       "<td><b>1</b></td>\n",
       "<td><b>Error</b></td>\n",
       "<td><b>Rate</b></td></tr>\n",
       "<tr><td>0</td>\n",
       "<td>2452.0</td>\n",
       "<td>1760.0</td>\n",
       "<td>0.4179</td>\n",
       "<td> (1760.0/4212.0)</td></tr>\n",
       "<tr><td>1</td>\n",
       "<td>501.0</td>\n",
       "<td>6439.0</td>\n",
       "<td>0.0722</td>\n",
       "<td> (501.0/6940.0)</td></tr>\n",
       "<tr><td>Total</td>\n",
       "<td>2953.0</td>\n",
       "<td>8199.0</td>\n",
       "<td>0.2027</td>\n",
       "<td> (2261.0/11152.0)</td></tr></table></div>"
      ],
      "text/plain": [
       "       0     1     Error    Rate\n",
       "-----  ----  ----  -------  ----------------\n",
       "0      2452  1760  0.4179   (1760.0/4212.0)\n",
       "1      501   6439  0.0722   (501.0/6940.0)\n",
       "Total  2953  8199  0.2027   (2261.0/11152.0)"
      ]
     },
     "metadata": {},
     "output_type": "display_data"
    },
    {
     "data": {
      "text/plain": []
     },
     "execution_count": 70,
     "metadata": {},
     "output_type": "execute_result"
    }
   ],
   "source": [
    "glm_logistic_plus_summary.confusion_matrix(valid = True)"
   ]
  },
  {
   "cell_type": "markdown",
   "metadata": {},
   "source": [
    "## 2.3 Decision Tree"
   ]
  },
  {
   "cell_type": "code",
   "execution_count": 71,
   "metadata": {},
   "outputs": [],
   "source": [
    "from h2o.estimators.random_forest import H2ORandomForestEstimator # for single tree\n",
    "# in-notebook display\n",
    "from IPython.display import Image\n",
    "from IPython.display import display\n",
    "%matplotlib inline"
   ]
  },
  {
   "cell_type": "markdown",
   "metadata": {},
   "source": [
    "### 2.3.1 Train & Fit Model"
   ]
  },
  {
   "cell_type": "code",
   "execution_count": 72,
   "metadata": {},
   "outputs": [],
   "source": [
    "predictors = ['ProductId', 'UserId', 'HelpfulnessNumerator', 'HelpfulnessDenominator', 'Time'] + review_vecs.names + summary_vecs.names\n",
    "response = 'PositiveReview'"
   ]
  },
  {
   "cell_type": "code",
   "execution_count": 73,
   "metadata": {},
   "outputs": [
    {
     "name": "stdout",
     "output_type": "stream",
     "text": [
      "gbm Model Build progress: |███████████████████████████████████████████████| 100%\n"
     ]
    }
   ],
   "source": [
    "# initialize single tree surrogate model\n",
    "model_id = 'dt_surrogate_mojo'\n",
    "\n",
    "# train single tree surrogate model\n",
    "surrogate = H2OGradientBoostingEstimator(ntrees=1,\n",
    "                                         sample_rate=1,\n",
    "                                         col_sample_rate=1,\n",
    "                                         max_depth=3,\n",
    "                                         seed=12345,\n",
    "                                         model_id=model_id)\n",
    "\n",
    "_ = surrogate.train(x=predictors, y=response, training_frame=ext_train_new)"
   ]
  },
  {
   "cell_type": "markdown",
   "metadata": {},
   "source": [
    "### 2.3.2 Interpretability"
   ]
  },
  {
   "cell_type": "markdown",
   "metadata": {},
   "source": [
    "#### Variable Importance"
   ]
  },
  {
   "cell_type": "code",
   "execution_count": 74,
   "metadata": {},
   "outputs": [
    {
     "data": {
      "image/png": "[encoded data removed]",
      "text/plain": [
       "<Figure size 1008x720 with 1 Axes>"
      ]
     },
     "metadata": {
      "needs_background": "light"
     },
     "output_type": "display_data"
    }
   ],
   "source": [
    "surrogate.varimp_plot()"
   ]
  },
  {
   "cell_type": "markdown",
   "metadata": {},
   "source": [
    "#### Partial Dependence Plot (PDP)"
   ]
  },
  {
   "cell_type": "code",
   "execution_count": 75,
   "metadata": {},
   "outputs": [
    {
     "name": "stdout",
     "output_type": "stream",
     "text": [
      "PartialDependencePlot progress: |█████████████████████████████████████████| 100%\n"
     ]
    },
    {
     "data": {
      "image/png": "[encoded data removed]",
      "text/plain": [
       "<Figure size 504x720 with 1 Axes>"
      ]
     },
     "metadata": {
      "needs_background": "light"
     },
     "output_type": "display_data"
    }
   ],
   "source": [
    "pdp_word_vecs = surrogate.partial_plot(data = ext_train_new, cols = [\"summary_C24\"])"
   ]
  },
  {
   "cell_type": "markdown",
   "metadata": {},
   "source": [
    "#### Individual Conditional Expectation (ICE)"
   ]
  },
  {
   "cell_type": "code",
   "execution_count": null,
   "metadata": {},
   "outputs": [],
   "source": []
  },
  {
   "cell_type": "markdown",
   "metadata": {},
   "source": [
    "### 2.3.3 Matrix"
   ]
  },
  {
   "cell_type": "code",
   "execution_count": 76,
   "metadata": {},
   "outputs": [
    {
     "name": "stdout",
     "output_type": "stream",
     "text": [
      "Model Details\n",
      "=============\n",
      "H2OGradientBoostingEstimator :  Gradient Boosting Machine\n",
      "Model Key:  dt_surrogate_mojo\n",
      "\n",
      "\n",
      "ModelMetricsBinomial: gbm\n",
      "** Reported on train data. **\n",
      "\n",
      "MSE: 0.22490468188680712\n",
      "RMSE: 0.4742411642685682\n",
      "LogLoss: 0.6415846447228967\n",
      "Mean Per-Class Error: 0.35615213187394557\n",
      "AUC: 0.692578222817862\n",
      "pr_auc: 0.42284625175470336\n",
      "Gini: 0.38515644563572393\n",
      "Confusion Matrix (Act/Pred) for max f1 @ threshold = 0.6287949244602625: \n"
     ]
    },
    {
     "data": {
      "text/html": [
       "<div style=\"overflow:auto\"><table style=\"width:50%\"><tr><td><b></b></td>\n",
       "<td><b>0</b></td>\n",
       "<td><b>1</b></td>\n",
       "<td><b>Error</b></td>\n",
       "<td><b>Rate</b></td></tr>\n",
       "<tr><td>0</td>\n",
       "<td>4338.0</td>\n",
       "<td>11556.0</td>\n",
       "<td>0.7271</td>\n",
       "<td> (11556.0/15894.0)</td></tr>\n",
       "<tr><td>1</td>\n",
       "<td>2322.0</td>\n",
       "<td>26186.0</td>\n",
       "<td>0.0815</td>\n",
       "<td> (2322.0/28508.0)</td></tr>\n",
       "<tr><td>Total</td>\n",
       "<td>6660.0</td>\n",
       "<td>37742.0</td>\n",
       "<td>0.3126</td>\n",
       "<td> (13878.0/44402.0)</td></tr></table></div>"
      ],
      "text/plain": [
       "       0     1      Error    Rate\n",
       "-----  ----  -----  -------  -----------------\n",
       "0      4338  11556  0.7271   (11556.0/15894.0)\n",
       "1      2322  26186  0.0815   (2322.0/28508.0)\n",
       "Total  6660  37742  0.3126   (13878.0/44402.0)"
      ]
     },
     "metadata": {},
     "output_type": "display_data"
    },
    {
     "name": "stdout",
     "output_type": "stream",
     "text": [
      "Maximum Metrics: Maximum metrics at their respective thresholds\n",
      "\n"
     ]
    },
    {
     "data": {
      "text/html": [
       "<div style=\"overflow:auto\"><table style=\"width:50%\"><tr><td><b>metric</b></td>\n",
       "<td><b>threshold</b></td>\n",
       "<td><b>value</b></td>\n",
       "<td><b>idx</b></td></tr>\n",
       "<tr><td>max f1</td>\n",
       "<td>0.6287949</td>\n",
       "<td>0.7905208</td>\n",
       "<td>5.0</td></tr>\n",
       "<tr><td>max f2</td>\n",
       "<td>0.6115796</td>\n",
       "<td>0.8996806</td>\n",
       "<td>7.0</td></tr>\n",
       "<tr><td>max f0point5</td>\n",
       "<td>0.6419479</td>\n",
       "<td>0.7451607</td>\n",
       "<td>3.0</td></tr>\n",
       "<tr><td>max accuracy</td>\n",
       "<td>0.6287949</td>\n",
       "<td>0.6874465</td>\n",
       "<td>5.0</td></tr>\n",
       "<tr><td>max precision</td>\n",
       "<td>0.6589095</td>\n",
       "<td>0.8125619</td>\n",
       "<td>0.0</td></tr>\n",
       "<tr><td>max recall</td>\n",
       "<td>0.6115796</td>\n",
       "<td>1.0</td>\n",
       "<td>7.0</td></tr>\n",
       "<tr><td>max specificity</td>\n",
       "<td>0.6589095</td>\n",
       "<td>0.8212533</td>\n",
       "<td>0.0</td></tr>\n",
       "<tr><td>max absolute_mcc</td>\n",
       "<td>0.6419479</td>\n",
       "<td>0.2880008</td>\n",
       "<td>3.0</td></tr>\n",
       "<tr><td>max min_per_class_accuracy</td>\n",
       "<td>0.6446020</td>\n",
       "<td>0.6281616</td>\n",
       "<td>2.0</td></tr>\n",
       "<tr><td>max mean_per_class_accuracy</td>\n",
       "<td>0.6446020</td>\n",
       "<td>0.6438479</td>\n",
       "<td>2.0</td></tr></table></div>"
      ],
      "text/plain": [
       "metric                       threshold    value     idx\n",
       "---------------------------  -----------  --------  -----\n",
       "max f1                       0.628795     0.790521  5\n",
       "max f2                       0.61158      0.899681  7\n",
       "max f0point5                 0.641948     0.745161  3\n",
       "max accuracy                 0.628795     0.687447  5\n",
       "max precision                0.65891      0.812562  0\n",
       "max recall                   0.61158      1         7\n",
       "max specificity              0.65891      0.821253  0\n",
       "max absolute_mcc             0.641948     0.288001  3\n",
       "max min_per_class_accuracy   0.644602     0.628162  2\n",
       "max mean_per_class_accuracy  0.644602     0.643848  2"
      ]
     },
     "metadata": {},
     "output_type": "display_data"
    },
    {
     "name": "stdout",
     "output_type": "stream",
     "text": [
      "Gains/Lift Table: Avg response rate: 64.20 %, avg score: 64.19 %\n",
      "\n"
     ]
    },
    {
     "data": {
      "text/html": [
       "<div style=\"overflow:auto\"><table style=\"width:50%\"><tr><td><b></b></td>\n",
       "<td><b>group</b></td>\n",
       "<td><b>cumulative_data_fraction</b></td>\n",
       "<td><b>lower_threshold</b></td>\n",
       "<td><b>lift</b></td>\n",
       "<td><b>cumulative_lift</b></td>\n",
       "<td><b>response_rate</b></td>\n",
       "<td><b>score</b></td>\n",
       "<td><b>cumulative_response_rate</b></td>\n",
       "<td><b>cumulative_score</b></td>\n",
       "<td><b>capture_rate</b></td>\n",
       "<td><b>cumulative_capture_rate</b></td>\n",
       "<td><b>gain</b></td>\n",
       "<td><b>cumulative_gain</b></td></tr>\n",
       "<tr><td></td>\n",
       "<td>1</td>\n",
       "<td>0.3413585</td>\n",
       "<td>0.6589095</td>\n",
       "<td>1.2655876</td>\n",
       "<td>1.2655876</td>\n",
       "<td>0.8125619</td>\n",
       "<td>0.6589095</td>\n",
       "<td>0.8125619</td>\n",
       "<td>0.6589095</td>\n",
       "<td>0.4320191</td>\n",
       "<td>0.4320191</td>\n",
       "<td>26.5587603</td>\n",
       "<td>26.5587603</td></tr>\n",
       "<tr><td></td>\n",
       "<td>2</td>\n",
       "<td>0.5565515</td>\n",
       "<td>0.6446020</td>\n",
       "<td>1.0572606</td>\n",
       "<td>1.1850371</td>\n",
       "<td>0.6788069</td>\n",
       "<td>0.6457080</td>\n",
       "<td>0.7608449</td>\n",
       "<td>0.6538051</td>\n",
       "<td>0.2275151</td>\n",
       "<td>0.6595342</td>\n",
       "<td>5.7260569</td>\n",
       "<td>18.5037068</td></tr>\n",
       "<tr><td></td>\n",
       "<td>3</td>\n",
       "<td>0.6457817</td>\n",
       "<td>0.6419479</td>\n",
       "<td>0.9985160</td>\n",
       "<td>1.1592647</td>\n",
       "<td>0.6410904</td>\n",
       "<td>0.6419479</td>\n",
       "<td>0.7442980</td>\n",
       "<td>0.6521667</td>\n",
       "<td>0.0890978</td>\n",
       "<td>0.7486320</td>\n",
       "<td>-0.1484001</td>\n",
       "<td>15.9264714</td></tr>\n",
       "<tr><td></td>\n",
       "<td>4</td>\n",
       "<td>0.7469709</td>\n",
       "<td>0.6336163</td>\n",
       "<td>0.8694145</td>\n",
       "<td>1.1199999</td>\n",
       "<td>0.5582016</td>\n",
       "<td>0.6336163</td>\n",
       "<td>0.7190883</td>\n",
       "<td>0.6496538</td>\n",
       "<td>0.0879753</td>\n",
       "<td>0.8366073</td>\n",
       "<td>-13.0585466</td>\n",
       "<td>11.9999877</td></tr>\n",
       "<tr><td></td>\n",
       "<td>5</td>\n",
       "<td>0.8500068</td>\n",
       "<td>0.6287949</td>\n",
       "<td>0.7952754</td>\n",
       "<td>1.0806375</td>\n",
       "<td>0.5106011</td>\n",
       "<td>0.6287949</td>\n",
       "<td>0.6938159</td>\n",
       "<td>0.6471253</td>\n",
       "<td>0.0819419</td>\n",
       "<td>0.9185492</td>\n",
       "<td>-20.4724648</td>\n",
       "<td>8.0637503</td></tr>\n",
       "<tr><td></td>\n",
       "<td>6</td>\n",
       "<td>1.0</td>\n",
       "<td>0.6115796</td>\n",
       "<td>0.5430299</td>\n",
       "<td>1.0</td>\n",
       "<td>0.3486486</td>\n",
       "<td>0.6122017</td>\n",
       "<td>0.6420432</td>\n",
       "<td>0.6418870</td>\n",
       "<td>0.0814508</td>\n",
       "<td>1.0</td>\n",
       "<td>-45.6970068</td>\n",
       "<td>0.0</td></tr></table></div>"
      ],
      "text/plain": [
       "    group    cumulative_data_fraction    lower_threshold    lift      cumulative_lift    response_rate    score     cumulative_response_rate    cumulative_score    capture_rate    cumulative_capture_rate    gain      cumulative_gain\n",
       "--  -------  --------------------------  -----------------  --------  -----------------  ---------------  --------  --------------------------  ------------------  --------------  -------------------------  --------  -----------------\n",
       "    1        0.341358                    0.65891            1.26559   1.26559            0.812562         0.65891   0.812562                    0.65891             0.432019        0.432019                   26.5588   26.5588\n",
       "    2        0.556552                    0.644602           1.05726   1.18504            0.678807         0.645708  0.760845                    0.653805            0.227515        0.659534                   5.72606   18.5037\n",
       "    3        0.645782                    0.641948           0.998516  1.15926            0.64109          0.641948  0.744298                    0.652167            0.0890978       0.748632                   -0.1484   15.9265\n",
       "    4        0.746971                    0.633616           0.869415  1.12               0.558202         0.633616  0.719088                    0.649654            0.0879753       0.836607                   -13.0585  12\n",
       "    5        0.850007                    0.628795           0.795275  1.08064            0.510601         0.628795  0.693816                    0.647125            0.0819419       0.918549                   -20.4725  8.06375\n",
       "    6        1                           0.61158            0.54303   1                  0.348649         0.612202  0.642043                    0.641887            0.0814508       1                          -45.697   0"
      ]
     },
     "metadata": {},
     "output_type": "display_data"
    },
    {
     "name": "stdout",
     "output_type": "stream",
     "text": [
      "\n",
      "Scoring History: \n"
     ]
    },
    {
     "data": {
      "text/html": [
       "<div style=\"overflow:auto\"><table style=\"width:50%\"><tr><td><b></b></td>\n",
       "<td><b>timestamp</b></td>\n",
       "<td><b>duration</b></td>\n",
       "<td><b>number_of_trees</b></td>\n",
       "<td><b>training_rmse</b></td>\n",
       "<td><b>training_logloss</b></td>\n",
       "<td><b>training_auc</b></td>\n",
       "<td><b>training_pr_auc</b></td>\n",
       "<td><b>training_lift</b></td>\n",
       "<td><b>training_classification_error</b></td></tr>\n",
       "<tr><td></td>\n",
       "<td>2019-04-23 19:11:28</td>\n",
       "<td> 0.005 sec</td>\n",
       "<td>0.0</td>\n",
       "<td>0.4793994</td>\n",
       "<td>0.6522336</td>\n",
       "<td>0.5</td>\n",
       "<td>0.0</td>\n",
       "<td>1.0</td>\n",
       "<td>0.3579568</td></tr>\n",
       "<tr><td></td>\n",
       "<td>2019-04-23 19:11:28</td>\n",
       "<td> 0.107 sec</td>\n",
       "<td>1.0</td>\n",
       "<td>0.4742412</td>\n",
       "<td>0.6415846</td>\n",
       "<td>0.6925782</td>\n",
       "<td>0.4228463</td>\n",
       "<td>1.2655876</td>\n",
       "<td>0.3125535</td></tr></table></div>"
      ],
      "text/plain": [
       "    timestamp            duration    number_of_trees    training_rmse    training_logloss    training_auc    training_pr_auc    training_lift    training_classification_error\n",
       "--  -------------------  ----------  -----------------  ---------------  ------------------  --------------  -----------------  ---------------  -------------------------------\n",
       "    2019-04-23 19:11:28  0.005 sec   0                  0.479399         0.652234            0.5             0                  1                0.357957\n",
       "    2019-04-23 19:11:28  0.107 sec   1                  0.474241         0.641585            0.692578        0.422846           1.26559          0.312553"
      ]
     },
     "metadata": {},
     "output_type": "display_data"
    },
    {
     "name": "stdout",
     "output_type": "stream",
     "text": [
      "Variable Importances: \n"
     ]
    },
    {
     "data": {
      "text/html": [
       "<div style=\"overflow:auto\"><table style=\"width:50%\"><tr><td><b>variable</b></td>\n",
       "<td><b>relative_importance</b></td>\n",
       "<td><b>scaled_importance</b></td>\n",
       "<td><b>percentage</b></td></tr>\n",
       "<tr><td>summary_C24</td>\n",
       "<td>420.7445679</td>\n",
       "<td>1.0</td>\n",
       "<td>0.3677554</td></tr>\n",
       "<tr><td>summary_C78</td>\n",
       "<td>290.7519531</td>\n",
       "<td>0.6910415</td>\n",
       "<td>0.2541342</td></tr>\n",
       "<tr><td>summary_C25</td>\n",
       "<td>200.9385681</td>\n",
       "<td>0.4775785</td>\n",
       "<td>0.1756321</td></tr>\n",
       "<tr><td>C48</td>\n",
       "<td>118.4606781</td>\n",
       "<td>0.2815501</td>\n",
       "<td>0.1035416</td></tr>\n",
       "<tr><td>C46</td>\n",
       "<td>61.1193810</td>\n",
       "<td>0.1452648</td>\n",
       "<td>0.0534219</td></tr>\n",
       "<tr><td>---</td>\n",
       "<td>---</td>\n",
       "<td>---</td>\n",
       "<td>---</td></tr>\n",
       "<tr><td>summary_C96</td>\n",
       "<td>0.0</td>\n",
       "<td>0.0</td>\n",
       "<td>0.0</td></tr>\n",
       "<tr><td>summary_C97</td>\n",
       "<td>0.0</td>\n",
       "<td>0.0</td>\n",
       "<td>0.0</td></tr>\n",
       "<tr><td>summary_C98</td>\n",
       "<td>0.0</td>\n",
       "<td>0.0</td>\n",
       "<td>0.0</td></tr>\n",
       "<tr><td>summary_C99</td>\n",
       "<td>0.0</td>\n",
       "<td>0.0</td>\n",
       "<td>0.0</td></tr>\n",
       "<tr><td>summary_C100</td>\n",
       "<td>0.0</td>\n",
       "<td>0.0</td>\n",
       "<td>0.0</td></tr></table></div>"
      ],
      "text/plain": [
       "variable      relative_importance    scaled_importance    percentage\n",
       "------------  ---------------------  -------------------  -------------------\n",
       "summary_C24   420.74456787109375     1.0                  0.3677554104048984\n",
       "summary_C78   290.751953125          0.691041490080698    0.25413424679143964\n",
       "summary_C25   200.93856811523438     0.4775785202217922   0.17563208470472927\n",
       "C48           118.46067810058594     0.28155010699241995  0.10354157514654046\n",
       "C46           61.119380950927734     0.14526481294858518  0.05342192090329775\n",
       "---           ---                    ---                  ---\n",
       "summary_C96   0.0                    0.0                  0.0\n",
       "summary_C97   0.0                    0.0                  0.0\n",
       "summary_C98   0.0                    0.0                  0.0\n",
       "summary_C99   0.0                    0.0                  0.0\n",
       "summary_C100  0.0                    0.0                  0.0"
      ]
     },
     "metadata": {},
     "output_type": "display_data"
    },
    {
     "name": "stdout",
     "output_type": "stream",
     "text": [
      "\n",
      "See the whole table with table.as_data_frame()\n",
      "\n"
     ]
    }
   ],
   "source": [
    "print(surrogate)"
   ]
  },
  {
   "cell_type": "markdown",
   "metadata": {},
   "source": [
    "## 2.4 Gradient Boosting"
   ]
  },
  {
   "cell_type": "markdown",
   "metadata": {},
   "source": [
    "### 2.4.1 Train & Fit Model"
   ]
  },
  {
   "cell_type": "code",
   "execution_count": 77,
   "metadata": {},
   "outputs": [
    {
     "name": "stdout",
     "output_type": "stream",
     "text": [
      "gbm Model Build progress: |███████████████████████████████████████████████| 100%\n"
     ]
    }
   ],
   "source": [
    "gbm = H2OGradientBoostingEstimator(stopping_metric = \"AUC\",\n",
    "                                           stopping_tolerance = 0.001,\n",
    "                                           stopping_rounds = 5, \n",
    "                                           score_tree_interval = 10, \n",
    "                                           model_id = 'gbm.hex')\n",
    "gbm.train(x = predictors, \n",
    "                   y = response,\n",
    "                  training_frame = ext_train_new,\n",
    "                  validation_frame = ext_test_new)"
   ]
  },
  {
   "cell_type": "markdown",
   "metadata": {},
   "source": [
    "### 2.4.2 Interpretability"
   ]
  },
  {
   "cell_type": "markdown",
   "metadata": {},
   "source": [
    "#### Variable Importance"
   ]
  },
  {
   "cell_type": "code",
   "execution_count": 78,
   "metadata": {},
   "outputs": [
    {
     "data": {
      "image/png": "[encoded data removed]",
      "text/plain": [
       "<Figure size 1008x720 with 1 Axes>"
      ]
     },
     "metadata": {
      "needs_background": "light"
     },
     "output_type": "display_data"
    }
   ],
   "source": [
    "gbm.varimp_plot()"
   ]
  },
  {
   "cell_type": "markdown",
   "metadata": {},
   "source": [
    "#### Partial Dependence Plot (PDP)"
   ]
  },
  {
   "cell_type": "code",
   "execution_count": 79,
   "metadata": {
    "scrolled": false
   },
   "outputs": [
    {
     "name": "stdout",
     "output_type": "stream",
     "text": [
      "PartialDependencePlot progress: |█████████████████████████████████████████| 100%\n"
     ]
    },
    {
     "data": {
      "image/png": "[encoded data removed]",
      "text/plain": [
       "<Figure size 504x720 with 1 Axes>"
      ]
     },
     "metadata": {
      "needs_background": "light"
     },
     "output_type": "display_data"
    }
   ],
   "source": [
    "pdp_helpfulness = gbm.partial_plot(ext_train_new, cols = ['C24'])"
   ]
  },
  {
   "cell_type": "markdown",
   "metadata": {},
   "source": [
    "#### Individual Conditional Expectation (ICE)"
   ]
  },
  {
   "cell_type": "code",
   "execution_count": 66,
   "metadata": {},
   "outputs": [
    {
     "ename": "NameError",
     "evalue": "name 'ext_test_s' is not defined",
     "output_type": "error",
     "traceback": [
      "\u001b[0;31m---------------------------------------------------------------------------\u001b[0m",
      "\u001b[0;31mNameError\u001b[0m                                 Traceback (most recent call last)",
      "\u001b[0;32m<ipython-input-66-1c904a17955e>\u001b[0m in \u001b[0;36m<module>\u001b[0;34m\u001b[0m\n\u001b[1;32m      1\u001b[0m \u001b[0;32mfrom\u001b[0m \u001b[0miice\u001b[0m \u001b[0;32mimport\u001b[0m \u001b[0mice\u001b[0m\u001b[0;34m,\u001b[0m \u001b[0mice_plot\u001b[0m\u001b[0;34m\u001b[0m\u001b[0;34m\u001b[0m\u001b[0m\n\u001b[0;32m----> 2\u001b[0;31m \u001b[0mHelpfulnessNumerator_ice_df\u001b[0m \u001b[0;34m=\u001b[0m \u001b[0mice\u001b[0m\u001b[0;34m(\u001b[0m\u001b[0mdata\u001b[0m\u001b[0;34m=\u001b[0m\u001b[0mext_test_s\u001b[0m\u001b[0;34m,\u001b[0m \u001b[0mcolumn\u001b[0m\u001b[0;34m=\u001b[0m\u001b[0;34m'C22'\u001b[0m\u001b[0;34m,\u001b[0m \u001b[0mmodel\u001b[0m\u001b[0;34m=\u001b[0m\u001b[0mgbm\u001b[0m\u001b[0;34m)\u001b[0m\u001b[0;34m\u001b[0m\u001b[0;34m\u001b[0m\u001b[0m\n\u001b[0m",
      "\u001b[0;31mNameError\u001b[0m: name 'ext_test_s' is not defined"
     ]
    }
   ],
   "source": [
    "from iice import ice, ice_plot\n",
    "HelpfulnessNumerator_ice_df = ice(data=ext_test_s, column='C22', model=gbm)"
   ]
  },
  {
   "cell_type": "markdown",
   "metadata": {},
   "source": [
    "### 2.4.3 Matrix"
   ]
  },
  {
   "cell_type": "code",
   "execution_count": 80,
   "metadata": {},
   "outputs": [
    {
     "name": "stdout",
     "output_type": "stream",
     "text": [
      "AUC on validation data: 0.851\n"
     ]
    }
   ],
   "source": [
    "print(\"AUC on validation data: \" + str(round(gbm.auc(valid = True), 3)))"
   ]
  },
  {
   "cell_type": "code",
   "execution_count": 81,
   "metadata": {},
   "outputs": [
    {
     "name": "stdout",
     "output_type": "stream",
     "text": [
      "Confusion Matrix (Act/Pred) for max f1 @ threshold = 0.5160766138956321: \n"
     ]
    },
    {
     "data": {
      "text/html": [
       "<div style=\"overflow:auto\"><table style=\"width:50%\"><tr><td><b></b></td>\n",
       "<td><b>0</b></td>\n",
       "<td><b>1</b></td>\n",
       "<td><b>Error</b></td>\n",
       "<td><b>Rate</b></td></tr>\n",
       "<tr><td>0</td>\n",
       "<td>2541.0</td>\n",
       "<td>1671.0</td>\n",
       "<td>0.3967</td>\n",
       "<td> (1671.0/4212.0)</td></tr>\n",
       "<tr><td>1</td>\n",
       "<td>641.0</td>\n",
       "<td>6299.0</td>\n",
       "<td>0.0924</td>\n",
       "<td> (641.0/6940.0)</td></tr>\n",
       "<tr><td>Total</td>\n",
       "<td>3182.0</td>\n",
       "<td>7970.0</td>\n",
       "<td>0.2073</td>\n",
       "<td> (2312.0/11152.0)</td></tr></table></div>"
      ],
      "text/plain": [
       "       0     1     Error    Rate\n",
       "-----  ----  ----  -------  ----------------\n",
       "0      2541  1671  0.3967   (1671.0/4212.0)\n",
       "1      641   6299  0.0924   (641.0/6940.0)\n",
       "Total  3182  7970  0.2073   (2312.0/11152.0)"
      ]
     },
     "metadata": {},
     "output_type": "display_data"
    },
    {
     "data": {
      "text/plain": []
     },
     "execution_count": 81,
     "metadata": {},
     "output_type": "execute_result"
    }
   ],
   "source": [
    "gbm.confusion_matrix(valid=True)"
   ]
  },
  {
   "cell_type": "code",
   "execution_count": 82,
   "metadata": {},
   "outputs": [
    {
     "data": {
      "text/plain": [
       "{'train': 0.439767865367519, 'valid': 0.3583848043975397}"
      ]
     },
     "execution_count": 82,
     "metadata": {},
     "output_type": "execute_result"
    }
   ],
   "source": [
    "gbm.r2(train=True, valid=True)"
   ]
  },
  {
   "cell_type": "code",
   "execution_count": 54,
   "metadata": {},
   "outputs": [
    {
     "name": "stdout",
     "output_type": "stream",
     "text": [
      "H2O session _sid_b0d4 closed.\n"
     ]
    }
   ],
   "source": [
    "h2o.cluster().shutdown()"
   ]
  },
  {
   "cell_type": "code",
   "execution_count": null,
   "metadata": {},
   "outputs": [],
   "source": []
  }
 ],
 "metadata": {
  "kernelspec": {
   "display_name": "Python 3",
   "language": "python",
   "name": "python3"
  },
  "language_info": {
   "codemirror_mode": {
    "name": "ipython",
    "version": 3
   },
   "file_extension": ".py",
   "mimetype": "text/x-python",
   "name": "python",
   "nbconvert_exporter": "python",
   "pygments_lexer": "ipython3",
   "version": "3.7.2"
  },
  "toc": {
   "base_numbering": 1,
   "nav_menu": {},
   "number_sections": false,
   "sideBar": true,
   "skip_h1_title": false,
   "title_cell": "Table of Contents",
   "title_sidebar": "Contents",
   "toc_cell": false,
   "toc_position": {
    "height": "calc(100% - 180px)",
    "left": "10px",
    "top": "150px",
    "width": "336px"
   },
   "toc_section_display": true,
   "toc_window_display": true
  },
  "varInspector": {
   "cols": {
    "lenName": 16,
    "lenType": 16,
    "lenVar": 40
   },
   "kernels_config": {
    "python": {
     "delete_cmd_postfix": "",
     "delete_cmd_prefix": "del ",
     "library": "var_list.py",
     "varRefreshCmd": "print(var_dic_list())"
    },
    "r": {
     "delete_cmd_postfix": ") ",
     "delete_cmd_prefix": "rm(",
     "library": "var_list.r",
     "varRefreshCmd": "cat(var_dic_list()) "
    }
   },
   "types_to_exclude": [
    "module",
    "function",
    "builtin_function_or_method",
    "instance",
    "_Feature"
   ],
   "window_display": false
  }
 },
 "nbformat": 4,
 "nbformat_minor": 2
}
