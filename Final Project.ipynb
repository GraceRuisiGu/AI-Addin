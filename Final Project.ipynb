{
 "cells": [
  {
   "cell_type": "code",
   "execution_count": 1,
   "metadata": {},
   "outputs": [],
   "source": [
    "import h2o\n",
    "import operator\n",
    "from h2o.automl import H2OAutoML\n",
    "import random, os, sys\n",
    "from datetime import datetime\n",
    "import pandas as pd\n",
    "import logging\n",
    "import csv\n",
    "import optparse\n",
    "import time\n",
    "import json\n",
    "from distutils.util import strtobool\n",
    "import psutil\n",
    "import numpy as np\n",
    "from matplotlib import pyplot as plt\n",
    "import warnings\n",
    "from ice import ice, ice_plot\n",
    "from h2o.estimators.glm import H2OGeneralizedLinearEstimator\n",
    "from h2o.estimators import H2OGradientBoostingEstimator\n",
    "warnings.filterwarnings(\"ignore\")"
   ]
  },
  {
   "cell_type": "markdown",
   "metadata": {},
   "source": [
    "# 1 Data Preparation"
   ]
  },
  {
   "cell_type": "markdown",
   "metadata": {},
   "source": [
    "## 1.1 H2O Initialization"
   ]
  },
  {
   "cell_type": "code",
   "execution_count": 2,
   "metadata": {},
   "outputs": [
    {
     "name": "stdout",
     "output_type": "stream",
     "text": [
      "24\n"
     ]
    }
   ],
   "source": [
    "pct_memory=4\n",
    "virtual_memory=psutil.virtual_memory()\n",
    "min_mem_size=int(round(int(pct_memory*virtual_memory.available)/1073741824,0))\n",
    "print(min_mem_size)"
   ]
  },
  {
   "cell_type": "code",
   "execution_count": 3,
   "metadata": {},
   "outputs": [
    {
     "name": "stdout",
     "output_type": "stream",
     "text": [
      "Checking whether there is an H2O instance running at http://localhost:54321 . connected.\n"
     ]
    },
    {
     "data": {
      "text/html": [
       "<div style=\"overflow:auto\"><table style=\"width:50%\"><tr><td>H2O cluster uptime:</td>\n",
       "<td>1 day 4 hours 35 mins</td></tr>\n",
       "<tr><td>H2O cluster timezone:</td>\n",
       "<td>America/New_York</td></tr>\n",
       "<tr><td>H2O data parsing timezone:</td>\n",
       "<td>UTC</td></tr>\n",
       "<tr><td>H2O cluster version:</td>\n",
       "<td>3.24.0.1</td></tr>\n",
       "<tr><td>H2O cluster version age:</td>\n",
       "<td>22 days </td></tr>\n",
       "<tr><td>H2O cluster name:</td>\n",
       "<td>H2O_from_python_mandy_v0rqbc</td></tr>\n",
       "<tr><td>H2O cluster total nodes:</td>\n",
       "<td>1</td></tr>\n",
       "<tr><td>H2O cluster free memory:</td>\n",
       "<td>34.32 Gb</td></tr>\n",
       "<tr><td>H2O cluster total cores:</td>\n",
       "<td>12</td></tr>\n",
       "<tr><td>H2O cluster allowed cores:</td>\n",
       "<td>12</td></tr>\n",
       "<tr><td>H2O cluster status:</td>\n",
       "<td>locked, healthy</td></tr>\n",
       "<tr><td>H2O connection url:</td>\n",
       "<td>http://localhost:54321</td></tr>\n",
       "<tr><td>H2O connection proxy:</td>\n",
       "<td>None</td></tr>\n",
       "<tr><td>H2O internal security:</td>\n",
       "<td>False</td></tr>\n",
       "<tr><td>H2O API Extensions:</td>\n",
       "<td>Amazon S3, XGBoost, Algos, AutoML, Core V3, Core V4</td></tr>\n",
       "<tr><td>Python version:</td>\n",
       "<td>3.7.2 final</td></tr></table></div>"
      ],
      "text/plain": [
       "--------------------------  ---------------------------------------------------\n",
       "H2O cluster uptime:         1 day 4 hours 35 mins\n",
       "H2O cluster timezone:       America/New_York\n",
       "H2O data parsing timezone:  UTC\n",
       "H2O cluster version:        3.24.0.1\n",
       "H2O cluster version age:    22 days\n",
       "H2O cluster name:           H2O_from_python_mandy_v0rqbc\n",
       "H2O cluster total nodes:    1\n",
       "H2O cluster free memory:    34.32 Gb\n",
       "H2O cluster total cores:    12\n",
       "H2O cluster allowed cores:  12\n",
       "H2O cluster status:         locked, healthy\n",
       "H2O connection url:         http://localhost:54321\n",
       "H2O connection proxy:\n",
       "H2O internal security:      False\n",
       "H2O API Extensions:         Amazon S3, XGBoost, Algos, AutoML, Core V3, Core V4\n",
       "Python version:             3.7.2 final\n",
       "--------------------------  ---------------------------------------------------"
      ]
     },
     "metadata": {},
     "output_type": "display_data"
    }
   ],
   "source": [
    "h2o.init(strict_version_check=False,max_mem_size=min_mem_size)"
   ]
  },
  {
   "cell_type": "markdown",
   "metadata": {},
   "source": [
    "## 1.2 Data Import & Parse"
   ]
  },
  {
   "cell_type": "code",
   "execution_count": 4,
   "metadata": {},
   "outputs": [
    {
     "name": "stdout",
     "output_type": "stream",
     "text": [
      "Parse progress: |█████████████████████████████████████████████████████████| 100%\n"
     ]
    }
   ],
   "source": [
    "data_path = \"AmazonReviews.Small.csv\"\n",
    "\n",
    "# Load data into H2O\n",
    "reviews = h2o.import_file(data_path)"
   ]
  },
  {
   "cell_type": "code",
   "execution_count": 5,
   "metadata": {},
   "outputs": [
    {
     "data": {
      "text/plain": [
       "(55554, 10)"
      ]
     },
     "execution_count": 5,
     "metadata": {},
     "output_type": "execute_result"
    }
   ],
   "source": [
    "reviews.shape"
   ]
  },
  {
   "cell_type": "code",
   "execution_count": 6,
   "metadata": {
    "scrolled": false
   },
   "outputs": [
    {
     "data": {
      "text/html": [
       "<table>\n",
       "<thead>\n",
       "<tr><th>ProductId  </th><th>UserId        </th><th>Summary                     </th><th style=\"text-align: right;\">  Score</th><th style=\"text-align: right;\">  HelpfulnessDenominator</th><th style=\"text-align: right;\">    Id</th><th>ProfileName        </th><th style=\"text-align: right;\">  HelpfulnessNumerator</th><th style=\"text-align: right;\">       Time</th><th>Text                                                                                                                                                                                                                                                                                                                                                                            </th></tr>\n",
       "</thead>\n",
       "<tbody>\n",
       "<tr><td>B00141QYSQ </td><td>A1YS02UZZGRDCT</td><td>Do Not Buy                  </td><td style=\"text-align: right;\">      1</td><td style=\"text-align: right;\">                       2</td><td style=\"text-align: right;\"> 41471</td><td>Evan Eberhardt     </td><td style=\"text-align: right;\">                     2</td><td style=\"text-align: right;\">1.34836e+09</td><td>These are made in China (do not buy ANY pet food from China).  Dogswell has been using propylene glycol to soften their treats (what are they thinkng?).  Do not purchase or support this company in any way until they clean up their act.  And for whatever reason Amazon doesn't allow returns of this item, so I had to toss mine out.  Bad business all around on this one.</td></tr>\n",
       "<tr><td>B0089SPEO2 </td><td>A3JOYNYL458QHP</td><td>Less lemon and less zing    </td><td style=\"text-align: right;\">      3</td><td style=\"text-align: right;\">                       0</td><td style=\"text-align: right;\"> 28582</td><td>coleridge          </td><td style=\"text-align: right;\">                     0</td><td style=\"text-align: right;\">1.32391e+09</td><td>Everything is ok, except it just isn't as good as it is in the bags.  Just considerably more bland -- less lemon and less zing.  Boring.                                                                                                                                                                                                                                        </td></tr>\n",
       "<tr><td>B001PMCDK2 </td><td>A14TTMM0Z03Y2W</td><td>my cat goes crazy for these!</td><td style=\"text-align: right;\">      5</td><td style=\"text-align: right;\">                       0</td><td style=\"text-align: right;\">389965</td><td>Lindsay S. Bradford</td><td style=\"text-align: right;\">                     0</td><td style=\"text-align: right;\">1.3106e+09 </td><td>Best cat treat ever. There isn't anything comparable to the love my cat has for these treats, he snubs away any other kind now.<br />I know he likes to manipulate me with his cattiness but these treats are my way of manipulating him to come sit on my lap and have some chill time. :)                                                                                     </td></tr>\n",
       "</tbody>\n",
       "</table>"
      ]
     },
     "metadata": {},
     "output_type": "display_data"
    },
    {
     "data": {
      "text/plain": []
     },
     "execution_count": 6,
     "metadata": {},
     "output_type": "execute_result"
    }
   ],
   "source": [
    "reviews.head(3)"
   ]
  },
  {
   "cell_type": "code",
   "execution_count": 7,
   "metadata": {},
   "outputs": [
    {
     "name": "stdout",
     "output_type": "stream",
     "text": [
      "{'ProductId': 'enum', 'UserId': 'enum', 'Summary': 'enum', 'Score': 'int', 'HelpfulnessDenominator': 'int', 'Id': 'int', 'ProfileName': 'enum', 'HelpfulnessNumerator': 'int', 'Time': 'int', 'Text': 'string'}\n"
     ]
    }
   ],
   "source": [
    "print(reviews.types)"
   ]
  },
  {
   "cell_type": "code",
   "execution_count": 8,
   "metadata": {},
   "outputs": [],
   "source": [
    "reviews['PositiveReview']=(reviews['Score']>=reviews['Score'].mean()[0]).ifelse('1','0')"
   ]
  },
  {
   "cell_type": "code",
   "execution_count": 9,
   "metadata": {},
   "outputs": [
    {
     "data": {
      "text/html": [
       "<table>\n",
       "<thead>\n",
       "<tr><th style=\"text-align: right;\">  PositiveReview</th><th style=\"text-align: right;\">  Count</th></tr>\n",
       "</thead>\n",
       "<tbody>\n",
       "<tr><td style=\"text-align: right;\">               0</td><td style=\"text-align: right;\">  20106</td></tr>\n",
       "<tr><td style=\"text-align: right;\">               1</td><td style=\"text-align: right;\">  35448</td></tr>\n",
       "</tbody>\n",
       "</table>"
      ]
     },
     "metadata": {},
     "output_type": "display_data"
    },
    {
     "data": {
      "text/plain": []
     },
     "execution_count": 9,
     "metadata": {},
     "output_type": "execute_result"
    }
   ],
   "source": [
    "reviews['PositiveReview'].table()"
   ]
  },
  {
   "cell_type": "code",
   "execution_count": 10,
   "metadata": {},
   "outputs": [],
   "source": [
    "# Find the 80th quantile of time in the dataset\n",
    "time_split = reviews[\"Time\"].quantile(prob = [0.8])[1]\n",
    "reviews[\"Train\"] = (reviews[\"Time\"] < time_split).ifelse(\"Yes\", \"No\")"
   ]
  },
  {
   "cell_type": "code",
   "execution_count": 11,
   "metadata": {},
   "outputs": [
    {
     "data": {
      "text/html": [
       "<table>\n",
       "<thead>\n",
       "<tr><th>Train  </th><th style=\"text-align: right;\">  Count</th></tr>\n",
       "</thead>\n",
       "<tbody>\n",
       "<tr><td>No     </td><td style=\"text-align: right;\">  11152</td></tr>\n",
       "<tr><td>Yes    </td><td style=\"text-align: right;\">  44402</td></tr>\n",
       "</tbody>\n",
       "</table>"
      ]
     },
     "metadata": {},
     "output_type": "display_data"
    },
    {
     "data": {
      "text/plain": []
     },
     "execution_count": 11,
     "metadata": {},
     "output_type": "execute_result"
    }
   ],
   "source": [
    "reviews['Train'].table()"
   ]
  },
  {
   "cell_type": "code",
   "execution_count": 12,
   "metadata": {},
   "outputs": [],
   "source": [
    "train = reviews[reviews[\"Train\"] == \"Yes\"]\n",
    "test = reviews[reviews[\"Train\"] == \"No\"]"
   ]
  },
  {
   "cell_type": "markdown",
   "metadata": {},
   "source": [
    "## 1.3 Tokenize Words in Review"
   ]
  },
  {
   "cell_type": "code",
   "execution_count": 13,
   "metadata": {},
   "outputs": [],
   "source": [
    "data_path = \"stopwords.csv\"\n",
    "STOP_WORDS = pd.read_csv(data_path, header=0)"
   ]
  },
  {
   "cell_type": "code",
   "execution_count": 14,
   "metadata": {},
   "outputs": [
    {
     "data": {
      "text/html": [
       "<div>\n",
       "<style scoped>\n",
       "    .dataframe tbody tr th:only-of-type {\n",
       "        vertical-align: middle;\n",
       "    }\n",
       "\n",
       "    .dataframe tbody tr th {\n",
       "        vertical-align: top;\n",
       "    }\n",
       "\n",
       "    .dataframe thead th {\n",
       "        text-align: right;\n",
       "    }\n",
       "</style>\n",
       "<table border=\"1\" class=\"dataframe\">\n",
       "  <thead>\n",
       "    <tr style=\"text-align: right;\">\n",
       "      <th></th>\n",
       "      <th>STOP_WORD</th>\n",
       "    </tr>\n",
       "  </thead>\n",
       "  <tbody>\n",
       "    <tr>\n",
       "      <th>0</th>\n",
       "      <td>all</td>\n",
       "    </tr>\n",
       "    <tr>\n",
       "      <th>1</th>\n",
       "      <td>just</td>\n",
       "    </tr>\n",
       "    <tr>\n",
       "      <th>2</th>\n",
       "      <td>being</td>\n",
       "    </tr>\n",
       "    <tr>\n",
       "      <th>3</th>\n",
       "      <td>over</td>\n",
       "    </tr>\n",
       "    <tr>\n",
       "      <th>4</th>\n",
       "      <td>both</td>\n",
       "    </tr>\n",
       "  </tbody>\n",
       "</table>\n",
       "</div>"
      ],
      "text/plain": [
       "  STOP_WORD\n",
       "0       all\n",
       "1      just\n",
       "2     being\n",
       "3      over\n",
       "4      both"
      ]
     },
     "execution_count": 14,
     "metadata": {},
     "output_type": "execute_result"
    }
   ],
   "source": [
    "STOP_WORDS.head()"
   ]
  },
  {
   "cell_type": "code",
   "execution_count": 15,
   "metadata": {},
   "outputs": [],
   "source": [
    "STOP_WORDS = list(STOP_WORDS['STOP_WORD'])"
   ]
  },
  {
   "cell_type": "code",
   "execution_count": 16,
   "metadata": {},
   "outputs": [],
   "source": [
    "def tokenize(sentences, stop_word = STOP_WORDS):\n",
    "    tokenized = sentences.tokenize(\"\\\\W+\")\n",
    "    tokenized_lower = tokenized.tolower()\n",
    "    tokenized_filtered = tokenized_lower[(tokenized_lower.nchar() >= 2) | (tokenized_lower.isna()),:]\n",
    "    tokenized_words = tokenized_filtered[tokenized_filtered.grep(\"[0-9]\",invert=True,output_logical=True),:]\n",
    "    tokenized_words = tokenized_words[(tokenized_words.isna()) | (~ tokenized_words.isin(STOP_WORDS)),:]\n",
    "    return tokenized_words"
   ]
  },
  {
   "cell_type": "code",
   "execution_count": 17,
   "metadata": {},
   "outputs": [],
   "source": [
    "# Break reviews into sequence of words\n",
    "words = tokenize(reviews[\"Text\"])"
   ]
  },
  {
   "cell_type": "code",
   "execution_count": 18,
   "metadata": {},
   "outputs": [
    {
     "data": {
      "text/html": [
       "<table>\n",
       "<thead>\n",
       "<tr><th>C1       </th></tr>\n",
       "</thead>\n",
       "<tbody>\n",
       "<tr><td>made     </td></tr>\n",
       "<tr><td>china    </td></tr>\n",
       "<tr><td>buy      </td></tr>\n",
       "<tr><td>pet      </td></tr>\n",
       "<tr><td>food     </td></tr>\n",
       "<tr><td>china    </td></tr>\n",
       "<tr><td>dogswell </td></tr>\n",
       "<tr><td>using    </td></tr>\n",
       "<tr><td>propylene</td></tr>\n",
       "<tr><td>glycol   </td></tr>\n",
       "</tbody>\n",
       "</table>"
      ]
     },
     "metadata": {},
     "output_type": "display_data"
    },
    {
     "data": {
      "text/plain": []
     },
     "execution_count": 18,
     "metadata": {},
     "output_type": "execute_result"
    }
   ],
   "source": [
    "words.head()"
   ]
  },
  {
   "cell_type": "markdown",
   "metadata": {},
   "source": [
    "## 1.4 Word2Vec Model"
   ]
  },
  {
   "cell_type": "code",
   "execution_count": 19,
   "metadata": {},
   "outputs": [
    {
     "name": "stdout",
     "output_type": "stream",
     "text": [
      "word2vec Model Build progress: |██████████████████████████████████████████| 100%\n"
     ]
    },
    {
     "data": {
      "text/plain": [
       "'/Users/mandy/Documents/Study/AI-Addin/data/w2v.hex'"
      ]
     },
     "execution_count": 19,
     "metadata": {},
     "output_type": "execute_result"
    }
   ],
   "source": [
    "# Train Word2Vec Model\n",
    "from h2o.estimators.word2vec import H2OWord2vecEstimator\n",
    "\n",
    "\n",
    "w2v_model = H2OWord2vecEstimator(vec_size = 100, model_id = \"w2v.hex\")\n",
    "w2v_model.train(training_frame=words)\n",
    "\n",
    "models_path='data'\n",
    "h2o.save_model(w2v_model, path = models_path, force = True)"
   ]
  },
  {
   "cell_type": "code",
   "execution_count": 20,
   "metadata": {},
   "outputs": [
    {
     "data": {
      "text/plain": [
       "OrderedDict([('brew', 0.7583884000778198),\n",
       "             ('java', 0.7582369446754456),\n",
       "             ('coffees', 0.7546112537384033),\n",
       "             ('coffe', 0.7496182918548584),\n",
       "             ('espresso', 0.7423779964447021)])"
      ]
     },
     "execution_count": 20,
     "metadata": {},
     "output_type": "execute_result"
    }
   ],
   "source": [
    "# Sanity check - find synonyms for the word 'coffee'\n",
    "w2v_model.find_synonyms(\"coffee\", count = 5)"
   ]
  },
  {
   "cell_type": "code",
   "execution_count": 21,
   "metadata": {},
   "outputs": [
    {
     "data": {
      "text/plain": [
       "OrderedDict([('rancid', 0.6798619627952576),\n",
       "             ('inedible', 0.6187920570373535),\n",
       "             ('tastless', 0.6068302392959595),\n",
       "             ('unedible', 0.6019616723060608),\n",
       "             ('musty', 0.6000657677650452)])"
      ]
     },
     "execution_count": 21,
     "metadata": {},
     "output_type": "execute_result"
    }
   ],
   "source": [
    "# Sanity check - find synonyms for the word 'stale'\n",
    "w2v_model.find_synonyms(\"stale\", count = 5)"
   ]
  },
  {
   "cell_type": "code",
   "execution_count": 22,
   "metadata": {},
   "outputs": [
    {
     "data": {
      "text/html": [
       "<table>\n",
       "<thead>\n",
       "<tr><th style=\"text-align: right;\">        C1</th><th style=\"text-align: right;\">         C2</th><th style=\"text-align: right;\">         C3</th><th style=\"text-align: right;\">        C4</th><th style=\"text-align: right;\">        C5</th><th style=\"text-align: right;\">        C6</th><th style=\"text-align: right;\">         C7</th><th style=\"text-align: right;\">          C8</th><th style=\"text-align: right;\">        C9</th><th style=\"text-align: right;\">        C10</th><th style=\"text-align: right;\">        C11</th><th style=\"text-align: right;\">         C12</th><th style=\"text-align: right;\">        C13</th><th style=\"text-align: right;\">       C14</th><th style=\"text-align: right;\">        C15</th><th style=\"text-align: right;\">        C16</th><th style=\"text-align: right;\">      C17</th><th style=\"text-align: right;\">       C18</th><th style=\"text-align: right;\">        C19</th><th style=\"text-align: right;\">       C20</th><th style=\"text-align: right;\">      C21</th><th style=\"text-align: right;\">       C22</th><th style=\"text-align: right;\">       C23</th><th style=\"text-align: right;\">        C24</th><th style=\"text-align: right;\">       C25</th><th style=\"text-align: right;\">         C26</th><th style=\"text-align: right;\">       C27</th><th style=\"text-align: right;\">       C28</th><th style=\"text-align: right;\">       C29</th><th style=\"text-align: right;\">        C30</th><th style=\"text-align: right;\">       C31</th><th style=\"text-align: right;\">      C32</th><th style=\"text-align: right;\">     C33</th><th style=\"text-align: right;\">       C34</th><th style=\"text-align: right;\">        C35</th><th style=\"text-align: right;\">         C36</th><th style=\"text-align: right;\">       C37</th><th style=\"text-align: right;\">       C38</th><th style=\"text-align: right;\">       C39</th><th style=\"text-align: right;\">       C40</th><th style=\"text-align: right;\">         C41</th><th style=\"text-align: right;\">       C42</th><th style=\"text-align: right;\">       C43</th><th style=\"text-align: right;\">       C44</th><th style=\"text-align: right;\">       C45</th><th style=\"text-align: right;\">        C46</th><th style=\"text-align: right;\">        C47</th><th style=\"text-align: right;\">        C48</th><th style=\"text-align: right;\">       C49</th><th style=\"text-align: right;\">       C50</th><th style=\"text-align: right;\">       C51</th><th style=\"text-align: right;\">       C52</th><th style=\"text-align: right;\">        C53</th><th style=\"text-align: right;\">      C54</th><th style=\"text-align: right;\">      C55</th><th style=\"text-align: right;\">         C56</th><th style=\"text-align: right;\">        C57</th><th style=\"text-align: right;\">       C58</th><th style=\"text-align: right;\">       C59</th><th style=\"text-align: right;\">        C60</th><th style=\"text-align: right;\">       C61</th><th style=\"text-align: right;\">      C62</th><th style=\"text-align: right;\">       C63</th><th style=\"text-align: right;\">         C64</th><th style=\"text-align: right;\">       C65</th><th style=\"text-align: right;\">        C66</th><th style=\"text-align: right;\">        C67</th><th style=\"text-align: right;\">       C68</th><th style=\"text-align: right;\">      C69</th><th style=\"text-align: right;\">        C70</th><th style=\"text-align: right;\">        C71</th><th style=\"text-align: right;\">       C72</th><th style=\"text-align: right;\">       C73</th><th style=\"text-align: right;\">        C74</th><th style=\"text-align: right;\">       C75</th><th style=\"text-align: right;\">      C76</th><th style=\"text-align: right;\">       C77</th><th style=\"text-align: right;\">      C78</th><th style=\"text-align: right;\">        C79</th><th style=\"text-align: right;\">        C80</th><th style=\"text-align: right;\">         C81</th><th style=\"text-align: right;\">       C82</th><th style=\"text-align: right;\">         C83</th><th style=\"text-align: right;\">       C84</th><th style=\"text-align: right;\">       C85</th><th style=\"text-align: right;\">       C86</th><th style=\"text-align: right;\">       C87</th><th style=\"text-align: right;\">      C88</th><th style=\"text-align: right;\">        C89</th><th style=\"text-align: right;\">        C90</th><th style=\"text-align: right;\">        C91</th><th style=\"text-align: right;\">        C92</th><th style=\"text-align: right;\">        C93</th><th style=\"text-align: right;\">       C94</th><th style=\"text-align: right;\">       C95</th><th style=\"text-align: right;\">       C96</th><th style=\"text-align: right;\">        C97</th><th style=\"text-align: right;\">         C98</th><th style=\"text-align: right;\">       C99</th><th style=\"text-align: right;\">    C100</th></tr>\n",
       "</thead>\n",
       "<tbody>\n",
       "<tr><td style=\"text-align: right;\"> 0.0388565</td><td style=\"text-align: right;\"> 0.103956  </td><td style=\"text-align: right;\">-0.0452092 </td><td style=\"text-align: right;\"> 0.015112 </td><td style=\"text-align: right;\"> 0.0626477</td><td style=\"text-align: right;\">-0.132458 </td><td style=\"text-align: right;\"> 0.142188  </td><td style=\"text-align: right;\"> 0.0345003  </td><td style=\"text-align: right;\"> 0.0992585</td><td style=\"text-align: right;\">-0.10346   </td><td style=\"text-align: right;\">-0.0647032 </td><td style=\"text-align: right;\"> 0.0531253  </td><td style=\"text-align: right;\"> 0.0622813 </td><td style=\"text-align: right;\">-0.0809419</td><td style=\"text-align: right;\"> 0.017975  </td><td style=\"text-align: right;\">-0.133163  </td><td style=\"text-align: right;\">0.0673173</td><td style=\"text-align: right;\">-0.0570654</td><td style=\"text-align: right;\">-0.0591273 </td><td style=\"text-align: right;\"> 0.0446375</td><td style=\"text-align: right;\">0.150002 </td><td style=\"text-align: right;\">-0.0106873</td><td style=\"text-align: right;\"> 0.210005 </td><td style=\"text-align: right;\"> 0.094513  </td><td style=\"text-align: right;\"> 0.1521   </td><td style=\"text-align: right;\"> 0.085519   </td><td style=\"text-align: right;\"> 0.0531019</td><td style=\"text-align: right;\">-0.108357 </td><td style=\"text-align: right;\"> 0.0962788</td><td style=\"text-align: right;\">-0.0185718 </td><td style=\"text-align: right;\"> 0.135682 </td><td style=\"text-align: right;\">0.0911816</td><td style=\"text-align: right;\">0.197208</td><td style=\"text-align: right;\">-0.0020469</td><td style=\"text-align: right;\">-0.0164188 </td><td style=\"text-align: right;\">-0.0627295  </td><td style=\"text-align: right;\"> 0.0110342</td><td style=\"text-align: right;\">-0.149588 </td><td style=\"text-align: right;\">-0.0352366</td><td style=\"text-align: right;\">-0.246436 </td><td style=\"text-align: right;\">-0.000558584</td><td style=\"text-align: right;\">-0.157659 </td><td style=\"text-align: right;\"> 0.0673622</td><td style=\"text-align: right;\">-0.100106 </td><td style=\"text-align: right;\">-0.0289694</td><td style=\"text-align: right;\"> 0.0463356 </td><td style=\"text-align: right;\">-0.137428  </td><td style=\"text-align: right;\">-0.124412  </td><td style=\"text-align: right;\"> 0.0103623</td><td style=\"text-align: right;\">-0.138484 </td><td style=\"text-align: right;\"> 0.185902 </td><td style=\"text-align: right;\">-0.0127725</td><td style=\"text-align: right;\"> 0.17484   </td><td style=\"text-align: right;\">0.196311 </td><td style=\"text-align: right;\">0.150801 </td><td style=\"text-align: right;\">-0.0305401  </td><td style=\"text-align: right;\">-0.0164198 </td><td style=\"text-align: right;\"> 0.184097 </td><td style=\"text-align: right;\">0.184609  </td><td style=\"text-align: right;\">-0.0102573 </td><td style=\"text-align: right;\">-0.182353 </td><td style=\"text-align: right;\">0.11609  </td><td style=\"text-align: right;\">-0.218469 </td><td style=\"text-align: right;\">-0.0987829  </td><td style=\"text-align: right;\">-0.0240301</td><td style=\"text-align: right;\">-0.0192306 </td><td style=\"text-align: right;\"> 0.0365942 </td><td style=\"text-align: right;\">-0.0848806</td><td style=\"text-align: right;\">0.144848 </td><td style=\"text-align: right;\"> 0.0999116 </td><td style=\"text-align: right;\"> 0.0649872 </td><td style=\"text-align: right;\">-0.135199 </td><td style=\"text-align: right;\"> 0.220069 </td><td style=\"text-align: right;\">-0.0531407 </td><td style=\"text-align: right;\">-0.207089 </td><td style=\"text-align: right;\">0.0281669</td><td style=\"text-align: right;\"> 0.0458973</td><td style=\"text-align: right;\">0.220879 </td><td style=\"text-align: right;\">-0.0571164 </td><td style=\"text-align: right;\">-0.0849415 </td><td style=\"text-align: right;\">-0.00459534 </td><td style=\"text-align: right;\">-0.0390933</td><td style=\"text-align: right;\"> 0.100628   </td><td style=\"text-align: right;\">-0.0656014</td><td style=\"text-align: right;\">-0.0326958</td><td style=\"text-align: right;\">-0.116311 </td><td style=\"text-align: right;\"> 0.0194121</td><td style=\"text-align: right;\">0.0606043</td><td style=\"text-align: right;\">-0.0443243 </td><td style=\"text-align: right;\"> 0.0355842 </td><td style=\"text-align: right;\"> 0.00272881</td><td style=\"text-align: right;\"> 0.125273  </td><td style=\"text-align: right;\"> 0.0291125 </td><td style=\"text-align: right;\"> 0.181032 </td><td style=\"text-align: right;\">-0.0899774</td><td style=\"text-align: right;\">-0.114928 </td><td style=\"text-align: right;\">-0.0130716 </td><td style=\"text-align: right;\">-0.0840797  </td><td style=\"text-align: right;\">-0.115888 </td><td style=\"text-align: right;\">0.17435 </td></tr>\n",
       "<tr><td style=\"text-align: right;\"> 0.0513362</td><td style=\"text-align: right;\">-0.00440117</td><td style=\"text-align: right;\">-0.0249161 </td><td style=\"text-align: right;\"> 0.0498558</td><td style=\"text-align: right;\">-0.11512  </td><td style=\"text-align: right;\"> 0.0412305</td><td style=\"text-align: right;\">-0.0759341 </td><td style=\"text-align: right;\">-0.165468   </td><td style=\"text-align: right;\"> 0.0578123</td><td style=\"text-align: right;\">-0.146333  </td><td style=\"text-align: right;\"> 0.00166413</td><td style=\"text-align: right;\"> 0.0204378  </td><td style=\"text-align: right;\"> 0.112563  </td><td style=\"text-align: right;\"> 0.0280274</td><td style=\"text-align: right;\">-0.0544884 </td><td style=\"text-align: right;\"> 0.132045  </td><td style=\"text-align: right;\">0.178337 </td><td style=\"text-align: right;\">-0.0714973</td><td style=\"text-align: right;\">-0.0268916 </td><td style=\"text-align: right;\"> 0.0363064</td><td style=\"text-align: right;\">0.0721682</td><td style=\"text-align: right;\"> 0.0372152</td><td style=\"text-align: right;\">-0.0652596</td><td style=\"text-align: right;\"> 0.0340418 </td><td style=\"text-align: right;\"> 0.102422 </td><td style=\"text-align: right;\">-0.13188    </td><td style=\"text-align: right;\"> 0.065763 </td><td style=\"text-align: right;\"> 0.062613 </td><td style=\"text-align: right;\"> 0.0953723</td><td style=\"text-align: right;\">-0.0270064 </td><td style=\"text-align: right;\"> 0.0679753</td><td style=\"text-align: right;\">0.177192 </td><td style=\"text-align: right;\">0.171178</td><td style=\"text-align: right;\"> 0.120383 </td><td style=\"text-align: right;\"> 0.0365757 </td><td style=\"text-align: right;\">-0.0677486  </td><td style=\"text-align: right;\">-0.0581971</td><td style=\"text-align: right;\">-0.181193 </td><td style=\"text-align: right;\">-0.0726263</td><td style=\"text-align: right;\">-0.129351 </td><td style=\"text-align: right;\">-0.0392536  </td><td style=\"text-align: right;\">-0.0728073</td><td style=\"text-align: right;\"> 0.178091 </td><td style=\"text-align: right;\">-0.11433  </td><td style=\"text-align: right;\">-0.0759201</td><td style=\"text-align: right;\"> 0.109891  </td><td style=\"text-align: right;\">-0.0104963 </td><td style=\"text-align: right;\">-0.0401055 </td><td style=\"text-align: right;\">-0.0445574</td><td style=\"text-align: right;\"> 0.0522939</td><td style=\"text-align: right;\">-0.0445474</td><td style=\"text-align: right;\">-0.113592 </td><td style=\"text-align: right;\"> 0.0829627 </td><td style=\"text-align: right;\">0.231689 </td><td style=\"text-align: right;\">0.228338 </td><td style=\"text-align: right;\"> 0.0720771  </td><td style=\"text-align: right;\">-0.00399934</td><td style=\"text-align: right;\">-0.021206 </td><td style=\"text-align: right;\">0.00913009</td><td style=\"text-align: right;\"> 0.00306112</td><td style=\"text-align: right;\">-0.0174448</td><td style=\"text-align: right;\">0.219396 </td><td style=\"text-align: right;\">-0.0796018</td><td style=\"text-align: right;\"> 0.0812246  </td><td style=\"text-align: right;\">-0.103812 </td><td style=\"text-align: right;\">-0.0382276 </td><td style=\"text-align: right;\"> 0.0302572 </td><td style=\"text-align: right;\">-0.146381 </td><td style=\"text-align: right;\">0.210316 </td><td style=\"text-align: right;\"> 0.0502982 </td><td style=\"text-align: right;\">-0.0459529 </td><td style=\"text-align: right;\">-0.0169911</td><td style=\"text-align: right;\">-0.0261788</td><td style=\"text-align: right;\"> 0.0347468 </td><td style=\"text-align: right;\">-0.103118 </td><td style=\"text-align: right;\">0.176389 </td><td style=\"text-align: right;\"> 0.0731979</td><td style=\"text-align: right;\">0.0629904</td><td style=\"text-align: right;\">-0.076909  </td><td style=\"text-align: right;\"> 0.01107   </td><td style=\"text-align: right;\">-0.0557984  </td><td style=\"text-align: right;\"> 0.0395927</td><td style=\"text-align: right;\">-0.0815236  </td><td style=\"text-align: right;\">-0.0324087</td><td style=\"text-align: right;\">-0.214381 </td><td style=\"text-align: right;\">-0.234959 </td><td style=\"text-align: right;\">-0.270491 </td><td style=\"text-align: right;\">0.0506634</td><td style=\"text-align: right;\"> 0.0189085 </td><td style=\"text-align: right;\"> 0.0201155 </td><td style=\"text-align: right;\">-0.0366047 </td><td style=\"text-align: right;\"> 0.013764  </td><td style=\"text-align: right;\"> 0.0892676 </td><td style=\"text-align: right;\">-0.0492352</td><td style=\"text-align: right;\">-0.0601437</td><td style=\"text-align: right;\">-0.180513 </td><td style=\"text-align: right;\">-0.112542  </td><td style=\"text-align: right;\">-0.123384   </td><td style=\"text-align: right;\">-0.0619487</td><td style=\"text-align: right;\">0.357928</td></tr>\n",
       "<tr><td style=\"text-align: right;\"> 0.0543675</td><td style=\"text-align: right;\"> 0.0333721 </td><td style=\"text-align: right;\">-0.00629156</td><td style=\"text-align: right;\"> 0.0587077</td><td style=\"text-align: right;\"> 0.0172913</td><td style=\"text-align: right;\">-0.0862336</td><td style=\"text-align: right;\"> 0.00276453</td><td style=\"text-align: right;\"> 0.0600827  </td><td style=\"text-align: right;\"> 0.101659 </td><td style=\"text-align: right;\"> 0.00843011</td><td style=\"text-align: right;\">-0.0727454 </td><td style=\"text-align: right;\">-0.0161055  </td><td style=\"text-align: right;\">-0.046195  </td><td style=\"text-align: right;\">-0.0536828</td><td style=\"text-align: right;\"> 0.0402279 </td><td style=\"text-align: right;\"> 0.00228395</td><td style=\"text-align: right;\">0.149481 </td><td style=\"text-align: right;\">-0.0851313</td><td style=\"text-align: right;\">-0.0794495 </td><td style=\"text-align: right;\"> 0.0723161</td><td style=\"text-align: right;\">0.140143 </td><td style=\"text-align: right;\">-0.0839352</td><td style=\"text-align: right;\"> 0.141048 </td><td style=\"text-align: right;\"> 0.0488228 </td><td style=\"text-align: right;\"> 0.160422 </td><td style=\"text-align: right;\"> 0.0137541  </td><td style=\"text-align: right;\">-0.0477366</td><td style=\"text-align: right;\">-0.159887 </td><td style=\"text-align: right;\"> 0.0882102</td><td style=\"text-align: right;\"> 0.0745272 </td><td style=\"text-align: right;\"> 0.0141047</td><td style=\"text-align: right;\">0.139311 </td><td style=\"text-align: right;\">0.186148</td><td style=\"text-align: right;\"> 0.0373168</td><td style=\"text-align: right;\">-0.108915  </td><td style=\"text-align: right;\">-0.0789666  </td><td style=\"text-align: right;\">-0.0295961</td><td style=\"text-align: right;\">-0.113165 </td><td style=\"text-align: right;\">-0.0935327</td><td style=\"text-align: right;\">-0.0545077</td><td style=\"text-align: right;\">-0.0122322  </td><td style=\"text-align: right;\">-0.0539839</td><td style=\"text-align: right;\"> 0.140073 </td><td style=\"text-align: right;\"> 0.0725239</td><td style=\"text-align: right;\">-0.113544 </td><td style=\"text-align: right;\">-0.158504  </td><td style=\"text-align: right;\"> 0.00181585</td><td style=\"text-align: right;\">-0.0491493 </td><td style=\"text-align: right;\">-0.152362 </td><td style=\"text-align: right;\">-0.0440854</td><td style=\"text-align: right;\"> 0.130712 </td><td style=\"text-align: right;\"> 0.0402764</td><td style=\"text-align: right;\">-0.00515583</td><td style=\"text-align: right;\">0.165969 </td><td style=\"text-align: right;\">0.116693 </td><td style=\"text-align: right;\"> 0.0234721  </td><td style=\"text-align: right;\">-0.060061  </td><td style=\"text-align: right;\"> 0.147071 </td><td style=\"text-align: right;\">0.0526331 </td><td style=\"text-align: right;\">-0.0267272 </td><td style=\"text-align: right;\">-0.0765783</td><td style=\"text-align: right;\">0.168646 </td><td style=\"text-align: right;\">-0.163541 </td><td style=\"text-align: right;\">-0.0142938  </td><td style=\"text-align: right;\">-0.162537 </td><td style=\"text-align: right;\"> 0.00811596</td><td style=\"text-align: right;\"> 0.0119684 </td><td style=\"text-align: right;\">-0.260906 </td><td style=\"text-align: right;\">0.134994 </td><td style=\"text-align: right;\"> 0.190432  </td><td style=\"text-align: right;\"> 0.0740884 </td><td style=\"text-align: right;\">-0.184374 </td><td style=\"text-align: right;\"> 0.126292 </td><td style=\"text-align: right;\">-0.00136074</td><td style=\"text-align: right;\">-0.080048 </td><td style=\"text-align: right;\">0.0398701</td><td style=\"text-align: right;\"> 0.0367589</td><td style=\"text-align: right;\">0.0802206</td><td style=\"text-align: right;\">-0.0361636 </td><td style=\"text-align: right;\">-0.0572409 </td><td style=\"text-align: right;\"> 0.122135   </td><td style=\"text-align: right;\">-0.0638821</td><td style=\"text-align: right;\">-0.0335268  </td><td style=\"text-align: right;\">-0.0982646</td><td style=\"text-align: right;\">-0.145779 </td><td style=\"text-align: right;\">-0.255626 </td><td style=\"text-align: right;\">-0.0731203</td><td style=\"text-align: right;\">0.191258 </td><td style=\"text-align: right;\"> 0.0349603 </td><td style=\"text-align: right;\">-0.0937031 </td><td style=\"text-align: right;\"> 0.0320818 </td><td style=\"text-align: right;\">-0.0350101 </td><td style=\"text-align: right;\"> 0.0522079 </td><td style=\"text-align: right;\"> 0.176943 </td><td style=\"text-align: right;\">-0.0918238</td><td style=\"text-align: right;\">-0.0486026</td><td style=\"text-align: right;\">-0.0688671 </td><td style=\"text-align: right;\">-0.149982   </td><td style=\"text-align: right;\">-0.0860884</td><td style=\"text-align: right;\">0.212012</td></tr>\n",
       "<tr><td style=\"text-align: right;\"> 0.0639987</td><td style=\"text-align: right;\"> 0.07179   </td><td style=\"text-align: right;\">-0.033826  </td><td style=\"text-align: right;\"> 0.116701 </td><td style=\"text-align: right;\"> 0.063813 </td><td style=\"text-align: right;\">-0.187427 </td><td style=\"text-align: right;\"> 0.123988  </td><td style=\"text-align: right;\">-0.000264974</td><td style=\"text-align: right;\"> 0.161119 </td><td style=\"text-align: right;\"> 0.0134085 </td><td style=\"text-align: right;\">-0.0657702 </td><td style=\"text-align: right;\"> 0.0169683  </td><td style=\"text-align: right;\">-0.00886365</td><td style=\"text-align: right;\">-0.0166211</td><td style=\"text-align: right;\">-0.053369  </td><td style=\"text-align: right;\">-0.037918  </td><td style=\"text-align: right;\">0.187637 </td><td style=\"text-align: right;\"> 0.0462822</td><td style=\"text-align: right;\">-0.0343345 </td><td style=\"text-align: right;\"> 0.0585284</td><td style=\"text-align: right;\">0.0798477</td><td style=\"text-align: right;\">-0.150275 </td><td style=\"text-align: right;\"> 0.070967 </td><td style=\"text-align: right;\"> 0.0120622 </td><td style=\"text-align: right;\"> 0.132818 </td><td style=\"text-align: right;\">-0.0194012  </td><td style=\"text-align: right;\">-0.0424744</td><td style=\"text-align: right;\"> 0.0448245</td><td style=\"text-align: right;\"> 0.0146337</td><td style=\"text-align: right;\"> 0.103071  </td><td style=\"text-align: right;\"> 0.0291988</td><td style=\"text-align: right;\">0.103745 </td><td style=\"text-align: right;\">0.230419</td><td style=\"text-align: right;\"> 0.0416113</td><td style=\"text-align: right;\">-0.121562  </td><td style=\"text-align: right;\"> 0.0267108  </td><td style=\"text-align: right;\">-0.0345336</td><td style=\"text-align: right;\">-0.0151517</td><td style=\"text-align: right;\">-0.0816308</td><td style=\"text-align: right;\">-0.104241 </td><td style=\"text-align: right;\">-0.0322143  </td><td style=\"text-align: right;\">-0.0876887</td><td style=\"text-align: right;\">-0.0152506</td><td style=\"text-align: right;\"> 0.111998 </td><td style=\"text-align: right;\">-0.120637 </td><td style=\"text-align: right;\">-0.0395301 </td><td style=\"text-align: right;\">-0.0418025 </td><td style=\"text-align: right;\">-0.0096307 </td><td style=\"text-align: right;\">-0.0136039</td><td style=\"text-align: right;\"> 0.0422962</td><td style=\"text-align: right;\"> 0.074651 </td><td style=\"text-align: right;\">-0.0799257</td><td style=\"text-align: right;\"> 0.0202497 </td><td style=\"text-align: right;\">0.0653307</td><td style=\"text-align: right;\">0.0941814</td><td style=\"text-align: right;\"> 0.000522376</td><td style=\"text-align: right;\"> 0.0367877 </td><td style=\"text-align: right;\"> 0.0901871</td><td style=\"text-align: right;\">0.0632601 </td><td style=\"text-align: right;\"> 0.0302877 </td><td style=\"text-align: right;\">-0.102641 </td><td style=\"text-align: right;\">0.167671 </td><td style=\"text-align: right;\">-0.0724983</td><td style=\"text-align: right;\">-0.127787   </td><td style=\"text-align: right;\">-0.0770673</td><td style=\"text-align: right;\">-0.06596   </td><td style=\"text-align: right;\"> 0.00970484</td><td style=\"text-align: right;\">-0.27283  </td><td style=\"text-align: right;\">0.16294  </td><td style=\"text-align: right;\"> 0.09692   </td><td style=\"text-align: right;\"> 0.0372963 </td><td style=\"text-align: right;\">-0.198553 </td><td style=\"text-align: right;\"> 0.054433 </td><td style=\"text-align: right;\"> 0.026563  </td><td style=\"text-align: right;\">-0.0474471</td><td style=\"text-align: right;\">0.0495706</td><td style=\"text-align: right;\"> 0.131955 </td><td style=\"text-align: right;\">0.051638 </td><td style=\"text-align: right;\">-0.0238253 </td><td style=\"text-align: right;\">-0.180649  </td><td style=\"text-align: right;\">-0.00723726 </td><td style=\"text-align: right;\">-0.0289249</td><td style=\"text-align: right;\">-0.09825    </td><td style=\"text-align: right;\">-0.0932856</td><td style=\"text-align: right;\">-0.131709 </td><td style=\"text-align: right;\">-0.199573 </td><td style=\"text-align: right;\">-0.149237 </td><td style=\"text-align: right;\">0.110748 </td><td style=\"text-align: right;\">-0.13217   </td><td style=\"text-align: right;\"> 0.00505061</td><td style=\"text-align: right;\"> 0.0444398 </td><td style=\"text-align: right;\">-0.00101243</td><td style=\"text-align: right;\">-0.00346895</td><td style=\"text-align: right;\"> 0.0627703</td><td style=\"text-align: right;\">-0.213328 </td><td style=\"text-align: right;\">-0.162924 </td><td style=\"text-align: right;\">-0.0278659 </td><td style=\"text-align: right;\"> 0.00842111 </td><td style=\"text-align: right;\">-0.0395144</td><td style=\"text-align: right;\">0.338693</td></tr>\n",
       "<tr><td style=\"text-align: right;\"> 0.157194 </td><td style=\"text-align: right;\"> 0.0119215 </td><td style=\"text-align: right;\"> 0.0624883 </td><td style=\"text-align: right;\"> 0.0781382</td><td style=\"text-align: right;\"> 0.0500075</td><td style=\"text-align: right;\">-0.119281 </td><td style=\"text-align: right;\"> 0.163771  </td><td style=\"text-align: right;\"> 0.109346   </td><td style=\"text-align: right;\"> 0.126697 </td><td style=\"text-align: right;\">-0.110201  </td><td style=\"text-align: right;\"> 0.0219335 </td><td style=\"text-align: right;\">-0.000754073</td><td style=\"text-align: right;\">-0.07768   </td><td style=\"text-align: right;\">-0.0406288</td><td style=\"text-align: right;\">-0.0408492 </td><td style=\"text-align: right;\"> 0.018481  </td><td style=\"text-align: right;\">0.0339023</td><td style=\"text-align: right;\">-0.117444 </td><td style=\"text-align: right;\">-0.00283358</td><td style=\"text-align: right;\"> 0.0569737</td><td style=\"text-align: right;\">0.164506 </td><td style=\"text-align: right;\">-0.0837144</td><td style=\"text-align: right;\"> 0.13388  </td><td style=\"text-align: right;\"> 0.0613367 </td><td style=\"text-align: right;\"> 0.149306 </td><td style=\"text-align: right;\">-0.021585   </td><td style=\"text-align: right;\"> 0.0101487</td><td style=\"text-align: right;\">-0.103073 </td><td style=\"text-align: right;\"> 0.0818977</td><td style=\"text-align: right;\">-0.0518438 </td><td style=\"text-align: right;\"> 0.0565661</td><td style=\"text-align: right;\">0.230247 </td><td style=\"text-align: right;\">0.249643</td><td style=\"text-align: right;\"> 0.026059 </td><td style=\"text-align: right;\">-0.103349  </td><td style=\"text-align: right;\">-0.000793893</td><td style=\"text-align: right;\"> 0.0249132</td><td style=\"text-align: right;\">-0.139481 </td><td style=\"text-align: right;\">-0.137492 </td><td style=\"text-align: right;\">-0.16087  </td><td style=\"text-align: right;\"> 0.0756963  </td><td style=\"text-align: right;\">-0.0538394</td><td style=\"text-align: right;\"> 0.135821 </td><td style=\"text-align: right;\"> 0.0341011</td><td style=\"text-align: right;\">-0.0882143</td><td style=\"text-align: right;\"> 0.00960158</td><td style=\"text-align: right;\">-0.00563572</td><td style=\"text-align: right;\"> 0.0101432 </td><td style=\"text-align: right;\">-0.035868 </td><td style=\"text-align: right;\">-0.111016 </td><td style=\"text-align: right;\"> 0.169226 </td><td style=\"text-align: right;\">-0.106859 </td><td style=\"text-align: right;\"> 0.0271687 </td><td style=\"text-align: right;\">0.09627  </td><td style=\"text-align: right;\">0.160082 </td><td style=\"text-align: right;\">-0.0114792  </td><td style=\"text-align: right;\"> 0.0460933 </td><td style=\"text-align: right;\"> 0.166184 </td><td style=\"text-align: right;\">0.111807  </td><td style=\"text-align: right;\"> 0.00492099</td><td style=\"text-align: right;\">-0.108495 </td><td style=\"text-align: right;\">0.211889 </td><td style=\"text-align: right;\">-0.182036 </td><td style=\"text-align: right;\">-0.108551   </td><td style=\"text-align: right;\">-0.038545 </td><td style=\"text-align: right;\">-0.0759888 </td><td style=\"text-align: right;\"> 0.0682247 </td><td style=\"text-align: right;\">-0.109425 </td><td style=\"text-align: right;\">0.107566 </td><td style=\"text-align: right;\"> 0.171429  </td><td style=\"text-align: right;\"> 0.116888  </td><td style=\"text-align: right;\">-0.219887 </td><td style=\"text-align: right;\"> 0.147565 </td><td style=\"text-align: right;\">-0.0261487 </td><td style=\"text-align: right;\">-0.122202 </td><td style=\"text-align: right;\">0.0782614</td><td style=\"text-align: right;\"> 0.0959686</td><td style=\"text-align: right;\">0.20124  </td><td style=\"text-align: right;\"> 0.00787035</td><td style=\"text-align: right;\">-0.145301  </td><td style=\"text-align: right;\">-0.013497   </td><td style=\"text-align: right;\">-0.0683662</td><td style=\"text-align: right;\">-0.0501676  </td><td style=\"text-align: right;\">-0.111364 </td><td style=\"text-align: right;\">-0.121679 </td><td style=\"text-align: right;\">-0.0401698</td><td style=\"text-align: right;\">-0.0589571</td><td style=\"text-align: right;\">0.113375 </td><td style=\"text-align: right;\"> 0.0069527 </td><td style=\"text-align: right;\">-0.0410826 </td><td style=\"text-align: right;\">-0.0771643 </td><td style=\"text-align: right;\"> 0.037442  </td><td style=\"text-align: right;\">-0.0718501 </td><td style=\"text-align: right;\"> 0.0733755</td><td style=\"text-align: right;\">-0.120621 </td><td style=\"text-align: right;\">-0.12053  </td><td style=\"text-align: right;\"> 0.0175299 </td><td style=\"text-align: right;\">-0.0842068  </td><td style=\"text-align: right;\">-0.0177777</td><td style=\"text-align: right;\">0.228458</td></tr>\n",
       "<tr><td style=\"text-align: right;\"> 0.0427301</td><td style=\"text-align: right;\"> 0.0760681 </td><td style=\"text-align: right;\">-0.0287693 </td><td style=\"text-align: right;\"> 0.0886844</td><td style=\"text-align: right;\">-0.0032618</td><td style=\"text-align: right;\">-0.116721 </td><td style=\"text-align: right;\">-0.156029  </td><td style=\"text-align: right;\">-0.202568   </td><td style=\"text-align: right;\"> 0.137403 </td><td style=\"text-align: right;\"> 0.166911  </td><td style=\"text-align: right;\">-0.106487  </td><td style=\"text-align: right;\">-0.0238214  </td><td style=\"text-align: right;\">-0.135877  </td><td style=\"text-align: right;\">-0.0481775</td><td style=\"text-align: right;\"> 0.103436  </td><td style=\"text-align: right;\"> 0.156001  </td><td style=\"text-align: right;\">0.140438 </td><td style=\"text-align: right;\"> 0.0853355</td><td style=\"text-align: right;\"> 0.0561722 </td><td style=\"text-align: right;\"> 0.179775 </td><td style=\"text-align: right;\">0.289531 </td><td style=\"text-align: right;\">-0.0752311</td><td style=\"text-align: right;\"> 0.146381 </td><td style=\"text-align: right;\"> 0.0551203 </td><td style=\"text-align: right;\">-0.0338812</td><td style=\"text-align: right;\">-0.000676883</td><td style=\"text-align: right;\">-0.0657949</td><td style=\"text-align: right;\">-0.0063904</td><td style=\"text-align: right;\"> 0.0627833</td><td style=\"text-align: right;\"> 0.052391  </td><td style=\"text-align: right;\"> 0.150104 </td><td style=\"text-align: right;\">0.174232 </td><td style=\"text-align: right;\">0.255766</td><td style=\"text-align: right;\"> 0.0783503</td><td style=\"text-align: right;\"> 0.0572812 </td><td style=\"text-align: right;\">-0.0182824  </td><td style=\"text-align: right;\"> 0.23438  </td><td style=\"text-align: right;\">-0.173589 </td><td style=\"text-align: right;\">-0.180868 </td><td style=\"text-align: right;\">-0.0646   </td><td style=\"text-align: right;\"> 0.0195755  </td><td style=\"text-align: right;\">-0.0645224</td><td style=\"text-align: right;\"> 0.209474 </td><td style=\"text-align: right;\">-0.112186 </td><td style=\"text-align: right;\">-0.0898505</td><td style=\"text-align: right;\">-0.110779  </td><td style=\"text-align: right;\">-0.0268879 </td><td style=\"text-align: right;\"> 0.0300255 </td><td style=\"text-align: right;\">-0.170842 </td><td style=\"text-align: right;\">-0.0166597</td><td style=\"text-align: right;\">-0.0942611</td><td style=\"text-align: right;\">-0.0466569</td><td style=\"text-align: right;\"> 0.0329351 </td><td style=\"text-align: right;\">0.0808135</td><td style=\"text-align: right;\">0.0445091</td><td style=\"text-align: right;\"> 0.0116057  </td><td style=\"text-align: right;\"> 0.0415364 </td><td style=\"text-align: right;\"> 0.0476712</td><td style=\"text-align: right;\">0.0149112 </td><td style=\"text-align: right;\">-0.0563269 </td><td style=\"text-align: right;\">-0.181578 </td><td style=\"text-align: right;\">0.0474365</td><td style=\"text-align: right;\">-0.0255746</td><td style=\"text-align: right;\">-0.0648403  </td><td style=\"text-align: right;\">-0.0384032</td><td style=\"text-align: right;\">-0.0615294 </td><td style=\"text-align: right;\"> 0.042828  </td><td style=\"text-align: right;\">-0.156168 </td><td style=\"text-align: right;\">0.116823 </td><td style=\"text-align: right;\"> 0.168645  </td><td style=\"text-align: right;\"> 0.0729793 </td><td style=\"text-align: right;\">-0.0297799</td><td style=\"text-align: right;\">-0.0716131</td><td style=\"text-align: right;\"> 0.012753  </td><td style=\"text-align: right;\">-0.0930859</td><td style=\"text-align: right;\">0.0961042</td><td style=\"text-align: right;\"> 0.194445 </td><td style=\"text-align: right;\">0.056185 </td><td style=\"text-align: right;\">-0.179882  </td><td style=\"text-align: right;\">-0.0121639 </td><td style=\"text-align: right;\">-0.0792937  </td><td style=\"text-align: right;\"> 0.0850782</td><td style=\"text-align: right;\">-0.0468986  </td><td style=\"text-align: right;\">-0.0722833</td><td style=\"text-align: right;\">-0.153839 </td><td style=\"text-align: right;\">-0.140725 </td><td style=\"text-align: right;\">-0.20618  </td><td style=\"text-align: right;\">0.103797 </td><td style=\"text-align: right;\">-0.010281  </td><td style=\"text-align: right;\">-0.100822  </td><td style=\"text-align: right;\">-0.174894  </td><td style=\"text-align: right;\"> 0.126351  </td><td style=\"text-align: right;\"> 0.128384  </td><td style=\"text-align: right;\">-0.0978452</td><td style=\"text-align: right;\">-0.155286 </td><td style=\"text-align: right;\">-0.0935887</td><td style=\"text-align: right;\"> 0.061329  </td><td style=\"text-align: right;\">-0.17071    </td><td style=\"text-align: right;\"> 0.0489422</td><td style=\"text-align: right;\">0.328151</td></tr>\n",
       "<tr><td style=\"text-align: right;\"> 0.0189073</td><td style=\"text-align: right;\"> 0.111871  </td><td style=\"text-align: right;\">-0.0561137 </td><td style=\"text-align: right;\"> 0.108484 </td><td style=\"text-align: right;\">-0.0889942</td><td style=\"text-align: right;\"> 0.034398 </td><td style=\"text-align: right;\"> 0.0499953 </td><td style=\"text-align: right;\">-0.266129   </td><td style=\"text-align: right;\"> 0.0833357</td><td style=\"text-align: right;\">-0.01556   </td><td style=\"text-align: right;\"> 0.0300117 </td><td style=\"text-align: right;\"> 0.0831136  </td><td style=\"text-align: right;\"> 0.0373213 </td><td style=\"text-align: right;\"> 0.0327359</td><td style=\"text-align: right;\"> 0.0149517 </td><td style=\"text-align: right;\">-0.042599  </td><td style=\"text-align: right;\">0.052393 </td><td style=\"text-align: right;\">-0.0209837</td><td style=\"text-align: right;\">-0.0897831 </td><td style=\"text-align: right;\"> 0.0407339</td><td style=\"text-align: right;\">0.0822861</td><td style=\"text-align: right;\">-0.102499 </td><td style=\"text-align: right;\"> 0.0496708</td><td style=\"text-align: right;\">-0.0784958 </td><td style=\"text-align: right;\"> 0.0926671</td><td style=\"text-align: right;\">-0.0484945  </td><td style=\"text-align: right;\"> 0.0731308</td><td style=\"text-align: right;\"> 0.0309501</td><td style=\"text-align: right;\"> 0.085949 </td><td style=\"text-align: right;\">-0.10804   </td><td style=\"text-align: right;\">-0.0620131</td><td style=\"text-align: right;\">0.0879011</td><td style=\"text-align: right;\">0.268907</td><td style=\"text-align: right;\">-0.0103693</td><td style=\"text-align: right;\">-0.0196218 </td><td style=\"text-align: right;\">-0.12166    </td><td style=\"text-align: right;\"> 0.0109278</td><td style=\"text-align: right;\">-0.189729 </td><td style=\"text-align: right;\">-0.108875 </td><td style=\"text-align: right;\"> 0.0215952</td><td style=\"text-align: right;\">-0.116284   </td><td style=\"text-align: right;\">-0.0622652</td><td style=\"text-align: right;\"> 0.0518046</td><td style=\"text-align: right;\">-0.0331506</td><td style=\"text-align: right;\">-0.159845 </td><td style=\"text-align: right;\"> 0.052578  </td><td style=\"text-align: right;\">-0.134137  </td><td style=\"text-align: right;\">-0.0301046 </td><td style=\"text-align: right;\">-0.117288 </td><td style=\"text-align: right;\">-0.115536 </td><td style=\"text-align: right;\"> 0.125364 </td><td style=\"text-align: right;\">-0.0155794</td><td style=\"text-align: right;\"> 0.157692  </td><td style=\"text-align: right;\">0.28542  </td><td style=\"text-align: right;\">0.100391 </td><td style=\"text-align: right;\"> 0.123146   </td><td style=\"text-align: right;\">-0.047484  </td><td style=\"text-align: right;\"> 0.286041 </td><td style=\"text-align: right;\">0.16183   </td><td style=\"text-align: right;\"> 0.0178357 </td><td style=\"text-align: right;\"> 0.019427 </td><td style=\"text-align: right;\">0.00518  </td><td style=\"text-align: right;\">-0.113729 </td><td style=\"text-align: right;\">-0.000820649</td><td style=\"text-align: right;\"> 0.0669355</td><td style=\"text-align: right;\">-0.073567  </td><td style=\"text-align: right;\">-0.00553864</td><td style=\"text-align: right;\">-0.247113 </td><td style=\"text-align: right;\">0.050149 </td><td style=\"text-align: right;\">-0.00254762</td><td style=\"text-align: right;\">-0.0308001 </td><td style=\"text-align: right;\">-0.13226  </td><td style=\"text-align: right;\"> 0.121358 </td><td style=\"text-align: right;\">-0.0304287 </td><td style=\"text-align: right;\">-0.0859082</td><td style=\"text-align: right;\">0.106198 </td><td style=\"text-align: right;\"> 0.261617 </td><td style=\"text-align: right;\">0.0432093</td><td style=\"text-align: right;\">-0.0883955 </td><td style=\"text-align: right;\">-0.0350992 </td><td style=\"text-align: right;\"> 0.000942568</td><td style=\"text-align: right;\"> 0.0876927</td><td style=\"text-align: right;\"> 8.06798e-05</td><td style=\"text-align: right;\"> 0.106533 </td><td style=\"text-align: right;\">-0.17169  </td><td style=\"text-align: right;\">-0.103086 </td><td style=\"text-align: right;\">-0.121041 </td><td style=\"text-align: right;\">0.0874666</td><td style=\"text-align: right;\">-0.0124852 </td><td style=\"text-align: right;\"> 0.0697438 </td><td style=\"text-align: right;\">-0.00325125</td><td style=\"text-align: right;\"> 0.0979162 </td><td style=\"text-align: right;\">-0.0432287 </td><td style=\"text-align: right;\"> 0.0221737</td><td style=\"text-align: right;\"> 0.0804607</td><td style=\"text-align: right;\">-0.214508 </td><td style=\"text-align: right;\"> 0.00342269</td><td style=\"text-align: right;\">-0.000942328</td><td style=\"text-align: right;\"> 0.0885428</td><td style=\"text-align: right;\">0.356114</td></tr>\n",
       "<tr><td style=\"text-align: right;\"> 0.0147973</td><td style=\"text-align: right;\"> 0.0168572 </td><td style=\"text-align: right;\">-0.020432  </td><td style=\"text-align: right;\"> 0.0455339</td><td style=\"text-align: right;\">-0.0642256</td><td style=\"text-align: right;\">-0.0933559</td><td style=\"text-align: right;\">-0.0763421 </td><td style=\"text-align: right;\">-0.213135   </td><td style=\"text-align: right;\"> 0.0654762</td><td style=\"text-align: right;\"> 0.0719012 </td><td style=\"text-align: right;\">-0.1083    </td><td style=\"text-align: right;\"> 0.00704281 </td><td style=\"text-align: right;\"> 0.019045  </td><td style=\"text-align: right;\">-0.095437 </td><td style=\"text-align: right;\"> 0.00976471</td><td style=\"text-align: right;\"> 0.216368  </td><td style=\"text-align: right;\">0.0675476</td><td style=\"text-align: right;\">-0.0639142</td><td style=\"text-align: right;\"> 0.0207867 </td><td style=\"text-align: right;\"> 0.115304 </td><td style=\"text-align: right;\">0.144869 </td><td style=\"text-align: right;\">-0.106114 </td><td style=\"text-align: right;\"> 0.0534734</td><td style=\"text-align: right;\">-0.05003   </td><td style=\"text-align: right;\"> 0.0469321</td><td style=\"text-align: right;\"> 0.0111373  </td><td style=\"text-align: right;\"> 0.0361556</td><td style=\"text-align: right;\"> 0.0731454</td><td style=\"text-align: right;\"> 0.0974246</td><td style=\"text-align: right;\">-0.00726101</td><td style=\"text-align: right;\"> 0.104871 </td><td style=\"text-align: right;\">0.184512 </td><td style=\"text-align: right;\">0.19358 </td><td style=\"text-align: right;\">-0.03141  </td><td style=\"text-align: right;\">-0.00080461</td><td style=\"text-align: right;\"> 0.0273853  </td><td style=\"text-align: right;\"> 0.0300196</td><td style=\"text-align: right;\">-0.0931666</td><td style=\"text-align: right;\">-0.154401 </td><td style=\"text-align: right;\">-0.0650544</td><td style=\"text-align: right;\"> 0.00832577 </td><td style=\"text-align: right;\">-0.0634274</td><td style=\"text-align: right;\"> 0.125    </td><td style=\"text-align: right;\">-0.11011  </td><td style=\"text-align: right;\">-0.0668465</td><td style=\"text-align: right;\">-0.0170597 </td><td style=\"text-align: right;\">-0.0672257 </td><td style=\"text-align: right;\">-0.0792967 </td><td style=\"text-align: right;\">-0.0612082</td><td style=\"text-align: right;\"> 0.0554136</td><td style=\"text-align: right;\">-0.0335354</td><td style=\"text-align: right;\">-0.0457976</td><td style=\"text-align: right;\"> 0.0286236 </td><td style=\"text-align: right;\">0.146929 </td><td style=\"text-align: right;\">0.154108 </td><td style=\"text-align: right;\">-0.00513977 </td><td style=\"text-align: right;\"> 0.0318418 </td><td style=\"text-align: right;\"> 0.117282 </td><td style=\"text-align: right;\">0.0379388 </td><td style=\"text-align: right;\">-0.0576265 </td><td style=\"text-align: right;\">-0.0592276</td><td style=\"text-align: right;\">0.146902 </td><td style=\"text-align: right;\">-0.0391548</td><td style=\"text-align: right;\">-0.0224675  </td><td style=\"text-align: right;\">-0.0819483</td><td style=\"text-align: right;\">-0.0116684 </td><td style=\"text-align: right;\">-0.0159808 </td><td style=\"text-align: right;\">-0.262466 </td><td style=\"text-align: right;\">0.0805506</td><td style=\"text-align: right;\"> 0.169844  </td><td style=\"text-align: right;\">-0.0128576 </td><td style=\"text-align: right;\">-0.0553286</td><td style=\"text-align: right;\">-0.0544016</td><td style=\"text-align: right;\"> 0.0209899 </td><td style=\"text-align: right;\">-0.0369212</td><td style=\"text-align: right;\">0.150998 </td><td style=\"text-align: right;\"> 0.127203 </td><td style=\"text-align: right;\">0.094023 </td><td style=\"text-align: right;\">-0.0698755 </td><td style=\"text-align: right;\">-0.00652731</td><td style=\"text-align: right;\">-0.0962697  </td><td style=\"text-align: right;\"> 0.0390416</td><td style=\"text-align: right;\"> 0.00887679 </td><td style=\"text-align: right;\">-0.0292024</td><td style=\"text-align: right;\">-0.128739 </td><td style=\"text-align: right;\">-0.233842 </td><td style=\"text-align: right;\">-0.231828 </td><td style=\"text-align: right;\">0.108488 </td><td style=\"text-align: right;\">-0.00256474</td><td style=\"text-align: right;\">-0.0348097 </td><td style=\"text-align: right;\">-0.0861131 </td><td style=\"text-align: right;\">-0.0367197 </td><td style=\"text-align: right;\"> 0.0692289 </td><td style=\"text-align: right;\"> 0.132394 </td><td style=\"text-align: right;\">-0.16309  </td><td style=\"text-align: right;\">-0.142704 </td><td style=\"text-align: right;\">-0.136191  </td><td style=\"text-align: right;\">-0.0979494  </td><td style=\"text-align: right;\"> 0.0251373</td><td style=\"text-align: right;\">0.22689 </td></tr>\n",
       "<tr><td style=\"text-align: right;\">-0.100144 </td><td style=\"text-align: right;\"> 0.0663551 </td><td style=\"text-align: right;\">-0.0452974 </td><td style=\"text-align: right;\"> 0.0186639</td><td style=\"text-align: right;\">-0.0169819</td><td style=\"text-align: right;\">-0.0745287</td><td style=\"text-align: right;\"> 0.0355918 </td><td style=\"text-align: right;\">-0.156741   </td><td style=\"text-align: right;\">-0.0411289</td><td style=\"text-align: right;\"> 0.113173  </td><td style=\"text-align: right;\">-0.0405169 </td><td style=\"text-align: right;\"> 0.0043595  </td><td style=\"text-align: right;\">-0.127886  </td><td style=\"text-align: right;\">-0.0631443</td><td style=\"text-align: right;\"> 0.141142  </td><td style=\"text-align: right;\"> 0.123222  </td><td style=\"text-align: right;\">0.150606 </td><td style=\"text-align: right;\"> 0.0605427</td><td style=\"text-align: right;\"> 0.0243658 </td><td style=\"text-align: right;\"> 0.103426 </td><td style=\"text-align: right;\">0.0488171</td><td style=\"text-align: right;\">-0.120911 </td><td style=\"text-align: right;\"> 0.214544 </td><td style=\"text-align: right;\">-0.111235  </td><td style=\"text-align: right;\"> 0.0384168</td><td style=\"text-align: right;\"> 0.0150873  </td><td style=\"text-align: right;\">-0.0379529</td><td style=\"text-align: right;\">-0.0303253</td><td style=\"text-align: right;\">-0.0458038</td><td style=\"text-align: right;\"> 0.00122806</td><td style=\"text-align: right;\"> 0.0600816</td><td style=\"text-align: right;\">0.247149 </td><td style=\"text-align: right;\">0.269572</td><td style=\"text-align: right;\">-0.0386012</td><td style=\"text-align: right;\">-0.123625  </td><td style=\"text-align: right;\"> 0.0335821  </td><td style=\"text-align: right;\"> 0.0782874</td><td style=\"text-align: right;\">-0.0783137</td><td style=\"text-align: right;\">-0.101207 </td><td style=\"text-align: right;\">-0.0997524</td><td style=\"text-align: right;\">-0.000311914</td><td style=\"text-align: right;\">-0.0264639</td><td style=\"text-align: right;\"> 0.182793 </td><td style=\"text-align: right;\"> 0.0190799</td><td style=\"text-align: right;\">-0.0121023</td><td style=\"text-align: right;\">-0.0552108 </td><td style=\"text-align: right;\"> 0.0117772 </td><td style=\"text-align: right;\"> 0.00546702</td><td style=\"text-align: right;\">-0.0605648</td><td style=\"text-align: right;\"> 0.0259311</td><td style=\"text-align: right;\"> 0.0237076</td><td style=\"text-align: right;\">-0.0175444</td><td style=\"text-align: right;\"> 0.0342702 </td><td style=\"text-align: right;\">0.116054 </td><td style=\"text-align: right;\">0.0958853</td><td style=\"text-align: right;\"> 0.017812   </td><td style=\"text-align: right;\">-0.0364093 </td><td style=\"text-align: right;\"> 0.136764 </td><td style=\"text-align: right;\">0.143941  </td><td style=\"text-align: right;\"> 0.0833841 </td><td style=\"text-align: right;\">-0.145587 </td><td style=\"text-align: right;\">0.0970235</td><td style=\"text-align: right;\">-0.164506 </td><td style=\"text-align: right;\">-0.0705428  </td><td style=\"text-align: right;\">-0.12717  </td><td style=\"text-align: right;\">-0.0109549 </td><td style=\"text-align: right;\"> 0.0185208 </td><td style=\"text-align: right;\">-0.123665 </td><td style=\"text-align: right;\">0.136607 </td><td style=\"text-align: right;\"> 0.119367  </td><td style=\"text-align: right;\"> 0.129614  </td><td style=\"text-align: right;\">-0.0317926</td><td style=\"text-align: right;\"> 0.0783722</td><td style=\"text-align: right;\">-0.0141019 </td><td style=\"text-align: right;\">-0.064976 </td><td style=\"text-align: right;\">0.108727 </td><td style=\"text-align: right;\"> 0.0446742</td><td style=\"text-align: right;\">0.133068 </td><td style=\"text-align: right;\"> 0.0152623 </td><td style=\"text-align: right;\">-0.0647353 </td><td style=\"text-align: right;\"> 0.0341224  </td><td style=\"text-align: right;\"> 0.0157415</td><td style=\"text-align: right;\">-0.120866   </td><td style=\"text-align: right;\">-0.0792736</td><td style=\"text-align: right;\">-0.160338 </td><td style=\"text-align: right;\">-0.30237  </td><td style=\"text-align: right;\">-0.163132 </td><td style=\"text-align: right;\">0.0564406</td><td style=\"text-align: right;\">-0.0351423 </td><td style=\"text-align: right;\"> 0.00285752</td><td style=\"text-align: right;\">-0.0658481 </td><td style=\"text-align: right;\"> 0.064146  </td><td style=\"text-align: right;\"> 0.0279495 </td><td style=\"text-align: right;\"> 0.121493 </td><td style=\"text-align: right;\">-0.176179 </td><td style=\"text-align: right;\">-0.152492 </td><td style=\"text-align: right;\">-0.107682  </td><td style=\"text-align: right;\">-0.107906   </td><td style=\"text-align: right;\">-0.0206825</td><td style=\"text-align: right;\">0.214391</td></tr>\n",
       "<tr><td style=\"text-align: right;\">-0.111637 </td><td style=\"text-align: right;\"> 0.307096  </td><td style=\"text-align: right;\"> 0.0164792 </td><td style=\"text-align: right;\">-0.143137 </td><td style=\"text-align: right;\">-0.0738788</td><td style=\"text-align: right;\"> 0.253548 </td><td style=\"text-align: right;\">-0.467581  </td><td style=\"text-align: right;\">-0.0686592  </td><td style=\"text-align: right;\">-0.172326 </td><td style=\"text-align: right;\"> 0.160485  </td><td style=\"text-align: right;\"> 0.228895  </td><td style=\"text-align: right;\">-0.157033   </td><td style=\"text-align: right;\">-0.26593   </td><td style=\"text-align: right;\">-0.220257 </td><td style=\"text-align: right;\">-0.0317679 </td><td style=\"text-align: right;\"> 0.20237   </td><td style=\"text-align: right;\">0.128794 </td><td style=\"text-align: right;\"> 0.236486 </td><td style=\"text-align: right;\"> 0.00254141</td><td style=\"text-align: right;\">-0.101832 </td><td style=\"text-align: right;\">0.199478 </td><td style=\"text-align: right;\">-0.195105 </td><td style=\"text-align: right;\"> 0.155444 </td><td style=\"text-align: right;\">-0.00452402</td><td style=\"text-align: right;\"> 0.0748123</td><td style=\"text-align: right;\">-0.142491   </td><td style=\"text-align: right;\"> 0.151733 </td><td style=\"text-align: right;\">-0.0646223</td><td style=\"text-align: right;\">-0.0272476</td><td style=\"text-align: right;\">-0.0646535 </td><td style=\"text-align: right;\"> 0.113072 </td><td style=\"text-align: right;\">0.242615 </td><td style=\"text-align: right;\">0.198261</td><td style=\"text-align: right;\">-0.074561 </td><td style=\"text-align: right;\"> 0.24255   </td><td style=\"text-align: right;\">-0.122629   </td><td style=\"text-align: right;\"> 0.199075 </td><td style=\"text-align: right;\">-0.182149 </td><td style=\"text-align: right;\">-0.427713 </td><td style=\"text-align: right;\"> 0.006108 </td><td style=\"text-align: right;\">-0.00186166 </td><td style=\"text-align: right;\">-0.0338556</td><td style=\"text-align: right;\">-0.282179 </td><td style=\"text-align: right;\">-0.300844 </td><td style=\"text-align: right;\">-0.276239 </td><td style=\"text-align: right;\">-0.0776132 </td><td style=\"text-align: right;\"> 0.0246542 </td><td style=\"text-align: right;\">-0.0811906 </td><td style=\"text-align: right;\"> 0.176029 </td><td style=\"text-align: right;\"> 0.219115 </td><td style=\"text-align: right;\">-0.194145 </td><td style=\"text-align: right;\">-0.024586 </td><td style=\"text-align: right;\"> 0.168878  </td><td style=\"text-align: right;\">0.168826 </td><td style=\"text-align: right;\">0.120786 </td><td style=\"text-align: right;\">-0.0688586  </td><td style=\"text-align: right;\">-0.281167  </td><td style=\"text-align: right;\"> 0.0807003</td><td style=\"text-align: right;\">0.141443  </td><td style=\"text-align: right;\"> 0.222095  </td><td style=\"text-align: right;\">-0.227857 </td><td style=\"text-align: right;\">0.175246 </td><td style=\"text-align: right;\">-0.235051 </td><td style=\"text-align: right;\">-0.138252   </td><td style=\"text-align: right;\"> 0.0610719</td><td style=\"text-align: right;\">-0.0332734 </td><td style=\"text-align: right;\">-0.0370577 </td><td style=\"text-align: right;\">-0.189246 </td><td style=\"text-align: right;\">0.340895 </td><td style=\"text-align: right;\"> 0.141215  </td><td style=\"text-align: right;\">-0.00340664</td><td style=\"text-align: right;\">-0.275794 </td><td style=\"text-align: right;\">-0.199553 </td><td style=\"text-align: right;\"> 0.0940761 </td><td style=\"text-align: right;\">-0.0718823</td><td style=\"text-align: right;\">0.170718 </td><td style=\"text-align: right;\">-0.100807 </td><td style=\"text-align: right;\">0.156878 </td><td style=\"text-align: right;\"> 0.0813941 </td><td style=\"text-align: right;\">-0.0352806 </td><td style=\"text-align: right;\">-0.25375    </td><td style=\"text-align: right;\"> 0.258092 </td><td style=\"text-align: right;\"> 0.0282663  </td><td style=\"text-align: right;\">-0.154208 </td><td style=\"text-align: right;\">-0.105836 </td><td style=\"text-align: right;\">-0.315229 </td><td style=\"text-align: right;\">-0.366447 </td><td style=\"text-align: right;\">0.0100208</td><td style=\"text-align: right;\">-0.0114241 </td><td style=\"text-align: right;\">-0.0618179 </td><td style=\"text-align: right;\">-0.0975244 </td><td style=\"text-align: right;\">-0.0979559 </td><td style=\"text-align: right;\"> 0.217117  </td><td style=\"text-align: right;\">-0.160387 </td><td style=\"text-align: right;\">-0.294614 </td><td style=\"text-align: right;\">-0.292984 </td><td style=\"text-align: right;\"> 0.0801127 </td><td style=\"text-align: right;\">-0.144024   </td><td style=\"text-align: right;\">-0.11779  </td><td style=\"text-align: right;\">0.243073</td></tr>\n",
       "</tbody>\n",
       "</table>"
      ]
     },
     "metadata": {},
     "output_type": "display_data"
    },
    {
     "data": {
      "text/plain": []
     },
     "execution_count": 22,
     "metadata": {},
     "output_type": "execute_result"
    }
   ],
   "source": [
    "# Calculate a vector for each review\n",
    "review_vecs = w2v_model.transform(words, aggregate_method = \"AVERAGE\")\n",
    "review_vecs"
   ]
  },
  {
   "cell_type": "code",
   "execution_count": 23,
   "metadata": {},
   "outputs": [],
   "source": [
    "# Add aggregated word embeddings \n",
    "ext_reviews = reviews.cbind(review_vecs)"
   ]
  },
  {
   "cell_type": "code",
   "execution_count": 24,
   "metadata": {},
   "outputs": [
    {
     "data": {
      "text/html": [
       "<table>\n",
       "<thead>\n",
       "<tr><th>ProductId  </th><th>UserId        </th><th>Summary                     </th><th style=\"text-align: right;\">  Score</th><th style=\"text-align: right;\">  HelpfulnessDenominator</th><th style=\"text-align: right;\">    Id</th><th>ProfileName        </th><th style=\"text-align: right;\">  HelpfulnessNumerator</th><th style=\"text-align: right;\">       Time</th><th>Text                                                                                                                                                                                                                                                                                                                                                                            </th><th style=\"text-align: right;\">  PositiveReview</th><th>Train  </th><th style=\"text-align: right;\">       C1</th><th style=\"text-align: right;\">         C2</th><th style=\"text-align: right;\">         C3</th><th style=\"text-align: right;\">       C4</th><th style=\"text-align: right;\">        C5</th><th style=\"text-align: right;\">        C6</th><th style=\"text-align: right;\">         C7</th><th style=\"text-align: right;\">        C8</th><th style=\"text-align: right;\">       C9</th><th style=\"text-align: right;\">        C10</th><th style=\"text-align: right;\">        C11</th><th style=\"text-align: right;\">       C12</th><th style=\"text-align: right;\">       C13</th><th style=\"text-align: right;\">       C14</th><th style=\"text-align: right;\">       C15</th><th style=\"text-align: right;\">        C16</th><th style=\"text-align: right;\">      C17</th><th style=\"text-align: right;\">       C18</th><th style=\"text-align: right;\">       C19</th><th style=\"text-align: right;\">      C20</th><th style=\"text-align: right;\">      C21</th><th style=\"text-align: right;\">       C22</th><th style=\"text-align: right;\">       C23</th><th style=\"text-align: right;\">      C24</th><th style=\"text-align: right;\">     C25</th><th style=\"text-align: right;\">       C26</th><th style=\"text-align: right;\">       C27</th><th style=\"text-align: right;\">      C28</th><th style=\"text-align: right;\">      C29</th><th style=\"text-align: right;\">       C30</th><th style=\"text-align: right;\">      C31</th><th style=\"text-align: right;\">      C32</th><th style=\"text-align: right;\">     C33</th><th style=\"text-align: right;\">       C34</th><th style=\"text-align: right;\">       C35</th><th style=\"text-align: right;\">       C36</th><th style=\"text-align: right;\">       C37</th><th style=\"text-align: right;\">      C38</th><th style=\"text-align: right;\">       C39</th><th style=\"text-align: right;\">       C40</th><th style=\"text-align: right;\">         C41</th><th style=\"text-align: right;\">       C42</th><th style=\"text-align: right;\">      C43</th><th style=\"text-align: right;\">       C44</th><th style=\"text-align: right;\">       C45</th><th style=\"text-align: right;\">       C46</th><th style=\"text-align: right;\">        C47</th><th style=\"text-align: right;\">       C48</th><th style=\"text-align: right;\">       C49</th><th style=\"text-align: right;\">       C50</th><th style=\"text-align: right;\">       C51</th><th style=\"text-align: right;\">       C52</th><th style=\"text-align: right;\">        C53</th><th style=\"text-align: right;\">     C54</th><th style=\"text-align: right;\">     C55</th><th style=\"text-align: right;\">       C56</th><th style=\"text-align: right;\">        C57</th><th style=\"text-align: right;\">      C58</th><th style=\"text-align: right;\">       C59</th><th style=\"text-align: right;\">        C60</th><th style=\"text-align: right;\">       C61</th><th style=\"text-align: right;\">     C62</th><th style=\"text-align: right;\">       C63</th><th style=\"text-align: right;\">       C64</th><th style=\"text-align: right;\">       C65</th><th style=\"text-align: right;\">        C66</th><th style=\"text-align: right;\">      C67</th><th style=\"text-align: right;\">       C68</th><th style=\"text-align: right;\">     C69</th><th style=\"text-align: right;\">      C70</th><th style=\"text-align: right;\">       C71</th><th style=\"text-align: right;\">       C72</th><th style=\"text-align: right;\">       C73</th><th style=\"text-align: right;\">        C74</th><th style=\"text-align: right;\">      C75</th><th style=\"text-align: right;\">      C76</th><th style=\"text-align: right;\">      C77</th><th style=\"text-align: right;\">      C78</th><th style=\"text-align: right;\">       C79</th><th style=\"text-align: right;\">       C80</th><th style=\"text-align: right;\">        C81</th><th style=\"text-align: right;\">       C82</th><th style=\"text-align: right;\">       C83</th><th style=\"text-align: right;\">       C84</th><th style=\"text-align: right;\">       C85</th><th style=\"text-align: right;\">      C86</th><th style=\"text-align: right;\">       C87</th><th style=\"text-align: right;\">      C88</th><th style=\"text-align: right;\">       C89</th><th style=\"text-align: right;\">       C90</th><th style=\"text-align: right;\">        C91</th><th style=\"text-align: right;\">       C92</th><th style=\"text-align: right;\">      C93</th><th style=\"text-align: right;\">       C94</th><th style=\"text-align: right;\">       C95</th><th style=\"text-align: right;\">       C96</th><th style=\"text-align: right;\">       C97</th><th style=\"text-align: right;\">       C98</th><th style=\"text-align: right;\">       C99</th><th style=\"text-align: right;\">    C100</th></tr>\n",
       "</thead>\n",
       "<tbody>\n",
       "<tr><td>B00141QYSQ </td><td>A1YS02UZZGRDCT</td><td>Do Not Buy                  </td><td style=\"text-align: right;\">      1</td><td style=\"text-align: right;\">                       2</td><td style=\"text-align: right;\"> 41471</td><td>Evan Eberhardt     </td><td style=\"text-align: right;\">                     2</td><td style=\"text-align: right;\">1.34836e+09</td><td>These are made in China (do not buy ANY pet food from China).  Dogswell has been using propylene glycol to soften their treats (what are they thinkng?).  Do not purchase or support this company in any way until they clean up their act.  And for whatever reason Amazon doesn't allow returns of this item, so I had to toss mine out.  Bad business all around on this one.</td><td style=\"text-align: right;\">               0</td><td>No     </td><td style=\"text-align: right;\">0.0388565</td><td style=\"text-align: right;\"> 0.103956  </td><td style=\"text-align: right;\">-0.0452092 </td><td style=\"text-align: right;\">0.015112 </td><td style=\"text-align: right;\"> 0.0626477</td><td style=\"text-align: right;\">-0.132458 </td><td style=\"text-align: right;\"> 0.142188  </td><td style=\"text-align: right;\"> 0.0345003</td><td style=\"text-align: right;\">0.0992585</td><td style=\"text-align: right;\">-0.10346   </td><td style=\"text-align: right;\">-0.0647032 </td><td style=\"text-align: right;\"> 0.0531253</td><td style=\"text-align: right;\"> 0.0622813</td><td style=\"text-align: right;\">-0.0809419</td><td style=\"text-align: right;\"> 0.017975 </td><td style=\"text-align: right;\">-0.133163  </td><td style=\"text-align: right;\">0.0673173</td><td style=\"text-align: right;\">-0.0570654</td><td style=\"text-align: right;\">-0.0591273</td><td style=\"text-align: right;\">0.0446375</td><td style=\"text-align: right;\">0.150002 </td><td style=\"text-align: right;\">-0.0106873</td><td style=\"text-align: right;\"> 0.210005 </td><td style=\"text-align: right;\">0.094513 </td><td style=\"text-align: right;\">0.1521  </td><td style=\"text-align: right;\"> 0.085519 </td><td style=\"text-align: right;\"> 0.0531019</td><td style=\"text-align: right;\">-0.108357</td><td style=\"text-align: right;\">0.0962788</td><td style=\"text-align: right;\">-0.0185718</td><td style=\"text-align: right;\">0.135682 </td><td style=\"text-align: right;\">0.0911816</td><td style=\"text-align: right;\">0.197208</td><td style=\"text-align: right;\">-0.0020469</td><td style=\"text-align: right;\">-0.0164188</td><td style=\"text-align: right;\">-0.0627295</td><td style=\"text-align: right;\"> 0.0110342</td><td style=\"text-align: right;\">-0.149588</td><td style=\"text-align: right;\">-0.0352366</td><td style=\"text-align: right;\">-0.246436 </td><td style=\"text-align: right;\">-0.000558584</td><td style=\"text-align: right;\">-0.157659 </td><td style=\"text-align: right;\">0.0673622</td><td style=\"text-align: right;\">-0.100106 </td><td style=\"text-align: right;\">-0.0289694</td><td style=\"text-align: right;\"> 0.0463356</td><td style=\"text-align: right;\">-0.137428  </td><td style=\"text-align: right;\">-0.124412 </td><td style=\"text-align: right;\"> 0.0103623</td><td style=\"text-align: right;\">-0.138484 </td><td style=\"text-align: right;\"> 0.185902 </td><td style=\"text-align: right;\">-0.0127725</td><td style=\"text-align: right;\"> 0.17484   </td><td style=\"text-align: right;\">0.196311</td><td style=\"text-align: right;\">0.150801</td><td style=\"text-align: right;\">-0.0305401</td><td style=\"text-align: right;\">-0.0164198 </td><td style=\"text-align: right;\"> 0.184097</td><td style=\"text-align: right;\">0.184609  </td><td style=\"text-align: right;\">-0.0102573 </td><td style=\"text-align: right;\">-0.182353 </td><td style=\"text-align: right;\">0.11609 </td><td style=\"text-align: right;\">-0.218469 </td><td style=\"text-align: right;\">-0.0987829</td><td style=\"text-align: right;\">-0.0240301</td><td style=\"text-align: right;\">-0.0192306 </td><td style=\"text-align: right;\">0.0365942</td><td style=\"text-align: right;\">-0.0848806</td><td style=\"text-align: right;\">0.144848</td><td style=\"text-align: right;\">0.0999116</td><td style=\"text-align: right;\"> 0.0649872</td><td style=\"text-align: right;\">-0.135199 </td><td style=\"text-align: right;\"> 0.220069 </td><td style=\"text-align: right;\">-0.0531407 </td><td style=\"text-align: right;\">-0.207089</td><td style=\"text-align: right;\">0.0281669</td><td style=\"text-align: right;\">0.0458973</td><td style=\"text-align: right;\">0.220879 </td><td style=\"text-align: right;\">-0.0571164</td><td style=\"text-align: right;\">-0.0849415</td><td style=\"text-align: right;\">-0.00459534</td><td style=\"text-align: right;\">-0.0390933</td><td style=\"text-align: right;\"> 0.100628 </td><td style=\"text-align: right;\">-0.0656014</td><td style=\"text-align: right;\">-0.0326958</td><td style=\"text-align: right;\">-0.116311</td><td style=\"text-align: right;\"> 0.0194121</td><td style=\"text-align: right;\">0.0606043</td><td style=\"text-align: right;\">-0.0443243</td><td style=\"text-align: right;\"> 0.0355842</td><td style=\"text-align: right;\"> 0.00272881</td><td style=\"text-align: right;\"> 0.125273 </td><td style=\"text-align: right;\">0.0291125</td><td style=\"text-align: right;\"> 0.181032 </td><td style=\"text-align: right;\">-0.0899774</td><td style=\"text-align: right;\">-0.114928 </td><td style=\"text-align: right;\">-0.0130716</td><td style=\"text-align: right;\">-0.0840797</td><td style=\"text-align: right;\">-0.115888 </td><td style=\"text-align: right;\">0.17435 </td></tr>\n",
       "<tr><td>B0089SPEO2 </td><td>A3JOYNYL458QHP</td><td>Less lemon and less zing    </td><td style=\"text-align: right;\">      3</td><td style=\"text-align: right;\">                       0</td><td style=\"text-align: right;\"> 28582</td><td>coleridge          </td><td style=\"text-align: right;\">                     0</td><td style=\"text-align: right;\">1.32391e+09</td><td>Everything is ok, except it just isn't as good as it is in the bags.  Just considerably more bland -- less lemon and less zing.  Boring.                                                                                                                                                                                                                                        </td><td style=\"text-align: right;\">               0</td><td>Yes    </td><td style=\"text-align: right;\">0.0513362</td><td style=\"text-align: right;\">-0.00440117</td><td style=\"text-align: right;\">-0.0249161 </td><td style=\"text-align: right;\">0.0498558</td><td style=\"text-align: right;\">-0.11512  </td><td style=\"text-align: right;\"> 0.0412305</td><td style=\"text-align: right;\">-0.0759341 </td><td style=\"text-align: right;\">-0.165468 </td><td style=\"text-align: right;\">0.0578123</td><td style=\"text-align: right;\">-0.146333  </td><td style=\"text-align: right;\"> 0.00166413</td><td style=\"text-align: right;\"> 0.0204378</td><td style=\"text-align: right;\"> 0.112563 </td><td style=\"text-align: right;\"> 0.0280274</td><td style=\"text-align: right;\">-0.0544884</td><td style=\"text-align: right;\"> 0.132045  </td><td style=\"text-align: right;\">0.178337 </td><td style=\"text-align: right;\">-0.0714973</td><td style=\"text-align: right;\">-0.0268916</td><td style=\"text-align: right;\">0.0363064</td><td style=\"text-align: right;\">0.0721682</td><td style=\"text-align: right;\"> 0.0372152</td><td style=\"text-align: right;\">-0.0652596</td><td style=\"text-align: right;\">0.0340418</td><td style=\"text-align: right;\">0.102422</td><td style=\"text-align: right;\">-0.13188  </td><td style=\"text-align: right;\"> 0.065763 </td><td style=\"text-align: right;\"> 0.062613</td><td style=\"text-align: right;\">0.0953723</td><td style=\"text-align: right;\">-0.0270064</td><td style=\"text-align: right;\">0.0679753</td><td style=\"text-align: right;\">0.177192 </td><td style=\"text-align: right;\">0.171178</td><td style=\"text-align: right;\"> 0.120383 </td><td style=\"text-align: right;\"> 0.0365757</td><td style=\"text-align: right;\">-0.0677486</td><td style=\"text-align: right;\">-0.0581971</td><td style=\"text-align: right;\">-0.181193</td><td style=\"text-align: right;\">-0.0726263</td><td style=\"text-align: right;\">-0.129351 </td><td style=\"text-align: right;\">-0.0392536  </td><td style=\"text-align: right;\">-0.0728073</td><td style=\"text-align: right;\">0.178091 </td><td style=\"text-align: right;\">-0.11433  </td><td style=\"text-align: right;\">-0.0759201</td><td style=\"text-align: right;\"> 0.109891 </td><td style=\"text-align: right;\">-0.0104963 </td><td style=\"text-align: right;\">-0.0401055</td><td style=\"text-align: right;\">-0.0445574</td><td style=\"text-align: right;\"> 0.0522939</td><td style=\"text-align: right;\">-0.0445474</td><td style=\"text-align: right;\">-0.113592 </td><td style=\"text-align: right;\"> 0.0829627 </td><td style=\"text-align: right;\">0.231689</td><td style=\"text-align: right;\">0.228338</td><td style=\"text-align: right;\"> 0.0720771</td><td style=\"text-align: right;\">-0.00399934</td><td style=\"text-align: right;\">-0.021206</td><td style=\"text-align: right;\">0.00913009</td><td style=\"text-align: right;\"> 0.00306112</td><td style=\"text-align: right;\">-0.0174448</td><td style=\"text-align: right;\">0.219396</td><td style=\"text-align: right;\">-0.0796018</td><td style=\"text-align: right;\"> 0.0812246</td><td style=\"text-align: right;\">-0.103812 </td><td style=\"text-align: right;\">-0.0382276 </td><td style=\"text-align: right;\">0.0302572</td><td style=\"text-align: right;\">-0.146381 </td><td style=\"text-align: right;\">0.210316</td><td style=\"text-align: right;\">0.0502982</td><td style=\"text-align: right;\">-0.0459529</td><td style=\"text-align: right;\">-0.0169911</td><td style=\"text-align: right;\">-0.0261788</td><td style=\"text-align: right;\"> 0.0347468 </td><td style=\"text-align: right;\">-0.103118</td><td style=\"text-align: right;\">0.176389 </td><td style=\"text-align: right;\">0.0731979</td><td style=\"text-align: right;\">0.0629904</td><td style=\"text-align: right;\">-0.076909 </td><td style=\"text-align: right;\"> 0.01107  </td><td style=\"text-align: right;\">-0.0557984 </td><td style=\"text-align: right;\"> 0.0395927</td><td style=\"text-align: right;\">-0.0815236</td><td style=\"text-align: right;\">-0.0324087</td><td style=\"text-align: right;\">-0.214381 </td><td style=\"text-align: right;\">-0.234959</td><td style=\"text-align: right;\">-0.270491 </td><td style=\"text-align: right;\">0.0506634</td><td style=\"text-align: right;\"> 0.0189085</td><td style=\"text-align: right;\"> 0.0201155</td><td style=\"text-align: right;\">-0.0366047 </td><td style=\"text-align: right;\"> 0.013764 </td><td style=\"text-align: right;\">0.0892676</td><td style=\"text-align: right;\">-0.0492352</td><td style=\"text-align: right;\">-0.0601437</td><td style=\"text-align: right;\">-0.180513 </td><td style=\"text-align: right;\">-0.112542 </td><td style=\"text-align: right;\">-0.123384 </td><td style=\"text-align: right;\">-0.0619487</td><td style=\"text-align: right;\">0.357928</td></tr>\n",
       "<tr><td>B001PMCDK2 </td><td>A14TTMM0Z03Y2W</td><td>my cat goes crazy for these!</td><td style=\"text-align: right;\">      5</td><td style=\"text-align: right;\">                       0</td><td style=\"text-align: right;\">389965</td><td>Lindsay S. Bradford</td><td style=\"text-align: right;\">                     0</td><td style=\"text-align: right;\">1.3106e+09 </td><td>Best cat treat ever. There isn't anything comparable to the love my cat has for these treats, he snubs away any other kind now.<br />I know he likes to manipulate me with his cattiness but these treats are my way of manipulating him to come sit on my lap and have some chill time. :)                                                                                     </td><td style=\"text-align: right;\">               1</td><td>Yes    </td><td style=\"text-align: right;\">0.0543675</td><td style=\"text-align: right;\"> 0.0333721 </td><td style=\"text-align: right;\">-0.00629156</td><td style=\"text-align: right;\">0.0587077</td><td style=\"text-align: right;\"> 0.0172913</td><td style=\"text-align: right;\">-0.0862336</td><td style=\"text-align: right;\"> 0.00276453</td><td style=\"text-align: right;\"> 0.0600827</td><td style=\"text-align: right;\">0.101659 </td><td style=\"text-align: right;\"> 0.00843011</td><td style=\"text-align: right;\">-0.0727454 </td><td style=\"text-align: right;\">-0.0161055</td><td style=\"text-align: right;\">-0.046195 </td><td style=\"text-align: right;\">-0.0536828</td><td style=\"text-align: right;\"> 0.0402279</td><td style=\"text-align: right;\"> 0.00228395</td><td style=\"text-align: right;\">0.149481 </td><td style=\"text-align: right;\">-0.0851313</td><td style=\"text-align: right;\">-0.0794495</td><td style=\"text-align: right;\">0.0723161</td><td style=\"text-align: right;\">0.140143 </td><td style=\"text-align: right;\">-0.0839352</td><td style=\"text-align: right;\"> 0.141048 </td><td style=\"text-align: right;\">0.0488228</td><td style=\"text-align: right;\">0.160422</td><td style=\"text-align: right;\"> 0.0137541</td><td style=\"text-align: right;\">-0.0477366</td><td style=\"text-align: right;\">-0.159887</td><td style=\"text-align: right;\">0.0882102</td><td style=\"text-align: right;\"> 0.0745272</td><td style=\"text-align: right;\">0.0141047</td><td style=\"text-align: right;\">0.139311 </td><td style=\"text-align: right;\">0.186148</td><td style=\"text-align: right;\"> 0.0373168</td><td style=\"text-align: right;\">-0.108915 </td><td style=\"text-align: right;\">-0.0789666</td><td style=\"text-align: right;\">-0.0295961</td><td style=\"text-align: right;\">-0.113165</td><td style=\"text-align: right;\">-0.0935327</td><td style=\"text-align: right;\">-0.0545077</td><td style=\"text-align: right;\">-0.0122322  </td><td style=\"text-align: right;\">-0.0539839</td><td style=\"text-align: right;\">0.140073 </td><td style=\"text-align: right;\"> 0.0725239</td><td style=\"text-align: right;\">-0.113544 </td><td style=\"text-align: right;\">-0.158504 </td><td style=\"text-align: right;\"> 0.00181585</td><td style=\"text-align: right;\">-0.0491493</td><td style=\"text-align: right;\">-0.152362 </td><td style=\"text-align: right;\">-0.0440854</td><td style=\"text-align: right;\"> 0.130712 </td><td style=\"text-align: right;\"> 0.0402764</td><td style=\"text-align: right;\">-0.00515583</td><td style=\"text-align: right;\">0.165969</td><td style=\"text-align: right;\">0.116693</td><td style=\"text-align: right;\"> 0.0234721</td><td style=\"text-align: right;\">-0.060061  </td><td style=\"text-align: right;\"> 0.147071</td><td style=\"text-align: right;\">0.0526331 </td><td style=\"text-align: right;\">-0.0267272 </td><td style=\"text-align: right;\">-0.0765783</td><td style=\"text-align: right;\">0.168646</td><td style=\"text-align: right;\">-0.163541 </td><td style=\"text-align: right;\">-0.0142938</td><td style=\"text-align: right;\">-0.162537 </td><td style=\"text-align: right;\"> 0.00811596</td><td style=\"text-align: right;\">0.0119684</td><td style=\"text-align: right;\">-0.260906 </td><td style=\"text-align: right;\">0.134994</td><td style=\"text-align: right;\">0.190432 </td><td style=\"text-align: right;\"> 0.0740884</td><td style=\"text-align: right;\">-0.184374 </td><td style=\"text-align: right;\"> 0.126292 </td><td style=\"text-align: right;\">-0.00136074</td><td style=\"text-align: right;\">-0.080048</td><td style=\"text-align: right;\">0.0398701</td><td style=\"text-align: right;\">0.0367589</td><td style=\"text-align: right;\">0.0802206</td><td style=\"text-align: right;\">-0.0361636</td><td style=\"text-align: right;\">-0.0572409</td><td style=\"text-align: right;\"> 0.122135  </td><td style=\"text-align: right;\">-0.0638821</td><td style=\"text-align: right;\">-0.0335268</td><td style=\"text-align: right;\">-0.0982646</td><td style=\"text-align: right;\">-0.145779 </td><td style=\"text-align: right;\">-0.255626</td><td style=\"text-align: right;\">-0.0731203</td><td style=\"text-align: right;\">0.191258 </td><td style=\"text-align: right;\"> 0.0349603</td><td style=\"text-align: right;\">-0.0937031</td><td style=\"text-align: right;\"> 0.0320818 </td><td style=\"text-align: right;\">-0.0350101</td><td style=\"text-align: right;\">0.0522079</td><td style=\"text-align: right;\"> 0.176943 </td><td style=\"text-align: right;\">-0.0918238</td><td style=\"text-align: right;\">-0.0486026</td><td style=\"text-align: right;\">-0.0688671</td><td style=\"text-align: right;\">-0.149982 </td><td style=\"text-align: right;\">-0.0860884</td><td style=\"text-align: right;\">0.212012</td></tr>\n",
       "</tbody>\n",
       "</table>"
      ]
     },
     "metadata": {},
     "output_type": "display_data"
    },
    {
     "data": {
      "text/plain": []
     },
     "execution_count": 24,
     "metadata": {},
     "output_type": "execute_result"
    }
   ],
   "source": [
    "ext_reviews.head(3)"
   ]
  },
  {
   "cell_type": "markdown",
   "metadata": {},
   "source": [
    "## 1.5 Add Summary Column"
   ]
  },
  {
   "cell_type": "code",
   "execution_count": 25,
   "metadata": {},
   "outputs": [],
   "source": [
    "# Break summaries into sequence of word.\n",
    "summary_words = tokenize(reviews['Summary'].ascharacter())"
   ]
  },
  {
   "cell_type": "code",
   "execution_count": 26,
   "metadata": {},
   "outputs": [],
   "source": [
    "summary_vecs = w2v_model.transform(summary_words, aggregate_method='AVERAGE')\n",
    "summary_vecs.names = ['summary_'+ s for s in summary_vecs.names]\n",
    "\n",
    "ext_reviews_new = ext_reviews.cbind(summary_vecs)"
   ]
  },
  {
   "cell_type": "code",
   "execution_count": 27,
   "metadata": {},
   "outputs": [
    {
     "data": {
      "text/html": [
       "<table>\n",
       "<thead>\n",
       "<tr><th>ProductId  </th><th>UserId        </th><th>Summary                     </th><th style=\"text-align: right;\">  Score</th><th style=\"text-align: right;\">  HelpfulnessDenominator</th><th style=\"text-align: right;\">    Id</th><th>ProfileName        </th><th style=\"text-align: right;\">  HelpfulnessNumerator</th><th style=\"text-align: right;\">       Time</th><th>Text                                                                                                                                                                                                                                                                                                                                                                            </th><th style=\"text-align: right;\">  PositiveReview</th><th>Train  </th><th style=\"text-align: right;\">       C1</th><th style=\"text-align: right;\">         C2</th><th style=\"text-align: right;\">         C3</th><th style=\"text-align: right;\">       C4</th><th style=\"text-align: right;\">        C5</th><th style=\"text-align: right;\">        C6</th><th style=\"text-align: right;\">         C7</th><th style=\"text-align: right;\">        C8</th><th style=\"text-align: right;\">       C9</th><th style=\"text-align: right;\">        C10</th><th style=\"text-align: right;\">        C11</th><th style=\"text-align: right;\">       C12</th><th style=\"text-align: right;\">       C13</th><th style=\"text-align: right;\">       C14</th><th style=\"text-align: right;\">       C15</th><th style=\"text-align: right;\">        C16</th><th style=\"text-align: right;\">      C17</th><th style=\"text-align: right;\">       C18</th><th style=\"text-align: right;\">       C19</th><th style=\"text-align: right;\">      C20</th><th style=\"text-align: right;\">      C21</th><th style=\"text-align: right;\">       C22</th><th style=\"text-align: right;\">       C23</th><th style=\"text-align: right;\">      C24</th><th style=\"text-align: right;\">     C25</th><th style=\"text-align: right;\">       C26</th><th style=\"text-align: right;\">       C27</th><th style=\"text-align: right;\">      C28</th><th style=\"text-align: right;\">      C29</th><th style=\"text-align: right;\">       C30</th><th style=\"text-align: right;\">      C31</th><th style=\"text-align: right;\">      C32</th><th style=\"text-align: right;\">     C33</th><th style=\"text-align: right;\">       C34</th><th style=\"text-align: right;\">       C35</th><th style=\"text-align: right;\">       C36</th><th style=\"text-align: right;\">       C37</th><th style=\"text-align: right;\">      C38</th><th style=\"text-align: right;\">       C39</th><th style=\"text-align: right;\">       C40</th><th style=\"text-align: right;\">         C41</th><th style=\"text-align: right;\">       C42</th><th style=\"text-align: right;\">      C43</th><th style=\"text-align: right;\">       C44</th><th style=\"text-align: right;\">       C45</th><th style=\"text-align: right;\">       C46</th><th style=\"text-align: right;\">        C47</th><th style=\"text-align: right;\">       C48</th><th style=\"text-align: right;\">       C49</th><th style=\"text-align: right;\">       C50</th><th style=\"text-align: right;\">       C51</th><th style=\"text-align: right;\">       C52</th><th style=\"text-align: right;\">        C53</th><th style=\"text-align: right;\">     C54</th><th style=\"text-align: right;\">     C55</th><th style=\"text-align: right;\">       C56</th><th style=\"text-align: right;\">        C57</th><th style=\"text-align: right;\">      C58</th><th style=\"text-align: right;\">       C59</th><th style=\"text-align: right;\">        C60</th><th style=\"text-align: right;\">       C61</th><th style=\"text-align: right;\">     C62</th><th style=\"text-align: right;\">       C63</th><th style=\"text-align: right;\">       C64</th><th style=\"text-align: right;\">       C65</th><th style=\"text-align: right;\">        C66</th><th style=\"text-align: right;\">      C67</th><th style=\"text-align: right;\">       C68</th><th style=\"text-align: right;\">     C69</th><th style=\"text-align: right;\">      C70</th><th style=\"text-align: right;\">       C71</th><th style=\"text-align: right;\">       C72</th><th style=\"text-align: right;\">       C73</th><th style=\"text-align: right;\">        C74</th><th style=\"text-align: right;\">      C75</th><th style=\"text-align: right;\">      C76</th><th style=\"text-align: right;\">      C77</th><th style=\"text-align: right;\">      C78</th><th style=\"text-align: right;\">       C79</th><th style=\"text-align: right;\">       C80</th><th style=\"text-align: right;\">        C81</th><th style=\"text-align: right;\">       C82</th><th style=\"text-align: right;\">       C83</th><th style=\"text-align: right;\">       C84</th><th style=\"text-align: right;\">       C85</th><th style=\"text-align: right;\">      C86</th><th style=\"text-align: right;\">       C87</th><th style=\"text-align: right;\">      C88</th><th style=\"text-align: right;\">       C89</th><th style=\"text-align: right;\">       C90</th><th style=\"text-align: right;\">        C91</th><th style=\"text-align: right;\">       C92</th><th style=\"text-align: right;\">      C93</th><th style=\"text-align: right;\">       C94</th><th style=\"text-align: right;\">       C95</th><th style=\"text-align: right;\">       C96</th><th style=\"text-align: right;\">       C97</th><th style=\"text-align: right;\">       C98</th><th style=\"text-align: right;\">       C99</th><th style=\"text-align: right;\">    C100</th><th style=\"text-align: right;\">  summary_C1</th><th style=\"text-align: right;\">  summary_C2</th><th style=\"text-align: right;\">  summary_C3</th><th style=\"text-align: right;\">  summary_C4</th><th style=\"text-align: right;\">  summary_C5</th><th style=\"text-align: right;\">  summary_C6</th><th style=\"text-align: right;\">  summary_C7</th><th style=\"text-align: right;\">  summary_C8</th><th style=\"text-align: right;\">  summary_C9</th><th style=\"text-align: right;\">  summary_C10</th><th style=\"text-align: right;\">  summary_C11</th><th style=\"text-align: right;\">  summary_C12</th><th style=\"text-align: right;\">  summary_C13</th><th style=\"text-align: right;\">  summary_C14</th><th style=\"text-align: right;\">  summary_C15</th><th style=\"text-align: right;\">  summary_C16</th><th style=\"text-align: right;\">  summary_C17</th><th style=\"text-align: right;\">  summary_C18</th><th style=\"text-align: right;\">  summary_C19</th><th style=\"text-align: right;\">  summary_C20</th><th style=\"text-align: right;\">  summary_C21</th><th style=\"text-align: right;\">  summary_C22</th><th style=\"text-align: right;\">  summary_C23</th><th style=\"text-align: right;\">  summary_C24</th><th style=\"text-align: right;\">  summary_C25</th><th style=\"text-align: right;\">  summary_C26</th><th style=\"text-align: right;\">  summary_C27</th><th style=\"text-align: right;\">  summary_C28</th><th style=\"text-align: right;\">  summary_C29</th><th style=\"text-align: right;\">  summary_C30</th><th style=\"text-align: right;\">  summary_C31</th><th style=\"text-align: right;\">  summary_C32</th><th style=\"text-align: right;\">  summary_C33</th><th style=\"text-align: right;\">  summary_C34</th><th style=\"text-align: right;\">  summary_C35</th><th style=\"text-align: right;\">  summary_C36</th><th style=\"text-align: right;\">  summary_C37</th><th style=\"text-align: right;\">  summary_C38</th><th style=\"text-align: right;\">  summary_C39</th><th style=\"text-align: right;\">  summary_C40</th><th style=\"text-align: right;\">  summary_C41</th><th style=\"text-align: right;\">  summary_C42</th><th style=\"text-align: right;\">  summary_C43</th><th style=\"text-align: right;\">  summary_C44</th><th style=\"text-align: right;\">  summary_C45</th><th style=\"text-align: right;\">  summary_C46</th><th style=\"text-align: right;\">  summary_C47</th><th style=\"text-align: right;\">  summary_C48</th><th style=\"text-align: right;\">  summary_C49</th><th style=\"text-align: right;\">  summary_C50</th><th style=\"text-align: right;\">  summary_C51</th><th style=\"text-align: right;\">  summary_C52</th><th style=\"text-align: right;\">  summary_C53</th><th style=\"text-align: right;\">  summary_C54</th><th style=\"text-align: right;\">  summary_C55</th><th style=\"text-align: right;\">  summary_C56</th><th style=\"text-align: right;\">  summary_C57</th><th style=\"text-align: right;\">  summary_C58</th><th style=\"text-align: right;\">  summary_C59</th><th style=\"text-align: right;\">  summary_C60</th><th style=\"text-align: right;\">  summary_C61</th><th style=\"text-align: right;\">  summary_C62</th><th style=\"text-align: right;\">  summary_C63</th><th style=\"text-align: right;\">  summary_C64</th><th style=\"text-align: right;\">  summary_C65</th><th style=\"text-align: right;\">  summary_C66</th><th style=\"text-align: right;\">  summary_C67</th><th style=\"text-align: right;\">  summary_C68</th><th style=\"text-align: right;\">  summary_C69</th><th style=\"text-align: right;\">  summary_C70</th><th style=\"text-align: right;\">  summary_C71</th><th style=\"text-align: right;\">  summary_C72</th><th style=\"text-align: right;\">  summary_C73</th><th style=\"text-align: right;\">  summary_C74</th><th style=\"text-align: right;\">  summary_C75</th><th style=\"text-align: right;\">  summary_C76</th><th style=\"text-align: right;\">  summary_C77</th><th style=\"text-align: right;\">  summary_C78</th><th style=\"text-align: right;\">  summary_C79</th><th style=\"text-align: right;\">  summary_C80</th><th style=\"text-align: right;\">  summary_C81</th><th style=\"text-align: right;\">  summary_C82</th><th style=\"text-align: right;\">  summary_C83</th><th style=\"text-align: right;\">  summary_C84</th><th style=\"text-align: right;\">  summary_C85</th><th style=\"text-align: right;\">  summary_C86</th><th style=\"text-align: right;\">  summary_C87</th><th style=\"text-align: right;\">  summary_C88</th></tr>\n",
       "</thead>\n",
       "<tbody>\n",
       "<tr><td>B00141QYSQ </td><td>A1YS02UZZGRDCT</td><td>Do Not Buy                  </td><td style=\"text-align: right;\">      1</td><td style=\"text-align: right;\">                       2</td><td style=\"text-align: right;\"> 41471</td><td>Evan Eberhardt     </td><td style=\"text-align: right;\">                     2</td><td style=\"text-align: right;\">1.34836e+09</td><td>These are made in China (do not buy ANY pet food from China).  Dogswell has been using propylene glycol to soften their treats (what are they thinkng?).  Do not purchase or support this company in any way until they clean up their act.  And for whatever reason Amazon doesn't allow returns of this item, so I had to toss mine out.  Bad business all around on this one.</td><td style=\"text-align: right;\">               0</td><td>No     </td><td style=\"text-align: right;\">0.0388565</td><td style=\"text-align: right;\"> 0.103956  </td><td style=\"text-align: right;\">-0.0452092 </td><td style=\"text-align: right;\">0.015112 </td><td style=\"text-align: right;\"> 0.0626477</td><td style=\"text-align: right;\">-0.132458 </td><td style=\"text-align: right;\"> 0.142188  </td><td style=\"text-align: right;\"> 0.0345003</td><td style=\"text-align: right;\">0.0992585</td><td style=\"text-align: right;\">-0.10346   </td><td style=\"text-align: right;\">-0.0647032 </td><td style=\"text-align: right;\"> 0.0531253</td><td style=\"text-align: right;\"> 0.0622813</td><td style=\"text-align: right;\">-0.0809419</td><td style=\"text-align: right;\"> 0.017975 </td><td style=\"text-align: right;\">-0.133163  </td><td style=\"text-align: right;\">0.0673173</td><td style=\"text-align: right;\">-0.0570654</td><td style=\"text-align: right;\">-0.0591273</td><td style=\"text-align: right;\">0.0446375</td><td style=\"text-align: right;\">0.150002 </td><td style=\"text-align: right;\">-0.0106873</td><td style=\"text-align: right;\"> 0.210005 </td><td style=\"text-align: right;\">0.094513 </td><td style=\"text-align: right;\">0.1521  </td><td style=\"text-align: right;\"> 0.085519 </td><td style=\"text-align: right;\"> 0.0531019</td><td style=\"text-align: right;\">-0.108357</td><td style=\"text-align: right;\">0.0962788</td><td style=\"text-align: right;\">-0.0185718</td><td style=\"text-align: right;\">0.135682 </td><td style=\"text-align: right;\">0.0911816</td><td style=\"text-align: right;\">0.197208</td><td style=\"text-align: right;\">-0.0020469</td><td style=\"text-align: right;\">-0.0164188</td><td style=\"text-align: right;\">-0.0627295</td><td style=\"text-align: right;\"> 0.0110342</td><td style=\"text-align: right;\">-0.149588</td><td style=\"text-align: right;\">-0.0352366</td><td style=\"text-align: right;\">-0.246436 </td><td style=\"text-align: right;\">-0.000558584</td><td style=\"text-align: right;\">-0.157659 </td><td style=\"text-align: right;\">0.0673622</td><td style=\"text-align: right;\">-0.100106 </td><td style=\"text-align: right;\">-0.0289694</td><td style=\"text-align: right;\"> 0.0463356</td><td style=\"text-align: right;\">-0.137428  </td><td style=\"text-align: right;\">-0.124412 </td><td style=\"text-align: right;\"> 0.0103623</td><td style=\"text-align: right;\">-0.138484 </td><td style=\"text-align: right;\"> 0.185902 </td><td style=\"text-align: right;\">-0.0127725</td><td style=\"text-align: right;\"> 0.17484   </td><td style=\"text-align: right;\">0.196311</td><td style=\"text-align: right;\">0.150801</td><td style=\"text-align: right;\">-0.0305401</td><td style=\"text-align: right;\">-0.0164198 </td><td style=\"text-align: right;\"> 0.184097</td><td style=\"text-align: right;\">0.184609  </td><td style=\"text-align: right;\">-0.0102573 </td><td style=\"text-align: right;\">-0.182353 </td><td style=\"text-align: right;\">0.11609 </td><td style=\"text-align: right;\">-0.218469 </td><td style=\"text-align: right;\">-0.0987829</td><td style=\"text-align: right;\">-0.0240301</td><td style=\"text-align: right;\">-0.0192306 </td><td style=\"text-align: right;\">0.0365942</td><td style=\"text-align: right;\">-0.0848806</td><td style=\"text-align: right;\">0.144848</td><td style=\"text-align: right;\">0.0999116</td><td style=\"text-align: right;\"> 0.0649872</td><td style=\"text-align: right;\">-0.135199 </td><td style=\"text-align: right;\"> 0.220069 </td><td style=\"text-align: right;\">-0.0531407 </td><td style=\"text-align: right;\">-0.207089</td><td style=\"text-align: right;\">0.0281669</td><td style=\"text-align: right;\">0.0458973</td><td style=\"text-align: right;\">0.220879 </td><td style=\"text-align: right;\">-0.0571164</td><td style=\"text-align: right;\">-0.0849415</td><td style=\"text-align: right;\">-0.00459534</td><td style=\"text-align: right;\">-0.0390933</td><td style=\"text-align: right;\"> 0.100628 </td><td style=\"text-align: right;\">-0.0656014</td><td style=\"text-align: right;\">-0.0326958</td><td style=\"text-align: right;\">-0.116311</td><td style=\"text-align: right;\"> 0.0194121</td><td style=\"text-align: right;\">0.0606043</td><td style=\"text-align: right;\">-0.0443243</td><td style=\"text-align: right;\"> 0.0355842</td><td style=\"text-align: right;\"> 0.00272881</td><td style=\"text-align: right;\"> 0.125273 </td><td style=\"text-align: right;\">0.0291125</td><td style=\"text-align: right;\"> 0.181032 </td><td style=\"text-align: right;\">-0.0899774</td><td style=\"text-align: right;\">-0.114928 </td><td style=\"text-align: right;\">-0.0130716</td><td style=\"text-align: right;\">-0.0840797</td><td style=\"text-align: right;\">-0.115888 </td><td style=\"text-align: right;\">0.17435 </td><td style=\"text-align: right;\">  0.00646406</td><td style=\"text-align: right;\">-0.11215    </td><td style=\"text-align: right;\">  -0.0121362</td><td style=\"text-align: right;\">  -0.0656268</td><td style=\"text-align: right;\"> -0.00767953</td><td style=\"text-align: right;\"> -0.0952659 </td><td style=\"text-align: right;\">  0.224311  </td><td style=\"text-align: right;\">   0.0321732</td><td style=\"text-align: right;\">   0.279665 </td><td style=\"text-align: right;\">    0.22139  </td><td style=\"text-align: right;\">   -0.0474606</td><td style=\"text-align: right;\">  -0.0024051 </td><td style=\"text-align: right;\">   -0.119824 </td><td style=\"text-align: right;\">  -0.116635  </td><td style=\"text-align: right;\">    -0.152252</td><td style=\"text-align: right;\">    0.0268367</td><td style=\"text-align: right;\">   -0.0936652</td><td style=\"text-align: right;\">    0.112408 </td><td style=\"text-align: right;\">   -0.0630927</td><td style=\"text-align: right;\">   0.169375  </td><td style=\"text-align: right;\">    0.338306 </td><td style=\"text-align: right;\">   -0.0583981</td><td style=\"text-align: right;\">    0.0996706</td><td style=\"text-align: right;\">   -0.166979 </td><td style=\"text-align: right;\">    0.0170542</td><td style=\"text-align: right;\">    0.139922 </td><td style=\"text-align: right;\">    0.0109951</td><td style=\"text-align: right;\">   -0.140941 </td><td style=\"text-align: right;\">   -0.0109699</td><td style=\"text-align: right;\">   -0.0422669</td><td style=\"text-align: right;\">   0.168498  </td><td style=\"text-align: right;\">     0.131385</td><td style=\"text-align: right;\">    0.403884 </td><td style=\"text-align: right;\">    0.0229472</td><td style=\"text-align: right;\">   -0.0380486</td><td style=\"text-align: right;\">   -0.0402501</td><td style=\"text-align: right;\">    0.129521 </td><td style=\"text-align: right;\">    -0.114347</td><td style=\"text-align: right;\">   -0.321522 </td><td style=\"text-align: right;\">   -0.179394 </td><td style=\"text-align: right;\">    0.223499 </td><td style=\"text-align: right;\">   -0.410802 </td><td style=\"text-align: right;\">     0.366365</td><td style=\"text-align: right;\">    0.0524431</td><td style=\"text-align: right;\">   0.00561368</td><td style=\"text-align: right;\">     0.124431</td><td style=\"text-align: right;\">   0.0861941 </td><td style=\"text-align: right;\">  -0.0495355 </td><td style=\"text-align: right;\">    0.153851 </td><td style=\"text-align: right;\">   -0.0862588</td><td style=\"text-align: right;\">    0.0754111</td><td style=\"text-align: right;\"> -0.112174   </td><td style=\"text-align: right;\">     0.188659</td><td style=\"text-align: right;\">     0.290865</td><td style=\"text-align: right;\">    0.0593778</td><td style=\"text-align: right;\">    0.0402282</td><td style=\"text-align: right;\">    0.02736  </td><td style=\"text-align: right;\">    0.35828  </td><td style=\"text-align: right;\">   -0.0245785</td><td style=\"text-align: right;\">   -0.167881 </td><td style=\"text-align: right;\">    -0.111643</td><td style=\"text-align: right;\">   -0.0143945</td><td style=\"text-align: right;\">   -0.0936013</td><td style=\"text-align: right;\">    0.0467292</td><td style=\"text-align: right;\">    0.0497997</td><td style=\"text-align: right;\">     0.273666</td><td style=\"text-align: right;\">    0.130516 </td><td style=\"text-align: right;\">     0.119229</td><td style=\"text-align: right;\">    0.247883 </td><td style=\"text-align: right;\">    0.135819 </td><td style=\"text-align: right;\">    0.0118664</td><td style=\"text-align: right;\">    -0.178212</td><td style=\"text-align: right;\">    0.161391 </td><td style=\"text-align: right;\">    0.093159 </td><td style=\"text-align: right;\">    -0.275619</td><td style=\"text-align: right;\">    0.156012 </td><td style=\"text-align: right;\">    0.0230398</td><td style=\"text-align: right;\">    0.093896 </td><td style=\"text-align: right;\">    0.237438 </td><td style=\"text-align: right;\">   -0.0261242</td><td style=\"text-align: right;\">    0.0627738</td><td style=\"text-align: right;\">   -0.0546708</td><td style=\"text-align: right;\">    0.0938358</td><td style=\"text-align: right;\">   -0.129042 </td><td style=\"text-align: right;\">    -0.275372</td><td style=\"text-align: right;\">     0.141904</td><td style=\"text-align: right;\">   -0.12214  </td><td style=\"text-align: right;\">  -0.0870215 </td></tr>\n",
       "<tr><td>B0089SPEO2 </td><td>A3JOYNYL458QHP</td><td>Less lemon and less zing    </td><td style=\"text-align: right;\">      3</td><td style=\"text-align: right;\">                       0</td><td style=\"text-align: right;\"> 28582</td><td>coleridge          </td><td style=\"text-align: right;\">                     0</td><td style=\"text-align: right;\">1.32391e+09</td><td>Everything is ok, except it just isn't as good as it is in the bags.  Just considerably more bland -- less lemon and less zing.  Boring.                                                                                                                                                                                                                                        </td><td style=\"text-align: right;\">               0</td><td>Yes    </td><td style=\"text-align: right;\">0.0513362</td><td style=\"text-align: right;\">-0.00440117</td><td style=\"text-align: right;\">-0.0249161 </td><td style=\"text-align: right;\">0.0498558</td><td style=\"text-align: right;\">-0.11512  </td><td style=\"text-align: right;\"> 0.0412305</td><td style=\"text-align: right;\">-0.0759341 </td><td style=\"text-align: right;\">-0.165468 </td><td style=\"text-align: right;\">0.0578123</td><td style=\"text-align: right;\">-0.146333  </td><td style=\"text-align: right;\"> 0.00166413</td><td style=\"text-align: right;\"> 0.0204378</td><td style=\"text-align: right;\"> 0.112563 </td><td style=\"text-align: right;\"> 0.0280274</td><td style=\"text-align: right;\">-0.0544884</td><td style=\"text-align: right;\"> 0.132045  </td><td style=\"text-align: right;\">0.178337 </td><td style=\"text-align: right;\">-0.0714973</td><td style=\"text-align: right;\">-0.0268916</td><td style=\"text-align: right;\">0.0363064</td><td style=\"text-align: right;\">0.0721682</td><td style=\"text-align: right;\"> 0.0372152</td><td style=\"text-align: right;\">-0.0652596</td><td style=\"text-align: right;\">0.0340418</td><td style=\"text-align: right;\">0.102422</td><td style=\"text-align: right;\">-0.13188  </td><td style=\"text-align: right;\"> 0.065763 </td><td style=\"text-align: right;\"> 0.062613</td><td style=\"text-align: right;\">0.0953723</td><td style=\"text-align: right;\">-0.0270064</td><td style=\"text-align: right;\">0.0679753</td><td style=\"text-align: right;\">0.177192 </td><td style=\"text-align: right;\">0.171178</td><td style=\"text-align: right;\"> 0.120383 </td><td style=\"text-align: right;\"> 0.0365757</td><td style=\"text-align: right;\">-0.0677486</td><td style=\"text-align: right;\">-0.0581971</td><td style=\"text-align: right;\">-0.181193</td><td style=\"text-align: right;\">-0.0726263</td><td style=\"text-align: right;\">-0.129351 </td><td style=\"text-align: right;\">-0.0392536  </td><td style=\"text-align: right;\">-0.0728073</td><td style=\"text-align: right;\">0.178091 </td><td style=\"text-align: right;\">-0.11433  </td><td style=\"text-align: right;\">-0.0759201</td><td style=\"text-align: right;\"> 0.109891 </td><td style=\"text-align: right;\">-0.0104963 </td><td style=\"text-align: right;\">-0.0401055</td><td style=\"text-align: right;\">-0.0445574</td><td style=\"text-align: right;\"> 0.0522939</td><td style=\"text-align: right;\">-0.0445474</td><td style=\"text-align: right;\">-0.113592 </td><td style=\"text-align: right;\"> 0.0829627 </td><td style=\"text-align: right;\">0.231689</td><td style=\"text-align: right;\">0.228338</td><td style=\"text-align: right;\"> 0.0720771</td><td style=\"text-align: right;\">-0.00399934</td><td style=\"text-align: right;\">-0.021206</td><td style=\"text-align: right;\">0.00913009</td><td style=\"text-align: right;\"> 0.00306112</td><td style=\"text-align: right;\">-0.0174448</td><td style=\"text-align: right;\">0.219396</td><td style=\"text-align: right;\">-0.0796018</td><td style=\"text-align: right;\"> 0.0812246</td><td style=\"text-align: right;\">-0.103812 </td><td style=\"text-align: right;\">-0.0382276 </td><td style=\"text-align: right;\">0.0302572</td><td style=\"text-align: right;\">-0.146381 </td><td style=\"text-align: right;\">0.210316</td><td style=\"text-align: right;\">0.0502982</td><td style=\"text-align: right;\">-0.0459529</td><td style=\"text-align: right;\">-0.0169911</td><td style=\"text-align: right;\">-0.0261788</td><td style=\"text-align: right;\"> 0.0347468 </td><td style=\"text-align: right;\">-0.103118</td><td style=\"text-align: right;\">0.176389 </td><td style=\"text-align: right;\">0.0731979</td><td style=\"text-align: right;\">0.0629904</td><td style=\"text-align: right;\">-0.076909 </td><td style=\"text-align: right;\"> 0.01107  </td><td style=\"text-align: right;\">-0.0557984 </td><td style=\"text-align: right;\"> 0.0395927</td><td style=\"text-align: right;\">-0.0815236</td><td style=\"text-align: right;\">-0.0324087</td><td style=\"text-align: right;\">-0.214381 </td><td style=\"text-align: right;\">-0.234959</td><td style=\"text-align: right;\">-0.270491 </td><td style=\"text-align: right;\">0.0506634</td><td style=\"text-align: right;\"> 0.0189085</td><td style=\"text-align: right;\"> 0.0201155</td><td style=\"text-align: right;\">-0.0366047 </td><td style=\"text-align: right;\"> 0.013764 </td><td style=\"text-align: right;\">0.0892676</td><td style=\"text-align: right;\">-0.0492352</td><td style=\"text-align: right;\">-0.0601437</td><td style=\"text-align: right;\">-0.180513 </td><td style=\"text-align: right;\">-0.112542 </td><td style=\"text-align: right;\">-0.123384 </td><td style=\"text-align: right;\">-0.0619487</td><td style=\"text-align: right;\">0.357928</td><td style=\"text-align: right;\"> -0.0102725 </td><td style=\"text-align: right;\"> 0.0200186  </td><td style=\"text-align: right;\">   0.0796825</td><td style=\"text-align: right;\">   0.110102 </td><td style=\"text-align: right;\"> -0.171943  </td><td style=\"text-align: right;\">  0.105338  </td><td style=\"text-align: right;\">  0.00236556</td><td style=\"text-align: right;\">  -0.286026 </td><td style=\"text-align: right;\">  -0.0901622</td><td style=\"text-align: right;\">   -0.223197 </td><td style=\"text-align: right;\">    0.0270274</td><td style=\"text-align: right;\">  -0.00468401</td><td style=\"text-align: right;\">    0.322383 </td><td style=\"text-align: right;\">   0.0772257 </td><td style=\"text-align: right;\">    -0.019967</td><td style=\"text-align: right;\">    0.18744  </td><td style=\"text-align: right;\">    0.0801972</td><td style=\"text-align: right;\">   -0.0789448</td><td style=\"text-align: right;\">   -0.217868 </td><td style=\"text-align: right;\">  -0.00670818</td><td style=\"text-align: right;\">    0.0648031</td><td style=\"text-align: right;\">    0.0889194</td><td style=\"text-align: right;\">   -0.0751789</td><td style=\"text-align: right;\">    0.0862801</td><td style=\"text-align: right;\">    0.0917056</td><td style=\"text-align: right;\">   -0.0694288</td><td style=\"text-align: right;\">    0.125021 </td><td style=\"text-align: right;\">   -0.0487902</td><td style=\"text-align: right;\">    0.0820468</td><td style=\"text-align: right;\">    0.0381919</td><td style=\"text-align: right;\">  -0.0400748 </td><td style=\"text-align: right;\">     0.259086</td><td style=\"text-align: right;\">   -0.0625568</td><td style=\"text-align: right;\">    0.112028 </td><td style=\"text-align: right;\">    0.0175711</td><td style=\"text-align: right;\">    0.123815 </td><td style=\"text-align: right;\">   -0.0170978</td><td style=\"text-align: right;\">    -0.24536 </td><td style=\"text-align: right;\">   -0.0963604</td><td style=\"text-align: right;\">   -0.174207 </td><td style=\"text-align: right;\">    0.0276435</td><td style=\"text-align: right;\">   -0.0797326</td><td style=\"text-align: right;\">     0.285701</td><td style=\"text-align: right;\">   -0.217339 </td><td style=\"text-align: right;\">  -0.140096  </td><td style=\"text-align: right;\">     0.16191 </td><td style=\"text-align: right;\">   0.0296709 </td><td style=\"text-align: right;\">  -0.0211734 </td><td style=\"text-align: right;\">    0.0422067</td><td style=\"text-align: right;\">   -0.0188401</td><td style=\"text-align: right;\">   -0.0912635</td><td style=\"text-align: right;\"> -0.000979457</td><td style=\"text-align: right;\">     0.163012</td><td style=\"text-align: right;\">     0.21071 </td><td style=\"text-align: right;\">    0.288241 </td><td style=\"text-align: right;\">    0.117013 </td><td style=\"text-align: right;\">   -0.0429293</td><td style=\"text-align: right;\">   -0.0784374</td><td style=\"text-align: right;\">   -0.0575373</td><td style=\"text-align: right;\">   -0.0205211</td><td style=\"text-align: right;\">     0.074826</td><td style=\"text-align: right;\">    0.287424 </td><td style=\"text-align: right;\">   -0.0879348</td><td style=\"text-align: right;\">    0.190344 </td><td style=\"text-align: right;\">   -0.296787 </td><td style=\"text-align: right;\">    -0.115531</td><td style=\"text-align: right;\">    0.0725481</td><td style=\"text-align: right;\">    -0.179356</td><td style=\"text-align: right;\">    0.367656 </td><td style=\"text-align: right;\">    0.0375333</td><td style=\"text-align: right;\">   -0.0233454</td><td style=\"text-align: right;\">     0.10427 </td><td style=\"text-align: right;\">   -0.164899 </td><td style=\"text-align: right;\">    0.0775839</td><td style=\"text-align: right;\">    -0.138525</td><td style=\"text-align: right;\">    0.159804 </td><td style=\"text-align: right;\">    0.10865  </td><td style=\"text-align: right;\">    0.0336951</td><td style=\"text-align: right;\">   -0.0879658</td><td style=\"text-align: right;\">    0.0622789</td><td style=\"text-align: right;\">   -0.191382 </td><td style=\"text-align: right;\">    0.114634 </td><td style=\"text-align: right;\">   -0.343503 </td><td style=\"text-align: right;\">   -0.0852524</td><td style=\"text-align: right;\">    -0.30831 </td><td style=\"text-align: right;\">    -0.242302</td><td style=\"text-align: right;\">   -0.320526 </td><td style=\"text-align: right;\">   0.00573524</td></tr>\n",
       "<tr><td>B001PMCDK2 </td><td>A14TTMM0Z03Y2W</td><td>my cat goes crazy for these!</td><td style=\"text-align: right;\">      5</td><td style=\"text-align: right;\">                       0</td><td style=\"text-align: right;\">389965</td><td>Lindsay S. Bradford</td><td style=\"text-align: right;\">                     0</td><td style=\"text-align: right;\">1.3106e+09 </td><td>Best cat treat ever. There isn't anything comparable to the love my cat has for these treats, he snubs away any other kind now.<br />I know he likes to manipulate me with his cattiness but these treats are my way of manipulating him to come sit on my lap and have some chill time. :)                                                                                     </td><td style=\"text-align: right;\">               1</td><td>Yes    </td><td style=\"text-align: right;\">0.0543675</td><td style=\"text-align: right;\"> 0.0333721 </td><td style=\"text-align: right;\">-0.00629156</td><td style=\"text-align: right;\">0.0587077</td><td style=\"text-align: right;\"> 0.0172913</td><td style=\"text-align: right;\">-0.0862336</td><td style=\"text-align: right;\"> 0.00276453</td><td style=\"text-align: right;\"> 0.0600827</td><td style=\"text-align: right;\">0.101659 </td><td style=\"text-align: right;\"> 0.00843011</td><td style=\"text-align: right;\">-0.0727454 </td><td style=\"text-align: right;\">-0.0161055</td><td style=\"text-align: right;\">-0.046195 </td><td style=\"text-align: right;\">-0.0536828</td><td style=\"text-align: right;\"> 0.0402279</td><td style=\"text-align: right;\"> 0.00228395</td><td style=\"text-align: right;\">0.149481 </td><td style=\"text-align: right;\">-0.0851313</td><td style=\"text-align: right;\">-0.0794495</td><td style=\"text-align: right;\">0.0723161</td><td style=\"text-align: right;\">0.140143 </td><td style=\"text-align: right;\">-0.0839352</td><td style=\"text-align: right;\"> 0.141048 </td><td style=\"text-align: right;\">0.0488228</td><td style=\"text-align: right;\">0.160422</td><td style=\"text-align: right;\"> 0.0137541</td><td style=\"text-align: right;\">-0.0477366</td><td style=\"text-align: right;\">-0.159887</td><td style=\"text-align: right;\">0.0882102</td><td style=\"text-align: right;\"> 0.0745272</td><td style=\"text-align: right;\">0.0141047</td><td style=\"text-align: right;\">0.139311 </td><td style=\"text-align: right;\">0.186148</td><td style=\"text-align: right;\"> 0.0373168</td><td style=\"text-align: right;\">-0.108915 </td><td style=\"text-align: right;\">-0.0789666</td><td style=\"text-align: right;\">-0.0295961</td><td style=\"text-align: right;\">-0.113165</td><td style=\"text-align: right;\">-0.0935327</td><td style=\"text-align: right;\">-0.0545077</td><td style=\"text-align: right;\">-0.0122322  </td><td style=\"text-align: right;\">-0.0539839</td><td style=\"text-align: right;\">0.140073 </td><td style=\"text-align: right;\"> 0.0725239</td><td style=\"text-align: right;\">-0.113544 </td><td style=\"text-align: right;\">-0.158504 </td><td style=\"text-align: right;\"> 0.00181585</td><td style=\"text-align: right;\">-0.0491493</td><td style=\"text-align: right;\">-0.152362 </td><td style=\"text-align: right;\">-0.0440854</td><td style=\"text-align: right;\"> 0.130712 </td><td style=\"text-align: right;\"> 0.0402764</td><td style=\"text-align: right;\">-0.00515583</td><td style=\"text-align: right;\">0.165969</td><td style=\"text-align: right;\">0.116693</td><td style=\"text-align: right;\"> 0.0234721</td><td style=\"text-align: right;\">-0.060061  </td><td style=\"text-align: right;\"> 0.147071</td><td style=\"text-align: right;\">0.0526331 </td><td style=\"text-align: right;\">-0.0267272 </td><td style=\"text-align: right;\">-0.0765783</td><td style=\"text-align: right;\">0.168646</td><td style=\"text-align: right;\">-0.163541 </td><td style=\"text-align: right;\">-0.0142938</td><td style=\"text-align: right;\">-0.162537 </td><td style=\"text-align: right;\"> 0.00811596</td><td style=\"text-align: right;\">0.0119684</td><td style=\"text-align: right;\">-0.260906 </td><td style=\"text-align: right;\">0.134994</td><td style=\"text-align: right;\">0.190432 </td><td style=\"text-align: right;\"> 0.0740884</td><td style=\"text-align: right;\">-0.184374 </td><td style=\"text-align: right;\"> 0.126292 </td><td style=\"text-align: right;\">-0.00136074</td><td style=\"text-align: right;\">-0.080048</td><td style=\"text-align: right;\">0.0398701</td><td style=\"text-align: right;\">0.0367589</td><td style=\"text-align: right;\">0.0802206</td><td style=\"text-align: right;\">-0.0361636</td><td style=\"text-align: right;\">-0.0572409</td><td style=\"text-align: right;\"> 0.122135  </td><td style=\"text-align: right;\">-0.0638821</td><td style=\"text-align: right;\">-0.0335268</td><td style=\"text-align: right;\">-0.0982646</td><td style=\"text-align: right;\">-0.145779 </td><td style=\"text-align: right;\">-0.255626</td><td style=\"text-align: right;\">-0.0731203</td><td style=\"text-align: right;\">0.191258 </td><td style=\"text-align: right;\"> 0.0349603</td><td style=\"text-align: right;\">-0.0937031</td><td style=\"text-align: right;\"> 0.0320818 </td><td style=\"text-align: right;\">-0.0350101</td><td style=\"text-align: right;\">0.0522079</td><td style=\"text-align: right;\"> 0.176943 </td><td style=\"text-align: right;\">-0.0918238</td><td style=\"text-align: right;\">-0.0486026</td><td style=\"text-align: right;\">-0.0688671</td><td style=\"text-align: right;\">-0.149982 </td><td style=\"text-align: right;\">-0.0860884</td><td style=\"text-align: right;\">0.212012</td><td style=\"text-align: right;\">  0.0273972 </td><td style=\"text-align: right;\"> 0.000980673</td><td style=\"text-align: right;\">   0.105461 </td><td style=\"text-align: right;\">   0.0026606</td><td style=\"text-align: right;\">  0.0296727 </td><td style=\"text-align: right;\"> -0.00318405</td><td style=\"text-align: right;\"> -0.00793522</td><td style=\"text-align: right;\">   0.359229 </td><td style=\"text-align: right;\">   0.0678789</td><td style=\"text-align: right;\">   -0.0146367</td><td style=\"text-align: right;\">    0.06069  </td><td style=\"text-align: right;\">   0.0240944 </td><td style=\"text-align: right;\">   -0.0230177</td><td style=\"text-align: right;\">  -0.00788714</td><td style=\"text-align: right;\">     0.139246</td><td style=\"text-align: right;\">    0.026359 </td><td style=\"text-align: right;\">    0.320073 </td><td style=\"text-align: right;\">   -0.376657 </td><td style=\"text-align: right;\">   -0.067963 </td><td style=\"text-align: right;\">   0.144501  </td><td style=\"text-align: right;\">   -0.0102077</td><td style=\"text-align: right;\">   -0.188946 </td><td style=\"text-align: right;\">    0.0164416</td><td style=\"text-align: right;\">    0.22571  </td><td style=\"text-align: right;\">    0.190738 </td><td style=\"text-align: right;\">    0.0787373</td><td style=\"text-align: right;\">   -0.0714652</td><td style=\"text-align: right;\">   -0.237332 </td><td style=\"text-align: right;\">    0.194231 </td><td style=\"text-align: right;\">    0.143445 </td><td style=\"text-align: right;\">   0.00427729</td><td style=\"text-align: right;\">     0.14479 </td><td style=\"text-align: right;\">    0.372498 </td><td style=\"text-align: right;\">   -0.119477 </td><td style=\"text-align: right;\">   -0.0975741</td><td style=\"text-align: right;\">   -0.132778 </td><td style=\"text-align: right;\">    0.106288 </td><td style=\"text-align: right;\">    -0.315174</td><td style=\"text-align: right;\">    0.144808 </td><td style=\"text-align: right;\">    0.0150827</td><td style=\"text-align: right;\">    0.0256219</td><td style=\"text-align: right;\">   -0.0365145</td><td style=\"text-align: right;\">     0.236006</td><td style=\"text-align: right;\">    0.123958 </td><td style=\"text-align: right;\">   0.0636659 </td><td style=\"text-align: right;\">    -0.114433</td><td style=\"text-align: right;\">   0.00871094</td><td style=\"text-align: right;\">   0.00473791</td><td style=\"text-align: right;\">   -0.262452 </td><td style=\"text-align: right;\">    0.0511779</td><td style=\"text-align: right;\">    0.248586 </td><td style=\"text-align: right;\"> -0.0442202  </td><td style=\"text-align: right;\">    -0.208176</td><td style=\"text-align: right;\">     0.157407</td><td style=\"text-align: right;\">    0.070723 </td><td style=\"text-align: right;\">   -0.0960826</td><td style=\"text-align: right;\">   -0.189034 </td><td style=\"text-align: right;\">    0.046696 </td><td style=\"text-align: right;\">   -0.162667 </td><td style=\"text-align: right;\">   -0.137593 </td><td style=\"text-align: right;\">    -0.107119</td><td style=\"text-align: right;\">    0.282642 </td><td style=\"text-align: right;\">   -0.160715 </td><td style=\"text-align: right;\">   -0.033369 </td><td style=\"text-align: right;\">   -0.286921 </td><td style=\"text-align: right;\">    -0.191472</td><td style=\"text-align: right;\">    0.0819988</td><td style=\"text-align: right;\">    -0.171011</td><td style=\"text-align: right;\">    0.0664721</td><td style=\"text-align: right;\">    0.123896 </td><td style=\"text-align: right;\">    0.104715 </td><td style=\"text-align: right;\">    -0.268618</td><td style=\"text-align: right;\">    0.0889132</td><td style=\"text-align: right;\">    0.01857  </td><td style=\"text-align: right;\">    -0.222136</td><td style=\"text-align: right;\">    0.0785898</td><td style=\"text-align: right;\">    0.0724888</td><td style=\"text-align: right;\">   -0.115572 </td><td style=\"text-align: right;\">   -0.115667 </td><td style=\"text-align: right;\">   -0.0911485</td><td style=\"text-align: right;\">    0.275652 </td><td style=\"text-align: right;\">   -0.295963 </td><td style=\"text-align: right;\">    0.0313896</td><td style=\"text-align: right;\">   -0.165826 </td><td style=\"text-align: right;\">    -0.204769</td><td style=\"text-align: right;\">    -0.174765</td><td style=\"text-align: right;\">   -0.0577374</td><td style=\"text-align: right;\">   0.281456  </td></tr>\n",
       "</tbody>\n",
       "</table>"
      ]
     },
     "metadata": {},
     "output_type": "display_data"
    },
    {
     "data": {
      "text/plain": []
     },
     "execution_count": 27,
     "metadata": {},
     "output_type": "execute_result"
    }
   ],
   "source": [
    "ext_reviews_new.head(3)"
   ]
  },
  {
   "cell_type": "code",
   "execution_count": 28,
   "metadata": {},
   "outputs": [],
   "source": [
    "ext_train_new = ext_reviews_new[ext_reviews_new[\"Train\"] == \"Yes\"]\n",
    "ext_test_new = ext_reviews_new[ext_reviews_new[\"Train\"] == \"No\"]"
   ]
  },
  {
   "cell_type": "code",
   "execution_count": 29,
   "metadata": {},
   "outputs": [],
   "source": [
    "def plot_par_dep_ICE(xs, par_dep_frame):\n",
    "\n",
    "    \n",
    "    \"\"\" Plots ICE overlayed onto partial dependence for a single variable.\n",
    "    \n",
    "    Args: \n",
    "        xs: Name of variable for which to plot ICE and partial dependence.\n",
    "        par_dep_frame: Name of Pandas DataFrame containing ICE and partial\n",
    "                       dependence values.\n",
    "    \n",
    "    \"\"\"\n",
    "    \n",
    "    # initialize figure and axis\n",
    "    fig, ax = plt.subplots()\n",
    "    \n",
    "    # plot ICE curves\n",
    "    par_dep_frame.drop('partial_dependence', axis=1).plot(x=xs, \n",
    "                                                          colormap='gnuplot',\n",
    "                                                          ax=ax)\n",
    "\n",
    "    # overlay partial dependence, annotate plot\n",
    "    par_dep_frame.plot(title='Partial Dependence and ICE for ' + str(xs),\n",
    "                       x=xs, \n",
    "                       y='partial_dependence',\n",
    "                       style='r-', \n",
    "                       linewidth=3, \n",
    "                       ax=ax)\n",
    "\n",
    "    # add legend\n",
    "    _ = plt.legend(bbox_to_anchor=(1.05, 0),\n",
    "                   loc=3, \n",
    "                   borderaxespad=0.)"
   ]
  },
  {
   "cell_type": "code",
   "execution_count": 30,
   "metadata": {},
   "outputs": [],
   "source": [
    "ext_train_simple = ext_train_new.drop([2, 6, 9])"
   ]
  },
  {
   "cell_type": "markdown",
   "metadata": {},
   "source": [
    "# 2 Training Models"
   ]
  },
  {
   "cell_type": "markdown",
   "metadata": {},
   "source": [
    "## 2.1 Linear Regression"
   ]
  },
  {
   "cell_type": "markdown",
   "metadata": {},
   "source": [
    "### 2.1.1 Train & Fit Model"
   ]
  },
  {
   "cell_type": "code",
   "execution_count": 31,
   "metadata": {},
   "outputs": [],
   "source": [
    "predictors = ['ProductId', 'UserId', 'HelpfulnessNumerator', 'HelpfulnessDenominator', 'Time'] + summary_vecs.names + review_vecs.names \n",
    "response = 'PositiveReview'"
   ]
  },
  {
   "cell_type": "code",
   "execution_count": 32,
   "metadata": {},
   "outputs": [
    {
     "name": "stdout",
     "output_type": "stream",
     "text": [
      "glm Model Build progress: |███████████████████████████████████████████████| 100%\n"
     ]
    }
   ],
   "source": [
    "# Initialize\n",
    "local_glm_plus = H2OGeneralizedLinearEstimator(family='binomial', model_id='glm_surrogate', lambda_search=True)\n",
    "# train \n",
    "local_glm_plus.train(x=predictors, y=response, training_frame=ext_train_new)"
   ]
  },
  {
   "cell_type": "markdown",
   "metadata": {},
   "source": [
    "### 2.1.2 Interpretability"
   ]
  },
  {
   "cell_type": "markdown",
   "metadata": {},
   "source": [
    "#### Variable Importance"
   ]
  },
  {
   "cell_type": "code",
   "execution_count": 33,
   "metadata": {},
   "outputs": [
    {
     "data": {
      "image/png": "[encoded data removed]",
      "text/plain": [
       "<Figure size 1008x720 with 1 Axes>"
      ]
     },
     "metadata": {
      "needs_background": "light"
     },
     "output_type": "display_data"
    }
   ],
   "source": [
    "local_glm_plus.varimp_plot()"
   ]
  },
  {
   "cell_type": "markdown",
   "metadata": {},
   "source": [
    "#### Partial Dependence Plot (PDP)"
   ]
  },
  {
   "cell_type": "code",
   "execution_count": 34,
   "metadata": {},
   "outputs": [
    {
     "name": "stdout",
     "output_type": "stream",
     "text": [
      "PartialDependencePlot progress: |█████████████████████████████████████████| 100%\n"
     ]
    },
    {
     "data": {
      "image/png": "[encoded data removed]",
      "text/plain": [
       "<Figure size 504x720 with 1 Axes>"
      ]
     },
     "metadata": {
      "needs_background": "light"
     },
     "output_type": "display_data"
    }
   ],
   "source": [
    "pdp_local_linear_plus = local_glm_plus.partial_plot(data = ext_train_new, cols = [\"HelpfulnessNumerator\"])"
   ]
  },
  {
   "cell_type": "markdown",
   "metadata": {},
   "source": [
    "#### Individual Conditional Expectation (ICE)"
   ]
  },
  {
   "cell_type": "code",
   "execution_count": null,
   "metadata": {},
   "outputs": [],
   "source": [
    "HelpfulnessNumerator_ice_df = ice(data=ext_train_simple, column='HelpfulnessNumerator', model=local_glm_plus)"
   ]
  },
  {
   "cell_type": "code",
   "execution_count": null,
   "metadata": {
    "scrolled": false
   },
   "outputs": [],
   "source": [
    "ice_plot(HelpfulnessNumerator_ice_df, linewidth=0.5, color_by='Score', cmap='coolwarm',\n",
    "        plot_pdp=True, pdp_kwargs={'c': 'k', 'linewidth': 3})\n",
    "vals = HelpfulnessNumerator_ice_df.columns.get_level_values('Score').values\n",
    "sm = plt.cm.ScalarMappable(cmap='coolwarm', norm=plt.Normalize(vmin=vals.min(), vmax=vals.max()))\n",
    "sm._A = []\n",
    "plt.colorbar(sm, label='Score')\n",
    "plt.ylabel('Pred. AV %ile')\n",
    "plt.xlabel('HelpfulnessNumerator');"
   ]
  },
  {
   "cell_type": "markdown",
   "metadata": {},
   "source": [
    "### 2.1.3 Matrix"
   ]
  },
  {
   "cell_type": "code",
   "execution_count": 50,
   "metadata": {},
   "outputs": [
    {
     "name": "stdout",
     "output_type": "stream",
     "text": [
      "\n",
      "Local GLM Coefficients:\n",
      "C53:                      -4.248085286646444\n",
      "C86:                      -3.5439977155180338\n",
      "C93:                      -3.32167742998596\n",
      "C16:                      -3.1467313473222807\n",
      "C20:                      -2.509872132762661\n",
      "C55:                      -2.486115276669438\n",
      "C24:                      -2.370334798592705\n",
      "C33:                      -2.3123344172756872\n",
      "C18:                      -2.2967692009028213\n",
      "C28:                      -2.246327242881251\n",
      "C65:                      -2.013226005963354\n",
      "C79:                      -1.9437759948587077\n",
      "C83:                      -1.8984423139292799\n",
      "C31:                      -1.7364059149347912\n",
      "C38:                      -1.5675858344386404\n",
      "C7:                       -1.5105131786866604\n",
      "C9:                       -1.27399165107544\n",
      "C39:                      -1.2661789669138837\n",
      "C19:                      -1.245008080454141\n",
      "C58:                      -1.0413349420949007\n",
      "C70:                      -1.0327204821644953\n",
      "C57:                      -1.003777790016131\n",
      "C90:                      -0.8207675224905491\n",
      "C21:                      -0.8114184902849282\n",
      "summary_C24:              -0.7929603808175808\n",
      "summary_C57:              -0.7636947758229375\n",
      "summary_C86:              -0.7636499569956241\n",
      "summary_C7:               -0.7554052079467344\n",
      "C80:                      -0.7553778680514884\n",
      "C67:                      -0.7465891216212341\n",
      "C22:                      -0.6998139893026891\n",
      "summary_C38:              -0.6805686816111057\n",
      "summary_C33:              -0.6752250878367531\n",
      "summary_C67:              -0.6534650436733528\n",
      "summary_C19:              -0.6157770336564573\n",
      "C13:                      -0.6047482736081096\n",
      "summary_C55:              -0.5966995464189375\n",
      "C94:                      -0.5879485718147838\n",
      "summary_C31:              -0.5870952429021885\n",
      "summary_C58:              -0.5861464962019902\n",
      "C32:                      -0.5730730634561071\n",
      "summary_C53:              -0.5687721098452135\n",
      "C75:                      -0.5535266174585841\n",
      "C30:                      -0.5334774169662699\n",
      "summary_C85:              -0.5247459891852818\n",
      "summary_C10:              -0.5196686362621187\n",
      "summary_C65:              -0.48759539096868115\n",
      "C85:                      -0.47312486576495916\n",
      "summary_C39:              -0.45964228519662714\n",
      "summary_C90:              -0.43855727144089957\n",
      "summary_C28:              -0.4232448448668137\n",
      "summary_C93:              -0.4218643933592809\n",
      "summary_C9:               -0.4188512758401457\n",
      "C45:                      -0.39276525232348947\n",
      "C10:                      -0.37531274657570357\n",
      "summary_C22:              -0.3742772065164926\n",
      "summary_C16:              -0.37248114369244123\n",
      "summary_C20:              -0.350205077411364\n",
      "summary_C62:              -0.34039500203407125\n",
      "summary_C40:              -0.33659889924964176\n",
      "summary_C79:              -0.2921858199075075\n",
      "summary_C76:              -0.2677787562648641\n",
      "C91:                      -0.22219448536206352\n",
      "C59:                      -0.2189376777171268\n",
      "summary_C8:               -0.21759861429585173\n",
      "summary_C72:              -0.20073451022872474\n",
      "summary_C30:              -0.17611465547518151\n",
      "summary_C13:              -0.1748125524812727\n",
      "summary_C83:              -0.16674544881382658\n",
      "summary_C26:              -0.12118536319446543\n",
      "HelpfulnessDenominator:   -0.10894693130233643\n",
      "summary_C94:              -0.10452682634660843\n",
      "summary_C41:              -0.09961733919720285\n",
      "summary_C21:              -0.08912269056690676\n",
      "C72:                      -0.08694056513100434\n",
      "summary_C91:              -0.0833254639053265\n",
      "C98:                      -0.06974446304934669\n",
      "C61:                      -0.06705759520409205\n",
      "C41:                      -0.06268649511473406\n",
      "summary_C32:              -0.06021668861053706\n",
      "C37:                      -0.052310124275932984\n",
      "summary_C70:              -0.048775608895396984\n",
      "summary_C5:               -0.023627836363527964\n",
      "summary_C95:              -0.019584882390538325\n",
      "summary_C42:              -0.012824973813512025\n",
      "summary_C43:              -0.006197632264768261\n",
      "Time:                     -1.0214681072327504e-09\n",
      "summary_C3:               0.0024348837780913033\n",
      "C73:                      0.031145686085319983\n",
      "summary_C63:              0.05001147632939781\n",
      "summary_C89:              0.05412218826575877\n",
      "summary_C2:               0.0560132839244749\n",
      "C17:                      0.06077490497049776\n",
      "summary_C69:              0.06957935852960437\n",
      "C78:                      0.07989026449827842\n",
      "summary_C82:              0.09027259932164348\n",
      "summary_C6:               0.10317455703595006\n",
      "summary_C52:              0.10369203878342344\n",
      "HelpfulnessNumerator:     0.12577672325702544\n",
      "C40:                      0.13454963496425862\n",
      "C62:                      0.13485057938643766\n",
      "C1:                       0.14996230542594152\n",
      "C95:                      0.15858719710139083\n",
      "summary_C96:              0.19703394185824408\n",
      "C43:                      0.20394499785363746\n",
      "summary_C27:              0.231187919578107\n",
      "summary_C97:              0.23492857511613144\n",
      "C89:                      0.24414957646355354\n",
      "summary_C100:             0.24711440192935905\n",
      "summary_C17:              0.2661265303849088\n",
      "summary_C11:              0.2719871993312455\n",
      "summary_C46:              0.27310195386577757\n",
      "summary_C77:              0.27398391170186637\n",
      "summary_C14:              0.30542711744700957\n",
      "summary_C99:              0.31544033221569967\n",
      "C69:                      0.3292662321456055\n",
      "C29:                      0.3335461913041106\n",
      "C97:                      0.3406567028581277\n",
      "summary_C71:              0.3600258969942747\n",
      "summary_C34:              0.3909595488834864\n",
      "summary_C75:              0.4409173342557651\n",
      "C14:                      0.46577292884238175\n",
      "summary_C68:              0.4666374884206457\n",
      "summary_C25:              0.47816522130524913\n",
      "C76:                      0.5032249040210638\n",
      "C84:                      0.5071298277066236\n",
      "C15:                      0.5112815638589685\n",
      "summary_C66:              0.5166998715490789\n",
      "summary_C23:              0.5170706713243092\n",
      "C100:                     0.5211584187229356\n",
      "C42:                      0.5254998824416807\n",
      "summary_C87:              0.5415066944325175\n",
      "summary_C61:              0.5597235855279173\n",
      "summary_C64:              0.5800610445790415\n",
      "C23:                      0.5891401871922114\n",
      "summary_C50:              0.6142188334693428\n",
      "summary_C12:              0.6317310172508765\n",
      "summary_C98:              0.6327428111033994\n",
      "C47:                      0.642694132495398\n",
      "summary_C88:              0.6471524869367307\n",
      "summary_C35:              0.6852869655437058\n",
      "summary_C48:              0.7142713892534611\n",
      "C44:                      0.719187482072763\n",
      "summary_C78:              0.7536469184459185\n",
      "C11:                      0.7567324291599158\n",
      "C27:                      0.8321083623306639\n",
      "C51:                      0.8338739741118146\n",
      "summary_C36:              0.8344961072709212\n",
      "C56:                      0.8375898859250696\n",
      "C3:                       0.8427399955621818\n",
      "C88:                      0.915352208937401\n",
      "C4:                       0.9301641566977572\n",
      "C60:                      1.242773954577429\n",
      "C99:                      1.4194867492533403\n",
      "C34:                      1.4370187917873014\n",
      "C6:                       1.4372273473263633\n",
      "C50:                      1.4396701379535826\n",
      "C68:                      1.499020435141466\n",
      "C71:                      1.5117257626346694\n",
      "C64:                      1.7501062350217833\n",
      "C66:                      1.8187471849312928\n",
      "C77:                      1.83674894989209\n",
      "C96:                      1.8431011411700775\n",
      "C25:                      1.877065103940187\n",
      "C46:                      1.973937392140966\n",
      "C12:                      2.509349671854106\n",
      "C36:                      3.152601444905887\n",
      "C48:                      3.3365080954611703\n",
      "C35:                      3.358231463543325\n",
      "C87:                      3.7592431017097074\n",
      "Intercept:                3.783707610182716\n"
     ]
    }
   ],
   "source": [
    "print('\\nLocal GLM Coefficients:')\n",
    "for c_name, c_val in sorted(local_glm_plus.coef().items(), key=operator.itemgetter(1)):\n",
    "    if c_val != 0.0:\n",
    "        print('%s %s' % (str(c_name + ':').ljust(25), c_val))"
   ]
  },
  {
   "cell_type": "code",
   "execution_count": 51,
   "metadata": {},
   "outputs": [
    {
     "data": {
      "text/plain": [
       "{'train': 0.4302428504864454, 'valid': None}"
      ]
     },
     "execution_count": 51,
     "metadata": {},
     "output_type": "execute_result"
    }
   ],
   "source": [
    "local_glm_plus.r2(train=True, valid=True)"
   ]
  },
  {
   "cell_type": "code",
   "execution_count": 52,
   "metadata": {},
   "outputs": [
    {
     "data": {
      "text/plain": [
       "0.875392591226614"
      ]
     },
     "execution_count": 52,
     "metadata": {},
     "output_type": "execute_result"
    }
   ],
   "source": [
    "local_glm_plus.auc()"
   ]
  },
  {
   "cell_type": "code",
   "execution_count": 53,
   "metadata": {},
   "outputs": [
    {
     "name": "stdout",
     "output_type": "stream",
     "text": [
      "Confusion Matrix (Act/Pred) for max f1 @ threshold = 0.45119787347032936: \n"
     ]
    },
    {
     "data": {
      "text/html": [
       "<div style=\"overflow:auto\"><table style=\"width:50%\"><tr><td><b></b></td>\n",
       "<td><b>0</b></td>\n",
       "<td><b>1</b></td>\n",
       "<td><b>Error</b></td>\n",
       "<td><b>Rate</b></td></tr>\n",
       "<tr><td>0</td>\n",
       "<td>9957.0</td>\n",
       "<td>5937.0</td>\n",
       "<td>0.3735</td>\n",
       "<td> (5937.0/15894.0)</td></tr>\n",
       "<tr><td>1</td>\n",
       "<td>2145.0</td>\n",
       "<td>26363.0</td>\n",
       "<td>0.0752</td>\n",
       "<td> (2145.0/28508.0)</td></tr>\n",
       "<tr><td>Total</td>\n",
       "<td>12102.0</td>\n",
       "<td>32300.0</td>\n",
       "<td>0.182</td>\n",
       "<td> (8082.0/44402.0)</td></tr></table></div>"
      ],
      "text/plain": [
       "       0      1      Error    Rate\n",
       "-----  -----  -----  -------  ----------------\n",
       "0      9957   5937   0.3735   (5937.0/15894.0)\n",
       "1      2145   26363  0.0752   (2145.0/28508.0)\n",
       "Total  12102  32300  0.182    (8082.0/44402.0)"
      ]
     },
     "metadata": {},
     "output_type": "display_data"
    },
    {
     "data": {
      "text/plain": []
     },
     "execution_count": 53,
     "metadata": {},
     "output_type": "execute_result"
    }
   ],
   "source": [
    "local_glm_plus.confusion_matrix()"
   ]
  },
  {
   "cell_type": "markdown",
   "metadata": {},
   "source": [
    "## 2.2 Logistic Regression"
   ]
  },
  {
   "cell_type": "markdown",
   "metadata": {},
   "source": [
    "### 2.2.1 Train & Fit Model"
   ]
  },
  {
   "cell_type": "code",
   "execution_count": 54,
   "metadata": {},
   "outputs": [
    {
     "name": "stdout",
     "output_type": "stream",
     "text": [
      "glm Model Build progress: |███████████████████████████████████████████████| 100%\n"
     ]
    }
   ],
   "source": [
    "glm_logistic_plus_summary = H2OGeneralizedLinearEstimator(family = \"binomial\")\n",
    "glm_logistic_plus_summary.train(x=predictors, \n",
    "                               y= response, \n",
    "                               training_frame = ext_train_new, \n",
    "                               validation_frame = ext_test_new, \n",
    "                               model_id=\"glm_logistic\")"
   ]
  },
  {
   "cell_type": "markdown",
   "metadata": {},
   "source": [
    "### 2.2.2 Interpretability"
   ]
  },
  {
   "cell_type": "markdown",
   "metadata": {},
   "source": [
    "#### Variable Importance"
   ]
  },
  {
   "cell_type": "code",
   "execution_count": 55,
   "metadata": {},
   "outputs": [
    {
     "data": {
      "image/png": "[encoded data removed]",
      "text/plain": [
       "<Figure size 1008x720 with 1 Axes>"
      ]
     },
     "metadata": {
      "needs_background": "light"
     },
     "output_type": "display_data"
    }
   ],
   "source": [
    "glm_logistic_plus_summary.varimp_plot()"
   ]
  },
  {
   "cell_type": "markdown",
   "metadata": {},
   "source": [
    "#### Partial Dependence Plot (PDP)"
   ]
  },
  {
   "cell_type": "code",
   "execution_count": 67,
   "metadata": {},
   "outputs": [
    {
     "name": "stdout",
     "output_type": "stream",
     "text": [
      "PartialDependencePlot progress: |█████████████████████████████████████████| 100%\n"
     ]
    },
    {
     "data": {
      "image/png": "[encoded data removed]",
      "text/plain": [
       "<Figure size 504x720 with 1 Axes>"
      ]
     },
     "metadata": {
      "needs_background": "light"
     },
     "output_type": "display_data"
    }
   ],
   "source": [
    "pdp_word_vecs = glm_logistic_plus_summary.partial_plot(data = ext_train_new, cols = [\"C53\"])"
   ]
  },
  {
   "cell_type": "markdown",
   "metadata": {},
   "source": [
    "#### Individual Conditional Expectation (ICE)"
   ]
  },
  {
   "cell_type": "code",
   "execution_count": 57,
   "metadata": {},
   "outputs": [
    {
     "ename": "NameError",
     "evalue": "name 'ext_test_s' is not defined",
     "output_type": "error",
     "traceback": [
      "\u001b[0;31m---------------------------------------------------------------------------\u001b[0m",
      "\u001b[0;31mNameError\u001b[0m                                 Traceback (most recent call last)",
      "\u001b[0;32m<ipython-input-57-43de7cf7fcb7>\u001b[0m in \u001b[0;36m<module>\u001b[0;34m\u001b[0m\n\u001b[0;32m----> 1\u001b[0;31m \u001b[0mC20_ice_df\u001b[0m \u001b[0;34m=\u001b[0m \u001b[0mice\u001b[0m\u001b[0;34m(\u001b[0m\u001b[0mdata\u001b[0m\u001b[0;34m=\u001b[0m\u001b[0mext_test_s\u001b[0m\u001b[0;34m,\u001b[0m \u001b[0mcolumn\u001b[0m\u001b[0;34m=\u001b[0m\u001b[0;34m'C20'\u001b[0m\u001b[0;34m,\u001b[0m \u001b[0mmodel\u001b[0m\u001b[0;34m=\u001b[0m\u001b[0mglm_logistic_plus_summary\u001b[0m\u001b[0;34m)\u001b[0m\u001b[0;34m\u001b[0m\u001b[0;34m\u001b[0m\u001b[0m\n\u001b[0m",
      "\u001b[0;31mNameError\u001b[0m: name 'ext_test_s' is not defined"
     ]
    }
   ],
   "source": [
    "C20_ice_df = ice(data=ext_test_s, column='C20', model=glm_logistic_plus_summary)"
   ]
  },
  {
   "cell_type": "markdown",
   "metadata": {},
   "source": [
    "### 2.2.3 Matrix"
   ]
  },
  {
   "cell_type": "code",
   "execution_count": 68,
   "metadata": {},
   "outputs": [
    {
     "name": "stdout",
     "output_type": "stream",
     "text": [
      "With Summary and Review Embeddings AUC: 0.857\n"
     ]
    }
   ],
   "source": [
    "print(\"With Summary and Review Embeddings AUC: \" + str(round(glm_logistic_plus_summary.auc(valid = True), 3)))"
   ]
  },
  {
   "cell_type": "code",
   "execution_count": 69,
   "metadata": {},
   "outputs": [
    {
     "name": "stdout",
     "output_type": "stream",
     "text": [
      "Confusion Matrix (Act/Pred) for max f1 @ threshold = 0.46869425484942073: \n"
     ]
    },
    {
     "data": {
      "text/html": [
       "<div style=\"overflow:auto\"><table style=\"width:50%\"><tr><td><b></b></td>\n",
       "<td><b>0</b></td>\n",
       "<td><b>1</b></td>\n",
       "<td><b>Error</b></td>\n",
       "<td><b>Rate</b></td></tr>\n",
       "<tr><td>0</td>\n",
       "<td>2452.0</td>\n",
       "<td>1760.0</td>\n",
       "<td>0.4179</td>\n",
       "<td> (1760.0/4212.0)</td></tr>\n",
       "<tr><td>1</td>\n",
       "<td>501.0</td>\n",
       "<td>6439.0</td>\n",
       "<td>0.0722</td>\n",
       "<td> (501.0/6940.0)</td></tr>\n",
       "<tr><td>Total</td>\n",
       "<td>2953.0</td>\n",
       "<td>8199.0</td>\n",
       "<td>0.2027</td>\n",
       "<td> (2261.0/11152.0)</td></tr></table></div>"
      ],
      "text/plain": [
       "       0     1     Error    Rate\n",
       "-----  ----  ----  -------  ----------------\n",
       "0      2452  1760  0.4179   (1760.0/4212.0)\n",
       "1      501   6439  0.0722   (501.0/6940.0)\n",
       "Total  2953  8199  0.2027   (2261.0/11152.0)"
      ]
     },
     "metadata": {},
     "output_type": "display_data"
    },
    {
     "data": {
      "text/plain": []
     },
     "execution_count": 69,
     "metadata": {},
     "output_type": "execute_result"
    }
   ],
   "source": [
    "glm_logistic_plus_summary.confusion_matrix(valid = True)"
   ]
  },
  {
   "cell_type": "code",
   "execution_count": 70,
   "metadata": {},
   "outputs": [
    {
     "name": "stdout",
     "output_type": "stream",
     "text": [
      "Confusion Matrix (Act/Pred) for max f1 @ threshold = 0.46869425484942073: \n"
     ]
    },
    {
     "data": {
      "text/html": [
       "<div style=\"overflow:auto\"><table style=\"width:50%\"><tr><td><b></b></td>\n",
       "<td><b>0</b></td>\n",
       "<td><b>1</b></td>\n",
       "<td><b>Error</b></td>\n",
       "<td><b>Rate</b></td></tr>\n",
       "<tr><td>0</td>\n",
       "<td>2452.0</td>\n",
       "<td>1760.0</td>\n",
       "<td>0.4179</td>\n",
       "<td> (1760.0/4212.0)</td></tr>\n",
       "<tr><td>1</td>\n",
       "<td>501.0</td>\n",
       "<td>6439.0</td>\n",
       "<td>0.0722</td>\n",
       "<td> (501.0/6940.0)</td></tr>\n",
       "<tr><td>Total</td>\n",
       "<td>2953.0</td>\n",
       "<td>8199.0</td>\n",
       "<td>0.2027</td>\n",
       "<td> (2261.0/11152.0)</td></tr></table></div>"
      ],
      "text/plain": [
       "       0     1     Error    Rate\n",
       "-----  ----  ----  -------  ----------------\n",
       "0      2452  1760  0.4179   (1760.0/4212.0)\n",
       "1      501   6439  0.0722   (501.0/6940.0)\n",
       "Total  2953  8199  0.2027   (2261.0/11152.0)"
      ]
     },
     "metadata": {},
     "output_type": "display_data"
    },
    {
     "data": {
      "text/plain": []
     },
     "execution_count": 70,
     "metadata": {},
     "output_type": "execute_result"
    }
   ],
   "source": [
    "glm_logistic_plus_summary.confusion_matrix(valid = True)"
   ]
  },
  {
   "cell_type": "markdown",
   "metadata": {},
   "source": [
    "## 2.3 Decision Tree"
   ]
  },
  {
   "cell_type": "code",
   "execution_count": 71,
   "metadata": {},
   "outputs": [],
   "source": [
    "from h2o.estimators.random_forest import H2ORandomForestEstimator # for single tree\n",
    "# in-notebook display\n",
    "from IPython.display import Image\n",
    "from IPython.display import display\n",
    "%matplotlib inline"
   ]
  },
  {
   "cell_type": "markdown",
   "metadata": {},
   "source": [
    "### 2.3.1 Train & Fit Model"
   ]
  },
  {
   "cell_type": "code",
   "execution_count": 72,
   "metadata": {},
   "outputs": [],
   "source": [
    "predictors = ['ProductId', 'UserId', 'HelpfulnessNumerator', 'HelpfulnessDenominator', 'Time'] + review_vecs.names + summary_vecs.names\n",
    "response = 'PositiveReview'"
   ]
  },
  {
   "cell_type": "code",
   "execution_count": 73,
   "metadata": {},
   "outputs": [
    {
     "name": "stdout",
     "output_type": "stream",
     "text": [
      "gbm Model Build progress: |███████████████████████████████████████████████| 100%\n"
     ]
    }
   ],
   "source": [
    "# initialize single tree surrogate model\n",
    "model_id = 'dt_surrogate_mojo'\n",
    "\n",
    "# train single tree surrogate model\n",
    "surrogate = H2OGradientBoostingEstimator(ntrees=1,\n",
    "                                         sample_rate=1,\n",
    "                                         col_sample_rate=1,\n",
    "                                         max_depth=3,\n",
    "                                         seed=12345,\n",
    "                                         model_id=model_id)\n",
    "\n",
    "_ = surrogate.train(x=predictors, y=response, training_frame=ext_train_new)"
   ]
  },
  {
   "cell_type": "markdown",
   "metadata": {},
   "source": [
    "### 2.3.2 Interpretability"
   ]
  },
  {
   "cell_type": "markdown",
   "metadata": {},
   "source": [
    "#### Variable Importance"
   ]
  },
  {
   "cell_type": "code",
   "execution_count": 74,
   "metadata": {},
   "outputs": [
    {
     "data": {
      "image/png": "[encoded data removed]",
      "text/plain": [
       "<Figure size 1008x720 with 1 Axes>"
      ]
     },
     "metadata": {
      "needs_background": "light"
     },
     "output_type": "display_data"
    }
   ],
   "source": [
    "surrogate.varimp_plot()"
   ]
  },
  {
   "cell_type": "markdown",
   "metadata": {},
   "source": [
    "#### Partial Dependence Plot (PDP)"
   ]
  },
  {
   "cell_type": "code",
   "execution_count": 75,
   "metadata": {},
   "outputs": [
    {
     "name": "stdout",
     "output_type": "stream",
     "text": [
      "PartialDependencePlot progress: |█████████████████████████████████████████| 100%\n"
     ]
    },
    {
     "data": {
      "image/png": "[encoded data removed]",
      "text/plain": [
       "<Figure size 504x720 with 1 Axes>"
      ]
     },
     "metadata": {
      "needs_background": "light"
     },
     "output_type": "display_data"
    }
   ],
   "source": [
    "pdp_word_vecs = surrogate.partial_plot(data = ext_train_new, cols = [\"summary_C24\"])"
   ]
  },
  {
   "cell_type": "markdown",
   "metadata": {},
   "source": [
    "#### Individual Conditional Expectation (ICE)"
   ]
  },
  {
   "cell_type": "code",
   "execution_count": null,
   "metadata": {},
   "outputs": [],
   "source": []
  },
  {
   "cell_type": "markdown",
   "metadata": {},
   "source": [
    "### 2.3.3 Matrix"
   ]
  },
  {
   "cell_type": "code",
   "execution_count": 76,
   "metadata": {},
   "outputs": [
    {
     "name": "stdout",
     "output_type": "stream",
     "text": [
      "Model Details\n",
      "=============\n",
      "H2OGradientBoostingEstimator :  Gradient Boosting Machine\n",
      "Model Key:  dt_surrogate_mojo\n",
      "\n",
      "\n",
      "ModelMetricsBinomial: gbm\n",
      "** Reported on train data. **\n",
      "\n",
      "MSE: 0.22490468188680712\n",
      "RMSE: 0.4742411642685682\n",
      "LogLoss: 0.6415846447228967\n",
      "Mean Per-Class Error: 0.35615213187394557\n",
      "AUC: 0.692578222817862\n",
      "pr_auc: 0.42284625175470336\n",
      "Gini: 0.38515644563572393\n",
      "Confusion Matrix (Act/Pred) for max f1 @ threshold = 0.6287949244602625: \n"
     ]
    },
    {
     "data": {
      "text/html": [
       "<div style=\"overflow:auto\"><table style=\"width:50%\"><tr><td><b></b></td>\n",
       "<td><b>0</b></td>\n",
       "<td><b>1</b></td>\n",
       "<td><b>Error</b></td>\n",
       "<td><b>Rate</b></td></tr>\n",
       "<tr><td>0</td>\n",
       "<td>4338.0</td>\n",
       "<td>11556.0</td>\n",
       "<td>0.7271</td>\n",
       "<td> (11556.0/15894.0)</td></tr>\n",
       "<tr><td>1</td>\n",
       "<td>2322.0</td>\n",
       "<td>26186.0</td>\n",
       "<td>0.0815</td>\n",
       "<td> (2322.0/28508.0)</td></tr>\n",
       "<tr><td>Total</td>\n",
       "<td>6660.0</td>\n",
       "<td>37742.0</td>\n",
       "<td>0.3126</td>\n",
       "<td> (13878.0/44402.0)</td></tr></table></div>"
      ],
      "text/plain": [
       "       0     1      Error    Rate\n",
       "-----  ----  -----  -------  -----------------\n",
       "0      4338  11556  0.7271   (11556.0/15894.0)\n",
       "1      2322  26186  0.0815   (2322.0/28508.0)\n",
       "Total  6660  37742  0.3126   (13878.0/44402.0)"
      ]
     },
     "metadata": {},
     "output_type": "display_data"
    },
    {
     "name": "stdout",
     "output_type": "stream",
     "text": [
      "Maximum Metrics: Maximum metrics at their respective thresholds\n",
      "\n"
     ]
    },
    {
     "data": {
      "text/html": [
       "<div style=\"overflow:auto\"><table style=\"width:50%\"><tr><td><b>metric</b></td>\n",
       "<td><b>threshold</b></td>\n",
       "<td><b>value</b></td>\n",
       "<td><b>idx</b></td></tr>\n",
       "<tr><td>max f1</td>\n",
       "<td>0.6287949</td>\n",
       "<td>0.7905208</td>\n",
       "<td>5.0</td></tr>\n",
       "<tr><td>max f2</td>\n",
       "<td>0.6115796</td>\n",
       "<td>0.8996806</td>\n",
       "<td>7.0</td></tr>\n",
       "<tr><td>max f0point5</td>\n",
       "<td>0.6419479</td>\n",
       "<td>0.7451607</td>\n",
       "<td>3.0</td></tr>\n",
       "<tr><td>max accuracy</td>\n",
       "<td>0.6287949</td>\n",
       "<td>0.6874465</td>\n",
       "<td>5.0</td></tr>\n",
       "<tr><td>max precision</td>\n",
       "<td>0.6589095</td>\n",
       "<td>0.8125619</td>\n",
       "<td>0.0</td></tr>\n",
       "<tr><td>max recall</td>\n",
       "<td>0.6115796</td>\n",
       "<td>1.0</td>\n",
       "<td>7.0</td></tr>\n",
       "<tr><td>max specificity</td>\n",
       "<td>0.6589095</td>\n",
       "<td>0.8212533</td>\n",
       "<td>0.0</td></tr>\n",
       "<tr><td>max absolute_mcc</td>\n",
       "<td>0.6419479</td>\n",
       "<td>0.2880008</td>\n",
       "<td>3.0</td></tr>\n",
       "<tr><td>max min_per_class_accuracy</td>\n",
       "<td>0.6446020</td>\n",
       "<td>0.6281616</td>\n",
       "<td>2.0</td></tr>\n",
       "<tr><td>max mean_per_class_accuracy</td>\n",
       "<td>0.6446020</td>\n",
       "<td>0.6438479</td>\n",
       "<td>2.0</td></tr></table></div>"
      ],
      "text/plain": [
       "metric                       threshold    value     idx\n",
       "---------------------------  -----------  --------  -----\n",
       "max f1                       0.628795     0.790521  5\n",
       "max f2                       0.61158      0.899681  7\n",
       "max f0point5                 0.641948     0.745161  3\n",
       "max accuracy                 0.628795     0.687447  5\n",
       "max precision                0.65891      0.812562  0\n",
       "max recall                   0.61158      1         7\n",
       "max specificity              0.65891      0.821253  0\n",
       "max absolute_mcc             0.641948     0.288001  3\n",
       "max min_per_class_accuracy   0.644602     0.628162  2\n",
       "max mean_per_class_accuracy  0.644602     0.643848  2"
      ]
     },
     "metadata": {},
     "output_type": "display_data"
    },
    {
     "name": "stdout",
     "output_type": "stream",
     "text": [
      "Gains/Lift Table: Avg response rate: 64.20 %, avg score: 64.19 %\n",
      "\n"
     ]
    },
    {
     "data": {
      "text/html": [
       "<div style=\"overflow:auto\"><table style=\"width:50%\"><tr><td><b></b></td>\n",
       "<td><b>group</b></td>\n",
       "<td><b>cumulative_data_fraction</b></td>\n",
       "<td><b>lower_threshold</b></td>\n",
       "<td><b>lift</b></td>\n",
       "<td><b>cumulative_lift</b></td>\n",
       "<td><b>response_rate</b></td>\n",
       "<td><b>score</b></td>\n",
       "<td><b>cumulative_response_rate</b></td>\n",
       "<td><b>cumulative_score</b></td>\n",
       "<td><b>capture_rate</b></td>\n",
       "<td><b>cumulative_capture_rate</b></td>\n",
       "<td><b>gain</b></td>\n",
       "<td><b>cumulative_gain</b></td></tr>\n",
       "<tr><td></td>\n",
       "<td>1</td>\n",
       "<td>0.3413585</td>\n",
       "<td>0.6589095</td>\n",
       "<td>1.2655876</td>\n",
       "<td>1.2655876</td>\n",
       "<td>0.8125619</td>\n",
       "<td>0.6589095</td>\n",
       "<td>0.8125619</td>\n",
       "<td>0.6589095</td>\n",
       "<td>0.4320191</td>\n",
       "<td>0.4320191</td>\n",
       "<td>26.5587603</td>\n",
       "<td>26.5587603</td></tr>\n",
       "<tr><td></td>\n",
       "<td>2</td>\n",
       "<td>0.5565515</td>\n",
       "<td>0.6446020</td>\n",
       "<td>1.0572606</td>\n",
       "<td>1.1850371</td>\n",
       "<td>0.6788069</td>\n",
       "<td>0.6457080</td>\n",
       "<td>0.7608449</td>\n",
       "<td>0.6538051</td>\n",
       "<td>0.2275151</td>\n",
       "<td>0.6595342</td>\n",
       "<td>5.7260569</td>\n",
       "<td>18.5037068</td></tr>\n",
       "<tr><td></td>\n",
       "<td>3</td>\n",
       "<td>0.6457817</td>\n",
       "<td>0.6419479</td>\n",
       "<td>0.9985160</td>\n",
       "<td>1.1592647</td>\n",
       "<td>0.6410904</td>\n",
       "<td>0.6419479</td>\n",
       "<td>0.7442980</td>\n",
       "<td>0.6521667</td>\n",
       "<td>0.0890978</td>\n",
       "<td>0.7486320</td>\n",
       "<td>-0.1484001</td>\n",
       "<td>15.9264714</td></tr>\n",
       "<tr><td></td>\n",
       "<td>4</td>\n",
       "<td>0.7469709</td>\n",
       "<td>0.6336163</td>\n",
       "<td>0.8694145</td>\n",
       "<td>1.1199999</td>\n",
       "<td>0.5582016</td>\n",
       "<td>0.6336163</td>\n",
       "<td>0.7190883</td>\n",
       "<td>0.6496538</td>\n",
       "<td>0.0879753</td>\n",
       "<td>0.8366073</td>\n",
       "<td>-13.0585466</td>\n",
       "<td>11.9999877</td></tr>\n",
       "<tr><td></td>\n",
       "<td>5</td>\n",
       "<td>0.8500068</td>\n",
       "<td>0.6287949</td>\n",
       "<td>0.7952754</td>\n",
       "<td>1.0806375</td>\n",
       "<td>0.5106011</td>\n",
       "<td>0.6287949</td>\n",
       "<td>0.6938159</td>\n",
       "<td>0.6471253</td>\n",
       "<td>0.0819419</td>\n",
       "<td>0.9185492</td>\n",
       "<td>-20.4724648</td>\n",
       "<td>8.0637503</td></tr>\n",
       "<tr><td></td>\n",
       "<td>6</td>\n",
       "<td>1.0</td>\n",
       "<td>0.6115796</td>\n",
       "<td>0.5430299</td>\n",
       "<td>1.0</td>\n",
       "<td>0.3486486</td>\n",
       "<td>0.6122017</td>\n",
       "<td>0.6420432</td>\n",
       "<td>0.6418870</td>\n",
       "<td>0.0814508</td>\n",
       "<td>1.0</td>\n",
       "<td>-45.6970068</td>\n",
       "<td>0.0</td></tr></table></div>"
      ],
      "text/plain": [
       "    group    cumulative_data_fraction    lower_threshold    lift      cumulative_lift    response_rate    score     cumulative_response_rate    cumulative_score    capture_rate    cumulative_capture_rate    gain      cumulative_gain\n",
       "--  -------  --------------------------  -----------------  --------  -----------------  ---------------  --------  --------------------------  ------------------  --------------  -------------------------  --------  -----------------\n",
       "    1        0.341358                    0.65891            1.26559   1.26559            0.812562         0.65891   0.812562                    0.65891             0.432019        0.432019                   26.5588   26.5588\n",
       "    2        0.556552                    0.644602           1.05726   1.18504            0.678807         0.645708  0.760845                    0.653805            0.227515        0.659534                   5.72606   18.5037\n",
       "    3        0.645782                    0.641948           0.998516  1.15926            0.64109          0.641948  0.744298                    0.652167            0.0890978       0.748632                   -0.1484   15.9265\n",
       "    4        0.746971                    0.633616           0.869415  1.12               0.558202         0.633616  0.719088                    0.649654            0.0879753       0.836607                   -13.0585  12\n",
       "    5        0.850007                    0.628795           0.795275  1.08064            0.510601         0.628795  0.693816                    0.647125            0.0819419       0.918549                   -20.4725  8.06375\n",
       "    6        1                           0.61158            0.54303   1                  0.348649         0.612202  0.642043                    0.641887            0.0814508       1                          -45.697   0"
      ]
     },
     "metadata": {},
     "output_type": "display_data"
    },
    {
     "name": "stdout",
     "output_type": "stream",
     "text": [
      "\n",
      "Scoring History: \n"
     ]
    },
    {
     "data": {
      "text/html": [
       "<div style=\"overflow:auto\"><table style=\"width:50%\"><tr><td><b></b></td>\n",
       "<td><b>timestamp</b></td>\n",
       "<td><b>duration</b></td>\n",
       "<td><b>number_of_trees</b></td>\n",
       "<td><b>training_rmse</b></td>\n",
       "<td><b>training_logloss</b></td>\n",
       "<td><b>training_auc</b></td>\n",
       "<td><b>training_pr_auc</b></td>\n",
       "<td><b>training_lift</b></td>\n",
       "<td><b>training_classification_error</b></td></tr>\n",
       "<tr><td></td>\n",
       "<td>2019-04-23 19:11:28</td>\n",
       "<td> 0.005 sec</td>\n",
       "<td>0.0</td>\n",
       "<td>0.4793994</td>\n",
       "<td>0.6522336</td>\n",
       "<td>0.5</td>\n",
       "<td>0.0</td>\n",
       "<td>1.0</td>\n",
       "<td>0.3579568</td></tr>\n",
       "<tr><td></td>\n",
       "<td>2019-04-23 19:11:28</td>\n",
       "<td> 0.107 sec</td>\n",
       "<td>1.0</td>\n",
       "<td>0.4742412</td>\n",
       "<td>0.6415846</td>\n",
       "<td>0.6925782</td>\n",
       "<td>0.4228463</td>\n",
       "<td>1.2655876</td>\n",
       "<td>0.3125535</td></tr></table></div>"
      ],
      "text/plain": [
       "    timestamp            duration    number_of_trees    training_rmse    training_logloss    training_auc    training_pr_auc    training_lift    training_classification_error\n",
       "--  -------------------  ----------  -----------------  ---------------  ------------------  --------------  -----------------  ---------------  -------------------------------\n",
       "    2019-04-23 19:11:28  0.005 sec   0                  0.479399         0.652234            0.5             0                  1                0.357957\n",
       "    2019-04-23 19:11:28  0.107 sec   1                  0.474241         0.641585            0.692578        0.422846           1.26559          0.312553"
      ]
     },
     "metadata": {},
     "output_type": "display_data"
    },
    {
     "name": "stdout",
     "output_type": "stream",
     "text": [
      "Variable Importances: \n"
     ]
    },
    {
     "data": {
      "text/html": [
       "<div style=\"overflow:auto\"><table style=\"width:50%\"><tr><td><b>variable</b></td>\n",
       "<td><b>relative_importance</b></td>\n",
       "<td><b>scaled_importance</b></td>\n",
       "<td><b>percentage</b></td></tr>\n",
       "<tr><td>summary_C24</td>\n",
       "<td>420.7445679</td>\n",
       "<td>1.0</td>\n",
       "<td>0.3677554</td></tr>\n",
       "<tr><td>summary_C78</td>\n",
       "<td>290.7519531</td>\n",
       "<td>0.6910415</td>\n",
       "<td>0.2541342</td></tr>\n",
       "<tr><td>summary_C25</td>\n",
       "<td>200.9385681</td>\n",
       "<td>0.4775785</td>\n",
       "<td>0.1756321</td></tr>\n",
       "<tr><td>C48</td>\n",
       "<td>118.4606781</td>\n",
       "<td>0.2815501</td>\n",
       "<td>0.1035416</td></tr>\n",
       "<tr><td>C46</td>\n",
       "<td>61.1193810</td>\n",
       "<td>0.1452648</td>\n",
       "<td>0.0534219</td></tr>\n",
       "<tr><td>---</td>\n",
       "<td>---</td>\n",
       "<td>---</td>\n",
       "<td>---</td></tr>\n",
       "<tr><td>summary_C96</td>\n",
       "<td>0.0</td>\n",
       "<td>0.0</td>\n",
       "<td>0.0</td></tr>\n",
       "<tr><td>summary_C97</td>\n",
       "<td>0.0</td>\n",
       "<td>0.0</td>\n",
       "<td>0.0</td></tr>\n",
       "<tr><td>summary_C98</td>\n",
       "<td>0.0</td>\n",
       "<td>0.0</td>\n",
       "<td>0.0</td></tr>\n",
       "<tr><td>summary_C99</td>\n",
       "<td>0.0</td>\n",
       "<td>0.0</td>\n",
       "<td>0.0</td></tr>\n",
       "<tr><td>summary_C100</td>\n",
       "<td>0.0</td>\n",
       "<td>0.0</td>\n",
       "<td>0.0</td></tr></table></div>"
      ],
      "text/plain": [
       "variable      relative_importance    scaled_importance    percentage\n",
       "------------  ---------------------  -------------------  -------------------\n",
       "summary_C24   420.74456787109375     1.0                  0.3677554104048984\n",
       "summary_C78   290.751953125          0.691041490080698    0.25413424679143964\n",
       "summary_C25   200.93856811523438     0.4775785202217922   0.17563208470472927\n",
       "C48           118.46067810058594     0.28155010699241995  0.10354157514654046\n",
       "C46           61.119380950927734     0.14526481294858518  0.05342192090329775\n",
       "---           ---                    ---                  ---\n",
       "summary_C96   0.0                    0.0                  0.0\n",
       "summary_C97   0.0                    0.0                  0.0\n",
       "summary_C98   0.0                    0.0                  0.0\n",
       "summary_C99   0.0                    0.0                  0.0\n",
       "summary_C100  0.0                    0.0                  0.0"
      ]
     },
     "metadata": {},
     "output_type": "display_data"
    },
    {
     "name": "stdout",
     "output_type": "stream",
     "text": [
      "\n",
      "See the whole table with table.as_data_frame()\n",
      "\n"
     ]
    }
   ],
   "source": [
    "print(surrogate)"
   ]
  },
  {
   "cell_type": "markdown",
   "metadata": {},
   "source": [
    "## 2.4 Gradient Boosting"
   ]
  },
  {
   "cell_type": "markdown",
   "metadata": {},
   "source": [
    "### 2.4.1 Train & Fit Model"
   ]
  },
  {
   "cell_type": "code",
   "execution_count": 77,
   "metadata": {},
   "outputs": [
    {
     "name": "stdout",
     "output_type": "stream",
     "text": [
      "gbm Model Build progress: |███████████████████████████████████████████████| 100%\n"
     ]
    }
   ],
   "source": [
    "gbm = H2OGradientBoostingEstimator(stopping_metric = \"AUC\",\n",
    "                                           stopping_tolerance = 0.001,\n",
    "                                           stopping_rounds = 5, \n",
    "                                           score_tree_interval = 10, \n",
    "                                           model_id = 'gbm.hex')\n",
    "gbm.train(x = predictors, \n",
    "                   y = response,\n",
    "                  training_frame = ext_train_new,\n",
    "                  validation_frame = ext_test_new)"
   ]
  },
  {
   "cell_type": "markdown",
   "metadata": {},
   "source": [
    "### 2.4.2 Interpretability"
   ]
  },
  {
   "cell_type": "markdown",
   "metadata": {},
   "source": [
    "#### Variable Importance"
   ]
  },
  {
   "cell_type": "code",
   "execution_count": 78,
   "metadata": {},
   "outputs": [
    {
     "data": {
      "image/png": "[encoded data removed]",
      "text/plain": [
       "<Figure size 1008x720 with 1 Axes>"
      ]
     },
     "metadata": {
      "needs_background": "light"
     },
     "output_type": "display_data"
    }
   ],
   "source": [
    "gbm.varimp_plot()"
   ]
  },
  {
   "cell_type": "markdown",
   "metadata": {},
   "source": [
    "#### Partial Dependence Plot (PDP)"
   ]
  },
  {
   "cell_type": "code",
   "execution_count": 79,
   "metadata": {
    "scrolled": false
   },
   "outputs": [
    {
     "name": "stdout",
     "output_type": "stream",
     "text": [
      "PartialDependencePlot progress: |█████████████████████████████████████████| 100%\n"
     ]
    },
    {
     "data": {
      "image/png": "[encoded data removed]",
      "text/plain": [
       "<Figure size 504x720 with 1 Axes>"
      ]
     },
     "metadata": {
      "needs_background": "light"
     },
     "output_type": "display_data"
    }
   ],
   "source": [
    "pdp_helpfulness = gbm.partial_plot(ext_train_new, cols = ['C24'])"
   ]
  },
  {
   "cell_type": "markdown",
   "metadata": {},
   "source": [
    "#### Individual Conditional Expectation (ICE)"
   ]
  },
  {
   "cell_type": "code",
   "execution_count": 66,
   "metadata": {},
   "outputs": [
    {
     "ename": "NameError",
     "evalue": "name 'ext_test_s' is not defined",
     "output_type": "error",
     "traceback": [
      "\u001b[0;31m---------------------------------------------------------------------------\u001b[0m",
      "\u001b[0;31mNameError\u001b[0m                                 Traceback (most recent call last)",
      "\u001b[0;32m<ipython-input-66-1c904a17955e>\u001b[0m in \u001b[0;36m<module>\u001b[0;34m\u001b[0m\n\u001b[1;32m      1\u001b[0m \u001b[0;32mfrom\u001b[0m \u001b[0miice\u001b[0m \u001b[0;32mimport\u001b[0m \u001b[0mice\u001b[0m\u001b[0;34m,\u001b[0m \u001b[0mice_plot\u001b[0m\u001b[0;34m\u001b[0m\u001b[0;34m\u001b[0m\u001b[0m\n\u001b[0;32m----> 2\u001b[0;31m \u001b[0mHelpfulnessNumerator_ice_df\u001b[0m \u001b[0;34m=\u001b[0m \u001b[0mice\u001b[0m\u001b[0;34m(\u001b[0m\u001b[0mdata\u001b[0m\u001b[0;34m=\u001b[0m\u001b[0mext_test_s\u001b[0m\u001b[0;34m,\u001b[0m \u001b[0mcolumn\u001b[0m\u001b[0;34m=\u001b[0m\u001b[0;34m'C22'\u001b[0m\u001b[0;34m,\u001b[0m \u001b[0mmodel\u001b[0m\u001b[0;34m=\u001b[0m\u001b[0mgbm\u001b[0m\u001b[0;34m)\u001b[0m\u001b[0;34m\u001b[0m\u001b[0;34m\u001b[0m\u001b[0m\n\u001b[0m",
      "\u001b[0;31mNameError\u001b[0m: name 'ext_test_s' is not defined"
     ]
    }
   ],
   "source": [
    "from iice import ice, ice_plot\n",
    "HelpfulnessNumerator_ice_df = ice(data=ext_test_s, column='C22', model=gbm)"
   ]
  },
  {
   "cell_type": "markdown",
   "metadata": {},
   "source": [
    "### 2.4.3 Matrix"
   ]
  },
  {
   "cell_type": "code",
   "execution_count": 80,
   "metadata": {},
   "outputs": [
    {
     "name": "stdout",
     "output_type": "stream",
     "text": [
      "AUC on validation data: 0.851\n"
     ]
    }
   ],
   "source": [
    "print(\"AUC on validation data: \" + str(round(gbm.auc(valid = True), 3)))"
   ]
  },
  {
   "cell_type": "code",
   "execution_count": 81,
   "metadata": {},
   "outputs": [
    {
     "name": "stdout",
     "output_type": "stream",
     "text": [
      "Confusion Matrix (Act/Pred) for max f1 @ threshold = 0.5160766138956321: \n"
     ]
    },
    {
     "data": {
      "text/html": [
       "<div style=\"overflow:auto\"><table style=\"width:50%\"><tr><td><b></b></td>\n",
       "<td><b>0</b></td>\n",
       "<td><b>1</b></td>\n",
       "<td><b>Error</b></td>\n",
       "<td><b>Rate</b></td></tr>\n",
       "<tr><td>0</td>\n",
       "<td>2541.0</td>\n",
       "<td>1671.0</td>\n",
       "<td>0.3967</td>\n",
       "<td> (1671.0/4212.0)</td></tr>\n",
       "<tr><td>1</td>\n",
       "<td>641.0</td>\n",
       "<td>6299.0</td>\n",
       "<td>0.0924</td>\n",
       "<td> (641.0/6940.0)</td></tr>\n",
       "<tr><td>Total</td>\n",
       "<td>3182.0</td>\n",
       "<td>7970.0</td>\n",
       "<td>0.2073</td>\n",
       "<td> (2312.0/11152.0)</td></tr></table></div>"
      ],
      "text/plain": [
       "       0     1     Error    Rate\n",
       "-----  ----  ----  -------  ----------------\n",
       "0      2541  1671  0.3967   (1671.0/4212.0)\n",
       "1      641   6299  0.0924   (641.0/6940.0)\n",
       "Total  3182  7970  0.2073   (2312.0/11152.0)"
      ]
     },
     "metadata": {},
     "output_type": "display_data"
    },
    {
     "data": {
      "text/plain": []
     },
     "execution_count": 81,
     "metadata": {},
     "output_type": "execute_result"
    }
   ],
   "source": [
    "gbm.confusion_matrix(valid=True)"
   ]
  },
  {
   "cell_type": "code",
   "execution_count": 82,
   "metadata": {},
   "outputs": [
    {
     "data": {
      "text/plain": [
       "{'train': 0.439767865367519, 'valid': 0.3583848043975397}"
      ]
     },
     "execution_count": 82,
     "metadata": {},
     "output_type": "execute_result"
    }
   ],
   "source": [
    "gbm.r2(train=True, valid=True)"
   ]
  },
  {
   "cell_type": "code",
   "execution_count": null,
   "metadata": {},
   "outputs": [],
   "source": [
    "h2o.cluster().shutdown()"
   ]
  },
  {
   "cell_type": "code",
   "execution_count": null,
   "metadata": {},
   "outputs": [],
   "source": []
  },
  {
   "cell_type": "code",
   "execution_count": null,
   "metadata": {},
   "outputs": [],
   "source": []
  },
  {
   "cell_type": "code",
   "execution_count": null,
   "metadata": {},
   "outputs": [],
   "source": []
  }
 ],
 "metadata": {
  "kernelspec": {
   "display_name": "Python 3",
   "language": "python",
   "name": "python3"
  },
  "language_info": {
   "codemirror_mode": {
    "name": "ipython",
    "version": 3
   },
   "file_extension": ".py",
   "mimetype": "text/x-python",
   "name": "python",
   "nbconvert_exporter": "python",
   "pygments_lexer": "ipython3",
   "version": "3.7.2"
  },
  "toc": {
   "base_numbering": 1,
   "nav_menu": {},
   "number_sections": false,
   "sideBar": true,
   "skip_h1_title": false,
   "title_cell": "Table of Contents",
   "title_sidebar": "Contents",
   "toc_cell": false,
   "toc_position": {
    "height": "calc(100% - 180px)",
    "left": "10px",
    "top": "150px",
    "width": "336px"
   },
   "toc_section_display": true,
   "toc_window_display": true
  },
  "varInspector": {
   "cols": {
    "lenName": 16,
    "lenType": 16,
    "lenVar": 40
   },
   "kernels_config": {
    "python": {
     "delete_cmd_postfix": "",
     "delete_cmd_prefix": "del ",
     "library": "var_list.py",
     "varRefreshCmd": "print(var_dic_list())"
    },
    "r": {
     "delete_cmd_postfix": ") ",
     "delete_cmd_prefix": "rm(",
     "library": "var_list.r",
     "varRefreshCmd": "cat(var_dic_list()) "
    }
   },
   "types_to_exclude": [
    "module",
    "function",
    "builtin_function_or_method",
    "instance",
    "_Feature"
   ],
   "window_display": false
  }
 },
 "nbformat": 4,
 "nbformat_minor": 2
}
