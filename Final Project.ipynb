{
 "cells": [
  {
   "cell_type": "code",
   "execution_count": 1,
   "metadata": {},
   "outputs": [],
   "source": [
    "import h2o\n",
    "import operator\n",
    "from h2o.automl import H2OAutoML\n",
    "import random, os, sys\n",
    "from datetime import datetime\n",
    "import pandas as pd\n",
    "import logging\n",
    "import csv\n",
    "import optparse\n",
    "import time\n",
    "import json\n",
    "from distutils.util import strtobool\n",
    "import psutil\n",
    "import numpy as np\n",
    "from matplotlib import pyplot as plt\n",
    "import warnings\n",
    "from plot.ice import ice, ice_plot\n",
    "from h2o.estimators.glm import H2OGeneralizedLinearEstimator\n",
    "from h2o.estimators import H2OGradientBoostingEstimator\n",
    "warnings.filterwarnings(\"ignore\")"
   ]
  },
  {
   "cell_type": "markdown",
   "metadata": {},
   "source": [
    "# 1 Data Preparation"
   ]
  },
  {
   "cell_type": "markdown",
   "metadata": {},
   "source": [
    "## 1.1 H2O Initialization"
   ]
  },
  {
   "cell_type": "code",
   "execution_count": 2,
   "metadata": {},
   "outputs": [
    {
     "name": "stdout",
     "output_type": "stream",
     "text": [
      "78\n"
     ]
    }
   ],
   "source": [
    "pct_memory=8\n",
    "virtual_memory=psutil.virtual_memory()\n",
    "min_mem_size=int(round(int(pct_memory*virtual_memory.available)/1073741824,0))\n",
    "print(min_mem_size)"
   ]
  },
  {
   "cell_type": "code",
   "execution_count": 3,
   "metadata": {},
   "outputs": [
    {
     "name": "stdout",
     "output_type": "stream",
     "text": [
      "Checking whether there is an H2O instance running at http://localhost:54321 . connected.\n"
     ]
    },
    {
     "data": {
      "text/html": [
       "<div style=\"overflow:auto\"><table style=\"width:50%\"><tr><td>H2O cluster uptime:</td>\n",
       "<td>6 mins 30 secs</td></tr>\n",
       "<tr><td>H2O cluster timezone:</td>\n",
       "<td>America/New_York</td></tr>\n",
       "<tr><td>H2O data parsing timezone:</td>\n",
       "<td>UTC</td></tr>\n",
       "<tr><td>H2O cluster version:</td>\n",
       "<td>3.24.0.1</td></tr>\n",
       "<tr><td>H2O cluster version age:</td>\n",
       "<td>22 days </td></tr>\n",
       "<tr><td>H2O cluster name:</td>\n",
       "<td>H2O_from_python_mandy_fh8pqh</td></tr>\n",
       "<tr><td>H2O cluster total nodes:</td>\n",
       "<td>1</td></tr>\n",
       "<tr><td>H2O cluster free memory:</td>\n",
       "<td>84.4 Gb</td></tr>\n",
       "<tr><td>H2O cluster total cores:</td>\n",
       "<td>12</td></tr>\n",
       "<tr><td>H2O cluster allowed cores:</td>\n",
       "<td>12</td></tr>\n",
       "<tr><td>H2O cluster status:</td>\n",
       "<td>locked, healthy</td></tr>\n",
       "<tr><td>H2O connection url:</td>\n",
       "<td>http://localhost:54321</td></tr>\n",
       "<tr><td>H2O connection proxy:</td>\n",
       "<td>None</td></tr>\n",
       "<tr><td>H2O internal security:</td>\n",
       "<td>False</td></tr>\n",
       "<tr><td>H2O API Extensions:</td>\n",
       "<td>Amazon S3, XGBoost, Algos, AutoML, Core V3, Core V4</td></tr>\n",
       "<tr><td>Python version:</td>\n",
       "<td>3.7.2 final</td></tr></table></div>"
      ],
      "text/plain": [
       "--------------------------  ---------------------------------------------------\n",
       "H2O cluster uptime:         6 mins 30 secs\n",
       "H2O cluster timezone:       America/New_York\n",
       "H2O data parsing timezone:  UTC\n",
       "H2O cluster version:        3.24.0.1\n",
       "H2O cluster version age:    22 days\n",
       "H2O cluster name:           H2O_from_python_mandy_fh8pqh\n",
       "H2O cluster total nodes:    1\n",
       "H2O cluster free memory:    84.4 Gb\n",
       "H2O cluster total cores:    12\n",
       "H2O cluster allowed cores:  12\n",
       "H2O cluster status:         locked, healthy\n",
       "H2O connection url:         http://localhost:54321\n",
       "H2O connection proxy:\n",
       "H2O internal security:      False\n",
       "H2O API Extensions:         Amazon S3, XGBoost, Algos, AutoML, Core V3, Core V4\n",
       "Python version:             3.7.2 final\n",
       "--------------------------  ---------------------------------------------------"
      ]
     },
     "metadata": {},
     "output_type": "display_data"
    }
   ],
   "source": [
    "h2o.init(strict_version_check=False,max_mem_size=min_mem_size)"
   ]
  },
  {
   "cell_type": "markdown",
   "metadata": {},
   "source": [
    "## 1.2 Data Import & Parse"
   ]
  },
  {
   "cell_type": "code",
   "execution_count": 4,
   "metadata": {},
   "outputs": [
    {
     "name": "stdout",
     "output_type": "stream",
     "text": [
      "Parse progress: |█████████████████████████████████████████████████████████| 100%\n"
     ]
    }
   ],
   "source": [
    "data_path = \"data/AmazonReviews.Small.csv\"\n",
    "\n",
    "# Load data into H2O\n",
    "reviews = h2o.import_file(data_path)"
   ]
  },
  {
   "cell_type": "code",
   "execution_count": 5,
   "metadata": {},
   "outputs": [
    {
     "data": {
      "text/plain": [
       "(55554, 10)"
      ]
     },
     "execution_count": 5,
     "metadata": {},
     "output_type": "execute_result"
    }
   ],
   "source": [
    "reviews.shape"
   ]
  },
  {
   "cell_type": "code",
   "execution_count": 6,
   "metadata": {
    "scrolled": false
   },
   "outputs": [
    {
     "data": {
      "text/html": [
       "<table>\n",
       "<thead>\n",
       "<tr><th>ProductId  </th><th>UserId        </th><th>Summary                     </th><th style=\"text-align: right;\">  Score</th><th style=\"text-align: right;\">  HelpfulnessDenominator</th><th style=\"text-align: right;\">    Id</th><th>ProfileName        </th><th style=\"text-align: right;\">  HelpfulnessNumerator</th><th style=\"text-align: right;\">       Time</th><th>Text                                                                                                                                                                                                                                                                                                                                                                            </th></tr>\n",
       "</thead>\n",
       "<tbody>\n",
       "<tr><td>B00141QYSQ </td><td>A1YS02UZZGRDCT</td><td>Do Not Buy                  </td><td style=\"text-align: right;\">      1</td><td style=\"text-align: right;\">                       2</td><td style=\"text-align: right;\"> 41471</td><td>Evan Eberhardt     </td><td style=\"text-align: right;\">                     2</td><td style=\"text-align: right;\">1.34836e+09</td><td>These are made in China (do not buy ANY pet food from China).  Dogswell has been using propylene glycol to soften their treats (what are they thinkng?).  Do not purchase or support this company in any way until they clean up their act.  And for whatever reason Amazon doesn't allow returns of this item, so I had to toss mine out.  Bad business all around on this one.</td></tr>\n",
       "<tr><td>B0089SPEO2 </td><td>A3JOYNYL458QHP</td><td>Less lemon and less zing    </td><td style=\"text-align: right;\">      3</td><td style=\"text-align: right;\">                       0</td><td style=\"text-align: right;\"> 28582</td><td>coleridge          </td><td style=\"text-align: right;\">                     0</td><td style=\"text-align: right;\">1.32391e+09</td><td>Everything is ok, except it just isn't as good as it is in the bags.  Just considerably more bland -- less lemon and less zing.  Boring.                                                                                                                                                                                                                                        </td></tr>\n",
       "<tr><td>B001PMCDK2 </td><td>A14TTMM0Z03Y2W</td><td>my cat goes crazy for these!</td><td style=\"text-align: right;\">      5</td><td style=\"text-align: right;\">                       0</td><td style=\"text-align: right;\">389965</td><td>Lindsay S. Bradford</td><td style=\"text-align: right;\">                     0</td><td style=\"text-align: right;\">1.3106e+09 </td><td>Best cat treat ever. There isn't anything comparable to the love my cat has for these treats, he snubs away any other kind now.<br />I know he likes to manipulate me with his cattiness but these treats are my way of manipulating him to come sit on my lap and have some chill time. :)                                                                                     </td></tr>\n",
       "</tbody>\n",
       "</table>"
      ]
     },
     "metadata": {},
     "output_type": "display_data"
    },
    {
     "data": {
      "text/plain": []
     },
     "execution_count": 6,
     "metadata": {},
     "output_type": "execute_result"
    }
   ],
   "source": [
    "reviews.head(3)"
   ]
  },
  {
   "cell_type": "code",
   "execution_count": 7,
   "metadata": {},
   "outputs": [
    {
     "name": "stdout",
     "output_type": "stream",
     "text": [
      "{'ProductId': 'enum', 'UserId': 'enum', 'Summary': 'enum', 'Score': 'int', 'HelpfulnessDenominator': 'int', 'Id': 'int', 'ProfileName': 'enum', 'HelpfulnessNumerator': 'int', 'Time': 'int', 'Text': 'string'}\n"
     ]
    }
   ],
   "source": [
    "print(reviews.types)"
   ]
  },
  {
   "cell_type": "code",
   "execution_count": 8,
   "metadata": {},
   "outputs": [],
   "source": [
    "reviews['PositiveReview']=(reviews['Score']>=reviews['Score'].mean()[0]).ifelse('1','0')"
   ]
  },
  {
   "cell_type": "code",
   "execution_count": 9,
   "metadata": {},
   "outputs": [
    {
     "data": {
      "text/html": [
       "<table>\n",
       "<thead>\n",
       "<tr><th style=\"text-align: right;\">  PositiveReview</th><th style=\"text-align: right;\">  Count</th></tr>\n",
       "</thead>\n",
       "<tbody>\n",
       "<tr><td style=\"text-align: right;\">               0</td><td style=\"text-align: right;\">  20106</td></tr>\n",
       "<tr><td style=\"text-align: right;\">               1</td><td style=\"text-align: right;\">  35448</td></tr>\n",
       "</tbody>\n",
       "</table>"
      ]
     },
     "metadata": {},
     "output_type": "display_data"
    },
    {
     "data": {
      "text/plain": []
     },
     "execution_count": 9,
     "metadata": {},
     "output_type": "execute_result"
    }
   ],
   "source": [
    "reviews['PositiveReview'].table()"
   ]
  },
  {
   "cell_type": "code",
   "execution_count": 10,
   "metadata": {},
   "outputs": [],
   "source": [
    "# Find the 80th quantile of time in the dataset\n",
    "time_split = reviews[\"Time\"].quantile(prob = [0.8])[1]\n",
    "reviews[\"Train\"] = (reviews[\"Time\"] < time_split).ifelse(\"Yes\", \"No\")"
   ]
  },
  {
   "cell_type": "code",
   "execution_count": 11,
   "metadata": {},
   "outputs": [
    {
     "data": {
      "text/html": [
       "<table>\n",
       "<thead>\n",
       "<tr><th>Train  </th><th style=\"text-align: right;\">  Count</th></tr>\n",
       "</thead>\n",
       "<tbody>\n",
       "<tr><td>No     </td><td style=\"text-align: right;\">  11152</td></tr>\n",
       "<tr><td>Yes    </td><td style=\"text-align: right;\">  44402</td></tr>\n",
       "</tbody>\n",
       "</table>"
      ]
     },
     "metadata": {},
     "output_type": "display_data"
    },
    {
     "data": {
      "text/plain": []
     },
     "execution_count": 11,
     "metadata": {},
     "output_type": "execute_result"
    }
   ],
   "source": [
    "reviews['Train'].table()"
   ]
  },
  {
   "cell_type": "code",
   "execution_count": 12,
   "metadata": {},
   "outputs": [],
   "source": [
    "train = reviews[reviews[\"Train\"] == \"Yes\"]\n",
    "test = reviews[reviews[\"Train\"] == \"No\"]"
   ]
  },
  {
   "cell_type": "markdown",
   "metadata": {},
   "source": [
    "## 1.3 Tokenize Words in Review"
   ]
  },
  {
   "cell_type": "code",
   "execution_count": 13,
   "metadata": {},
   "outputs": [],
   "source": [
    "data_path = \"data/stopwords.csv\"\n",
    "STOP_WORDS = pd.read_csv(data_path, header=0)"
   ]
  },
  {
   "cell_type": "code",
   "execution_count": 14,
   "metadata": {},
   "outputs": [
    {
     "data": {
      "text/html": [
       "<div>\n",
       "<style scoped>\n",
       "    .dataframe tbody tr th:only-of-type {\n",
       "        vertical-align: middle;\n",
       "    }\n",
       "\n",
       "    .dataframe tbody tr th {\n",
       "        vertical-align: top;\n",
       "    }\n",
       "\n",
       "    .dataframe thead th {\n",
       "        text-align: right;\n",
       "    }\n",
       "</style>\n",
       "<table border=\"1\" class=\"dataframe\">\n",
       "  <thead>\n",
       "    <tr style=\"text-align: right;\">\n",
       "      <th></th>\n",
       "      <th>STOP_WORD</th>\n",
       "    </tr>\n",
       "  </thead>\n",
       "  <tbody>\n",
       "    <tr>\n",
       "      <th>0</th>\n",
       "      <td>all</td>\n",
       "    </tr>\n",
       "    <tr>\n",
       "      <th>1</th>\n",
       "      <td>just</td>\n",
       "    </tr>\n",
       "    <tr>\n",
       "      <th>2</th>\n",
       "      <td>being</td>\n",
       "    </tr>\n",
       "    <tr>\n",
       "      <th>3</th>\n",
       "      <td>over</td>\n",
       "    </tr>\n",
       "    <tr>\n",
       "      <th>4</th>\n",
       "      <td>both</td>\n",
       "    </tr>\n",
       "  </tbody>\n",
       "</table>\n",
       "</div>"
      ],
      "text/plain": [
       "  STOP_WORD\n",
       "0       all\n",
       "1      just\n",
       "2     being\n",
       "3      over\n",
       "4      both"
      ]
     },
     "execution_count": 14,
     "metadata": {},
     "output_type": "execute_result"
    }
   ],
   "source": [
    "STOP_WORDS.head()"
   ]
  },
  {
   "cell_type": "code",
   "execution_count": 15,
   "metadata": {},
   "outputs": [],
   "source": [
    "STOP_WORDS = list(STOP_WORDS['STOP_WORD'])"
   ]
  },
  {
   "cell_type": "code",
   "execution_count": 16,
   "metadata": {},
   "outputs": [],
   "source": [
    "def tokenize(sentences, stop_word = STOP_WORDS):\n",
    "    tokenized = sentences.tokenize(\"\\\\W+\")\n",
    "    tokenized_lower = tokenized.tolower()\n",
    "    tokenized_filtered = tokenized_lower[(tokenized_lower.nchar() >= 2) | (tokenized_lower.isna()),:]\n",
    "    tokenized_words = tokenized_filtered[tokenized_filtered.grep(\"[0-9]\",invert=True,output_logical=True),:]\n",
    "    tokenized_words = tokenized_words[(tokenized_words.isna()) | (~ tokenized_words.isin(STOP_WORDS)),:]\n",
    "    return tokenized_words"
   ]
  },
  {
   "cell_type": "code",
   "execution_count": 17,
   "metadata": {},
   "outputs": [],
   "source": [
    "# Break reviews into sequence of words\n",
    "words = tokenize(reviews[\"Text\"])"
   ]
  },
  {
   "cell_type": "code",
   "execution_count": 18,
   "metadata": {},
   "outputs": [
    {
     "data": {
      "text/html": [
       "<table>\n",
       "<thead>\n",
       "<tr><th>C1       </th></tr>\n",
       "</thead>\n",
       "<tbody>\n",
       "<tr><td>made     </td></tr>\n",
       "<tr><td>china    </td></tr>\n",
       "<tr><td>buy      </td></tr>\n",
       "<tr><td>pet      </td></tr>\n",
       "<tr><td>food     </td></tr>\n",
       "<tr><td>china    </td></tr>\n",
       "<tr><td>dogswell </td></tr>\n",
       "<tr><td>using    </td></tr>\n",
       "<tr><td>propylene</td></tr>\n",
       "<tr><td>glycol   </td></tr>\n",
       "</tbody>\n",
       "</table>"
      ]
     },
     "metadata": {},
     "output_type": "display_data"
    },
    {
     "data": {
      "text/plain": []
     },
     "execution_count": 18,
     "metadata": {},
     "output_type": "execute_result"
    }
   ],
   "source": [
    "words.head()"
   ]
  },
  {
   "cell_type": "markdown",
   "metadata": {},
   "source": [
    "## 1.4 Word2Vec Model"
   ]
  },
  {
   "cell_type": "code",
   "execution_count": 19,
   "metadata": {},
   "outputs": [
    {
     "name": "stdout",
     "output_type": "stream",
     "text": [
      "word2vec Model Build progress: |██████████████████████████████████████████| 100%\n"
     ]
    },
    {
     "data": {
      "text/plain": [
       "'/Users/mandy/Documents/Study/AI-Addin/data/w2v.hex'"
      ]
     },
     "execution_count": 19,
     "metadata": {},
     "output_type": "execute_result"
    }
   ],
   "source": [
    "# Train Word2Vec Model\n",
    "from h2o.estimators.word2vec import H2OWord2vecEstimator\n",
    "\n",
    "\n",
    "w2v_model = H2OWord2vecEstimator(vec_size = 100, model_id = \"w2v.hex\")\n",
    "w2v_model.train(training_frame=words)\n",
    "\n",
    "models_path='data'\n",
    "h2o.save_model(w2v_model, path = models_path, force = True)"
   ]
  },
  {
   "cell_type": "code",
   "execution_count": 20,
   "metadata": {},
   "outputs": [
    {
     "data": {
      "text/plain": [
       "OrderedDict([('coffe', 0.7893892526626587),\n",
       "             ('brew', 0.7611320614814758),\n",
       "             ('coffees', 0.7606731653213501),\n",
       "             ('espresso', 0.7463240623474121),\n",
       "             ('expresso', 0.7416109442710876)])"
      ]
     },
     "execution_count": 20,
     "metadata": {},
     "output_type": "execute_result"
    }
   ],
   "source": [
    "# Sanity check - find synonyms for the word 'coffee'\n",
    "w2v_model.find_synonyms(\"coffee\", count = 5)"
   ]
  },
  {
   "cell_type": "code",
   "execution_count": 21,
   "metadata": {},
   "outputs": [
    {
     "data": {
      "text/plain": [
       "OrderedDict([('inedible', 0.665727436542511),\n",
       "             ('rancid', 0.6598020195960999),\n",
       "             ('tasteless', 0.6446768641471863),\n",
       "             ('unedible', 0.6356924772262573),\n",
       "             ('musty', 0.6313808560371399)])"
      ]
     },
     "execution_count": 21,
     "metadata": {},
     "output_type": "execute_result"
    }
   ],
   "source": [
    "# Sanity check - find synonyms for the word 'stale'\n",
    "w2v_model.find_synonyms(\"stale\", count = 5)"
   ]
  },
  {
   "cell_type": "code",
   "execution_count": 22,
   "metadata": {},
   "outputs": [
    {
     "data": {
      "text/html": [
       "<table>\n",
       "<thead>\n",
       "<tr><th style=\"text-align: right;\">         C1</th><th style=\"text-align: right;\">       C2</th><th style=\"text-align: right;\">          C3</th><th style=\"text-align: right;\">        C4</th><th style=\"text-align: right;\">        C5</th><th style=\"text-align: right;\">         C6</th><th style=\"text-align: right;\">          C7</th><th style=\"text-align: right;\">         C8</th><th style=\"text-align: right;\">          C9</th><th style=\"text-align: right;\">       C10</th><th style=\"text-align: right;\">       C11</th><th style=\"text-align: right;\">        C12</th><th style=\"text-align: right;\">        C13</th><th style=\"text-align: right;\">        C14</th><th style=\"text-align: right;\">        C15</th><th style=\"text-align: right;\">       C16</th><th style=\"text-align: right;\">      C17</th><th style=\"text-align: right;\">       C18</th><th style=\"text-align: right;\">       C19</th><th style=\"text-align: right;\">         C20</th><th style=\"text-align: right;\">        C21</th><th style=\"text-align: right;\">       C22</th><th style=\"text-align: right;\">        C23</th><th style=\"text-align: right;\">        C24</th><th style=\"text-align: right;\">       C25</th><th style=\"text-align: right;\">        C26</th><th style=\"text-align: right;\">       C27</th><th style=\"text-align: right;\">        C28</th><th style=\"text-align: right;\">        C29</th><th style=\"text-align: right;\">       C30</th><th style=\"text-align: right;\">      C31</th><th style=\"text-align: right;\">     C32</th><th style=\"text-align: right;\">       C33</th><th style=\"text-align: right;\">      C34</th><th style=\"text-align: right;\">       C35</th><th style=\"text-align: right;\">       C36</th><th style=\"text-align: right;\">       C37</th><th style=\"text-align: right;\">       C38</th><th style=\"text-align: right;\">       C39</th><th style=\"text-align: right;\">       C40</th><th style=\"text-align: right;\">        C41</th><th style=\"text-align: right;\">       C42</th><th style=\"text-align: right;\">      C43</th><th style=\"text-align: right;\">        C44</th><th style=\"text-align: right;\">        C45</th><th style=\"text-align: right;\">        C46</th><th style=\"text-align: right;\">       C47</th><th style=\"text-align: right;\">        C48</th><th style=\"text-align: right;\">        C49</th><th style=\"text-align: right;\">       C50</th><th style=\"text-align: right;\">       C51</th><th style=\"text-align: right;\">        C52</th><th style=\"text-align: right;\">       C53</th><th style=\"text-align: right;\">      C54</th><th style=\"text-align: right;\">       C55</th><th style=\"text-align: right;\">        C56</th><th style=\"text-align: right;\">       C57</th><th style=\"text-align: right;\">      C58</th><th style=\"text-align: right;\">        C59</th><th style=\"text-align: right;\">        C60</th><th style=\"text-align: right;\">         C61</th><th style=\"text-align: right;\">      C62</th><th style=\"text-align: right;\">       C63</th><th style=\"text-align: right;\">        C64</th><th style=\"text-align: right;\">       C65</th><th style=\"text-align: right;\">        C66</th><th style=\"text-align: right;\">        C67</th><th style=\"text-align: right;\">       C68</th><th style=\"text-align: right;\">        C69</th><th style=\"text-align: right;\">        C70</th><th style=\"text-align: right;\">        C71</th><th style=\"text-align: right;\">        C72</th><th style=\"text-align: right;\">         C73</th><th style=\"text-align: right;\">       C74</th><th style=\"text-align: right;\">       C75</th><th style=\"text-align: right;\">       C76</th><th style=\"text-align: right;\">         C77</th><th style=\"text-align: right;\">        C78</th><th style=\"text-align: right;\">       C79</th><th style=\"text-align: right;\">       C80</th><th style=\"text-align: right;\">        C81</th><th style=\"text-align: right;\">        C82</th><th style=\"text-align: right;\">        C83</th><th style=\"text-align: right;\">       C84</th><th style=\"text-align: right;\">       C85</th><th style=\"text-align: right;\">       C86</th><th style=\"text-align: right;\">       C87</th><th style=\"text-align: right;\">       C88</th><th style=\"text-align: right;\">       C89</th><th style=\"text-align: right;\">      C90</th><th style=\"text-align: right;\">       C91</th><th style=\"text-align: right;\">       C92</th><th style=\"text-align: right;\">       C93</th><th style=\"text-align: right;\">         C94</th><th style=\"text-align: right;\">        C95</th><th style=\"text-align: right;\">        C96</th><th style=\"text-align: right;\">        C97</th><th style=\"text-align: right;\">        C98</th><th style=\"text-align: right;\">        C99</th><th style=\"text-align: right;\">      C100</th></tr>\n",
       "</thead>\n",
       "<tbody>\n",
       "<tr><td style=\"text-align: right;\">-0.00673346</td><td style=\"text-align: right;\">0.138516 </td><td style=\"text-align: right;\"> 0.00536622 </td><td style=\"text-align: right;\">-0.0492389</td><td style=\"text-align: right;\"> 0.0159911</td><td style=\"text-align: right;\">-0.215284  </td><td style=\"text-align: right;\"> 0.0215764  </td><td style=\"text-align: right;\">-0.212132  </td><td style=\"text-align: right;\"> 0.0141887  </td><td style=\"text-align: right;\">-0.0231987</td><td style=\"text-align: right;\">-0.129713 </td><td style=\"text-align: right;\"> 0.00803689</td><td style=\"text-align: right;\"> 0.0834671 </td><td style=\"text-align: right;\"> 0.0146434 </td><td style=\"text-align: right;\">-0.0215384 </td><td style=\"text-align: right;\">-0.081659 </td><td style=\"text-align: right;\">0.106969 </td><td style=\"text-align: right;\"> 0.0898843</td><td style=\"text-align: right;\"> 0.0581625</td><td style=\"text-align: right;\">-0.0343757  </td><td style=\"text-align: right;\">-0.0352144 </td><td style=\"text-align: right;\">-0.262466 </td><td style=\"text-align: right;\"> 0.0347936 </td><td style=\"text-align: right;\">-0.00573343</td><td style=\"text-align: right;\"> 0.0828813</td><td style=\"text-align: right;\">-0.0309528 </td><td style=\"text-align: right;\"> 0.0338674</td><td style=\"text-align: right;\">-0.0829125 </td><td style=\"text-align: right;\">-0.0816757 </td><td style=\"text-align: right;\">-0.0518085</td><td style=\"text-align: right;\">0.110838 </td><td style=\"text-align: right;\">0.194172</td><td style=\"text-align: right;\">0.165707  </td><td style=\"text-align: right;\">-0.200362</td><td style=\"text-align: right;\">-0.0276656</td><td style=\"text-align: right;\">-0.208756 </td><td style=\"text-align: right;\"> 0.0473959</td><td style=\"text-align: right;\">-0.126167 </td><td style=\"text-align: right;\"> 0.015811 </td><td style=\"text-align: right;\">-0.110748 </td><td style=\"text-align: right;\"> 0.141738  </td><td style=\"text-align: right;\">-0.222133 </td><td style=\"text-align: right;\">0.231704 </td><td style=\"text-align: right;\">-0.103909  </td><td style=\"text-align: right;\">-0.0319442 </td><td style=\"text-align: right;\">-0.017136  </td><td style=\"text-align: right;\">-0.0923194</td><td style=\"text-align: right;\">-0.00225656</td><td style=\"text-align: right;\"> 0.075541  </td><td style=\"text-align: right;\">-0.123125 </td><td style=\"text-align: right;\"> 0.0636505</td><td style=\"text-align: right;\">-0.0464714 </td><td style=\"text-align: right;\">-0.173046 </td><td style=\"text-align: right;\">0.105927 </td><td style=\"text-align: right;\"> 0.0477022</td><td style=\"text-align: right;\">-0.139712  </td><td style=\"text-align: right;\">-0.166252 </td><td style=\"text-align: right;\">0.222571 </td><td style=\"text-align: right;\"> 0.0313323 </td><td style=\"text-align: right;\"> 0.050401  </td><td style=\"text-align: right;\">-0.138379   </td><td style=\"text-align: right;\">0.19744  </td><td style=\"text-align: right;\"> 0.0250262</td><td style=\"text-align: right;\">-0.0903883 </td><td style=\"text-align: right;\">-0.0564089</td><td style=\"text-align: right;\">-0.0862252 </td><td style=\"text-align: right;\">-0.139518  </td><td style=\"text-align: right;\">-0.0818972</td><td style=\"text-align: right;\"> 0.00411978</td><td style=\"text-align: right;\"> 0.0381945 </td><td style=\"text-align: right;\"> 0.177508  </td><td style=\"text-align: right;\">-0.0307329 </td><td style=\"text-align: right;\"> 0.186346   </td><td style=\"text-align: right;\"> 0.0317712</td><td style=\"text-align: right;\">-0.022985 </td><td style=\"text-align: right;\">-0.0681446</td><td style=\"text-align: right;\">-3.16305e-05</td><td style=\"text-align: right;\"> 0.119122  </td><td style=\"text-align: right;\">-0.0437245</td><td style=\"text-align: right;\"> 0.0417158</td><td style=\"text-align: right;\"> 0.00334229</td><td style=\"text-align: right;\"> 0.134196  </td><td style=\"text-align: right;\"> 0.165307  </td><td style=\"text-align: right;\">-0.0476005</td><td style=\"text-align: right;\">-0.0936798</td><td style=\"text-align: right;\">-0.0959532</td><td style=\"text-align: right;\"> 0.0178056</td><td style=\"text-align: right;\"> 0.121738 </td><td style=\"text-align: right;\"> 0.0434943</td><td style=\"text-align: right;\">0.0587462</td><td style=\"text-align: right;\">-0.0329062</td><td style=\"text-align: right;\">-0.0256889</td><td style=\"text-align: right;\">-0.270224 </td><td style=\"text-align: right;\"> 0.0500385  </td><td style=\"text-align: right;\"> 0.0345928 </td><td style=\"text-align: right;\">-0.0452278 </td><td style=\"text-align: right;\">-0.0195481 </td><td style=\"text-align: right;\">-0.120581  </td><td style=\"text-align: right;\"> 0.0680059 </td><td style=\"text-align: right;\">-0.125823 </td></tr>\n",
       "<tr><td style=\"text-align: right;\">-0.00926229</td><td style=\"text-align: right;\">0.125367 </td><td style=\"text-align: right;\">-0.0781425  </td><td style=\"text-align: right;\"> 0.0554807</td><td style=\"text-align: right;\"> 0.0646466</td><td style=\"text-align: right;\">-0.046037  </td><td style=\"text-align: right;\">-0.220161   </td><td style=\"text-align: right;\">-0.199498  </td><td style=\"text-align: right;\">-0.0481974  </td><td style=\"text-align: right;\"> 0.0463867</td><td style=\"text-align: right;\">-0.174281 </td><td style=\"text-align: right;\">-0.198949  </td><td style=\"text-align: right;\"> 0.0612451 </td><td style=\"text-align: right;\"> 0.0836036 </td><td style=\"text-align: right;\"> 0.117641  </td><td style=\"text-align: right;\">-0.106931 </td><td style=\"text-align: right;\">0.248301 </td><td style=\"text-align: right;\">-0.0611632</td><td style=\"text-align: right;\">-0.149056 </td><td style=\"text-align: right;\"> 0.000799491</td><td style=\"text-align: right;\"> 0.191638  </td><td style=\"text-align: right;\">-0.174702 </td><td style=\"text-align: right;\">-0.0879673 </td><td style=\"text-align: right;\"> 0.00862672</td><td style=\"text-align: right;\"> 0.16769  </td><td style=\"text-align: right;\">-0.00759495</td><td style=\"text-align: right;\"> 0.0708105</td><td style=\"text-align: right;\"> 0.0203573 </td><td style=\"text-align: right;\">-0.0052044 </td><td style=\"text-align: right;\">-0.137299 </td><td style=\"text-align: right;\">0.0879493</td><td style=\"text-align: right;\">0.241423</td><td style=\"text-align: right;\">0.0740693 </td><td style=\"text-align: right;\">-0.104073</td><td style=\"text-align: right;\">-0.0928337</td><td style=\"text-align: right;\"> 0.121081 </td><td style=\"text-align: right;\">-0.0371581</td><td style=\"text-align: right;\"> 0.0787184</td><td style=\"text-align: right;\">-0.0569764</td><td style=\"text-align: right;\">-0.102209 </td><td style=\"text-align: right;\"> 0.0520173 </td><td style=\"text-align: right;\">-0.0653757</td><td style=\"text-align: right;\">0.207274 </td><td style=\"text-align: right;\"> 0.0102506 </td><td style=\"text-align: right;\">-0.0913367 </td><td style=\"text-align: right;\">-0.0545334 </td><td style=\"text-align: right;\">-0.0286182</td><td style=\"text-align: right;\"> 0.023405  </td><td style=\"text-align: right;\">-0.00228351</td><td style=\"text-align: right;\">-0.0028999</td><td style=\"text-align: right;\"> 0.253373 </td><td style=\"text-align: right;\"> 0.0649332 </td><td style=\"text-align: right;\"> 0.0054025</td><td style=\"text-align: right;\">0.125057 </td><td style=\"text-align: right;\"> 0.155357 </td><td style=\"text-align: right;\"> 0.0978915 </td><td style=\"text-align: right;\"> 0.0138259</td><td style=\"text-align: right;\">0.133865 </td><td style=\"text-align: right;\"> 0.00265835</td><td style=\"text-align: right;\"> 0.0532437 </td><td style=\"text-align: right;\">-0.122081   </td><td style=\"text-align: right;\">0.0992892</td><td style=\"text-align: right;\">-0.090146 </td><td style=\"text-align: right;\"> 0.00919861</td><td style=\"text-align: right;\">-0.0677997</td><td style=\"text-align: right;\"> 0.00327377</td><td style=\"text-align: right;\"> 0.0200766 </td><td style=\"text-align: right;\">-0.0560634</td><td style=\"text-align: right;\">-0.0177063 </td><td style=\"text-align: right;\"> 0.0220796 </td><td style=\"text-align: right;\">-0.0135111 </td><td style=\"text-align: right;\"> 0.196974  </td><td style=\"text-align: right;\"> 0.126861   </td><td style=\"text-align: right;\">-0.0683619</td><td style=\"text-align: right;\"> 0.138663 </td><td style=\"text-align: right;\">-0.119051 </td><td style=\"text-align: right;\"> 0.00730411 </td><td style=\"text-align: right;\">-0.0935161 </td><td style=\"text-align: right;\"> 0.0391973</td><td style=\"text-align: right;\">-0.0166708</td><td style=\"text-align: right;\"> 0.00291891</td><td style=\"text-align: right;\"> 0.0484678 </td><td style=\"text-align: right;\"> 0.183502  </td><td style=\"text-align: right;\"> 0.114297 </td><td style=\"text-align: right;\">-0.0382902</td><td style=\"text-align: right;\">-0.174614 </td><td style=\"text-align: right;\">-0.0914975</td><td style=\"text-align: right;\"> 0.056517 </td><td style=\"text-align: right;\">-0.0644362</td><td style=\"text-align: right;\">0.205295 </td><td style=\"text-align: right;\">-0.0429726</td><td style=\"text-align: right;\"> 0.0230162</td><td style=\"text-align: right;\">-0.159331 </td><td style=\"text-align: right;\"> 0.0590983  </td><td style=\"text-align: right;\"> 0.133523  </td><td style=\"text-align: right;\"> 0.00918488</td><td style=\"text-align: right;\">-0.138713  </td><td style=\"text-align: right;\"> 0.0618043 </td><td style=\"text-align: right;\">-0.0444069 </td><td style=\"text-align: right;\">-0.0118911</td></tr>\n",
       "<tr><td style=\"text-align: right;\"> 0.0645578 </td><td style=\"text-align: right;\">0.0514826</td><td style=\"text-align: right;\">-0.000335778</td><td style=\"text-align: right;\">-0.022036 </td><td style=\"text-align: right;\"> 0.0974528</td><td style=\"text-align: right;\"> 0.00202656</td><td style=\"text-align: right;\">-0.159408   </td><td style=\"text-align: right;\"> 0.0136653 </td><td style=\"text-align: right;\"> 0.0635754  </td><td style=\"text-align: right;\">-0.0171529</td><td style=\"text-align: right;\">-0.117997 </td><td style=\"text-align: right;\">-0.0795961 </td><td style=\"text-align: right;\">-0.0882959 </td><td style=\"text-align: right;\"> 0.102247  </td><td style=\"text-align: right;\"> 0.00623831</td><td style=\"text-align: right;\">-0.135644 </td><td style=\"text-align: right;\">0.0864854</td><td style=\"text-align: right;\"> 0.0656414</td><td style=\"text-align: right;\"> 0.0452451</td><td style=\"text-align: right;\"> 0.115625   </td><td style=\"text-align: right;\"> 0.112722  </td><td style=\"text-align: right;\">-0.269311 </td><td style=\"text-align: right;\"> 0.051456  </td><td style=\"text-align: right;\">-0.0243841 </td><td style=\"text-align: right;\"> 0.204821 </td><td style=\"text-align: right;\"> 0.126388  </td><td style=\"text-align: right;\">-0.0559646</td><td style=\"text-align: right;\"> 0.00642317</td><td style=\"text-align: right;\">-0.0741284 </td><td style=\"text-align: right;\"> 0.0357255</td><td style=\"text-align: right;\">0.101446 </td><td style=\"text-align: right;\">0.101601</td><td style=\"text-align: right;\">0.080844  </td><td style=\"text-align: right;\">-0.219866</td><td style=\"text-align: right;\">-0.0567231</td><td style=\"text-align: right;\">-0.168659 </td><td style=\"text-align: right;\"> 0.104485 </td><td style=\"text-align: right;\">-0.146287 </td><td style=\"text-align: right;\">-0.0108722</td><td style=\"text-align: right;\">-0.0699547</td><td style=\"text-align: right;\"> 0.0721822 </td><td style=\"text-align: right;\">-0.15392  </td><td style=\"text-align: right;\">0.266723 </td><td style=\"text-align: right;\">-0.0449351 </td><td style=\"text-align: right;\">-0.0101611 </td><td style=\"text-align: right;\">-0.081506  </td><td style=\"text-align: right;\">-0.0431078</td><td style=\"text-align: right;\"> 0.0892107 </td><td style=\"text-align: right;\">-0.0236416 </td><td style=\"text-align: right;\">-0.0576266</td><td style=\"text-align: right;\"> 0.133324 </td><td style=\"text-align: right;\"> 0.0460422 </td><td style=\"text-align: right;\">-0.0919176</td><td style=\"text-align: right;\">0.131248 </td><td style=\"text-align: right;\"> 0.128033 </td><td style=\"text-align: right;\">-0.0170562 </td><td style=\"text-align: right;\">-0.0976307</td><td style=\"text-align: right;\">0.14603  </td><td style=\"text-align: right;\"> 0.0395229 </td><td style=\"text-align: right;\"> 0.00438325</td><td style=\"text-align: right;\">-0.0566625  </td><td style=\"text-align: right;\">0.185354 </td><td style=\"text-align: right;\">-0.0495215</td><td style=\"text-align: right;\">-0.21975   </td><td style=\"text-align: right;\">-0.0694211</td><td style=\"text-align: right;\"> 0.0723376 </td><td style=\"text-align: right;\">-0.085919  </td><td style=\"text-align: right;\">-0.242306 </td><td style=\"text-align: right;\"> 0.055132  </td><td style=\"text-align: right;\">-0.0106866 </td><td style=\"text-align: right;\"> 0.0324946 </td><td style=\"text-align: right;\"> 0.0126905 </td><td style=\"text-align: right;\"> 0.242577   </td><td style=\"text-align: right;\"> 0.0122209</td><td style=\"text-align: right;\"> 0.111441 </td><td style=\"text-align: right;\">-0.035634 </td><td style=\"text-align: right;\"> 0.0938394  </td><td style=\"text-align: right;\">-0.0521078 </td><td style=\"text-align: right;\">-0.0312814</td><td style=\"text-align: right;\">-0.0448192</td><td style=\"text-align: right;\">-0.0244919 </td><td style=\"text-align: right;\"> 0.0310073 </td><td style=\"text-align: right;\"> 0.0898497 </td><td style=\"text-align: right;\">-0.0540329</td><td style=\"text-align: right;\">-0.216453 </td><td style=\"text-align: right;\">-0.107421 </td><td style=\"text-align: right;\">-0.0224392</td><td style=\"text-align: right;\"> 0.111498 </td><td style=\"text-align: right;\">-0.0564507</td><td style=\"text-align: right;\">0.0880613</td><td style=\"text-align: right;\"> 0.0595434</td><td style=\"text-align: right;\">-0.0695728</td><td style=\"text-align: right;\">-0.179166 </td><td style=\"text-align: right;\"> 0.0318767  </td><td style=\"text-align: right;\"> 0.0625963 </td><td style=\"text-align: right;\"> 0.098741  </td><td style=\"text-align: right;\"> 0.0756309 </td><td style=\"text-align: right;\">-0.0660988 </td><td style=\"text-align: right;\"> 0.0312488 </td><td style=\"text-align: right;\">-0.0622675</td></tr>\n",
       "<tr><td style=\"text-align: right;\"> 0.104856  </td><td style=\"text-align: right;\">0.113704 </td><td style=\"text-align: right;\"> 0.102924   </td><td style=\"text-align: right;\">-0.0212247</td><td style=\"text-align: right;\"> 0.0905562</td><td style=\"text-align: right;\">-0.0477681 </td><td style=\"text-align: right;\">-0.0666254  </td><td style=\"text-align: right;\">-0.00896991</td><td style=\"text-align: right;\"> 0.0603932  </td><td style=\"text-align: right;\">-0.0150022</td><td style=\"text-align: right;\">-0.0891916</td><td style=\"text-align: right;\"> 0.0664903 </td><td style=\"text-align: right;\">-0.0067567 </td><td style=\"text-align: right;\"> 0.0138413 </td><td style=\"text-align: right;\"> 0.0042151 </td><td style=\"text-align: right;\">-0.0784333</td><td style=\"text-align: right;\">0.222113 </td><td style=\"text-align: right;\">-0.0425604</td><td style=\"text-align: right;\"> 0.0152847</td><td style=\"text-align: right;\"> 0.0518078  </td><td style=\"text-align: right;\"> 0.0881551 </td><td style=\"text-align: right;\">-0.309256 </td><td style=\"text-align: right;\">-0.0460361 </td><td style=\"text-align: right;\"> 0.0429816 </td><td style=\"text-align: right;\"> 0.139552 </td><td style=\"text-align: right;\"> 0.0483533 </td><td style=\"text-align: right;\">-0.0870011</td><td style=\"text-align: right;\"> 0.0358042 </td><td style=\"text-align: right;\">-0.0430379 </td><td style=\"text-align: right;\">-0.0238981</td><td style=\"text-align: right;\">0.141971 </td><td style=\"text-align: right;\">0.176541</td><td style=\"text-align: right;\">0.1564    </td><td style=\"text-align: right;\">-0.289592</td><td style=\"text-align: right;\">-0.0335268</td><td style=\"text-align: right;\">-0.051149 </td><td style=\"text-align: right;\"> 0.0847695</td><td style=\"text-align: right;\">-0.188462 </td><td style=\"text-align: right;\">-0.114972 </td><td style=\"text-align: right;\">-0.0121263</td><td style=\"text-align: right;\"> 0.0469859 </td><td style=\"text-align: right;\">-0.180821 </td><td style=\"text-align: right;\">0.18762  </td><td style=\"text-align: right;\">-0.0221241 </td><td style=\"text-align: right;\">-0.0209186 </td><td style=\"text-align: right;\">-0.00177908</td><td style=\"text-align: right;\">-0.0604719</td><td style=\"text-align: right;\"> 0.0865064 </td><td style=\"text-align: right;\"> 0.00608316</td><td style=\"text-align: right;\"> 0.0088059</td><td style=\"text-align: right;\"> 0.132177 </td><td style=\"text-align: right;\">-0.00741703</td><td style=\"text-align: right;\">-0.0228988</td><td style=\"text-align: right;\">0.165213 </td><td style=\"text-align: right;\"> 0.102363 </td><td style=\"text-align: right;\">-0.016648  </td><td style=\"text-align: right;\"> 0.0489035</td><td style=\"text-align: right;\">0.0285171</td><td style=\"text-align: right;\"> 0.0253482 </td><td style=\"text-align: right;\">-0.018288  </td><td style=\"text-align: right;\">-0.187726   </td><td style=\"text-align: right;\">0.0643157</td><td style=\"text-align: right;\">-0.0690488</td><td style=\"text-align: right;\">-0.0967735 </td><td style=\"text-align: right;\">-0.108285 </td><td style=\"text-align: right;\"> 0.0684308 </td><td style=\"text-align: right;\">-0.0949643 </td><td style=\"text-align: right;\">-0.178859 </td><td style=\"text-align: right;\">-0.0808033 </td><td style=\"text-align: right;\">-0.051707  </td><td style=\"text-align: right;\"> 0.128569  </td><td style=\"text-align: right;\">-0.00468621</td><td style=\"text-align: right;\"> 0.307315   </td><td style=\"text-align: right;\">-0.0198555</td><td style=\"text-align: right;\">-0.0436874</td><td style=\"text-align: right;\">-0.0733496</td><td style=\"text-align: right;\"> 0.0459918  </td><td style=\"text-align: right;\">-0.145424  </td><td style=\"text-align: right;\"> 0.0654753</td><td style=\"text-align: right;\">-0.116033 </td><td style=\"text-align: right;\">-0.0024916 </td><td style=\"text-align: right;\"> 0.120665  </td><td style=\"text-align: right;\">-0.00169648</td><td style=\"text-align: right;\">-0.0575469</td><td style=\"text-align: right;\">-0.0918699</td><td style=\"text-align: right;\">-0.177905 </td><td style=\"text-align: right;\">-0.0236452</td><td style=\"text-align: right;\"> 0.0455167</td><td style=\"text-align: right;\">-0.0505813</td><td style=\"text-align: right;\">0.126375 </td><td style=\"text-align: right;\"> 0.0158568</td><td style=\"text-align: right;\">-0.0201946</td><td style=\"text-align: right;\">-0.0878288</td><td style=\"text-align: right;\">-0.000131595</td><td style=\"text-align: right;\">-0.0160051 </td><td style=\"text-align: right;\">-0.00468061</td><td style=\"text-align: right;\">-0.0113898 </td><td style=\"text-align: right;\">-0.0297588 </td><td style=\"text-align: right;\"> 0.056933  </td><td style=\"text-align: right;\"> 0.0557936</td></tr>\n",
       "<tr><td style=\"text-align: right;\"> 0.0675812 </td><td style=\"text-align: right;\">0.0552276</td><td style=\"text-align: right;\"> 0.126841   </td><td style=\"text-align: right;\"> 0.027331 </td><td style=\"text-align: right;\"> 0.167114 </td><td style=\"text-align: right;\">-0.0172909 </td><td style=\"text-align: right;\"> 0.035516   </td><td style=\"text-align: right;\">-0.187118  </td><td style=\"text-align: right;\">-0.000300207</td><td style=\"text-align: right;\">-0.0212593</td><td style=\"text-align: right;\">-0.112581 </td><td style=\"text-align: right;\">-0.136361  </td><td style=\"text-align: right;\">-4.1917e-05</td><td style=\"text-align: right;\"> 0.0492354 </td><td style=\"text-align: right;\"> 0.00292094</td><td style=\"text-align: right;\">-0.0999009</td><td style=\"text-align: right;\">0.169192 </td><td style=\"text-align: right;\"> 0.100036 </td><td style=\"text-align: right;\"> 0.0620014</td><td style=\"text-align: right;\">-0.0214725  </td><td style=\"text-align: right;\">-0.00549548</td><td style=\"text-align: right;\">-0.287736 </td><td style=\"text-align: right;\">-0.0339494 </td><td style=\"text-align: right;\">-0.0102117 </td><td style=\"text-align: right;\"> 0.0561336</td><td style=\"text-align: right;\"> 0.0265162 </td><td style=\"text-align: right;\">-0.0226571</td><td style=\"text-align: right;\">-0.0906655 </td><td style=\"text-align: right;\">-0.0134767 </td><td style=\"text-align: right;\">-0.041778 </td><td style=\"text-align: right;\">0.0877997</td><td style=\"text-align: right;\">0.166983</td><td style=\"text-align: right;\">0.188035  </td><td style=\"text-align: right;\">-0.221897</td><td style=\"text-align: right;\">-0.115124 </td><td style=\"text-align: right;\">-0.161893 </td><td style=\"text-align: right;\"> 0.0951502</td><td style=\"text-align: right;\">-0.111119 </td><td style=\"text-align: right;\">-0.0356143</td><td style=\"text-align: right;\">-0.0984744</td><td style=\"text-align: right;\"> 0.127296  </td><td style=\"text-align: right;\">-0.251056 </td><td style=\"text-align: right;\">0.251389 </td><td style=\"text-align: right;\"> 0.019219  </td><td style=\"text-align: right;\">-0.00626573</td><td style=\"text-align: right;\">-0.0249416 </td><td style=\"text-align: right;\">-0.0175326</td><td style=\"text-align: right;\"> 0.103124  </td><td style=\"text-align: right;\">-0.0436013 </td><td style=\"text-align: right;\">-0.0955202</td><td style=\"text-align: right;\"> 0.162975 </td><td style=\"text-align: right;\"> 0.00222041</td><td style=\"text-align: right;\">-0.0941814</td><td style=\"text-align: right;\">0.150835 </td><td style=\"text-align: right;\"> 0.0427024</td><td style=\"text-align: right;\">-0.00361881</td><td style=\"text-align: right;\">-0.0290425</td><td style=\"text-align: right;\">0.024884 </td><td style=\"text-align: right;\">-0.00467833</td><td style=\"text-align: right;\"> 0.119137  </td><td style=\"text-align: right;\">-0.189054   </td><td style=\"text-align: right;\">0.159119 </td><td style=\"text-align: right;\">-0.0505845</td><td style=\"text-align: right;\">-0.127317  </td><td style=\"text-align: right;\">-0.156975 </td><td style=\"text-align: right;\"> 0.0133028 </td><td style=\"text-align: right;\">-0.00721019</td><td style=\"text-align: right;\">-0.128824 </td><td style=\"text-align: right;\"> 0.0548265 </td><td style=\"text-align: right;\"> 0.0970574 </td><td style=\"text-align: right;\"> 0.120946  </td><td style=\"text-align: right;\"> 0.0169441 </td><td style=\"text-align: right;\"> 0.220225   </td><td style=\"text-align: right;\"> 0.0990874</td><td style=\"text-align: right;\"> 0.0208505</td><td style=\"text-align: right;\">-0.111752 </td><td style=\"text-align: right;\"> 0.0311783  </td><td style=\"text-align: right;\"> 0.041012  </td><td style=\"text-align: right;\"> 0.0550345</td><td style=\"text-align: right;\">-0.0984611</td><td style=\"text-align: right;\"> 0.0440439 </td><td style=\"text-align: right;\"> 0.12066   </td><td style=\"text-align: right;\">-0.0129677 </td><td style=\"text-align: right;\">-0.041004 </td><td style=\"text-align: right;\">-0.162204 </td><td style=\"text-align: right;\">-0.0562259</td><td style=\"text-align: right;\">-0.029864 </td><td style=\"text-align: right;\"> 0.158954 </td><td style=\"text-align: right;\">-0.0275747</td><td style=\"text-align: right;\">0.11321  </td><td style=\"text-align: right;\"> 0.0535038</td><td style=\"text-align: right;\">-0.0665885</td><td style=\"text-align: right;\">-0.234466 </td><td style=\"text-align: right;\">-0.0567416  </td><td style=\"text-align: right;\">-0.00150904</td><td style=\"text-align: right;\"> 0.0287009 </td><td style=\"text-align: right;\"> 0.00861508</td><td style=\"text-align: right;\">-0.060564  </td><td style=\"text-align: right;\"> 0.127967  </td><td style=\"text-align: right;\">-0.0926519</td></tr>\n",
       "<tr><td style=\"text-align: right;\">-0.0380767 </td><td style=\"text-align: right;\">0.035931 </td><td style=\"text-align: right;\">-0.0228693  </td><td style=\"text-align: right;\"> 0.102927 </td><td style=\"text-align: right;\"> 0.0532164</td><td style=\"text-align: right;\"> 0.0272779 </td><td style=\"text-align: right;\">-0.124841   </td><td style=\"text-align: right;\">-0.355141  </td><td style=\"text-align: right;\"> 0.0329281  </td><td style=\"text-align: right;\"> 0.256152 </td><td style=\"text-align: right;\">-0.257822 </td><td style=\"text-align: right;\">-0.270738  </td><td style=\"text-align: right;\"> 0.0136876 </td><td style=\"text-align: right;\"> 0.0719089 </td><td style=\"text-align: right;\"> 0.0473874 </td><td style=\"text-align: right;\">-0.144478 </td><td style=\"text-align: right;\">0.113985 </td><td style=\"text-align: right;\">-0.014086 </td><td style=\"text-align: right;\">-0.0869177</td><td style=\"text-align: right;\"> 0.0899735  </td><td style=\"text-align: right;\"> 0.170037  </td><td style=\"text-align: right;\">-0.197701 </td><td style=\"text-align: right;\">-0.0357109 </td><td style=\"text-align: right;\"> 0.0364579 </td><td style=\"text-align: right;\">-0.003995 </td><td style=\"text-align: right;\"> 0.0799501 </td><td style=\"text-align: right;\">-0.046548 </td><td style=\"text-align: right;\"> 0.0487127 </td><td style=\"text-align: right;\"> 0.188348  </td><td style=\"text-align: right;\"> 0.0397489</td><td style=\"text-align: right;\">0.162755 </td><td style=\"text-align: right;\">0.126233</td><td style=\"text-align: right;\">0.0611124 </td><td style=\"text-align: right;\">-0.238552</td><td style=\"text-align: right;\">-0.0709839</td><td style=\"text-align: right;\">-0.064602 </td><td style=\"text-align: right;\"> 0.123209 </td><td style=\"text-align: right;\">-0.103139 </td><td style=\"text-align: right;\">-0.0997716</td><td style=\"text-align: right;\">-0.0105061</td><td style=\"text-align: right;\">-0.00345149</td><td style=\"text-align: right;\">-0.0762066</td><td style=\"text-align: right;\">0.0123785</td><td style=\"text-align: right;\">-0.0501197 </td><td style=\"text-align: right;\"> 0.0214726 </td><td style=\"text-align: right;\">-0.0108941 </td><td style=\"text-align: right;\"> 0.0256437</td><td style=\"text-align: right;\"> 0.0528202 </td><td style=\"text-align: right;\"> 0.0598748 </td><td style=\"text-align: right;\">-0.22291  </td><td style=\"text-align: right;\"> 0.155484 </td><td style=\"text-align: right;\"> 0.0810829 </td><td style=\"text-align: right;\">-0.0537124</td><td style=\"text-align: right;\">0.207246 </td><td style=\"text-align: right;\"> 0.0975435</td><td style=\"text-align: right;\">-0.123134  </td><td style=\"text-align: right;\"> 0.0828784</td><td style=\"text-align: right;\">0.0871452</td><td style=\"text-align: right;\"> 0.053308  </td><td style=\"text-align: right;\">-0.0628099 </td><td style=\"text-align: right;\">-0.000890798</td><td style=\"text-align: right;\">0.0901868</td><td style=\"text-align: right;\">-0.102685 </td><td style=\"text-align: right;\">-0.108174  </td><td style=\"text-align: right;\">-0.0107605</td><td style=\"text-align: right;\"> 0.0601182 </td><td style=\"text-align: right;\">-0.0674263 </td><td style=\"text-align: right;\">-0.113259 </td><td style=\"text-align: right;\">-0.184022  </td><td style=\"text-align: right;\"> 0.0299578 </td><td style=\"text-align: right;\">-0.103117  </td><td style=\"text-align: right;\"> 0.0638398 </td><td style=\"text-align: right;\"> 0.212082   </td><td style=\"text-align: right;\">-0.0447601</td><td style=\"text-align: right;\"> 0.181185 </td><td style=\"text-align: right;\">-0.249965 </td><td style=\"text-align: right;\"> 0.0313168  </td><td style=\"text-align: right;\">-0.18163   </td><td style=\"text-align: right;\"> 0.132218 </td><td style=\"text-align: right;\">-0.110478 </td><td style=\"text-align: right;\">-0.128776  </td><td style=\"text-align: right;\"> 0.0939467 </td><td style=\"text-align: right;\"> 0.148859  </td><td style=\"text-align: right;\"> 0.0322528</td><td style=\"text-align: right;\">-0.0871956</td><td style=\"text-align: right;\">-0.0326475</td><td style=\"text-align: right;\">-0.010242 </td><td style=\"text-align: right;\"> 0.150039 </td><td style=\"text-align: right;\"> 0.0428655</td><td style=\"text-align: right;\">0.0886445</td><td style=\"text-align: right;\">-0.0897092</td><td style=\"text-align: right;\">-0.131961 </td><td style=\"text-align: right;\">-0.0743187</td><td style=\"text-align: right;\">-0.134838   </td><td style=\"text-align: right;\">-0.0883766 </td><td style=\"text-align: right;\"> 0.166227  </td><td style=\"text-align: right;\"> 0.0262702 </td><td style=\"text-align: right;\"> 0.106322  </td><td style=\"text-align: right;\"> 0.0493039 </td><td style=\"text-align: right;\"> 0.0976078</td></tr>\n",
       "<tr><td style=\"text-align: right;\"> 0.0517264 </td><td style=\"text-align: right;\">0.0596818</td><td style=\"text-align: right;\">-0.0425245  </td><td style=\"text-align: right;\"> 0.0947965</td><td style=\"text-align: right;\"> 0.0714488</td><td style=\"text-align: right;\">-0.157306  </td><td style=\"text-align: right;\">-0.0376186  </td><td style=\"text-align: right;\">-0.30101   </td><td style=\"text-align: right;\"> 0.0176001  </td><td style=\"text-align: right;\"> 0.0281576</td><td style=\"text-align: right;\">-0.0216216</td><td style=\"text-align: right;\">-0.0380716 </td><td style=\"text-align: right;\"> 0.181757  </td><td style=\"text-align: right;\">-0.00715996</td><td style=\"text-align: right;\"> 0.12715   </td><td style=\"text-align: right;\">-0.0850017</td><td style=\"text-align: right;\">0.249686 </td><td style=\"text-align: right;\"> 0.0171466</td><td style=\"text-align: right;\">-0.13222  </td><td style=\"text-align: right;\"> 0.171127   </td><td style=\"text-align: right;\"> 0.166119  </td><td style=\"text-align: right;\">-0.0929142</td><td style=\"text-align: right;\">-0.112147  </td><td style=\"text-align: right;\">-0.0525834 </td><td style=\"text-align: right;\">-0.0123307</td><td style=\"text-align: right;\"> 0.0644273 </td><td style=\"text-align: right;\"> 0.0165759</td><td style=\"text-align: right;\"> 0.055108  </td><td style=\"text-align: right;\">-0.00146767</td><td style=\"text-align: right;\">-0.149455 </td><td style=\"text-align: right;\">0.114173 </td><td style=\"text-align: right;\">0.120238</td><td style=\"text-align: right;\">0.0729277 </td><td style=\"text-align: right;\">-0.164882</td><td style=\"text-align: right;\">-0.0281646</td><td style=\"text-align: right;\">-0.0354826</td><td style=\"text-align: right;\">-0.0209138</td><td style=\"text-align: right;\">-0.0583637</td><td style=\"text-align: right;\">-0.105071 </td><td style=\"text-align: right;\"> 0.0268539</td><td style=\"text-align: right;\">-0.02256   </td><td style=\"text-align: right;\">-0.224537 </td><td style=\"text-align: right;\">0.196544 </td><td style=\"text-align: right;\">-0.107531  </td><td style=\"text-align: right;\">-0.0581173 </td><td style=\"text-align: right;\">-0.0432727 </td><td style=\"text-align: right;\">-0.0442277</td><td style=\"text-align: right;\"> 0.0834642 </td><td style=\"text-align: right;\"> 0.183747  </td><td style=\"text-align: right;\"> 0.0226705</td><td style=\"text-align: right;\"> 0.260827 </td><td style=\"text-align: right;\">-0.0540652 </td><td style=\"text-align: right;\"> 0.0193687</td><td style=\"text-align: right;\">0.105894 </td><td style=\"text-align: right;\">-0.0415426</td><td style=\"text-align: right;\"> 0.0686665 </td><td style=\"text-align: right;\">-0.103949 </td><td style=\"text-align: right;\">0.201356 </td><td style=\"text-align: right;\">-0.0217272 </td><td style=\"text-align: right;\"> 0.102354  </td><td style=\"text-align: right;\">-0.143576   </td><td style=\"text-align: right;\">0.162611 </td><td style=\"text-align: right;\">-0.0296967</td><td style=\"text-align: right;\">-0.186947  </td><td style=\"text-align: right;\"> 0.0739991</td><td style=\"text-align: right;\">-0.0800841 </td><td style=\"text-align: right;\">-0.153065  </td><td style=\"text-align: right;\">-0.142881 </td><td style=\"text-align: right;\">-0.0333253 </td><td style=\"text-align: right;\">-0.00375835</td><td style=\"text-align: right;\">-0.0600906 </td><td style=\"text-align: right;\"> 0.0423491 </td><td style=\"text-align: right;\"> 0.225428   </td><td style=\"text-align: right;\">-0.0113236</td><td style=\"text-align: right;\"> 0.0253971</td><td style=\"text-align: right;\"> 0.0233093</td><td style=\"text-align: right;\"> 0.187344   </td><td style=\"text-align: right;\">-0.00542723</td><td style=\"text-align: right;\">-0.036652 </td><td style=\"text-align: right;\">-0.0455243</td><td style=\"text-align: right;\">-0.10062   </td><td style=\"text-align: right;\"> 0.204347  </td><td style=\"text-align: right;\"> 0.0771656 </td><td style=\"text-align: right;\"> 0.0622848</td><td style=\"text-align: right;\">-0.0269156</td><td style=\"text-align: right;\">-0.0528739</td><td style=\"text-align: right;\">-0.0791051</td><td style=\"text-align: right;\">-0.0690989</td><td style=\"text-align: right;\">-0.0207422</td><td style=\"text-align: right;\">0.0698246</td><td style=\"text-align: right;\"> 0.105633 </td><td style=\"text-align: right;\">-0.0241206</td><td style=\"text-align: right;\">-0.131709 </td><td style=\"text-align: right;\">-0.194243   </td><td style=\"text-align: right;\"> 0.091308  </td><td style=\"text-align: right;\">-0.0886472 </td><td style=\"text-align: right;\">-0.126746  </td><td style=\"text-align: right;\"> 0.0289535 </td><td style=\"text-align: right;\">-0.00480279</td><td style=\"text-align: right;\">-0.0597228</td></tr>\n",
       "<tr><td style=\"text-align: right;\">-0.120802  </td><td style=\"text-align: right;\">0.0577755</td><td style=\"text-align: right;\"> 0.00305207 </td><td style=\"text-align: right;\"> 0.0528306</td><td style=\"text-align: right;\">-0.0165737</td><td style=\"text-align: right;\"> 0.0618086 </td><td style=\"text-align: right;\">-0.138129   </td><td style=\"text-align: right;\">-0.210075  </td><td style=\"text-align: right;\">-0.00322886 </td><td style=\"text-align: right;\"> 0.190853 </td><td style=\"text-align: right;\">-0.204586 </td><td style=\"text-align: right;\">-0.0848236 </td><td style=\"text-align: right;\"> 0.0505097 </td><td style=\"text-align: right;\"> 0.0348443 </td><td style=\"text-align: right;\"> 0.00779955</td><td style=\"text-align: right;\">-0.0776313</td><td style=\"text-align: right;\">0.208884 </td><td style=\"text-align: right;\">-0.0505372</td><td style=\"text-align: right;\">-0.0289835</td><td style=\"text-align: right;\"> 0.0158473  </td><td style=\"text-align: right;\"> 0.198441  </td><td style=\"text-align: right;\">-0.120226 </td><td style=\"text-align: right;\">-0.0229119 </td><td style=\"text-align: right;\"> 0.0101202 </td><td style=\"text-align: right;\"> 0.190409 </td><td style=\"text-align: right;\"> 0.0281315 </td><td style=\"text-align: right;\"> 0.0603515</td><td style=\"text-align: right;\"> 0.0624544 </td><td style=\"text-align: right;\"> 0.02808   </td><td style=\"text-align: right;\">-0.0168296</td><td style=\"text-align: right;\">0.243241 </td><td style=\"text-align: right;\">0.100217</td><td style=\"text-align: right;\">0.134376  </td><td style=\"text-align: right;\">-0.25446 </td><td style=\"text-align: right;\">-0.0869573</td><td style=\"text-align: right;\"> 0.0565385</td><td style=\"text-align: right;\"> 0.0379151</td><td style=\"text-align: right;\">-0.1331   </td><td style=\"text-align: right;\">-0.0448158</td><td style=\"text-align: right;\">-0.0168566</td><td style=\"text-align: right;\"> 0.00387101</td><td style=\"text-align: right;\">-0.0643344</td><td style=\"text-align: right;\">0.143132 </td><td style=\"text-align: right;\"> 0.00607692</td><td style=\"text-align: right;\">-0.0388611 </td><td style=\"text-align: right;\">-0.0206047 </td><td style=\"text-align: right;\"> 0.0524426</td><td style=\"text-align: right;\"> 0.0839153 </td><td style=\"text-align: right;\"> 0.036706  </td><td style=\"text-align: right;\">-0.0461863</td><td style=\"text-align: right;\"> 0.215567 </td><td style=\"text-align: right;\"> 0.121459  </td><td style=\"text-align: right;\">-0.0398183</td><td style=\"text-align: right;\">0.147174 </td><td style=\"text-align: right;\"> 0.169564 </td><td style=\"text-align: right;\">-0.0282243 </td><td style=\"text-align: right;\"> 0.0345362</td><td style=\"text-align: right;\">0.126753 </td><td style=\"text-align: right;\">-0.0204551 </td><td style=\"text-align: right;\"> 0.021746  </td><td style=\"text-align: right;\">-0.084232   </td><td style=\"text-align: right;\">0.156942 </td><td style=\"text-align: right;\">-0.0596258</td><td style=\"text-align: right;\">-0.125848  </td><td style=\"text-align: right;\"> 0.0149414</td><td style=\"text-align: right;\">-0.00549653</td><td style=\"text-align: right;\">-0.024118  </td><td style=\"text-align: right;\">-0.136824 </td><td style=\"text-align: right;\">-0.032232  </td><td style=\"text-align: right;\"> 0.014118  </td><td style=\"text-align: right;\">-0.00551576</td><td style=\"text-align: right;\"> 0.121722  </td><td style=\"text-align: right;\"> 0.167514   </td><td style=\"text-align: right;\">-0.052236 </td><td style=\"text-align: right;\"> 0.0821286</td><td style=\"text-align: right;\">-0.0319087</td><td style=\"text-align: right;\">-0.0114484  </td><td style=\"text-align: right;\">-0.0933017 </td><td style=\"text-align: right;\"> 0.0921272</td><td style=\"text-align: right;\">-0.0973332</td><td style=\"text-align: right;\">-0.112986  </td><td style=\"text-align: right;\"> 0.00707422</td><td style=\"text-align: right;\"> 0.140159  </td><td style=\"text-align: right;\"> 0.118707 </td><td style=\"text-align: right;\">-0.0762768</td><td style=\"text-align: right;\">-0.113198 </td><td style=\"text-align: right;\">-0.0808256</td><td style=\"text-align: right;\"> 0.0649077</td><td style=\"text-align: right;\"> 0.0101486</td><td style=\"text-align: right;\">0.228058 </td><td style=\"text-align: right;\">-0.0349859</td><td style=\"text-align: right;\">-0.0751646</td><td style=\"text-align: right;\">-0.0350279</td><td style=\"text-align: right;\">-0.0494393  </td><td style=\"text-align: right;\"> 0.00702747</td><td style=\"text-align: right;\"> 0.0597636 </td><td style=\"text-align: right;\">-0.0278038 </td><td style=\"text-align: right;\">-0.00515225</td><td style=\"text-align: right;\"> 0.00340054</td><td style=\"text-align: right;\">-0.0180717</td></tr>\n",
       "<tr><td style=\"text-align: right;\"> 0.00179419</td><td style=\"text-align: right;\">0.105583 </td><td style=\"text-align: right;\"> 0.095303   </td><td style=\"text-align: right;\">-0.0625746</td><td style=\"text-align: right;\">-0.0640665</td><td style=\"text-align: right;\">-0.064193  </td><td style=\"text-align: right;\">-0.000792552</td><td style=\"text-align: right;\">-0.178848  </td><td style=\"text-align: right;\">-0.0533309  </td><td style=\"text-align: right;\"> 0.227303 </td><td style=\"text-align: right;\">-0.251684 </td><td style=\"text-align: right;\">-0.124532  </td><td style=\"text-align: right;\">-0.0446316 </td><td style=\"text-align: right;\"> 0.0120766 </td><td style=\"text-align: right;\"> 0.0790387 </td><td style=\"text-align: right;\">-0.163203 </td><td style=\"text-align: right;\">0.1919   </td><td style=\"text-align: right;\"> 0.126346 </td><td style=\"text-align: right;\"> 0.0286721</td><td style=\"text-align: right;\"> 0.0871653  </td><td style=\"text-align: right;\"> 0.0903412 </td><td style=\"text-align: right;\">-0.28116  </td><td style=\"text-align: right;\">-0.0131178 </td><td style=\"text-align: right;\">-0.0214311 </td><td style=\"text-align: right;\"> 0.0549669</td><td style=\"text-align: right;\"> 0.193201  </td><td style=\"text-align: right;\">-0.072237 </td><td style=\"text-align: right;\"> 0.0187161 </td><td style=\"text-align: right;\">-0.0147673 </td><td style=\"text-align: right;\">-0.0839366</td><td style=\"text-align: right;\">0.235665 </td><td style=\"text-align: right;\">0.13033 </td><td style=\"text-align: right;\">0.0224523 </td><td style=\"text-align: right;\">-0.303108</td><td style=\"text-align: right;\">-0.101839 </td><td style=\"text-align: right;\">-0.02168  </td><td style=\"text-align: right;\"> 0.165892 </td><td style=\"text-align: right;\">-0.103494 </td><td style=\"text-align: right;\">-0.0302838</td><td style=\"text-align: right;\">-0.0304401</td><td style=\"text-align: right;\"> 0.0558887 </td><td style=\"text-align: right;\">-0.0716854</td><td style=\"text-align: right;\">0.104018 </td><td style=\"text-align: right;\"> 0.0723826 </td><td style=\"text-align: right;\">-0.00663547</td><td style=\"text-align: right;\">-0.0767982 </td><td style=\"text-align: right;\">-0.120495 </td><td style=\"text-align: right;\"> 0.0275439 </td><td style=\"text-align: right;\"> 0.0632765 </td><td style=\"text-align: right;\">-0.0948716</td><td style=\"text-align: right;\"> 0.163049 </td><td style=\"text-align: right;\"> 0.0676099 </td><td style=\"text-align: right;\">-0.0868475</td><td style=\"text-align: right;\">0.0975514</td><td style=\"text-align: right;\"> 0.118919 </td><td style=\"text-align: right;\">-0.110346  </td><td style=\"text-align: right;\"> 0.0407047</td><td style=\"text-align: right;\">0.130522 </td><td style=\"text-align: right;\">-0.0251651 </td><td style=\"text-align: right;\"> 0.0411462 </td><td style=\"text-align: right;\">-0.060491   </td><td style=\"text-align: right;\">0.119731 </td><td style=\"text-align: right;\">-0.0403273</td><td style=\"text-align: right;\">-0.196775  </td><td style=\"text-align: right;\">-0.0347449</td><td style=\"text-align: right;\"> 0.0612658 </td><td style=\"text-align: right;\">-0.0400916 </td><td style=\"text-align: right;\">-0.14191  </td><td style=\"text-align: right;\"> 0.00383755</td><td style=\"text-align: right;\"> 0.0183943 </td><td style=\"text-align: right;\">-0.00871836</td><td style=\"text-align: right;\">-0.0342092 </td><td style=\"text-align: right;\"> 0.173508   </td><td style=\"text-align: right;\">-0.0779645</td><td style=\"text-align: right;\"> 0.0805641</td><td style=\"text-align: right;\">-0.0679758</td><td style=\"text-align: right;\"> 0.0432449  </td><td style=\"text-align: right;\">-0.0469812 </td><td style=\"text-align: right;\"> 0.0721435</td><td style=\"text-align: right;\">-0.0903974</td><td style=\"text-align: right;\">-0.11219   </td><td style=\"text-align: right;\">-0.00237044</td><td style=\"text-align: right;\"> 0.0847812 </td><td style=\"text-align: right;\"> 0.0890069</td><td style=\"text-align: right;\"> 0.0156967</td><td style=\"text-align: right;\">-0.152022 </td><td style=\"text-align: right;\"> 0.0189058</td><td style=\"text-align: right;\"> 0.0337312</td><td style=\"text-align: right;\">-0.0480699</td><td style=\"text-align: right;\">0.0942364</td><td style=\"text-align: right;\"> 0.0427253</td><td style=\"text-align: right;\">-0.066844 </td><td style=\"text-align: right;\">-0.106967 </td><td style=\"text-align: right;\"> 0.0485061  </td><td style=\"text-align: right;\"> 0.0769274 </td><td style=\"text-align: right;\"> 0.0175429 </td><td style=\"text-align: right;\"> 0.0573601 </td><td style=\"text-align: right;\"> 0.0187508 </td><td style=\"text-align: right;\"> 0.12665   </td><td style=\"text-align: right;\"> 0.0226629</td></tr>\n",
       "<tr><td style=\"text-align: right;\"> 0.0465584 </td><td style=\"text-align: right;\">0.277416 </td><td style=\"text-align: right;\">-0.0414693  </td><td style=\"text-align: right;\">-0.0990548</td><td style=\"text-align: right;\"> 0.0854166</td><td style=\"text-align: right;\"> 0.28701   </td><td style=\"text-align: right;\">-0.381524   </td><td style=\"text-align: right;\">-0.48227   </td><td style=\"text-align: right;\">-0.268539   </td><td style=\"text-align: right;\"> 0.069694 </td><td style=\"text-align: right;\">-0.398479 </td><td style=\"text-align: right;\">-0.0887866 </td><td style=\"text-align: right;\">-0.0747819 </td><td style=\"text-align: right;\">-0.020965  </td><td style=\"text-align: right;\"> 0.263004  </td><td style=\"text-align: right;\">-0.112445 </td><td style=\"text-align: right;\">0.251712 </td><td style=\"text-align: right;\"> 0.125587 </td><td style=\"text-align: right;\"> 0.059826 </td><td style=\"text-align: right;\"> 0.118984   </td><td style=\"text-align: right;\"> 0.0244182 </td><td style=\"text-align: right;\">-0.0467205</td><td style=\"text-align: right;\">-0.00447991</td><td style=\"text-align: right;\">-0.0833884 </td><td style=\"text-align: right;\"> 0.168225 </td><td style=\"text-align: right;\"> 0.0521565 </td><td style=\"text-align: right;\"> 0.162882 </td><td style=\"text-align: right;\"> 0.0434303 </td><td style=\"text-align: right;\"> 0.129102  </td><td style=\"text-align: right;\">-0.272935 </td><td style=\"text-align: right;\">0.212138 </td><td style=\"text-align: right;\">0.551729</td><td style=\"text-align: right;\">0.00422487</td><td style=\"text-align: right;\">-0.354694</td><td style=\"text-align: right;\">-0.186784 </td><td style=\"text-align: right;\"> 0.233556 </td><td style=\"text-align: right;\"> 0.192094 </td><td style=\"text-align: right;\">-0.303107 </td><td style=\"text-align: right;\">-0.229534 </td><td style=\"text-align: right;\">-0.0953037</td><td style=\"text-align: right;\">-0.241497  </td><td style=\"text-align: right;\"> 0.199734 </td><td style=\"text-align: right;\">0.0156037</td><td style=\"text-align: right;\">-0.264141  </td><td style=\"text-align: right;\"> 0.0443815 </td><td style=\"text-align: right;\">-0.0183106 </td><td style=\"text-align: right;\">-0.0806755</td><td style=\"text-align: right;\"> 0.136887  </td><td style=\"text-align: right;\">-0.11589   </td><td style=\"text-align: right;\">-0.210251 </td><td style=\"text-align: right;\">-0.142575 </td><td style=\"text-align: right;\"> 0.0475203 </td><td style=\"text-align: right;\"> 0.0722247</td><td style=\"text-align: right;\">0.138279 </td><td style=\"text-align: right;\">-0.014574 </td><td style=\"text-align: right;\">-0.20999   </td><td style=\"text-align: right;\"> 0.280817 </td><td style=\"text-align: right;\">0.316146 </td><td style=\"text-align: right;\">-0.14388   </td><td style=\"text-align: right;\">-0.0601604 </td><td style=\"text-align: right;\">-0.09274    </td><td style=\"text-align: right;\">0.182606 </td><td style=\"text-align: right;\">-0.0312489</td><td style=\"text-align: right;\">-0.29369   </td><td style=\"text-align: right;\">-0.081387 </td><td style=\"text-align: right;\">-0.105223  </td><td style=\"text-align: right;\"> 0.253521  </td><td style=\"text-align: right;\"> 0.0359068</td><td style=\"text-align: right;\"> 0.00864565</td><td style=\"text-align: right;\">-0.100709  </td><td style=\"text-align: right;\">-0.111955  </td><td style=\"text-align: right;\">-0.0478046 </td><td style=\"text-align: right;\">-0.000211381</td><td style=\"text-align: right;\">-0.147562 </td><td style=\"text-align: right;\"> 0.255797 </td><td style=\"text-align: right;\">-0.241582 </td><td style=\"text-align: right;\">-0.126044   </td><td style=\"text-align: right;\">-0.283523  </td><td style=\"text-align: right;\">-0.140558 </td><td style=\"text-align: right;\">-0.0463736</td><td style=\"text-align: right;\">-0.161449  </td><td style=\"text-align: right;\"> 0.250627  </td><td style=\"text-align: right;\"> 0.0926585 </td><td style=\"text-align: right;\"> 0.011312 </td><td style=\"text-align: right;\"> 0.203986 </td><td style=\"text-align: right;\">-0.19255  </td><td style=\"text-align: right;\">-0.126354 </td><td style=\"text-align: right;\">-0.0377597</td><td style=\"text-align: right;\">-0.169632 </td><td style=\"text-align: right;\">0.073524 </td><td style=\"text-align: right;\">-0.0761455</td><td style=\"text-align: right;\">-0.0570674</td><td style=\"text-align: right;\">-0.0232194</td><td style=\"text-align: right;\">-0.0761749  </td><td style=\"text-align: right;\">-0.208858  </td><td style=\"text-align: right;\">-0.123625  </td><td style=\"text-align: right;\"> 0.0328473 </td><td style=\"text-align: right;\"> 0.0438301 </td><td style=\"text-align: right;\">-0.182888  </td><td style=\"text-align: right;\">-0.0479167</td></tr>\n",
       "</tbody>\n",
       "</table>"
      ]
     },
     "metadata": {},
     "output_type": "display_data"
    },
    {
     "data": {
      "text/plain": []
     },
     "execution_count": 22,
     "metadata": {},
     "output_type": "execute_result"
    }
   ],
   "source": [
    "# Calculate a vector for each review\n",
    "review_vecs = w2v_model.transform(words, aggregate_method = \"AVERAGE\")\n",
    "review_vecs"
   ]
  },
  {
   "cell_type": "code",
   "execution_count": 23,
   "metadata": {},
   "outputs": [],
   "source": [
    "# Add aggregated word embeddings \n",
    "ext_reviews = reviews.cbind(review_vecs)"
   ]
  },
  {
   "cell_type": "code",
   "execution_count": 24,
   "metadata": {},
   "outputs": [
    {
     "data": {
      "text/html": [
       "<table>\n",
       "<thead>\n",
       "<tr><th>ProductId  </th><th>UserId        </th><th>Summary                     </th><th style=\"text-align: right;\">  Score</th><th style=\"text-align: right;\">  HelpfulnessDenominator</th><th style=\"text-align: right;\">    Id</th><th>ProfileName        </th><th style=\"text-align: right;\">  HelpfulnessNumerator</th><th style=\"text-align: right;\">       Time</th><th>Text                                                                                                                                                                                                                                                                                                                                                                            </th><th style=\"text-align: right;\">  PositiveReview</th><th>Train  </th><th style=\"text-align: right;\">         C1</th><th style=\"text-align: right;\">       C2</th><th style=\"text-align: right;\">          C3</th><th style=\"text-align: right;\">        C4</th><th style=\"text-align: right;\">       C5</th><th style=\"text-align: right;\">         C6</th><th style=\"text-align: right;\">        C7</th><th style=\"text-align: right;\">        C8</th><th style=\"text-align: right;\">        C9</th><th style=\"text-align: right;\">       C10</th><th style=\"text-align: right;\">      C11</th><th style=\"text-align: right;\">        C12</th><th style=\"text-align: right;\">       C13</th><th style=\"text-align: right;\">      C14</th><th style=\"text-align: right;\">        C15</th><th style=\"text-align: right;\">      C16</th><th style=\"text-align: right;\">      C17</th><th style=\"text-align: right;\">       C18</th><th style=\"text-align: right;\">       C19</th><th style=\"text-align: right;\">         C20</th><th style=\"text-align: right;\">       C21</th><th style=\"text-align: right;\">      C22</th><th style=\"text-align: right;\">       C23</th><th style=\"text-align: right;\">        C24</th><th style=\"text-align: right;\">      C25</th><th style=\"text-align: right;\">        C26</th><th style=\"text-align: right;\">       C27</th><th style=\"text-align: right;\">        C28</th><th style=\"text-align: right;\">       C29</th><th style=\"text-align: right;\">       C30</th><th style=\"text-align: right;\">      C31</th><th style=\"text-align: right;\">     C32</th><th style=\"text-align: right;\">      C33</th><th style=\"text-align: right;\">      C34</th><th style=\"text-align: right;\">       C35</th><th style=\"text-align: right;\">      C36</th><th style=\"text-align: right;\">       C37</th><th style=\"text-align: right;\">       C38</th><th style=\"text-align: right;\">       C39</th><th style=\"text-align: right;\">       C40</th><th style=\"text-align: right;\">      C41</th><th style=\"text-align: right;\">       C42</th><th style=\"text-align: right;\">     C43</th><th style=\"text-align: right;\">       C44</th><th style=\"text-align: right;\">       C45</th><th style=\"text-align: right;\">       C46</th><th style=\"text-align: right;\">       C47</th><th style=\"text-align: right;\">        C48</th><th style=\"text-align: right;\">        C49</th><th style=\"text-align: right;\">       C50</th><th style=\"text-align: right;\">      C51</th><th style=\"text-align: right;\">       C52</th><th style=\"text-align: right;\">       C53</th><th style=\"text-align: right;\">     C54</th><th style=\"text-align: right;\">      C55</th><th style=\"text-align: right;\">       C56</th><th style=\"text-align: right;\">       C57</th><th style=\"text-align: right;\">     C58</th><th style=\"text-align: right;\">       C59</th><th style=\"text-align: right;\">       C60</th><th style=\"text-align: right;\">       C61</th><th style=\"text-align: right;\">      C62</th><th style=\"text-align: right;\">       C63</th><th style=\"text-align: right;\">        C64</th><th style=\"text-align: right;\">       C65</th><th style=\"text-align: right;\">        C66</th><th style=\"text-align: right;\">       C67</th><th style=\"text-align: right;\">       C68</th><th style=\"text-align: right;\">        C69</th><th style=\"text-align: right;\">       C70</th><th style=\"text-align: right;\">       C71</th><th style=\"text-align: right;\">       C72</th><th style=\"text-align: right;\">     C73</th><th style=\"text-align: right;\">       C74</th><th style=\"text-align: right;\">      C75</th><th style=\"text-align: right;\">       C76</th><th style=\"text-align: right;\">         C77</th><th style=\"text-align: right;\">       C78</th><th style=\"text-align: right;\">       C79</th><th style=\"text-align: right;\">       C80</th><th style=\"text-align: right;\">        C81</th><th style=\"text-align: right;\">      C82</th><th style=\"text-align: right;\">      C83</th><th style=\"text-align: right;\">       C84</th><th style=\"text-align: right;\">       C85</th><th style=\"text-align: right;\">       C86</th><th style=\"text-align: right;\">       C87</th><th style=\"text-align: right;\">     C88</th><th style=\"text-align: right;\">       C89</th><th style=\"text-align: right;\">      C90</th><th style=\"text-align: right;\">       C91</th><th style=\"text-align: right;\">       C92</th><th style=\"text-align: right;\">      C93</th><th style=\"text-align: right;\">      C94</th><th style=\"text-align: right;\">      C95</th><th style=\"text-align: right;\">        C96</th><th style=\"text-align: right;\">       C97</th><th style=\"text-align: right;\">       C98</th><th style=\"text-align: right;\">       C99</th><th style=\"text-align: right;\">      C100</th></tr>\n",
       "</thead>\n",
       "<tbody>\n",
       "<tr><td>B00141QYSQ </td><td>A1YS02UZZGRDCT</td><td>Do Not Buy                  </td><td style=\"text-align: right;\">      1</td><td style=\"text-align: right;\">                       2</td><td style=\"text-align: right;\"> 41471</td><td>Evan Eberhardt     </td><td style=\"text-align: right;\">                     2</td><td style=\"text-align: right;\">1.34836e+09</td><td>These are made in China (do not buy ANY pet food from China).  Dogswell has been using propylene glycol to soften their treats (what are they thinkng?).  Do not purchase or support this company in any way until they clean up their act.  And for whatever reason Amazon doesn't allow returns of this item, so I had to toss mine out.  Bad business all around on this one.</td><td style=\"text-align: right;\">               0</td><td>No     </td><td style=\"text-align: right;\">-0.00673346</td><td style=\"text-align: right;\">0.138516 </td><td style=\"text-align: right;\"> 0.00536622 </td><td style=\"text-align: right;\">-0.0492389</td><td style=\"text-align: right;\">0.0159911</td><td style=\"text-align: right;\">-0.215284  </td><td style=\"text-align: right;\"> 0.0215764</td><td style=\"text-align: right;\">-0.212132 </td><td style=\"text-align: right;\"> 0.0141887</td><td style=\"text-align: right;\">-0.0231987</td><td style=\"text-align: right;\">-0.129713</td><td style=\"text-align: right;\"> 0.00803689</td><td style=\"text-align: right;\"> 0.0834671</td><td style=\"text-align: right;\">0.0146434</td><td style=\"text-align: right;\">-0.0215384 </td><td style=\"text-align: right;\">-0.081659</td><td style=\"text-align: right;\">0.106969 </td><td style=\"text-align: right;\"> 0.0898843</td><td style=\"text-align: right;\"> 0.0581625</td><td style=\"text-align: right;\">-0.0343757  </td><td style=\"text-align: right;\">-0.0352144</td><td style=\"text-align: right;\">-0.262466</td><td style=\"text-align: right;\"> 0.0347936</td><td style=\"text-align: right;\">-0.00573343</td><td style=\"text-align: right;\">0.0828813</td><td style=\"text-align: right;\">-0.0309528 </td><td style=\"text-align: right;\"> 0.0338674</td><td style=\"text-align: right;\">-0.0829125 </td><td style=\"text-align: right;\">-0.0816757</td><td style=\"text-align: right;\">-0.0518085</td><td style=\"text-align: right;\">0.110838 </td><td style=\"text-align: right;\">0.194172</td><td style=\"text-align: right;\">0.165707 </td><td style=\"text-align: right;\">-0.200362</td><td style=\"text-align: right;\">-0.0276656</td><td style=\"text-align: right;\">-0.208756</td><td style=\"text-align: right;\"> 0.0473959</td><td style=\"text-align: right;\">-0.126167 </td><td style=\"text-align: right;\"> 0.015811 </td><td style=\"text-align: right;\">-0.110748 </td><td style=\"text-align: right;\">0.141738 </td><td style=\"text-align: right;\">-0.222133 </td><td style=\"text-align: right;\">0.231704</td><td style=\"text-align: right;\">-0.103909 </td><td style=\"text-align: right;\">-0.0319442</td><td style=\"text-align: right;\">-0.017136 </td><td style=\"text-align: right;\">-0.0923194</td><td style=\"text-align: right;\">-0.00225656</td><td style=\"text-align: right;\"> 0.075541  </td><td style=\"text-align: right;\">-0.123125 </td><td style=\"text-align: right;\">0.0636505</td><td style=\"text-align: right;\">-0.0464714</td><td style=\"text-align: right;\">-0.173046 </td><td style=\"text-align: right;\">0.105927</td><td style=\"text-align: right;\">0.0477022</td><td style=\"text-align: right;\">-0.139712 </td><td style=\"text-align: right;\">-0.166252 </td><td style=\"text-align: right;\">0.222571</td><td style=\"text-align: right;\">0.0313323 </td><td style=\"text-align: right;\">0.050401  </td><td style=\"text-align: right;\">-0.138379 </td><td style=\"text-align: right;\">0.19744  </td><td style=\"text-align: right;\"> 0.0250262</td><td style=\"text-align: right;\">-0.0903883 </td><td style=\"text-align: right;\">-0.0564089</td><td style=\"text-align: right;\">-0.0862252 </td><td style=\"text-align: right;\">-0.139518 </td><td style=\"text-align: right;\">-0.0818972</td><td style=\"text-align: right;\"> 0.00411978</td><td style=\"text-align: right;\"> 0.0381945</td><td style=\"text-align: right;\"> 0.177508 </td><td style=\"text-align: right;\">-0.0307329</td><td style=\"text-align: right;\">0.186346</td><td style=\"text-align: right;\"> 0.0317712</td><td style=\"text-align: right;\">-0.022985</td><td style=\"text-align: right;\">-0.0681446</td><td style=\"text-align: right;\">-3.16305e-05</td><td style=\"text-align: right;\"> 0.119122 </td><td style=\"text-align: right;\">-0.0437245</td><td style=\"text-align: right;\"> 0.0417158</td><td style=\"text-align: right;\"> 0.00334229</td><td style=\"text-align: right;\">0.134196 </td><td style=\"text-align: right;\">0.165307 </td><td style=\"text-align: right;\">-0.0476005</td><td style=\"text-align: right;\">-0.0936798</td><td style=\"text-align: right;\">-0.0959532</td><td style=\"text-align: right;\"> 0.0178056</td><td style=\"text-align: right;\">0.121738</td><td style=\"text-align: right;\"> 0.0434943</td><td style=\"text-align: right;\">0.0587462</td><td style=\"text-align: right;\">-0.0329062</td><td style=\"text-align: right;\">-0.0256889</td><td style=\"text-align: right;\">-0.270224</td><td style=\"text-align: right;\">0.0500385</td><td style=\"text-align: right;\">0.0345928</td><td style=\"text-align: right;\">-0.0452278 </td><td style=\"text-align: right;\">-0.0195481</td><td style=\"text-align: right;\">-0.120581 </td><td style=\"text-align: right;\"> 0.0680059</td><td style=\"text-align: right;\">-0.125823 </td></tr>\n",
       "<tr><td>B0089SPEO2 </td><td>A3JOYNYL458QHP</td><td>Less lemon and less zing    </td><td style=\"text-align: right;\">      3</td><td style=\"text-align: right;\">                       0</td><td style=\"text-align: right;\"> 28582</td><td>coleridge          </td><td style=\"text-align: right;\">                     0</td><td style=\"text-align: right;\">1.32391e+09</td><td>Everything is ok, except it just isn't as good as it is in the bags.  Just considerably more bland -- less lemon and less zing.  Boring.                                                                                                                                                                                                                                        </td><td style=\"text-align: right;\">               0</td><td>Yes    </td><td style=\"text-align: right;\">-0.00926229</td><td style=\"text-align: right;\">0.125367 </td><td style=\"text-align: right;\">-0.0781425  </td><td style=\"text-align: right;\"> 0.0554807</td><td style=\"text-align: right;\">0.0646466</td><td style=\"text-align: right;\">-0.046037  </td><td style=\"text-align: right;\">-0.220161 </td><td style=\"text-align: right;\">-0.199498 </td><td style=\"text-align: right;\">-0.0481974</td><td style=\"text-align: right;\"> 0.0463867</td><td style=\"text-align: right;\">-0.174281</td><td style=\"text-align: right;\">-0.198949  </td><td style=\"text-align: right;\"> 0.0612451</td><td style=\"text-align: right;\">0.0836036</td><td style=\"text-align: right;\"> 0.117641  </td><td style=\"text-align: right;\">-0.106931</td><td style=\"text-align: right;\">0.248301 </td><td style=\"text-align: right;\">-0.0611632</td><td style=\"text-align: right;\">-0.149056 </td><td style=\"text-align: right;\"> 0.000799491</td><td style=\"text-align: right;\"> 0.191638 </td><td style=\"text-align: right;\">-0.174702</td><td style=\"text-align: right;\">-0.0879673</td><td style=\"text-align: right;\"> 0.00862672</td><td style=\"text-align: right;\">0.16769  </td><td style=\"text-align: right;\">-0.00759495</td><td style=\"text-align: right;\"> 0.0708105</td><td style=\"text-align: right;\"> 0.0203573 </td><td style=\"text-align: right;\">-0.0052044</td><td style=\"text-align: right;\">-0.137299 </td><td style=\"text-align: right;\">0.0879493</td><td style=\"text-align: right;\">0.241423</td><td style=\"text-align: right;\">0.0740693</td><td style=\"text-align: right;\">-0.104073</td><td style=\"text-align: right;\">-0.0928337</td><td style=\"text-align: right;\"> 0.121081</td><td style=\"text-align: right;\">-0.0371581</td><td style=\"text-align: right;\"> 0.0787184</td><td style=\"text-align: right;\">-0.0569764</td><td style=\"text-align: right;\">-0.102209 </td><td style=\"text-align: right;\">0.0520173</td><td style=\"text-align: right;\">-0.0653757</td><td style=\"text-align: right;\">0.207274</td><td style=\"text-align: right;\"> 0.0102506</td><td style=\"text-align: right;\">-0.0913367</td><td style=\"text-align: right;\">-0.0545334</td><td style=\"text-align: right;\">-0.0286182</td><td style=\"text-align: right;\"> 0.023405  </td><td style=\"text-align: right;\">-0.00228351</td><td style=\"text-align: right;\">-0.0028999</td><td style=\"text-align: right;\">0.253373 </td><td style=\"text-align: right;\"> 0.0649332</td><td style=\"text-align: right;\"> 0.0054025</td><td style=\"text-align: right;\">0.125057</td><td style=\"text-align: right;\">0.155357 </td><td style=\"text-align: right;\"> 0.0978915</td><td style=\"text-align: right;\"> 0.0138259</td><td style=\"text-align: right;\">0.133865</td><td style=\"text-align: right;\">0.00265835</td><td style=\"text-align: right;\">0.0532437 </td><td style=\"text-align: right;\">-0.122081 </td><td style=\"text-align: right;\">0.0992892</td><td style=\"text-align: right;\">-0.090146 </td><td style=\"text-align: right;\"> 0.00919861</td><td style=\"text-align: right;\">-0.0677997</td><td style=\"text-align: right;\"> 0.00327377</td><td style=\"text-align: right;\"> 0.0200766</td><td style=\"text-align: right;\">-0.0560634</td><td style=\"text-align: right;\">-0.0177063 </td><td style=\"text-align: right;\"> 0.0220796</td><td style=\"text-align: right;\">-0.0135111</td><td style=\"text-align: right;\"> 0.196974 </td><td style=\"text-align: right;\">0.126861</td><td style=\"text-align: right;\">-0.0683619</td><td style=\"text-align: right;\"> 0.138663</td><td style=\"text-align: right;\">-0.119051 </td><td style=\"text-align: right;\"> 0.00730411 </td><td style=\"text-align: right;\">-0.0935161</td><td style=\"text-align: right;\"> 0.0391973</td><td style=\"text-align: right;\">-0.0166708</td><td style=\"text-align: right;\"> 0.00291891</td><td style=\"text-align: right;\">0.0484678</td><td style=\"text-align: right;\">0.183502 </td><td style=\"text-align: right;\"> 0.114297 </td><td style=\"text-align: right;\">-0.0382902</td><td style=\"text-align: right;\">-0.174614 </td><td style=\"text-align: right;\">-0.0914975</td><td style=\"text-align: right;\">0.056517</td><td style=\"text-align: right;\">-0.0644362</td><td style=\"text-align: right;\">0.205295 </td><td style=\"text-align: right;\">-0.0429726</td><td style=\"text-align: right;\"> 0.0230162</td><td style=\"text-align: right;\">-0.159331</td><td style=\"text-align: right;\">0.0590983</td><td style=\"text-align: right;\">0.133523 </td><td style=\"text-align: right;\"> 0.00918488</td><td style=\"text-align: right;\">-0.138713 </td><td style=\"text-align: right;\"> 0.0618043</td><td style=\"text-align: right;\">-0.0444069</td><td style=\"text-align: right;\">-0.0118911</td></tr>\n",
       "<tr><td>B001PMCDK2 </td><td>A14TTMM0Z03Y2W</td><td>my cat goes crazy for these!</td><td style=\"text-align: right;\">      5</td><td style=\"text-align: right;\">                       0</td><td style=\"text-align: right;\">389965</td><td>Lindsay S. Bradford</td><td style=\"text-align: right;\">                     0</td><td style=\"text-align: right;\">1.3106e+09 </td><td>Best cat treat ever. There isn't anything comparable to the love my cat has for these treats, he snubs away any other kind now.<br />I know he likes to manipulate me with his cattiness but these treats are my way of manipulating him to come sit on my lap and have some chill time. :)                                                                                     </td><td style=\"text-align: right;\">               1</td><td>Yes    </td><td style=\"text-align: right;\"> 0.0645578 </td><td style=\"text-align: right;\">0.0514826</td><td style=\"text-align: right;\">-0.000335778</td><td style=\"text-align: right;\">-0.022036 </td><td style=\"text-align: right;\">0.0974528</td><td style=\"text-align: right;\"> 0.00202656</td><td style=\"text-align: right;\">-0.159408 </td><td style=\"text-align: right;\"> 0.0136653</td><td style=\"text-align: right;\"> 0.0635754</td><td style=\"text-align: right;\">-0.0171529</td><td style=\"text-align: right;\">-0.117997</td><td style=\"text-align: right;\">-0.0795961 </td><td style=\"text-align: right;\">-0.0882959</td><td style=\"text-align: right;\">0.102247 </td><td style=\"text-align: right;\"> 0.00623831</td><td style=\"text-align: right;\">-0.135644</td><td style=\"text-align: right;\">0.0864854</td><td style=\"text-align: right;\"> 0.0656414</td><td style=\"text-align: right;\"> 0.0452451</td><td style=\"text-align: right;\"> 0.115625   </td><td style=\"text-align: right;\"> 0.112722 </td><td style=\"text-align: right;\">-0.269311</td><td style=\"text-align: right;\"> 0.051456 </td><td style=\"text-align: right;\">-0.0243841 </td><td style=\"text-align: right;\">0.204821 </td><td style=\"text-align: right;\"> 0.126388  </td><td style=\"text-align: right;\">-0.0559646</td><td style=\"text-align: right;\"> 0.00642317</td><td style=\"text-align: right;\">-0.0741284</td><td style=\"text-align: right;\"> 0.0357255</td><td style=\"text-align: right;\">0.101446 </td><td style=\"text-align: right;\">0.101601</td><td style=\"text-align: right;\">0.080844 </td><td style=\"text-align: right;\">-0.219866</td><td style=\"text-align: right;\">-0.0567231</td><td style=\"text-align: right;\">-0.168659</td><td style=\"text-align: right;\"> 0.104485 </td><td style=\"text-align: right;\">-0.146287 </td><td style=\"text-align: right;\">-0.0108722</td><td style=\"text-align: right;\">-0.0699547</td><td style=\"text-align: right;\">0.0721822</td><td style=\"text-align: right;\">-0.15392  </td><td style=\"text-align: right;\">0.266723</td><td style=\"text-align: right;\">-0.0449351</td><td style=\"text-align: right;\">-0.0101611</td><td style=\"text-align: right;\">-0.081506 </td><td style=\"text-align: right;\">-0.0431078</td><td style=\"text-align: right;\"> 0.0892107 </td><td style=\"text-align: right;\">-0.0236416 </td><td style=\"text-align: right;\">-0.0576266</td><td style=\"text-align: right;\">0.133324 </td><td style=\"text-align: right;\"> 0.0460422</td><td style=\"text-align: right;\">-0.0919176</td><td style=\"text-align: right;\">0.131248</td><td style=\"text-align: right;\">0.128033 </td><td style=\"text-align: right;\">-0.0170562</td><td style=\"text-align: right;\">-0.0976307</td><td style=\"text-align: right;\">0.14603 </td><td style=\"text-align: right;\">0.0395229 </td><td style=\"text-align: right;\">0.00438325</td><td style=\"text-align: right;\">-0.0566625</td><td style=\"text-align: right;\">0.185354 </td><td style=\"text-align: right;\">-0.0495215</td><td style=\"text-align: right;\">-0.21975   </td><td style=\"text-align: right;\">-0.0694211</td><td style=\"text-align: right;\"> 0.0723376 </td><td style=\"text-align: right;\">-0.085919 </td><td style=\"text-align: right;\">-0.242306 </td><td style=\"text-align: right;\"> 0.055132  </td><td style=\"text-align: right;\">-0.0106866</td><td style=\"text-align: right;\"> 0.0324946</td><td style=\"text-align: right;\"> 0.0126905</td><td style=\"text-align: right;\">0.242577</td><td style=\"text-align: right;\"> 0.0122209</td><td style=\"text-align: right;\"> 0.111441</td><td style=\"text-align: right;\">-0.035634 </td><td style=\"text-align: right;\"> 0.0938394  </td><td style=\"text-align: right;\">-0.0521078</td><td style=\"text-align: right;\">-0.0312814</td><td style=\"text-align: right;\">-0.0448192</td><td style=\"text-align: right;\">-0.0244919 </td><td style=\"text-align: right;\">0.0310073</td><td style=\"text-align: right;\">0.0898497</td><td style=\"text-align: right;\">-0.0540329</td><td style=\"text-align: right;\">-0.216453 </td><td style=\"text-align: right;\">-0.107421 </td><td style=\"text-align: right;\">-0.0224392</td><td style=\"text-align: right;\">0.111498</td><td style=\"text-align: right;\">-0.0564507</td><td style=\"text-align: right;\">0.0880613</td><td style=\"text-align: right;\"> 0.0595434</td><td style=\"text-align: right;\">-0.0695728</td><td style=\"text-align: right;\">-0.179166</td><td style=\"text-align: right;\">0.0318767</td><td style=\"text-align: right;\">0.0625963</td><td style=\"text-align: right;\"> 0.098741  </td><td style=\"text-align: right;\"> 0.0756309</td><td style=\"text-align: right;\">-0.0660988</td><td style=\"text-align: right;\"> 0.0312488</td><td style=\"text-align: right;\">-0.0622675</td></tr>\n",
       "</tbody>\n",
       "</table>"
      ]
     },
     "metadata": {},
     "output_type": "display_data"
    },
    {
     "data": {
      "text/plain": []
     },
     "execution_count": 24,
     "metadata": {},
     "output_type": "execute_result"
    }
   ],
   "source": [
    "ext_reviews.head(3)"
   ]
  },
  {
   "cell_type": "markdown",
   "metadata": {},
   "source": [
    "## 1.5 Add Summary Column"
   ]
  },
  {
   "cell_type": "code",
   "execution_count": 25,
   "metadata": {},
   "outputs": [],
   "source": [
    "# Break summaries into sequence of word.\n",
    "summary_words = tokenize(reviews['Summary'].ascharacter())"
   ]
  },
  {
   "cell_type": "code",
   "execution_count": 26,
   "metadata": {},
   "outputs": [],
   "source": [
    "summary_vecs = w2v_model.transform(summary_words, aggregate_method='AVERAGE')\n",
    "summary_vecs.names = ['summary_'+ s for s in summary_vecs.names]\n",
    "\n",
    "ext_reviews_new = ext_reviews.cbind(summary_vecs)"
   ]
  },
  {
   "cell_type": "code",
   "execution_count": 27,
   "metadata": {},
   "outputs": [
    {
     "data": {
      "text/html": [
       "<table>\n",
       "<thead>\n",
       "<tr><th>ProductId  </th><th>UserId        </th><th>Summary                     </th><th style=\"text-align: right;\">  Score</th><th style=\"text-align: right;\">  HelpfulnessDenominator</th><th style=\"text-align: right;\">    Id</th><th>ProfileName        </th><th style=\"text-align: right;\">  HelpfulnessNumerator</th><th style=\"text-align: right;\">       Time</th><th>Text                                                                                                                                                                                                                                                                                                                                                                            </th><th style=\"text-align: right;\">  PositiveReview</th><th>Train  </th><th style=\"text-align: right;\">         C1</th><th style=\"text-align: right;\">       C2</th><th style=\"text-align: right;\">          C3</th><th style=\"text-align: right;\">        C4</th><th style=\"text-align: right;\">       C5</th><th style=\"text-align: right;\">         C6</th><th style=\"text-align: right;\">        C7</th><th style=\"text-align: right;\">        C8</th><th style=\"text-align: right;\">        C9</th><th style=\"text-align: right;\">       C10</th><th style=\"text-align: right;\">      C11</th><th style=\"text-align: right;\">        C12</th><th style=\"text-align: right;\">       C13</th><th style=\"text-align: right;\">      C14</th><th style=\"text-align: right;\">        C15</th><th style=\"text-align: right;\">      C16</th><th style=\"text-align: right;\">      C17</th><th style=\"text-align: right;\">       C18</th><th style=\"text-align: right;\">       C19</th><th style=\"text-align: right;\">         C20</th><th style=\"text-align: right;\">       C21</th><th style=\"text-align: right;\">      C22</th><th style=\"text-align: right;\">       C23</th><th style=\"text-align: right;\">        C24</th><th style=\"text-align: right;\">      C25</th><th style=\"text-align: right;\">        C26</th><th style=\"text-align: right;\">       C27</th><th style=\"text-align: right;\">        C28</th><th style=\"text-align: right;\">       C29</th><th style=\"text-align: right;\">       C30</th><th style=\"text-align: right;\">      C31</th><th style=\"text-align: right;\">     C32</th><th style=\"text-align: right;\">      C33</th><th style=\"text-align: right;\">      C34</th><th style=\"text-align: right;\">       C35</th><th style=\"text-align: right;\">      C36</th><th style=\"text-align: right;\">       C37</th><th style=\"text-align: right;\">       C38</th><th style=\"text-align: right;\">       C39</th><th style=\"text-align: right;\">       C40</th><th style=\"text-align: right;\">      C41</th><th style=\"text-align: right;\">       C42</th><th style=\"text-align: right;\">     C43</th><th style=\"text-align: right;\">       C44</th><th style=\"text-align: right;\">       C45</th><th style=\"text-align: right;\">       C46</th><th style=\"text-align: right;\">       C47</th><th style=\"text-align: right;\">        C48</th><th style=\"text-align: right;\">        C49</th><th style=\"text-align: right;\">       C50</th><th style=\"text-align: right;\">      C51</th><th style=\"text-align: right;\">       C52</th><th style=\"text-align: right;\">       C53</th><th style=\"text-align: right;\">     C54</th><th style=\"text-align: right;\">      C55</th><th style=\"text-align: right;\">       C56</th><th style=\"text-align: right;\">       C57</th><th style=\"text-align: right;\">     C58</th><th style=\"text-align: right;\">       C59</th><th style=\"text-align: right;\">       C60</th><th style=\"text-align: right;\">       C61</th><th style=\"text-align: right;\">      C62</th><th style=\"text-align: right;\">       C63</th><th style=\"text-align: right;\">        C64</th><th style=\"text-align: right;\">       C65</th><th style=\"text-align: right;\">        C66</th><th style=\"text-align: right;\">       C67</th><th style=\"text-align: right;\">       C68</th><th style=\"text-align: right;\">        C69</th><th style=\"text-align: right;\">       C70</th><th style=\"text-align: right;\">       C71</th><th style=\"text-align: right;\">       C72</th><th style=\"text-align: right;\">     C73</th><th style=\"text-align: right;\">       C74</th><th style=\"text-align: right;\">      C75</th><th style=\"text-align: right;\">       C76</th><th style=\"text-align: right;\">         C77</th><th style=\"text-align: right;\">       C78</th><th style=\"text-align: right;\">       C79</th><th style=\"text-align: right;\">       C80</th><th style=\"text-align: right;\">        C81</th><th style=\"text-align: right;\">      C82</th><th style=\"text-align: right;\">      C83</th><th style=\"text-align: right;\">       C84</th><th style=\"text-align: right;\">       C85</th><th style=\"text-align: right;\">       C86</th><th style=\"text-align: right;\">       C87</th><th style=\"text-align: right;\">     C88</th><th style=\"text-align: right;\">       C89</th><th style=\"text-align: right;\">      C90</th><th style=\"text-align: right;\">       C91</th><th style=\"text-align: right;\">       C92</th><th style=\"text-align: right;\">      C93</th><th style=\"text-align: right;\">      C94</th><th style=\"text-align: right;\">      C95</th><th style=\"text-align: right;\">        C96</th><th style=\"text-align: right;\">       C97</th><th style=\"text-align: right;\">       C98</th><th style=\"text-align: right;\">       C99</th><th style=\"text-align: right;\">      C100</th><th style=\"text-align: right;\">  summary_C1</th><th style=\"text-align: right;\">  summary_C2</th><th style=\"text-align: right;\">  summary_C3</th><th style=\"text-align: right;\">  summary_C4</th><th style=\"text-align: right;\">  summary_C5</th><th style=\"text-align: right;\">  summary_C6</th><th style=\"text-align: right;\">  summary_C7</th><th style=\"text-align: right;\">  summary_C8</th><th style=\"text-align: right;\">  summary_C9</th><th style=\"text-align: right;\">  summary_C10</th><th style=\"text-align: right;\">  summary_C11</th><th style=\"text-align: right;\">  summary_C12</th><th style=\"text-align: right;\">  summary_C13</th><th style=\"text-align: right;\">  summary_C14</th><th style=\"text-align: right;\">  summary_C15</th><th style=\"text-align: right;\">  summary_C16</th><th style=\"text-align: right;\">  summary_C17</th><th style=\"text-align: right;\">  summary_C18</th><th style=\"text-align: right;\">  summary_C19</th><th style=\"text-align: right;\">  summary_C20</th><th style=\"text-align: right;\">  summary_C21</th><th style=\"text-align: right;\">  summary_C22</th><th style=\"text-align: right;\">  summary_C23</th><th style=\"text-align: right;\">  summary_C24</th><th style=\"text-align: right;\">  summary_C25</th><th style=\"text-align: right;\">  summary_C26</th><th style=\"text-align: right;\">  summary_C27</th><th style=\"text-align: right;\">  summary_C28</th><th style=\"text-align: right;\">  summary_C29</th><th style=\"text-align: right;\">  summary_C30</th><th style=\"text-align: right;\">  summary_C31</th><th style=\"text-align: right;\">  summary_C32</th><th style=\"text-align: right;\">  summary_C33</th><th style=\"text-align: right;\">  summary_C34</th><th style=\"text-align: right;\">  summary_C35</th><th style=\"text-align: right;\">  summary_C36</th><th style=\"text-align: right;\">  summary_C37</th><th style=\"text-align: right;\">  summary_C38</th><th style=\"text-align: right;\">  summary_C39</th><th style=\"text-align: right;\">  summary_C40</th><th style=\"text-align: right;\">  summary_C41</th><th style=\"text-align: right;\">  summary_C42</th><th style=\"text-align: right;\">  summary_C43</th><th style=\"text-align: right;\">  summary_C44</th><th style=\"text-align: right;\">  summary_C45</th><th style=\"text-align: right;\">  summary_C46</th><th style=\"text-align: right;\">  summary_C47</th><th style=\"text-align: right;\">  summary_C48</th><th style=\"text-align: right;\">  summary_C49</th><th style=\"text-align: right;\">  summary_C50</th><th style=\"text-align: right;\">  summary_C51</th><th style=\"text-align: right;\">  summary_C52</th><th style=\"text-align: right;\">  summary_C53</th><th style=\"text-align: right;\">  summary_C54</th><th style=\"text-align: right;\">  summary_C55</th><th style=\"text-align: right;\">  summary_C56</th><th style=\"text-align: right;\">  summary_C57</th><th style=\"text-align: right;\">  summary_C58</th><th style=\"text-align: right;\">  summary_C59</th><th style=\"text-align: right;\">  summary_C60</th><th style=\"text-align: right;\">  summary_C61</th><th style=\"text-align: right;\">  summary_C62</th><th style=\"text-align: right;\">  summary_C63</th><th style=\"text-align: right;\">  summary_C64</th><th style=\"text-align: right;\">  summary_C65</th><th style=\"text-align: right;\">  summary_C66</th><th style=\"text-align: right;\">  summary_C67</th><th style=\"text-align: right;\">  summary_C68</th><th style=\"text-align: right;\">  summary_C69</th><th style=\"text-align: right;\">  summary_C70</th><th style=\"text-align: right;\">  summary_C71</th><th style=\"text-align: right;\">  summary_C72</th><th style=\"text-align: right;\">  summary_C73</th><th style=\"text-align: right;\">  summary_C74</th><th style=\"text-align: right;\">  summary_C75</th><th style=\"text-align: right;\">  summary_C76</th><th style=\"text-align: right;\">  summary_C77</th><th style=\"text-align: right;\">  summary_C78</th><th style=\"text-align: right;\">  summary_C79</th><th style=\"text-align: right;\">  summary_C80</th><th style=\"text-align: right;\">  summary_C81</th><th style=\"text-align: right;\">  summary_C82</th><th style=\"text-align: right;\">  summary_C83</th><th style=\"text-align: right;\">  summary_C84</th><th style=\"text-align: right;\">  summary_C85</th><th style=\"text-align: right;\">  summary_C86</th><th style=\"text-align: right;\">  summary_C87</th><th style=\"text-align: right;\">  summary_C88</th></tr>\n",
       "</thead>\n",
       "<tbody>\n",
       "<tr><td>B00141QYSQ </td><td>A1YS02UZZGRDCT</td><td>Do Not Buy                  </td><td style=\"text-align: right;\">      1</td><td style=\"text-align: right;\">                       2</td><td style=\"text-align: right;\"> 41471</td><td>Evan Eberhardt     </td><td style=\"text-align: right;\">                     2</td><td style=\"text-align: right;\">1.34836e+09</td><td>These are made in China (do not buy ANY pet food from China).  Dogswell has been using propylene glycol to soften their treats (what are they thinkng?).  Do not purchase or support this company in any way until they clean up their act.  And for whatever reason Amazon doesn't allow returns of this item, so I had to toss mine out.  Bad business all around on this one.</td><td style=\"text-align: right;\">               0</td><td>No     </td><td style=\"text-align: right;\">-0.00673346</td><td style=\"text-align: right;\">0.138516 </td><td style=\"text-align: right;\"> 0.00536622 </td><td style=\"text-align: right;\">-0.0492389</td><td style=\"text-align: right;\">0.0159911</td><td style=\"text-align: right;\">-0.215284  </td><td style=\"text-align: right;\"> 0.0215764</td><td style=\"text-align: right;\">-0.212132 </td><td style=\"text-align: right;\"> 0.0141887</td><td style=\"text-align: right;\">-0.0231987</td><td style=\"text-align: right;\">-0.129713</td><td style=\"text-align: right;\"> 0.00803689</td><td style=\"text-align: right;\"> 0.0834671</td><td style=\"text-align: right;\">0.0146434</td><td style=\"text-align: right;\">-0.0215384 </td><td style=\"text-align: right;\">-0.081659</td><td style=\"text-align: right;\">0.106969 </td><td style=\"text-align: right;\"> 0.0898843</td><td style=\"text-align: right;\"> 0.0581625</td><td style=\"text-align: right;\">-0.0343757  </td><td style=\"text-align: right;\">-0.0352144</td><td style=\"text-align: right;\">-0.262466</td><td style=\"text-align: right;\"> 0.0347936</td><td style=\"text-align: right;\">-0.00573343</td><td style=\"text-align: right;\">0.0828813</td><td style=\"text-align: right;\">-0.0309528 </td><td style=\"text-align: right;\"> 0.0338674</td><td style=\"text-align: right;\">-0.0829125 </td><td style=\"text-align: right;\">-0.0816757</td><td style=\"text-align: right;\">-0.0518085</td><td style=\"text-align: right;\">0.110838 </td><td style=\"text-align: right;\">0.194172</td><td style=\"text-align: right;\">0.165707 </td><td style=\"text-align: right;\">-0.200362</td><td style=\"text-align: right;\">-0.0276656</td><td style=\"text-align: right;\">-0.208756</td><td style=\"text-align: right;\"> 0.0473959</td><td style=\"text-align: right;\">-0.126167 </td><td style=\"text-align: right;\"> 0.015811 </td><td style=\"text-align: right;\">-0.110748 </td><td style=\"text-align: right;\">0.141738 </td><td style=\"text-align: right;\">-0.222133 </td><td style=\"text-align: right;\">0.231704</td><td style=\"text-align: right;\">-0.103909 </td><td style=\"text-align: right;\">-0.0319442</td><td style=\"text-align: right;\">-0.017136 </td><td style=\"text-align: right;\">-0.0923194</td><td style=\"text-align: right;\">-0.00225656</td><td style=\"text-align: right;\"> 0.075541  </td><td style=\"text-align: right;\">-0.123125 </td><td style=\"text-align: right;\">0.0636505</td><td style=\"text-align: right;\">-0.0464714</td><td style=\"text-align: right;\">-0.173046 </td><td style=\"text-align: right;\">0.105927</td><td style=\"text-align: right;\">0.0477022</td><td style=\"text-align: right;\">-0.139712 </td><td style=\"text-align: right;\">-0.166252 </td><td style=\"text-align: right;\">0.222571</td><td style=\"text-align: right;\">0.0313323 </td><td style=\"text-align: right;\">0.050401  </td><td style=\"text-align: right;\">-0.138379 </td><td style=\"text-align: right;\">0.19744  </td><td style=\"text-align: right;\"> 0.0250262</td><td style=\"text-align: right;\">-0.0903883 </td><td style=\"text-align: right;\">-0.0564089</td><td style=\"text-align: right;\">-0.0862252 </td><td style=\"text-align: right;\">-0.139518 </td><td style=\"text-align: right;\">-0.0818972</td><td style=\"text-align: right;\"> 0.00411978</td><td style=\"text-align: right;\"> 0.0381945</td><td style=\"text-align: right;\"> 0.177508 </td><td style=\"text-align: right;\">-0.0307329</td><td style=\"text-align: right;\">0.186346</td><td style=\"text-align: right;\"> 0.0317712</td><td style=\"text-align: right;\">-0.022985</td><td style=\"text-align: right;\">-0.0681446</td><td style=\"text-align: right;\">-3.16305e-05</td><td style=\"text-align: right;\"> 0.119122 </td><td style=\"text-align: right;\">-0.0437245</td><td style=\"text-align: right;\"> 0.0417158</td><td style=\"text-align: right;\"> 0.00334229</td><td style=\"text-align: right;\">0.134196 </td><td style=\"text-align: right;\">0.165307 </td><td style=\"text-align: right;\">-0.0476005</td><td style=\"text-align: right;\">-0.0936798</td><td style=\"text-align: right;\">-0.0959532</td><td style=\"text-align: right;\"> 0.0178056</td><td style=\"text-align: right;\">0.121738</td><td style=\"text-align: right;\"> 0.0434943</td><td style=\"text-align: right;\">0.0587462</td><td style=\"text-align: right;\">-0.0329062</td><td style=\"text-align: right;\">-0.0256889</td><td style=\"text-align: right;\">-0.270224</td><td style=\"text-align: right;\">0.0500385</td><td style=\"text-align: right;\">0.0345928</td><td style=\"text-align: right;\">-0.0452278 </td><td style=\"text-align: right;\">-0.0195481</td><td style=\"text-align: right;\">-0.120581 </td><td style=\"text-align: right;\"> 0.0680059</td><td style=\"text-align: right;\">-0.125823 </td><td style=\"text-align: right;\">  0.0623427 </td><td style=\"text-align: right;\">   0.0299695</td><td style=\"text-align: right;\">  -0.0279927</td><td style=\"text-align: right;\">-0.165929   </td><td style=\"text-align: right;\">   0.144624 </td><td style=\"text-align: right;\"> -0.183349  </td><td style=\"text-align: right;\">  -0.0554327</td><td style=\"text-align: right;\">  -0.350086 </td><td style=\"text-align: right;\">   0.117181 </td><td style=\"text-align: right;\">    0.350318 </td><td style=\"text-align: right;\">    -0.165902</td><td style=\"text-align: right;\">   -0.0687774</td><td style=\"text-align: right;\">    0.151479 </td><td style=\"text-align: right;\">    -0.166942</td><td style=\"text-align: right;\">   -0.0366812</td><td style=\"text-align: right;\"> -0.178134   </td><td style=\"text-align: right;\">     0.155043</td><td style=\"text-align: right;\">     0.31651 </td><td style=\"text-align: right;\">    0.189654 </td><td style=\"text-align: right;\">   -0.0528387</td><td style=\"text-align: right;\">    0.0601109</td><td style=\"text-align: right;\">    -0.237728</td><td style=\"text-align: right;\">     0.112874</td><td style=\"text-align: right;\">  -0.076077  </td><td style=\"text-align: right;\">   -0.0474025</td><td style=\"text-align: right;\">    0.0319118</td><td style=\"text-align: right;\">     0.085086</td><td style=\"text-align: right;\">  -0.223798  </td><td style=\"text-align: right;\">    0.0161577</td><td style=\"text-align: right;\">   -0.274834 </td><td style=\"text-align: right;\">     0.315239</td><td style=\"text-align: right;\">   -0.0212662</td><td style=\"text-align: right;\">    0.0154207</td><td style=\"text-align: right;\">   -0.0773692</td><td style=\"text-align: right;\">   -0.231121 </td><td style=\"text-align: right;\">    -0.107672</td><td style=\"text-align: right;\">    0.0431322</td><td style=\"text-align: right;\">   -0.289768 </td><td style=\"text-align: right;\">   -0.251439 </td><td style=\"text-align: right;\">    0.0505564</td><td style=\"text-align: right;\">     0.18505 </td><td style=\"text-align: right;\">   -0.26998  </td><td style=\"text-align: right;\">     0.454105</td><td style=\"text-align: right;\">   0.0946791 </td><td style=\"text-align: right;\">   -0.0327377</td><td style=\"text-align: right;\">   -0.028205 </td><td style=\"text-align: right;\">  -0.00869425</td><td style=\"text-align: right;\">    0.148094 </td><td style=\"text-align: right;\">   0.114202  </td><td style=\"text-align: right;\">   -0.275058 </td><td style=\"text-align: right;\">     0.308251</td><td style=\"text-align: right;\">   -0.172823 </td><td style=\"text-align: right;\">   -0.0507494</td><td style=\"text-align: right;\">    0.185281 </td><td style=\"text-align: right;\">     0.277649</td><td style=\"text-align: right;\">    -0.160101</td><td style=\"text-align: right;\">     0.276135</td><td style=\"text-align: right;\">    0.0188883</td><td style=\"text-align: right;\">   0.00487422</td><td style=\"text-align: right;\">    -0.01243 </td><td style=\"text-align: right;\">   -0.152964 </td><td style=\"text-align: right;\">     0.141052</td><td style=\"text-align: right;\">    -0.15345 </td><td style=\"text-align: right;\">     0.132369</td><td style=\"text-align: right;\">   -0.119722 </td><td style=\"text-align: right;\">   0.00967828</td><td style=\"text-align: right;\">     0.14854 </td><td style=\"text-align: right;\">   -0.0676352</td><td style=\"text-align: right;\">   -0.136765 </td><td style=\"text-align: right;\">    0.0249004</td><td style=\"text-align: right;\">   -0.0757042</td><td style=\"text-align: right;\">   -0.165452 </td><td style=\"text-align: right;\">    0.109411 </td><td style=\"text-align: right;\">    0.100748 </td><td style=\"text-align: right;\">   0.00964899</td><td style=\"text-align: right;\">   -0.158191 </td><td style=\"text-align: right;\">   -0.119262 </td><td style=\"text-align: right;\">    0.0754573</td><td style=\"text-align: right;\">    0.0723991</td><td style=\"text-align: right;\">     0.106895</td><td style=\"text-align: right;\">    0.140846 </td><td style=\"text-align: right;\">   -0.0249959</td><td style=\"text-align: right;\">    0.0833009</td><td style=\"text-align: right;\">   -0.0843863</td><td style=\"text-align: right;\">   -0.417924 </td><td style=\"text-align: right;\">    0.0934732</td><td style=\"text-align: right;\">    0.0155327</td><td style=\"text-align: right;\">    0.309659 </td></tr>\n",
       "<tr><td>B0089SPEO2 </td><td>A3JOYNYL458QHP</td><td>Less lemon and less zing    </td><td style=\"text-align: right;\">      3</td><td style=\"text-align: right;\">                       0</td><td style=\"text-align: right;\"> 28582</td><td>coleridge          </td><td style=\"text-align: right;\">                     0</td><td style=\"text-align: right;\">1.32391e+09</td><td>Everything is ok, except it just isn't as good as it is in the bags.  Just considerably more bland -- less lemon and less zing.  Boring.                                                                                                                                                                                                                                        </td><td style=\"text-align: right;\">               0</td><td>Yes    </td><td style=\"text-align: right;\">-0.00926229</td><td style=\"text-align: right;\">0.125367 </td><td style=\"text-align: right;\">-0.0781425  </td><td style=\"text-align: right;\"> 0.0554807</td><td style=\"text-align: right;\">0.0646466</td><td style=\"text-align: right;\">-0.046037  </td><td style=\"text-align: right;\">-0.220161 </td><td style=\"text-align: right;\">-0.199498 </td><td style=\"text-align: right;\">-0.0481974</td><td style=\"text-align: right;\"> 0.0463867</td><td style=\"text-align: right;\">-0.174281</td><td style=\"text-align: right;\">-0.198949  </td><td style=\"text-align: right;\"> 0.0612451</td><td style=\"text-align: right;\">0.0836036</td><td style=\"text-align: right;\"> 0.117641  </td><td style=\"text-align: right;\">-0.106931</td><td style=\"text-align: right;\">0.248301 </td><td style=\"text-align: right;\">-0.0611632</td><td style=\"text-align: right;\">-0.149056 </td><td style=\"text-align: right;\"> 0.000799491</td><td style=\"text-align: right;\"> 0.191638 </td><td style=\"text-align: right;\">-0.174702</td><td style=\"text-align: right;\">-0.0879673</td><td style=\"text-align: right;\"> 0.00862672</td><td style=\"text-align: right;\">0.16769  </td><td style=\"text-align: right;\">-0.00759495</td><td style=\"text-align: right;\"> 0.0708105</td><td style=\"text-align: right;\"> 0.0203573 </td><td style=\"text-align: right;\">-0.0052044</td><td style=\"text-align: right;\">-0.137299 </td><td style=\"text-align: right;\">0.0879493</td><td style=\"text-align: right;\">0.241423</td><td style=\"text-align: right;\">0.0740693</td><td style=\"text-align: right;\">-0.104073</td><td style=\"text-align: right;\">-0.0928337</td><td style=\"text-align: right;\"> 0.121081</td><td style=\"text-align: right;\">-0.0371581</td><td style=\"text-align: right;\"> 0.0787184</td><td style=\"text-align: right;\">-0.0569764</td><td style=\"text-align: right;\">-0.102209 </td><td style=\"text-align: right;\">0.0520173</td><td style=\"text-align: right;\">-0.0653757</td><td style=\"text-align: right;\">0.207274</td><td style=\"text-align: right;\"> 0.0102506</td><td style=\"text-align: right;\">-0.0913367</td><td style=\"text-align: right;\">-0.0545334</td><td style=\"text-align: right;\">-0.0286182</td><td style=\"text-align: right;\"> 0.023405  </td><td style=\"text-align: right;\">-0.00228351</td><td style=\"text-align: right;\">-0.0028999</td><td style=\"text-align: right;\">0.253373 </td><td style=\"text-align: right;\"> 0.0649332</td><td style=\"text-align: right;\"> 0.0054025</td><td style=\"text-align: right;\">0.125057</td><td style=\"text-align: right;\">0.155357 </td><td style=\"text-align: right;\"> 0.0978915</td><td style=\"text-align: right;\"> 0.0138259</td><td style=\"text-align: right;\">0.133865</td><td style=\"text-align: right;\">0.00265835</td><td style=\"text-align: right;\">0.0532437 </td><td style=\"text-align: right;\">-0.122081 </td><td style=\"text-align: right;\">0.0992892</td><td style=\"text-align: right;\">-0.090146 </td><td style=\"text-align: right;\"> 0.00919861</td><td style=\"text-align: right;\">-0.0677997</td><td style=\"text-align: right;\"> 0.00327377</td><td style=\"text-align: right;\"> 0.0200766</td><td style=\"text-align: right;\">-0.0560634</td><td style=\"text-align: right;\">-0.0177063 </td><td style=\"text-align: right;\"> 0.0220796</td><td style=\"text-align: right;\">-0.0135111</td><td style=\"text-align: right;\"> 0.196974 </td><td style=\"text-align: right;\">0.126861</td><td style=\"text-align: right;\">-0.0683619</td><td style=\"text-align: right;\"> 0.138663</td><td style=\"text-align: right;\">-0.119051 </td><td style=\"text-align: right;\"> 0.00730411 </td><td style=\"text-align: right;\">-0.0935161</td><td style=\"text-align: right;\"> 0.0391973</td><td style=\"text-align: right;\">-0.0166708</td><td style=\"text-align: right;\"> 0.00291891</td><td style=\"text-align: right;\">0.0484678</td><td style=\"text-align: right;\">0.183502 </td><td style=\"text-align: right;\"> 0.114297 </td><td style=\"text-align: right;\">-0.0382902</td><td style=\"text-align: right;\">-0.174614 </td><td style=\"text-align: right;\">-0.0914975</td><td style=\"text-align: right;\">0.056517</td><td style=\"text-align: right;\">-0.0644362</td><td style=\"text-align: right;\">0.205295 </td><td style=\"text-align: right;\">-0.0429726</td><td style=\"text-align: right;\"> 0.0230162</td><td style=\"text-align: right;\">-0.159331</td><td style=\"text-align: right;\">0.0590983</td><td style=\"text-align: right;\">0.133523 </td><td style=\"text-align: right;\"> 0.00918488</td><td style=\"text-align: right;\">-0.138713 </td><td style=\"text-align: right;\"> 0.0618043</td><td style=\"text-align: right;\">-0.0444069</td><td style=\"text-align: right;\">-0.0118911</td><td style=\"text-align: right;\"> -0.0778165 </td><td style=\"text-align: right;\">   0.302363 </td><td style=\"text-align: right;\">  -0.0721206</td><td style=\"text-align: right;\"> 0.0636577  </td><td style=\"text-align: right;\">  -0.0149794</td><td style=\"text-align: right;\"> -0.034863  </td><td style=\"text-align: right;\">  -0.243492 </td><td style=\"text-align: right;\">  -0.200257 </td><td style=\"text-align: right;\">  -0.126183 </td><td style=\"text-align: right;\">    0.0387634</td><td style=\"text-align: right;\">    -0.229615</td><td style=\"text-align: right;\">   -0.265281 </td><td style=\"text-align: right;\">    0.0909388</td><td style=\"text-align: right;\">     0.136109</td><td style=\"text-align: right;\">    0.245645 </td><td style=\"text-align: right;\"> -0.234689   </td><td style=\"text-align: right;\">     0.140445</td><td style=\"text-align: right;\">    -0.292715</td><td style=\"text-align: right;\">   -0.243854 </td><td style=\"text-align: right;\">   -0.0545914</td><td style=\"text-align: right;\">    0.0937177</td><td style=\"text-align: right;\">    -0.25364 </td><td style=\"text-align: right;\">    -0.168346</td><td style=\"text-align: right;\">   0.00675963</td><td style=\"text-align: right;\">    0.188047 </td><td style=\"text-align: right;\">    0.0177676</td><td style=\"text-align: right;\">     0.206487</td><td style=\"text-align: right;\">   0.00465206</td><td style=\"text-align: right;\">    0.0486552</td><td style=\"text-align: right;\">   -0.0323893</td><td style=\"text-align: right;\">     0.052495</td><td style=\"text-align: right;\">    0.205824 </td><td style=\"text-align: right;\">    0.050984 </td><td style=\"text-align: right;\">   -0.098272 </td><td style=\"text-align: right;\">   -0.125303 </td><td style=\"text-align: right;\">     0.157156</td><td style=\"text-align: right;\">   -0.128671 </td><td style=\"text-align: right;\">    0.121105 </td><td style=\"text-align: right;\">   -0.0287869</td><td style=\"text-align: right;\">   -0.182248 </td><td style=\"text-align: right;\">     0.111449</td><td style=\"text-align: right;\">   -0.0100968</td><td style=\"text-align: right;\">     0.404198</td><td style=\"text-align: right;\">  -0.00226993</td><td style=\"text-align: right;\">    0.0282651</td><td style=\"text-align: right;\">   -0.0827629</td><td style=\"text-align: right;\">  -0.0933611 </td><td style=\"text-align: right;\">    0.0728101</td><td style=\"text-align: right;\">  -0.00309565</td><td style=\"text-align: right;\">    0.0824983</td><td style=\"text-align: right;\">     0.357122</td><td style=\"text-align: right;\">    0.0849863</td><td style=\"text-align: right;\">   -0.0103777</td><td style=\"text-align: right;\">    0.195654 </td><td style=\"text-align: right;\">     0.228017</td><td style=\"text-align: right;\">     0.188115</td><td style=\"text-align: right;\">     0.10426 </td><td style=\"text-align: right;\">    0.0376958</td><td style=\"text-align: right;\">   0.0431282 </td><td style=\"text-align: right;\">     0.124353</td><td style=\"text-align: right;\">   -0.0488037</td><td style=\"text-align: right;\">     0.121302</td><td style=\"text-align: right;\">     0.139318</td><td style=\"text-align: right;\">     0.154791</td><td style=\"text-align: right;\">   -0.0412128</td><td style=\"text-align: right;\">   0.100164  </td><td style=\"text-align: right;\">     0.138641</td><td style=\"text-align: right;\">   -0.133842 </td><td style=\"text-align: right;\">   -0.0424302</td><td style=\"text-align: right;\">    0.0442507</td><td style=\"text-align: right;\">   -0.129534 </td><td style=\"text-align: right;\">    0.186416 </td><td style=\"text-align: right;\">    0.0398062</td><td style=\"text-align: right;\">   -0.0092005</td><td style=\"text-align: right;\">   0.188388  </td><td style=\"text-align: right;\">   -0.142438 </td><td style=\"text-align: right;\">   -0.0197059</td><td style=\"text-align: right;\">   -0.105943 </td><td style=\"text-align: right;\">    0.0777409</td><td style=\"text-align: right;\">     0.054174</td><td style=\"text-align: right;\">   -0.0153288</td><td style=\"text-align: right;\">   -0.0828505</td><td style=\"text-align: right;\">    0.216416 </td><td style=\"text-align: right;\">    0.198495 </td><td style=\"text-align: right;\">    0.0951751</td><td style=\"text-align: right;\">   -0.29829  </td><td style=\"text-align: right;\">   -0.162467 </td><td style=\"text-align: right;\">   -0.171568 </td></tr>\n",
       "<tr><td>B001PMCDK2 </td><td>A14TTMM0Z03Y2W</td><td>my cat goes crazy for these!</td><td style=\"text-align: right;\">      5</td><td style=\"text-align: right;\">                       0</td><td style=\"text-align: right;\">389965</td><td>Lindsay S. Bradford</td><td style=\"text-align: right;\">                     0</td><td style=\"text-align: right;\">1.3106e+09 </td><td>Best cat treat ever. There isn't anything comparable to the love my cat has for these treats, he snubs away any other kind now.<br />I know he likes to manipulate me with his cattiness but these treats are my way of manipulating him to come sit on my lap and have some chill time. :)                                                                                     </td><td style=\"text-align: right;\">               1</td><td>Yes    </td><td style=\"text-align: right;\"> 0.0645578 </td><td style=\"text-align: right;\">0.0514826</td><td style=\"text-align: right;\">-0.000335778</td><td style=\"text-align: right;\">-0.022036 </td><td style=\"text-align: right;\">0.0974528</td><td style=\"text-align: right;\"> 0.00202656</td><td style=\"text-align: right;\">-0.159408 </td><td style=\"text-align: right;\"> 0.0136653</td><td style=\"text-align: right;\"> 0.0635754</td><td style=\"text-align: right;\">-0.0171529</td><td style=\"text-align: right;\">-0.117997</td><td style=\"text-align: right;\">-0.0795961 </td><td style=\"text-align: right;\">-0.0882959</td><td style=\"text-align: right;\">0.102247 </td><td style=\"text-align: right;\"> 0.00623831</td><td style=\"text-align: right;\">-0.135644</td><td style=\"text-align: right;\">0.0864854</td><td style=\"text-align: right;\"> 0.0656414</td><td style=\"text-align: right;\"> 0.0452451</td><td style=\"text-align: right;\"> 0.115625   </td><td style=\"text-align: right;\"> 0.112722 </td><td style=\"text-align: right;\">-0.269311</td><td style=\"text-align: right;\"> 0.051456 </td><td style=\"text-align: right;\">-0.0243841 </td><td style=\"text-align: right;\">0.204821 </td><td style=\"text-align: right;\"> 0.126388  </td><td style=\"text-align: right;\">-0.0559646</td><td style=\"text-align: right;\"> 0.00642317</td><td style=\"text-align: right;\">-0.0741284</td><td style=\"text-align: right;\"> 0.0357255</td><td style=\"text-align: right;\">0.101446 </td><td style=\"text-align: right;\">0.101601</td><td style=\"text-align: right;\">0.080844 </td><td style=\"text-align: right;\">-0.219866</td><td style=\"text-align: right;\">-0.0567231</td><td style=\"text-align: right;\">-0.168659</td><td style=\"text-align: right;\"> 0.104485 </td><td style=\"text-align: right;\">-0.146287 </td><td style=\"text-align: right;\">-0.0108722</td><td style=\"text-align: right;\">-0.0699547</td><td style=\"text-align: right;\">0.0721822</td><td style=\"text-align: right;\">-0.15392  </td><td style=\"text-align: right;\">0.266723</td><td style=\"text-align: right;\">-0.0449351</td><td style=\"text-align: right;\">-0.0101611</td><td style=\"text-align: right;\">-0.081506 </td><td style=\"text-align: right;\">-0.0431078</td><td style=\"text-align: right;\"> 0.0892107 </td><td style=\"text-align: right;\">-0.0236416 </td><td style=\"text-align: right;\">-0.0576266</td><td style=\"text-align: right;\">0.133324 </td><td style=\"text-align: right;\"> 0.0460422</td><td style=\"text-align: right;\">-0.0919176</td><td style=\"text-align: right;\">0.131248</td><td style=\"text-align: right;\">0.128033 </td><td style=\"text-align: right;\">-0.0170562</td><td style=\"text-align: right;\">-0.0976307</td><td style=\"text-align: right;\">0.14603 </td><td style=\"text-align: right;\">0.0395229 </td><td style=\"text-align: right;\">0.00438325</td><td style=\"text-align: right;\">-0.0566625</td><td style=\"text-align: right;\">0.185354 </td><td style=\"text-align: right;\">-0.0495215</td><td style=\"text-align: right;\">-0.21975   </td><td style=\"text-align: right;\">-0.0694211</td><td style=\"text-align: right;\"> 0.0723376 </td><td style=\"text-align: right;\">-0.085919 </td><td style=\"text-align: right;\">-0.242306 </td><td style=\"text-align: right;\"> 0.055132  </td><td style=\"text-align: right;\">-0.0106866</td><td style=\"text-align: right;\"> 0.0324946</td><td style=\"text-align: right;\"> 0.0126905</td><td style=\"text-align: right;\">0.242577</td><td style=\"text-align: right;\"> 0.0122209</td><td style=\"text-align: right;\"> 0.111441</td><td style=\"text-align: right;\">-0.035634 </td><td style=\"text-align: right;\"> 0.0938394  </td><td style=\"text-align: right;\">-0.0521078</td><td style=\"text-align: right;\">-0.0312814</td><td style=\"text-align: right;\">-0.0448192</td><td style=\"text-align: right;\">-0.0244919 </td><td style=\"text-align: right;\">0.0310073</td><td style=\"text-align: right;\">0.0898497</td><td style=\"text-align: right;\">-0.0540329</td><td style=\"text-align: right;\">-0.216453 </td><td style=\"text-align: right;\">-0.107421 </td><td style=\"text-align: right;\">-0.0224392</td><td style=\"text-align: right;\">0.111498</td><td style=\"text-align: right;\">-0.0564507</td><td style=\"text-align: right;\">0.0880613</td><td style=\"text-align: right;\"> 0.0595434</td><td style=\"text-align: right;\">-0.0695728</td><td style=\"text-align: right;\">-0.179166</td><td style=\"text-align: right;\">0.0318767</td><td style=\"text-align: right;\">0.0625963</td><td style=\"text-align: right;\"> 0.098741  </td><td style=\"text-align: right;\"> 0.0756309</td><td style=\"text-align: right;\">-0.0660988</td><td style=\"text-align: right;\"> 0.0312488</td><td style=\"text-align: right;\">-0.0622675</td><td style=\"text-align: right;\">  0.00857342</td><td style=\"text-align: right;\">   0.0892261</td><td style=\"text-align: right;\">   0.0668541</td><td style=\"text-align: right;\"> 0.000979652</td><td style=\"text-align: right;\">   0.0767019</td><td style=\"text-align: right;\">  0.00083565</td><td style=\"text-align: right;\">  -0.0650293</td><td style=\"text-align: right;\">  -0.0744766</td><td style=\"text-align: right;\">   0.0513547</td><td style=\"text-align: right;\">   -0.0487669</td><td style=\"text-align: right;\">    -0.13512 </td><td style=\"text-align: right;\">   -0.0358606</td><td style=\"text-align: right;\">   -0.261257 </td><td style=\"text-align: right;\">     0.195061</td><td style=\"text-align: right;\">    0.0644543</td><td style=\"text-align: right;\"> -0.000486617</td><td style=\"text-align: right;\">     0.217738</td><td style=\"text-align: right;\">     0.106374</td><td style=\"text-align: right;\">   -0.0438773</td><td style=\"text-align: right;\">   -0.0121914</td><td style=\"text-align: right;\">    0.020242 </td><td style=\"text-align: right;\">    -0.410442</td><td style=\"text-align: right;\">     0.133059</td><td style=\"text-align: right;\">  -0.0189515 </td><td style=\"text-align: right;\">    0.329266 </td><td style=\"text-align: right;\">    0.0713809</td><td style=\"text-align: right;\">    -0.237406</td><td style=\"text-align: right;\">  -0.095073  </td><td style=\"text-align: right;\">    0.140594 </td><td style=\"text-align: right;\">    0.109858 </td><td style=\"text-align: right;\">     0.015533</td><td style=\"text-align: right;\">    0.122862 </td><td style=\"text-align: right;\">   -0.0109677</td><td style=\"text-align: right;\">   -0.0481939</td><td style=\"text-align: right;\">   -0.0452353</td><td style=\"text-align: right;\">    -0.24775 </td><td style=\"text-align: right;\">    0.210697 </td><td style=\"text-align: right;\">   -0.0213345</td><td style=\"text-align: right;\">    0.0745661</td><td style=\"text-align: right;\">   -0.121213 </td><td style=\"text-align: right;\">     0.150184</td><td style=\"text-align: right;\">   -0.112777 </td><td style=\"text-align: right;\">     0.349137</td><td style=\"text-align: right;\">  -0.0439516 </td><td style=\"text-align: right;\">   -0.0522446</td><td style=\"text-align: right;\">   -0.106895 </td><td style=\"text-align: right;\">   0.0347195 </td><td style=\"text-align: right;\">    0.151497 </td><td style=\"text-align: right;\">  -0.32527   </td><td style=\"text-align: right;\">   -0.0123336</td><td style=\"text-align: right;\">     0.145433</td><td style=\"text-align: right;\">   -0.0345644</td><td style=\"text-align: right;\">    0.0309999</td><td style=\"text-align: right;\">    0.0374941</td><td style=\"text-align: right;\">     0.155954</td><td style=\"text-align: right;\">    -0.132685</td><td style=\"text-align: right;\">    -0.212445</td><td style=\"text-align: right;\">   -0.0538489</td><td style=\"text-align: right;\">   0.0477244 </td><td style=\"text-align: right;\">    -0.101527</td><td style=\"text-align: right;\">   -0.221374 </td><td style=\"text-align: right;\">     0.281902</td><td style=\"text-align: right;\">    -0.27585 </td><td style=\"text-align: right;\">    -0.12832 </td><td style=\"text-align: right;\">   -0.147682 </td><td style=\"text-align: right;\">   0.14335   </td><td style=\"text-align: right;\">    -0.111654</td><td style=\"text-align: right;\">   -0.435193 </td><td style=\"text-align: right;\">    0.158872 </td><td style=\"text-align: right;\">   -0.147927 </td><td style=\"text-align: right;\">   -0.0615356</td><td style=\"text-align: right;\">    0.0478773</td><td style=\"text-align: right;\">    0.354526 </td><td style=\"text-align: right;\">   -0.111734 </td><td style=\"text-align: right;\">   0.232569  </td><td style=\"text-align: right;\">   -0.0568957</td><td style=\"text-align: right;\">    0.0409945</td><td style=\"text-align: right;\">   -0.128608 </td><td style=\"text-align: right;\">   -0.0900902</td><td style=\"text-align: right;\">    -0.166593</td><td style=\"text-align: right;\">   -0.0805748</td><td style=\"text-align: right;\">   -0.110787 </td><td style=\"text-align: right;\">    0.189009 </td><td style=\"text-align: right;\">   -0.233577 </td><td style=\"text-align: right;\">   -0.256416 </td><td style=\"text-align: right;\">   -0.151486 </td><td style=\"text-align: right;\">   -0.194365 </td><td style=\"text-align: right;\">    0.0897659</td></tr>\n",
       "</tbody>\n",
       "</table>"
      ]
     },
     "metadata": {},
     "output_type": "display_data"
    },
    {
     "data": {
      "text/plain": []
     },
     "execution_count": 27,
     "metadata": {},
     "output_type": "execute_result"
    }
   ],
   "source": [
    "ext_reviews_new.head(3)"
   ]
  },
  {
   "cell_type": "code",
   "execution_count": 28,
   "metadata": {},
   "outputs": [],
   "source": [
    "ext_train_new = ext_reviews_new[ext_reviews_new[\"Train\"] == \"Yes\"]\n",
    "ext_test_new = ext_reviews_new[ext_reviews_new[\"Train\"] == \"No\"]"
   ]
  },
  {
   "cell_type": "code",
   "execution_count": 29,
   "metadata": {},
   "outputs": [],
   "source": [
    "ext_test_simple = ext_test_new.drop([2, 6, 9])"
   ]
  },
  {
   "cell_type": "code",
   "execution_count": 30,
   "metadata": {},
   "outputs": [],
   "source": [
    "predictors = ['ProductId', 'UserId', 'HelpfulnessNumerator', 'HelpfulnessDenominator', 'Time'] + summary_vecs.names + review_vecs.names \n",
    "response = 'PositiveReview'"
   ]
  },
  {
   "cell_type": "markdown",
   "metadata": {},
   "source": [
    "# 2 Training Models"
   ]
  },
  {
   "cell_type": "markdown",
   "metadata": {},
   "source": [
    "## 2.1 Linear Regression"
   ]
  },
  {
   "cell_type": "markdown",
   "metadata": {},
   "source": [
    "### 2.1.1 Train & Fit Model"
   ]
  },
  {
   "cell_type": "code",
   "execution_count": 31,
   "metadata": {},
   "outputs": [
    {
     "name": "stdout",
     "output_type": "stream",
     "text": [
      "glm Model Build progress: |███████████████████████████████████████████████| 100%\n"
     ]
    }
   ],
   "source": [
    "# Initialize\n",
    "local_glm_plus = H2OGeneralizedLinearEstimator(family='binomial', model_id='glm_surrogate', lambda_search=True)\n",
    "# train \n",
    "local_glm_plus.train(x=predictors, y=response, training_frame=ext_train_new)"
   ]
  },
  {
   "cell_type": "markdown",
   "metadata": {},
   "source": [
    "### 2.1.2 Interpretability"
   ]
  },
  {
   "cell_type": "markdown",
   "metadata": {},
   "source": [
    "#### Variable Importance"
   ]
  },
  {
   "cell_type": "code",
   "execution_count": 32,
   "metadata": {},
   "outputs": [
    {
     "data": {
      "image/png": "[encoded data removed]",
      "text/plain": [
       "<Figure size 1008x720 with 1 Axes>"
      ]
     },
     "metadata": {
      "needs_background": "light"
     },
     "output_type": "display_data"
    }
   ],
   "source": [
    "local_glm_plus.varimp_plot()"
   ]
  },
  {
   "cell_type": "markdown",
   "metadata": {},
   "source": [
    "#### Partial Dependence Plot (PDP)"
   ]
  },
  {
   "cell_type": "code",
   "execution_count": 33,
   "metadata": {},
   "outputs": [
    {
     "name": "stdout",
     "output_type": "stream",
     "text": [
      "PartialDependencePlot progress: |█████████████████████████████████████████| 100%\n"
     ]
    },
    {
     "data": {
      "image/png": "[encoded data removed]",
      "text/plain": [
       "<Figure size 504x720 with 1 Axes>"
      ]
     },
     "metadata": {
      "needs_background": "light"
     },
     "output_type": "display_data"
    }
   ],
   "source": [
    "pdp_local_linear_plus = local_glm_plus.partial_plot(data = ext_train_new, cols = [\"HelpfulnessNumerator\"])"
   ]
  },
  {
   "cell_type": "markdown",
   "metadata": {},
   "source": [
    "#### Individual Conditional Expectation (ICE)"
   ]
  },
  {
   "cell_type": "code",
   "execution_count": 36,
   "metadata": {},
   "outputs": [
    {
     "name": "stdout",
     "output_type": "stream",
     "text": [
      "Parse progress: |█████████████████████████████████████████████████████████| 100%\n",
      "glm prediction progress: |████████████████████████████████████████████████| 100%\n"
     ]
    }
   ],
   "source": [
    "HelpfulnessNumerator_ice_df = ice(data=ext_test_simple, column='HelpfulnessNumerator', model=local_glm_plus)"
   ]
  },
  {
   "cell_type": "code",
   "execution_count": 37,
   "metadata": {
    "scrolled": false
   },
   "outputs": [
    {
     "data": {
      "image/png": "[encoded data removed]",
      "text/plain": [
       "<Figure size 1008x792 with 2 Axes>"
      ]
     },
     "metadata": {
      "needs_background": "light"
     },
     "output_type": "display_data"
    }
   ],
   "source": [
    "ice_plot(HelpfulnessNumerator_ice_df, linewidth=0.5, color_by='Score', cmap='coolwarm',\n",
    "        plot_pdp=True, pdp_kwargs={'c': 'k', 'linewidth': 3})\n",
    "vals = HelpfulnessNumerator_ice_df.columns.get_level_values('Score').values\n",
    "sm = plt.cm.ScalarMappable(cmap='coolwarm', norm=plt.Normalize(vmin=vals.min(), vmax=vals.max()))\n",
    "sm._A = []\n",
    "plt.colorbar(sm, label='Score')\n",
    "plt.ylabel('Pred. AV %ile')\n",
    "plt.xlabel('HelpfulnessNumerator');"
   ]
  },
  {
   "cell_type": "markdown",
   "metadata": {},
   "source": [
    "### 2.1.3 Matrix"
   ]
  },
  {
   "cell_type": "code",
   "execution_count": 38,
   "metadata": {},
   "outputs": [
    {
     "name": "stdout",
     "output_type": "stream",
     "text": [
      "\n",
      "Local GLM Coefficients:\n",
      "C22:                      -4.155718056036148\n",
      "C94:                      -3.822656045453817\n",
      "C84:                      -3.554480200551809\n",
      "C45:                      -3.484780414402958\n",
      "C87:                      -3.2659876391740936\n",
      "C33:                      -2.8022493523158962\n",
      "C38:                      -2.0773759422828246\n",
      "C21:                      -2.007971609696023\n",
      "C98:                      -1.984763353305128\n",
      "C6:                       -1.665357154546245\n",
      "C95:                      -1.6477907545644048\n",
      "C65:                      -1.554108975266539\n",
      "C49:                      -1.4925166631376823\n",
      "C16:                      -1.3363694980537446\n",
      "C19:                      -1.2090762815457876\n",
      "summary_C22:              -1.16746623542772\n",
      "C59:                      -1.10997379784825\n",
      "C69:                      -1.054647994249894\n",
      "C73:                      -1.0234681768601919\n",
      "C31:                      -1.012770129647702\n",
      "C60:                      -1.0091230403460485\n",
      "C32:                      -0.9987440851260042\n",
      "C43:                      -0.960683601753892\n",
      "C89:                      -0.9440290483732209\n",
      "C71:                      -0.9173879523167873\n",
      "C34:                      -0.8730044918996999\n",
      "C37:                      -0.8562979245068973\n",
      "summary_C45:              -0.8509900683334993\n",
      "C58:                      -0.8320125653724167\n",
      "C52:                      -0.8283616897638372\n",
      "C79:                      -0.7944886008476435\n",
      "C3:                       -0.7871353796938158\n",
      "summary_C94:              -0.7799273310734542\n",
      "C9:                       -0.7437022207487429\n",
      "C97:                      -0.7290883017612926\n",
      "summary_C33:              -0.7052941160296977\n",
      "C47:                      -0.7029111582488198\n",
      "summary_C6:               -0.6848056852472775\n",
      "C51:                      -0.6814909220200209\n",
      "summary_C16:              -0.6289179301742684\n",
      "summary_C76:              -0.6260442561652367\n",
      "summary_C84:              -0.5877656422113907\n",
      "summary_C95:              -0.5620684144823898\n",
      "summary_C43:              -0.5261453114324479\n",
      "summary_C49:              -0.5254313913756117\n",
      "summary_C96:              -0.5173812877491144\n",
      "summary_C97:              -0.4782979258653881\n",
      "C40:                      -0.4718084466853573\n",
      "C13:                      -0.4652670442335293\n",
      "summary_C40:              -0.4613760840579767\n",
      "C24:                      -0.445955182575227\n",
      "summary_C87:              -0.4256913596303341\n",
      "summary_C21:              -0.40441713491893383\n",
      "C7:                       -0.40347487239539925\n",
      "summary_C9:               -0.37618632644009553\n",
      "C39:                      -0.3715095153670023\n",
      "summary_C79:              -0.3559746584790313\n",
      "summary_C57:              -0.3537962076983785\n",
      "summary_C73:              -0.31200523269922154\n",
      "summary_C82:              -0.30719296489078635\n",
      "C14:                      -0.2950445259891762\n",
      "summary_C58:              -0.2758721199477104\n",
      "C30:                      -0.2697103140042155\n",
      "summary_C71:              -0.2629320000509554\n",
      "summary_C90:              -0.2621467120318567\n",
      "summary_C86:              -0.25758679394517203\n",
      "summary_C60:              -0.24402184738633834\n",
      "summary_C44:              -0.24189759682754497\n",
      "summary_C69:              -0.23044982111938742\n",
      "summary_C66:              -0.21878110850198543\n",
      "summary_C39:              -0.21449051738586686\n",
      "summary_C47:              -0.21268129928829976\n",
      "summary_C1:               -0.19918428326559498\n",
      "summary_C30:              -0.18976286993440805\n",
      "summary_C7:               -0.18576064231766126\n",
      "summary_C52:              -0.177674750138998\n",
      "summary_C28:              -0.17352526062795814\n",
      "summary_C91:              -0.17256684117157686\n",
      "summary_C89:              -0.15971154949448899\n",
      "summary_C59:              -0.148959900822302\n",
      "summary_C37:              -0.12443350990263807\n",
      "summary_C51:              -0.11291142001174809\n",
      "summary_C29:              -0.11225174640721373\n",
      "HelpfulnessDenominator:   -0.09214992267346375\n",
      "summary_C46:              -0.08087673320674063\n",
      "summary_C31:              -0.0710583810690825\n",
      "C57:                      -0.05649172154450623\n",
      "summary_C32:              -0.00748262838469241\n",
      "summary_C3:               -0.00010722872579836279\n",
      "Time:                     -9.095603014780592e-10\n",
      "summary_C4:               0.0035656726043740445\n",
      "summary_C70:              0.004605515202192208\n",
      "C72:                      0.008338722408313511\n",
      "summary_C83:              0.00896334667865578\n",
      "summary_C10:              0.014577247772263447\n",
      "summary_C20:              0.014744819793168953\n",
      "C2:                       0.02325302371450763\n",
      "summary_C38:              0.03251923002678295\n",
      "summary_C42:              0.03617214814619548\n",
      "C1:                       0.060626886389971824\n",
      "summary_C15:              0.07116776660134601\n",
      "summary_C99:              0.09701115570315223\n",
      "summary_C23:              0.09840206218629927\n",
      "summary_C88:              0.09853304691591364\n",
      "HelpfulnessNumerator:     0.10694008738995674\n",
      "summary_C36:              0.10702762918134676\n",
      "C90:                      0.10769830371574982\n",
      "summary_C62:              0.1165754102197842\n",
      "C64:                      0.119426028305826\n",
      "summary_C2:               0.12668125917669104\n",
      "C61:                      0.13295406661036765\n",
      "C55:                      0.13301065585426614\n",
      "summary_C78:              0.14639560372450514\n",
      "summary_C67:              0.15513651902819842\n",
      "summary_C74:              0.18865764976943733\n",
      "summary_C80:              0.21581818455989835\n",
      "summary_C18:              0.24162262947106183\n",
      "summary_C55:              0.24980399733522704\n",
      "summary_C34:              0.25981927560700774\n",
      "C81:                      0.26731456419344585\n",
      "C20:                      0.28001508327840235\n",
      "summary_C54:              0.2869959906999746\n",
      "C74:                      0.28818656372007373\n",
      "summary_C11:              0.3328162574540991\n",
      "summary_C35:              0.3346810647849686\n",
      "summary_C85:              0.35900783415778703\n",
      "summary_C63:              0.38267738046496574\n",
      "summary_C26:              0.40864121427724526\n",
      "summary_C61:              0.41337126277772984\n",
      "summary_C17:              0.4224022352797044\n",
      "C68:                      0.43440571929793853\n",
      "summary_C53:              0.4414387617008295\n",
      "summary_C25:              0.4454457070760447\n",
      "summary_C50:              0.4577896946347707\n",
      "summary_C8:               0.46386282886877706\n",
      "C100:                     0.4691020417009968\n",
      "C88:                      0.543534322400513\n",
      "summary_C92:              0.54406972010254\n",
      "C10:                      0.5610713019763939\n",
      "C67:                      0.5644568437454396\n",
      "summary_C100:             0.5689192832536104\n",
      "summary_C93:              0.6090808305240019\n",
      "C44:                      0.6644187426338494\n",
      "summary_C41:              0.6657224612514276\n",
      "summary_C77:              0.6781358344413291\n",
      "C93:                      0.6783182181670951\n",
      "C15:                      0.7282233743146117\n",
      "C85:                      0.7675054940451835\n",
      "C80:                      0.7886173309918673\n",
      "summary_C12:              0.808499284134066\n",
      "C62:                      0.8126049812706875\n",
      "C53:                      0.8298565362323005\n",
      "C50:                      0.838445545235421\n",
      "C17:                      0.8628158736205929\n",
      "C35:                      0.8760858043368943\n",
      "C23:                      0.9429928327721336\n",
      "C11:                      0.9585572466420849\n",
      "summary_C48:              0.9666456121341968\n",
      "C77:                      1.0128205833123234\n",
      "C25:                      1.084672728486858\n",
      "summary_C27:              1.090161024039769\n",
      "C18:                      1.109721420794017\n",
      "C42:                      1.129322115767127\n",
      "C5:                       1.1847361702596817\n",
      "C41:                      1.2657654998391252\n",
      "C83:                      1.342662627504031\n",
      "C8:                       1.4796046266039244\n",
      "C56:                      1.4948846974046353\n",
      "C92:                      1.6908362542738182\n",
      "C12:                      1.769319990140503\n",
      "C54:                      1.859363681300698\n",
      "C63:                      2.089408941324309\n",
      "C48:                      2.103539233075718\n",
      "C26:                      2.252020204159953\n",
      "C99:                      2.410162024890885\n",
      "Intercept:                2.7264507436369\n",
      "C27:                      4.824713011631502\n"
     ]
    }
   ],
   "source": [
    "print('\\nLocal GLM Coefficients:')\n",
    "for c_name, c_val in sorted(local_glm_plus.coef().items(), key=operator.itemgetter(1)):\n",
    "    if c_val != 0.0:\n",
    "        print('%s %s' % (str(c_name + ':').ljust(25), c_val))"
   ]
  },
  {
   "cell_type": "code",
   "execution_count": 39,
   "metadata": {},
   "outputs": [
    {
     "data": {
      "text/plain": [
       "{'train': 0.42846638133703263, 'valid': None}"
      ]
     },
     "execution_count": 39,
     "metadata": {},
     "output_type": "execute_result"
    }
   ],
   "source": [
    "local_glm_plus.r2(train=True, valid=True)"
   ]
  },
  {
   "cell_type": "code",
   "execution_count": 40,
   "metadata": {},
   "outputs": [
    {
     "data": {
      "text/plain": [
       "0.8749329925231295"
      ]
     },
     "execution_count": 40,
     "metadata": {},
     "output_type": "execute_result"
    }
   ],
   "source": [
    "local_glm_plus.auc()"
   ]
  },
  {
   "cell_type": "code",
   "execution_count": 41,
   "metadata": {},
   "outputs": [
    {
     "name": "stdout",
     "output_type": "stream",
     "text": [
      "Confusion Matrix (Act/Pred) for max f1 @ threshold = 0.45739478619057256: \n"
     ]
    },
    {
     "data": {
      "text/html": [
       "<div style=\"overflow:auto\"><table style=\"width:50%\"><tr><td><b></b></td>\n",
       "<td><b>0</b></td>\n",
       "<td><b>1</b></td>\n",
       "<td><b>Error</b></td>\n",
       "<td><b>Rate</b></td></tr>\n",
       "<tr><td>0</td>\n",
       "<td>9981.0</td>\n",
       "<td>5913.0</td>\n",
       "<td>0.372</td>\n",
       "<td> (5913.0/15894.0)</td></tr>\n",
       "<tr><td>1</td>\n",
       "<td>2226.0</td>\n",
       "<td>26282.0</td>\n",
       "<td>0.0781</td>\n",
       "<td> (2226.0/28508.0)</td></tr>\n",
       "<tr><td>Total</td>\n",
       "<td>12207.0</td>\n",
       "<td>32195.0</td>\n",
       "<td>0.1833</td>\n",
       "<td> (8139.0/44402.0)</td></tr></table></div>"
      ],
      "text/plain": [
       "       0      1      Error    Rate\n",
       "-----  -----  -----  -------  ----------------\n",
       "0      9981   5913   0.372    (5913.0/15894.0)\n",
       "1      2226   26282  0.0781   (2226.0/28508.0)\n",
       "Total  12207  32195  0.1833   (8139.0/44402.0)"
      ]
     },
     "metadata": {},
     "output_type": "display_data"
    },
    {
     "data": {
      "text/plain": []
     },
     "execution_count": 41,
     "metadata": {},
     "output_type": "execute_result"
    }
   ],
   "source": [
    "local_glm_plus.confusion_matrix()"
   ]
  },
  {
   "cell_type": "markdown",
   "metadata": {},
   "source": [
    "## 2.2 Logistic Regression"
   ]
  },
  {
   "cell_type": "markdown",
   "metadata": {},
   "source": [
    "### 2.2.1 Train & Fit Model"
   ]
  },
  {
   "cell_type": "code",
   "execution_count": 31,
   "metadata": {},
   "outputs": [
    {
     "name": "stdout",
     "output_type": "stream",
     "text": [
      "glm Model Build progress: |███████████████████████████████████████████████| 100%\n"
     ]
    }
   ],
   "source": [
    "glm_logistic_plus_summary = H2OGeneralizedLinearEstimator(family = \"binomial\")\n",
    "glm_logistic_plus_summary.train(x=predictors, \n",
    "                               y= response, \n",
    "                               training_frame = ext_train_new, \n",
    "                               validation_frame = ext_test_new, \n",
    "                               model_id=\"glm_logistic\")"
   ]
  },
  {
   "cell_type": "markdown",
   "metadata": {},
   "source": [
    "### 2.2.2 Interpretability"
   ]
  },
  {
   "cell_type": "markdown",
   "metadata": {},
   "source": [
    "#### Variable Importance"
   ]
  },
  {
   "cell_type": "code",
   "execution_count": 32,
   "metadata": {},
   "outputs": [
    {
     "data": {
      "image/png": "[encoded data removed]",
      "text/plain": [
       "<Figure size 1008x720 with 1 Axes>"
      ]
     },
     "metadata": {
      "needs_background": "light"
     },
     "output_type": "display_data"
    }
   ],
   "source": [
    "glm_logistic_plus_summary.varimp_plot()"
   ]
  },
  {
   "cell_type": "markdown",
   "metadata": {},
   "source": [
    "#### Partial Dependence Plot (PDP)"
   ]
  },
  {
   "cell_type": "code",
   "execution_count": 33,
   "metadata": {},
   "outputs": [
    {
     "name": "stdout",
     "output_type": "stream",
     "text": [
      "PartialDependencePlot progress: |█████████████████████████████████████████| 100%\n"
     ]
    },
    {
     "data": {
      "image/png": "[encoded data removed]",
      "text/plain": [
       "<Figure size 504x720 with 1 Axes>"
      ]
     },
     "metadata": {
      "needs_background": "light"
     },
     "output_type": "display_data"
    }
   ],
   "source": [
    "pdp_word_vecs = glm_logistic_plus_summary.partial_plot(data = ext_train_new, cols = [\"C66\"])"
   ]
  },
  {
   "cell_type": "markdown",
   "metadata": {},
   "source": [
    "#### Individual Conditional Expectation (ICE)"
   ]
  },
  {
   "cell_type": "code",
   "execution_count": null,
   "metadata": {},
   "outputs": [],
   "source": [
    "C66_ice_df = ice(data=ext_test_simple, column='C66', model=glm_logistic_plus_summary)"
   ]
  },
  {
   "cell_type": "code",
   "execution_count": null,
   "metadata": {},
   "outputs": [],
   "source": [
    "ice_plot(C66_ice_df, linewidth=0.5, color_by='Score', cmap='coolwarm',\n",
    "        plot_pdp=True, pdp_kwargs={'c': 'k', 'linewidth': 3})\n",
    "vals = C66_ice_df.columns.get_level_values('Score').values\n",
    "sm = plt.cm.ScalarMappable(cmap='coolwarm', norm=plt.Normalize(vmin=vals.min(), vmax=vals.max()))\n",
    "sm._A = []\n",
    "plt.colorbar(sm, label='Score')\n",
    "plt.ylabel('Pred. AV %ile')\n",
    "plt.xlabel('C66');"
   ]
  },
  {
   "cell_type": "markdown",
   "metadata": {},
   "source": [
    "### 2.2.3 Matrix"
   ]
  },
  {
   "cell_type": "code",
   "execution_count": 68,
   "metadata": {},
   "outputs": [
    {
     "name": "stdout",
     "output_type": "stream",
     "text": [
      "With Summary and Review Embeddings AUC: 0.857\n"
     ]
    }
   ],
   "source": [
    "print(\"With Summary and Review Embeddings AUC: \" + str(round(glm_logistic_plus_summary.auc(valid = True), 3)))"
   ]
  },
  {
   "cell_type": "code",
   "execution_count": 69,
   "metadata": {},
   "outputs": [
    {
     "name": "stdout",
     "output_type": "stream",
     "text": [
      "Confusion Matrix (Act/Pred) for max f1 @ threshold = 0.46869425484942073: \n"
     ]
    },
    {
     "data": {
      "text/html": [
       "<div style=\"overflow:auto\"><table style=\"width:50%\"><tr><td><b></b></td>\n",
       "<td><b>0</b></td>\n",
       "<td><b>1</b></td>\n",
       "<td><b>Error</b></td>\n",
       "<td><b>Rate</b></td></tr>\n",
       "<tr><td>0</td>\n",
       "<td>2452.0</td>\n",
       "<td>1760.0</td>\n",
       "<td>0.4179</td>\n",
       "<td> (1760.0/4212.0)</td></tr>\n",
       "<tr><td>1</td>\n",
       "<td>501.0</td>\n",
       "<td>6439.0</td>\n",
       "<td>0.0722</td>\n",
       "<td> (501.0/6940.0)</td></tr>\n",
       "<tr><td>Total</td>\n",
       "<td>2953.0</td>\n",
       "<td>8199.0</td>\n",
       "<td>0.2027</td>\n",
       "<td> (2261.0/11152.0)</td></tr></table></div>"
      ],
      "text/plain": [
       "       0     1     Error    Rate\n",
       "-----  ----  ----  -------  ----------------\n",
       "0      2452  1760  0.4179   (1760.0/4212.0)\n",
       "1      501   6439  0.0722   (501.0/6940.0)\n",
       "Total  2953  8199  0.2027   (2261.0/11152.0)"
      ]
     },
     "metadata": {},
     "output_type": "display_data"
    },
    {
     "data": {
      "text/plain": []
     },
     "execution_count": 69,
     "metadata": {},
     "output_type": "execute_result"
    }
   ],
   "source": [
    "glm_logistic_plus_summary.confusion_matrix(valid = True)"
   ]
  },
  {
   "cell_type": "code",
   "execution_count": 70,
   "metadata": {},
   "outputs": [
    {
     "name": "stdout",
     "output_type": "stream",
     "text": [
      "Confusion Matrix (Act/Pred) for max f1 @ threshold = 0.46869425484942073: \n"
     ]
    },
    {
     "data": {
      "text/html": [
       "<div style=\"overflow:auto\"><table style=\"width:50%\"><tr><td><b></b></td>\n",
       "<td><b>0</b></td>\n",
       "<td><b>1</b></td>\n",
       "<td><b>Error</b></td>\n",
       "<td><b>Rate</b></td></tr>\n",
       "<tr><td>0</td>\n",
       "<td>2452.0</td>\n",
       "<td>1760.0</td>\n",
       "<td>0.4179</td>\n",
       "<td> (1760.0/4212.0)</td></tr>\n",
       "<tr><td>1</td>\n",
       "<td>501.0</td>\n",
       "<td>6439.0</td>\n",
       "<td>0.0722</td>\n",
       "<td> (501.0/6940.0)</td></tr>\n",
       "<tr><td>Total</td>\n",
       "<td>2953.0</td>\n",
       "<td>8199.0</td>\n",
       "<td>0.2027</td>\n",
       "<td> (2261.0/11152.0)</td></tr></table></div>"
      ],
      "text/plain": [
       "       0     1     Error    Rate\n",
       "-----  ----  ----  -------  ----------------\n",
       "0      2452  1760  0.4179   (1760.0/4212.0)\n",
       "1      501   6439  0.0722   (501.0/6940.0)\n",
       "Total  2953  8199  0.2027   (2261.0/11152.0)"
      ]
     },
     "metadata": {},
     "output_type": "display_data"
    },
    {
     "data": {
      "text/plain": []
     },
     "execution_count": 70,
     "metadata": {},
     "output_type": "execute_result"
    }
   ],
   "source": [
    "glm_logistic_plus_summary.confusion_matrix(valid = True)"
   ]
  },
  {
   "cell_type": "markdown",
   "metadata": {},
   "source": [
    "## 2.3 Decision Tree"
   ]
  },
  {
   "cell_type": "code",
   "execution_count": 71,
   "metadata": {},
   "outputs": [],
   "source": [
    "from h2o.estimators.random_forest import H2ORandomForestEstimator # for single tree\n",
    "# in-notebook display\n",
    "from IPython.display import Image\n",
    "from IPython.display import display\n",
    "%matplotlib inline"
   ]
  },
  {
   "cell_type": "markdown",
   "metadata": {},
   "source": [
    "### 2.3.1 Train & Fit Model"
   ]
  },
  {
   "cell_type": "code",
   "execution_count": 72,
   "metadata": {},
   "outputs": [],
   "source": [
    "predictors = ['ProductId', 'UserId', 'HelpfulnessNumerator', 'HelpfulnessDenominator', 'Time'] + review_vecs.names + summary_vecs.names\n",
    "response = 'PositiveReview'"
   ]
  },
  {
   "cell_type": "code",
   "execution_count": 73,
   "metadata": {},
   "outputs": [
    {
     "name": "stdout",
     "output_type": "stream",
     "text": [
      "gbm Model Build progress: |███████████████████████████████████████████████| 100%\n"
     ]
    }
   ],
   "source": [
    "# initialize single tree surrogate model\n",
    "model_id = 'dt_surrogate_mojo'\n",
    "\n",
    "# train single tree surrogate model\n",
    "surrogate = H2OGradientBoostingEstimator(ntrees=1,\n",
    "                                         sample_rate=1,\n",
    "                                         col_sample_rate=1,\n",
    "                                         max_depth=3,\n",
    "                                         seed=12345,\n",
    "                                         model_id=model_id)\n",
    "\n",
    "_ = surrogate.train(x=predictors, y=response, training_frame=ext_train_new)"
   ]
  },
  {
   "cell_type": "markdown",
   "metadata": {},
   "source": [
    "### 2.3.2 Interpretability"
   ]
  },
  {
   "cell_type": "markdown",
   "metadata": {},
   "source": [
    "#### Variable Importance"
   ]
  },
  {
   "cell_type": "code",
   "execution_count": 74,
   "metadata": {},
   "outputs": [
    {
     "data": {
      "image/png": "[encoded data removed]",
      "text/plain": [
       "<Figure size 1008x720 with 1 Axes>"
      ]
     },
     "metadata": {
      "needs_background": "light"
     },
     "output_type": "display_data"
    }
   ],
   "source": [
    "surrogate.varimp_plot()"
   ]
  },
  {
   "cell_type": "markdown",
   "metadata": {},
   "source": [
    "#### Partial Dependence Plot (PDP)"
   ]
  },
  {
   "cell_type": "code",
   "execution_count": 75,
   "metadata": {},
   "outputs": [
    {
     "name": "stdout",
     "output_type": "stream",
     "text": [
      "PartialDependencePlot progress: |█████████████████████████████████████████| 100%\n"
     ]
    },
    {
     "data": {
      "image/png": "[encoded data removed]",
      "text/plain": [
       "<Figure size 504x720 with 1 Axes>"
      ]
     },
     "metadata": {
      "needs_background": "light"
     },
     "output_type": "display_data"
    }
   ],
   "source": [
    "pdp_word_vecs = surrogate.partial_plot(data = ext_train_new, cols = [\"summary_C24\"])"
   ]
  },
  {
   "cell_type": "markdown",
   "metadata": {},
   "source": [
    "#### Individual Conditional Expectation (ICE)"
   ]
  },
  {
   "cell_type": "code",
   "execution_count": null,
   "metadata": {},
   "outputs": [],
   "source": [
    "summary_C24_ice_df = ice(data=ext_test_simple, column='summary_C24', model=surrogate)"
   ]
  },
  {
   "cell_type": "code",
   "execution_count": null,
   "metadata": {},
   "outputs": [],
   "source": [
    "ice_plot(summary_C24_ice_df, linewidth=0.5, color_by='Score', cmap='coolwarm',\n",
    "        plot_pdp=True, pdp_kwargs={'c': 'k', 'linewidth': 3})\n",
    "vals = summary_C24_ice_df.columns.get_level_values('Score').values\n",
    "sm = plt.cm.ScalarMappable(cmap='coolwarm', norm=plt.Normalize(vmin=vals.min(), vmax=vals.max()))\n",
    "sm._A = []\n",
    "plt.colorbar(sm, label='Score')\n",
    "plt.ylabel('Pred. AV %ile')\n",
    "plt.xlabel('summary_C24');"
   ]
  },
  {
   "cell_type": "markdown",
   "metadata": {},
   "source": [
    "### 2.3.3 Matrix"
   ]
  },
  {
   "cell_type": "code",
   "execution_count": 76,
   "metadata": {},
   "outputs": [
    {
     "name": "stdout",
     "output_type": "stream",
     "text": [
      "Model Details\n",
      "=============\n",
      "H2OGradientBoostingEstimator :  Gradient Boosting Machine\n",
      "Model Key:  dt_surrogate_mojo\n",
      "\n",
      "\n",
      "ModelMetricsBinomial: gbm\n",
      "** Reported on train data. **\n",
      "\n",
      "MSE: 0.22490468188680712\n",
      "RMSE: 0.4742411642685682\n",
      "LogLoss: 0.6415846447228967\n",
      "Mean Per-Class Error: 0.35615213187394557\n",
      "AUC: 0.692578222817862\n",
      "pr_auc: 0.42284625175470336\n",
      "Gini: 0.38515644563572393\n",
      "Confusion Matrix (Act/Pred) for max f1 @ threshold = 0.6287949244602625: \n"
     ]
    },
    {
     "data": {
      "text/html": [
       "<div style=\"overflow:auto\"><table style=\"width:50%\"><tr><td><b></b></td>\n",
       "<td><b>0</b></td>\n",
       "<td><b>1</b></td>\n",
       "<td><b>Error</b></td>\n",
       "<td><b>Rate</b></td></tr>\n",
       "<tr><td>0</td>\n",
       "<td>4338.0</td>\n",
       "<td>11556.0</td>\n",
       "<td>0.7271</td>\n",
       "<td> (11556.0/15894.0)</td></tr>\n",
       "<tr><td>1</td>\n",
       "<td>2322.0</td>\n",
       "<td>26186.0</td>\n",
       "<td>0.0815</td>\n",
       "<td> (2322.0/28508.0)</td></tr>\n",
       "<tr><td>Total</td>\n",
       "<td>6660.0</td>\n",
       "<td>37742.0</td>\n",
       "<td>0.3126</td>\n",
       "<td> (13878.0/44402.0)</td></tr></table></div>"
      ],
      "text/plain": [
       "       0     1      Error    Rate\n",
       "-----  ----  -----  -------  -----------------\n",
       "0      4338  11556  0.7271   (11556.0/15894.0)\n",
       "1      2322  26186  0.0815   (2322.0/28508.0)\n",
       "Total  6660  37742  0.3126   (13878.0/44402.0)"
      ]
     },
     "metadata": {},
     "output_type": "display_data"
    },
    {
     "name": "stdout",
     "output_type": "stream",
     "text": [
      "Maximum Metrics: Maximum metrics at their respective thresholds\n",
      "\n"
     ]
    },
    {
     "data": {
      "text/html": [
       "<div style=\"overflow:auto\"><table style=\"width:50%\"><tr><td><b>metric</b></td>\n",
       "<td><b>threshold</b></td>\n",
       "<td><b>value</b></td>\n",
       "<td><b>idx</b></td></tr>\n",
       "<tr><td>max f1</td>\n",
       "<td>0.6287949</td>\n",
       "<td>0.7905208</td>\n",
       "<td>5.0</td></tr>\n",
       "<tr><td>max f2</td>\n",
       "<td>0.6115796</td>\n",
       "<td>0.8996806</td>\n",
       "<td>7.0</td></tr>\n",
       "<tr><td>max f0point5</td>\n",
       "<td>0.6419479</td>\n",
       "<td>0.7451607</td>\n",
       "<td>3.0</td></tr>\n",
       "<tr><td>max accuracy</td>\n",
       "<td>0.6287949</td>\n",
       "<td>0.6874465</td>\n",
       "<td>5.0</td></tr>\n",
       "<tr><td>max precision</td>\n",
       "<td>0.6589095</td>\n",
       "<td>0.8125619</td>\n",
       "<td>0.0</td></tr>\n",
       "<tr><td>max recall</td>\n",
       "<td>0.6115796</td>\n",
       "<td>1.0</td>\n",
       "<td>7.0</td></tr>\n",
       "<tr><td>max specificity</td>\n",
       "<td>0.6589095</td>\n",
       "<td>0.8212533</td>\n",
       "<td>0.0</td></tr>\n",
       "<tr><td>max absolute_mcc</td>\n",
       "<td>0.6419479</td>\n",
       "<td>0.2880008</td>\n",
       "<td>3.0</td></tr>\n",
       "<tr><td>max min_per_class_accuracy</td>\n",
       "<td>0.6446020</td>\n",
       "<td>0.6281616</td>\n",
       "<td>2.0</td></tr>\n",
       "<tr><td>max mean_per_class_accuracy</td>\n",
       "<td>0.6446020</td>\n",
       "<td>0.6438479</td>\n",
       "<td>2.0</td></tr></table></div>"
      ],
      "text/plain": [
       "metric                       threshold    value     idx\n",
       "---------------------------  -----------  --------  -----\n",
       "max f1                       0.628795     0.790521  5\n",
       "max f2                       0.61158      0.899681  7\n",
       "max f0point5                 0.641948     0.745161  3\n",
       "max accuracy                 0.628795     0.687447  5\n",
       "max precision                0.65891      0.812562  0\n",
       "max recall                   0.61158      1         7\n",
       "max specificity              0.65891      0.821253  0\n",
       "max absolute_mcc             0.641948     0.288001  3\n",
       "max min_per_class_accuracy   0.644602     0.628162  2\n",
       "max mean_per_class_accuracy  0.644602     0.643848  2"
      ]
     },
     "metadata": {},
     "output_type": "display_data"
    },
    {
     "name": "stdout",
     "output_type": "stream",
     "text": [
      "Gains/Lift Table: Avg response rate: 64.20 %, avg score: 64.19 %\n",
      "\n"
     ]
    },
    {
     "data": {
      "text/html": [
       "<div style=\"overflow:auto\"><table style=\"width:50%\"><tr><td><b></b></td>\n",
       "<td><b>group</b></td>\n",
       "<td><b>cumulative_data_fraction</b></td>\n",
       "<td><b>lower_threshold</b></td>\n",
       "<td><b>lift</b></td>\n",
       "<td><b>cumulative_lift</b></td>\n",
       "<td><b>response_rate</b></td>\n",
       "<td><b>score</b></td>\n",
       "<td><b>cumulative_response_rate</b></td>\n",
       "<td><b>cumulative_score</b></td>\n",
       "<td><b>capture_rate</b></td>\n",
       "<td><b>cumulative_capture_rate</b></td>\n",
       "<td><b>gain</b></td>\n",
       "<td><b>cumulative_gain</b></td></tr>\n",
       "<tr><td></td>\n",
       "<td>1</td>\n",
       "<td>0.3413585</td>\n",
       "<td>0.6589095</td>\n",
       "<td>1.2655876</td>\n",
       "<td>1.2655876</td>\n",
       "<td>0.8125619</td>\n",
       "<td>0.6589095</td>\n",
       "<td>0.8125619</td>\n",
       "<td>0.6589095</td>\n",
       "<td>0.4320191</td>\n",
       "<td>0.4320191</td>\n",
       "<td>26.5587603</td>\n",
       "<td>26.5587603</td></tr>\n",
       "<tr><td></td>\n",
       "<td>2</td>\n",
       "<td>0.5565515</td>\n",
       "<td>0.6446020</td>\n",
       "<td>1.0572606</td>\n",
       "<td>1.1850371</td>\n",
       "<td>0.6788069</td>\n",
       "<td>0.6457080</td>\n",
       "<td>0.7608449</td>\n",
       "<td>0.6538051</td>\n",
       "<td>0.2275151</td>\n",
       "<td>0.6595342</td>\n",
       "<td>5.7260569</td>\n",
       "<td>18.5037068</td></tr>\n",
       "<tr><td></td>\n",
       "<td>3</td>\n",
       "<td>0.6457817</td>\n",
       "<td>0.6419479</td>\n",
       "<td>0.9985160</td>\n",
       "<td>1.1592647</td>\n",
       "<td>0.6410904</td>\n",
       "<td>0.6419479</td>\n",
       "<td>0.7442980</td>\n",
       "<td>0.6521667</td>\n",
       "<td>0.0890978</td>\n",
       "<td>0.7486320</td>\n",
       "<td>-0.1484001</td>\n",
       "<td>15.9264714</td></tr>\n",
       "<tr><td></td>\n",
       "<td>4</td>\n",
       "<td>0.7469709</td>\n",
       "<td>0.6336163</td>\n",
       "<td>0.8694145</td>\n",
       "<td>1.1199999</td>\n",
       "<td>0.5582016</td>\n",
       "<td>0.6336163</td>\n",
       "<td>0.7190883</td>\n",
       "<td>0.6496538</td>\n",
       "<td>0.0879753</td>\n",
       "<td>0.8366073</td>\n",
       "<td>-13.0585466</td>\n",
       "<td>11.9999877</td></tr>\n",
       "<tr><td></td>\n",
       "<td>5</td>\n",
       "<td>0.8500068</td>\n",
       "<td>0.6287949</td>\n",
       "<td>0.7952754</td>\n",
       "<td>1.0806375</td>\n",
       "<td>0.5106011</td>\n",
       "<td>0.6287949</td>\n",
       "<td>0.6938159</td>\n",
       "<td>0.6471253</td>\n",
       "<td>0.0819419</td>\n",
       "<td>0.9185492</td>\n",
       "<td>-20.4724648</td>\n",
       "<td>8.0637503</td></tr>\n",
       "<tr><td></td>\n",
       "<td>6</td>\n",
       "<td>1.0</td>\n",
       "<td>0.6115796</td>\n",
       "<td>0.5430299</td>\n",
       "<td>1.0</td>\n",
       "<td>0.3486486</td>\n",
       "<td>0.6122017</td>\n",
       "<td>0.6420432</td>\n",
       "<td>0.6418870</td>\n",
       "<td>0.0814508</td>\n",
       "<td>1.0</td>\n",
       "<td>-45.6970068</td>\n",
       "<td>0.0</td></tr></table></div>"
      ],
      "text/plain": [
       "    group    cumulative_data_fraction    lower_threshold    lift      cumulative_lift    response_rate    score     cumulative_response_rate    cumulative_score    capture_rate    cumulative_capture_rate    gain      cumulative_gain\n",
       "--  -------  --------------------------  -----------------  --------  -----------------  ---------------  --------  --------------------------  ------------------  --------------  -------------------------  --------  -----------------\n",
       "    1        0.341358                    0.65891            1.26559   1.26559            0.812562         0.65891   0.812562                    0.65891             0.432019        0.432019                   26.5588   26.5588\n",
       "    2        0.556552                    0.644602           1.05726   1.18504            0.678807         0.645708  0.760845                    0.653805            0.227515        0.659534                   5.72606   18.5037\n",
       "    3        0.645782                    0.641948           0.998516  1.15926            0.64109          0.641948  0.744298                    0.652167            0.0890978       0.748632                   -0.1484   15.9265\n",
       "    4        0.746971                    0.633616           0.869415  1.12               0.558202         0.633616  0.719088                    0.649654            0.0879753       0.836607                   -13.0585  12\n",
       "    5        0.850007                    0.628795           0.795275  1.08064            0.510601         0.628795  0.693816                    0.647125            0.0819419       0.918549                   -20.4725  8.06375\n",
       "    6        1                           0.61158            0.54303   1                  0.348649         0.612202  0.642043                    0.641887            0.0814508       1                          -45.697   0"
      ]
     },
     "metadata": {},
     "output_type": "display_data"
    },
    {
     "name": "stdout",
     "output_type": "stream",
     "text": [
      "\n",
      "Scoring History: \n"
     ]
    },
    {
     "data": {
      "text/html": [
       "<div style=\"overflow:auto\"><table style=\"width:50%\"><tr><td><b></b></td>\n",
       "<td><b>timestamp</b></td>\n",
       "<td><b>duration</b></td>\n",
       "<td><b>number_of_trees</b></td>\n",
       "<td><b>training_rmse</b></td>\n",
       "<td><b>training_logloss</b></td>\n",
       "<td><b>training_auc</b></td>\n",
       "<td><b>training_pr_auc</b></td>\n",
       "<td><b>training_lift</b></td>\n",
       "<td><b>training_classification_error</b></td></tr>\n",
       "<tr><td></td>\n",
       "<td>2019-04-23 19:11:28</td>\n",
       "<td> 0.005 sec</td>\n",
       "<td>0.0</td>\n",
       "<td>0.4793994</td>\n",
       "<td>0.6522336</td>\n",
       "<td>0.5</td>\n",
       "<td>0.0</td>\n",
       "<td>1.0</td>\n",
       "<td>0.3579568</td></tr>\n",
       "<tr><td></td>\n",
       "<td>2019-04-23 19:11:28</td>\n",
       "<td> 0.107 sec</td>\n",
       "<td>1.0</td>\n",
       "<td>0.4742412</td>\n",
       "<td>0.6415846</td>\n",
       "<td>0.6925782</td>\n",
       "<td>0.4228463</td>\n",
       "<td>1.2655876</td>\n",
       "<td>0.3125535</td></tr></table></div>"
      ],
      "text/plain": [
       "    timestamp            duration    number_of_trees    training_rmse    training_logloss    training_auc    training_pr_auc    training_lift    training_classification_error\n",
       "--  -------------------  ----------  -----------------  ---------------  ------------------  --------------  -----------------  ---------------  -------------------------------\n",
       "    2019-04-23 19:11:28  0.005 sec   0                  0.479399         0.652234            0.5             0                  1                0.357957\n",
       "    2019-04-23 19:11:28  0.107 sec   1                  0.474241         0.641585            0.692578        0.422846           1.26559          0.312553"
      ]
     },
     "metadata": {},
     "output_type": "display_data"
    },
    {
     "name": "stdout",
     "output_type": "stream",
     "text": [
      "Variable Importances: \n"
     ]
    },
    {
     "data": {
      "text/html": [
       "<div style=\"overflow:auto\"><table style=\"width:50%\"><tr><td><b>variable</b></td>\n",
       "<td><b>relative_importance</b></td>\n",
       "<td><b>scaled_importance</b></td>\n",
       "<td><b>percentage</b></td></tr>\n",
       "<tr><td>summary_C24</td>\n",
       "<td>420.7445679</td>\n",
       "<td>1.0</td>\n",
       "<td>0.3677554</td></tr>\n",
       "<tr><td>summary_C78</td>\n",
       "<td>290.7519531</td>\n",
       "<td>0.6910415</td>\n",
       "<td>0.2541342</td></tr>\n",
       "<tr><td>summary_C25</td>\n",
       "<td>200.9385681</td>\n",
       "<td>0.4775785</td>\n",
       "<td>0.1756321</td></tr>\n",
       "<tr><td>C48</td>\n",
       "<td>118.4606781</td>\n",
       "<td>0.2815501</td>\n",
       "<td>0.1035416</td></tr>\n",
       "<tr><td>C46</td>\n",
       "<td>61.1193810</td>\n",
       "<td>0.1452648</td>\n",
       "<td>0.0534219</td></tr>\n",
       "<tr><td>---</td>\n",
       "<td>---</td>\n",
       "<td>---</td>\n",
       "<td>---</td></tr>\n",
       "<tr><td>summary_C96</td>\n",
       "<td>0.0</td>\n",
       "<td>0.0</td>\n",
       "<td>0.0</td></tr>\n",
       "<tr><td>summary_C97</td>\n",
       "<td>0.0</td>\n",
       "<td>0.0</td>\n",
       "<td>0.0</td></tr>\n",
       "<tr><td>summary_C98</td>\n",
       "<td>0.0</td>\n",
       "<td>0.0</td>\n",
       "<td>0.0</td></tr>\n",
       "<tr><td>summary_C99</td>\n",
       "<td>0.0</td>\n",
       "<td>0.0</td>\n",
       "<td>0.0</td></tr>\n",
       "<tr><td>summary_C100</td>\n",
       "<td>0.0</td>\n",
       "<td>0.0</td>\n",
       "<td>0.0</td></tr></table></div>"
      ],
      "text/plain": [
       "variable      relative_importance    scaled_importance    percentage\n",
       "------------  ---------------------  -------------------  -------------------\n",
       "summary_C24   420.74456787109375     1.0                  0.3677554104048984\n",
       "summary_C78   290.751953125          0.691041490080698    0.25413424679143964\n",
       "summary_C25   200.93856811523438     0.4775785202217922   0.17563208470472927\n",
       "C48           118.46067810058594     0.28155010699241995  0.10354157514654046\n",
       "C46           61.119380950927734     0.14526481294858518  0.05342192090329775\n",
       "---           ---                    ---                  ---\n",
       "summary_C96   0.0                    0.0                  0.0\n",
       "summary_C97   0.0                    0.0                  0.0\n",
       "summary_C98   0.0                    0.0                  0.0\n",
       "summary_C99   0.0                    0.0                  0.0\n",
       "summary_C100  0.0                    0.0                  0.0"
      ]
     },
     "metadata": {},
     "output_type": "display_data"
    },
    {
     "name": "stdout",
     "output_type": "stream",
     "text": [
      "\n",
      "See the whole table with table.as_data_frame()\n",
      "\n"
     ]
    }
   ],
   "source": [
    "print(surrogate)"
   ]
  },
  {
   "cell_type": "markdown",
   "metadata": {},
   "source": [
    "## 2.4 Gradient Boosting"
   ]
  },
  {
   "cell_type": "markdown",
   "metadata": {},
   "source": [
    "### 2.4.1 Train & Fit Model"
   ]
  },
  {
   "cell_type": "code",
   "execution_count": 77,
   "metadata": {},
   "outputs": [
    {
     "name": "stdout",
     "output_type": "stream",
     "text": [
      "gbm Model Build progress: |███████████████████████████████████████████████| 100%\n"
     ]
    }
   ],
   "source": [
    "gbm = H2OGradientBoostingEstimator(stopping_metric = \"AUC\",\n",
    "                                           stopping_tolerance = 0.001,\n",
    "                                           stopping_rounds = 5, \n",
    "                                           score_tree_interval = 10, \n",
    "                                           model_id = 'gbm.hex')\n",
    "gbm.train(x = predictors, \n",
    "                   y = response,\n",
    "                  training_frame = ext_train_new,\n",
    "                  validation_frame = ext_test_new)"
   ]
  },
  {
   "cell_type": "markdown",
   "metadata": {},
   "source": [
    "### 2.4.2 Interpretability"
   ]
  },
  {
   "cell_type": "markdown",
   "metadata": {},
   "source": [
    "#### Variable Importance"
   ]
  },
  {
   "cell_type": "code",
   "execution_count": 78,
   "metadata": {},
   "outputs": [
    {
     "data": {
      "image/png": "[encoded data removed]",
      "text/plain": [
       "<Figure size 1008x720 with 1 Axes>"
      ]
     },
     "metadata": {
      "needs_background": "light"
     },
     "output_type": "display_data"
    }
   ],
   "source": [
    "gbm.varimp_plot()"
   ]
  },
  {
   "cell_type": "markdown",
   "metadata": {},
   "source": [
    "#### Partial Dependence Plot (PDP)"
   ]
  },
  {
   "cell_type": "code",
   "execution_count": 79,
   "metadata": {
    "scrolled": false
   },
   "outputs": [
    {
     "name": "stdout",
     "output_type": "stream",
     "text": [
      "PartialDependencePlot progress: |█████████████████████████████████████████| 100%\n"
     ]
    },
    {
     "data": {
      "image/png": "[encoded data removed]",
      "text/plain": [
       "<Figure size 504x720 with 1 Axes>"
      ]
     },
     "metadata": {
      "needs_background": "light"
     },
     "output_type": "display_data"
    }
   ],
   "source": [
    "pdp_helpfulness = gbm.partial_plot(ext_train_new, cols = ['C24'])"
   ]
  },
  {
   "cell_type": "markdown",
   "metadata": {},
   "source": [
    "#### Individual Conditional Expectation (ICE)"
   ]
  },
  {
   "cell_type": "code",
   "execution_count": 66,
   "metadata": {},
   "outputs": [
    {
     "ename": "NameError",
     "evalue": "name 'ext_test_s' is not defined",
     "output_type": "error",
     "traceback": [
      "\u001b[0;31m---------------------------------------------------------------------------\u001b[0m",
      "\u001b[0;31mNameError\u001b[0m                                 Traceback (most recent call last)",
      "\u001b[0;32m<ipython-input-66-1c904a17955e>\u001b[0m in \u001b[0;36m<module>\u001b[0;34m\u001b[0m\n\u001b[1;32m      1\u001b[0m \u001b[0;32mfrom\u001b[0m \u001b[0miice\u001b[0m \u001b[0;32mimport\u001b[0m \u001b[0mice\u001b[0m\u001b[0;34m,\u001b[0m \u001b[0mice_plot\u001b[0m\u001b[0;34m\u001b[0m\u001b[0;34m\u001b[0m\u001b[0m\n\u001b[0;32m----> 2\u001b[0;31m \u001b[0mHelpfulnessNumerator_ice_df\u001b[0m \u001b[0;34m=\u001b[0m \u001b[0mice\u001b[0m\u001b[0;34m(\u001b[0m\u001b[0mdata\u001b[0m\u001b[0;34m=\u001b[0m\u001b[0mext_test_s\u001b[0m\u001b[0;34m,\u001b[0m \u001b[0mcolumn\u001b[0m\u001b[0;34m=\u001b[0m\u001b[0;34m'C22'\u001b[0m\u001b[0;34m,\u001b[0m \u001b[0mmodel\u001b[0m\u001b[0;34m=\u001b[0m\u001b[0mgbm\u001b[0m\u001b[0;34m)\u001b[0m\u001b[0;34m\u001b[0m\u001b[0;34m\u001b[0m\u001b[0m\n\u001b[0m",
      "\u001b[0;31mNameError\u001b[0m: name 'ext_test_s' is not defined"
     ]
    }
   ],
   "source": [
    "C24_ice_df = ice(data=ext_test_simple, column='C24', model=gbm)"
   ]
  },
  {
   "cell_type": "code",
   "execution_count": null,
   "metadata": {},
   "outputs": [],
   "source": [
    "ice_plot(C24_ice_df, linewidth=0.5, color_by='Score', cmap='coolwarm',\n",
    "        plot_pdp=True, pdp_kwargs={'c': 'k', 'linewidth': 3})\n",
    "vals = C24_ice_df.columns.get_level_values('Score').values\n",
    "sm = plt.cm.ScalarMappable(cmap='coolwarm', norm=plt.Normalize(vmin=vals.min(), vmax=vals.max()))\n",
    "sm._A = []\n",
    "plt.colorbar(sm, label='Score')\n",
    "plt.ylabel('Pred. AV %ile')\n",
    "plt.xlabel('C24');"
   ]
  },
  {
   "cell_type": "markdown",
   "metadata": {},
   "source": [
    "### 2.4.3 Matrix"
   ]
  },
  {
   "cell_type": "code",
   "execution_count": 80,
   "metadata": {},
   "outputs": [
    {
     "name": "stdout",
     "output_type": "stream",
     "text": [
      "AUC on validation data: 0.851\n"
     ]
    }
   ],
   "source": [
    "print(\"AUC on validation data: \" + str(round(gbm.auc(valid = True), 3)))"
   ]
  },
  {
   "cell_type": "code",
   "execution_count": 81,
   "metadata": {},
   "outputs": [
    {
     "name": "stdout",
     "output_type": "stream",
     "text": [
      "Confusion Matrix (Act/Pred) for max f1 @ threshold = 0.5160766138956321: \n"
     ]
    },
    {
     "data": {
      "text/html": [
       "<div style=\"overflow:auto\"><table style=\"width:50%\"><tr><td><b></b></td>\n",
       "<td><b>0</b></td>\n",
       "<td><b>1</b></td>\n",
       "<td><b>Error</b></td>\n",
       "<td><b>Rate</b></td></tr>\n",
       "<tr><td>0</td>\n",
       "<td>2541.0</td>\n",
       "<td>1671.0</td>\n",
       "<td>0.3967</td>\n",
       "<td> (1671.0/4212.0)</td></tr>\n",
       "<tr><td>1</td>\n",
       "<td>641.0</td>\n",
       "<td>6299.0</td>\n",
       "<td>0.0924</td>\n",
       "<td> (641.0/6940.0)</td></tr>\n",
       "<tr><td>Total</td>\n",
       "<td>3182.0</td>\n",
       "<td>7970.0</td>\n",
       "<td>0.2073</td>\n",
       "<td> (2312.0/11152.0)</td></tr></table></div>"
      ],
      "text/plain": [
       "       0     1     Error    Rate\n",
       "-----  ----  ----  -------  ----------------\n",
       "0      2541  1671  0.3967   (1671.0/4212.0)\n",
       "1      641   6299  0.0924   (641.0/6940.0)\n",
       "Total  3182  7970  0.2073   (2312.0/11152.0)"
      ]
     },
     "metadata": {},
     "output_type": "display_data"
    },
    {
     "data": {
      "text/plain": []
     },
     "execution_count": 81,
     "metadata": {},
     "output_type": "execute_result"
    }
   ],
   "source": [
    "gbm.confusion_matrix(valid=True)"
   ]
  },
  {
   "cell_type": "code",
   "execution_count": 82,
   "metadata": {},
   "outputs": [
    {
     "data": {
      "text/plain": [
       "{'train': 0.439767865367519, 'valid': 0.3583848043975397}"
      ]
     },
     "execution_count": 82,
     "metadata": {},
     "output_type": "execute_result"
    }
   ],
   "source": [
    "gbm.r2(train=True, valid=True)"
   ]
  },
  {
   "cell_type": "code",
   "execution_count": 1,
   "metadata": {},
   "outputs": [
    {
     "ename": "NameError",
     "evalue": "name 'h2o' is not defined",
     "output_type": "error",
     "traceback": [
      "\u001b[0;31m---------------------------------------------------------------------------\u001b[0m",
      "\u001b[0;31mNameError\u001b[0m                                 Traceback (most recent call last)",
      "\u001b[0;32m<ipython-input-1-8ae2ce013486>\u001b[0m in \u001b[0;36m<module>\u001b[0;34m\u001b[0m\n\u001b[0;32m----> 1\u001b[0;31m \u001b[0mh2o\u001b[0m\u001b[0;34m.\u001b[0m\u001b[0mcluster\u001b[0m\u001b[0;34m(\u001b[0m\u001b[0;34m)\u001b[0m\u001b[0;34m.\u001b[0m\u001b[0mshutdown\u001b[0m\u001b[0;34m(\u001b[0m\u001b[0;34m)\u001b[0m\u001b[0;34m\u001b[0m\u001b[0;34m\u001b[0m\u001b[0m\n\u001b[0m",
      "\u001b[0;31mNameError\u001b[0m: name 'h2o' is not defined"
     ]
    }
   ],
   "source": [
    "# h2o.cluster().shutdown()"
   ]
  },
  {
   "cell_type": "code",
   "execution_count": null,
   "metadata": {},
   "outputs": [],
   "source": []
  }
 ],
 "metadata": {
  "kernelspec": {
   "display_name": "Python 3",
   "language": "python",
   "name": "python3"
  },
  "language_info": {
   "codemirror_mode": {
    "name": "ipython",
    "version": 3
   },
   "file_extension": ".py",
   "mimetype": "text/x-python",
   "name": "python",
   "nbconvert_exporter": "python",
   "pygments_lexer": "ipython3",
   "version": "3.7.2"
  },
  "toc": {
   "base_numbering": 1,
   "nav_menu": {},
   "number_sections": false,
   "sideBar": true,
   "skip_h1_title": false,
   "title_cell": "Table of Contents",
   "title_sidebar": "Contents",
   "toc_cell": false,
   "toc_position": {
    "height": "calc(100% - 180px)",
    "left": "10px",
    "top": "150px",
    "width": "336px"
   },
   "toc_section_display": true,
   "toc_window_display": true
  },
  "varInspector": {
   "cols": {
    "lenName": 16,
    "lenType": 16,
    "lenVar": 40
   },
   "kernels_config": {
    "python": {
     "delete_cmd_postfix": "",
     "delete_cmd_prefix": "del ",
     "library": "var_list.py",
     "varRefreshCmd": "print(var_dic_list())"
    },
    "r": {
     "delete_cmd_postfix": ") ",
     "delete_cmd_prefix": "rm(",
     "library": "var_list.r",
     "varRefreshCmd": "cat(var_dic_list()) "
    }
   },
   "types_to_exclude": [
    "module",
    "function",
    "builtin_function_or_method",
    "instance",
    "_Feature"
   ],
   "window_display": false
  }
 },
 "nbformat": 4,
 "nbformat_minor": 2
}
