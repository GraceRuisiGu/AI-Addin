{
 "cells": [
  {
   "cell_type": "code",
   "execution_count": 84,
   "metadata": {},
   "outputs": [],
   "source": [
    "import h2o\n",
    "import operator\n",
    "from h2o.automl import H2OAutoML\n",
    "import random, os, sys\n",
    "from datetime import datetime\n",
    "import pandas as pd\n",
    "import logging\n",
    "import csv\n",
    "import optparse\n",
    "import time\n",
    "import json\n",
    "from distutils.util import strtobool\n",
    "import psutil\n",
    "import numpy as np\n",
    "from matplotlib import pyplot as plt\n",
    "import warnings\n",
    "from h2o.estimators.glm import H2OGeneralizedLinearEstimator\n",
    "from h2o.estimators import H2OGradientBoostingEstimator\n",
    "warnings.filterwarnings(\"ignore\")"
   ]
  },
  {
   "cell_type": "markdown",
   "metadata": {},
   "source": [
    "# Data Preparation"
   ]
  },
  {
   "cell_type": "code",
   "execution_count": 2,
   "metadata": {},
   "outputs": [
    {
     "name": "stdout",
     "output_type": "stream",
     "text": [
      "29\n"
     ]
    }
   ],
   "source": [
    "pct_memory=4\n",
    "virtual_memory=psutil.virtual_memory()\n",
    "min_mem_size=int(round(int(pct_memory*virtual_memory.available)/1073741824,0))\n",
    "print(min_mem_size)"
   ]
  },
  {
   "cell_type": "code",
   "execution_count": 3,
   "metadata": {},
   "outputs": [
    {
     "name": "stdout",
     "output_type": "stream",
     "text": [
      "Checking whether there is an H2O instance running at http://localhost:54321 ..... not found.\n",
      "Attempting to start a local H2O server...\n",
      "  Java Version: java version \"10.0.2\" 2018-07-17; Java(TM) SE Runtime Environment 18.3 (build 10.0.2+13); Java HotSpot(TM) 64-Bit Server VM 18.3 (build 10.0.2+13, mixed mode)\n",
      "  Starting server from /anaconda3/lib/python3.7/site-packages/h2o/backend/bin/h2o.jar\n",
      "  Ice root: /var/folders/5l/qqvypzcs2sjbbnhb777lxczh0000gn/T/tmp89v3i0pf\n",
      "  JVM stdout: /var/folders/5l/qqvypzcs2sjbbnhb777lxczh0000gn/T/tmp89v3i0pf/h2o_mandy_started_from_python.out\n",
      "  JVM stderr: /var/folders/5l/qqvypzcs2sjbbnhb777lxczh0000gn/T/tmp89v3i0pf/h2o_mandy_started_from_python.err\n",
      "  Server is running at http://127.0.0.1:54321\n",
      "Connecting to H2O server at http://127.0.0.1:54321 ... successful.\n"
     ]
    },
    {
     "data": {
      "text/html": [
       "<div style=\"overflow:auto\"><table style=\"width:50%\"><tr><td>H2O cluster uptime:</td>\n",
       "<td>01 secs</td></tr>\n",
       "<tr><td>H2O cluster timezone:</td>\n",
       "<td>America/New_York</td></tr>\n",
       "<tr><td>H2O data parsing timezone:</td>\n",
       "<td>UTC</td></tr>\n",
       "<tr><td>H2O cluster version:</td>\n",
       "<td>3.24.0.1</td></tr>\n",
       "<tr><td>H2O cluster version age:</td>\n",
       "<td>16 days </td></tr>\n",
       "<tr><td>H2O cluster name:</td>\n",
       "<td>H2O_from_python_mandy_i9uung</td></tr>\n",
       "<tr><td>H2O cluster total nodes:</td>\n",
       "<td>1</td></tr>\n",
       "<tr><td>H2O cluster free memory:</td>\n",
       "<td>29 Gb</td></tr>\n",
       "<tr><td>H2O cluster total cores:</td>\n",
       "<td>12</td></tr>\n",
       "<tr><td>H2O cluster allowed cores:</td>\n",
       "<td>12</td></tr>\n",
       "<tr><td>H2O cluster status:</td>\n",
       "<td>accepting new members, healthy</td></tr>\n",
       "<tr><td>H2O connection url:</td>\n",
       "<td>http://127.0.0.1:54321</td></tr>\n",
       "<tr><td>H2O connection proxy:</td>\n",
       "<td>None</td></tr>\n",
       "<tr><td>H2O internal security:</td>\n",
       "<td>False</td></tr>\n",
       "<tr><td>H2O API Extensions:</td>\n",
       "<td>Amazon S3, XGBoost, Algos, AutoML, Core V3, Core V4</td></tr>\n",
       "<tr><td>Python version:</td>\n",
       "<td>3.7.2 final</td></tr></table></div>"
      ],
      "text/plain": [
       "--------------------------  ---------------------------------------------------\n",
       "H2O cluster uptime:         01 secs\n",
       "H2O cluster timezone:       America/New_York\n",
       "H2O data parsing timezone:  UTC\n",
       "H2O cluster version:        3.24.0.1\n",
       "H2O cluster version age:    16 days\n",
       "H2O cluster name:           H2O_from_python_mandy_i9uung\n",
       "H2O cluster total nodes:    1\n",
       "H2O cluster free memory:    29 Gb\n",
       "H2O cluster total cores:    12\n",
       "H2O cluster allowed cores:  12\n",
       "H2O cluster status:         accepting new members, healthy\n",
       "H2O connection url:         http://127.0.0.1:54321\n",
       "H2O connection proxy:\n",
       "H2O internal security:      False\n",
       "H2O API Extensions:         Amazon S3, XGBoost, Algos, AutoML, Core V3, Core V4\n",
       "Python version:             3.7.2 final\n",
       "--------------------------  ---------------------------------------------------"
      ]
     },
     "metadata": {},
     "output_type": "display_data"
    }
   ],
   "source": [
    "h2o.init(strict_version_check=False,max_mem_size=min_mem_size)"
   ]
  },
  {
   "cell_type": "code",
   "execution_count": 4,
   "metadata": {},
   "outputs": [
    {
     "name": "stdout",
     "output_type": "stream",
     "text": [
      "Parse progress: |█████████████████████████████████████████████████████████| 100%\n"
     ]
    }
   ],
   "source": [
    "data_path = \"AmazonReviews.Small.csv\"\n",
    "\n",
    "# Load data into H2O\n",
    "reviews = h2o.import_file(data_path)"
   ]
  },
  {
   "cell_type": "code",
   "execution_count": 5,
   "metadata": {},
   "outputs": [],
   "source": [
    "reviews['PositiveReview']=(reviews['Score']>=4.2).ifelse('1','0')"
   ]
  },
  {
   "cell_type": "code",
   "execution_count": 6,
   "metadata": {},
   "outputs": [
    {
     "data": {
      "text/html": [
       "<table>\n",
       "<thead>\n",
       "<tr><th style=\"text-align: right;\">  PositiveReview</th><th style=\"text-align: right;\">  Count</th></tr>\n",
       "</thead>\n",
       "<tbody>\n",
       "<tr><td style=\"text-align: right;\">               0</td><td style=\"text-align: right;\">  20106</td></tr>\n",
       "<tr><td style=\"text-align: right;\">               1</td><td style=\"text-align: right;\">  35448</td></tr>\n",
       "</tbody>\n",
       "</table>"
      ]
     },
     "metadata": {},
     "output_type": "display_data"
    },
    {
     "data": {
      "text/plain": []
     },
     "execution_count": 6,
     "metadata": {},
     "output_type": "execute_result"
    }
   ],
   "source": [
    "reviews['PositiveReview'].table()"
   ]
  },
  {
   "cell_type": "code",
   "execution_count": 7,
   "metadata": {},
   "outputs": [
    {
     "data": {
      "text/html": [
       "<table>\n",
       "<thead>\n",
       "<tr><th style=\"text-align: right;\">  PositiveReview</th><th style=\"text-align: right;\">  Count</th></tr>\n",
       "</thead>\n",
       "<tbody>\n",
       "<tr><td style=\"text-align: right;\">               0</td><td style=\"text-align: right;\">  20106</td></tr>\n",
       "<tr><td style=\"text-align: right;\">               1</td><td style=\"text-align: right;\">  35448</td></tr>\n",
       "</tbody>\n",
       "</table>"
      ]
     },
     "metadata": {},
     "output_type": "display_data"
    },
    {
     "data": {
      "text/plain": []
     },
     "execution_count": 7,
     "metadata": {},
     "output_type": "execute_result"
    }
   ],
   "source": [
    "reviews['PositiveReview'].table()"
   ]
  },
  {
   "cell_type": "code",
   "execution_count": 8,
   "metadata": {},
   "outputs": [],
   "source": [
    "# Find the 80th quantile of time in the dataset\n",
    "time_split = reviews[\"Time\"].quantile(prob = [0.8])[1]\n",
    "reviews[\"Train\"] = (reviews[\"Time\"] < time_split).ifelse(\"Yes\", \"No\")"
   ]
  },
  {
   "cell_type": "code",
   "execution_count": 9,
   "metadata": {},
   "outputs": [],
   "source": [
    "train = reviews[reviews[\"Train\"] == \"Yes\"]\n",
    "test = reviews[reviews[\"Train\"] == \"No\"]"
   ]
  },
  {
   "cell_type": "code",
   "execution_count": 12,
   "metadata": {},
   "outputs": [],
   "source": [
    "data_path = \"stopwords.csv\"\n",
    "\n",
    "STOP_WORDS = pd.read_csv(data_path, header=0)\n",
    "STOP_WORDS = list(STOP_WORDS['STOP_WORD'])"
   ]
  },
  {
   "cell_type": "code",
   "execution_count": 13,
   "metadata": {},
   "outputs": [],
   "source": [
    "def tokenize(sentences, stop_word = STOP_WORDS):\n",
    "    tokenized = sentences.tokenize(\"\\\\W+\")\n",
    "    tokenized_lower = tokenized.tolower()\n",
    "    tokenized_filtered = tokenized_lower[(tokenized_lower.nchar() >= 2) | (tokenized_lower.isna()),:]\n",
    "    tokenized_words = tokenized_filtered[tokenized_filtered.grep(\"[0-9]\",invert=True,output_logical=True),:]\n",
    "    tokenized_words = tokenized_words[(tokenized_words.isna()) | (~ tokenized_words.isin(STOP_WORDS)),:]\n",
    "    return tokenized_words"
   ]
  },
  {
   "cell_type": "code",
   "execution_count": 14,
   "metadata": {},
   "outputs": [],
   "source": [
    "# Break reviews into sequence of words\n",
    "words = tokenize(reviews[\"Text\"])"
   ]
  },
  {
   "cell_type": "code",
   "execution_count": 15,
   "metadata": {},
   "outputs": [
    {
     "data": {
      "text/html": [
       "<table>\n",
       "<thead>\n",
       "<tr><th>C1       </th></tr>\n",
       "</thead>\n",
       "<tbody>\n",
       "<tr><td>made     </td></tr>\n",
       "<tr><td>china    </td></tr>\n",
       "<tr><td>buy      </td></tr>\n",
       "<tr><td>pet      </td></tr>\n",
       "<tr><td>food     </td></tr>\n",
       "<tr><td>china    </td></tr>\n",
       "<tr><td>dogswell </td></tr>\n",
       "<tr><td>using    </td></tr>\n",
       "<tr><td>propylene</td></tr>\n",
       "<tr><td>glycol   </td></tr>\n",
       "</tbody>\n",
       "</table>"
      ]
     },
     "metadata": {},
     "output_type": "display_data"
    },
    {
     "data": {
      "text/plain": []
     },
     "execution_count": 15,
     "metadata": {},
     "output_type": "execute_result"
    }
   ],
   "source": [
    "words.head()"
   ]
  },
  {
   "cell_type": "code",
   "execution_count": 16,
   "metadata": {},
   "outputs": [
    {
     "name": "stdout",
     "output_type": "stream",
     "text": [
      "word2vec Model Build progress: |██████████████████████████████████████████| 100%\n"
     ]
    },
    {
     "data": {
      "text/plain": [
       "'/Users/mandy/Documents/Study/Lessons/6105/AI-Addin/data/w2v.hex'"
      ]
     },
     "execution_count": 16,
     "metadata": {},
     "output_type": "execute_result"
    }
   ],
   "source": [
    "# Train Word2Vec Model\n",
    "from h2o.estimators.word2vec import H2OWord2vecEstimator\n",
    "\n",
    "\n",
    "w2v_model = H2OWord2vecEstimator(vec_size = 100, model_id = \"w2v.hex\")\n",
    "w2v_model.train(training_frame=words)\n",
    "\n",
    "models_path='data'\n",
    "h2o.save_model(w2v_model, path = models_path, force = True)"
   ]
  },
  {
   "cell_type": "code",
   "execution_count": 17,
   "metadata": {},
   "outputs": [
    {
     "data": {
      "text/plain": [
       "OrderedDict([('coffees', 0.7859161496162415),\n",
       "             ('coffe', 0.7757903933525085),\n",
       "             ('espresso', 0.7516980171203613),\n",
       "             ('expresso', 0.7513675093650818),\n",
       "             ('brew', 0.7510714530944824)])"
      ]
     },
     "execution_count": 17,
     "metadata": {},
     "output_type": "execute_result"
    }
   ],
   "source": [
    "# Sanity check - find synonyms for the word 'coffee'\n",
    "w2v_model.find_synonyms(\"coffee\", count = 5)"
   ]
  },
  {
   "cell_type": "code",
   "execution_count": 18,
   "metadata": {},
   "outputs": [
    {
     "data": {
      "text/plain": [
       "OrderedDict([('rancid', 0.6972429752349854),\n",
       "             ('unedible', 0.6676676273345947),\n",
       "             ('staleness', 0.64045250415802),\n",
       "             ('overbaked', 0.6243177652359009),\n",
       "             ('tasteless', 0.6234351396560669)])"
      ]
     },
     "execution_count": 18,
     "metadata": {},
     "output_type": "execute_result"
    }
   ],
   "source": [
    "# Sanity check - find synonyms for the word 'stale'\n",
    "w2v_model.find_synonyms(\"stale\", count = 5)"
   ]
  },
  {
   "cell_type": "code",
   "execution_count": 19,
   "metadata": {},
   "outputs": [
    {
     "data": {
      "text/html": [
       "<table>\n",
       "<thead>\n",
       "<tr><th style=\"text-align: right;\">         C1</th><th style=\"text-align: right;\">        C2</th><th style=\"text-align: right;\">         C3</th><th style=\"text-align: right;\">          C4</th><th style=\"text-align: right;\">        C5</th><th style=\"text-align: right;\">         C6</th><th style=\"text-align: right;\">         C7</th><th style=\"text-align: right;\">        C8</th><th style=\"text-align: right;\">       C9</th><th style=\"text-align: right;\">        C10</th><th style=\"text-align: right;\">        C11</th><th style=\"text-align: right;\">        C12</th><th style=\"text-align: right;\">         C13</th><th style=\"text-align: right;\">      C14</th><th style=\"text-align: right;\">      C15</th><th style=\"text-align: right;\">        C16</th><th style=\"text-align: right;\">       C17</th><th style=\"text-align: right;\">        C18</th><th style=\"text-align: right;\">        C19</th><th style=\"text-align: right;\">       C20</th><th style=\"text-align: right;\">       C21</th><th style=\"text-align: right;\">       C22</th><th style=\"text-align: right;\">        C23</th><th style=\"text-align: right;\">        C24</th><th style=\"text-align: right;\">        C25</th><th style=\"text-align: right;\">         C26</th><th style=\"text-align: right;\">        C27</th><th style=\"text-align: right;\">       C28</th><th style=\"text-align: right;\">       C29</th><th style=\"text-align: right;\">        C30</th><th style=\"text-align: right;\">     C31</th><th style=\"text-align: right;\">     C32</th><th style=\"text-align: right;\">      C33</th><th style=\"text-align: right;\">       C34</th><th style=\"text-align: right;\">         C35</th><th style=\"text-align: right;\">       C36</th><th style=\"text-align: right;\">        C37</th><th style=\"text-align: right;\">       C38</th><th style=\"text-align: right;\">        C39</th><th style=\"text-align: right;\">        C40</th><th style=\"text-align: right;\">       C41</th><th style=\"text-align: right;\">      C42</th><th style=\"text-align: right;\">      C43</th><th style=\"text-align: right;\">        C44</th><th style=\"text-align: right;\">       C45</th><th style=\"text-align: right;\">       C46</th><th style=\"text-align: right;\">      C47</th><th style=\"text-align: right;\">        C48</th><th style=\"text-align: right;\">       C49</th><th style=\"text-align: right;\">       C50</th><th style=\"text-align: right;\">       C51</th><th style=\"text-align: right;\">       C52</th><th style=\"text-align: right;\">        C53</th><th style=\"text-align: right;\">       C54</th><th style=\"text-align: right;\">         C55</th><th style=\"text-align: right;\">       C56</th><th style=\"text-align: right;\">        C57</th><th style=\"text-align: right;\">        C58</th><th style=\"text-align: right;\">      C59</th><th style=\"text-align: right;\">       C60</th><th style=\"text-align: right;\">        C61</th><th style=\"text-align: right;\">       C62</th><th style=\"text-align: right;\">       C63</th><th style=\"text-align: right;\">       C64</th><th style=\"text-align: right;\">       C65</th><th style=\"text-align: right;\">         C66</th><th style=\"text-align: right;\">        C67</th><th style=\"text-align: right;\">        C68</th><th style=\"text-align: right;\">       C69</th><th style=\"text-align: right;\">        C70</th><th style=\"text-align: right;\">        C71</th><th style=\"text-align: right;\">       C72</th><th style=\"text-align: right;\">      C73</th><th style=\"text-align: right;\">        C74</th><th style=\"text-align: right;\">       C75</th><th style=\"text-align: right;\">        C76</th><th style=\"text-align: right;\">       C77</th><th style=\"text-align: right;\">        C78</th><th style=\"text-align: right;\">        C79</th><th style=\"text-align: right;\">       C80</th><th style=\"text-align: right;\">       C81</th><th style=\"text-align: right;\">      C82</th><th style=\"text-align: right;\">       C83</th><th style=\"text-align: right;\">        C84</th><th style=\"text-align: right;\">       C85</th><th style=\"text-align: right;\">       C86</th><th style=\"text-align: right;\">       C87</th><th style=\"text-align: right;\">         C88</th><th style=\"text-align: right;\">        C89</th><th style=\"text-align: right;\">      C90</th><th style=\"text-align: right;\">      C91</th><th style=\"text-align: right;\">        C92</th><th style=\"text-align: right;\">      C93</th><th style=\"text-align: right;\">       C94</th><th style=\"text-align: right;\">        C95</th><th style=\"text-align: right;\">       C96</th><th style=\"text-align: right;\">        C97</th><th style=\"text-align: right;\">       C98</th><th style=\"text-align: right;\">        C99</th><th style=\"text-align: right;\">      C100</th></tr>\n",
       "</thead>\n",
       "<tbody>\n",
       "<tr><td style=\"text-align: right;\"> 0.12917   </td><td style=\"text-align: right;\"> 0.0299455</td><td style=\"text-align: right;\">-0.0490899 </td><td style=\"text-align: right;\"> 0.00893291 </td><td style=\"text-align: right;\"> 0.0190802</td><td style=\"text-align: right;\">-0.00610951</td><td style=\"text-align: right;\"> 0.0120351 </td><td style=\"text-align: right;\">-0.334961 </td><td style=\"text-align: right;\">0.161847 </td><td style=\"text-align: right;\">-0.0663551 </td><td style=\"text-align: right;\">-0.109759  </td><td style=\"text-align: right;\">-0.00641763</td><td style=\"text-align: right;\"> 0.0887674  </td><td style=\"text-align: right;\">0.191471 </td><td style=\"text-align: right;\">0.0549513</td><td style=\"text-align: right;\">-0.144631  </td><td style=\"text-align: right;\">-0.0474062</td><td style=\"text-align: right;\"> 0.0995626 </td><td style=\"text-align: right;\"> 0.0134732 </td><td style=\"text-align: right;\"> 0.0396906</td><td style=\"text-align: right;\">-0.0368953</td><td style=\"text-align: right;\">-0.19288  </td><td style=\"text-align: right;\"> 0.0790057 </td><td style=\"text-align: right;\">-0.00657185</td><td style=\"text-align: right;\"> 0.0905049 </td><td style=\"text-align: right;\"> 0.117006   </td><td style=\"text-align: right;\"> 0.0382062 </td><td style=\"text-align: right;\"> 0.0893816</td><td style=\"text-align: right;\"> 0.102397 </td><td style=\"text-align: right;\"> 0.0572057 </td><td style=\"text-align: right;\">0.233991</td><td style=\"text-align: right;\">0.158946</td><td style=\"text-align: right;\">0.196584 </td><td style=\"text-align: right;\">-0.160502 </td><td style=\"text-align: right;\"> 0.0690184  </td><td style=\"text-align: right;\">-0.0863937</td><td style=\"text-align: right;\"> 0.0405308 </td><td style=\"text-align: right;\"> 0.13917  </td><td style=\"text-align: right;\">-0.0265374 </td><td style=\"text-align: right;\">-0.0218064 </td><td style=\"text-align: right;\"> 0.0099681</td><td style=\"text-align: right;\">-0.156008</td><td style=\"text-align: right;\">0.0308868</td><td style=\"text-align: right;\">-0.137468  </td><td style=\"text-align: right;\"> 0.0246485</td><td style=\"text-align: right;\">-0.0364001</td><td style=\"text-align: right;\">-0.107721</td><td style=\"text-align: right;\">-0.1641    </td><td style=\"text-align: right;\"> 0.0630564</td><td style=\"text-align: right;\">-0.224799 </td><td style=\"text-align: right;\"> 0.102297 </td><td style=\"text-align: right;\"> 0.0340673</td><td style=\"text-align: right;\">-0.129526  </td><td style=\"text-align: right;\"> 0.131943 </td><td style=\"text-align: right;\">-0.0279314  </td><td style=\"text-align: right;\"> 0.0284462</td><td style=\"text-align: right;\">-0.111921  </td><td style=\"text-align: right;\"> 0.158484  </td><td style=\"text-align: right;\">0.0485629</td><td style=\"text-align: right;\">-0.0517763</td><td style=\"text-align: right;\">-0.0669737 </td><td style=\"text-align: right;\"> 0.204902 </td><td style=\"text-align: right;\"> 0.070655 </td><td style=\"text-align: right;\">-0.106908 </td><td style=\"text-align: right;\">-0.0713758</td><td style=\"text-align: right;\">-0.0182628  </td><td style=\"text-align: right;\"> 0.0699829 </td><td style=\"text-align: right;\">-0.00538563</td><td style=\"text-align: right;\"> 0.0394679</td><td style=\"text-align: right;\"> 0.0502924 </td><td style=\"text-align: right;\"> 0.0668489 </td><td style=\"text-align: right;\">-0.0501116</td><td style=\"text-align: right;\">0.313984 </td><td style=\"text-align: right;\"> 0.0276574 </td><td style=\"text-align: right;\">-0.118442 </td><td style=\"text-align: right;\">-0.0181206 </td><td style=\"text-align: right;\"> 0.0535085</td><td style=\"text-align: right;\"> 0.070737  </td><td style=\"text-align: right;\">-0.0708572 </td><td style=\"text-align: right;\">-0.0453052</td><td style=\"text-align: right;\"> 0.0181514</td><td style=\"text-align: right;\">0.160654 </td><td style=\"text-align: right;\"> 0.0700613</td><td style=\"text-align: right;\">-0.00154031</td><td style=\"text-align: right;\">-0.102484 </td><td style=\"text-align: right;\">-0.0431368</td><td style=\"text-align: right;\">-0.0862916</td><td style=\"text-align: right;\"> 0.109466   </td><td style=\"text-align: right;\">-0.00336389</td><td style=\"text-align: right;\">0.113831 </td><td style=\"text-align: right;\">0.0402905</td><td style=\"text-align: right;\"> 0.0238592 </td><td style=\"text-align: right;\">-0.185985</td><td style=\"text-align: right;\"> 0.0926318</td><td style=\"text-align: right;\">-0.0311738 </td><td style=\"text-align: right;\">-0.137986 </td><td style=\"text-align: right;\">-0.0343636 </td><td style=\"text-align: right;\">-0.196328 </td><td style=\"text-align: right;\"> 0.119503  </td><td style=\"text-align: right;\"> 0.0379679</td></tr>\n",
       "<tr><td style=\"text-align: right;\"> 0.0185988 </td><td style=\"text-align: right;\"> 0.205654 </td><td style=\"text-align: right;\">-0.213451  </td><td style=\"text-align: right;\"> 0.0881322  </td><td style=\"text-align: right;\">-0.026778 </td><td style=\"text-align: right;\">-0.114138  </td><td style=\"text-align: right;\">-0.0710233 </td><td style=\"text-align: right;\"> 0.0257435</td><td style=\"text-align: right;\">0.289505 </td><td style=\"text-align: right;\">-0.0558199 </td><td style=\"text-align: right;\">-0.119363  </td><td style=\"text-align: right;\"> 0.188334  </td><td style=\"text-align: right;\"> 0.0314669  </td><td style=\"text-align: right;\">0.122508 </td><td style=\"text-align: right;\">0.17663  </td><td style=\"text-align: right;\">-0.106895  </td><td style=\"text-align: right;\"> 0.163716 </td><td style=\"text-align: right;\">-0.0379743 </td><td style=\"text-align: right;\">-0.00431046</td><td style=\"text-align: right;\"> 0.0274768</td><td style=\"text-align: right;\"> 0.0210197</td><td style=\"text-align: right;\">-0.0468156</td><td style=\"text-align: right;\">-0.159791  </td><td style=\"text-align: right;\">-0.114791  </td><td style=\"text-align: right;\"> 0.0235751 </td><td style=\"text-align: right;\">-0.101575   </td><td style=\"text-align: right;\"> 0.061798  </td><td style=\"text-align: right;\"> 0.0335133</td><td style=\"text-align: right;\"> 0.0386808</td><td style=\"text-align: right;\">-0.0310535 </td><td style=\"text-align: right;\">0.121843</td><td style=\"text-align: right;\">0.23477 </td><td style=\"text-align: right;\">0.127345 </td><td style=\"text-align: right;\">-0.1751   </td><td style=\"text-align: right;\"> 0.0518926  </td><td style=\"text-align: right;\">-0.0726755</td><td style=\"text-align: right;\">-0.113054  </td><td style=\"text-align: right;\">-0.0923534</td><td style=\"text-align: right;\">-0.0329874 </td><td style=\"text-align: right;\"> 0.0299116 </td><td style=\"text-align: right;\"> 0.107482 </td><td style=\"text-align: right;\">-0.162709</td><td style=\"text-align: right;\">0.186311 </td><td style=\"text-align: right;\">-0.116504  </td><td style=\"text-align: right;\">-0.0116403</td><td style=\"text-align: right;\">-0.0361627</td><td style=\"text-align: right;\">-0.234973</td><td style=\"text-align: right;\"> 0.0251932 </td><td style=\"text-align: right;\">-0.0441221</td><td style=\"text-align: right;\">-0.067011 </td><td style=\"text-align: right;\"> 0.104726 </td><td style=\"text-align: right;\"> 0.0609187</td><td style=\"text-align: right;\"> 0.160423  </td><td style=\"text-align: right;\"> 0.236405 </td><td style=\"text-align: right;\"> 0.180013   </td><td style=\"text-align: right;\">-0.0223651</td><td style=\"text-align: right;\">-0.072517  </td><td style=\"text-align: right;\"> 0.00252662</td><td style=\"text-align: right;\">0.0814018</td><td style=\"text-align: right;\">-0.0179177</td><td style=\"text-align: right;\">-0.075991  </td><td style=\"text-align: right;\"> 0.14799  </td><td style=\"text-align: right;\">-0.0391576</td><td style=\"text-align: right;\">-0.0786622</td><td style=\"text-align: right;\">-0.0560698</td><td style=\"text-align: right;\"> 0.00473555 </td><td style=\"text-align: right;\"> 0.0590133 </td><td style=\"text-align: right;\">-0.139362  </td><td style=\"text-align: right;\"> 0.13548  </td><td style=\"text-align: right;\">-0.118203  </td><td style=\"text-align: right;\">-0.0482412 </td><td style=\"text-align: right;\">-0.112342 </td><td style=\"text-align: right;\">0.123092 </td><td style=\"text-align: right;\"> 0.0386636 </td><td style=\"text-align: right;\">-0.0305218</td><td style=\"text-align: right;\">-0.0394496 </td><td style=\"text-align: right;\">-0.0379041</td><td style=\"text-align: right;\">-0.0379979 </td><td style=\"text-align: right;\">-0.0743732 </td><td style=\"text-align: right;\">-0.0785754</td><td style=\"text-align: right;\">-0.0348918</td><td style=\"text-align: right;\">0.0525545</td><td style=\"text-align: right;\">-0.0349363</td><td style=\"text-align: right;\"> 0.0826198 </td><td style=\"text-align: right;\">-0.070651 </td><td style=\"text-align: right;\">-0.0393718</td><td style=\"text-align: right;\">-0.0819873</td><td style=\"text-align: right;\"> 0.0595535  </td><td style=\"text-align: right;\"> 0.01269   </td><td style=\"text-align: right;\">0.179319 </td><td style=\"text-align: right;\">0.0764434</td><td style=\"text-align: right;\"> 0.0274205 </td><td style=\"text-align: right;\">-0.303293</td><td style=\"text-align: right;\">-0.0718099</td><td style=\"text-align: right;\"> 0.15155   </td><td style=\"text-align: right;\">-0.057007 </td><td style=\"text-align: right;\">-0.0916376 </td><td style=\"text-align: right;\"> 0.0596572</td><td style=\"text-align: right;\">-0.0152745 </td><td style=\"text-align: right;\"> 0.150984 </td></tr>\n",
       "<tr><td style=\"text-align: right;\"> 0.060313  </td><td style=\"text-align: right;\">-0.115611 </td><td style=\"text-align: right;\"> 0.00167719</td><td style=\"text-align: right;\"> 0.0844067  </td><td style=\"text-align: right;\">-0.0542967</td><td style=\"text-align: right;\">-0.203262  </td><td style=\"text-align: right;\">-0.0646622 </td><td style=\"text-align: right;\">-0.0935464</td><td style=\"text-align: right;\">0.109586 </td><td style=\"text-align: right;\">-0.0539923 </td><td style=\"text-align: right;\">-0.0291927 </td><td style=\"text-align: right;\"> 0.0254051 </td><td style=\"text-align: right;\">-0.0876865  </td><td style=\"text-align: right;\">0.0741222</td><td style=\"text-align: right;\">0.105812 </td><td style=\"text-align: right;\"> 0.00299753</td><td style=\"text-align: right;\">-0.0270305</td><td style=\"text-align: right;\"> 0.0782517 </td><td style=\"text-align: right;\"> 0.0945997 </td><td style=\"text-align: right;\"> 0.0501357</td><td style=\"text-align: right;\"> 0.0352763</td><td style=\"text-align: right;\">-0.0627455</td><td style=\"text-align: right;\"> 0.0791841 </td><td style=\"text-align: right;\">-0.00687353</td><td style=\"text-align: right;\"> 0.0473105 </td><td style=\"text-align: right;\"> 0.000328656</td><td style=\"text-align: right;\">-0.0626824 </td><td style=\"text-align: right;\"> 0.0251238</td><td style=\"text-align: right;\"> 0.0767176</td><td style=\"text-align: right;\"> 0.121644  </td><td style=\"text-align: right;\">0.18164 </td><td style=\"text-align: right;\">0.279703</td><td style=\"text-align: right;\">0.174516 </td><td style=\"text-align: right;\">-0.121252 </td><td style=\"text-align: right;\">-0.0251613  </td><td style=\"text-align: right;\">-0.0153807</td><td style=\"text-align: right;\"> 0.0769472 </td><td style=\"text-align: right;\"> 0.064934 </td><td style=\"text-align: right;\">-0.0263007 </td><td style=\"text-align: right;\"> 0.105055  </td><td style=\"text-align: right;\">-0.0434598</td><td style=\"text-align: right;\">-0.278027</td><td style=\"text-align: right;\">0.106152 </td><td style=\"text-align: right;\">-0.0775082 </td><td style=\"text-align: right;\">-0.0541208</td><td style=\"text-align: right;\">-0.077881 </td><td style=\"text-align: right;\">-0.170916</td><td style=\"text-align: right;\">-0.0572134 </td><td style=\"text-align: right;\"> 0.0199556</td><td style=\"text-align: right;\">-0.0874221</td><td style=\"text-align: right;\"> 0.138198 </td><td style=\"text-align: right;\">-0.0663306</td><td style=\"text-align: right;\"> 0.0675663 </td><td style=\"text-align: right;\"> 0.157848 </td><td style=\"text-align: right;\"> 0.0884277  </td><td style=\"text-align: right;\">-0.0433774</td><td style=\"text-align: right;\">-0.0636752 </td><td style=\"text-align: right;\"> 0.0199444 </td><td style=\"text-align: right;\">0.0244142</td><td style=\"text-align: right;\">-0.0259011</td><td style=\"text-align: right;\">-0.0938728 </td><td style=\"text-align: right;\"> 0.201822 </td><td style=\"text-align: right;\"> 0.153278 </td><td style=\"text-align: right;\">-0.278858 </td><td style=\"text-align: right;\">-0.0213931</td><td style=\"text-align: right;\">-0.000171979</td><td style=\"text-align: right;\">-0.0663742 </td><td style=\"text-align: right;\">-0.100037  </td><td style=\"text-align: right;\"> 0.110744 </td><td style=\"text-align: right;\"> 0.00411301</td><td style=\"text-align: right;\"> 0.0825984 </td><td style=\"text-align: right;\">-0.158723 </td><td style=\"text-align: right;\">0.183622 </td><td style=\"text-align: right;\">-0.00994533</td><td style=\"text-align: right;\">-0.127098 </td><td style=\"text-align: right;\"> 0.0841783 </td><td style=\"text-align: right;\"> 0.0609244</td><td style=\"text-align: right;\"> 0.0474106 </td><td style=\"text-align: right;\">-0.0110054 </td><td style=\"text-align: right;\">-0.0187034</td><td style=\"text-align: right;\"> 0.046951 </td><td style=\"text-align: right;\">0.0831642</td><td style=\"text-align: right;\"> 0.0828919</td><td style=\"text-align: right;\">-0.047945  </td><td style=\"text-align: right;\">-0.158531 </td><td style=\"text-align: right;\">-0.0326801</td><td style=\"text-align: right;\">-0.0732946</td><td style=\"text-align: right;\"> 0.141952   </td><td style=\"text-align: right;\">-0.106875  </td><td style=\"text-align: right;\">0.114859 </td><td style=\"text-align: right;\">0.0916932</td><td style=\"text-align: right;\"> 0.00653966</td><td style=\"text-align: right;\">-0.21404 </td><td style=\"text-align: right;\"> 0.0681284</td><td style=\"text-align: right;\"> 0.00501457</td><td style=\"text-align: right;\">-0.119693 </td><td style=\"text-align: right;\">-0.0617665 </td><td style=\"text-align: right;\">-0.138928 </td><td style=\"text-align: right;\">-0.0194709 </td><td style=\"text-align: right;\"> 0.109409 </td></tr>\n",
       "<tr><td style=\"text-align: right;\"> 0.0139276 </td><td style=\"text-align: right;\"> 0.0489609</td><td style=\"text-align: right;\">-0.0275456 </td><td style=\"text-align: right;\">-0.0369436  </td><td style=\"text-align: right;\"> 0.0188345</td><td style=\"text-align: right;\">-0.180233  </td><td style=\"text-align: right;\"> 0.00881093</td><td style=\"text-align: right;\">-0.0880943</td><td style=\"text-align: right;\">0.24004  </td><td style=\"text-align: right;\">-0.0133689 </td><td style=\"text-align: right;\">-0.193296  </td><td style=\"text-align: right;\"> 0.00709764</td><td style=\"text-align: right;\">-0.0072059  </td><td style=\"text-align: right;\">0.115879 </td><td style=\"text-align: right;\">0.0781857</td><td style=\"text-align: right;\"> 0.0189767 </td><td style=\"text-align: right;\"> 0.138875 </td><td style=\"text-align: right;\"> 0.0227574 </td><td style=\"text-align: right;\"> 0.044154  </td><td style=\"text-align: right;\">-0.0244546</td><td style=\"text-align: right;\"> 0.0296189</td><td style=\"text-align: right;\">-0.17635  </td><td style=\"text-align: right;\"> 0.0744128 </td><td style=\"text-align: right;\"> 0.0604016 </td><td style=\"text-align: right;\"> 0.00867721</td><td style=\"text-align: right;\">-0.0322506  </td><td style=\"text-align: right;\">-0.00550359</td><td style=\"text-align: right;\"> 0.0398344</td><td style=\"text-align: right;\"> 0.148177 </td><td style=\"text-align: right;\"> 0.0995515 </td><td style=\"text-align: right;\">0.219444</td><td style=\"text-align: right;\">0.175519</td><td style=\"text-align: right;\">0.271141 </td><td style=\"text-align: right;\"> 0.0363153</td><td style=\"text-align: right;\"> 0.0248795  </td><td style=\"text-align: right;\"> 0.105378 </td><td style=\"text-align: right;\"> 0.00815416</td><td style=\"text-align: right;\"> 0.0611049</td><td style=\"text-align: right;\">-0.00554313</td><td style=\"text-align: right;\">-0.0224043 </td><td style=\"text-align: right;\">-0.0450975</td><td style=\"text-align: right;\">-0.256222</td><td style=\"text-align: right;\">0.0686169</td><td style=\"text-align: right;\">-0.0711233 </td><td style=\"text-align: right;\">-0.0523793</td><td style=\"text-align: right;\">-0.126771 </td><td style=\"text-align: right;\">-0.179101</td><td style=\"text-align: right;\">-0.132789  </td><td style=\"text-align: right;\"> 0.0638172</td><td style=\"text-align: right;\">-0.154065 </td><td style=\"text-align: right;\"> 0.219284 </td><td style=\"text-align: right;\">-0.122001 </td><td style=\"text-align: right;\"> 0.0870339 </td><td style=\"text-align: right;\"> 0.146888 </td><td style=\"text-align: right;\"> 0.109527   </td><td style=\"text-align: right;\">-0.0307422</td><td style=\"text-align: right;\"> 0.0362498 </td><td style=\"text-align: right;\">-0.0217934 </td><td style=\"text-align: right;\">0.0188032</td><td style=\"text-align: right;\">-0.0181511</td><td style=\"text-align: right;\">-0.0382666 </td><td style=\"text-align: right;\"> 0.107581 </td><td style=\"text-align: right;\"> 0.015665 </td><td style=\"text-align: right;\">-0.174785 </td><td style=\"text-align: right;\"> 0.0517605</td><td style=\"text-align: right;\">-0.0764714  </td><td style=\"text-align: right;\">-0.0624262 </td><td style=\"text-align: right;\">-0.0349358 </td><td style=\"text-align: right;\">-0.0340206</td><td style=\"text-align: right;\">-0.076917  </td><td style=\"text-align: right;\"> 0.0369445 </td><td style=\"text-align: right;\">-0.0494999</td><td style=\"text-align: right;\">0.0990086</td><td style=\"text-align: right;\">-0.025717  </td><td style=\"text-align: right;\">-0.0792176</td><td style=\"text-align: right;\">-0.0175098 </td><td style=\"text-align: right;\">-0.0873435</td><td style=\"text-align: right;\">-0.0760292 </td><td style=\"text-align: right;\">-0.0145252 </td><td style=\"text-align: right;\">-0.133299 </td><td style=\"text-align: right;\"> 0.0443681</td><td style=\"text-align: right;\">0.058034 </td><td style=\"text-align: right;\"> 0.0594621</td><td style=\"text-align: right;\"> 0.0161576 </td><td style=\"text-align: right;\">-0.0545363</td><td style=\"text-align: right;\"> 0.0124944</td><td style=\"text-align: right;\">-0.092245 </td><td style=\"text-align: right;\"> 0.0427337  </td><td style=\"text-align: right;\">-0.205356  </td><td style=\"text-align: right;\">0.165292 </td><td style=\"text-align: right;\">0.0858257</td><td style=\"text-align: right;\">-0.00211871</td><td style=\"text-align: right;\">-0.144083</td><td style=\"text-align: right;\"> 0.0648589</td><td style=\"text-align: right;\">-0.0274769 </td><td style=\"text-align: right;\">-0.159883 </td><td style=\"text-align: right;\"> 0.00386776</td><td style=\"text-align: right;\">-0.0658212</td><td style=\"text-align: right;\"> 0.0255563 </td><td style=\"text-align: right;\"> 0.143347 </td></tr>\n",
       "<tr><td style=\"text-align: right;\"> 0.130178  </td><td style=\"text-align: right;\"> 0.0133307</td><td style=\"text-align: right;\"> 0.0445635 </td><td style=\"text-align: right;\"> 0.0391615  </td><td style=\"text-align: right;\"> 0.0217446</td><td style=\"text-align: right;\">-0.177391  </td><td style=\"text-align: right;\">-0.0160197 </td><td style=\"text-align: right;\">-0.23159  </td><td style=\"text-align: right;\">0.190841 </td><td style=\"text-align: right;\">-0.0488905 </td><td style=\"text-align: right;\">-0.158517  </td><td style=\"text-align: right;\"> 0.025899  </td><td style=\"text-align: right;\"> 0.0711951  </td><td style=\"text-align: right;\">0.208938 </td><td style=\"text-align: right;\">0.169715 </td><td style=\"text-align: right;\">-0.101944  </td><td style=\"text-align: right;\"> 0.0666538</td><td style=\"text-align: right;\"> 0.0941398 </td><td style=\"text-align: right;\"> 0.0154305 </td><td style=\"text-align: right;\"> 0.0426655</td><td style=\"text-align: right;\"> 0.0340721</td><td style=\"text-align: right;\">-0.180323 </td><td style=\"text-align: right;\"> 0.0533268 </td><td style=\"text-align: right;\"> 0.0848365 </td><td style=\"text-align: right;\"> 0.10193   </td><td style=\"text-align: right;\">-0.0777401  </td><td style=\"text-align: right;\">-0.00163733</td><td style=\"text-align: right;\"> 0.0230399</td><td style=\"text-align: right;\"> 0.125032 </td><td style=\"text-align: right;\"> 0.0290889 </td><td style=\"text-align: right;\">0.170191</td><td style=\"text-align: right;\">0.227289</td><td style=\"text-align: right;\">0.251596 </td><td style=\"text-align: right;\">-0.0714083</td><td style=\"text-align: right;\"> 0.0672746  </td><td style=\"text-align: right;\">-0.015021 </td><td style=\"text-align: right;\"> 0.0976651 </td><td style=\"text-align: right;\"> 0.0307077</td><td style=\"text-align: right;\">-0.0232096 </td><td style=\"text-align: right;\">-0.00384905</td><td style=\"text-align: right;\"> 0.098434 </td><td style=\"text-align: right;\">-0.184396</td><td style=\"text-align: right;\">0.171331 </td><td style=\"text-align: right;\"> 0.00191935</td><td style=\"text-align: right;\">-0.0409875</td><td style=\"text-align: right;\">-0.0516385</td><td style=\"text-align: right;\">-0.098054</td><td style=\"text-align: right;\"> 0.00857799</td><td style=\"text-align: right;\"> 0.0311017</td><td style=\"text-align: right;\">-0.179192 </td><td style=\"text-align: right;\"> 0.0965615</td><td style=\"text-align: right;\">-0.0639092</td><td style=\"text-align: right;\">-0.00354197</td><td style=\"text-align: right;\"> 0.0240998</td><td style=\"text-align: right;\"> 4.62949e-05</td><td style=\"text-align: right;\"> 0.0983054</td><td style=\"text-align: right;\">-0.0587742 </td><td style=\"text-align: right;\">-0.0671341 </td><td style=\"text-align: right;\">0.0231359</td><td style=\"text-align: right;\">-0.0681119</td><td style=\"text-align: right;\">-0.0477803 </td><td style=\"text-align: right;\"> 0.250568 </td><td style=\"text-align: right;\"> 0.0965276</td><td style=\"text-align: right;\">-0.174162 </td><td style=\"text-align: right;\">-0.0180902</td><td style=\"text-align: right;\">-0.0295341  </td><td style=\"text-align: right;\">-0.0503506 </td><td style=\"text-align: right;\"> 0.0532853 </td><td style=\"text-align: right;\"> 0.0355255</td><td style=\"text-align: right;\"> 0.00146342</td><td style=\"text-align: right;\">-0.00646568</td><td style=\"text-align: right;\">-0.098113 </td><td style=\"text-align: right;\">0.290862 </td><td style=\"text-align: right;\"> 0.0387556 </td><td style=\"text-align: right;\">-0.1035   </td><td style=\"text-align: right;\"> 0.0276786 </td><td style=\"text-align: right;\"> 0.0137037</td><td style=\"text-align: right;\"> 0.019361  </td><td style=\"text-align: right;\">-0.0570583 </td><td style=\"text-align: right;\">-0.0627315</td><td style=\"text-align: right;\"> 0.100581 </td><td style=\"text-align: right;\">0.026335 </td><td style=\"text-align: right;\"> 0.0503178</td><td style=\"text-align: right;\"> 0.0151778 </td><td style=\"text-align: right;\">-0.153968 </td><td style=\"text-align: right;\"> 0.0764779</td><td style=\"text-align: right;\">-0.0393478</td><td style=\"text-align: right;\"> 0.202721   </td><td style=\"text-align: right;\">-0.0835553 </td><td style=\"text-align: right;\">0.194608 </td><td style=\"text-align: right;\">0.0779055</td><td style=\"text-align: right;\"> 0.012167  </td><td style=\"text-align: right;\">-0.196363</td><td style=\"text-align: right;\"> 0.0721695</td><td style=\"text-align: right;\">-0.0554552 </td><td style=\"text-align: right;\">-0.0959387</td><td style=\"text-align: right;\">-0.0661202 </td><td style=\"text-align: right;\">-0.152343 </td><td style=\"text-align: right;\"> 0.0554753 </td><td style=\"text-align: right;\"> 0.10442  </td></tr>\n",
       "<tr><td style=\"text-align: right;\">-0.0999494 </td><td style=\"text-align: right;\">-0.0400358</td><td style=\"text-align: right;\">-0.141735  </td><td style=\"text-align: right;\"> 0.00864891 </td><td style=\"text-align: right;\">-0.150745 </td><td style=\"text-align: right;\">-0.0393736 </td><td style=\"text-align: right;\">-0.198675  </td><td style=\"text-align: right;\">-0.0785164</td><td style=\"text-align: right;\">0.373394 </td><td style=\"text-align: right;\"> 0.0457579 </td><td style=\"text-align: right;\">-0.151629  </td><td style=\"text-align: right;\"> 0.0123767 </td><td style=\"text-align: right;\">-0.11279    </td><td style=\"text-align: right;\">0.0627052</td><td style=\"text-align: right;\">0.214851 </td><td style=\"text-align: right;\">-0.149649  </td><td style=\"text-align: right;\"> 0.111603 </td><td style=\"text-align: right;\"> 0.0554151 </td><td style=\"text-align: right;\"> 0.0822829 </td><td style=\"text-align: right;\"> 0.11461  </td><td style=\"text-align: right;\"> 0.201696 </td><td style=\"text-align: right;\">-0.150359 </td><td style=\"text-align: right;\"> 0.0322612 </td><td style=\"text-align: right;\"> 0.0594442 </td><td style=\"text-align: right;\">-0.0559055 </td><td style=\"text-align: right;\">-0.17099    </td><td style=\"text-align: right;\"> 0.0310085 </td><td style=\"text-align: right;\">-0.0674452</td><td style=\"text-align: right;\"> 0.123282 </td><td style=\"text-align: right;\"> 0.118767  </td><td style=\"text-align: right;\">0.170357</td><td style=\"text-align: right;\">0.197596</td><td style=\"text-align: right;\">0.0511724</td><td style=\"text-align: right;\">-0.241752 </td><td style=\"text-align: right;\">-0.000401886</td><td style=\"text-align: right;\">-0.0554383</td><td style=\"text-align: right;\"> 0.103103  </td><td style=\"text-align: right;\">-0.0217356</td><td style=\"text-align: right;\">-0.147845  </td><td style=\"text-align: right;\"> 0.0887606 </td><td style=\"text-align: right;\"> 0.052577 </td><td style=\"text-align: right;\">-0.177434</td><td style=\"text-align: right;\">0.194804 </td><td style=\"text-align: right;\"> 0.0122316 </td><td style=\"text-align: right;\">-0.0686428</td><td style=\"text-align: right;\">-0.133353 </td><td style=\"text-align: right;\">-0.204793</td><td style=\"text-align: right;\">-0.0375955 </td><td style=\"text-align: right;\"> 0.0617921</td><td style=\"text-align: right;\">-0.0786676</td><td style=\"text-align: right;\">-0.0554316</td><td style=\"text-align: right;\"> 0.0977264</td><td style=\"text-align: right;\"> 0.198078  </td><td style=\"text-align: right;\"> 0.101478 </td><td style=\"text-align: right;\"> 0.0709533  </td><td style=\"text-align: right;\">-0.16936  </td><td style=\"text-align: right;\">-0.00819055</td><td style=\"text-align: right;\"> 0.0691239 </td><td style=\"text-align: right;\">0.0877343</td><td style=\"text-align: right;\">-0.114268 </td><td style=\"text-align: right;\"> 0.105519  </td><td style=\"text-align: right;\"> 0.0721201</td><td style=\"text-align: right;\">-0.0555317</td><td style=\"text-align: right;\">-0.224076 </td><td style=\"text-align: right;\"> 0.084866 </td><td style=\"text-align: right;\"> 0.0356483  </td><td style=\"text-align: right;\">-0.0701391 </td><td style=\"text-align: right;\"> 0.104875  </td><td style=\"text-align: right;\"> 0.17181  </td><td style=\"text-align: right;\">-0.10824   </td><td style=\"text-align: right;\">-0.059804  </td><td style=\"text-align: right;\">-0.16835  </td><td style=\"text-align: right;\">0.142155 </td><td style=\"text-align: right;\">-0.00429765</td><td style=\"text-align: right;\">-0.0544406</td><td style=\"text-align: right;\">-0.0573834 </td><td style=\"text-align: right;\"> 0.0607309</td><td style=\"text-align: right;\"> 0.00166301</td><td style=\"text-align: right;\">-0.011613  </td><td style=\"text-align: right;\"> 0.0650151</td><td style=\"text-align: right;\">-0.128586 </td><td style=\"text-align: right;\">0.127864 </td><td style=\"text-align: right;\">-0.0433657</td><td style=\"text-align: right;\"> 0.038695  </td><td style=\"text-align: right;\"> 0.0485054</td><td style=\"text-align: right;\">-0.040971 </td><td style=\"text-align: right;\">-0.139321 </td><td style=\"text-align: right;\"> 0.000432309</td><td style=\"text-align: right;\">-0.173646  </td><td style=\"text-align: right;\">0.148398 </td><td style=\"text-align: right;\">0.0232583</td><td style=\"text-align: right;\">-0.0603433 </td><td style=\"text-align: right;\">-0.186612</td><td style=\"text-align: right;\"> 0.0866569</td><td style=\"text-align: right;\">-0.0955415 </td><td style=\"text-align: right;\"> 0.173576 </td><td style=\"text-align: right;\">-0.0764548 </td><td style=\"text-align: right;\"> 0.0295825</td><td style=\"text-align: right;\">-0.00954424</td><td style=\"text-align: right;\"> 0.0987885</td></tr>\n",
       "<tr><td style=\"text-align: right;\">-0.0500241 </td><td style=\"text-align: right;\"> 0.0328782</td><td style=\"text-align: right;\"> 0.0184418 </td><td style=\"text-align: right;\">-0.000218919</td><td style=\"text-align: right;\"> 0.0479512</td><td style=\"text-align: right;\">-0.037685  </td><td style=\"text-align: right;\">-0.0478286 </td><td style=\"text-align: right;\">-0.276219 </td><td style=\"text-align: right;\">0.0761449</td><td style=\"text-align: right;\">-0.0630101 </td><td style=\"text-align: right;\"> 0.0196933 </td><td style=\"text-align: right;\"> 0.0134128 </td><td style=\"text-align: right;\"> 0.2966     </td><td style=\"text-align: right;\">0.0997788</td><td style=\"text-align: right;\">0.114896 </td><td style=\"text-align: right;\">-0.0251103 </td><td style=\"text-align: right;\"> 0.170776 </td><td style=\"text-align: right;\"> 0.0537902 </td><td style=\"text-align: right;\"> 0.124844  </td><td style=\"text-align: right;\"> 0.118083 </td><td style=\"text-align: right;\"> 0.0465153</td><td style=\"text-align: right;\">-0.185864 </td><td style=\"text-align: right;\">-0.133197  </td><td style=\"text-align: right;\">-0.160632  </td><td style=\"text-align: right;\">-0.0109252 </td><td style=\"text-align: right;\">-0.0203299  </td><td style=\"text-align: right;\"> 0.0518847 </td><td style=\"text-align: right;\"> 0.0607284</td><td style=\"text-align: right;\"> 0.0708085</td><td style=\"text-align: right;\">-0.0726414 </td><td style=\"text-align: right;\">0.233467</td><td style=\"text-align: right;\">0.150794</td><td style=\"text-align: right;\">0.166337 </td><td style=\"text-align: right;\">-0.0298292</td><td style=\"text-align: right;\"> 0.0573656  </td><td style=\"text-align: right;\"> 0.0164525</td><td style=\"text-align: right;\">-0.0653916 </td><td style=\"text-align: right;\">-0.129681 </td><td style=\"text-align: right;\">-0.123858  </td><td style=\"text-align: right;\"> 0.193801  </td><td style=\"text-align: right;\">-0.0249568</td><td style=\"text-align: right;\">-0.215427</td><td style=\"text-align: right;\">0.195296 </td><td style=\"text-align: right;\">-0.173035  </td><td style=\"text-align: right;\">-0.0232099</td><td style=\"text-align: right;\">-0.0543244</td><td style=\"text-align: right;\">-0.206572</td><td style=\"text-align: right;\">-0.166873  </td><td style=\"text-align: right;\"> 0.0452653</td><td style=\"text-align: right;\">-0.0944231</td><td style=\"text-align: right;\"> 0.122431 </td><td style=\"text-align: right;\"> 0.0804022</td><td style=\"text-align: right;\"> 0.145335  </td><td style=\"text-align: right;\"> 0.0726157</td><td style=\"text-align: right;\"> 0.0606415  </td><td style=\"text-align: right;\">-0.0165455</td><td style=\"text-align: right;\"> 0.0884398 </td><td style=\"text-align: right;\"> 0.0914581 </td><td style=\"text-align: right;\">0.0314619</td><td style=\"text-align: right;\"> 0.112745 </td><td style=\"text-align: right;\">-0.0381011 </td><td style=\"text-align: right;\"> 0.0574819</td><td style=\"text-align: right;\">-0.0705874</td><td style=\"text-align: right;\">-0.128274 </td><td style=\"text-align: right;\">-0.0256617</td><td style=\"text-align: right;\">-0.0835249  </td><td style=\"text-align: right;\"> 0.0102686 </td><td style=\"text-align: right;\">-0.107008  </td><td style=\"text-align: right;\"> 0.0949205</td><td style=\"text-align: right;\">-0.188895  </td><td style=\"text-align: right;\">-0.128229  </td><td style=\"text-align: right;\">-0.146037 </td><td style=\"text-align: right;\">0.250044 </td><td style=\"text-align: right;\"> 0.0160985 </td><td style=\"text-align: right;\">-0.110434 </td><td style=\"text-align: right;\">-0.0405256 </td><td style=\"text-align: right;\"> 0.0578329</td><td style=\"text-align: right;\"> 0.0141732 </td><td style=\"text-align: right;\">-0.180719  </td><td style=\"text-align: right;\">-0.0945541</td><td style=\"text-align: right;\">-0.0458565</td><td style=\"text-align: right;\">0.134231 </td><td style=\"text-align: right;\">-0.0195335</td><td style=\"text-align: right;\"> 0.0857366 </td><td style=\"text-align: right;\">-0.0367687</td><td style=\"text-align: right;\">-0.0242092</td><td style=\"text-align: right;\">-0.146668 </td><td style=\"text-align: right;\"> 0.0595908  </td><td style=\"text-align: right;\">-0.00579127</td><td style=\"text-align: right;\">0.0658081</td><td style=\"text-align: right;\">0.0460398</td><td style=\"text-align: right;\"> 0.0356179 </td><td style=\"text-align: right;\">-0.102207</td><td style=\"text-align: right;\">-0.0733368</td><td style=\"text-align: right;\"> 0.106649  </td><td style=\"text-align: right;\">-0.10271  </td><td style=\"text-align: right;\">-0.0744363 </td><td style=\"text-align: right;\">-0.0824496</td><td style=\"text-align: right;\"> 0.0731754 </td><td style=\"text-align: right;\"> 0.0425325</td></tr>\n",
       "<tr><td style=\"text-align: right;\">-0.104128  </td><td style=\"text-align: right;\"> 0.0362096</td><td style=\"text-align: right;\">-0.202629  </td><td style=\"text-align: right;\"> 0.0394442  </td><td style=\"text-align: right;\">-0.176737 </td><td style=\"text-align: right;\">-0.00226848</td><td style=\"text-align: right;\">-0.105605  </td><td style=\"text-align: right;\">-0.0601069</td><td style=\"text-align: right;\">0.260021 </td><td style=\"text-align: right;\">-0.0375636 </td><td style=\"text-align: right;\">-0.0853452 </td><td style=\"text-align: right;\"> 0.176822  </td><td style=\"text-align: right;\"> 0.000935041</td><td style=\"text-align: right;\">0.0314996</td><td style=\"text-align: right;\">0.168136 </td><td style=\"text-align: right;\">-0.04195   </td><td style=\"text-align: right;\"> 0.168892 </td><td style=\"text-align: right;\">-0.00416668</td><td style=\"text-align: right;\"> 0.0974004 </td><td style=\"text-align: right;\"> 0.0687049</td><td style=\"text-align: right;\"> 0.104045 </td><td style=\"text-align: right;\">-0.101904 </td><td style=\"text-align: right;\">-0.0307248 </td><td style=\"text-align: right;\">-0.0388439 </td><td style=\"text-align: right;\"> 0.0229782 </td><td style=\"text-align: right;\">-0.137264   </td><td style=\"text-align: right;\">-0.0247022 </td><td style=\"text-align: right;\">-0.0521716</td><td style=\"text-align: right;\"> 0.110183 </td><td style=\"text-align: right;\"> 0.00645186</td><td style=\"text-align: right;\">0.166396</td><td style=\"text-align: right;\">0.154569</td><td style=\"text-align: right;\">0.13392  </td><td style=\"text-align: right;\">-0.240282 </td><td style=\"text-align: right;\"> 0.0356731  </td><td style=\"text-align: right;\"> 0.0492199</td><td style=\"text-align: right;\"> 0.0870295 </td><td style=\"text-align: right;\">-0.113528 </td><td style=\"text-align: right;\">-0.0638567 </td><td style=\"text-align: right;\"> 0.057027  </td><td style=\"text-align: right;\"> 0.0315673</td><td style=\"text-align: right;\">-0.096199</td><td style=\"text-align: right;\">0.195543 </td><td style=\"text-align: right;\">-0.110619  </td><td style=\"text-align: right;\">-0.0296341</td><td style=\"text-align: right;\">-0.0458775</td><td style=\"text-align: right;\">-0.192378</td><td style=\"text-align: right;\">-0.0446294 </td><td style=\"text-align: right;\"> 0.004093 </td><td style=\"text-align: right;\">-0.0958188</td><td style=\"text-align: right;\"> 0.122904 </td><td style=\"text-align: right;\"> 0.0984424</td><td style=\"text-align: right;\"> 0.0635191 </td><td style=\"text-align: right;\"> 0.0994769</td><td style=\"text-align: right;\"> 0.124808   </td><td style=\"text-align: right;\">-0.0316509</td><td style=\"text-align: right;\">-0.0217933 </td><td style=\"text-align: right;\"> 0.0611553 </td><td style=\"text-align: right;\">0.0597246</td><td style=\"text-align: right;\">-0.0291581</td><td style=\"text-align: right;\">-0.0149051 </td><td style=\"text-align: right;\"> 0.0361709</td><td style=\"text-align: right;\"> 0.104859 </td><td style=\"text-align: right;\">-0.19715  </td><td style=\"text-align: right;\"> 0.05522  </td><td style=\"text-align: right;\">-0.0694501  </td><td style=\"text-align: right;\">-0.00939447</td><td style=\"text-align: right;\">-0.0472917 </td><td style=\"text-align: right;\"> 0.0943684</td><td style=\"text-align: right;\"> 0.00844885</td><td style=\"text-align: right;\"> 0.0515482 </td><td style=\"text-align: right;\">-0.181919 </td><td style=\"text-align: right;\">0.116647 </td><td style=\"text-align: right;\">-0.00967949</td><td style=\"text-align: right;\">-0.0212387</td><td style=\"text-align: right;\">-0.00986793</td><td style=\"text-align: right;\">-0.0847843</td><td style=\"text-align: right;\"> 0.0487276 </td><td style=\"text-align: right;\">-0.00965082</td><td style=\"text-align: right;\"> 0.0268975</td><td style=\"text-align: right;\">-0.0208558</td><td style=\"text-align: right;\">0.127556 </td><td style=\"text-align: right;\">-0.0147588</td><td style=\"text-align: right;\"> 0.0913292 </td><td style=\"text-align: right;\">-0.0436233</td><td style=\"text-align: right;\">-0.0970818</td><td style=\"text-align: right;\">-0.0852045</td><td style=\"text-align: right;\"> 0.0243346  </td><td style=\"text-align: right;\">-0.121153  </td><td style=\"text-align: right;\">0.19017  </td><td style=\"text-align: right;\">0.0568355</td><td style=\"text-align: right;\">-0.0276018 </td><td style=\"text-align: right;\">-0.240088</td><td style=\"text-align: right;\"> 0.0330959</td><td style=\"text-align: right;\"> 0.004553  </td><td style=\"text-align: right;\">-0.0132352</td><td style=\"text-align: right;\">-0.112769  </td><td style=\"text-align: right;\">-0.0531342</td><td style=\"text-align: right;\">-0.0305855 </td><td style=\"text-align: right;\"> 0.153508 </td></tr>\n",
       "<tr><td style=\"text-align: right;\"> 0.00526601</td><td style=\"text-align: right;\">-0.0284231</td><td style=\"text-align: right;\">-0.0426394 </td><td style=\"text-align: right;\">-0.026414   </td><td style=\"text-align: right;\">-0.191125 </td><td style=\"text-align: right;\">-0.155704  </td><td style=\"text-align: right;\">-0.0858126 </td><td style=\"text-align: right;\">-0.218973 </td><td style=\"text-align: right;\">0.208141 </td><td style=\"text-align: right;\"> 0.0642347 </td><td style=\"text-align: right;\">-0.225698  </td><td style=\"text-align: right;\"> 0.0801126 </td><td style=\"text-align: right;\">-0.082623   </td><td style=\"text-align: right;\">0.123811 </td><td style=\"text-align: right;\">0.196126 </td><td style=\"text-align: right;\">-0.166214  </td><td style=\"text-align: right;\"> 0.108339 </td><td style=\"text-align: right;\"> 0.115136  </td><td style=\"text-align: right;\"> 0.105387  </td><td style=\"text-align: right;\"> 0.0047052</td><td style=\"text-align: right;\"> 0.0138622</td><td style=\"text-align: right;\">-0.179427 </td><td style=\"text-align: right;\">-0.0494878 </td><td style=\"text-align: right;\">-0.0279285 </td><td style=\"text-align: right;\"> 0.0438482 </td><td style=\"text-align: right;\"> 0.0330071  </td><td style=\"text-align: right;\">-0.0727409 </td><td style=\"text-align: right;\"> 0.0472841</td><td style=\"text-align: right;\"> 0.115184 </td><td style=\"text-align: right;\">-0.0184396 </td><td style=\"text-align: right;\">0.21555 </td><td style=\"text-align: right;\">0.215917</td><td style=\"text-align: right;\">0.0310711</td><td style=\"text-align: right;\">-0.202556 </td><td style=\"text-align: right;\">-0.0545092  </td><td style=\"text-align: right;\"> 0.0661075</td><td style=\"text-align: right;\"> 0.12766   </td><td style=\"text-align: right;\">-0.0650293</td><td style=\"text-align: right;\">-0.0150601 </td><td style=\"text-align: right;\">-0.0359977 </td><td style=\"text-align: right;\">-0.0563204</td><td style=\"text-align: right;\">-0.187461</td><td style=\"text-align: right;\">0.114217 </td><td style=\"text-align: right;\"> 0.0720976 </td><td style=\"text-align: right;\">-0.0735857</td><td style=\"text-align: right;\">-0.0998714</td><td style=\"text-align: right;\">-0.238732</td><td style=\"text-align: right;\">-0.0501645 </td><td style=\"text-align: right;\"> 0.104931 </td><td style=\"text-align: right;\">-0.134049 </td><td style=\"text-align: right;\"> 0.12519  </td><td style=\"text-align: right;\"> 0.0249163</td><td style=\"text-align: right;\"> 0.0588341 </td><td style=\"text-align: right;\"> 0.0327459</td><td style=\"text-align: right;\"> 0.125515   </td><td style=\"text-align: right;\">-0.03944  </td><td style=\"text-align: right;\"> 0.00600066</td><td style=\"text-align: right;\"> 0.0771676 </td><td style=\"text-align: right;\">0.0692274</td><td style=\"text-align: right;\"> 0.0395682</td><td style=\"text-align: right;\">-0.00713672</td><td style=\"text-align: right;\"> 0.0622886</td><td style=\"text-align: right;\"> 0.0624589</td><td style=\"text-align: right;\">-0.260491 </td><td style=\"text-align: right;\"> 0.0382205</td><td style=\"text-align: right;\">-0.0777093  </td><td style=\"text-align: right;\"> 0.0552087 </td><td style=\"text-align: right;\">-0.066461  </td><td style=\"text-align: right;\"> 0.137281 </td><td style=\"text-align: right;\">-0.0269047 </td><td style=\"text-align: right;\"> 0.0197102 </td><td style=\"text-align: right;\">-0.110525 </td><td style=\"text-align: right;\">0.081049 </td><td style=\"text-align: right;\"> 0.0570227 </td><td style=\"text-align: right;\">-0.104915 </td><td style=\"text-align: right;\">-0.0363593 </td><td style=\"text-align: right;\"> 0.0705888</td><td style=\"text-align: right;\"> 0.0226061 </td><td style=\"text-align: right;\"> 0.0458428 </td><td style=\"text-align: right;\">-0.0750268</td><td style=\"text-align: right;\"> 0.0284757</td><td style=\"text-align: right;\">0.0986591</td><td style=\"text-align: right;\"> 0.0663557</td><td style=\"text-align: right;\">-0.0414774 </td><td style=\"text-align: right;\">-0.0706095</td><td style=\"text-align: right;\">-0.0210763</td><td style=\"text-align: right;\"> 0.0410569</td><td style=\"text-align: right;\">-0.0114732  </td><td style=\"text-align: right;\">-0.192505  </td><td style=\"text-align: right;\">0.147952 </td><td style=\"text-align: right;\">0.0513569</td><td style=\"text-align: right;\">-0.0249412 </td><td style=\"text-align: right;\">-0.261366</td><td style=\"text-align: right;\">-0.023828 </td><td style=\"text-align: right;\">-0.0378849 </td><td style=\"text-align: right;\"> 0.022568 </td><td style=\"text-align: right;\">-0.136816  </td><td style=\"text-align: right;\"> 0.0308669</td><td style=\"text-align: right;\">-0.00233271</td><td style=\"text-align: right;\"> 0.020575 </td></tr>\n",
       "<tr><td style=\"text-align: right;\">-0.160725  </td><td style=\"text-align: right;\"> 0.0950027</td><td style=\"text-align: right;\">-0.30412   </td><td style=\"text-align: right;\">-0.182843   </td><td style=\"text-align: right;\">-0.407865 </td><td style=\"text-align: right;\">-0.0935206 </td><td style=\"text-align: right;\">-0.0233746 </td><td style=\"text-align: right;\"> 0.107341 </td><td style=\"text-align: right;\">0.0949836</td><td style=\"text-align: right;\">-0.00953208</td><td style=\"text-align: right;\">-0.00280325</td><td style=\"text-align: right;\"> 0.190258  </td><td style=\"text-align: right;\">-0.213178   </td><td style=\"text-align: right;\">0.0200462</td><td style=\"text-align: right;\">0.655147 </td><td style=\"text-align: right;\">-0.242533  </td><td style=\"text-align: right;\"> 0.263553 </td><td style=\"text-align: right;\"> 0.278771  </td><td style=\"text-align: right;\">-0.0969584 </td><td style=\"text-align: right;\"> 0.0217572</td><td style=\"text-align: right;\"> 0.141183 </td><td style=\"text-align: right;\">-0.302051 </td><td style=\"text-align: right;\"> 0.00256937</td><td style=\"text-align: right;\">-0.126714  </td><td style=\"text-align: right;\">-0.178151  </td><td style=\"text-align: right;\">-0.0272665  </td><td style=\"text-align: right;\">-0.122093  </td><td style=\"text-align: right;\">-0.109258 </td><td style=\"text-align: right;\">-0.272138 </td><td style=\"text-align: right;\"> 0.100232  </td><td style=\"text-align: right;\">0.329753</td><td style=\"text-align: right;\">0.289748</td><td style=\"text-align: right;\">0.0743735</td><td style=\"text-align: right;\">-0.183105 </td><td style=\"text-align: right;\"> 0.156487   </td><td style=\"text-align: right;\">-0.110868 </td><td style=\"text-align: right;\"> 0.24666   </td><td style=\"text-align: right;\">-0.265188 </td><td style=\"text-align: right;\">-0.269995  </td><td style=\"text-align: right;\">-0.0740613 </td><td style=\"text-align: right;\"> 0.259944 </td><td style=\"text-align: right;\">-0.244604</td><td style=\"text-align: right;\">0.0318922</td><td style=\"text-align: right;\">-0.0972105 </td><td style=\"text-align: right;\">-0.226982 </td><td style=\"text-align: right;\">-0.120416 </td><td style=\"text-align: right;\"> 0.059786</td><td style=\"text-align: right;\"> 0.158939  </td><td style=\"text-align: right;\">-0.121273 </td><td style=\"text-align: right;\">-0.0209538</td><td style=\"text-align: right;\"> 0.0896648</td><td style=\"text-align: right;\"> 0.129231 </td><td style=\"text-align: right;\"> 0.0360667 </td><td style=\"text-align: right;\">-0.0369252</td><td style=\"text-align: right;\"> 0.390769   </td><td style=\"text-align: right;\">-0.0375446</td><td style=\"text-align: right;\">-0.0163408 </td><td style=\"text-align: right;\"> 0.228303  </td><td style=\"text-align: right;\">0.271714 </td><td style=\"text-align: right;\">-0.112211 </td><td style=\"text-align: right;\">-0.118545  </td><td style=\"text-align: right;\">-0.212425 </td><td style=\"text-align: right;\">-0.163522 </td><td style=\"text-align: right;\">-0.369671 </td><td style=\"text-align: right;\">-0.245174 </td><td style=\"text-align: right;\">-0.139072   </td><td style=\"text-align: right;\"> 0.319505  </td><td style=\"text-align: right;\">-0.0911255 </td><td style=\"text-align: right;\"> 0.119239 </td><td style=\"text-align: right;\">-0.0575372 </td><td style=\"text-align: right;\">-0.136879  </td><td style=\"text-align: right;\"> 0.162706 </td><td style=\"text-align: right;\">0.269735 </td><td style=\"text-align: right;\"> 0.0236488 </td><td style=\"text-align: right;\"> 0.198599 </td><td style=\"text-align: right;\">-0.0778422 </td><td style=\"text-align: right;\">-0.0413417</td><td style=\"text-align: right;\"> 0.04288   </td><td style=\"text-align: right;\">-0.0797568 </td><td style=\"text-align: right;\">-0.0198884</td><td style=\"text-align: right;\">-0.0233041</td><td style=\"text-align: right;\">0.196843 </td><td style=\"text-align: right;\">-0.0682412</td><td style=\"text-align: right;\">-0.0274158 </td><td style=\"text-align: right;\"> 0.170536 </td><td style=\"text-align: right;\">-0.126236 </td><td style=\"text-align: right;\">-0.125938 </td><td style=\"text-align: right;\">-0.0605354  </td><td style=\"text-align: right;\">-0.169896  </td><td style=\"text-align: right;\">0.247858 </td><td style=\"text-align: right;\">0.201707 </td><td style=\"text-align: right;\"> 0.0340807 </td><td style=\"text-align: right;\">-0.152396</td><td style=\"text-align: right;\"> 0.231402 </td><td style=\"text-align: right;\">-0.22145   </td><td style=\"text-align: right;\">-0.0947021</td><td style=\"text-align: right;\">-0.0171725 </td><td style=\"text-align: right;\">-0.0611409</td><td style=\"text-align: right;\">-0.115773  </td><td style=\"text-align: right;\">-0.032485 </td></tr>\n",
       "</tbody>\n",
       "</table>"
      ]
     },
     "metadata": {},
     "output_type": "display_data"
    },
    {
     "data": {
      "text/plain": []
     },
     "execution_count": 19,
     "metadata": {},
     "output_type": "execute_result"
    }
   ],
   "source": [
    "# Calculate a vector for each review\n",
    "review_vecs = w2v_model.transform(words, aggregate_method = \"AVERAGE\")\n",
    "review_vecs"
   ]
  },
  {
   "cell_type": "code",
   "execution_count": 20,
   "metadata": {},
   "outputs": [],
   "source": [
    "# Add aggregated word embeddings \n",
    "ext_reviews = reviews.cbind(review_vecs)"
   ]
  },
  {
   "cell_type": "code",
   "execution_count": 22,
   "metadata": {},
   "outputs": [
    {
     "data": {
      "text/html": [
       "<table>\n",
       "<thead>\n",
       "<tr><th>ProductId  </th><th>UserId        </th><th>Summary                     </th><th style=\"text-align: right;\">  Score</th><th style=\"text-align: right;\">  HelpfulnessDenominator</th><th style=\"text-align: right;\">    Id</th><th>ProfileName        </th><th style=\"text-align: right;\">  HelpfulnessNumerator</th><th style=\"text-align: right;\">       Time</th><th>Text                                                                                                                                                                                                                                                                                                                                                                            </th><th style=\"text-align: right;\">  PositiveReview</th><th>Train  </th><th style=\"text-align: right;\">       C1</th><th style=\"text-align: right;\">        C2</th><th style=\"text-align: right;\">         C3</th><th style=\"text-align: right;\">        C4</th><th style=\"text-align: right;\">        C5</th><th style=\"text-align: right;\">         C6</th><th style=\"text-align: right;\">        C7</th><th style=\"text-align: right;\">        C8</th><th style=\"text-align: right;\">      C9</th><th style=\"text-align: right;\">       C10</th><th style=\"text-align: right;\">       C11</th><th style=\"text-align: right;\">        C12</th><th style=\"text-align: right;\">       C13</th><th style=\"text-align: right;\">      C14</th><th style=\"text-align: right;\">      C15</th><th style=\"text-align: right;\">        C16</th><th style=\"text-align: right;\">       C17</th><th style=\"text-align: right;\">       C18</th><th style=\"text-align: right;\">        C19</th><th style=\"text-align: right;\">      C20</th><th style=\"text-align: right;\">       C21</th><th style=\"text-align: right;\">       C22</th><th style=\"text-align: right;\">       C23</th><th style=\"text-align: right;\">        C24</th><th style=\"text-align: right;\">      C25</th><th style=\"text-align: right;\">         C26</th><th style=\"text-align: right;\">       C27</th><th style=\"text-align: right;\">      C28</th><th style=\"text-align: right;\">      C29</th><th style=\"text-align: right;\">       C30</th><th style=\"text-align: right;\">     C31</th><th style=\"text-align: right;\">     C32</th><th style=\"text-align: right;\">     C33</th><th style=\"text-align: right;\">      C34</th><th style=\"text-align: right;\">       C35</th><th style=\"text-align: right;\">       C36</th><th style=\"text-align: right;\">       C37</th><th style=\"text-align: right;\">       C38</th><th style=\"text-align: right;\">       C39</th><th style=\"text-align: right;\">       C40</th><th style=\"text-align: right;\">       C41</th><th style=\"text-align: right;\">      C42</th><th style=\"text-align: right;\">      C43</th><th style=\"text-align: right;\">       C44</th><th style=\"text-align: right;\">       C45</th><th style=\"text-align: right;\">       C46</th><th style=\"text-align: right;\">      C47</th><th style=\"text-align: right;\">       C48</th><th style=\"text-align: right;\">       C49</th><th style=\"text-align: right;\">       C50</th><th style=\"text-align: right;\">     C51</th><th style=\"text-align: right;\">       C52</th><th style=\"text-align: right;\">       C53</th><th style=\"text-align: right;\">     C54</th><th style=\"text-align: right;\">       C55</th><th style=\"text-align: right;\">       C56</th><th style=\"text-align: right;\">       C57</th><th style=\"text-align: right;\">       C58</th><th style=\"text-align: right;\">      C59</th><th style=\"text-align: right;\">       C60</th><th style=\"text-align: right;\">       C61</th><th style=\"text-align: right;\">     C62</th><th style=\"text-align: right;\">       C63</th><th style=\"text-align: right;\">       C64</th><th style=\"text-align: right;\">       C65</th><th style=\"text-align: right;\">         C66</th><th style=\"text-align: right;\">       C67</th><th style=\"text-align: right;\">        C68</th><th style=\"text-align: right;\">      C69</th><th style=\"text-align: right;\">        C70</th><th style=\"text-align: right;\">       C71</th><th style=\"text-align: right;\">       C72</th><th style=\"text-align: right;\">     C73</th><th style=\"text-align: right;\">        C74</th><th style=\"text-align: right;\">       C75</th><th style=\"text-align: right;\">       C76</th><th style=\"text-align: right;\">       C77</th><th style=\"text-align: right;\">       C78</th><th style=\"text-align: right;\">       C79</th><th style=\"text-align: right;\">       C80</th><th style=\"text-align: right;\">       C81</th><th style=\"text-align: right;\">      C82</th><th style=\"text-align: right;\">       C83</th><th style=\"text-align: right;\">        C84</th><th style=\"text-align: right;\">      C85</th><th style=\"text-align: right;\">       C86</th><th style=\"text-align: right;\">       C87</th><th style=\"text-align: right;\">      C88</th><th style=\"text-align: right;\">        C89</th><th style=\"text-align: right;\">     C90</th><th style=\"text-align: right;\">      C91</th><th style=\"text-align: right;\">       C92</th><th style=\"text-align: right;\">      C93</th><th style=\"text-align: right;\">       C94</th><th style=\"text-align: right;\">        C95</th><th style=\"text-align: right;\">      C96</th><th style=\"text-align: right;\">       C97</th><th style=\"text-align: right;\">       C98</th><th style=\"text-align: right;\">       C99</th><th style=\"text-align: right;\">     C100</th></tr>\n",
       "</thead>\n",
       "<tbody>\n",
       "<tr><td>B00141QYSQ </td><td>A1YS02UZZGRDCT</td><td>Do Not Buy                  </td><td style=\"text-align: right;\">      1</td><td style=\"text-align: right;\">                       2</td><td style=\"text-align: right;\"> 41471</td><td>Evan Eberhardt     </td><td style=\"text-align: right;\">                     2</td><td style=\"text-align: right;\">1.34836e+09</td><td>These are made in China (do not buy ANY pet food from China).  Dogswell has been using propylene glycol to soften their treats (what are they thinkng?).  Do not purchase or support this company in any way until they clean up their act.  And for whatever reason Amazon doesn't allow returns of this item, so I had to toss mine out.  Bad business all around on this one.</td><td style=\"text-align: right;\">               0</td><td>No     </td><td style=\"text-align: right;\">0.12917  </td><td style=\"text-align: right;\"> 0.0299455</td><td style=\"text-align: right;\">-0.0490899 </td><td style=\"text-align: right;\">0.00893291</td><td style=\"text-align: right;\"> 0.0190802</td><td style=\"text-align: right;\">-0.00610951</td><td style=\"text-align: right;\"> 0.0120351</td><td style=\"text-align: right;\">-0.334961 </td><td style=\"text-align: right;\">0.161847</td><td style=\"text-align: right;\">-0.0663551</td><td style=\"text-align: right;\">-0.109759 </td><td style=\"text-align: right;\">-0.00641763</td><td style=\"text-align: right;\"> 0.0887674</td><td style=\"text-align: right;\">0.191471 </td><td style=\"text-align: right;\">0.0549513</td><td style=\"text-align: right;\">-0.144631  </td><td style=\"text-align: right;\">-0.0474062</td><td style=\"text-align: right;\"> 0.0995626</td><td style=\"text-align: right;\"> 0.0134732 </td><td style=\"text-align: right;\">0.0396906</td><td style=\"text-align: right;\">-0.0368953</td><td style=\"text-align: right;\">-0.19288  </td><td style=\"text-align: right;\"> 0.0790057</td><td style=\"text-align: right;\">-0.00657185</td><td style=\"text-align: right;\">0.0905049</td><td style=\"text-align: right;\"> 0.117006   </td><td style=\"text-align: right;\"> 0.0382062</td><td style=\"text-align: right;\">0.0893816</td><td style=\"text-align: right;\">0.102397 </td><td style=\"text-align: right;\"> 0.0572057</td><td style=\"text-align: right;\">0.233991</td><td style=\"text-align: right;\">0.158946</td><td style=\"text-align: right;\">0.196584</td><td style=\"text-align: right;\">-0.160502</td><td style=\"text-align: right;\"> 0.0690184</td><td style=\"text-align: right;\">-0.0863937</td><td style=\"text-align: right;\"> 0.0405308</td><td style=\"text-align: right;\"> 0.13917  </td><td style=\"text-align: right;\">-0.0265374</td><td style=\"text-align: right;\">-0.0218064</td><td style=\"text-align: right;\"> 0.0099681</td><td style=\"text-align: right;\">-0.156008</td><td style=\"text-align: right;\">0.0308868</td><td style=\"text-align: right;\">-0.137468 </td><td style=\"text-align: right;\"> 0.0246485</td><td style=\"text-align: right;\">-0.0364001</td><td style=\"text-align: right;\">-0.107721</td><td style=\"text-align: right;\">-0.1641   </td><td style=\"text-align: right;\"> 0.0630564</td><td style=\"text-align: right;\">-0.224799 </td><td style=\"text-align: right;\">0.102297</td><td style=\"text-align: right;\"> 0.0340673</td><td style=\"text-align: right;\">-0.129526 </td><td style=\"text-align: right;\">0.131943</td><td style=\"text-align: right;\">-0.0279314</td><td style=\"text-align: right;\"> 0.0284462</td><td style=\"text-align: right;\">-0.111921 </td><td style=\"text-align: right;\">0.158484  </td><td style=\"text-align: right;\">0.0485629</td><td style=\"text-align: right;\">-0.0517763</td><td style=\"text-align: right;\">-0.0669737</td><td style=\"text-align: right;\">0.204902</td><td style=\"text-align: right;\"> 0.070655 </td><td style=\"text-align: right;\">-0.106908 </td><td style=\"text-align: right;\">-0.0713758</td><td style=\"text-align: right;\">-0.0182628  </td><td style=\"text-align: right;\"> 0.0699829</td><td style=\"text-align: right;\">-0.00538563</td><td style=\"text-align: right;\">0.0394679</td><td style=\"text-align: right;\"> 0.0502924 </td><td style=\"text-align: right;\"> 0.0668489</td><td style=\"text-align: right;\">-0.0501116</td><td style=\"text-align: right;\">0.313984</td><td style=\"text-align: right;\"> 0.0276574 </td><td style=\"text-align: right;\">-0.118442 </td><td style=\"text-align: right;\">-0.0181206</td><td style=\"text-align: right;\"> 0.0535085</td><td style=\"text-align: right;\"> 0.070737 </td><td style=\"text-align: right;\">-0.0708572</td><td style=\"text-align: right;\">-0.0453052</td><td style=\"text-align: right;\"> 0.0181514</td><td style=\"text-align: right;\">0.160654 </td><td style=\"text-align: right;\"> 0.0700613</td><td style=\"text-align: right;\">-0.00154031</td><td style=\"text-align: right;\">-0.102484</td><td style=\"text-align: right;\">-0.0431368</td><td style=\"text-align: right;\">-0.0862916</td><td style=\"text-align: right;\">0.109466 </td><td style=\"text-align: right;\">-0.00336389</td><td style=\"text-align: right;\">0.113831</td><td style=\"text-align: right;\">0.0402905</td><td style=\"text-align: right;\">0.0238592 </td><td style=\"text-align: right;\">-0.185985</td><td style=\"text-align: right;\"> 0.0926318</td><td style=\"text-align: right;\">-0.0311738 </td><td style=\"text-align: right;\">-0.137986</td><td style=\"text-align: right;\">-0.0343636</td><td style=\"text-align: right;\">-0.196328 </td><td style=\"text-align: right;\"> 0.119503 </td><td style=\"text-align: right;\">0.0379679</td></tr>\n",
       "<tr><td>B0089SPEO2 </td><td>A3JOYNYL458QHP</td><td>Less lemon and less zing    </td><td style=\"text-align: right;\">      3</td><td style=\"text-align: right;\">                       0</td><td style=\"text-align: right;\"> 28582</td><td>coleridge          </td><td style=\"text-align: right;\">                     0</td><td style=\"text-align: right;\">1.32391e+09</td><td>Everything is ok, except it just isn't as good as it is in the bags.  Just considerably more bland -- less lemon and less zing.  Boring.                                                                                                                                                                                                                                        </td><td style=\"text-align: right;\">               0</td><td>Yes    </td><td style=\"text-align: right;\">0.0185988</td><td style=\"text-align: right;\"> 0.205654 </td><td style=\"text-align: right;\">-0.213451  </td><td style=\"text-align: right;\">0.0881322 </td><td style=\"text-align: right;\">-0.026778 </td><td style=\"text-align: right;\">-0.114138  </td><td style=\"text-align: right;\">-0.0710233</td><td style=\"text-align: right;\"> 0.0257435</td><td style=\"text-align: right;\">0.289505</td><td style=\"text-align: right;\">-0.0558199</td><td style=\"text-align: right;\">-0.119363 </td><td style=\"text-align: right;\"> 0.188334  </td><td style=\"text-align: right;\"> 0.0314669</td><td style=\"text-align: right;\">0.122508 </td><td style=\"text-align: right;\">0.17663  </td><td style=\"text-align: right;\">-0.106895  </td><td style=\"text-align: right;\"> 0.163716 </td><td style=\"text-align: right;\">-0.0379743</td><td style=\"text-align: right;\">-0.00431046</td><td style=\"text-align: right;\">0.0274768</td><td style=\"text-align: right;\"> 0.0210197</td><td style=\"text-align: right;\">-0.0468156</td><td style=\"text-align: right;\">-0.159791 </td><td style=\"text-align: right;\">-0.114791  </td><td style=\"text-align: right;\">0.0235751</td><td style=\"text-align: right;\">-0.101575   </td><td style=\"text-align: right;\"> 0.061798 </td><td style=\"text-align: right;\">0.0335133</td><td style=\"text-align: right;\">0.0386808</td><td style=\"text-align: right;\">-0.0310535</td><td style=\"text-align: right;\">0.121843</td><td style=\"text-align: right;\">0.23477 </td><td style=\"text-align: right;\">0.127345</td><td style=\"text-align: right;\">-0.1751  </td><td style=\"text-align: right;\"> 0.0518926</td><td style=\"text-align: right;\">-0.0726755</td><td style=\"text-align: right;\">-0.113054 </td><td style=\"text-align: right;\">-0.0923534</td><td style=\"text-align: right;\">-0.0329874</td><td style=\"text-align: right;\"> 0.0299116</td><td style=\"text-align: right;\"> 0.107482 </td><td style=\"text-align: right;\">-0.162709</td><td style=\"text-align: right;\">0.186311 </td><td style=\"text-align: right;\">-0.116504 </td><td style=\"text-align: right;\">-0.0116403</td><td style=\"text-align: right;\">-0.0361627</td><td style=\"text-align: right;\">-0.234973</td><td style=\"text-align: right;\"> 0.0251932</td><td style=\"text-align: right;\">-0.0441221</td><td style=\"text-align: right;\">-0.067011 </td><td style=\"text-align: right;\">0.104726</td><td style=\"text-align: right;\"> 0.0609187</td><td style=\"text-align: right;\"> 0.160423 </td><td style=\"text-align: right;\">0.236405</td><td style=\"text-align: right;\"> 0.180013 </td><td style=\"text-align: right;\">-0.0223651</td><td style=\"text-align: right;\">-0.072517 </td><td style=\"text-align: right;\">0.00252662</td><td style=\"text-align: right;\">0.0814018</td><td style=\"text-align: right;\">-0.0179177</td><td style=\"text-align: right;\">-0.075991 </td><td style=\"text-align: right;\">0.14799 </td><td style=\"text-align: right;\">-0.0391576</td><td style=\"text-align: right;\">-0.0786622</td><td style=\"text-align: right;\">-0.0560698</td><td style=\"text-align: right;\"> 0.00473555 </td><td style=\"text-align: right;\"> 0.0590133</td><td style=\"text-align: right;\">-0.139362  </td><td style=\"text-align: right;\">0.13548  </td><td style=\"text-align: right;\">-0.118203  </td><td style=\"text-align: right;\">-0.0482412</td><td style=\"text-align: right;\">-0.112342 </td><td style=\"text-align: right;\">0.123092</td><td style=\"text-align: right;\"> 0.0386636 </td><td style=\"text-align: right;\">-0.0305218</td><td style=\"text-align: right;\">-0.0394496</td><td style=\"text-align: right;\">-0.0379041</td><td style=\"text-align: right;\">-0.0379979</td><td style=\"text-align: right;\">-0.0743732</td><td style=\"text-align: right;\">-0.0785754</td><td style=\"text-align: right;\">-0.0348918</td><td style=\"text-align: right;\">0.0525545</td><td style=\"text-align: right;\">-0.0349363</td><td style=\"text-align: right;\"> 0.0826198 </td><td style=\"text-align: right;\">-0.070651</td><td style=\"text-align: right;\">-0.0393718</td><td style=\"text-align: right;\">-0.0819873</td><td style=\"text-align: right;\">0.0595535</td><td style=\"text-align: right;\"> 0.01269   </td><td style=\"text-align: right;\">0.179319</td><td style=\"text-align: right;\">0.0764434</td><td style=\"text-align: right;\">0.0274205 </td><td style=\"text-align: right;\">-0.303293</td><td style=\"text-align: right;\">-0.0718099</td><td style=\"text-align: right;\"> 0.15155   </td><td style=\"text-align: right;\">-0.057007</td><td style=\"text-align: right;\">-0.0916376</td><td style=\"text-align: right;\"> 0.0596572</td><td style=\"text-align: right;\">-0.0152745</td><td style=\"text-align: right;\">0.150984 </td></tr>\n",
       "<tr><td>B001PMCDK2 </td><td>A14TTMM0Z03Y2W</td><td>my cat goes crazy for these!</td><td style=\"text-align: right;\">      5</td><td style=\"text-align: right;\">                       0</td><td style=\"text-align: right;\">389965</td><td>Lindsay S. Bradford</td><td style=\"text-align: right;\">                     0</td><td style=\"text-align: right;\">1.3106e+09 </td><td>Best cat treat ever. There isn't anything comparable to the love my cat has for these treats, he snubs away any other kind now.<br />I know he likes to manipulate me with his cattiness but these treats are my way of manipulating him to come sit on my lap and have some chill time. :)                                                                                     </td><td style=\"text-align: right;\">               1</td><td>Yes    </td><td style=\"text-align: right;\">0.060313 </td><td style=\"text-align: right;\">-0.115611 </td><td style=\"text-align: right;\"> 0.00167719</td><td style=\"text-align: right;\">0.0844067 </td><td style=\"text-align: right;\">-0.0542967</td><td style=\"text-align: right;\">-0.203262  </td><td style=\"text-align: right;\">-0.0646622</td><td style=\"text-align: right;\">-0.0935464</td><td style=\"text-align: right;\">0.109586</td><td style=\"text-align: right;\">-0.0539923</td><td style=\"text-align: right;\">-0.0291927</td><td style=\"text-align: right;\"> 0.0254051 </td><td style=\"text-align: right;\">-0.0876865</td><td style=\"text-align: right;\">0.0741222</td><td style=\"text-align: right;\">0.105812 </td><td style=\"text-align: right;\"> 0.00299753</td><td style=\"text-align: right;\">-0.0270305</td><td style=\"text-align: right;\"> 0.0782517</td><td style=\"text-align: right;\"> 0.0945997 </td><td style=\"text-align: right;\">0.0501357</td><td style=\"text-align: right;\"> 0.0352763</td><td style=\"text-align: right;\">-0.0627455</td><td style=\"text-align: right;\"> 0.0791841</td><td style=\"text-align: right;\">-0.00687353</td><td style=\"text-align: right;\">0.0473105</td><td style=\"text-align: right;\"> 0.000328656</td><td style=\"text-align: right;\">-0.0626824</td><td style=\"text-align: right;\">0.0251238</td><td style=\"text-align: right;\">0.0767176</td><td style=\"text-align: right;\"> 0.121644 </td><td style=\"text-align: right;\">0.18164 </td><td style=\"text-align: right;\">0.279703</td><td style=\"text-align: right;\">0.174516</td><td style=\"text-align: right;\">-0.121252</td><td style=\"text-align: right;\">-0.0251613</td><td style=\"text-align: right;\">-0.0153807</td><td style=\"text-align: right;\"> 0.0769472</td><td style=\"text-align: right;\"> 0.064934 </td><td style=\"text-align: right;\">-0.0263007</td><td style=\"text-align: right;\"> 0.105055 </td><td style=\"text-align: right;\">-0.0434598</td><td style=\"text-align: right;\">-0.278027</td><td style=\"text-align: right;\">0.106152 </td><td style=\"text-align: right;\">-0.0775082</td><td style=\"text-align: right;\">-0.0541208</td><td style=\"text-align: right;\">-0.077881 </td><td style=\"text-align: right;\">-0.170916</td><td style=\"text-align: right;\">-0.0572134</td><td style=\"text-align: right;\"> 0.0199556</td><td style=\"text-align: right;\">-0.0874221</td><td style=\"text-align: right;\">0.138198</td><td style=\"text-align: right;\">-0.0663306</td><td style=\"text-align: right;\"> 0.0675663</td><td style=\"text-align: right;\">0.157848</td><td style=\"text-align: right;\"> 0.0884277</td><td style=\"text-align: right;\">-0.0433774</td><td style=\"text-align: right;\">-0.0636752</td><td style=\"text-align: right;\">0.0199444 </td><td style=\"text-align: right;\">0.0244142</td><td style=\"text-align: right;\">-0.0259011</td><td style=\"text-align: right;\">-0.0938728</td><td style=\"text-align: right;\">0.201822</td><td style=\"text-align: right;\"> 0.153278 </td><td style=\"text-align: right;\">-0.278858 </td><td style=\"text-align: right;\">-0.0213931</td><td style=\"text-align: right;\">-0.000171979</td><td style=\"text-align: right;\">-0.0663742</td><td style=\"text-align: right;\">-0.100037  </td><td style=\"text-align: right;\">0.110744 </td><td style=\"text-align: right;\"> 0.00411301</td><td style=\"text-align: right;\"> 0.0825984</td><td style=\"text-align: right;\">-0.158723 </td><td style=\"text-align: right;\">0.183622</td><td style=\"text-align: right;\">-0.00994533</td><td style=\"text-align: right;\">-0.127098 </td><td style=\"text-align: right;\"> 0.0841783</td><td style=\"text-align: right;\"> 0.0609244</td><td style=\"text-align: right;\"> 0.0474106</td><td style=\"text-align: right;\">-0.0110054</td><td style=\"text-align: right;\">-0.0187034</td><td style=\"text-align: right;\"> 0.046951 </td><td style=\"text-align: right;\">0.0831642</td><td style=\"text-align: right;\"> 0.0828919</td><td style=\"text-align: right;\">-0.047945  </td><td style=\"text-align: right;\">-0.158531</td><td style=\"text-align: right;\">-0.0326801</td><td style=\"text-align: right;\">-0.0732946</td><td style=\"text-align: right;\">0.141952 </td><td style=\"text-align: right;\">-0.106875  </td><td style=\"text-align: right;\">0.114859</td><td style=\"text-align: right;\">0.0916932</td><td style=\"text-align: right;\">0.00653966</td><td style=\"text-align: right;\">-0.21404 </td><td style=\"text-align: right;\"> 0.0681284</td><td style=\"text-align: right;\"> 0.00501457</td><td style=\"text-align: right;\">-0.119693</td><td style=\"text-align: right;\">-0.0617665</td><td style=\"text-align: right;\">-0.138928 </td><td style=\"text-align: right;\">-0.0194709</td><td style=\"text-align: right;\">0.109409 </td></tr>\n",
       "</tbody>\n",
       "</table>"
      ]
     },
     "metadata": {},
     "output_type": "display_data"
    },
    {
     "data": {
      "text/plain": []
     },
     "execution_count": 22,
     "metadata": {},
     "output_type": "execute_result"
    }
   ],
   "source": [
    "ext_reviews.head(3)"
   ]
  },
  {
   "cell_type": "code",
   "execution_count": 23,
   "metadata": {},
   "outputs": [],
   "source": [
    "# Break summaries into sequence of word.\n",
    "summary_words = tokenize(reviews['Summary'].ascharacter())"
   ]
  },
  {
   "cell_type": "code",
   "execution_count": 24,
   "metadata": {},
   "outputs": [],
   "source": [
    "summary_vecs = w2v_model.transform(summary_words, aggregate_method='AVERAGE')\n",
    "summary_vecs.names = ['summary_'+ s for s in summary_vecs.names]\n",
    "\n",
    "ext_reviews_new = ext_reviews.cbind(summary_vecs)"
   ]
  },
  {
   "cell_type": "code",
   "execution_count": 25,
   "metadata": {},
   "outputs": [
    {
     "data": {
      "text/html": [
       "<table>\n",
       "<thead>\n",
       "<tr><th>ProductId  </th><th>UserId        </th><th>Summary                     </th><th style=\"text-align: right;\">  Score</th><th style=\"text-align: right;\">  HelpfulnessDenominator</th><th style=\"text-align: right;\">    Id</th><th>ProfileName        </th><th style=\"text-align: right;\">  HelpfulnessNumerator</th><th style=\"text-align: right;\">       Time</th><th>Text                                                                                                                                                                                                                                                                                                                                                                            </th><th style=\"text-align: right;\">  PositiveReview</th><th>Train  </th><th style=\"text-align: right;\">       C1</th><th style=\"text-align: right;\">        C2</th><th style=\"text-align: right;\">         C3</th><th style=\"text-align: right;\">        C4</th><th style=\"text-align: right;\">        C5</th><th style=\"text-align: right;\">         C6</th><th style=\"text-align: right;\">        C7</th><th style=\"text-align: right;\">        C8</th><th style=\"text-align: right;\">      C9</th><th style=\"text-align: right;\">       C10</th><th style=\"text-align: right;\">       C11</th><th style=\"text-align: right;\">        C12</th><th style=\"text-align: right;\">       C13</th><th style=\"text-align: right;\">      C14</th><th style=\"text-align: right;\">      C15</th><th style=\"text-align: right;\">        C16</th><th style=\"text-align: right;\">       C17</th><th style=\"text-align: right;\">       C18</th><th style=\"text-align: right;\">        C19</th><th style=\"text-align: right;\">      C20</th><th style=\"text-align: right;\">       C21</th><th style=\"text-align: right;\">       C22</th><th style=\"text-align: right;\">       C23</th><th style=\"text-align: right;\">        C24</th><th style=\"text-align: right;\">      C25</th><th style=\"text-align: right;\">         C26</th><th style=\"text-align: right;\">       C27</th><th style=\"text-align: right;\">      C28</th><th style=\"text-align: right;\">      C29</th><th style=\"text-align: right;\">       C30</th><th style=\"text-align: right;\">     C31</th><th style=\"text-align: right;\">     C32</th><th style=\"text-align: right;\">     C33</th><th style=\"text-align: right;\">      C34</th><th style=\"text-align: right;\">       C35</th><th style=\"text-align: right;\">       C36</th><th style=\"text-align: right;\">       C37</th><th style=\"text-align: right;\">       C38</th><th style=\"text-align: right;\">       C39</th><th style=\"text-align: right;\">       C40</th><th style=\"text-align: right;\">       C41</th><th style=\"text-align: right;\">      C42</th><th style=\"text-align: right;\">      C43</th><th style=\"text-align: right;\">       C44</th><th style=\"text-align: right;\">       C45</th><th style=\"text-align: right;\">       C46</th><th style=\"text-align: right;\">      C47</th><th style=\"text-align: right;\">       C48</th><th style=\"text-align: right;\">       C49</th><th style=\"text-align: right;\">       C50</th><th style=\"text-align: right;\">     C51</th><th style=\"text-align: right;\">       C52</th><th style=\"text-align: right;\">       C53</th><th style=\"text-align: right;\">     C54</th><th style=\"text-align: right;\">       C55</th><th style=\"text-align: right;\">       C56</th><th style=\"text-align: right;\">       C57</th><th style=\"text-align: right;\">       C58</th><th style=\"text-align: right;\">      C59</th><th style=\"text-align: right;\">       C60</th><th style=\"text-align: right;\">       C61</th><th style=\"text-align: right;\">     C62</th><th style=\"text-align: right;\">       C63</th><th style=\"text-align: right;\">       C64</th><th style=\"text-align: right;\">       C65</th><th style=\"text-align: right;\">         C66</th><th style=\"text-align: right;\">       C67</th><th style=\"text-align: right;\">        C68</th><th style=\"text-align: right;\">      C69</th><th style=\"text-align: right;\">        C70</th><th style=\"text-align: right;\">       C71</th><th style=\"text-align: right;\">       C72</th><th style=\"text-align: right;\">     C73</th><th style=\"text-align: right;\">        C74</th><th style=\"text-align: right;\">       C75</th><th style=\"text-align: right;\">       C76</th><th style=\"text-align: right;\">       C77</th><th style=\"text-align: right;\">       C78</th><th style=\"text-align: right;\">       C79</th><th style=\"text-align: right;\">       C80</th><th style=\"text-align: right;\">       C81</th><th style=\"text-align: right;\">      C82</th><th style=\"text-align: right;\">       C83</th><th style=\"text-align: right;\">        C84</th><th style=\"text-align: right;\">      C85</th><th style=\"text-align: right;\">       C86</th><th style=\"text-align: right;\">       C87</th><th style=\"text-align: right;\">      C88</th><th style=\"text-align: right;\">        C89</th><th style=\"text-align: right;\">     C90</th><th style=\"text-align: right;\">      C91</th><th style=\"text-align: right;\">       C92</th><th style=\"text-align: right;\">      C93</th><th style=\"text-align: right;\">       C94</th><th style=\"text-align: right;\">        C95</th><th style=\"text-align: right;\">      C96</th><th style=\"text-align: right;\">       C97</th><th style=\"text-align: right;\">       C98</th><th style=\"text-align: right;\">       C99</th><th style=\"text-align: right;\">     C100</th><th style=\"text-align: right;\">  summary_C1</th><th style=\"text-align: right;\">  summary_C2</th><th style=\"text-align: right;\">  summary_C3</th><th style=\"text-align: right;\">  summary_C4</th><th style=\"text-align: right;\">  summary_C5</th><th style=\"text-align: right;\">  summary_C6</th><th style=\"text-align: right;\">  summary_C7</th><th style=\"text-align: right;\">  summary_C8</th><th style=\"text-align: right;\">  summary_C9</th><th style=\"text-align: right;\">  summary_C10</th><th style=\"text-align: right;\">  summary_C11</th><th style=\"text-align: right;\">  summary_C12</th><th style=\"text-align: right;\">  summary_C13</th><th style=\"text-align: right;\">  summary_C14</th><th style=\"text-align: right;\">  summary_C15</th><th style=\"text-align: right;\">  summary_C16</th><th style=\"text-align: right;\">  summary_C17</th><th style=\"text-align: right;\">  summary_C18</th><th style=\"text-align: right;\">  summary_C19</th><th style=\"text-align: right;\">  summary_C20</th><th style=\"text-align: right;\">  summary_C21</th><th style=\"text-align: right;\">  summary_C22</th><th style=\"text-align: right;\">  summary_C23</th><th style=\"text-align: right;\">  summary_C24</th><th style=\"text-align: right;\">  summary_C25</th><th style=\"text-align: right;\">  summary_C26</th><th style=\"text-align: right;\">  summary_C27</th><th style=\"text-align: right;\">  summary_C28</th><th style=\"text-align: right;\">  summary_C29</th><th style=\"text-align: right;\">  summary_C30</th><th style=\"text-align: right;\">  summary_C31</th><th style=\"text-align: right;\">  summary_C32</th><th style=\"text-align: right;\">  summary_C33</th><th style=\"text-align: right;\">  summary_C34</th><th style=\"text-align: right;\">  summary_C35</th><th style=\"text-align: right;\">  summary_C36</th><th style=\"text-align: right;\">  summary_C37</th><th style=\"text-align: right;\">  summary_C38</th><th style=\"text-align: right;\">  summary_C39</th><th style=\"text-align: right;\">  summary_C40</th><th style=\"text-align: right;\">  summary_C41</th><th style=\"text-align: right;\">  summary_C42</th><th style=\"text-align: right;\">  summary_C43</th><th style=\"text-align: right;\">  summary_C44</th><th style=\"text-align: right;\">  summary_C45</th><th style=\"text-align: right;\">  summary_C46</th><th style=\"text-align: right;\">  summary_C47</th><th style=\"text-align: right;\">  summary_C48</th><th style=\"text-align: right;\">  summary_C49</th><th style=\"text-align: right;\">  summary_C50</th><th style=\"text-align: right;\">  summary_C51</th><th style=\"text-align: right;\">  summary_C52</th><th style=\"text-align: right;\">  summary_C53</th><th style=\"text-align: right;\">  summary_C54</th><th style=\"text-align: right;\">  summary_C55</th><th style=\"text-align: right;\">  summary_C56</th><th style=\"text-align: right;\">  summary_C57</th><th style=\"text-align: right;\">  summary_C58</th><th style=\"text-align: right;\">  summary_C59</th><th style=\"text-align: right;\">  summary_C60</th><th style=\"text-align: right;\">  summary_C61</th><th style=\"text-align: right;\">  summary_C62</th><th style=\"text-align: right;\">  summary_C63</th><th style=\"text-align: right;\">  summary_C64</th><th style=\"text-align: right;\">  summary_C65</th><th style=\"text-align: right;\">  summary_C66</th><th style=\"text-align: right;\">  summary_C67</th><th style=\"text-align: right;\">  summary_C68</th><th style=\"text-align: right;\">  summary_C69</th><th style=\"text-align: right;\">  summary_C70</th><th style=\"text-align: right;\">  summary_C71</th><th style=\"text-align: right;\">  summary_C72</th><th style=\"text-align: right;\">  summary_C73</th><th style=\"text-align: right;\">  summary_C74</th><th style=\"text-align: right;\">  summary_C75</th><th style=\"text-align: right;\">  summary_C76</th><th style=\"text-align: right;\">  summary_C77</th><th style=\"text-align: right;\">  summary_C78</th><th style=\"text-align: right;\">  summary_C79</th><th style=\"text-align: right;\">  summary_C80</th><th style=\"text-align: right;\">  summary_C81</th><th style=\"text-align: right;\">  summary_C82</th><th style=\"text-align: right;\">  summary_C83</th><th style=\"text-align: right;\">  summary_C84</th><th style=\"text-align: right;\">  summary_C85</th><th style=\"text-align: right;\">  summary_C86</th><th style=\"text-align: right;\">  summary_C87</th><th style=\"text-align: right;\">  summary_C88</th></tr>\n",
       "</thead>\n",
       "<tbody>\n",
       "<tr><td>B00141QYSQ </td><td>A1YS02UZZGRDCT</td><td>Do Not Buy                  </td><td style=\"text-align: right;\">      1</td><td style=\"text-align: right;\">                       2</td><td style=\"text-align: right;\"> 41471</td><td>Evan Eberhardt     </td><td style=\"text-align: right;\">                     2</td><td style=\"text-align: right;\">1.34836e+09</td><td>These are made in China (do not buy ANY pet food from China).  Dogswell has been using propylene glycol to soften their treats (what are they thinkng?).  Do not purchase or support this company in any way until they clean up their act.  And for whatever reason Amazon doesn't allow returns of this item, so I had to toss mine out.  Bad business all around on this one.</td><td style=\"text-align: right;\">               0</td><td>No     </td><td style=\"text-align: right;\">0.12917  </td><td style=\"text-align: right;\"> 0.0299455</td><td style=\"text-align: right;\">-0.0490899 </td><td style=\"text-align: right;\">0.00893291</td><td style=\"text-align: right;\"> 0.0190802</td><td style=\"text-align: right;\">-0.00610951</td><td style=\"text-align: right;\"> 0.0120351</td><td style=\"text-align: right;\">-0.334961 </td><td style=\"text-align: right;\">0.161847</td><td style=\"text-align: right;\">-0.0663551</td><td style=\"text-align: right;\">-0.109759 </td><td style=\"text-align: right;\">-0.00641763</td><td style=\"text-align: right;\"> 0.0887674</td><td style=\"text-align: right;\">0.191471 </td><td style=\"text-align: right;\">0.0549513</td><td style=\"text-align: right;\">-0.144631  </td><td style=\"text-align: right;\">-0.0474062</td><td style=\"text-align: right;\"> 0.0995626</td><td style=\"text-align: right;\"> 0.0134732 </td><td style=\"text-align: right;\">0.0396906</td><td style=\"text-align: right;\">-0.0368953</td><td style=\"text-align: right;\">-0.19288  </td><td style=\"text-align: right;\"> 0.0790057</td><td style=\"text-align: right;\">-0.00657185</td><td style=\"text-align: right;\">0.0905049</td><td style=\"text-align: right;\"> 0.117006   </td><td style=\"text-align: right;\"> 0.0382062</td><td style=\"text-align: right;\">0.0893816</td><td style=\"text-align: right;\">0.102397 </td><td style=\"text-align: right;\"> 0.0572057</td><td style=\"text-align: right;\">0.233991</td><td style=\"text-align: right;\">0.158946</td><td style=\"text-align: right;\">0.196584</td><td style=\"text-align: right;\">-0.160502</td><td style=\"text-align: right;\"> 0.0690184</td><td style=\"text-align: right;\">-0.0863937</td><td style=\"text-align: right;\"> 0.0405308</td><td style=\"text-align: right;\"> 0.13917  </td><td style=\"text-align: right;\">-0.0265374</td><td style=\"text-align: right;\">-0.0218064</td><td style=\"text-align: right;\"> 0.0099681</td><td style=\"text-align: right;\">-0.156008</td><td style=\"text-align: right;\">0.0308868</td><td style=\"text-align: right;\">-0.137468 </td><td style=\"text-align: right;\"> 0.0246485</td><td style=\"text-align: right;\">-0.0364001</td><td style=\"text-align: right;\">-0.107721</td><td style=\"text-align: right;\">-0.1641   </td><td style=\"text-align: right;\"> 0.0630564</td><td style=\"text-align: right;\">-0.224799 </td><td style=\"text-align: right;\">0.102297</td><td style=\"text-align: right;\"> 0.0340673</td><td style=\"text-align: right;\">-0.129526 </td><td style=\"text-align: right;\">0.131943</td><td style=\"text-align: right;\">-0.0279314</td><td style=\"text-align: right;\"> 0.0284462</td><td style=\"text-align: right;\">-0.111921 </td><td style=\"text-align: right;\">0.158484  </td><td style=\"text-align: right;\">0.0485629</td><td style=\"text-align: right;\">-0.0517763</td><td style=\"text-align: right;\">-0.0669737</td><td style=\"text-align: right;\">0.204902</td><td style=\"text-align: right;\"> 0.070655 </td><td style=\"text-align: right;\">-0.106908 </td><td style=\"text-align: right;\">-0.0713758</td><td style=\"text-align: right;\">-0.0182628  </td><td style=\"text-align: right;\"> 0.0699829</td><td style=\"text-align: right;\">-0.00538563</td><td style=\"text-align: right;\">0.0394679</td><td style=\"text-align: right;\"> 0.0502924 </td><td style=\"text-align: right;\"> 0.0668489</td><td style=\"text-align: right;\">-0.0501116</td><td style=\"text-align: right;\">0.313984</td><td style=\"text-align: right;\"> 0.0276574 </td><td style=\"text-align: right;\">-0.118442 </td><td style=\"text-align: right;\">-0.0181206</td><td style=\"text-align: right;\"> 0.0535085</td><td style=\"text-align: right;\"> 0.070737 </td><td style=\"text-align: right;\">-0.0708572</td><td style=\"text-align: right;\">-0.0453052</td><td style=\"text-align: right;\"> 0.0181514</td><td style=\"text-align: right;\">0.160654 </td><td style=\"text-align: right;\"> 0.0700613</td><td style=\"text-align: right;\">-0.00154031</td><td style=\"text-align: right;\">-0.102484</td><td style=\"text-align: right;\">-0.0431368</td><td style=\"text-align: right;\">-0.0862916</td><td style=\"text-align: right;\">0.109466 </td><td style=\"text-align: right;\">-0.00336389</td><td style=\"text-align: right;\">0.113831</td><td style=\"text-align: right;\">0.0402905</td><td style=\"text-align: right;\">0.0238592 </td><td style=\"text-align: right;\">-0.185985</td><td style=\"text-align: right;\"> 0.0926318</td><td style=\"text-align: right;\">-0.0311738 </td><td style=\"text-align: right;\">-0.137986</td><td style=\"text-align: right;\">-0.0343636</td><td style=\"text-align: right;\">-0.196328 </td><td style=\"text-align: right;\"> 0.119503 </td><td style=\"text-align: right;\">0.0379679</td><td style=\"text-align: right;\">  -0.0850244</td><td style=\"text-align: right;\">   0.0553057</td><td style=\"text-align: right;\"> -0.00158559</td><td style=\"text-align: right;\">   0.063723 </td><td style=\"text-align: right;\">  -0.133546 </td><td style=\"text-align: right;\">   -0.175626</td><td style=\"text-align: right;\">   0.161326 </td><td style=\"text-align: right;\">  -0.0967465</td><td style=\"text-align: right;\">    0.468559</td><td style=\"text-align: right;\">   -0.218463 </td><td style=\"text-align: right;\">    -0.378517</td><td style=\"text-align: right;\">    0.0666172</td><td style=\"text-align: right;\">    0.249015 </td><td style=\"text-align: right;\">   0.0887967 </td><td style=\"text-align: right;\">     0.10051 </td><td style=\"text-align: right;\">    -0.279991</td><td style=\"text-align: right;\">    0.298551 </td><td style=\"text-align: right;\">   -0.0128812</td><td style=\"text-align: right;\">    0.167878 </td><td style=\"text-align: right;\">  -0.030772  </td><td style=\"text-align: right;\">     0.170752</td><td style=\"text-align: right;\">   -0.186787 </td><td style=\"text-align: right;\">     0.044023</td><td style=\"text-align: right;\">    0.120993 </td><td style=\"text-align: right;\">    0.0298747</td><td style=\"text-align: right;\">   -0.0457761</td><td style=\"text-align: right;\">  -0.00310036</td><td style=\"text-align: right;\">   -0.0726606</td><td style=\"text-align: right;\">    0.162031 </td><td style=\"text-align: right;\">    -0.035588</td><td style=\"text-align: right;\">    0.0837039</td><td style=\"text-align: right;\">     0.156766</td><td style=\"text-align: right;\">    0.0789666</td><td style=\"text-align: right;\">  -0.00660802</td><td style=\"text-align: right;\">    0.127046 </td><td style=\"text-align: right;\">  -0.190599  </td><td style=\"text-align: right;\">    0.0970704</td><td style=\"text-align: right;\">    0.137221 </td><td style=\"text-align: right;\">   -0.105718 </td><td style=\"text-align: right;\">     0.107363</td><td style=\"text-align: right;\">    0.0418045</td><td style=\"text-align: right;\">   -0.271857 </td><td style=\"text-align: right;\">     0.110638</td><td style=\"text-align: right;\"> -0.072426   </td><td style=\"text-align: right;\">    0.0436282</td><td style=\"text-align: right;\">   -0.0258275</td><td style=\"text-align: right;\">    -0.281228</td><td style=\"text-align: right;\">     0.235959</td><td style=\"text-align: right;\">    0.075495 </td><td style=\"text-align: right;\">    -0.204442</td><td style=\"text-align: right;\">    0.0779554</td><td style=\"text-align: right;\">    0.0333634</td><td style=\"text-align: right;\">   -0.156122 </td><td style=\"text-align: right;\">    0.0944928</td><td style=\"text-align: right;\">    -0.174269</td><td style=\"text-align: right;\">    0.0734238</td><td style=\"text-align: right;\">   -0.0465348</td><td style=\"text-align: right;\">    0.189584 </td><td style=\"text-align: right;\">  -0.00319107</td><td style=\"text-align: right;\">    -0.105361</td><td style=\"text-align: right;\">   0.201907  </td><td style=\"text-align: right;\">     0.110281</td><td style=\"text-align: right;\">   0.151295  </td><td style=\"text-align: right;\">   -0.191801 </td><td style=\"text-align: right;\">   -0.190152 </td><td style=\"text-align: right;\">    0.0382816</td><td style=\"text-align: right;\">    0.0860977</td><td style=\"text-align: right;\">     0.248459</td><td style=\"text-align: right;\">  -0.00318289</td><td style=\"text-align: right;\">   -0.100631 </td><td style=\"text-align: right;\">   -0.0587916</td><td style=\"text-align: right;\">   -0.183613 </td><td style=\"text-align: right;\">    0.399387 </td><td style=\"text-align: right;\">    0.145911 </td><td style=\"text-align: right;\">   -0.224106 </td><td style=\"text-align: right;\">  -0.110312  </td><td style=\"text-align: right;\">    0.228763 </td><td style=\"text-align: right;\">  0.0340951  </td><td style=\"text-align: right;\">   0.00958472</td><td style=\"text-align: right;\">    0.479287 </td><td style=\"text-align: right;\">    0.363762 </td><td style=\"text-align: right;\">   0.208209  </td><td style=\"text-align: right;\">  -0.00836943</td><td style=\"text-align: right;\">    -0.11831 </td><td style=\"text-align: right;\">   -0.0410315</td><td style=\"text-align: right;\">    0.38917  </td><td style=\"text-align: right;\">   -0.124132 </td><td style=\"text-align: right;\">    0.0107559</td></tr>\n",
       "<tr><td>B0089SPEO2 </td><td>A3JOYNYL458QHP</td><td>Less lemon and less zing    </td><td style=\"text-align: right;\">      3</td><td style=\"text-align: right;\">                       0</td><td style=\"text-align: right;\"> 28582</td><td>coleridge          </td><td style=\"text-align: right;\">                     0</td><td style=\"text-align: right;\">1.32391e+09</td><td>Everything is ok, except it just isn't as good as it is in the bags.  Just considerably more bland -- less lemon and less zing.  Boring.                                                                                                                                                                                                                                        </td><td style=\"text-align: right;\">               0</td><td>Yes    </td><td style=\"text-align: right;\">0.0185988</td><td style=\"text-align: right;\"> 0.205654 </td><td style=\"text-align: right;\">-0.213451  </td><td style=\"text-align: right;\">0.0881322 </td><td style=\"text-align: right;\">-0.026778 </td><td style=\"text-align: right;\">-0.114138  </td><td style=\"text-align: right;\">-0.0710233</td><td style=\"text-align: right;\"> 0.0257435</td><td style=\"text-align: right;\">0.289505</td><td style=\"text-align: right;\">-0.0558199</td><td style=\"text-align: right;\">-0.119363 </td><td style=\"text-align: right;\"> 0.188334  </td><td style=\"text-align: right;\"> 0.0314669</td><td style=\"text-align: right;\">0.122508 </td><td style=\"text-align: right;\">0.17663  </td><td style=\"text-align: right;\">-0.106895  </td><td style=\"text-align: right;\"> 0.163716 </td><td style=\"text-align: right;\">-0.0379743</td><td style=\"text-align: right;\">-0.00431046</td><td style=\"text-align: right;\">0.0274768</td><td style=\"text-align: right;\"> 0.0210197</td><td style=\"text-align: right;\">-0.0468156</td><td style=\"text-align: right;\">-0.159791 </td><td style=\"text-align: right;\">-0.114791  </td><td style=\"text-align: right;\">0.0235751</td><td style=\"text-align: right;\">-0.101575   </td><td style=\"text-align: right;\"> 0.061798 </td><td style=\"text-align: right;\">0.0335133</td><td style=\"text-align: right;\">0.0386808</td><td style=\"text-align: right;\">-0.0310535</td><td style=\"text-align: right;\">0.121843</td><td style=\"text-align: right;\">0.23477 </td><td style=\"text-align: right;\">0.127345</td><td style=\"text-align: right;\">-0.1751  </td><td style=\"text-align: right;\"> 0.0518926</td><td style=\"text-align: right;\">-0.0726755</td><td style=\"text-align: right;\">-0.113054 </td><td style=\"text-align: right;\">-0.0923534</td><td style=\"text-align: right;\">-0.0329874</td><td style=\"text-align: right;\"> 0.0299116</td><td style=\"text-align: right;\"> 0.107482 </td><td style=\"text-align: right;\">-0.162709</td><td style=\"text-align: right;\">0.186311 </td><td style=\"text-align: right;\">-0.116504 </td><td style=\"text-align: right;\">-0.0116403</td><td style=\"text-align: right;\">-0.0361627</td><td style=\"text-align: right;\">-0.234973</td><td style=\"text-align: right;\"> 0.0251932</td><td style=\"text-align: right;\">-0.0441221</td><td style=\"text-align: right;\">-0.067011 </td><td style=\"text-align: right;\">0.104726</td><td style=\"text-align: right;\"> 0.0609187</td><td style=\"text-align: right;\"> 0.160423 </td><td style=\"text-align: right;\">0.236405</td><td style=\"text-align: right;\"> 0.180013 </td><td style=\"text-align: right;\">-0.0223651</td><td style=\"text-align: right;\">-0.072517 </td><td style=\"text-align: right;\">0.00252662</td><td style=\"text-align: right;\">0.0814018</td><td style=\"text-align: right;\">-0.0179177</td><td style=\"text-align: right;\">-0.075991 </td><td style=\"text-align: right;\">0.14799 </td><td style=\"text-align: right;\">-0.0391576</td><td style=\"text-align: right;\">-0.0786622</td><td style=\"text-align: right;\">-0.0560698</td><td style=\"text-align: right;\"> 0.00473555 </td><td style=\"text-align: right;\"> 0.0590133</td><td style=\"text-align: right;\">-0.139362  </td><td style=\"text-align: right;\">0.13548  </td><td style=\"text-align: right;\">-0.118203  </td><td style=\"text-align: right;\">-0.0482412</td><td style=\"text-align: right;\">-0.112342 </td><td style=\"text-align: right;\">0.123092</td><td style=\"text-align: right;\"> 0.0386636 </td><td style=\"text-align: right;\">-0.0305218</td><td style=\"text-align: right;\">-0.0394496</td><td style=\"text-align: right;\">-0.0379041</td><td style=\"text-align: right;\">-0.0379979</td><td style=\"text-align: right;\">-0.0743732</td><td style=\"text-align: right;\">-0.0785754</td><td style=\"text-align: right;\">-0.0348918</td><td style=\"text-align: right;\">0.0525545</td><td style=\"text-align: right;\">-0.0349363</td><td style=\"text-align: right;\"> 0.0826198 </td><td style=\"text-align: right;\">-0.070651</td><td style=\"text-align: right;\">-0.0393718</td><td style=\"text-align: right;\">-0.0819873</td><td style=\"text-align: right;\">0.0595535</td><td style=\"text-align: right;\"> 0.01269   </td><td style=\"text-align: right;\">0.179319</td><td style=\"text-align: right;\">0.0764434</td><td style=\"text-align: right;\">0.0274205 </td><td style=\"text-align: right;\">-0.303293</td><td style=\"text-align: right;\">-0.0718099</td><td style=\"text-align: right;\"> 0.15155   </td><td style=\"text-align: right;\">-0.057007</td><td style=\"text-align: right;\">-0.0916376</td><td style=\"text-align: right;\"> 0.0596572</td><td style=\"text-align: right;\">-0.0152745</td><td style=\"text-align: right;\">0.150984 </td><td style=\"text-align: right;\">  -0.0208234</td><td style=\"text-align: right;\">   0.32875  </td><td style=\"text-align: right;\"> -0.154925  </td><td style=\"text-align: right;\">  -0.0401503</td><td style=\"text-align: right;\">  -0.0274023</td><td style=\"text-align: right;\">   -0.205935</td><td style=\"text-align: right;\">  -0.104212 </td><td style=\"text-align: right;\">   0.0207478</td><td style=\"text-align: right;\">    0.278656</td><td style=\"text-align: right;\">   -0.0567093</td><td style=\"text-align: right;\">    -0.174929</td><td style=\"text-align: right;\">    0.307213 </td><td style=\"text-align: right;\">    0.0165747</td><td style=\"text-align: right;\">   0.0542183 </td><td style=\"text-align: right;\">     0.201139</td><td style=\"text-align: right;\">    -0.130175</td><td style=\"text-align: right;\">    0.19831  </td><td style=\"text-align: right;\">   -0.157133 </td><td style=\"text-align: right;\">   -0.0711965</td><td style=\"text-align: right;\">   0.00878884</td><td style=\"text-align: right;\">    -0.103759</td><td style=\"text-align: right;\">    0.0475322</td><td style=\"text-align: right;\">    -0.383535</td><td style=\"text-align: right;\">   -0.221004 </td><td style=\"text-align: right;\">    0.086128 </td><td style=\"text-align: right;\">   -0.11173  </td><td style=\"text-align: right;\">   0.0883079 </td><td style=\"text-align: right;\">    0.208504 </td><td style=\"text-align: right;\">    0.0344312</td><td style=\"text-align: right;\">     0.231597</td><td style=\"text-align: right;\">    0.0415902</td><td style=\"text-align: right;\">     0.290049</td><td style=\"text-align: right;\">    0.199051 </td><td style=\"text-align: right;\">  -0.126267  </td><td style=\"text-align: right;\">    0.230895 </td><td style=\"text-align: right;\">  -0.00613991</td><td style=\"text-align: right;\">   -0.215407 </td><td style=\"text-align: right;\">   -0.0749164</td><td style=\"text-align: right;\">    0.0368101</td><td style=\"text-align: right;\">     0.003145</td><td style=\"text-align: right;\">    0.121423 </td><td style=\"text-align: right;\">   -0.0991009</td><td style=\"text-align: right;\">     0.355481</td><td style=\"text-align: right;\"> -0.137169   </td><td style=\"text-align: right;\">   -0.129571 </td><td style=\"text-align: right;\">    0.0538759</td><td style=\"text-align: right;\">    -0.315941</td><td style=\"text-align: right;\">     0.157733</td><td style=\"text-align: right;\">   -0.0566741</td><td style=\"text-align: right;\">    -0.159229</td><td style=\"text-align: right;\">    0.0172466</td><td style=\"text-align: right;\">    0.128636 </td><td style=\"text-align: right;\">    0.114608 </td><td style=\"text-align: right;\">    0.260541 </td><td style=\"text-align: right;\">     0.32802 </td><td style=\"text-align: right;\">   -0.128625 </td><td style=\"text-align: right;\">   -0.115271 </td><td style=\"text-align: right;\">   -0.0684656</td><td style=\"text-align: right;\">   0.236772  </td><td style=\"text-align: right;\">     0.089038</td><td style=\"text-align: right;\">   0.00266114</td><td style=\"text-align: right;\">     0.226951</td><td style=\"text-align: right;\">  -0.00356034</td><td style=\"text-align: right;\">   -0.0807852</td><td style=\"text-align: right;\">   -0.0418349</td><td style=\"text-align: right;\">    0.0422802</td><td style=\"text-align: right;\">    0.20861  </td><td style=\"text-align: right;\">    -0.242231</td><td style=\"text-align: right;\">   0.0609217 </td><td style=\"text-align: right;\">   -0.0572496</td><td style=\"text-align: right;\">   -0.124812 </td><td style=\"text-align: right;\">   -0.0520749</td><td style=\"text-align: right;\">    0.0818538</td><td style=\"text-align: right;\">    0.0827914</td><td style=\"text-align: right;\">    0.0198158</td><td style=\"text-align: right;\">   0.00067167</td><td style=\"text-align: right;\">   -0.109832 </td><td style=\"text-align: right;\"> -0.13598    </td><td style=\"text-align: right;\">   0.00495978</td><td style=\"text-align: right;\">    0.0312835</td><td style=\"text-align: right;\">   -0.0407426</td><td style=\"text-align: right;\">  -0.00129912</td><td style=\"text-align: right;\">  -0.050689  </td><td style=\"text-align: right;\">     0.175017</td><td style=\"text-align: right;\">   -0.0842804</td><td style=\"text-align: right;\">   -0.0870135</td><td style=\"text-align: right;\">   -0.173271 </td><td style=\"text-align: right;\">   -0.0157332</td></tr>\n",
       "<tr><td>B001PMCDK2 </td><td>A14TTMM0Z03Y2W</td><td>my cat goes crazy for these!</td><td style=\"text-align: right;\">      5</td><td style=\"text-align: right;\">                       0</td><td style=\"text-align: right;\">389965</td><td>Lindsay S. Bradford</td><td style=\"text-align: right;\">                     0</td><td style=\"text-align: right;\">1.3106e+09 </td><td>Best cat treat ever. There isn't anything comparable to the love my cat has for these treats, he snubs away any other kind now.<br />I know he likes to manipulate me with his cattiness but these treats are my way of manipulating him to come sit on my lap and have some chill time. :)                                                                                     </td><td style=\"text-align: right;\">               1</td><td>Yes    </td><td style=\"text-align: right;\">0.060313 </td><td style=\"text-align: right;\">-0.115611 </td><td style=\"text-align: right;\"> 0.00167719</td><td style=\"text-align: right;\">0.0844067 </td><td style=\"text-align: right;\">-0.0542967</td><td style=\"text-align: right;\">-0.203262  </td><td style=\"text-align: right;\">-0.0646622</td><td style=\"text-align: right;\">-0.0935464</td><td style=\"text-align: right;\">0.109586</td><td style=\"text-align: right;\">-0.0539923</td><td style=\"text-align: right;\">-0.0291927</td><td style=\"text-align: right;\"> 0.0254051 </td><td style=\"text-align: right;\">-0.0876865</td><td style=\"text-align: right;\">0.0741222</td><td style=\"text-align: right;\">0.105812 </td><td style=\"text-align: right;\"> 0.00299753</td><td style=\"text-align: right;\">-0.0270305</td><td style=\"text-align: right;\"> 0.0782517</td><td style=\"text-align: right;\"> 0.0945997 </td><td style=\"text-align: right;\">0.0501357</td><td style=\"text-align: right;\"> 0.0352763</td><td style=\"text-align: right;\">-0.0627455</td><td style=\"text-align: right;\"> 0.0791841</td><td style=\"text-align: right;\">-0.00687353</td><td style=\"text-align: right;\">0.0473105</td><td style=\"text-align: right;\"> 0.000328656</td><td style=\"text-align: right;\">-0.0626824</td><td style=\"text-align: right;\">0.0251238</td><td style=\"text-align: right;\">0.0767176</td><td style=\"text-align: right;\"> 0.121644 </td><td style=\"text-align: right;\">0.18164 </td><td style=\"text-align: right;\">0.279703</td><td style=\"text-align: right;\">0.174516</td><td style=\"text-align: right;\">-0.121252</td><td style=\"text-align: right;\">-0.0251613</td><td style=\"text-align: right;\">-0.0153807</td><td style=\"text-align: right;\"> 0.0769472</td><td style=\"text-align: right;\"> 0.064934 </td><td style=\"text-align: right;\">-0.0263007</td><td style=\"text-align: right;\"> 0.105055 </td><td style=\"text-align: right;\">-0.0434598</td><td style=\"text-align: right;\">-0.278027</td><td style=\"text-align: right;\">0.106152 </td><td style=\"text-align: right;\">-0.0775082</td><td style=\"text-align: right;\">-0.0541208</td><td style=\"text-align: right;\">-0.077881 </td><td style=\"text-align: right;\">-0.170916</td><td style=\"text-align: right;\">-0.0572134</td><td style=\"text-align: right;\"> 0.0199556</td><td style=\"text-align: right;\">-0.0874221</td><td style=\"text-align: right;\">0.138198</td><td style=\"text-align: right;\">-0.0663306</td><td style=\"text-align: right;\"> 0.0675663</td><td style=\"text-align: right;\">0.157848</td><td style=\"text-align: right;\"> 0.0884277</td><td style=\"text-align: right;\">-0.0433774</td><td style=\"text-align: right;\">-0.0636752</td><td style=\"text-align: right;\">0.0199444 </td><td style=\"text-align: right;\">0.0244142</td><td style=\"text-align: right;\">-0.0259011</td><td style=\"text-align: right;\">-0.0938728</td><td style=\"text-align: right;\">0.201822</td><td style=\"text-align: right;\"> 0.153278 </td><td style=\"text-align: right;\">-0.278858 </td><td style=\"text-align: right;\">-0.0213931</td><td style=\"text-align: right;\">-0.000171979</td><td style=\"text-align: right;\">-0.0663742</td><td style=\"text-align: right;\">-0.100037  </td><td style=\"text-align: right;\">0.110744 </td><td style=\"text-align: right;\"> 0.00411301</td><td style=\"text-align: right;\"> 0.0825984</td><td style=\"text-align: right;\">-0.158723 </td><td style=\"text-align: right;\">0.183622</td><td style=\"text-align: right;\">-0.00994533</td><td style=\"text-align: right;\">-0.127098 </td><td style=\"text-align: right;\"> 0.0841783</td><td style=\"text-align: right;\"> 0.0609244</td><td style=\"text-align: right;\"> 0.0474106</td><td style=\"text-align: right;\">-0.0110054</td><td style=\"text-align: right;\">-0.0187034</td><td style=\"text-align: right;\"> 0.046951 </td><td style=\"text-align: right;\">0.0831642</td><td style=\"text-align: right;\"> 0.0828919</td><td style=\"text-align: right;\">-0.047945  </td><td style=\"text-align: right;\">-0.158531</td><td style=\"text-align: right;\">-0.0326801</td><td style=\"text-align: right;\">-0.0732946</td><td style=\"text-align: right;\">0.141952 </td><td style=\"text-align: right;\">-0.106875  </td><td style=\"text-align: right;\">0.114859</td><td style=\"text-align: right;\">0.0916932</td><td style=\"text-align: right;\">0.00653966</td><td style=\"text-align: right;\">-0.21404 </td><td style=\"text-align: right;\"> 0.0681284</td><td style=\"text-align: right;\"> 0.00501457</td><td style=\"text-align: right;\">-0.119693</td><td style=\"text-align: right;\">-0.0617665</td><td style=\"text-align: right;\">-0.138928 </td><td style=\"text-align: right;\">-0.0194709</td><td style=\"text-align: right;\">0.109409 </td><td style=\"text-align: right;\">   0.180811 </td><td style=\"text-align: right;\">  -0.0624402</td><td style=\"text-align: right;\">  0.0016479 </td><td style=\"text-align: right;\">   0.177045 </td><td style=\"text-align: right;\">   0.0675182</td><td style=\"text-align: right;\">   -0.350843</td><td style=\"text-align: right;\">  -0.0301594</td><td style=\"text-align: right;\">  -0.0875059</td><td style=\"text-align: right;\">    0.074447</td><td style=\"text-align: right;\">   -0.0242343</td><td style=\"text-align: right;\">     0.100156</td><td style=\"text-align: right;\">    0.1132   </td><td style=\"text-align: right;\">   -0.171408 </td><td style=\"text-align: right;\">   0.00947565</td><td style=\"text-align: right;\">     0.222237</td><td style=\"text-align: right;\">     0.101339</td><td style=\"text-align: right;\">   -0.0659541</td><td style=\"text-align: right;\">   -0.0311757</td><td style=\"text-align: right;\">    0.0998   </td><td style=\"text-align: right;\">  -0.0709068 </td><td style=\"text-align: right;\">     0.187896</td><td style=\"text-align: right;\">   -0.11991  </td><td style=\"text-align: right;\">     0.278547</td><td style=\"text-align: right;\">   -0.0207988</td><td style=\"text-align: right;\">    0.0560245</td><td style=\"text-align: right;\">    0.066267 </td><td style=\"text-align: right;\">  -0.160565  </td><td style=\"text-align: right;\">   -0.152809 </td><td style=\"text-align: right;\">    0.158432 </td><td style=\"text-align: right;\">     0.119786</td><td style=\"text-align: right;\">    0.0682586</td><td style=\"text-align: right;\">     0.172283</td><td style=\"text-align: right;\">    0.206922 </td><td style=\"text-align: right;\">  -0.25777   </td><td style=\"text-align: right;\">   -0.0947411</td><td style=\"text-align: right;\">  -0.195012  </td><td style=\"text-align: right;\">    0.0753837</td><td style=\"text-align: right;\">    0.0259324</td><td style=\"text-align: right;\">    0.122639 </td><td style=\"text-align: right;\">     0.312608</td><td style=\"text-align: right;\">   -0.0176478</td><td style=\"text-align: right;\">   -0.397467 </td><td style=\"text-align: right;\">     0.047561</td><td style=\"text-align: right;\">  0.000550866</td><td style=\"text-align: right;\">   -0.0657462</td><td style=\"text-align: right;\">   -0.17174  </td><td style=\"text-align: right;\">    -0.31521 </td><td style=\"text-align: right;\">     0.107773</td><td style=\"text-align: right;\">    0.0341236</td><td style=\"text-align: right;\">    -0.334992</td><td style=\"text-align: right;\">    0.22545  </td><td style=\"text-align: right;\">   -0.194777 </td><td style=\"text-align: right;\">    0.0889539</td><td style=\"text-align: right;\">    0.232924 </td><td style=\"text-align: right;\">     0.12186 </td><td style=\"text-align: right;\">   -0.173016 </td><td style=\"text-align: right;\">   -0.195254 </td><td style=\"text-align: right;\">   -0.128835 </td><td style=\"text-align: right;\">  -0.0299583 </td><td style=\"text-align: right;\">    -0.183822</td><td style=\"text-align: right;\">  -0.209048  </td><td style=\"text-align: right;\">     0.429433</td><td style=\"text-align: right;\">   0.00515596</td><td style=\"text-align: right;\">   -0.19558  </td><td style=\"text-align: right;\">    0.0312998</td><td style=\"text-align: right;\">   -0.134963 </td><td style=\"text-align: right;\">    0.055754 </td><td style=\"text-align: right;\">    -0.196376</td><td style=\"text-align: right;\">  -0.0154279 </td><td style=\"text-align: right;\">   -0.0431779</td><td style=\"text-align: right;\">    0.0566967</td><td style=\"text-align: right;\">    0.037341 </td><td style=\"text-align: right;\">    0.322539 </td><td style=\"text-align: right;\">   -0.22832  </td><td style=\"text-align: right;\">   -0.0186902</td><td style=\"text-align: right;\">   0.144157  </td><td style=\"text-align: right;\">    0.0373795</td><td style=\"text-align: right;\"> -0.000103325</td><td style=\"text-align: right;\">   0.0229191 </td><td style=\"text-align: right;\">   -0.0127357</td><td style=\"text-align: right;\">    0.167437 </td><td style=\"text-align: right;\">   0.0390226 </td><td style=\"text-align: right;\">   0.0281275 </td><td style=\"text-align: right;\">    -0.159565</td><td style=\"text-align: right;\">   -0.122644 </td><td style=\"text-align: right;\">   -0.0212393</td><td style=\"text-align: right;\">   -0.0303974</td><td style=\"text-align: right;\">    0.0622571</td></tr>\n",
       "</tbody>\n",
       "</table>"
      ]
     },
     "metadata": {},
     "output_type": "display_data"
    },
    {
     "data": {
      "text/plain": []
     },
     "execution_count": 25,
     "metadata": {},
     "output_type": "execute_result"
    }
   ],
   "source": [
    "ext_reviews_new.head(3)"
   ]
  },
  {
   "cell_type": "code",
   "execution_count": 43,
   "metadata": {},
   "outputs": [],
   "source": [
    "ext_train_new = ext_reviews_new[ext_reviews_new[\"Train\"] == \"Yes\"]\n",
    "ext_test_new = ext_reviews_new[ext_reviews_new[\"Train\"] == \"No\"]"
   ]
  },
  {
   "cell_type": "markdown",
   "metadata": {},
   "source": [
    "# Training Models"
   ]
  },
  {
   "cell_type": "markdown",
   "metadata": {},
   "source": [
    "## 1 Linear Regression"
   ]
  },
  {
   "cell_type": "markdown",
   "metadata": {},
   "source": [
    "### 1.1 Train & Fit Model"
   ]
  },
  {
   "cell_type": "code",
   "execution_count": 50,
   "metadata": {},
   "outputs": [],
   "source": [
    "predictors = ['ProductId', 'UserId', 'HelpfulnessNumerator', 'HelpfulnessDenominator', 'Time'] + summary_vecs.names + review_vecs.names \n",
    "response = 'PositiveReview'"
   ]
  },
  {
   "cell_type": "code",
   "execution_count": 51,
   "metadata": {},
   "outputs": [
    {
     "name": "stdout",
     "output_type": "stream",
     "text": [
      "glm Model Build progress: |███████████████████████████████████████████████| 100%\n"
     ]
    }
   ],
   "source": [
    "# Initialize\n",
    "local_glm_plus = H2OGeneralizedLinearEstimator(family='binomial', model_id='glm_surrogate', lambda_search=True)\n",
    "# train \n",
    "local_glm_plus.train(x=predictors, y=response, training_frame=ext_train_new)"
   ]
  },
  {
   "cell_type": "markdown",
   "metadata": {},
   "source": [
    "### 1.2 Interpretability"
   ]
  },
  {
   "cell_type": "code",
   "execution_count": 55,
   "metadata": {},
   "outputs": [
    {
     "data": {
      "image/png": "[encoded data removed]",
      "text/plain": [
       "<Figure size 1008x720 with 1 Axes>"
      ]
     },
     "metadata": {
      "needs_background": "light"
     },
     "output_type": "display_data"
    }
   ],
   "source": [
    "local_glm_plus.varimp_plot()"
   ]
  },
  {
   "cell_type": "code",
   "execution_count": 56,
   "metadata": {},
   "outputs": [
    {
     "name": "stdout",
     "output_type": "stream",
     "text": [
      "PartialDependencePlot progress: |█████████████████████████████████████████| 100%\n"
     ]
    },
    {
     "data": {
      "image/png": "[encoded data removed]",
      "text/plain": [
       "<Figure size 504x720 with 1 Axes>"
      ]
     },
     "metadata": {
      "needs_background": "light"
     },
     "output_type": "display_data"
    }
   ],
   "source": [
    "pdp_local_linear_plus = local_glm_plus.partial_plot(data = ext_train, cols = [\"HelpfulnessNumerator\"])"
   ]
  },
  {
   "cell_type": "markdown",
   "metadata": {},
   "source": [
    "### 1.3 Matrix"
   ]
  },
  {
   "cell_type": "code",
   "execution_count": 57,
   "metadata": {},
   "outputs": [
    {
     "name": "stdout",
     "output_type": "stream",
     "text": [
      "\n",
      "Local GLM Coefficients:\n",
      "C45:                      -4.458841803209199\n",
      "C20:                      -2.8894274519199032\n",
      "C6:                       -2.5387317872475634\n",
      "C92:                      -2.2633738128635623\n",
      "C82:                      -2.049265430454582\n",
      "C38:                      -2.045109838087461\n",
      "C49:                      -1.8397107561875587\n",
      "C72:                      -1.4846578386672409\n",
      "C53:                      -1.4661160844389205\n",
      "C17:                      -1.414621286143058\n",
      "C21:                      -1.3048353880188148\n",
      "C58:                      -1.2912711306932947\n",
      "C80:                      -1.2596609694929117\n",
      "C62:                      -1.2467548386649228\n",
      "summary_C45:              -1.0804950162843379\n",
      "C59:                      -0.9960258208783213\n",
      "C74:                      -0.9870546916290589\n",
      "C42:                      -0.8961936733824727\n",
      "C26:                      -0.8521055154538516\n",
      "summary_C6:               -0.772765915156745\n",
      "C66:                      -0.7650660388078742\n",
      "C56:                      -0.7367610258461049\n",
      "C14:                      -0.7288847109870085\n",
      "summary_C20:              -0.6684972830326792\n",
      "C54:                      -0.6624800410562325\n",
      "summary_C38:              -0.6492121103889676\n",
      "C88:                      -0.6225714164334776\n",
      "C51:                      -0.5928753760107613\n",
      "C32:                      -0.5928088705243285\n",
      "C84:                      -0.5871686235646595\n",
      "summary_C95:              -0.5387505715942534\n",
      "summary_C56:              -0.5153973619896703\n",
      "summary_C51:              -0.509876338365711\n",
      "C78:                      -0.49488482742747114\n",
      "summary_C21:              -0.49149386034637765\n",
      "summary_C41:              -0.4878489542750841\n",
      "summary_C90:              -0.44760981923240045\n",
      "C28:                      -0.4439335849626107\n",
      "summary_C62:              -0.4245768608878041\n",
      "summary_C39:              -0.3959395672752431\n",
      "summary_C10:              -0.3703601622018246\n",
      "summary_C66:              -0.3628089816717871\n",
      "C95:                      -0.33681428726477075\n",
      "C98:                      -0.33028096166013665\n",
      "summary_C92:              -0.32440994728174527\n",
      "C87:                      -0.3034807674403825\n",
      "summary_C14:              -0.293769811050827\n",
      "C90:                      -0.2926163140152184\n",
      "summary_C58:              -0.2916826665607941\n",
      "C4:                       -0.28650726326631154\n",
      "summary_C59:              -0.2738935394891821\n",
      "summary_C9:               -0.27073934584354237\n",
      "C73:                      -0.2561028330531471\n",
      "summary_C80:              -0.2554802500254329\n",
      "C9:                       -0.24714009265514997\n",
      "C67:                      -0.2334498981456553\n",
      "C39:                      -0.2185400680492323\n",
      "summary_C54:              -0.21423983638131414\n",
      "C10:                      -0.21370150339728472\n",
      "summary_C49:              -0.2115057093590006\n",
      "summary_C67:              -0.1920794838990475\n",
      "C41:                      -0.17145555969672532\n",
      "summary_C79:              -0.1674653449335225\n",
      "summary_C91:              -0.1357166841143875\n",
      "summary_C73:              -0.12254945445478341\n",
      "summary_C69:              -0.11225911755818777\n",
      "C29:                      -0.10978246642235108\n",
      "summary_C72:              -0.1041363965903649\n",
      "C89:                      -0.08935781793975307\n",
      "summary_C33:              -0.08823011198231677\n",
      "summary_C82:              -0.08700396262898033\n",
      "C79:                      -0.07998690460813496\n",
      "summary_C84:              -0.07722405462527002\n",
      "HelpfulnessDenominator:   -0.07637526210415543\n",
      "summary_C42:              -0.03883582408741616\n",
      "C52:                      -0.03331626903869938\n",
      "summary_C89:              -0.01848788370619766\n",
      "summary_C81:              -0.010623795599152584\n",
      "Time:                     -8.297708140205757e-10\n",
      "summary_C77:              7.481968545620526e-06\n",
      "summary_C26:              0.00310839542439515\n",
      "C44:                      0.023304184838898165\n",
      "summary_C36:              0.04336762115670434\n",
      "C57:                      0.05065248059650512\n",
      "C7:                       0.06415678463981896\n",
      "C68:                      0.07271113519967665\n",
      "HelpfulnessNumerator:     0.08948932651623807\n",
      "C2:                       0.12060483930584459\n",
      "summary_C87:              0.15733963101984574\n",
      "summary_C7:               0.16305668288780373\n",
      "summary_C11:              0.16569545595927182\n",
      "summary_C18:              0.17303838657893766\n",
      "summary_C78:              0.18500708213236833\n",
      "summary_C8:               0.19125846899718166\n",
      "summary_C15:              0.1935323492313115\n",
      "summary_C22:              0.19534697370897167\n",
      "summary_C50:              0.22738079737848527\n",
      "summary_C43:              0.23773142944355694\n",
      "summary_C12:              0.24315899752477918\n",
      "summary_C4:               0.2535121134354876\n",
      "summary_C13:              0.25870179564834817\n",
      "summary_C19:              0.28189803376746925\n",
      "summary_C16:              0.2877115929739504\n",
      "summary_C63:              0.3044105491999137\n",
      "C83:                      0.31105388848699217\n",
      "summary_C93:              0.31217764520238933\n",
      "C1:                       0.3239630475393215\n",
      "summary_C85:              0.3586161807303423\n",
      "C27:                      0.3674333598082652\n",
      "summary_C70:              0.3679569202421666\n",
      "summary_C31:              0.4100052594524964\n",
      "C91:                      0.41702913377050443\n",
      "summary_C40:              0.4183386146583257\n",
      "C85:                      0.4204248986091018\n",
      "summary_C5:               0.4296749448335378\n",
      "summary_C86:              0.4374200482875594\n",
      "summary_C94:              0.438622658066324\n",
      "summary_C55:              0.4528235469057909\n",
      "C94:                      0.45387601676513895\n",
      "C81:                      0.47354219885375853\n",
      "summary_C48:              0.4888290515793669\n",
      "summary_C35:              0.5019074346077692\n",
      "summary_C65:              0.5047481148339563\n",
      "summary_C100:             0.547444930786227\n",
      "C36:                      0.5679539596115687\n",
      "summary_C97:              0.6015050645547713\n",
      "summary_C24:              0.6525923760124984\n",
      "C22:                      0.6537504984100196\n",
      "summary_C61:              0.6540729039625786\n",
      "C77:                      0.6582551684134405\n",
      "summary_C30:              0.6841353645712958\n",
      "summary_C37:              0.7034625706166933\n",
      "summary_C75:              0.7384433679733142\n",
      "C61:                      0.7691281203209215\n",
      "summary_C23:              0.815893856862616\n",
      "C50:                      0.8455290209778525\n",
      "summary_C99:              0.8526893072208135\n",
      "C19:                      0.8614282741340463\n",
      "C15:                      0.8927303906170772\n",
      "C37:                      0.9088564995973973\n",
      "C70:                      0.977229572395812\n",
      "summary_C3:               0.997214229963726\n",
      "C40:                      0.999920467312186\n",
      "summary_C34:              1.0287844028761948\n",
      "C13:                      1.0399625493521627\n",
      "C5:                       1.0793119118971017\n",
      "C100:                     1.231737044390314\n",
      "C86:                      1.2546251542052829\n",
      "C63:                      1.2979056352359586\n",
      "C71:                      1.351184193165819\n",
      "C8:                       1.3868385571716766\n",
      "C65:                      1.5532914814726329\n",
      "C48:                      1.5676990960307124\n",
      "C97:                      1.5685583161938506\n",
      "C96:                      1.6585712833077455\n",
      "C43:                      1.7388025424329985\n",
      "C31:                      1.8123399197881633\n",
      "C76:                      1.8868265904405228\n",
      "C34:                      1.953342149590373\n",
      "C12:                      1.9763918305132198\n",
      "C30:                      2.0273889472090105\n",
      "Intercept:                2.1992707900412167\n",
      "C24:                      2.218645176419525\n",
      "C75:                      2.745443470631139\n",
      "C23:                      3.009548484916134\n",
      "C99:                      3.328994731665078\n",
      "C18:                      3.5220231409146123\n",
      "C3:                       4.5227565979152695\n"
     ]
    }
   ],
   "source": [
    "print('\\nLocal GLM Coefficients:')\n",
    "for c_name, c_val in sorted(local_glm_plus.coef().items(), key=operator.itemgetter(1)):\n",
    "    if c_val != 0.0:\n",
    "        print('%s %s' % (str(c_name + ':').ljust(25), c_val))"
   ]
  },
  {
   "cell_type": "code",
   "execution_count": 58,
   "metadata": {},
   "outputs": [
    {
     "data": {
      "text/plain": [
       "{'train': 0.42843494897655787, 'valid': None}"
      ]
     },
     "execution_count": 58,
     "metadata": {},
     "output_type": "execute_result"
    }
   ],
   "source": [
    "local_glm_plus.r2(train=True, valid=True)"
   ]
  },
  {
   "cell_type": "code",
   "execution_count": 59,
   "metadata": {},
   "outputs": [
    {
     "data": {
      "text/plain": [
       "0.8750623694908473"
      ]
     },
     "execution_count": 59,
     "metadata": {},
     "output_type": "execute_result"
    }
   ],
   "source": [
    "local_glm_plus.auc()"
   ]
  },
  {
   "cell_type": "code",
   "execution_count": 60,
   "metadata": {},
   "outputs": [
    {
     "name": "stdout",
     "output_type": "stream",
     "text": [
      "Confusion Matrix (Act/Pred) for max f1 @ threshold = 0.4459489322276058: \n"
     ]
    },
    {
     "data": {
      "text/html": [
       "<div style=\"overflow:auto\"><table style=\"width:50%\"><tr><td><b></b></td>\n",
       "<td><b>0</b></td>\n",
       "<td><b>1</b></td>\n",
       "<td><b>Error</b></td>\n",
       "<td><b>Rate</b></td></tr>\n",
       "<tr><td>0</td>\n",
       "<td>9831.0</td>\n",
       "<td>6063.0</td>\n",
       "<td>0.3815</td>\n",
       "<td> (6063.0/15894.0)</td></tr>\n",
       "<tr><td>1</td>\n",
       "<td>2055.0</td>\n",
       "<td>26453.0</td>\n",
       "<td>0.0721</td>\n",
       "<td> (2055.0/28508.0)</td></tr>\n",
       "<tr><td>Total</td>\n",
       "<td>11886.0</td>\n",
       "<td>32516.0</td>\n",
       "<td>0.1828</td>\n",
       "<td> (8118.0/44402.0)</td></tr></table></div>"
      ],
      "text/plain": [
       "       0      1      Error    Rate\n",
       "-----  -----  -----  -------  ----------------\n",
       "0      9831   6063   0.3815   (6063.0/15894.0)\n",
       "1      2055   26453  0.0721   (2055.0/28508.0)\n",
       "Total  11886  32516  0.1828   (8118.0/44402.0)"
      ]
     },
     "metadata": {},
     "output_type": "display_data"
    },
    {
     "data": {
      "text/plain": []
     },
     "execution_count": 60,
     "metadata": {},
     "output_type": "execute_result"
    }
   ],
   "source": [
    "local_glm_plus.confusion_matrix()"
   ]
  },
  {
   "cell_type": "markdown",
   "metadata": {},
   "source": [
    "## 2 Logistic Regression"
   ]
  },
  {
   "cell_type": "markdown",
   "metadata": {},
   "source": [
    "### 2.1 Train & Fit Model"
   ]
  },
  {
   "cell_type": "code",
   "execution_count": 61,
   "metadata": {},
   "outputs": [],
   "source": [
    "predictors = ['ProductId', 'UserId', 'HelpfulnessNumerator', 'HelpfulnessDenominator', 'Time'] + summary_vecs.names + review_vecs.names \n",
    "response = 'PositiveReview'"
   ]
  },
  {
   "cell_type": "code",
   "execution_count": 62,
   "metadata": {},
   "outputs": [
    {
     "name": "stdout",
     "output_type": "stream",
     "text": [
      "glm Model Build progress: |███████████████████████████████████████████████| 100%\n"
     ]
    }
   ],
   "source": [
    "glm_logistic_plus_summary = H2OGeneralizedLinearEstimator(family = \"binomial\")\n",
    "glm_logistic_plus_summary.train(x=predictors, \n",
    "                               y= response, \n",
    "                               training_frame = ext_train_new, \n",
    "                               validation_frame = ext_test_new, \n",
    "                               model_id=\"glm_logistic\")"
   ]
  },
  {
   "cell_type": "markdown",
   "metadata": {},
   "source": [
    "### 2.2 Interpretability"
   ]
  },
  {
   "cell_type": "code",
   "execution_count": 63,
   "metadata": {},
   "outputs": [
    {
     "data": {
      "image/png": "[encoded data removed]",
      "text/plain": [
       "<Figure size 1008x720 with 1 Axes>"
      ]
     },
     "metadata": {
      "needs_background": "light"
     },
     "output_type": "display_data"
    }
   ],
   "source": [
    "glm_logistic_plus_summary.varimp_plot()"
   ]
  },
  {
   "cell_type": "code",
   "execution_count": 65,
   "metadata": {},
   "outputs": [
    {
     "name": "stdout",
     "output_type": "stream",
     "text": [
      "PartialDependencePlot progress: |█████████████████████████████████████████| 100%\n"
     ]
    },
    {
     "data": {
      "image/png": "[encoded data removed]",
      "text/plain": [
       "<Figure size 504x720 with 1 Axes>"
      ]
     },
     "metadata": {
      "needs_background": "light"
     },
     "output_type": "display_data"
    }
   ],
   "source": [
    "pdp_word_vecs = glm_logistic_plus_summary.partial_plot(data = ext_train_new, cols = [\"summary_C91\"])"
   ]
  },
  {
   "cell_type": "markdown",
   "metadata": {},
   "source": [
    "### 2.3 Matrix"
   ]
  },
  {
   "cell_type": "code",
   "execution_count": 66,
   "metadata": {},
   "outputs": [
    {
     "name": "stdout",
     "output_type": "stream",
     "text": [
      "With Summary and Review Embeddings AUC: 0.848\n"
     ]
    }
   ],
   "source": [
    "print(\"With Summary and Review Embeddings AUC: \" + str(round(glm_logistic_plus_summary.auc(valid = True), 3)))"
   ]
  },
  {
   "cell_type": "code",
   "execution_count": 67,
   "metadata": {},
   "outputs": [
    {
     "name": "stdout",
     "output_type": "stream",
     "text": [
      "Confusion Matrix (Act/Pred) for max f1 @ threshold = 0.4931477877207841: \n"
     ]
    },
    {
     "data": {
      "text/html": [
       "<div style=\"overflow:auto\"><table style=\"width:50%\"><tr><td><b></b></td>\n",
       "<td><b>0</b></td>\n",
       "<td><b>1</b></td>\n",
       "<td><b>Error</b></td>\n",
       "<td><b>Rate</b></td></tr>\n",
       "<tr><td>0</td>\n",
       "<td>2494.0</td>\n",
       "<td>1718.0</td>\n",
       "<td>0.4079</td>\n",
       "<td> (1718.0/4212.0)</td></tr>\n",
       "<tr><td>1</td>\n",
       "<td>623.0</td>\n",
       "<td>6317.0</td>\n",
       "<td>0.0898</td>\n",
       "<td> (623.0/6940.0)</td></tr>\n",
       "<tr><td>Total</td>\n",
       "<td>3117.0</td>\n",
       "<td>8035.0</td>\n",
       "<td>0.2099</td>\n",
       "<td> (2341.0/11152.0)</td></tr></table></div>"
      ],
      "text/plain": [
       "       0     1     Error    Rate\n",
       "-----  ----  ----  -------  ----------------\n",
       "0      2494  1718  0.4079   (1718.0/4212.0)\n",
       "1      623   6317  0.0898   (623.0/6940.0)\n",
       "Total  3117  8035  0.2099   (2341.0/11152.0)"
      ]
     },
     "metadata": {},
     "output_type": "display_data"
    },
    {
     "data": {
      "text/plain": []
     },
     "execution_count": 67,
     "metadata": {},
     "output_type": "execute_result"
    }
   ],
   "source": [
    "glm_logistic_plus_summary.confusion_matrix(valid = True)"
   ]
  },
  {
   "cell_type": "code",
   "execution_count": 68,
   "metadata": {},
   "outputs": [
    {
     "name": "stdout",
     "output_type": "stream",
     "text": [
      "Confusion Matrix (Act/Pred) for max f1 @ threshold = 0.4931477877207841: \n"
     ]
    },
    {
     "data": {
      "text/html": [
       "<div style=\"overflow:auto\"><table style=\"width:50%\"><tr><td><b></b></td>\n",
       "<td><b>0</b></td>\n",
       "<td><b>1</b></td>\n",
       "<td><b>Error</b></td>\n",
       "<td><b>Rate</b></td></tr>\n",
       "<tr><td>0</td>\n",
       "<td>2494.0</td>\n",
       "<td>1718.0</td>\n",
       "<td>0.4079</td>\n",
       "<td> (1718.0/4212.0)</td></tr>\n",
       "<tr><td>1</td>\n",
       "<td>623.0</td>\n",
       "<td>6317.0</td>\n",
       "<td>0.0898</td>\n",
       "<td> (623.0/6940.0)</td></tr>\n",
       "<tr><td>Total</td>\n",
       "<td>3117.0</td>\n",
       "<td>8035.0</td>\n",
       "<td>0.2099</td>\n",
       "<td> (2341.0/11152.0)</td></tr></table></div>"
      ],
      "text/plain": [
       "       0     1     Error    Rate\n",
       "-----  ----  ----  -------  ----------------\n",
       "0      2494  1718  0.4079   (1718.0/4212.0)\n",
       "1      623   6317  0.0898   (623.0/6940.0)\n",
       "Total  3117  8035  0.2099   (2341.0/11152.0)"
      ]
     },
     "metadata": {},
     "output_type": "display_data"
    },
    {
     "data": {
      "text/plain": []
     },
     "execution_count": 68,
     "metadata": {},
     "output_type": "execute_result"
    }
   ],
   "source": [
    "glm_logistic_plus_summary.confusion_matrix(valid = True)"
   ]
  },
  {
   "cell_type": "markdown",
   "metadata": {},
   "source": [
    "## 3 Decision Tree"
   ]
  },
  {
   "cell_type": "code",
   "execution_count": 71,
   "metadata": {},
   "outputs": [],
   "source": [
    "from h2o.estimators.random_forest import H2ORandomForestEstimator # for single tree\n",
    "# in-notebook display\n",
    "from IPython.display import Image\n",
    "from IPython.display import display\n",
    "%matplotlib inline"
   ]
  },
  {
   "cell_type": "markdown",
   "metadata": {},
   "source": [
    "### 3.1 Train & Fit Model"
   ]
  },
  {
   "cell_type": "code",
   "execution_count": 72,
   "metadata": {},
   "outputs": [],
   "source": [
    "predictors = ['ProductId', 'UserId', 'HelpfulnessNumerator', 'HelpfulnessDenominator', 'Time'] + review_vecs.names + summary_vecs.names\n",
    "response = 'PositiveReview'"
   ]
  },
  {
   "cell_type": "code",
   "execution_count": 74,
   "metadata": {},
   "outputs": [
    {
     "name": "stdout",
     "output_type": "stream",
     "text": [
      "gbm Model Build progress: |███████████████████████████████████████████████| 100%\n"
     ]
    }
   ],
   "source": [
    "# initialize single tree surrogate model\n",
    "model_id = 'dt_surrogate_mojo'\n",
    "\n",
    "# train single tree surrogate model\n",
    "surrogate = H2OGradientBoostingEstimator(ntrees=1,\n",
    "                                         sample_rate=1,\n",
    "                                         col_sample_rate=1,\n",
    "                                         max_depth=3,\n",
    "                                         seed=12345,\n",
    "                                         model_id=model_id)\n",
    "\n",
    "_ = surrogate.train(x=predictors, y=response, training_frame=ext_train_new)"
   ]
  },
  {
   "cell_type": "markdown",
   "metadata": {},
   "source": [
    "### 3.2 Interpretability"
   ]
  },
  {
   "cell_type": "markdown",
   "metadata": {},
   "source": [
    "### 3.3 Matrix"
   ]
  },
  {
   "cell_type": "code",
   "execution_count": 78,
   "metadata": {},
   "outputs": [
    {
     "name": "stdout",
     "output_type": "stream",
     "text": [
      "Model Details\n",
      "=============\n",
      "H2OGradientBoostingEstimator :  Gradient Boosting Machine\n",
      "Model Key:  dt_surrogate_mojo\n",
      "\n",
      "\n",
      "ModelMetricsBinomial: gbm\n",
      "** Reported on train data. **\n",
      "\n",
      "MSE: 0.2225735774835216\n",
      "RMSE: 0.47177704213274474\n",
      "LogLoss: 0.6365880515168578\n",
      "Mean Per-Class Error: 0.3177387403912362\n",
      "AUC: 0.7281796374726778\n",
      "pr_auc: 0.5887501833299439\n",
      "Gini: 0.45635927494535555\n",
      "Confusion Matrix (Act/Pred) for max f1 @ threshold = 0.619282874611462: \n"
     ]
    },
    {
     "data": {
      "text/html": [
       "<div style=\"overflow:auto\"><table style=\"width:50%\"><tr><td><b></b></td>\n",
       "<td><b>0</b></td>\n",
       "<td><b>1</b></td>\n",
       "<td><b>Error</b></td>\n",
       "<td><b>Rate</b></td></tr>\n",
       "<tr><td>0</td>\n",
       "<td>3315.0</td>\n",
       "<td>12579.0</td>\n",
       "<td>0.7914</td>\n",
       "<td> (12579.0/15894.0)</td></tr>\n",
       "<tr><td>1</td>\n",
       "<td>944.0</td>\n",
       "<td>27564.0</td>\n",
       "<td>0.0331</td>\n",
       "<td> (944.0/28508.0)</td></tr>\n",
       "<tr><td>Total</td>\n",
       "<td>4259.0</td>\n",
       "<td>40143.0</td>\n",
       "<td>0.3046</td>\n",
       "<td> (13523.0/44402.0)</td></tr></table></div>"
      ],
      "text/plain": [
       "       0     1      Error    Rate\n",
       "-----  ----  -----  -------  -----------------\n",
       "0      3315  12579  0.7914   (12579.0/15894.0)\n",
       "1      944   27564  0.0331   (944.0/28508.0)\n",
       "Total  4259  40143  0.3046   (13523.0/44402.0)"
      ]
     },
     "metadata": {},
     "output_type": "display_data"
    },
    {
     "name": "stdout",
     "output_type": "stream",
     "text": [
      "Maximum Metrics: Maximum metrics at their respective thresholds\n",
      "\n"
     ]
    },
    {
     "data": {
      "text/html": [
       "<div style=\"overflow:auto\"><table style=\"width:50%\"><tr><td><b>metric</b></td>\n",
       "<td><b>threshold</b></td>\n",
       "<td><b>value</b></td>\n",
       "<td><b>idx</b></td></tr>\n",
       "<tr><td>max f1</td>\n",
       "<td>0.6192829</td>\n",
       "<td>0.8030182</td>\n",
       "<td>6.0</td></tr>\n",
       "<tr><td>max f2</td>\n",
       "<td>0.5990054</td>\n",
       "<td>0.8996806</td>\n",
       "<td>7.0</td></tr>\n",
       "<tr><td>max f0point5</td>\n",
       "<td>0.6500440</td>\n",
       "<td>0.7715799</td>\n",
       "<td>3.0</td></tr>\n",
       "<tr><td>max accuracy</td>\n",
       "<td>0.6293106</td>\n",
       "<td>0.7094500</td>\n",
       "<td>5.0</td></tr>\n",
       "<tr><td>max precision</td>\n",
       "<td>0.6644458</td>\n",
       "<td>0.8694007</td>\n",
       "<td>0.0</td></tr>\n",
       "<tr><td>max recall</td>\n",
       "<td>0.5990054</td>\n",
       "<td>1.0</td>\n",
       "<td>7.0</td></tr>\n",
       "<tr><td>max specificity</td>\n",
       "<td>0.6644458</td>\n",
       "<td>0.9326790</td>\n",
       "<td>0.0</td></tr>\n",
       "<tr><td>max absolute_mcc</td>\n",
       "<td>0.6500440</td>\n",
       "<td>0.3595765</td>\n",
       "<td>3.0</td></tr>\n",
       "<tr><td>max min_per_class_accuracy</td>\n",
       "<td>0.6500440</td>\n",
       "<td>0.6165220</td>\n",
       "<td>3.0</td></tr>\n",
       "<tr><td>max mean_per_class_accuracy</td>\n",
       "<td>0.6500440</td>\n",
       "<td>0.6822613</td>\n",
       "<td>3.0</td></tr></table></div>"
      ],
      "text/plain": [
       "metric                       threshold    value     idx\n",
       "---------------------------  -----------  --------  -----\n",
       "max f1                       0.619283     0.803018  6\n",
       "max f2                       0.599005     0.899681  7\n",
       "max f0point5                 0.650044     0.77158   3\n",
       "max accuracy                 0.629311     0.70945   5\n",
       "max precision                0.664446     0.869401  0\n",
       "max recall                   0.599005     1         7\n",
       "max specificity              0.664446     0.932679  0\n",
       "max absolute_mcc             0.650044     0.359577  3\n",
       "max min_per_class_accuracy   0.650044     0.616522  3\n",
       "max mean_per_class_accuracy  0.650044     0.682261  3"
      ]
     },
     "metadata": {},
     "output_type": "display_data"
    },
    {
     "name": "stdout",
     "output_type": "stream",
     "text": [
      "Gains/Lift Table: Avg response rate: 64.20 %, avg score: 64.18 %\n",
      "\n"
     ]
    },
    {
     "data": {
      "text/html": [
       "<div style=\"overflow:auto\"><table style=\"width:50%\"><tr><td><b></b></td>\n",
       "<td><b>group</b></td>\n",
       "<td><b>cumulative_data_fraction</b></td>\n",
       "<td><b>lower_threshold</b></td>\n",
       "<td><b>lift</b></td>\n",
       "<td><b>cumulative_lift</b></td>\n",
       "<td><b>response_rate</b></td>\n",
       "<td><b>score</b></td>\n",
       "<td><b>cumulative_response_rate</b></td>\n",
       "<td><b>cumulative_score</b></td>\n",
       "<td><b>capture_rate</b></td>\n",
       "<td><b>cumulative_capture_rate</b></td>\n",
       "<td><b>gain</b></td>\n",
       "<td><b>cumulative_gain</b></td></tr>\n",
       "<tr><td></td>\n",
       "<td>1</td>\n",
       "<td>0.1845187</td>\n",
       "<td>0.6644458</td>\n",
       "<td>1.3541157</td>\n",
       "<td>1.3541157</td>\n",
       "<td>0.8694007</td>\n",
       "<td>0.6644458</td>\n",
       "<td>0.8694007</td>\n",
       "<td>0.6644458</td>\n",
       "<td>0.2498597</td>\n",
       "<td>0.2498597</td>\n",
       "<td>35.4115695</td>\n",
       "<td>35.4115695</td></tr>\n",
       "<tr><td></td>\n",
       "<td>2</td>\n",
       "<td>0.4180893</td>\n",
       "<td>0.6529911</td>\n",
       "<td>1.1717126</td>\n",
       "<td>1.2522140</td>\n",
       "<td>0.7522900</td>\n",
       "<td>0.6529911</td>\n",
       "<td>0.8039754</td>\n",
       "<td>0.6580465</td>\n",
       "<td>0.2736776</td>\n",
       "<td>0.5235373</td>\n",
       "<td>17.1712584</td>\n",
       "<td>25.2214021</td></tr>\n",
       "<tr><td></td>\n",
       "<td>3</td>\n",
       "<td>0.6175172</td>\n",
       "<td>0.6500440</td>\n",
       "<td>1.1255358</td>\n",
       "<td>1.2113031</td>\n",
       "<td>0.7226426</td>\n",
       "<td>0.6500623</td>\n",
       "<td>0.7777089</td>\n",
       "<td>0.6554680</td>\n",
       "<td>0.2244633</td>\n",
       "<td>0.7480006</td>\n",
       "<td>12.5535836</td>\n",
       "<td>21.1303145</td></tr>\n",
       "<tr><td></td>\n",
       "<td>4</td>\n",
       "<td>0.7172875</td>\n",
       "<td>0.6304220</td>\n",
       "<td>0.8202510</td>\n",
       "<td>1.1569102</td>\n",
       "<td>0.5266366</td>\n",
       "<td>0.6304220</td>\n",
       "<td>0.7427863</td>\n",
       "<td>0.6519843</td>\n",
       "<td>0.0818367</td>\n",
       "<td>0.8298372</td>\n",
       "<td>-17.9748950</td>\n",
       "<td>15.6910204</td></tr>\n",
       "<tr><td></td>\n",
       "<td>5</td>\n",
       "<td>0.8192649</td>\n",
       "<td>0.6293106</td>\n",
       "<td>0.8031862</td>\n",
       "<td>1.1128807</td>\n",
       "<td>0.5156802</td>\n",
       "<td>0.6293106</td>\n",
       "<td>0.7145174</td>\n",
       "<td>0.6491620</td>\n",
       "<td>0.0819068</td>\n",
       "<td>0.9117441</td>\n",
       "<td>-19.6813780</td>\n",
       "<td>11.2880674</td></tr>\n",
       "<tr><td></td>\n",
       "<td>6</td>\n",
       "<td>0.9040809</td>\n",
       "<td>0.6192829</td>\n",
       "<td>0.6501417</td>\n",
       "<td>1.0694690</td>\n",
       "<td>0.4174190</td>\n",
       "<td>0.6192829</td>\n",
       "<td>0.6866452</td>\n",
       "<td>0.6463589</td>\n",
       "<td>0.0551424</td>\n",
       "<td>0.9668865</td>\n",
       "<td>-34.9858321</td>\n",
       "<td>6.9468994</td></tr>\n",
       "<tr><td></td>\n",
       "<td>7</td>\n",
       "<td>1.0</td>\n",
       "<td>0.5990054</td>\n",
       "<td>0.3452233</td>\n",
       "<td>1.0</td>\n",
       "<td>0.2216483</td>\n",
       "<td>0.5990054</td>\n",
       "<td>0.6420432</td>\n",
       "<td>0.6418168</td>\n",
       "<td>0.0331135</td>\n",
       "<td>1.0</td>\n",
       "<td>-65.4776671</td>\n",
       "<td>0.0</td></tr></table></div>"
      ],
      "text/plain": [
       "    group    cumulative_data_fraction    lower_threshold    lift      cumulative_lift    response_rate    score     cumulative_response_rate    cumulative_score    capture_rate    cumulative_capture_rate    gain      cumulative_gain\n",
       "--  -------  --------------------------  -----------------  --------  -----------------  ---------------  --------  --------------------------  ------------------  --------------  -------------------------  --------  -----------------\n",
       "    1        0.184519                    0.664446           1.35412   1.35412            0.869401         0.664446  0.869401                    0.664446            0.24986         0.24986                    35.4116   35.4116\n",
       "    2        0.418089                    0.652991           1.17171   1.25221            0.75229          0.652991  0.803975                    0.658047            0.273678        0.523537                   17.1713   25.2214\n",
       "    3        0.617517                    0.650044           1.12554   1.2113             0.722643         0.650062  0.777709                    0.655468            0.224463        0.748001                   12.5536   21.1303\n",
       "    4        0.717288                    0.630422           0.820251  1.15691            0.526637         0.630422  0.742786                    0.651984            0.0818367       0.829837                   -17.9749  15.691\n",
       "    5        0.819265                    0.629311           0.803186  1.11288            0.51568          0.629311  0.714517                    0.649162            0.0819068       0.911744                   -19.6814  11.2881\n",
       "    6        0.904081                    0.619283           0.650142  1.06947            0.417419         0.619283  0.686645                    0.646359            0.0551424       0.966886                   -34.9858  6.9469\n",
       "    7        1                           0.599005           0.345223  1                  0.221648         0.599005  0.642043                    0.641817            0.0331135       1                          -65.4777  0"
      ]
     },
     "metadata": {},
     "output_type": "display_data"
    },
    {
     "name": "stdout",
     "output_type": "stream",
     "text": [
      "\n",
      "Scoring History: \n"
     ]
    },
    {
     "data": {
      "text/html": [
       "<div style=\"overflow:auto\"><table style=\"width:50%\"><tr><td><b></b></td>\n",
       "<td><b>timestamp</b></td>\n",
       "<td><b>duration</b></td>\n",
       "<td><b>number_of_trees</b></td>\n",
       "<td><b>training_rmse</b></td>\n",
       "<td><b>training_logloss</b></td>\n",
       "<td><b>training_auc</b></td>\n",
       "<td><b>training_pr_auc</b></td>\n",
       "<td><b>training_lift</b></td>\n",
       "<td><b>training_classification_error</b></td></tr>\n",
       "<tr><td></td>\n",
       "<td>2019-04-17 00:21:03</td>\n",
       "<td> 0.012 sec</td>\n",
       "<td>0.0</td>\n",
       "<td>0.4793994</td>\n",
       "<td>0.6522336</td>\n",
       "<td>0.5</td>\n",
       "<td>0.0</td>\n",
       "<td>1.0</td>\n",
       "<td>0.3579568</td></tr>\n",
       "<tr><td></td>\n",
       "<td>2019-04-17 00:21:04</td>\n",
       "<td> 0.515 sec</td>\n",
       "<td>1.0</td>\n",
       "<td>0.4717770</td>\n",
       "<td>0.6365881</td>\n",
       "<td>0.7281796</td>\n",
       "<td>0.5887502</td>\n",
       "<td>1.3541157</td>\n",
       "<td>0.3045584</td></tr></table></div>"
      ],
      "text/plain": [
       "    timestamp            duration    number_of_trees    training_rmse    training_logloss    training_auc    training_pr_auc    training_lift    training_classification_error\n",
       "--  -------------------  ----------  -----------------  ---------------  ------------------  --------------  -----------------  ---------------  -------------------------------\n",
       "    2019-04-17 00:21:03  0.012 sec   0                  0.479399         0.652234            0.5             0                  1                0.357957\n",
       "    2019-04-17 00:21:04  0.515 sec   1                  0.471777         0.636588            0.72818         0.58875            1.35412          0.304558"
      ]
     },
     "metadata": {},
     "output_type": "display_data"
    },
    {
     "name": "stdout",
     "output_type": "stream",
     "text": [
      "Variable Importances: \n"
     ]
    },
    {
     "data": {
      "text/html": [
       "<div style=\"overflow:auto\"><table style=\"width:50%\"><tr><td><b>variable</b></td>\n",
       "<td><b>relative_importance</b></td>\n",
       "<td><b>scaled_importance</b></td>\n",
       "<td><b>percentage</b></td></tr>\n",
       "<tr><td>C3</td>\n",
       "<td>808.2933960</td>\n",
       "<td>1.0</td>\n",
       "<td>0.4808101</td></tr>\n",
       "<tr><td>summary_C31</td>\n",
       "<td>553.4595947</td>\n",
       "<td>0.6847261</td>\n",
       "<td>0.3292232</td></tr>\n",
       "<tr><td>summary_C3</td>\n",
       "<td>182.2331238</td>\n",
       "<td>0.2254542</td>\n",
       "<td>0.1084006</td></tr>\n",
       "<tr><td>summary_C97</td>\n",
       "<td>74.3465881</td>\n",
       "<td>0.0919797</td>\n",
       "<td>0.0442248</td></tr>\n",
       "<tr><td>C86</td>\n",
       "<td>62.7747459</td>\n",
       "<td>0.0776633</td>\n",
       "<td>0.0373413</td></tr>\n",
       "<tr><td>---</td>\n",
       "<td>---</td>\n",
       "<td>---</td>\n",
       "<td>---</td></tr>\n",
       "<tr><td>summary_C95</td>\n",
       "<td>0.0</td>\n",
       "<td>0.0</td>\n",
       "<td>0.0</td></tr>\n",
       "<tr><td>summary_C96</td>\n",
       "<td>0.0</td>\n",
       "<td>0.0</td>\n",
       "<td>0.0</td></tr>\n",
       "<tr><td>summary_C98</td>\n",
       "<td>0.0</td>\n",
       "<td>0.0</td>\n",
       "<td>0.0</td></tr>\n",
       "<tr><td>summary_C99</td>\n",
       "<td>0.0</td>\n",
       "<td>0.0</td>\n",
       "<td>0.0</td></tr>\n",
       "<tr><td>summary_C100</td>\n",
       "<td>0.0</td>\n",
       "<td>0.0</td>\n",
       "<td>0.0</td></tr></table></div>"
      ],
      "text/plain": [
       "variable      relative_importance    scaled_importance    percentage\n",
       "------------  ---------------------  -------------------  -------------------\n",
       "C3            808.2933959960938      1.0                  0.4808100735499465\n",
       "summary_C31   553.4595947265625      0.6847261124093573   0.329223212469112\n",
       "summary_C3    182.23312377929688     0.22545417874498824  0.10840064026452056\n",
       "summary_C97   74.34658813476562      0.09197970502177023  0.04422476873661973\n",
       "C86           62.77474594116211      0.0776633166275003   0.0373413049798012\n",
       "---           ---                    ---                  ---\n",
       "summary_C95   0.0                    0.0                  0.0\n",
       "summary_C96   0.0                    0.0                  0.0\n",
       "summary_C98   0.0                    0.0                  0.0\n",
       "summary_C99   0.0                    0.0                  0.0\n",
       "summary_C100  0.0                    0.0                  0.0"
      ]
     },
     "metadata": {},
     "output_type": "display_data"
    },
    {
     "name": "stdout",
     "output_type": "stream",
     "text": [
      "\n",
      "See the whole table with table.as_data_frame()\n",
      "\n"
     ]
    }
   ],
   "source": [
    "print(surrogate)"
   ]
  },
  {
   "cell_type": "markdown",
   "metadata": {},
   "source": [
    "## 4 Gradient Boosting"
   ]
  },
  {
   "cell_type": "markdown",
   "metadata": {},
   "source": [
    "### 4.1 Train & Fit Model"
   ]
  },
  {
   "cell_type": "code",
   "execution_count": 85,
   "metadata": {},
   "outputs": [
    {
     "name": "stdout",
     "output_type": "stream",
     "text": [
      "gbm Model Build progress: |███████████████████████████████████████████████| 100%\n"
     ]
    }
   ],
   "source": [
    "gbm = H2OGradientBoostingEstimator(stopping_metric = \"AUC\",\n",
    "                                           stopping_tolerance = 0.001,\n",
    "                                           stopping_rounds = 5, \n",
    "                                           score_tree_interval = 10, \n",
    "                                           model_id = 'gbm.hex')\n",
    "gbm.train(x = predictors, \n",
    "                   y = response,\n",
    "                  training_frame = ext_train_new,\n",
    "                  validation_frame = ext_test_new)"
   ]
  },
  {
   "cell_type": "markdown",
   "metadata": {},
   "source": [
    "### 4.2 Interpretability"
   ]
  },
  {
   "cell_type": "code",
   "execution_count": 86,
   "metadata": {},
   "outputs": [
    {
     "data": {
      "image/png": "[encoded data removed]",
      "text/plain": [
       "<Figure size 1008x720 with 1 Axes>"
      ]
     },
     "metadata": {
      "needs_background": "light"
     },
     "output_type": "display_data"
    }
   ],
   "source": [
    "gbm.varimp_plot()"
   ]
  },
  {
   "cell_type": "code",
   "execution_count": 87,
   "metadata": {
    "scrolled": false
   },
   "outputs": [
    {
     "name": "stdout",
     "output_type": "stream",
     "text": [
      "PartialDependencePlot progress: |█████████████████████████████████████████| 100%\n"
     ]
    },
    {
     "data": {
      "image/png": "[encoded data removed]",
      "text/plain": [
       "<Figure size 504x720 with 1 Axes>"
      ]
     },
     "metadata": {
      "needs_background": "light"
     },
     "output_type": "display_data"
    }
   ],
   "source": [
    "pdp_helpfulness = gbm.partial_plot(ext_train_new, cols = ['HelpfulnessNumerator'])"
   ]
  },
  {
   "cell_type": "markdown",
   "metadata": {},
   "source": [
    "### 4.3 Matrix"
   ]
  },
  {
   "cell_type": "code",
   "execution_count": 88,
   "metadata": {},
   "outputs": [
    {
     "name": "stdout",
     "output_type": "stream",
     "text": [
      "AUC on validation data: 0.846\n"
     ]
    }
   ],
   "source": [
    "print(\"AUC on validation data: \" + str(round(gbm.auc(valid = True), 3)))"
   ]
  },
  {
   "cell_type": "code",
   "execution_count": 89,
   "metadata": {},
   "outputs": [
    {
     "name": "stdout",
     "output_type": "stream",
     "text": [
      "Confusion Matrix (Act/Pred) for max f1 @ threshold = 0.43968903074555216: \n"
     ]
    },
    {
     "data": {
      "text/html": [
       "<div style=\"overflow:auto\"><table style=\"width:50%\"><tr><td><b></b></td>\n",
       "<td><b>0</b></td>\n",
       "<td><b>1</b></td>\n",
       "<td><b>Error</b></td>\n",
       "<td><b>Rate</b></td></tr>\n",
       "<tr><td>0</td>\n",
       "<td>2277.0</td>\n",
       "<td>1935.0</td>\n",
       "<td>0.4594</td>\n",
       "<td> (1935.0/4212.0)</td></tr>\n",
       "<tr><td>1</td>\n",
       "<td>492.0</td>\n",
       "<td>6448.0</td>\n",
       "<td>0.0709</td>\n",
       "<td> (492.0/6940.0)</td></tr>\n",
       "<tr><td>Total</td>\n",
       "<td>2769.0</td>\n",
       "<td>8383.0</td>\n",
       "<td>0.2176</td>\n",
       "<td> (2427.0/11152.0)</td></tr></table></div>"
      ],
      "text/plain": [
       "       0     1     Error    Rate\n",
       "-----  ----  ----  -------  ----------------\n",
       "0      2277  1935  0.4594   (1935.0/4212.0)\n",
       "1      492   6448  0.0709   (492.0/6940.0)\n",
       "Total  2769  8383  0.2176   (2427.0/11152.0)"
      ]
     },
     "metadata": {},
     "output_type": "display_data"
    },
    {
     "data": {
      "text/plain": []
     },
     "execution_count": 89,
     "metadata": {},
     "output_type": "execute_result"
    }
   ],
   "source": [
    "gbm.confusion_matrix(valid=True)"
   ]
  },
  {
   "cell_type": "code",
   "execution_count": 90,
   "metadata": {},
   "outputs": [
    {
     "data": {
      "text/plain": [
       "{'train': 0.4443099439519338, 'valid': 0.3584712380106454}"
      ]
     },
     "execution_count": 90,
     "metadata": {},
     "output_type": "execute_result"
    }
   ],
   "source": [
    "gbm.r2(train=True, valid=True)"
   ]
  },
  {
   "cell_type": "code",
   "execution_count": 34,
   "metadata": {},
   "outputs": [],
   "source": [
    "# h2o.cluster().shutdown()"
   ]
  },
  {
   "cell_type": "code",
   "execution_count": null,
   "metadata": {},
   "outputs": [],
   "source": []
  },
  {
   "cell_type": "code",
   "execution_count": null,
   "metadata": {},
   "outputs": [],
   "source": []
  }
 ],
 "metadata": {
  "kernelspec": {
   "display_name": "Python 3",
   "language": "python",
   "name": "python3"
  },
  "language_info": {
   "codemirror_mode": {
    "name": "ipython",
    "version": 3
   },
   "file_extension": ".py",
   "mimetype": "text/x-python",
   "name": "python",
   "nbconvert_exporter": "python",
   "pygments_lexer": "ipython3",
   "version": "3.7.2"
  },
  "toc": {
   "base_numbering": 1,
   "nav_menu": {},
   "number_sections": false,
   "sideBar": true,
   "skip_h1_title": false,
   "title_cell": "Table of Contents",
   "title_sidebar": "Contents",
   "toc_cell": false,
   "toc_position": {
    "height": "calc(100% - 180px)",
    "left": "10px",
    "top": "150px",
    "width": "336px"
   },
   "toc_section_display": true,
   "toc_window_display": true
  },
  "varInspector": {
   "cols": {
    "lenName": 16,
    "lenType": 16,
    "lenVar": 40
   },
   "kernels_config": {
    "python": {
     "delete_cmd_postfix": "",
     "delete_cmd_prefix": "del ",
     "library": "var_list.py",
     "varRefreshCmd": "print(var_dic_list())"
    },
    "r": {
     "delete_cmd_postfix": ") ",
     "delete_cmd_prefix": "rm(",
     "library": "var_list.r",
     "varRefreshCmd": "cat(var_dic_list()) "
    }
   },
   "types_to_exclude": [
    "module",
    "function",
    "builtin_function_or_method",
    "instance",
    "_Feature"
   ],
   "window_display": false
  }
 },
 "nbformat": 4,
 "nbformat_minor": 2
}
