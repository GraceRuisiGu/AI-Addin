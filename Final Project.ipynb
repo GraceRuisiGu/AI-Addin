{
 "cells": [
  {
   "cell_type": "code",
   "execution_count": 1,
   "metadata": {},
   "outputs": [],
   "source": [
    "import h2o\n",
    "import operator\n",
    "from h2o.automl import H2OAutoML\n",
    "import random, os, sys\n",
    "from datetime import datetime\n",
    "import pandas as pd\n",
    "import logging\n",
    "import csv\n",
    "import optparse\n",
    "import time\n",
    "import json\n",
    "from distutils.util import strtobool\n",
    "import psutil\n",
    "import numpy as np\n",
    "from matplotlib import pyplot as plt\n",
    "import warnings\n",
    "from h2o.estimators.glm import H2OGeneralizedLinearEstimator\n",
    "from h2o.estimators import H2OGradientBoostingEstimator\n",
    "warnings.filterwarnings(\"ignore\")"
   ]
  },
  {
   "cell_type": "markdown",
   "metadata": {},
   "source": [
    "# 1 Data Preparation"
   ]
  },
  {
   "cell_type": "markdown",
   "metadata": {},
   "source": [
    "## 1.1 H2O Initialization"
   ]
  },
  {
   "cell_type": "code",
   "execution_count": 2,
   "metadata": {},
   "outputs": [
    {
     "name": "stdout",
     "output_type": "stream",
     "text": [
      "37\n"
     ]
    }
   ],
   "source": [
    "pct_memory=4\n",
    "virtual_memory=psutil.virtual_memory()\n",
    "min_mem_size=int(round(int(pct_memory*virtual_memory.available)/1073741824,0))\n",
    "print(min_mem_size)"
   ]
  },
  {
   "cell_type": "code",
   "execution_count": 3,
   "metadata": {},
   "outputs": [
    {
     "name": "stdout",
     "output_type": "stream",
     "text": [
      "Checking whether there is an H2O instance running at http://localhost:54321 ..... not found.\n",
      "Attempting to start a local H2O server...\n",
      "  Java Version: java version \"10.0.2\" 2018-07-17; Java(TM) SE Runtime Environment 18.3 (build 10.0.2+13); Java HotSpot(TM) 64-Bit Server VM 18.3 (build 10.0.2+13, mixed mode)\n",
      "  Starting server from /anaconda3/lib/python3.7/site-packages/h2o/backend/bin/h2o.jar\n",
      "  Ice root: /var/folders/5l/qqvypzcs2sjbbnhb777lxczh0000gn/T/tmptwrh2joi\n",
      "  JVM stdout: /var/folders/5l/qqvypzcs2sjbbnhb777lxczh0000gn/T/tmptwrh2joi/h2o_mandy_started_from_python.out\n",
      "  JVM stderr: /var/folders/5l/qqvypzcs2sjbbnhb777lxczh0000gn/T/tmptwrh2joi/h2o_mandy_started_from_python.err\n",
      "  Server is running at http://127.0.0.1:54321\n",
      "Connecting to H2O server at http://127.0.0.1:54321 ... successful.\n"
     ]
    },
    {
     "data": {
      "text/html": [
       "<div style=\"overflow:auto\"><table style=\"width:50%\"><tr><td>H2O cluster uptime:</td>\n",
       "<td>01 secs</td></tr>\n",
       "<tr><td>H2O cluster timezone:</td>\n",
       "<td>America/New_York</td></tr>\n",
       "<tr><td>H2O data parsing timezone:</td>\n",
       "<td>UTC</td></tr>\n",
       "<tr><td>H2O cluster version:</td>\n",
       "<td>3.24.0.1</td></tr>\n",
       "<tr><td>H2O cluster version age:</td>\n",
       "<td>21 days, 14 hours and 57 minutes </td></tr>\n",
       "<tr><td>H2O cluster name:</td>\n",
       "<td>H2O_from_python_mandy_v0rqbc</td></tr>\n",
       "<tr><td>H2O cluster total nodes:</td>\n",
       "<td>1</td></tr>\n",
       "<tr><td>H2O cluster free memory:</td>\n",
       "<td>37 Gb</td></tr>\n",
       "<tr><td>H2O cluster total cores:</td>\n",
       "<td>12</td></tr>\n",
       "<tr><td>H2O cluster allowed cores:</td>\n",
       "<td>12</td></tr>\n",
       "<tr><td>H2O cluster status:</td>\n",
       "<td>accepting new members, healthy</td></tr>\n",
       "<tr><td>H2O connection url:</td>\n",
       "<td>http://127.0.0.1:54321</td></tr>\n",
       "<tr><td>H2O connection proxy:</td>\n",
       "<td>None</td></tr>\n",
       "<tr><td>H2O internal security:</td>\n",
       "<td>False</td></tr>\n",
       "<tr><td>H2O API Extensions:</td>\n",
       "<td>Amazon S3, XGBoost, Algos, AutoML, Core V3, Core V4</td></tr>\n",
       "<tr><td>Python version:</td>\n",
       "<td>3.7.2 final</td></tr></table></div>"
      ],
      "text/plain": [
       "--------------------------  ---------------------------------------------------\n",
       "H2O cluster uptime:         01 secs\n",
       "H2O cluster timezone:       America/New_York\n",
       "H2O data parsing timezone:  UTC\n",
       "H2O cluster version:        3.24.0.1\n",
       "H2O cluster version age:    21 days, 14 hours and 57 minutes\n",
       "H2O cluster name:           H2O_from_python_mandy_v0rqbc\n",
       "H2O cluster total nodes:    1\n",
       "H2O cluster free memory:    37 Gb\n",
       "H2O cluster total cores:    12\n",
       "H2O cluster allowed cores:  12\n",
       "H2O cluster status:         accepting new members, healthy\n",
       "H2O connection url:         http://127.0.0.1:54321\n",
       "H2O connection proxy:\n",
       "H2O internal security:      False\n",
       "H2O API Extensions:         Amazon S3, XGBoost, Algos, AutoML, Core V3, Core V4\n",
       "Python version:             3.7.2 final\n",
       "--------------------------  ---------------------------------------------------"
      ]
     },
     "metadata": {},
     "output_type": "display_data"
    }
   ],
   "source": [
    "h2o.init(strict_version_check=False,max_mem_size=min_mem_size)"
   ]
  },
  {
   "cell_type": "markdown",
   "metadata": {},
   "source": [
    "## 1.2 Data Import & Parse"
   ]
  },
  {
   "cell_type": "code",
   "execution_count": 4,
   "metadata": {},
   "outputs": [
    {
     "name": "stdout",
     "output_type": "stream",
     "text": [
      "Parse progress: |█████████████████████████████████████████████████████████| 100%\n"
     ]
    }
   ],
   "source": [
    "data_path = \"AmazonReviews.Small.csv\"\n",
    "\n",
    "# Load data into H2O\n",
    "reviews = h2o.import_file(data_path)"
   ]
  },
  {
   "cell_type": "code",
   "execution_count": 5,
   "metadata": {},
   "outputs": [
    {
     "data": {
      "text/plain": [
       "(55554, 10)"
      ]
     },
     "execution_count": 5,
     "metadata": {},
     "output_type": "execute_result"
    }
   ],
   "source": [
    "reviews.shape"
   ]
  },
  {
   "cell_type": "code",
   "execution_count": 6,
   "metadata": {
    "scrolled": false
   },
   "outputs": [
    {
     "data": {
      "text/html": [
       "<table>\n",
       "<thead>\n",
       "<tr><th>ProductId  </th><th>UserId        </th><th>Summary                     </th><th style=\"text-align: right;\">  Score</th><th style=\"text-align: right;\">  HelpfulnessDenominator</th><th style=\"text-align: right;\">    Id</th><th>ProfileName        </th><th style=\"text-align: right;\">  HelpfulnessNumerator</th><th style=\"text-align: right;\">       Time</th><th>Text                                                                                                                                                                                                                                                                                                                                                                            </th></tr>\n",
       "</thead>\n",
       "<tbody>\n",
       "<tr><td>B00141QYSQ </td><td>A1YS02UZZGRDCT</td><td>Do Not Buy                  </td><td style=\"text-align: right;\">      1</td><td style=\"text-align: right;\">                       2</td><td style=\"text-align: right;\"> 41471</td><td>Evan Eberhardt     </td><td style=\"text-align: right;\">                     2</td><td style=\"text-align: right;\">1.34836e+09</td><td>These are made in China (do not buy ANY pet food from China).  Dogswell has been using propylene glycol to soften their treats (what are they thinkng?).  Do not purchase or support this company in any way until they clean up their act.  And for whatever reason Amazon doesn't allow returns of this item, so I had to toss mine out.  Bad business all around on this one.</td></tr>\n",
       "<tr><td>B0089SPEO2 </td><td>A3JOYNYL458QHP</td><td>Less lemon and less zing    </td><td style=\"text-align: right;\">      3</td><td style=\"text-align: right;\">                       0</td><td style=\"text-align: right;\"> 28582</td><td>coleridge          </td><td style=\"text-align: right;\">                     0</td><td style=\"text-align: right;\">1.32391e+09</td><td>Everything is ok, except it just isn't as good as it is in the bags.  Just considerably more bland -- less lemon and less zing.  Boring.                                                                                                                                                                                                                                        </td></tr>\n",
       "<tr><td>B001PMCDK2 </td><td>A14TTMM0Z03Y2W</td><td>my cat goes crazy for these!</td><td style=\"text-align: right;\">      5</td><td style=\"text-align: right;\">                       0</td><td style=\"text-align: right;\">389965</td><td>Lindsay S. Bradford</td><td style=\"text-align: right;\">                     0</td><td style=\"text-align: right;\">1.3106e+09 </td><td>Best cat treat ever. There isn't anything comparable to the love my cat has for these treats, he snubs away any other kind now.<br />I know he likes to manipulate me with his cattiness but these treats are my way of manipulating him to come sit on my lap and have some chill time. :)                                                                                     </td></tr>\n",
       "</tbody>\n",
       "</table>"
      ]
     },
     "metadata": {},
     "output_type": "display_data"
    },
    {
     "data": {
      "text/plain": []
     },
     "execution_count": 6,
     "metadata": {},
     "output_type": "execute_result"
    }
   ],
   "source": [
    "reviews.head(3)"
   ]
  },
  {
   "cell_type": "code",
   "execution_count": 7,
   "metadata": {},
   "outputs": [
    {
     "name": "stdout",
     "output_type": "stream",
     "text": [
      "{'ProductId': 'enum', 'UserId': 'enum', 'Summary': 'enum', 'Score': 'int', 'HelpfulnessDenominator': 'int', 'Id': 'int', 'ProfileName': 'enum', 'HelpfulnessNumerator': 'int', 'Time': 'int', 'Text': 'string'}\n"
     ]
    }
   ],
   "source": [
    "print(reviews.types)"
   ]
  },
  {
   "cell_type": "code",
   "execution_count": 8,
   "metadata": {},
   "outputs": [],
   "source": [
    "reviews['PositiveReview']=(reviews['Score']>=reviews['Score'].mean()[0]).ifelse('1','0')"
   ]
  },
  {
   "cell_type": "code",
   "execution_count": 9,
   "metadata": {},
   "outputs": [
    {
     "data": {
      "text/html": [
       "<table>\n",
       "<thead>\n",
       "<tr><th style=\"text-align: right;\">  PositiveReview</th><th style=\"text-align: right;\">  Count</th></tr>\n",
       "</thead>\n",
       "<tbody>\n",
       "<tr><td style=\"text-align: right;\">               0</td><td style=\"text-align: right;\">  20106</td></tr>\n",
       "<tr><td style=\"text-align: right;\">               1</td><td style=\"text-align: right;\">  35448</td></tr>\n",
       "</tbody>\n",
       "</table>"
      ]
     },
     "metadata": {},
     "output_type": "display_data"
    },
    {
     "data": {
      "text/plain": []
     },
     "execution_count": 9,
     "metadata": {},
     "output_type": "execute_result"
    }
   ],
   "source": [
    "reviews['PositiveReview'].table()"
   ]
  },
  {
   "cell_type": "code",
   "execution_count": 10,
   "metadata": {},
   "outputs": [],
   "source": [
    "# Find the 80th quantile of time in the dataset\n",
    "time_split = reviews[\"Time\"].quantile(prob = [0.8])[1]\n",
    "reviews[\"Train\"] = (reviews[\"Time\"] < time_split).ifelse(\"Yes\", \"No\")"
   ]
  },
  {
   "cell_type": "code",
   "execution_count": 11,
   "metadata": {},
   "outputs": [
    {
     "data": {
      "text/html": [
       "<table>\n",
       "<thead>\n",
       "<tr><th>Train  </th><th style=\"text-align: right;\">  Count</th></tr>\n",
       "</thead>\n",
       "<tbody>\n",
       "<tr><td>No     </td><td style=\"text-align: right;\">  11152</td></tr>\n",
       "<tr><td>Yes    </td><td style=\"text-align: right;\">  44402</td></tr>\n",
       "</tbody>\n",
       "</table>"
      ]
     },
     "metadata": {},
     "output_type": "display_data"
    },
    {
     "data": {
      "text/plain": []
     },
     "execution_count": 11,
     "metadata": {},
     "output_type": "execute_result"
    }
   ],
   "source": [
    "reviews['Train'].table()"
   ]
  },
  {
   "cell_type": "code",
   "execution_count": 12,
   "metadata": {},
   "outputs": [],
   "source": [
    "train = reviews[reviews[\"Train\"] == \"Yes\"]\n",
    "test = reviews[reviews[\"Train\"] == \"No\"]"
   ]
  },
  {
   "cell_type": "markdown",
   "metadata": {},
   "source": [
    "## 1.3 Tokenize Words in Review"
   ]
  },
  {
   "cell_type": "code",
   "execution_count": 13,
   "metadata": {},
   "outputs": [],
   "source": [
    "data_path = \"stopwords.csv\"\n",
    "STOP_WORDS = pd.read_csv(data_path, header=0)"
   ]
  },
  {
   "cell_type": "code",
   "execution_count": 14,
   "metadata": {},
   "outputs": [
    {
     "data": {
      "text/html": [
       "<div>\n",
       "<style scoped>\n",
       "    .dataframe tbody tr th:only-of-type {\n",
       "        vertical-align: middle;\n",
       "    }\n",
       "\n",
       "    .dataframe tbody tr th {\n",
       "        vertical-align: top;\n",
       "    }\n",
       "\n",
       "    .dataframe thead th {\n",
       "        text-align: right;\n",
       "    }\n",
       "</style>\n",
       "<table border=\"1\" class=\"dataframe\">\n",
       "  <thead>\n",
       "    <tr style=\"text-align: right;\">\n",
       "      <th></th>\n",
       "      <th>STOP_WORD</th>\n",
       "    </tr>\n",
       "  </thead>\n",
       "  <tbody>\n",
       "    <tr>\n",
       "      <th>0</th>\n",
       "      <td>all</td>\n",
       "    </tr>\n",
       "    <tr>\n",
       "      <th>1</th>\n",
       "      <td>just</td>\n",
       "    </tr>\n",
       "    <tr>\n",
       "      <th>2</th>\n",
       "      <td>being</td>\n",
       "    </tr>\n",
       "    <tr>\n",
       "      <th>3</th>\n",
       "      <td>over</td>\n",
       "    </tr>\n",
       "    <tr>\n",
       "      <th>4</th>\n",
       "      <td>both</td>\n",
       "    </tr>\n",
       "  </tbody>\n",
       "</table>\n",
       "</div>"
      ],
      "text/plain": [
       "  STOP_WORD\n",
       "0       all\n",
       "1      just\n",
       "2     being\n",
       "3      over\n",
       "4      both"
      ]
     },
     "execution_count": 14,
     "metadata": {},
     "output_type": "execute_result"
    }
   ],
   "source": [
    "STOP_WORDS.head()"
   ]
  },
  {
   "cell_type": "code",
   "execution_count": 15,
   "metadata": {},
   "outputs": [],
   "source": [
    "STOP_WORDS = list(STOP_WORDS['STOP_WORD'])"
   ]
  },
  {
   "cell_type": "code",
   "execution_count": 16,
   "metadata": {},
   "outputs": [],
   "source": [
    "def tokenize(sentences, stop_word = STOP_WORDS):\n",
    "    tokenized = sentences.tokenize(\"\\\\W+\")\n",
    "    tokenized_lower = tokenized.tolower()\n",
    "    tokenized_filtered = tokenized_lower[(tokenized_lower.nchar() >= 2) | (tokenized_lower.isna()),:]\n",
    "    tokenized_words = tokenized_filtered[tokenized_filtered.grep(\"[0-9]\",invert=True,output_logical=True),:]\n",
    "    tokenized_words = tokenized_words[(tokenized_words.isna()) | (~ tokenized_words.isin(STOP_WORDS)),:]\n",
    "    return tokenized_words"
   ]
  },
  {
   "cell_type": "code",
   "execution_count": 17,
   "metadata": {},
   "outputs": [],
   "source": [
    "# Break reviews into sequence of words\n",
    "words = tokenize(reviews[\"Text\"])"
   ]
  },
  {
   "cell_type": "code",
   "execution_count": 18,
   "metadata": {},
   "outputs": [
    {
     "data": {
      "text/html": [
       "<table>\n",
       "<thead>\n",
       "<tr><th>C1       </th></tr>\n",
       "</thead>\n",
       "<tbody>\n",
       "<tr><td>made     </td></tr>\n",
       "<tr><td>china    </td></tr>\n",
       "<tr><td>buy      </td></tr>\n",
       "<tr><td>pet      </td></tr>\n",
       "<tr><td>food     </td></tr>\n",
       "<tr><td>china    </td></tr>\n",
       "<tr><td>dogswell </td></tr>\n",
       "<tr><td>using    </td></tr>\n",
       "<tr><td>propylene</td></tr>\n",
       "<tr><td>glycol   </td></tr>\n",
       "</tbody>\n",
       "</table>"
      ]
     },
     "metadata": {},
     "output_type": "display_data"
    },
    {
     "data": {
      "text/plain": []
     },
     "execution_count": 18,
     "metadata": {},
     "output_type": "execute_result"
    }
   ],
   "source": [
    "words.head()"
   ]
  },
  {
   "cell_type": "markdown",
   "metadata": {},
   "source": [
    "## 1.4 Word2Vec Model"
   ]
  },
  {
   "cell_type": "code",
   "execution_count": 19,
   "metadata": {},
   "outputs": [
    {
     "name": "stdout",
     "output_type": "stream",
     "text": [
      "word2vec Model Build progress: |██████████████████████████████████████████| 100%\n"
     ]
    },
    {
     "data": {
      "text/plain": [
       "'/Users/mandy/Documents/Study/AI-Addin/data/w2v.hex'"
      ]
     },
     "execution_count": 19,
     "metadata": {},
     "output_type": "execute_result"
    }
   ],
   "source": [
    "# Train Word2Vec Model\n",
    "from h2o.estimators.word2vec import H2OWord2vecEstimator\n",
    "\n",
    "\n",
    "w2v_model = H2OWord2vecEstimator(vec_size = 100, model_id = \"w2v.hex\")\n",
    "w2v_model.train(training_frame=words)\n",
    "\n",
    "models_path='data'\n",
    "h2o.save_model(w2v_model, path = models_path, force = True)"
   ]
  },
  {
   "cell_type": "code",
   "execution_count": 20,
   "metadata": {},
   "outputs": [
    {
     "data": {
      "text/plain": [
       "OrderedDict([('coffees', 0.7738841772079468),\n",
       "             ('coffe', 0.7706735134124756),\n",
       "             ('espresso', 0.7543292045593262),\n",
       "             ('brew', 0.7464786767959595),\n",
       "             ('decaf', 0.7248576879501343)])"
      ]
     },
     "execution_count": 20,
     "metadata": {},
     "output_type": "execute_result"
    }
   ],
   "source": [
    "# Sanity check - find synonyms for the word 'coffee'\n",
    "w2v_model.find_synonyms(\"coffee\", count = 5)"
   ]
  },
  {
   "cell_type": "code",
   "execution_count": 21,
   "metadata": {},
   "outputs": [
    {
     "data": {
      "text/plain": [
       "OrderedDict([('rancid', 0.6796302199363708),\n",
       "             ('unedible', 0.6286389231681824),\n",
       "             ('moldy', 0.6233909130096436),\n",
       "             ('expired', 0.6204707026481628),\n",
       "             ('tasteless', 0.6148790121078491)])"
      ]
     },
     "execution_count": 21,
     "metadata": {},
     "output_type": "execute_result"
    }
   ],
   "source": [
    "# Sanity check - find synonyms for the word 'stale'\n",
    "w2v_model.find_synonyms(\"stale\", count = 5)"
   ]
  },
  {
   "cell_type": "code",
   "execution_count": 22,
   "metadata": {},
   "outputs": [
    {
     "data": {
      "text/html": [
       "<table>\n",
       "<thead>\n",
       "<tr><th style=\"text-align: right;\">          C1</th><th style=\"text-align: right;\">         C2</th><th style=\"text-align: right;\">        C3</th><th style=\"text-align: right;\">        C4</th><th style=\"text-align: right;\">        C5</th><th style=\"text-align: right;\">         C6</th><th style=\"text-align: right;\">        C7</th><th style=\"text-align: right;\">        C8</th><th style=\"text-align: right;\">        C9</th><th style=\"text-align: right;\">       C10</th><th style=\"text-align: right;\">        C11</th><th style=\"text-align: right;\">        C12</th><th style=\"text-align: right;\">        C13</th><th style=\"text-align: right;\">       C14</th><th style=\"text-align: right;\">        C15</th><th style=\"text-align: right;\">        C16</th><th style=\"text-align: right;\">      C17</th><th style=\"text-align: right;\">       C18</th><th style=\"text-align: right;\">       C19</th><th style=\"text-align: right;\">        C20</th><th style=\"text-align: right;\">        C21</th><th style=\"text-align: right;\">       C22</th><th style=\"text-align: right;\">     C23</th><th style=\"text-align: right;\">       C24</th><th style=\"text-align: right;\">       C25</th><th style=\"text-align: right;\">         C26</th><th style=\"text-align: right;\">       C27</th><th style=\"text-align: right;\">      C28</th><th style=\"text-align: right;\">       C29</th><th style=\"text-align: right;\">       C30</th><th style=\"text-align: right;\">       C31</th><th style=\"text-align: right;\">      C32</th><th style=\"text-align: right;\">       C33</th><th style=\"text-align: right;\">       C34</th><th style=\"text-align: right;\">        C35</th><th style=\"text-align: right;\">       C36</th><th style=\"text-align: right;\">       C37</th><th style=\"text-align: right;\">        C38</th><th style=\"text-align: right;\">       C39</th><th style=\"text-align: right;\">        C40</th><th style=\"text-align: right;\">       C41</th><th style=\"text-align: right;\">       C42</th><th style=\"text-align: right;\">       C43</th><th style=\"text-align: right;\">       C44</th><th style=\"text-align: right;\">       C45</th><th style=\"text-align: right;\">        C46</th><th style=\"text-align: right;\">       C47</th><th style=\"text-align: right;\">        C48</th><th style=\"text-align: right;\">       C49</th><th style=\"text-align: right;\">        C50</th><th style=\"text-align: right;\">     C51</th><th style=\"text-align: right;\">        C52</th><th style=\"text-align: right;\">      C53</th><th style=\"text-align: right;\">       C54</th><th style=\"text-align: right;\">       C55</th><th style=\"text-align: right;\">        C56</th><th style=\"text-align: right;\">         C57</th><th style=\"text-align: right;\">       C58</th><th style=\"text-align: right;\">        C59</th><th style=\"text-align: right;\">        C60</th><th style=\"text-align: right;\">        C61</th><th style=\"text-align: right;\">      C62</th><th style=\"text-align: right;\">       C63</th><th style=\"text-align: right;\">       C64</th><th style=\"text-align: right;\">        C65</th><th style=\"text-align: right;\">       C66</th><th style=\"text-align: right;\">        C67</th><th style=\"text-align: right;\">        C68</th><th style=\"text-align: right;\">        C69</th><th style=\"text-align: right;\">        C70</th><th style=\"text-align: right;\">       C71</th><th style=\"text-align: right;\">       C72</th><th style=\"text-align: right;\">       C73</th><th style=\"text-align: right;\">        C74</th><th style=\"text-align: right;\">       C75</th><th style=\"text-align: right;\">       C76</th><th style=\"text-align: right;\">        C77</th><th style=\"text-align: right;\">       C78</th><th style=\"text-align: right;\">         C79</th><th style=\"text-align: right;\">       C80</th><th style=\"text-align: right;\">         C81</th><th style=\"text-align: right;\">         C82</th><th style=\"text-align: right;\">        C83</th><th style=\"text-align: right;\">       C84</th><th style=\"text-align: right;\">        C85</th><th style=\"text-align: right;\">       C86</th><th style=\"text-align: right;\">       C87</th><th style=\"text-align: right;\">       C88</th><th style=\"text-align: right;\">        C89</th><th style=\"text-align: right;\">        C90</th><th style=\"text-align: right;\">       C91</th><th style=\"text-align: right;\">         C92</th><th style=\"text-align: right;\">      C93</th><th style=\"text-align: right;\">       C94</th><th style=\"text-align: right;\">       C95</th><th style=\"text-align: right;\">       C96</th><th style=\"text-align: right;\">        C97</th><th style=\"text-align: right;\">      C98</th><th style=\"text-align: right;\">       C99</th><th style=\"text-align: right;\">       C100</th></tr>\n",
       "</thead>\n",
       "<tbody>\n",
       "<tr><td style=\"text-align: right;\">-0.0122179  </td><td style=\"text-align: right;\">-0.0502994 </td><td style=\"text-align: right;\"> 0.0218073</td><td style=\"text-align: right;\">-0.0164256</td><td style=\"text-align: right;\"> 0.0656912</td><td style=\"text-align: right;\"> 0.0654515 </td><td style=\"text-align: right;\"> 0.0828205</td><td style=\"text-align: right;\">-0.290214 </td><td style=\"text-align: right;\"> 0.101126 </td><td style=\"text-align: right;\">-0.0493187</td><td style=\"text-align: right;\">-0.00657813</td><td style=\"text-align: right;\"> 0.0555338 </td><td style=\"text-align: right;\"> 0.0792124 </td><td style=\"text-align: right;\"> 0.0862025</td><td style=\"text-align: right;\"> 0.0570924 </td><td style=\"text-align: right;\">-0.113151  </td><td style=\"text-align: right;\">0.11962  </td><td style=\"text-align: right;\">-0.0701777</td><td style=\"text-align: right;\">-0.185091 </td><td style=\"text-align: right;\"> 0.0567195 </td><td style=\"text-align: right;\">-0.0798927 </td><td style=\"text-align: right;\">-0.174119 </td><td style=\"text-align: right;\">0.17994 </td><td style=\"text-align: right;\">0.137418  </td><td style=\"text-align: right;\"> 0.212948 </td><td style=\"text-align: right;\"> 0.310326   </td><td style=\"text-align: right;\"> 0.0819299</td><td style=\"text-align: right;\">0.107297 </td><td style=\"text-align: right;\">-0.13724  </td><td style=\"text-align: right;\"> 0.0275202</td><td style=\"text-align: right;\"> 0.103236 </td><td style=\"text-align: right;\">0.149899 </td><td style=\"text-align: right;\"> 0.158365 </td><td style=\"text-align: right;\">-0.209154 </td><td style=\"text-align: right;\">-0.058551  </td><td style=\"text-align: right;\">0.103407  </td><td style=\"text-align: right;\"> 0.0855044</td><td style=\"text-align: right;\">-0.0517969 </td><td style=\"text-align: right;\"> 0.0155602</td><td style=\"text-align: right;\">-0.0373277 </td><td style=\"text-align: right;\"> 0.0484065</td><td style=\"text-align: right;\">-0.0469061</td><td style=\"text-align: right;\"> 0.028627 </td><td style=\"text-align: right;\">-0.10547  </td><td style=\"text-align: right;\">-0.0812122</td><td style=\"text-align: right;\"> 0.0667717 </td><td style=\"text-align: right;\"> 0.028552 </td><td style=\"text-align: right;\"> 0.0907446 </td><td style=\"text-align: right;\">-0.0296406</td><td style=\"text-align: right;\"> 0.089977  </td><td style=\"text-align: right;\">0.111156</td><td style=\"text-align: right;\"> 0.0475175 </td><td style=\"text-align: right;\">0.0112141</td><td style=\"text-align: right;\"> 0.0136322</td><td style=\"text-align: right;\">0.00635814</td><td style=\"text-align: right;\">-0.0597562 </td><td style=\"text-align: right;\">-0.0859784  </td><td style=\"text-align: right;\"> 0.0885865</td><td style=\"text-align: right;\">-0.0434813 </td><td style=\"text-align: right;\">-0.0501226 </td><td style=\"text-align: right;\">-0.137153  </td><td style=\"text-align: right;\">0.183778 </td><td style=\"text-align: right;\">-0.185748 </td><td style=\"text-align: right;\">-0.165112 </td><td style=\"text-align: right;\"> 0.00767798</td><td style=\"text-align: right;\">-0.0651262</td><td style=\"text-align: right;\"> 0.0169025 </td><td style=\"text-align: right;\"> 0.0384777 </td><td style=\"text-align: right;\"> 0.0542043 </td><td style=\"text-align: right;\"> 0.118894  </td><td style=\"text-align: right;\">-0.0289208</td><td style=\"text-align: right;\">-0.0138593</td><td style=\"text-align: right;\"> 0.295354 </td><td style=\"text-align: right;\"> 0.131343  </td><td style=\"text-align: right;\">-0.0566233</td><td style=\"text-align: right;\"> 0.0349508</td><td style=\"text-align: right;\"> 0.00346211</td><td style=\"text-align: right;\"> 0.115903 </td><td style=\"text-align: right;\">-0.0173776  </td><td style=\"text-align: right;\">-0.0946242</td><td style=\"text-align: right;\"> 0.205655   </td><td style=\"text-align: right;\"> 0.038784   </td><td style=\"text-align: right;\"> 0.173744  </td><td style=\"text-align: right;\"> 0.122513 </td><td style=\"text-align: right;\">-0.0884568 </td><td style=\"text-align: right;\">-0.139343 </td><td style=\"text-align: right;\"> 0.063547 </td><td style=\"text-align: right;\"> 0.0585479</td><td style=\"text-align: right;\"> 0.0103606 </td><td style=\"text-align: right;\">-0.013254  </td><td style=\"text-align: right;\">-0.0727496</td><td style=\"text-align: right;\"> 0.00631874 </td><td style=\"text-align: right;\">-0.208654</td><td style=\"text-align: right;\"> 0.0899552</td><td style=\"text-align: right;\">-0.0041275</td><td style=\"text-align: right;\">-0.0873403</td><td style=\"text-align: right;\">-0.0595115 </td><td style=\"text-align: right;\">0.0643746</td><td style=\"text-align: right;\"> 0.0183462</td><td style=\"text-align: right;\"> 0.0306298 </td></tr>\n",
       "<tr><td style=\"text-align: right;\"> 0.0954537  </td><td style=\"text-align: right;\">-0.00767106</td><td style=\"text-align: right;\">-0.0844922</td><td style=\"text-align: right;\"> 0.162538 </td><td style=\"text-align: right;\"> 0.0689488</td><td style=\"text-align: right;\"> 0.0946931 </td><td style=\"text-align: right;\"> 0.0639001</td><td style=\"text-align: right;\">-0.164788 </td><td style=\"text-align: right;\"> 0.0116408</td><td style=\"text-align: right;\"> 0.0293042</td><td style=\"text-align: right;\"> 0.116719  </td><td style=\"text-align: right;\"> 0.0832366 </td><td style=\"text-align: right;\">-0.0641017 </td><td style=\"text-align: right;\"> 0.0499295</td><td style=\"text-align: right;\"> 0.00483758</td><td style=\"text-align: right;\"> 0.0197933 </td><td style=\"text-align: right;\">0.106931 </td><td style=\"text-align: right;\">-0.0302717</td><td style=\"text-align: right;\">-0.342306 </td><td style=\"text-align: right;\"> 0.0868531 </td><td style=\"text-align: right;\"> 0.0333891 </td><td style=\"text-align: right;\">-0.181619 </td><td style=\"text-align: right;\">0.161322</td><td style=\"text-align: right;\">0.0415296 </td><td style=\"text-align: right;\">-0.115911 </td><td style=\"text-align: right;\">-0.000308342</td><td style=\"text-align: right;\">-0.036611 </td><td style=\"text-align: right;\">0.242438 </td><td style=\"text-align: right;\"> 0.0779001</td><td style=\"text-align: right;\">-0.0166447</td><td style=\"text-align: right;\">-0.0263826</td><td style=\"text-align: right;\">0.0880389</td><td style=\"text-align: right;\"> 0.132673 </td><td style=\"text-align: right;\">-0.133066 </td><td style=\"text-align: right;\">-0.193412  </td><td style=\"text-align: right;\">0.00541177</td><td style=\"text-align: right;\"> 0.0285736</td><td style=\"text-align: right;\">-0.00442676</td><td style=\"text-align: right;\">-0.0138734</td><td style=\"text-align: right;\">-0.0893766 </td><td style=\"text-align: right;\">-0.0832792</td><td style=\"text-align: right;\">-0.0364172</td><td style=\"text-align: right;\"> 0.10606  </td><td style=\"text-align: right;\">-0.0468201</td><td style=\"text-align: right;\"> 0.0140402</td><td style=\"text-align: right;\">-0.0570401 </td><td style=\"text-align: right;\">-0.202029 </td><td style=\"text-align: right;\">-0.055616  </td><td style=\"text-align: right;\">-0.20974  </td><td style=\"text-align: right;\">-0.0110488 </td><td style=\"text-align: right;\">0.302709</td><td style=\"text-align: right;\">-0.110085  </td><td style=\"text-align: right;\">0.21333  </td><td style=\"text-align: right;\"> 0.124271 </td><td style=\"text-align: right;\">0.126975  </td><td style=\"text-align: right;\"> 0.0758298 </td><td style=\"text-align: right;\"> 0.0352949  </td><td style=\"text-align: right;\"> 0.0118021</td><td style=\"text-align: right;\"> 0.102881  </td><td style=\"text-align: right;\"> 0.108014  </td><td style=\"text-align: right;\"> 0.122041  </td><td style=\"text-align: right;\">0.213534 </td><td style=\"text-align: right;\">-0.146178 </td><td style=\"text-align: right;\">-0.0747106</td><td style=\"text-align: right;\"> 0.0325057 </td><td style=\"text-align: right;\">-0.18518  </td><td style=\"text-align: right;\"> 0.0103385 </td><td style=\"text-align: right;\">-0.0377434 </td><td style=\"text-align: right;\"> 0.016926  </td><td style=\"text-align: right;\">-0.053162  </td><td style=\"text-align: right;\"> 0.011068 </td><td style=\"text-align: right;\">-0.0110801</td><td style=\"text-align: right;\"> 0.13462  </td><td style=\"text-align: right;\">-0.0280283 </td><td style=\"text-align: right;\"> 0.103124 </td><td style=\"text-align: right;\"> 0.104072 </td><td style=\"text-align: right;\"> 0.0131332 </td><td style=\"text-align: right;\"> 0.0127396</td><td style=\"text-align: right;\">-0.0219036  </td><td style=\"text-align: right;\">-0.0220267</td><td style=\"text-align: right;\">-0.0581494  </td><td style=\"text-align: right;\"> 0.0462888  </td><td style=\"text-align: right;\">-0.0667474 </td><td style=\"text-align: right;\"> 0.154485 </td><td style=\"text-align: right;\">-0.0175949 </td><td style=\"text-align: right;\">-0.187092 </td><td style=\"text-align: right;\"> 0.0429194</td><td style=\"text-align: right;\"> 0.130966 </td><td style=\"text-align: right;\">-0.0595529 </td><td style=\"text-align: right;\"> 0.00562216</td><td style=\"text-align: right;\">-0.0984785</td><td style=\"text-align: right;\"> 0.0664177  </td><td style=\"text-align: right;\">-0.127467</td><td style=\"text-align: right;\"> 0.118053 </td><td style=\"text-align: right;\"> 0.0282033</td><td style=\"text-align: right;\">-0.153154 </td><td style=\"text-align: right;\">-0.152386  </td><td style=\"text-align: right;\">0.0640156</td><td style=\"text-align: right;\">-0.0868252</td><td style=\"text-align: right;\"> 0.0543536 </td></tr>\n",
       "<tr><td style=\"text-align: right;\"> 0.125585   </td><td style=\"text-align: right;\">-0.032561  </td><td style=\"text-align: right;\"> 0.0499473</td><td style=\"text-align: right;\"> 0.13657  </td><td style=\"text-align: right;\">-0.0506283</td><td style=\"text-align: right;\">-0.0656643 </td><td style=\"text-align: right;\">-0.0554537</td><td style=\"text-align: right;\">-0.128319 </td><td style=\"text-align: right;\"> 0.119599 </td><td style=\"text-align: right;\"> 0.115325 </td><td style=\"text-align: right;\"> 0.0255238 </td><td style=\"text-align: right;\"> 0.0137678 </td><td style=\"text-align: right;\"> 0.00504837</td><td style=\"text-align: right;\"> 0.134345 </td><td style=\"text-align: right;\">-0.0108781 </td><td style=\"text-align: right;\"> 0.0359491 </td><td style=\"text-align: right;\">0.116748 </td><td style=\"text-align: right;\">-0.104321 </td><td style=\"text-align: right;\">-0.0355232</td><td style=\"text-align: right;\">-0.0182232 </td><td style=\"text-align: right;\">-0.15485   </td><td style=\"text-align: right;\">-0.111141 </td><td style=\"text-align: right;\">0.205746</td><td style=\"text-align: right;\">0.0284322 </td><td style=\"text-align: right;\"> 0.120035 </td><td style=\"text-align: right;\"> 0.234782   </td><td style=\"text-align: right;\"> 0.0966786</td><td style=\"text-align: right;\">0.0982171</td><td style=\"text-align: right;\">-0.0588846</td><td style=\"text-align: right;\"> 0.0195272</td><td style=\"text-align: right;\"> 0.0443646</td><td style=\"text-align: right;\">0.13264  </td><td style=\"text-align: right;\"> 0.188489 </td><td style=\"text-align: right;\">-0.207189 </td><td style=\"text-align: right;\">-0.142248  </td><td style=\"text-align: right;\">0.136291  </td><td style=\"text-align: right;\"> 0.195514 </td><td style=\"text-align: right;\">-0.00763438</td><td style=\"text-align: right;\"> 0.0139827</td><td style=\"text-align: right;\">-0.0615404 </td><td style=\"text-align: right;\">-0.0535333</td><td style=\"text-align: right;\">-0.0740881</td><td style=\"text-align: right;\"> 0.0501904</td><td style=\"text-align: right;\"> 0.0447331</td><td style=\"text-align: right;\">-0.172466 </td><td style=\"text-align: right;\"> 0.0127051 </td><td style=\"text-align: right;\">-0.0585925</td><td style=\"text-align: right;\">-0.00254223</td><td style=\"text-align: right;\">-0.0769085</td><td style=\"text-align: right;\"> 0.00120073</td><td style=\"text-align: right;\">0.155888</td><td style=\"text-align: right;\">-0.0158356 </td><td style=\"text-align: right;\">0.0984369</td><td style=\"text-align: right;\">-0.0195577</td><td style=\"text-align: right;\">0.0605884 </td><td style=\"text-align: right;\"> 0.00314969</td><td style=\"text-align: right;\">-0.0157124  </td><td style=\"text-align: right;\">-0.102743 </td><td style=\"text-align: right;\">-0.0874608 </td><td style=\"text-align: right;\">-0.0131776 </td><td style=\"text-align: right;\">-0.0191596 </td><td style=\"text-align: right;\">0.0865571</td><td style=\"text-align: right;\">-0.0948878</td><td style=\"text-align: right;\">-0.186816 </td><td style=\"text-align: right;\">-0.0289401 </td><td style=\"text-align: right;\">-0.105787 </td><td style=\"text-align: right;\"> 0.0467396 </td><td style=\"text-align: right;\">-0.0736471 </td><td style=\"text-align: right;\"> 0.152245  </td><td style=\"text-align: right;\"> 0.0546097 </td><td style=\"text-align: right;\">-0.0104541</td><td style=\"text-align: right;\">-0.0582896</td><td style=\"text-align: right;\"> 0.11861  </td><td style=\"text-align: right;\"> 0.0825033 </td><td style=\"text-align: right;\">-0.061094 </td><td style=\"text-align: right;\"> 0.114842 </td><td style=\"text-align: right;\"> 0.0799547 </td><td style=\"text-align: right;\"> 0.0996857</td><td style=\"text-align: right;\">-0.201071   </td><td style=\"text-align: right;\"> 0.0527969</td><td style=\"text-align: right;\"> 0.115182   </td><td style=\"text-align: right;\"> 0.0866911  </td><td style=\"text-align: right;\"> 0.00291924</td><td style=\"text-align: right;\"> 0.205363 </td><td style=\"text-align: right;\">-0.0413777 </td><td style=\"text-align: right;\">-0.26016  </td><td style=\"text-align: right;\"> 0.119893 </td><td style=\"text-align: right;\"> 0.179649 </td><td style=\"text-align: right;\">-0.0667021 </td><td style=\"text-align: right;\">-0.00191906</td><td style=\"text-align: right;\">-0.0521561</td><td style=\"text-align: right;\">-0.00656414 </td><td style=\"text-align: right;\">-0.200034</td><td style=\"text-align: right;\"> 0.152909 </td><td style=\"text-align: right;\">-0.0682311</td><td style=\"text-align: right;\"> 0.0105146</td><td style=\"text-align: right;\">-0.0681751 </td><td style=\"text-align: right;\">0.0273652</td><td style=\"text-align: right;\">-0.0085692</td><td style=\"text-align: right;\"> 0.0673636 </td></tr>\n",
       "<tr><td style=\"text-align: right;\"> 0.084894   </td><td style=\"text-align: right;\"> 0.102162  </td><td style=\"text-align: right;\"> 0.032695 </td><td style=\"text-align: right;\"> 0.117447 </td><td style=\"text-align: right;\"> 0.0334458</td><td style=\"text-align: right;\"> 0.00890081</td><td style=\"text-align: right;\">-0.0568838</td><td style=\"text-align: right;\">-0.0260828</td><td style=\"text-align: right;\"> 0.173808 </td><td style=\"text-align: right;\"> 0.0406174</td><td style=\"text-align: right;\">-0.0400031 </td><td style=\"text-align: right;\"> 0.0331566 </td><td style=\"text-align: right;\">-0.00825215</td><td style=\"text-align: right;\"> 0.054047 </td><td style=\"text-align: right;\">-0.0315342 </td><td style=\"text-align: right;\"> 0.0576062 </td><td style=\"text-align: right;\">0.220391 </td><td style=\"text-align: right;\">-0.13426  </td><td style=\"text-align: right;\">-0.104354 </td><td style=\"text-align: right;\">-0.00459047</td><td style=\"text-align: right;\">-0.161085  </td><td style=\"text-align: right;\">-0.209639 </td><td style=\"text-align: right;\">0.155888</td><td style=\"text-align: right;\">0.136863  </td><td style=\"text-align: right;\"> 0.109215 </td><td style=\"text-align: right;\"> 0.136525   </td><td style=\"text-align: right;\"> 0.0407584</td><td style=\"text-align: right;\">0.1744   </td><td style=\"text-align: right;\">-0.115676 </td><td style=\"text-align: right;\"> 0.0783245</td><td style=\"text-align: right;\"> 0.0185375</td><td style=\"text-align: right;\">0.121292 </td><td style=\"text-align: right;\"> 0.183182 </td><td style=\"text-align: right;\">-0.10312  </td><td style=\"text-align: right;\">-0.0784547 </td><td style=\"text-align: right;\">0.165448  </td><td style=\"text-align: right;\"> 0.123203 </td><td style=\"text-align: right;\"> 0.0209883 </td><td style=\"text-align: right;\">-0.0133621</td><td style=\"text-align: right;\">-0.00380917</td><td style=\"text-align: right;\">-0.114714 </td><td style=\"text-align: right;\">-0.101899 </td><td style=\"text-align: right;\">-0.0227697</td><td style=\"text-align: right;\"> 0.106838 </td><td style=\"text-align: right;\">-0.0478078</td><td style=\"text-align: right;\">-0.0409587 </td><td style=\"text-align: right;\">-0.146559 </td><td style=\"text-align: right;\">-0.092914  </td><td style=\"text-align: right;\">-0.0912436</td><td style=\"text-align: right;\">-0.0098997 </td><td style=\"text-align: right;\">0.229528</td><td style=\"text-align: right;\">-0.0299178 </td><td style=\"text-align: right;\">0.0655147</td><td style=\"text-align: right;\"> 0.0555183</td><td style=\"text-align: right;\">0.173495  </td><td style=\"text-align: right;\">-0.0577442 </td><td style=\"text-align: right;\">-0.0259936  </td><td style=\"text-align: right;\">-0.0498558</td><td style=\"text-align: right;\">-0.1493    </td><td style=\"text-align: right;\"> 0.0207691 </td><td style=\"text-align: right;\">-0.118236  </td><td style=\"text-align: right;\">0.133217 </td><td style=\"text-align: right;\">-0.222172 </td><td style=\"text-align: right;\">-0.182209 </td><td style=\"text-align: right;\">-0.0252337 </td><td style=\"text-align: right;\">-0.0500768</td><td style=\"text-align: right;\">-0.00133969</td><td style=\"text-align: right;\">-0.00212568</td><td style=\"text-align: right;\">-0.00741381</td><td style=\"text-align: right;\"> 0.0404794 </td><td style=\"text-align: right;\"> 0.0270167</td><td style=\"text-align: right;\">-0.0453605</td><td style=\"text-align: right;\"> 0.214317 </td><td style=\"text-align: right;\"> 0.0569947 </td><td style=\"text-align: right;\">-0.0264386</td><td style=\"text-align: right;\">-0.0310446</td><td style=\"text-align: right;\"> 0.0747999 </td><td style=\"text-align: right;\"> 0.0827198</td><td style=\"text-align: right;\">-0.0974584  </td><td style=\"text-align: right;\">-0.0650122</td><td style=\"text-align: right;\"> 0.024514   </td><td style=\"text-align: right;\"> 0.0331394  </td><td style=\"text-align: right;\">-0.118587  </td><td style=\"text-align: right;\"> 0.119917 </td><td style=\"text-align: right;\"> 0.00490376</td><td style=\"text-align: right;\">-0.15628  </td><td style=\"text-align: right;\"> 0.0366177</td><td style=\"text-align: right;\">-0.0168571</td><td style=\"text-align: right;\">-0.106208  </td><td style=\"text-align: right;\">-0.00542731</td><td style=\"text-align: right;\"> 0.140816 </td><td style=\"text-align: right;\">-0.0137389  </td><td style=\"text-align: right;\">-0.136855</td><td style=\"text-align: right;\"> 0.121704 </td><td style=\"text-align: right;\"> 0.0134834</td><td style=\"text-align: right;\">-0.0556364</td><td style=\"text-align: right;\">-0.0203138 </td><td style=\"text-align: right;\">0.0499215</td><td style=\"text-align: right;\"> 0.0701686</td><td style=\"text-align: right;\"> 0.0430784 </td></tr>\n",
       "<tr><td style=\"text-align: right;\"> 0.114386   </td><td style=\"text-align: right;\">-0.0887573 </td><td style=\"text-align: right;\"> 0.07057  </td><td style=\"text-align: right;\">-0.0162028</td><td style=\"text-align: right;\"> 0.125032 </td><td style=\"text-align: right;\">-0.00724557</td><td style=\"text-align: right;\"> 0.070957 </td><td style=\"text-align: right;\">-0.140763 </td><td style=\"text-align: right;\"> 0.16564  </td><td style=\"text-align: right;\"> 0.049316 </td><td style=\"text-align: right;\"> 0.013306  </td><td style=\"text-align: right;\"> 0.0609885 </td><td style=\"text-align: right;\"> 0.0510025 </td><td style=\"text-align: right;\"> 0.141757 </td><td style=\"text-align: right;\"> 0.0591912 </td><td style=\"text-align: right;\"> 0.00841126</td><td style=\"text-align: right;\">0.176928 </td><td style=\"text-align: right;\">-0.0889281</td><td style=\"text-align: right;\">-0.111455 </td><td style=\"text-align: right;\">-0.0100187 </td><td style=\"text-align: right;\">-0.0700579 </td><td style=\"text-align: right;\">-0.202267 </td><td style=\"text-align: right;\">0.171047</td><td style=\"text-align: right;\">0.184547  </td><td style=\"text-align: right;\"> 0.111253 </td><td style=\"text-align: right;\"> 0.133879   </td><td style=\"text-align: right;\"> 0.129309 </td><td style=\"text-align: right;\">0.063465 </td><td style=\"text-align: right;\">-0.0611607</td><td style=\"text-align: right;\"> 0.0488463</td><td style=\"text-align: right;\"> 0.0216538</td><td style=\"text-align: right;\">0.183115 </td><td style=\"text-align: right;\"> 0.130908 </td><td style=\"text-align: right;\">-0.131397 </td><td style=\"text-align: right;\">-0.082491  </td><td style=\"text-align: right;\">0.134751  </td><td style=\"text-align: right;\"> 0.219447 </td><td style=\"text-align: right;\"> 0.0700321 </td><td style=\"text-align: right;\">-0.108146 </td><td style=\"text-align: right;\"> 0.0251933 </td><td style=\"text-align: right;\"> 0.0489406</td><td style=\"text-align: right;\">-0.117527 </td><td style=\"text-align: right;\"> 0.0997945</td><td style=\"text-align: right;\"> 0.0306733</td><td style=\"text-align: right;\">-0.0350366</td><td style=\"text-align: right;\"> 0.00444801</td><td style=\"text-align: right;\">-0.065038 </td><td style=\"text-align: right;\"> 0.00918315</td><td style=\"text-align: right;\">-0.0739333</td><td style=\"text-align: right;\">-0.0689166 </td><td style=\"text-align: right;\">0.196498</td><td style=\"text-align: right;\"> 0.0543592 </td><td style=\"text-align: right;\">0.0986093</td><td style=\"text-align: right;\">-0.0220716</td><td style=\"text-align: right;\">0.0975255 </td><td style=\"text-align: right;\">-0.0163462 </td><td style=\"text-align: right;\"> 0.0143423  </td><td style=\"text-align: right;\">-0.112975 </td><td style=\"text-align: right;\">-0.0268196 </td><td style=\"text-align: right;\">-0.0232347 </td><td style=\"text-align: right;\">-0.121205  </td><td style=\"text-align: right;\">0.215393 </td><td style=\"text-align: right;\">-0.102695 </td><td style=\"text-align: right;\">-0.146109 </td><td style=\"text-align: right;\"> 0.0570968 </td><td style=\"text-align: right;\">-0.123033 </td><td style=\"text-align: right;\"> 0.0438896 </td><td style=\"text-align: right;\">-0.00630404</td><td style=\"text-align: right;\"> 0.0963275 </td><td style=\"text-align: right;\"> 0.183376  </td><td style=\"text-align: right;\"> 0.0698202</td><td style=\"text-align: right;\">-0.0256223</td><td style=\"text-align: right;\"> 0.261201 </td><td style=\"text-align: right;\"> 0.124856  </td><td style=\"text-align: right;\"> 0.0311   </td><td style=\"text-align: right;\"> 0.0630508</td><td style=\"text-align: right;\"> 0.105273  </td><td style=\"text-align: right;\"> 0.0741108</td><td style=\"text-align: right;\">-0.0635644  </td><td style=\"text-align: right;\">-0.0457946</td><td style=\"text-align: right;\"> 0.196734   </td><td style=\"text-align: right;\"> 0.139208   </td><td style=\"text-align: right;\"> 0.0461994 </td><td style=\"text-align: right;\"> 0.157996 </td><td style=\"text-align: right;\">-0.0446064 </td><td style=\"text-align: right;\">-0.0745982</td><td style=\"text-align: right;\"> 0.0522109</td><td style=\"text-align: right;\"> 0.117524 </td><td style=\"text-align: right;\">-0.00783506</td><td style=\"text-align: right;\"> 0.0214365 </td><td style=\"text-align: right;\">-0.0104465</td><td style=\"text-align: right;\"> 0.0384087  </td><td style=\"text-align: right;\">-0.26359 </td><td style=\"text-align: right;\"> 0.0676544</td><td style=\"text-align: right;\"> 0.0246795</td><td style=\"text-align: right;\">-0.088264 </td><td style=\"text-align: right;\">-0.00472804</td><td style=\"text-align: right;\">0.0578376</td><td style=\"text-align: right;\"> 0.0795436</td><td style=\"text-align: right;\"> 0.0268155 </td></tr>\n",
       "<tr><td style=\"text-align: right;\">-0.000579023</td><td style=\"text-align: right;\">-0.0473279 </td><td style=\"text-align: right;\">-0.035129 </td><td style=\"text-align: right;\"> 0.125809 </td><td style=\"text-align: right;\"> 0.0547388</td><td style=\"text-align: right;\"> 0.0857123 </td><td style=\"text-align: right;\">-0.148928 </td><td style=\"text-align: right;\">-0.0957085</td><td style=\"text-align: right;\"> 0.101838 </td><td style=\"text-align: right;\"> 0.0624864</td><td style=\"text-align: right;\"> 0.0362063 </td><td style=\"text-align: right;\"> 0.046213  </td><td style=\"text-align: right;\">-0.101338  </td><td style=\"text-align: right;\"> 0.0737544</td><td style=\"text-align: right;\"> 0.0878984 </td><td style=\"text-align: right;\"> 0.209383  </td><td style=\"text-align: right;\">0.154771 </td><td style=\"text-align: right;\">-0.150939 </td><td style=\"text-align: right;\">-0.0291425</td><td style=\"text-align: right;\"> 0.124403  </td><td style=\"text-align: right;\">-0.0208764 </td><td style=\"text-align: right;\"> 0.0289565</td><td style=\"text-align: right;\">0.28879 </td><td style=\"text-align: right;\">0.0162022 </td><td style=\"text-align: right;\">-0.0307292</td><td style=\"text-align: right;\"> 0.0758979  </td><td style=\"text-align: right;\"> 0.133065 </td><td style=\"text-align: right;\">0.255234 </td><td style=\"text-align: right;\"> 0.0254759</td><td style=\"text-align: right;\">-0.0126592</td><td style=\"text-align: right;\"> 0.215803 </td><td style=\"text-align: right;\">0.112423 </td><td style=\"text-align: right;\"> 0.10714  </td><td style=\"text-align: right;\">-0.112603 </td><td style=\"text-align: right;\">-0.0878649 </td><td style=\"text-align: right;\">0.174361  </td><td style=\"text-align: right;\"> 0.163901 </td><td style=\"text-align: right;\">-0.120346  </td><td style=\"text-align: right;\">-0.116319 </td><td style=\"text-align: right;\"> 0.0737835 </td><td style=\"text-align: right;\">-0.201602 </td><td style=\"text-align: right;\"> 0.105184 </td><td style=\"text-align: right;\"> 0.122187 </td><td style=\"text-align: right;\"> 0.072145 </td><td style=\"text-align: right;\">-0.136168 </td><td style=\"text-align: right;\">-0.0975235 </td><td style=\"text-align: right;\">-0.16375  </td><td style=\"text-align: right;\">-0.110492  </td><td style=\"text-align: right;\">-0.0157731</td><td style=\"text-align: right;\">-0.130404  </td><td style=\"text-align: right;\">0.158247</td><td style=\"text-align: right;\">-0.00542536</td><td style=\"text-align: right;\">0.244242 </td><td style=\"text-align: right;\"> 0.0481825</td><td style=\"text-align: right;\">0.179023  </td><td style=\"text-align: right;\">-0.0961229 </td><td style=\"text-align: right;\"> 0.000847987</td><td style=\"text-align: right;\"> 0.0164637</td><td style=\"text-align: right;\">-0.00429223</td><td style=\"text-align: right;\"> 0.00454527</td><td style=\"text-align: right;\"> 0.118092  </td><td style=\"text-align: right;\">0.253416 </td><td style=\"text-align: right;\">-0.11323  </td><td style=\"text-align: right;\">-0.0588024</td><td style=\"text-align: right;\">-0.063867  </td><td style=\"text-align: right;\">-0.0756825</td><td style=\"text-align: right;\">-0.180358  </td><td style=\"text-align: right;\">-0.0746796 </td><td style=\"text-align: right;\"> 0.0580038 </td><td style=\"text-align: right;\"> 0.00712841</td><td style=\"text-align: right;\"> 0.048807 </td><td style=\"text-align: right;\">-0.015095 </td><td style=\"text-align: right;\"> 0.132941 </td><td style=\"text-align: right;\">-0.00176603</td><td style=\"text-align: right;\"> 0.114344 </td><td style=\"text-align: right;\">-0.0368006</td><td style=\"text-align: right;\">-0.0271793 </td><td style=\"text-align: right;\">-0.0372548</td><td style=\"text-align: right;\">-0.0190601  </td><td style=\"text-align: right;\">-0.225803 </td><td style=\"text-align: right;\"> 0.0321113  </td><td style=\"text-align: right;\"> 0.0100364  </td><td style=\"text-align: right;\"> 0.00976887</td><td style=\"text-align: right;\"> 0.150908 </td><td style=\"text-align: right;\"> 0.1212    </td><td style=\"text-align: right;\">-0.0840245</td><td style=\"text-align: right;\">-0.0812047</td><td style=\"text-align: right;\"> 0.131709 </td><td style=\"text-align: right;\">-0.0445917 </td><td style=\"text-align: right;\">-0.0866136 </td><td style=\"text-align: right;\">-0.101223 </td><td style=\"text-align: right;\"> 0.138729   </td><td style=\"text-align: right;\">-0.219413</td><td style=\"text-align: right;\"> 0.0845679</td><td style=\"text-align: right;\">-0.076065 </td><td style=\"text-align: right;\"> 0.0119407</td><td style=\"text-align: right;\">-0.0910116 </td><td style=\"text-align: right;\">0.0167053</td><td style=\"text-align: right;\">-0.0364382</td><td style=\"text-align: right;\"> 0.259938  </td></tr>\n",
       "<tr><td style=\"text-align: right;\"> 0.0801794  </td><td style=\"text-align: right;\"> 0.0717292 </td><td style=\"text-align: right;\">-0.169965 </td><td style=\"text-align: right;\"> 0.166353 </td><td style=\"text-align: right;\"> 0.15102  </td><td style=\"text-align: right;\">-0.0236599 </td><td style=\"text-align: right;\"> 0.184619 </td><td style=\"text-align: right;\">-0.215046 </td><td style=\"text-align: right;\"> 0.0109642</td><td style=\"text-align: right;\"> 0.0519797</td><td style=\"text-align: right;\"> 0.16754   </td><td style=\"text-align: right;\">-0.0789703 </td><td style=\"text-align: right;\"> 0.132178  </td><td style=\"text-align: right;\">-0.0644014</td><td style=\"text-align: right;\">-0.00922797</td><td style=\"text-align: right;\">-0.0777252 </td><td style=\"text-align: right;\">0.180141 </td><td style=\"text-align: right;\"> 0.0140312</td><td style=\"text-align: right;\">-0.123795 </td><td style=\"text-align: right;\">-0.108938  </td><td style=\"text-align: right;\">-0.00715158</td><td style=\"text-align: right;\">-0.106316 </td><td style=\"text-align: right;\">0.193803</td><td style=\"text-align: right;\">0.0103679 </td><td style=\"text-align: right;\">-0.0923363</td><td style=\"text-align: right;\"> 0.164633   </td><td style=\"text-align: right;\"> 0.0174094</td><td style=\"text-align: right;\">0.213331 </td><td style=\"text-align: right;\">-0.154035 </td><td style=\"text-align: right;\">-0.0612501</td><td style=\"text-align: right;\"> 0.157379 </td><td style=\"text-align: right;\">0.183204 </td><td style=\"text-align: right;\"> 0.134666 </td><td style=\"text-align: right;\">-0.129106 </td><td style=\"text-align: right;\">-0.00966468</td><td style=\"text-align: right;\">0.1051    </td><td style=\"text-align: right;\"> 0.0164098</td><td style=\"text-align: right;\">-0.0524074 </td><td style=\"text-align: right;\">-0.080705 </td><td style=\"text-align: right;\"> 0.0949356 </td><td style=\"text-align: right;\">-0.0533274</td><td style=\"text-align: right;\">-0.0235012</td><td style=\"text-align: right;\"> 0.0959395</td><td style=\"text-align: right;\">-0.0468564</td><td style=\"text-align: right;\"> 0.0562808</td><td style=\"text-align: right;\">-0.0337782 </td><td style=\"text-align: right;\">-0.172206 </td><td style=\"text-align: right;\">-0.0459944 </td><td style=\"text-align: right;\"> 0.0439118</td><td style=\"text-align: right;\"> 0.0553272 </td><td style=\"text-align: right;\">0.166987</td><td style=\"text-align: right;\"> 0.0087961 </td><td style=\"text-align: right;\">0.150218 </td><td style=\"text-align: right;\"> 0.0675636</td><td style=\"text-align: right;\">0.0150667 </td><td style=\"text-align: right;\"> 0.0114766 </td><td style=\"text-align: right;\"> 0.174526   </td><td style=\"text-align: right;\"> 0.110581 </td><td style=\"text-align: right;\">-0.00820193</td><td style=\"text-align: right;\">-0.0914904 </td><td style=\"text-align: right;\"> 0.0172395 </td><td style=\"text-align: right;\">0.127774 </td><td style=\"text-align: right;\">-0.194195 </td><td style=\"text-align: right;\">-0.142721 </td><td style=\"text-align: right;\"> 0.00933945</td><td style=\"text-align: right;\">-0.0996123</td><td style=\"text-align: right;\">-0.0963223 </td><td style=\"text-align: right;\">-0.0928974 </td><td style=\"text-align: right;\">-0.102145  </td><td style=\"text-align: right;\"> 0.0711801 </td><td style=\"text-align: right;\">-0.0803936</td><td style=\"text-align: right;\">-0.0649395</td><td style=\"text-align: right;\"> 0.268605 </td><td style=\"text-align: right;\"> 0.0173159 </td><td style=\"text-align: right;\"> 0.0568768</td><td style=\"text-align: right;\"> 0.180233 </td><td style=\"text-align: right;\"> 0.0665828 </td><td style=\"text-align: right;\"> 0.135525 </td><td style=\"text-align: right;\">-0.1496     </td><td style=\"text-align: right;\">-0.0746417</td><td style=\"text-align: right;\">-0.000231255</td><td style=\"text-align: right;\">-2.97706e-06</td><td style=\"text-align: right;\">-0.0192292 </td><td style=\"text-align: right;\"> 0.172546 </td><td style=\"text-align: right;\"> 0.0512524 </td><td style=\"text-align: right;\">-0.175005 </td><td style=\"text-align: right;\">-0.0233383</td><td style=\"text-align: right;\"> 0.0912917</td><td style=\"text-align: right;\">-0.00655687</td><td style=\"text-align: right;\">-0.0369372 </td><td style=\"text-align: right;\"> 0.0758866</td><td style=\"text-align: right;\">-0.00575866 </td><td style=\"text-align: right;\">-0.152473</td><td style=\"text-align: right;\">-0.047975 </td><td style=\"text-align: right;\"> 0.0677972</td><td style=\"text-align: right;\">-0.0925238</td><td style=\"text-align: right;\">-0.189699  </td><td style=\"text-align: right;\">0.0546539</td><td style=\"text-align: right;\"> 0.0399541</td><td style=\"text-align: right;\">-0.0151683 </td></tr>\n",
       "<tr><td style=\"text-align: right;\"> 0.0893154  </td><td style=\"text-align: right;\"> 0.0344422 </td><td style=\"text-align: right;\">-0.0252382</td><td style=\"text-align: right;\"> 0.187117 </td><td style=\"text-align: right;\">-0.0328992</td><td style=\"text-align: right;\"> 0.105794  </td><td style=\"text-align: right;\">-0.0710476</td><td style=\"text-align: right;\">-0.215689 </td><td style=\"text-align: right;\"> 0.122823 </td><td style=\"text-align: right;\"> 0.0730169</td><td style=\"text-align: right;\"> 0.0275558 </td><td style=\"text-align: right;\"> 0.129343  </td><td style=\"text-align: right;\"> 0.00336097</td><td style=\"text-align: right;\"> 0.0325096</td><td style=\"text-align: right;\">-0.0442721 </td><td style=\"text-align: right;\"> 0.0992739 </td><td style=\"text-align: right;\">0.0921293</td><td style=\"text-align: right;\">-0.0991511</td><td style=\"text-align: right;\">-0.209759 </td><td style=\"text-align: right;\">-0.0626134 </td><td style=\"text-align: right;\">-0.0261764 </td><td style=\"text-align: right;\">-0.0863088</td><td style=\"text-align: right;\">0.181346</td><td style=\"text-align: right;\">0.00888924</td><td style=\"text-align: right;\">-0.0250843</td><td style=\"text-align: right;\">-0.0369888  </td><td style=\"text-align: right;\"> 0.154175 </td><td style=\"text-align: right;\">0.219146 </td><td style=\"text-align: right;\"> 0.0722292</td><td style=\"text-align: right;\">-0.0056954</td><td style=\"text-align: right;\"> 0.153073 </td><td style=\"text-align: right;\">0.0144238</td><td style=\"text-align: right;\"> 0.0660202</td><td style=\"text-align: right;\">-0.125252 </td><td style=\"text-align: right;\">-0.121268  </td><td style=\"text-align: right;\">0.0856341 </td><td style=\"text-align: right;\"> 0.120445 </td><td style=\"text-align: right;\">-0.0289482 </td><td style=\"text-align: right;\">-0.0162452</td><td style=\"text-align: right;\">-0.0409319 </td><td style=\"text-align: right;\">-0.122632 </td><td style=\"text-align: right;\"> 0.097026 </td><td style=\"text-align: right;\"> 0.0837608</td><td style=\"text-align: right;\"> 0.0670452</td><td style=\"text-align: right;\">-0.0342451</td><td style=\"text-align: right;\"> 0.0098252 </td><td style=\"text-align: right;\">-0.131119 </td><td style=\"text-align: right;\">-0.068508  </td><td style=\"text-align: right;\">-0.0641416</td><td style=\"text-align: right;\">-0.0752725 </td><td style=\"text-align: right;\">0.219408</td><td style=\"text-align: right;\"> 0.0532824 </td><td style=\"text-align: right;\">0.248144 </td><td style=\"text-align: right;\"> 0.0360786</td><td style=\"text-align: right;\">0.163897  </td><td style=\"text-align: right;\">-0.0653396 </td><td style=\"text-align: right;\">-0.018914   </td><td style=\"text-align: right;\"> 0.0540559</td><td style=\"text-align: right;\">-0.0466313 </td><td style=\"text-align: right;\"> 0.057342  </td><td style=\"text-align: right;\"> 0.0293384 </td><td style=\"text-align: right;\">0.147225 </td><td style=\"text-align: right;\">-0.148993 </td><td style=\"text-align: right;\">-0.0546113</td><td style=\"text-align: right;\"> 0.075217  </td><td style=\"text-align: right;\">-0.137673 </td><td style=\"text-align: right;\">-0.0634159 </td><td style=\"text-align: right;\">-0.0927221 </td><td style=\"text-align: right;\">-0.0226599 </td><td style=\"text-align: right;\"> 0.0065872 </td><td style=\"text-align: right;\">-0.0300577</td><td style=\"text-align: right;\">-0.0775923</td><td style=\"text-align: right;\"> 0.11313  </td><td style=\"text-align: right;\">-0.0293542 </td><td style=\"text-align: right;\"> 0.0390056</td><td style=\"text-align: right;\"> 0.0406099</td><td style=\"text-align: right;\">-0.0154771 </td><td style=\"text-align: right;\"> 0.0832568</td><td style=\"text-align: right;\">-0.0622022  </td><td style=\"text-align: right;\">-0.120552 </td><td style=\"text-align: right;\">-0.00390439 </td><td style=\"text-align: right;\"> 0.0670244  </td><td style=\"text-align: right;\">-0.0103578 </td><td style=\"text-align: right;\"> 0.192477 </td><td style=\"text-align: right;\"> 0.0628412 </td><td style=\"text-align: right;\">-0.217322 </td><td style=\"text-align: right;\">-0.0243397</td><td style=\"text-align: right;\"> 0.116877 </td><td style=\"text-align: right;\">-0.0201031 </td><td style=\"text-align: right;\"> 0.0403672 </td><td style=\"text-align: right;\">-0.030491 </td><td style=\"text-align: right;\"> 0.0740155  </td><td style=\"text-align: right;\">-0.186046</td><td style=\"text-align: right;\"> 0.155399 </td><td style=\"text-align: right;\">-0.0163609</td><td style=\"text-align: right;\">-0.020189 </td><td style=\"text-align: right;\">-0.0810351 </td><td style=\"text-align: right;\">0.142849 </td><td style=\"text-align: right;\">-0.0196353</td><td style=\"text-align: right;\"> 0.0679723 </td></tr>\n",
       "<tr><td style=\"text-align: right;\">-0.0582631  </td><td style=\"text-align: right;\">-0.0443665 </td><td style=\"text-align: right;\">-0.0147384</td><td style=\"text-align: right;\"> 0.142641 </td><td style=\"text-align: right;\">-0.0948328</td><td style=\"text-align: right;\"> 0.00363303</td><td style=\"text-align: right;\">-0.0369171</td><td style=\"text-align: right;\">-0.146355 </td><td style=\"text-align: right;\"> 0.0248532</td><td style=\"text-align: right;\"> 0.166108 </td><td style=\"text-align: right;\"> 0.0810011 </td><td style=\"text-align: right;\"> 0.00624603</td><td style=\"text-align: right;\">-0.151365  </td><td style=\"text-align: right;\"> 0.113836 </td><td style=\"text-align: right;\">-0.0060766 </td><td style=\"text-align: right;\"> 0.0652818 </td><td style=\"text-align: right;\">0.108018 </td><td style=\"text-align: right;\">-0.0428672</td><td style=\"text-align: right;\">-0.0341872</td><td style=\"text-align: right;\">-0.034268  </td><td style=\"text-align: right;\">-0.0830534 </td><td style=\"text-align: right;\">-0.152058 </td><td style=\"text-align: right;\">0.175294</td><td style=\"text-align: right;\">0.0637042 </td><td style=\"text-align: right;\"> 0.0129444</td><td style=\"text-align: right;\"> 0.170007   </td><td style=\"text-align: right;\"> 0.117247 </td><td style=\"text-align: right;\">0.122772 </td><td style=\"text-align: right;\">-0.137097 </td><td style=\"text-align: right;\"> 0.0475733</td><td style=\"text-align: right;\"> 0.135179 </td><td style=\"text-align: right;\">0.0233999</td><td style=\"text-align: right;\"> 0.091269 </td><td style=\"text-align: right;\">-0.142147 </td><td style=\"text-align: right;\">-0.14432   </td><td style=\"text-align: right;\">0.113609  </td><td style=\"text-align: right;\"> 0.195943 </td><td style=\"text-align: right;\">-0.112699  </td><td style=\"text-align: right;\">-0.0674757</td><td style=\"text-align: right;\">-0.0417359 </td><td style=\"text-align: right;\">-0.113153 </td><td style=\"text-align: right;\"> 0.0324601</td><td style=\"text-align: right;\"> 0.0664133</td><td style=\"text-align: right;\"> 0.0476939</td><td style=\"text-align: right;\">-0.0404213</td><td style=\"text-align: right;\"> 0.0636784 </td><td style=\"text-align: right;\">-0.111995 </td><td style=\"text-align: right;\">-0.0956699 </td><td style=\"text-align: right;\"> 0.0163525</td><td style=\"text-align: right;\">-0.00255557</td><td style=\"text-align: right;\">0.268229</td><td style=\"text-align: right;\"> 0.0181703 </td><td style=\"text-align: right;\">0.156173 </td><td style=\"text-align: right;\"> 0.0494154</td><td style=\"text-align: right;\">0.151903  </td><td style=\"text-align: right;\">-0.103883  </td><td style=\"text-align: right;\">-0.0642519  </td><td style=\"text-align: right;\"> 0.0121334</td><td style=\"text-align: right;\">-0.10579   </td><td style=\"text-align: right;\"> 0.0288659 </td><td style=\"text-align: right;\">-0.00897193</td><td style=\"text-align: right;\">0.247373 </td><td style=\"text-align: right;\">-0.0578145</td><td style=\"text-align: right;\">-0.115053 </td><td style=\"text-align: right;\"> 0.0429138 </td><td style=\"text-align: right;\">-0.197752 </td><td style=\"text-align: right;\"> 0.0241008 </td><td style=\"text-align: right;\">-0.144153  </td><td style=\"text-align: right;\"> 0.0245966 </td><td style=\"text-align: right;\"> 0.0832158 </td><td style=\"text-align: right;\"> 0.0435231</td><td style=\"text-align: right;\">-0.086741 </td><td style=\"text-align: right;\"> 0.0198642</td><td style=\"text-align: right;\"> 0.177814  </td><td style=\"text-align: right;\">-0.0112693</td><td style=\"text-align: right;\"> 0.0408214</td><td style=\"text-align: right;\"> 0.0345526 </td><td style=\"text-align: right;\"> 0.0565369</td><td style=\"text-align: right;\"> 0.000526946</td><td style=\"text-align: right;\">-0.200547 </td><td style=\"text-align: right;\"> 0.0367379  </td><td style=\"text-align: right;\"> 0.107741   </td><td style=\"text-align: right;\">-0.0584882 </td><td style=\"text-align: right;\"> 0.0851036</td><td style=\"text-align: right;\"> 0.141528  </td><td style=\"text-align: right;\">-0.101812 </td><td style=\"text-align: right;\"> 0.0427578</td><td style=\"text-align: right;\"> 0.10853  </td><td style=\"text-align: right;\">-0.0655934 </td><td style=\"text-align: right;\">-0.0102809 </td><td style=\"text-align: right;\"> 0.039449 </td><td style=\"text-align: right;\"> 0.117719   </td><td style=\"text-align: right;\">-0.2268  </td><td style=\"text-align: right;\"> 0.156964 </td><td style=\"text-align: right;\">-0.0466592</td><td style=\"text-align: right;\">-0.0326306</td><td style=\"text-align: right;\">-0.163546  </td><td style=\"text-align: right;\">0.0857257</td><td style=\"text-align: right;\"> 0.0897701</td><td style=\"text-align: right;\"> 0.0775947 </td></tr>\n",
       "<tr><td style=\"text-align: right;\">-0.129124   </td><td style=\"text-align: right;\"> 0.0511513 </td><td style=\"text-align: right;\"> 0.0939875</td><td style=\"text-align: right;\"> 0.0869338</td><td style=\"text-align: right;\">-0.0960361</td><td style=\"text-align: right;\"> 0.387439  </td><td style=\"text-align: right;\">-0.016572 </td><td style=\"text-align: right;\">-0.120088 </td><td style=\"text-align: right;\">-0.0299841</td><td style=\"text-align: right;\"> 0.214448 </td><td style=\"text-align: right;\"> 0.0121069 </td><td style=\"text-align: right;\">-0.0127853 </td><td style=\"text-align: right;\">-0.346515  </td><td style=\"text-align: right;\">-0.18214  </td><td style=\"text-align: right;\"> 0.11284   </td><td style=\"text-align: right;\"> 0.195646  </td><td style=\"text-align: right;\">0.189191 </td><td style=\"text-align: right;\">-0.0459711</td><td style=\"text-align: right;\">-0.366662 </td><td style=\"text-align: right;\">-0.262001  </td><td style=\"text-align: right;\"> 0.0590482 </td><td style=\"text-align: right;\">-0.0650216</td><td style=\"text-align: right;\">0.364635</td><td style=\"text-align: right;\">0.0162169 </td><td style=\"text-align: right;\"> 0.0281374</td><td style=\"text-align: right;\"> 0.135823   </td><td style=\"text-align: right;\"> 0.245774 </td><td style=\"text-align: right;\">0.0603263</td><td style=\"text-align: right;\"> 0.143919 </td><td style=\"text-align: right;\">-0.151241 </td><td style=\"text-align: right;\"> 0.264679 </td><td style=\"text-align: right;\">0.325904 </td><td style=\"text-align: right;\">-0.0917336</td><td style=\"text-align: right;\">-0.0939775</td><td style=\"text-align: right;\">-0.0838633 </td><td style=\"text-align: right;\">0.161394  </td><td style=\"text-align: right;\">-0.0559674</td><td style=\"text-align: right;\">-0.219061  </td><td style=\"text-align: right;\">-0.149063 </td><td style=\"text-align: right;\">-0.113595  </td><td style=\"text-align: right;\">-0.0374965</td><td style=\"text-align: right;\">-0.0184239</td><td style=\"text-align: right;\"> 0.0536022</td><td style=\"text-align: right;\">-0.131835 </td><td style=\"text-align: right;\">-0.0602038</td><td style=\"text-align: right;\">-0.0941842 </td><td style=\"text-align: right;\">-0.0997785</td><td style=\"text-align: right;\">-0.249746  </td><td style=\"text-align: right;\">-0.0745948</td><td style=\"text-align: right;\"> 0.0116379 </td><td style=\"text-align: right;\">0.305752</td><td style=\"text-align: right;\">-0.100902  </td><td style=\"text-align: right;\">0.258215 </td><td style=\"text-align: right;\"> 0.249379 </td><td style=\"text-align: right;\">0.203973  </td><td style=\"text-align: right;\"> 0.0870509 </td><td style=\"text-align: right;\">-0.0634354  </td><td style=\"text-align: right;\"> 0.0011291</td><td style=\"text-align: right;\">-0.108242  </td><td style=\"text-align: right;\">-0.0541281 </td><td style=\"text-align: right;\">-0.189168  </td><td style=\"text-align: right;\">0.195262 </td><td style=\"text-align: right;\">-0.349421 </td><td style=\"text-align: right;\">-0.0931626</td><td style=\"text-align: right;\"> 0.198795  </td><td style=\"text-align: right;\">-0.271344 </td><td style=\"text-align: right;\"> 0.086221  </td><td style=\"text-align: right;\">-0.482598  </td><td style=\"text-align: right;\"> 0.20502   </td><td style=\"text-align: right;\">-0.0969925 </td><td style=\"text-align: right;\">-0.0475615</td><td style=\"text-align: right;\"> 0.246146 </td><td style=\"text-align: right;\">-0.0204705</td><td style=\"text-align: right;\">-0.084105  </td><td style=\"text-align: right;\"> 0.101148 </td><td style=\"text-align: right;\">-0.0597106</td><td style=\"text-align: right;\">-0.0260788 </td><td style=\"text-align: right;\"> 0.0529156</td><td style=\"text-align: right;\">-0.144862   </td><td style=\"text-align: right;\">-0.364268 </td><td style=\"text-align: right;\">-0.396165   </td><td style=\"text-align: right;\">-0.0643762  </td><td style=\"text-align: right;\">-0.251499  </td><td style=\"text-align: right;\">-0.0420452</td><td style=\"text-align: right;\"> 0.255761  </td><td style=\"text-align: right;\"> 0.181215 </td><td style=\"text-align: right;\">-0.112627 </td><td style=\"text-align: right;\"> 0.234669 </td><td style=\"text-align: right;\">-0.0915335 </td><td style=\"text-align: right;\">-0.0710047 </td><td style=\"text-align: right;\">-0.227801 </td><td style=\"text-align: right;\">-0.000536012</td><td style=\"text-align: right;\">-0.189845</td><td style=\"text-align: right;\"> 0.203004 </td><td style=\"text-align: right;\">-0.4569   </td><td style=\"text-align: right;\">-0.173918 </td><td style=\"text-align: right;\"> 0.016503  </td><td style=\"text-align: right;\">0.0404545</td><td style=\"text-align: right;\"> 0.0232909</td><td style=\"text-align: right;\"> 0.00537361</td></tr>\n",
       "</tbody>\n",
       "</table>"
      ]
     },
     "metadata": {},
     "output_type": "display_data"
    },
    {
     "data": {
      "text/plain": []
     },
     "execution_count": 22,
     "metadata": {},
     "output_type": "execute_result"
    }
   ],
   "source": [
    "# Calculate a vector for each review\n",
    "review_vecs = w2v_model.transform(words, aggregate_method = \"AVERAGE\")\n",
    "review_vecs"
   ]
  },
  {
   "cell_type": "code",
   "execution_count": 23,
   "metadata": {},
   "outputs": [],
   "source": [
    "# Add aggregated word embeddings \n",
    "ext_reviews = reviews.cbind(review_vecs)"
   ]
  },
  {
   "cell_type": "code",
   "execution_count": 24,
   "metadata": {},
   "outputs": [
    {
     "data": {
      "text/html": [
       "<table>\n",
       "<thead>\n",
       "<tr><th>ProductId  </th><th>UserId        </th><th>Summary                     </th><th style=\"text-align: right;\">  Score</th><th style=\"text-align: right;\">  HelpfulnessDenominator</th><th style=\"text-align: right;\">    Id</th><th>ProfileName        </th><th style=\"text-align: right;\">  HelpfulnessNumerator</th><th style=\"text-align: right;\">       Time</th><th>Text                                                                                                                                                                                                                                                                                                                                                                            </th><th style=\"text-align: right;\">  PositiveReview</th><th>Train  </th><th style=\"text-align: right;\">        C1</th><th style=\"text-align: right;\">         C2</th><th style=\"text-align: right;\">        C3</th><th style=\"text-align: right;\">        C4</th><th style=\"text-align: right;\">        C5</th><th style=\"text-align: right;\">        C6</th><th style=\"text-align: right;\">        C7</th><th style=\"text-align: right;\">       C8</th><th style=\"text-align: right;\">       C9</th><th style=\"text-align: right;\">       C10</th><th style=\"text-align: right;\">        C11</th><th style=\"text-align: right;\">      C12</th><th style=\"text-align: right;\">        C13</th><th style=\"text-align: right;\">      C14</th><th style=\"text-align: right;\">        C15</th><th style=\"text-align: right;\">       C16</th><th style=\"text-align: right;\">     C17</th><th style=\"text-align: right;\">       C18</th><th style=\"text-align: right;\">       C19</th><th style=\"text-align: right;\">       C20</th><th style=\"text-align: right;\">       C21</th><th style=\"text-align: right;\">      C22</th><th style=\"text-align: right;\">     C23</th><th style=\"text-align: right;\">      C24</th><th style=\"text-align: right;\">      C25</th><th style=\"text-align: right;\">         C26</th><th style=\"text-align: right;\">       C27</th><th style=\"text-align: right;\">      C28</th><th style=\"text-align: right;\">       C29</th><th style=\"text-align: right;\">       C30</th><th style=\"text-align: right;\">       C31</th><th style=\"text-align: right;\">      C32</th><th style=\"text-align: right;\">     C33</th><th style=\"text-align: right;\">      C34</th><th style=\"text-align: right;\">      C35</th><th style=\"text-align: right;\">       C36</th><th style=\"text-align: right;\">      C37</th><th style=\"text-align: right;\">        C38</th><th style=\"text-align: right;\">       C39</th><th style=\"text-align: right;\">       C40</th><th style=\"text-align: right;\">       C41</th><th style=\"text-align: right;\">       C42</th><th style=\"text-align: right;\">      C43</th><th style=\"text-align: right;\">       C44</th><th style=\"text-align: right;\">       C45</th><th style=\"text-align: right;\">       C46</th><th style=\"text-align: right;\">       C47</th><th style=\"text-align: right;\">        C48</th><th style=\"text-align: right;\">       C49</th><th style=\"text-align: right;\">        C50</th><th style=\"text-align: right;\">     C51</th><th style=\"text-align: right;\">       C52</th><th style=\"text-align: right;\">      C53</th><th style=\"text-align: right;\">       C54</th><th style=\"text-align: right;\">       C55</th><th style=\"text-align: right;\">        C56</th><th style=\"text-align: right;\">       C57</th><th style=\"text-align: right;\">       C58</th><th style=\"text-align: right;\">       C59</th><th style=\"text-align: right;\">       C60</th><th style=\"text-align: right;\">       C61</th><th style=\"text-align: right;\">      C62</th><th style=\"text-align: right;\">       C63</th><th style=\"text-align: right;\">       C64</th><th style=\"text-align: right;\">        C65</th><th style=\"text-align: right;\">       C66</th><th style=\"text-align: right;\">      C67</th><th style=\"text-align: right;\">       C68</th><th style=\"text-align: right;\">      C69</th><th style=\"text-align: right;\">       C70</th><th style=\"text-align: right;\">       C71</th><th style=\"text-align: right;\">       C72</th><th style=\"text-align: right;\">     C73</th><th style=\"text-align: right;\">       C74</th><th style=\"text-align: right;\">       C75</th><th style=\"text-align: right;\">      C76</th><th style=\"text-align: right;\">       C77</th><th style=\"text-align: right;\">      C78</th><th style=\"text-align: right;\">       C79</th><th style=\"text-align: right;\">       C80</th><th style=\"text-align: right;\">       C81</th><th style=\"text-align: right;\">      C82</th><th style=\"text-align: right;\">        C83</th><th style=\"text-align: right;\">     C84</th><th style=\"text-align: right;\">       C85</th><th style=\"text-align: right;\">      C86</th><th style=\"text-align: right;\">      C87</th><th style=\"text-align: right;\">      C88</th><th style=\"text-align: right;\">       C89</th><th style=\"text-align: right;\">        C90</th><th style=\"text-align: right;\">       C91</th><th style=\"text-align: right;\">        C92</th><th style=\"text-align: right;\">      C93</th><th style=\"text-align: right;\">      C94</th><th style=\"text-align: right;\">       C95</th><th style=\"text-align: right;\">       C96</th><th style=\"text-align: right;\">       C97</th><th style=\"text-align: right;\">      C98</th><th style=\"text-align: right;\">       C99</th><th style=\"text-align: right;\">     C100</th></tr>\n",
       "</thead>\n",
       "<tbody>\n",
       "<tr><td>B00141QYSQ </td><td>A1YS02UZZGRDCT</td><td>Do Not Buy                  </td><td style=\"text-align: right;\">      1</td><td style=\"text-align: right;\">                       2</td><td style=\"text-align: right;\"> 41471</td><td>Evan Eberhardt     </td><td style=\"text-align: right;\">                     2</td><td style=\"text-align: right;\">1.34836e+09</td><td>These are made in China (do not buy ANY pet food from China).  Dogswell has been using propylene glycol to soften their treats (what are they thinkng?).  Do not purchase or support this company in any way until they clean up their act.  And for whatever reason Amazon doesn't allow returns of this item, so I had to toss mine out.  Bad business all around on this one.</td><td style=\"text-align: right;\">               0</td><td>No     </td><td style=\"text-align: right;\">-0.0122179</td><td style=\"text-align: right;\">-0.0502994 </td><td style=\"text-align: right;\"> 0.0218073</td><td style=\"text-align: right;\">-0.0164256</td><td style=\"text-align: right;\"> 0.0656912</td><td style=\"text-align: right;\"> 0.0654515</td><td style=\"text-align: right;\"> 0.0828205</td><td style=\"text-align: right;\">-0.290214</td><td style=\"text-align: right;\">0.101126 </td><td style=\"text-align: right;\">-0.0493187</td><td style=\"text-align: right;\">-0.00657813</td><td style=\"text-align: right;\">0.0555338</td><td style=\"text-align: right;\"> 0.0792124 </td><td style=\"text-align: right;\">0.0862025</td><td style=\"text-align: right;\"> 0.0570924 </td><td style=\"text-align: right;\">-0.113151 </td><td style=\"text-align: right;\">0.11962 </td><td style=\"text-align: right;\">-0.0701777</td><td style=\"text-align: right;\">-0.185091 </td><td style=\"text-align: right;\"> 0.0567195</td><td style=\"text-align: right;\">-0.0798927</td><td style=\"text-align: right;\">-0.174119</td><td style=\"text-align: right;\">0.17994 </td><td style=\"text-align: right;\">0.137418 </td><td style=\"text-align: right;\"> 0.212948</td><td style=\"text-align: right;\"> 0.310326   </td><td style=\"text-align: right;\"> 0.0819299</td><td style=\"text-align: right;\">0.107297 </td><td style=\"text-align: right;\">-0.13724  </td><td style=\"text-align: right;\"> 0.0275202</td><td style=\"text-align: right;\"> 0.103236 </td><td style=\"text-align: right;\">0.149899 </td><td style=\"text-align: right;\">0.158365</td><td style=\"text-align: right;\">-0.209154</td><td style=\"text-align: right;\">-0.058551</td><td style=\"text-align: right;\">0.103407  </td><td style=\"text-align: right;\">0.0855044</td><td style=\"text-align: right;\">-0.0517969 </td><td style=\"text-align: right;\"> 0.0155602</td><td style=\"text-align: right;\">-0.0373277</td><td style=\"text-align: right;\"> 0.0484065</td><td style=\"text-align: right;\">-0.0469061</td><td style=\"text-align: right;\">0.028627 </td><td style=\"text-align: right;\">-0.10547  </td><td style=\"text-align: right;\">-0.0812122</td><td style=\"text-align: right;\"> 0.0667717</td><td style=\"text-align: right;\"> 0.028552 </td><td style=\"text-align: right;\"> 0.0907446 </td><td style=\"text-align: right;\">-0.0296406</td><td style=\"text-align: right;\"> 0.089977  </td><td style=\"text-align: right;\">0.111156</td><td style=\"text-align: right;\"> 0.0475175</td><td style=\"text-align: right;\">0.0112141</td><td style=\"text-align: right;\"> 0.0136322</td><td style=\"text-align: right;\">0.00635814</td><td style=\"text-align: right;\">-0.0597562 </td><td style=\"text-align: right;\">-0.0859784</td><td style=\"text-align: right;\"> 0.0885865</td><td style=\"text-align: right;\">-0.0434813</td><td style=\"text-align: right;\">-0.0501226</td><td style=\"text-align: right;\">-0.137153 </td><td style=\"text-align: right;\">0.183778 </td><td style=\"text-align: right;\">-0.185748 </td><td style=\"text-align: right;\">-0.165112 </td><td style=\"text-align: right;\"> 0.00767798</td><td style=\"text-align: right;\">-0.0651262</td><td style=\"text-align: right;\">0.0169025</td><td style=\"text-align: right;\"> 0.0384777</td><td style=\"text-align: right;\">0.0542043</td><td style=\"text-align: right;\"> 0.118894 </td><td style=\"text-align: right;\">-0.0289208</td><td style=\"text-align: right;\">-0.0138593</td><td style=\"text-align: right;\">0.295354</td><td style=\"text-align: right;\"> 0.131343 </td><td style=\"text-align: right;\">-0.0566233</td><td style=\"text-align: right;\">0.0349508</td><td style=\"text-align: right;\">0.00346211</td><td style=\"text-align: right;\">0.115903 </td><td style=\"text-align: right;\">-0.0173776</td><td style=\"text-align: right;\">-0.0946242</td><td style=\"text-align: right;\"> 0.205655 </td><td style=\"text-align: right;\">0.038784 </td><td style=\"text-align: right;\"> 0.173744  </td><td style=\"text-align: right;\">0.122513</td><td style=\"text-align: right;\">-0.0884568</td><td style=\"text-align: right;\">-0.139343</td><td style=\"text-align: right;\">0.063547 </td><td style=\"text-align: right;\">0.0585479</td><td style=\"text-align: right;\"> 0.0103606</td><td style=\"text-align: right;\">-0.013254  </td><td style=\"text-align: right;\">-0.0727496</td><td style=\"text-align: right;\"> 0.00631874</td><td style=\"text-align: right;\">-0.208654</td><td style=\"text-align: right;\">0.0899552</td><td style=\"text-align: right;\">-0.0041275</td><td style=\"text-align: right;\">-0.0873403</td><td style=\"text-align: right;\">-0.0595115</td><td style=\"text-align: right;\">0.0643746</td><td style=\"text-align: right;\"> 0.0183462</td><td style=\"text-align: right;\">0.0306298</td></tr>\n",
       "<tr><td>B0089SPEO2 </td><td>A3JOYNYL458QHP</td><td>Less lemon and less zing    </td><td style=\"text-align: right;\">      3</td><td style=\"text-align: right;\">                       0</td><td style=\"text-align: right;\"> 28582</td><td>coleridge          </td><td style=\"text-align: right;\">                     0</td><td style=\"text-align: right;\">1.32391e+09</td><td>Everything is ok, except it just isn't as good as it is in the bags.  Just considerably more bland -- less lemon and less zing.  Boring.                                                                                                                                                                                                                                        </td><td style=\"text-align: right;\">               0</td><td>Yes    </td><td style=\"text-align: right;\"> 0.0954537</td><td style=\"text-align: right;\">-0.00767106</td><td style=\"text-align: right;\">-0.0844922</td><td style=\"text-align: right;\"> 0.162538 </td><td style=\"text-align: right;\"> 0.0689488</td><td style=\"text-align: right;\"> 0.0946931</td><td style=\"text-align: right;\"> 0.0639001</td><td style=\"text-align: right;\">-0.164788</td><td style=\"text-align: right;\">0.0116408</td><td style=\"text-align: right;\"> 0.0293042</td><td style=\"text-align: right;\"> 0.116719  </td><td style=\"text-align: right;\">0.0832366</td><td style=\"text-align: right;\">-0.0641017 </td><td style=\"text-align: right;\">0.0499295</td><td style=\"text-align: right;\"> 0.00483758</td><td style=\"text-align: right;\"> 0.0197933</td><td style=\"text-align: right;\">0.106931</td><td style=\"text-align: right;\">-0.0302717</td><td style=\"text-align: right;\">-0.342306 </td><td style=\"text-align: right;\"> 0.0868531</td><td style=\"text-align: right;\"> 0.0333891</td><td style=\"text-align: right;\">-0.181619</td><td style=\"text-align: right;\">0.161322</td><td style=\"text-align: right;\">0.0415296</td><td style=\"text-align: right;\">-0.115911</td><td style=\"text-align: right;\">-0.000308342</td><td style=\"text-align: right;\">-0.036611 </td><td style=\"text-align: right;\">0.242438 </td><td style=\"text-align: right;\"> 0.0779001</td><td style=\"text-align: right;\">-0.0166447</td><td style=\"text-align: right;\">-0.0263826</td><td style=\"text-align: right;\">0.0880389</td><td style=\"text-align: right;\">0.132673</td><td style=\"text-align: right;\">-0.133066</td><td style=\"text-align: right;\">-0.193412</td><td style=\"text-align: right;\">0.00541177</td><td style=\"text-align: right;\">0.0285736</td><td style=\"text-align: right;\">-0.00442676</td><td style=\"text-align: right;\">-0.0138734</td><td style=\"text-align: right;\">-0.0893766</td><td style=\"text-align: right;\">-0.0832792</td><td style=\"text-align: right;\">-0.0364172</td><td style=\"text-align: right;\">0.10606  </td><td style=\"text-align: right;\">-0.0468201</td><td style=\"text-align: right;\"> 0.0140402</td><td style=\"text-align: right;\">-0.0570401</td><td style=\"text-align: right;\">-0.202029 </td><td style=\"text-align: right;\">-0.055616  </td><td style=\"text-align: right;\">-0.20974  </td><td style=\"text-align: right;\">-0.0110488 </td><td style=\"text-align: right;\">0.302709</td><td style=\"text-align: right;\">-0.110085 </td><td style=\"text-align: right;\">0.21333  </td><td style=\"text-align: right;\"> 0.124271 </td><td style=\"text-align: right;\">0.126975  </td><td style=\"text-align: right;\"> 0.0758298 </td><td style=\"text-align: right;\"> 0.0352949</td><td style=\"text-align: right;\"> 0.0118021</td><td style=\"text-align: right;\"> 0.102881 </td><td style=\"text-align: right;\"> 0.108014 </td><td style=\"text-align: right;\"> 0.122041 </td><td style=\"text-align: right;\">0.213534 </td><td style=\"text-align: right;\">-0.146178 </td><td style=\"text-align: right;\">-0.0747106</td><td style=\"text-align: right;\"> 0.0325057 </td><td style=\"text-align: right;\">-0.18518  </td><td style=\"text-align: right;\">0.0103385</td><td style=\"text-align: right;\">-0.0377434</td><td style=\"text-align: right;\">0.016926 </td><td style=\"text-align: right;\">-0.053162 </td><td style=\"text-align: right;\"> 0.011068 </td><td style=\"text-align: right;\">-0.0110801</td><td style=\"text-align: right;\">0.13462 </td><td style=\"text-align: right;\">-0.0280283</td><td style=\"text-align: right;\"> 0.103124 </td><td style=\"text-align: right;\">0.104072 </td><td style=\"text-align: right;\">0.0131332 </td><td style=\"text-align: right;\">0.0127396</td><td style=\"text-align: right;\">-0.0219036</td><td style=\"text-align: right;\">-0.0220267</td><td style=\"text-align: right;\">-0.0581494</td><td style=\"text-align: right;\">0.0462888</td><td style=\"text-align: right;\">-0.0667474 </td><td style=\"text-align: right;\">0.154485</td><td style=\"text-align: right;\">-0.0175949</td><td style=\"text-align: right;\">-0.187092</td><td style=\"text-align: right;\">0.0429194</td><td style=\"text-align: right;\">0.130966 </td><td style=\"text-align: right;\">-0.0595529</td><td style=\"text-align: right;\"> 0.00562216</td><td style=\"text-align: right;\">-0.0984785</td><td style=\"text-align: right;\"> 0.0664177 </td><td style=\"text-align: right;\">-0.127467</td><td style=\"text-align: right;\">0.118053 </td><td style=\"text-align: right;\"> 0.0282033</td><td style=\"text-align: right;\">-0.153154 </td><td style=\"text-align: right;\">-0.152386 </td><td style=\"text-align: right;\">0.0640156</td><td style=\"text-align: right;\">-0.0868252</td><td style=\"text-align: right;\">0.0543536</td></tr>\n",
       "<tr><td>B001PMCDK2 </td><td>A14TTMM0Z03Y2W</td><td>my cat goes crazy for these!</td><td style=\"text-align: right;\">      5</td><td style=\"text-align: right;\">                       0</td><td style=\"text-align: right;\">389965</td><td>Lindsay S. Bradford</td><td style=\"text-align: right;\">                     0</td><td style=\"text-align: right;\">1.3106e+09 </td><td>Best cat treat ever. There isn't anything comparable to the love my cat has for these treats, he snubs away any other kind now.<br />I know he likes to manipulate me with his cattiness but these treats are my way of manipulating him to come sit on my lap and have some chill time. :)                                                                                     </td><td style=\"text-align: right;\">               1</td><td>Yes    </td><td style=\"text-align: right;\"> 0.125585 </td><td style=\"text-align: right;\">-0.032561  </td><td style=\"text-align: right;\"> 0.0499473</td><td style=\"text-align: right;\"> 0.13657  </td><td style=\"text-align: right;\">-0.0506283</td><td style=\"text-align: right;\">-0.0656643</td><td style=\"text-align: right;\">-0.0554537</td><td style=\"text-align: right;\">-0.128319</td><td style=\"text-align: right;\">0.119599 </td><td style=\"text-align: right;\"> 0.115325 </td><td style=\"text-align: right;\"> 0.0255238 </td><td style=\"text-align: right;\">0.0137678</td><td style=\"text-align: right;\"> 0.00504837</td><td style=\"text-align: right;\">0.134345 </td><td style=\"text-align: right;\">-0.0108781 </td><td style=\"text-align: right;\"> 0.0359491</td><td style=\"text-align: right;\">0.116748</td><td style=\"text-align: right;\">-0.104321 </td><td style=\"text-align: right;\">-0.0355232</td><td style=\"text-align: right;\">-0.0182232</td><td style=\"text-align: right;\">-0.15485  </td><td style=\"text-align: right;\">-0.111141</td><td style=\"text-align: right;\">0.205746</td><td style=\"text-align: right;\">0.0284322</td><td style=\"text-align: right;\"> 0.120035</td><td style=\"text-align: right;\"> 0.234782   </td><td style=\"text-align: right;\"> 0.0966786</td><td style=\"text-align: right;\">0.0982171</td><td style=\"text-align: right;\">-0.0588846</td><td style=\"text-align: right;\"> 0.0195272</td><td style=\"text-align: right;\"> 0.0443646</td><td style=\"text-align: right;\">0.13264  </td><td style=\"text-align: right;\">0.188489</td><td style=\"text-align: right;\">-0.207189</td><td style=\"text-align: right;\">-0.142248</td><td style=\"text-align: right;\">0.136291  </td><td style=\"text-align: right;\">0.195514 </td><td style=\"text-align: right;\">-0.00763438</td><td style=\"text-align: right;\"> 0.0139827</td><td style=\"text-align: right;\">-0.0615404</td><td style=\"text-align: right;\">-0.0535333</td><td style=\"text-align: right;\">-0.0740881</td><td style=\"text-align: right;\">0.0501904</td><td style=\"text-align: right;\"> 0.0447331</td><td style=\"text-align: right;\">-0.172466 </td><td style=\"text-align: right;\"> 0.0127051</td><td style=\"text-align: right;\">-0.0585925</td><td style=\"text-align: right;\">-0.00254223</td><td style=\"text-align: right;\">-0.0769085</td><td style=\"text-align: right;\"> 0.00120073</td><td style=\"text-align: right;\">0.155888</td><td style=\"text-align: right;\">-0.0158356</td><td style=\"text-align: right;\">0.0984369</td><td style=\"text-align: right;\">-0.0195577</td><td style=\"text-align: right;\">0.0605884 </td><td style=\"text-align: right;\"> 0.00314969</td><td style=\"text-align: right;\">-0.0157124</td><td style=\"text-align: right;\">-0.102743 </td><td style=\"text-align: right;\">-0.0874608</td><td style=\"text-align: right;\">-0.0131776</td><td style=\"text-align: right;\">-0.0191596</td><td style=\"text-align: right;\">0.0865571</td><td style=\"text-align: right;\">-0.0948878</td><td style=\"text-align: right;\">-0.186816 </td><td style=\"text-align: right;\">-0.0289401 </td><td style=\"text-align: right;\">-0.105787 </td><td style=\"text-align: right;\">0.0467396</td><td style=\"text-align: right;\">-0.0736471</td><td style=\"text-align: right;\">0.152245 </td><td style=\"text-align: right;\"> 0.0546097</td><td style=\"text-align: right;\">-0.0104541</td><td style=\"text-align: right;\">-0.0582896</td><td style=\"text-align: right;\">0.11861 </td><td style=\"text-align: right;\"> 0.0825033</td><td style=\"text-align: right;\">-0.061094 </td><td style=\"text-align: right;\">0.114842 </td><td style=\"text-align: right;\">0.0799547 </td><td style=\"text-align: right;\">0.0996857</td><td style=\"text-align: right;\">-0.201071 </td><td style=\"text-align: right;\"> 0.0527969</td><td style=\"text-align: right;\"> 0.115182 </td><td style=\"text-align: right;\">0.0866911</td><td style=\"text-align: right;\"> 0.00291924</td><td style=\"text-align: right;\">0.205363</td><td style=\"text-align: right;\">-0.0413777</td><td style=\"text-align: right;\">-0.26016 </td><td style=\"text-align: right;\">0.119893 </td><td style=\"text-align: right;\">0.179649 </td><td style=\"text-align: right;\">-0.0667021</td><td style=\"text-align: right;\">-0.00191906</td><td style=\"text-align: right;\">-0.0521561</td><td style=\"text-align: right;\">-0.00656414</td><td style=\"text-align: right;\">-0.200034</td><td style=\"text-align: right;\">0.152909 </td><td style=\"text-align: right;\">-0.0682311</td><td style=\"text-align: right;\"> 0.0105146</td><td style=\"text-align: right;\">-0.0681751</td><td style=\"text-align: right;\">0.0273652</td><td style=\"text-align: right;\">-0.0085692</td><td style=\"text-align: right;\">0.0673636</td></tr>\n",
       "</tbody>\n",
       "</table>"
      ]
     },
     "metadata": {},
     "output_type": "display_data"
    },
    {
     "data": {
      "text/plain": []
     },
     "execution_count": 24,
     "metadata": {},
     "output_type": "execute_result"
    }
   ],
   "source": [
    "ext_reviews.head(3)"
   ]
  },
  {
   "cell_type": "markdown",
   "metadata": {},
   "source": [
    "## 1.5 Add Summary Column"
   ]
  },
  {
   "cell_type": "code",
   "execution_count": 25,
   "metadata": {},
   "outputs": [],
   "source": [
    "# Break summaries into sequence of word.\n",
    "summary_words = tokenize(reviews['Summary'].ascharacter())"
   ]
  },
  {
   "cell_type": "code",
   "execution_count": 26,
   "metadata": {},
   "outputs": [],
   "source": [
    "summary_vecs = w2v_model.transform(summary_words, aggregate_method='AVERAGE')\n",
    "summary_vecs.names = ['summary_'+ s for s in summary_vecs.names]\n",
    "\n",
    "ext_reviews_new = ext_reviews.cbind(summary_vecs)"
   ]
  },
  {
   "cell_type": "code",
   "execution_count": 27,
   "metadata": {},
   "outputs": [
    {
     "data": {
      "text/html": [
       "<table>\n",
       "<thead>\n",
       "<tr><th>ProductId  </th><th>UserId        </th><th>Summary                     </th><th style=\"text-align: right;\">  Score</th><th style=\"text-align: right;\">  HelpfulnessDenominator</th><th style=\"text-align: right;\">    Id</th><th>ProfileName        </th><th style=\"text-align: right;\">  HelpfulnessNumerator</th><th style=\"text-align: right;\">       Time</th><th>Text                                                                                                                                                                                                                                                                                                                                                                            </th><th style=\"text-align: right;\">  PositiveReview</th><th>Train  </th><th style=\"text-align: right;\">        C1</th><th style=\"text-align: right;\">         C2</th><th style=\"text-align: right;\">        C3</th><th style=\"text-align: right;\">        C4</th><th style=\"text-align: right;\">        C5</th><th style=\"text-align: right;\">        C6</th><th style=\"text-align: right;\">        C7</th><th style=\"text-align: right;\">       C8</th><th style=\"text-align: right;\">       C9</th><th style=\"text-align: right;\">       C10</th><th style=\"text-align: right;\">        C11</th><th style=\"text-align: right;\">      C12</th><th style=\"text-align: right;\">        C13</th><th style=\"text-align: right;\">      C14</th><th style=\"text-align: right;\">        C15</th><th style=\"text-align: right;\">       C16</th><th style=\"text-align: right;\">     C17</th><th style=\"text-align: right;\">       C18</th><th style=\"text-align: right;\">       C19</th><th style=\"text-align: right;\">       C20</th><th style=\"text-align: right;\">       C21</th><th style=\"text-align: right;\">      C22</th><th style=\"text-align: right;\">     C23</th><th style=\"text-align: right;\">      C24</th><th style=\"text-align: right;\">      C25</th><th style=\"text-align: right;\">         C26</th><th style=\"text-align: right;\">       C27</th><th style=\"text-align: right;\">      C28</th><th style=\"text-align: right;\">       C29</th><th style=\"text-align: right;\">       C30</th><th style=\"text-align: right;\">       C31</th><th style=\"text-align: right;\">      C32</th><th style=\"text-align: right;\">     C33</th><th style=\"text-align: right;\">      C34</th><th style=\"text-align: right;\">      C35</th><th style=\"text-align: right;\">       C36</th><th style=\"text-align: right;\">      C37</th><th style=\"text-align: right;\">        C38</th><th style=\"text-align: right;\">       C39</th><th style=\"text-align: right;\">       C40</th><th style=\"text-align: right;\">       C41</th><th style=\"text-align: right;\">       C42</th><th style=\"text-align: right;\">      C43</th><th style=\"text-align: right;\">       C44</th><th style=\"text-align: right;\">       C45</th><th style=\"text-align: right;\">       C46</th><th style=\"text-align: right;\">       C47</th><th style=\"text-align: right;\">        C48</th><th style=\"text-align: right;\">       C49</th><th style=\"text-align: right;\">        C50</th><th style=\"text-align: right;\">     C51</th><th style=\"text-align: right;\">       C52</th><th style=\"text-align: right;\">      C53</th><th style=\"text-align: right;\">       C54</th><th style=\"text-align: right;\">       C55</th><th style=\"text-align: right;\">        C56</th><th style=\"text-align: right;\">       C57</th><th style=\"text-align: right;\">       C58</th><th style=\"text-align: right;\">       C59</th><th style=\"text-align: right;\">       C60</th><th style=\"text-align: right;\">       C61</th><th style=\"text-align: right;\">      C62</th><th style=\"text-align: right;\">       C63</th><th style=\"text-align: right;\">       C64</th><th style=\"text-align: right;\">        C65</th><th style=\"text-align: right;\">       C66</th><th style=\"text-align: right;\">      C67</th><th style=\"text-align: right;\">       C68</th><th style=\"text-align: right;\">      C69</th><th style=\"text-align: right;\">       C70</th><th style=\"text-align: right;\">       C71</th><th style=\"text-align: right;\">       C72</th><th style=\"text-align: right;\">     C73</th><th style=\"text-align: right;\">       C74</th><th style=\"text-align: right;\">       C75</th><th style=\"text-align: right;\">      C76</th><th style=\"text-align: right;\">       C77</th><th style=\"text-align: right;\">      C78</th><th style=\"text-align: right;\">       C79</th><th style=\"text-align: right;\">       C80</th><th style=\"text-align: right;\">       C81</th><th style=\"text-align: right;\">      C82</th><th style=\"text-align: right;\">        C83</th><th style=\"text-align: right;\">     C84</th><th style=\"text-align: right;\">       C85</th><th style=\"text-align: right;\">      C86</th><th style=\"text-align: right;\">      C87</th><th style=\"text-align: right;\">      C88</th><th style=\"text-align: right;\">       C89</th><th style=\"text-align: right;\">        C90</th><th style=\"text-align: right;\">       C91</th><th style=\"text-align: right;\">        C92</th><th style=\"text-align: right;\">      C93</th><th style=\"text-align: right;\">      C94</th><th style=\"text-align: right;\">       C95</th><th style=\"text-align: right;\">       C96</th><th style=\"text-align: right;\">       C97</th><th style=\"text-align: right;\">      C98</th><th style=\"text-align: right;\">       C99</th><th style=\"text-align: right;\">     C100</th><th style=\"text-align: right;\">  summary_C1</th><th style=\"text-align: right;\">  summary_C2</th><th style=\"text-align: right;\">  summary_C3</th><th style=\"text-align: right;\">  summary_C4</th><th style=\"text-align: right;\">  summary_C5</th><th style=\"text-align: right;\">  summary_C6</th><th style=\"text-align: right;\">  summary_C7</th><th style=\"text-align: right;\">  summary_C8</th><th style=\"text-align: right;\">  summary_C9</th><th style=\"text-align: right;\">  summary_C10</th><th style=\"text-align: right;\">  summary_C11</th><th style=\"text-align: right;\">  summary_C12</th><th style=\"text-align: right;\">  summary_C13</th><th style=\"text-align: right;\">  summary_C14</th><th style=\"text-align: right;\">  summary_C15</th><th style=\"text-align: right;\">  summary_C16</th><th style=\"text-align: right;\">  summary_C17</th><th style=\"text-align: right;\">  summary_C18</th><th style=\"text-align: right;\">  summary_C19</th><th style=\"text-align: right;\">  summary_C20</th><th style=\"text-align: right;\">  summary_C21</th><th style=\"text-align: right;\">  summary_C22</th><th style=\"text-align: right;\">  summary_C23</th><th style=\"text-align: right;\">  summary_C24</th><th style=\"text-align: right;\">  summary_C25</th><th style=\"text-align: right;\">  summary_C26</th><th style=\"text-align: right;\">  summary_C27</th><th style=\"text-align: right;\">  summary_C28</th><th style=\"text-align: right;\">  summary_C29</th><th style=\"text-align: right;\">  summary_C30</th><th style=\"text-align: right;\">  summary_C31</th><th style=\"text-align: right;\">  summary_C32</th><th style=\"text-align: right;\">  summary_C33</th><th style=\"text-align: right;\">  summary_C34</th><th style=\"text-align: right;\">  summary_C35</th><th style=\"text-align: right;\">  summary_C36</th><th style=\"text-align: right;\">  summary_C37</th><th style=\"text-align: right;\">  summary_C38</th><th style=\"text-align: right;\">  summary_C39</th><th style=\"text-align: right;\">  summary_C40</th><th style=\"text-align: right;\">  summary_C41</th><th style=\"text-align: right;\">  summary_C42</th><th style=\"text-align: right;\">  summary_C43</th><th style=\"text-align: right;\">  summary_C44</th><th style=\"text-align: right;\">  summary_C45</th><th style=\"text-align: right;\">  summary_C46</th><th style=\"text-align: right;\">  summary_C47</th><th style=\"text-align: right;\">  summary_C48</th><th style=\"text-align: right;\">  summary_C49</th><th style=\"text-align: right;\">  summary_C50</th><th style=\"text-align: right;\">  summary_C51</th><th style=\"text-align: right;\">  summary_C52</th><th style=\"text-align: right;\">  summary_C53</th><th style=\"text-align: right;\">  summary_C54</th><th style=\"text-align: right;\">  summary_C55</th><th style=\"text-align: right;\">  summary_C56</th><th style=\"text-align: right;\">  summary_C57</th><th style=\"text-align: right;\">  summary_C58</th><th style=\"text-align: right;\">  summary_C59</th><th style=\"text-align: right;\">  summary_C60</th><th style=\"text-align: right;\">  summary_C61</th><th style=\"text-align: right;\">  summary_C62</th><th style=\"text-align: right;\">  summary_C63</th><th style=\"text-align: right;\">  summary_C64</th><th style=\"text-align: right;\">  summary_C65</th><th style=\"text-align: right;\">  summary_C66</th><th style=\"text-align: right;\">  summary_C67</th><th style=\"text-align: right;\">  summary_C68</th><th style=\"text-align: right;\">  summary_C69</th><th style=\"text-align: right;\">  summary_C70</th><th style=\"text-align: right;\">  summary_C71</th><th style=\"text-align: right;\">  summary_C72</th><th style=\"text-align: right;\">  summary_C73</th><th style=\"text-align: right;\">  summary_C74</th><th style=\"text-align: right;\">  summary_C75</th><th style=\"text-align: right;\">  summary_C76</th><th style=\"text-align: right;\">  summary_C77</th><th style=\"text-align: right;\">  summary_C78</th><th style=\"text-align: right;\">  summary_C79</th><th style=\"text-align: right;\">  summary_C80</th><th style=\"text-align: right;\">  summary_C81</th><th style=\"text-align: right;\">  summary_C82</th><th style=\"text-align: right;\">  summary_C83</th><th style=\"text-align: right;\">  summary_C84</th><th style=\"text-align: right;\">  summary_C85</th><th style=\"text-align: right;\">  summary_C86</th><th style=\"text-align: right;\">  summary_C87</th><th style=\"text-align: right;\">  summary_C88</th></tr>\n",
       "</thead>\n",
       "<tbody>\n",
       "<tr><td>B00141QYSQ </td><td>A1YS02UZZGRDCT</td><td>Do Not Buy                  </td><td style=\"text-align: right;\">      1</td><td style=\"text-align: right;\">                       2</td><td style=\"text-align: right;\"> 41471</td><td>Evan Eberhardt     </td><td style=\"text-align: right;\">                     2</td><td style=\"text-align: right;\">1.34836e+09</td><td>These are made in China (do not buy ANY pet food from China).  Dogswell has been using propylene glycol to soften their treats (what are they thinkng?).  Do not purchase or support this company in any way until they clean up their act.  And for whatever reason Amazon doesn't allow returns of this item, so I had to toss mine out.  Bad business all around on this one.</td><td style=\"text-align: right;\">               0</td><td>No     </td><td style=\"text-align: right;\">-0.0122179</td><td style=\"text-align: right;\">-0.0502994 </td><td style=\"text-align: right;\"> 0.0218073</td><td style=\"text-align: right;\">-0.0164256</td><td style=\"text-align: right;\"> 0.0656912</td><td style=\"text-align: right;\"> 0.0654515</td><td style=\"text-align: right;\"> 0.0828205</td><td style=\"text-align: right;\">-0.290214</td><td style=\"text-align: right;\">0.101126 </td><td style=\"text-align: right;\">-0.0493187</td><td style=\"text-align: right;\">-0.00657813</td><td style=\"text-align: right;\">0.0555338</td><td style=\"text-align: right;\"> 0.0792124 </td><td style=\"text-align: right;\">0.0862025</td><td style=\"text-align: right;\"> 0.0570924 </td><td style=\"text-align: right;\">-0.113151 </td><td style=\"text-align: right;\">0.11962 </td><td style=\"text-align: right;\">-0.0701777</td><td style=\"text-align: right;\">-0.185091 </td><td style=\"text-align: right;\"> 0.0567195</td><td style=\"text-align: right;\">-0.0798927</td><td style=\"text-align: right;\">-0.174119</td><td style=\"text-align: right;\">0.17994 </td><td style=\"text-align: right;\">0.137418 </td><td style=\"text-align: right;\"> 0.212948</td><td style=\"text-align: right;\"> 0.310326   </td><td style=\"text-align: right;\"> 0.0819299</td><td style=\"text-align: right;\">0.107297 </td><td style=\"text-align: right;\">-0.13724  </td><td style=\"text-align: right;\"> 0.0275202</td><td style=\"text-align: right;\"> 0.103236 </td><td style=\"text-align: right;\">0.149899 </td><td style=\"text-align: right;\">0.158365</td><td style=\"text-align: right;\">-0.209154</td><td style=\"text-align: right;\">-0.058551</td><td style=\"text-align: right;\">0.103407  </td><td style=\"text-align: right;\">0.0855044</td><td style=\"text-align: right;\">-0.0517969 </td><td style=\"text-align: right;\"> 0.0155602</td><td style=\"text-align: right;\">-0.0373277</td><td style=\"text-align: right;\"> 0.0484065</td><td style=\"text-align: right;\">-0.0469061</td><td style=\"text-align: right;\">0.028627 </td><td style=\"text-align: right;\">-0.10547  </td><td style=\"text-align: right;\">-0.0812122</td><td style=\"text-align: right;\"> 0.0667717</td><td style=\"text-align: right;\"> 0.028552 </td><td style=\"text-align: right;\"> 0.0907446 </td><td style=\"text-align: right;\">-0.0296406</td><td style=\"text-align: right;\"> 0.089977  </td><td style=\"text-align: right;\">0.111156</td><td style=\"text-align: right;\"> 0.0475175</td><td style=\"text-align: right;\">0.0112141</td><td style=\"text-align: right;\"> 0.0136322</td><td style=\"text-align: right;\">0.00635814</td><td style=\"text-align: right;\">-0.0597562 </td><td style=\"text-align: right;\">-0.0859784</td><td style=\"text-align: right;\"> 0.0885865</td><td style=\"text-align: right;\">-0.0434813</td><td style=\"text-align: right;\">-0.0501226</td><td style=\"text-align: right;\">-0.137153 </td><td style=\"text-align: right;\">0.183778 </td><td style=\"text-align: right;\">-0.185748 </td><td style=\"text-align: right;\">-0.165112 </td><td style=\"text-align: right;\"> 0.00767798</td><td style=\"text-align: right;\">-0.0651262</td><td style=\"text-align: right;\">0.0169025</td><td style=\"text-align: right;\"> 0.0384777</td><td style=\"text-align: right;\">0.0542043</td><td style=\"text-align: right;\"> 0.118894 </td><td style=\"text-align: right;\">-0.0289208</td><td style=\"text-align: right;\">-0.0138593</td><td style=\"text-align: right;\">0.295354</td><td style=\"text-align: right;\"> 0.131343 </td><td style=\"text-align: right;\">-0.0566233</td><td style=\"text-align: right;\">0.0349508</td><td style=\"text-align: right;\">0.00346211</td><td style=\"text-align: right;\">0.115903 </td><td style=\"text-align: right;\">-0.0173776</td><td style=\"text-align: right;\">-0.0946242</td><td style=\"text-align: right;\"> 0.205655 </td><td style=\"text-align: right;\">0.038784 </td><td style=\"text-align: right;\"> 0.173744  </td><td style=\"text-align: right;\">0.122513</td><td style=\"text-align: right;\">-0.0884568</td><td style=\"text-align: right;\">-0.139343</td><td style=\"text-align: right;\">0.063547 </td><td style=\"text-align: right;\">0.0585479</td><td style=\"text-align: right;\"> 0.0103606</td><td style=\"text-align: right;\">-0.013254  </td><td style=\"text-align: right;\">-0.0727496</td><td style=\"text-align: right;\"> 0.00631874</td><td style=\"text-align: right;\">-0.208654</td><td style=\"text-align: right;\">0.0899552</td><td style=\"text-align: right;\">-0.0041275</td><td style=\"text-align: right;\">-0.0873403</td><td style=\"text-align: right;\">-0.0595115</td><td style=\"text-align: right;\">0.0643746</td><td style=\"text-align: right;\"> 0.0183462</td><td style=\"text-align: right;\">0.0306298</td><td style=\"text-align: right;\">   0.161865 </td><td style=\"text-align: right;\">  -0.0929953</td><td style=\"text-align: right;\"> -0.102935  </td><td style=\"text-align: right;\">  -0.0217129</td><td style=\"text-align: right;\">   0.052762 </td><td style=\"text-align: right;\">    0.147362</td><td style=\"text-align: right;\">  -0.114468 </td><td style=\"text-align: right;\"> -0.150282  </td><td style=\"text-align: right;\">   0.277016 </td><td style=\"text-align: right;\">    0.189779 </td><td style=\"text-align: right;\">    0.0295461</td><td style=\"text-align: right;\">     0.260351</td><td style=\"text-align: right;\">    -0.027159</td><td style=\"text-align: right;\">   0.113816  </td><td style=\"text-align: right;\">    0.178716 </td><td style=\"text-align: right;\">    0.0990033</td><td style=\"text-align: right;\">    0.330658 </td><td style=\"text-align: right;\">    0.0260945</td><td style=\"text-align: right;\">    -0.081406</td><td style=\"text-align: right;\">    0.0794582</td><td style=\"text-align: right;\">    0.144575 </td><td style=\"text-align: right;\">    0.0497203</td><td style=\"text-align: right;\">    0.200064 </td><td style=\"text-align: right;\">    0.262005 </td><td style=\"text-align: right;\">     0.255146</td><td style=\"text-align: right;\">     0.151699</td><td style=\"text-align: right;\">    0.130417 </td><td style=\"text-align: right;\">   0.281153  </td><td style=\"text-align: right;\">   -0.0955602</td><td style=\"text-align: right;\">   -0.0428276</td><td style=\"text-align: right;\">    0.0406385</td><td style=\"text-align: right;\">     0.111282</td><td style=\"text-align: right;\">    0.122039 </td><td style=\"text-align: right;\">    -0.23685 </td><td style=\"text-align: right;\">    -0.113376</td><td style=\"text-align: right;\">     0.180925</td><td style=\"text-align: right;\">    0.203969 </td><td style=\"text-align: right;\">    0.175042 </td><td style=\"text-align: right;\">  -0.0782982 </td><td style=\"text-align: right;\">   -0.0384024</td><td style=\"text-align: right;\">    0.308335 </td><td style=\"text-align: right;\">   -0.267537 </td><td style=\"text-align: right;\">    0.127193 </td><td style=\"text-align: right;\">  0.179545   </td><td style=\"text-align: right;\">   -0.0484078</td><td style=\"text-align: right;\">   -0.0524322</td><td style=\"text-align: right;\">    0.0413071</td><td style=\"text-align: right;\">     0.120321</td><td style=\"text-align: right;\">    -0.203257</td><td style=\"text-align: right;\">   0.212815  </td><td style=\"text-align: right;\">    0.0161366</td><td style=\"text-align: right;\">   -0.093712 </td><td style=\"text-align: right;\">     0.121656</td><td style=\"text-align: right;\">   -0.0459529</td><td style=\"text-align: right;\">    0.0248216</td><td style=\"text-align: right;\">    0.0535782</td><td style=\"text-align: right;\">   0.187371  </td><td style=\"text-align: right;\">    0.0618226</td><td style=\"text-align: right;\">   -0.0666532</td><td style=\"text-align: right;\">   -0.0321787</td><td style=\"text-align: right;\">   -0.224544 </td><td style=\"text-align: right;\">    0.500062 </td><td style=\"text-align: right;\">   0.118816  </td><td style=\"text-align: right;\">  0.0574585  </td><td style=\"text-align: right;\">   -0.0568198</td><td style=\"text-align: right;\">   -0.0694349</td><td style=\"text-align: right;\">    0.0439924</td><td style=\"text-align: right;\">   -0.197363 </td><td style=\"text-align: right;\">   -0.0716455</td><td style=\"text-align: right;\">     0.128095</td><td style=\"text-align: right;\">   0.0851593 </td><td style=\"text-align: right;\">   -0.250005 </td><td style=\"text-align: right;\">   0.306093  </td><td style=\"text-align: right;\">   -0.0608246</td><td style=\"text-align: right;\">    0.0959114</td><td style=\"text-align: right;\">  5.90899e-05</td><td style=\"text-align: right;\">    0.111914 </td><td style=\"text-align: right;\">     0.180868</td><td style=\"text-align: right;\">     0.260694</td><td style=\"text-align: right;\">  -0.198516  </td><td style=\"text-align: right;\">    0.342787 </td><td style=\"text-align: right;\">    0.0556378</td><td style=\"text-align: right;\">    0.134193 </td><td style=\"text-align: right;\">     0.102734</td><td style=\"text-align: right;\">    0.173737 </td><td style=\"text-align: right;\">    -0.106434</td><td style=\"text-align: right;\">   -0.0684863</td><td style=\"text-align: right;\">    0.0366764</td></tr>\n",
       "<tr><td>B0089SPEO2 </td><td>A3JOYNYL458QHP</td><td>Less lemon and less zing    </td><td style=\"text-align: right;\">      3</td><td style=\"text-align: right;\">                       0</td><td style=\"text-align: right;\"> 28582</td><td>coleridge          </td><td style=\"text-align: right;\">                     0</td><td style=\"text-align: right;\">1.32391e+09</td><td>Everything is ok, except it just isn't as good as it is in the bags.  Just considerably more bland -- less lemon and less zing.  Boring.                                                                                                                                                                                                                                        </td><td style=\"text-align: right;\">               0</td><td>Yes    </td><td style=\"text-align: right;\"> 0.0954537</td><td style=\"text-align: right;\">-0.00767106</td><td style=\"text-align: right;\">-0.0844922</td><td style=\"text-align: right;\"> 0.162538 </td><td style=\"text-align: right;\"> 0.0689488</td><td style=\"text-align: right;\"> 0.0946931</td><td style=\"text-align: right;\"> 0.0639001</td><td style=\"text-align: right;\">-0.164788</td><td style=\"text-align: right;\">0.0116408</td><td style=\"text-align: right;\"> 0.0293042</td><td style=\"text-align: right;\"> 0.116719  </td><td style=\"text-align: right;\">0.0832366</td><td style=\"text-align: right;\">-0.0641017 </td><td style=\"text-align: right;\">0.0499295</td><td style=\"text-align: right;\"> 0.00483758</td><td style=\"text-align: right;\"> 0.0197933</td><td style=\"text-align: right;\">0.106931</td><td style=\"text-align: right;\">-0.0302717</td><td style=\"text-align: right;\">-0.342306 </td><td style=\"text-align: right;\"> 0.0868531</td><td style=\"text-align: right;\"> 0.0333891</td><td style=\"text-align: right;\">-0.181619</td><td style=\"text-align: right;\">0.161322</td><td style=\"text-align: right;\">0.0415296</td><td style=\"text-align: right;\">-0.115911</td><td style=\"text-align: right;\">-0.000308342</td><td style=\"text-align: right;\">-0.036611 </td><td style=\"text-align: right;\">0.242438 </td><td style=\"text-align: right;\"> 0.0779001</td><td style=\"text-align: right;\">-0.0166447</td><td style=\"text-align: right;\">-0.0263826</td><td style=\"text-align: right;\">0.0880389</td><td style=\"text-align: right;\">0.132673</td><td style=\"text-align: right;\">-0.133066</td><td style=\"text-align: right;\">-0.193412</td><td style=\"text-align: right;\">0.00541177</td><td style=\"text-align: right;\">0.0285736</td><td style=\"text-align: right;\">-0.00442676</td><td style=\"text-align: right;\">-0.0138734</td><td style=\"text-align: right;\">-0.0893766</td><td style=\"text-align: right;\">-0.0832792</td><td style=\"text-align: right;\">-0.0364172</td><td style=\"text-align: right;\">0.10606  </td><td style=\"text-align: right;\">-0.0468201</td><td style=\"text-align: right;\"> 0.0140402</td><td style=\"text-align: right;\">-0.0570401</td><td style=\"text-align: right;\">-0.202029 </td><td style=\"text-align: right;\">-0.055616  </td><td style=\"text-align: right;\">-0.20974  </td><td style=\"text-align: right;\">-0.0110488 </td><td style=\"text-align: right;\">0.302709</td><td style=\"text-align: right;\">-0.110085 </td><td style=\"text-align: right;\">0.21333  </td><td style=\"text-align: right;\"> 0.124271 </td><td style=\"text-align: right;\">0.126975  </td><td style=\"text-align: right;\"> 0.0758298 </td><td style=\"text-align: right;\"> 0.0352949</td><td style=\"text-align: right;\"> 0.0118021</td><td style=\"text-align: right;\"> 0.102881 </td><td style=\"text-align: right;\"> 0.108014 </td><td style=\"text-align: right;\"> 0.122041 </td><td style=\"text-align: right;\">0.213534 </td><td style=\"text-align: right;\">-0.146178 </td><td style=\"text-align: right;\">-0.0747106</td><td style=\"text-align: right;\"> 0.0325057 </td><td style=\"text-align: right;\">-0.18518  </td><td style=\"text-align: right;\">0.0103385</td><td style=\"text-align: right;\">-0.0377434</td><td style=\"text-align: right;\">0.016926 </td><td style=\"text-align: right;\">-0.053162 </td><td style=\"text-align: right;\"> 0.011068 </td><td style=\"text-align: right;\">-0.0110801</td><td style=\"text-align: right;\">0.13462 </td><td style=\"text-align: right;\">-0.0280283</td><td style=\"text-align: right;\"> 0.103124 </td><td style=\"text-align: right;\">0.104072 </td><td style=\"text-align: right;\">0.0131332 </td><td style=\"text-align: right;\">0.0127396</td><td style=\"text-align: right;\">-0.0219036</td><td style=\"text-align: right;\">-0.0220267</td><td style=\"text-align: right;\">-0.0581494</td><td style=\"text-align: right;\">0.0462888</td><td style=\"text-align: right;\">-0.0667474 </td><td style=\"text-align: right;\">0.154485</td><td style=\"text-align: right;\">-0.0175949</td><td style=\"text-align: right;\">-0.187092</td><td style=\"text-align: right;\">0.0429194</td><td style=\"text-align: right;\">0.130966 </td><td style=\"text-align: right;\">-0.0595529</td><td style=\"text-align: right;\"> 0.00562216</td><td style=\"text-align: right;\">-0.0984785</td><td style=\"text-align: right;\"> 0.0664177 </td><td style=\"text-align: right;\">-0.127467</td><td style=\"text-align: right;\">0.118053 </td><td style=\"text-align: right;\"> 0.0282033</td><td style=\"text-align: right;\">-0.153154 </td><td style=\"text-align: right;\">-0.152386 </td><td style=\"text-align: right;\">0.0640156</td><td style=\"text-align: right;\">-0.0868252</td><td style=\"text-align: right;\">0.0543536</td><td style=\"text-align: right;\">   0.0321949</td><td style=\"text-align: right;\">  -0.0365287</td><td style=\"text-align: right;\"> -0.103727  </td><td style=\"text-align: right;\">   0.26305  </td><td style=\"text-align: right;\">   0.209733 </td><td style=\"text-align: right;\">    0.17614 </td><td style=\"text-align: right;\">   0.199351 </td><td style=\"text-align: right;\"> -0.0570506 </td><td style=\"text-align: right;\">  -0.0706193</td><td style=\"text-align: right;\">    0.0392211</td><td style=\"text-align: right;\">    0.285281 </td><td style=\"text-align: right;\">     0.234006</td><td style=\"text-align: right;\">    -0.17048 </td><td style=\"text-align: right;\">  -0.00975723</td><td style=\"text-align: right;\">   -0.0248133</td><td style=\"text-align: right;\">   -0.0917012</td><td style=\"text-align: right;\">    0.0484087</td><td style=\"text-align: right;\">   -0.143408 </td><td style=\"text-align: right;\">    -0.40878 </td><td style=\"text-align: right;\">    0.212864 </td><td style=\"text-align: right;\">   -0.0909584</td><td style=\"text-align: right;\">   -0.382812 </td><td style=\"text-align: right;\">    0.0928897</td><td style=\"text-align: right;\">    0.0296151</td><td style=\"text-align: right;\">    -0.186643</td><td style=\"text-align: right;\">    -0.103807</td><td style=\"text-align: right;\">   -0.176264 </td><td style=\"text-align: right;\">   0.326953  </td><td style=\"text-align: right;\">    0.159489 </td><td style=\"text-align: right;\">    0.0513922</td><td style=\"text-align: right;\">   -0.0374744</td><td style=\"text-align: right;\">     0.186809</td><td style=\"text-align: right;\">    0.0603824</td><td style=\"text-align: right;\">    -0.257688</td><td style=\"text-align: right;\">    -0.147334</td><td style=\"text-align: right;\">    -0.017643</td><td style=\"text-align: right;\">    0.0505566</td><td style=\"text-align: right;\">    0.0807313</td><td style=\"text-align: right;\">   0.0265965 </td><td style=\"text-align: right;\">   -0.242012 </td><td style=\"text-align: right;\">   -0.0829356</td><td style=\"text-align: right;\">   -0.0141102</td><td style=\"text-align: right;\">    0.187015 </td><td style=\"text-align: right;\"> -0.117769   </td><td style=\"text-align: right;\">    0.0597931</td><td style=\"text-align: right;\">    0.0374971</td><td style=\"text-align: right;\">   -0.287662 </td><td style=\"text-align: right;\">    -0.161116</td><td style=\"text-align: right;\">    -0.241622</td><td style=\"text-align: right;\">  -0.0194974 </td><td style=\"text-align: right;\">    0.150664 </td><td style=\"text-align: right;\">   -0.114756 </td><td style=\"text-align: right;\">     0.334595</td><td style=\"text-align: right;\">    0.131498 </td><td style=\"text-align: right;\">    0.108618 </td><td style=\"text-align: right;\">    0.0524536</td><td style=\"text-align: right;\">   0.00154761</td><td style=\"text-align: right;\">   -0.0382227</td><td style=\"text-align: right;\">    0.247153 </td><td style=\"text-align: right;\">    0.24563  </td><td style=\"text-align: right;\">    0.0709991</td><td style=\"text-align: right;\">    0.25953  </td><td style=\"text-align: right;\">   0.00662008</td><td style=\"text-align: right;\">  0.0286873  </td><td style=\"text-align: right;\">    0.122885 </td><td style=\"text-align: right;\">   -0.240655 </td><td style=\"text-align: right;\">   -0.0375905</td><td style=\"text-align: right;\">   -0.168266 </td><td style=\"text-align: right;\">    0.0643522</td><td style=\"text-align: right;\">    -0.146922</td><td style=\"text-align: right;\">  -0.00933813</td><td style=\"text-align: right;\">   -0.0342868</td><td style=\"text-align: right;\">   0.0894407 </td><td style=\"text-align: right;\">    0.0251315</td><td style=\"text-align: right;\">    0.0229139</td><td style=\"text-align: right;\">  0.195064   </td><td style=\"text-align: right;\">   -0.0235197</td><td style=\"text-align: right;\">    -0.188007</td><td style=\"text-align: right;\">    -0.113676</td><td style=\"text-align: right;\">   0.00983593</td><td style=\"text-align: right;\">   -0.219563 </td><td style=\"text-align: right;\">   -0.0254408</td><td style=\"text-align: right;\">   -0.0624905</td><td style=\"text-align: right;\">     0.143663</td><td style=\"text-align: right;\">    0.0668768</td><td style=\"text-align: right;\">    -0.291947</td><td style=\"text-align: right;\">   -0.0704451</td><td style=\"text-align: right;\">    0.0223824</td></tr>\n",
       "<tr><td>B001PMCDK2 </td><td>A14TTMM0Z03Y2W</td><td>my cat goes crazy for these!</td><td style=\"text-align: right;\">      5</td><td style=\"text-align: right;\">                       0</td><td style=\"text-align: right;\">389965</td><td>Lindsay S. Bradford</td><td style=\"text-align: right;\">                     0</td><td style=\"text-align: right;\">1.3106e+09 </td><td>Best cat treat ever. There isn't anything comparable to the love my cat has for these treats, he snubs away any other kind now.<br />I know he likes to manipulate me with his cattiness but these treats are my way of manipulating him to come sit on my lap and have some chill time. :)                                                                                     </td><td style=\"text-align: right;\">               1</td><td>Yes    </td><td style=\"text-align: right;\"> 0.125585 </td><td style=\"text-align: right;\">-0.032561  </td><td style=\"text-align: right;\"> 0.0499473</td><td style=\"text-align: right;\"> 0.13657  </td><td style=\"text-align: right;\">-0.0506283</td><td style=\"text-align: right;\">-0.0656643</td><td style=\"text-align: right;\">-0.0554537</td><td style=\"text-align: right;\">-0.128319</td><td style=\"text-align: right;\">0.119599 </td><td style=\"text-align: right;\"> 0.115325 </td><td style=\"text-align: right;\"> 0.0255238 </td><td style=\"text-align: right;\">0.0137678</td><td style=\"text-align: right;\"> 0.00504837</td><td style=\"text-align: right;\">0.134345 </td><td style=\"text-align: right;\">-0.0108781 </td><td style=\"text-align: right;\"> 0.0359491</td><td style=\"text-align: right;\">0.116748</td><td style=\"text-align: right;\">-0.104321 </td><td style=\"text-align: right;\">-0.0355232</td><td style=\"text-align: right;\">-0.0182232</td><td style=\"text-align: right;\">-0.15485  </td><td style=\"text-align: right;\">-0.111141</td><td style=\"text-align: right;\">0.205746</td><td style=\"text-align: right;\">0.0284322</td><td style=\"text-align: right;\"> 0.120035</td><td style=\"text-align: right;\"> 0.234782   </td><td style=\"text-align: right;\"> 0.0966786</td><td style=\"text-align: right;\">0.0982171</td><td style=\"text-align: right;\">-0.0588846</td><td style=\"text-align: right;\"> 0.0195272</td><td style=\"text-align: right;\"> 0.0443646</td><td style=\"text-align: right;\">0.13264  </td><td style=\"text-align: right;\">0.188489</td><td style=\"text-align: right;\">-0.207189</td><td style=\"text-align: right;\">-0.142248</td><td style=\"text-align: right;\">0.136291  </td><td style=\"text-align: right;\">0.195514 </td><td style=\"text-align: right;\">-0.00763438</td><td style=\"text-align: right;\"> 0.0139827</td><td style=\"text-align: right;\">-0.0615404</td><td style=\"text-align: right;\">-0.0535333</td><td style=\"text-align: right;\">-0.0740881</td><td style=\"text-align: right;\">0.0501904</td><td style=\"text-align: right;\"> 0.0447331</td><td style=\"text-align: right;\">-0.172466 </td><td style=\"text-align: right;\"> 0.0127051</td><td style=\"text-align: right;\">-0.0585925</td><td style=\"text-align: right;\">-0.00254223</td><td style=\"text-align: right;\">-0.0769085</td><td style=\"text-align: right;\"> 0.00120073</td><td style=\"text-align: right;\">0.155888</td><td style=\"text-align: right;\">-0.0158356</td><td style=\"text-align: right;\">0.0984369</td><td style=\"text-align: right;\">-0.0195577</td><td style=\"text-align: right;\">0.0605884 </td><td style=\"text-align: right;\"> 0.00314969</td><td style=\"text-align: right;\">-0.0157124</td><td style=\"text-align: right;\">-0.102743 </td><td style=\"text-align: right;\">-0.0874608</td><td style=\"text-align: right;\">-0.0131776</td><td style=\"text-align: right;\">-0.0191596</td><td style=\"text-align: right;\">0.0865571</td><td style=\"text-align: right;\">-0.0948878</td><td style=\"text-align: right;\">-0.186816 </td><td style=\"text-align: right;\">-0.0289401 </td><td style=\"text-align: right;\">-0.105787 </td><td style=\"text-align: right;\">0.0467396</td><td style=\"text-align: right;\">-0.0736471</td><td style=\"text-align: right;\">0.152245 </td><td style=\"text-align: right;\"> 0.0546097</td><td style=\"text-align: right;\">-0.0104541</td><td style=\"text-align: right;\">-0.0582896</td><td style=\"text-align: right;\">0.11861 </td><td style=\"text-align: right;\"> 0.0825033</td><td style=\"text-align: right;\">-0.061094 </td><td style=\"text-align: right;\">0.114842 </td><td style=\"text-align: right;\">0.0799547 </td><td style=\"text-align: right;\">0.0996857</td><td style=\"text-align: right;\">-0.201071 </td><td style=\"text-align: right;\"> 0.0527969</td><td style=\"text-align: right;\"> 0.115182 </td><td style=\"text-align: right;\">0.0866911</td><td style=\"text-align: right;\"> 0.00291924</td><td style=\"text-align: right;\">0.205363</td><td style=\"text-align: right;\">-0.0413777</td><td style=\"text-align: right;\">-0.26016 </td><td style=\"text-align: right;\">0.119893 </td><td style=\"text-align: right;\">0.179649 </td><td style=\"text-align: right;\">-0.0667021</td><td style=\"text-align: right;\">-0.00191906</td><td style=\"text-align: right;\">-0.0521561</td><td style=\"text-align: right;\">-0.00656414</td><td style=\"text-align: right;\">-0.200034</td><td style=\"text-align: right;\">0.152909 </td><td style=\"text-align: right;\">-0.0682311</td><td style=\"text-align: right;\"> 0.0105146</td><td style=\"text-align: right;\">-0.0681751</td><td style=\"text-align: right;\">0.0273652</td><td style=\"text-align: right;\">-0.0085692</td><td style=\"text-align: right;\">0.0673636</td><td style=\"text-align: right;\">   0.328149 </td><td style=\"text-align: right;\">  -0.0894767</td><td style=\"text-align: right;\"> -0.00590773</td><td style=\"text-align: right;\">   0.218459 </td><td style=\"text-align: right;\">  -0.0602397</td><td style=\"text-align: right;\">   -0.183803</td><td style=\"text-align: right;\">  -0.0701868</td><td style=\"text-align: right;\">  0.00540108</td><td style=\"text-align: right;\">   0.271031 </td><td style=\"text-align: right;\">    0.127585 </td><td style=\"text-align: right;\">    0.0148648</td><td style=\"text-align: right;\">     0.191155</td><td style=\"text-align: right;\">    -0.050988</td><td style=\"text-align: right;\">  -0.0543418 </td><td style=\"text-align: right;\">   -0.0902839</td><td style=\"text-align: right;\">    0.0874498</td><td style=\"text-align: right;\">    0.0965435</td><td style=\"text-align: right;\">   -0.0743529</td><td style=\"text-align: right;\">     0.122818</td><td style=\"text-align: right;\">   -0.0177084</td><td style=\"text-align: right;\">   -0.196702 </td><td style=\"text-align: right;\">   -0.268769 </td><td style=\"text-align: right;\">    0.460892 </td><td style=\"text-align: right;\">    0.087212 </td><td style=\"text-align: right;\">     0.126823</td><td style=\"text-align: right;\">     0.370126</td><td style=\"text-align: right;\">    0.0863402</td><td style=\"text-align: right;\">  -0.00295529</td><td style=\"text-align: right;\">    0.0521004</td><td style=\"text-align: right;\">    0.0575521</td><td style=\"text-align: right;\">   -0.0311142</td><td style=\"text-align: right;\">    -0.109456</td><td style=\"text-align: right;\">    0.275801 </td><td style=\"text-align: right;\">    -0.17672 </td><td style=\"text-align: right;\">    -0.276198</td><td style=\"text-align: right;\">     0.195018</td><td style=\"text-align: right;\">    0.244104 </td><td style=\"text-align: right;\">    0.175133 </td><td style=\"text-align: right;\">   0.00368363</td><td style=\"text-align: right;\">    0.0229749</td><td style=\"text-align: right;\">   -0.0342489</td><td style=\"text-align: right;\">   -0.285235 </td><td style=\"text-align: right;\">   -0.0778704</td><td style=\"text-align: right;\"> -0.000594032</td><td style=\"text-align: right;\">   -0.430359 </td><td style=\"text-align: right;\">    0.0593321</td><td style=\"text-align: right;\">   -0.14347  </td><td style=\"text-align: right;\">     0.123827</td><td style=\"text-align: right;\">    -0.131639</td><td style=\"text-align: right;\">   0.00317603</td><td style=\"text-align: right;\">    0.316497 </td><td style=\"text-align: right;\">   -0.0908128</td><td style=\"text-align: right;\">     0.177103</td><td style=\"text-align: right;\">    0.0421986</td><td style=\"text-align: right;\">   -0.0509502</td><td style=\"text-align: right;\">   -0.0121788</td><td style=\"text-align: right;\">  -0.0807086 </td><td style=\"text-align: right;\">   -0.254006 </td><td style=\"text-align: right;\">    0.0594475</td><td style=\"text-align: right;\">    0.105943 </td><td style=\"text-align: right;\">   -0.0583172</td><td style=\"text-align: right;\">   -0.0120464</td><td style=\"text-align: right;\">  -0.0727818 </td><td style=\"text-align: right;\"> -0.000757995</td><td style=\"text-align: right;\">   -0.0515174</td><td style=\"text-align: right;\">   -0.229237 </td><td style=\"text-align: right;\">   -0.107481 </td><td style=\"text-align: right;\">   -0.0671834</td><td style=\"text-align: right;\">    0.131796 </td><td style=\"text-align: right;\">     0.236894</td><td style=\"text-align: right;\">   0.0998985 </td><td style=\"text-align: right;\">    0.0513687</td><td style=\"text-align: right;\">   0.00300815</td><td style=\"text-align: right;\">    0.316575 </td><td style=\"text-align: right;\">   -0.0333518</td><td style=\"text-align: right;\">  0.261614   </td><td style=\"text-align: right;\">   -0.044338 </td><td style=\"text-align: right;\">     0.112522</td><td style=\"text-align: right;\">    -0.235289</td><td style=\"text-align: right;\">   0.123119  </td><td style=\"text-align: right;\">    0.0841828</td><td style=\"text-align: right;\">    0.106708 </td><td style=\"text-align: right;\">    0.0888789</td><td style=\"text-align: right;\">     0.101997</td><td style=\"text-align: right;\">   -0.040148 </td><td style=\"text-align: right;\">    -0.208768</td><td style=\"text-align: right;\">    0.273066 </td><td style=\"text-align: right;\">    0.310592 </td></tr>\n",
       "</tbody>\n",
       "</table>"
      ]
     },
     "metadata": {},
     "output_type": "display_data"
    },
    {
     "data": {
      "text/plain": []
     },
     "execution_count": 27,
     "metadata": {},
     "output_type": "execute_result"
    }
   ],
   "source": [
    "ext_reviews_new.head(3)"
   ]
  },
  {
   "cell_type": "code",
   "execution_count": 28,
   "metadata": {},
   "outputs": [],
   "source": [
    "ext_train_new = ext_reviews_new[ext_reviews_new[\"Train\"] == \"Yes\"]\n",
    "ext_test_new = ext_reviews_new[ext_reviews_new[\"Train\"] == \"No\"]"
   ]
  },
  {
   "cell_type": "code",
   "execution_count": 29,
   "metadata": {},
   "outputs": [],
   "source": [
    "def plot_par_dep_ICE(xs, par_dep_frame):\n",
    "\n",
    "    \n",
    "    \"\"\" Plots ICE overlayed onto partial dependence for a single variable.\n",
    "    \n",
    "    Args: \n",
    "        xs: Name of variable for which to plot ICE and partial dependence.\n",
    "        par_dep_frame: Name of Pandas DataFrame containing ICE and partial\n",
    "                       dependence values.\n",
    "    \n",
    "    \"\"\"\n",
    "    \n",
    "    # initialize figure and axis\n",
    "    fig, ax = plt.subplots()\n",
    "    \n",
    "    # plot ICE curves\n",
    "    par_dep_frame.drop('partial_dependence', axis=1).plot(x=xs, \n",
    "                                                          colormap='gnuplot',\n",
    "                                                          ax=ax)\n",
    "\n",
    "    # overlay partial dependence, annotate plot\n",
    "    par_dep_frame.plot(title='Partial Dependence and ICE for ' + str(xs),\n",
    "                       x=xs, \n",
    "                       y='partial_dependence',\n",
    "                       style='r-', \n",
    "                       linewidth=3, \n",
    "                       ax=ax)\n",
    "\n",
    "    # add legend\n",
    "    _ = plt.legend(bbox_to_anchor=(1.05, 0),\n",
    "                   loc=3, \n",
    "                   borderaxespad=0.)"
   ]
  },
  {
   "cell_type": "markdown",
   "metadata": {},
   "source": [
    "# 2 Training Models"
   ]
  },
  {
   "cell_type": "markdown",
   "metadata": {},
   "source": [
    "## 2.1 Linear Regression"
   ]
  },
  {
   "cell_type": "markdown",
   "metadata": {},
   "source": [
    "### 2.1.1 Train & Fit Model"
   ]
  },
  {
   "cell_type": "code",
   "execution_count": 30,
   "metadata": {},
   "outputs": [],
   "source": [
    "predictors = ['ProductId', 'UserId', 'HelpfulnessNumerator', 'HelpfulnessDenominator', 'Time'] + summary_vecs.names + review_vecs.names \n",
    "response = 'PositiveReview'"
   ]
  },
  {
   "cell_type": "code",
   "execution_count": 31,
   "metadata": {},
   "outputs": [
    {
     "name": "stdout",
     "output_type": "stream",
     "text": [
      "glm Model Build progress: |███████████████████████████████████████████████| 100%\n"
     ]
    }
   ],
   "source": [
    "# Initialize\n",
    "local_glm_plus = H2OGeneralizedLinearEstimator(family='binomial', model_id='glm_surrogate', lambda_search=True)\n",
    "# train \n",
    "local_glm_plus.train(x=predictors, y=response, training_frame=ext_train_new)"
   ]
  },
  {
   "cell_type": "code",
   "execution_count": 32,
   "metadata": {},
   "outputs": [
    {
     "data": {
      "text/plain": [
       "h2o.estimators.glm.H2OGeneralizedLinearEstimator"
      ]
     },
     "execution_count": 32,
     "metadata": {},
     "output_type": "execute_result"
    }
   ],
   "source": [
    "type(local_glm_plus)"
   ]
  },
  {
   "cell_type": "markdown",
   "metadata": {},
   "source": [
    "### 2.1.2 Interpretability"
   ]
  },
  {
   "cell_type": "markdown",
   "metadata": {},
   "source": [
    "#### Variable Importance"
   ]
  },
  {
   "cell_type": "code",
   "execution_count": 33,
   "metadata": {},
   "outputs": [
    {
     "data": {
      "image/png": "[encoded data removed]",
      "text/plain": [
       "<Figure size 1008x720 with 1 Axes>"
      ]
     },
     "metadata": {
      "needs_background": "light"
     },
     "output_type": "display_data"
    }
   ],
   "source": [
    "local_glm_plus.varimp_plot()"
   ]
  },
  {
   "cell_type": "markdown",
   "metadata": {},
   "source": [
    "#### Partial Dependence Plot (PDP)"
   ]
  },
  {
   "cell_type": "code",
   "execution_count": 34,
   "metadata": {},
   "outputs": [
    {
     "name": "stdout",
     "output_type": "stream",
     "text": [
      "PartialDependencePlot progress: |█████████████████████████████████████████| 100%\n"
     ]
    },
    {
     "data": {
      "image/png": "[encoded data removed]",
      "text/plain": [
       "<Figure size 504x720 with 1 Axes>"
      ]
     },
     "metadata": {
      "needs_background": "light"
     },
     "output_type": "display_data"
    }
   ],
   "source": [
    "pdp_local_linear_plus = local_glm_plus.partial_plot(data = ext_train_new, cols = [\"HelpfulnessNumerator\"])"
   ]
  },
  {
   "cell_type": "markdown",
   "metadata": {},
   "source": [
    "#### Individual Conditional Expectation (ICE)"
   ]
  },
  {
   "cell_type": "code",
   "execution_count": 37,
   "metadata": {},
   "outputs": [
    {
     "name": "stderr",
     "output_type": "stream",
     "text": [
      "b'Skipping line 3: expected 212 fields, saw 229\\nSkipping line 6: expected 212 fields, saw 214\\nSkipping line 16: expected 212 fields, saw 217\\nSkipping line 17: expected 212 fields, saw 216\\nSkipping line 21: expected 212 fields, saw 214\\nSkipping line 26: expected 212 fields, saw 218\\nSkipping line 32: expected 212 fields, saw 224\\nSkipping line 39: expected 212 fields, saw 213\\nSkipping line 55: expected 212 fields, saw 220\\nSkipping line 73: expected 212 fields, saw 218\\nSkipping line 74: expected 212 fields, saw 213\\nSkipping line 78: expected 212 fields, saw 222\\nSkipping line 106: expected 212 fields, saw 214\\nSkipping line 114: expected 212 fields, saw 214\\nSkipping line 116: expected 212 fields, saw 213\\nSkipping line 120: expected 212 fields, saw 217\\nSkipping line 133: expected 212 fields, saw 213\\nSkipping line 136: expected 212 fields, saw 225\\nSkipping line 137: expected 212 fields, saw 218\\nSkipping line 141: expected 212 fields, saw 213\\nSkipping line 145: expected 212 fields, saw 213\\nSkipping line 162: expected 212 fields, saw 213\\nSkipping line 192: expected 212 fields, saw 222\\nSkipping line 198: expected 212 fields, saw 214\\nSkipping line 211: expected 212 fields, saw 215\\nSkipping line 228: expected 212 fields, saw 216\\nSkipping line 232: expected 212 fields, saw 218\\nSkipping line 234: expected 212 fields, saw 216\\nSkipping line 265: expected 212 fields, saw 214\\nSkipping line 285: expected 212 fields, saw 214\\nSkipping line 289: expected 212 fields, saw 214\\nSkipping line 300: expected 212 fields, saw 213\\nSkipping line 311: expected 212 fields, saw 213\\nSkipping line 313: expected 212 fields, saw 218\\nSkipping line 319: expected 212 fields, saw 227\\nSkipping line 335: expected 212 fields, saw 222\\nSkipping line 338: expected 212 fields, saw 213\\nSkipping line 345: expected 212 fields, saw 217\\nSkipping line 358: expected 212 fields, saw 224\\nSkipping line 362: expected 212 fields, saw 220\\nSkipping line 365: expected 212 fields, saw 213\\nSkipping line 373: expected 212 fields, saw 215\\nSkipping line 377: expected 212 fields, saw 214\\nSkipping line 378: expected 212 fields, saw 213\\nSkipping line 386: expected 212 fields, saw 218\\nSkipping line 390: expected 212 fields, saw 216\\nSkipping line 392: expected 212 fields, saw 217\\nSkipping line 397: expected 212 fields, saw 214\\nSkipping line 403: expected 212 fields, saw 215\\nSkipping line 405: expected 212 fields, saw 219\\nSkipping line 409: expected 212 fields, saw 215\\nSkipping line 421: expected 212 fields, saw 216\\nSkipping line 427: expected 212 fields, saw 218\\nSkipping line 449: expected 212 fields, saw 213\\nSkipping line 465: expected 212 fields, saw 215\\nSkipping line 479: expected 212 fields, saw 213\\nSkipping line 485: expected 212 fields, saw 213\\nSkipping line 486: expected 212 fields, saw 219\\nSkipping line 492: expected 212 fields, saw 214\\nSkipping line 506: expected 212 fields, saw 214\\nSkipping line 523: expected 212 fields, saw 217\\nSkipping line 527: expected 212 fields, saw 213\\nSkipping line 528: expected 212 fields, saw 216\\nSkipping line 543: expected 212 fields, saw 255\\nSkipping line 550: expected 212 fields, saw 213\\nSkipping line 551: expected 212 fields, saw 217\\nSkipping line 561: expected 212 fields, saw 213\\nSkipping line 574: expected 212 fields, saw 213\\nSkipping line 583: expected 212 fields, saw 213\\nSkipping line 586: expected 212 fields, saw 217\\nSkipping line 598: expected 212 fields, saw 216\\nSkipping line 629: expected 212 fields, saw 214\\nSkipping line 637: expected 212 fields, saw 216\\nSkipping line 645: expected 212 fields, saw 215\\nSkipping line 665: expected 212 fields, saw 214\\nSkipping line 691: expected 212 fields, saw 214\\nSkipping line 693: expected 212 fields, saw 218\\nSkipping line 704: expected 212 fields, saw 219\\nSkipping line 705: expected 212 fields, saw 217\\nSkipping line 706: expected 212 fields, saw 215\\nSkipping line 718: expected 212 fields, saw 214\\nSkipping line 720: expected 212 fields, saw 213\\nSkipping line 728: expected 212 fields, saw 217\\nSkipping line 735: expected 212 fields, saw 217\\nSkipping line 770: expected 212 fields, saw 222\\nSkipping line 777: expected 212 fields, saw 213\\nSkipping line 785: expected 212 fields, saw 214\\nSkipping line 806: expected 212 fields, saw 213\\nSkipping line 812: expected 212 fields, saw 228\\nSkipping line 819: expected 212 fields, saw 213\\nSkipping line 830: expected 212 fields, saw 223\\nSkipping line 844: expected 212 fields, saw 219\\nSkipping line 865: expected 212 fields, saw 236\\nSkipping line 866: expected 212 fields, saw 226\\nSkipping line 881: expected 212 fields, saw 213\\nSkipping line 910: expected 212 fields, saw 222\\nSkipping line 912: expected 212 fields, saw 214\\nSkipping line 922: expected 212 fields, saw 213\\nSkipping line 939: expected 212 fields, saw 220\\nSkipping line 941: expected 212 fields, saw 213\\nSkipping line 946: expected 212 fields, saw 214\\nSkipping line 948: expected 212 fields, saw 218\\nSkipping line 950: expected 212 fields, saw 218\\nSkipping line 966: expected 212 fields, saw 221\\nSkipping line 972: expected 212 fields, saw 229\\nSkipping line 976: expected 212 fields, saw 213\\nSkipping line 998: expected 212 fields, saw 213\\nSkipping line 1001: expected 212 fields, saw 219\\nSkipping line 1006: expected 212 fields, saw 213\\nSkipping line 1010: expected 212 fields, saw 213\\nSkipping line 1013: expected 212 fields, saw 213\\nSkipping line 1017: expected 212 fields, saw 215\\nSkipping line 1021: expected 212 fields, saw 219\\nSkipping line 1025: expected 212 fields, saw 217\\nSkipping line 1026: expected 212 fields, saw 213\\nSkipping line 1035: expected 212 fields, saw 222\\nSkipping line 1049: expected 212 fields, saw 213\\nSkipping line 1064: expected 212 fields, saw 214\\nSkipping line 1074: expected 212 fields, saw 213\\nSkipping line 1090: expected 212 fields, saw 213\\nSkipping line 1093: expected 212 fields, saw 219\\nSkipping line 1096: expected 212 fields, saw 221\\nSkipping line 1100: expected 212 fields, saw 225\\nSkipping line 1106: expected 212 fields, saw 223\\nSkipping line 1107: expected 212 fields, saw 231\\nSkipping line 1126: expected 212 fields, saw 213\\nSkipping line 1127: expected 212 fields, saw 224\\nSkipping line 1134: expected 212 fields, saw 214\\nSkipping line 1144: expected 212 fields, saw 214\\nSkipping line 1152: expected 212 fields, saw 230\\nSkipping line 1155: expected 212 fields, saw 218\\nSkipping line 1161: expected 212 fields, saw 215\\nSkipping line 1179: expected 212 fields, saw 219\\nSkipping line 1181: expected 212 fields, saw 213\\nSkipping line 1184: expected 212 fields, saw 213\\nSkipping line 1194: expected 212 fields, saw 214\\nSkipping line 1202: expected 212 fields, saw 219\\nSkipping line 1207: expected 212 fields, saw 213\\nSkipping line 1242: expected 212 fields, saw 213\\nSkipping line 1246: expected 212 fields, saw 213\\nSkipping line 1253: expected 212 fields, saw 213\\nSkipping line 1268: expected 212 fields, saw 213\\nSkipping line 1270: expected 212 fields, saw 217\\nSkipping line 1278: expected 212 fields, saw 213\\nSkipping line 1289: expected 212 fields, saw 218\\nSkipping line 1308: expected 212 fields, saw 220\\nSkipping line 1317: expected 212 fields, saw 255\\nSkipping line 1335: expected 212 fields, saw 213\\nSkipping line 1357: expected 212 fields, saw 217\\nSkipping line 1369: expected 212 fields, saw 215\\nSkipping line 1374: expected 212 fields, saw 216\\nSkipping line 1383: expected 212 fields, saw 213\\nSkipping line 1407: expected 212 fields, saw 213\\nSkipping line 1447: expected 212 fields, saw 214\\nSkipping line 1460: expected 212 fields, saw 216\\nSkipping line 1467: expected 212 fields, saw 216\\nSkipping line 1468: expected 212 fields, saw 213\\nSkipping line 1469: expected 212 fields, saw 217\\nSkipping line 1476: expected 212 fields, saw 213\\nSkipping line 1479: expected 212 fields, saw 214\\nSkipping line 1489: expected 212 fields, saw 216\\nSkipping line 1508: expected 212 fields, saw 215\\nSkipping line 1521: expected 212 fields, saw 214\\nSkipping line 1545: expected 212 fields, saw 229\\nSkipping line 1551: expected 212 fields, saw 213\\nSkipping line 1557: expected 212 fields, saw 213\\nSkipping line 1582: expected 212 fields, saw 213\\nSkipping line 1595: expected 212 fields, saw 219\\nSkipping line 1604: expected 212 fields, saw 216\\nSkipping line 1610: expected 212 fields, saw 215\\nSkipping line 1618: expected 212 fields, saw 223\\nSkipping line 1623: expected 212 fields, saw 216\\nSkipping line 1641: expected 212 fields, saw 214\\nSkipping line 1647: expected 212 fields, saw 215\\nSkipping line 1668: expected 212 fields, saw 216\\nSkipping line 1687: expected 212 fields, saw 214\\nSkipping line 1696: expected 212 fields, saw 215\\nSkipping line 1723: expected 212 fields, saw 234\\nSkipping line 1731: expected 212 fields, saw 223\\nSkipping line 1734: expected 212 fields, saw 218\\nSkipping line 1741: expected 212 fields, saw 218\\nSkipping line 1754: expected 212 fields, saw 215\\nSkipping line 1758: expected 212 fields, saw 220\\nSkipping line 1763: expected 212 fields, saw 213\\nSkipping line 1766: expected 212 fields, saw 215\\nSkipping line 1774: expected 212 fields, saw 217\\nSkipping line 1781: expected 212 fields, saw 231\\nSkipping line 1782: expected 212 fields, saw 213\\nSkipping line 1786: expected 212 fields, saw 214\\nSkipping line 1807: expected 212 fields, saw 224\\nSkipping line 1820: expected 212 fields, saw 217\\nSkipping line 1829: expected 212 fields, saw 215\\nSkipping line 1830: expected 212 fields, saw 217\\nSkipping line 1832: expected 212 fields, saw 218\\nSkipping line 1838: expected 212 fields, saw 218\\nSkipping line 1845: expected 212 fields, saw 237\\nSkipping line 1861: expected 212 fields, saw 224\\nSkipping line 1863: expected 212 fields, saw 214\\nSkipping line 1884: expected 212 fields, saw 229\\nSkipping line 1905: expected 212 fields, saw 220\\nSkipping line 1907: expected 212 fields, saw 232\\nSkipping line 1921: expected 212 fields, saw 225\\nSkipping line 1939: expected 212 fields, saw 216\\nSkipping line 1953: expected 212 fields, saw 221\\nSkipping line 1983: expected 212 fields, saw 214\\nSkipping line 1985: expected 212 fields, saw 222\\nSkipping line 1991: expected 212 fields, saw 224\\nSkipping line 1992: expected 212 fields, saw 213\\nSkipping line 1999: expected 212 fields, saw 220\\nSkipping line 2004: expected 212 fields, saw 213\\nSkipping line 2034: expected 212 fields, saw 217\\nSkipping line 2047: expected 212 fields, saw 217\\nSkipping line 2048: expected 212 fields, saw 218\\nSkipping line 2085: expected 212 fields, saw 213\\nSkipping line 2087: expected 212 fields, saw 216\\nSkipping line 2113: expected 212 fields, saw 215\\nSkipping line 2129: expected 212 fields, saw 214\\nSkipping line 2135: expected 212 fields, saw 214\\nSkipping line 2139: expected 212 fields, saw 218\\nSkipping line 2150: expected 212 fields, saw 214\\nSkipping line 2153: expected 212 fields, saw 216\\nSkipping line 2160: expected 212 fields, saw 214\\nSkipping line 2171: expected 212 fields, saw 218\\nSkipping line 2179: expected 212 fields, saw 213\\nSkipping line 2182: expected 212 fields, saw 215\\nSkipping line 2193: expected 212 fields, saw 213\\nSkipping line 2203: expected 212 fields, saw 264\\nSkipping line 2205: expected 212 fields, saw 216\\nSkipping line 2222: expected 212 fields, saw 214\\nSkipping line 2227: expected 212 fields, saw 213\\nSkipping line 2239: expected 212 fields, saw 219\\nSkipping line 2253: expected 212 fields, saw 217\\nSkipping line 2257: expected 212 fields, saw 228\\nSkipping line 2260: expected 212 fields, saw 219\\nSkipping line 2262: expected 212 fields, saw 221\\nSkipping line 2265: expected 212 fields, saw 219\\nSkipping line 2356: expected 212 fields, saw 213\\nSkipping line 2370: expected 212 fields, saw 215\\nSkipping line 2374: expected 212 fields, saw 216\\nSkipping line 2387: expected 212 fields, saw 214\\nSkipping line 2397: expected 212 fields, saw 215\\nSkipping line 2400: expected 212 fields, saw 214\\nSkipping line 2422: expected 212 fields, saw 213\\nSkipping line 2447: expected 212 fields, saw 213\\nSkipping line 2489: expected 212 fields, saw 220\\nSkipping line 2496: expected 212 fields, saw 213\\nSkipping line 2497: expected 212 fields, saw 219\\nSkipping line 2498: expected 212 fields, saw 214\\nSkipping line 2522: expected 212 fields, saw 215\\nSkipping line 2533: expected 212 fields, saw 214\\nSkipping line 2539: expected 212 fields, saw 214\\nSkipping line 2554: expected 212 fields, saw 214\\nSkipping line 2555: expected 212 fields, saw 214\\nSkipping line 2570: expected 212 fields, saw 215\\nSkipping line 2582: expected 212 fields, saw 225\\nSkipping line 2587: expected 212 fields, saw 213\\nSkipping line 2600: expected 212 fields, saw 213\\nSkipping line 2603: expected 212 fields, saw 213\\nSkipping line 2613: expected 212 fields, saw 221\\nSkipping line 2622: expected 212 fields, saw 216\\nSkipping line 2625: expected 212 fields, saw 215\\nSkipping line 2629: expected 212 fields, saw 230\\nSkipping line 2630: expected 212 fields, saw 213\\nSkipping line 2641: expected 212 fields, saw 224\\nSkipping line 2661: expected 212 fields, saw 214\\nSkipping line 2664: expected 212 fields, saw 215\\nSkipping line 2670: expected 212 fields, saw 213\\nSkipping line 2692: expected 212 fields, saw 213\\nSkipping line 2693: expected 212 fields, saw 219\\nSkipping line 2697: expected 212 fields, saw 214\\nSkipping line 2705: expected 212 fields, saw 225\\nSkipping line 2716: expected 212 fields, saw 213\\nSkipping line 2725: expected 212 fields, saw 217\\nSkipping line 2728: expected 212 fields, saw 213\\nSkipping line 2753: expected 212 fields, saw 213\\nSkipping line 2755: expected 212 fields, saw 216\\nSkipping line 2802: expected 212 fields, saw 219\\nSkipping line 2815: expected 212 fields, saw 214\\nSkipping line 2827: expected 212 fields, saw 214\\nSkipping line 2829: expected 212 fields, saw 215\\nSkipping line 2837: expected 212 fields, saw 214\\nSkipping line 2845: expected 212 fields, saw 218\\nSkipping line 2852: expected 212 fields, saw 213\\nSkipping line 2870: expected 212 fields, saw 214\\nSkipping line 2879: expected 212 fields, saw 222\\nSkipping line 2891: expected 212 fields, saw 224\\nSkipping line 2894: expected 212 fields, saw 215\\nSkipping line 2896: expected 212 fields, saw 220\\nSkipping line 2898: expected 212 fields, saw 220\\nSkipping line 2919: expected 212 fields, saw 213\\nSkipping line 2923: expected 212 fields, saw 214\\nSkipping line 2933: expected 212 fields, saw 214\\nSkipping line 2953: expected 212 fields, saw 217\\nSkipping line 2962: expected 212 fields, saw 214\\nSkipping line 2974: expected 212 fields, saw 216\\nSkipping line 2993: expected 212 fields, saw 240\\nSkipping line 2999: expected 212 fields, saw 214\\nSkipping line 3013: expected 212 fields, saw 216\\nSkipping line 3035: expected 212 fields, saw 222\\nSkipping line 3036: expected 212 fields, saw 214\\nSkipping line 3044: expected 212 fields, saw 214\\nSkipping line 3056: expected 212 fields, saw 213\\nSkipping line 3059: expected 212 fields, saw 214\\nSkipping line 3076: expected 212 fields, saw 225\\nSkipping line 3080: expected 212 fields, saw 214\\nSkipping line 3087: expected 212 fields, saw 214\\nSkipping line 3090: expected 212 fields, saw 217\\nSkipping line 3108: expected 212 fields, saw 221\\nSkipping line 3116: expected 212 fields, saw 214\\nSkipping line 3117: expected 212 fields, saw 216\\nSkipping line 3119: expected 212 fields, saw 217\\nSkipping line 3126: expected 212 fields, saw 217\\nSkipping line 3137: expected 212 fields, saw 214\\nSkipping line 3148: expected 212 fields, saw 222\\nSkipping line 3163: expected 212 fields, saw 214\\nSkipping line 3182: expected 212 fields, saw 224\\nSkipping line 3203: expected 212 fields, saw 227\\nSkipping line 3217: expected 212 fields, saw 213\\nSkipping line 3225: expected 212 fields, saw 229\\nSkipping line 3235: expected 212 fields, saw 215\\nSkipping line 3256: expected 212 fields, saw 215\\nSkipping line 3260: expected 212 fields, saw 216\\nSkipping line 3269: expected 212 fields, saw 214\\nSkipping line 3272: expected 212 fields, saw 218\\nSkipping line 3286: expected 212 fields, saw 216\\nSkipping line 3307: expected 212 fields, saw 215\\nSkipping line 3319: expected 212 fields, saw 213\\nSkipping line 3322: expected 212 fields, saw 213\\nSkipping line 3334: expected 212 fields, saw 214\\nSkipping line 3335: expected 212 fields, saw 220\\nSkipping line 3339: expected 212 fields, saw 223\\nSkipping line 3342: expected 212 fields, saw 214\\nSkipping line 3352: expected 212 fields, saw 225\\nSkipping line 3355: expected 212 fields, saw 216\\nSkipping line 3372: expected 212 fields, saw 217\\nSkipping line 3379: expected 212 fields, saw 214\\nSkipping line 3386: expected 212 fields, saw 219\\nSkipping line 3390: expected 212 fields, saw 213\\nSkipping line 3394: expected 212 fields, saw 214\\nSkipping line 3414: expected 212 fields, saw 215\\nSkipping line 3422: expected 212 fields, saw 217\\nSkipping line 3423: expected 212 fields, saw 220\\nSkipping line 3431: expected 212 fields, saw 218\\nSkipping line 3433: expected 212 fields, saw 214\\nSkipping line 3437: expected 212 fields, saw 235\\nSkipping line 3452: expected 212 fields, saw 215\\nSkipping line 3465: expected 212 fields, saw 215\\nSkipping line 3481: expected 212 fields, saw 215\\nSkipping line 3485: expected 212 fields, saw 218\\nSkipping line 3488: expected 212 fields, saw 217\\nSkipping line 3498: expected 212 fields, saw 215\\nSkipping line 3504: expected 212 fields, saw 220\\nSkipping line 3509: expected 212 fields, saw 214\\nSkipping line 3512: expected 212 fields, saw 215\\nSkipping line 3537: expected 212 fields, saw 213\\nSkipping line 3552: expected 212 fields, saw 214\\nSkipping line 3554: expected 212 fields, saw 224\\nSkipping line 3557: expected 212 fields, saw 215\\nSkipping line 3563: expected 212 fields, saw 214\\nSkipping line 3564: expected 212 fields, saw 215\\nSkipping line 3566: expected 212 fields, saw 213\\nSkipping line 3567: expected 212 fields, saw 222\\nSkipping line 3587: expected 212 fields, saw 213\\nSkipping line 3588: expected 212 fields, saw 213\\nSkipping line 3592: expected 212 fields, saw 213\\nSkipping line 3603: expected 212 fields, saw 215\\nSkipping line 3610: expected 212 fields, saw 214\\nSkipping line 3634: expected 212 fields, saw 216\\nSkipping line 3642: expected 212 fields, saw 213\\nSkipping line 3661: expected 212 fields, saw 217\\nSkipping line 3667: expected 212 fields, saw 214\\nSkipping line 3670: expected 212 fields, saw 214\\nSkipping line 3733: expected 212 fields, saw 219\\nSkipping line 3735: expected 212 fields, saw 223\\nSkipping line 3747: expected 212 fields, saw 217\\nSkipping line 3748: expected 212 fields, saw 237\\nSkipping line 3767: expected 212 fields, saw 214\\nSkipping line 3778: expected 212 fields, saw 213\\nSkipping line 3791: expected 212 fields, saw 224\\nSkipping line 3792: expected 212 fields, saw 213\\nSkipping line 3802: expected 212 fields, saw 227\\nSkipping line 3814: expected 212 fields, saw 216\\nSkipping line 3824: expected 212 fields, saw 224\\nSkipping line 3829: expected 212 fields, saw 213\\nSkipping line 3848: expected 212 fields, saw 214\\nSkipping line 3856: expected 212 fields, saw 220\\nSkipping line 3868: expected 212 fields, saw 224\\nSkipping line 3880: expected 212 fields, saw 213\\nSkipping line 3901: expected 212 fields, saw 214\\nSkipping line 3914: expected 212 fields, saw 218\\nSkipping line 3935: expected 212 fields, saw 213\\nSkipping line 3936: expected 212 fields, saw 213\\nSkipping line 3946: expected 212 fields, saw 216\\nSkipping line 3948: expected 212 fields, saw 217\\nSkipping line 3957: expected 212 fields, saw 213\\nSkipping line 3966: expected 212 fields, saw 218\\nSkipping line 3986: expected 212 fields, saw 213\\nSkipping line 3988: expected 212 fields, saw 213\\nSkipping line 3989: expected 212 fields, saw 215\\nSkipping line 4005: expected 212 fields, saw 214\\nSkipping line 4034: expected 212 fields, saw 215\\nSkipping line 4042: expected 212 fields, saw 213\\nSkipping line 4053: expected 212 fields, saw 213\\nSkipping line 4054: expected 212 fields, saw 214\\nSkipping line 4060: expected 212 fields, saw 217\\nSkipping line 4069: expected 212 fields, saw 216\\nSkipping line 4072: expected 212 fields, saw 220\\nSkipping line 4079: expected 212 fields, saw 216\\nSkipping line 4084: expected 212 fields, saw 217\\nSkipping line 4091: expected 212 fields, saw 213\\nSkipping line 4092: expected 212 fields, saw 253\\nSkipping line 4099: expected 212 fields, saw 214\\nSkipping line 4115: expected 212 fields, saw 221\\nSkipping line 4125: expected 212 fields, saw 215\\nSkipping line 4134: expected 212 fields, saw 219\\nSkipping line 4143: expected 212 fields, saw 222\\nSkipping line 4158: expected 212 fields, saw 214\\nSkipping line 4167: expected 212 fields, saw 220\\nSkipping line 4185: expected 212 fields, saw 218\\nSkipping line 4188: expected 212 fields, saw 214\\nSkipping line 4190: expected 212 fields, saw 214\\nSkipping line 4191: expected 212 fields, saw 220\\nSkipping line 4200: expected 212 fields, saw 213\\nSkipping line 4219: expected 212 fields, saw 218\\nSkipping line 4232: expected 212 fields, saw 213\\nSkipping line 4233: expected 212 fields, saw 214\\nSkipping line 4235: expected 212 fields, saw 213\\nSkipping line 4239: expected 212 fields, saw 213\\nSkipping line 4241: expected 212 fields, saw 214\\nSkipping line 4249: expected 212 fields, saw 216\\nSkipping line 4274: expected 212 fields, saw 229\\nSkipping line 4286: expected 212 fields, saw 225\\nSkipping line 4291: expected 212 fields, saw 214\\nSkipping line 4300: expected 212 fields, saw 213\\nSkipping line 4302: expected 212 fields, saw 218\\nSkipping line 4306: expected 212 fields, saw 226\\nSkipping line 4307: expected 212 fields, saw 214\\nSkipping line 4308: expected 212 fields, saw 218\\nSkipping line 4310: expected 212 fields, saw 214\\nSkipping line 4314: expected 212 fields, saw 214\\nSkipping line 4317: expected 212 fields, saw 215\\nSkipping line 4322: expected 212 fields, saw 216\\nSkipping line 4323: expected 212 fields, saw 217\\nSkipping line 4327: expected 212 fields, saw 213\\nSkipping line 4349: expected 212 fields, saw 220\\nSkipping line 4351: expected 212 fields, saw 217\\nSkipping line 4354: expected 212 fields, saw 213\\nSkipping line 4355: expected 212 fields, saw 213\\nSkipping line 4360: expected 212 fields, saw 214\\nSkipping line 4375: expected 212 fields, saw 214\\nSkipping line 4381: expected 212 fields, saw 215\\nSkipping line 4407: expected 212 fields, saw 216\\nSkipping line 4417: expected 212 fields, saw 217\\nSkipping line 4421: expected 212 fields, saw 213\\nSkipping line 4423: expected 212 fields, saw 224\\nSkipping line 4454: expected 212 fields, saw 215\\nSkipping line 4464: expected 212 fields, saw 213\\nSkipping line 4466: expected 212 fields, saw 216\\nSkipping line 4468: expected 212 fields, saw 214\\nSkipping line 4492: expected 212 fields, saw 213\\nSkipping line 4497: expected 212 fields, saw 213\\nSkipping line 4510: expected 212 fields, saw 219\\nSkipping line 4540: expected 212 fields, saw 213\\nSkipping line 4551: expected 212 fields, saw 215\\nSkipping line 4552: expected 212 fields, saw 220\\nSkipping line 4554: expected 212 fields, saw 223\\nSkipping line 4566: expected 212 fields, saw 217\\nSkipping line 4568: expected 212 fields, saw 217\\nSkipping line 4574: expected 212 fields, saw 215\\nSkipping line 4579: expected 212 fields, saw 220\\nSkipping line 4596: expected 212 fields, saw 216\\nSkipping line 4599: expected 212 fields, saw 223\\nSkipping line 4638: expected 212 fields, saw 216\\nSkipping line 4650: expected 212 fields, saw 213\\nSkipping line 4653: expected 212 fields, saw 222\\nSkipping line 4655: expected 212 fields, saw 215\\nSkipping line 4658: expected 212 fields, saw 213\\nSkipping line 4679: expected 212 fields, saw 224\\nSkipping line 4699: expected 212 fields, saw 217\\nSkipping line 4732: expected 212 fields, saw 213\\nSkipping line 4740: expected 212 fields, saw 214\\nSkipping line 4769: expected 212 fields, saw 219\\nSkipping line 4773: expected 212 fields, saw 213\\nSkipping line 4803: expected 212 fields, saw 213\\nSkipping line 4809: expected 212 fields, saw 213\\nSkipping line 4822: expected 212 fields, saw 214\\nSkipping line 4845: expected 212 fields, saw 218\\nSkipping line 4866: expected 212 fields, saw 229\\nSkipping line 4869: expected 212 fields, saw 220\\nSkipping line 4879: expected 212 fields, saw 216\\nSkipping line 4889: expected 212 fields, saw 215\\nSkipping line 4893: expected 212 fields, saw 219\\nSkipping line 4896: expected 212 fields, saw 214\\nSkipping line 4898: expected 212 fields, saw 215\\nSkipping line 4904: expected 212 fields, saw 213\\nSkipping line 4907: expected 212 fields, saw 218\\nSkipping line 4915: expected 212 fields, saw 215\\nSkipping line 4920: expected 212 fields, saw 217\\nSkipping line 4926: expected 212 fields, saw 216\\nSkipping line 4943: expected 212 fields, saw 213\\nSkipping line 4947: expected 212 fields, saw 214\\nSkipping line 4949: expected 212 fields, saw 215\\nSkipping line 4961: expected 212 fields, saw 214\\nSkipping line 4968: expected 212 fields, saw 213\\nSkipping line 4979: expected 212 fields, saw 213\\nSkipping line 4988: expected 212 fields, saw 213\\nSkipping line 4992: expected 212 fields, saw 217\\nSkipping line 4994: expected 212 fields, saw 217\\nSkipping line 4997: expected 212 fields, saw 213\\nSkipping line 4998: expected 212 fields, saw 221\\nSkipping line 5006: expected 212 fields, saw 214\\nSkipping line 5007: expected 212 fields, saw 214\\nSkipping line 5013: expected 212 fields, saw 216\\nSkipping line 5053: expected 212 fields, saw 221\\nSkipping line 5066: expected 212 fields, saw 213\\nSkipping line 5067: expected 212 fields, saw 216\\nSkipping line 5068: expected 212 fields, saw 236\\nSkipping line 5079: expected 212 fields, saw 221\\nSkipping line 5081: expected 212 fields, saw 214\\nSkipping line 5088: expected 212 fields, saw 214\\nSkipping line 5100: expected 212 fields, saw 214\\nSkipping line 5103: expected 212 fields, saw 217\\nSkipping line 5107: expected 212 fields, saw 214\\nSkipping line 5116: expected 212 fields, saw 213\\nSkipping line 5131: expected 212 fields, saw 216\\nSkipping line 5144: expected 212 fields, saw 223\\nSkipping line 5147: expected 212 fields, saw 215\\nSkipping line 5150: expected 212 fields, saw 213\\nSkipping line 5156: expected 212 fields, saw 229\\nSkipping line 5166: expected 212 fields, saw 214\\nSkipping line 5187: expected 212 fields, saw 221\\nSkipping line 5190: expected 212 fields, saw 215\\nSkipping line 5191: expected 212 fields, saw 213\\nSkipping line 5194: expected 212 fields, saw 215\\nSkipping line 5204: expected 212 fields, saw 220\\nSkipping line 5205: expected 212 fields, saw 213\\nSkipping line 5210: expected 212 fields, saw 218\\nSkipping line 5211: expected 212 fields, saw 228\\nSkipping line 5221: expected 212 fields, saw 214\\nSkipping line 5239: expected 212 fields, saw 220\\nSkipping line 5241: expected 212 fields, saw 217\\nSkipping line 5251: expected 212 fields, saw 219\\nSkipping line 5262: expected 212 fields, saw 214\\nSkipping line 5263: expected 212 fields, saw 217\\nSkipping line 5272: expected 212 fields, saw 213\\nSkipping line 5275: expected 212 fields, saw 216\\nSkipping line 5276: expected 212 fields, saw 213\\nSkipping line 5283: expected 212 fields, saw 216\\nSkipping line 5298: expected 212 fields, saw 223\\nSkipping line 5309: expected 212 fields, saw 216\\nSkipping line 5324: expected 212 fields, saw 216\\nSkipping line 5343: expected 212 fields, saw 215\\nSkipping line 5345: expected 212 fields, saw 214\\nSkipping line 5353: expected 212 fields, saw 213\\nSkipping line 5359: expected 212 fields, saw 214\\nSkipping line 5370: expected 212 fields, saw 218\\nSkipping line 5377: expected 212 fields, saw 215\\nSkipping line 5389: expected 212 fields, saw 216\\nSkipping line 5397: expected 212 fields, saw 216\\nSkipping line 5408: expected 212 fields, saw 223\\nSkipping line 5415: expected 212 fields, saw 218\\nSkipping line 5421: expected 212 fields, saw 217\\nSkipping line 5427: expected 212 fields, saw 214\\nSkipping line 5435: expected 212 fields, saw 213\\nSkipping line 5455: expected 212 fields, saw 215\\nSkipping line 5466: expected 212 fields, saw 225\\nSkipping line 5469: expected 212 fields, saw 216\\nSkipping line 5476: expected 212 fields, saw 221\\nSkipping line 5487: expected 212 fields, saw 224\\nSkipping line 5495: expected 212 fields, saw 213\\nSkipping line 5501: expected 212 fields, saw 213\\nSkipping line 5511: expected 212 fields, saw 213\\nSkipping line 5535: expected 212 fields, saw 215\\nSkipping line 5566: expected 212 fields, saw 213\\nSkipping line 5571: expected 212 fields, saw 214\\nSkipping line 5573: expected 212 fields, saw 216\\nSkipping line 5580: expected 212 fields, saw 213\\nSkipping line 5586: expected 212 fields, saw 214\\nSkipping line 5617: expected 212 fields, saw 216\\nSkipping line 5626: expected 212 fields, saw 230\\nSkipping line 5651: expected 212 fields, saw 217\\nSkipping line 5662: expected 212 fields, saw 213\\nSkipping line 5683: expected 212 fields, saw 213\\nSkipping line 5685: expected 212 fields, saw 223\\nSkipping line 5691: expected 212 fields, saw 215\\nSkipping line 5695: expected 212 fields, saw 213\\nSkipping line 5706: expected 212 fields, saw 217\\nSkipping line 5708: expected 212 fields, saw 225\\nSkipping line 5735: expected 212 fields, saw 218\\nSkipping line 5748: expected 212 fields, saw 221\\nSkipping line 5752: expected 212 fields, saw 213\\nSkipping line 5755: expected 212 fields, saw 222\\nSkipping line 5763: expected 212 fields, saw 218\\nSkipping line 5774: expected 212 fields, saw 213\\nSkipping line 5778: expected 212 fields, saw 216\\nSkipping line 5810: expected 212 fields, saw 214\\nSkipping line 5812: expected 212 fields, saw 215\\nSkipping line 5814: expected 212 fields, saw 217\\nSkipping line 5841: expected 212 fields, saw 214\\nSkipping line 5842: expected 212 fields, saw 217\\nSkipping line 5848: expected 212 fields, saw 225\\nSkipping line 5853: expected 212 fields, saw 219\\nSkipping line 5860: expected 212 fields, saw 213\\nSkipping line 5872: expected 212 fields, saw 215\\nSkipping line 5882: expected 212 fields, saw 217\\nSkipping line 5890: expected 212 fields, saw 220\\nSkipping line 5899: expected 212 fields, saw 218\\nSkipping line 5901: expected 212 fields, saw 256\\nSkipping line 5907: expected 212 fields, saw 217\\nSkipping line 5920: expected 212 fields, saw 216\\nSkipping line 5930: expected 212 fields, saw 213\\nSkipping line 5938: expected 212 fields, saw 216\\nSkipping line 5953: expected 212 fields, saw 214\\nSkipping line 5984: expected 212 fields, saw 219\\nSkipping line 5991: expected 212 fields, saw 213\\nSkipping line 6013: expected 212 fields, saw 218\\nSkipping line 6026: expected 212 fields, saw 215\\nSkipping line 6027: expected 212 fields, saw 214\\nSkipping line 6029: expected 212 fields, saw 213\\nSkipping line 6049: expected 212 fields, saw 217\\nSkipping line 6065: expected 212 fields, saw 225\\nSkipping line 6071: expected 212 fields, saw 214\\nSkipping line 6075: expected 212 fields, saw 217\\nSkipping line 6080: expected 212 fields, saw 215\\nSkipping line 6090: expected 212 fields, saw 213\\nSkipping line 6095: expected 212 fields, saw 214\\nSkipping line 6126: expected 212 fields, saw 216\\nSkipping line 6130: expected 212 fields, saw 218\\nSkipping line 6148: expected 212 fields, saw 215\\nSkipping line 6150: expected 212 fields, saw 221\\nSkipping line 6157: expected 212 fields, saw 216\\nSkipping line 6159: expected 212 fields, saw 218\\nSkipping line 6161: expected 212 fields, saw 214\\nSkipping line 6180: expected 212 fields, saw 216\\nSkipping line 6195: expected 212 fields, saw 221\\nSkipping line 6218: expected 212 fields, saw 233\\nSkipping line 6229: expected 212 fields, saw 218\\nSkipping line 6271: expected 212 fields, saw 215\\nSkipping line 6277: expected 212 fields, saw 214\\nSkipping line 6281: expected 212 fields, saw 217\\nSkipping line 6282: expected 212 fields, saw 216\\nSkipping line 6287: expected 212 fields, saw 217\\nSkipping line 6289: expected 212 fields, saw 216\\nSkipping line 6317: expected 212 fields, saw 215\\nSkipping line 6343: expected 212 fields, saw 213\\nSkipping line 6345: expected 212 fields, saw 215\\nSkipping line 6353: expected 212 fields, saw 214\\nSkipping line 6359: expected 212 fields, saw 213\\nSkipping line 6362: expected 212 fields, saw 214\\nSkipping line 6380: expected 212 fields, saw 213\\nSkipping line 6392: expected 212 fields, saw 213\\nSkipping line 6394: expected 212 fields, saw 214\\nSkipping line 6434: expected 212 fields, saw 213\\nSkipping line 6442: expected 212 fields, saw 216\\nSkipping line 6446: expected 212 fields, saw 218\\nSkipping line 6449: expected 212 fields, saw 235\\nSkipping line 6453: expected 212 fields, saw 216\\nSkipping line 6459: expected 212 fields, saw 215\\nSkipping line 6462: expected 212 fields, saw 213\\nSkipping line 6468: expected 212 fields, saw 214\\nSkipping line 6477: expected 212 fields, saw 213\\nSkipping line 6482: expected 212 fields, saw 214\\nSkipping line 6487: expected 212 fields, saw 219\\nSkipping line 6499: expected 212 fields, saw 284\\nSkipping line 6504: expected 212 fields, saw 215\\nSkipping line 6506: expected 212 fields, saw 216\\nSkipping line 6540: expected 212 fields, saw 224\\nSkipping line 6541: expected 212 fields, saw 213\\nSkipping line 6546: expected 212 fields, saw 214\\nSkipping line 6548: expected 212 fields, saw 214\\nSkipping line 6550: expected 212 fields, saw 220\\nSkipping line 6594: expected 212 fields, saw 219\\nSkipping line 6604: expected 212 fields, saw 216\\nSkipping line 6629: expected 212 fields, saw 215\\nSkipping line 6630: expected 212 fields, saw 222\\nSkipping line 6635: expected 212 fields, saw 213\\nSkipping line 6646: expected 212 fields, saw 233\\nSkipping line 6668: expected 212 fields, saw 213\\nSkipping line 6676: expected 212 fields, saw 213\\nSkipping line 6697: expected 212 fields, saw 217\\nSkipping line 6709: expected 212 fields, saw 213\\nSkipping line 6716: expected 212 fields, saw 214\\nSkipping line 6725: expected 212 fields, saw 222\\nSkipping line 6744: expected 212 fields, saw 213\\nSkipping line 6748: expected 212 fields, saw 213\\nSkipping line 6762: expected 212 fields, saw 213\\nSkipping line 6770: expected 212 fields, saw 214\\nSkipping line 6774: expected 212 fields, saw 224\\nSkipping line 6789: expected 212 fields, saw 213\\nSkipping line 6792: expected 212 fields, saw 213\\nSkipping line 6793: expected 212 fields, saw 213\\nSkipping line 6795: expected 212 fields, saw 214\\nSkipping line 6801: expected 212 fields, saw 216\\nSkipping line 6803: expected 212 fields, saw 213\\nSkipping line 6809: expected 212 fields, saw 215\\nSkipping line 6816: expected 212 fields, saw 225\\nSkipping line 6823: expected 212 fields, saw 217\\nSkipping line 6827: expected 212 fields, saw 214\\nSkipping line 6831: expected 212 fields, saw 214\\nSkipping line 6850: expected 212 fields, saw 213\\nSkipping line 6852: expected 212 fields, saw 226\\nSkipping line 6859: expected 212 fields, saw 220\\nSkipping line 6875: expected 212 fields, saw 217\\nSkipping line 6879: expected 212 fields, saw 214\\nSkipping line 6896: expected 212 fields, saw 226\\nSkipping line 6899: expected 212 fields, saw 214\\nSkipping line 6903: expected 212 fields, saw 234\\nSkipping line 6911: expected 212 fields, saw 216\\nSkipping line 6936: expected 212 fields, saw 218\\nSkipping line 6942: expected 212 fields, saw 213\\nSkipping line 6959: expected 212 fields, saw 220\\nSkipping line 6967: expected 212 fields, saw 221\\nSkipping line 6975: expected 212 fields, saw 213\\nSkipping line 6976: expected 212 fields, saw 216\\nSkipping line 6979: expected 212 fields, saw 220\\nSkipping line 6986: expected 212 fields, saw 217\\nSkipping line 6992: expected 212 fields, saw 216\\nSkipping line 7004: expected 212 fields, saw 215\\nSkipping line 7005: expected 212 fields, saw 213\\nSkipping line 7007: expected 212 fields, saw 214\\nSkipping line 7025: expected 212 fields, saw 215\\nSkipping line 7036: expected 212 fields, saw 213\\nSkipping line 7042: expected 212 fields, saw 221\\nSkipping line 7044: expected 212 fields, saw 218\\nSkipping line 7049: expected 212 fields, saw 213\\nSkipping line 7051: expected 212 fields, saw 214\\nSkipping line 7056: expected 212 fields, saw 213\\nSkipping line 7062: expected 212 fields, saw 214\\nSkipping line 7065: expected 212 fields, saw 215\\nSkipping line 7067: expected 212 fields, saw 215\\nSkipping line 7075: expected 212 fields, saw 229\\nSkipping line 7095: expected 212 fields, saw 216\\nSkipping line 7106: expected 212 fields, saw 220\\nSkipping line 7111: expected 212 fields, saw 215\\nSkipping line 7120: expected 212 fields, saw 218\\nSkipping line 7129: expected 212 fields, saw 213\\nSkipping line 7146: expected 212 fields, saw 214\\nSkipping line 7155: expected 212 fields, saw 226\\nSkipping line 7166: expected 212 fields, saw 213\\nSkipping line 7169: expected 212 fields, saw 223\\nSkipping line 7171: expected 212 fields, saw 214\\nSkipping line 7197: expected 212 fields, saw 213\\nSkipping line 7209: expected 212 fields, saw 218\\nSkipping line 7210: expected 212 fields, saw 215\\nSkipping line 7219: expected 212 fields, saw 213\\nSkipping line 7221: expected 212 fields, saw 213\\nSkipping line 7223: expected 212 fields, saw 213\\nSkipping line 7270: expected 212 fields, saw 214\\nSkipping line 7271: expected 212 fields, saw 217\\nSkipping line 7283: expected 212 fields, saw 214\\nSkipping line 7287: expected 212 fields, saw 214\\nSkipping line 7290: expected 212 fields, saw 228\\nSkipping line 7291: expected 212 fields, saw 216\\nSkipping line 7302: expected 212 fields, saw 229\\nSkipping line 7312: expected 212 fields, saw 215\\nSkipping line 7319: expected 212 fields, saw 214\\nSkipping line 7324: expected 212 fields, saw 229\\nSkipping line 7328: expected 212 fields, saw 214\\nSkipping line 7330: expected 212 fields, saw 213\\nSkipping line 7338: expected 212 fields, saw 224\\nSkipping line 7340: expected 212 fields, saw 213\\nSkipping line 7363: expected 212 fields, saw 217\\nSkipping line 7364: expected 212 fields, saw 213\\nSkipping line 7365: expected 212 fields, saw 215\\nSkipping line 7366: expected 212 fields, saw 217\\nSkipping line 7374: expected 212 fields, saw 213\\nSkipping line 7393: expected 212 fields, saw 213\\nSkipping line 7398: expected 212 fields, saw 216\\nSkipping line 7406: expected 212 fields, saw 214\\nSkipping line 7410: expected 212 fields, saw 216\\nSkipping line 7417: expected 212 fields, saw 214\\nSkipping line 7420: expected 212 fields, saw 214\\nSkipping line 7432: expected 212 fields, saw 220\\nSkipping line 7434: expected 212 fields, saw 220\\nSkipping line 7445: expected 212 fields, saw 227\\nSkipping line 7449: expected 212 fields, saw 216\\nSkipping line 7452: expected 212 fields, saw 221\\nSkipping line 7462: expected 212 fields, saw 219\\nSkipping line 7479: expected 212 fields, saw 214\\nSkipping line 7480: expected 212 fields, saw 214\\nSkipping line 7482: expected 212 fields, saw 213\\nSkipping line 7487: expected 212 fields, saw 217\\nSkipping line 7490: expected 212 fields, saw 216\\nSkipping line 7501: expected 212 fields, saw 214\\nSkipping line 7503: expected 212 fields, saw 213\\nSkipping line 7518: expected 212 fields, saw 216\\nSkipping line 7522: expected 212 fields, saw 217\\nSkipping line 7531: expected 212 fields, saw 220\\nSkipping line 7533: expected 212 fields, saw 213\\nSkipping line 7534: expected 212 fields, saw 220\\nSkipping line 7537: expected 212 fields, saw 219\\nSkipping line 7540: expected 212 fields, saw 223\\nSkipping line 7546: expected 212 fields, saw 214\\nSkipping line 7555: expected 212 fields, saw 243\\nSkipping line 7576: expected 212 fields, saw 213\\nSkipping line 7588: expected 212 fields, saw 214\\nSkipping line 7592: expected 212 fields, saw 217\\nSkipping line 7593: expected 212 fields, saw 213\\nSkipping line 7604: expected 212 fields, saw 213\\nSkipping line 7621: expected 212 fields, saw 214\\nSkipping line 7629: expected 212 fields, saw 213\\nSkipping line 7634: expected 212 fields, saw 214\\nSkipping line 7642: expected 212 fields, saw 223\\nSkipping line 7690: expected 212 fields, saw 221\\nSkipping line 7701: expected 212 fields, saw 218\\nSkipping line 7709: expected 212 fields, saw 216\\nSkipping line 7716: expected 212 fields, saw 229\\nSkipping line 7724: expected 212 fields, saw 215\\nSkipping line 7731: expected 212 fields, saw 222\\nSkipping line 7742: expected 212 fields, saw 216\\nSkipping line 7747: expected 212 fields, saw 213\\nSkipping line 7778: expected 212 fields, saw 217\\nSkipping line 7782: expected 212 fields, saw 219\\nSkipping line 7788: expected 212 fields, saw 214\\nSkipping line 7792: expected 212 fields, saw 214\\nSkipping line 7803: expected 212 fields, saw 214\\nSkipping line 7806: expected 212 fields, saw 225\\nSkipping line 7810: expected 212 fields, saw 214\\nSkipping line 7818: expected 212 fields, saw 216\\nSkipping line 7819: expected 212 fields, saw 219\\nSkipping line 7839: expected 212 fields, saw 229\\nSkipping line 7842: expected 212 fields, saw 215\\nSkipping line 7897: expected 212 fields, saw 215\\nSkipping line 7901: expected 212 fields, saw 215\\nSkipping line 7918: expected 212 fields, saw 213\\nSkipping line 7929: expected 212 fields, saw 219\\nSkipping line 7930: expected 212 fields, saw 219\\nSkipping line 7950: expected 212 fields, saw 213\\nSkipping line 7953: expected 212 fields, saw 223\\nSkipping line 7971: expected 212 fields, saw 214\\nSkipping line 7973: expected 212 fields, saw 214\\nSkipping line 7985: expected 212 fields, saw 213\\nSkipping line 8025: expected 212 fields, saw 214\\nSkipping line 8027: expected 212 fields, saw 216\\nSkipping line 8036: expected 212 fields, saw 214\\nSkipping line 8041: expected 212 fields, saw 217\\nSkipping line 8045: expected 212 fields, saw 225\\nSkipping line 8053: expected 212 fields, saw 219\\nSkipping line 8061: expected 212 fields, saw 218\\nSkipping line 8067: expected 212 fields, saw 214\\nSkipping line 8093: expected 212 fields, saw 214\\nSkipping line 8107: expected 212 fields, saw 213\\nSkipping line 8118: expected 212 fields, saw 215\\nSkipping line 8120: expected 212 fields, saw 213\\nSkipping line 8128: expected 212 fields, saw 214\\nSkipping line 8134: expected 212 fields, saw 221\\nSkipping line 8136: expected 212 fields, saw 214\\nSkipping line 8137: expected 212 fields, saw 214\\nSkipping line 8144: expected 212 fields, saw 216\\nSkipping line 8151: expected 212 fields, saw 214\\nSkipping line 8158: expected 212 fields, saw 213\\nSkipping line 8161: expected 212 fields, saw 216\\nSkipping line 8163: expected 212 fields, saw 213\\nSkipping line 8225: expected 212 fields, saw 217\\nSkipping line 8231: expected 212 fields, saw 213\\nSkipping line 8241: expected 212 fields, saw 213\\nSkipping line 8261: expected 212 fields, saw 219\\nSkipping line 8279: expected 212 fields, saw 215\\nSkipping line 8285: expected 212 fields, saw 214\\nSkipping line 8290: expected 212 fields, saw 214\\nSkipping line 8300: expected 212 fields, saw 218\\nSkipping line 8308: expected 212 fields, saw 218\\nSkipping line 8317: expected 212 fields, saw 215\\nSkipping line 8319: expected 212 fields, saw 217\\nSkipping line 8321: expected 212 fields, saw 213\\nSkipping line 8326: expected 212 fields, saw 213\\nSkipping line 8331: expected 212 fields, saw 213\\nSkipping line 8341: expected 212 fields, saw 216\\nSkipping line 8346: expected 212 fields, saw 216\\nSkipping line 8350: expected 212 fields, saw 213\\nSkipping line 8363: expected 212 fields, saw 214\\nSkipping line 8369: expected 212 fields, saw 213\\nSkipping line 8371: expected 212 fields, saw 217\\nSkipping line 8377: expected 212 fields, saw 224\\nSkipping line 8383: expected 212 fields, saw 213\\nSkipping line 8407: expected 212 fields, saw 213\\nSkipping line 8422: expected 212 fields, saw 235\\nSkipping line 8435: expected 212 fields, saw 213\\nSkipping line 8437: expected 212 fields, saw 216\\nSkipping line 8444: expected 212 fields, saw 215\\nSkipping line 8446: expected 212 fields, saw 216\\nSkipping line 8455: expected 212 fields, saw 214\\nSkipping line 8468: expected 212 fields, saw 215\\nSkipping line 8474: expected 212 fields, saw 214\\nSkipping line 8478: expected 212 fields, saw 213\\nSkipping line 8483: expected 212 fields, saw 215\\nSkipping line 8497: expected 212 fields, saw 221\\nSkipping line 8500: expected 212 fields, saw 213\\nSkipping line 8507: expected 212 fields, saw 215\\nSkipping line 8511: expected 212 fields, saw 221\\nSkipping line 8513: expected 212 fields, saw 218\\nSkipping line 8538: expected 212 fields, saw 216\\nSkipping line 8543: expected 212 fields, saw 224\\nSkipping line 8544: expected 212 fields, saw 213\\nSkipping line 8547: expected 212 fields, saw 215\\nSkipping line 8550: expected 212 fields, saw 213\\nSkipping line 8557: expected 212 fields, saw 213\\nSkipping line 8565: expected 212 fields, saw 214\\nSkipping line 8572: expected 212 fields, saw 214\\nSkipping line 8576: expected 212 fields, saw 225\\nSkipping line 8582: expected 212 fields, saw 216\\nSkipping line 8597: expected 212 fields, saw 214\\nSkipping line 8606: expected 212 fields, saw 216\\nSkipping line 8613: expected 212 fields, saw 213\\nSkipping line 8626: expected 212 fields, saw 213\\nSkipping line 8629: expected 212 fields, saw 216\\nSkipping line 8632: expected 212 fields, saw 218\\nSkipping line 8662: expected 212 fields, saw 219\\nSkipping line 8665: expected 212 fields, saw 214\\nSkipping line 8682: expected 212 fields, saw 217\\nSkipping line 8694: expected 212 fields, saw 214\\nSkipping line 8707: expected 212 fields, saw 222\\nSkipping line 8710: expected 212 fields, saw 214\\nSkipping line 8722: expected 212 fields, saw 215\\nSkipping line 8760: expected 212 fields, saw 217\\nSkipping line 8764: expected 212 fields, saw 215\\nSkipping line 8768: expected 212 fields, saw 215\\nSkipping line 8776: expected 212 fields, saw 214\\nSkipping line 8778: expected 212 fields, saw 213\\nSkipping line 8791: expected 212 fields, saw 216\\nSkipping line 8820: expected 212 fields, saw 215\\nSkipping line 8822: expected 212 fields, saw 214\\nSkipping line 8823: expected 212 fields, saw 213\\nSkipping line 8859: expected 212 fields, saw 214\\nSkipping line 8865: expected 212 fields, saw 213\\nSkipping line 8871: expected 212 fields, saw 220\\nSkipping line 8878: expected 212 fields, saw 218\\nSkipping line 8885: expected 212 fields, saw 217\\nSkipping line 8886: expected 212 fields, saw 229\\nSkipping line 8900: expected 212 fields, saw 217\\nSkipping line 8902: expected 212 fields, saw 214\\nSkipping line 8909: expected 212 fields, saw 213\\nSkipping line 8920: expected 212 fields, saw 222\\nSkipping line 8922: expected 212 fields, saw 213\\nSkipping line 8924: expected 212 fields, saw 213\\nSkipping line 8955: expected 212 fields, saw 214\\nSkipping line 8968: expected 212 fields, saw 213\\nSkipping line 8969: expected 212 fields, saw 216\\nSkipping line 8974: expected 212 fields, saw 213\\nSkipping line 8982: expected 212 fields, saw 214\\nSkipping line 8986: expected 212 fields, saw 215\\nSkipping line 8992: expected 212 fields, saw 222\\nSkipping line 9019: expected 212 fields, saw 214\\nSkipping line 9037: expected 212 fields, saw 215\\nSkipping line 9043: expected 212 fields, saw 216\\nSkipping line 9058: expected 212 fields, saw 216\\nSkipping line 9079: expected 212 fields, saw 215\\nSkipping line 9085: expected 212 fields, saw 214\\nSkipping line 9119: expected 212 fields, saw 220\\nSkipping line 9125: expected 212 fields, saw 213\\nSkipping line 9137: expected 212 fields, saw 216\\nSkipping line 9145: expected 212 fields, saw 213\\nSkipping line 9169: expected 212 fields, saw 215\\nSkipping line 9184: expected 212 fields, saw 214\\nSkipping line 9204: expected 212 fields, saw 218\\nSkipping line 9212: expected 212 fields, saw 214\\nSkipping line 9214: expected 212 fields, saw 214\\nSkipping line 9238: expected 212 fields, saw 213\\nSkipping line 9245: expected 212 fields, saw 217\\nSkipping line 9247: expected 212 fields, saw 214\\nSkipping line 9248: expected 212 fields, saw 227\\nSkipping line 9254: expected 212 fields, saw 213\\nSkipping line 9255: expected 212 fields, saw 217\\nSkipping line 9264: expected 212 fields, saw 213\\nSkipping line 9267: expected 212 fields, saw 213\\nSkipping line 9274: expected 212 fields, saw 214\\nSkipping line 9279: expected 212 fields, saw 214\\nSkipping line 9280: expected 212 fields, saw 221\\nSkipping line 9283: expected 212 fields, saw 217\\nSkipping line 9292: expected 212 fields, saw 220\\nSkipping line 9308: expected 212 fields, saw 216\\nSkipping line 9321: expected 212 fields, saw 219\\nSkipping line 9331: expected 212 fields, saw 214\\nSkipping line 9339: expected 212 fields, saw 220\\nSkipping line 9352: expected 212 fields, saw 215\\nSkipping line 9362: expected 212 fields, saw 214\\nSkipping line 9364: expected 212 fields, saw 215\\nSkipping line 9367: expected 212 fields, saw 229\\nSkipping line 9370: expected 212 fields, saw 223\\nSkipping line 9381: expected 212 fields, saw 213\\nSkipping line 9382: expected 212 fields, saw 231\\nSkipping line 9399: expected 212 fields, saw 214\\nSkipping line 9410: expected 212 fields, saw 214\\nSkipping line 9434: expected 212 fields, saw 248\\nSkipping line 9447: expected 212 fields, saw 222\\nSkipping line 9455: expected 212 fields, saw 217\\nSkipping line 9456: expected 212 fields, saw 216\\nSkipping line 9460: expected 212 fields, saw 216\\nSkipping line 9498: expected 212 fields, saw 217\\nSkipping line 9510: expected 212 fields, saw 216\\nSkipping line 9514: expected 212 fields, saw 213\\nSkipping line 9521: expected 212 fields, saw 214\\nSkipping line 9533: expected 212 fields, saw 213\\nSkipping line 9550: expected 212 fields, saw 215\\nSkipping line 9554: expected 212 fields, saw 213\\nSkipping line 9564: expected 212 fields, saw 220\\nSkipping line 9566: expected 212 fields, saw 219\\nSkipping line 9574: expected 212 fields, saw 214\\nSkipping line 9587: expected 212 fields, saw 214\\nSkipping line 9590: expected 212 fields, saw 213\\nSkipping line 9591: expected 212 fields, saw 219\\nSkipping line 9592: expected 212 fields, saw 220\\nSkipping line 9599: expected 212 fields, saw 216\\nSkipping line 9631: expected 212 fields, saw 214\\nSkipping line 9670: expected 212 fields, saw 225\\nSkipping line 9681: expected 212 fields, saw 213\\nSkipping line 9686: expected 212 fields, saw 219\\nSkipping line 9715: expected 212 fields, saw 213\\nSkipping line 9724: expected 212 fields, saw 231\\nSkipping line 9728: expected 212 fields, saw 214\\nSkipping line 9738: expected 212 fields, saw 213\\nSkipping line 9756: expected 212 fields, saw 219\\nSkipping line 9762: expected 212 fields, saw 213\\nSkipping line 9771: expected 212 fields, saw 213\\nSkipping line 9778: expected 212 fields, saw 217\\nSkipping line 9781: expected 212 fields, saw 214\\nSkipping line 9785: expected 212 fields, saw 216\\nSkipping line 9794: expected 212 fields, saw 213\\nSkipping line 9804: expected 212 fields, saw 213\\nSkipping line 9814: expected 212 fields, saw 213\\nSkipping line 9819: expected 212 fields, saw 217\\nSkipping line 9822: expected 212 fields, saw 213\\nSkipping line 9827: expected 212 fields, saw 221\\nSkipping line 9836: expected 212 fields, saw 215\\nSkipping line 9840: expected 212 fields, saw 225\\nSkipping line 9860: expected 212 fields, saw 215\\nSkipping line 9862: expected 212 fields, saw 213\\nSkipping line 9864: expected 212 fields, saw 213\\nSkipping line 9873: expected 212 fields, saw 214\\nSkipping line 9880: expected 212 fields, saw 213\\nSkipping line 9889: expected 212 fields, saw 213\\nSkipping line 9891: expected 212 fields, saw 215\\nSkipping line 9897: expected 212 fields, saw 225\\nSkipping line 9904: expected 212 fields, saw 219\\nSkipping line 9912: expected 212 fields, saw 215\\nSkipping line 9913: expected 212 fields, saw 213\\nSkipping line 9919: expected 212 fields, saw 237\\nSkipping line 9921: expected 212 fields, saw 222\\nSkipping line 9951: expected 212 fields, saw 213\\nSkipping line 9965: expected 212 fields, saw 215\\nSkipping line 9966: expected 212 fields, saw 216\\nSkipping line 9978: expected 212 fields, saw 213\\nSkipping line 9994: expected 212 fields, saw 213\\nSkipping line 9996: expected 212 fields, saw 213\\nSkipping line 10006: expected 212 fields, saw 213\\nSkipping line 10021: expected 212 fields, saw 213\\nSkipping line 10025: expected 212 fields, saw 213\\nSkipping line 10030: expected 212 fields, saw 231\\nSkipping line 10049: expected 212 fields, saw 221\\nSkipping line 10084: expected 212 fields, saw 219\\nSkipping line 10092: expected 212 fields, saw 213\\nSkipping line 10093: expected 212 fields, saw 219\\nSkipping line 10097: expected 212 fields, saw 213\\nSkipping line 10102: expected 212 fields, saw 213\\nSkipping line 10106: expected 212 fields, saw 222\\nSkipping line 10110: expected 212 fields, saw 224\\nSkipping line 10113: expected 212 fields, saw 218\\nSkipping line 10116: expected 212 fields, saw 217\\nSkipping line 10119: expected 212 fields, saw 215\\nSkipping line 10128: expected 212 fields, saw 223\\nSkipping line 10130: expected 212 fields, saw 215\\nSkipping line 10140: expected 212 fields, saw 223\\nSkipping line 10144: expected 212 fields, saw 229\\nSkipping line 10157: expected 212 fields, saw 214\\nSkipping line 10162: expected 212 fields, saw 214\\nSkipping line 10166: expected 212 fields, saw 213\\nSkipping line 10187: expected 212 fields, saw 217\\nSkipping line 10191: expected 212 fields, saw 213\\nSkipping line 10196: expected 212 fields, saw 230\\nSkipping line 10216: expected 212 fields, saw 224\\nSkipping line 10220: expected 212 fields, saw 213\\nSkipping line 10226: expected 212 fields, saw 225\\nSkipping line 10229: expected 212 fields, saw 222\\nSkipping line 10246: expected 212 fields, saw 214\\nSkipping line 10255: expected 212 fields, saw 213\\nSkipping line 10279: expected 212 fields, saw 213\\nSkipping line 10280: expected 212 fields, saw 219\\nSkipping line 10300: expected 212 fields, saw 217\\nSkipping line 10301: expected 212 fields, saw 213\\nSkipping line 10334: expected 212 fields, saw 215\\nSkipping line 10337: expected 212 fields, saw 218\\nSkipping line 10346: expected 212 fields, saw 243\\nSkipping line 10369: expected 212 fields, saw 215\\nSkipping line 10409: expected 212 fields, saw 213\\nSkipping line 10419: expected 212 fields, saw 217\\nSkipping line 10422: expected 212 fields, saw 222\\nSkipping line 10433: expected 212 fields, saw 218\\nSkipping line 10437: expected 212 fields, saw 221\\nSkipping line 10448: expected 212 fields, saw 225\\nSkipping line 10457: expected 212 fields, saw 219\\nSkipping line 10475: expected 212 fields, saw 226\\nSkipping line 10480: expected 212 fields, saw 217\\nSkipping line 10488: expected 212 fields, saw 226\\nSkipping line 10525: expected 212 fields, saw 223\\nSkipping line 10538: expected 212 fields, saw 213\\nSkipping line 10547: expected 212 fields, saw 214\\nSkipping line 10552: expected 212 fields, saw 214\\nSkipping line 10558: expected 212 fields, saw 218\\nSkipping line 10572: expected 212 fields, saw 220\\nSkipping line 10575: expected 212 fields, saw 223\\nSkipping line 10582: expected 212 fields, saw 213\\nSkipping line 10592: expected 212 fields, saw 220\\nSkipping line 10593: expected 212 fields, saw 228\\nSkipping line 10595: expected 212 fields, saw 216\\nSkipping line 10598: expected 212 fields, saw 215\\nSkipping line 10602: expected 212 fields, saw 215\\nSkipping line 10617: expected 212 fields, saw 214\\nSkipping line 10625: expected 212 fields, saw 222\\nSkipping line 10640: expected 212 fields, saw 213\\nSkipping line 10653: expected 212 fields, saw 213\\nSkipping line 10666: expected 212 fields, saw 217\\nSkipping line 10673: expected 212 fields, saw 215\\nSkipping line 10675: expected 212 fields, saw 217\\nSkipping line 10685: expected 212 fields, saw 214\\nSkipping line 10686: expected 212 fields, saw 214\\nSkipping line 10693: expected 212 fields, saw 218\\nSkipping line 10703: expected 212 fields, saw 213\\nSkipping line 10708: expected 212 fields, saw 214\\nSkipping line 10711: expected 212 fields, saw 214\\nSkipping line 10713: expected 212 fields, saw 213\\nSkipping line 10716: expected 212 fields, saw 230\\nSkipping line 10728: expected 212 fields, saw 213\\nSkipping line 10744: expected 212 fields, saw 223\\nSkipping line 10754: expected 212 fields, saw 213\\nSkipping line 10756: expected 212 fields, saw 213\\nSkipping line 10757: expected 212 fields, saw 215\\nSkipping line 10769: expected 212 fields, saw 213\\nSkipping line 10773: expected 212 fields, saw 218\\nSkipping line 10777: expected 212 fields, saw 244\\nSkipping line 10794: expected 212 fields, saw 224\\nSkipping line 10803: expected 212 fields, saw 219\\nSkipping line 10806: expected 212 fields, saw 227\\nSkipping line 10817: expected 212 fields, saw 220\\nSkipping line 10830: expected 212 fields, saw 214\\nSkipping line 10837: expected 212 fields, saw 213\\nSkipping line 10860: expected 212 fields, saw 218\\nSkipping line 10862: expected 212 fields, saw 213\\nSkipping line 10877: expected 212 fields, saw 214\\nSkipping line 10887: expected 212 fields, saw 213\\nSkipping line 10888: expected 212 fields, saw 216\\nSkipping line 10891: expected 212 fields, saw 218\\nSkipping line 10900: expected 212 fields, saw 213\\nSkipping line 10906: expected 212 fields, saw 218\\nSkipping line 10911: expected 212 fields, saw 215\\nSkipping line 10919: expected 212 fields, saw 215\\nSkipping line 10932: expected 212 fields, saw 213\\nSkipping line 10938: expected 212 fields, saw 226\\nSkipping line 10977: expected 212 fields, saw 213\\nSkipping line 10978: expected 212 fields, saw 214\\nSkipping line 10982: expected 212 fields, saw 236\\nSkipping line 10993: expected 212 fields, saw 213\\nSkipping line 10994: expected 212 fields, saw 213\\nSkipping line 10998: expected 212 fields, saw 215\\nSkipping line 11006: expected 212 fields, saw 223\\nSkipping line 11014: expected 212 fields, saw 213\\nSkipping line 11016: expected 212 fields, saw 223\\nSkipping line 11023: expected 212 fields, saw 214\\nSkipping line 11046: expected 212 fields, saw 222\\nSkipping line 11077: expected 212 fields, saw 213\\nSkipping line 11080: expected 212 fields, saw 213\\nSkipping line 11088: expected 212 fields, saw 224\\nSkipping line 11089: expected 212 fields, saw 221\\nSkipping line 11090: expected 212 fields, saw 215\\nSkipping line 11094: expected 212 fields, saw 214\\nSkipping line 11099: expected 212 fields, saw 222\\nSkipping line 11101: expected 212 fields, saw 222\\nSkipping line 11119: expected 212 fields, saw 213\\nSkipping line 11134: expected 212 fields, saw 214\\nSkipping line 11140: expected 212 fields, saw 213\\n'"
     ]
    },
    {
     "name": "stderr",
     "output_type": "stream",
     "text": [
      "\n"
     ]
    }
   ],
   "source": [
    "import pandas\n",
    "from io import StringIO\n",
    "pandas.read_csv(StringIO(ext_test_new.get_frame_data()), low_memory=False, error_bad_lines=False)\n",
    "ext_test_new_l = [row for row in csv.reader(StringIO(ext_test_new.get_frame_data()))]"
   ]
  },
  {
   "cell_type": "code",
   "execution_count": 38,
   "metadata": {},
   "outputs": [
    {
     "data": {
      "text/plain": [
       "['ProductId',\n",
       " 'UserId',\n",
       " 'Summary',\n",
       " 'Score',\n",
       " 'HelpfulnessDenominator',\n",
       " 'Id',\n",
       " 'ProfileName',\n",
       " 'HelpfulnessNumerator',\n",
       " 'Time',\n",
       " 'Text',\n",
       " 'PositiveReview',\n",
       " 'Train',\n",
       " 'C1',\n",
       " 'C2',\n",
       " 'C3',\n",
       " 'C4',\n",
       " 'C5',\n",
       " 'C6',\n",
       " 'C7',\n",
       " 'C8',\n",
       " 'C9',\n",
       " 'C10',\n",
       " 'C11',\n",
       " 'C12',\n",
       " 'C13',\n",
       " 'C14',\n",
       " 'C15',\n",
       " 'C16',\n",
       " 'C17',\n",
       " 'C18',\n",
       " 'C19',\n",
       " 'C20',\n",
       " 'C21',\n",
       " 'C22',\n",
       " 'C23',\n",
       " 'C24',\n",
       " 'C25',\n",
       " 'C26',\n",
       " 'C27',\n",
       " 'C28',\n",
       " 'C29',\n",
       " 'C30',\n",
       " 'C31',\n",
       " 'C32',\n",
       " 'C33',\n",
       " 'C34',\n",
       " 'C35',\n",
       " 'C36',\n",
       " 'C37',\n",
       " 'C38',\n",
       " 'C39',\n",
       " 'C40',\n",
       " 'C41',\n",
       " 'C42',\n",
       " 'C43',\n",
       " 'C44',\n",
       " 'C45',\n",
       " 'C46',\n",
       " 'C47',\n",
       " 'C48',\n",
       " 'C49',\n",
       " 'C50',\n",
       " 'C51',\n",
       " 'C52',\n",
       " 'C53',\n",
       " 'C54',\n",
       " 'C55',\n",
       " 'C56',\n",
       " 'C57',\n",
       " 'C58',\n",
       " 'C59',\n",
       " 'C60',\n",
       " 'C61',\n",
       " 'C62',\n",
       " 'C63',\n",
       " 'C64',\n",
       " 'C65',\n",
       " 'C66',\n",
       " 'C67',\n",
       " 'C68',\n",
       " 'C69',\n",
       " 'C70',\n",
       " 'C71',\n",
       " 'C72',\n",
       " 'C73',\n",
       " 'C74',\n",
       " 'C75',\n",
       " 'C76',\n",
       " 'C77',\n",
       " 'C78',\n",
       " 'C79',\n",
       " 'C80',\n",
       " 'C81',\n",
       " 'C82',\n",
       " 'C83',\n",
       " 'C84',\n",
       " 'C85',\n",
       " 'C86',\n",
       " 'C87',\n",
       " 'C88',\n",
       " 'C89',\n",
       " 'C90',\n",
       " 'C91',\n",
       " 'C92',\n",
       " 'C93',\n",
       " 'C94',\n",
       " 'C95',\n",
       " 'C96',\n",
       " 'C97',\n",
       " 'C98',\n",
       " 'C99',\n",
       " 'C100',\n",
       " 'summary_C1',\n",
       " 'summary_C2',\n",
       " 'summary_C3',\n",
       " 'summary_C4',\n",
       " 'summary_C5',\n",
       " 'summary_C6',\n",
       " 'summary_C7',\n",
       " 'summary_C8',\n",
       " 'summary_C9',\n",
       " 'summary_C10',\n",
       " 'summary_C11',\n",
       " 'summary_C12',\n",
       " 'summary_C13',\n",
       " 'summary_C14',\n",
       " 'summary_C15',\n",
       " 'summary_C16',\n",
       " 'summary_C17',\n",
       " 'summary_C18',\n",
       " 'summary_C19',\n",
       " 'summary_C20',\n",
       " 'summary_C21',\n",
       " 'summary_C22',\n",
       " 'summary_C23',\n",
       " 'summary_C24',\n",
       " 'summary_C25',\n",
       " 'summary_C26',\n",
       " 'summary_C27',\n",
       " 'summary_C28',\n",
       " 'summary_C29',\n",
       " 'summary_C30',\n",
       " 'summary_C31',\n",
       " 'summary_C32',\n",
       " 'summary_C33',\n",
       " 'summary_C34',\n",
       " 'summary_C35',\n",
       " 'summary_C36',\n",
       " 'summary_C37',\n",
       " 'summary_C38',\n",
       " 'summary_C39',\n",
       " 'summary_C40',\n",
       " 'summary_C41',\n",
       " 'summary_C42',\n",
       " 'summary_C43',\n",
       " 'summary_C44',\n",
       " 'summary_C45',\n",
       " 'summary_C46',\n",
       " 'summary_C47',\n",
       " 'summary_C48',\n",
       " 'summary_C49',\n",
       " 'summary_C50',\n",
       " 'summary_C51',\n",
       " 'summary_C52',\n",
       " 'summary_C53',\n",
       " 'summary_C54',\n",
       " 'summary_C55',\n",
       " 'summary_C56',\n",
       " 'summary_C57',\n",
       " 'summary_C58',\n",
       " 'summary_C59',\n",
       " 'summary_C60',\n",
       " 'summary_C61',\n",
       " 'summary_C62',\n",
       " 'summary_C63',\n",
       " 'summary_C64',\n",
       " 'summary_C65',\n",
       " 'summary_C66',\n",
       " 'summary_C67',\n",
       " 'summary_C68',\n",
       " 'summary_C69',\n",
       " 'summary_C70',\n",
       " 'summary_C71',\n",
       " 'summary_C72',\n",
       " 'summary_C73',\n",
       " 'summary_C74',\n",
       " 'summary_C75',\n",
       " 'summary_C76',\n",
       " 'summary_C77',\n",
       " 'summary_C78',\n",
       " 'summary_C79',\n",
       " 'summary_C80',\n",
       " 'summary_C81',\n",
       " 'summary_C82',\n",
       " 'summary_C83',\n",
       " 'summary_C84',\n",
       " 'summary_C85',\n",
       " 'summary_C86',\n",
       " 'summary_C87',\n",
       " 'summary_C88',\n",
       " 'summary_C89',\n",
       " 'summary_C90',\n",
       " 'summary_C91',\n",
       " 'summary_C92',\n",
       " 'summary_C93',\n",
       " 'summary_C94',\n",
       " 'summary_C95',\n",
       " 'summary_C96',\n",
       " 'summary_C97',\n",
       " 'summary_C98',\n",
       " 'summary_C99',\n",
       " 'summary_C100']"
      ]
     },
     "execution_count": 38,
     "metadata": {},
     "output_type": "execute_result"
    }
   ],
   "source": [
    "lable = ext_test_new_l.pop(0)\n",
    "lable"
   ]
  },
  {
   "cell_type": "code",
   "execution_count": 39,
   "metadata": {},
   "outputs": [],
   "source": [
    "ext_test_new_df = pd.DataFrame(ext_test_new_l)"
   ]
  },
  {
   "cell_type": "code",
   "execution_count": 40,
   "metadata": {},
   "outputs": [
    {
     "data": {
      "text/html": [
       "<div>\n",
       "<style scoped>\n",
       "    .dataframe tbody tr th:only-of-type {\n",
       "        vertical-align: middle;\n",
       "    }\n",
       "\n",
       "    .dataframe tbody tr th {\n",
       "        vertical-align: top;\n",
       "    }\n",
       "\n",
       "    .dataframe thead th {\n",
       "        text-align: right;\n",
       "    }\n",
       "</style>\n",
       "<table border=\"1\" class=\"dataframe\">\n",
       "  <thead>\n",
       "    <tr style=\"text-align: right;\">\n",
       "      <th></th>\n",
       "      <th>0</th>\n",
       "      <th>1</th>\n",
       "      <th>2</th>\n",
       "      <th>3</th>\n",
       "      <th>4</th>\n",
       "      <th>5</th>\n",
       "      <th>6</th>\n",
       "      <th>7</th>\n",
       "      <th>8</th>\n",
       "      <th>9</th>\n",
       "      <th>...</th>\n",
       "      <th>274</th>\n",
       "      <th>275</th>\n",
       "      <th>276</th>\n",
       "      <th>277</th>\n",
       "      <th>278</th>\n",
       "      <th>279</th>\n",
       "      <th>280</th>\n",
       "      <th>281</th>\n",
       "      <th>282</th>\n",
       "      <th>283</th>\n",
       "    </tr>\n",
       "  </thead>\n",
       "  <tbody>\n",
       "    <tr>\n",
       "      <th>0</th>\n",
       "      <td>B00141QYSQ</td>\n",
       "      <td>A1YS02UZZGRDCT</td>\n",
       "      <td>Do Not Buy</td>\n",
       "      <td>1</td>\n",
       "      <td>2</td>\n",
       "      <td>41471</td>\n",
       "      <td>Evan Eberhardt</td>\n",
       "      <td>2</td>\n",
       "      <td>1348358400</td>\n",
       "      <td>These are made in China (do not buy ANY pet fo...</td>\n",
       "      <td>...</td>\n",
       "      <td>None</td>\n",
       "      <td>None</td>\n",
       "      <td>None</td>\n",
       "      <td>None</td>\n",
       "      <td>None</td>\n",
       "      <td>None</td>\n",
       "      <td>None</td>\n",
       "      <td>None</td>\n",
       "      <td>None</td>\n",
       "      <td>None</td>\n",
       "    </tr>\n",
       "    <tr>\n",
       "      <th>1</th>\n",
       "      <td>B0041CIR62</td>\n",
       "      <td>A16I6WJUEBJ1C3</td>\n",
       "      <td>okay but not as healthy as it appears</td>\n",
       "      <td>2</td>\n",
       "      <td>1</td>\n",
       "      <td>138997</td>\n",
       "      <td>doctorsirena doctorsirena\"\"</td>\n",
       "      <td>1</td>\n",
       "      <td>1343692800</td>\n",
       "      <td>I am always looking for healthier, whole grain...</td>\n",
       "      <td>...</td>\n",
       "      <td>None</td>\n",
       "      <td>None</td>\n",
       "      <td>None</td>\n",
       "      <td>None</td>\n",
       "      <td>None</td>\n",
       "      <td>None</td>\n",
       "      <td>None</td>\n",
       "      <td>None</td>\n",
       "      <td>None</td>\n",
       "      <td>None</td>\n",
       "    </tr>\n",
       "    <tr>\n",
       "      <th>2</th>\n",
       "      <td>B001KUUNHE</td>\n",
       "      <td>A35R32TA60XD57</td>\n",
       "      <td>Best simple cat food</td>\n",
       "      <td>5</td>\n",
       "      <td>0</td>\n",
       "      <td>64358</td>\n",
       "      <td>M. Torma</td>\n",
       "      <td>0</td>\n",
       "      <td>1338940800</td>\n",
       "      <td>My cat that can eat fish loves this food!  I w...</td>\n",
       "      <td>...</td>\n",
       "      <td>None</td>\n",
       "      <td>None</td>\n",
       "      <td>None</td>\n",
       "      <td>None</td>\n",
       "      <td>None</td>\n",
       "      <td>None</td>\n",
       "      <td>None</td>\n",
       "      <td>None</td>\n",
       "      <td>None</td>\n",
       "      <td>None</td>\n",
       "    </tr>\n",
       "    <tr>\n",
       "      <th>3</th>\n",
       "      <td>B009PFJUF2</td>\n",
       "      <td>A16HJRHRHNSUZ6</td>\n",
       "      <td>Looks very pretty when in bloom!</td>\n",
       "      <td>5</td>\n",
       "      <td>1</td>\n",
       "      <td>286942</td>\n",
       "      <td>Danielle Tietz</td>\n",
       "      <td>1</td>\n",
       "      <td>1350432000</td>\n",
       "      <td>My neighborhood recently decided to create a n...</td>\n",
       "      <td>...</td>\n",
       "      <td>None</td>\n",
       "      <td>None</td>\n",
       "      <td>None</td>\n",
       "      <td>None</td>\n",
       "      <td>None</td>\n",
       "      <td>None</td>\n",
       "      <td>None</td>\n",
       "      <td>None</td>\n",
       "      <td>None</td>\n",
       "      <td>None</td>\n",
       "    </tr>\n",
       "    <tr>\n",
       "      <th>4</th>\n",
       "      <td>B000SAPXPY</td>\n",
       "      <td>A3MQ68M8KRBUQH</td>\n",
       "      <td>Excellent flavor</td>\n",
       "      <td>5</td>\n",
       "      <td>2</td>\n",
       "      <td>368188</td>\n",
       "      <td>Claudia</td>\n",
       "      <td>2</td>\n",
       "      <td>1340928000</td>\n",
       "      <td>I'm a big fan of good, strong British tea like...</td>\n",
       "      <td>...</td>\n",
       "      <td>None</td>\n",
       "      <td>None</td>\n",
       "      <td>None</td>\n",
       "      <td>None</td>\n",
       "      <td>None</td>\n",
       "      <td>None</td>\n",
       "      <td>None</td>\n",
       "      <td>None</td>\n",
       "      <td>None</td>\n",
       "      <td>None</td>\n",
       "    </tr>\n",
       "  </tbody>\n",
       "</table>\n",
       "<p>5 rows × 284 columns</p>\n",
       "</div>"
      ],
      "text/plain": [
       "          0               1                                      2   3   4    \\\n",
       "0  B00141QYSQ  A1YS02UZZGRDCT                             Do Not Buy   1   2   \n",
       "1  B0041CIR62  A16I6WJUEBJ1C3  okay but not as healthy as it appears   2   1   \n",
       "2  B001KUUNHE  A35R32TA60XD57                   Best simple cat food   5   0   \n",
       "3  B009PFJUF2  A16HJRHRHNSUZ6       Looks very pretty when in bloom!   5   1   \n",
       "4  B000SAPXPY  A3MQ68M8KRBUQH                       Excellent flavor   5   2   \n",
       "\n",
       "      5                            6   7           8    \\\n",
       "0   41471               Evan Eberhardt   2  1348358400   \n",
       "1  138997  doctorsirena doctorsirena\"\"   1  1343692800   \n",
       "2   64358                     M. Torma   0  1338940800   \n",
       "3  286942               Danielle Tietz   1  1350432000   \n",
       "4  368188                      Claudia   2  1340928000   \n",
       "\n",
       "                                                 9    ...    274   275   276  \\\n",
       "0  These are made in China (do not buy ANY pet fo...  ...   None  None  None   \n",
       "1  I am always looking for healthier, whole grain...  ...   None  None  None   \n",
       "2  My cat that can eat fish loves this food!  I w...  ...   None  None  None   \n",
       "3  My neighborhood recently decided to create a n...  ...   None  None  None   \n",
       "4  I'm a big fan of good, strong British tea like...  ...   None  None  None   \n",
       "\n",
       "    277   278   279   280   281   282   283  \n",
       "0  None  None  None  None  None  None  None  \n",
       "1  None  None  None  None  None  None  None  \n",
       "2  None  None  None  None  None  None  None  \n",
       "3  None  None  None  None  None  None  None  \n",
       "4  None  None  None  None  None  None  None  \n",
       "\n",
       "[5 rows x 284 columns]"
      ]
     },
     "execution_count": 40,
     "metadata": {},
     "output_type": "execute_result"
    }
   ],
   "source": [
    "ext_test_new_df.head()"
   ]
  },
  {
   "cell_type": "code",
   "execution_count": 41,
   "metadata": {},
   "outputs": [
    {
     "data": {
      "text/html": [
       "<div>\n",
       "<style scoped>\n",
       "    .dataframe tbody tr th:only-of-type {\n",
       "        vertical-align: middle;\n",
       "    }\n",
       "\n",
       "    .dataframe tbody tr th {\n",
       "        vertical-align: top;\n",
       "    }\n",
       "\n",
       "    .dataframe thead th {\n",
       "        text-align: right;\n",
       "    }\n",
       "</style>\n",
       "<table border=\"1\" class=\"dataframe\">\n",
       "  <thead>\n",
       "    <tr style=\"text-align: right;\">\n",
       "      <th></th>\n",
       "      <th>total_missing</th>\n",
       "      <th>percent</th>\n",
       "    </tr>\n",
       "  </thead>\n",
       "  <tbody>\n",
       "    <tr>\n",
       "      <th>283</th>\n",
       "      <td>11151</td>\n",
       "      <td>99.99</td>\n",
       "    </tr>\n",
       "    <tr>\n",
       "      <th>272</th>\n",
       "      <td>11151</td>\n",
       "      <td>99.99</td>\n",
       "    </tr>\n",
       "    <tr>\n",
       "      <th>282</th>\n",
       "      <td>11151</td>\n",
       "      <td>99.99</td>\n",
       "    </tr>\n",
       "    <tr>\n",
       "      <th>265</th>\n",
       "      <td>11151</td>\n",
       "      <td>99.99</td>\n",
       "    </tr>\n",
       "    <tr>\n",
       "      <th>266</th>\n",
       "      <td>11151</td>\n",
       "      <td>99.99</td>\n",
       "    </tr>\n",
       "    <tr>\n",
       "      <th>267</th>\n",
       "      <td>11151</td>\n",
       "      <td>99.99</td>\n",
       "    </tr>\n",
       "    <tr>\n",
       "      <th>268</th>\n",
       "      <td>11151</td>\n",
       "      <td>99.99</td>\n",
       "    </tr>\n",
       "    <tr>\n",
       "      <th>269</th>\n",
       "      <td>11151</td>\n",
       "      <td>99.99</td>\n",
       "    </tr>\n",
       "    <tr>\n",
       "      <th>270</th>\n",
       "      <td>11151</td>\n",
       "      <td>99.99</td>\n",
       "    </tr>\n",
       "    <tr>\n",
       "      <th>271</th>\n",
       "      <td>11151</td>\n",
       "      <td>99.99</td>\n",
       "    </tr>\n",
       "    <tr>\n",
       "      <th>264</th>\n",
       "      <td>11151</td>\n",
       "      <td>99.99</td>\n",
       "    </tr>\n",
       "    <tr>\n",
       "      <th>273</th>\n",
       "      <td>11151</td>\n",
       "      <td>99.99</td>\n",
       "    </tr>\n",
       "    <tr>\n",
       "      <th>274</th>\n",
       "      <td>11151</td>\n",
       "      <td>99.99</td>\n",
       "    </tr>\n",
       "    <tr>\n",
       "      <th>275</th>\n",
       "      <td>11151</td>\n",
       "      <td>99.99</td>\n",
       "    </tr>\n",
       "    <tr>\n",
       "      <th>276</th>\n",
       "      <td>11151</td>\n",
       "      <td>99.99</td>\n",
       "    </tr>\n",
       "    <tr>\n",
       "      <th>277</th>\n",
       "      <td>11151</td>\n",
       "      <td>99.99</td>\n",
       "    </tr>\n",
       "    <tr>\n",
       "      <th>278</th>\n",
       "      <td>11151</td>\n",
       "      <td>99.99</td>\n",
       "    </tr>\n",
       "    <tr>\n",
       "      <th>279</th>\n",
       "      <td>11151</td>\n",
       "      <td>99.99</td>\n",
       "    </tr>\n",
       "    <tr>\n",
       "      <th>280</th>\n",
       "      <td>11151</td>\n",
       "      <td>99.99</td>\n",
       "    </tr>\n",
       "    <tr>\n",
       "      <th>281</th>\n",
       "      <td>11151</td>\n",
       "      <td>99.99</td>\n",
       "    </tr>\n",
       "    <tr>\n",
       "      <th>256</th>\n",
       "      <td>11150</td>\n",
       "      <td>99.98</td>\n",
       "    </tr>\n",
       "    <tr>\n",
       "      <th>257</th>\n",
       "      <td>11150</td>\n",
       "      <td>99.98</td>\n",
       "    </tr>\n",
       "    <tr>\n",
       "      <th>258</th>\n",
       "      <td>11150</td>\n",
       "      <td>99.98</td>\n",
       "    </tr>\n",
       "    <tr>\n",
       "      <th>259</th>\n",
       "      <td>11150</td>\n",
       "      <td>99.98</td>\n",
       "    </tr>\n",
       "    <tr>\n",
       "      <th>260</th>\n",
       "      <td>11150</td>\n",
       "      <td>99.98</td>\n",
       "    </tr>\n",
       "    <tr>\n",
       "      <th>261</th>\n",
       "      <td>11150</td>\n",
       "      <td>99.98</td>\n",
       "    </tr>\n",
       "    <tr>\n",
       "      <th>262</th>\n",
       "      <td>11150</td>\n",
       "      <td>99.98</td>\n",
       "    </tr>\n",
       "    <tr>\n",
       "      <th>263</th>\n",
       "      <td>11150</td>\n",
       "      <td>99.98</td>\n",
       "    </tr>\n",
       "    <tr>\n",
       "      <th>255</th>\n",
       "      <td>11149</td>\n",
       "      <td>99.97</td>\n",
       "    </tr>\n",
       "    <tr>\n",
       "      <th>254</th>\n",
       "      <td>11147</td>\n",
       "      <td>99.96</td>\n",
       "    </tr>\n",
       "    <tr>\n",
       "      <th>...</th>\n",
       "      <td>...</td>\n",
       "      <td>...</td>\n",
       "    </tr>\n",
       "    <tr>\n",
       "      <th>240</th>\n",
       "      <td>11142</td>\n",
       "      <td>99.91</td>\n",
       "    </tr>\n",
       "    <tr>\n",
       "      <th>239</th>\n",
       "      <td>11141</td>\n",
       "      <td>99.90</td>\n",
       "    </tr>\n",
       "    <tr>\n",
       "      <th>238</th>\n",
       "      <td>11141</td>\n",
       "      <td>99.90</td>\n",
       "    </tr>\n",
       "    <tr>\n",
       "      <th>237</th>\n",
       "      <td>11141</td>\n",
       "      <td>99.90</td>\n",
       "    </tr>\n",
       "    <tr>\n",
       "      <th>236</th>\n",
       "      <td>11138</td>\n",
       "      <td>99.87</td>\n",
       "    </tr>\n",
       "    <tr>\n",
       "      <th>235</th>\n",
       "      <td>11135</td>\n",
       "      <td>99.85</td>\n",
       "    </tr>\n",
       "    <tr>\n",
       "      <th>234</th>\n",
       "      <td>11132</td>\n",
       "      <td>99.82</td>\n",
       "    </tr>\n",
       "    <tr>\n",
       "      <th>233</th>\n",
       "      <td>11130</td>\n",
       "      <td>99.80</td>\n",
       "    </tr>\n",
       "    <tr>\n",
       "      <th>232</th>\n",
       "      <td>11128</td>\n",
       "      <td>99.78</td>\n",
       "    </tr>\n",
       "    <tr>\n",
       "      <th>231</th>\n",
       "      <td>11127</td>\n",
       "      <td>99.78</td>\n",
       "    </tr>\n",
       "    <tr>\n",
       "      <th>230</th>\n",
       "      <td>11122</td>\n",
       "      <td>99.73</td>\n",
       "    </tr>\n",
       "    <tr>\n",
       "      <th>229</th>\n",
       "      <td>11117</td>\n",
       "      <td>99.69</td>\n",
       "    </tr>\n",
       "    <tr>\n",
       "      <th>228</th>\n",
       "      <td>11101</td>\n",
       "      <td>99.54</td>\n",
       "    </tr>\n",
       "    <tr>\n",
       "      <th>227</th>\n",
       "      <td>11096</td>\n",
       "      <td>99.50</td>\n",
       "    </tr>\n",
       "    <tr>\n",
       "      <th>226</th>\n",
       "      <td>11090</td>\n",
       "      <td>99.44</td>\n",
       "    </tr>\n",
       "    <tr>\n",
       "      <th>225</th>\n",
       "      <td>11082</td>\n",
       "      <td>99.37</td>\n",
       "    </tr>\n",
       "    <tr>\n",
       "      <th>224</th>\n",
       "      <td>11061</td>\n",
       "      <td>99.18</td>\n",
       "    </tr>\n",
       "    <tr>\n",
       "      <th>223</th>\n",
       "      <td>11036</td>\n",
       "      <td>98.96</td>\n",
       "    </tr>\n",
       "    <tr>\n",
       "      <th>222</th>\n",
       "      <td>11012</td>\n",
       "      <td>98.74</td>\n",
       "    </tr>\n",
       "    <tr>\n",
       "      <th>221</th>\n",
       "      <td>10983</td>\n",
       "      <td>98.48</td>\n",
       "    </tr>\n",
       "    <tr>\n",
       "      <th>220</th>\n",
       "      <td>10956</td>\n",
       "      <td>98.24</td>\n",
       "    </tr>\n",
       "    <tr>\n",
       "      <th>219</th>\n",
       "      <td>10914</td>\n",
       "      <td>97.87</td>\n",
       "    </tr>\n",
       "    <tr>\n",
       "      <th>218</th>\n",
       "      <td>10867</td>\n",
       "      <td>97.44</td>\n",
       "    </tr>\n",
       "    <tr>\n",
       "      <th>217</th>\n",
       "      <td>10804</td>\n",
       "      <td>96.88</td>\n",
       "    </tr>\n",
       "    <tr>\n",
       "      <th>216</th>\n",
       "      <td>10715</td>\n",
       "      <td>96.08</td>\n",
       "    </tr>\n",
       "    <tr>\n",
       "      <th>215</th>\n",
       "      <td>10611</td>\n",
       "      <td>95.15</td>\n",
       "    </tr>\n",
       "    <tr>\n",
       "      <th>214</th>\n",
       "      <td>10491</td>\n",
       "      <td>94.07</td>\n",
       "    </tr>\n",
       "    <tr>\n",
       "      <th>213</th>\n",
       "      <td>10273</td>\n",
       "      <td>92.12</td>\n",
       "    </tr>\n",
       "    <tr>\n",
       "      <th>212</th>\n",
       "      <td>9983</td>\n",
       "      <td>89.52</td>\n",
       "    </tr>\n",
       "    <tr>\n",
       "      <th>211</th>\n",
       "      <td>1</td>\n",
       "      <td>0.01</td>\n",
       "    </tr>\n",
       "  </tbody>\n",
       "</table>\n",
       "<p>73 rows × 2 columns</p>\n",
       "</div>"
      ],
      "text/plain": [
       "     total_missing  percent\n",
       "283          11151    99.99\n",
       "272          11151    99.99\n",
       "282          11151    99.99\n",
       "265          11151    99.99\n",
       "266          11151    99.99\n",
       "267          11151    99.99\n",
       "268          11151    99.99\n",
       "269          11151    99.99\n",
       "270          11151    99.99\n",
       "271          11151    99.99\n",
       "264          11151    99.99\n",
       "273          11151    99.99\n",
       "274          11151    99.99\n",
       "275          11151    99.99\n",
       "276          11151    99.99\n",
       "277          11151    99.99\n",
       "278          11151    99.99\n",
       "279          11151    99.99\n",
       "280          11151    99.99\n",
       "281          11151    99.99\n",
       "256          11150    99.98\n",
       "257          11150    99.98\n",
       "258          11150    99.98\n",
       "259          11150    99.98\n",
       "260          11150    99.98\n",
       "261          11150    99.98\n",
       "262          11150    99.98\n",
       "263          11150    99.98\n",
       "255          11149    99.97\n",
       "254          11147    99.96\n",
       "..             ...      ...\n",
       "240          11142    99.91\n",
       "239          11141    99.90\n",
       "238          11141    99.90\n",
       "237          11141    99.90\n",
       "236          11138    99.87\n",
       "235          11135    99.85\n",
       "234          11132    99.82\n",
       "233          11130    99.80\n",
       "232          11128    99.78\n",
       "231          11127    99.78\n",
       "230          11122    99.73\n",
       "229          11117    99.69\n",
       "228          11101    99.54\n",
       "227          11096    99.50\n",
       "226          11090    99.44\n",
       "225          11082    99.37\n",
       "224          11061    99.18\n",
       "223          11036    98.96\n",
       "222          11012    98.74\n",
       "221          10983    98.48\n",
       "220          10956    98.24\n",
       "219          10914    97.87\n",
       "218          10867    97.44\n",
       "217          10804    96.88\n",
       "216          10715    96.08\n",
       "215          10611    95.15\n",
       "214          10491    94.07\n",
       "213          10273    92.12\n",
       "212           9983    89.52\n",
       "211              1     0.01\n",
       "\n",
       "[73 rows x 2 columns]"
      ]
     },
     "execution_count": 41,
     "metadata": {},
     "output_type": "execute_result"
    }
   ],
   "source": [
    "# Check missing values' proportions\n",
    "total = ext_test_new_df.isnull().sum()[ext_test_new_df.isnull().sum() != 0].sort_values(ascending = False)\n",
    "percent = pd.Series(round(total/len(ext_test_new_df)*100,2))\n",
    "pd.concat([total, percent], axis=1, keys=['total_missing', 'percent'])"
   ]
  },
  {
   "cell_type": "code",
   "execution_count": 42,
   "metadata": {},
   "outputs": [],
   "source": [
    "ext_test_new_df.dropna(axis=1, thresh=10000, inplace=True)"
   ]
  },
  {
   "cell_type": "code",
   "execution_count": 43,
   "metadata": {},
   "outputs": [
    {
     "data": {
      "text/html": [
       "<div>\n",
       "<style scoped>\n",
       "    .dataframe tbody tr th:only-of-type {\n",
       "        vertical-align: middle;\n",
       "    }\n",
       "\n",
       "    .dataframe tbody tr th {\n",
       "        vertical-align: top;\n",
       "    }\n",
       "\n",
       "    .dataframe thead th {\n",
       "        text-align: right;\n",
       "    }\n",
       "</style>\n",
       "<table border=\"1\" class=\"dataframe\">\n",
       "  <thead>\n",
       "    <tr style=\"text-align: right;\">\n",
       "      <th></th>\n",
       "      <th>0</th>\n",
       "      <th>1</th>\n",
       "      <th>2</th>\n",
       "      <th>3</th>\n",
       "      <th>4</th>\n",
       "      <th>5</th>\n",
       "      <th>6</th>\n",
       "      <th>7</th>\n",
       "      <th>8</th>\n",
       "      <th>9</th>\n",
       "      <th>...</th>\n",
       "      <th>202</th>\n",
       "      <th>203</th>\n",
       "      <th>204</th>\n",
       "      <th>205</th>\n",
       "      <th>206</th>\n",
       "      <th>207</th>\n",
       "      <th>208</th>\n",
       "      <th>209</th>\n",
       "      <th>210</th>\n",
       "      <th>211</th>\n",
       "    </tr>\n",
       "  </thead>\n",
       "  <tbody>\n",
       "    <tr>\n",
       "      <th>0</th>\n",
       "      <td>B00141QYSQ</td>\n",
       "      <td>A1YS02UZZGRDCT</td>\n",
       "      <td>Do Not Buy</td>\n",
       "      <td>1</td>\n",
       "      <td>2</td>\n",
       "      <td>41471</td>\n",
       "      <td>Evan Eberhardt</td>\n",
       "      <td>2</td>\n",
       "      <td>1348358400</td>\n",
       "      <td>These are made in China (do not buy ANY pet fo...</td>\n",
       "      <td>...</td>\n",
       "      <td>-0.07799235731363297</td>\n",
       "      <td>0.04839053750038147</td>\n",
       "      <td>-0.2585514783859253</td>\n",
       "      <td>0.07956297695636749</td>\n",
       "      <td>-0.26084616780281067</td>\n",
       "      <td>-0.021948721259832382</td>\n",
       "      <td>-0.18976007401943207</td>\n",
       "      <td>0.06214864179491997</td>\n",
       "      <td>-0.07712842524051666</td>\n",
       "      <td>0.3630388081073761</td>\n",
       "    </tr>\n",
       "    <tr>\n",
       "      <th>1</th>\n",
       "      <td>B0041CIR62</td>\n",
       "      <td>A16I6WJUEBJ1C3</td>\n",
       "      <td>okay but not as healthy as it appears</td>\n",
       "      <td>2</td>\n",
       "      <td>1</td>\n",
       "      <td>138997</td>\n",
       "      <td>doctorsirena doctorsirena\"\"</td>\n",
       "      <td>1</td>\n",
       "      <td>1343692800</td>\n",
       "      <td>I am always looking for healthier, whole grain...</td>\n",
       "      <td>...</td>\n",
       "      <td>-0.058566685765981674</td>\n",
       "      <td>-0.04078615829348564</td>\n",
       "      <td>-0.009615098126232624</td>\n",
       "      <td>0.1831672340631485</td>\n",
       "      <td>0.09231755882501602</td>\n",
       "      <td>-0.15062372386455536</td>\n",
       "      <td>-0.10785698145627975</td>\n",
       "      <td>-0.10458847135305405</td>\n",
       "      <td>0.033932555466890335</td>\n",
       "      <td>0.028454169631004333</td>\n",
       "    </tr>\n",
       "    <tr>\n",
       "      <th>2</th>\n",
       "      <td>B001KUUNHE</td>\n",
       "      <td>A35R32TA60XD57</td>\n",
       "      <td>Best simple cat food</td>\n",
       "      <td>5</td>\n",
       "      <td>0</td>\n",
       "      <td>64358</td>\n",
       "      <td>M. Torma</td>\n",
       "      <td>0</td>\n",
       "      <td>1338940800</td>\n",
       "      <td>My cat that can eat fish loves this food!  I w...</td>\n",
       "      <td>...</td>\n",
       "      <td>0.1150464341044426</td>\n",
       "      <td>0.0632527619600296</td>\n",
       "      <td>-0.20212548971176147</td>\n",
       "      <td>-0.0042395684868097305</td>\n",
       "      <td>-0.016022998839616776</td>\n",
       "      <td>-0.1292819380760193</td>\n",
       "      <td>0.014951806515455246</td>\n",
       "      <td>0.07544873654842377</td>\n",
       "      <td>0.08068554103374481</td>\n",
       "      <td>0.11795947700738907</td>\n",
       "    </tr>\n",
       "    <tr>\n",
       "      <th>3</th>\n",
       "      <td>B009PFJUF2</td>\n",
       "      <td>A16HJRHRHNSUZ6</td>\n",
       "      <td>Looks very pretty when in bloom!</td>\n",
       "      <td>5</td>\n",
       "      <td>1</td>\n",
       "      <td>286942</td>\n",
       "      <td>Danielle Tietz</td>\n",
       "      <td>1</td>\n",
       "      <td>1350432000</td>\n",
       "      <td>My neighborhood recently decided to create a n...</td>\n",
       "      <td>...</td>\n",
       "      <td>-0.10213299840688705</td>\n",
       "      <td>-0.06430958956480026</td>\n",
       "      <td>-0.08210942149162292</td>\n",
       "      <td>0.22349244356155396</td>\n",
       "      <td>0.13613520562648773</td>\n",
       "      <td>-0.2520558536052704</td>\n",
       "      <td>-0.04722695052623749</td>\n",
       "      <td>0.3063170611858368</td>\n",
       "      <td>-0.09244243055582047</td>\n",
       "      <td>0.01874682679772377</td>\n",
       "    </tr>\n",
       "    <tr>\n",
       "      <th>4</th>\n",
       "      <td>B000SAPXPY</td>\n",
       "      <td>A3MQ68M8KRBUQH</td>\n",
       "      <td>Excellent flavor</td>\n",
       "      <td>5</td>\n",
       "      <td>2</td>\n",
       "      <td>368188</td>\n",
       "      <td>Claudia</td>\n",
       "      <td>2</td>\n",
       "      <td>1340928000</td>\n",
       "      <td>I'm a big fan of good, strong British tea like...</td>\n",
       "      <td>...</td>\n",
       "      <td>-0.11092902719974518</td>\n",
       "      <td>0.018857073038816452</td>\n",
       "      <td>-0.05005814880132675</td>\n",
       "      <td>0.20372338593006134</td>\n",
       "      <td>-0.10088235884904861</td>\n",
       "      <td>-0.042370252311229706</td>\n",
       "      <td>-0.11218608915805817</td>\n",
       "      <td>-0.08465956151485443</td>\n",
       "      <td>-0.05951784551143646</td>\n",
       "      <td>0.07531343400478363</td>\n",
       "    </tr>\n",
       "  </tbody>\n",
       "</table>\n",
       "<p>5 rows × 212 columns</p>\n",
       "</div>"
      ],
      "text/plain": [
       "          0               1                                      2   3   4    \\\n",
       "0  B00141QYSQ  A1YS02UZZGRDCT                             Do Not Buy   1   2   \n",
       "1  B0041CIR62  A16I6WJUEBJ1C3  okay but not as healthy as it appears   2   1   \n",
       "2  B001KUUNHE  A35R32TA60XD57                   Best simple cat food   5   0   \n",
       "3  B009PFJUF2  A16HJRHRHNSUZ6       Looks very pretty when in bloom!   5   1   \n",
       "4  B000SAPXPY  A3MQ68M8KRBUQH                       Excellent flavor   5   2   \n",
       "\n",
       "      5                            6   7           8    \\\n",
       "0   41471               Evan Eberhardt   2  1348358400   \n",
       "1  138997  doctorsirena doctorsirena\"\"   1  1343692800   \n",
       "2   64358                     M. Torma   0  1338940800   \n",
       "3  286942               Danielle Tietz   1  1350432000   \n",
       "4  368188                      Claudia   2  1340928000   \n",
       "\n",
       "                                                 9            ...           \\\n",
       "0  These are made in China (do not buy ANY pet fo...          ...            \n",
       "1  I am always looking for healthier, whole grain...          ...            \n",
       "2  My cat that can eat fish loves this food!  I w...          ...            \n",
       "3  My neighborhood recently decided to create a n...          ...            \n",
       "4  I'm a big fan of good, strong British tea like...          ...            \n",
       "\n",
       "                     202                   203                    204  \\\n",
       "0   -0.07799235731363297   0.04839053750038147    -0.2585514783859253   \n",
       "1  -0.058566685765981674  -0.04078615829348564  -0.009615098126232624   \n",
       "2     0.1150464341044426    0.0632527619600296   -0.20212548971176147   \n",
       "3   -0.10213299840688705  -0.06430958956480026   -0.08210942149162292   \n",
       "4   -0.11092902719974518  0.018857073038816452   -0.05005814880132675   \n",
       "\n",
       "                      205                    206                    207  \\\n",
       "0     0.07956297695636749   -0.26084616780281067  -0.021948721259832382   \n",
       "1      0.1831672340631485    0.09231755882501602   -0.15062372386455536   \n",
       "2  -0.0042395684868097305  -0.016022998839616776    -0.1292819380760193   \n",
       "3     0.22349244356155396    0.13613520562648773    -0.2520558536052704   \n",
       "4     0.20372338593006134   -0.10088235884904861  -0.042370252311229706   \n",
       "\n",
       "                    208                   209                   210  \\\n",
       "0  -0.18976007401943207   0.06214864179491997  -0.07712842524051666   \n",
       "1  -0.10785698145627975  -0.10458847135305405  0.033932555466890335   \n",
       "2  0.014951806515455246   0.07544873654842377   0.08068554103374481   \n",
       "3  -0.04722695052623749    0.3063170611858368  -0.09244243055582047   \n",
       "4  -0.11218608915805817  -0.08465956151485443  -0.05951784551143646   \n",
       "\n",
       "                    211  \n",
       "0    0.3630388081073761  \n",
       "1  0.028454169631004333  \n",
       "2   0.11795947700738907  \n",
       "3   0.01874682679772377  \n",
       "4   0.07531343400478363  \n",
       "\n",
       "[5 rows x 212 columns]"
      ]
     },
     "execution_count": 43,
     "metadata": {},
     "output_type": "execute_result"
    }
   ],
   "source": [
    "ext_test_new_df.head()"
   ]
  },
  {
   "cell_type": "code",
   "execution_count": 44,
   "metadata": {},
   "outputs": [],
   "source": [
    "ext_test_new_df.columns = lable"
   ]
  },
  {
   "cell_type": "code",
   "execution_count": 45,
   "metadata": {},
   "outputs": [
    {
     "data": {
      "text/html": [
       "<div>\n",
       "<style scoped>\n",
       "    .dataframe tbody tr th:only-of-type {\n",
       "        vertical-align: middle;\n",
       "    }\n",
       "\n",
       "    .dataframe tbody tr th {\n",
       "        vertical-align: top;\n",
       "    }\n",
       "\n",
       "    .dataframe thead th {\n",
       "        text-align: right;\n",
       "    }\n",
       "</style>\n",
       "<table border=\"1\" class=\"dataframe\">\n",
       "  <thead>\n",
       "    <tr style=\"text-align: right;\">\n",
       "      <th></th>\n",
       "      <th>ProductId</th>\n",
       "      <th>UserId</th>\n",
       "      <th>Summary</th>\n",
       "      <th>Score</th>\n",
       "      <th>HelpfulnessDenominator</th>\n",
       "      <th>Id</th>\n",
       "      <th>ProfileName</th>\n",
       "      <th>HelpfulnessNumerator</th>\n",
       "      <th>Time</th>\n",
       "      <th>Text</th>\n",
       "      <th>...</th>\n",
       "      <th>summary_C91</th>\n",
       "      <th>summary_C92</th>\n",
       "      <th>summary_C93</th>\n",
       "      <th>summary_C94</th>\n",
       "      <th>summary_C95</th>\n",
       "      <th>summary_C96</th>\n",
       "      <th>summary_C97</th>\n",
       "      <th>summary_C98</th>\n",
       "      <th>summary_C99</th>\n",
       "      <th>summary_C100</th>\n",
       "    </tr>\n",
       "  </thead>\n",
       "  <tbody>\n",
       "    <tr>\n",
       "      <th>0</th>\n",
       "      <td>B00141QYSQ</td>\n",
       "      <td>A1YS02UZZGRDCT</td>\n",
       "      <td>Do Not Buy</td>\n",
       "      <td>1</td>\n",
       "      <td>2</td>\n",
       "      <td>41471</td>\n",
       "      <td>Evan Eberhardt</td>\n",
       "      <td>2</td>\n",
       "      <td>1348358400</td>\n",
       "      <td>These are made in China (do not buy ANY pet fo...</td>\n",
       "      <td>...</td>\n",
       "      <td>-0.07799235731363297</td>\n",
       "      <td>0.04839053750038147</td>\n",
       "      <td>-0.2585514783859253</td>\n",
       "      <td>0.07956297695636749</td>\n",
       "      <td>-0.26084616780281067</td>\n",
       "      <td>-0.021948721259832382</td>\n",
       "      <td>-0.18976007401943207</td>\n",
       "      <td>0.06214864179491997</td>\n",
       "      <td>-0.07712842524051666</td>\n",
       "      <td>0.3630388081073761</td>\n",
       "    </tr>\n",
       "    <tr>\n",
       "      <th>1</th>\n",
       "      <td>B0041CIR62</td>\n",
       "      <td>A16I6WJUEBJ1C3</td>\n",
       "      <td>okay but not as healthy as it appears</td>\n",
       "      <td>2</td>\n",
       "      <td>1</td>\n",
       "      <td>138997</td>\n",
       "      <td>doctorsirena doctorsirena\"\"</td>\n",
       "      <td>1</td>\n",
       "      <td>1343692800</td>\n",
       "      <td>I am always looking for healthier, whole grain...</td>\n",
       "      <td>...</td>\n",
       "      <td>-0.058566685765981674</td>\n",
       "      <td>-0.04078615829348564</td>\n",
       "      <td>-0.009615098126232624</td>\n",
       "      <td>0.1831672340631485</td>\n",
       "      <td>0.09231755882501602</td>\n",
       "      <td>-0.15062372386455536</td>\n",
       "      <td>-0.10785698145627975</td>\n",
       "      <td>-0.10458847135305405</td>\n",
       "      <td>0.033932555466890335</td>\n",
       "      <td>0.028454169631004333</td>\n",
       "    </tr>\n",
       "    <tr>\n",
       "      <th>2</th>\n",
       "      <td>B001KUUNHE</td>\n",
       "      <td>A35R32TA60XD57</td>\n",
       "      <td>Best simple cat food</td>\n",
       "      <td>5</td>\n",
       "      <td>0</td>\n",
       "      <td>64358</td>\n",
       "      <td>M. Torma</td>\n",
       "      <td>0</td>\n",
       "      <td>1338940800</td>\n",
       "      <td>My cat that can eat fish loves this food!  I w...</td>\n",
       "      <td>...</td>\n",
       "      <td>0.1150464341044426</td>\n",
       "      <td>0.0632527619600296</td>\n",
       "      <td>-0.20212548971176147</td>\n",
       "      <td>-0.0042395684868097305</td>\n",
       "      <td>-0.016022998839616776</td>\n",
       "      <td>-0.1292819380760193</td>\n",
       "      <td>0.014951806515455246</td>\n",
       "      <td>0.07544873654842377</td>\n",
       "      <td>0.08068554103374481</td>\n",
       "      <td>0.11795947700738907</td>\n",
       "    </tr>\n",
       "    <tr>\n",
       "      <th>3</th>\n",
       "      <td>B009PFJUF2</td>\n",
       "      <td>A16HJRHRHNSUZ6</td>\n",
       "      <td>Looks very pretty when in bloom!</td>\n",
       "      <td>5</td>\n",
       "      <td>1</td>\n",
       "      <td>286942</td>\n",
       "      <td>Danielle Tietz</td>\n",
       "      <td>1</td>\n",
       "      <td>1350432000</td>\n",
       "      <td>My neighborhood recently decided to create a n...</td>\n",
       "      <td>...</td>\n",
       "      <td>-0.10213299840688705</td>\n",
       "      <td>-0.06430958956480026</td>\n",
       "      <td>-0.08210942149162292</td>\n",
       "      <td>0.22349244356155396</td>\n",
       "      <td>0.13613520562648773</td>\n",
       "      <td>-0.2520558536052704</td>\n",
       "      <td>-0.04722695052623749</td>\n",
       "      <td>0.3063170611858368</td>\n",
       "      <td>-0.09244243055582047</td>\n",
       "      <td>0.01874682679772377</td>\n",
       "    </tr>\n",
       "    <tr>\n",
       "      <th>4</th>\n",
       "      <td>B000SAPXPY</td>\n",
       "      <td>A3MQ68M8KRBUQH</td>\n",
       "      <td>Excellent flavor</td>\n",
       "      <td>5</td>\n",
       "      <td>2</td>\n",
       "      <td>368188</td>\n",
       "      <td>Claudia</td>\n",
       "      <td>2</td>\n",
       "      <td>1340928000</td>\n",
       "      <td>I'm a big fan of good, strong British tea like...</td>\n",
       "      <td>...</td>\n",
       "      <td>-0.11092902719974518</td>\n",
       "      <td>0.018857073038816452</td>\n",
       "      <td>-0.05005814880132675</td>\n",
       "      <td>0.20372338593006134</td>\n",
       "      <td>-0.10088235884904861</td>\n",
       "      <td>-0.042370252311229706</td>\n",
       "      <td>-0.11218608915805817</td>\n",
       "      <td>-0.08465956151485443</td>\n",
       "      <td>-0.05951784551143646</td>\n",
       "      <td>0.07531343400478363</td>\n",
       "    </tr>\n",
       "  </tbody>\n",
       "</table>\n",
       "<p>5 rows × 212 columns</p>\n",
       "</div>"
      ],
      "text/plain": [
       "    ProductId          UserId                                Summary Score  \\\n",
       "0  B00141QYSQ  A1YS02UZZGRDCT                             Do Not Buy     1   \n",
       "1  B0041CIR62  A16I6WJUEBJ1C3  okay but not as healthy as it appears     2   \n",
       "2  B001KUUNHE  A35R32TA60XD57                   Best simple cat food     5   \n",
       "3  B009PFJUF2  A16HJRHRHNSUZ6       Looks very pretty when in bloom!     5   \n",
       "4  B000SAPXPY  A3MQ68M8KRBUQH                       Excellent flavor     5   \n",
       "\n",
       "  HelpfulnessDenominator      Id                  ProfileName  \\\n",
       "0                      2   41471               Evan Eberhardt   \n",
       "1                      1  138997  doctorsirena doctorsirena\"\"   \n",
       "2                      0   64358                     M. Torma   \n",
       "3                      1  286942               Danielle Tietz   \n",
       "4                      2  368188                      Claudia   \n",
       "\n",
       "  HelpfulnessNumerator        Time  \\\n",
       "0                    2  1348358400   \n",
       "1                    1  1343692800   \n",
       "2                    0  1338940800   \n",
       "3                    1  1350432000   \n",
       "4                    2  1340928000   \n",
       "\n",
       "                                                Text          ...           \\\n",
       "0  These are made in China (do not buy ANY pet fo...          ...            \n",
       "1  I am always looking for healthier, whole grain...          ...            \n",
       "2  My cat that can eat fish loves this food!  I w...          ...            \n",
       "3  My neighborhood recently decided to create a n...          ...            \n",
       "4  I'm a big fan of good, strong British tea like...          ...            \n",
       "\n",
       "             summary_C91           summary_C92            summary_C93  \\\n",
       "0   -0.07799235731363297   0.04839053750038147    -0.2585514783859253   \n",
       "1  -0.058566685765981674  -0.04078615829348564  -0.009615098126232624   \n",
       "2     0.1150464341044426    0.0632527619600296   -0.20212548971176147   \n",
       "3   -0.10213299840688705  -0.06430958956480026   -0.08210942149162292   \n",
       "4   -0.11092902719974518  0.018857073038816452   -0.05005814880132675   \n",
       "\n",
       "              summary_C94            summary_C95            summary_C96  \\\n",
       "0     0.07956297695636749   -0.26084616780281067  -0.021948721259832382   \n",
       "1      0.1831672340631485    0.09231755882501602   -0.15062372386455536   \n",
       "2  -0.0042395684868097305  -0.016022998839616776    -0.1292819380760193   \n",
       "3     0.22349244356155396    0.13613520562648773    -0.2520558536052704   \n",
       "4     0.20372338593006134   -0.10088235884904861  -0.042370252311229706   \n",
       "\n",
       "            summary_C97           summary_C98           summary_C99  \\\n",
       "0  -0.18976007401943207   0.06214864179491997  -0.07712842524051666   \n",
       "1  -0.10785698145627975  -0.10458847135305405  0.033932555466890335   \n",
       "2  0.014951806515455246   0.07544873654842377   0.08068554103374481   \n",
       "3  -0.04722695052623749    0.3063170611858368  -0.09244243055582047   \n",
       "4  -0.11218608915805817  -0.08465956151485443  -0.05951784551143646   \n",
       "\n",
       "           summary_C100  \n",
       "0    0.3630388081073761  \n",
       "1  0.028454169631004333  \n",
       "2   0.11795947700738907  \n",
       "3   0.01874682679772377  \n",
       "4   0.07531343400478363  \n",
       "\n",
       "[5 rows x 212 columns]"
      ]
     },
     "execution_count": 45,
     "metadata": {},
     "output_type": "execute_result"
    }
   ],
   "source": [
    "ext_test_new_df.head()"
   ]
  },
  {
   "cell_type": "code",
   "execution_count": 46,
   "metadata": {},
   "outputs": [
    {
     "name": "stdout",
     "output_type": "stream",
     "text": [
      "ProductId                 object\n",
      "UserId                    object\n",
      "Summary                   object\n",
      "Score                     object\n",
      "HelpfulnessDenominator    object\n",
      "Id                        object\n",
      "ProfileName               object\n",
      "HelpfulnessNumerator      object\n",
      "Time                      object\n",
      "Text                      object\n",
      "PositiveReview            object\n",
      "Train                     object\n",
      "C1                        object\n",
      "C2                        object\n",
      "C3                        object\n",
      "C4                        object\n",
      "C5                        object\n",
      "C6                        object\n",
      "C7                        object\n",
      "C8                        object\n",
      "C9                        object\n",
      "C10                       object\n",
      "C11                       object\n",
      "C12                       object\n",
      "C13                       object\n",
      "C14                       object\n",
      "C15                       object\n",
      "C16                       object\n",
      "C17                       object\n",
      "C18                       object\n",
      "                           ...  \n",
      "summary_C71               object\n",
      "summary_C72               object\n",
      "summary_C73               object\n",
      "summary_C74               object\n",
      "summary_C75               object\n",
      "summary_C76               object\n",
      "summary_C77               object\n",
      "summary_C78               object\n",
      "summary_C79               object\n",
      "summary_C80               object\n",
      "summary_C81               object\n",
      "summary_C82               object\n",
      "summary_C83               object\n",
      "summary_C84               object\n",
      "summary_C85               object\n",
      "summary_C86               object\n",
      "summary_C87               object\n",
      "summary_C88               object\n",
      "summary_C89               object\n",
      "summary_C90               object\n",
      "summary_C91               object\n",
      "summary_C92               object\n",
      "summary_C93               object\n",
      "summary_C94               object\n",
      "summary_C95               object\n",
      "summary_C96               object\n",
      "summary_C97               object\n",
      "summary_C98               object\n",
      "summary_C99               object\n",
      "summary_C100              object\n",
      "Length: 212, dtype: object\n"
     ]
    }
   ],
   "source": [
    "print(ext_test_new_df.dtypes)"
   ]
  },
  {
   "cell_type": "code",
   "execution_count": 50,
   "metadata": {},
   "outputs": [
    {
     "ename": "ValueError",
     "evalue": "invalid literal for int() with base 10: ' MD canidate\"\"'",
     "output_type": "error",
     "traceback": [
      "\u001b[0;31m---------------------------------------------------------------------------\u001b[0m",
      "\u001b[0;31mValueError\u001b[0m                                Traceback (most recent call last)",
      "\u001b[0;32m<ipython-input-50-93db9c0dd80e>\u001b[0m in \u001b[0;36m<module>\u001b[0;34m\u001b[0m\n\u001b[0;32m----> 1\u001b[0;31m \u001b[0mext_test_new_df\u001b[0m\u001b[0;34m[\u001b[0m\u001b[0;34m[\u001b[0m\u001b[0;34m'HelpfulnessNumerator'\u001b[0m\u001b[0;34m]\u001b[0m\u001b[0;34m]\u001b[0m \u001b[0;34m=\u001b[0m \u001b[0mext_test_new_df\u001b[0m\u001b[0;34m[\u001b[0m\u001b[0;34m[\u001b[0m\u001b[0;34m'HelpfulnessNumerator'\u001b[0m\u001b[0;34m]\u001b[0m\u001b[0;34m]\u001b[0m\u001b[0;34m.\u001b[0m\u001b[0mastype\u001b[0m\u001b[0;34m(\u001b[0m\u001b[0mint\u001b[0m\u001b[0;34m)\u001b[0m\u001b[0;34m\u001b[0m\u001b[0;34m\u001b[0m\u001b[0m\n\u001b[0m",
      "\u001b[0;32m/anaconda3/lib/python3.7/site-packages/pandas/util/_decorators.py\u001b[0m in \u001b[0;36mwrapper\u001b[0;34m(*args, **kwargs)\u001b[0m\n\u001b[1;32m    176\u001b[0m                 \u001b[0;32melse\u001b[0m\u001b[0;34m:\u001b[0m\u001b[0;34m\u001b[0m\u001b[0;34m\u001b[0m\u001b[0m\n\u001b[1;32m    177\u001b[0m                     \u001b[0mkwargs\u001b[0m\u001b[0;34m[\u001b[0m\u001b[0mnew_arg_name\u001b[0m\u001b[0;34m]\u001b[0m \u001b[0;34m=\u001b[0m \u001b[0mnew_arg_value\u001b[0m\u001b[0;34m\u001b[0m\u001b[0;34m\u001b[0m\u001b[0m\n\u001b[0;32m--> 178\u001b[0;31m             \u001b[0;32mreturn\u001b[0m \u001b[0mfunc\u001b[0m\u001b[0;34m(\u001b[0m\u001b[0;34m*\u001b[0m\u001b[0margs\u001b[0m\u001b[0;34m,\u001b[0m \u001b[0;34m**\u001b[0m\u001b[0mkwargs\u001b[0m\u001b[0;34m)\u001b[0m\u001b[0;34m\u001b[0m\u001b[0;34m\u001b[0m\u001b[0m\n\u001b[0m\u001b[1;32m    179\u001b[0m         \u001b[0;32mreturn\u001b[0m \u001b[0mwrapper\u001b[0m\u001b[0;34m\u001b[0m\u001b[0;34m\u001b[0m\u001b[0m\n\u001b[1;32m    180\u001b[0m     \u001b[0;32mreturn\u001b[0m \u001b[0m_deprecate_kwarg\u001b[0m\u001b[0;34m\u001b[0m\u001b[0;34m\u001b[0m\u001b[0m\n",
      "\u001b[0;32m/anaconda3/lib/python3.7/site-packages/pandas/core/generic.py\u001b[0m in \u001b[0;36mastype\u001b[0;34m(self, dtype, copy, errors, **kwargs)\u001b[0m\n\u001b[1;32m   4999\u001b[0m             \u001b[0;31m# else, only a single dtype is given\u001b[0m\u001b[0;34m\u001b[0m\u001b[0;34m\u001b[0m\u001b[0;34m\u001b[0m\u001b[0m\n\u001b[1;32m   5000\u001b[0m             new_data = self._data.astype(dtype=dtype, copy=copy, errors=errors,\n\u001b[0;32m-> 5001\u001b[0;31m                                          **kwargs)\n\u001b[0m\u001b[1;32m   5002\u001b[0m             \u001b[0;32mreturn\u001b[0m \u001b[0mself\u001b[0m\u001b[0;34m.\u001b[0m\u001b[0m_constructor\u001b[0m\u001b[0;34m(\u001b[0m\u001b[0mnew_data\u001b[0m\u001b[0;34m)\u001b[0m\u001b[0;34m.\u001b[0m\u001b[0m__finalize__\u001b[0m\u001b[0;34m(\u001b[0m\u001b[0mself\u001b[0m\u001b[0;34m)\u001b[0m\u001b[0;34m\u001b[0m\u001b[0;34m\u001b[0m\u001b[0m\n\u001b[1;32m   5003\u001b[0m \u001b[0;34m\u001b[0m\u001b[0m\n",
      "\u001b[0;32m/anaconda3/lib/python3.7/site-packages/pandas/core/internals.py\u001b[0m in \u001b[0;36mastype\u001b[0;34m(self, dtype, **kwargs)\u001b[0m\n\u001b[1;32m   3712\u001b[0m \u001b[0;34m\u001b[0m\u001b[0m\n\u001b[1;32m   3713\u001b[0m     \u001b[0;32mdef\u001b[0m \u001b[0mastype\u001b[0m\u001b[0;34m(\u001b[0m\u001b[0mself\u001b[0m\u001b[0;34m,\u001b[0m \u001b[0mdtype\u001b[0m\u001b[0;34m,\u001b[0m \u001b[0;34m**\u001b[0m\u001b[0mkwargs\u001b[0m\u001b[0;34m)\u001b[0m\u001b[0;34m:\u001b[0m\u001b[0;34m\u001b[0m\u001b[0;34m\u001b[0m\u001b[0m\n\u001b[0;32m-> 3714\u001b[0;31m         \u001b[0;32mreturn\u001b[0m \u001b[0mself\u001b[0m\u001b[0;34m.\u001b[0m\u001b[0mapply\u001b[0m\u001b[0;34m(\u001b[0m\u001b[0;34m'astype'\u001b[0m\u001b[0;34m,\u001b[0m \u001b[0mdtype\u001b[0m\u001b[0;34m=\u001b[0m\u001b[0mdtype\u001b[0m\u001b[0;34m,\u001b[0m \u001b[0;34m**\u001b[0m\u001b[0mkwargs\u001b[0m\u001b[0;34m)\u001b[0m\u001b[0;34m\u001b[0m\u001b[0;34m\u001b[0m\u001b[0m\n\u001b[0m\u001b[1;32m   3715\u001b[0m \u001b[0;34m\u001b[0m\u001b[0m\n\u001b[1;32m   3716\u001b[0m     \u001b[0;32mdef\u001b[0m \u001b[0mconvert\u001b[0m\u001b[0;34m(\u001b[0m\u001b[0mself\u001b[0m\u001b[0;34m,\u001b[0m \u001b[0;34m**\u001b[0m\u001b[0mkwargs\u001b[0m\u001b[0;34m)\u001b[0m\u001b[0;34m:\u001b[0m\u001b[0;34m\u001b[0m\u001b[0;34m\u001b[0m\u001b[0m\n",
      "\u001b[0;32m/anaconda3/lib/python3.7/site-packages/pandas/core/internals.py\u001b[0m in \u001b[0;36mapply\u001b[0;34m(self, f, axes, filter, do_integrity_check, consolidate, **kwargs)\u001b[0m\n\u001b[1;32m   3579\u001b[0m \u001b[0;34m\u001b[0m\u001b[0m\n\u001b[1;32m   3580\u001b[0m             \u001b[0mkwargs\u001b[0m\u001b[0;34m[\u001b[0m\u001b[0;34m'mgr'\u001b[0m\u001b[0;34m]\u001b[0m \u001b[0;34m=\u001b[0m \u001b[0mself\u001b[0m\u001b[0;34m\u001b[0m\u001b[0;34m\u001b[0m\u001b[0m\n\u001b[0;32m-> 3581\u001b[0;31m             \u001b[0mapplied\u001b[0m \u001b[0;34m=\u001b[0m \u001b[0mgetattr\u001b[0m\u001b[0;34m(\u001b[0m\u001b[0mb\u001b[0m\u001b[0;34m,\u001b[0m \u001b[0mf\u001b[0m\u001b[0;34m)\u001b[0m\u001b[0;34m(\u001b[0m\u001b[0;34m**\u001b[0m\u001b[0mkwargs\u001b[0m\u001b[0;34m)\u001b[0m\u001b[0;34m\u001b[0m\u001b[0;34m\u001b[0m\u001b[0m\n\u001b[0m\u001b[1;32m   3582\u001b[0m             \u001b[0mresult_blocks\u001b[0m \u001b[0;34m=\u001b[0m \u001b[0m_extend_blocks\u001b[0m\u001b[0;34m(\u001b[0m\u001b[0mapplied\u001b[0m\u001b[0;34m,\u001b[0m \u001b[0mresult_blocks\u001b[0m\u001b[0;34m)\u001b[0m\u001b[0;34m\u001b[0m\u001b[0;34m\u001b[0m\u001b[0m\n\u001b[1;32m   3583\u001b[0m \u001b[0;34m\u001b[0m\u001b[0m\n",
      "\u001b[0;32m/anaconda3/lib/python3.7/site-packages/pandas/core/internals.py\u001b[0m in \u001b[0;36mastype\u001b[0;34m(self, dtype, copy, errors, values, **kwargs)\u001b[0m\n\u001b[1;32m    573\u001b[0m     \u001b[0;32mdef\u001b[0m \u001b[0mastype\u001b[0m\u001b[0;34m(\u001b[0m\u001b[0mself\u001b[0m\u001b[0;34m,\u001b[0m \u001b[0mdtype\u001b[0m\u001b[0;34m,\u001b[0m \u001b[0mcopy\u001b[0m\u001b[0;34m=\u001b[0m\u001b[0;32mFalse\u001b[0m\u001b[0;34m,\u001b[0m \u001b[0merrors\u001b[0m\u001b[0;34m=\u001b[0m\u001b[0;34m'raise'\u001b[0m\u001b[0;34m,\u001b[0m \u001b[0mvalues\u001b[0m\u001b[0;34m=\u001b[0m\u001b[0;32mNone\u001b[0m\u001b[0;34m,\u001b[0m \u001b[0;34m**\u001b[0m\u001b[0mkwargs\u001b[0m\u001b[0;34m)\u001b[0m\u001b[0;34m:\u001b[0m\u001b[0;34m\u001b[0m\u001b[0;34m\u001b[0m\u001b[0m\n\u001b[1;32m    574\u001b[0m         return self._astype(dtype, copy=copy, errors=errors, values=values,\n\u001b[0;32m--> 575\u001b[0;31m                             **kwargs)\n\u001b[0m\u001b[1;32m    576\u001b[0m \u001b[0;34m\u001b[0m\u001b[0m\n\u001b[1;32m    577\u001b[0m     def _astype(self, dtype, copy=False, errors='raise', values=None,\n",
      "\u001b[0;32m/anaconda3/lib/python3.7/site-packages/pandas/core/internals.py\u001b[0m in \u001b[0;36m_astype\u001b[0;34m(self, dtype, copy, errors, values, klass, mgr, **kwargs)\u001b[0m\n\u001b[1;32m    662\u001b[0m \u001b[0;34m\u001b[0m\u001b[0m\n\u001b[1;32m    663\u001b[0m                 \u001b[0;31m# _astype_nansafe works fine with 1-d only\u001b[0m\u001b[0;34m\u001b[0m\u001b[0;34m\u001b[0m\u001b[0;34m\u001b[0m\u001b[0m\n\u001b[0;32m--> 664\u001b[0;31m                 \u001b[0mvalues\u001b[0m \u001b[0;34m=\u001b[0m \u001b[0mastype_nansafe\u001b[0m\u001b[0;34m(\u001b[0m\u001b[0mvalues\u001b[0m\u001b[0;34m.\u001b[0m\u001b[0mravel\u001b[0m\u001b[0;34m(\u001b[0m\u001b[0;34m)\u001b[0m\u001b[0;34m,\u001b[0m \u001b[0mdtype\u001b[0m\u001b[0;34m,\u001b[0m \u001b[0mcopy\u001b[0m\u001b[0;34m=\u001b[0m\u001b[0;32mTrue\u001b[0m\u001b[0;34m)\u001b[0m\u001b[0;34m\u001b[0m\u001b[0;34m\u001b[0m\u001b[0m\n\u001b[0m\u001b[1;32m    665\u001b[0m                 \u001b[0mvalues\u001b[0m \u001b[0;34m=\u001b[0m \u001b[0mvalues\u001b[0m\u001b[0;34m.\u001b[0m\u001b[0mreshape\u001b[0m\u001b[0;34m(\u001b[0m\u001b[0mself\u001b[0m\u001b[0;34m.\u001b[0m\u001b[0mshape\u001b[0m\u001b[0;34m)\u001b[0m\u001b[0;34m\u001b[0m\u001b[0;34m\u001b[0m\u001b[0m\n\u001b[1;32m    666\u001b[0m \u001b[0;34m\u001b[0m\u001b[0m\n",
      "\u001b[0;32m/anaconda3/lib/python3.7/site-packages/pandas/core/dtypes/cast.py\u001b[0m in \u001b[0;36mastype_nansafe\u001b[0;34m(arr, dtype, copy)\u001b[0m\n\u001b[1;32m    707\u001b[0m         \u001b[0;31m# work around NumPy brokenness, #1987\u001b[0m\u001b[0;34m\u001b[0m\u001b[0;34m\u001b[0m\u001b[0;34m\u001b[0m\u001b[0m\n\u001b[1;32m    708\u001b[0m         \u001b[0;32mif\u001b[0m \u001b[0mnp\u001b[0m\u001b[0;34m.\u001b[0m\u001b[0missubdtype\u001b[0m\u001b[0;34m(\u001b[0m\u001b[0mdtype\u001b[0m\u001b[0;34m.\u001b[0m\u001b[0mtype\u001b[0m\u001b[0;34m,\u001b[0m \u001b[0mnp\u001b[0m\u001b[0;34m.\u001b[0m\u001b[0minteger\u001b[0m\u001b[0;34m)\u001b[0m\u001b[0;34m:\u001b[0m\u001b[0;34m\u001b[0m\u001b[0;34m\u001b[0m\u001b[0m\n\u001b[0;32m--> 709\u001b[0;31m             \u001b[0;32mreturn\u001b[0m \u001b[0mlib\u001b[0m\u001b[0;34m.\u001b[0m\u001b[0mastype_intsafe\u001b[0m\u001b[0;34m(\u001b[0m\u001b[0marr\u001b[0m\u001b[0;34m.\u001b[0m\u001b[0mravel\u001b[0m\u001b[0;34m(\u001b[0m\u001b[0;34m)\u001b[0m\u001b[0;34m,\u001b[0m \u001b[0mdtype\u001b[0m\u001b[0;34m)\u001b[0m\u001b[0;34m.\u001b[0m\u001b[0mreshape\u001b[0m\u001b[0;34m(\u001b[0m\u001b[0marr\u001b[0m\u001b[0;34m.\u001b[0m\u001b[0mshape\u001b[0m\u001b[0;34m)\u001b[0m\u001b[0;34m\u001b[0m\u001b[0;34m\u001b[0m\u001b[0m\n\u001b[0m\u001b[1;32m    710\u001b[0m \u001b[0;34m\u001b[0m\u001b[0m\n\u001b[1;32m    711\u001b[0m         \u001b[0;31m# if we have a datetime/timedelta array of objects\u001b[0m\u001b[0;34m\u001b[0m\u001b[0;34m\u001b[0m\u001b[0;34m\u001b[0m\u001b[0m\n",
      "\u001b[0;32mpandas/_libs/lib.pyx\u001b[0m in \u001b[0;36mpandas._libs.lib.astype_intsafe\u001b[0;34m()\u001b[0m\n",
      "\u001b[0;32mpandas/_libs/src/util.pxd\u001b[0m in \u001b[0;36mutil.set_value_at_unsafe\u001b[0;34m()\u001b[0m\n",
      "\u001b[0;31mValueError\u001b[0m: invalid literal for int() with base 10: ' MD canidate\"\"'"
     ]
    }
   ],
   "source": [
    "ext_test_new_df[['HelpfulnessNumerator']] = ext_test_new_df[['HelpfulnessNumerator']].astype(int)"
   ]
  },
  {
   "cell_type": "code",
   "execution_count": 35,
   "metadata": {
    "scrolled": false
   },
   "outputs": [
    {
     "name": "stdout",
     "output_type": "stream",
     "text": [
      "glm prediction progress: |████████████████████████████████████████████████| 100%\n",
      "   HelpfulnessNumerator  partial_dependence\n",
      "0                   0.0            0.691535\n"
     ]
    },
    {
     "data": {
      "image/png": "[encoded data removed]",
      "text/plain": [
       "<Figure size 432x288 with 1 Axes>"
      ]
     },
     "metadata": {
      "needs_background": "light"
     },
     "output_type": "display_data"
    }
   ],
   "source": [
    "def par_dep(xs, frame, model, resolution=20, bins=None):\n",
    "    \n",
    "    \"\"\" Creates Pandas dataframe containing partial dependence for a single variable.\n",
    "    \n",
    "    Args:\n",
    "        xs: Variable for which to calculate partial dependence.\n",
    "        frame: Data for which to calculate partial dependence.\n",
    "        model: Model for which to calculate partial dependence.\n",
    "        resolution: The number of points across the domain of xs for which to calculate partial dependence.\n",
    "    \n",
    "    Returns:\n",
    "        Pandas dataframe containing partial dependence values.\n",
    "        \n",
    "    \"\"\"\n",
    "    \n",
    "    # init empty Pandas frame w/ correct col names\n",
    "    par_dep_frame = pd.DataFrame(columns=[xs, 'partial_dependence'])\n",
    "    \n",
    "    # cache original data \n",
    "    col_cache = h2o.deep_copy(frame[xs], xid='col_cache')\n",
    "  \n",
    "    # determine values at which to calculate partial dependency\n",
    "    if bins == None:\n",
    "        min_ = frame[xs].min()\n",
    "        max_ = frame[xs].max()\n",
    "        by = max_ - min_/resolution\n",
    "        bins = np.arange(min_, max_, by)\n",
    "    # calculate partial dependency  \n",
    "    # by setting column of interest to constant \n",
    "    for j in bins:\n",
    "        frame[xs] = j\n",
    "        par_dep_i = model.predict(frame)\n",
    "        par_dep_j = par_dep_i.mean()[0]\n",
    "        par_dep_frame = par_dep_frame.append({xs:j,\n",
    "                                              'partial_dependence': par_dep_j}, \n",
    "                                              ignore_index=True)\n",
    "        \n",
    "    # return input frame to original cached state    \n",
    "    frame[xs] = h2o.get_frame('col_cache')\n",
    "\n",
    "    return par_dep_frame\n",
    "\n",
    "# show some output\n",
    "par_dep_HelpfulnessNumerator = par_dep('HelpfulnessNumerator', ext_test_new, local_glm_plus)\n",
    "par_dep_HelpfulnessNumerator.plot.line(x='HelpfulnessNumerator', y='partial_dependence')\n",
    "print(par_dep_HelpfulnessNumerator)"
   ]
  },
  {
   "cell_type": "code",
   "execution_count": 268,
   "metadata": {},
   "outputs": [],
   "source": [
    "def get_quantile_dict(y, id_, frame):\n",
    "\n",
    "    \"\"\" Returns the percentiles of a column y as the indices for another column id_.\n",
    "    \n",
    "    Args:\n",
    "        y: Column in which to find percentiles.\n",
    "        id_: Id column that stores indices for percentiles of y.\n",
    "        frame: H2OFrame containing y and id_. \n",
    "    \n",
    "    Returns:\n",
    "        Dictionary of percentile values and index column values.\n",
    "    \n",
    "    \"\"\"\n",
    "    \n",
    "    quantiles_df = frame\n",
    "    quantiles_df.sort_values(y, inplace=True)\n",
    "    quantiles_df.reset_index(inplace=True)\n",
    "    \n",
    "    percentiles_dict = {}\n",
    "    percentiles_dict[0] = quantiles_df.loc[0, id_]\n",
    "    percentiles_dict[99] = quantiles_df.loc[quantiles_df.shape[0]-1, id_]\n",
    "    inc = quantiles_df.shape[0]//10\n",
    "    \n",
    "    for i in range(1, 10):\n",
    "        percentiles_dict[i * 10] = quantiles_df.loc[i * inc,  id_]\n",
    "\n",
    "    return percentiles_dict\n",
    "\n",
    "quantile_dict = get_quantile_dict('PositiveReview', 'Id', ext_test_new_dfs)"
   ]
  },
  {
   "cell_type": "code",
   "execution_count": null,
   "metadata": {},
   "outputs": [],
   "source": [
    "bins = list(par_dep_HelpfulnessNumerator['HelpfulnessNumerator'])\n",
    "for i in sorted(quantile_dict.keys()):\n",
    "    col_name = 'Percentile_' + str(i)\n",
    "    par_dep_HelpfulnessNumerator[col_name] = par_dep('HelpfulnessNumerator', \n",
    "                                            ext_test_new[ext_test_new['Id'] == int(quantile_dict[i])], \n",
    "                                            local_glm_plus, \n",
    "                                            bins=bins)['partial_dependence']\n",
    "par_dep_HelpfulnessNumerator"
   ]
  },
  {
   "cell_type": "code",
   "execution_count": null,
   "metadata": {},
   "outputs": [],
   "source": [
    "def plot_par_dep_ICE(xs, par_dep_frame):\n",
    "\n",
    "    \n",
    "    \"\"\" Plots ICE overlayed onto partial dependence for a single variable.\n",
    "    \n",
    "    Args: \n",
    "        xs: Name of variable for which to plot ICE and partial dependence.\n",
    "        par_dep_frame: Name of Pandas DataFrame containing ICE and partial\n",
    "                       dependence values.\n",
    "    \n",
    "    \"\"\"\n",
    "    \n",
    "    # initialize figure and axis\n",
    "    fig, ax = plt.subplots()\n",
    "    \n",
    "    # plot ICE curves\n",
    "    par_dep_frame.drop('partial_dependence', axis=1).plot(x=xs, \n",
    "                                                          colormap='gnuplot',\n",
    "                                                          ax=ax)\n",
    "\n",
    "    # overlay partial dependence, annotate plot\n",
    "    par_dep_frame.plot(title='Partial Dependence and ICE for ' + str(xs),\n",
    "                       x=xs, \n",
    "                       y='partial_dependence',\n",
    "                       style='r-', \n",
    "                       linewidth=3, \n",
    "                       ax=ax)\n",
    "\n",
    "    # add legend\n",
    "    _ = plt.legend(bbox_to_anchor=(1.05, 0),\n",
    "                   loc=3, \n",
    "                   borderaxespad=0.)\n"
   ]
  },
  {
   "cell_type": "code",
   "execution_count": null,
   "metadata": {},
   "outputs": [],
   "source": [
    "plot_par_dep_ICE('HelpfulnessNumerator', par_dep_HelpfulnessNumerator)"
   ]
  },
  {
   "cell_type": "markdown",
   "metadata": {},
   "source": [
    "### 2.1.3 Matrix"
   ]
  },
  {
   "cell_type": "code",
   "execution_count": 169,
   "metadata": {},
   "outputs": [
    {
     "name": "stdout",
     "output_type": "stream",
     "text": [
      "\n",
      "Local GLM Coefficients:\n",
      "C46:                      -4.260476800316235\n",
      "C88:                      -3.0978936685560257\n",
      "C22:                      -2.9655688628707715\n",
      "C2:                       -2.9340255339304253\n",
      "C13:                      -2.2511389050009414\n",
      "C89:                      -2.1017036576949235\n",
      "C49:                      -1.950408959025164\n",
      "C32:                      -1.8707779174677097\n",
      "C19:                      -1.8286575243501957\n",
      "C12:                      -1.7966530610909817\n",
      "C11:                      -1.700184340627838\n",
      "C1:                       -1.6847025812196756\n",
      "C82:                      -1.627829319697914\n",
      "C83:                      -1.5565874726680813\n",
      "C29:                      -1.5339705080817085\n",
      "C35:                      -1.3521103076035348\n",
      "C28:                      -1.3443180876656213\n",
      "C33:                      -1.3318451299853227\n",
      "C37:                      -1.2946954862022535\n",
      "C59:                      -1.2792300066640068\n",
      "C96:                      -1.2182719104519433\n",
      "C92:                      -1.165471586649979\n",
      "C84:                      -1.005671035730411\n",
      "summary_C46:              -0.9887284469360819\n",
      "C79:                      -0.9782955096469512\n",
      "summary_C82:              -0.9523415815267741\n",
      "C98:                      -0.9492888257629267\n",
      "C10:                      -0.9176553960302359\n",
      "summary_C13:              -0.8714439777213066\n",
      "summary_C32:              -0.8562798048184127\n",
      "C39:                      -0.8160507159425965\n",
      "summary_C22:              -0.7954929171648278\n",
      "summary_C89:              -0.7126160588624324\n",
      "summary_C88:              -0.695595397657876\n",
      "C70:                      -0.5553562173935883\n",
      "summary_C1:               -0.5277003028422728\n",
      "summary_C35:              -0.48055539202150127\n",
      "summary_C2:               -0.4737158277354006\n",
      "C51:                      -0.45211683502378247\n",
      "summary_C12:              -0.4302724267387639\n",
      "summary_C79:              -0.4169666979560626\n",
      "C42:                      -0.41291839373400246\n",
      "summary_C11:              -0.41155574041772464\n",
      "C43:                      -0.386907082123654\n",
      "C65:                      -0.3806205012965766\n",
      "summary_C19:              -0.35999785671738777\n",
      "summary_C83:              -0.3548401370208142\n",
      "C21:                      -0.3527301136133504\n",
      "summary_C37:              -0.3436098004953751\n",
      "C69:                      -0.3373144386260251\n",
      "summary_C24:              -0.3342359485956226\n",
      "C74:                      -0.3142282660176021\n",
      "summary_C70:              -0.2619624972507879\n",
      "summary_C33:              -0.24824568302943126\n",
      "summary_C28:              -0.23442678940618925\n",
      "summary_C21:              -0.2298489240865572\n",
      "summary_C98:              -0.22236756905686486\n",
      "summary_C43:              -0.20626863216172248\n",
      "summary_C51:              -0.20370951170583576\n",
      "summary_C30:              -0.19733604291766157\n",
      "summary_C29:              -0.19476336038744016\n",
      "summary_C94:              -0.19197604047352512\n",
      "C16:                      -0.190071600657303\n",
      "summary_C7:               -0.18793065470661266\n",
      "C64:                      -0.18378226858285274\n",
      "C23:                      -0.17920132660718144\n",
      "summary_C10:              -0.1747593713000508\n",
      "C62:                      -0.14960064930891093\n",
      "summary_C96:              -0.1262088251166088\n",
      "summary_C62:              -0.11882021274244128\n",
      "summary_C23:              -0.113738477620942\n",
      "summary_C64:              -0.10857539922748806\n",
      "summary_C26:              -0.10496585421717562\n",
      "HelpfulnessDenominator:   -0.09618759115440151\n",
      "summary_C65:              -0.07721104368088262\n",
      "C80:                      -0.068749859901538\n",
      "summary_C59:              -0.025014354827863457\n",
      "summary_C95:              -0.0044725572844783144\n",
      "Time:                     -9.29287922796519e-10\n",
      "summary_C52:              0.0006777140170471783\n",
      "summary_C92:              0.0026301902985524815\n",
      "summary_C90:              0.007689359173949778\n",
      "summary_C39:              0.01898331701020817\n",
      "summary_C67:              0.031597525640386565\n",
      "summary_C42:              0.03423420860835901\n",
      "summary_C18:              0.04289285007776524\n",
      "C31:                      0.057603228928205207\n",
      "summary_C100:             0.067836851219147\n",
      "C36:                      0.07251536115406401\n",
      "summary_C50:              0.09918046064282882\n",
      "summary_C55:              0.09981000049493377\n",
      "summary_C57:              0.10620669181908542\n",
      "C94:                      0.11118832787089393\n",
      "HelpfulnessNumerator:     0.11144737896421535\n",
      "summary_C99:              0.14138753337060903\n",
      "summary_C16:              0.14526679757282526\n",
      "summary_C4:               0.1472842210173801\n",
      "summary_C45:              0.1554676853877125\n",
      "summary_C14:              0.15983390753152377\n",
      "summary_C53:              0.16188535254723194\n",
      "summary_C87:              0.16395405434625668\n",
      "summary_C93:              0.17501915296542211\n",
      "summary_C76:              0.18814325584627323\n",
      "summary_C38:              0.20088921775571905\n",
      "summary_C20:              0.2074740074637712\n",
      "summary_C81:              0.20785312201511544\n",
      "C58:                      0.22922694289520087\n",
      "summary_C60:              0.2357577450591256\n",
      "C100:                     0.2423256466744756\n",
      "C57:                      0.24317913292989204\n",
      "summary_C68:              0.24845764581139276\n",
      "summary_C47:              0.2509865206657005\n",
      "summary_C72:              0.2556179672982405\n",
      "C55:                      0.2604349033184046\n",
      "C18:                      0.2746412129235267\n",
      "C40:                      0.279366055329885\n",
      "summary_C31:              0.28457266019730454\n",
      "C41:                      0.3010731584031337\n",
      "summary_C71:              0.3039883443507119\n",
      "summary_C97:              0.3132414420983138\n",
      "summary_C61:              0.36475746757792066\n",
      "summary_C27:              0.3744826859639896\n",
      "summary_C58:              0.41896198965770204\n",
      "C93:                      0.42660228369966235\n",
      "C47:                      0.42775708147513614\n",
      "summary_C5:               0.43120563544561036\n",
      "C61:                      0.4391613087180442\n",
      "summary_C63:              0.44420693233458103\n",
      "C95:                      0.457503320211817\n",
      "summary_C77:              0.4611604598647555\n",
      "C17:                      0.4798614569190229\n",
      "summary_C66:              0.4868626366316572\n",
      "summary_C44:              0.49000386626148146\n",
      "summary_C3:               0.5027436471904495\n",
      "summary_C91:              0.502789160477183\n",
      "summary_C9:               0.5190170728606894\n",
      "summary_C34:              0.5365885826170156\n",
      "C72:                      0.6262559904957392\n",
      "C68:                      0.6410241580471855\n",
      "summary_C85:              0.6634736764423782\n",
      "summary_C73:              0.6762833446205223\n",
      "C50:                      0.6883634886702364\n",
      "summary_C15:              0.7451730899455046\n",
      "C97:                      0.7595924646444551\n",
      "C67:                      0.8222930238723775\n",
      "summary_C75:              0.8314339463002572\n",
      "C76:                      0.8772134355337319\n",
      "summary_C8:               0.8989988663297133\n",
      "C75:                      1.0264725336702787\n",
      "summary_C48:              1.0668620492379313\n",
      "C73:                      1.0783312761806199\n",
      "C77:                      1.081812568814684\n",
      "C20:                      1.0922623903957713\n",
      "C91:                      1.1005412996405721\n",
      "C4:                       1.148790081314713\n",
      "C48:                      1.2090479968040324\n",
      "C8:                       1.2394207931319698\n",
      "C14:                      1.243136626195636\n",
      "C66:                      1.475550221437668\n",
      "C3:                       1.517876691884352\n",
      "C26:                      1.558594422159404\n",
      "C71:                      1.7156715218650311\n",
      "C52:                      1.8143928390621051\n",
      "Intercept:                1.8528081362730844\n",
      "C27:                      1.90209317291004\n",
      "C81:                      2.2632779022820535\n",
      "C85:                      2.335202756782522\n",
      "C60:                      2.4945105984050064\n",
      "C15:                      2.7063582022443304\n",
      "C44:                      2.9162540933663093\n",
      "C5:                       3.098883742791535\n",
      "C9:                       3.35139839893334\n",
      "C56:                      3.648156511135708\n"
     ]
    }
   ],
   "source": [
    "print('\\nLocal GLM Coefficients:')\n",
    "for c_name, c_val in sorted(local_glm_plus.coef().items(), key=operator.itemgetter(1)):\n",
    "    if c_val != 0.0:\n",
    "        print('%s %s' % (str(c_name + ':').ljust(25), c_val))"
   ]
  },
  {
   "cell_type": "code",
   "execution_count": 170,
   "metadata": {},
   "outputs": [
    {
     "data": {
      "text/plain": [
       "{'train': 0.432012638087628, 'valid': None}"
      ]
     },
     "execution_count": 170,
     "metadata": {},
     "output_type": "execute_result"
    }
   ],
   "source": [
    "local_glm_plus.r2(train=True, valid=True)"
   ]
  },
  {
   "cell_type": "code",
   "execution_count": 171,
   "metadata": {},
   "outputs": [
    {
     "data": {
      "text/plain": [
       "0.8761496423028042"
      ]
     },
     "execution_count": 171,
     "metadata": {},
     "output_type": "execute_result"
    }
   ],
   "source": [
    "local_glm_plus.auc()"
   ]
  },
  {
   "cell_type": "code",
   "execution_count": 172,
   "metadata": {},
   "outputs": [
    {
     "name": "stdout",
     "output_type": "stream",
     "text": [
      "Confusion Matrix (Act/Pred) for max f1 @ threshold = 0.46039732571229414: \n"
     ]
    },
    {
     "data": {
      "text/html": [
       "<div style=\"overflow:auto\"><table style=\"width:50%\"><tr><td><b></b></td>\n",
       "<td><b>0</b></td>\n",
       "<td><b>1</b></td>\n",
       "<td><b>Error</b></td>\n",
       "<td><b>Rate</b></td></tr>\n",
       "<tr><td>0</td>\n",
       "<td>10134.0</td>\n",
       "<td>5760.0</td>\n",
       "<td>0.3624</td>\n",
       "<td> (5760.0/15894.0)</td></tr>\n",
       "<tr><td>1</td>\n",
       "<td>2269.0</td>\n",
       "<td>26239.0</td>\n",
       "<td>0.0796</td>\n",
       "<td> (2269.0/28508.0)</td></tr>\n",
       "<tr><td>Total</td>\n",
       "<td>12403.0</td>\n",
       "<td>31999.0</td>\n",
       "<td>0.1808</td>\n",
       "<td> (8029.0/44402.0)</td></tr></table></div>"
      ],
      "text/plain": [
       "       0      1      Error    Rate\n",
       "-----  -----  -----  -------  ----------------\n",
       "0      10134  5760   0.3624   (5760.0/15894.0)\n",
       "1      2269   26239  0.0796   (2269.0/28508.0)\n",
       "Total  12403  31999  0.1808   (8029.0/44402.0)"
      ]
     },
     "metadata": {},
     "output_type": "display_data"
    },
    {
     "data": {
      "text/plain": []
     },
     "execution_count": 172,
     "metadata": {},
     "output_type": "execute_result"
    }
   ],
   "source": [
    "local_glm_plus.confusion_matrix()"
   ]
  },
  {
   "cell_type": "markdown",
   "metadata": {},
   "source": [
    "## 2.2 Logistic Regression"
   ]
  },
  {
   "cell_type": "markdown",
   "metadata": {},
   "source": [
    "### 2.2.1 Train & Fit Model"
   ]
  },
  {
   "cell_type": "code",
   "execution_count": 173,
   "metadata": {},
   "outputs": [],
   "source": [
    "predictors = ['ProductId', 'UserId', 'HelpfulnessNumerator', 'HelpfulnessDenominator', 'Time'] + summary_vecs.names + review_vecs.names \n",
    "response = 'PositiveReview'"
   ]
  },
  {
   "cell_type": "code",
   "execution_count": 174,
   "metadata": {},
   "outputs": [
    {
     "name": "stdout",
     "output_type": "stream",
     "text": [
      "glm Model Build progress: |███████████████████████████████████████████████| 100%\n"
     ]
    }
   ],
   "source": [
    "glm_logistic_plus_summary = H2OGeneralizedLinearEstimator(family = \"binomial\")\n",
    "glm_logistic_plus_summary.train(x=predictors, \n",
    "                               y= response, \n",
    "                               training_frame = ext_train_new, \n",
    "                               validation_frame = ext_test_new, \n",
    "                               model_id=\"glm_logistic\")"
   ]
  },
  {
   "cell_type": "markdown",
   "metadata": {},
   "source": [
    "### 2.2.2 Interpretability"
   ]
  },
  {
   "cell_type": "code",
   "execution_count": 175,
   "metadata": {},
   "outputs": [
    {
     "data": {
      "image/png": "[encoded data removed]",
      "text/plain": [
       "<Figure size 1008x720 with 1 Axes>"
      ]
     },
     "metadata": {
      "needs_background": "light"
     },
     "output_type": "display_data"
    }
   ],
   "source": [
    "glm_logistic_plus_summary.varimp_plot()"
   ]
  },
  {
   "cell_type": "code",
   "execution_count": 176,
   "metadata": {},
   "outputs": [
    {
     "name": "stdout",
     "output_type": "stream",
     "text": [
      "PartialDependencePlot progress: |█████████████████████████████████████████| 100%\n"
     ]
    },
    {
     "data": {
      "image/png": "[encoded data removed]",
      "text/plain": [
       "<Figure size 504x720 with 1 Axes>"
      ]
     },
     "metadata": {
      "needs_background": "light"
     },
     "output_type": "display_data"
    }
   ],
   "source": [
    "pdp_word_vecs = glm_logistic_plus_summary.partial_plot(data = ext_train_new, cols = [\"summary_C91\"])"
   ]
  },
  {
   "cell_type": "markdown",
   "metadata": {},
   "source": [
    "### 2.2.3 Matrix"
   ]
  },
  {
   "cell_type": "code",
   "execution_count": 177,
   "metadata": {},
   "outputs": [
    {
     "name": "stdout",
     "output_type": "stream",
     "text": [
      "With Summary and Review Embeddings AUC: 0.854\n"
     ]
    }
   ],
   "source": [
    "print(\"With Summary and Review Embeddings AUC: \" + str(round(glm_logistic_plus_summary.auc(valid = True), 3)))"
   ]
  },
  {
   "cell_type": "code",
   "execution_count": 178,
   "metadata": {},
   "outputs": [
    {
     "name": "stdout",
     "output_type": "stream",
     "text": [
      "Confusion Matrix (Act/Pred) for max f1 @ threshold = 0.45977694654643286: \n"
     ]
    },
    {
     "data": {
      "text/html": [
       "<div style=\"overflow:auto\"><table style=\"width:50%\"><tr><td><b></b></td>\n",
       "<td><b>0</b></td>\n",
       "<td><b>1</b></td>\n",
       "<td><b>Error</b></td>\n",
       "<td><b>Rate</b></td></tr>\n",
       "<tr><td>0</td>\n",
       "<td>2383.0</td>\n",
       "<td>1829.0</td>\n",
       "<td>0.4342</td>\n",
       "<td> (1829.0/4212.0)</td></tr>\n",
       "<tr><td>1</td>\n",
       "<td>499.0</td>\n",
       "<td>6441.0</td>\n",
       "<td>0.0719</td>\n",
       "<td> (499.0/6940.0)</td></tr>\n",
       "<tr><td>Total</td>\n",
       "<td>2882.0</td>\n",
       "<td>8270.0</td>\n",
       "<td>0.2088</td>\n",
       "<td> (2328.0/11152.0)</td></tr></table></div>"
      ],
      "text/plain": [
       "       0     1     Error    Rate\n",
       "-----  ----  ----  -------  ----------------\n",
       "0      2383  1829  0.4342   (1829.0/4212.0)\n",
       "1      499   6441  0.0719   (499.0/6940.0)\n",
       "Total  2882  8270  0.2088   (2328.0/11152.0)"
      ]
     },
     "metadata": {},
     "output_type": "display_data"
    },
    {
     "data": {
      "text/plain": []
     },
     "execution_count": 178,
     "metadata": {},
     "output_type": "execute_result"
    }
   ],
   "source": [
    "glm_logistic_plus_summary.confusion_matrix(valid = True)"
   ]
  },
  {
   "cell_type": "code",
   "execution_count": 179,
   "metadata": {},
   "outputs": [
    {
     "name": "stdout",
     "output_type": "stream",
     "text": [
      "Confusion Matrix (Act/Pred) for max f1 @ threshold = 0.45977694654643286: \n"
     ]
    },
    {
     "data": {
      "text/html": [
       "<div style=\"overflow:auto\"><table style=\"width:50%\"><tr><td><b></b></td>\n",
       "<td><b>0</b></td>\n",
       "<td><b>1</b></td>\n",
       "<td><b>Error</b></td>\n",
       "<td><b>Rate</b></td></tr>\n",
       "<tr><td>0</td>\n",
       "<td>2383.0</td>\n",
       "<td>1829.0</td>\n",
       "<td>0.4342</td>\n",
       "<td> (1829.0/4212.0)</td></tr>\n",
       "<tr><td>1</td>\n",
       "<td>499.0</td>\n",
       "<td>6441.0</td>\n",
       "<td>0.0719</td>\n",
       "<td> (499.0/6940.0)</td></tr>\n",
       "<tr><td>Total</td>\n",
       "<td>2882.0</td>\n",
       "<td>8270.0</td>\n",
       "<td>0.2088</td>\n",
       "<td> (2328.0/11152.0)</td></tr></table></div>"
      ],
      "text/plain": [
       "       0     1     Error    Rate\n",
       "-----  ----  ----  -------  ----------------\n",
       "0      2383  1829  0.4342   (1829.0/4212.0)\n",
       "1      499   6441  0.0719   (499.0/6940.0)\n",
       "Total  2882  8270  0.2088   (2328.0/11152.0)"
      ]
     },
     "metadata": {},
     "output_type": "display_data"
    },
    {
     "data": {
      "text/plain": []
     },
     "execution_count": 179,
     "metadata": {},
     "output_type": "execute_result"
    }
   ],
   "source": [
    "glm_logistic_plus_summary.confusion_matrix(valid = True)"
   ]
  },
  {
   "cell_type": "markdown",
   "metadata": {},
   "source": [
    "## 2.3 Decision Tree"
   ]
  },
  {
   "cell_type": "code",
   "execution_count": 180,
   "metadata": {},
   "outputs": [],
   "source": [
    "from h2o.estimators.random_forest import H2ORandomForestEstimator # for single tree\n",
    "# in-notebook display\n",
    "from IPython.display import Image\n",
    "from IPython.display import display\n",
    "%matplotlib inline"
   ]
  },
  {
   "cell_type": "markdown",
   "metadata": {},
   "source": [
    "### 2.3.1 Train & Fit Model"
   ]
  },
  {
   "cell_type": "code",
   "execution_count": 181,
   "metadata": {},
   "outputs": [],
   "source": [
    "predictors = ['ProductId', 'UserId', 'HelpfulnessNumerator', 'HelpfulnessDenominator', 'Time'] + review_vecs.names + summary_vecs.names\n",
    "response = 'PositiveReview'"
   ]
  },
  {
   "cell_type": "code",
   "execution_count": 182,
   "metadata": {},
   "outputs": [
    {
     "name": "stdout",
     "output_type": "stream",
     "text": [
      "gbm Model Build progress: |███████████████████████████████████████████████| 100%\n"
     ]
    }
   ],
   "source": [
    "# initialize single tree surrogate model\n",
    "model_id = 'dt_surrogate_mojo'\n",
    "\n",
    "# train single tree surrogate model\n",
    "surrogate = H2OGradientBoostingEstimator(ntrees=1,\n",
    "                                         sample_rate=1,\n",
    "                                         col_sample_rate=1,\n",
    "                                         max_depth=3,\n",
    "                                         seed=12345,\n",
    "                                         model_id=model_id)\n",
    "\n",
    "_ = surrogate.train(x=predictors, y=response, training_frame=ext_train_new)"
   ]
  },
  {
   "cell_type": "markdown",
   "metadata": {},
   "source": [
    "### 2.3.2 Interpretability"
   ]
  },
  {
   "cell_type": "markdown",
   "metadata": {},
   "source": [
    "### 2.3.3 Matrix"
   ]
  },
  {
   "cell_type": "code",
   "execution_count": 183,
   "metadata": {},
   "outputs": [
    {
     "name": "stdout",
     "output_type": "stream",
     "text": [
      "Model Details\n",
      "=============\n",
      "H2OGradientBoostingEstimator :  Gradient Boosting Machine\n",
      "Model Key:  dt_surrogate_mojo\n",
      "\n",
      "\n",
      "ModelMetricsBinomial: gbm\n",
      "** Reported on train data. **\n",
      "\n",
      "MSE: 0.2243490810149944\n",
      "RMSE: 0.47365502321309166\n",
      "LogLoss: 0.6403868260777803\n",
      "Mean Per-Class Error: 0.3404879658310178\n",
      "AUC: 0.7002122496010603\n",
      "pr_auc: 0.5469332774467338\n",
      "Gini: 0.40042449920212064\n",
      "Confusion Matrix (Act/Pred) for max f1 @ threshold = 0.6306127942269008: \n"
     ]
    },
    {
     "data": {
      "text/html": [
       "<div style=\"overflow:auto\"><table style=\"width:50%\"><tr><td><b></b></td>\n",
       "<td><b>0</b></td>\n",
       "<td><b>1</b></td>\n",
       "<td><b>Error</b></td>\n",
       "<td><b>Rate</b></td></tr>\n",
       "<tr><td>0</td>\n",
       "<td>3105.0</td>\n",
       "<td>12789.0</td>\n",
       "<td>0.8046</td>\n",
       "<td> (12789.0/15894.0)</td></tr>\n",
       "<tr><td>1</td>\n",
       "<td>1183.0</td>\n",
       "<td>27325.0</td>\n",
       "<td>0.0415</td>\n",
       "<td> (1183.0/28508.0)</td></tr>\n",
       "<tr><td>Total</td>\n",
       "<td>4288.0</td>\n",
       "<td>40114.0</td>\n",
       "<td>0.3147</td>\n",
       "<td> (13972.0/44402.0)</td></tr></table></div>"
      ],
      "text/plain": [
       "       0     1      Error    Rate\n",
       "-----  ----  -----  -------  -----------------\n",
       "0      3105  12789  0.8046   (12789.0/15894.0)\n",
       "1      1183  27325  0.0415   (1183.0/28508.0)\n",
       "Total  4288  40114  0.3147   (13972.0/44402.0)"
      ]
     },
     "metadata": {},
     "output_type": "display_data"
    },
    {
     "name": "stdout",
     "output_type": "stream",
     "text": [
      "Maximum Metrics: Maximum metrics at their respective thresholds\n",
      "\n"
     ]
    },
    {
     "data": {
      "text/html": [
       "<div style=\"overflow:auto\"><table style=\"width:50%\"><tr><td><b>metric</b></td>\n",
       "<td><b>threshold</b></td>\n",
       "<td><b>value</b></td>\n",
       "<td><b>idx</b></td></tr>\n",
       "<tr><td>max f1</td>\n",
       "<td>0.6306128</td>\n",
       "<td>0.7963918</td>\n",
       "<td>6.0</td></tr>\n",
       "<tr><td>max f2</td>\n",
       "<td>0.6046605</td>\n",
       "<td>0.8996806</td>\n",
       "<td>7.0</td></tr>\n",
       "<tr><td>max f0point5</td>\n",
       "<td>0.6482974</td>\n",
       "<td>0.7471640</td>\n",
       "<td>3.0</td></tr>\n",
       "<tr><td>max accuracy</td>\n",
       "<td>0.6306128</td>\n",
       "<td>0.6853295</td>\n",
       "<td>6.0</td></tr>\n",
       "<tr><td>max precision</td>\n",
       "<td>0.6620901</td>\n",
       "<td>0.8451599</td>\n",
       "<td>0.0</td></tr>\n",
       "<tr><td>max recall</td>\n",
       "<td>0.6046605</td>\n",
       "<td>1.0</td>\n",
       "<td>7.0</td></tr>\n",
       "<tr><td>max specificity</td>\n",
       "<td>0.6620901</td>\n",
       "<td>0.9065056</td>\n",
       "<td>0.0</td></tr>\n",
       "<tr><td>max absolute_mcc</td>\n",
       "<td>0.6482974</td>\n",
       "<td>0.3059479</td>\n",
       "<td>3.0</td></tr>\n",
       "<tr><td>max min_per_class_accuracy</td>\n",
       "<td>0.6482974</td>\n",
       "<td>0.6247369</td>\n",
       "<td>3.0</td></tr>\n",
       "<tr><td>max mean_per_class_accuracy</td>\n",
       "<td>0.6482974</td>\n",
       "<td>0.6595120</td>\n",
       "<td>3.0</td></tr></table></div>"
      ],
      "text/plain": [
       "metric                       threshold    value     idx\n",
       "---------------------------  -----------  --------  -----\n",
       "max f1                       0.630613     0.796392  6\n",
       "max f2                       0.604661     0.899681  7\n",
       "max f0point5                 0.648297     0.747164  3\n",
       "max accuracy                 0.630613     0.685329  6\n",
       "max precision                0.66209      0.84516   0\n",
       "max recall                   0.604661     1         7\n",
       "max specificity              0.66209      0.906506  0\n",
       "max absolute_mcc             0.648297     0.305948  3\n",
       "max min_per_class_accuracy   0.648297     0.624737  3\n",
       "max mean_per_class_accuracy  0.648297     0.659512  3"
      ]
     },
     "metadata": {},
     "output_type": "display_data"
    },
    {
     "name": "stdout",
     "output_type": "stream",
     "text": [
      "Gains/Lift Table: Avg response rate: 64.20 %, avg score: 64.19 %\n",
      "\n"
     ]
    },
    {
     "data": {
      "text/html": [
       "<div style=\"overflow:auto\"><table style=\"width:50%\"><tr><td><b></b></td>\n",
       "<td><b>group</b></td>\n",
       "<td><b>cumulative_data_fraction</b></td>\n",
       "<td><b>lower_threshold</b></td>\n",
       "<td><b>lift</b></td>\n",
       "<td><b>cumulative_lift</b></td>\n",
       "<td><b>response_rate</b></td>\n",
       "<td><b>score</b></td>\n",
       "<td><b>cumulative_response_rate</b></td>\n",
       "<td><b>cumulative_score</b></td>\n",
       "<td><b>capture_rate</b></td>\n",
       "<td><b>cumulative_capture_rate</b></td>\n",
       "<td><b>gain</b></td>\n",
       "<td><b>cumulative_gain</b></td></tr>\n",
       "<tr><td></td>\n",
       "<td>1</td>\n",
       "<td>0.2161389</td>\n",
       "<td>0.6620901</td>\n",
       "<td>1.3163600</td>\n",
       "<td>1.3163600</td>\n",
       "<td>0.8451599</td>\n",
       "<td>0.6620901</td>\n",
       "<td>0.8451599</td>\n",
       "<td>0.6620901</td>\n",
       "<td>0.2845166</td>\n",
       "<td>0.2845166</td>\n",
       "<td>31.6360036</td>\n",
       "<td>31.6360036</td></tr>\n",
       "<tr><td></td>\n",
       "<td>2</td>\n",
       "<td>0.4462186</td>\n",
       "<td>0.6528164</td>\n",
       "<td>1.1718048</td>\n",
       "<td>1.2418243</td>\n",
       "<td>0.7523493</td>\n",
       "<td>0.6529969</td>\n",
       "<td>0.7973048</td>\n",
       "<td>0.6574015</td>\n",
       "<td>0.2696085</td>\n",
       "<td>0.5541252</td>\n",
       "<td>17.1804815</td>\n",
       "<td>24.1824320</td></tr>\n",
       "<tr><td></td>\n",
       "<td>3</td>\n",
       "<td>0.5105401</td>\n",
       "<td>0.6482974</td>\n",
       "<td>1.0977953</td>\n",
       "<td>1.2236785</td>\n",
       "<td>0.7048319</td>\n",
       "<td>0.6482974</td>\n",
       "<td>0.7856544</td>\n",
       "<td>0.6562545</td>\n",
       "<td>0.0706118</td>\n",
       "<td>0.6247369</td>\n",
       "<td>9.7795267</td>\n",
       "<td>22.3678528</td></tr>\n",
       "<tr><td></td>\n",
       "<td>4</td>\n",
       "<td>0.7076933</td>\n",
       "<td>0.6337028</td>\n",
       "<td>0.8707494</td>\n",
       "<td>1.1253575</td>\n",
       "<td>0.5590587</td>\n",
       "<td>0.6337028</td>\n",
       "<td>0.7225281</td>\n",
       "<td>0.6499719</td>\n",
       "<td>0.1716711</td>\n",
       "<td>0.7964080</td>\n",
       "<td>-12.9250557</td>\n",
       "<td>12.5357514</td></tr>\n",
       "<tr><td></td>\n",
       "<td>5</td>\n",
       "<td>0.9034278</td>\n",
       "<td>0.6306128</td>\n",
       "<td>0.8281366</td>\n",
       "<td>1.0609624</td>\n",
       "<td>0.5316995</td>\n",
       "<td>0.6309350</td>\n",
       "<td>0.6811836</td>\n",
       "<td>0.6458474</td>\n",
       "<td>0.1620949</td>\n",
       "<td>0.9585029</td>\n",
       "<td>-17.1863358</td>\n",
       "<td>6.0962375</td></tr>\n",
       "<tr><td></td>\n",
       "<td>6</td>\n",
       "<td>1.0</td>\n",
       "<td>0.6046605</td>\n",
       "<td>0.4297004</td>\n",
       "<td>1.0</td>\n",
       "<td>0.2758862</td>\n",
       "<td>0.6046605</td>\n",
       "<td>0.6420432</td>\n",
       "<td>0.6418699</td>\n",
       "<td>0.0414971</td>\n",
       "<td>1.0</td>\n",
       "<td>-57.0299608</td>\n",
       "<td>0.0</td></tr></table></div>"
      ],
      "text/plain": [
       "    group    cumulative_data_fraction    lower_threshold    lift      cumulative_lift    response_rate    score     cumulative_response_rate    cumulative_score    capture_rate    cumulative_capture_rate    gain      cumulative_gain\n",
       "--  -------  --------------------------  -----------------  --------  -----------------  ---------------  --------  --------------------------  ------------------  --------------  -------------------------  --------  -----------------\n",
       "    1        0.216139                    0.66209            1.31636   1.31636            0.84516          0.66209   0.84516                     0.66209             0.284517        0.284517                   31.636    31.636\n",
       "    2        0.446219                    0.652816           1.1718    1.24182            0.752349         0.652997  0.797305                    0.657401            0.269609        0.554125                   17.1805   24.1824\n",
       "    3        0.51054                     0.648297           1.0978    1.22368            0.704832         0.648297  0.785654                    0.656254            0.0706118       0.624737                   9.77953   22.3679\n",
       "    4        0.707693                    0.633703           0.870749  1.12536            0.559059         0.633703  0.722528                    0.649972            0.171671        0.796408                   -12.9251  12.5358\n",
       "    5        0.903428                    0.630613           0.828137  1.06096            0.531699         0.630935  0.681184                    0.645847            0.162095        0.958503                   -17.1863  6.09624\n",
       "    6        1                           0.604661           0.4297    1                  0.275886         0.604661  0.642043                    0.64187             0.0414971       1                          -57.03    0"
      ]
     },
     "metadata": {},
     "output_type": "display_data"
    },
    {
     "name": "stdout",
     "output_type": "stream",
     "text": [
      "\n",
      "Scoring History: \n"
     ]
    },
    {
     "data": {
      "text/html": [
       "<div style=\"overflow:auto\"><table style=\"width:50%\"><tr><td><b></b></td>\n",
       "<td><b>timestamp</b></td>\n",
       "<td><b>duration</b></td>\n",
       "<td><b>number_of_trees</b></td>\n",
       "<td><b>training_rmse</b></td>\n",
       "<td><b>training_logloss</b></td>\n",
       "<td><b>training_auc</b></td>\n",
       "<td><b>training_pr_auc</b></td>\n",
       "<td><b>training_lift</b></td>\n",
       "<td><b>training_classification_error</b></td></tr>\n",
       "<tr><td></td>\n",
       "<td>2019-04-22 05:00:54</td>\n",
       "<td> 0.010 sec</td>\n",
       "<td>0.0</td>\n",
       "<td>0.4793994</td>\n",
       "<td>0.6522336</td>\n",
       "<td>0.5</td>\n",
       "<td>0.0</td>\n",
       "<td>1.0</td>\n",
       "<td>0.3579568</td></tr>\n",
       "<tr><td></td>\n",
       "<td>2019-04-22 05:00:55</td>\n",
       "<td> 0.400 sec</td>\n",
       "<td>1.0</td>\n",
       "<td>0.4736550</td>\n",
       "<td>0.6403868</td>\n",
       "<td>0.7002122</td>\n",
       "<td>0.5469333</td>\n",
       "<td>1.3163600</td>\n",
       "<td>0.3146705</td></tr></table></div>"
      ],
      "text/plain": [
       "    timestamp            duration    number_of_trees    training_rmse    training_logloss    training_auc    training_pr_auc    training_lift    training_classification_error\n",
       "--  -------------------  ----------  -----------------  ---------------  ------------------  --------------  -----------------  ---------------  -------------------------------\n",
       "    2019-04-22 05:00:54  0.010 sec   0                  0.479399         0.652234            0.5             0                  1                0.357957\n",
       "    2019-04-22 05:00:55  0.400 sec   1                  0.473655         0.640387            0.700212        0.546933           1.31636          0.314671"
      ]
     },
     "metadata": {},
     "output_type": "display_data"
    },
    {
     "name": "stdout",
     "output_type": "stream",
     "text": [
      "Variable Importances: \n"
     ]
    },
    {
     "data": {
      "text/html": [
       "<div style=\"overflow:auto\"><table style=\"width:50%\"><tr><td><b>variable</b></td>\n",
       "<td><b>relative_importance</b></td>\n",
       "<td><b>scaled_importance</b></td>\n",
       "<td><b>percentage</b></td></tr>\n",
       "<tr><td>C22</td>\n",
       "<td>458.4889832</td>\n",
       "<td>1.0</td>\n",
       "<td>0.3602207</td></tr>\n",
       "<tr><td>summary_C89</td>\n",
       "<td>372.2006226</td>\n",
       "<td>0.8117984</td>\n",
       "<td>0.2924266</td></tr>\n",
       "<tr><td>summary_C48</td>\n",
       "<td>253.5211792</td>\n",
       "<td>0.5529493</td>\n",
       "<td>0.1991838</td></tr>\n",
       "<tr><td>summary_C13</td>\n",
       "<td>145.2473450</td>\n",
       "<td>0.3167957</td>\n",
       "<td>0.1141164</td></tr>\n",
       "<tr><td>summary_C97</td>\n",
       "<td>43.3419533</td>\n",
       "<td>0.0945322</td>\n",
       "<td>0.0340524</td></tr>\n",
       "<tr><td>---</td>\n",
       "<td>---</td>\n",
       "<td>---</td>\n",
       "<td>---</td></tr>\n",
       "<tr><td>summary_C95</td>\n",
       "<td>0.0</td>\n",
       "<td>0.0</td>\n",
       "<td>0.0</td></tr>\n",
       "<tr><td>summary_C96</td>\n",
       "<td>0.0</td>\n",
       "<td>0.0</td>\n",
       "<td>0.0</td></tr>\n",
       "<tr><td>summary_C98</td>\n",
       "<td>0.0</td>\n",
       "<td>0.0</td>\n",
       "<td>0.0</td></tr>\n",
       "<tr><td>summary_C99</td>\n",
       "<td>0.0</td>\n",
       "<td>0.0</td>\n",
       "<td>0.0</td></tr>\n",
       "<tr><td>summary_C100</td>\n",
       "<td>0.0</td>\n",
       "<td>0.0</td>\n",
       "<td>0.0</td></tr></table></div>"
      ],
      "text/plain": [
       "variable      relative_importance    scaled_importance    percentage\n",
       "------------  ---------------------  -------------------  -------------------\n",
       "C22           458.4889831542969      1.0                  0.36022073632793544\n",
       "summary_C89   372.20062255859375     0.8117983991631393   0.2924266170963853\n",
       "summary_C48   253.52117919921875     0.5529493368740344   0.19918381728080825\n",
       "summary_C13   145.24734497070312     0.31679571441703     0.11411638551283691\n",
       "summary_C97   43.34195327758789      0.09453215861241725  0.03405244378203412\n",
       "---           ---                    ---                  ---\n",
       "summary_C95   0.0                    0.0                  0.0\n",
       "summary_C96   0.0                    0.0                  0.0\n",
       "summary_C98   0.0                    0.0                  0.0\n",
       "summary_C99   0.0                    0.0                  0.0\n",
       "summary_C100  0.0                    0.0                  0.0"
      ]
     },
     "metadata": {},
     "output_type": "display_data"
    },
    {
     "name": "stdout",
     "output_type": "stream",
     "text": [
      "\n",
      "See the whole table with table.as_data_frame()\n",
      "\n"
     ]
    }
   ],
   "source": [
    "print(surrogate)"
   ]
  },
  {
   "cell_type": "markdown",
   "metadata": {},
   "source": [
    "## 2.4 Gradient Boosting"
   ]
  },
  {
   "cell_type": "markdown",
   "metadata": {},
   "source": [
    "### 2.4.1 Train & Fit Model"
   ]
  },
  {
   "cell_type": "code",
   "execution_count": 184,
   "metadata": {},
   "outputs": [
    {
     "name": "stdout",
     "output_type": "stream",
     "text": [
      "gbm Model Build progress: |███████████████████████████████████████████████| 100%\n"
     ]
    }
   ],
   "source": [
    "gbm = H2OGradientBoostingEstimator(stopping_metric = \"AUC\",\n",
    "                                           stopping_tolerance = 0.001,\n",
    "                                           stopping_rounds = 5, \n",
    "                                           score_tree_interval = 10, \n",
    "                                           model_id = 'gbm.hex')\n",
    "gbm.train(x = predictors, \n",
    "                   y = response,\n",
    "                  training_frame = ext_train_new,\n",
    "                  validation_frame = ext_test_new)"
   ]
  },
  {
   "cell_type": "markdown",
   "metadata": {},
   "source": [
    "### 2.4.2 Interpretability"
   ]
  },
  {
   "cell_type": "code",
   "execution_count": 185,
   "metadata": {},
   "outputs": [
    {
     "data": {
      "image/png": "[encoded data removed]",
      "text/plain": [
       "<Figure size 1008x720 with 1 Axes>"
      ]
     },
     "metadata": {
      "needs_background": "light"
     },
     "output_type": "display_data"
    }
   ],
   "source": [
    "gbm.varimp_plot()"
   ]
  },
  {
   "cell_type": "code",
   "execution_count": 187,
   "metadata": {
    "scrolled": false
   },
   "outputs": [
    {
     "name": "stdout",
     "output_type": "stream",
     "text": [
      "PartialDependencePlot progress: |█████████████████████████████████████████| 100%\n"
     ]
    },
    {
     "data": {
      "image/png": "[encoded data removed]",
      "text/plain": [
       "<Figure size 504x720 with 1 Axes>"
      ]
     },
     "metadata": {
      "needs_background": "light"
     },
     "output_type": "display_data"
    }
   ],
   "source": [
    "pdp_helpfulness = gbm.partial_plot(ext_train_new, cols = ['C22'])"
   ]
  },
  {
   "cell_type": "code",
   "execution_count": 198,
   "metadata": {},
   "outputs": [
    {
     "name": "stdout",
     "output_type": "stream",
     "text": [
      "glm prediction progress: |████████████████████████████████████████████████| 100%\n",
      "glm prediction progress: |████████████████████████████████████████████████| 100%\n",
      "glm prediction progress: |████████████████████████████████████████████████| 100%\n",
      "glm prediction progress: |████████████████████████████████████████████████| 100%\n",
      "glm prediction progress: |████████████████████████████████████████████████| 100%\n",
      "glm prediction progress: |████████████████████████████████████████████████| 100%\n",
      "glm prediction progress: |████████████████████████████████████████████████| 100%\n",
      "glm prediction progress: |████████████████████████████████████████████████| 100%\n",
      "glm prediction progress: |████████████████████████████████████████████████| 100%\n",
      "glm prediction progress: |████████████████████████████████████████████████| 100%\n",
      "glm prediction progress: |████████████████████████████████████████████████| 100%\n",
      "glm prediction progress: |████████████████████████████████████████████████| 100%\n",
      "glm prediction progress: |████████████████████████████████████████████████| 100%\n",
      "glm prediction progress: |████████████████████████████████████████████████| 100%\n",
      "glm prediction progress: |████████████████████████████████████████████████| 100%\n",
      "glm prediction progress: |████████████████████████████████████████████████| 100%\n",
      "glm prediction progress: |████████████████████████████████████████████████| 100%\n",
      "glm prediction progress: |████████████████████████████████████████████████| 100%\n",
      "glm prediction progress: |████████████████████████████████████████████████| 100%\n",
      "glm prediction progress: |████████████████████████████████████████████████| 100%\n"
     ]
    }
   ],
   "source": [
    "def par_dep(xs, frame, model, resolution=20, bins=None):\n",
    "    \n",
    "    \"\"\" Creates Pandas dataframe containing partial dependence for a single variable.\n",
    "    \n",
    "    Args:\n",
    "        xs: Variable for which to calculate partial dependence.\n",
    "        frame: Data for which to calculate partial dependence.\n",
    "        model: Model for which to calculate partial dependence.\n",
    "        resolution: The number of points across the domain of xs for which to calculate partial dependence.\n",
    "    \n",
    "    Returns:\n",
    "        Pandas dataframe containing partial dependence values.\n",
    "        \n",
    "    \"\"\"\n",
    "    \n",
    "    # init empty Pandas frame w/ correct col names\n",
    "    par_dep_frame = pd.DataFrame(columns=[xs, 'partial_dependence'])\n",
    "    \n",
    "    # cache original data \n",
    "    col_cache = h2o.deep_copy(frame[xs], xid='col_cache')\n",
    "  \n",
    "    # determine values at which to calculate partial dependency\n",
    "    if bins == None:\n",
    "        min_ = frame[xs].min()\n",
    "        max_ = frame[xs].max()\n",
    "        by = (max_ - min_)/resolution\n",
    "        bins = np.arange(min_, max_, by)\n",
    "        \n",
    "    # calculate partial dependency  \n",
    "    # by setting column of interest to constant \n",
    "    for j in bins:\n",
    "        frame[xs] = j\n",
    "        par_dep_i = model.predict(frame)\n",
    "        par_dep_j = par_dep_i.mean()[0]\n",
    "        par_dep_frame = par_dep_frame.append({xs:j,\n",
    "                                              'partial_dependence': par_dep_j}, \n",
    "                                              ignore_index=True)\n",
    "        \n",
    "    # return input frame to original cached state    \n",
    "    frame[xs] = h2o.get_frame('col_cache')\n",
    "\n",
    "    return par_dep_frame\n",
    "\n",
    "# show some output\n",
    "par_dep_HelpfulnessNumerator = par_dep('HelpfulnessNumerator', ext_test_new, local_glm_plus)\n",
    "par_dep_HelpfulnessNumerator.plot.line(x='HelpfulnessNumerator', y='partial_dependence')\n",
    "print(par_dep_HelpfulnessNumerator)"
   ]
  },
  {
   "cell_type": "code",
   "execution_count": 202,
   "metadata": {},
   "outputs": [
    {
     "ename": "H2OResponseError",
     "evalue": "Server error java.lang.IllegalArgumentException:\n  Error: Row slicing requires a number-list as the last argument, but found a class water.rapids.ast.params.AstStr\n  Request: POST /99/Rapids\n    data: {'ast': \"(tmp= py_578_sid_803f (rows (cols_py py_574_sid_803f 'Id') 'PositiveReview'))\", 'session_id': '_sid_803f'}\n",
     "output_type": "error",
     "traceback": [
      "\u001b[0;31m---------------------------------------------------------------------------\u001b[0m",
      "\u001b[0;31mH2OResponseError\u001b[0m                          Traceback (most recent call last)",
      "\u001b[0;32m<ipython-input-202-4dc329290830>\u001b[0m in \u001b[0;36m<module>\u001b[0;34m\u001b[0m\n\u001b[0;32m----> 1\u001b[0;31m \u001b[0mquantile_dict\u001b[0m \u001b[0;34m=\u001b[0m \u001b[0mget_quantile_dict\u001b[0m\u001b[0;34m(\u001b[0m\u001b[0;34m'PositiveReview'\u001b[0m\u001b[0;34m,\u001b[0m \u001b[0;34m'Id'\u001b[0m\u001b[0;34m,\u001b[0m \u001b[0mext_test_new\u001b[0m\u001b[0;34m)\u001b[0m\u001b[0;34m\u001b[0m\u001b[0;34m\u001b[0m\u001b[0m\n\u001b[0m",
      "\u001b[0;32m<ipython-input-197-804bd7163494>\u001b[0m in \u001b[0;36mget_quantile_dict\u001b[0;34m(y, id_, frame)\u001b[0m\n\u001b[1;32m     13\u001b[0m     \"\"\"\n\u001b[1;32m     14\u001b[0m     \u001b[0mframe1\u001b[0m \u001b[0;34m=\u001b[0m \u001b[0mframe\u001b[0m\u001b[0;34m[\u001b[0m\u001b[0my\u001b[0m\u001b[0;34m,\u001b[0m \u001b[0mid_\u001b[0m\u001b[0;34m]\u001b[0m\u001b[0;34m\u001b[0m\u001b[0;34m\u001b[0m\u001b[0m\n\u001b[0;32m---> 15\u001b[0;31m     \u001b[0mquantiles_df\u001b[0m \u001b[0;34m=\u001b[0m \u001b[0mframe1\u001b[0m\u001b[0;34m.\u001b[0m\u001b[0mas_data_frame\u001b[0m\u001b[0;34m(\u001b[0m\u001b[0;34m)\u001b[0m\u001b[0;34m\u001b[0m\u001b[0;34m\u001b[0m\u001b[0m\n\u001b[0m\u001b[1;32m     16\u001b[0m     \u001b[0mquantiles_df\u001b[0m\u001b[0;34m.\u001b[0m\u001b[0msort_values\u001b[0m\u001b[0;34m(\u001b[0m\u001b[0my\u001b[0m\u001b[0;34m,\u001b[0m \u001b[0minplace\u001b[0m\u001b[0;34m=\u001b[0m\u001b[0;32mTrue\u001b[0m\u001b[0;34m)\u001b[0m\u001b[0;34m\u001b[0m\u001b[0;34m\u001b[0m\u001b[0m\n\u001b[1;32m     17\u001b[0m     \u001b[0mquantiles_df\u001b[0m\u001b[0;34m.\u001b[0m\u001b[0mreset_index\u001b[0m\u001b[0;34m(\u001b[0m\u001b[0minplace\u001b[0m\u001b[0;34m=\u001b[0m\u001b[0;32mTrue\u001b[0m\u001b[0;34m)\u001b[0m\u001b[0;34m\u001b[0m\u001b[0;34m\u001b[0m\u001b[0m\n",
      "\u001b[0;32m/anaconda3/lib/python3.7/site-packages/h2o/frame.py\u001b[0m in \u001b[0;36mas_data_frame\u001b[0;34m(self, use_pandas, header)\u001b[0m\n\u001b[1;32m   1299\u001b[0m         \u001b[0;32mif\u001b[0m \u001b[0mcan_use_pandas\u001b[0m\u001b[0;34m(\u001b[0m\u001b[0;34m)\u001b[0m \u001b[0;32mand\u001b[0m \u001b[0muse_pandas\u001b[0m\u001b[0;34m:\u001b[0m\u001b[0;34m\u001b[0m\u001b[0;34m\u001b[0m\u001b[0m\n\u001b[1;32m   1300\u001b[0m             \u001b[0;32mimport\u001b[0m \u001b[0mpandas\u001b[0m\u001b[0;34m\u001b[0m\u001b[0;34m\u001b[0m\u001b[0m\n\u001b[0;32m-> 1301\u001b[0;31m             \u001b[0;32mreturn\u001b[0m \u001b[0mpandas\u001b[0m\u001b[0;34m.\u001b[0m\u001b[0mread_csv\u001b[0m\u001b[0;34m(\u001b[0m\u001b[0mStringIO\u001b[0m\u001b[0;34m(\u001b[0m\u001b[0mself\u001b[0m\u001b[0;34m.\u001b[0m\u001b[0mget_frame_data\u001b[0m\u001b[0;34m(\u001b[0m\u001b[0;34m)\u001b[0m\u001b[0;34m)\u001b[0m\u001b[0;34m,\u001b[0m \u001b[0mlow_memory\u001b[0m\u001b[0;34m=\u001b[0m\u001b[0;32mFalse\u001b[0m\u001b[0;34m,\u001b[0m \u001b[0mskip_blank_lines\u001b[0m\u001b[0;34m=\u001b[0m\u001b[0;32mFalse\u001b[0m\u001b[0;34m)\u001b[0m\u001b[0;34m\u001b[0m\u001b[0;34m\u001b[0m\u001b[0m\n\u001b[0m\u001b[1;32m   1302\u001b[0m         \u001b[0mframe\u001b[0m \u001b[0;34m=\u001b[0m \u001b[0;34m[\u001b[0m\u001b[0mrow\u001b[0m \u001b[0;32mfor\u001b[0m \u001b[0mrow\u001b[0m \u001b[0;32min\u001b[0m \u001b[0mcsv\u001b[0m\u001b[0;34m.\u001b[0m\u001b[0mreader\u001b[0m\u001b[0;34m(\u001b[0m\u001b[0mStringIO\u001b[0m\u001b[0;34m(\u001b[0m\u001b[0mself\u001b[0m\u001b[0;34m.\u001b[0m\u001b[0mget_frame_data\u001b[0m\u001b[0;34m(\u001b[0m\u001b[0;34m)\u001b[0m\u001b[0;34m)\u001b[0m\u001b[0;34m)\u001b[0m\u001b[0;34m]\u001b[0m\u001b[0;34m\u001b[0m\u001b[0;34m\u001b[0m\u001b[0m\n\u001b[1;32m   1303\u001b[0m         \u001b[0;32mif\u001b[0m \u001b[0;32mnot\u001b[0m \u001b[0mheader\u001b[0m\u001b[0;34m:\u001b[0m\u001b[0;34m\u001b[0m\u001b[0;34m\u001b[0m\u001b[0m\n",
      "\u001b[0;32m/anaconda3/lib/python3.7/site-packages/h2o/frame.py\u001b[0m in \u001b[0;36mget_frame_data\u001b[0;34m(self)\u001b[0m\n\u001b[1;32m   1313\u001b[0m         \u001b[0mindividual\u001b[0m \u001b[0mvalues\u001b[0m \u001b[0mseparated\u001b[0m \u001b[0mby\u001b[0m \u001b[0mcommas\u001b[0m\u001b[0;34m.\u001b[0m\u001b[0;34m\u001b[0m\u001b[0;34m\u001b[0m\u001b[0m\n\u001b[1;32m   1314\u001b[0m         \"\"\"\n\u001b[0;32m-> 1315\u001b[0;31m         \u001b[0;32mreturn\u001b[0m \u001b[0mh2o\u001b[0m\u001b[0;34m.\u001b[0m\u001b[0mapi\u001b[0m\u001b[0;34m(\u001b[0m\u001b[0;34m\"GET /3/DownloadDataset\"\u001b[0m\u001b[0;34m,\u001b[0m \u001b[0mdata\u001b[0m\u001b[0;34m=\u001b[0m\u001b[0;34m{\u001b[0m\u001b[0;34m\"frame_id\"\u001b[0m\u001b[0;34m:\u001b[0m \u001b[0mself\u001b[0m\u001b[0;34m.\u001b[0m\u001b[0mframe_id\u001b[0m\u001b[0;34m,\u001b[0m \u001b[0;34m\"hex_string\"\u001b[0m\u001b[0;34m:\u001b[0m \u001b[0;32mFalse\u001b[0m\u001b[0;34m}\u001b[0m\u001b[0;34m)\u001b[0m\u001b[0;34m\u001b[0m\u001b[0;34m\u001b[0m\u001b[0m\n\u001b[0m\u001b[1;32m   1316\u001b[0m \u001b[0;34m\u001b[0m\u001b[0m\n\u001b[1;32m   1317\u001b[0m \u001b[0;34m\u001b[0m\u001b[0m\n",
      "\u001b[0;32m/anaconda3/lib/python3.7/site-packages/h2o/frame.py\u001b[0m in \u001b[0;36mframe_id\u001b[0;34m(self)\u001b[0m\n\u001b[1;32m    274\u001b[0m     \u001b[0;32mdef\u001b[0m \u001b[0mframe_id\u001b[0m\u001b[0;34m(\u001b[0m\u001b[0mself\u001b[0m\u001b[0;34m)\u001b[0m\u001b[0;34m:\u001b[0m\u001b[0;34m\u001b[0m\u001b[0;34m\u001b[0m\u001b[0m\n\u001b[1;32m    275\u001b[0m         \u001b[0;34m\"\"\"Internal id of the frame (str).\"\"\"\u001b[0m\u001b[0;34m\u001b[0m\u001b[0;34m\u001b[0m\u001b[0m\n\u001b[0;32m--> 276\u001b[0;31m         \u001b[0;32mreturn\u001b[0m \u001b[0mself\u001b[0m\u001b[0;34m.\u001b[0m\u001b[0m_frame\u001b[0m\u001b[0;34m(\u001b[0m\u001b[0;34m)\u001b[0m\u001b[0;34m.\u001b[0m\u001b[0m_ex\u001b[0m\u001b[0;34m.\u001b[0m\u001b[0m_cache\u001b[0m\u001b[0;34m.\u001b[0m\u001b[0m_id\u001b[0m\u001b[0;34m\u001b[0m\u001b[0;34m\u001b[0m\u001b[0m\n\u001b[0m\u001b[1;32m    277\u001b[0m \u001b[0;34m\u001b[0m\u001b[0m\n\u001b[1;32m    278\u001b[0m     \u001b[0;34m@\u001b[0m\u001b[0mframe_id\u001b[0m\u001b[0;34m.\u001b[0m\u001b[0msetter\u001b[0m\u001b[0;34m\u001b[0m\u001b[0;34m\u001b[0m\u001b[0m\n",
      "\u001b[0;32m/anaconda3/lib/python3.7/site-packages/h2o/frame.py\u001b[0m in \u001b[0;36m_frame\u001b[0;34m(self, rows, rows_offset, cols, cols_offset, fill_cache)\u001b[0m\n\u001b[1;32m    506\u001b[0m \u001b[0;34m\u001b[0m\u001b[0m\n\u001b[1;32m    507\u001b[0m     \u001b[0;32mdef\u001b[0m \u001b[0m_frame\u001b[0m\u001b[0;34m(\u001b[0m\u001b[0mself\u001b[0m\u001b[0;34m,\u001b[0m \u001b[0mrows\u001b[0m\u001b[0;34m=\u001b[0m\u001b[0;36m10\u001b[0m\u001b[0;34m,\u001b[0m \u001b[0mrows_offset\u001b[0m\u001b[0;34m=\u001b[0m\u001b[0;36m0\u001b[0m\u001b[0;34m,\u001b[0m \u001b[0mcols\u001b[0m\u001b[0;34m=\u001b[0m\u001b[0;34m-\u001b[0m\u001b[0;36m1\u001b[0m\u001b[0;34m,\u001b[0m \u001b[0mcols_offset\u001b[0m\u001b[0;34m=\u001b[0m\u001b[0;36m0\u001b[0m\u001b[0;34m,\u001b[0m \u001b[0mfill_cache\u001b[0m\u001b[0;34m=\u001b[0m\u001b[0;32mFalse\u001b[0m\u001b[0;34m)\u001b[0m\u001b[0;34m:\u001b[0m\u001b[0;34m\u001b[0m\u001b[0;34m\u001b[0m\u001b[0m\n\u001b[0;32m--> 508\u001b[0;31m         \u001b[0mself\u001b[0m\u001b[0;34m.\u001b[0m\u001b[0m_ex\u001b[0m\u001b[0;34m.\u001b[0m\u001b[0m_eager_frame\u001b[0m\u001b[0;34m(\u001b[0m\u001b[0;34m)\u001b[0m\u001b[0;34m\u001b[0m\u001b[0;34m\u001b[0m\u001b[0m\n\u001b[0m\u001b[1;32m    509\u001b[0m         \u001b[0;32mif\u001b[0m \u001b[0mfill_cache\u001b[0m\u001b[0;34m:\u001b[0m\u001b[0;34m\u001b[0m\u001b[0;34m\u001b[0m\u001b[0m\n\u001b[1;32m    510\u001b[0m             \u001b[0mself\u001b[0m\u001b[0;34m.\u001b[0m\u001b[0m_ex\u001b[0m\u001b[0;34m.\u001b[0m\u001b[0m_cache\u001b[0m\u001b[0;34m.\u001b[0m\u001b[0mfill\u001b[0m\u001b[0;34m(\u001b[0m\u001b[0mrows\u001b[0m\u001b[0;34m=\u001b[0m\u001b[0mrows\u001b[0m\u001b[0;34m,\u001b[0m \u001b[0mrows_offset\u001b[0m\u001b[0;34m=\u001b[0m\u001b[0mrows_offset\u001b[0m\u001b[0;34m,\u001b[0m \u001b[0mcols\u001b[0m\u001b[0;34m=\u001b[0m\u001b[0mcols\u001b[0m\u001b[0;34m,\u001b[0m \u001b[0mcols_offset\u001b[0m\u001b[0;34m=\u001b[0m\u001b[0mcols_offset\u001b[0m\u001b[0;34m)\u001b[0m\u001b[0;34m\u001b[0m\u001b[0;34m\u001b[0m\u001b[0m\n",
      "\u001b[0;32m/anaconda3/lib/python3.7/site-packages/h2o/expr.py\u001b[0m in \u001b[0;36m_eager_frame\u001b[0;34m(self)\u001b[0m\n\u001b[1;32m     93\u001b[0m         \u001b[0;32mif\u001b[0m \u001b[0;32mnot\u001b[0m \u001b[0mself\u001b[0m\u001b[0;34m.\u001b[0m\u001b[0m_cache\u001b[0m\u001b[0;34m.\u001b[0m\u001b[0mis_empty\u001b[0m\u001b[0;34m(\u001b[0m\u001b[0;34m)\u001b[0m\u001b[0;34m:\u001b[0m \u001b[0;32mreturn\u001b[0m\u001b[0;34m\u001b[0m\u001b[0;34m\u001b[0m\u001b[0m\n\u001b[1;32m     94\u001b[0m         \u001b[0;32mif\u001b[0m \u001b[0mself\u001b[0m\u001b[0;34m.\u001b[0m\u001b[0m_cache\u001b[0m\u001b[0;34m.\u001b[0m\u001b[0m_id\u001b[0m \u001b[0;32mis\u001b[0m \u001b[0;32mnot\u001b[0m \u001b[0;32mNone\u001b[0m\u001b[0;34m:\u001b[0m \u001b[0;32mreturn\u001b[0m  \u001b[0;31m# Data already computed under ID, but not cached locally\u001b[0m\u001b[0;34m\u001b[0m\u001b[0;34m\u001b[0m\u001b[0m\n\u001b[0;32m---> 95\u001b[0;31m         \u001b[0mself\u001b[0m\u001b[0;34m.\u001b[0m\u001b[0m_eval_driver\u001b[0m\u001b[0;34m(\u001b[0m\u001b[0;32mTrue\u001b[0m\u001b[0;34m)\u001b[0m\u001b[0;34m\u001b[0m\u001b[0;34m\u001b[0m\u001b[0m\n\u001b[0m\u001b[1;32m     96\u001b[0m \u001b[0;34m\u001b[0m\u001b[0m\n\u001b[1;32m     97\u001b[0m     \u001b[0;32mdef\u001b[0m \u001b[0m_eager_scalar\u001b[0m\u001b[0;34m(\u001b[0m\u001b[0mself\u001b[0m\u001b[0;34m)\u001b[0m\u001b[0;34m:\u001b[0m  \u001b[0;31m# returns a scalar (or a list of scalars)\u001b[0m\u001b[0;34m\u001b[0m\u001b[0;34m\u001b[0m\u001b[0m\n",
      "\u001b[0;32m/anaconda3/lib/python3.7/site-packages/h2o/expr.py\u001b[0m in \u001b[0;36m_eval_driver\u001b[0;34m(self, top)\u001b[0m\n\u001b[1;32m    111\u001b[0m     \u001b[0;32mdef\u001b[0m \u001b[0m_eval_driver\u001b[0m\u001b[0;34m(\u001b[0m\u001b[0mself\u001b[0m\u001b[0;34m,\u001b[0m \u001b[0mtop\u001b[0m\u001b[0;34m)\u001b[0m\u001b[0;34m:\u001b[0m\u001b[0;34m\u001b[0m\u001b[0;34m\u001b[0m\u001b[0m\n\u001b[1;32m    112\u001b[0m         \u001b[0mexec_str\u001b[0m \u001b[0;34m=\u001b[0m \u001b[0mself\u001b[0m\u001b[0;34m.\u001b[0m\u001b[0m_get_ast_str\u001b[0m\u001b[0;34m(\u001b[0m\u001b[0mtop\u001b[0m\u001b[0;34m)\u001b[0m\u001b[0;34m\u001b[0m\u001b[0;34m\u001b[0m\u001b[0m\n\u001b[0;32m--> 113\u001b[0;31m         \u001b[0mres\u001b[0m \u001b[0;34m=\u001b[0m \u001b[0mExprNode\u001b[0m\u001b[0;34m.\u001b[0m\u001b[0mrapids\u001b[0m\u001b[0;34m(\u001b[0m\u001b[0mexec_str\u001b[0m\u001b[0;34m)\u001b[0m\u001b[0;34m\u001b[0m\u001b[0;34m\u001b[0m\u001b[0m\n\u001b[0m\u001b[1;32m    114\u001b[0m         \u001b[0;32mif\u001b[0m \u001b[0;34m'scalar'\u001b[0m \u001b[0;32min\u001b[0m \u001b[0mres\u001b[0m\u001b[0;34m:\u001b[0m\u001b[0;34m\u001b[0m\u001b[0;34m\u001b[0m\u001b[0m\n\u001b[1;32m    115\u001b[0m             \u001b[0;32mif\u001b[0m \u001b[0misinstance\u001b[0m\u001b[0;34m(\u001b[0m\u001b[0mres\u001b[0m\u001b[0;34m[\u001b[0m\u001b[0;34m'scalar'\u001b[0m\u001b[0;34m]\u001b[0m\u001b[0;34m,\u001b[0m \u001b[0mlist\u001b[0m\u001b[0;34m)\u001b[0m\u001b[0;34m:\u001b[0m\u001b[0;34m\u001b[0m\u001b[0;34m\u001b[0m\u001b[0m\n",
      "\u001b[0;32m/anaconda3/lib/python3.7/site-packages/h2o/expr.py\u001b[0m in \u001b[0;36mrapids\u001b[0;34m(expr)\u001b[0m\n\u001b[1;32m    239\u001b[0m         \u001b[0;34m:\u001b[0m\u001b[0mreturns\u001b[0m\u001b[0;34m:\u001b[0m \u001b[0mThe\u001b[0m \u001b[0mJSON\u001b[0m \u001b[0mresponse\u001b[0m \u001b[0;34m(\u001b[0m\u001b[0;32mas\u001b[0m \u001b[0ma\u001b[0m \u001b[0mpython\u001b[0m \u001b[0mdictionary\u001b[0m\u001b[0;34m)\u001b[0m \u001b[0mof\u001b[0m \u001b[0mthe\u001b[0m \u001b[0mRapids\u001b[0m \u001b[0mexecution\u001b[0m\u001b[0;34m\u001b[0m\u001b[0;34m\u001b[0m\u001b[0m\n\u001b[1;32m    240\u001b[0m         \"\"\"\n\u001b[0;32m--> 241\u001b[0;31m         \u001b[0;32mreturn\u001b[0m \u001b[0mh2o\u001b[0m\u001b[0;34m.\u001b[0m\u001b[0mapi\u001b[0m\u001b[0;34m(\u001b[0m\u001b[0;34m\"POST /99/Rapids\"\u001b[0m\u001b[0;34m,\u001b[0m \u001b[0mdata\u001b[0m\u001b[0;34m=\u001b[0m\u001b[0;34m{\u001b[0m\u001b[0;34m\"ast\"\u001b[0m\u001b[0;34m:\u001b[0m \u001b[0mexpr\u001b[0m\u001b[0;34m,\u001b[0m \u001b[0;34m\"session_id\"\u001b[0m\u001b[0;34m:\u001b[0m \u001b[0mh2o\u001b[0m\u001b[0;34m.\u001b[0m\u001b[0mconnection\u001b[0m\u001b[0;34m(\u001b[0m\u001b[0;34m)\u001b[0m\u001b[0;34m.\u001b[0m\u001b[0msession_id\u001b[0m\u001b[0;34m}\u001b[0m\u001b[0;34m)\u001b[0m\u001b[0;34m\u001b[0m\u001b[0;34m\u001b[0m\u001b[0m\n\u001b[0m\u001b[1;32m    242\u001b[0m \u001b[0;34m\u001b[0m\u001b[0m\n\u001b[1;32m    243\u001b[0m \u001b[0;34m\u001b[0m\u001b[0m\n",
      "\u001b[0;32m/anaconda3/lib/python3.7/site-packages/h2o/h2o.py\u001b[0m in \u001b[0;36mapi\u001b[0;34m(endpoint, data, json, filename, save_to)\u001b[0m\n\u001b[1;32m    104\u001b[0m     \u001b[0;31m# type checks are performed in H2OConnection class\u001b[0m\u001b[0;34m\u001b[0m\u001b[0;34m\u001b[0m\u001b[0;34m\u001b[0m\u001b[0m\n\u001b[1;32m    105\u001b[0m     \u001b[0m_check_connection\u001b[0m\u001b[0;34m(\u001b[0m\u001b[0;34m)\u001b[0m\u001b[0;34m\u001b[0m\u001b[0;34m\u001b[0m\u001b[0m\n\u001b[0;32m--> 106\u001b[0;31m     \u001b[0;32mreturn\u001b[0m \u001b[0mh2oconn\u001b[0m\u001b[0;34m.\u001b[0m\u001b[0mrequest\u001b[0m\u001b[0;34m(\u001b[0m\u001b[0mendpoint\u001b[0m\u001b[0;34m,\u001b[0m \u001b[0mdata\u001b[0m\u001b[0;34m=\u001b[0m\u001b[0mdata\u001b[0m\u001b[0;34m,\u001b[0m \u001b[0mjson\u001b[0m\u001b[0;34m=\u001b[0m\u001b[0mjson\u001b[0m\u001b[0;34m,\u001b[0m \u001b[0mfilename\u001b[0m\u001b[0;34m=\u001b[0m\u001b[0mfilename\u001b[0m\u001b[0;34m,\u001b[0m \u001b[0msave_to\u001b[0m\u001b[0;34m=\u001b[0m\u001b[0msave_to\u001b[0m\u001b[0;34m)\u001b[0m\u001b[0;34m\u001b[0m\u001b[0;34m\u001b[0m\u001b[0m\n\u001b[0m\u001b[1;32m    107\u001b[0m \u001b[0;34m\u001b[0m\u001b[0m\n\u001b[1;32m    108\u001b[0m \u001b[0;34m\u001b[0m\u001b[0m\n",
      "\u001b[0;32m/anaconda3/lib/python3.7/site-packages/h2o/backend/connection.py\u001b[0m in \u001b[0;36mrequest\u001b[0;34m(self, endpoint, data, json, filename, save_to)\u001b[0m\n\u001b[1;32m    405\u001b[0m                                     auth=self._auth, verify=self._verify_ssl_cert, proxies=self._proxies)\n\u001b[1;32m    406\u001b[0m             \u001b[0mself\u001b[0m\u001b[0;34m.\u001b[0m\u001b[0m_log_end_transaction\u001b[0m\u001b[0;34m(\u001b[0m\u001b[0mstart_time\u001b[0m\u001b[0;34m,\u001b[0m \u001b[0mresp\u001b[0m\u001b[0;34m)\u001b[0m\u001b[0;34m\u001b[0m\u001b[0;34m\u001b[0m\u001b[0m\n\u001b[0;32m--> 407\u001b[0;31m             \u001b[0;32mreturn\u001b[0m \u001b[0mself\u001b[0m\u001b[0;34m.\u001b[0m\u001b[0m_process_response\u001b[0m\u001b[0;34m(\u001b[0m\u001b[0mresp\u001b[0m\u001b[0;34m,\u001b[0m \u001b[0msave_to\u001b[0m\u001b[0;34m)\u001b[0m\u001b[0;34m\u001b[0m\u001b[0;34m\u001b[0m\u001b[0m\n\u001b[0m\u001b[1;32m    408\u001b[0m \u001b[0;34m\u001b[0m\u001b[0m\n\u001b[1;32m    409\u001b[0m         \u001b[0;32mexcept\u001b[0m \u001b[0;34m(\u001b[0m\u001b[0mrequests\u001b[0m\u001b[0;34m.\u001b[0m\u001b[0mexceptions\u001b[0m\u001b[0;34m.\u001b[0m\u001b[0mConnectionError\u001b[0m\u001b[0;34m,\u001b[0m \u001b[0mrequests\u001b[0m\u001b[0;34m.\u001b[0m\u001b[0mexceptions\u001b[0m\u001b[0;34m.\u001b[0m\u001b[0mHTTPError\u001b[0m\u001b[0;34m)\u001b[0m \u001b[0;32mas\u001b[0m \u001b[0me\u001b[0m\u001b[0;34m:\u001b[0m\u001b[0;34m\u001b[0m\u001b[0;34m\u001b[0m\u001b[0m\n",
      "\u001b[0;32m/anaconda3/lib/python3.7/site-packages/h2o/backend/connection.py\u001b[0m in \u001b[0;36m_process_response\u001b[0;34m(response, save_to)\u001b[0m\n\u001b[1;32m    741\u001b[0m         \u001b[0;31m# Client errors (400 = \"Bad Request\", 404 = \"Not Found\", 412 = \"Precondition Failed\")\u001b[0m\u001b[0;34m\u001b[0m\u001b[0;34m\u001b[0m\u001b[0;34m\u001b[0m\u001b[0m\n\u001b[1;32m    742\u001b[0m         \u001b[0;32mif\u001b[0m \u001b[0mstatus_code\u001b[0m \u001b[0;32min\u001b[0m \u001b[0;34m{\u001b[0m\u001b[0;36m400\u001b[0m\u001b[0;34m,\u001b[0m \u001b[0;36m404\u001b[0m\u001b[0;34m,\u001b[0m \u001b[0;36m412\u001b[0m\u001b[0;34m}\u001b[0m \u001b[0;32mand\u001b[0m \u001b[0misinstance\u001b[0m\u001b[0;34m(\u001b[0m\u001b[0mdata\u001b[0m\u001b[0;34m,\u001b[0m \u001b[0;34m(\u001b[0m\u001b[0mH2OErrorV3\u001b[0m\u001b[0;34m,\u001b[0m \u001b[0mH2OModelBuilderErrorV3\u001b[0m\u001b[0;34m)\u001b[0m\u001b[0;34m)\u001b[0m\u001b[0;34m:\u001b[0m\u001b[0;34m\u001b[0m\u001b[0;34m\u001b[0m\u001b[0m\n\u001b[0;32m--> 743\u001b[0;31m             \u001b[0;32mraise\u001b[0m \u001b[0mH2OResponseError\u001b[0m\u001b[0;34m(\u001b[0m\u001b[0mdata\u001b[0m\u001b[0;34m)\u001b[0m\u001b[0;34m\u001b[0m\u001b[0;34m\u001b[0m\u001b[0m\n\u001b[0m\u001b[1;32m    744\u001b[0m \u001b[0;34m\u001b[0m\u001b[0m\n\u001b[1;32m    745\u001b[0m         \u001b[0;31m# Server errors (notably 500 = \"Server Error\")\u001b[0m\u001b[0;34m\u001b[0m\u001b[0;34m\u001b[0m\u001b[0;34m\u001b[0m\u001b[0m\n",
      "\u001b[0;31mH2OResponseError\u001b[0m: Server error java.lang.IllegalArgumentException:\n  Error: Row slicing requires a number-list as the last argument, but found a class water.rapids.ast.params.AstStr\n  Request: POST /99/Rapids\n    data: {'ast': \"(tmp= py_578_sid_803f (rows (cols_py py_574_sid_803f 'Id') 'PositiveReview'))\", 'session_id': '_sid_803f'}\n"
     ]
    }
   ],
   "source": [
    "quantile_dict = get_quantile_dict('PositiveReview', 'Id', ext_test_new)"
   ]
  },
  {
   "cell_type": "markdown",
   "metadata": {},
   "source": [
    "### 2.4.3 Matrix"
   ]
  },
  {
   "cell_type": "code",
   "execution_count": 47,
   "metadata": {},
   "outputs": [
    {
     "name": "stdout",
     "output_type": "stream",
     "text": [
      "AUC on validation data: 0.846\n"
     ]
    }
   ],
   "source": [
    "print(\"AUC on validation data: \" + str(round(gbm.auc(valid = True), 3)))"
   ]
  },
  {
   "cell_type": "code",
   "execution_count": 48,
   "metadata": {},
   "outputs": [
    {
     "name": "stdout",
     "output_type": "stream",
     "text": [
      "Confusion Matrix (Act/Pred) for max f1 @ threshold = 0.47887123153948047: \n"
     ]
    },
    {
     "data": {
      "text/html": [
       "<div style=\"overflow:auto\"><table style=\"width:50%\"><tr><td><b></b></td>\n",
       "<td><b>0</b></td>\n",
       "<td><b>1</b></td>\n",
       "<td><b>Error</b></td>\n",
       "<td><b>Rate</b></td></tr>\n",
       "<tr><td>0</td>\n",
       "<td>2446.0</td>\n",
       "<td>1766.0</td>\n",
       "<td>0.4193</td>\n",
       "<td> (1766.0/4212.0)</td></tr>\n",
       "<tr><td>1</td>\n",
       "<td>555.0</td>\n",
       "<td>6385.0</td>\n",
       "<td>0.08</td>\n",
       "<td> (555.0/6940.0)</td></tr>\n",
       "<tr><td>Total</td>\n",
       "<td>3001.0</td>\n",
       "<td>8151.0</td>\n",
       "<td>0.2081</td>\n",
       "<td> (2321.0/11152.0)</td></tr></table></div>"
      ],
      "text/plain": [
       "       0     1     Error    Rate\n",
       "-----  ----  ----  -------  ----------------\n",
       "0      2446  1766  0.4193   (1766.0/4212.0)\n",
       "1      555   6385  0.08     (555.0/6940.0)\n",
       "Total  3001  8151  0.2081   (2321.0/11152.0)"
      ]
     },
     "metadata": {},
     "output_type": "display_data"
    },
    {
     "data": {
      "text/plain": []
     },
     "execution_count": 48,
     "metadata": {},
     "output_type": "execute_result"
    }
   ],
   "source": [
    "gbm.confusion_matrix(valid=True)"
   ]
  },
  {
   "cell_type": "code",
   "execution_count": 49,
   "metadata": {},
   "outputs": [
    {
     "data": {
      "text/plain": [
       "{'train': 0.44591204451732713, 'valid': 0.357253899124959}"
      ]
     },
     "execution_count": 49,
     "metadata": {},
     "output_type": "execute_result"
    }
   ],
   "source": [
    "gbm.r2(train=True, valid=True)"
   ]
  },
  {
   "cell_type": "code",
   "execution_count": 135,
   "metadata": {},
   "outputs": [
    {
     "name": "stdout",
     "output_type": "stream",
     "text": [
      "H2O session _sid_867b closed.\n"
     ]
    }
   ],
   "source": [
    "h2o.cluster().shutdown()"
   ]
  },
  {
   "cell_type": "code",
   "execution_count": null,
   "metadata": {},
   "outputs": [],
   "source": []
  },
  {
   "cell_type": "code",
   "execution_count": null,
   "metadata": {},
   "outputs": [],
   "source": []
  }
 ],
 "metadata": {
  "kernelspec": {
   "display_name": "Python 3",
   "language": "python",
   "name": "python3"
  },
  "language_info": {
   "codemirror_mode": {
    "name": "ipython",
    "version": 3
   },
   "file_extension": ".py",
   "mimetype": "text/x-python",
   "name": "python",
   "nbconvert_exporter": "python",
   "pygments_lexer": "ipython3",
   "version": "3.7.2"
  },
  "toc": {
   "base_numbering": 1,
   "nav_menu": {},
   "number_sections": false,
   "sideBar": true,
   "skip_h1_title": false,
   "title_cell": "Table of Contents",
   "title_sidebar": "Contents",
   "toc_cell": false,
   "toc_position": {
    "height": "calc(100% - 180px)",
    "left": "10px",
    "top": "150px",
    "width": "336px"
   },
   "toc_section_display": true,
   "toc_window_display": true
  },
  "varInspector": {
   "cols": {
    "lenName": 16,
    "lenType": 16,
    "lenVar": 40
   },
   "kernels_config": {
    "python": {
     "delete_cmd_postfix": "",
     "delete_cmd_prefix": "del ",
     "library": "var_list.py",
     "varRefreshCmd": "print(var_dic_list())"
    },
    "r": {
     "delete_cmd_postfix": ") ",
     "delete_cmd_prefix": "rm(",
     "library": "var_list.r",
     "varRefreshCmd": "cat(var_dic_list()) "
    }
   },
   "types_to_exclude": [
    "module",
    "function",
    "builtin_function_or_method",
    "instance",
    "_Feature"
   ],
   "window_display": false
  }
 },
 "nbformat": 4,
 "nbformat_minor": 2
}
