{
 "cells": [
  {
   "cell_type": "code",
   "execution_count": 48,
   "metadata": {},
   "outputs": [],
   "source": [
    "import h2o\n",
    "import operator\n",
    "from h2o.automl import H2OAutoML\n",
    "import random, os, sys\n",
    "from datetime import datetime\n",
    "import pandas as pd\n",
    "import logging\n",
    "import csv\n",
    "import optparse\n",
    "import time\n",
    "import json\n",
    "from distutils.util import strtobool\n",
    "import psutil\n",
    "import numpy as np\n",
    "from matplotlib import pyplot as plt\n",
    "import warnings\n",
    "from iice import ice, ice_plot\n",
    "from h2o.estimators.glm import H2OGeneralizedLinearEstimator\n",
    "from h2o.estimators import H2OGradientBoostingEstimator\n",
    "warnings.filterwarnings(\"ignore\")"
   ]
  },
  {
   "cell_type": "markdown",
   "metadata": {},
   "source": [
    "# 1 Data Preparation"
   ]
  },
  {
   "cell_type": "markdown",
   "metadata": {},
   "source": [
    "## 1.1 H2O Initialization"
   ]
  },
  {
   "cell_type": "code",
   "execution_count": 2,
   "metadata": {},
   "outputs": [
    {
     "name": "stdout",
     "output_type": "stream",
     "text": [
      "40\n"
     ]
    }
   ],
   "source": [
    "pct_memory=4\n",
    "virtual_memory=psutil.virtual_memory()\n",
    "min_mem_size=int(round(int(pct_memory*virtual_memory.available)/1073741824,0))\n",
    "print(min_mem_size)"
   ]
  },
  {
   "cell_type": "code",
   "execution_count": 3,
   "metadata": {},
   "outputs": [
    {
     "name": "stdout",
     "output_type": "stream",
     "text": [
      "Checking whether there is an H2O instance running at http://localhost:54321 . connected.\n"
     ]
    },
    {
     "data": {
      "text/html": [
       "<div style=\"overflow:auto\"><table style=\"width:50%\"><tr><td>H2O cluster uptime:</td>\n",
       "<td>1 day 3 hours 26 mins</td></tr>\n",
       "<tr><td>H2O cluster timezone:</td>\n",
       "<td>America/New_York</td></tr>\n",
       "<tr><td>H2O data parsing timezone:</td>\n",
       "<td>UTC</td></tr>\n",
       "<tr><td>H2O cluster version:</td>\n",
       "<td>3.24.0.1</td></tr>\n",
       "<tr><td>H2O cluster version age:</td>\n",
       "<td>22 days </td></tr>\n",
       "<tr><td>H2O cluster name:</td>\n",
       "<td>H2O_from_python_mandy_v0rqbc</td></tr>\n",
       "<tr><td>H2O cluster total nodes:</td>\n",
       "<td>1</td></tr>\n",
       "<tr><td>H2O cluster free memory:</td>\n",
       "<td>34.56 Gb</td></tr>\n",
       "<tr><td>H2O cluster total cores:</td>\n",
       "<td>12</td></tr>\n",
       "<tr><td>H2O cluster allowed cores:</td>\n",
       "<td>12</td></tr>\n",
       "<tr><td>H2O cluster status:</td>\n",
       "<td>locked, healthy</td></tr>\n",
       "<tr><td>H2O connection url:</td>\n",
       "<td>http://localhost:54321</td></tr>\n",
       "<tr><td>H2O connection proxy:</td>\n",
       "<td>None</td></tr>\n",
       "<tr><td>H2O internal security:</td>\n",
       "<td>False</td></tr>\n",
       "<tr><td>H2O API Extensions:</td>\n",
       "<td>Amazon S3, XGBoost, Algos, AutoML, Core V3, Core V4</td></tr>\n",
       "<tr><td>Python version:</td>\n",
       "<td>3.7.2 final</td></tr></table></div>"
      ],
      "text/plain": [
       "--------------------------  ---------------------------------------------------\n",
       "H2O cluster uptime:         1 day 3 hours 26 mins\n",
       "H2O cluster timezone:       America/New_York\n",
       "H2O data parsing timezone:  UTC\n",
       "H2O cluster version:        3.24.0.1\n",
       "H2O cluster version age:    22 days\n",
       "H2O cluster name:           H2O_from_python_mandy_v0rqbc\n",
       "H2O cluster total nodes:    1\n",
       "H2O cluster free memory:    34.56 Gb\n",
       "H2O cluster total cores:    12\n",
       "H2O cluster allowed cores:  12\n",
       "H2O cluster status:         locked, healthy\n",
       "H2O connection url:         http://localhost:54321\n",
       "H2O connection proxy:\n",
       "H2O internal security:      False\n",
       "H2O API Extensions:         Amazon S3, XGBoost, Algos, AutoML, Core V3, Core V4\n",
       "Python version:             3.7.2 final\n",
       "--------------------------  ---------------------------------------------------"
      ]
     },
     "metadata": {},
     "output_type": "display_data"
    }
   ],
   "source": [
    "h2o.init(strict_version_check=False,max_mem_size=min_mem_size)"
   ]
  },
  {
   "cell_type": "markdown",
   "metadata": {},
   "source": [
    "## 1.2 Data Import & Parse"
   ]
  },
  {
   "cell_type": "code",
   "execution_count": 4,
   "metadata": {},
   "outputs": [
    {
     "name": "stdout",
     "output_type": "stream",
     "text": [
      "Parse progress: |█████████████████████████████████████████████████████████| 100%\n"
     ]
    }
   ],
   "source": [
    "data_path = \"AmazonReviews.Small.csv\"\n",
    "\n",
    "# Load data into H2O\n",
    "reviews = h2o.import_file(data_path)"
   ]
  },
  {
   "cell_type": "code",
   "execution_count": 5,
   "metadata": {},
   "outputs": [
    {
     "data": {
      "text/plain": [
       "(55554, 10)"
      ]
     },
     "execution_count": 5,
     "metadata": {},
     "output_type": "execute_result"
    }
   ],
   "source": [
    "reviews.shape"
   ]
  },
  {
   "cell_type": "code",
   "execution_count": 6,
   "metadata": {
    "scrolled": false
   },
   "outputs": [
    {
     "data": {
      "text/html": [
       "<table>\n",
       "<thead>\n",
       "<tr><th>ProductId  </th><th>UserId        </th><th>Summary                     </th><th style=\"text-align: right;\">  Score</th><th style=\"text-align: right;\">  HelpfulnessDenominator</th><th style=\"text-align: right;\">    Id</th><th>ProfileName        </th><th style=\"text-align: right;\">  HelpfulnessNumerator</th><th style=\"text-align: right;\">       Time</th><th>Text                                                                                                                                                                                                                                                                                                                                                                            </th></tr>\n",
       "</thead>\n",
       "<tbody>\n",
       "<tr><td>B00141QYSQ </td><td>A1YS02UZZGRDCT</td><td>Do Not Buy                  </td><td style=\"text-align: right;\">      1</td><td style=\"text-align: right;\">                       2</td><td style=\"text-align: right;\"> 41471</td><td>Evan Eberhardt     </td><td style=\"text-align: right;\">                     2</td><td style=\"text-align: right;\">1.34836e+09</td><td>These are made in China (do not buy ANY pet food from China).  Dogswell has been using propylene glycol to soften their treats (what are they thinkng?).  Do not purchase or support this company in any way until they clean up their act.  And for whatever reason Amazon doesn't allow returns of this item, so I had to toss mine out.  Bad business all around on this one.</td></tr>\n",
       "<tr><td>B0089SPEO2 </td><td>A3JOYNYL458QHP</td><td>Less lemon and less zing    </td><td style=\"text-align: right;\">      3</td><td style=\"text-align: right;\">                       0</td><td style=\"text-align: right;\"> 28582</td><td>coleridge          </td><td style=\"text-align: right;\">                     0</td><td style=\"text-align: right;\">1.32391e+09</td><td>Everything is ok, except it just isn't as good as it is in the bags.  Just considerably more bland -- less lemon and less zing.  Boring.                                                                                                                                                                                                                                        </td></tr>\n",
       "<tr><td>B001PMCDK2 </td><td>A14TTMM0Z03Y2W</td><td>my cat goes crazy for these!</td><td style=\"text-align: right;\">      5</td><td style=\"text-align: right;\">                       0</td><td style=\"text-align: right;\">389965</td><td>Lindsay S. Bradford</td><td style=\"text-align: right;\">                     0</td><td style=\"text-align: right;\">1.3106e+09 </td><td>Best cat treat ever. There isn't anything comparable to the love my cat has for these treats, he snubs away any other kind now.<br />I know he likes to manipulate me with his cattiness but these treats are my way of manipulating him to come sit on my lap and have some chill time. :)                                                                                     </td></tr>\n",
       "</tbody>\n",
       "</table>"
      ]
     },
     "metadata": {},
     "output_type": "display_data"
    },
    {
     "data": {
      "text/plain": []
     },
     "execution_count": 6,
     "metadata": {},
     "output_type": "execute_result"
    }
   ],
   "source": [
    "reviews.head(3)"
   ]
  },
  {
   "cell_type": "code",
   "execution_count": 7,
   "metadata": {},
   "outputs": [
    {
     "name": "stdout",
     "output_type": "stream",
     "text": [
      "{'ProductId': 'enum', 'UserId': 'enum', 'Summary': 'enum', 'Score': 'int', 'HelpfulnessDenominator': 'int', 'Id': 'int', 'ProfileName': 'enum', 'HelpfulnessNumerator': 'int', 'Time': 'int', 'Text': 'string'}\n"
     ]
    }
   ],
   "source": [
    "print(reviews.types)"
   ]
  },
  {
   "cell_type": "code",
   "execution_count": 8,
   "metadata": {},
   "outputs": [],
   "source": [
    "reviews['PositiveReview']=(reviews['Score']>=reviews['Score'].mean()[0]).ifelse('1','0')"
   ]
  },
  {
   "cell_type": "code",
   "execution_count": 9,
   "metadata": {},
   "outputs": [
    {
     "data": {
      "text/html": [
       "<table>\n",
       "<thead>\n",
       "<tr><th style=\"text-align: right;\">  PositiveReview</th><th style=\"text-align: right;\">  Count</th></tr>\n",
       "</thead>\n",
       "<tbody>\n",
       "<tr><td style=\"text-align: right;\">               0</td><td style=\"text-align: right;\">  20106</td></tr>\n",
       "<tr><td style=\"text-align: right;\">               1</td><td style=\"text-align: right;\">  35448</td></tr>\n",
       "</tbody>\n",
       "</table>"
      ]
     },
     "metadata": {},
     "output_type": "display_data"
    },
    {
     "data": {
      "text/plain": []
     },
     "execution_count": 9,
     "metadata": {},
     "output_type": "execute_result"
    }
   ],
   "source": [
    "reviews['PositiveReview'].table()"
   ]
  },
  {
   "cell_type": "code",
   "execution_count": 10,
   "metadata": {},
   "outputs": [],
   "source": [
    "# Find the 80th quantile of time in the dataset\n",
    "time_split = reviews[\"Time\"].quantile(prob = [0.8])[1]\n",
    "reviews[\"Train\"] = (reviews[\"Time\"] < time_split).ifelse(\"Yes\", \"No\")"
   ]
  },
  {
   "cell_type": "code",
   "execution_count": 11,
   "metadata": {},
   "outputs": [
    {
     "data": {
      "text/html": [
       "<table>\n",
       "<thead>\n",
       "<tr><th>Train  </th><th style=\"text-align: right;\">  Count</th></tr>\n",
       "</thead>\n",
       "<tbody>\n",
       "<tr><td>No     </td><td style=\"text-align: right;\">  11152</td></tr>\n",
       "<tr><td>Yes    </td><td style=\"text-align: right;\">  44402</td></tr>\n",
       "</tbody>\n",
       "</table>"
      ]
     },
     "metadata": {},
     "output_type": "display_data"
    },
    {
     "data": {
      "text/plain": []
     },
     "execution_count": 11,
     "metadata": {},
     "output_type": "execute_result"
    }
   ],
   "source": [
    "reviews['Train'].table()"
   ]
  },
  {
   "cell_type": "code",
   "execution_count": 12,
   "metadata": {},
   "outputs": [],
   "source": [
    "train = reviews[reviews[\"Train\"] == \"Yes\"]\n",
    "test = reviews[reviews[\"Train\"] == \"No\"]"
   ]
  },
  {
   "cell_type": "markdown",
   "metadata": {},
   "source": [
    "## 1.3 Tokenize Words in Review"
   ]
  },
  {
   "cell_type": "code",
   "execution_count": 13,
   "metadata": {},
   "outputs": [],
   "source": [
    "data_path = \"stopwords.csv\"\n",
    "STOP_WORDS = pd.read_csv(data_path, header=0)"
   ]
  },
  {
   "cell_type": "code",
   "execution_count": 14,
   "metadata": {},
   "outputs": [
    {
     "data": {
      "text/html": [
       "<div>\n",
       "<style scoped>\n",
       "    .dataframe tbody tr th:only-of-type {\n",
       "        vertical-align: middle;\n",
       "    }\n",
       "\n",
       "    .dataframe tbody tr th {\n",
       "        vertical-align: top;\n",
       "    }\n",
       "\n",
       "    .dataframe thead th {\n",
       "        text-align: right;\n",
       "    }\n",
       "</style>\n",
       "<table border=\"1\" class=\"dataframe\">\n",
       "  <thead>\n",
       "    <tr style=\"text-align: right;\">\n",
       "      <th></th>\n",
       "      <th>STOP_WORD</th>\n",
       "    </tr>\n",
       "  </thead>\n",
       "  <tbody>\n",
       "    <tr>\n",
       "      <th>0</th>\n",
       "      <td>all</td>\n",
       "    </tr>\n",
       "    <tr>\n",
       "      <th>1</th>\n",
       "      <td>just</td>\n",
       "    </tr>\n",
       "    <tr>\n",
       "      <th>2</th>\n",
       "      <td>being</td>\n",
       "    </tr>\n",
       "    <tr>\n",
       "      <th>3</th>\n",
       "      <td>over</td>\n",
       "    </tr>\n",
       "    <tr>\n",
       "      <th>4</th>\n",
       "      <td>both</td>\n",
       "    </tr>\n",
       "  </tbody>\n",
       "</table>\n",
       "</div>"
      ],
      "text/plain": [
       "  STOP_WORD\n",
       "0       all\n",
       "1      just\n",
       "2     being\n",
       "3      over\n",
       "4      both"
      ]
     },
     "execution_count": 14,
     "metadata": {},
     "output_type": "execute_result"
    }
   ],
   "source": [
    "STOP_WORDS.head()"
   ]
  },
  {
   "cell_type": "code",
   "execution_count": 15,
   "metadata": {},
   "outputs": [],
   "source": [
    "STOP_WORDS = list(STOP_WORDS['STOP_WORD'])"
   ]
  },
  {
   "cell_type": "code",
   "execution_count": 16,
   "metadata": {},
   "outputs": [],
   "source": [
    "def tokenize(sentences, stop_word = STOP_WORDS):\n",
    "    tokenized = sentences.tokenize(\"\\\\W+\")\n",
    "    tokenized_lower = tokenized.tolower()\n",
    "    tokenized_filtered = tokenized_lower[(tokenized_lower.nchar() >= 2) | (tokenized_lower.isna()),:]\n",
    "    tokenized_words = tokenized_filtered[tokenized_filtered.grep(\"[0-9]\",invert=True,output_logical=True),:]\n",
    "    tokenized_words = tokenized_words[(tokenized_words.isna()) | (~ tokenized_words.isin(STOP_WORDS)),:]\n",
    "    return tokenized_words"
   ]
  },
  {
   "cell_type": "code",
   "execution_count": 17,
   "metadata": {},
   "outputs": [],
   "source": [
    "# Break reviews into sequence of words\n",
    "words = tokenize(reviews[\"Text\"])"
   ]
  },
  {
   "cell_type": "code",
   "execution_count": 18,
   "metadata": {},
   "outputs": [
    {
     "data": {
      "text/html": [
       "<table>\n",
       "<thead>\n",
       "<tr><th>C1       </th></tr>\n",
       "</thead>\n",
       "<tbody>\n",
       "<tr><td>made     </td></tr>\n",
       "<tr><td>china    </td></tr>\n",
       "<tr><td>buy      </td></tr>\n",
       "<tr><td>pet      </td></tr>\n",
       "<tr><td>food     </td></tr>\n",
       "<tr><td>china    </td></tr>\n",
       "<tr><td>dogswell </td></tr>\n",
       "<tr><td>using    </td></tr>\n",
       "<tr><td>propylene</td></tr>\n",
       "<tr><td>glycol   </td></tr>\n",
       "</tbody>\n",
       "</table>"
      ]
     },
     "metadata": {},
     "output_type": "display_data"
    },
    {
     "data": {
      "text/plain": []
     },
     "execution_count": 18,
     "metadata": {},
     "output_type": "execute_result"
    }
   ],
   "source": [
    "words.head()"
   ]
  },
  {
   "cell_type": "markdown",
   "metadata": {},
   "source": [
    "## 1.4 Word2Vec Model"
   ]
  },
  {
   "cell_type": "code",
   "execution_count": 20,
   "metadata": {},
   "outputs": [
    {
     "name": "stdout",
     "output_type": "stream",
     "text": [
      "word2vec Model Build progress: |██████████████████████████████████████████| 100%\n"
     ]
    },
    {
     "data": {
      "text/plain": [
       "'/Users/mandy/Documents/Study/AI-Addin/data/w2v.hex'"
      ]
     },
     "execution_count": 20,
     "metadata": {},
     "output_type": "execute_result"
    }
   ],
   "source": [
    "# Train Word2Vec Model\n",
    "from h2o.estimators.word2vec import H2OWord2vecEstimator\n",
    "\n",
    "\n",
    "w2v_model = H2OWord2vecEstimator(vec_size = 100, model_id = \"w2v.hex\")\n",
    "w2v_model.train(training_frame=words)\n",
    "\n",
    "models_path='data'\n",
    "h2o.save_model(w2v_model, path = models_path, force = True)"
   ]
  },
  {
   "cell_type": "code",
   "execution_count": 21,
   "metadata": {},
   "outputs": [
    {
     "data": {
      "text/plain": [
       "OrderedDict([('coffe', 0.7969105243682861),\n",
       "             ('espresso', 0.7562607526779175),\n",
       "             ('coffees', 0.750950038433075),\n",
       "             ('expresso', 0.7468928694725037),\n",
       "             ('brew', 0.737235963344574)])"
      ]
     },
     "execution_count": 21,
     "metadata": {},
     "output_type": "execute_result"
    }
   ],
   "source": [
    "# Sanity check - find synonyms for the word 'coffee'\n",
    "w2v_model.find_synonyms(\"coffee\", count = 5)"
   ]
  },
  {
   "cell_type": "code",
   "execution_count": 22,
   "metadata": {},
   "outputs": [
    {
     "data": {
      "text/plain": [
       "OrderedDict([('unedible', 0.6726083755493164),\n",
       "             ('rancid', 0.6628785133361816),\n",
       "             ('inedible', 0.6026698350906372),\n",
       "             ('musty', 0.5995890498161316),\n",
       "             ('odd', 0.593550443649292)])"
      ]
     },
     "execution_count": 22,
     "metadata": {},
     "output_type": "execute_result"
    }
   ],
   "source": [
    "# Sanity check - find synonyms for the word 'stale'\n",
    "w2v_model.find_synonyms(\"stale\", count = 5)"
   ]
  },
  {
   "cell_type": "code",
   "execution_count": 23,
   "metadata": {},
   "outputs": [
    {
     "data": {
      "text/html": [
       "<table>\n",
       "<thead>\n",
       "<tr><th style=\"text-align: right;\">        C1</th><th style=\"text-align: right;\">         C2</th><th style=\"text-align: right;\">       C3</th><th style=\"text-align: right;\">         C4</th><th style=\"text-align: right;\">         C5</th><th style=\"text-align: right;\">         C6</th><th style=\"text-align: right;\">         C7</th><th style=\"text-align: right;\">        C8</th><th style=\"text-align: right;\">          C9</th><th style=\"text-align: right;\">        C10</th><th style=\"text-align: right;\">       C11</th><th style=\"text-align: right;\">        C12</th><th style=\"text-align: right;\">       C13</th><th style=\"text-align: right;\">        C14</th><th style=\"text-align: right;\">        C15</th><th style=\"text-align: right;\">         C16</th><th style=\"text-align: right;\">       C17</th><th style=\"text-align: right;\">       C18</th><th style=\"text-align: right;\">       C19</th><th style=\"text-align: right;\">        C20</th><th style=\"text-align: right;\">      C21</th><th style=\"text-align: right;\">       C22</th><th style=\"text-align: right;\">        C23</th><th style=\"text-align: right;\">       C24</th><th style=\"text-align: right;\">       C25</th><th style=\"text-align: right;\">      C26</th><th style=\"text-align: right;\">        C27</th><th style=\"text-align: right;\">       C28</th><th style=\"text-align: right;\">       C29</th><th style=\"text-align: right;\">         C30</th><th style=\"text-align: right;\">        C31</th><th style=\"text-align: right;\">       C32</th><th style=\"text-align: right;\">       C33</th><th style=\"text-align: right;\">       C34</th><th style=\"text-align: right;\">        C35</th><th style=\"text-align: right;\">        C36</th><th style=\"text-align: right;\">       C37</th><th style=\"text-align: right;\">        C38</th><th style=\"text-align: right;\">       C39</th><th style=\"text-align: right;\">       C40</th><th style=\"text-align: right;\">       C41</th><th style=\"text-align: right;\">       C42</th><th style=\"text-align: right;\">     C43</th><th style=\"text-align: right;\">        C44</th><th style=\"text-align: right;\">        C45</th><th style=\"text-align: right;\">       C46</th><th style=\"text-align: right;\">        C47</th><th style=\"text-align: right;\">       C48</th><th style=\"text-align: right;\">        C49</th><th style=\"text-align: right;\">       C50</th><th style=\"text-align: right;\">      C51</th><th style=\"text-align: right;\">       C52</th><th style=\"text-align: right;\">         C53</th><th style=\"text-align: right;\">       C54</th><th style=\"text-align: right;\">       C55</th><th style=\"text-align: right;\">        C56</th><th style=\"text-align: right;\">       C57</th><th style=\"text-align: right;\">      C58</th><th style=\"text-align: right;\">        C59</th><th style=\"text-align: right;\">        C60</th><th style=\"text-align: right;\">        C61</th><th style=\"text-align: right;\">       C62</th><th style=\"text-align: right;\">        C63</th><th style=\"text-align: right;\">        C64</th><th style=\"text-align: right;\">       C65</th><th style=\"text-align: right;\">       C66</th><th style=\"text-align: right;\">       C67</th><th style=\"text-align: right;\">      C68</th><th style=\"text-align: right;\">       C69</th><th style=\"text-align: right;\">        C70</th><th style=\"text-align: right;\">       C71</th><th style=\"text-align: right;\">       C72</th><th style=\"text-align: right;\">       C73</th><th style=\"text-align: right;\">         C74</th><th style=\"text-align: right;\">       C75</th><th style=\"text-align: right;\">       C76</th><th style=\"text-align: right;\">       C77</th><th style=\"text-align: right;\">       C78</th><th style=\"text-align: right;\">       C79</th><th style=\"text-align: right;\">        C80</th><th style=\"text-align: right;\">       C81</th><th style=\"text-align: right;\">        C82</th><th style=\"text-align: right;\">       C83</th><th style=\"text-align: right;\">        C84</th><th style=\"text-align: right;\">         C85</th><th style=\"text-align: right;\">        C86</th><th style=\"text-align: right;\">        C87</th><th style=\"text-align: right;\">        C88</th><th style=\"text-align: right;\">        C89</th><th style=\"text-align: right;\">        C90</th><th style=\"text-align: right;\">        C91</th><th style=\"text-align: right;\">        C92</th><th style=\"text-align: right;\">        C93</th><th style=\"text-align: right;\">         C94</th><th style=\"text-align: right;\">        C95</th><th style=\"text-align: right;\">        C96</th><th style=\"text-align: right;\">        C97</th><th style=\"text-align: right;\">         C98</th><th style=\"text-align: right;\">       C99</th><th style=\"text-align: right;\">       C100</th></tr>\n",
       "</thead>\n",
       "<tbody>\n",
       "<tr><td style=\"text-align: right;\">-0.013452 </td><td style=\"text-align: right;\">-0.0785637 </td><td style=\"text-align: right;\">-0.138981</td><td style=\"text-align: right;\">-0.0246903 </td><td style=\"text-align: right;\">-0.00327314</td><td style=\"text-align: right;\">-0.0498523 </td><td style=\"text-align: right;\"> 0.0248292 </td><td style=\"text-align: right;\">-0.0397897</td><td style=\"text-align: right;\"> 0.0852182  </td><td style=\"text-align: right;\"> 0.00699067</td><td style=\"text-align: right;\">0.0712024 </td><td style=\"text-align: right;\">-0.1221    </td><td style=\"text-align: right;\">-0.0373725</td><td style=\"text-align: right;\"> 0.0459209 </td><td style=\"text-align: right;\"> 0.0597572 </td><td style=\"text-align: right;\"> 0.000287878</td><td style=\"text-align: right;\"> 0.0704285</td><td style=\"text-align: right;\">-0.0253099</td><td style=\"text-align: right;\">-0.0585024</td><td style=\"text-align: right;\">-0.0794127 </td><td style=\"text-align: right;\">0.127946 </td><td style=\"text-align: right;\">-0.115061 </td><td style=\"text-align: right;\"> 0.0875729 </td><td style=\"text-align: right;\"> 0.121542 </td><td style=\"text-align: right;\"> 0.165209 </td><td style=\"text-align: right;\">0.107062 </td><td style=\"text-align: right;\"> 0.0485988 </td><td style=\"text-align: right;\">-0.178077 </td><td style=\"text-align: right;\">-0.103309 </td><td style=\"text-align: right;\"> 0.102956   </td><td style=\"text-align: right;\"> 0.132281  </td><td style=\"text-align: right;\"> 0.235652 </td><td style=\"text-align: right;\"> 0.217289 </td><td style=\"text-align: right;\">-0.0983692</td><td style=\"text-align: right;\">-0.170166  </td><td style=\"text-align: right;\">-0.0864412 </td><td style=\"text-align: right;\">-0.0841292</td><td style=\"text-align: right;\"> 0.00984567</td><td style=\"text-align: right;\">-0.0912847</td><td style=\"text-align: right;\">-0.224937 </td><td style=\"text-align: right;\"> 0.0379391</td><td style=\"text-align: right;\">-0.115529 </td><td style=\"text-align: right;\">0.259677</td><td style=\"text-align: right;\">-0.136987  </td><td style=\"text-align: right;\">-0.0769796 </td><td style=\"text-align: right;\">-0.0777718</td><td style=\"text-align: right;\">-0.132649  </td><td style=\"text-align: right;\">-0.0206015</td><td style=\"text-align: right;\"> 0.00753662</td><td style=\"text-align: right;\">-0.0329378</td><td style=\"text-align: right;\">0.107125 </td><td style=\"text-align: right;\">-0.061765 </td><td style=\"text-align: right;\">-0.0129066  </td><td style=\"text-align: right;\"> 0.25044  </td><td style=\"text-align: right;\"> 0.0293612</td><td style=\"text-align: right;\">-0.0795486 </td><td style=\"text-align: right;\">-0.0365948</td><td style=\"text-align: right;\">0.131782 </td><td style=\"text-align: right;\"> 0.151546  </td><td style=\"text-align: right;\">-0.0997909 </td><td style=\"text-align: right;\">-0.206397  </td><td style=\"text-align: right;\"> 0.165377 </td><td style=\"text-align: right;\"> 0.00276286</td><td style=\"text-align: right;\">-0.199512  </td><td style=\"text-align: right;\"> 0.0784447</td><td style=\"text-align: right;\">-0.0374116</td><td style=\"text-align: right;\"> 0.0954856</td><td style=\"text-align: right;\">-0.073916</td><td style=\"text-align: right;\">-0.0303195</td><td style=\"text-align: right;\"> 0.0699418 </td><td style=\"text-align: right;\">-0.0602995</td><td style=\"text-align: right;\">-0.124468 </td><td style=\"text-align: right;\"> 0.147945 </td><td style=\"text-align: right;\">-0.060468   </td><td style=\"text-align: right;\">-0.102471 </td><td style=\"text-align: right;\"> 0.136038 </td><td style=\"text-align: right;\">-0.0722757</td><td style=\"text-align: right;\"> 0.15165  </td><td style=\"text-align: right;\">-0.0271425</td><td style=\"text-align: right;\">-0.0943154 </td><td style=\"text-align: right;\"> 0.104635 </td><td style=\"text-align: right;\"> 0.00766858</td><td style=\"text-align: right;\"> 0.120555 </td><td style=\"text-align: right;\">-0.133279  </td><td style=\"text-align: right;\">-0.115923   </td><td style=\"text-align: right;\"> 0.0674937 </td><td style=\"text-align: right;\"> 0.0175307 </td><td style=\"text-align: right;\">-0.0241965 </td><td style=\"text-align: right;\"> 0.0539917 </td><td style=\"text-align: right;\"> 0.086411  </td><td style=\"text-align: right;\">-0.143057  </td><td style=\"text-align: right;\"> 0.0997981 </td><td style=\"text-align: right;\"> 0.0234722 </td><td style=\"text-align: right;\">-0.128074   </td><td style=\"text-align: right;\">-0.0676812 </td><td style=\"text-align: right;\">-0.0967925 </td><td style=\"text-align: right;\"> 0.0938936 </td><td style=\"text-align: right;\">-0.00863186 </td><td style=\"text-align: right;\">-0.0683016</td><td style=\"text-align: right;\"> 0.0521986 </td></tr>\n",
       "<tr><td style=\"text-align: right;\">-0.113406 </td><td style=\"text-align: right;\">-0.0100783 </td><td style=\"text-align: right;\">-0.185262</td><td style=\"text-align: right;\"> 0.0581028 </td><td style=\"text-align: right;\">-0.0806386 </td><td style=\"text-align: right;\">-0.0834408 </td><td style=\"text-align: right;\"> 0.0250452 </td><td style=\"text-align: right;\">-0.29619  </td><td style=\"text-align: right;\">-0.0611533  </td><td style=\"text-align: right;\"> 0.0847387 </td><td style=\"text-align: right;\">0.0709743 </td><td style=\"text-align: right;\"> 0.150441  </td><td style=\"text-align: right;\">-0.0753758</td><td style=\"text-align: right;\">-0.0762187 </td><td style=\"text-align: right;\"> 0.0519429 </td><td style=\"text-align: right;\"> 0.0768248  </td><td style=\"text-align: right;\"> 0.252495 </td><td style=\"text-align: right;\"> 0.0117445</td><td style=\"text-align: right;\"> 0.048102 </td><td style=\"text-align: right;\">-0.0192046 </td><td style=\"text-align: right;\">0.179908 </td><td style=\"text-align: right;\"> 0.0599986</td><td style=\"text-align: right;\">-0.0652569 </td><td style=\"text-align: right;\"> 0.143125 </td><td style=\"text-align: right;\"> 0.0346083</td><td style=\"text-align: right;\">0.019607 </td><td style=\"text-align: right;\"> 0.0871827 </td><td style=\"text-align: right;\"> 0.0870909</td><td style=\"text-align: right;\"> 0.0697534</td><td style=\"text-align: right;\">-0.0152124  </td><td style=\"text-align: right;\">-0.00647107</td><td style=\"text-align: right;\"> 0.126059 </td><td style=\"text-align: right;\"> 0.272665 </td><td style=\"text-align: right;\">-0.0190468</td><td style=\"text-align: right;\">-0.00439438</td><td style=\"text-align: right;\">-0.00891596</td><td style=\"text-align: right;\">-0.0776638</td><td style=\"text-align: right;\">-0.0262227 </td><td style=\"text-align: right;\"> 0.0735623</td><td style=\"text-align: right;\">-0.150728 </td><td style=\"text-align: right;\">-0.0227012</td><td style=\"text-align: right;\">-0.126916 </td><td style=\"text-align: right;\">0.332035</td><td style=\"text-align: right;\"> 0.00317156</td><td style=\"text-align: right;\">-0.0892141 </td><td style=\"text-align: right;\">-0.0327014</td><td style=\"text-align: right;\"> 0.00534479</td><td style=\"text-align: right;\">-0.230345 </td><td style=\"text-align: right;\">-0.161437  </td><td style=\"text-align: right;\">-0.124998 </td><td style=\"text-align: right;\">0.0762195</td><td style=\"text-align: right;\">-0.0278162</td><td style=\"text-align: right;\">-0.0152363  </td><td style=\"text-align: right;\"> 0.166046 </td><td style=\"text-align: right;\"> 0.194541 </td><td style=\"text-align: right;\"> 0.0216267 </td><td style=\"text-align: right;\"> 0.107801 </td><td style=\"text-align: right;\">0.069218 </td><td style=\"text-align: right;\"> 0.0723757 </td><td style=\"text-align: right;\"> 0.0230233 </td><td style=\"text-align: right;\">-0.171887  </td><td style=\"text-align: right;\"> 0.113961 </td><td style=\"text-align: right;\">-0.132999  </td><td style=\"text-align: right;\">-0.0376083 </td><td style=\"text-align: right;\"> 0.0634028</td><td style=\"text-align: right;\"> 0.0769058</td><td style=\"text-align: right;\"> 0.0610215</td><td style=\"text-align: right;\">-0.262454</td><td style=\"text-align: right;\">-0.0344054</td><td style=\"text-align: right;\">-0.0629343 </td><td style=\"text-align: right;\">-0.0685852</td><td style=\"text-align: right;\"> 0.0339126</td><td style=\"text-align: right;\"> 0.0498633</td><td style=\"text-align: right;\">-0.176924   </td><td style=\"text-align: right;\"> 0.0234807</td><td style=\"text-align: right;\"> 0.0368309</td><td style=\"text-align: right;\">-0.0930659</td><td style=\"text-align: right;\">-0.0179343</td><td style=\"text-align: right;\"> 0.0029895</td><td style=\"text-align: right;\">-0.00474272</td><td style=\"text-align: right;\"> 0.0397404</td><td style=\"text-align: right;\">-0.0251717 </td><td style=\"text-align: right;\"> 0.0215008</td><td style=\"text-align: right;\"> 0.0112809 </td><td style=\"text-align: right;\">-0.0376371  </td><td style=\"text-align: right;\"> 0.123413  </td><td style=\"text-align: right;\">-0.0717533 </td><td style=\"text-align: right;\">-0.012176  </td><td style=\"text-align: right;\">-0.00453512</td><td style=\"text-align: right;\"> 0.0747839 </td><td style=\"text-align: right;\">-0.162901  </td><td style=\"text-align: right;\">-0.0174449 </td><td style=\"text-align: right;\">-0.00470335</td><td style=\"text-align: right;\"> 0.000833064</td><td style=\"text-align: right;\"> 0.102376  </td><td style=\"text-align: right;\">-0.0908449 </td><td style=\"text-align: right;\"> 0.00398846</td><td style=\"text-align: right;\"> 0.0985556  </td><td style=\"text-align: right;\"> 0.0454526</td><td style=\"text-align: right;\"> 0.0926109 </td></tr>\n",
       "<tr><td style=\"text-align: right;\"> 0.0229033</td><td style=\"text-align: right;\">-0.0383479 </td><td style=\"text-align: right;\">-0.235941</td><td style=\"text-align: right;\">-0.00628142</td><td style=\"text-align: right;\">-0.108012  </td><td style=\"text-align: right;\">-0.16273   </td><td style=\"text-align: right;\">-0.0930555 </td><td style=\"text-align: right;\">-0.227644 </td><td style=\"text-align: right;\">-0.054304   </td><td style=\"text-align: right;\"> 0.086074  </td><td style=\"text-align: right;\">0.0161217 </td><td style=\"text-align: right;\">-0.130554  </td><td style=\"text-align: right;\">-0.0120686</td><td style=\"text-align: right;\"> 0.0649465 </td><td style=\"text-align: right;\">-0.0398507 </td><td style=\"text-align: right;\"> 0.0182552  </td><td style=\"text-align: right;\"> 0.0593283</td><td style=\"text-align: right;\">-0.0238031</td><td style=\"text-align: right;\">-0.0996651</td><td style=\"text-align: right;\">-0.139917  </td><td style=\"text-align: right;\">0.0548215</td><td style=\"text-align: right;\">-0.0966993</td><td style=\"text-align: right;\"> 0.108412  </td><td style=\"text-align: right;\"> 0.0244212</td><td style=\"text-align: right;\"> 0.116094 </td><td style=\"text-align: right;\">0.0173106</td><td style=\"text-align: right;\"> 0.0355023 </td><td style=\"text-align: right;\">-0.131888 </td><td style=\"text-align: right;\"> 0.0751265</td><td style=\"text-align: right;\"> 0.0998722  </td><td style=\"text-align: right;\">-0.0126254 </td><td style=\"text-align: right;\"> 0.158659 </td><td style=\"text-align: right;\"> 0.210877 </td><td style=\"text-align: right;\">-0.132416 </td><td style=\"text-align: right;\">-0.0945701 </td><td style=\"text-align: right;\">-0.150183  </td><td style=\"text-align: right;\">-0.0547581</td><td style=\"text-align: right;\"> 0.0129578 </td><td style=\"text-align: right;\">-0.0276197</td><td style=\"text-align: right;\">-0.155504 </td><td style=\"text-align: right;\">-0.0112773</td><td style=\"text-align: right;\">-0.0928299</td><td style=\"text-align: right;\">0.358211</td><td style=\"text-align: right;\">-0.0292633 </td><td style=\"text-align: right;\"> 0.001376  </td><td style=\"text-align: right;\">-0.108603 </td><td style=\"text-align: right;\">-0.0347842 </td><td style=\"text-align: right;\">-0.0544496</td><td style=\"text-align: right;\">-0.0616465 </td><td style=\"text-align: right;\">-0.0157592</td><td style=\"text-align: right;\">0.18491  </td><td style=\"text-align: right;\">-0.0877766</td><td style=\"text-align: right;\">-0.0765458  </td><td style=\"text-align: right;\"> 0.245056 </td><td style=\"text-align: right;\"> 0.0249016</td><td style=\"text-align: right;\"> 0.0110693 </td><td style=\"text-align: right;\">-0.0167057</td><td style=\"text-align: right;\">0.0419912</td><td style=\"text-align: right;\"> 0.0138712 </td><td style=\"text-align: right;\">-0.0410269 </td><td style=\"text-align: right;\">-0.11771   </td><td style=\"text-align: right;\"> 0.128043 </td><td style=\"text-align: right;\"> 0.00795653</td><td style=\"text-align: right;\">-0.174417  </td><td style=\"text-align: right;\">-0.0733701</td><td style=\"text-align: right;\"> 0.0508918</td><td style=\"text-align: right;\">-0.0202622</td><td style=\"text-align: right;\">-0.242431</td><td style=\"text-align: right;\">-0.0911871</td><td style=\"text-align: right;\">-0.00293087</td><td style=\"text-align: right;\"> 0.0507957</td><td style=\"text-align: right;\">-0.0932019</td><td style=\"text-align: right;\"> 0.0788935</td><td style=\"text-align: right;\">-9.74121e-05</td><td style=\"text-align: right;\">-0.0677081</td><td style=\"text-align: right;\"> 0.0772903</td><td style=\"text-align: right;\">-0.113694 </td><td style=\"text-align: right;\"> 0.133857 </td><td style=\"text-align: right;\">-0.0678513</td><td style=\"text-align: right;\">-0.0517511 </td><td style=\"text-align: right;\"> 0.0854642</td><td style=\"text-align: right;\"> 0.0678262 </td><td style=\"text-align: right;\"> 0.0928278</td><td style=\"text-align: right;\">-0.0659652 </td><td style=\"text-align: right;\">-0.103263   </td><td style=\"text-align: right;\"> 0.0199658 </td><td style=\"text-align: right;\"> 0.154267  </td><td style=\"text-align: right;\"> 0.14895   </td><td style=\"text-align: right;\"> 0.0305986 </td><td style=\"text-align: right;\">-0.0287569 </td><td style=\"text-align: right;\">-0.138725  </td><td style=\"text-align: right;\">-0.041524  </td><td style=\"text-align: right;\">-0.0228417 </td><td style=\"text-align: right;\"> 0.110908   </td><td style=\"text-align: right;\">-0.0224384 </td><td style=\"text-align: right;\"> 0.106835  </td><td style=\"text-align: right;\"> 0.0399244 </td><td style=\"text-align: right;\"> 0.000167542</td><td style=\"text-align: right;\">-0.0170651</td><td style=\"text-align: right;\"> 0.0709032 </td></tr>\n",
       "<tr><td style=\"text-align: right;\">-0.0408044</td><td style=\"text-align: right;\"> 0.00534534</td><td style=\"text-align: right;\">-0.149217</td><td style=\"text-align: right;\">-0.0392034 </td><td style=\"text-align: right;\">-0.0737402 </td><td style=\"text-align: right;\">-0.203043  </td><td style=\"text-align: right;\">-0.0601094 </td><td style=\"text-align: right;\">-0.123696 </td><td style=\"text-align: right;\"> 0.0183547  </td><td style=\"text-align: right;\">-0.0273425 </td><td style=\"text-align: right;\">0.0102498 </td><td style=\"text-align: right;\">-0.106044  </td><td style=\"text-align: right;\">-0.064705 </td><td style=\"text-align: right;\">-0.0542909 </td><td style=\"text-align: right;\"> 0.0154315 </td><td style=\"text-align: right;\"> 0.0463474  </td><td style=\"text-align: right;\"> 0.145281 </td><td style=\"text-align: right;\">-0.10331  </td><td style=\"text-align: right;\">-0.126565 </td><td style=\"text-align: right;\">-0.134944  </td><td style=\"text-align: right;\">0.113411 </td><td style=\"text-align: right;\">-0.118702 </td><td style=\"text-align: right;\"> 0.104979  </td><td style=\"text-align: right;\"> 0.0569735</td><td style=\"text-align: right;\"> 0.0148851</td><td style=\"text-align: right;\">0.121979 </td><td style=\"text-align: right;\"> 0.0356086 </td><td style=\"text-align: right;\">-0.113453 </td><td style=\"text-align: right;\">-0.0378326</td><td style=\"text-align: right;\"> 0.101894   </td><td style=\"text-align: right;\">-0.00224708</td><td style=\"text-align: right;\"> 0.140123 </td><td style=\"text-align: right;\"> 0.146947 </td><td style=\"text-align: right;\">-0.0351911</td><td style=\"text-align: right;\">-0.108879  </td><td style=\"text-align: right;\">-0.142485  </td><td style=\"text-align: right;\">-0.16659  </td><td style=\"text-align: right;\"> 0.0223244 </td><td style=\"text-align: right;\">-0.0978159</td><td style=\"text-align: right;\">-0.208017 </td><td style=\"text-align: right;\">-0.105551 </td><td style=\"text-align: right;\">-0.215459 </td><td style=\"text-align: right;\">0.288675</td><td style=\"text-align: right;\"> 0.0332526 </td><td style=\"text-align: right;\">-0.00398023</td><td style=\"text-align: right;\"> 0.027092 </td><td style=\"text-align: right;\">-0.0566591 </td><td style=\"text-align: right;\">-0.0680835</td><td style=\"text-align: right;\">-0.0976755 </td><td style=\"text-align: right;\"> 0.031603 </td><td style=\"text-align: right;\">0.110141 </td><td style=\"text-align: right;\">-0.034324 </td><td style=\"text-align: right;\">-0.0316985  </td><td style=\"text-align: right;\"> 0.237556 </td><td style=\"text-align: right;\"> 0.189235 </td><td style=\"text-align: right;\"> 0.0124858 </td><td style=\"text-align: right;\">-0.0105594</td><td style=\"text-align: right;\">0.0192203</td><td style=\"text-align: right;\"> 0.00680743</td><td style=\"text-align: right;\">-0.00760921</td><td style=\"text-align: right;\">-0.128461  </td><td style=\"text-align: right;\"> 0.0942574</td><td style=\"text-align: right;\"> 0.0287262 </td><td style=\"text-align: right;\">-0.0278586 </td><td style=\"text-align: right;\">-0.111225 </td><td style=\"text-align: right;\"> 0.0468216</td><td style=\"text-align: right;\"> 0.0684989</td><td style=\"text-align: right;\">-0.267214</td><td style=\"text-align: right;\">-0.0733561</td><td style=\"text-align: right;\">-0.0565317 </td><td style=\"text-align: right;\"> 0.152943 </td><td style=\"text-align: right;\">-0.158087 </td><td style=\"text-align: right;\"> 0.0407203</td><td style=\"text-align: right;\">-0.047683   </td><td style=\"text-align: right;\">-0.0710041</td><td style=\"text-align: right;\">-0.0239306</td><td style=\"text-align: right;\">-0.0140666</td><td style=\"text-align: right;\"> 0.113405 </td><td style=\"text-align: right;\"> 0.0642258</td><td style=\"text-align: right;\">-0.178372  </td><td style=\"text-align: right;\"> 0.0100776</td><td style=\"text-align: right;\"> 0.0227245 </td><td style=\"text-align: right;\">-0.0583952</td><td style=\"text-align: right;\"> 0.00194219</td><td style=\"text-align: right;\">-0.15507    </td><td style=\"text-align: right;\">-0.00738895</td><td style=\"text-align: right;\"> 0.0565385 </td><td style=\"text-align: right;\">-0.0231952 </td><td style=\"text-align: right;\">-0.0172698 </td><td style=\"text-align: right;\"> 0.0997247 </td><td style=\"text-align: right;\">-0.146459  </td><td style=\"text-align: right;\">-0.03815   </td><td style=\"text-align: right;\">-0.0797463 </td><td style=\"text-align: right;\"> 0.0402539  </td><td style=\"text-align: right;\">-0.0214083 </td><td style=\"text-align: right;\">-0.0330251 </td><td style=\"text-align: right;\"> 0.0274233 </td><td style=\"text-align: right;\"> 0.0641526  </td><td style=\"text-align: right;\"> 0.079463 </td><td style=\"text-align: right;\"> 0.0523551 </td></tr>\n",
       "<tr><td style=\"text-align: right;\"> 0.0357224</td><td style=\"text-align: right;\">-0.134095  </td><td style=\"text-align: right;\">-0.185217</td><td style=\"text-align: right;\"> 0.0564457 </td><td style=\"text-align: right;\"> 0.032734  </td><td style=\"text-align: right;\"> 0.00170577</td><td style=\"text-align: right;\"> 0.101513  </td><td style=\"text-align: right;\"> 0.0106464</td><td style=\"text-align: right;\">-0.000230516</td><td style=\"text-align: right;\">-0.094128  </td><td style=\"text-align: right;\">0.00233526</td><td style=\"text-align: right;\">-0.048245  </td><td style=\"text-align: right;\">-0.117383 </td><td style=\"text-align: right;\"> 0.0546666 </td><td style=\"text-align: right;\">-0.0128754 </td><td style=\"text-align: right;\">-0.0117854  </td><td style=\"text-align: right;\"> 0.0543405</td><td style=\"text-align: right;\">-0.105763 </td><td style=\"text-align: right;\">-0.0541306</td><td style=\"text-align: right;\">-0.0936812 </td><td style=\"text-align: right;\">0.164822 </td><td style=\"text-align: right;\">-0.148063 </td><td style=\"text-align: right;\"> 0.0658127 </td><td style=\"text-align: right;\"> 0.0120412</td><td style=\"text-align: right;\"> 0.103973 </td><td style=\"text-align: right;\">0.13105  </td><td style=\"text-align: right;\"> 0.0507144 </td><td style=\"text-align: right;\">-0.145455 </td><td style=\"text-align: right;\">-0.0700184</td><td style=\"text-align: right;\"> 0.0803493  </td><td style=\"text-align: right;\">-0.0298913 </td><td style=\"text-align: right;\"> 0.233922 </td><td style=\"text-align: right;\"> 0.25314  </td><td style=\"text-align: right;\">-0.0642739</td><td style=\"text-align: right;\">-0.219351  </td><td style=\"text-align: right;\">-0.0342955 </td><td style=\"text-align: right;\">-0.0477652</td><td style=\"text-align: right;\"> 0.0106008 </td><td style=\"text-align: right;\">-0.0958075</td><td style=\"text-align: right;\">-0.19336  </td><td style=\"text-align: right;\"> 0.0380209</td><td style=\"text-align: right;\">-0.152998 </td><td style=\"text-align: right;\">0.344935</td><td style=\"text-align: right;\">-0.0257409 </td><td style=\"text-align: right;\">-0.0599909 </td><td style=\"text-align: right;\">-0.0672067</td><td style=\"text-align: right;\">-0.00575537</td><td style=\"text-align: right;\">-0.0528744</td><td style=\"text-align: right;\">-0.0969013 </td><td style=\"text-align: right;\">-0.0420155</td><td style=\"text-align: right;\">0.143586 </td><td style=\"text-align: right;\">-0.0441774</td><td style=\"text-align: right;\">-0.117502   </td><td style=\"text-align: right;\"> 0.270775 </td><td style=\"text-align: right;\"> 0.0116935</td><td style=\"text-align: right;\"> 0.0356863 </td><td style=\"text-align: right;\"> 0.012111 </td><td style=\"text-align: right;\">0.0889657</td><td style=\"text-align: right;\"> 0.00890593</td><td style=\"text-align: right;\">-0.121517  </td><td style=\"text-align: right;\">-0.166578  </td><td style=\"text-align: right;\"> 0.133986 </td><td style=\"text-align: right;\"> 0.0170703 </td><td style=\"text-align: right;\">-0.0862001 </td><td style=\"text-align: right;\">-0.0296236</td><td style=\"text-align: right;\"> 0.0228841</td><td style=\"text-align: right;\"> 0.0575305</td><td style=\"text-align: right;\">-0.24903 </td><td style=\"text-align: right;\">-0.047529 </td><td style=\"text-align: right;\">-0.014718  </td><td style=\"text-align: right;\"> 0.070244 </td><td style=\"text-align: right;\">-0.0797447</td><td style=\"text-align: right;\"> 0.178092 </td><td style=\"text-align: right;\">-0.0165191  </td><td style=\"text-align: right;\">-0.0941531</td><td style=\"text-align: right;\"> 0.0414046</td><td style=\"text-align: right;\">-0.018394 </td><td style=\"text-align: right;\"> 0.219979 </td><td style=\"text-align: right;\"> 0.0095629</td><td style=\"text-align: right;\">-0.0803498 </td><td style=\"text-align: right;\"> 0.0973425</td><td style=\"text-align: right;\"> 0.0827173 </td><td style=\"text-align: right;\">-0.0132983</td><td style=\"text-align: right;\">-0.100877  </td><td style=\"text-align: right;\">-0.171169   </td><td style=\"text-align: right;\"> 0.0905771 </td><td style=\"text-align: right;\"> 0.106309  </td><td style=\"text-align: right;\"> 0.0917762 </td><td style=\"text-align: right;\"> 0.034006  </td><td style=\"text-align: right;\"> 0.0809867 </td><td style=\"text-align: right;\">-0.145135  </td><td style=\"text-align: right;\">-0.0129043 </td><td style=\"text-align: right;\">-0.00342023</td><td style=\"text-align: right;\">-0.0609291  </td><td style=\"text-align: right;\"> 0.0271961 </td><td style=\"text-align: right;\">-0.00855305</td><td style=\"text-align: right;\"> 0.046094  </td><td style=\"text-align: right;\"> 0.080854   </td><td style=\"text-align: right;\"> 0.0239093</td><td style=\"text-align: right;\"> 0.0657061 </td></tr>\n",
       "<tr><td style=\"text-align: right;\"> 0.0223595</td><td style=\"text-align: right;\"> 0.125069  </td><td style=\"text-align: right;\">-0.382504</td><td style=\"text-align: right;\"> 0.0651371 </td><td style=\"text-align: right;\">-0.057627  </td><td style=\"text-align: right;\">-0.0701252 </td><td style=\"text-align: right;\">-0.155167  </td><td style=\"text-align: right;\">-0.206443 </td><td style=\"text-align: right;\"> 0.0405931  </td><td style=\"text-align: right;\"> 0.0551275 </td><td style=\"text-align: right;\">0.152243  </td><td style=\"text-align: right;\"> 0.158913  </td><td style=\"text-align: right;\">-0.167805 </td><td style=\"text-align: right;\"> 0.0369742 </td><td style=\"text-align: right;\"> 0.0821456 </td><td style=\"text-align: right;\"> 0.0702887  </td><td style=\"text-align: right;\">-0.0287368</td><td style=\"text-align: right;\">-0.109594 </td><td style=\"text-align: right;\">-0.0397383</td><td style=\"text-align: right;\">-0.0361775 </td><td style=\"text-align: right;\">0.281745 </td><td style=\"text-align: right;\">-0.0885259</td><td style=\"text-align: right;\"> 0.0855546 </td><td style=\"text-align: right;\">-0.141804 </td><td style=\"text-align: right;\">-0.0822434</td><td style=\"text-align: right;\">0.0757616</td><td style=\"text-align: right;\">-0.118893  </td><td style=\"text-align: right;\"> 0.151041 </td><td style=\"text-align: right;\"> 0.0786296</td><td style=\"text-align: right;\"> 0.0861953  </td><td style=\"text-align: right;\"> 0.00722496</td><td style=\"text-align: right;\">-0.0226149</td><td style=\"text-align: right;\"> 0.144604 </td><td style=\"text-align: right;\">-0.0130007</td><td style=\"text-align: right;\">-0.129521  </td><td style=\"text-align: right;\">-0.0486548 </td><td style=\"text-align: right;\">-0.0400104</td><td style=\"text-align: right;\">-0.0317363 </td><td style=\"text-align: right;\">-0.0571066</td><td style=\"text-align: right;\">-0.1362   </td><td style=\"text-align: right;\">-0.0842629</td><td style=\"text-align: right;\">-0.13285  </td><td style=\"text-align: right;\">0.378094</td><td style=\"text-align: right;\"> 0.00306563</td><td style=\"text-align: right;\"> 0.0435488 </td><td style=\"text-align: right;\">-0.102372 </td><td style=\"text-align: right;\">-0.0864265 </td><td style=\"text-align: right;\">-0.243767 </td><td style=\"text-align: right;\">-0.108405  </td><td style=\"text-align: right;\">-0.134946 </td><td style=\"text-align: right;\">0.296597 </td><td style=\"text-align: right;\"> 0.0631557</td><td style=\"text-align: right;\">-0.0684372  </td><td style=\"text-align: right;\"> 0.0977696</td><td style=\"text-align: right;\">-0.0155801</td><td style=\"text-align: right;\">-0.0632162 </td><td style=\"text-align: right;\"> 0.147818 </td><td style=\"text-align: right;\">0.0298866</td><td style=\"text-align: right;\"> 0.16459   </td><td style=\"text-align: right;\">-0.0314262 </td><td style=\"text-align: right;\">-0.00922345</td><td style=\"text-align: right;\"> 0.0390935</td><td style=\"text-align: right;\">-0.123099  </td><td style=\"text-align: right;\">-0.00385296</td><td style=\"text-align: right;\"> 0.0655119</td><td style=\"text-align: right;\"> 0.0198229</td><td style=\"text-align: right;\">-0.162433 </td><td style=\"text-align: right;\">-0.219133</td><td style=\"text-align: right;\">-0.214482 </td><td style=\"text-align: right;\"> 0.00982323</td><td style=\"text-align: right;\"> 0.0845429</td><td style=\"text-align: right;\">-0.0892709</td><td style=\"text-align: right;\"> 0.096287 </td><td style=\"text-align: right;\">-0.192572   </td><td style=\"text-align: right;\">-0.139344 </td><td style=\"text-align: right;\"> 0.105471 </td><td style=\"text-align: right;\">-0.0346675</td><td style=\"text-align: right;\"> 0.0933607</td><td style=\"text-align: right;\"> 0.14673  </td><td style=\"text-align: right;\"> 0.0251123 </td><td style=\"text-align: right;\">-0.106251 </td><td style=\"text-align: right;\"> 0.0301022 </td><td style=\"text-align: right;\"> 0.0167097</td><td style=\"text-align: right;\">-0.0888321 </td><td style=\"text-align: right;\">-0.0112061  </td><td style=\"text-align: right;\"> 0.0487957 </td><td style=\"text-align: right;\"> 0.0779712 </td><td style=\"text-align: right;\">-0.0212556 </td><td style=\"text-align: right;\">-0.16228   </td><td style=\"text-align: right;\"> 0.011542  </td><td style=\"text-align: right;\">-0.138058  </td><td style=\"text-align: right;\"> 0.00219173</td><td style=\"text-align: right;\">-0.113481  </td><td style=\"text-align: right;\">-0.0129382  </td><td style=\"text-align: right;\">-0.0549809 </td><td style=\"text-align: right;\"> 0.0133229 </td><td style=\"text-align: right;\">-0.0427    </td><td style=\"text-align: right;\">-0.0369046  </td><td style=\"text-align: right;\"> 0.0145088</td><td style=\"text-align: right;\"> 0.103837  </td></tr>\n",
       "<tr><td style=\"text-align: right;\"> 0.0448412</td><td style=\"text-align: right;\">-0.0476429 </td><td style=\"text-align: right;\">-0.186415</td><td style=\"text-align: right;\">-0.00220942</td><td style=\"text-align: right;\">-0.0940152 </td><td style=\"text-align: right;\">-0.0131385 </td><td style=\"text-align: right;\">-0.0335396 </td><td style=\"text-align: right;\">-0.350839 </td><td style=\"text-align: right;\">-0.0662331  </td><td style=\"text-align: right;\"> 0.0142652 </td><td style=\"text-align: right;\">0.126124  </td><td style=\"text-align: right;\">-0.0552659 </td><td style=\"text-align: right;\"> 0.086792 </td><td style=\"text-align: right;\"> 0.00263345</td><td style=\"text-align: right;\"> 0.0646397 </td><td style=\"text-align: right;\"> 0.020087   </td><td style=\"text-align: right;\"> 0.118221 </td><td style=\"text-align: right;\">-0.0446262</td><td style=\"text-align: right;\">-0.0906649</td><td style=\"text-align: right;\">-0.00937943</td><td style=\"text-align: right;\">0.260921 </td><td style=\"text-align: right;\">-0.0207926</td><td style=\"text-align: right;\"> 0.0865668 </td><td style=\"text-align: right;\"> 0.156338 </td><td style=\"text-align: right;\">-0.0167095</td><td style=\"text-align: right;\">0.0914956</td><td style=\"text-align: right;\"> 0.0952771 </td><td style=\"text-align: right;\"> 0.0338223</td><td style=\"text-align: right;\">-0.132523 </td><td style=\"text-align: right;\">-0.000699826</td><td style=\"text-align: right;\"> 0.186676  </td><td style=\"text-align: right;\"> 0.0603707</td><td style=\"text-align: right;\"> 0.182343 </td><td style=\"text-align: right;\"> 0.049142 </td><td style=\"text-align: right;\">-0.0436754 </td><td style=\"text-align: right;\">-0.0536912 </td><td style=\"text-align: right;\">-0.0879831</td><td style=\"text-align: right;\">-0.103264  </td><td style=\"text-align: right;\">-0.176473 </td><td style=\"text-align: right;\">-0.143173 </td><td style=\"text-align: right;\">-0.0790891</td><td style=\"text-align: right;\">-0.147924 </td><td style=\"text-align: right;\">0.291846</td><td style=\"text-align: right;\"> 0.0296503 </td><td style=\"text-align: right;\">-0.0932164 </td><td style=\"text-align: right;\">-0.1054   </td><td style=\"text-align: right;\">-0.0341788 </td><td style=\"text-align: right;\">-0.0249207</td><td style=\"text-align: right;\">-0.0614498 </td><td style=\"text-align: right;\">-0.15766  </td><td style=\"text-align: right;\">0.0326488</td><td style=\"text-align: right;\">-0.0578968</td><td style=\"text-align: right;\">-0.0326773  </td><td style=\"text-align: right;\"> 0.289215 </td><td style=\"text-align: right;\"> 0.0185659</td><td style=\"text-align: right;\">-0.233012  </td><td style=\"text-align: right;\">-0.0224482</td><td style=\"text-align: right;\">0.130326 </td><td style=\"text-align: right;\"> 0.140569  </td><td style=\"text-align: right;\"> 0.0554994 </td><td style=\"text-align: right;\">-0.0279048 </td><td style=\"text-align: right;\"> 0.107316 </td><td style=\"text-align: right;\">-0.0675794 </td><td style=\"text-align: right;\"> 0.0455235 </td><td style=\"text-align: right;\"> 0.109386 </td><td style=\"text-align: right;\">-0.0792623</td><td style=\"text-align: right;\"> 0.0865574</td><td style=\"text-align: right;\">-0.241729</td><td style=\"text-align: right;\">-0.012334 </td><td style=\"text-align: right;\">-0.144368  </td><td style=\"text-align: right;\">-0.111863 </td><td style=\"text-align: right;\">-0.132076 </td><td style=\"text-align: right;\"> 0.0939814</td><td style=\"text-align: right;\">-0.0242736  </td><td style=\"text-align: right;\"> 0.0914746</td><td style=\"text-align: right;\"> 0.172752 </td><td style=\"text-align: right;\"> 0.0629336</td><td style=\"text-align: right;\"> 0.118462 </td><td style=\"text-align: right;\"> 0.0150381</td><td style=\"text-align: right;\">-0.112726  </td><td style=\"text-align: right;\"> 0.0167118</td><td style=\"text-align: right;\"> 0.0575362 </td><td style=\"text-align: right;\">-0.0394108</td><td style=\"text-align: right;\"> 0.0103277 </td><td style=\"text-align: right;\">-0.0914188  </td><td style=\"text-align: right;\">-0.0239616 </td><td style=\"text-align: right;\">-0.0339431 </td><td style=\"text-align: right;\"> 0.0685317 </td><td style=\"text-align: right;\"> 0.0818669 </td><td style=\"text-align: right;\"> 0.0533108 </td><td style=\"text-align: right;\"> 0.0342382 </td><td style=\"text-align: right;\">-0.0163481 </td><td style=\"text-align: right;\"> 0.0725902 </td><td style=\"text-align: right;\"> 0.00509813 </td><td style=\"text-align: right;\">-0.00578558</td><td style=\"text-align: right;\">-0.108375  </td><td style=\"text-align: right;\">-0.0282949 </td><td style=\"text-align: right;\"> 0.15161    </td><td style=\"text-align: right;\">-0.105843 </td><td style=\"text-align: right;\"> 0.0877329 </td></tr>\n",
       "<tr><td style=\"text-align: right;\">-0.0976499</td><td style=\"text-align: right;\"> 0.0928867 </td><td style=\"text-align: right;\">-0.188709</td><td style=\"text-align: right;\">-0.0343443 </td><td style=\"text-align: right;\">-0.115367  </td><td style=\"text-align: right;\">-0.0565477 </td><td style=\"text-align: right;\">-0.0452893 </td><td style=\"text-align: right;\">-0.316537 </td><td style=\"text-align: right;\">-0.00247016 </td><td style=\"text-align: right;\"> 0.0818215 </td><td style=\"text-align: right;\">0.154491  </td><td style=\"text-align: right;\"> 0.089445  </td><td style=\"text-align: right;\">-0.0935965</td><td style=\"text-align: right;\">-0.0664969 </td><td style=\"text-align: right;\">-0.00862147</td><td style=\"text-align: right;\"> 0.117262   </td><td style=\"text-align: right;\"> 0.139167 </td><td style=\"text-align: right;\">-0.16077  </td><td style=\"text-align: right;\">-0.0498534</td><td style=\"text-align: right;\">-0.0374329 </td><td style=\"text-align: right;\">0.245503 </td><td style=\"text-align: right;\">-0.0155121</td><td style=\"text-align: right;\"> 0.0474893 </td><td style=\"text-align: right;\"> 0.057267 </td><td style=\"text-align: right;\"> 0.0404606</td><td style=\"text-align: right;\">0.144507 </td><td style=\"text-align: right;\">-0.00544129</td><td style=\"text-align: right;\"> 0.0784351</td><td style=\"text-align: right;\"> 0.0118146</td><td style=\"text-align: right;\"> 0.0240511  </td><td style=\"text-align: right;\"> 0.074916  </td><td style=\"text-align: right;\"> 0.093901 </td><td style=\"text-align: right;\"> 0.20515  </td><td style=\"text-align: right;\">-0.0114793</td><td style=\"text-align: right;\">-0.060249  </td><td style=\"text-align: right;\"> 0.0234616 </td><td style=\"text-align: right;\">-0.093037 </td><td style=\"text-align: right;\"> 0.101951  </td><td style=\"text-align: right;\">-0.0451957</td><td style=\"text-align: right;\">-0.0819232</td><td style=\"text-align: right;\">-0.0189872</td><td style=\"text-align: right;\">-0.11966  </td><td style=\"text-align: right;\">0.264157</td><td style=\"text-align: right;\"> 0.00147817</td><td style=\"text-align: right;\">-0.0384396 </td><td style=\"text-align: right;\">-0.174186 </td><td style=\"text-align: right;\"> 0.0342436 </td><td style=\"text-align: right;\">-0.188023 </td><td style=\"text-align: right;\">-0.0410569 </td><td style=\"text-align: right;\">-0.0159072</td><td style=\"text-align: right;\">0.222143 </td><td style=\"text-align: right;\"> 0.0739884</td><td style=\"text-align: right;\"> 0.000110343</td><td style=\"text-align: right;\"> 0.242549 </td><td style=\"text-align: right;\"> 0.0575442</td><td style=\"text-align: right;\"> 0.00732611</td><td style=\"text-align: right;\"> 0.107983 </td><td style=\"text-align: right;\">0.0228522</td><td style=\"text-align: right;\">-0.0254611 </td><td style=\"text-align: right;\">-0.0145961 </td><td style=\"text-align: right;\">-0.0995611 </td><td style=\"text-align: right;\"> 0.0442335</td><td style=\"text-align: right;\">-0.0930502 </td><td style=\"text-align: right;\">-0.119422  </td><td style=\"text-align: right;\"> 0.043879 </td><td style=\"text-align: right;\">-0.0301636</td><td style=\"text-align: right;\">-0.0830875</td><td style=\"text-align: right;\">-0.251222</td><td style=\"text-align: right;\">-0.161679 </td><td style=\"text-align: right;\">-0.0210976 </td><td style=\"text-align: right;\"> 0.0593039</td><td style=\"text-align: right;\">-0.034564 </td><td style=\"text-align: right;\"> 0.0144057</td><td style=\"text-align: right;\">-0.126728   </td><td style=\"text-align: right;\">-0.0400989</td><td style=\"text-align: right;\"> 0.0693146</td><td style=\"text-align: right;\">-0.0578429</td><td style=\"text-align: right;\"> 0.04852  </td><td style=\"text-align: right;\"> 0.0375759</td><td style=\"text-align: right;\"> 0.0362746 </td><td style=\"text-align: right;\">-0.0436104</td><td style=\"text-align: right;\"> 0.0538242 </td><td style=\"text-align: right;\"> 0.0605909</td><td style=\"text-align: right;\">-0.0459263 </td><td style=\"text-align: right;\"> 0.000160545</td><td style=\"text-align: right;\"> 0.0291374 </td><td style=\"text-align: right;\">-0.00347227</td><td style=\"text-align: right;\"> 0.0402214 </td><td style=\"text-align: right;\"> 0.0179974 </td><td style=\"text-align: right;\">-0.00282307</td><td style=\"text-align: right;\">-0.174762  </td><td style=\"text-align: right;\"> 0.00445953</td><td style=\"text-align: right;\">-0.0730511 </td><td style=\"text-align: right;\"> 0.0607828  </td><td style=\"text-align: right;\"> 0.0235666 </td><td style=\"text-align: right;\">-0.0580233 </td><td style=\"text-align: right;\">-0.030654  </td><td style=\"text-align: right;\"> 0.0845437  </td><td style=\"text-align: right;\"> 0.0364399</td><td style=\"text-align: right;\">-0.00770923</td></tr>\n",
       "<tr><td style=\"text-align: right;\">-0.0396674</td><td style=\"text-align: right;\"> 0.0669367 </td><td style=\"text-align: right;\">-0.188331</td><td style=\"text-align: right;\">-0.0133452 </td><td style=\"text-align: right;\">-0.116107  </td><td style=\"text-align: right;\">-0.116104  </td><td style=\"text-align: right;\">-0.0757579 </td><td style=\"text-align: right;\">-0.168592 </td><td style=\"text-align: right;\">-0.0784774  </td><td style=\"text-align: right;\"> 0.073105  </td><td style=\"text-align: right;\">0.0890591 </td><td style=\"text-align: right;\"> 0.00055102</td><td style=\"text-align: right;\">-0.122876 </td><td style=\"text-align: right;\"> 0.0509767 </td><td style=\"text-align: right;\"> 0.13075   </td><td style=\"text-align: right;\"> 0.0581217  </td><td style=\"text-align: right;\"> 0.0790907</td><td style=\"text-align: right;\">-0.0644728</td><td style=\"text-align: right;\"> 0.0402074</td><td style=\"text-align: right;\">-0.101344  </td><td style=\"text-align: right;\">0.182346 </td><td style=\"text-align: right;\">-0.0950444</td><td style=\"text-align: right;\"> 0.0802928 </td><td style=\"text-align: right;\"> 0.0909084</td><td style=\"text-align: right;\"> 0.0223064</td><td style=\"text-align: right;\">0.140229 </td><td style=\"text-align: right;\"> 0.0632622 </td><td style=\"text-align: right;\"> 0.0275923</td><td style=\"text-align: right;\">-0.118458 </td><td style=\"text-align: right;\"> 0.107777   </td><td style=\"text-align: right;\"> 0.110341  </td><td style=\"text-align: right;\"> 0.0473317</td><td style=\"text-align: right;\"> 0.136259 </td><td style=\"text-align: right;\">-0.142331 </td><td style=\"text-align: right;\">-0.0616305 </td><td style=\"text-align: right;\">-0.0429651 </td><td style=\"text-align: right;\">-0.102138 </td><td style=\"text-align: right;\"> 0.0101782 </td><td style=\"text-align: right;\">-0.0406132</td><td style=\"text-align: right;\">-0.17556  </td><td style=\"text-align: right;\"> 0.0566252</td><td style=\"text-align: right;\">-0.0856656</td><td style=\"text-align: right;\">0.303915</td><td style=\"text-align: right;\"> 0.0624674 </td><td style=\"text-align: right;\"> 0.0597153 </td><td style=\"text-align: right;\">-0.0676215</td><td style=\"text-align: right;\">-0.0151962 </td><td style=\"text-align: right;\">-0.17929  </td><td style=\"text-align: right;\">-0.00992614</td><td style=\"text-align: right;\"> 0.024517 </td><td style=\"text-align: right;\">0.320704 </td><td style=\"text-align: right;\">-0.074872 </td><td style=\"text-align: right;\"> 0.00632674 </td><td style=\"text-align: right;\"> 0.135894 </td><td style=\"text-align: right;\">-0.0398594</td><td style=\"text-align: right;\"> 0.110692  </td><td style=\"text-align: right;\"> 0.0857114</td><td style=\"text-align: right;\">0.0851561</td><td style=\"text-align: right;\"> 0.0477675 </td><td style=\"text-align: right;\">-0.0431947 </td><td style=\"text-align: right;\">-0.117225  </td><td style=\"text-align: right;\"> 0.0175568</td><td style=\"text-align: right;\">-0.00585387</td><td style=\"text-align: right;\">-0.0863187 </td><td style=\"text-align: right;\">-0.0309527</td><td style=\"text-align: right;\"> 0.0692243</td><td style=\"text-align: right;\"> 0.0201452</td><td style=\"text-align: right;\">-0.246009</td><td style=\"text-align: right;\">-0.202569 </td><td style=\"text-align: right;\">-0.0221905 </td><td style=\"text-align: right;\"> 0.113392 </td><td style=\"text-align: right;\">-0.0635854</td><td style=\"text-align: right;\"> 0.171826 </td><td style=\"text-align: right;\">-0.146573   </td><td style=\"text-align: right;\">-0.144006 </td><td style=\"text-align: right;\"> 0.0971537</td><td style=\"text-align: right;\">-0.113896 </td><td style=\"text-align: right;\"> 0.113986 </td><td style=\"text-align: right;\"> 0.0615532</td><td style=\"text-align: right;\">-0.0503593 </td><td style=\"text-align: right;\"> 0.0470669</td><td style=\"text-align: right;\"> 0.219776  </td><td style=\"text-align: right;\">-0.0149854</td><td style=\"text-align: right;\">-0.0876596 </td><td style=\"text-align: right;\">-0.0732345  </td><td style=\"text-align: right;\"> 0.0259342 </td><td style=\"text-align: right;\"> 0.0587755 </td><td style=\"text-align: right;\"> 0.00740164</td><td style=\"text-align: right;\">-0.00325563</td><td style=\"text-align: right;\">-0.0657367 </td><td style=\"text-align: right;\">-0.030447  </td><td style=\"text-align: right;\">-0.0139164 </td><td style=\"text-align: right;\">-0.0873796 </td><td style=\"text-align: right;\"> 0.132321   </td><td style=\"text-align: right;\">-0.0676976 </td><td style=\"text-align: right;\">-0.0372562 </td><td style=\"text-align: right;\"> 0.0343249 </td><td style=\"text-align: right;\"> 0.0286862  </td><td style=\"text-align: right;\">-0.0531998</td><td style=\"text-align: right;\"> 0.0399963 </td></tr>\n",
       "<tr><td style=\"text-align: right;\"> 0.0670686</td><td style=\"text-align: right;\"> 0.466258  </td><td style=\"text-align: right;\">-0.376842</td><td style=\"text-align: right;\">-0.305655  </td><td style=\"text-align: right;\">-0.00300085</td><td style=\"text-align: right;\">-0.0643228 </td><td style=\"text-align: right;\">-0.00889862</td><td style=\"text-align: right;\">-0.538096 </td><td style=\"text-align: right;\">-0.047961   </td><td style=\"text-align: right;\"> 0.086302  </td><td style=\"text-align: right;\">0.517016  </td><td style=\"text-align: right;\"> 0.202382  </td><td style=\"text-align: right;\">-0.207717 </td><td style=\"text-align: right;\">-0.227539  </td><td style=\"text-align: right;\"> 0.221186  </td><td style=\"text-align: right;\">-0.093305   </td><td style=\"text-align: right;\"> 0.127422 </td><td style=\"text-align: right;\"> 0.0865691</td><td style=\"text-align: right;\"> 0.227291 </td><td style=\"text-align: right;\">-0.265286  </td><td style=\"text-align: right;\">0.0958785</td><td style=\"text-align: right;\"> 0.0970821</td><td style=\"text-align: right;\">-0.00456183</td><td style=\"text-align: right;\">-0.113104 </td><td style=\"text-align: right;\">-0.0254901</td><td style=\"text-align: right;\">0.0119718</td><td style=\"text-align: right;\"> 0.297585  </td><td style=\"text-align: right;\">-0.0359827</td><td style=\"text-align: right;\"> 0.201461 </td><td style=\"text-align: right;\">-0.0538253  </td><td style=\"text-align: right;\"> 0.153205  </td><td style=\"text-align: right;\"> 0.08293  </td><td style=\"text-align: right;\">-0.0376027</td><td style=\"text-align: right;\">-0.153427 </td><td style=\"text-align: right;\"> 0.0273497 </td><td style=\"text-align: right;\"> 0.148593  </td><td style=\"text-align: right;\"> 0.145855 </td><td style=\"text-align: right;\"> 0.133828  </td><td style=\"text-align: right;\">-0.0757985</td><td style=\"text-align: right;\">-0.418373 </td><td style=\"text-align: right;\">-0.0354065</td><td style=\"text-align: right;\">-0.0173117</td><td style=\"text-align: right;\">0.266474</td><td style=\"text-align: right;\">-0.0918393 </td><td style=\"text-align: right;\"> 0.121203  </td><td style=\"text-align: right;\">-0.174218 </td><td style=\"text-align: right;\">-0.0129413 </td><td style=\"text-align: right;\">-0.297104 </td><td style=\"text-align: right;\">-0.108215  </td><td style=\"text-align: right;\">-0.191804 </td><td style=\"text-align: right;\">0.410978 </td><td style=\"text-align: right;\"> 0.11382  </td><td style=\"text-align: right;\">-0.218389   </td><td style=\"text-align: right;\">-0.232992 </td><td style=\"text-align: right;\"> 0.258688 </td><td style=\"text-align: right;\"> 0.136443  </td><td style=\"text-align: right;\"> 0.0197014</td><td style=\"text-align: right;\">0.166038 </td><td style=\"text-align: right;\"> 0.119967  </td><td style=\"text-align: right;\">-0.0680018 </td><td style=\"text-align: right;\">-0.0812793 </td><td style=\"text-align: right;\">-0.077688 </td><td style=\"text-align: right;\"> 0.0563159 </td><td style=\"text-align: right;\">-0.0265691 </td><td style=\"text-align: right;\"> 0.154576 </td><td style=\"text-align: right;\"> 0.0135544</td><td style=\"text-align: right;\"> 0.113205 </td><td style=\"text-align: right;\">-0.325936</td><td style=\"text-align: right;\">-0.261044 </td><td style=\"text-align: right;\">-0.0633643 </td><td style=\"text-align: right;\">-0.0774208</td><td style=\"text-align: right;\">-0.0882528</td><td style=\"text-align: right;\">-0.0712888</td><td style=\"text-align: right;\"> 0.0234494  </td><td style=\"text-align: right;\">-0.162426 </td><td style=\"text-align: right;\"> 0.100109 </td><td style=\"text-align: right;\"> 0.0693841</td><td style=\"text-align: right;\"> 0.20329  </td><td style=\"text-align: right;\"> 0.325203 </td><td style=\"text-align: right;\">-0.186007  </td><td style=\"text-align: right;\">-0.257558 </td><td style=\"text-align: right;\"> 0.0158336 </td><td style=\"text-align: right;\"> 0.124897 </td><td style=\"text-align: right;\">-0.0697995 </td><td style=\"text-align: right;\">-0.0512393  </td><td style=\"text-align: right;\"> 0.230689  </td><td style=\"text-align: right;\"> 0.0942389 </td><td style=\"text-align: right;\">-0.104106  </td><td style=\"text-align: right;\">-0.0669447 </td><td style=\"text-align: right;\">-0.0981681 </td><td style=\"text-align: right;\">-0.00650053</td><td style=\"text-align: right;\"> 0.153746  </td><td style=\"text-align: right;\">-0.0600498 </td><td style=\"text-align: right;\"> 0.217171   </td><td style=\"text-align: right;\">-0.0102993 </td><td style=\"text-align: right;\">-0.357429  </td><td style=\"text-align: right;\"> 0.0938258 </td><td style=\"text-align: right;\"> 0.0255074  </td><td style=\"text-align: right;\"> 0.222599 </td><td style=\"text-align: right;\"> 0.11879   </td></tr>\n",
       "</tbody>\n",
       "</table>"
      ]
     },
     "metadata": {},
     "output_type": "display_data"
    },
    {
     "data": {
      "text/plain": []
     },
     "execution_count": 23,
     "metadata": {},
     "output_type": "execute_result"
    }
   ],
   "source": [
    "# Calculate a vector for each review\n",
    "review_vecs = w2v_model.transform(words, aggregate_method = \"AVERAGE\")\n",
    "review_vecs"
   ]
  },
  {
   "cell_type": "code",
   "execution_count": 24,
   "metadata": {},
   "outputs": [],
   "source": [
    "# Add aggregated word embeddings \n",
    "ext_reviews = reviews.cbind(review_vecs)"
   ]
  },
  {
   "cell_type": "code",
   "execution_count": 25,
   "metadata": {},
   "outputs": [
    {
     "data": {
      "text/html": [
       "<table>\n",
       "<thead>\n",
       "<tr><th>ProductId  </th><th>UserId        </th><th>Summary                     </th><th style=\"text-align: right;\">  Score</th><th style=\"text-align: right;\">  HelpfulnessDenominator</th><th style=\"text-align: right;\">    Id</th><th>ProfileName        </th><th style=\"text-align: right;\">  HelpfulnessNumerator</th><th style=\"text-align: right;\">       Time</th><th>Text                                                                                                                                                                                                                                                                                                                                                                            </th><th style=\"text-align: right;\">  PositiveReview</th><th>Train  </th><th style=\"text-align: right;\">        C1</th><th style=\"text-align: right;\">        C2</th><th style=\"text-align: right;\">       C3</th><th style=\"text-align: right;\">         C4</th><th style=\"text-align: right;\">         C5</th><th style=\"text-align: right;\">        C6</th><th style=\"text-align: right;\">        C7</th><th style=\"text-align: right;\">        C8</th><th style=\"text-align: right;\">        C9</th><th style=\"text-align: right;\">       C10</th><th style=\"text-align: right;\">      C11</th><th style=\"text-align: right;\">      C12</th><th style=\"text-align: right;\">       C13</th><th style=\"text-align: right;\">       C14</th><th style=\"text-align: right;\">       C15</th><th style=\"text-align: right;\">        C16</th><th style=\"text-align: right;\">      C17</th><th style=\"text-align: right;\">       C18</th><th style=\"text-align: right;\">       C19</th><th style=\"text-align: right;\">       C20</th><th style=\"text-align: right;\">      C21</th><th style=\"text-align: right;\">       C22</th><th style=\"text-align: right;\">       C23</th><th style=\"text-align: right;\">      C24</th><th style=\"text-align: right;\">      C25</th><th style=\"text-align: right;\">      C26</th><th style=\"text-align: right;\">      C27</th><th style=\"text-align: right;\">       C28</th><th style=\"text-align: right;\">       C29</th><th style=\"text-align: right;\">       C30</th><th style=\"text-align: right;\">        C31</th><th style=\"text-align: right;\">     C32</th><th style=\"text-align: right;\">     C33</th><th style=\"text-align: right;\">       C34</th><th style=\"text-align: right;\">        C35</th><th style=\"text-align: right;\">        C36</th><th style=\"text-align: right;\">       C37</th><th style=\"text-align: right;\">        C38</th><th style=\"text-align: right;\">       C39</th><th style=\"text-align: right;\">      C40</th><th style=\"text-align: right;\">       C41</th><th style=\"text-align: right;\">       C42</th><th style=\"text-align: right;\">     C43</th><th style=\"text-align: right;\">        C44</th><th style=\"text-align: right;\">       C45</th><th style=\"text-align: right;\">       C46</th><th style=\"text-align: right;\">        C47</th><th style=\"text-align: right;\">       C48</th><th style=\"text-align: right;\">        C49</th><th style=\"text-align: right;\">       C50</th><th style=\"text-align: right;\">      C51</th><th style=\"text-align: right;\">       C52</th><th style=\"text-align: right;\">       C53</th><th style=\"text-align: right;\">     C54</th><th style=\"text-align: right;\">      C55</th><th style=\"text-align: right;\">       C56</th><th style=\"text-align: right;\">       C57</th><th style=\"text-align: right;\">      C58</th><th style=\"text-align: right;\">      C59</th><th style=\"text-align: right;\">       C60</th><th style=\"text-align: right;\">      C61</th><th style=\"text-align: right;\">     C62</th><th style=\"text-align: right;\">        C63</th><th style=\"text-align: right;\">       C64</th><th style=\"text-align: right;\">       C65</th><th style=\"text-align: right;\">       C66</th><th style=\"text-align: right;\">       C67</th><th style=\"text-align: right;\">      C68</th><th style=\"text-align: right;\">       C69</th><th style=\"text-align: right;\">        C70</th><th style=\"text-align: right;\">       C71</th><th style=\"text-align: right;\">       C72</th><th style=\"text-align: right;\">      C73</th><th style=\"text-align: right;\">         C74</th><th style=\"text-align: right;\">       C75</th><th style=\"text-align: right;\">      C76</th><th style=\"text-align: right;\">       C77</th><th style=\"text-align: right;\">       C78</th><th style=\"text-align: right;\">       C79</th><th style=\"text-align: right;\">        C80</th><th style=\"text-align: right;\">      C81</th><th style=\"text-align: right;\">        C82</th><th style=\"text-align: right;\">      C83</th><th style=\"text-align: right;\">       C84</th><th style=\"text-align: right;\">       C85</th><th style=\"text-align: right;\">      C86</th><th style=\"text-align: right;\">       C87</th><th style=\"text-align: right;\">       C88</th><th style=\"text-align: right;\">        C89</th><th style=\"text-align: right;\">       C90</th><th style=\"text-align: right;\">      C91</th><th style=\"text-align: right;\">       C92</th><th style=\"text-align: right;\">        C93</th><th style=\"text-align: right;\">         C94</th><th style=\"text-align: right;\">       C95</th><th style=\"text-align: right;\">       C96</th><th style=\"text-align: right;\">       C97</th><th style=\"text-align: right;\">         C98</th><th style=\"text-align: right;\">       C99</th><th style=\"text-align: right;\">     C100</th></tr>\n",
       "</thead>\n",
       "<tbody>\n",
       "<tr><td>B00141QYSQ </td><td>A1YS02UZZGRDCT</td><td>Do Not Buy                  </td><td style=\"text-align: right;\">      1</td><td style=\"text-align: right;\">                       2</td><td style=\"text-align: right;\"> 41471</td><td>Evan Eberhardt     </td><td style=\"text-align: right;\">                     2</td><td style=\"text-align: right;\">1.34836e+09</td><td>These are made in China (do not buy ANY pet food from China).  Dogswell has been using propylene glycol to soften their treats (what are they thinkng?).  Do not purchase or support this company in any way until they clean up their act.  And for whatever reason Amazon doesn't allow returns of this item, so I had to toss mine out.  Bad business all around on this one.</td><td style=\"text-align: right;\">               0</td><td>No     </td><td style=\"text-align: right;\">-0.013452 </td><td style=\"text-align: right;\">-0.0785637</td><td style=\"text-align: right;\">-0.138981</td><td style=\"text-align: right;\">-0.0246903 </td><td style=\"text-align: right;\">-0.00327314</td><td style=\"text-align: right;\">-0.0498523</td><td style=\"text-align: right;\"> 0.0248292</td><td style=\"text-align: right;\">-0.0397897</td><td style=\"text-align: right;\"> 0.0852182</td><td style=\"text-align: right;\">0.00699067</td><td style=\"text-align: right;\">0.0712024</td><td style=\"text-align: right;\">-0.1221  </td><td style=\"text-align: right;\">-0.0373725</td><td style=\"text-align: right;\"> 0.0459209</td><td style=\"text-align: right;\"> 0.0597572</td><td style=\"text-align: right;\">0.000287878</td><td style=\"text-align: right;\">0.0704285</td><td style=\"text-align: right;\">-0.0253099</td><td style=\"text-align: right;\">-0.0585024</td><td style=\"text-align: right;\">-0.0794127</td><td style=\"text-align: right;\">0.127946 </td><td style=\"text-align: right;\">-0.115061 </td><td style=\"text-align: right;\"> 0.0875729</td><td style=\"text-align: right;\">0.121542 </td><td style=\"text-align: right;\">0.165209 </td><td style=\"text-align: right;\">0.107062 </td><td style=\"text-align: right;\">0.0485988</td><td style=\"text-align: right;\">-0.178077 </td><td style=\"text-align: right;\">-0.103309 </td><td style=\"text-align: right;\"> 0.102956 </td><td style=\"text-align: right;\"> 0.132281  </td><td style=\"text-align: right;\">0.235652</td><td style=\"text-align: right;\">0.217289</td><td style=\"text-align: right;\">-0.0983692</td><td style=\"text-align: right;\">-0.170166  </td><td style=\"text-align: right;\">-0.0864412 </td><td style=\"text-align: right;\">-0.0841292</td><td style=\"text-align: right;\"> 0.00984567</td><td style=\"text-align: right;\">-0.0912847</td><td style=\"text-align: right;\">-0.224937</td><td style=\"text-align: right;\"> 0.0379391</td><td style=\"text-align: right;\">-0.115529 </td><td style=\"text-align: right;\">0.259677</td><td style=\"text-align: right;\">-0.136987  </td><td style=\"text-align: right;\">-0.0769796</td><td style=\"text-align: right;\">-0.0777718</td><td style=\"text-align: right;\">-0.132649  </td><td style=\"text-align: right;\">-0.0206015</td><td style=\"text-align: right;\"> 0.00753662</td><td style=\"text-align: right;\">-0.0329378</td><td style=\"text-align: right;\">0.107125 </td><td style=\"text-align: right;\">-0.061765 </td><td style=\"text-align: right;\">-0.0129066</td><td style=\"text-align: right;\">0.25044 </td><td style=\"text-align: right;\">0.0293612</td><td style=\"text-align: right;\">-0.0795486</td><td style=\"text-align: right;\">-0.0365948</td><td style=\"text-align: right;\">0.131782 </td><td style=\"text-align: right;\">0.151546 </td><td style=\"text-align: right;\">-0.0997909</td><td style=\"text-align: right;\">-0.206397</td><td style=\"text-align: right;\">0.165377</td><td style=\"text-align: right;\"> 0.00276286</td><td style=\"text-align: right;\">-0.199512 </td><td style=\"text-align: right;\"> 0.0784447</td><td style=\"text-align: right;\">-0.0374116</td><td style=\"text-align: right;\"> 0.0954856</td><td style=\"text-align: right;\">-0.073916</td><td style=\"text-align: right;\">-0.0303195</td><td style=\"text-align: right;\"> 0.0699418 </td><td style=\"text-align: right;\">-0.0602995</td><td style=\"text-align: right;\">-0.124468 </td><td style=\"text-align: right;\">0.147945 </td><td style=\"text-align: right;\">-0.060468   </td><td style=\"text-align: right;\">-0.102471 </td><td style=\"text-align: right;\">0.136038 </td><td style=\"text-align: right;\">-0.0722757</td><td style=\"text-align: right;\"> 0.15165  </td><td style=\"text-align: right;\">-0.0271425</td><td style=\"text-align: right;\">-0.0943154 </td><td style=\"text-align: right;\">0.104635 </td><td style=\"text-align: right;\"> 0.00766858</td><td style=\"text-align: right;\">0.120555 </td><td style=\"text-align: right;\">-0.133279 </td><td style=\"text-align: right;\">-0.115923 </td><td style=\"text-align: right;\">0.0674937</td><td style=\"text-align: right;\"> 0.0175307</td><td style=\"text-align: right;\">-0.0241965</td><td style=\"text-align: right;\"> 0.0539917 </td><td style=\"text-align: right;\"> 0.086411 </td><td style=\"text-align: right;\">-0.143057</td><td style=\"text-align: right;\"> 0.0997981</td><td style=\"text-align: right;\"> 0.0234722 </td><td style=\"text-align: right;\">-0.128074   </td><td style=\"text-align: right;\">-0.0676812</td><td style=\"text-align: right;\">-0.0967925</td><td style=\"text-align: right;\">0.0938936 </td><td style=\"text-align: right;\">-0.00863186 </td><td style=\"text-align: right;\">-0.0683016</td><td style=\"text-align: right;\">0.0521986</td></tr>\n",
       "<tr><td>B0089SPEO2 </td><td>A3JOYNYL458QHP</td><td>Less lemon and less zing    </td><td style=\"text-align: right;\">      3</td><td style=\"text-align: right;\">                       0</td><td style=\"text-align: right;\"> 28582</td><td>coleridge          </td><td style=\"text-align: right;\">                     0</td><td style=\"text-align: right;\">1.32391e+09</td><td>Everything is ok, except it just isn't as good as it is in the bags.  Just considerably more bland -- less lemon and less zing.  Boring.                                                                                                                                                                                                                                        </td><td style=\"text-align: right;\">               0</td><td>Yes    </td><td style=\"text-align: right;\">-0.113406 </td><td style=\"text-align: right;\">-0.0100783</td><td style=\"text-align: right;\">-0.185262</td><td style=\"text-align: right;\"> 0.0581028 </td><td style=\"text-align: right;\">-0.0806386 </td><td style=\"text-align: right;\">-0.0834408</td><td style=\"text-align: right;\"> 0.0250452</td><td style=\"text-align: right;\">-0.29619  </td><td style=\"text-align: right;\">-0.0611533</td><td style=\"text-align: right;\">0.0847387 </td><td style=\"text-align: right;\">0.0709743</td><td style=\"text-align: right;\"> 0.150441</td><td style=\"text-align: right;\">-0.0753758</td><td style=\"text-align: right;\">-0.0762187</td><td style=\"text-align: right;\"> 0.0519429</td><td style=\"text-align: right;\">0.0768248  </td><td style=\"text-align: right;\">0.252495 </td><td style=\"text-align: right;\"> 0.0117445</td><td style=\"text-align: right;\"> 0.048102 </td><td style=\"text-align: right;\">-0.0192046</td><td style=\"text-align: right;\">0.179908 </td><td style=\"text-align: right;\"> 0.0599986</td><td style=\"text-align: right;\">-0.0652569</td><td style=\"text-align: right;\">0.143125 </td><td style=\"text-align: right;\">0.0346083</td><td style=\"text-align: right;\">0.019607 </td><td style=\"text-align: right;\">0.0871827</td><td style=\"text-align: right;\"> 0.0870909</td><td style=\"text-align: right;\"> 0.0697534</td><td style=\"text-align: right;\">-0.0152124</td><td style=\"text-align: right;\">-0.00647107</td><td style=\"text-align: right;\">0.126059</td><td style=\"text-align: right;\">0.272665</td><td style=\"text-align: right;\">-0.0190468</td><td style=\"text-align: right;\">-0.00439438</td><td style=\"text-align: right;\">-0.00891596</td><td style=\"text-align: right;\">-0.0776638</td><td style=\"text-align: right;\">-0.0262227 </td><td style=\"text-align: right;\"> 0.0735623</td><td style=\"text-align: right;\">-0.150728</td><td style=\"text-align: right;\">-0.0227012</td><td style=\"text-align: right;\">-0.126916 </td><td style=\"text-align: right;\">0.332035</td><td style=\"text-align: right;\"> 0.00317156</td><td style=\"text-align: right;\">-0.0892141</td><td style=\"text-align: right;\">-0.0327014</td><td style=\"text-align: right;\"> 0.00534479</td><td style=\"text-align: right;\">-0.230345 </td><td style=\"text-align: right;\">-0.161437  </td><td style=\"text-align: right;\">-0.124998 </td><td style=\"text-align: right;\">0.0762195</td><td style=\"text-align: right;\">-0.0278162</td><td style=\"text-align: right;\">-0.0152363</td><td style=\"text-align: right;\">0.166046</td><td style=\"text-align: right;\">0.194541 </td><td style=\"text-align: right;\"> 0.0216267</td><td style=\"text-align: right;\"> 0.107801 </td><td style=\"text-align: right;\">0.069218 </td><td style=\"text-align: right;\">0.0723757</td><td style=\"text-align: right;\"> 0.0230233</td><td style=\"text-align: right;\">-0.171887</td><td style=\"text-align: right;\">0.113961</td><td style=\"text-align: right;\">-0.132999  </td><td style=\"text-align: right;\">-0.0376083</td><td style=\"text-align: right;\"> 0.0634028</td><td style=\"text-align: right;\"> 0.0769058</td><td style=\"text-align: right;\"> 0.0610215</td><td style=\"text-align: right;\">-0.262454</td><td style=\"text-align: right;\">-0.0344054</td><td style=\"text-align: right;\">-0.0629343 </td><td style=\"text-align: right;\">-0.0685852</td><td style=\"text-align: right;\"> 0.0339126</td><td style=\"text-align: right;\">0.0498633</td><td style=\"text-align: right;\">-0.176924   </td><td style=\"text-align: right;\"> 0.0234807</td><td style=\"text-align: right;\">0.0368309</td><td style=\"text-align: right;\">-0.0930659</td><td style=\"text-align: right;\">-0.0179343</td><td style=\"text-align: right;\"> 0.0029895</td><td style=\"text-align: right;\">-0.00474272</td><td style=\"text-align: right;\">0.0397404</td><td style=\"text-align: right;\">-0.0251717 </td><td style=\"text-align: right;\">0.0215008</td><td style=\"text-align: right;\"> 0.0112809</td><td style=\"text-align: right;\">-0.0376371</td><td style=\"text-align: right;\">0.123413 </td><td style=\"text-align: right;\">-0.0717533</td><td style=\"text-align: right;\">-0.012176 </td><td style=\"text-align: right;\">-0.00453512</td><td style=\"text-align: right;\"> 0.0747839</td><td style=\"text-align: right;\">-0.162901</td><td style=\"text-align: right;\">-0.0174449</td><td style=\"text-align: right;\">-0.00470335</td><td style=\"text-align: right;\"> 0.000833064</td><td style=\"text-align: right;\"> 0.102376 </td><td style=\"text-align: right;\">-0.0908449</td><td style=\"text-align: right;\">0.00398846</td><td style=\"text-align: right;\"> 0.0985556  </td><td style=\"text-align: right;\"> 0.0454526</td><td style=\"text-align: right;\">0.0926109</td></tr>\n",
       "<tr><td>B001PMCDK2 </td><td>A14TTMM0Z03Y2W</td><td>my cat goes crazy for these!</td><td style=\"text-align: right;\">      5</td><td style=\"text-align: right;\">                       0</td><td style=\"text-align: right;\">389965</td><td>Lindsay S. Bradford</td><td style=\"text-align: right;\">                     0</td><td style=\"text-align: right;\">1.3106e+09 </td><td>Best cat treat ever. There isn't anything comparable to the love my cat has for these treats, he snubs away any other kind now.<br />I know he likes to manipulate me with his cattiness but these treats are my way of manipulating him to come sit on my lap and have some chill time. :)                                                                                     </td><td style=\"text-align: right;\">               1</td><td>Yes    </td><td style=\"text-align: right;\"> 0.0229033</td><td style=\"text-align: right;\">-0.0383479</td><td style=\"text-align: right;\">-0.235941</td><td style=\"text-align: right;\">-0.00628142</td><td style=\"text-align: right;\">-0.108012  </td><td style=\"text-align: right;\">-0.16273  </td><td style=\"text-align: right;\">-0.0930555</td><td style=\"text-align: right;\">-0.227644 </td><td style=\"text-align: right;\">-0.054304 </td><td style=\"text-align: right;\">0.086074  </td><td style=\"text-align: right;\">0.0161217</td><td style=\"text-align: right;\">-0.130554</td><td style=\"text-align: right;\">-0.0120686</td><td style=\"text-align: right;\"> 0.0649465</td><td style=\"text-align: right;\">-0.0398507</td><td style=\"text-align: right;\">0.0182552  </td><td style=\"text-align: right;\">0.0593283</td><td style=\"text-align: right;\">-0.0238031</td><td style=\"text-align: right;\">-0.0996651</td><td style=\"text-align: right;\">-0.139917 </td><td style=\"text-align: right;\">0.0548215</td><td style=\"text-align: right;\">-0.0966993</td><td style=\"text-align: right;\"> 0.108412 </td><td style=\"text-align: right;\">0.0244212</td><td style=\"text-align: right;\">0.116094 </td><td style=\"text-align: right;\">0.0173106</td><td style=\"text-align: right;\">0.0355023</td><td style=\"text-align: right;\">-0.131888 </td><td style=\"text-align: right;\"> 0.0751265</td><td style=\"text-align: right;\"> 0.0998722</td><td style=\"text-align: right;\">-0.0126254 </td><td style=\"text-align: right;\">0.158659</td><td style=\"text-align: right;\">0.210877</td><td style=\"text-align: right;\">-0.132416 </td><td style=\"text-align: right;\">-0.0945701 </td><td style=\"text-align: right;\">-0.150183  </td><td style=\"text-align: right;\">-0.0547581</td><td style=\"text-align: right;\"> 0.0129578 </td><td style=\"text-align: right;\">-0.0276197</td><td style=\"text-align: right;\">-0.155504</td><td style=\"text-align: right;\">-0.0112773</td><td style=\"text-align: right;\">-0.0928299</td><td style=\"text-align: right;\">0.358211</td><td style=\"text-align: right;\">-0.0292633 </td><td style=\"text-align: right;\"> 0.001376 </td><td style=\"text-align: right;\">-0.108603 </td><td style=\"text-align: right;\">-0.0347842 </td><td style=\"text-align: right;\">-0.0544496</td><td style=\"text-align: right;\">-0.0616465 </td><td style=\"text-align: right;\">-0.0157592</td><td style=\"text-align: right;\">0.18491  </td><td style=\"text-align: right;\">-0.0877766</td><td style=\"text-align: right;\">-0.0765458</td><td style=\"text-align: right;\">0.245056</td><td style=\"text-align: right;\">0.0249016</td><td style=\"text-align: right;\"> 0.0110693</td><td style=\"text-align: right;\">-0.0167057</td><td style=\"text-align: right;\">0.0419912</td><td style=\"text-align: right;\">0.0138712</td><td style=\"text-align: right;\">-0.0410269</td><td style=\"text-align: right;\">-0.11771 </td><td style=\"text-align: right;\">0.128043</td><td style=\"text-align: right;\"> 0.00795653</td><td style=\"text-align: right;\">-0.174417 </td><td style=\"text-align: right;\">-0.0733701</td><td style=\"text-align: right;\"> 0.0508918</td><td style=\"text-align: right;\">-0.0202622</td><td style=\"text-align: right;\">-0.242431</td><td style=\"text-align: right;\">-0.0911871</td><td style=\"text-align: right;\">-0.00293087</td><td style=\"text-align: right;\"> 0.0507957</td><td style=\"text-align: right;\">-0.0932019</td><td style=\"text-align: right;\">0.0788935</td><td style=\"text-align: right;\">-9.74121e-05</td><td style=\"text-align: right;\">-0.0677081</td><td style=\"text-align: right;\">0.0772903</td><td style=\"text-align: right;\">-0.113694 </td><td style=\"text-align: right;\"> 0.133857 </td><td style=\"text-align: right;\">-0.0678513</td><td style=\"text-align: right;\">-0.0517511 </td><td style=\"text-align: right;\">0.0854642</td><td style=\"text-align: right;\"> 0.0678262 </td><td style=\"text-align: right;\">0.0928278</td><td style=\"text-align: right;\">-0.0659652</td><td style=\"text-align: right;\">-0.103263 </td><td style=\"text-align: right;\">0.0199658</td><td style=\"text-align: right;\"> 0.154267 </td><td style=\"text-align: right;\"> 0.14895  </td><td style=\"text-align: right;\"> 0.0305986 </td><td style=\"text-align: right;\">-0.0287569</td><td style=\"text-align: right;\">-0.138725</td><td style=\"text-align: right;\">-0.041524 </td><td style=\"text-align: right;\">-0.0228417 </td><td style=\"text-align: right;\"> 0.110908   </td><td style=\"text-align: right;\">-0.0224384</td><td style=\"text-align: right;\"> 0.106835 </td><td style=\"text-align: right;\">0.0399244 </td><td style=\"text-align: right;\"> 0.000167542</td><td style=\"text-align: right;\">-0.0170651</td><td style=\"text-align: right;\">0.0709032</td></tr>\n",
       "</tbody>\n",
       "</table>"
      ]
     },
     "metadata": {},
     "output_type": "display_data"
    },
    {
     "data": {
      "text/plain": []
     },
     "execution_count": 25,
     "metadata": {},
     "output_type": "execute_result"
    }
   ],
   "source": [
    "ext_reviews.head(3)"
   ]
  },
  {
   "cell_type": "markdown",
   "metadata": {},
   "source": [
    "## 1.5 Add Summary Column"
   ]
  },
  {
   "cell_type": "code",
   "execution_count": 26,
   "metadata": {},
   "outputs": [],
   "source": [
    "# Break summaries into sequence of word.\n",
    "summary_words = tokenize(reviews['Summary'].ascharacter())"
   ]
  },
  {
   "cell_type": "code",
   "execution_count": 27,
   "metadata": {},
   "outputs": [],
   "source": [
    "summary_vecs = w2v_model.transform(summary_words, aggregate_method='AVERAGE')\n",
    "summary_vecs.names = ['summary_'+ s for s in summary_vecs.names]\n",
    "\n",
    "ext_reviews_new = ext_reviews.cbind(summary_vecs)"
   ]
  },
  {
   "cell_type": "code",
   "execution_count": 28,
   "metadata": {},
   "outputs": [
    {
     "data": {
      "text/html": [
       "<table>\n",
       "<thead>\n",
       "<tr><th>ProductId  </th><th>UserId        </th><th>Summary                     </th><th style=\"text-align: right;\">  Score</th><th style=\"text-align: right;\">  HelpfulnessDenominator</th><th style=\"text-align: right;\">    Id</th><th>ProfileName        </th><th style=\"text-align: right;\">  HelpfulnessNumerator</th><th style=\"text-align: right;\">       Time</th><th>Text                                                                                                                                                                                                                                                                                                                                                                            </th><th style=\"text-align: right;\">  PositiveReview</th><th>Train  </th><th style=\"text-align: right;\">        C1</th><th style=\"text-align: right;\">        C2</th><th style=\"text-align: right;\">       C3</th><th style=\"text-align: right;\">         C4</th><th style=\"text-align: right;\">         C5</th><th style=\"text-align: right;\">        C6</th><th style=\"text-align: right;\">        C7</th><th style=\"text-align: right;\">        C8</th><th style=\"text-align: right;\">        C9</th><th style=\"text-align: right;\">       C10</th><th style=\"text-align: right;\">      C11</th><th style=\"text-align: right;\">      C12</th><th style=\"text-align: right;\">       C13</th><th style=\"text-align: right;\">       C14</th><th style=\"text-align: right;\">       C15</th><th style=\"text-align: right;\">        C16</th><th style=\"text-align: right;\">      C17</th><th style=\"text-align: right;\">       C18</th><th style=\"text-align: right;\">       C19</th><th style=\"text-align: right;\">       C20</th><th style=\"text-align: right;\">      C21</th><th style=\"text-align: right;\">       C22</th><th style=\"text-align: right;\">       C23</th><th style=\"text-align: right;\">      C24</th><th style=\"text-align: right;\">      C25</th><th style=\"text-align: right;\">      C26</th><th style=\"text-align: right;\">      C27</th><th style=\"text-align: right;\">       C28</th><th style=\"text-align: right;\">       C29</th><th style=\"text-align: right;\">       C30</th><th style=\"text-align: right;\">        C31</th><th style=\"text-align: right;\">     C32</th><th style=\"text-align: right;\">     C33</th><th style=\"text-align: right;\">       C34</th><th style=\"text-align: right;\">        C35</th><th style=\"text-align: right;\">        C36</th><th style=\"text-align: right;\">       C37</th><th style=\"text-align: right;\">        C38</th><th style=\"text-align: right;\">       C39</th><th style=\"text-align: right;\">      C40</th><th style=\"text-align: right;\">       C41</th><th style=\"text-align: right;\">       C42</th><th style=\"text-align: right;\">     C43</th><th style=\"text-align: right;\">        C44</th><th style=\"text-align: right;\">       C45</th><th style=\"text-align: right;\">       C46</th><th style=\"text-align: right;\">        C47</th><th style=\"text-align: right;\">       C48</th><th style=\"text-align: right;\">        C49</th><th style=\"text-align: right;\">       C50</th><th style=\"text-align: right;\">      C51</th><th style=\"text-align: right;\">       C52</th><th style=\"text-align: right;\">       C53</th><th style=\"text-align: right;\">     C54</th><th style=\"text-align: right;\">      C55</th><th style=\"text-align: right;\">       C56</th><th style=\"text-align: right;\">       C57</th><th style=\"text-align: right;\">      C58</th><th style=\"text-align: right;\">      C59</th><th style=\"text-align: right;\">       C60</th><th style=\"text-align: right;\">      C61</th><th style=\"text-align: right;\">     C62</th><th style=\"text-align: right;\">        C63</th><th style=\"text-align: right;\">       C64</th><th style=\"text-align: right;\">       C65</th><th style=\"text-align: right;\">       C66</th><th style=\"text-align: right;\">       C67</th><th style=\"text-align: right;\">      C68</th><th style=\"text-align: right;\">       C69</th><th style=\"text-align: right;\">        C70</th><th style=\"text-align: right;\">       C71</th><th style=\"text-align: right;\">       C72</th><th style=\"text-align: right;\">      C73</th><th style=\"text-align: right;\">         C74</th><th style=\"text-align: right;\">       C75</th><th style=\"text-align: right;\">      C76</th><th style=\"text-align: right;\">       C77</th><th style=\"text-align: right;\">       C78</th><th style=\"text-align: right;\">       C79</th><th style=\"text-align: right;\">        C80</th><th style=\"text-align: right;\">      C81</th><th style=\"text-align: right;\">        C82</th><th style=\"text-align: right;\">      C83</th><th style=\"text-align: right;\">       C84</th><th style=\"text-align: right;\">       C85</th><th style=\"text-align: right;\">      C86</th><th style=\"text-align: right;\">       C87</th><th style=\"text-align: right;\">       C88</th><th style=\"text-align: right;\">        C89</th><th style=\"text-align: right;\">       C90</th><th style=\"text-align: right;\">      C91</th><th style=\"text-align: right;\">       C92</th><th style=\"text-align: right;\">        C93</th><th style=\"text-align: right;\">         C94</th><th style=\"text-align: right;\">       C95</th><th style=\"text-align: right;\">       C96</th><th style=\"text-align: right;\">       C97</th><th style=\"text-align: right;\">         C98</th><th style=\"text-align: right;\">       C99</th><th style=\"text-align: right;\">     C100</th><th style=\"text-align: right;\">  summary_C1</th><th style=\"text-align: right;\">  summary_C2</th><th style=\"text-align: right;\">  summary_C3</th><th style=\"text-align: right;\">  summary_C4</th><th style=\"text-align: right;\">  summary_C5</th><th style=\"text-align: right;\">  summary_C6</th><th style=\"text-align: right;\">  summary_C7</th><th style=\"text-align: right;\">  summary_C8</th><th style=\"text-align: right;\">  summary_C9</th><th style=\"text-align: right;\">  summary_C10</th><th style=\"text-align: right;\">  summary_C11</th><th style=\"text-align: right;\">  summary_C12</th><th style=\"text-align: right;\">  summary_C13</th><th style=\"text-align: right;\">  summary_C14</th><th style=\"text-align: right;\">  summary_C15</th><th style=\"text-align: right;\">  summary_C16</th><th style=\"text-align: right;\">  summary_C17</th><th style=\"text-align: right;\">  summary_C18</th><th style=\"text-align: right;\">  summary_C19</th><th style=\"text-align: right;\">  summary_C20</th><th style=\"text-align: right;\">  summary_C21</th><th style=\"text-align: right;\">  summary_C22</th><th style=\"text-align: right;\">  summary_C23</th><th style=\"text-align: right;\">  summary_C24</th><th style=\"text-align: right;\">  summary_C25</th><th style=\"text-align: right;\">  summary_C26</th><th style=\"text-align: right;\">  summary_C27</th><th style=\"text-align: right;\">  summary_C28</th><th style=\"text-align: right;\">  summary_C29</th><th style=\"text-align: right;\">  summary_C30</th><th style=\"text-align: right;\">  summary_C31</th><th style=\"text-align: right;\">  summary_C32</th><th style=\"text-align: right;\">  summary_C33</th><th style=\"text-align: right;\">  summary_C34</th><th style=\"text-align: right;\">  summary_C35</th><th style=\"text-align: right;\">  summary_C36</th><th style=\"text-align: right;\">  summary_C37</th><th style=\"text-align: right;\">  summary_C38</th><th style=\"text-align: right;\">  summary_C39</th><th style=\"text-align: right;\">  summary_C40</th><th style=\"text-align: right;\">  summary_C41</th><th style=\"text-align: right;\">  summary_C42</th><th style=\"text-align: right;\">  summary_C43</th><th style=\"text-align: right;\">  summary_C44</th><th style=\"text-align: right;\">  summary_C45</th><th style=\"text-align: right;\">  summary_C46</th><th style=\"text-align: right;\">  summary_C47</th><th style=\"text-align: right;\">  summary_C48</th><th style=\"text-align: right;\">  summary_C49</th><th style=\"text-align: right;\">  summary_C50</th><th style=\"text-align: right;\">  summary_C51</th><th style=\"text-align: right;\">  summary_C52</th><th style=\"text-align: right;\">  summary_C53</th><th style=\"text-align: right;\">  summary_C54</th><th style=\"text-align: right;\">  summary_C55</th><th style=\"text-align: right;\">  summary_C56</th><th style=\"text-align: right;\">  summary_C57</th><th style=\"text-align: right;\">  summary_C58</th><th style=\"text-align: right;\">  summary_C59</th><th style=\"text-align: right;\">  summary_C60</th><th style=\"text-align: right;\">  summary_C61</th><th style=\"text-align: right;\">  summary_C62</th><th style=\"text-align: right;\">  summary_C63</th><th style=\"text-align: right;\">  summary_C64</th><th style=\"text-align: right;\">  summary_C65</th><th style=\"text-align: right;\">  summary_C66</th><th style=\"text-align: right;\">  summary_C67</th><th style=\"text-align: right;\">  summary_C68</th><th style=\"text-align: right;\">  summary_C69</th><th style=\"text-align: right;\">  summary_C70</th><th style=\"text-align: right;\">  summary_C71</th><th style=\"text-align: right;\">  summary_C72</th><th style=\"text-align: right;\">  summary_C73</th><th style=\"text-align: right;\">  summary_C74</th><th style=\"text-align: right;\">  summary_C75</th><th style=\"text-align: right;\">  summary_C76</th><th style=\"text-align: right;\">  summary_C77</th><th style=\"text-align: right;\">  summary_C78</th><th style=\"text-align: right;\">  summary_C79</th><th style=\"text-align: right;\">  summary_C80</th><th style=\"text-align: right;\">  summary_C81</th><th style=\"text-align: right;\">  summary_C82</th><th style=\"text-align: right;\">  summary_C83</th><th style=\"text-align: right;\">  summary_C84</th><th style=\"text-align: right;\">  summary_C85</th><th style=\"text-align: right;\">  summary_C86</th><th style=\"text-align: right;\">  summary_C87</th><th style=\"text-align: right;\">  summary_C88</th></tr>\n",
       "</thead>\n",
       "<tbody>\n",
       "<tr><td>B00141QYSQ </td><td>A1YS02UZZGRDCT</td><td>Do Not Buy                  </td><td style=\"text-align: right;\">      1</td><td style=\"text-align: right;\">                       2</td><td style=\"text-align: right;\"> 41471</td><td>Evan Eberhardt     </td><td style=\"text-align: right;\">                     2</td><td style=\"text-align: right;\">1.34836e+09</td><td>These are made in China (do not buy ANY pet food from China).  Dogswell has been using propylene glycol to soften their treats (what are they thinkng?).  Do not purchase or support this company in any way until they clean up their act.  And for whatever reason Amazon doesn't allow returns of this item, so I had to toss mine out.  Bad business all around on this one.</td><td style=\"text-align: right;\">               0</td><td>No     </td><td style=\"text-align: right;\">-0.013452 </td><td style=\"text-align: right;\">-0.0785637</td><td style=\"text-align: right;\">-0.138981</td><td style=\"text-align: right;\">-0.0246903 </td><td style=\"text-align: right;\">-0.00327314</td><td style=\"text-align: right;\">-0.0498523</td><td style=\"text-align: right;\"> 0.0248292</td><td style=\"text-align: right;\">-0.0397897</td><td style=\"text-align: right;\"> 0.0852182</td><td style=\"text-align: right;\">0.00699067</td><td style=\"text-align: right;\">0.0712024</td><td style=\"text-align: right;\">-0.1221  </td><td style=\"text-align: right;\">-0.0373725</td><td style=\"text-align: right;\"> 0.0459209</td><td style=\"text-align: right;\"> 0.0597572</td><td style=\"text-align: right;\">0.000287878</td><td style=\"text-align: right;\">0.0704285</td><td style=\"text-align: right;\">-0.0253099</td><td style=\"text-align: right;\">-0.0585024</td><td style=\"text-align: right;\">-0.0794127</td><td style=\"text-align: right;\">0.127946 </td><td style=\"text-align: right;\">-0.115061 </td><td style=\"text-align: right;\"> 0.0875729</td><td style=\"text-align: right;\">0.121542 </td><td style=\"text-align: right;\">0.165209 </td><td style=\"text-align: right;\">0.107062 </td><td style=\"text-align: right;\">0.0485988</td><td style=\"text-align: right;\">-0.178077 </td><td style=\"text-align: right;\">-0.103309 </td><td style=\"text-align: right;\"> 0.102956 </td><td style=\"text-align: right;\"> 0.132281  </td><td style=\"text-align: right;\">0.235652</td><td style=\"text-align: right;\">0.217289</td><td style=\"text-align: right;\">-0.0983692</td><td style=\"text-align: right;\">-0.170166  </td><td style=\"text-align: right;\">-0.0864412 </td><td style=\"text-align: right;\">-0.0841292</td><td style=\"text-align: right;\"> 0.00984567</td><td style=\"text-align: right;\">-0.0912847</td><td style=\"text-align: right;\">-0.224937</td><td style=\"text-align: right;\"> 0.0379391</td><td style=\"text-align: right;\">-0.115529 </td><td style=\"text-align: right;\">0.259677</td><td style=\"text-align: right;\">-0.136987  </td><td style=\"text-align: right;\">-0.0769796</td><td style=\"text-align: right;\">-0.0777718</td><td style=\"text-align: right;\">-0.132649  </td><td style=\"text-align: right;\">-0.0206015</td><td style=\"text-align: right;\"> 0.00753662</td><td style=\"text-align: right;\">-0.0329378</td><td style=\"text-align: right;\">0.107125 </td><td style=\"text-align: right;\">-0.061765 </td><td style=\"text-align: right;\">-0.0129066</td><td style=\"text-align: right;\">0.25044 </td><td style=\"text-align: right;\">0.0293612</td><td style=\"text-align: right;\">-0.0795486</td><td style=\"text-align: right;\">-0.0365948</td><td style=\"text-align: right;\">0.131782 </td><td style=\"text-align: right;\">0.151546 </td><td style=\"text-align: right;\">-0.0997909</td><td style=\"text-align: right;\">-0.206397</td><td style=\"text-align: right;\">0.165377</td><td style=\"text-align: right;\"> 0.00276286</td><td style=\"text-align: right;\">-0.199512 </td><td style=\"text-align: right;\"> 0.0784447</td><td style=\"text-align: right;\">-0.0374116</td><td style=\"text-align: right;\"> 0.0954856</td><td style=\"text-align: right;\">-0.073916</td><td style=\"text-align: right;\">-0.0303195</td><td style=\"text-align: right;\"> 0.0699418 </td><td style=\"text-align: right;\">-0.0602995</td><td style=\"text-align: right;\">-0.124468 </td><td style=\"text-align: right;\">0.147945 </td><td style=\"text-align: right;\">-0.060468   </td><td style=\"text-align: right;\">-0.102471 </td><td style=\"text-align: right;\">0.136038 </td><td style=\"text-align: right;\">-0.0722757</td><td style=\"text-align: right;\"> 0.15165  </td><td style=\"text-align: right;\">-0.0271425</td><td style=\"text-align: right;\">-0.0943154 </td><td style=\"text-align: right;\">0.104635 </td><td style=\"text-align: right;\"> 0.00766858</td><td style=\"text-align: right;\">0.120555 </td><td style=\"text-align: right;\">-0.133279 </td><td style=\"text-align: right;\">-0.115923 </td><td style=\"text-align: right;\">0.0674937</td><td style=\"text-align: right;\"> 0.0175307</td><td style=\"text-align: right;\">-0.0241965</td><td style=\"text-align: right;\"> 0.0539917 </td><td style=\"text-align: right;\"> 0.086411 </td><td style=\"text-align: right;\">-0.143057</td><td style=\"text-align: right;\"> 0.0997981</td><td style=\"text-align: right;\"> 0.0234722 </td><td style=\"text-align: right;\">-0.128074   </td><td style=\"text-align: right;\">-0.0676812</td><td style=\"text-align: right;\">-0.0967925</td><td style=\"text-align: right;\">0.0938936 </td><td style=\"text-align: right;\">-0.00863186 </td><td style=\"text-align: right;\">-0.0683016</td><td style=\"text-align: right;\">0.0521986</td><td style=\"text-align: right;\">   -0.116357</td><td style=\"text-align: right;\">  -0.0378907</td><td style=\"text-align: right;\">   -0.180201</td><td style=\"text-align: right;\">    0.193456</td><td style=\"text-align: right;\">  0.0272356 </td><td style=\"text-align: right;\">  0.0978995 </td><td style=\"text-align: right;\">    0.161629</td><td style=\"text-align: right;\">   -0.213017</td><td style=\"text-align: right;\">   0.0764355</td><td style=\"text-align: right;\">   -0.104905 </td><td style=\"text-align: right;\">  -0.00985283</td><td style=\"text-align: right;\">    -0.198668</td><td style=\"text-align: right;\">   -0.279875 </td><td style=\"text-align: right;\">    0.0566874</td><td style=\"text-align: right;\">    -0.113029</td><td style=\"text-align: right;\">   -0.104553 </td><td style=\"text-align: right;\">     0.124573</td><td style=\"text-align: right;\">   0.122102  </td><td style=\"text-align: right;\">  -0.0377167 </td><td style=\"text-align: right;\">     0.159014</td><td style=\"text-align: right;\">     0.34397 </td><td style=\"text-align: right;\">   -0.0857316</td><td style=\"text-align: right;\">   -0.0737592</td><td style=\"text-align: right;\">   -0.0947106</td><td style=\"text-align: right;\">   -0.0875114</td><td style=\"text-align: right;\">    0.0935472</td><td style=\"text-align: right;\">    0.108464 </td><td style=\"text-align: right;\">    0.0168744</td><td style=\"text-align: right;\">    0.0111669</td><td style=\"text-align: right;\">    0.226907 </td><td style=\"text-align: right;\">    0.0542135</td><td style=\"text-align: right;\">    0.0479978</td><td style=\"text-align: right;\">     0.326035</td><td style=\"text-align: right;\">   -0.0388195</td><td style=\"text-align: right;\">   -0.178603 </td><td style=\"text-align: right;\">    0.0412506</td><td style=\"text-align: right;\">   -0.169685 </td><td style=\"text-align: right;\">   -0.0259896</td><td style=\"text-align: right;\">   -0.0385952</td><td style=\"text-align: right;\">  -0.281301  </td><td style=\"text-align: right;\">    0.137392 </td><td style=\"text-align: right;\">   -0.0989596</td><td style=\"text-align: right;\">     0.411173</td><td style=\"text-align: right;\">   0.103514  </td><td style=\"text-align: right;\">   0.00641383</td><td style=\"text-align: right;\">   -0.160461 </td><td style=\"text-align: right;\">   -0.0854202</td><td style=\"text-align: right;\">    0.22289  </td><td style=\"text-align: right;\">    0.0134198</td><td style=\"text-align: right;\">   -0.0382604</td><td style=\"text-align: right;\">    0.279969 </td><td style=\"text-align: right;\">    0.245552 </td><td style=\"text-align: right;\">   -0.0871003</td><td style=\"text-align: right;\">    0.218318 </td><td style=\"text-align: right;\">   -0.133319 </td><td style=\"text-align: right;\">    0.0700793</td><td style=\"text-align: right;\">    0.184268 </td><td style=\"text-align: right;\">   0.00265768</td><td style=\"text-align: right;\">   0.00988842</td><td style=\"text-align: right;\">   0.0600054 </td><td style=\"text-align: right;\">   -0.0785664</td><td style=\"text-align: right;\">    -0.092781</td><td style=\"text-align: right;\">    0.136901 </td><td style=\"text-align: right;\">    -0.148133</td><td style=\"text-align: right;\">    0.0542775</td><td style=\"text-align: right;\">   -0.0638282</td><td style=\"text-align: right;\">   -0.151298 </td><td style=\"text-align: right;\">   -0.0497629</td><td style=\"text-align: right;\">   -0.128522 </td><td style=\"text-align: right;\">   -0.140693 </td><td style=\"text-align: right;\">   -0.0972141</td><td style=\"text-align: right;\">    -0.180205</td><td style=\"text-align: right;\">     0.202323</td><td style=\"text-align: right;\">   -0.42976  </td><td style=\"text-align: right;\">   -0.221608 </td><td style=\"text-align: right;\">    0.062944 </td><td style=\"text-align: right;\">     0.141167</td><td style=\"text-align: right;\">    0.0511954</td><td style=\"text-align: right;\">   0.225651  </td><td style=\"text-align: right;\">   -0.0310539</td><td style=\"text-align: right;\">    0.321366 </td><td style=\"text-align: right;\">    0.0246271</td><td style=\"text-align: right;\">    0.163237 </td><td style=\"text-align: right;\">   -0.370443 </td><td style=\"text-align: right;\">   -0.354464 </td><td style=\"text-align: right;\">    0.283686 </td><td style=\"text-align: right;\">   -0.0595862</td><td style=\"text-align: right;\">    0.0157025</td></tr>\n",
       "<tr><td>B0089SPEO2 </td><td>A3JOYNYL458QHP</td><td>Less lemon and less zing    </td><td style=\"text-align: right;\">      3</td><td style=\"text-align: right;\">                       0</td><td style=\"text-align: right;\"> 28582</td><td>coleridge          </td><td style=\"text-align: right;\">                     0</td><td style=\"text-align: right;\">1.32391e+09</td><td>Everything is ok, except it just isn't as good as it is in the bags.  Just considerably more bland -- less lemon and less zing.  Boring.                                                                                                                                                                                                                                        </td><td style=\"text-align: right;\">               0</td><td>Yes    </td><td style=\"text-align: right;\">-0.113406 </td><td style=\"text-align: right;\">-0.0100783</td><td style=\"text-align: right;\">-0.185262</td><td style=\"text-align: right;\"> 0.0581028 </td><td style=\"text-align: right;\">-0.0806386 </td><td style=\"text-align: right;\">-0.0834408</td><td style=\"text-align: right;\"> 0.0250452</td><td style=\"text-align: right;\">-0.29619  </td><td style=\"text-align: right;\">-0.0611533</td><td style=\"text-align: right;\">0.0847387 </td><td style=\"text-align: right;\">0.0709743</td><td style=\"text-align: right;\"> 0.150441</td><td style=\"text-align: right;\">-0.0753758</td><td style=\"text-align: right;\">-0.0762187</td><td style=\"text-align: right;\"> 0.0519429</td><td style=\"text-align: right;\">0.0768248  </td><td style=\"text-align: right;\">0.252495 </td><td style=\"text-align: right;\"> 0.0117445</td><td style=\"text-align: right;\"> 0.048102 </td><td style=\"text-align: right;\">-0.0192046</td><td style=\"text-align: right;\">0.179908 </td><td style=\"text-align: right;\"> 0.0599986</td><td style=\"text-align: right;\">-0.0652569</td><td style=\"text-align: right;\">0.143125 </td><td style=\"text-align: right;\">0.0346083</td><td style=\"text-align: right;\">0.019607 </td><td style=\"text-align: right;\">0.0871827</td><td style=\"text-align: right;\"> 0.0870909</td><td style=\"text-align: right;\"> 0.0697534</td><td style=\"text-align: right;\">-0.0152124</td><td style=\"text-align: right;\">-0.00647107</td><td style=\"text-align: right;\">0.126059</td><td style=\"text-align: right;\">0.272665</td><td style=\"text-align: right;\">-0.0190468</td><td style=\"text-align: right;\">-0.00439438</td><td style=\"text-align: right;\">-0.00891596</td><td style=\"text-align: right;\">-0.0776638</td><td style=\"text-align: right;\">-0.0262227 </td><td style=\"text-align: right;\"> 0.0735623</td><td style=\"text-align: right;\">-0.150728</td><td style=\"text-align: right;\">-0.0227012</td><td style=\"text-align: right;\">-0.126916 </td><td style=\"text-align: right;\">0.332035</td><td style=\"text-align: right;\"> 0.00317156</td><td style=\"text-align: right;\">-0.0892141</td><td style=\"text-align: right;\">-0.0327014</td><td style=\"text-align: right;\"> 0.00534479</td><td style=\"text-align: right;\">-0.230345 </td><td style=\"text-align: right;\">-0.161437  </td><td style=\"text-align: right;\">-0.124998 </td><td style=\"text-align: right;\">0.0762195</td><td style=\"text-align: right;\">-0.0278162</td><td style=\"text-align: right;\">-0.0152363</td><td style=\"text-align: right;\">0.166046</td><td style=\"text-align: right;\">0.194541 </td><td style=\"text-align: right;\"> 0.0216267</td><td style=\"text-align: right;\"> 0.107801 </td><td style=\"text-align: right;\">0.069218 </td><td style=\"text-align: right;\">0.0723757</td><td style=\"text-align: right;\"> 0.0230233</td><td style=\"text-align: right;\">-0.171887</td><td style=\"text-align: right;\">0.113961</td><td style=\"text-align: right;\">-0.132999  </td><td style=\"text-align: right;\">-0.0376083</td><td style=\"text-align: right;\"> 0.0634028</td><td style=\"text-align: right;\"> 0.0769058</td><td style=\"text-align: right;\"> 0.0610215</td><td style=\"text-align: right;\">-0.262454</td><td style=\"text-align: right;\">-0.0344054</td><td style=\"text-align: right;\">-0.0629343 </td><td style=\"text-align: right;\">-0.0685852</td><td style=\"text-align: right;\"> 0.0339126</td><td style=\"text-align: right;\">0.0498633</td><td style=\"text-align: right;\">-0.176924   </td><td style=\"text-align: right;\"> 0.0234807</td><td style=\"text-align: right;\">0.0368309</td><td style=\"text-align: right;\">-0.0930659</td><td style=\"text-align: right;\">-0.0179343</td><td style=\"text-align: right;\"> 0.0029895</td><td style=\"text-align: right;\">-0.00474272</td><td style=\"text-align: right;\">0.0397404</td><td style=\"text-align: right;\">-0.0251717 </td><td style=\"text-align: right;\">0.0215008</td><td style=\"text-align: right;\"> 0.0112809</td><td style=\"text-align: right;\">-0.0376371</td><td style=\"text-align: right;\">0.123413 </td><td style=\"text-align: right;\">-0.0717533</td><td style=\"text-align: right;\">-0.012176 </td><td style=\"text-align: right;\">-0.00453512</td><td style=\"text-align: right;\"> 0.0747839</td><td style=\"text-align: right;\">-0.162901</td><td style=\"text-align: right;\">-0.0174449</td><td style=\"text-align: right;\">-0.00470335</td><td style=\"text-align: right;\"> 0.000833064</td><td style=\"text-align: right;\"> 0.102376 </td><td style=\"text-align: right;\">-0.0908449</td><td style=\"text-align: right;\">0.00398846</td><td style=\"text-align: right;\"> 0.0985556  </td><td style=\"text-align: right;\"> 0.0454526</td><td style=\"text-align: right;\">0.0926109</td><td style=\"text-align: right;\">   -0.209834</td><td style=\"text-align: right;\">   0.0666376</td><td style=\"text-align: right;\">   -0.105944</td><td style=\"text-align: right;\">    0.152109</td><td style=\"text-align: right;\"> -0.100806  </td><td style=\"text-align: right;\"> -0.00186513</td><td style=\"text-align: right;\">   -0.026434</td><td style=\"text-align: right;\">   -0.400708</td><td style=\"text-align: right;\">  -0.256907 </td><td style=\"text-align: right;\">    0.131333 </td><td style=\"text-align: right;\">   0.0586655 </td><td style=\"text-align: right;\">     0.239307</td><td style=\"text-align: right;\">   -0.0813063</td><td style=\"text-align: right;\">   -0.0935122</td><td style=\"text-align: right;\">     0.131166</td><td style=\"text-align: right;\">    0.0936392</td><td style=\"text-align: right;\">     0.329619</td><td style=\"text-align: right;\">   0.00746509</td><td style=\"text-align: right;\">  -0.00855392</td><td style=\"text-align: right;\">    -0.207218</td><td style=\"text-align: right;\">     0.235667</td><td style=\"text-align: right;\">   -0.0916616</td><td style=\"text-align: right;\">   -0.151416 </td><td style=\"text-align: right;\">    0.0916478</td><td style=\"text-align: right;\">    0.191034 </td><td style=\"text-align: right;\">    0.0356732</td><td style=\"text-align: right;\">    0.179839 </td><td style=\"text-align: right;\">    0.171761 </td><td style=\"text-align: right;\">    0.0217711</td><td style=\"text-align: right;\">   -0.0305722</td><td style=\"text-align: right;\">   -0.0949353</td><td style=\"text-align: right;\">    0.164635 </td><td style=\"text-align: right;\">     0.363064</td><td style=\"text-align: right;\">   -0.103381 </td><td style=\"text-align: right;\">    0.0595726</td><td style=\"text-align: right;\">    0.169353 </td><td style=\"text-align: right;\">   -0.0223848</td><td style=\"text-align: right;\">   -0.0461009</td><td style=\"text-align: right;\">    0.139311 </td><td style=\"text-align: right;\">   0.0285474 </td><td style=\"text-align: right;\">   -0.131082 </td><td style=\"text-align: right;\">   -0.0563472</td><td style=\"text-align: right;\">     0.351231</td><td style=\"text-align: right;\">   0.00617183</td><td style=\"text-align: right;\">  -0.104367  </td><td style=\"text-align: right;\">   -0.0388064</td><td style=\"text-align: right;\">   -0.199694 </td><td style=\"text-align: right;\">   -0.359619 </td><td style=\"text-align: right;\">   -0.0996946</td><td style=\"text-align: right;\">   -0.0917856</td><td style=\"text-align: right;\">   -0.0462523</td><td style=\"text-align: right;\">    0.0404667</td><td style=\"text-align: right;\">    0.0123409</td><td style=\"text-align: right;\">    0.104272 </td><td style=\"text-align: right;\">    0.264905 </td><td style=\"text-align: right;\">    0.017457 </td><td style=\"text-align: right;\">    0.0679714</td><td style=\"text-align: right;\">   0.0985695 </td><td style=\"text-align: right;\">   0.0842252 </td><td style=\"text-align: right;\">   0.0494827 </td><td style=\"text-align: right;\">   -0.198242 </td><td style=\"text-align: right;\">     0.162037</td><td style=\"text-align: right;\">   -0.0553548</td><td style=\"text-align: right;\">     0.104003</td><td style=\"text-align: right;\">    0.109193 </td><td style=\"text-align: right;\">    0.116404 </td><td style=\"text-align: right;\">    0.192229 </td><td style=\"text-align: right;\">   -0.334394 </td><td style=\"text-align: right;\">    0.0441828</td><td style=\"text-align: right;\">   -0.0283003</td><td style=\"text-align: right;\">   -0.184426 </td><td style=\"text-align: right;\">     0.152018</td><td style=\"text-align: right;\">     0.149951</td><td style=\"text-align: right;\">   -0.242304 </td><td style=\"text-align: right;\">    0.106663 </td><td style=\"text-align: right;\">   -0.042099 </td><td style=\"text-align: right;\">    -0.209505</td><td style=\"text-align: right;\">   -0.138996 </td><td style=\"text-align: right;\">  -0.00844801</td><td style=\"text-align: right;\">    0.211376 </td><td style=\"text-align: right;\">    0.0404755</td><td style=\"text-align: right;\">    0.067691 </td><td style=\"text-align: right;\">    0.127331 </td><td style=\"text-align: right;\">    0.0148554</td><td style=\"text-align: right;\">   -0.0859766</td><td style=\"text-align: right;\">    0.101335 </td><td style=\"text-align: right;\">   -0.0495662</td><td style=\"text-align: right;\">   -0.062359 </td></tr>\n",
       "<tr><td>B001PMCDK2 </td><td>A14TTMM0Z03Y2W</td><td>my cat goes crazy for these!</td><td style=\"text-align: right;\">      5</td><td style=\"text-align: right;\">                       0</td><td style=\"text-align: right;\">389965</td><td>Lindsay S. Bradford</td><td style=\"text-align: right;\">                     0</td><td style=\"text-align: right;\">1.3106e+09 </td><td>Best cat treat ever. There isn't anything comparable to the love my cat has for these treats, he snubs away any other kind now.<br />I know he likes to manipulate me with his cattiness but these treats are my way of manipulating him to come sit on my lap and have some chill time. :)                                                                                     </td><td style=\"text-align: right;\">               1</td><td>Yes    </td><td style=\"text-align: right;\"> 0.0229033</td><td style=\"text-align: right;\">-0.0383479</td><td style=\"text-align: right;\">-0.235941</td><td style=\"text-align: right;\">-0.00628142</td><td style=\"text-align: right;\">-0.108012  </td><td style=\"text-align: right;\">-0.16273  </td><td style=\"text-align: right;\">-0.0930555</td><td style=\"text-align: right;\">-0.227644 </td><td style=\"text-align: right;\">-0.054304 </td><td style=\"text-align: right;\">0.086074  </td><td style=\"text-align: right;\">0.0161217</td><td style=\"text-align: right;\">-0.130554</td><td style=\"text-align: right;\">-0.0120686</td><td style=\"text-align: right;\"> 0.0649465</td><td style=\"text-align: right;\">-0.0398507</td><td style=\"text-align: right;\">0.0182552  </td><td style=\"text-align: right;\">0.0593283</td><td style=\"text-align: right;\">-0.0238031</td><td style=\"text-align: right;\">-0.0996651</td><td style=\"text-align: right;\">-0.139917 </td><td style=\"text-align: right;\">0.0548215</td><td style=\"text-align: right;\">-0.0966993</td><td style=\"text-align: right;\"> 0.108412 </td><td style=\"text-align: right;\">0.0244212</td><td style=\"text-align: right;\">0.116094 </td><td style=\"text-align: right;\">0.0173106</td><td style=\"text-align: right;\">0.0355023</td><td style=\"text-align: right;\">-0.131888 </td><td style=\"text-align: right;\"> 0.0751265</td><td style=\"text-align: right;\"> 0.0998722</td><td style=\"text-align: right;\">-0.0126254 </td><td style=\"text-align: right;\">0.158659</td><td style=\"text-align: right;\">0.210877</td><td style=\"text-align: right;\">-0.132416 </td><td style=\"text-align: right;\">-0.0945701 </td><td style=\"text-align: right;\">-0.150183  </td><td style=\"text-align: right;\">-0.0547581</td><td style=\"text-align: right;\"> 0.0129578 </td><td style=\"text-align: right;\">-0.0276197</td><td style=\"text-align: right;\">-0.155504</td><td style=\"text-align: right;\">-0.0112773</td><td style=\"text-align: right;\">-0.0928299</td><td style=\"text-align: right;\">0.358211</td><td style=\"text-align: right;\">-0.0292633 </td><td style=\"text-align: right;\"> 0.001376 </td><td style=\"text-align: right;\">-0.108603 </td><td style=\"text-align: right;\">-0.0347842 </td><td style=\"text-align: right;\">-0.0544496</td><td style=\"text-align: right;\">-0.0616465 </td><td style=\"text-align: right;\">-0.0157592</td><td style=\"text-align: right;\">0.18491  </td><td style=\"text-align: right;\">-0.0877766</td><td style=\"text-align: right;\">-0.0765458</td><td style=\"text-align: right;\">0.245056</td><td style=\"text-align: right;\">0.0249016</td><td style=\"text-align: right;\"> 0.0110693</td><td style=\"text-align: right;\">-0.0167057</td><td style=\"text-align: right;\">0.0419912</td><td style=\"text-align: right;\">0.0138712</td><td style=\"text-align: right;\">-0.0410269</td><td style=\"text-align: right;\">-0.11771 </td><td style=\"text-align: right;\">0.128043</td><td style=\"text-align: right;\"> 0.00795653</td><td style=\"text-align: right;\">-0.174417 </td><td style=\"text-align: right;\">-0.0733701</td><td style=\"text-align: right;\"> 0.0508918</td><td style=\"text-align: right;\">-0.0202622</td><td style=\"text-align: right;\">-0.242431</td><td style=\"text-align: right;\">-0.0911871</td><td style=\"text-align: right;\">-0.00293087</td><td style=\"text-align: right;\"> 0.0507957</td><td style=\"text-align: right;\">-0.0932019</td><td style=\"text-align: right;\">0.0788935</td><td style=\"text-align: right;\">-9.74121e-05</td><td style=\"text-align: right;\">-0.0677081</td><td style=\"text-align: right;\">0.0772903</td><td style=\"text-align: right;\">-0.113694 </td><td style=\"text-align: right;\"> 0.133857 </td><td style=\"text-align: right;\">-0.0678513</td><td style=\"text-align: right;\">-0.0517511 </td><td style=\"text-align: right;\">0.0854642</td><td style=\"text-align: right;\"> 0.0678262 </td><td style=\"text-align: right;\">0.0928278</td><td style=\"text-align: right;\">-0.0659652</td><td style=\"text-align: right;\">-0.103263 </td><td style=\"text-align: right;\">0.0199658</td><td style=\"text-align: right;\"> 0.154267 </td><td style=\"text-align: right;\"> 0.14895  </td><td style=\"text-align: right;\"> 0.0305986 </td><td style=\"text-align: right;\">-0.0287569</td><td style=\"text-align: right;\">-0.138725</td><td style=\"text-align: right;\">-0.041524 </td><td style=\"text-align: right;\">-0.0228417 </td><td style=\"text-align: right;\"> 0.110908   </td><td style=\"text-align: right;\">-0.0224384</td><td style=\"text-align: right;\"> 0.106835 </td><td style=\"text-align: right;\">0.0399244 </td><td style=\"text-align: right;\"> 0.000167542</td><td style=\"text-align: right;\">-0.0170651</td><td style=\"text-align: right;\">0.0709032</td><td style=\"text-align: right;\">    0.301853</td><td style=\"text-align: right;\">   0.139981 </td><td style=\"text-align: right;\">   -0.322706</td><td style=\"text-align: right;\">    0.091468</td><td style=\"text-align: right;\"> -0.00439925</td><td style=\"text-align: right;\"> -0.33793   </td><td style=\"text-align: right;\">   -0.127733</td><td style=\"text-align: right;\">   -0.191008</td><td style=\"text-align: right;\">  -0.114626 </td><td style=\"text-align: right;\">    0.0379392</td><td style=\"text-align: right;\">   0.054975  </td><td style=\"text-align: right;\">    -0.152297</td><td style=\"text-align: right;\">   -0.0701937</td><td style=\"text-align: right;\">   -0.0161753</td><td style=\"text-align: right;\">    -0.16273 </td><td style=\"text-align: right;\">    0.0818729</td><td style=\"text-align: right;\">     0.15164 </td><td style=\"text-align: right;\">  -0.123827  </td><td style=\"text-align: right;\">  -0.275428  </td><td style=\"text-align: right;\">    -0.12724 </td><td style=\"text-align: right;\">    -0.026025</td><td style=\"text-align: right;\">   -0.169966 </td><td style=\"text-align: right;\">   -0.019786 </td><td style=\"text-align: right;\">    0.068962 </td><td style=\"text-align: right;\">    0.179402 </td><td style=\"text-align: right;\">    0.206774 </td><td style=\"text-align: right;\">   -0.0655948</td><td style=\"text-align: right;\">   -0.163304 </td><td style=\"text-align: right;\">    0.246564 </td><td style=\"text-align: right;\">    0.35874  </td><td style=\"text-align: right;\">   -0.255619 </td><td style=\"text-align: right;\">    0.190314 </td><td style=\"text-align: right;\">     0.272069</td><td style=\"text-align: right;\">   -0.215859 </td><td style=\"text-align: right;\">   -0.197907 </td><td style=\"text-align: right;\">   -0.206229 </td><td style=\"text-align: right;\">    0.0103875</td><td style=\"text-align: right;\">   -0.0994098</td><td style=\"text-align: right;\">   -0.0553724</td><td style=\"text-align: right;\">  -0.00984348</td><td style=\"text-align: right;\">   -0.0639013</td><td style=\"text-align: right;\">    0.039235 </td><td style=\"text-align: right;\">     0.368372</td><td style=\"text-align: right;\">  -0.0683055 </td><td style=\"text-align: right;\">   0.103943  </td><td style=\"text-align: right;\">   -0.165867 </td><td style=\"text-align: right;\">    0.0186775</td><td style=\"text-align: right;\">    0.0796012</td><td style=\"text-align: right;\">    0.0116512</td><td style=\"text-align: right;\">   -0.0491614</td><td style=\"text-align: right;\">    0.328768 </td><td style=\"text-align: right;\">   -0.304912 </td><td style=\"text-align: right;\">   -0.167131 </td><td style=\"text-align: right;\">    0.0346815</td><td style=\"text-align: right;\">    0.0311103</td><td style=\"text-align: right;\">    0.215705 </td><td style=\"text-align: right;\">   -0.0841973</td><td style=\"text-align: right;\">   0.18728   </td><td style=\"text-align: right;\">   0.0446171 </td><td style=\"text-align: right;\">  -0.00123355</td><td style=\"text-align: right;\">   -0.229919 </td><td style=\"text-align: right;\">     0.241184</td><td style=\"text-align: right;\">    0.0173133</td><td style=\"text-align: right;\">    -0.146587</td><td style=\"text-align: right;\">   -0.0517133</td><td style=\"text-align: right;\">    0.168941 </td><td style=\"text-align: right;\">    0.0773709</td><td style=\"text-align: right;\">   -0.330833 </td><td style=\"text-align: right;\">   -0.0816675</td><td style=\"text-align: right;\">   -0.0638635</td><td style=\"text-align: right;\">    0.0629957</td><td style=\"text-align: right;\">    -0.12594 </td><td style=\"text-align: right;\">     0.151888</td><td style=\"text-align: right;\">   -0.0682495</td><td style=\"text-align: right;\">   -0.0616705</td><td style=\"text-align: right;\">   -0.0410064</td><td style=\"text-align: right;\">     0.12587 </td><td style=\"text-align: right;\">    0.126136 </td><td style=\"text-align: right;\">  -0.281668  </td><td style=\"text-align: right;\">   -0.0749009</td><td style=\"text-align: right;\">    0.230681 </td><td style=\"text-align: right;\">   -0.094479 </td><td style=\"text-align: right;\">    0.0612179</td><td style=\"text-align: right;\">   -0.103555 </td><td style=\"text-align: right;\">   -0.147309 </td><td style=\"text-align: right;\">    0.0648153</td><td style=\"text-align: right;\">    0.124355 </td><td style=\"text-align: right;\">    0.0983256</td></tr>\n",
       "</tbody>\n",
       "</table>"
      ]
     },
     "metadata": {},
     "output_type": "display_data"
    },
    {
     "data": {
      "text/plain": []
     },
     "execution_count": 28,
     "metadata": {},
     "output_type": "execute_result"
    }
   ],
   "source": [
    "ext_reviews_new.head(3)"
   ]
  },
  {
   "cell_type": "code",
   "execution_count": 29,
   "metadata": {},
   "outputs": [],
   "source": [
    "ext_train_new = ext_reviews_new[ext_reviews_new[\"Train\"] == \"Yes\"]\n",
    "ext_test_new = ext_reviews_new[ext_reviews_new[\"Train\"] == \"No\"]"
   ]
  },
  {
   "cell_type": "code",
   "execution_count": 30,
   "metadata": {},
   "outputs": [],
   "source": [
    "def plot_par_dep_ICE(xs, par_dep_frame):\n",
    "\n",
    "    \n",
    "    \"\"\" Plots ICE overlayed onto partial dependence for a single variable.\n",
    "    \n",
    "    Args: \n",
    "        xs: Name of variable for which to plot ICE and partial dependence.\n",
    "        par_dep_frame: Name of Pandas DataFrame containing ICE and partial\n",
    "                       dependence values.\n",
    "    \n",
    "    \"\"\"\n",
    "    \n",
    "    # initialize figure and axis\n",
    "    fig, ax = plt.subplots()\n",
    "    \n",
    "    # plot ICE curves\n",
    "    par_dep_frame.drop('partial_dependence', axis=1).plot(x=xs, \n",
    "                                                          colormap='gnuplot',\n",
    "                                                          ax=ax)\n",
    "\n",
    "    # overlay partial dependence, annotate plot\n",
    "    par_dep_frame.plot(title='Partial Dependence and ICE for ' + str(xs),\n",
    "                       x=xs, \n",
    "                       y='partial_dependence',\n",
    "                       style='r-', \n",
    "                       linewidth=3, \n",
    "                       ax=ax)\n",
    "\n",
    "    # add legend\n",
    "    _ = plt.legend(bbox_to_anchor=(1.05, 0),\n",
    "                   loc=3, \n",
    "                   borderaxespad=0.)"
   ]
  },
  {
   "cell_type": "code",
   "execution_count": 45,
   "metadata": {},
   "outputs": [],
   "source": [
    "ext_train_simple = ext_train_new.drop([2, 6, 9])"
   ]
  },
  {
   "cell_type": "markdown",
   "metadata": {},
   "source": [
    "# 2 Training Models"
   ]
  },
  {
   "cell_type": "markdown",
   "metadata": {},
   "source": [
    "## 2.1 Linear Regression"
   ]
  },
  {
   "cell_type": "markdown",
   "metadata": {},
   "source": [
    "### 2.1.1 Train & Fit Model"
   ]
  },
  {
   "cell_type": "code",
   "execution_count": 32,
   "metadata": {},
   "outputs": [],
   "source": [
    "predictors = ['ProductId', 'UserId', 'HelpfulnessNumerator', 'HelpfulnessDenominator', 'Time'] + summary_vecs.names + review_vecs.names \n",
    "response = 'PositiveReview'"
   ]
  },
  {
   "cell_type": "code",
   "execution_count": 33,
   "metadata": {},
   "outputs": [
    {
     "name": "stdout",
     "output_type": "stream",
     "text": [
      "glm Model Build progress: |███████████████████████████████████████████████| 100%\n"
     ]
    }
   ],
   "source": [
    "# Initialize\n",
    "local_glm_plus = H2OGeneralizedLinearEstimator(family='binomial', model_id='glm_surrogate', lambda_search=True)\n",
    "# train \n",
    "local_glm_plus.train(x=predictors, y=response, training_frame=ext_train_new)"
   ]
  },
  {
   "cell_type": "markdown",
   "metadata": {},
   "source": [
    "### 2.1.2 Interpretability"
   ]
  },
  {
   "cell_type": "markdown",
   "metadata": {},
   "source": [
    "#### Variable Importance"
   ]
  },
  {
   "cell_type": "code",
   "execution_count": 34,
   "metadata": {},
   "outputs": [
    {
     "data": {
      "image/png": "[encoded data removed]",
      "text/plain": [
       "<Figure size 1008x720 with 1 Axes>"
      ]
     },
     "metadata": {
      "needs_background": "light"
     },
     "output_type": "display_data"
    }
   ],
   "source": [
    "local_glm_plus.varimp_plot()"
   ]
  },
  {
   "cell_type": "markdown",
   "metadata": {},
   "source": [
    "#### Partial Dependence Plot (PDP)"
   ]
  },
  {
   "cell_type": "code",
   "execution_count": 35,
   "metadata": {},
   "outputs": [
    {
     "name": "stdout",
     "output_type": "stream",
     "text": [
      "PartialDependencePlot progress: |█████████████████████████████████████████| 100%\n"
     ]
    },
    {
     "data": {
      "image/png": "[encoded data removed]",
      "text/plain": [
       "<Figure size 504x720 with 1 Axes>"
      ]
     },
     "metadata": {
      "needs_background": "light"
     },
     "output_type": "display_data"
    }
   ],
   "source": [
    "pdp_local_linear_plus = local_glm_plus.partial_plot(data = ext_train_new, cols = [\"HelpfulnessNumerator\"])"
   ]
  },
  {
   "cell_type": "markdown",
   "metadata": {},
   "source": [
    "#### Individual Conditional Expectation (ICE)"
   ]
  },
  {
   "cell_type": "code",
   "execution_count": 37,
   "metadata": {},
   "outputs": [
    {
     "name": "stdout",
     "output_type": "stream",
     "text": [
      "Parse progress: |█████████████████████████████████████████████████████████| 100%\n",
      "glm prediction progress: |████████████████████████████████████████████████| 100%\n"
     ]
    }
   ],
   "source": [
    "HelpfulnessNumerator_ice_df = ice(data=ext_test_simple, column='HelpfulnessNumerator', model=local_glm_plus)"
   ]
  },
  {
   "cell_type": "code",
   "execution_count": null,
   "metadata": {
    "scrolled": false
   },
   "outputs": [],
   "source": [
    "ice_plot(HelpfulnessNumerator_ice_df, linewidth=0.5, color_by='Score', cmap='coolwarm',\n",
    "        plot_pdp=True, pdp_kwargs={'c': 'k', 'linewidth': 3})\n",
    "vals = HelpfulnessNumerator_ice_df.columns.get_level_values('Score').values\n",
    "sm = plt.cm.ScalarMappable(cmap='coolwarm', norm=plt.Normalize(vmin=vals.min(), vmax=vals.max()))\n",
    "sm._A = []\n",
    "plt.colorbar(sm, label='Score')\n",
    "plt.ylabel('Pred. AV %ile')\n",
    "plt.xlabel('HelpfulnessNumerator');"
   ]
  },
  {
   "cell_type": "markdown",
   "metadata": {},
   "source": [
    "### 2.1.3 Matrix"
   ]
  },
  {
   "cell_type": "code",
   "execution_count": 169,
   "metadata": {},
   "outputs": [
    {
     "name": "stdout",
     "output_type": "stream",
     "text": [
      "\n",
      "Local GLM Coefficients:\n",
      "C46:                      -4.260476800316235\n",
      "C88:                      -3.0978936685560257\n",
      "C22:                      -2.9655688628707715\n",
      "C2:                       -2.9340255339304253\n",
      "C13:                      -2.2511389050009414\n",
      "C89:                      -2.1017036576949235\n",
      "C49:                      -1.950408959025164\n",
      "C32:                      -1.8707779174677097\n",
      "C19:                      -1.8286575243501957\n",
      "C12:                      -1.7966530610909817\n",
      "C11:                      -1.700184340627838\n",
      "C1:                       -1.6847025812196756\n",
      "C82:                      -1.627829319697914\n",
      "C83:                      -1.5565874726680813\n",
      "C29:                      -1.5339705080817085\n",
      "C35:                      -1.3521103076035348\n",
      "C28:                      -1.3443180876656213\n",
      "C33:                      -1.3318451299853227\n",
      "C37:                      -1.2946954862022535\n",
      "C59:                      -1.2792300066640068\n",
      "C96:                      -1.2182719104519433\n",
      "C92:                      -1.165471586649979\n",
      "C84:                      -1.005671035730411\n",
      "summary_C46:              -0.9887284469360819\n",
      "C79:                      -0.9782955096469512\n",
      "summary_C82:              -0.9523415815267741\n",
      "C98:                      -0.9492888257629267\n",
      "C10:                      -0.9176553960302359\n",
      "summary_C13:              -0.8714439777213066\n",
      "summary_C32:              -0.8562798048184127\n",
      "C39:                      -0.8160507159425965\n",
      "summary_C22:              -0.7954929171648278\n",
      "summary_C89:              -0.7126160588624324\n",
      "summary_C88:              -0.695595397657876\n",
      "C70:                      -0.5553562173935883\n",
      "summary_C1:               -0.5277003028422728\n",
      "summary_C35:              -0.48055539202150127\n",
      "summary_C2:               -0.4737158277354006\n",
      "C51:                      -0.45211683502378247\n",
      "summary_C12:              -0.4302724267387639\n",
      "summary_C79:              -0.4169666979560626\n",
      "C42:                      -0.41291839373400246\n",
      "summary_C11:              -0.41155574041772464\n",
      "C43:                      -0.386907082123654\n",
      "C65:                      -0.3806205012965766\n",
      "summary_C19:              -0.35999785671738777\n",
      "summary_C83:              -0.3548401370208142\n",
      "C21:                      -0.3527301136133504\n",
      "summary_C37:              -0.3436098004953751\n",
      "C69:                      -0.3373144386260251\n",
      "summary_C24:              -0.3342359485956226\n",
      "C74:                      -0.3142282660176021\n",
      "summary_C70:              -0.2619624972507879\n",
      "summary_C33:              -0.24824568302943126\n",
      "summary_C28:              -0.23442678940618925\n",
      "summary_C21:              -0.2298489240865572\n",
      "summary_C98:              -0.22236756905686486\n",
      "summary_C43:              -0.20626863216172248\n",
      "summary_C51:              -0.20370951170583576\n",
      "summary_C30:              -0.19733604291766157\n",
      "summary_C29:              -0.19476336038744016\n",
      "summary_C94:              -0.19197604047352512\n",
      "C16:                      -0.190071600657303\n",
      "summary_C7:               -0.18793065470661266\n",
      "C64:                      -0.18378226858285274\n",
      "C23:                      -0.17920132660718144\n",
      "summary_C10:              -0.1747593713000508\n",
      "C62:                      -0.14960064930891093\n",
      "summary_C96:              -0.1262088251166088\n",
      "summary_C62:              -0.11882021274244128\n",
      "summary_C23:              -0.113738477620942\n",
      "summary_C64:              -0.10857539922748806\n",
      "summary_C26:              -0.10496585421717562\n",
      "HelpfulnessDenominator:   -0.09618759115440151\n",
      "summary_C65:              -0.07721104368088262\n",
      "C80:                      -0.068749859901538\n",
      "summary_C59:              -0.025014354827863457\n",
      "summary_C95:              -0.0044725572844783144\n",
      "Time:                     -9.29287922796519e-10\n",
      "summary_C52:              0.0006777140170471783\n",
      "summary_C92:              0.0026301902985524815\n",
      "summary_C90:              0.007689359173949778\n",
      "summary_C39:              0.01898331701020817\n",
      "summary_C67:              0.031597525640386565\n",
      "summary_C42:              0.03423420860835901\n",
      "summary_C18:              0.04289285007776524\n",
      "C31:                      0.057603228928205207\n",
      "summary_C100:             0.067836851219147\n",
      "C36:                      0.07251536115406401\n",
      "summary_C50:              0.09918046064282882\n",
      "summary_C55:              0.09981000049493377\n",
      "summary_C57:              0.10620669181908542\n",
      "C94:                      0.11118832787089393\n",
      "HelpfulnessNumerator:     0.11144737896421535\n",
      "summary_C99:              0.14138753337060903\n",
      "summary_C16:              0.14526679757282526\n",
      "summary_C4:               0.1472842210173801\n",
      "summary_C45:              0.1554676853877125\n",
      "summary_C14:              0.15983390753152377\n",
      "summary_C53:              0.16188535254723194\n",
      "summary_C87:              0.16395405434625668\n",
      "summary_C93:              0.17501915296542211\n",
      "summary_C76:              0.18814325584627323\n",
      "summary_C38:              0.20088921775571905\n",
      "summary_C20:              0.2074740074637712\n",
      "summary_C81:              0.20785312201511544\n",
      "C58:                      0.22922694289520087\n",
      "summary_C60:              0.2357577450591256\n",
      "C100:                     0.2423256466744756\n",
      "C57:                      0.24317913292989204\n",
      "summary_C68:              0.24845764581139276\n",
      "summary_C47:              0.2509865206657005\n",
      "summary_C72:              0.2556179672982405\n",
      "C55:                      0.2604349033184046\n",
      "C18:                      0.2746412129235267\n",
      "C40:                      0.279366055329885\n",
      "summary_C31:              0.28457266019730454\n",
      "C41:                      0.3010731584031337\n",
      "summary_C71:              0.3039883443507119\n",
      "summary_C97:              0.3132414420983138\n",
      "summary_C61:              0.36475746757792066\n",
      "summary_C27:              0.3744826859639896\n",
      "summary_C58:              0.41896198965770204\n",
      "C93:                      0.42660228369966235\n",
      "C47:                      0.42775708147513614\n",
      "summary_C5:               0.43120563544561036\n",
      "C61:                      0.4391613087180442\n",
      "summary_C63:              0.44420693233458103\n",
      "C95:                      0.457503320211817\n",
      "summary_C77:              0.4611604598647555\n",
      "C17:                      0.4798614569190229\n",
      "summary_C66:              0.4868626366316572\n",
      "summary_C44:              0.49000386626148146\n",
      "summary_C3:               0.5027436471904495\n",
      "summary_C91:              0.502789160477183\n",
      "summary_C9:               0.5190170728606894\n",
      "summary_C34:              0.5365885826170156\n",
      "C72:                      0.6262559904957392\n",
      "C68:                      0.6410241580471855\n",
      "summary_C85:              0.6634736764423782\n",
      "summary_C73:              0.6762833446205223\n",
      "C50:                      0.6883634886702364\n",
      "summary_C15:              0.7451730899455046\n",
      "C97:                      0.7595924646444551\n",
      "C67:                      0.8222930238723775\n",
      "summary_C75:              0.8314339463002572\n",
      "C76:                      0.8772134355337319\n",
      "summary_C8:               0.8989988663297133\n",
      "C75:                      1.0264725336702787\n",
      "summary_C48:              1.0668620492379313\n",
      "C73:                      1.0783312761806199\n",
      "C77:                      1.081812568814684\n",
      "C20:                      1.0922623903957713\n",
      "C91:                      1.1005412996405721\n",
      "C4:                       1.148790081314713\n",
      "C48:                      1.2090479968040324\n",
      "C8:                       1.2394207931319698\n",
      "C14:                      1.243136626195636\n",
      "C66:                      1.475550221437668\n",
      "C3:                       1.517876691884352\n",
      "C26:                      1.558594422159404\n",
      "C71:                      1.7156715218650311\n",
      "C52:                      1.8143928390621051\n",
      "Intercept:                1.8528081362730844\n",
      "C27:                      1.90209317291004\n",
      "C81:                      2.2632779022820535\n",
      "C85:                      2.335202756782522\n",
      "C60:                      2.4945105984050064\n",
      "C15:                      2.7063582022443304\n",
      "C44:                      2.9162540933663093\n",
      "C5:                       3.098883742791535\n",
      "C9:                       3.35139839893334\n",
      "C56:                      3.648156511135708\n"
     ]
    }
   ],
   "source": [
    "print('\\nLocal GLM Coefficients:')\n",
    "for c_name, c_val in sorted(local_glm_plus.coef().items(), key=operator.itemgetter(1)):\n",
    "    if c_val != 0.0:\n",
    "        print('%s %s' % (str(c_name + ':').ljust(25), c_val))"
   ]
  },
  {
   "cell_type": "code",
   "execution_count": 170,
   "metadata": {},
   "outputs": [
    {
     "data": {
      "text/plain": [
       "{'train': 0.432012638087628, 'valid': None}"
      ]
     },
     "execution_count": 170,
     "metadata": {},
     "output_type": "execute_result"
    }
   ],
   "source": [
    "local_glm_plus.r2(train=True, valid=True)"
   ]
  },
  {
   "cell_type": "code",
   "execution_count": 171,
   "metadata": {},
   "outputs": [
    {
     "data": {
      "text/plain": [
       "0.8761496423028042"
      ]
     },
     "execution_count": 171,
     "metadata": {},
     "output_type": "execute_result"
    }
   ],
   "source": [
    "local_glm_plus.auc()"
   ]
  },
  {
   "cell_type": "code",
   "execution_count": 172,
   "metadata": {},
   "outputs": [
    {
     "name": "stdout",
     "output_type": "stream",
     "text": [
      "Confusion Matrix (Act/Pred) for max f1 @ threshold = 0.46039732571229414: \n"
     ]
    },
    {
     "data": {
      "text/html": [
       "<div style=\"overflow:auto\"><table style=\"width:50%\"><tr><td><b></b></td>\n",
       "<td><b>0</b></td>\n",
       "<td><b>1</b></td>\n",
       "<td><b>Error</b></td>\n",
       "<td><b>Rate</b></td></tr>\n",
       "<tr><td>0</td>\n",
       "<td>10134.0</td>\n",
       "<td>5760.0</td>\n",
       "<td>0.3624</td>\n",
       "<td> (5760.0/15894.0)</td></tr>\n",
       "<tr><td>1</td>\n",
       "<td>2269.0</td>\n",
       "<td>26239.0</td>\n",
       "<td>0.0796</td>\n",
       "<td> (2269.0/28508.0)</td></tr>\n",
       "<tr><td>Total</td>\n",
       "<td>12403.0</td>\n",
       "<td>31999.0</td>\n",
       "<td>0.1808</td>\n",
       "<td> (8029.0/44402.0)</td></tr></table></div>"
      ],
      "text/plain": [
       "       0      1      Error    Rate\n",
       "-----  -----  -----  -------  ----------------\n",
       "0      10134  5760   0.3624   (5760.0/15894.0)\n",
       "1      2269   26239  0.0796   (2269.0/28508.0)\n",
       "Total  12403  31999  0.1808   (8029.0/44402.0)"
      ]
     },
     "metadata": {},
     "output_type": "display_data"
    },
    {
     "data": {
      "text/plain": []
     },
     "execution_count": 172,
     "metadata": {},
     "output_type": "execute_result"
    }
   ],
   "source": [
    "local_glm_plus.confusion_matrix()"
   ]
  },
  {
   "cell_type": "markdown",
   "metadata": {},
   "source": [
    "## 2.2 Logistic Regression"
   ]
  },
  {
   "cell_type": "markdown",
   "metadata": {},
   "source": [
    "### 2.2.1 Train & Fit Model"
   ]
  },
  {
   "cell_type": "code",
   "execution_count": 56,
   "metadata": {},
   "outputs": [
    {
     "name": "stdout",
     "output_type": "stream",
     "text": [
      "glm Model Build progress: |███████████████████████████████████████████████| 100%\n"
     ]
    }
   ],
   "source": [
    "glm_logistic_plus_summary = H2OGeneralizedLinearEstimator(family = \"binomial\")\n",
    "glm_logistic_plus_summary.train(x=predictors, \n",
    "                               y= response, \n",
    "                               training_frame = ext_train_new, \n",
    "                               validation_frame = ext_test_new, \n",
    "                               model_id=\"glm_logistic\")"
   ]
  },
  {
   "cell_type": "markdown",
   "metadata": {},
   "source": [
    "### 2.2.2 Interpretability"
   ]
  },
  {
   "cell_type": "markdown",
   "metadata": {},
   "source": [
    "#### Variable Importance"
   ]
  },
  {
   "cell_type": "code",
   "execution_count": 57,
   "metadata": {},
   "outputs": [
    {
     "data": {
      "image/png": "[encoded data removed]",
      "text/plain": [
       "<Figure size 1008x720 with 1 Axes>"
      ]
     },
     "metadata": {
      "needs_background": "light"
     },
     "output_type": "display_data"
    }
   ],
   "source": [
    "glm_logistic_plus_summary.varimp_plot()"
   ]
  },
  {
   "cell_type": "markdown",
   "metadata": {},
   "source": [
    "#### Partial Dependence Plot (PDP)"
   ]
  },
  {
   "cell_type": "code",
   "execution_count": 58,
   "metadata": {},
   "outputs": [
    {
     "name": "stdout",
     "output_type": "stream",
     "text": [
      "PartialDependencePlot progress: |█████████████████████████████████████████| 100%\n"
     ]
    },
    {
     "data": {
      "image/png": "[encoded data removed]",
      "text/plain": [
       "<Figure size 504x720 with 1 Axes>"
      ]
     },
     "metadata": {
      "needs_background": "light"
     },
     "output_type": "display_data"
    }
   ],
   "source": [
    "pdp_word_vecs = glm_logistic_plus_summary.partial_plot(data = ext_train_new, cols = [\"C20\"])"
   ]
  },
  {
   "cell_type": "markdown",
   "metadata": {},
   "source": [
    "#### Individual Conditional Expectation (ICE)"
   ]
  },
  {
   "cell_type": "code",
   "execution_count": null,
   "metadata": {},
   "outputs": [],
   "source": [
    "C20_ice_df = ice(data=ext_test_s, column='C20', model=glm_logistic_plus_summary)"
   ]
  },
  {
   "cell_type": "markdown",
   "metadata": {},
   "source": [
    "### 2.2.3 Matrix"
   ]
  },
  {
   "cell_type": "code",
   "execution_count": 177,
   "metadata": {},
   "outputs": [
    {
     "name": "stdout",
     "output_type": "stream",
     "text": [
      "With Summary and Review Embeddings AUC: 0.854\n"
     ]
    }
   ],
   "source": [
    "print(\"With Summary and Review Embeddings AUC: \" + str(round(glm_logistic_plus_summary.auc(valid = True), 3)))"
   ]
  },
  {
   "cell_type": "code",
   "execution_count": 178,
   "metadata": {},
   "outputs": [
    {
     "name": "stdout",
     "output_type": "stream",
     "text": [
      "Confusion Matrix (Act/Pred) for max f1 @ threshold = 0.45977694654643286: \n"
     ]
    },
    {
     "data": {
      "text/html": [
       "<div style=\"overflow:auto\"><table style=\"width:50%\"><tr><td><b></b></td>\n",
       "<td><b>0</b></td>\n",
       "<td><b>1</b></td>\n",
       "<td><b>Error</b></td>\n",
       "<td><b>Rate</b></td></tr>\n",
       "<tr><td>0</td>\n",
       "<td>2383.0</td>\n",
       "<td>1829.0</td>\n",
       "<td>0.4342</td>\n",
       "<td> (1829.0/4212.0)</td></tr>\n",
       "<tr><td>1</td>\n",
       "<td>499.0</td>\n",
       "<td>6441.0</td>\n",
       "<td>0.0719</td>\n",
       "<td> (499.0/6940.0)</td></tr>\n",
       "<tr><td>Total</td>\n",
       "<td>2882.0</td>\n",
       "<td>8270.0</td>\n",
       "<td>0.2088</td>\n",
       "<td> (2328.0/11152.0)</td></tr></table></div>"
      ],
      "text/plain": [
       "       0     1     Error    Rate\n",
       "-----  ----  ----  -------  ----------------\n",
       "0      2383  1829  0.4342   (1829.0/4212.0)\n",
       "1      499   6441  0.0719   (499.0/6940.0)\n",
       "Total  2882  8270  0.2088   (2328.0/11152.0)"
      ]
     },
     "metadata": {},
     "output_type": "display_data"
    },
    {
     "data": {
      "text/plain": []
     },
     "execution_count": 178,
     "metadata": {},
     "output_type": "execute_result"
    }
   ],
   "source": [
    "glm_logistic_plus_summary.confusion_matrix(valid = True)"
   ]
  },
  {
   "cell_type": "code",
   "execution_count": 179,
   "metadata": {},
   "outputs": [
    {
     "name": "stdout",
     "output_type": "stream",
     "text": [
      "Confusion Matrix (Act/Pred) for max f1 @ threshold = 0.45977694654643286: \n"
     ]
    },
    {
     "data": {
      "text/html": [
       "<div style=\"overflow:auto\"><table style=\"width:50%\"><tr><td><b></b></td>\n",
       "<td><b>0</b></td>\n",
       "<td><b>1</b></td>\n",
       "<td><b>Error</b></td>\n",
       "<td><b>Rate</b></td></tr>\n",
       "<tr><td>0</td>\n",
       "<td>2383.0</td>\n",
       "<td>1829.0</td>\n",
       "<td>0.4342</td>\n",
       "<td> (1829.0/4212.0)</td></tr>\n",
       "<tr><td>1</td>\n",
       "<td>499.0</td>\n",
       "<td>6441.0</td>\n",
       "<td>0.0719</td>\n",
       "<td> (499.0/6940.0)</td></tr>\n",
       "<tr><td>Total</td>\n",
       "<td>2882.0</td>\n",
       "<td>8270.0</td>\n",
       "<td>0.2088</td>\n",
       "<td> (2328.0/11152.0)</td></tr></table></div>"
      ],
      "text/plain": [
       "       0     1     Error    Rate\n",
       "-----  ----  ----  -------  ----------------\n",
       "0      2383  1829  0.4342   (1829.0/4212.0)\n",
       "1      499   6441  0.0719   (499.0/6940.0)\n",
       "Total  2882  8270  0.2088   (2328.0/11152.0)"
      ]
     },
     "metadata": {},
     "output_type": "display_data"
    },
    {
     "data": {
      "text/plain": []
     },
     "execution_count": 179,
     "metadata": {},
     "output_type": "execute_result"
    }
   ],
   "source": [
    "glm_logistic_plus_summary.confusion_matrix(valid = True)"
   ]
  },
  {
   "cell_type": "markdown",
   "metadata": {},
   "source": [
    "## 2.3 Decision Tree"
   ]
  },
  {
   "cell_type": "code",
   "execution_count": null,
   "metadata": {},
   "outputs": [],
   "source": [
    "from h2o.estimators.random_forest import H2ORandomForestEstimator # for single tree\n",
    "# in-notebook display\n",
    "from IPython.display import Image\n",
    "from IPython.display import display\n",
    "%matplotlib inline"
   ]
  },
  {
   "cell_type": "markdown",
   "metadata": {},
   "source": [
    "### 2.3.1 Train & Fit Model"
   ]
  },
  {
   "cell_type": "code",
   "execution_count": 4,
   "metadata": {},
   "outputs": [
    {
     "ename": "NameError",
     "evalue": "name 'review_vecs' is not defined",
     "output_type": "error",
     "traceback": [
      "\u001b[0;31m---------------------------------------------------------------------------\u001b[0m",
      "\u001b[0;31mNameError\u001b[0m                                 Traceback (most recent call last)",
      "\u001b[0;32m<ipython-input-4-58932da79d2a>\u001b[0m in \u001b[0;36m<module>\u001b[0;34m\u001b[0m\n\u001b[0;32m----> 1\u001b[0;31m \u001b[0mpredictors\u001b[0m \u001b[0;34m=\u001b[0m \u001b[0;34m[\u001b[0m\u001b[0;34m'ProductId'\u001b[0m\u001b[0;34m,\u001b[0m \u001b[0;34m'UserId'\u001b[0m\u001b[0;34m,\u001b[0m \u001b[0;34m'HelpfulnessNumerator'\u001b[0m\u001b[0;34m,\u001b[0m \u001b[0;34m'HelpfulnessDenominator'\u001b[0m\u001b[0;34m,\u001b[0m \u001b[0;34m'Time'\u001b[0m\u001b[0;34m]\u001b[0m \u001b[0;34m+\u001b[0m \u001b[0mreview_vecs\u001b[0m\u001b[0;34m.\u001b[0m\u001b[0mnames\u001b[0m \u001b[0;34m+\u001b[0m \u001b[0msummary_vecs\u001b[0m\u001b[0;34m.\u001b[0m\u001b[0mnames\u001b[0m\u001b[0;34m\u001b[0m\u001b[0;34m\u001b[0m\u001b[0m\n\u001b[0m\u001b[1;32m      2\u001b[0m \u001b[0mresponse\u001b[0m \u001b[0;34m=\u001b[0m \u001b[0;34m'PositiveReview'\u001b[0m\u001b[0;34m\u001b[0m\u001b[0;34m\u001b[0m\u001b[0m\n",
      "\u001b[0;31mNameError\u001b[0m: name 'review_vecs' is not defined"
     ]
    }
   ],
   "source": [
    "predictors = ['ProductId', 'UserId', 'HelpfulnessNumerator', 'HelpfulnessDenominator', 'Time'] + review_vecs.names + summary_vecs.names\n",
    "response = 'PositiveReview'"
   ]
  },
  {
   "cell_type": "code",
   "execution_count": 182,
   "metadata": {},
   "outputs": [
    {
     "name": "stdout",
     "output_type": "stream",
     "text": [
      "gbm Model Build progress: |███████████████████████████████████████████████| 100%\n"
     ]
    }
   ],
   "source": [
    "# initialize single tree surrogate model\n",
    "model_id = 'dt_surrogate_mojo'\n",
    "\n",
    "# train single tree surrogate model\n",
    "surrogate = H2OGradientBoostingEstimator(ntrees=1,\n",
    "                                         sample_rate=1,\n",
    "                                         col_sample_rate=1,\n",
    "                                         max_depth=3,\n",
    "                                         seed=12345,\n",
    "                                         model_id=model_id)\n",
    "\n",
    "_ = surrogate.train(x=predictors, y=response, training_frame=ext_train_new)"
   ]
  },
  {
   "cell_type": "markdown",
   "metadata": {},
   "source": [
    "### 2.3.2 Interpretability"
   ]
  },
  {
   "cell_type": "markdown",
   "metadata": {},
   "source": [
    "#### Variable Importance"
   ]
  },
  {
   "cell_type": "code",
   "execution_count": null,
   "metadata": {},
   "outputs": [],
   "source": [
    "surrogate.varimp_plot()"
   ]
  },
  {
   "cell_type": "markdown",
   "metadata": {},
   "source": [
    "#### Partial Dependence Plot (PDP)"
   ]
  },
  {
   "cell_type": "code",
   "execution_count": null,
   "metadata": {},
   "outputs": [],
   "source": [
    "pdp_word_vecs = surrogate.partial_plot(data = ext_train_new, cols = [\"summary_C46\"])"
   ]
  },
  {
   "cell_type": "markdown",
   "metadata": {},
   "source": [
    "#### Individual Conditional Expectation (ICE)"
   ]
  },
  {
   "cell_type": "code",
   "execution_count": null,
   "metadata": {},
   "outputs": [],
   "source": []
  },
  {
   "cell_type": "markdown",
   "metadata": {},
   "source": [
    "### 2.3.3 Matrix"
   ]
  },
  {
   "cell_type": "code",
   "execution_count": 183,
   "metadata": {},
   "outputs": [
    {
     "name": "stdout",
     "output_type": "stream",
     "text": [
      "Model Details\n",
      "=============\n",
      "H2OGradientBoostingEstimator :  Gradient Boosting Machine\n",
      "Model Key:  dt_surrogate_mojo\n",
      "\n",
      "\n",
      "ModelMetricsBinomial: gbm\n",
      "** Reported on train data. **\n",
      "\n",
      "MSE: 0.2243490810149944\n",
      "RMSE: 0.47365502321309166\n",
      "LogLoss: 0.6403868260777803\n",
      "Mean Per-Class Error: 0.3404879658310178\n",
      "AUC: 0.7002122496010603\n",
      "pr_auc: 0.5469332774467338\n",
      "Gini: 0.40042449920212064\n",
      "Confusion Matrix (Act/Pred) for max f1 @ threshold = 0.6306127942269008: \n"
     ]
    },
    {
     "data": {
      "text/html": [
       "<div style=\"overflow:auto\"><table style=\"width:50%\"><tr><td><b></b></td>\n",
       "<td><b>0</b></td>\n",
       "<td><b>1</b></td>\n",
       "<td><b>Error</b></td>\n",
       "<td><b>Rate</b></td></tr>\n",
       "<tr><td>0</td>\n",
       "<td>3105.0</td>\n",
       "<td>12789.0</td>\n",
       "<td>0.8046</td>\n",
       "<td> (12789.0/15894.0)</td></tr>\n",
       "<tr><td>1</td>\n",
       "<td>1183.0</td>\n",
       "<td>27325.0</td>\n",
       "<td>0.0415</td>\n",
       "<td> (1183.0/28508.0)</td></tr>\n",
       "<tr><td>Total</td>\n",
       "<td>4288.0</td>\n",
       "<td>40114.0</td>\n",
       "<td>0.3147</td>\n",
       "<td> (13972.0/44402.0)</td></tr></table></div>"
      ],
      "text/plain": [
       "       0     1      Error    Rate\n",
       "-----  ----  -----  -------  -----------------\n",
       "0      3105  12789  0.8046   (12789.0/15894.0)\n",
       "1      1183  27325  0.0415   (1183.0/28508.0)\n",
       "Total  4288  40114  0.3147   (13972.0/44402.0)"
      ]
     },
     "metadata": {},
     "output_type": "display_data"
    },
    {
     "name": "stdout",
     "output_type": "stream",
     "text": [
      "Maximum Metrics: Maximum metrics at their respective thresholds\n",
      "\n"
     ]
    },
    {
     "data": {
      "text/html": [
       "<div style=\"overflow:auto\"><table style=\"width:50%\"><tr><td><b>metric</b></td>\n",
       "<td><b>threshold</b></td>\n",
       "<td><b>value</b></td>\n",
       "<td><b>idx</b></td></tr>\n",
       "<tr><td>max f1</td>\n",
       "<td>0.6306128</td>\n",
       "<td>0.7963918</td>\n",
       "<td>6.0</td></tr>\n",
       "<tr><td>max f2</td>\n",
       "<td>0.6046605</td>\n",
       "<td>0.8996806</td>\n",
       "<td>7.0</td></tr>\n",
       "<tr><td>max f0point5</td>\n",
       "<td>0.6482974</td>\n",
       "<td>0.7471640</td>\n",
       "<td>3.0</td></tr>\n",
       "<tr><td>max accuracy</td>\n",
       "<td>0.6306128</td>\n",
       "<td>0.6853295</td>\n",
       "<td>6.0</td></tr>\n",
       "<tr><td>max precision</td>\n",
       "<td>0.6620901</td>\n",
       "<td>0.8451599</td>\n",
       "<td>0.0</td></tr>\n",
       "<tr><td>max recall</td>\n",
       "<td>0.6046605</td>\n",
       "<td>1.0</td>\n",
       "<td>7.0</td></tr>\n",
       "<tr><td>max specificity</td>\n",
       "<td>0.6620901</td>\n",
       "<td>0.9065056</td>\n",
       "<td>0.0</td></tr>\n",
       "<tr><td>max absolute_mcc</td>\n",
       "<td>0.6482974</td>\n",
       "<td>0.3059479</td>\n",
       "<td>3.0</td></tr>\n",
       "<tr><td>max min_per_class_accuracy</td>\n",
       "<td>0.6482974</td>\n",
       "<td>0.6247369</td>\n",
       "<td>3.0</td></tr>\n",
       "<tr><td>max mean_per_class_accuracy</td>\n",
       "<td>0.6482974</td>\n",
       "<td>0.6595120</td>\n",
       "<td>3.0</td></tr></table></div>"
      ],
      "text/plain": [
       "metric                       threshold    value     idx\n",
       "---------------------------  -----------  --------  -----\n",
       "max f1                       0.630613     0.796392  6\n",
       "max f2                       0.604661     0.899681  7\n",
       "max f0point5                 0.648297     0.747164  3\n",
       "max accuracy                 0.630613     0.685329  6\n",
       "max precision                0.66209      0.84516   0\n",
       "max recall                   0.604661     1         7\n",
       "max specificity              0.66209      0.906506  0\n",
       "max absolute_mcc             0.648297     0.305948  3\n",
       "max min_per_class_accuracy   0.648297     0.624737  3\n",
       "max mean_per_class_accuracy  0.648297     0.659512  3"
      ]
     },
     "metadata": {},
     "output_type": "display_data"
    },
    {
     "name": "stdout",
     "output_type": "stream",
     "text": [
      "Gains/Lift Table: Avg response rate: 64.20 %, avg score: 64.19 %\n",
      "\n"
     ]
    },
    {
     "data": {
      "text/html": [
       "<div style=\"overflow:auto\"><table style=\"width:50%\"><tr><td><b></b></td>\n",
       "<td><b>group</b></td>\n",
       "<td><b>cumulative_data_fraction</b></td>\n",
       "<td><b>lower_threshold</b></td>\n",
       "<td><b>lift</b></td>\n",
       "<td><b>cumulative_lift</b></td>\n",
       "<td><b>response_rate</b></td>\n",
       "<td><b>score</b></td>\n",
       "<td><b>cumulative_response_rate</b></td>\n",
       "<td><b>cumulative_score</b></td>\n",
       "<td><b>capture_rate</b></td>\n",
       "<td><b>cumulative_capture_rate</b></td>\n",
       "<td><b>gain</b></td>\n",
       "<td><b>cumulative_gain</b></td></tr>\n",
       "<tr><td></td>\n",
       "<td>1</td>\n",
       "<td>0.2161389</td>\n",
       "<td>0.6620901</td>\n",
       "<td>1.3163600</td>\n",
       "<td>1.3163600</td>\n",
       "<td>0.8451599</td>\n",
       "<td>0.6620901</td>\n",
       "<td>0.8451599</td>\n",
       "<td>0.6620901</td>\n",
       "<td>0.2845166</td>\n",
       "<td>0.2845166</td>\n",
       "<td>31.6360036</td>\n",
       "<td>31.6360036</td></tr>\n",
       "<tr><td></td>\n",
       "<td>2</td>\n",
       "<td>0.4462186</td>\n",
       "<td>0.6528164</td>\n",
       "<td>1.1718048</td>\n",
       "<td>1.2418243</td>\n",
       "<td>0.7523493</td>\n",
       "<td>0.6529969</td>\n",
       "<td>0.7973048</td>\n",
       "<td>0.6574015</td>\n",
       "<td>0.2696085</td>\n",
       "<td>0.5541252</td>\n",
       "<td>17.1804815</td>\n",
       "<td>24.1824320</td></tr>\n",
       "<tr><td></td>\n",
       "<td>3</td>\n",
       "<td>0.5105401</td>\n",
       "<td>0.6482974</td>\n",
       "<td>1.0977953</td>\n",
       "<td>1.2236785</td>\n",
       "<td>0.7048319</td>\n",
       "<td>0.6482974</td>\n",
       "<td>0.7856544</td>\n",
       "<td>0.6562545</td>\n",
       "<td>0.0706118</td>\n",
       "<td>0.6247369</td>\n",
       "<td>9.7795267</td>\n",
       "<td>22.3678528</td></tr>\n",
       "<tr><td></td>\n",
       "<td>4</td>\n",
       "<td>0.7076933</td>\n",
       "<td>0.6337028</td>\n",
       "<td>0.8707494</td>\n",
       "<td>1.1253575</td>\n",
       "<td>0.5590587</td>\n",
       "<td>0.6337028</td>\n",
       "<td>0.7225281</td>\n",
       "<td>0.6499719</td>\n",
       "<td>0.1716711</td>\n",
       "<td>0.7964080</td>\n",
       "<td>-12.9250557</td>\n",
       "<td>12.5357514</td></tr>\n",
       "<tr><td></td>\n",
       "<td>5</td>\n",
       "<td>0.9034278</td>\n",
       "<td>0.6306128</td>\n",
       "<td>0.8281366</td>\n",
       "<td>1.0609624</td>\n",
       "<td>0.5316995</td>\n",
       "<td>0.6309350</td>\n",
       "<td>0.6811836</td>\n",
       "<td>0.6458474</td>\n",
       "<td>0.1620949</td>\n",
       "<td>0.9585029</td>\n",
       "<td>-17.1863358</td>\n",
       "<td>6.0962375</td></tr>\n",
       "<tr><td></td>\n",
       "<td>6</td>\n",
       "<td>1.0</td>\n",
       "<td>0.6046605</td>\n",
       "<td>0.4297004</td>\n",
       "<td>1.0</td>\n",
       "<td>0.2758862</td>\n",
       "<td>0.6046605</td>\n",
       "<td>0.6420432</td>\n",
       "<td>0.6418699</td>\n",
       "<td>0.0414971</td>\n",
       "<td>1.0</td>\n",
       "<td>-57.0299608</td>\n",
       "<td>0.0</td></tr></table></div>"
      ],
      "text/plain": [
       "    group    cumulative_data_fraction    lower_threshold    lift      cumulative_lift    response_rate    score     cumulative_response_rate    cumulative_score    capture_rate    cumulative_capture_rate    gain      cumulative_gain\n",
       "--  -------  --------------------------  -----------------  --------  -----------------  ---------------  --------  --------------------------  ------------------  --------------  -------------------------  --------  -----------------\n",
       "    1        0.216139                    0.66209            1.31636   1.31636            0.84516          0.66209   0.84516                     0.66209             0.284517        0.284517                   31.636    31.636\n",
       "    2        0.446219                    0.652816           1.1718    1.24182            0.752349         0.652997  0.797305                    0.657401            0.269609        0.554125                   17.1805   24.1824\n",
       "    3        0.51054                     0.648297           1.0978    1.22368            0.704832         0.648297  0.785654                    0.656254            0.0706118       0.624737                   9.77953   22.3679\n",
       "    4        0.707693                    0.633703           0.870749  1.12536            0.559059         0.633703  0.722528                    0.649972            0.171671        0.796408                   -12.9251  12.5358\n",
       "    5        0.903428                    0.630613           0.828137  1.06096            0.531699         0.630935  0.681184                    0.645847            0.162095        0.958503                   -17.1863  6.09624\n",
       "    6        1                           0.604661           0.4297    1                  0.275886         0.604661  0.642043                    0.64187             0.0414971       1                          -57.03    0"
      ]
     },
     "metadata": {},
     "output_type": "display_data"
    },
    {
     "name": "stdout",
     "output_type": "stream",
     "text": [
      "\n",
      "Scoring History: \n"
     ]
    },
    {
     "data": {
      "text/html": [
       "<div style=\"overflow:auto\"><table style=\"width:50%\"><tr><td><b></b></td>\n",
       "<td><b>timestamp</b></td>\n",
       "<td><b>duration</b></td>\n",
       "<td><b>number_of_trees</b></td>\n",
       "<td><b>training_rmse</b></td>\n",
       "<td><b>training_logloss</b></td>\n",
       "<td><b>training_auc</b></td>\n",
       "<td><b>training_pr_auc</b></td>\n",
       "<td><b>training_lift</b></td>\n",
       "<td><b>training_classification_error</b></td></tr>\n",
       "<tr><td></td>\n",
       "<td>2019-04-22 05:00:54</td>\n",
       "<td> 0.010 sec</td>\n",
       "<td>0.0</td>\n",
       "<td>0.4793994</td>\n",
       "<td>0.6522336</td>\n",
       "<td>0.5</td>\n",
       "<td>0.0</td>\n",
       "<td>1.0</td>\n",
       "<td>0.3579568</td></tr>\n",
       "<tr><td></td>\n",
       "<td>2019-04-22 05:00:55</td>\n",
       "<td> 0.400 sec</td>\n",
       "<td>1.0</td>\n",
       "<td>0.4736550</td>\n",
       "<td>0.6403868</td>\n",
       "<td>0.7002122</td>\n",
       "<td>0.5469333</td>\n",
       "<td>1.3163600</td>\n",
       "<td>0.3146705</td></tr></table></div>"
      ],
      "text/plain": [
       "    timestamp            duration    number_of_trees    training_rmse    training_logloss    training_auc    training_pr_auc    training_lift    training_classification_error\n",
       "--  -------------------  ----------  -----------------  ---------------  ------------------  --------------  -----------------  ---------------  -------------------------------\n",
       "    2019-04-22 05:00:54  0.010 sec   0                  0.479399         0.652234            0.5             0                  1                0.357957\n",
       "    2019-04-22 05:00:55  0.400 sec   1                  0.473655         0.640387            0.700212        0.546933           1.31636          0.314671"
      ]
     },
     "metadata": {},
     "output_type": "display_data"
    },
    {
     "name": "stdout",
     "output_type": "stream",
     "text": [
      "Variable Importances: \n"
     ]
    },
    {
     "data": {
      "text/html": [
       "<div style=\"overflow:auto\"><table style=\"width:50%\"><tr><td><b>variable</b></td>\n",
       "<td><b>relative_importance</b></td>\n",
       "<td><b>scaled_importance</b></td>\n",
       "<td><b>percentage</b></td></tr>\n",
       "<tr><td>C22</td>\n",
       "<td>458.4889832</td>\n",
       "<td>1.0</td>\n",
       "<td>0.3602207</td></tr>\n",
       "<tr><td>summary_C89</td>\n",
       "<td>372.2006226</td>\n",
       "<td>0.8117984</td>\n",
       "<td>0.2924266</td></tr>\n",
       "<tr><td>summary_C48</td>\n",
       "<td>253.5211792</td>\n",
       "<td>0.5529493</td>\n",
       "<td>0.1991838</td></tr>\n",
       "<tr><td>summary_C13</td>\n",
       "<td>145.2473450</td>\n",
       "<td>0.3167957</td>\n",
       "<td>0.1141164</td></tr>\n",
       "<tr><td>summary_C97</td>\n",
       "<td>43.3419533</td>\n",
       "<td>0.0945322</td>\n",
       "<td>0.0340524</td></tr>\n",
       "<tr><td>---</td>\n",
       "<td>---</td>\n",
       "<td>---</td>\n",
       "<td>---</td></tr>\n",
       "<tr><td>summary_C95</td>\n",
       "<td>0.0</td>\n",
       "<td>0.0</td>\n",
       "<td>0.0</td></tr>\n",
       "<tr><td>summary_C96</td>\n",
       "<td>0.0</td>\n",
       "<td>0.0</td>\n",
       "<td>0.0</td></tr>\n",
       "<tr><td>summary_C98</td>\n",
       "<td>0.0</td>\n",
       "<td>0.0</td>\n",
       "<td>0.0</td></tr>\n",
       "<tr><td>summary_C99</td>\n",
       "<td>0.0</td>\n",
       "<td>0.0</td>\n",
       "<td>0.0</td></tr>\n",
       "<tr><td>summary_C100</td>\n",
       "<td>0.0</td>\n",
       "<td>0.0</td>\n",
       "<td>0.0</td></tr></table></div>"
      ],
      "text/plain": [
       "variable      relative_importance    scaled_importance    percentage\n",
       "------------  ---------------------  -------------------  -------------------\n",
       "C22           458.4889831542969      1.0                  0.36022073632793544\n",
       "summary_C89   372.20062255859375     0.8117983991631393   0.2924266170963853\n",
       "summary_C48   253.52117919921875     0.5529493368740344   0.19918381728080825\n",
       "summary_C13   145.24734497070312     0.31679571441703     0.11411638551283691\n",
       "summary_C97   43.34195327758789      0.09453215861241725  0.03405244378203412\n",
       "---           ---                    ---                  ---\n",
       "summary_C95   0.0                    0.0                  0.0\n",
       "summary_C96   0.0                    0.0                  0.0\n",
       "summary_C98   0.0                    0.0                  0.0\n",
       "summary_C99   0.0                    0.0                  0.0\n",
       "summary_C100  0.0                    0.0                  0.0"
      ]
     },
     "metadata": {},
     "output_type": "display_data"
    },
    {
     "name": "stdout",
     "output_type": "stream",
     "text": [
      "\n",
      "See the whole table with table.as_data_frame()\n",
      "\n"
     ]
    }
   ],
   "source": [
    "print(surrogate)"
   ]
  },
  {
   "cell_type": "markdown",
   "metadata": {},
   "source": [
    "## 2.4 Gradient Boosting"
   ]
  },
  {
   "cell_type": "markdown",
   "metadata": {},
   "source": [
    "### 2.4.1 Train & Fit Model"
   ]
  },
  {
   "cell_type": "code",
   "execution_count": 3,
   "metadata": {},
   "outputs": [
    {
     "ename": "NameError",
     "evalue": "name 'H2OGradientBoostingEstimator' is not defined",
     "output_type": "error",
     "traceback": [
      "\u001b[0;31m---------------------------------------------------------------------------\u001b[0m",
      "\u001b[0;31mNameError\u001b[0m                                 Traceback (most recent call last)",
      "\u001b[0;32m<ipython-input-3-de5d5e0f596b>\u001b[0m in \u001b[0;36m<module>\u001b[0;34m\u001b[0m\n\u001b[0;32m----> 1\u001b[0;31m gbm = H2OGradientBoostingEstimator(stopping_metric = \"AUC\",\n\u001b[0m\u001b[1;32m      2\u001b[0m                                            \u001b[0mstopping_tolerance\u001b[0m \u001b[0;34m=\u001b[0m \u001b[0;36m0.001\u001b[0m\u001b[0;34m,\u001b[0m\u001b[0;34m\u001b[0m\u001b[0;34m\u001b[0m\u001b[0m\n\u001b[1;32m      3\u001b[0m                                            \u001b[0mstopping_rounds\u001b[0m \u001b[0;34m=\u001b[0m \u001b[0;36m5\u001b[0m\u001b[0;34m,\u001b[0m\u001b[0;34m\u001b[0m\u001b[0;34m\u001b[0m\u001b[0m\n\u001b[1;32m      4\u001b[0m                                            \u001b[0mscore_tree_interval\u001b[0m \u001b[0;34m=\u001b[0m \u001b[0;36m10\u001b[0m\u001b[0;34m,\u001b[0m\u001b[0;34m\u001b[0m\u001b[0;34m\u001b[0m\u001b[0m\n\u001b[1;32m      5\u001b[0m                                            model_id = 'gbm.hex')\n",
      "\u001b[0;31mNameError\u001b[0m: name 'H2OGradientBoostingEstimator' is not defined"
     ]
    }
   ],
   "source": [
    "gbm = H2OGradientBoostingEstimator(stopping_metric = \"AUC\",\n",
    "                                           stopping_tolerance = 0.001,\n",
    "                                           stopping_rounds = 5, \n",
    "                                           score_tree_interval = 10, \n",
    "                                           model_id = 'gbm.hex')\n",
    "gbm.train(x = predictors, \n",
    "                   y = response,\n",
    "                  training_frame = ext_train_new,\n",
    "                  validation_frame = ext_test_new)"
   ]
  },
  {
   "cell_type": "markdown",
   "metadata": {},
   "source": [
    "### 2.4.2 Interpretability"
   ]
  },
  {
   "cell_type": "markdown",
   "metadata": {},
   "source": [
    "#### Variable Importance"
   ]
  },
  {
   "cell_type": "code",
   "execution_count": null,
   "metadata": {},
   "outputs": [],
   "source": [
    "gbm.varimp_plot()"
   ]
  },
  {
   "cell_type": "markdown",
   "metadata": {},
   "source": [
    "#### Partial Dependence Plot (PDP)"
   ]
  },
  {
   "cell_type": "code",
   "execution_count": null,
   "metadata": {
    "scrolled": false
   },
   "outputs": [],
   "source": [
    "pdp_helpfulness = gbm.partial_plot(ext_train_new, cols = ['C22'])"
   ]
  },
  {
   "cell_type": "markdown",
   "metadata": {},
   "source": [
    "#### Individual Conditional Expectation (ICE)"
   ]
  },
  {
   "cell_type": "code",
   "execution_count": null,
   "metadata": {},
   "outputs": [],
   "source": [
    "from iice import ice, ice_plot\n",
    "HelpfulnessNumerator_ice_df = ice(data=ext_test_s, column='C22', model=gbm)"
   ]
  },
  {
   "cell_type": "code",
   "execution_count": null,
   "metadata": {},
   "outputs": [],
   "source": [
    "quantile_dict = get_quantile_dict('PositiveReview', 'Id', ext_test_new)"
   ]
  },
  {
   "cell_type": "markdown",
   "metadata": {},
   "source": [
    "### 2.4.3 Matrix"
   ]
  },
  {
   "cell_type": "code",
   "execution_count": 47,
   "metadata": {},
   "outputs": [
    {
     "name": "stdout",
     "output_type": "stream",
     "text": [
      "AUC on validation data: 0.846\n"
     ]
    }
   ],
   "source": [
    "print(\"AUC on validation data: \" + str(round(gbm.auc(valid = True), 3)))"
   ]
  },
  {
   "cell_type": "code",
   "execution_count": 48,
   "metadata": {},
   "outputs": [
    {
     "name": "stdout",
     "output_type": "stream",
     "text": [
      "Confusion Matrix (Act/Pred) for max f1 @ threshold = 0.47887123153948047: \n"
     ]
    },
    {
     "data": {
      "text/html": [
       "<div style=\"overflow:auto\"><table style=\"width:50%\"><tr><td><b></b></td>\n",
       "<td><b>0</b></td>\n",
       "<td><b>1</b></td>\n",
       "<td><b>Error</b></td>\n",
       "<td><b>Rate</b></td></tr>\n",
       "<tr><td>0</td>\n",
       "<td>2446.0</td>\n",
       "<td>1766.0</td>\n",
       "<td>0.4193</td>\n",
       "<td> (1766.0/4212.0)</td></tr>\n",
       "<tr><td>1</td>\n",
       "<td>555.0</td>\n",
       "<td>6385.0</td>\n",
       "<td>0.08</td>\n",
       "<td> (555.0/6940.0)</td></tr>\n",
       "<tr><td>Total</td>\n",
       "<td>3001.0</td>\n",
       "<td>8151.0</td>\n",
       "<td>0.2081</td>\n",
       "<td> (2321.0/11152.0)</td></tr></table></div>"
      ],
      "text/plain": [
       "       0     1     Error    Rate\n",
       "-----  ----  ----  -------  ----------------\n",
       "0      2446  1766  0.4193   (1766.0/4212.0)\n",
       "1      555   6385  0.08     (555.0/6940.0)\n",
       "Total  3001  8151  0.2081   (2321.0/11152.0)"
      ]
     },
     "metadata": {},
     "output_type": "display_data"
    },
    {
     "data": {
      "text/plain": []
     },
     "execution_count": 48,
     "metadata": {},
     "output_type": "execute_result"
    }
   ],
   "source": [
    "gbm.confusion_matrix(valid=True)"
   ]
  },
  {
   "cell_type": "code",
   "execution_count": 49,
   "metadata": {},
   "outputs": [
    {
     "data": {
      "text/plain": [
       "{'train': 0.44591204451732713, 'valid': 0.357253899124959}"
      ]
     },
     "execution_count": 49,
     "metadata": {},
     "output_type": "execute_result"
    }
   ],
   "source": [
    "gbm.r2(train=True, valid=True)"
   ]
  },
  {
   "cell_type": "code",
   "execution_count": 135,
   "metadata": {},
   "outputs": [
    {
     "name": "stdout",
     "output_type": "stream",
     "text": [
      "H2O session _sid_867b closed.\n"
     ]
    }
   ],
   "source": [
    "h2o.cluster().shutdown()"
   ]
  },
  {
   "cell_type": "code",
   "execution_count": null,
   "metadata": {},
   "outputs": [],
   "source": []
  },
  {
   "cell_type": "code",
   "execution_count": null,
   "metadata": {},
   "outputs": [],
   "source": []
  }
 ],
 "metadata": {
  "kernelspec": {
   "display_name": "Python 3",
   "language": "python",
   "name": "python3"
  },
  "language_info": {
   "codemirror_mode": {
    "name": "ipython",
    "version": 3
   },
   "file_extension": ".py",
   "mimetype": "text/x-python",
   "name": "python",
   "nbconvert_exporter": "python",
   "pygments_lexer": "ipython3",
   "version": "3.7.2"
  },
  "toc": {
   "base_numbering": 1,
   "nav_menu": {},
   "number_sections": false,
   "sideBar": true,
   "skip_h1_title": false,
   "title_cell": "Table of Contents",
   "title_sidebar": "Contents",
   "toc_cell": false,
   "toc_position": {
    "height": "calc(100% - 180px)",
    "left": "10px",
    "top": "150px",
    "width": "336px"
   },
   "toc_section_display": true,
   "toc_window_display": true
  },
  "varInspector": {
   "cols": {
    "lenName": 16,
    "lenType": 16,
    "lenVar": 40
   },
   "kernels_config": {
    "python": {
     "delete_cmd_postfix": "",
     "delete_cmd_prefix": "del ",
     "library": "var_list.py",
     "varRefreshCmd": "print(var_dic_list())"
    },
    "r": {
     "delete_cmd_postfix": ") ",
     "delete_cmd_prefix": "rm(",
     "library": "var_list.r",
     "varRefreshCmd": "cat(var_dic_list()) "
    }
   },
   "types_to_exclude": [
    "module",
    "function",
    "builtin_function_or_method",
    "instance",
    "_Feature"
   ],
   "window_display": false
  }
 },
 "nbformat": 4,
 "nbformat_minor": 2
}
