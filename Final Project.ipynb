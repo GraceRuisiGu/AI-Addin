{
 "cells": [
  {
   "cell_type": "code",
   "execution_count": 1,
   "metadata": {},
   "outputs": [],
   "source": [
    "import h2o\n",
    "import operator\n",
    "from h2o.automl import H2OAutoML\n",
    "import random, os, sys\n",
    "from datetime import datetime\n",
    "import pandas as pd\n",
    "import logging\n",
    "import csv\n",
    "import optparse\n",
    "import time\n",
    "import json\n",
    "from distutils.util import strtobool\n",
    "import psutil\n",
    "import numpy as np\n",
    "from matplotlib import pyplot as plt\n",
    "import warnings\n",
    "from h2o.estimators.glm import H2OGeneralizedLinearEstimator\n",
    "from h2o.estimators import H2OGradientBoostingEstimator\n",
    "warnings.filterwarnings(\"ignore\")"
   ]
  },
  {
   "cell_type": "markdown",
   "metadata": {},
   "source": [
    "# 1 Data Preparation"
   ]
  },
  {
   "cell_type": "markdown",
   "metadata": {},
   "source": [
    "## 1.1 H2O Initialization"
   ]
  },
  {
   "cell_type": "code",
   "execution_count": 2,
   "metadata": {},
   "outputs": [
    {
     "name": "stdout",
     "output_type": "stream",
     "text": [
      "41\n"
     ]
    }
   ],
   "source": [
    "pct_memory=4\n",
    "virtual_memory=psutil.virtual_memory()\n",
    "min_mem_size=int(round(int(pct_memory*virtual_memory.available)/1073741824,0))\n",
    "print(min_mem_size)"
   ]
  },
  {
   "cell_type": "code",
   "execution_count": 3,
   "metadata": {},
   "outputs": [
    {
     "name": "stdout",
     "output_type": "stream",
     "text": [
      "Checking whether there is an H2O instance running at http://localhost:54321 . connected.\n"
     ]
    },
    {
     "data": {
      "text/html": [
       "<div style=\"overflow:auto\"><table style=\"width:50%\"><tr><td>H2O cluster uptime:</td>\n",
       "<td>1 day 2 hours 42 mins</td></tr>\n",
       "<tr><td>H2O cluster timezone:</td>\n",
       "<td>America/New_York</td></tr>\n",
       "<tr><td>H2O data parsing timezone:</td>\n",
       "<td>UTC</td></tr>\n",
       "<tr><td>H2O cluster version:</td>\n",
       "<td>3.24.0.1</td></tr>\n",
       "<tr><td>H2O cluster version age:</td>\n",
       "<td>22 days </td></tr>\n",
       "<tr><td>H2O cluster name:</td>\n",
       "<td>H2O_from_python_mandy_v0rqbc</td></tr>\n",
       "<tr><td>H2O cluster total nodes:</td>\n",
       "<td>1</td></tr>\n",
       "<tr><td>H2O cluster free memory:</td>\n",
       "<td>35.13 Gb</td></tr>\n",
       "<tr><td>H2O cluster total cores:</td>\n",
       "<td>12</td></tr>\n",
       "<tr><td>H2O cluster allowed cores:</td>\n",
       "<td>12</td></tr>\n",
       "<tr><td>H2O cluster status:</td>\n",
       "<td>locked, healthy</td></tr>\n",
       "<tr><td>H2O connection url:</td>\n",
       "<td>http://localhost:54321</td></tr>\n",
       "<tr><td>H2O connection proxy:</td>\n",
       "<td>None</td></tr>\n",
       "<tr><td>H2O internal security:</td>\n",
       "<td>False</td></tr>\n",
       "<tr><td>H2O API Extensions:</td>\n",
       "<td>Amazon S3, XGBoost, Algos, AutoML, Core V3, Core V4</td></tr>\n",
       "<tr><td>Python version:</td>\n",
       "<td>3.7.2 final</td></tr></table></div>"
      ],
      "text/plain": [
       "--------------------------  ---------------------------------------------------\n",
       "H2O cluster uptime:         1 day 2 hours 42 mins\n",
       "H2O cluster timezone:       America/New_York\n",
       "H2O data parsing timezone:  UTC\n",
       "H2O cluster version:        3.24.0.1\n",
       "H2O cluster version age:    22 days\n",
       "H2O cluster name:           H2O_from_python_mandy_v0rqbc\n",
       "H2O cluster total nodes:    1\n",
       "H2O cluster free memory:    35.13 Gb\n",
       "H2O cluster total cores:    12\n",
       "H2O cluster allowed cores:  12\n",
       "H2O cluster status:         locked, healthy\n",
       "H2O connection url:         http://localhost:54321\n",
       "H2O connection proxy:\n",
       "H2O internal security:      False\n",
       "H2O API Extensions:         Amazon S3, XGBoost, Algos, AutoML, Core V3, Core V4\n",
       "Python version:             3.7.2 final\n",
       "--------------------------  ---------------------------------------------------"
      ]
     },
     "metadata": {},
     "output_type": "display_data"
    }
   ],
   "source": [
    "h2o.init(strict_version_check=False,max_mem_size=min_mem_size)"
   ]
  },
  {
   "cell_type": "markdown",
   "metadata": {},
   "source": [
    "## 1.2 Data Import & Parse"
   ]
  },
  {
   "cell_type": "code",
   "execution_count": 4,
   "metadata": {},
   "outputs": [
    {
     "name": "stdout",
     "output_type": "stream",
     "text": [
      "Parse progress: |█████████████████████████████████████████████████████████| 100%\n"
     ]
    }
   ],
   "source": [
    "data_path = \"AmazonReviews.Small.csv\"\n",
    "\n",
    "# Load data into H2O\n",
    "reviews = h2o.import_file(data_path)"
   ]
  },
  {
   "cell_type": "code",
   "execution_count": 5,
   "metadata": {},
   "outputs": [
    {
     "data": {
      "text/plain": [
       "(55554, 10)"
      ]
     },
     "execution_count": 5,
     "metadata": {},
     "output_type": "execute_result"
    }
   ],
   "source": [
    "reviews.shape"
   ]
  },
  {
   "cell_type": "code",
   "execution_count": 6,
   "metadata": {
    "scrolled": false
   },
   "outputs": [
    {
     "data": {
      "text/html": [
       "<table>\n",
       "<thead>\n",
       "<tr><th>ProductId  </th><th>UserId        </th><th>Summary                     </th><th style=\"text-align: right;\">  Score</th><th style=\"text-align: right;\">  HelpfulnessDenominator</th><th style=\"text-align: right;\">    Id</th><th>ProfileName        </th><th style=\"text-align: right;\">  HelpfulnessNumerator</th><th style=\"text-align: right;\">       Time</th><th>Text                                                                                                                                                                                                                                                                                                                                                                            </th></tr>\n",
       "</thead>\n",
       "<tbody>\n",
       "<tr><td>B00141QYSQ </td><td>A1YS02UZZGRDCT</td><td>Do Not Buy                  </td><td style=\"text-align: right;\">      1</td><td style=\"text-align: right;\">                       2</td><td style=\"text-align: right;\"> 41471</td><td>Evan Eberhardt     </td><td style=\"text-align: right;\">                     2</td><td style=\"text-align: right;\">1.34836e+09</td><td>These are made in China (do not buy ANY pet food from China).  Dogswell has been using propylene glycol to soften their treats (what are they thinkng?).  Do not purchase or support this company in any way until they clean up their act.  And for whatever reason Amazon doesn't allow returns of this item, so I had to toss mine out.  Bad business all around on this one.</td></tr>\n",
       "<tr><td>B0089SPEO2 </td><td>A3JOYNYL458QHP</td><td>Less lemon and less zing    </td><td style=\"text-align: right;\">      3</td><td style=\"text-align: right;\">                       0</td><td style=\"text-align: right;\"> 28582</td><td>coleridge          </td><td style=\"text-align: right;\">                     0</td><td style=\"text-align: right;\">1.32391e+09</td><td>Everything is ok, except it just isn't as good as it is in the bags.  Just considerably more bland -- less lemon and less zing.  Boring.                                                                                                                                                                                                                                        </td></tr>\n",
       "<tr><td>B001PMCDK2 </td><td>A14TTMM0Z03Y2W</td><td>my cat goes crazy for these!</td><td style=\"text-align: right;\">      5</td><td style=\"text-align: right;\">                       0</td><td style=\"text-align: right;\">389965</td><td>Lindsay S. Bradford</td><td style=\"text-align: right;\">                     0</td><td style=\"text-align: right;\">1.3106e+09 </td><td>Best cat treat ever. There isn't anything comparable to the love my cat has for these treats, he snubs away any other kind now.<br />I know he likes to manipulate me with his cattiness but these treats are my way of manipulating him to come sit on my lap and have some chill time. :)                                                                                     </td></tr>\n",
       "</tbody>\n",
       "</table>"
      ]
     },
     "metadata": {},
     "output_type": "display_data"
    },
    {
     "data": {
      "text/plain": []
     },
     "execution_count": 6,
     "metadata": {},
     "output_type": "execute_result"
    }
   ],
   "source": [
    "reviews.head(3)"
   ]
  },
  {
   "cell_type": "code",
   "execution_count": 7,
   "metadata": {},
   "outputs": [
    {
     "name": "stdout",
     "output_type": "stream",
     "text": [
      "{'ProductId': 'enum', 'UserId': 'enum', 'Summary': 'enum', 'Score': 'int', 'HelpfulnessDenominator': 'int', 'Id': 'int', 'ProfileName': 'enum', 'HelpfulnessNumerator': 'int', 'Time': 'int', 'Text': 'string'}\n"
     ]
    }
   ],
   "source": [
    "print(reviews.types)"
   ]
  },
  {
   "cell_type": "code",
   "execution_count": 8,
   "metadata": {},
   "outputs": [],
   "source": [
    "reviews['PositiveReview']=(reviews['Score']>=reviews['Score'].mean()[0]).ifelse('1','0')"
   ]
  },
  {
   "cell_type": "code",
   "execution_count": 9,
   "metadata": {},
   "outputs": [
    {
     "data": {
      "text/html": [
       "<table>\n",
       "<thead>\n",
       "<tr><th style=\"text-align: right;\">  PositiveReview</th><th style=\"text-align: right;\">  Count</th></tr>\n",
       "</thead>\n",
       "<tbody>\n",
       "<tr><td style=\"text-align: right;\">               0</td><td style=\"text-align: right;\">  20106</td></tr>\n",
       "<tr><td style=\"text-align: right;\">               1</td><td style=\"text-align: right;\">  35448</td></tr>\n",
       "</tbody>\n",
       "</table>"
      ]
     },
     "metadata": {},
     "output_type": "display_data"
    },
    {
     "data": {
      "text/plain": []
     },
     "execution_count": 9,
     "metadata": {},
     "output_type": "execute_result"
    }
   ],
   "source": [
    "reviews['PositiveReview'].table()"
   ]
  },
  {
   "cell_type": "code",
   "execution_count": 10,
   "metadata": {},
   "outputs": [],
   "source": [
    "# Find the 80th quantile of time in the dataset\n",
    "time_split = reviews[\"Time\"].quantile(prob = [0.8])[1]\n",
    "reviews[\"Train\"] = (reviews[\"Time\"] < time_split).ifelse(\"Yes\", \"No\")"
   ]
  },
  {
   "cell_type": "code",
   "execution_count": 11,
   "metadata": {},
   "outputs": [
    {
     "data": {
      "text/html": [
       "<table>\n",
       "<thead>\n",
       "<tr><th>Train  </th><th style=\"text-align: right;\">  Count</th></tr>\n",
       "</thead>\n",
       "<tbody>\n",
       "<tr><td>No     </td><td style=\"text-align: right;\">  11152</td></tr>\n",
       "<tr><td>Yes    </td><td style=\"text-align: right;\">  44402</td></tr>\n",
       "</tbody>\n",
       "</table>"
      ]
     },
     "metadata": {},
     "output_type": "display_data"
    },
    {
     "data": {
      "text/plain": []
     },
     "execution_count": 11,
     "metadata": {},
     "output_type": "execute_result"
    }
   ],
   "source": [
    "reviews['Train'].table()"
   ]
  },
  {
   "cell_type": "code",
   "execution_count": 12,
   "metadata": {},
   "outputs": [],
   "source": [
    "train = reviews[reviews[\"Train\"] == \"Yes\"]\n",
    "test = reviews[reviews[\"Train\"] == \"No\"]"
   ]
  },
  {
   "cell_type": "markdown",
   "metadata": {},
   "source": [
    "## 1.3 Tokenize Words in Review"
   ]
  },
  {
   "cell_type": "code",
   "execution_count": 13,
   "metadata": {},
   "outputs": [],
   "source": [
    "data_path = \"stopwords.csv\"\n",
    "STOP_WORDS = pd.read_csv(data_path, header=0)"
   ]
  },
  {
   "cell_type": "code",
   "execution_count": 14,
   "metadata": {},
   "outputs": [
    {
     "data": {
      "text/html": [
       "<div>\n",
       "<style scoped>\n",
       "    .dataframe tbody tr th:only-of-type {\n",
       "        vertical-align: middle;\n",
       "    }\n",
       "\n",
       "    .dataframe tbody tr th {\n",
       "        vertical-align: top;\n",
       "    }\n",
       "\n",
       "    .dataframe thead th {\n",
       "        text-align: right;\n",
       "    }\n",
       "</style>\n",
       "<table border=\"1\" class=\"dataframe\">\n",
       "  <thead>\n",
       "    <tr style=\"text-align: right;\">\n",
       "      <th></th>\n",
       "      <th>STOP_WORD</th>\n",
       "    </tr>\n",
       "  </thead>\n",
       "  <tbody>\n",
       "    <tr>\n",
       "      <th>0</th>\n",
       "      <td>all</td>\n",
       "    </tr>\n",
       "    <tr>\n",
       "      <th>1</th>\n",
       "      <td>just</td>\n",
       "    </tr>\n",
       "    <tr>\n",
       "      <th>2</th>\n",
       "      <td>being</td>\n",
       "    </tr>\n",
       "    <tr>\n",
       "      <th>3</th>\n",
       "      <td>over</td>\n",
       "    </tr>\n",
       "    <tr>\n",
       "      <th>4</th>\n",
       "      <td>both</td>\n",
       "    </tr>\n",
       "  </tbody>\n",
       "</table>\n",
       "</div>"
      ],
      "text/plain": [
       "  STOP_WORD\n",
       "0       all\n",
       "1      just\n",
       "2     being\n",
       "3      over\n",
       "4      both"
      ]
     },
     "execution_count": 14,
     "metadata": {},
     "output_type": "execute_result"
    }
   ],
   "source": [
    "STOP_WORDS.head()"
   ]
  },
  {
   "cell_type": "code",
   "execution_count": 15,
   "metadata": {},
   "outputs": [],
   "source": [
    "STOP_WORDS = list(STOP_WORDS['STOP_WORD'])"
   ]
  },
  {
   "cell_type": "code",
   "execution_count": 16,
   "metadata": {},
   "outputs": [],
   "source": [
    "def tokenize(sentences, stop_word = STOP_WORDS):\n",
    "    tokenized = sentences.tokenize(\"\\\\W+\")\n",
    "    tokenized_lower = tokenized.tolower()\n",
    "    tokenized_filtered = tokenized_lower[(tokenized_lower.nchar() >= 2) | (tokenized_lower.isna()),:]\n",
    "    tokenized_words = tokenized_filtered[tokenized_filtered.grep(\"[0-9]\",invert=True,output_logical=True),:]\n",
    "    tokenized_words = tokenized_words[(tokenized_words.isna()) | (~ tokenized_words.isin(STOP_WORDS)),:]\n",
    "    return tokenized_words"
   ]
  },
  {
   "cell_type": "code",
   "execution_count": 17,
   "metadata": {},
   "outputs": [],
   "source": [
    "# Break reviews into sequence of words\n",
    "words = tokenize(reviews[\"Text\"])"
   ]
  },
  {
   "cell_type": "code",
   "execution_count": 18,
   "metadata": {},
   "outputs": [
    {
     "data": {
      "text/html": [
       "<table>\n",
       "<thead>\n",
       "<tr><th>C1       </th></tr>\n",
       "</thead>\n",
       "<tbody>\n",
       "<tr><td>made     </td></tr>\n",
       "<tr><td>china    </td></tr>\n",
       "<tr><td>buy      </td></tr>\n",
       "<tr><td>pet      </td></tr>\n",
       "<tr><td>food     </td></tr>\n",
       "<tr><td>china    </td></tr>\n",
       "<tr><td>dogswell </td></tr>\n",
       "<tr><td>using    </td></tr>\n",
       "<tr><td>propylene</td></tr>\n",
       "<tr><td>glycol   </td></tr>\n",
       "</tbody>\n",
       "</table>"
      ]
     },
     "metadata": {},
     "output_type": "display_data"
    },
    {
     "data": {
      "text/plain": []
     },
     "execution_count": 18,
     "metadata": {},
     "output_type": "execute_result"
    }
   ],
   "source": [
    "words.head()"
   ]
  },
  {
   "cell_type": "markdown",
   "metadata": {},
   "source": [
    "## 1.4 Word2Vec Model"
   ]
  },
  {
   "cell_type": "code",
   "execution_count": 19,
   "metadata": {},
   "outputs": [
    {
     "name": "stdout",
     "output_type": "stream",
     "text": [
      "word2vec Model Build progress: |██████████████████████████████████████████| 100%\n"
     ]
    },
    {
     "data": {
      "text/plain": [
       "'/Users/mandy/Documents/Study/AI-Addin/data/w2v.hex'"
      ]
     },
     "execution_count": 19,
     "metadata": {},
     "output_type": "execute_result"
    }
   ],
   "source": [
    "# Train Word2Vec Model\n",
    "from h2o.estimators.word2vec import H2OWord2vecEstimator\n",
    "\n",
    "\n",
    "w2v_model = H2OWord2vecEstimator(vec_size = 100, model_id = \"w2v.hex\")\n",
    "w2v_model.train(training_frame=words)\n",
    "\n",
    "models_path='data'\n",
    "h2o.save_model(w2v_model, path = models_path, force = True)"
   ]
  },
  {
   "cell_type": "code",
   "execution_count": 20,
   "metadata": {},
   "outputs": [
    {
     "data": {
      "text/plain": [
       "OrderedDict([('coffees', 0.809045135974884),\n",
       "             ('coffe', 0.7763738036155701),\n",
       "             ('brew', 0.7379227876663208),\n",
       "             ('starbucks', 0.7355274558067322),\n",
       "             ('java', 0.7251301407814026)])"
      ]
     },
     "execution_count": 20,
     "metadata": {},
     "output_type": "execute_result"
    }
   ],
   "source": [
    "# Sanity check - find synonyms for the word 'coffee'\n",
    "w2v_model.find_synonyms(\"coffee\", count = 5)"
   ]
  },
  {
   "cell_type": "code",
   "execution_count": 21,
   "metadata": {},
   "outputs": [
    {
     "data": {
      "text/plain": [
       "OrderedDict([('unedible', 0.6697616577148438),\n",
       "             ('rancid', 0.666032612323761),\n",
       "             ('inedible', 0.6279430985450745),\n",
       "             ('tasteless', 0.625658392906189),\n",
       "             ('musty', 0.6215961575508118)])"
      ]
     },
     "execution_count": 21,
     "metadata": {},
     "output_type": "execute_result"
    }
   ],
   "source": [
    "# Sanity check - find synonyms for the word 'stale'\n",
    "w2v_model.find_synonyms(\"stale\", count = 5)"
   ]
  },
  {
   "cell_type": "code",
   "execution_count": 22,
   "metadata": {},
   "outputs": [
    {
     "data": {
      "text/html": [
       "<table>\n",
       "<thead>\n",
       "<tr><th style=\"text-align: right;\">        C1</th><th style=\"text-align: right;\">         C2</th><th style=\"text-align: right;\">        C3</th><th style=\"text-align: right;\">        C4</th><th style=\"text-align: right;\">         C5</th><th style=\"text-align: right;\">        C6</th><th style=\"text-align: right;\">         C7</th><th style=\"text-align: right;\">        C8</th><th style=\"text-align: right;\">        C9</th><th style=\"text-align: right;\">         C10</th><th style=\"text-align: right;\">      C11</th><th style=\"text-align: right;\">        C12</th><th style=\"text-align: right;\">      C13</th><th style=\"text-align: right;\">        C14</th><th style=\"text-align: right;\">        C15</th><th style=\"text-align: right;\">       C16</th><th style=\"text-align: right;\">      C17</th><th style=\"text-align: right;\">        C18</th><th style=\"text-align: right;\">         C19</th><th style=\"text-align: right;\">        C20</th><th style=\"text-align: right;\">        C21</th><th style=\"text-align: right;\">       C22</th><th style=\"text-align: right;\">        C23</th><th style=\"text-align: right;\">        C24</th><th style=\"text-align: right;\">       C25</th><th style=\"text-align: right;\">        C26</th><th style=\"text-align: right;\">       C27</th><th style=\"text-align: right;\">        C28</th><th style=\"text-align: right;\">        C29</th><th style=\"text-align: right;\">        C30</th><th style=\"text-align: right;\">      C31</th><th style=\"text-align: right;\">     C32</th><th style=\"text-align: right;\">        C33</th><th style=\"text-align: right;\">       C34</th><th style=\"text-align: right;\">        C35</th><th style=\"text-align: right;\">        C36</th><th style=\"text-align: right;\">       C37</th><th style=\"text-align: right;\">         C38</th><th style=\"text-align: right;\">       C39</th><th style=\"text-align: right;\">       C40</th><th style=\"text-align: right;\">        C41</th><th style=\"text-align: right;\">       C42</th><th style=\"text-align: right;\">      C43</th><th style=\"text-align: right;\">        C44</th><th style=\"text-align: right;\">       C45</th><th style=\"text-align: right;\">       C46</th><th style=\"text-align: right;\">        C47</th><th style=\"text-align: right;\">        C48</th><th style=\"text-align: right;\">        C49</th><th style=\"text-align: right;\">        C50</th><th style=\"text-align: right;\">      C51</th><th style=\"text-align: right;\">       C52</th><th style=\"text-align: right;\">         C53</th><th style=\"text-align: right;\">      C54</th><th style=\"text-align: right;\">        C55</th><th style=\"text-align: right;\">         C56</th><th style=\"text-align: right;\">       C57</th><th style=\"text-align: right;\">       C58</th><th style=\"text-align: right;\">       C59</th><th style=\"text-align: right;\">        C60</th><th style=\"text-align: right;\">        C61</th><th style=\"text-align: right;\">       C62</th><th style=\"text-align: right;\">       C63</th><th style=\"text-align: right;\">       C64</th><th style=\"text-align: right;\">       C65</th><th style=\"text-align: right;\">        C66</th><th style=\"text-align: right;\">        C67</th><th style=\"text-align: right;\">       C68</th><th style=\"text-align: right;\">      C69</th><th style=\"text-align: right;\">        C70</th><th style=\"text-align: right;\">       C71</th><th style=\"text-align: right;\">        C72</th><th style=\"text-align: right;\">      C73</th><th style=\"text-align: right;\">        C74</th><th style=\"text-align: right;\">        C75</th><th style=\"text-align: right;\">        C76</th><th style=\"text-align: right;\">         C77</th><th style=\"text-align: right;\">         C78</th><th style=\"text-align: right;\">       C79</th><th style=\"text-align: right;\">       C80</th><th style=\"text-align: right;\">       C81</th><th style=\"text-align: right;\">        C82</th><th style=\"text-align: right;\">        C83</th><th style=\"text-align: right;\">         C84</th><th style=\"text-align: right;\">       C85</th><th style=\"text-align: right;\">        C86</th><th style=\"text-align: right;\">       C87</th><th style=\"text-align: right;\">       C88</th><th style=\"text-align: right;\">       C89</th><th style=\"text-align: right;\">         C90</th><th style=\"text-align: right;\">       C91</th><th style=\"text-align: right;\">        C92</th><th style=\"text-align: right;\">       C93</th><th style=\"text-align: right;\">       C94</th><th style=\"text-align: right;\">      C95</th><th style=\"text-align: right;\">       C96</th><th style=\"text-align: right;\">       C97</th><th style=\"text-align: right;\">         C98</th><th style=\"text-align: right;\">       C99</th><th style=\"text-align: right;\">        C100</th></tr>\n",
       "</thead>\n",
       "<tbody>\n",
       "<tr><td style=\"text-align: right;\"> 0.0432755</td><td style=\"text-align: right;\"> 0.0792607 </td><td style=\"text-align: right;\">-0.134023 </td><td style=\"text-align: right;\">-0.0605736</td><td style=\"text-align: right;\"> 0.0183734 </td><td style=\"text-align: right;\"> 0.0289622</td><td style=\"text-align: right;\"> 0.162454  </td><td style=\"text-align: right;\">-0.0550277</td><td style=\"text-align: right;\"> 0.132259 </td><td style=\"text-align: right;\">-0.0741593  </td><td style=\"text-align: right;\">-0.131434</td><td style=\"text-align: right;\"> 0.0252906 </td><td style=\"text-align: right;\">0.0303413</td><td style=\"text-align: right;\"> 0.0812059 </td><td style=\"text-align: right;\">-0.00868519</td><td style=\"text-align: right;\">-0.102462 </td><td style=\"text-align: right;\">0.0813888</td><td style=\"text-align: right;\">-0.0504372 </td><td style=\"text-align: right;\"> 0.0312059  </td><td style=\"text-align: right;\"> 0.0166046 </td><td style=\"text-align: right;\">-0.017215  </td><td style=\"text-align: right;\">-0.0441083</td><td style=\"text-align: right;\"> 0.0616576 </td><td style=\"text-align: right;\">-0.07502   </td><td style=\"text-align: right;\"> 0.0771681</td><td style=\"text-align: right;\"> 0.164968  </td><td style=\"text-align: right;\"> 0.0884841</td><td style=\"text-align: right;\"> 0.033358  </td><td style=\"text-align: right;\">-0.0366895 </td><td style=\"text-align: right;\">-0.0957921 </td><td style=\"text-align: right;\">0.101816 </td><td style=\"text-align: right;\">0.238085</td><td style=\"text-align: right;\"> 0.0488795 </td><td style=\"text-align: right;\">-0.26053  </td><td style=\"text-align: right;\">-0.120735  </td><td style=\"text-align: right;\">-0.0695926 </td><td style=\"text-align: right;\">-0.135122 </td><td style=\"text-align: right;\">-0.089565   </td><td style=\"text-align: right;\"> 0.0356459</td><td style=\"text-align: right;\">-0.195318 </td><td style=\"text-align: right;\"> 0.0685879 </td><td style=\"text-align: right;\">-0.177206 </td><td style=\"text-align: right;\">0.0434926</td><td style=\"text-align: right;\">-0.061116  </td><td style=\"text-align: right;\">-0.0221297</td><td style=\"text-align: right;\">-0.065201 </td><td style=\"text-align: right;\">-0.0508271 </td><td style=\"text-align: right;\">-0.0434481 </td><td style=\"text-align: right;\">-0.0671942 </td><td style=\"text-align: right;\">-0.0772332 </td><td style=\"text-align: right;\">0.140174 </td><td style=\"text-align: right;\">-0.148811 </td><td style=\"text-align: right;\"> 0.0103766  </td><td style=\"text-align: right;\">0.16726  </td><td style=\"text-align: right;\">-0.0900915 </td><td style=\"text-align: right;\">-0.0747988  </td><td style=\"text-align: right;\">-0.19228  </td><td style=\"text-align: right;\"> 0.0348442</td><td style=\"text-align: right;\"> 0.040466 </td><td style=\"text-align: right;\">-0.041482  </td><td style=\"text-align: right;\"> 0.0206261 </td><td style=\"text-align: right;\"> 0.112434 </td><td style=\"text-align: right;\"> 0.0229301</td><td style=\"text-align: right;\">-0.243763 </td><td style=\"text-align: right;\"> 0.0349279</td><td style=\"text-align: right;\">-0.167951  </td><td style=\"text-align: right;\">-0.06517   </td><td style=\"text-align: right;\">-0.0569878</td><td style=\"text-align: right;\">0.131375 </td><td style=\"text-align: right;\">-0.0116267 </td><td style=\"text-align: right;\"> 0.060248 </td><td style=\"text-align: right;\">-0.0770945 </td><td style=\"text-align: right;\">0.337205 </td><td style=\"text-align: right;\"> 0.0526522 </td><td style=\"text-align: right;\">-0.0110191 </td><td style=\"text-align: right;\">-0.0978697 </td><td style=\"text-align: right;\"> 0.000436268</td><td style=\"text-align: right;\"> 0.0125575  </td><td style=\"text-align: right;\"> 0.0102368</td><td style=\"text-align: right;\">-0.105843 </td><td style=\"text-align: right;\"> 0.131124 </td><td style=\"text-align: right;\">-0.0921524 </td><td style=\"text-align: right;\"> 0.191146  </td><td style=\"text-align: right;\">-0.0392834  </td><td style=\"text-align: right;\">-0.160262 </td><td style=\"text-align: right;\"> 0.0765472 </td><td style=\"text-align: right;\"> 0.168858 </td><td style=\"text-align: right;\"> 0.146831 </td><td style=\"text-align: right;\">-0.147902 </td><td style=\"text-align: right;\">-0.0454396  </td><td style=\"text-align: right;\"> 0.157484 </td><td style=\"text-align: right;\">-0.0237845 </td><td style=\"text-align: right;\">-0.237146 </td><td style=\"text-align: right;\"> 0.0370977</td><td style=\"text-align: right;\">0.130776 </td><td style=\"text-align: right;\"> 0.0271111</td><td style=\"text-align: right;\"> 0.0436307</td><td style=\"text-align: right;\">-0.00200255 </td><td style=\"text-align: right;\"> 0.0520713</td><td style=\"text-align: right;\">-0.158377   </td></tr>\n",
       "<tr><td style=\"text-align: right;\">-0.0487831</td><td style=\"text-align: right;\"> 0.118439  </td><td style=\"text-align: right;\">-0.0303681</td><td style=\"text-align: right;\"> 0.157721 </td><td style=\"text-align: right;\"> 0.0684248 </td><td style=\"text-align: right;\">-0.13485  </td><td style=\"text-align: right;\">-0.00986154</td><td style=\"text-align: right;\">-0.331527 </td><td style=\"text-align: right;\"> 0.100595 </td><td style=\"text-align: right;\"> 1.98707e-05</td><td style=\"text-align: right;\">-0.105599</td><td style=\"text-align: right;\">-0.0301875 </td><td style=\"text-align: right;\">0.181647 </td><td style=\"text-align: right;\"> 0.00544846</td><td style=\"text-align: right;\"> 0.118771  </td><td style=\"text-align: right;\">-0.181707 </td><td style=\"text-align: right;\">0.230506 </td><td style=\"text-align: right;\">-0.0344374 </td><td style=\"text-align: right;\">-0.157363   </td><td style=\"text-align: right;\"> 0.067005  </td><td style=\"text-align: right;\">-0.112078  </td><td style=\"text-align: right;\"> 0.104969 </td><td style=\"text-align: right;\">-0.070039  </td><td style=\"text-align: right;\">-0.141068  </td><td style=\"text-align: right;\">-0.0964308</td><td style=\"text-align: right;\">-0.0664858 </td><td style=\"text-align: right;\"> 0.0128851</td><td style=\"text-align: right;\"> 0.0780268 </td><td style=\"text-align: right;\">-0.0128017 </td><td style=\"text-align: right;\">-0.0501928 </td><td style=\"text-align: right;\">0.0691995</td><td style=\"text-align: right;\">0.17478 </td><td style=\"text-align: right;\"> 0.0217065 </td><td style=\"text-align: right;\">-0.239084 </td><td style=\"text-align: right;\"> 0.0033684 </td><td style=\"text-align: right;\"> 0.0154902 </td><td style=\"text-align: right;\">-0.0173244</td><td style=\"text-align: right;\">-0.019485   </td><td style=\"text-align: right;\">-0.062459 </td><td style=\"text-align: right;\">-0.158492 </td><td style=\"text-align: right;\">-0.0884645 </td><td style=\"text-align: right;\">-0.135837 </td><td style=\"text-align: right;\">0.281375 </td><td style=\"text-align: right;\">-0.0157509 </td><td style=\"text-align: right;\">-0.113491 </td><td style=\"text-align: right;\">-0.158122 </td><td style=\"text-align: right;\">-0.0962709 </td><td style=\"text-align: right;\">-0.138579  </td><td style=\"text-align: right;\">-0.222309  </td><td style=\"text-align: right;\"> 0.0288732 </td><td style=\"text-align: right;\">0.1304   </td><td style=\"text-align: right;\"> 0.0161658</td><td style=\"text-align: right;\">-0.0639203  </td><td style=\"text-align: right;\">0.0571925</td><td style=\"text-align: right;\">-0.00835864</td><td style=\"text-align: right;\"> 0.0567773  </td><td style=\"text-align: right;\">-0.0618993</td><td style=\"text-align: right;\"> 0.140059 </td><td style=\"text-align: right;\"> 0.0904222</td><td style=\"text-align: right;\"> 0.0153754 </td><td style=\"text-align: right;\"> 0.0105083 </td><td style=\"text-align: right;\">-0.0174002</td><td style=\"text-align: right;\">-0.0881377</td><td style=\"text-align: right;\">-0.0720021</td><td style=\"text-align: right;\"> 0.10274  </td><td style=\"text-align: right;\"> 0.00901992</td><td style=\"text-align: right;\">-0.125566  </td><td style=\"text-align: right;\">-0.0739244</td><td style=\"text-align: right;\">0.0553379</td><td style=\"text-align: right;\">-0.090389  </td><td style=\"text-align: right;\">-0.0191743</td><td style=\"text-align: right;\"> 0.0164748 </td><td style=\"text-align: right;\">0.180444 </td><td style=\"text-align: right;\">-0.00570063</td><td style=\"text-align: right;\"> 0.103869  </td><td style=\"text-align: right;\"> 0.204599  </td><td style=\"text-align: right;\"> 0.0550867  </td><td style=\"text-align: right;\"> 0.109302   </td><td style=\"text-align: right;\"> 0.11969  </td><td style=\"text-align: right;\">-0.0462409</td><td style=\"text-align: right;\">-0.0155869</td><td style=\"text-align: right;\"> 0.0145383 </td><td style=\"text-align: right;\"> 0.0511702 </td><td style=\"text-align: right;\"> 0.000526307</td><td style=\"text-align: right;\">-0.0213907</td><td style=\"text-align: right;\"> 0.0359547 </td><td style=\"text-align: right;\">-0.092904 </td><td style=\"text-align: right;\"> 0.130127 </td><td style=\"text-align: right;\">-0.148597 </td><td style=\"text-align: right;\"> 0.0435748  </td><td style=\"text-align: right;\">-0.0452159</td><td style=\"text-align: right;\">-0.0348552 </td><td style=\"text-align: right;\">-0.200719 </td><td style=\"text-align: right;\">-0.0423915</td><td style=\"text-align: right;\">0.075542 </td><td style=\"text-align: right;\">-0.0941986</td><td style=\"text-align: right;\">-0.0563581</td><td style=\"text-align: right;\"> 0.0998209  </td><td style=\"text-align: right;\"> 0.0942631</td><td style=\"text-align: right;\">-0.00365887 </td></tr>\n",
       "<tr><td style=\"text-align: right;\">-0.0165155</td><td style=\"text-align: right;\"> 0.0691798 </td><td style=\"text-align: right;\">-0.140878 </td><td style=\"text-align: right;\"> 0.109368 </td><td style=\"text-align: right;\"> 0.00862508</td><td style=\"text-align: right;\">-0.0277915</td><td style=\"text-align: right;\">-0.0129597 </td><td style=\"text-align: right;\">-0.25609  </td><td style=\"text-align: right;\"> 0.0682151</td><td style=\"text-align: right;\"> 0.119919   </td><td style=\"text-align: right;\">-0.135724</td><td style=\"text-align: right;\">-0.196167  </td><td style=\"text-align: right;\">0.0599853</td><td style=\"text-align: right;\"> 0.0240107 </td><td style=\"text-align: right;\"> 0.059969  </td><td style=\"text-align: right;\"> 0.0293594</td><td style=\"text-align: right;\">0.0423285</td><td style=\"text-align: right;\"> 0.0305312 </td><td style=\"text-align: right;\"> 0.0396735  </td><td style=\"text-align: right;\">-0.0494812 </td><td style=\"text-align: right;\">-0.0444291 </td><td style=\"text-align: right;\">-0.0705239</td><td style=\"text-align: right;\"> 0.0855984 </td><td style=\"text-align: right;\">-0.0247937 </td><td style=\"text-align: right;\"> 0.0665122</td><td style=\"text-align: right;\"> 0.0772681 </td><td style=\"text-align: right;\"> 0.0229916</td><td style=\"text-align: right;\">-0.0396281 </td><td style=\"text-align: right;\">-0.0450398 </td><td style=\"text-align: right;\">-0.073154  </td><td style=\"text-align: right;\">0.0430071</td><td style=\"text-align: right;\">0.220979</td><td style=\"text-align: right;\"> 0.0653286 </td><td style=\"text-align: right;\">-0.282533 </td><td style=\"text-align: right;\">-0.212799  </td><td style=\"text-align: right;\">-0.0943601 </td><td style=\"text-align: right;\"> 0.0317786</td><td style=\"text-align: right;\">-0.0633211  </td><td style=\"text-align: right;\"> 0.0692144</td><td style=\"text-align: right;\">-0.0883257</td><td style=\"text-align: right;\">-0.109349  </td><td style=\"text-align: right;\">-0.107326 </td><td style=\"text-align: right;\">0.184511 </td><td style=\"text-align: right;\"> 0.0280534 </td><td style=\"text-align: right;\">-0.0847467</td><td style=\"text-align: right;\">-0.144172 </td><td style=\"text-align: right;\">-0.0785151 </td><td style=\"text-align: right;\">-0.00310675</td><td style=\"text-align: right;\">-0.114277  </td><td style=\"text-align: right;\">-0.0363947 </td><td style=\"text-align: right;\">0.149714 </td><td style=\"text-align: right;\">-0.0473261</td><td style=\"text-align: right;\">-0.000967807</td><td style=\"text-align: right;\">0.0647993</td><td style=\"text-align: right;\"> 0.0642438 </td><td style=\"text-align: right;\">-0.0200667  </td><td style=\"text-align: right;\">-0.131716 </td><td style=\"text-align: right;\"> 0.0278644</td><td style=\"text-align: right;\">-0.0746838</td><td style=\"text-align: right;\"> 0.0214    </td><td style=\"text-align: right;\">-0.0376316 </td><td style=\"text-align: right;\"> 0.0540969</td><td style=\"text-align: right;\"> 0.0431157</td><td style=\"text-align: right;\">-0.146399 </td><td style=\"text-align: right;\">-0.035119 </td><td style=\"text-align: right;\">-0.0114159 </td><td style=\"text-align: right;\">-0.0653957 </td><td style=\"text-align: right;\">-0.186902 </td><td style=\"text-align: right;\">0.184779 </td><td style=\"text-align: right;\"> 0.0231311 </td><td style=\"text-align: right;\"> 0.0259329</td><td style=\"text-align: right;\">-0.0642021 </td><td style=\"text-align: right;\">0.276097 </td><td style=\"text-align: right;\"> 0.117546  </td><td style=\"text-align: right;\"> 0.188303  </td><td style=\"text-align: right;\">-0.028923  </td><td style=\"text-align: right;\"> 0.0832221  </td><td style=\"text-align: right;\"> 0.0265352  </td><td style=\"text-align: right;\"> 0.08172  </td><td style=\"text-align: right;\">-0.120676 </td><td style=\"text-align: right;\"> 0.0375758</td><td style=\"text-align: right;\">-0.00977229</td><td style=\"text-align: right;\"> 0.0511886 </td><td style=\"text-align: right;\">-0.0154957  </td><td style=\"text-align: right;\">-0.206649 </td><td style=\"text-align: right;\">-0.0453396 </td><td style=\"text-align: right;\"> 0.140424 </td><td style=\"text-align: right;\"> 0.0935571</td><td style=\"text-align: right;\">-0.0882622</td><td style=\"text-align: right;\">-0.0959661  </td><td style=\"text-align: right;\"> 0.0514566</td><td style=\"text-align: right;\">-0.0701552 </td><td style=\"text-align: right;\">-0.231797 </td><td style=\"text-align: right;\"> 0.0341305</td><td style=\"text-align: right;\">0.0874123</td><td style=\"text-align: right;\">-0.0558181</td><td style=\"text-align: right;\"> 0.0184991</td><td style=\"text-align: right;\">-0.0703503  </td><td style=\"text-align: right;\"> 0.0359188</td><td style=\"text-align: right;\">-0.0223076  </td></tr>\n",
       "<tr><td style=\"text-align: right;\"> 0.0700507</td><td style=\"text-align: right;\"> 0.00863685</td><td style=\"text-align: right;\">-0.080166 </td><td style=\"text-align: right;\"> 0.0306807</td><td style=\"text-align: right;\"> 0.0744794 </td><td style=\"text-align: right;\">-0.0888908</td><td style=\"text-align: right;\"> 0.0706061 </td><td style=\"text-align: right;\">-0.247853 </td><td style=\"text-align: right;\"> 0.147069 </td><td style=\"text-align: right;\">-0.0109126  </td><td style=\"text-align: right;\">-0.213629</td><td style=\"text-align: right;\">-0.108037  </td><td style=\"text-align: right;\">0.0234317</td><td style=\"text-align: right;\">-0.0716956 </td><td style=\"text-align: right;\"> 0.07463   </td><td style=\"text-align: right;\"> 0.0330882</td><td style=\"text-align: right;\">0.0524065</td><td style=\"text-align: right;\"> 0.00418488</td><td style=\"text-align: right;\">-0.0595952  </td><td style=\"text-align: right;\">-0.108811  </td><td style=\"text-align: right;\"> 0.0627217 </td><td style=\"text-align: right;\">-0.0884246</td><td style=\"text-align: right;\">-0.00216065</td><td style=\"text-align: right;\">-0.0735127 </td><td style=\"text-align: right;\">-0.0342971</td><td style=\"text-align: right;\"> 0.0195563 </td><td style=\"text-align: right;\">-0.0492273</td><td style=\"text-align: right;\"> 0.0968145 </td><td style=\"text-align: right;\">-0.092666  </td><td style=\"text-align: right;\">-0.0683741 </td><td style=\"text-align: right;\">0.177466 </td><td style=\"text-align: right;\">0.10198 </td><td style=\"text-align: right;\"> 0.0608794 </td><td style=\"text-align: right;\">-0.258558 </td><td style=\"text-align: right;\">-0.0824967 </td><td style=\"text-align: right;\"> 0.00664496</td><td style=\"text-align: right;\">-0.0469336</td><td style=\"text-align: right;\">-0.0887504  </td><td style=\"text-align: right;\"> 0.0698644</td><td style=\"text-align: right;\">-0.203893 </td><td style=\"text-align: right;\"> 0.00935234</td><td style=\"text-align: right;\">-0.219259 </td><td style=\"text-align: right;\">0.192923 </td><td style=\"text-align: right;\"> 0.0756625 </td><td style=\"text-align: right;\">-0.0270992</td><td style=\"text-align: right;\">-0.195504 </td><td style=\"text-align: right;\">-0.00802794</td><td style=\"text-align: right;\"> 0.00208601</td><td style=\"text-align: right;\">-0.0658424 </td><td style=\"text-align: right;\"> 0.00781019</td><td style=\"text-align: right;\">0.040288 </td><td style=\"text-align: right;\"> 0.016136 </td><td style=\"text-align: right;\"> 0.000973347</td><td style=\"text-align: right;\">0.0319255</td><td style=\"text-align: right;\"> 0.115927  </td><td style=\"text-align: right;\"> 0.00646064 </td><td style=\"text-align: right;\">-0.0349041</td><td style=\"text-align: right;\">-0.0103198</td><td style=\"text-align: right;\">-0.101054 </td><td style=\"text-align: right;\"> 0.075109  </td><td style=\"text-align: right;\">-0.0681663 </td><td style=\"text-align: right;\">-0.0305745</td><td style=\"text-align: right;\"> 0.0185005</td><td style=\"text-align: right;\">-0.0657938</td><td style=\"text-align: right;\">-0.0271691</td><td style=\"text-align: right;\"> 0.0339568 </td><td style=\"text-align: right;\">-0.0505493 </td><td style=\"text-align: right;\">-0.124535 </td><td style=\"text-align: right;\">0.102009 </td><td style=\"text-align: right;\">-0.0053957 </td><td style=\"text-align: right;\"> 0.0358141</td><td style=\"text-align: right;\">-0.0446276 </td><td style=\"text-align: right;\">0.292678 </td><td style=\"text-align: right;\"> 0.00573996</td><td style=\"text-align: right;\"> 0.11955   </td><td style=\"text-align: right;\">-0.0738739 </td><td style=\"text-align: right;\">-0.00289508 </td><td style=\"text-align: right;\">-0.08921    </td><td style=\"text-align: right;\"> 0.0564151</td><td style=\"text-align: right;\">-0.200499 </td><td style=\"text-align: right;\"> 0.0381099</td><td style=\"text-align: right;\"> 0.00815165</td><td style=\"text-align: right;\"> 0.00238784</td><td style=\"text-align: right;\">-0.0660292  </td><td style=\"text-align: right;\">-0.164465 </td><td style=\"text-align: right;\">-0.0341467 </td><td style=\"text-align: right;\"> 0.0792772</td><td style=\"text-align: right;\"> 0.100943 </td><td style=\"text-align: right;\">-0.179694 </td><td style=\"text-align: right;\">-0.0149196  </td><td style=\"text-align: right;\"> 0.178667 </td><td style=\"text-align: right;\">-0.0563693 </td><td style=\"text-align: right;\">-0.166253 </td><td style=\"text-align: right;\">-0.0673832</td><td style=\"text-align: right;\">0.105632 </td><td style=\"text-align: right;\">-0.111825 </td><td style=\"text-align: right;\"> 0.0533425</td><td style=\"text-align: right;\"> 0.000595792</td><td style=\"text-align: right;\"> 0.118592 </td><td style=\"text-align: right;\">-0.104084   </td></tr>\n",
       "<tr><td style=\"text-align: right;\">-0.0111664</td><td style=\"text-align: right;\"> 0.0325358 </td><td style=\"text-align: right;\">-0.156644 </td><td style=\"text-align: right;\"> 0.0587688</td><td style=\"text-align: right;\"> 0.108408  </td><td style=\"text-align: right;\"> 0.0307111</td><td style=\"text-align: right;\"> 0.146364  </td><td style=\"text-align: right;\">-0.168805 </td><td style=\"text-align: right;\"> 0.127129 </td><td style=\"text-align: right;\">-0.0372651  </td><td style=\"text-align: right;\">-0.119232</td><td style=\"text-align: right;\">-0.181322  </td><td style=\"text-align: right;\">0.0293189</td><td style=\"text-align: right;\"> 0.00568379</td><td style=\"text-align: right;\"> 0.0974251 </td><td style=\"text-align: right;\">-0.0929814</td><td style=\"text-align: right;\">0.0916245</td><td style=\"text-align: right;\"> 0.0371332 </td><td style=\"text-align: right;\"> 0.0235522  </td><td style=\"text-align: right;\">-0.124217  </td><td style=\"text-align: right;\"> 0.0188438 </td><td style=\"text-align: right;\">-0.0693386</td><td style=\"text-align: right;\"> 0.00215908</td><td style=\"text-align: right;\">-0.00715378</td><td style=\"text-align: right;\">-0.027456 </td><td style=\"text-align: right;\"> 0.0260896 </td><td style=\"text-align: right;\"> 0.10293  </td><td style=\"text-align: right;\">-0.0864731 </td><td style=\"text-align: right;\"> 0.00559755</td><td style=\"text-align: right;\">-0.0421336 </td><td style=\"text-align: right;\">0.0247778</td><td style=\"text-align: right;\">0.227168</td><td style=\"text-align: right;\"> 0.115106  </td><td style=\"text-align: right;\">-0.200036 </td><td style=\"text-align: right;\">-0.208268  </td><td style=\"text-align: right;\">-0.0297325 </td><td style=\"text-align: right;\">-0.0786999</td><td style=\"text-align: right;\"> 0.0297679  </td><td style=\"text-align: right;\"> 0.0876623</td><td style=\"text-align: right;\">-0.0994256</td><td style=\"text-align: right;\"> 0.0404057 </td><td style=\"text-align: right;\">-0.20532  </td><td style=\"text-align: right;\">0.100799 </td><td style=\"text-align: right;\">-0.0210335 </td><td style=\"text-align: right;\"> 0.018312 </td><td style=\"text-align: right;\">-0.141476 </td><td style=\"text-align: right;\"> 0.0562452 </td><td style=\"text-align: right;\">-0.0163062 </td><td style=\"text-align: right;\">-0.139625  </td><td style=\"text-align: right;\">-0.115994  </td><td style=\"text-align: right;\">0.0446667</td><td style=\"text-align: right;\">-0.0326533</td><td style=\"text-align: right;\">-0.0590055  </td><td style=\"text-align: right;\">0.0741614</td><td style=\"text-align: right;\"> 0.0398859 </td><td style=\"text-align: right;\">-0.000437969</td><td style=\"text-align: right;\">-0.0836103</td><td style=\"text-align: right;\">-0.0708252</td><td style=\"text-align: right;\"> 0.0487855</td><td style=\"text-align: right;\"> 0.0818196 </td><td style=\"text-align: right;\"> 0.0429572 </td><td style=\"text-align: right;\"> 0.080876 </td><td style=\"text-align: right;\">-0.0325645</td><td style=\"text-align: right;\">-0.100113 </td><td style=\"text-align: right;\"> 0.0649813</td><td style=\"text-align: right;\">-0.0299919 </td><td style=\"text-align: right;\">-0.0310906 </td><td style=\"text-align: right;\">-0.0831797</td><td style=\"text-align: right;\">0.175954 </td><td style=\"text-align: right;\">-0.00213304</td><td style=\"text-align: right;\"> 0.07566  </td><td style=\"text-align: right;\">-0.0664953 </td><td style=\"text-align: right;\">0.312543 </td><td style=\"text-align: right;\"> 0.0282599 </td><td style=\"text-align: right;\"> 0.0590071 </td><td style=\"text-align: right;\">-0.00725857</td><td style=\"text-align: right;\"> 0.074188   </td><td style=\"text-align: right;\"> 0.00934917 </td><td style=\"text-align: right;\"> 0.0931535</td><td style=\"text-align: right;\">-0.172408 </td><td style=\"text-align: right;\"> 0.125872 </td><td style=\"text-align: right;\">-0.0426157 </td><td style=\"text-align: right;\"> 0.083015  </td><td style=\"text-align: right;\">-0.0165463  </td><td style=\"text-align: right;\">-0.22694  </td><td style=\"text-align: right;\"> 0.0715631 </td><td style=\"text-align: right;\"> 0.161316 </td><td style=\"text-align: right;\"> 0.188568 </td><td style=\"text-align: right;\">-0.165926 </td><td style=\"text-align: right;\"> 0.0338699  </td><td style=\"text-align: right;\"> 0.19359  </td><td style=\"text-align: right;\">-0.0592516 </td><td style=\"text-align: right;\">-0.295258 </td><td style=\"text-align: right;\">-0.0713843</td><td style=\"text-align: right;\">0.117287 </td><td style=\"text-align: right;\">-0.0312585</td><td style=\"text-align: right;\"> 0.0310181</td><td style=\"text-align: right;\">-0.0520183  </td><td style=\"text-align: right;\"> 0.0447179</td><td style=\"text-align: right;\">-0.122074   </td></tr>\n",
       "<tr><td style=\"text-align: right;\">-0.0369588</td><td style=\"text-align: right;\"> 0.0245999 </td><td style=\"text-align: right;\">-0.0480092</td><td style=\"text-align: right;\"> 0.0618347</td><td style=\"text-align: right;\"> 0.0387773 </td><td style=\"text-align: right;\">-0.220035 </td><td style=\"text-align: right;\">-0.0932157 </td><td style=\"text-align: right;\">-0.408231 </td><td style=\"text-align: right;\"> 0.2449   </td><td style=\"text-align: right;\"> 0.0414702  </td><td style=\"text-align: right;\">-0.22551 </td><td style=\"text-align: right;\">-0.142478  </td><td style=\"text-align: right;\">0.0892241</td><td style=\"text-align: right;\"> 0.0178834 </td><td style=\"text-align: right;\"> 0.232512  </td><td style=\"text-align: right;\">-0.064701 </td><td style=\"text-align: right;\">0.326776 </td><td style=\"text-align: right;\"> 0.0400801 </td><td style=\"text-align: right;\"> 0.0231219  </td><td style=\"text-align: right;\">-0.0516444 </td><td style=\"text-align: right;\"> 0.121138  </td><td style=\"text-align: right;\"> 0.0130094</td><td style=\"text-align: right;\"> 0.0370752 </td><td style=\"text-align: right;\"> 0.0346937 </td><td style=\"text-align: right;\">-0.137153 </td><td style=\"text-align: right;\"> 0.0573287 </td><td style=\"text-align: right;\"> 0.0430367</td><td style=\"text-align: right;\">-0.00948567</td><td style=\"text-align: right;\">-0.0161598 </td><td style=\"text-align: right;\"> 0.00714269</td><td style=\"text-align: right;\">0.25476  </td><td style=\"text-align: right;\">0.15643 </td><td style=\"text-align: right;\"> 0.00548164</td><td style=\"text-align: right;\">-0.175486 </td><td style=\"text-align: right;\">-0.0214825 </td><td style=\"text-align: right;\">-0.10833   </td><td style=\"text-align: right;\"> 0.0486272</td><td style=\"text-align: right;\"> 0.0211533  </td><td style=\"text-align: right;\">-0.103184 </td><td style=\"text-align: right;\">-0.0105186</td><td style=\"text-align: right;\">-0.0680884 </td><td style=\"text-align: right;\"> 0.0364696</td><td style=\"text-align: right;\">0.16952  </td><td style=\"text-align: right;\"> 0.0184197 </td><td style=\"text-align: right;\">-0.0372859</td><td style=\"text-align: right;\">-0.233208 </td><td style=\"text-align: right;\">-0.0303145 </td><td style=\"text-align: right;\"> 0.105355  </td><td style=\"text-align: right;\">-0.122786  </td><td style=\"text-align: right;\">-0.0875716 </td><td style=\"text-align: right;\">0.180654 </td><td style=\"text-align: right;\"> 0.0319391</td><td style=\"text-align: right;\"> 0.108829   </td><td style=\"text-align: right;\">0.109342 </td><td style=\"text-align: right;\"> 0.149738  </td><td style=\"text-align: right;\"> 0.0138149  </td><td style=\"text-align: right;\">-0.213153 </td><td style=\"text-align: right;\"> 0.0731785</td><td style=\"text-align: right;\"> 0.108336 </td><td style=\"text-align: right;\">-0.147202  </td><td style=\"text-align: right;\"> 0.145227  </td><td style=\"text-align: right;\"> 0.0473643</td><td style=\"text-align: right;\">-0.0948134</td><td style=\"text-align: right;\">-0.0716041</td><td style=\"text-align: right;\"> 0.0553326</td><td style=\"text-align: right;\">-0.117533  </td><td style=\"text-align: right;\">-0.0613708 </td><td style=\"text-align: right;\"> 0.0228178</td><td style=\"text-align: right;\">0.0847307</td><td style=\"text-align: right;\">-0.0663516 </td><td style=\"text-align: right;\"> 0.0194707</td><td style=\"text-align: right;\"> 0.0890716 </td><td style=\"text-align: right;\">0.19791  </td><td style=\"text-align: right;\">-0.0700891 </td><td style=\"text-align: right;\"> 0.138182  </td><td style=\"text-align: right;\"> 0.0239958 </td><td style=\"text-align: right;\"> 0.1375     </td><td style=\"text-align: right;\">-0.213156   </td><td style=\"text-align: right;\"> 0.141023 </td><td style=\"text-align: right;\">-0.239235 </td><td style=\"text-align: right;\">-0.0768431</td><td style=\"text-align: right;\"> 0.0253253 </td><td style=\"text-align: right;\">-0.0313073 </td><td style=\"text-align: right;\">-0.00805446 </td><td style=\"text-align: right;\">-0.142861 </td><td style=\"text-align: right;\"> 0.0184785 </td><td style=\"text-align: right;\">-0.0594199</td><td style=\"text-align: right;\"> 0.164125 </td><td style=\"text-align: right;\">-0.0434346</td><td style=\"text-align: right;\"> 0.102289   </td><td style=\"text-align: right;\"> 0.0343215</td><td style=\"text-align: right;\">-0.037125  </td><td style=\"text-align: right;\">-0.0464936</td><td style=\"text-align: right;\">-0.0902234</td><td style=\"text-align: right;\">0.0388133</td><td style=\"text-align: right;\"> 0.0242358</td><td style=\"text-align: right;\"> 0.0552981</td><td style=\"text-align: right;\">-0.00789757 </td><td style=\"text-align: right;\"> 0.0613718</td><td style=\"text-align: right;\"> 0.0150882  </td></tr>\n",
       "<tr><td style=\"text-align: right;\"> 0.0399837</td><td style=\"text-align: right;\"> 0.0239103 </td><td style=\"text-align: right;\">-0.0702533</td><td style=\"text-align: right;\"> 0.0719949</td><td style=\"text-align: right;\"> 0.247932  </td><td style=\"text-align: right;\">-0.0176226</td><td style=\"text-align: right;\"> 0.110792  </td><td style=\"text-align: right;\">-0.118536 </td><td style=\"text-align: right;\">-0.0259451</td><td style=\"text-align: right;\">-0.0724958  </td><td style=\"text-align: right;\">-0.193868</td><td style=\"text-align: right;\"> 0.00518936</td><td style=\"text-align: right;\">0.0729144</td><td style=\"text-align: right;\"> 0.0201056 </td><td style=\"text-align: right;\"> 0.07155   </td><td style=\"text-align: right;\">-0.0575645</td><td style=\"text-align: right;\">0.261289 </td><td style=\"text-align: right;\">-0.00523306</td><td style=\"text-align: right;\"> 0.0774493  </td><td style=\"text-align: right;\"> 0.19282   </td><td style=\"text-align: right;\"> 0.00267294</td><td style=\"text-align: right;\">-0.136216 </td><td style=\"text-align: right;\">-0.0178641 </td><td style=\"text-align: right;\">-0.15833   </td><td style=\"text-align: right;\"> 0.148209 </td><td style=\"text-align: right;\"> 0.0813272 </td><td style=\"text-align: right;\">-0.0239503</td><td style=\"text-align: right;\"> 0.207371  </td><td style=\"text-align: right;\"> 0.0327914 </td><td style=\"text-align: right;\">-0.0860003 </td><td style=\"text-align: right;\">0.185588 </td><td style=\"text-align: right;\">0.183152</td><td style=\"text-align: right;\">-0.0136288 </td><td style=\"text-align: right;\">-0.0878996</td><td style=\"text-align: right;\"> 0.00432365</td><td style=\"text-align: right;\">-0.00955876</td><td style=\"text-align: right;\">-0.0513483</td><td style=\"text-align: right;\"> 0.0238553  </td><td style=\"text-align: right;\">-0.0527119</td><td style=\"text-align: right;\">-0.0864051</td><td style=\"text-align: right;\">-0.0775339 </td><td style=\"text-align: right;\">-0.147935 </td><td style=\"text-align: right;\">0.173106 </td><td style=\"text-align: right;\">-0.0465413 </td><td style=\"text-align: right;\">-0.0984911</td><td style=\"text-align: right;\">-0.127716 </td><td style=\"text-align: right;\">-0.0499789 </td><td style=\"text-align: right;\">-0.00714421</td><td style=\"text-align: right;\"> 0.00398604</td><td style=\"text-align: right;\">-0.0390475 </td><td style=\"text-align: right;\">0.0731347</td><td style=\"text-align: right;\"> 0.0587147</td><td style=\"text-align: right;\"> 0.0064669  </td><td style=\"text-align: right;\">0.0868093</td><td style=\"text-align: right;\"> 0.0121754 </td><td style=\"text-align: right;\"> 0.0292068  </td><td style=\"text-align: right;\">-0.0349394</td><td style=\"text-align: right;\"> 0.291269 </td><td style=\"text-align: right;\"> 0.0554575</td><td style=\"text-align: right;\"> 0.14936   </td><td style=\"text-align: right;\"> 0.133452  </td><td style=\"text-align: right;\"> 0.0929757</td><td style=\"text-align: right;\">-0.104424 </td><td style=\"text-align: right;\">-0.159757 </td><td style=\"text-align: right;\"> 0.0589045</td><td style=\"text-align: right;\">-0.00064628</td><td style=\"text-align: right;\">-0.0796905 </td><td style=\"text-align: right;\">-0.17002  </td><td style=\"text-align: right;\">0.0949984</td><td style=\"text-align: right;\">-0.0184079 </td><td style=\"text-align: right;\"> 0.0468673</td><td style=\"text-align: right;\">-0.0368051 </td><td style=\"text-align: right;\">0.282594 </td><td style=\"text-align: right;\"> 0.169832  </td><td style=\"text-align: right;\">-0.00493814</td><td style=\"text-align: right;\"> 0.0193897 </td><td style=\"text-align: right;\"> 0.0378386  </td><td style=\"text-align: right;\">-0.178479   </td><td style=\"text-align: right;\">-0.0110423</td><td style=\"text-align: right;\">-0.0942341</td><td style=\"text-align: right;\">-0.0275307</td><td style=\"text-align: right;\"> 0.0353217 </td><td style=\"text-align: right;\"> 0.148582  </td><td style=\"text-align: right;\">-0.0678713  </td><td style=\"text-align: right;\">-0.0998779</td><td style=\"text-align: right;\"> 0.00280492</td><td style=\"text-align: right;\">-0.0628038</td><td style=\"text-align: right;\"> 0.257844 </td><td style=\"text-align: right;\">-0.060239 </td><td style=\"text-align: right;\">-0.00713506 </td><td style=\"text-align: right;\"> 0.111945 </td><td style=\"text-align: right;\">-0.039683  </td><td style=\"text-align: right;\">-0.19787  </td><td style=\"text-align: right;\">-0.0322518</td><td style=\"text-align: right;\">0.16146  </td><td style=\"text-align: right;\">-0.205553 </td><td style=\"text-align: right;\">-0.0508303</td><td style=\"text-align: right;\"> 0.049894   </td><td style=\"text-align: right;\">-0.04034  </td><td style=\"text-align: right;\"> 0.000689665</td></tr>\n",
       "<tr><td style=\"text-align: right;\">-0.0471777</td><td style=\"text-align: right;\"> 0.0796445 </td><td style=\"text-align: right;\">-0.0258651</td><td style=\"text-align: right;\"> 0.0444328</td><td style=\"text-align: right;\"> 0.0439248 </td><td style=\"text-align: right;\">-0.0128866</td><td style=\"text-align: right;\"> 0.0970374 </td><td style=\"text-align: right;\">-0.381958 </td><td style=\"text-align: right;\"> 0.136411 </td><td style=\"text-align: right;\"> 0.12076    </td><td style=\"text-align: right;\">-0.110195</td><td style=\"text-align: right;\">-0.0369284 </td><td style=\"text-align: right;\">0.119372 </td><td style=\"text-align: right;\">-0.029998  </td><td style=\"text-align: right;\"> 0.117592  </td><td style=\"text-align: right;\">-0.0640494</td><td style=\"text-align: right;\">0.230993 </td><td style=\"text-align: right;\">-0.00244872</td><td style=\"text-align: right;\">-0.12838    </td><td style=\"text-align: right;\">-0.0537896 </td><td style=\"text-align: right;\"> 0.012838  </td><td style=\"text-align: right;\"> 0.0145698</td><td style=\"text-align: right;\"> 0.0172696 </td><td style=\"text-align: right;\">-0.00711439</td><td style=\"text-align: right;\"> 0.0134864</td><td style=\"text-align: right;\"> 0.0437409 </td><td style=\"text-align: right;\"> 0.0582131</td><td style=\"text-align: right;\"> 0.0831609 </td><td style=\"text-align: right;\"> 0.0762468 </td><td style=\"text-align: right;\">-0.0680967 </td><td style=\"text-align: right;\">0.158412 </td><td style=\"text-align: right;\">0.138619</td><td style=\"text-align: right;\"> 0.0373825 </td><td style=\"text-align: right;\">-0.228269 </td><td style=\"text-align: right;\">-0.039479  </td><td style=\"text-align: right;\"> 0.00225441</td><td style=\"text-align: right;\"> 0.0540662</td><td style=\"text-align: right;\"> 0.000651089</td><td style=\"text-align: right;\"> 0.0125982</td><td style=\"text-align: right;\">-0.122889 </td><td style=\"text-align: right;\">-0.10997   </td><td style=\"text-align: right;\">-0.0142722</td><td style=\"text-align: right;\">0.212816 </td><td style=\"text-align: right;\">-0.00928333</td><td style=\"text-align: right;\">-0.101944 </td><td style=\"text-align: right;\">-0.163366 </td><td style=\"text-align: right;\">-0.100696  </td><td style=\"text-align: right;\"> 0.0169495 </td><td style=\"text-align: right;\">-0.0610879 </td><td style=\"text-align: right;\">-0.0740545 </td><td style=\"text-align: right;\">0.132432 </td><td style=\"text-align: right;\"> 0.0600295</td><td style=\"text-align: right;\"> 0.0755707  </td><td style=\"text-align: right;\">0.0952757</td><td style=\"text-align: right;\"> 0.115066  </td><td style=\"text-align: right;\">-0.0437177  </td><td style=\"text-align: right;\">-0.136243 </td><td style=\"text-align: right;\"> 0.113929 </td><td style=\"text-align: right;\">-0.0242374</td><td style=\"text-align: right;\"> 0.00249169</td><td style=\"text-align: right;\"> 0.0600104 </td><td style=\"text-align: right;\"> 0.0184571</td><td style=\"text-align: right;\">-0.0955795</td><td style=\"text-align: right;\">-0.0601126</td><td style=\"text-align: right;\"> 0.067412 </td><td style=\"text-align: right;\">-0.0488263 </td><td style=\"text-align: right;\">-0.0510164 </td><td style=\"text-align: right;\">-0.0817785</td><td style=\"text-align: right;\">0.116713 </td><td style=\"text-align: right;\"> 0.00467287</td><td style=\"text-align: right;\"> 0.0052163</td><td style=\"text-align: right;\"> 0.152825  </td><td style=\"text-align: right;\">0.184394 </td><td style=\"text-align: right;\">-0.0417547 </td><td style=\"text-align: right;\"> 0.115495  </td><td style=\"text-align: right;\"> 0.1492    </td><td style=\"text-align: right;\">-0.0130473  </td><td style=\"text-align: right;\"> 3.49633e-05</td><td style=\"text-align: right;\"> 0.0752353</td><td style=\"text-align: right;\">-0.184251 </td><td style=\"text-align: right;\">-0.0527977</td><td style=\"text-align: right;\">-0.0287193 </td><td style=\"text-align: right;\"> 0.0532532 </td><td style=\"text-align: right;\"> 0.0294238  </td><td style=\"text-align: right;\">-0.148124 </td><td style=\"text-align: right;\"> 0.0401633 </td><td style=\"text-align: right;\">-0.113916 </td><td style=\"text-align: right;\"> 0.153344 </td><td style=\"text-align: right;\">-0.105695 </td><td style=\"text-align: right;\"> 0.0434254  </td><td style=\"text-align: right;\"> 0.0439213</td><td style=\"text-align: right;\">-0.048795  </td><td style=\"text-align: right;\">-0.127208 </td><td style=\"text-align: right;\">-0.0673732</td><td style=\"text-align: right;\">0.0737112</td><td style=\"text-align: right;\">-0.0132901</td><td style=\"text-align: right;\">-0.0240562</td><td style=\"text-align: right;\"> 0.0014471  </td><td style=\"text-align: right;\"> 0.11359  </td><td style=\"text-align: right;\"> 0.0551108  </td></tr>\n",
       "<tr><td style=\"text-align: right;\">-0.0332771</td><td style=\"text-align: right;\">-0.0604247 </td><td style=\"text-align: right;\">-0.0550631</td><td style=\"text-align: right;\"> 0.0564025</td><td style=\"text-align: right;\">-0.0762913 </td><td style=\"text-align: right;\">-0.0697746</td><td style=\"text-align: right;\"> 0.0967883 </td><td style=\"text-align: right;\">-0.383675 </td><td style=\"text-align: right;\"> 0.120909 </td><td style=\"text-align: right;\"> 0.16853    </td><td style=\"text-align: right;\">-0.136635</td><td style=\"text-align: right;\">-0.14139   </td><td style=\"text-align: right;\">0.0578908</td><td style=\"text-align: right;\"> 0.0968774 </td><td style=\"text-align: right;\"> 0.181911  </td><td style=\"text-align: right;\">-0.0882318</td><td style=\"text-align: right;\">0.128648 </td><td style=\"text-align: right;\"> 0.139892  </td><td style=\"text-align: right;\">-0.00837628 </td><td style=\"text-align: right;\">-0.00123418</td><td style=\"text-align: right;\"> 0.0387307 </td><td style=\"text-align: right;\">-0.113854 </td><td style=\"text-align: right;\"> 0.0582335 </td><td style=\"text-align: right;\">-0.0149936 </td><td style=\"text-align: right;\">-0.124559 </td><td style=\"text-align: right;\"> 0.0943227 </td><td style=\"text-align: right;\"> 0.0448557</td><td style=\"text-align: right;\"> 0.0323299 </td><td style=\"text-align: right;\">-0.00584436</td><td style=\"text-align: right;\">-0.0905925 </td><td style=\"text-align: right;\">0.0470262</td><td style=\"text-align: right;\">0.208409</td><td style=\"text-align: right;\"> 0.0842708 </td><td style=\"text-align: right;\">-0.180555 </td><td style=\"text-align: right;\">-0.035559  </td><td style=\"text-align: right;\">-0.0133805 </td><td style=\"text-align: right;\"> 0.0862645</td><td style=\"text-align: right;\"> 0.0234935  </td><td style=\"text-align: right;\"> 0.0711909</td><td style=\"text-align: right;\">-0.0882147</td><td style=\"text-align: right;\">-0.0557432 </td><td style=\"text-align: right;\">-0.0316184</td><td style=\"text-align: right;\">0.177832 </td><td style=\"text-align: right;\"> 0.0654055 </td><td style=\"text-align: right;\"> 0.0404657</td><td style=\"text-align: right;\">-0.0542695</td><td style=\"text-align: right;\">-0.0599659 </td><td style=\"text-align: right;\">-0.0458032 </td><td style=\"text-align: right;\">-0.083392  </td><td style=\"text-align: right;\"> 0.00374279</td><td style=\"text-align: right;\">0.135249 </td><td style=\"text-align: right;\"> 0.021875 </td><td style=\"text-align: right;\"> 0.084782   </td><td style=\"text-align: right;\">0.196683 </td><td style=\"text-align: right;\">-0.0260285 </td><td style=\"text-align: right;\">-0.0456847  </td><td style=\"text-align: right;\">-0.17508  </td><td style=\"text-align: right;\"> 0.059254 </td><td style=\"text-align: right;\">-0.110441 </td><td style=\"text-align: right;\"> 0.0688001 </td><td style=\"text-align: right;\"> 0.0628553 </td><td style=\"text-align: right;\"> 0.0164424</td><td style=\"text-align: right;\">-0.0803272</td><td style=\"text-align: right;\">-0.179554 </td><td style=\"text-align: right;\"> 0.0223189</td><td style=\"text-align: right;\">-0.0693597 </td><td style=\"text-align: right;\">-0.00744573</td><td style=\"text-align: right;\">-0.101705 </td><td style=\"text-align: right;\">0.139065 </td><td style=\"text-align: right;\">-0.061794  </td><td style=\"text-align: right;\"> 0.0375847</td><td style=\"text-align: right;\">-0.00617988</td><td style=\"text-align: right;\">0.199017 </td><td style=\"text-align: right;\"> 0.0199759 </td><td style=\"text-align: right;\"> 0.118595  </td><td style=\"text-align: right;\"> 0.0663254 </td><td style=\"text-align: right;\"> 0.0335866  </td><td style=\"text-align: right;\">-0.101734   </td><td style=\"text-align: right;\"> 0.0507187</td><td style=\"text-align: right;\">-0.289028 </td><td style=\"text-align: right;\">-0.0294628</td><td style=\"text-align: right;\"> 0.0105711 </td><td style=\"text-align: right;\"> 0.126057  </td><td style=\"text-align: right;\">-0.0118663  </td><td style=\"text-align: right;\">-0.0809044</td><td style=\"text-align: right;\"> 0.0274795 </td><td style=\"text-align: right;\"> 0.0763001</td><td style=\"text-align: right;\"> 0.06505  </td><td style=\"text-align: right;\">-0.149891 </td><td style=\"text-align: right;\"> 0.000466419</td><td style=\"text-align: right;\"> 0.181185 </td><td style=\"text-align: right;\">-0.00969195</td><td style=\"text-align: right;\">-0.115588 </td><td style=\"text-align: right;\"> 0.0111895</td><td style=\"text-align: right;\">0.113407 </td><td style=\"text-align: right;\">-0.0343578</td><td style=\"text-align: right;\"> 0.0833739</td><td style=\"text-align: right;\"> 0.112278   </td><td style=\"text-align: right;\"> 0.0409677</td><td style=\"text-align: right;\"> 0.0193589  </td></tr>\n",
       "<tr><td style=\"text-align: right;\">-0.0154297</td><td style=\"text-align: right;\">-0.175977  </td><td style=\"text-align: right;\">-0.111503 </td><td style=\"text-align: right;\"> 0.238303 </td><td style=\"text-align: right;\"> 0.0792072 </td><td style=\"text-align: right;\">-0.0846463</td><td style=\"text-align: right;\">-0.237696  </td><td style=\"text-align: right;\">-0.244177 </td><td style=\"text-align: right;\"> 0.153273 </td><td style=\"text-align: right;\">-0.0649753  </td><td style=\"text-align: right;\">-0.38761 </td><td style=\"text-align: right;\">-0.0965769 </td><td style=\"text-align: right;\">0.190116 </td><td style=\"text-align: right;\">-0.131484  </td><td style=\"text-align: right;\"> 0.244489  </td><td style=\"text-align: right;\">-0.288461 </td><td style=\"text-align: right;\">0.386232 </td><td style=\"text-align: right;\">-0.00446774</td><td style=\"text-align: right;\"> 0.000895196</td><td style=\"text-align: right;\">-0.0191343 </td><td style=\"text-align: right;\">-0.033082  </td><td style=\"text-align: right;\"> 0.0558749</td><td style=\"text-align: right;\">-0.0714557 </td><td style=\"text-align: right;\">-0.00552611</td><td style=\"text-align: right;\">-0.225273 </td><td style=\"text-align: right;\">-0.00807751</td><td style=\"text-align: right;\"> 0.151945 </td><td style=\"text-align: right;\">-0.287707  </td><td style=\"text-align: right;\">-0.116237  </td><td style=\"text-align: right;\">-0.113748  </td><td style=\"text-align: right;\">0.166395 </td><td style=\"text-align: right;\">0.126475</td><td style=\"text-align: right;\">-0.0954468 </td><td style=\"text-align: right;\">-0.270995 </td><td style=\"text-align: right;\"> 0.337228  </td><td style=\"text-align: right;\"> 0.00542903</td><td style=\"text-align: right;\"> 0.146423 </td><td style=\"text-align: right;\"> 0.142324   </td><td style=\"text-align: right;\"> 0.0434304</td><td style=\"text-align: right;\">-0.0871741</td><td style=\"text-align: right;\">-0.0384814 </td><td style=\"text-align: right;\"> 0.130568 </td><td style=\"text-align: right;\">0.155464 </td><td style=\"text-align: right;\">-0.00712242</td><td style=\"text-align: right;\"> 0.236673 </td><td style=\"text-align: right;\">-0.282515 </td><td style=\"text-align: right;\"> 0.220502  </td><td style=\"text-align: right;\">-0.0187049 </td><td style=\"text-align: right;\">-0.12145   </td><td style=\"text-align: right;\">-0.0279675 </td><td style=\"text-align: right;\">0.357391 </td><td style=\"text-align: right;\">-0.0317233</td><td style=\"text-align: right;\">-0.00894826 </td><td style=\"text-align: right;\">0.449909 </td><td style=\"text-align: right;\"> 0.118108  </td><td style=\"text-align: right;\">-0.125289   </td><td style=\"text-align: right;\">-0.166872 </td><td style=\"text-align: right;\"> 0.0889129</td><td style=\"text-align: right;\">-0.289367 </td><td style=\"text-align: right;\">-0.00423506</td><td style=\"text-align: right;\"> 0.00378057</td><td style=\"text-align: right;\">-0.139324 </td><td style=\"text-align: right;\">-0.104705 </td><td style=\"text-align: right;\">-0.128983 </td><td style=\"text-align: right;\"> 0.110931 </td><td style=\"text-align: right;\">-0.157937  </td><td style=\"text-align: right;\">-0.272152  </td><td style=\"text-align: right;\">-0.199969 </td><td style=\"text-align: right;\">0.054108 </td><td style=\"text-align: right;\"> 0.0975214 </td><td style=\"text-align: right;\">-0.152428 </td><td style=\"text-align: right;\"> 0.162163  </td><td style=\"text-align: right;\">0.0520293</td><td style=\"text-align: right;\"> 0.112785  </td><td style=\"text-align: right;\"> 0.062478  </td><td style=\"text-align: right;\"> 0.107119  </td><td style=\"text-align: right;\">-0.184469   </td><td style=\"text-align: right;\"> 0.033313   </td><td style=\"text-align: right;\">-0.268538 </td><td style=\"text-align: right;\">-0.489984 </td><td style=\"text-align: right;\">-0.298422 </td><td style=\"text-align: right;\"> 0.0858359 </td><td style=\"text-align: right;\"> 0.213679  </td><td style=\"text-align: right;\">-0.0912091  </td><td style=\"text-align: right;\"> 0.0749235</td><td style=\"text-align: right;\"> 0.116859  </td><td style=\"text-align: right;\">-0.258842 </td><td style=\"text-align: right;\">-0.0605854</td><td style=\"text-align: right;\">-0.315121 </td><td style=\"text-align: right;\"> 0.192294   </td><td style=\"text-align: right;\">-0.0816525</td><td style=\"text-align: right;\">-0.0612747 </td><td style=\"text-align: right;\">-0.0567054</td><td style=\"text-align: right;\"> 0.0903639</td><td style=\"text-align: right;\">0.0975768</td><td style=\"text-align: right;\">-0.162008 </td><td style=\"text-align: right;\">-0.0309083</td><td style=\"text-align: right;\">-0.41069    </td><td style=\"text-align: right;\"> 0.188288 </td><td style=\"text-align: right;\">-0.0508636  </td></tr>\n",
       "</tbody>\n",
       "</table>"
      ]
     },
     "metadata": {},
     "output_type": "display_data"
    },
    {
     "data": {
      "text/plain": []
     },
     "execution_count": 22,
     "metadata": {},
     "output_type": "execute_result"
    }
   ],
   "source": [
    "# Calculate a vector for each review\n",
    "review_vecs = w2v_model.transform(words, aggregate_method = \"AVERAGE\")\n",
    "review_vecs"
   ]
  },
  {
   "cell_type": "code",
   "execution_count": 23,
   "metadata": {},
   "outputs": [],
   "source": [
    "# Add aggregated word embeddings \n",
    "ext_reviews = reviews.cbind(review_vecs)"
   ]
  },
  {
   "cell_type": "code",
   "execution_count": 24,
   "metadata": {},
   "outputs": [
    {
     "data": {
      "text/html": [
       "<table>\n",
       "<thead>\n",
       "<tr><th>ProductId  </th><th>UserId        </th><th>Summary                     </th><th style=\"text-align: right;\">  Score</th><th style=\"text-align: right;\">  HelpfulnessDenominator</th><th style=\"text-align: right;\">    Id</th><th>ProfileName        </th><th style=\"text-align: right;\">  HelpfulnessNumerator</th><th style=\"text-align: right;\">       Time</th><th>Text                                                                                                                                                                                                                                                                                                                                                                            </th><th style=\"text-align: right;\">  PositiveReview</th><th>Train  </th><th style=\"text-align: right;\">        C1</th><th style=\"text-align: right;\">       C2</th><th style=\"text-align: right;\">        C3</th><th style=\"text-align: right;\">        C4</th><th style=\"text-align: right;\">        C5</th><th style=\"text-align: right;\">        C6</th><th style=\"text-align: right;\">         C7</th><th style=\"text-align: right;\">        C8</th><th style=\"text-align: right;\">       C9</th><th style=\"text-align: right;\">         C10</th><th style=\"text-align: right;\">      C11</th><th style=\"text-align: right;\">       C12</th><th style=\"text-align: right;\">      C13</th><th style=\"text-align: right;\">       C14</th><th style=\"text-align: right;\">        C15</th><th style=\"text-align: right;\">       C16</th><th style=\"text-align: right;\">      C17</th><th style=\"text-align: right;\">       C18</th><th style=\"text-align: right;\">       C19</th><th style=\"text-align: right;\">       C20</th><th style=\"text-align: right;\">       C21</th><th style=\"text-align: right;\">       C22</th><th style=\"text-align: right;\">       C23</th><th style=\"text-align: right;\">       C24</th><th style=\"text-align: right;\">       C25</th><th style=\"text-align: right;\">       C26</th><th style=\"text-align: right;\">      C27</th><th style=\"text-align: right;\">       C28</th><th style=\"text-align: right;\">       C29</th><th style=\"text-align: right;\">       C30</th><th style=\"text-align: right;\">      C31</th><th style=\"text-align: right;\">     C32</th><th style=\"text-align: right;\">      C33</th><th style=\"text-align: right;\">      C34</th><th style=\"text-align: right;\">       C35</th><th style=\"text-align: right;\">       C36</th><th style=\"text-align: right;\">       C37</th><th style=\"text-align: right;\">       C38</th><th style=\"text-align: right;\">       C39</th><th style=\"text-align: right;\">       C40</th><th style=\"text-align: right;\">       C41</th><th style=\"text-align: right;\">      C42</th><th style=\"text-align: right;\">      C43</th><th style=\"text-align: right;\">       C44</th><th style=\"text-align: right;\">       C45</th><th style=\"text-align: right;\">      C46</th><th style=\"text-align: right;\">       C47</th><th style=\"text-align: right;\">        C48</th><th style=\"text-align: right;\">       C49</th><th style=\"text-align: right;\">       C50</th><th style=\"text-align: right;\">     C51</th><th style=\"text-align: right;\">       C52</th><th style=\"text-align: right;\">         C53</th><th style=\"text-align: right;\">      C54</th><th style=\"text-align: right;\">        C55</th><th style=\"text-align: right;\">       C56</th><th style=\"text-align: right;\">       C57</th><th style=\"text-align: right;\">      C58</th><th style=\"text-align: right;\">       C59</th><th style=\"text-align: right;\">       C60</th><th style=\"text-align: right;\">       C61</th><th style=\"text-align: right;\">       C62</th><th style=\"text-align: right;\">       C63</th><th style=\"text-align: right;\">       C64</th><th style=\"text-align: right;\">       C65</th><th style=\"text-align: right;\">        C66</th><th style=\"text-align: right;\">       C67</th><th style=\"text-align: right;\">       C68</th><th style=\"text-align: right;\">      C69</th><th style=\"text-align: right;\">       C70</th><th style=\"text-align: right;\">       C71</th><th style=\"text-align: right;\">       C72</th><th style=\"text-align: right;\">     C73</th><th style=\"text-align: right;\">        C74</th><th style=\"text-align: right;\">       C75</th><th style=\"text-align: right;\">       C76</th><th style=\"text-align: right;\">        C77</th><th style=\"text-align: right;\">      C78</th><th style=\"text-align: right;\">      C79</th><th style=\"text-align: right;\">       C80</th><th style=\"text-align: right;\">       C81</th><th style=\"text-align: right;\">        C82</th><th style=\"text-align: right;\">      C83</th><th style=\"text-align: right;\">         C84</th><th style=\"text-align: right;\">       C85</th><th style=\"text-align: right;\">       C86</th><th style=\"text-align: right;\">      C87</th><th style=\"text-align: right;\">      C88</th><th style=\"text-align: right;\">       C89</th><th style=\"text-align: right;\">       C90</th><th style=\"text-align: right;\">       C91</th><th style=\"text-align: right;\">       C92</th><th style=\"text-align: right;\">      C93</th><th style=\"text-align: right;\">       C94</th><th style=\"text-align: right;\">      C95</th><th style=\"text-align: right;\">       C96</th><th style=\"text-align: right;\">       C97</th><th style=\"text-align: right;\">        C98</th><th style=\"text-align: right;\">      C99</th><th style=\"text-align: right;\">       C100</th></tr>\n",
       "</thead>\n",
       "<tbody>\n",
       "<tr><td>B00141QYSQ </td><td>A1YS02UZZGRDCT</td><td>Do Not Buy                  </td><td style=\"text-align: right;\">      1</td><td style=\"text-align: right;\">                       2</td><td style=\"text-align: right;\"> 41471</td><td>Evan Eberhardt     </td><td style=\"text-align: right;\">                     2</td><td style=\"text-align: right;\">1.34836e+09</td><td>These are made in China (do not buy ANY pet food from China).  Dogswell has been using propylene glycol to soften their treats (what are they thinkng?).  Do not purchase or support this company in any way until they clean up their act.  And for whatever reason Amazon doesn't allow returns of this item, so I had to toss mine out.  Bad business all around on this one.</td><td style=\"text-align: right;\">               0</td><td>No     </td><td style=\"text-align: right;\"> 0.0432755</td><td style=\"text-align: right;\">0.0792607</td><td style=\"text-align: right;\">-0.134023 </td><td style=\"text-align: right;\">-0.0605736</td><td style=\"text-align: right;\">0.0183734 </td><td style=\"text-align: right;\"> 0.0289622</td><td style=\"text-align: right;\"> 0.162454  </td><td style=\"text-align: right;\">-0.0550277</td><td style=\"text-align: right;\">0.132259 </td><td style=\"text-align: right;\">-0.0741593  </td><td style=\"text-align: right;\">-0.131434</td><td style=\"text-align: right;\"> 0.0252906</td><td style=\"text-align: right;\">0.0303413</td><td style=\"text-align: right;\">0.0812059 </td><td style=\"text-align: right;\">-0.00868519</td><td style=\"text-align: right;\">-0.102462 </td><td style=\"text-align: right;\">0.0813888</td><td style=\"text-align: right;\">-0.0504372</td><td style=\"text-align: right;\"> 0.0312059</td><td style=\"text-align: right;\"> 0.0166046</td><td style=\"text-align: right;\">-0.017215 </td><td style=\"text-align: right;\">-0.0441083</td><td style=\"text-align: right;\"> 0.0616576</td><td style=\"text-align: right;\">-0.07502  </td><td style=\"text-align: right;\"> 0.0771681</td><td style=\"text-align: right;\"> 0.164968 </td><td style=\"text-align: right;\">0.0884841</td><td style=\"text-align: right;\"> 0.033358 </td><td style=\"text-align: right;\">-0.0366895</td><td style=\"text-align: right;\">-0.0957921</td><td style=\"text-align: right;\">0.101816 </td><td style=\"text-align: right;\">0.238085</td><td style=\"text-align: right;\">0.0488795</td><td style=\"text-align: right;\">-0.26053 </td><td style=\"text-align: right;\">-0.120735 </td><td style=\"text-align: right;\">-0.0695926</td><td style=\"text-align: right;\">-0.135122 </td><td style=\"text-align: right;\">-0.089565 </td><td style=\"text-align: right;\"> 0.0356459</td><td style=\"text-align: right;\">-0.195318 </td><td style=\"text-align: right;\"> 0.0685879</td><td style=\"text-align: right;\">-0.177206</td><td style=\"text-align: right;\">0.0434926</td><td style=\"text-align: right;\">-0.061116 </td><td style=\"text-align: right;\">-0.0221297</td><td style=\"text-align: right;\">-0.065201</td><td style=\"text-align: right;\">-0.0508271</td><td style=\"text-align: right;\">-0.0434481 </td><td style=\"text-align: right;\">-0.0671942</td><td style=\"text-align: right;\">-0.0772332</td><td style=\"text-align: right;\">0.140174</td><td style=\"text-align: right;\">-0.148811 </td><td style=\"text-align: right;\"> 0.0103766  </td><td style=\"text-align: right;\">0.16726  </td><td style=\"text-align: right;\">-0.0900915 </td><td style=\"text-align: right;\">-0.0747988</td><td style=\"text-align: right;\">-0.19228  </td><td style=\"text-align: right;\">0.0348442</td><td style=\"text-align: right;\"> 0.040466 </td><td style=\"text-align: right;\">-0.041482 </td><td style=\"text-align: right;\"> 0.0206261</td><td style=\"text-align: right;\"> 0.112434 </td><td style=\"text-align: right;\"> 0.0229301</td><td style=\"text-align: right;\">-0.243763 </td><td style=\"text-align: right;\"> 0.0349279</td><td style=\"text-align: right;\">-0.167951  </td><td style=\"text-align: right;\">-0.06517  </td><td style=\"text-align: right;\">-0.0569878</td><td style=\"text-align: right;\">0.131375 </td><td style=\"text-align: right;\">-0.0116267</td><td style=\"text-align: right;\"> 0.060248 </td><td style=\"text-align: right;\">-0.0770945</td><td style=\"text-align: right;\">0.337205</td><td style=\"text-align: right;\"> 0.0526522 </td><td style=\"text-align: right;\">-0.0110191</td><td style=\"text-align: right;\">-0.0978697</td><td style=\"text-align: right;\">0.000436268</td><td style=\"text-align: right;\">0.0125575</td><td style=\"text-align: right;\">0.0102368</td><td style=\"text-align: right;\">-0.105843 </td><td style=\"text-align: right;\"> 0.131124 </td><td style=\"text-align: right;\">-0.0921524 </td><td style=\"text-align: right;\">0.191146 </td><td style=\"text-align: right;\">-0.0392834  </td><td style=\"text-align: right;\">-0.160262 </td><td style=\"text-align: right;\"> 0.0765472</td><td style=\"text-align: right;\"> 0.168858</td><td style=\"text-align: right;\">0.146831 </td><td style=\"text-align: right;\">-0.147902 </td><td style=\"text-align: right;\">-0.0454396</td><td style=\"text-align: right;\"> 0.157484 </td><td style=\"text-align: right;\">-0.0237845</td><td style=\"text-align: right;\">-0.237146</td><td style=\"text-align: right;\"> 0.0370977</td><td style=\"text-align: right;\">0.130776 </td><td style=\"text-align: right;\"> 0.0271111</td><td style=\"text-align: right;\"> 0.0436307</td><td style=\"text-align: right;\">-0.00200255</td><td style=\"text-align: right;\">0.0520713</td><td style=\"text-align: right;\">-0.158377  </td></tr>\n",
       "<tr><td>B0089SPEO2 </td><td>A3JOYNYL458QHP</td><td>Less lemon and less zing    </td><td style=\"text-align: right;\">      3</td><td style=\"text-align: right;\">                       0</td><td style=\"text-align: right;\"> 28582</td><td>coleridge          </td><td style=\"text-align: right;\">                     0</td><td style=\"text-align: right;\">1.32391e+09</td><td>Everything is ok, except it just isn't as good as it is in the bags.  Just considerably more bland -- less lemon and less zing.  Boring.                                                                                                                                                                                                                                        </td><td style=\"text-align: right;\">               0</td><td>Yes    </td><td style=\"text-align: right;\">-0.0487831</td><td style=\"text-align: right;\">0.118439 </td><td style=\"text-align: right;\">-0.0303681</td><td style=\"text-align: right;\"> 0.157721 </td><td style=\"text-align: right;\">0.0684248 </td><td style=\"text-align: right;\">-0.13485  </td><td style=\"text-align: right;\">-0.00986154</td><td style=\"text-align: right;\">-0.331527 </td><td style=\"text-align: right;\">0.100595 </td><td style=\"text-align: right;\"> 1.98707e-05</td><td style=\"text-align: right;\">-0.105599</td><td style=\"text-align: right;\">-0.0301875</td><td style=\"text-align: right;\">0.181647 </td><td style=\"text-align: right;\">0.00544846</td><td style=\"text-align: right;\"> 0.118771  </td><td style=\"text-align: right;\">-0.181707 </td><td style=\"text-align: right;\">0.230506 </td><td style=\"text-align: right;\">-0.0344374</td><td style=\"text-align: right;\">-0.157363 </td><td style=\"text-align: right;\"> 0.067005 </td><td style=\"text-align: right;\">-0.112078 </td><td style=\"text-align: right;\"> 0.104969 </td><td style=\"text-align: right;\">-0.070039 </td><td style=\"text-align: right;\">-0.141068 </td><td style=\"text-align: right;\">-0.0964308</td><td style=\"text-align: right;\">-0.0664858</td><td style=\"text-align: right;\">0.0128851</td><td style=\"text-align: right;\"> 0.0780268</td><td style=\"text-align: right;\">-0.0128017</td><td style=\"text-align: right;\">-0.0501928</td><td style=\"text-align: right;\">0.0691995</td><td style=\"text-align: right;\">0.17478 </td><td style=\"text-align: right;\">0.0217065</td><td style=\"text-align: right;\">-0.239084</td><td style=\"text-align: right;\"> 0.0033684</td><td style=\"text-align: right;\"> 0.0154902</td><td style=\"text-align: right;\">-0.0173244</td><td style=\"text-align: right;\">-0.019485 </td><td style=\"text-align: right;\">-0.062459 </td><td style=\"text-align: right;\">-0.158492 </td><td style=\"text-align: right;\">-0.0884645</td><td style=\"text-align: right;\">-0.135837</td><td style=\"text-align: right;\">0.281375 </td><td style=\"text-align: right;\">-0.0157509</td><td style=\"text-align: right;\">-0.113491 </td><td style=\"text-align: right;\">-0.158122</td><td style=\"text-align: right;\">-0.0962709</td><td style=\"text-align: right;\">-0.138579  </td><td style=\"text-align: right;\">-0.222309 </td><td style=\"text-align: right;\"> 0.0288732</td><td style=\"text-align: right;\">0.1304  </td><td style=\"text-align: right;\"> 0.0161658</td><td style=\"text-align: right;\">-0.0639203  </td><td style=\"text-align: right;\">0.0571925</td><td style=\"text-align: right;\">-0.00835864</td><td style=\"text-align: right;\"> 0.0567773</td><td style=\"text-align: right;\">-0.0618993</td><td style=\"text-align: right;\">0.140059 </td><td style=\"text-align: right;\"> 0.0904222</td><td style=\"text-align: right;\"> 0.0153754</td><td style=\"text-align: right;\"> 0.0105083</td><td style=\"text-align: right;\">-0.0174002</td><td style=\"text-align: right;\">-0.0881377</td><td style=\"text-align: right;\">-0.0720021</td><td style=\"text-align: right;\"> 0.10274  </td><td style=\"text-align: right;\"> 0.00901992</td><td style=\"text-align: right;\">-0.125566 </td><td style=\"text-align: right;\">-0.0739244</td><td style=\"text-align: right;\">0.0553379</td><td style=\"text-align: right;\">-0.090389 </td><td style=\"text-align: right;\">-0.0191743</td><td style=\"text-align: right;\"> 0.0164748</td><td style=\"text-align: right;\">0.180444</td><td style=\"text-align: right;\">-0.00570063</td><td style=\"text-align: right;\"> 0.103869 </td><td style=\"text-align: right;\"> 0.204599 </td><td style=\"text-align: right;\">0.0550867  </td><td style=\"text-align: right;\">0.109302 </td><td style=\"text-align: right;\">0.11969  </td><td style=\"text-align: right;\">-0.0462409</td><td style=\"text-align: right;\">-0.0155869</td><td style=\"text-align: right;\"> 0.0145383 </td><td style=\"text-align: right;\">0.0511702</td><td style=\"text-align: right;\"> 0.000526307</td><td style=\"text-align: right;\">-0.0213907</td><td style=\"text-align: right;\"> 0.0359547</td><td style=\"text-align: right;\">-0.092904</td><td style=\"text-align: right;\">0.130127 </td><td style=\"text-align: right;\">-0.148597 </td><td style=\"text-align: right;\"> 0.0435748</td><td style=\"text-align: right;\">-0.0452159</td><td style=\"text-align: right;\">-0.0348552</td><td style=\"text-align: right;\">-0.200719</td><td style=\"text-align: right;\">-0.0423915</td><td style=\"text-align: right;\">0.075542 </td><td style=\"text-align: right;\">-0.0941986</td><td style=\"text-align: right;\">-0.0563581</td><td style=\"text-align: right;\"> 0.0998209 </td><td style=\"text-align: right;\">0.0942631</td><td style=\"text-align: right;\">-0.00365887</td></tr>\n",
       "<tr><td>B001PMCDK2 </td><td>A14TTMM0Z03Y2W</td><td>my cat goes crazy for these!</td><td style=\"text-align: right;\">      5</td><td style=\"text-align: right;\">                       0</td><td style=\"text-align: right;\">389965</td><td>Lindsay S. Bradford</td><td style=\"text-align: right;\">                     0</td><td style=\"text-align: right;\">1.3106e+09 </td><td>Best cat treat ever. There isn't anything comparable to the love my cat has for these treats, he snubs away any other kind now.<br />I know he likes to manipulate me with his cattiness but these treats are my way of manipulating him to come sit on my lap and have some chill time. :)                                                                                     </td><td style=\"text-align: right;\">               1</td><td>Yes    </td><td style=\"text-align: right;\">-0.0165155</td><td style=\"text-align: right;\">0.0691798</td><td style=\"text-align: right;\">-0.140878 </td><td style=\"text-align: right;\"> 0.109368 </td><td style=\"text-align: right;\">0.00862508</td><td style=\"text-align: right;\">-0.0277915</td><td style=\"text-align: right;\">-0.0129597 </td><td style=\"text-align: right;\">-0.25609  </td><td style=\"text-align: right;\">0.0682151</td><td style=\"text-align: right;\"> 0.119919   </td><td style=\"text-align: right;\">-0.135724</td><td style=\"text-align: right;\">-0.196167 </td><td style=\"text-align: right;\">0.0599853</td><td style=\"text-align: right;\">0.0240107 </td><td style=\"text-align: right;\"> 0.059969  </td><td style=\"text-align: right;\"> 0.0293594</td><td style=\"text-align: right;\">0.0423285</td><td style=\"text-align: right;\"> 0.0305312</td><td style=\"text-align: right;\"> 0.0396735</td><td style=\"text-align: right;\">-0.0494812</td><td style=\"text-align: right;\">-0.0444291</td><td style=\"text-align: right;\">-0.0705239</td><td style=\"text-align: right;\"> 0.0855984</td><td style=\"text-align: right;\">-0.0247937</td><td style=\"text-align: right;\"> 0.0665122</td><td style=\"text-align: right;\"> 0.0772681</td><td style=\"text-align: right;\">0.0229916</td><td style=\"text-align: right;\">-0.0396281</td><td style=\"text-align: right;\">-0.0450398</td><td style=\"text-align: right;\">-0.073154 </td><td style=\"text-align: right;\">0.0430071</td><td style=\"text-align: right;\">0.220979</td><td style=\"text-align: right;\">0.0653286</td><td style=\"text-align: right;\">-0.282533</td><td style=\"text-align: right;\">-0.212799 </td><td style=\"text-align: right;\">-0.0943601</td><td style=\"text-align: right;\"> 0.0317786</td><td style=\"text-align: right;\">-0.0633211</td><td style=\"text-align: right;\"> 0.0692144</td><td style=\"text-align: right;\">-0.0883257</td><td style=\"text-align: right;\">-0.109349 </td><td style=\"text-align: right;\">-0.107326</td><td style=\"text-align: right;\">0.184511 </td><td style=\"text-align: right;\"> 0.0280534</td><td style=\"text-align: right;\">-0.0847467</td><td style=\"text-align: right;\">-0.144172</td><td style=\"text-align: right;\">-0.0785151</td><td style=\"text-align: right;\">-0.00310675</td><td style=\"text-align: right;\">-0.114277 </td><td style=\"text-align: right;\">-0.0363947</td><td style=\"text-align: right;\">0.149714</td><td style=\"text-align: right;\">-0.0473261</td><td style=\"text-align: right;\">-0.000967807</td><td style=\"text-align: right;\">0.0647993</td><td style=\"text-align: right;\"> 0.0642438 </td><td style=\"text-align: right;\">-0.0200667</td><td style=\"text-align: right;\">-0.131716 </td><td style=\"text-align: right;\">0.0278644</td><td style=\"text-align: right;\">-0.0746838</td><td style=\"text-align: right;\"> 0.0214   </td><td style=\"text-align: right;\">-0.0376316</td><td style=\"text-align: right;\"> 0.0540969</td><td style=\"text-align: right;\"> 0.0431157</td><td style=\"text-align: right;\">-0.146399 </td><td style=\"text-align: right;\">-0.035119 </td><td style=\"text-align: right;\">-0.0114159 </td><td style=\"text-align: right;\">-0.0653957</td><td style=\"text-align: right;\">-0.186902 </td><td style=\"text-align: right;\">0.184779 </td><td style=\"text-align: right;\"> 0.0231311</td><td style=\"text-align: right;\"> 0.0259329</td><td style=\"text-align: right;\">-0.0642021</td><td style=\"text-align: right;\">0.276097</td><td style=\"text-align: right;\"> 0.117546  </td><td style=\"text-align: right;\"> 0.188303 </td><td style=\"text-align: right;\">-0.028923 </td><td style=\"text-align: right;\">0.0832221  </td><td style=\"text-align: right;\">0.0265352</td><td style=\"text-align: right;\">0.08172  </td><td style=\"text-align: right;\">-0.120676 </td><td style=\"text-align: right;\"> 0.0375758</td><td style=\"text-align: right;\">-0.00977229</td><td style=\"text-align: right;\">0.0511886</td><td style=\"text-align: right;\">-0.0154957  </td><td style=\"text-align: right;\">-0.206649 </td><td style=\"text-align: right;\">-0.0453396</td><td style=\"text-align: right;\"> 0.140424</td><td style=\"text-align: right;\">0.0935571</td><td style=\"text-align: right;\">-0.0882622</td><td style=\"text-align: right;\">-0.0959661</td><td style=\"text-align: right;\"> 0.0514566</td><td style=\"text-align: right;\">-0.0701552</td><td style=\"text-align: right;\">-0.231797</td><td style=\"text-align: right;\"> 0.0341305</td><td style=\"text-align: right;\">0.0874123</td><td style=\"text-align: right;\">-0.0558181</td><td style=\"text-align: right;\"> 0.0184991</td><td style=\"text-align: right;\">-0.0703503 </td><td style=\"text-align: right;\">0.0359188</td><td style=\"text-align: right;\">-0.0223076 </td></tr>\n",
       "</tbody>\n",
       "</table>"
      ]
     },
     "metadata": {},
     "output_type": "display_data"
    },
    {
     "data": {
      "text/plain": []
     },
     "execution_count": 24,
     "metadata": {},
     "output_type": "execute_result"
    }
   ],
   "source": [
    "ext_reviews.head(3)"
   ]
  },
  {
   "cell_type": "markdown",
   "metadata": {},
   "source": [
    "## 1.5 Add Summary Column"
   ]
  },
  {
   "cell_type": "code",
   "execution_count": 25,
   "metadata": {},
   "outputs": [],
   "source": [
    "# Break summaries into sequence of word.\n",
    "summary_words = tokenize(reviews['Summary'].ascharacter())"
   ]
  },
  {
   "cell_type": "code",
   "execution_count": 26,
   "metadata": {},
   "outputs": [],
   "source": [
    "summary_vecs = w2v_model.transform(summary_words, aggregate_method='AVERAGE')\n",
    "summary_vecs.names = ['summary_'+ s for s in summary_vecs.names]\n",
    "\n",
    "ext_reviews_new = ext_reviews.cbind(summary_vecs)"
   ]
  },
  {
   "cell_type": "code",
   "execution_count": 27,
   "metadata": {},
   "outputs": [
    {
     "data": {
      "text/html": [
       "<table>\n",
       "<thead>\n",
       "<tr><th>ProductId  </th><th>UserId        </th><th>Summary                     </th><th style=\"text-align: right;\">  Score</th><th style=\"text-align: right;\">  HelpfulnessDenominator</th><th style=\"text-align: right;\">    Id</th><th>ProfileName        </th><th style=\"text-align: right;\">  HelpfulnessNumerator</th><th style=\"text-align: right;\">       Time</th><th>Text                                                                                                                                                                                                                                                                                                                                                                            </th><th style=\"text-align: right;\">  PositiveReview</th><th>Train  </th><th style=\"text-align: right;\">        C1</th><th style=\"text-align: right;\">       C2</th><th style=\"text-align: right;\">        C3</th><th style=\"text-align: right;\">        C4</th><th style=\"text-align: right;\">        C5</th><th style=\"text-align: right;\">        C6</th><th style=\"text-align: right;\">         C7</th><th style=\"text-align: right;\">        C8</th><th style=\"text-align: right;\">       C9</th><th style=\"text-align: right;\">         C10</th><th style=\"text-align: right;\">      C11</th><th style=\"text-align: right;\">       C12</th><th style=\"text-align: right;\">      C13</th><th style=\"text-align: right;\">       C14</th><th style=\"text-align: right;\">        C15</th><th style=\"text-align: right;\">       C16</th><th style=\"text-align: right;\">      C17</th><th style=\"text-align: right;\">       C18</th><th style=\"text-align: right;\">       C19</th><th style=\"text-align: right;\">       C20</th><th style=\"text-align: right;\">       C21</th><th style=\"text-align: right;\">       C22</th><th style=\"text-align: right;\">       C23</th><th style=\"text-align: right;\">       C24</th><th style=\"text-align: right;\">       C25</th><th style=\"text-align: right;\">       C26</th><th style=\"text-align: right;\">      C27</th><th style=\"text-align: right;\">       C28</th><th style=\"text-align: right;\">       C29</th><th style=\"text-align: right;\">       C30</th><th style=\"text-align: right;\">      C31</th><th style=\"text-align: right;\">     C32</th><th style=\"text-align: right;\">      C33</th><th style=\"text-align: right;\">      C34</th><th style=\"text-align: right;\">       C35</th><th style=\"text-align: right;\">       C36</th><th style=\"text-align: right;\">       C37</th><th style=\"text-align: right;\">       C38</th><th style=\"text-align: right;\">       C39</th><th style=\"text-align: right;\">       C40</th><th style=\"text-align: right;\">       C41</th><th style=\"text-align: right;\">      C42</th><th style=\"text-align: right;\">      C43</th><th style=\"text-align: right;\">       C44</th><th style=\"text-align: right;\">       C45</th><th style=\"text-align: right;\">      C46</th><th style=\"text-align: right;\">       C47</th><th style=\"text-align: right;\">        C48</th><th style=\"text-align: right;\">       C49</th><th style=\"text-align: right;\">       C50</th><th style=\"text-align: right;\">     C51</th><th style=\"text-align: right;\">       C52</th><th style=\"text-align: right;\">         C53</th><th style=\"text-align: right;\">      C54</th><th style=\"text-align: right;\">        C55</th><th style=\"text-align: right;\">       C56</th><th style=\"text-align: right;\">       C57</th><th style=\"text-align: right;\">      C58</th><th style=\"text-align: right;\">       C59</th><th style=\"text-align: right;\">       C60</th><th style=\"text-align: right;\">       C61</th><th style=\"text-align: right;\">       C62</th><th style=\"text-align: right;\">       C63</th><th style=\"text-align: right;\">       C64</th><th style=\"text-align: right;\">       C65</th><th style=\"text-align: right;\">        C66</th><th style=\"text-align: right;\">       C67</th><th style=\"text-align: right;\">       C68</th><th style=\"text-align: right;\">      C69</th><th style=\"text-align: right;\">       C70</th><th style=\"text-align: right;\">       C71</th><th style=\"text-align: right;\">       C72</th><th style=\"text-align: right;\">     C73</th><th style=\"text-align: right;\">        C74</th><th style=\"text-align: right;\">       C75</th><th style=\"text-align: right;\">       C76</th><th style=\"text-align: right;\">        C77</th><th style=\"text-align: right;\">      C78</th><th style=\"text-align: right;\">      C79</th><th style=\"text-align: right;\">       C80</th><th style=\"text-align: right;\">       C81</th><th style=\"text-align: right;\">        C82</th><th style=\"text-align: right;\">      C83</th><th style=\"text-align: right;\">         C84</th><th style=\"text-align: right;\">       C85</th><th style=\"text-align: right;\">       C86</th><th style=\"text-align: right;\">      C87</th><th style=\"text-align: right;\">      C88</th><th style=\"text-align: right;\">       C89</th><th style=\"text-align: right;\">       C90</th><th style=\"text-align: right;\">       C91</th><th style=\"text-align: right;\">       C92</th><th style=\"text-align: right;\">      C93</th><th style=\"text-align: right;\">       C94</th><th style=\"text-align: right;\">      C95</th><th style=\"text-align: right;\">       C96</th><th style=\"text-align: right;\">       C97</th><th style=\"text-align: right;\">        C98</th><th style=\"text-align: right;\">      C99</th><th style=\"text-align: right;\">       C100</th><th style=\"text-align: right;\">  summary_C1</th><th style=\"text-align: right;\">  summary_C2</th><th style=\"text-align: right;\">  summary_C3</th><th style=\"text-align: right;\">  summary_C4</th><th style=\"text-align: right;\">  summary_C5</th><th style=\"text-align: right;\">  summary_C6</th><th style=\"text-align: right;\">  summary_C7</th><th style=\"text-align: right;\">  summary_C8</th><th style=\"text-align: right;\">  summary_C9</th><th style=\"text-align: right;\">  summary_C10</th><th style=\"text-align: right;\">  summary_C11</th><th style=\"text-align: right;\">  summary_C12</th><th style=\"text-align: right;\">  summary_C13</th><th style=\"text-align: right;\">  summary_C14</th><th style=\"text-align: right;\">  summary_C15</th><th style=\"text-align: right;\">  summary_C16</th><th style=\"text-align: right;\">  summary_C17</th><th style=\"text-align: right;\">  summary_C18</th><th style=\"text-align: right;\">  summary_C19</th><th style=\"text-align: right;\">  summary_C20</th><th style=\"text-align: right;\">  summary_C21</th><th style=\"text-align: right;\">  summary_C22</th><th style=\"text-align: right;\">  summary_C23</th><th style=\"text-align: right;\">  summary_C24</th><th style=\"text-align: right;\">  summary_C25</th><th style=\"text-align: right;\">  summary_C26</th><th style=\"text-align: right;\">  summary_C27</th><th style=\"text-align: right;\">  summary_C28</th><th style=\"text-align: right;\">  summary_C29</th><th style=\"text-align: right;\">  summary_C30</th><th style=\"text-align: right;\">  summary_C31</th><th style=\"text-align: right;\">  summary_C32</th><th style=\"text-align: right;\">  summary_C33</th><th style=\"text-align: right;\">  summary_C34</th><th style=\"text-align: right;\">  summary_C35</th><th style=\"text-align: right;\">  summary_C36</th><th style=\"text-align: right;\">  summary_C37</th><th style=\"text-align: right;\">  summary_C38</th><th style=\"text-align: right;\">  summary_C39</th><th style=\"text-align: right;\">  summary_C40</th><th style=\"text-align: right;\">  summary_C41</th><th style=\"text-align: right;\">  summary_C42</th><th style=\"text-align: right;\">  summary_C43</th><th style=\"text-align: right;\">  summary_C44</th><th style=\"text-align: right;\">  summary_C45</th><th style=\"text-align: right;\">  summary_C46</th><th style=\"text-align: right;\">  summary_C47</th><th style=\"text-align: right;\">  summary_C48</th><th style=\"text-align: right;\">  summary_C49</th><th style=\"text-align: right;\">  summary_C50</th><th style=\"text-align: right;\">  summary_C51</th><th style=\"text-align: right;\">  summary_C52</th><th style=\"text-align: right;\">  summary_C53</th><th style=\"text-align: right;\">  summary_C54</th><th style=\"text-align: right;\">  summary_C55</th><th style=\"text-align: right;\">  summary_C56</th><th style=\"text-align: right;\">  summary_C57</th><th style=\"text-align: right;\">  summary_C58</th><th style=\"text-align: right;\">  summary_C59</th><th style=\"text-align: right;\">  summary_C60</th><th style=\"text-align: right;\">  summary_C61</th><th style=\"text-align: right;\">  summary_C62</th><th style=\"text-align: right;\">  summary_C63</th><th style=\"text-align: right;\">  summary_C64</th><th style=\"text-align: right;\">  summary_C65</th><th style=\"text-align: right;\">  summary_C66</th><th style=\"text-align: right;\">  summary_C67</th><th style=\"text-align: right;\">  summary_C68</th><th style=\"text-align: right;\">  summary_C69</th><th style=\"text-align: right;\">  summary_C70</th><th style=\"text-align: right;\">  summary_C71</th><th style=\"text-align: right;\">  summary_C72</th><th style=\"text-align: right;\">  summary_C73</th><th style=\"text-align: right;\">  summary_C74</th><th style=\"text-align: right;\">  summary_C75</th><th style=\"text-align: right;\">  summary_C76</th><th style=\"text-align: right;\">  summary_C77</th><th style=\"text-align: right;\">  summary_C78</th><th style=\"text-align: right;\">  summary_C79</th><th style=\"text-align: right;\">  summary_C80</th><th style=\"text-align: right;\">  summary_C81</th><th style=\"text-align: right;\">  summary_C82</th><th style=\"text-align: right;\">  summary_C83</th><th style=\"text-align: right;\">  summary_C84</th><th style=\"text-align: right;\">  summary_C85</th><th style=\"text-align: right;\">  summary_C86</th><th style=\"text-align: right;\">  summary_C87</th><th style=\"text-align: right;\">  summary_C88</th></tr>\n",
       "</thead>\n",
       "<tbody>\n",
       "<tr><td>B00141QYSQ </td><td>A1YS02UZZGRDCT</td><td>Do Not Buy                  </td><td style=\"text-align: right;\">      1</td><td style=\"text-align: right;\">                       2</td><td style=\"text-align: right;\"> 41471</td><td>Evan Eberhardt     </td><td style=\"text-align: right;\">                     2</td><td style=\"text-align: right;\">1.34836e+09</td><td>These are made in China (do not buy ANY pet food from China).  Dogswell has been using propylene glycol to soften their treats (what are they thinkng?).  Do not purchase or support this company in any way until they clean up their act.  And for whatever reason Amazon doesn't allow returns of this item, so I had to toss mine out.  Bad business all around on this one.</td><td style=\"text-align: right;\">               0</td><td>No     </td><td style=\"text-align: right;\"> 0.0432755</td><td style=\"text-align: right;\">0.0792607</td><td style=\"text-align: right;\">-0.134023 </td><td style=\"text-align: right;\">-0.0605736</td><td style=\"text-align: right;\">0.0183734 </td><td style=\"text-align: right;\"> 0.0289622</td><td style=\"text-align: right;\"> 0.162454  </td><td style=\"text-align: right;\">-0.0550277</td><td style=\"text-align: right;\">0.132259 </td><td style=\"text-align: right;\">-0.0741593  </td><td style=\"text-align: right;\">-0.131434</td><td style=\"text-align: right;\"> 0.0252906</td><td style=\"text-align: right;\">0.0303413</td><td style=\"text-align: right;\">0.0812059 </td><td style=\"text-align: right;\">-0.00868519</td><td style=\"text-align: right;\">-0.102462 </td><td style=\"text-align: right;\">0.0813888</td><td style=\"text-align: right;\">-0.0504372</td><td style=\"text-align: right;\"> 0.0312059</td><td style=\"text-align: right;\"> 0.0166046</td><td style=\"text-align: right;\">-0.017215 </td><td style=\"text-align: right;\">-0.0441083</td><td style=\"text-align: right;\"> 0.0616576</td><td style=\"text-align: right;\">-0.07502  </td><td style=\"text-align: right;\"> 0.0771681</td><td style=\"text-align: right;\"> 0.164968 </td><td style=\"text-align: right;\">0.0884841</td><td style=\"text-align: right;\"> 0.033358 </td><td style=\"text-align: right;\">-0.0366895</td><td style=\"text-align: right;\">-0.0957921</td><td style=\"text-align: right;\">0.101816 </td><td style=\"text-align: right;\">0.238085</td><td style=\"text-align: right;\">0.0488795</td><td style=\"text-align: right;\">-0.26053 </td><td style=\"text-align: right;\">-0.120735 </td><td style=\"text-align: right;\">-0.0695926</td><td style=\"text-align: right;\">-0.135122 </td><td style=\"text-align: right;\">-0.089565 </td><td style=\"text-align: right;\"> 0.0356459</td><td style=\"text-align: right;\">-0.195318 </td><td style=\"text-align: right;\"> 0.0685879</td><td style=\"text-align: right;\">-0.177206</td><td style=\"text-align: right;\">0.0434926</td><td style=\"text-align: right;\">-0.061116 </td><td style=\"text-align: right;\">-0.0221297</td><td style=\"text-align: right;\">-0.065201</td><td style=\"text-align: right;\">-0.0508271</td><td style=\"text-align: right;\">-0.0434481 </td><td style=\"text-align: right;\">-0.0671942</td><td style=\"text-align: right;\">-0.0772332</td><td style=\"text-align: right;\">0.140174</td><td style=\"text-align: right;\">-0.148811 </td><td style=\"text-align: right;\"> 0.0103766  </td><td style=\"text-align: right;\">0.16726  </td><td style=\"text-align: right;\">-0.0900915 </td><td style=\"text-align: right;\">-0.0747988</td><td style=\"text-align: right;\">-0.19228  </td><td style=\"text-align: right;\">0.0348442</td><td style=\"text-align: right;\"> 0.040466 </td><td style=\"text-align: right;\">-0.041482 </td><td style=\"text-align: right;\"> 0.0206261</td><td style=\"text-align: right;\"> 0.112434 </td><td style=\"text-align: right;\"> 0.0229301</td><td style=\"text-align: right;\">-0.243763 </td><td style=\"text-align: right;\"> 0.0349279</td><td style=\"text-align: right;\">-0.167951  </td><td style=\"text-align: right;\">-0.06517  </td><td style=\"text-align: right;\">-0.0569878</td><td style=\"text-align: right;\">0.131375 </td><td style=\"text-align: right;\">-0.0116267</td><td style=\"text-align: right;\"> 0.060248 </td><td style=\"text-align: right;\">-0.0770945</td><td style=\"text-align: right;\">0.337205</td><td style=\"text-align: right;\"> 0.0526522 </td><td style=\"text-align: right;\">-0.0110191</td><td style=\"text-align: right;\">-0.0978697</td><td style=\"text-align: right;\">0.000436268</td><td style=\"text-align: right;\">0.0125575</td><td style=\"text-align: right;\">0.0102368</td><td style=\"text-align: right;\">-0.105843 </td><td style=\"text-align: right;\"> 0.131124 </td><td style=\"text-align: right;\">-0.0921524 </td><td style=\"text-align: right;\">0.191146 </td><td style=\"text-align: right;\">-0.0392834  </td><td style=\"text-align: right;\">-0.160262 </td><td style=\"text-align: right;\"> 0.0765472</td><td style=\"text-align: right;\"> 0.168858</td><td style=\"text-align: right;\">0.146831 </td><td style=\"text-align: right;\">-0.147902 </td><td style=\"text-align: right;\">-0.0454396</td><td style=\"text-align: right;\"> 0.157484 </td><td style=\"text-align: right;\">-0.0237845</td><td style=\"text-align: right;\">-0.237146</td><td style=\"text-align: right;\"> 0.0370977</td><td style=\"text-align: right;\">0.130776 </td><td style=\"text-align: right;\"> 0.0271111</td><td style=\"text-align: right;\"> 0.0436307</td><td style=\"text-align: right;\">-0.00200255</td><td style=\"text-align: right;\">0.0520713</td><td style=\"text-align: right;\">-0.158377  </td><td style=\"text-align: right;\">   0.0641322</td><td style=\"text-align: right;\">   -0.118404</td><td style=\"text-align: right;\">  -0.194234 </td><td style=\"text-align: right;\">   -0.162474</td><td style=\"text-align: right;\">  0.168952  </td><td style=\"text-align: right;\">   0.0455328</td><td style=\"text-align: right;\">   0.0141807</td><td style=\"text-align: right;\">   -0.141143</td><td style=\"text-align: right;\">  0.351423  </td><td style=\"text-align: right;\">    0.0515319</td><td style=\"text-align: right;\">   -0.362845 </td><td style=\"text-align: right;\">   -0.443178 </td><td style=\"text-align: right;\">    0.195095 </td><td style=\"text-align: right;\">    0.16131  </td><td style=\"text-align: right;\">   -0.0646374</td><td style=\"text-align: right;\">   -0.158572 </td><td style=\"text-align: right;\">    0.416287 </td><td style=\"text-align: right;\">    0.0237695</td><td style=\"text-align: right;\">    0.0974057</td><td style=\"text-align: right;\">   -0.254523 </td><td style=\"text-align: right;\">   -0.0101729</td><td style=\"text-align: right;\">    0.0585993</td><td style=\"text-align: right;\">    0.0510673</td><td style=\"text-align: right;\">   -0.0493341</td><td style=\"text-align: right;\">   -0.0467215</td><td style=\"text-align: right;\">    0.0540067</td><td style=\"text-align: right;\">    0.0243836</td><td style=\"text-align: right;\">   -0.0134389</td><td style=\"text-align: right;\">    0.0586691</td><td style=\"text-align: right;\">    0.193765 </td><td style=\"text-align: right;\">    0.117171 </td><td style=\"text-align: right;\">     0.139032</td><td style=\"text-align: right;\">   -0.0336858</td><td style=\"text-align: right;\">    -0.195941</td><td style=\"text-align: right;\">   -0.0681873</td><td style=\"text-align: right;\">    0.0997888</td><td style=\"text-align: right;\">   -0.182265 </td><td style=\"text-align: right;\">   -0.0207205</td><td style=\"text-align: right;\">   -0.214282 </td><td style=\"text-align: right;\">    0.0728818</td><td style=\"text-align: right;\">    0.0398566</td><td style=\"text-align: right;\">   -0.0127345</td><td style=\"text-align: right;\">     0.232312</td><td style=\"text-align: right;\">   -0.156665 </td><td style=\"text-align: right;\">   -0.204069 </td><td style=\"text-align: right;\">    0.0416002</td><td style=\"text-align: right;\">    -0.165516</td><td style=\"text-align: right;\">    0.172668 </td><td style=\"text-align: right;\">   -0.0344137</td><td style=\"text-align: right;\">    0.0529683</td><td style=\"text-align: right;\">    0.248026 </td><td style=\"text-align: right;\">    0.10108  </td><td style=\"text-align: right;\">   -0.0809091</td><td style=\"text-align: right;\">    0.34216  </td><td style=\"text-align: right;\">   -0.232288 </td><td style=\"text-align: right;\">   -0.0167442</td><td style=\"text-align: right;\">   -0.0322461</td><td style=\"text-align: right;\">    -0.118493</td><td style=\"text-align: right;\">  -0.00299033</td><td style=\"text-align: right;\">    0.162092 </td><td style=\"text-align: right;\">    0.0860452</td><td style=\"text-align: right;\">   -0.0690903</td><td style=\"text-align: right;\">    0.155561 </td><td style=\"text-align: right;\">  -0.0870299 </td><td style=\"text-align: right;\">    0.0181105</td><td style=\"text-align: right;\">    -0.248276</td><td style=\"text-align: right;\">     0.096663</td><td style=\"text-align: right;\">     0.149825</td><td style=\"text-align: right;\">     0.311468</td><td style=\"text-align: right;\">   -0.0606508</td><td style=\"text-align: right;\">   -0.0383499</td><td style=\"text-align: right;\">    0.018517 </td><td style=\"text-align: right;\">     0.326043</td><td style=\"text-align: right;\">   -0.144698 </td><td style=\"text-align: right;\">    -0.100492</td><td style=\"text-align: right;\">    0.0372673</td><td style=\"text-align: right;\">    0.29752  </td><td style=\"text-align: right;\">    0.0559655</td><td style=\"text-align: right;\">     0.112414</td><td style=\"text-align: right;\">   -0.176952 </td><td style=\"text-align: right;\">    0.0556688</td><td style=\"text-align: right;\">    0.0514475</td><td style=\"text-align: right;\">   0.00424577</td><td style=\"text-align: right;\">   0.00475676</td><td style=\"text-align: right;\">    -0.271384</td><td style=\"text-align: right;\">    0.340147 </td><td style=\"text-align: right;\">     0.166834</td><td style=\"text-align: right;\">     0.215749</td></tr>\n",
       "<tr><td>B0089SPEO2 </td><td>A3JOYNYL458QHP</td><td>Less lemon and less zing    </td><td style=\"text-align: right;\">      3</td><td style=\"text-align: right;\">                       0</td><td style=\"text-align: right;\"> 28582</td><td>coleridge          </td><td style=\"text-align: right;\">                     0</td><td style=\"text-align: right;\">1.32391e+09</td><td>Everything is ok, except it just isn't as good as it is in the bags.  Just considerably more bland -- less lemon and less zing.  Boring.                                                                                                                                                                                                                                        </td><td style=\"text-align: right;\">               0</td><td>Yes    </td><td style=\"text-align: right;\">-0.0487831</td><td style=\"text-align: right;\">0.118439 </td><td style=\"text-align: right;\">-0.0303681</td><td style=\"text-align: right;\"> 0.157721 </td><td style=\"text-align: right;\">0.0684248 </td><td style=\"text-align: right;\">-0.13485  </td><td style=\"text-align: right;\">-0.00986154</td><td style=\"text-align: right;\">-0.331527 </td><td style=\"text-align: right;\">0.100595 </td><td style=\"text-align: right;\"> 1.98707e-05</td><td style=\"text-align: right;\">-0.105599</td><td style=\"text-align: right;\">-0.0301875</td><td style=\"text-align: right;\">0.181647 </td><td style=\"text-align: right;\">0.00544846</td><td style=\"text-align: right;\"> 0.118771  </td><td style=\"text-align: right;\">-0.181707 </td><td style=\"text-align: right;\">0.230506 </td><td style=\"text-align: right;\">-0.0344374</td><td style=\"text-align: right;\">-0.157363 </td><td style=\"text-align: right;\"> 0.067005 </td><td style=\"text-align: right;\">-0.112078 </td><td style=\"text-align: right;\"> 0.104969 </td><td style=\"text-align: right;\">-0.070039 </td><td style=\"text-align: right;\">-0.141068 </td><td style=\"text-align: right;\">-0.0964308</td><td style=\"text-align: right;\">-0.0664858</td><td style=\"text-align: right;\">0.0128851</td><td style=\"text-align: right;\"> 0.0780268</td><td style=\"text-align: right;\">-0.0128017</td><td style=\"text-align: right;\">-0.0501928</td><td style=\"text-align: right;\">0.0691995</td><td style=\"text-align: right;\">0.17478 </td><td style=\"text-align: right;\">0.0217065</td><td style=\"text-align: right;\">-0.239084</td><td style=\"text-align: right;\"> 0.0033684</td><td style=\"text-align: right;\"> 0.0154902</td><td style=\"text-align: right;\">-0.0173244</td><td style=\"text-align: right;\">-0.019485 </td><td style=\"text-align: right;\">-0.062459 </td><td style=\"text-align: right;\">-0.158492 </td><td style=\"text-align: right;\">-0.0884645</td><td style=\"text-align: right;\">-0.135837</td><td style=\"text-align: right;\">0.281375 </td><td style=\"text-align: right;\">-0.0157509</td><td style=\"text-align: right;\">-0.113491 </td><td style=\"text-align: right;\">-0.158122</td><td style=\"text-align: right;\">-0.0962709</td><td style=\"text-align: right;\">-0.138579  </td><td style=\"text-align: right;\">-0.222309 </td><td style=\"text-align: right;\"> 0.0288732</td><td style=\"text-align: right;\">0.1304  </td><td style=\"text-align: right;\"> 0.0161658</td><td style=\"text-align: right;\">-0.0639203  </td><td style=\"text-align: right;\">0.0571925</td><td style=\"text-align: right;\">-0.00835864</td><td style=\"text-align: right;\"> 0.0567773</td><td style=\"text-align: right;\">-0.0618993</td><td style=\"text-align: right;\">0.140059 </td><td style=\"text-align: right;\"> 0.0904222</td><td style=\"text-align: right;\"> 0.0153754</td><td style=\"text-align: right;\"> 0.0105083</td><td style=\"text-align: right;\">-0.0174002</td><td style=\"text-align: right;\">-0.0881377</td><td style=\"text-align: right;\">-0.0720021</td><td style=\"text-align: right;\"> 0.10274  </td><td style=\"text-align: right;\"> 0.00901992</td><td style=\"text-align: right;\">-0.125566 </td><td style=\"text-align: right;\">-0.0739244</td><td style=\"text-align: right;\">0.0553379</td><td style=\"text-align: right;\">-0.090389 </td><td style=\"text-align: right;\">-0.0191743</td><td style=\"text-align: right;\"> 0.0164748</td><td style=\"text-align: right;\">0.180444</td><td style=\"text-align: right;\">-0.00570063</td><td style=\"text-align: right;\"> 0.103869 </td><td style=\"text-align: right;\"> 0.204599 </td><td style=\"text-align: right;\">0.0550867  </td><td style=\"text-align: right;\">0.109302 </td><td style=\"text-align: right;\">0.11969  </td><td style=\"text-align: right;\">-0.0462409</td><td style=\"text-align: right;\">-0.0155869</td><td style=\"text-align: right;\"> 0.0145383 </td><td style=\"text-align: right;\">0.0511702</td><td style=\"text-align: right;\"> 0.000526307</td><td style=\"text-align: right;\">-0.0213907</td><td style=\"text-align: right;\"> 0.0359547</td><td style=\"text-align: right;\">-0.092904</td><td style=\"text-align: right;\">0.130127 </td><td style=\"text-align: right;\">-0.148597 </td><td style=\"text-align: right;\"> 0.0435748</td><td style=\"text-align: right;\">-0.0452159</td><td style=\"text-align: right;\">-0.0348552</td><td style=\"text-align: right;\">-0.200719</td><td style=\"text-align: right;\">-0.0423915</td><td style=\"text-align: right;\">0.075542 </td><td style=\"text-align: right;\">-0.0941986</td><td style=\"text-align: right;\">-0.0563581</td><td style=\"text-align: right;\"> 0.0998209 </td><td style=\"text-align: right;\">0.0942631</td><td style=\"text-align: right;\">-0.00365887</td><td style=\"text-align: right;\">  -0.144749 </td><td style=\"text-align: right;\">    0.21223 </td><td style=\"text-align: right;\">  -0.0279572</td><td style=\"text-align: right;\">    0.126845</td><td style=\"text-align: right;\">  0.00789626</td><td style=\"text-align: right;\">  -0.0615718</td><td style=\"text-align: right;\">   0.0157162</td><td style=\"text-align: right;\">   -0.323751</td><td style=\"text-align: right;\">  0.0630751 </td><td style=\"text-align: right;\">   -0.0875479</td><td style=\"text-align: right;\">   -0.0284249</td><td style=\"text-align: right;\">    0.0451223</td><td style=\"text-align: right;\">    0.246705 </td><td style=\"text-align: right;\">    0.0402033</td><td style=\"text-align: right;\">    0.285773 </td><td style=\"text-align: right;\">   -0.248338 </td><td style=\"text-align: right;\">    0.280501 </td><td style=\"text-align: right;\">    0.0463158</td><td style=\"text-align: right;\">   -0.241901 </td><td style=\"text-align: right;\">   -0.0694158</td><td style=\"text-align: right;\">   -0.112079 </td><td style=\"text-align: right;\">    0.142782 </td><td style=\"text-align: right;\">   -0.170521 </td><td style=\"text-align: right;\">   -0.226299 </td><td style=\"text-align: right;\">   -0.0685568</td><td style=\"text-align: right;\">   -0.0996716</td><td style=\"text-align: right;\">   -0.0681383</td><td style=\"text-align: right;\">    0.0176241</td><td style=\"text-align: right;\">   -0.149034 </td><td style=\"text-align: right;\">    0.0679355</td><td style=\"text-align: right;\">   -0.164366 </td><td style=\"text-align: right;\">     0.219368</td><td style=\"text-align: right;\">   -0.0984905</td><td style=\"text-align: right;\">    -0.315619</td><td style=\"text-align: right;\">    0.0355624</td><td style=\"text-align: right;\">    0.213056 </td><td style=\"text-align: right;\">   -0.0507178</td><td style=\"text-align: right;\">    0.0101615</td><td style=\"text-align: right;\">   -0.0934191</td><td style=\"text-align: right;\">   -0.229513 </td><td style=\"text-align: right;\">   -0.160124 </td><td style=\"text-align: right;\">   -0.0989494</td><td style=\"text-align: right;\">     0.386873</td><td style=\"text-align: right;\">   -0.0755383</td><td style=\"text-align: right;\">   -0.0958293</td><td style=\"text-align: right;\">   -0.222367 </td><td style=\"text-align: right;\">    -0.30528 </td><td style=\"text-align: right;\">   -0.13544  </td><td style=\"text-align: right;\">   -0.25327  </td><td style=\"text-align: right;\">   -0.0128005</td><td style=\"text-align: right;\">    0.213202 </td><td style=\"text-align: right;\">   -0.0377061</td><td style=\"text-align: right;\">   -0.131061 </td><td style=\"text-align: right;\">    0.0239618</td><td style=\"text-align: right;\">   -0.0365556</td><td style=\"text-align: right;\">    0.0417726</td><td style=\"text-align: right;\">   -0.0113769</td><td style=\"text-align: right;\">     0.203052</td><td style=\"text-align: right;\">   0.0738208 </td><td style=\"text-align: right;\">    0.0821008</td><td style=\"text-align: right;\">    0.107874 </td><td style=\"text-align: right;\">    0.0964877</td><td style=\"text-align: right;\">    0.0490714</td><td style=\"text-align: right;\">  -0.00794401</td><td style=\"text-align: right;\">    0.0617488</td><td style=\"text-align: right;\">     0.146902</td><td style=\"text-align: right;\">    -0.222096</td><td style=\"text-align: right;\">    -0.108254</td><td style=\"text-align: right;\">     0.100569</td><td style=\"text-align: right;\">   -0.239643 </td><td style=\"text-align: right;\">    0.100473 </td><td style=\"text-align: right;\">    0.138536 </td><td style=\"text-align: right;\">     0.207813</td><td style=\"text-align: right;\">   -0.0225188</td><td style=\"text-align: right;\">     0.160478</td><td style=\"text-align: right;\">    0.236284 </td><td style=\"text-align: right;\">    0.0436519</td><td style=\"text-align: right;\">    0.0968238</td><td style=\"text-align: right;\">     0.100905</td><td style=\"text-align: right;\">    0.0408579</td><td style=\"text-align: right;\">    0.0349187</td><td style=\"text-align: right;\">   -0.0483553</td><td style=\"text-align: right;\">  -0.0246045 </td><td style=\"text-align: right;\">   0.144378  </td><td style=\"text-align: right;\">     0.135794</td><td style=\"text-align: right;\">   -0.0590955</td><td style=\"text-align: right;\">    -0.101187</td><td style=\"text-align: right;\">     0.135518</td></tr>\n",
       "<tr><td>B001PMCDK2 </td><td>A14TTMM0Z03Y2W</td><td>my cat goes crazy for these!</td><td style=\"text-align: right;\">      5</td><td style=\"text-align: right;\">                       0</td><td style=\"text-align: right;\">389965</td><td>Lindsay S. Bradford</td><td style=\"text-align: right;\">                     0</td><td style=\"text-align: right;\">1.3106e+09 </td><td>Best cat treat ever. There isn't anything comparable to the love my cat has for these treats, he snubs away any other kind now.<br />I know he likes to manipulate me with his cattiness but these treats are my way of manipulating him to come sit on my lap and have some chill time. :)                                                                                     </td><td style=\"text-align: right;\">               1</td><td>Yes    </td><td style=\"text-align: right;\">-0.0165155</td><td style=\"text-align: right;\">0.0691798</td><td style=\"text-align: right;\">-0.140878 </td><td style=\"text-align: right;\"> 0.109368 </td><td style=\"text-align: right;\">0.00862508</td><td style=\"text-align: right;\">-0.0277915</td><td style=\"text-align: right;\">-0.0129597 </td><td style=\"text-align: right;\">-0.25609  </td><td style=\"text-align: right;\">0.0682151</td><td style=\"text-align: right;\"> 0.119919   </td><td style=\"text-align: right;\">-0.135724</td><td style=\"text-align: right;\">-0.196167 </td><td style=\"text-align: right;\">0.0599853</td><td style=\"text-align: right;\">0.0240107 </td><td style=\"text-align: right;\"> 0.059969  </td><td style=\"text-align: right;\"> 0.0293594</td><td style=\"text-align: right;\">0.0423285</td><td style=\"text-align: right;\"> 0.0305312</td><td style=\"text-align: right;\"> 0.0396735</td><td style=\"text-align: right;\">-0.0494812</td><td style=\"text-align: right;\">-0.0444291</td><td style=\"text-align: right;\">-0.0705239</td><td style=\"text-align: right;\"> 0.0855984</td><td style=\"text-align: right;\">-0.0247937</td><td style=\"text-align: right;\"> 0.0665122</td><td style=\"text-align: right;\"> 0.0772681</td><td style=\"text-align: right;\">0.0229916</td><td style=\"text-align: right;\">-0.0396281</td><td style=\"text-align: right;\">-0.0450398</td><td style=\"text-align: right;\">-0.073154 </td><td style=\"text-align: right;\">0.0430071</td><td style=\"text-align: right;\">0.220979</td><td style=\"text-align: right;\">0.0653286</td><td style=\"text-align: right;\">-0.282533</td><td style=\"text-align: right;\">-0.212799 </td><td style=\"text-align: right;\">-0.0943601</td><td style=\"text-align: right;\"> 0.0317786</td><td style=\"text-align: right;\">-0.0633211</td><td style=\"text-align: right;\"> 0.0692144</td><td style=\"text-align: right;\">-0.0883257</td><td style=\"text-align: right;\">-0.109349 </td><td style=\"text-align: right;\">-0.107326</td><td style=\"text-align: right;\">0.184511 </td><td style=\"text-align: right;\"> 0.0280534</td><td style=\"text-align: right;\">-0.0847467</td><td style=\"text-align: right;\">-0.144172</td><td style=\"text-align: right;\">-0.0785151</td><td style=\"text-align: right;\">-0.00310675</td><td style=\"text-align: right;\">-0.114277 </td><td style=\"text-align: right;\">-0.0363947</td><td style=\"text-align: right;\">0.149714</td><td style=\"text-align: right;\">-0.0473261</td><td style=\"text-align: right;\">-0.000967807</td><td style=\"text-align: right;\">0.0647993</td><td style=\"text-align: right;\"> 0.0642438 </td><td style=\"text-align: right;\">-0.0200667</td><td style=\"text-align: right;\">-0.131716 </td><td style=\"text-align: right;\">0.0278644</td><td style=\"text-align: right;\">-0.0746838</td><td style=\"text-align: right;\"> 0.0214   </td><td style=\"text-align: right;\">-0.0376316</td><td style=\"text-align: right;\"> 0.0540969</td><td style=\"text-align: right;\"> 0.0431157</td><td style=\"text-align: right;\">-0.146399 </td><td style=\"text-align: right;\">-0.035119 </td><td style=\"text-align: right;\">-0.0114159 </td><td style=\"text-align: right;\">-0.0653957</td><td style=\"text-align: right;\">-0.186902 </td><td style=\"text-align: right;\">0.184779 </td><td style=\"text-align: right;\"> 0.0231311</td><td style=\"text-align: right;\"> 0.0259329</td><td style=\"text-align: right;\">-0.0642021</td><td style=\"text-align: right;\">0.276097</td><td style=\"text-align: right;\"> 0.117546  </td><td style=\"text-align: right;\"> 0.188303 </td><td style=\"text-align: right;\">-0.028923 </td><td style=\"text-align: right;\">0.0832221  </td><td style=\"text-align: right;\">0.0265352</td><td style=\"text-align: right;\">0.08172  </td><td style=\"text-align: right;\">-0.120676 </td><td style=\"text-align: right;\"> 0.0375758</td><td style=\"text-align: right;\">-0.00977229</td><td style=\"text-align: right;\">0.0511886</td><td style=\"text-align: right;\">-0.0154957  </td><td style=\"text-align: right;\">-0.206649 </td><td style=\"text-align: right;\">-0.0453396</td><td style=\"text-align: right;\"> 0.140424</td><td style=\"text-align: right;\">0.0935571</td><td style=\"text-align: right;\">-0.0882622</td><td style=\"text-align: right;\">-0.0959661</td><td style=\"text-align: right;\"> 0.0514566</td><td style=\"text-align: right;\">-0.0701552</td><td style=\"text-align: right;\">-0.231797</td><td style=\"text-align: right;\"> 0.0341305</td><td style=\"text-align: right;\">0.0874123</td><td style=\"text-align: right;\">-0.0558181</td><td style=\"text-align: right;\"> 0.0184991</td><td style=\"text-align: right;\">-0.0703503 </td><td style=\"text-align: right;\">0.0359188</td><td style=\"text-align: right;\">-0.0223076 </td><td style=\"text-align: right;\">   0.0899855</td><td style=\"text-align: right;\">    0.21899 </td><td style=\"text-align: right;\">  -0.214823 </td><td style=\"text-align: right;\">    0.117394</td><td style=\"text-align: right;\"> -0.00157796</td><td style=\"text-align: right;\">  -0.261696 </td><td style=\"text-align: right;\">  -0.180048 </td><td style=\"text-align: right;\">   -0.162573</td><td style=\"text-align: right;\"> -0.00392626</td><td style=\"text-align: right;\">    0.0397808</td><td style=\"text-align: right;\">   -0.241352 </td><td style=\"text-align: right;\">   -0.194509 </td><td style=\"text-align: right;\">   -0.0028211</td><td style=\"text-align: right;\">    0.181076 </td><td style=\"text-align: right;\">   -0.156617 </td><td style=\"text-align: right;\">   -0.0930979</td><td style=\"text-align: right;\">    0.0606362</td><td style=\"text-align: right;\">   -0.0825647</td><td style=\"text-align: right;\">   -0.0894145</td><td style=\"text-align: right;\">   -0.0384209</td><td style=\"text-align: right;\">   -0.0835387</td><td style=\"text-align: right;\">   -0.0544793</td><td style=\"text-align: right;\">    0.212567 </td><td style=\"text-align: right;\">   -0.0119065</td><td style=\"text-align: right;\">   -0.103325 </td><td style=\"text-align: right;\">    0.183177 </td><td style=\"text-align: right;\">   -0.0683631</td><td style=\"text-align: right;\">   -0.251479 </td><td style=\"text-align: right;\">    0.0326759</td><td style=\"text-align: right;\">    0.0189452</td><td style=\"text-align: right;\">    0.0220799</td><td style=\"text-align: right;\">     0.435541</td><td style=\"text-align: right;\">    0.186254 </td><td style=\"text-align: right;\">    -0.411253</td><td style=\"text-align: right;\">   -0.248745 </td><td style=\"text-align: right;\">   -0.0744283</td><td style=\"text-align: right;\">    0.0192874</td><td style=\"text-align: right;\">    0.0348466</td><td style=\"text-align: right;\">    0.178901 </td><td style=\"text-align: right;\">   -0.0345661</td><td style=\"text-align: right;\">   -0.102509 </td><td style=\"text-align: right;\">   -0.0548833</td><td style=\"text-align: right;\">     0.170163</td><td style=\"text-align: right;\">    0.149388 </td><td style=\"text-align: right;\">   -0.229245 </td><td style=\"text-align: right;\">   -0.242373 </td><td style=\"text-align: right;\">    -0.043104</td><td style=\"text-align: right;\">   -0.0368078</td><td style=\"text-align: right;\">   -0.124515 </td><td style=\"text-align: right;\">   -0.102428 </td><td style=\"text-align: right;\">   -0.0323743</td><td style=\"text-align: right;\">    0.0820244</td><td style=\"text-align: right;\">    0.0476262</td><td style=\"text-align: right;\">   -0.0231875</td><td style=\"text-align: right;\">   -0.0670002</td><td style=\"text-align: right;\">    0.0516629</td><td style=\"text-align: right;\">   -0.157796 </td><td style=\"text-align: right;\">    -0.0686  </td><td style=\"text-align: right;\">  -0.0771268 </td><td style=\"text-align: right;\">    0.149819 </td><td style=\"text-align: right;\">   -0.0467934</td><td style=\"text-align: right;\">    0.0248999</td><td style=\"text-align: right;\">    0.0765703</td><td style=\"text-align: right;\">  -0.00616234</td><td style=\"text-align: right;\">   -0.10488  </td><td style=\"text-align: right;\">     0.187105</td><td style=\"text-align: right;\">    -0.101   </td><td style=\"text-align: right;\">    -0.184893</td><td style=\"text-align: right;\">     0.324658</td><td style=\"text-align: right;\">   -0.0294896</td><td style=\"text-align: right;\">    0.0854355</td><td style=\"text-align: right;\">    0.0533756</td><td style=\"text-align: right;\">     0.196162</td><td style=\"text-align: right;\">    0.15814  </td><td style=\"text-align: right;\">     0.353424</td><td style=\"text-align: right;\">   -0.114338 </td><td style=\"text-align: right;\">    0.189698 </td><td style=\"text-align: right;\">   -0.0138259</td><td style=\"text-align: right;\">     0.110535</td><td style=\"text-align: right;\">   -0.325666 </td><td style=\"text-align: right;\">    0.15551  </td><td style=\"text-align: right;\">   -0.0928693</td><td style=\"text-align: right;\">  -0.0795503 </td><td style=\"text-align: right;\">  -0.0599957 </td><td style=\"text-align: right;\">    -0.1373  </td><td style=\"text-align: right;\">    0.0534987</td><td style=\"text-align: right;\">     0.198609</td><td style=\"text-align: right;\">     0.100555</td></tr>\n",
       "</tbody>\n",
       "</table>"
      ]
     },
     "metadata": {},
     "output_type": "display_data"
    },
    {
     "data": {
      "text/plain": []
     },
     "execution_count": 27,
     "metadata": {},
     "output_type": "execute_result"
    }
   ],
   "source": [
    "ext_reviews_new.head(3)"
   ]
  },
  {
   "cell_type": "code",
   "execution_count": 28,
   "metadata": {},
   "outputs": [],
   "source": [
    "ext_train_new = ext_reviews_new[ext_reviews_new[\"Train\"] == \"Yes\"]\n",
    "ext_test_new = ext_reviews_new[ext_reviews_new[\"Train\"] == \"No\"]"
   ]
  },
  {
   "cell_type": "code",
   "execution_count": 29,
   "metadata": {},
   "outputs": [],
   "source": [
    "def plot_par_dep_ICE(xs, par_dep_frame):\n",
    "\n",
    "    \n",
    "    \"\"\" Plots ICE overlayed onto partial dependence for a single variable.\n",
    "    \n",
    "    Args: \n",
    "        xs: Name of variable for which to plot ICE and partial dependence.\n",
    "        par_dep_frame: Name of Pandas DataFrame containing ICE and partial\n",
    "                       dependence values.\n",
    "    \n",
    "    \"\"\"\n",
    "    \n",
    "    # initialize figure and axis\n",
    "    fig, ax = plt.subplots()\n",
    "    \n",
    "    # plot ICE curves\n",
    "    par_dep_frame.drop('partial_dependence', axis=1).plot(x=xs, \n",
    "                                                          colormap='gnuplot',\n",
    "                                                          ax=ax)\n",
    "\n",
    "    # overlay partial dependence, annotate plot\n",
    "    par_dep_frame.plot(title='Partial Dependence and ICE for ' + str(xs),\n",
    "                       x=xs, \n",
    "                       y='partial_dependence',\n",
    "                       style='r-', \n",
    "                       linewidth=3, \n",
    "                       ax=ax)\n",
    "\n",
    "    # add legend\n",
    "    _ = plt.legend(bbox_to_anchor=(1.05, 0),\n",
    "                   loc=3, \n",
    "                   borderaxespad=0.)"
   ]
  },
  {
   "cell_type": "markdown",
   "metadata": {},
   "source": [
    "# 2 Training Models"
   ]
  },
  {
   "cell_type": "markdown",
   "metadata": {},
   "source": [
    "## 2.1 Linear Regression"
   ]
  },
  {
   "cell_type": "markdown",
   "metadata": {},
   "source": [
    "### 2.1.1 Train & Fit Model"
   ]
  },
  {
   "cell_type": "code",
   "execution_count": 55,
   "metadata": {},
   "outputs": [],
   "source": [
    "predictors = ['ProductId', 'UserId', 'HelpfulnessNumerator', 'HelpfulnessDenominator', 'Time'] + summary_vecs.names + review_vecs.names \n",
    "response = 'PositiveReview'"
   ]
  },
  {
   "cell_type": "code",
   "execution_count": 45,
   "metadata": {},
   "outputs": [
    {
     "name": "stdout",
     "output_type": "stream",
     "text": [
      "glm Model Build progress: |███████████████████████████████████████████████| 100%\n"
     ]
    }
   ],
   "source": [
    "# Initialize\n",
    "local_glm_plus = H2OGeneralizedLinearEstimator(family='binomial', model_id='glm_surrogate', lambda_search=True)\n",
    "# train \n",
    "local_glm_plus.train(x=predictors, y=response, training_frame=ext_train_new)"
   ]
  },
  {
   "cell_type": "markdown",
   "metadata": {},
   "source": [
    "### 2.1.2 Interpretability"
   ]
  },
  {
   "cell_type": "markdown",
   "metadata": {},
   "source": [
    "#### Variable Importance"
   ]
  },
  {
   "cell_type": "code",
   "execution_count": 46,
   "metadata": {},
   "outputs": [
    {
     "data": {
      "image/png": "[encoded data removed]",
      "text/plain": [
       "<Figure size 1008x720 with 1 Axes>"
      ]
     },
     "metadata": {
      "needs_background": "light"
     },
     "output_type": "display_data"
    }
   ],
   "source": [
    "local_glm_plus.varimp_plot()"
   ]
  },
  {
   "cell_type": "markdown",
   "metadata": {},
   "source": [
    "#### Partial Dependence Plot (PDP)"
   ]
  },
  {
   "cell_type": "code",
   "execution_count": 47,
   "metadata": {},
   "outputs": [
    {
     "name": "stdout",
     "output_type": "stream",
     "text": [
      "PartialDependencePlot progress: |█████████████████████████████████████████| 100%\n"
     ]
    },
    {
     "data": {
      "image/png": "[encoded data removed]",
      "text/plain": [
       "<Figure size 504x720 with 1 Axes>"
      ]
     },
     "metadata": {
      "needs_background": "light"
     },
     "output_type": "display_data"
    }
   ],
   "source": [
    "pdp_local_linear_plus = local_glm_plus.partial_plot(data = ext_train_new, cols = [\"HelpfulnessNumerator\"])"
   ]
  },
  {
   "cell_type": "markdown",
   "metadata": {},
   "source": [
    "#### Individual Conditional Expectation (ICE)"
   ]
  },
  {
   "cell_type": "code",
   "execution_count": 37,
   "metadata": {},
   "outputs": [],
   "source": [
    "ext_test_s = ext_test_new.drop([2, 6, 9])"
   ]
  },
  {
   "cell_type": "code",
   "execution_count": 41,
   "metadata": {},
   "outputs": [
    {
     "name": "stdout",
     "output_type": "stream",
     "text": [
      "Parse progress: |█████████████████████████████████████████████████████████| 100%\n",
      "glm prediction progress: |████████████████████████████████████████████████| 100%\n"
     ]
    }
   ],
   "source": [
    "from ice import ice, ice_plot\n",
    "HelpfulnessNumerator_ice_df = ice(data=ext_test_s, column='HelpfulnessNumerator', \n",
    "                   model=local_glm_plus)"
   ]
  },
  {
   "cell_type": "code",
   "execution_count": 51,
   "metadata": {
    "scrolled": false
   },
   "outputs": [
    {
     "data": {
      "image/png": "[encoded data removed]",
      "text/plain": [
       "<Figure size 432x288 with 2 Axes>"
      ]
     },
     "metadata": {
      "needs_background": "light"
     },
     "output_type": "display_data"
    }
   ],
   "source": [
    "ice_plot(HelpfulnessNumerator_ice_df, linewidth=0.5, color_by='PositiveReview', cmap=plt.get_cmap('OrRd'),\n",
    "        plot_pdp=True, pdp_kwargs={'c': 'k', 'linewidth': 5})\n",
    "wt_vals = HelpfulnessNumerator_ice_df.columns.get_level_values('PositiveReview').values\n",
    "sm = plt.cm.ScalarMappable(cmap=plt.get_cmap('OrRd'), \n",
    "                           norm=plt.Normalize(vmin=wt_vals.min(), \n",
    "                                              vmax=wt_vals.max()))\n",
    "sm._A = []\n",
    "plt.colorbar(sm, label='PositiveReview')\n",
    "plt.ylabel('Pred. AV %ile')\n",
    "plt.xlabel('HelpfulnessNumerator');"
   ]
  },
  {
   "cell_type": "markdown",
   "metadata": {},
   "source": [
    "### 2.1.3 Matrix"
   ]
  },
  {
   "cell_type": "code",
   "execution_count": 169,
   "metadata": {},
   "outputs": [
    {
     "name": "stdout",
     "output_type": "stream",
     "text": [
      "\n",
      "Local GLM Coefficients:\n",
      "C46:                      -4.260476800316235\n",
      "C88:                      -3.0978936685560257\n",
      "C22:                      -2.9655688628707715\n",
      "C2:                       -2.9340255339304253\n",
      "C13:                      -2.2511389050009414\n",
      "C89:                      -2.1017036576949235\n",
      "C49:                      -1.950408959025164\n",
      "C32:                      -1.8707779174677097\n",
      "C19:                      -1.8286575243501957\n",
      "C12:                      -1.7966530610909817\n",
      "C11:                      -1.700184340627838\n",
      "C1:                       -1.6847025812196756\n",
      "C82:                      -1.627829319697914\n",
      "C83:                      -1.5565874726680813\n",
      "C29:                      -1.5339705080817085\n",
      "C35:                      -1.3521103076035348\n",
      "C28:                      -1.3443180876656213\n",
      "C33:                      -1.3318451299853227\n",
      "C37:                      -1.2946954862022535\n",
      "C59:                      -1.2792300066640068\n",
      "C96:                      -1.2182719104519433\n",
      "C92:                      -1.165471586649979\n",
      "C84:                      -1.005671035730411\n",
      "summary_C46:              -0.9887284469360819\n",
      "C79:                      -0.9782955096469512\n",
      "summary_C82:              -0.9523415815267741\n",
      "C98:                      -0.9492888257629267\n",
      "C10:                      -0.9176553960302359\n",
      "summary_C13:              -0.8714439777213066\n",
      "summary_C32:              -0.8562798048184127\n",
      "C39:                      -0.8160507159425965\n",
      "summary_C22:              -0.7954929171648278\n",
      "summary_C89:              -0.7126160588624324\n",
      "summary_C88:              -0.695595397657876\n",
      "C70:                      -0.5553562173935883\n",
      "summary_C1:               -0.5277003028422728\n",
      "summary_C35:              -0.48055539202150127\n",
      "summary_C2:               -0.4737158277354006\n",
      "C51:                      -0.45211683502378247\n",
      "summary_C12:              -0.4302724267387639\n",
      "summary_C79:              -0.4169666979560626\n",
      "C42:                      -0.41291839373400246\n",
      "summary_C11:              -0.41155574041772464\n",
      "C43:                      -0.386907082123654\n",
      "C65:                      -0.3806205012965766\n",
      "summary_C19:              -0.35999785671738777\n",
      "summary_C83:              -0.3548401370208142\n",
      "C21:                      -0.3527301136133504\n",
      "summary_C37:              -0.3436098004953751\n",
      "C69:                      -0.3373144386260251\n",
      "summary_C24:              -0.3342359485956226\n",
      "C74:                      -0.3142282660176021\n",
      "summary_C70:              -0.2619624972507879\n",
      "summary_C33:              -0.24824568302943126\n",
      "summary_C28:              -0.23442678940618925\n",
      "summary_C21:              -0.2298489240865572\n",
      "summary_C98:              -0.22236756905686486\n",
      "summary_C43:              -0.20626863216172248\n",
      "summary_C51:              -0.20370951170583576\n",
      "summary_C30:              -0.19733604291766157\n",
      "summary_C29:              -0.19476336038744016\n",
      "summary_C94:              -0.19197604047352512\n",
      "C16:                      -0.190071600657303\n",
      "summary_C7:               -0.18793065470661266\n",
      "C64:                      -0.18378226858285274\n",
      "C23:                      -0.17920132660718144\n",
      "summary_C10:              -0.1747593713000508\n",
      "C62:                      -0.14960064930891093\n",
      "summary_C96:              -0.1262088251166088\n",
      "summary_C62:              -0.11882021274244128\n",
      "summary_C23:              -0.113738477620942\n",
      "summary_C64:              -0.10857539922748806\n",
      "summary_C26:              -0.10496585421717562\n",
      "HelpfulnessDenominator:   -0.09618759115440151\n",
      "summary_C65:              -0.07721104368088262\n",
      "C80:                      -0.068749859901538\n",
      "summary_C59:              -0.025014354827863457\n",
      "summary_C95:              -0.0044725572844783144\n",
      "Time:                     -9.29287922796519e-10\n",
      "summary_C52:              0.0006777140170471783\n",
      "summary_C92:              0.0026301902985524815\n",
      "summary_C90:              0.007689359173949778\n",
      "summary_C39:              0.01898331701020817\n",
      "summary_C67:              0.031597525640386565\n",
      "summary_C42:              0.03423420860835901\n",
      "summary_C18:              0.04289285007776524\n",
      "C31:                      0.057603228928205207\n",
      "summary_C100:             0.067836851219147\n",
      "C36:                      0.07251536115406401\n",
      "summary_C50:              0.09918046064282882\n",
      "summary_C55:              0.09981000049493377\n",
      "summary_C57:              0.10620669181908542\n",
      "C94:                      0.11118832787089393\n",
      "HelpfulnessNumerator:     0.11144737896421535\n",
      "summary_C99:              0.14138753337060903\n",
      "summary_C16:              0.14526679757282526\n",
      "summary_C4:               0.1472842210173801\n",
      "summary_C45:              0.1554676853877125\n",
      "summary_C14:              0.15983390753152377\n",
      "summary_C53:              0.16188535254723194\n",
      "summary_C87:              0.16395405434625668\n",
      "summary_C93:              0.17501915296542211\n",
      "summary_C76:              0.18814325584627323\n",
      "summary_C38:              0.20088921775571905\n",
      "summary_C20:              0.2074740074637712\n",
      "summary_C81:              0.20785312201511544\n",
      "C58:                      0.22922694289520087\n",
      "summary_C60:              0.2357577450591256\n",
      "C100:                     0.2423256466744756\n",
      "C57:                      0.24317913292989204\n",
      "summary_C68:              0.24845764581139276\n",
      "summary_C47:              0.2509865206657005\n",
      "summary_C72:              0.2556179672982405\n",
      "C55:                      0.2604349033184046\n",
      "C18:                      0.2746412129235267\n",
      "C40:                      0.279366055329885\n",
      "summary_C31:              0.28457266019730454\n",
      "C41:                      0.3010731584031337\n",
      "summary_C71:              0.3039883443507119\n",
      "summary_C97:              0.3132414420983138\n",
      "summary_C61:              0.36475746757792066\n",
      "summary_C27:              0.3744826859639896\n",
      "summary_C58:              0.41896198965770204\n",
      "C93:                      0.42660228369966235\n",
      "C47:                      0.42775708147513614\n",
      "summary_C5:               0.43120563544561036\n",
      "C61:                      0.4391613087180442\n",
      "summary_C63:              0.44420693233458103\n",
      "C95:                      0.457503320211817\n",
      "summary_C77:              0.4611604598647555\n",
      "C17:                      0.4798614569190229\n",
      "summary_C66:              0.4868626366316572\n",
      "summary_C44:              0.49000386626148146\n",
      "summary_C3:               0.5027436471904495\n",
      "summary_C91:              0.502789160477183\n",
      "summary_C9:               0.5190170728606894\n",
      "summary_C34:              0.5365885826170156\n",
      "C72:                      0.6262559904957392\n",
      "C68:                      0.6410241580471855\n",
      "summary_C85:              0.6634736764423782\n",
      "summary_C73:              0.6762833446205223\n",
      "C50:                      0.6883634886702364\n",
      "summary_C15:              0.7451730899455046\n",
      "C97:                      0.7595924646444551\n",
      "C67:                      0.8222930238723775\n",
      "summary_C75:              0.8314339463002572\n",
      "C76:                      0.8772134355337319\n",
      "summary_C8:               0.8989988663297133\n",
      "C75:                      1.0264725336702787\n",
      "summary_C48:              1.0668620492379313\n",
      "C73:                      1.0783312761806199\n",
      "C77:                      1.081812568814684\n",
      "C20:                      1.0922623903957713\n",
      "C91:                      1.1005412996405721\n",
      "C4:                       1.148790081314713\n",
      "C48:                      1.2090479968040324\n",
      "C8:                       1.2394207931319698\n",
      "C14:                      1.243136626195636\n",
      "C66:                      1.475550221437668\n",
      "C3:                       1.517876691884352\n",
      "C26:                      1.558594422159404\n",
      "C71:                      1.7156715218650311\n",
      "C52:                      1.8143928390621051\n",
      "Intercept:                1.8528081362730844\n",
      "C27:                      1.90209317291004\n",
      "C81:                      2.2632779022820535\n",
      "C85:                      2.335202756782522\n",
      "C60:                      2.4945105984050064\n",
      "C15:                      2.7063582022443304\n",
      "C44:                      2.9162540933663093\n",
      "C5:                       3.098883742791535\n",
      "C9:                       3.35139839893334\n",
      "C56:                      3.648156511135708\n"
     ]
    }
   ],
   "source": [
    "print('\\nLocal GLM Coefficients:')\n",
    "for c_name, c_val in sorted(local_glm_plus.coef().items(), key=operator.itemgetter(1)):\n",
    "    if c_val != 0.0:\n",
    "        print('%s %s' % (str(c_name + ':').ljust(25), c_val))"
   ]
  },
  {
   "cell_type": "code",
   "execution_count": 170,
   "metadata": {},
   "outputs": [
    {
     "data": {
      "text/plain": [
       "{'train': 0.432012638087628, 'valid': None}"
      ]
     },
     "execution_count": 170,
     "metadata": {},
     "output_type": "execute_result"
    }
   ],
   "source": [
    "local_glm_plus.r2(train=True, valid=True)"
   ]
  },
  {
   "cell_type": "code",
   "execution_count": 171,
   "metadata": {},
   "outputs": [
    {
     "data": {
      "text/plain": [
       "0.8761496423028042"
      ]
     },
     "execution_count": 171,
     "metadata": {},
     "output_type": "execute_result"
    }
   ],
   "source": [
    "local_glm_plus.auc()"
   ]
  },
  {
   "cell_type": "code",
   "execution_count": 172,
   "metadata": {},
   "outputs": [
    {
     "name": "stdout",
     "output_type": "stream",
     "text": [
      "Confusion Matrix (Act/Pred) for max f1 @ threshold = 0.46039732571229414: \n"
     ]
    },
    {
     "data": {
      "text/html": [
       "<div style=\"overflow:auto\"><table style=\"width:50%\"><tr><td><b></b></td>\n",
       "<td><b>0</b></td>\n",
       "<td><b>1</b></td>\n",
       "<td><b>Error</b></td>\n",
       "<td><b>Rate</b></td></tr>\n",
       "<tr><td>0</td>\n",
       "<td>10134.0</td>\n",
       "<td>5760.0</td>\n",
       "<td>0.3624</td>\n",
       "<td> (5760.0/15894.0)</td></tr>\n",
       "<tr><td>1</td>\n",
       "<td>2269.0</td>\n",
       "<td>26239.0</td>\n",
       "<td>0.0796</td>\n",
       "<td> (2269.0/28508.0)</td></tr>\n",
       "<tr><td>Total</td>\n",
       "<td>12403.0</td>\n",
       "<td>31999.0</td>\n",
       "<td>0.1808</td>\n",
       "<td> (8029.0/44402.0)</td></tr></table></div>"
      ],
      "text/plain": [
       "       0      1      Error    Rate\n",
       "-----  -----  -----  -------  ----------------\n",
       "0      10134  5760   0.3624   (5760.0/15894.0)\n",
       "1      2269   26239  0.0796   (2269.0/28508.0)\n",
       "Total  12403  31999  0.1808   (8029.0/44402.0)"
      ]
     },
     "metadata": {},
     "output_type": "display_data"
    },
    {
     "data": {
      "text/plain": []
     },
     "execution_count": 172,
     "metadata": {},
     "output_type": "execute_result"
    }
   ],
   "source": [
    "local_glm_plus.confusion_matrix()"
   ]
  },
  {
   "cell_type": "markdown",
   "metadata": {},
   "source": [
    "## 2.2 Logistic Regression"
   ]
  },
  {
   "cell_type": "markdown",
   "metadata": {},
   "source": [
    "### 2.2.1 Train & Fit Model"
   ]
  },
  {
   "cell_type": "code",
   "execution_count": 56,
   "metadata": {},
   "outputs": [
    {
     "name": "stdout",
     "output_type": "stream",
     "text": [
      "glm Model Build progress: |███████████████████████████████████████████████| 100%\n"
     ]
    }
   ],
   "source": [
    "glm_logistic_plus_summary = H2OGeneralizedLinearEstimator(family = \"binomial\")\n",
    "glm_logistic_plus_summary.train(x=predictors, \n",
    "                               y= response, \n",
    "                               training_frame = ext_train_new, \n",
    "                               validation_frame = ext_test_new, \n",
    "                               model_id=\"glm_logistic\")"
   ]
  },
  {
   "cell_type": "markdown",
   "metadata": {},
   "source": [
    "### 2.2.2 Interpretability"
   ]
  },
  {
   "cell_type": "code",
   "execution_count": 57,
   "metadata": {},
   "outputs": [
    {
     "data": {
      "image/png": "[encoded data removed]",
      "text/plain": [
       "<Figure size 1008x720 with 1 Axes>"
      ]
     },
     "metadata": {
      "needs_background": "light"
     },
     "output_type": "display_data"
    }
   ],
   "source": [
    "glm_logistic_plus_summary.varimp_plot()"
   ]
  },
  {
   "cell_type": "code",
   "execution_count": 58,
   "metadata": {},
   "outputs": [
    {
     "name": "stdout",
     "output_type": "stream",
     "text": [
      "PartialDependencePlot progress: |█████████████████████████████████████████| 100%\n"
     ]
    },
    {
     "data": {
      "image/png": "[encoded data removed]",
      "text/plain": [
       "<Figure size 504x720 with 1 Axes>"
      ]
     },
     "metadata": {
      "needs_background": "light"
     },
     "output_type": "display_data"
    }
   ],
   "source": [
    "pdp_word_vecs = glm_logistic_plus_summary.partial_plot(data = ext_train_new, cols = [\"C20\"])"
   ]
  },
  {
   "cell_type": "code",
   "execution_count": null,
   "metadata": {},
   "outputs": [],
   "source": [
    "C20_ice_df = ice(data=ext_test_s, column='C20', model=glm_logistic_plus_summary)"
   ]
  },
  {
   "cell_type": "markdown",
   "metadata": {},
   "source": [
    "### 2.2.3 Matrix"
   ]
  },
  {
   "cell_type": "code",
   "execution_count": 177,
   "metadata": {},
   "outputs": [
    {
     "name": "stdout",
     "output_type": "stream",
     "text": [
      "With Summary and Review Embeddings AUC: 0.854\n"
     ]
    }
   ],
   "source": [
    "print(\"With Summary and Review Embeddings AUC: \" + str(round(glm_logistic_plus_summary.auc(valid = True), 3)))"
   ]
  },
  {
   "cell_type": "code",
   "execution_count": 178,
   "metadata": {},
   "outputs": [
    {
     "name": "stdout",
     "output_type": "stream",
     "text": [
      "Confusion Matrix (Act/Pred) for max f1 @ threshold = 0.45977694654643286: \n"
     ]
    },
    {
     "data": {
      "text/html": [
       "<div style=\"overflow:auto\"><table style=\"width:50%\"><tr><td><b></b></td>\n",
       "<td><b>0</b></td>\n",
       "<td><b>1</b></td>\n",
       "<td><b>Error</b></td>\n",
       "<td><b>Rate</b></td></tr>\n",
       "<tr><td>0</td>\n",
       "<td>2383.0</td>\n",
       "<td>1829.0</td>\n",
       "<td>0.4342</td>\n",
       "<td> (1829.0/4212.0)</td></tr>\n",
       "<tr><td>1</td>\n",
       "<td>499.0</td>\n",
       "<td>6441.0</td>\n",
       "<td>0.0719</td>\n",
       "<td> (499.0/6940.0)</td></tr>\n",
       "<tr><td>Total</td>\n",
       "<td>2882.0</td>\n",
       "<td>8270.0</td>\n",
       "<td>0.2088</td>\n",
       "<td> (2328.0/11152.0)</td></tr></table></div>"
      ],
      "text/plain": [
       "       0     1     Error    Rate\n",
       "-----  ----  ----  -------  ----------------\n",
       "0      2383  1829  0.4342   (1829.0/4212.0)\n",
       "1      499   6441  0.0719   (499.0/6940.0)\n",
       "Total  2882  8270  0.2088   (2328.0/11152.0)"
      ]
     },
     "metadata": {},
     "output_type": "display_data"
    },
    {
     "data": {
      "text/plain": []
     },
     "execution_count": 178,
     "metadata": {},
     "output_type": "execute_result"
    }
   ],
   "source": [
    "glm_logistic_plus_summary.confusion_matrix(valid = True)"
   ]
  },
  {
   "cell_type": "code",
   "execution_count": 179,
   "metadata": {},
   "outputs": [
    {
     "name": "stdout",
     "output_type": "stream",
     "text": [
      "Confusion Matrix (Act/Pred) for max f1 @ threshold = 0.45977694654643286: \n"
     ]
    },
    {
     "data": {
      "text/html": [
       "<div style=\"overflow:auto\"><table style=\"width:50%\"><tr><td><b></b></td>\n",
       "<td><b>0</b></td>\n",
       "<td><b>1</b></td>\n",
       "<td><b>Error</b></td>\n",
       "<td><b>Rate</b></td></tr>\n",
       "<tr><td>0</td>\n",
       "<td>2383.0</td>\n",
       "<td>1829.0</td>\n",
       "<td>0.4342</td>\n",
       "<td> (1829.0/4212.0)</td></tr>\n",
       "<tr><td>1</td>\n",
       "<td>499.0</td>\n",
       "<td>6441.0</td>\n",
       "<td>0.0719</td>\n",
       "<td> (499.0/6940.0)</td></tr>\n",
       "<tr><td>Total</td>\n",
       "<td>2882.0</td>\n",
       "<td>8270.0</td>\n",
       "<td>0.2088</td>\n",
       "<td> (2328.0/11152.0)</td></tr></table></div>"
      ],
      "text/plain": [
       "       0     1     Error    Rate\n",
       "-----  ----  ----  -------  ----------------\n",
       "0      2383  1829  0.4342   (1829.0/4212.0)\n",
       "1      499   6441  0.0719   (499.0/6940.0)\n",
       "Total  2882  8270  0.2088   (2328.0/11152.0)"
      ]
     },
     "metadata": {},
     "output_type": "display_data"
    },
    {
     "data": {
      "text/plain": []
     },
     "execution_count": 179,
     "metadata": {},
     "output_type": "execute_result"
    }
   ],
   "source": [
    "glm_logistic_plus_summary.confusion_matrix(valid = True)"
   ]
  },
  {
   "cell_type": "markdown",
   "metadata": {},
   "source": [
    "## 2.3 Decision Tree"
   ]
  },
  {
   "cell_type": "code",
   "execution_count": null,
   "metadata": {},
   "outputs": [],
   "source": [
    "from h2o.estimators.random_forest import H2ORandomForestEstimator # for single tree\n",
    "# in-notebook display\n",
    "from IPython.display import Image\n",
    "from IPython.display import display\n",
    "%matplotlib inline"
   ]
  },
  {
   "cell_type": "markdown",
   "metadata": {},
   "source": [
    "### 2.3.1 Train & Fit Model"
   ]
  },
  {
   "cell_type": "code",
   "execution_count": 4,
   "metadata": {},
   "outputs": [
    {
     "ename": "NameError",
     "evalue": "name 'review_vecs' is not defined",
     "output_type": "error",
     "traceback": [
      "\u001b[0;31m---------------------------------------------------------------------------\u001b[0m",
      "\u001b[0;31mNameError\u001b[0m                                 Traceback (most recent call last)",
      "\u001b[0;32m<ipython-input-4-58932da79d2a>\u001b[0m in \u001b[0;36m<module>\u001b[0;34m\u001b[0m\n\u001b[0;32m----> 1\u001b[0;31m \u001b[0mpredictors\u001b[0m \u001b[0;34m=\u001b[0m \u001b[0;34m[\u001b[0m\u001b[0;34m'ProductId'\u001b[0m\u001b[0;34m,\u001b[0m \u001b[0;34m'UserId'\u001b[0m\u001b[0;34m,\u001b[0m \u001b[0;34m'HelpfulnessNumerator'\u001b[0m\u001b[0;34m,\u001b[0m \u001b[0;34m'HelpfulnessDenominator'\u001b[0m\u001b[0;34m,\u001b[0m \u001b[0;34m'Time'\u001b[0m\u001b[0;34m]\u001b[0m \u001b[0;34m+\u001b[0m \u001b[0mreview_vecs\u001b[0m\u001b[0;34m.\u001b[0m\u001b[0mnames\u001b[0m \u001b[0;34m+\u001b[0m \u001b[0msummary_vecs\u001b[0m\u001b[0;34m.\u001b[0m\u001b[0mnames\u001b[0m\u001b[0;34m\u001b[0m\u001b[0;34m\u001b[0m\u001b[0m\n\u001b[0m\u001b[1;32m      2\u001b[0m \u001b[0mresponse\u001b[0m \u001b[0;34m=\u001b[0m \u001b[0;34m'PositiveReview'\u001b[0m\u001b[0;34m\u001b[0m\u001b[0;34m\u001b[0m\u001b[0m\n",
      "\u001b[0;31mNameError\u001b[0m: name 'review_vecs' is not defined"
     ]
    }
   ],
   "source": [
    "predictors = ['ProductId', 'UserId', 'HelpfulnessNumerator', 'HelpfulnessDenominator', 'Time'] + review_vecs.names + summary_vecs.names\n",
    "response = 'PositiveReview'"
   ]
  },
  {
   "cell_type": "code",
   "execution_count": 182,
   "metadata": {},
   "outputs": [
    {
     "name": "stdout",
     "output_type": "stream",
     "text": [
      "gbm Model Build progress: |███████████████████████████████████████████████| 100%\n"
     ]
    }
   ],
   "source": [
    "# initialize single tree surrogate model\n",
    "model_id = 'dt_surrogate_mojo'\n",
    "\n",
    "# train single tree surrogate model\n",
    "surrogate = H2OGradientBoostingEstimator(ntrees=1,\n",
    "                                         sample_rate=1,\n",
    "                                         col_sample_rate=1,\n",
    "                                         max_depth=3,\n",
    "                                         seed=12345,\n",
    "                                         model_id=model_id)\n",
    "\n",
    "_ = surrogate.train(x=predictors, y=response, training_frame=ext_train_new)"
   ]
  },
  {
   "cell_type": "markdown",
   "metadata": {},
   "source": [
    "### 2.3.2 Interpretability"
   ]
  },
  {
   "cell_type": "markdown",
   "metadata": {},
   "source": [
    "### 2.3.3 Matrix"
   ]
  },
  {
   "cell_type": "code",
   "execution_count": 183,
   "metadata": {},
   "outputs": [
    {
     "name": "stdout",
     "output_type": "stream",
     "text": [
      "Model Details\n",
      "=============\n",
      "H2OGradientBoostingEstimator :  Gradient Boosting Machine\n",
      "Model Key:  dt_surrogate_mojo\n",
      "\n",
      "\n",
      "ModelMetricsBinomial: gbm\n",
      "** Reported on train data. **\n",
      "\n",
      "MSE: 0.2243490810149944\n",
      "RMSE: 0.47365502321309166\n",
      "LogLoss: 0.6403868260777803\n",
      "Mean Per-Class Error: 0.3404879658310178\n",
      "AUC: 0.7002122496010603\n",
      "pr_auc: 0.5469332774467338\n",
      "Gini: 0.40042449920212064\n",
      "Confusion Matrix (Act/Pred) for max f1 @ threshold = 0.6306127942269008: \n"
     ]
    },
    {
     "data": {
      "text/html": [
       "<div style=\"overflow:auto\"><table style=\"width:50%\"><tr><td><b></b></td>\n",
       "<td><b>0</b></td>\n",
       "<td><b>1</b></td>\n",
       "<td><b>Error</b></td>\n",
       "<td><b>Rate</b></td></tr>\n",
       "<tr><td>0</td>\n",
       "<td>3105.0</td>\n",
       "<td>12789.0</td>\n",
       "<td>0.8046</td>\n",
       "<td> (12789.0/15894.0)</td></tr>\n",
       "<tr><td>1</td>\n",
       "<td>1183.0</td>\n",
       "<td>27325.0</td>\n",
       "<td>0.0415</td>\n",
       "<td> (1183.0/28508.0)</td></tr>\n",
       "<tr><td>Total</td>\n",
       "<td>4288.0</td>\n",
       "<td>40114.0</td>\n",
       "<td>0.3147</td>\n",
       "<td> (13972.0/44402.0)</td></tr></table></div>"
      ],
      "text/plain": [
       "       0     1      Error    Rate\n",
       "-----  ----  -----  -------  -----------------\n",
       "0      3105  12789  0.8046   (12789.0/15894.0)\n",
       "1      1183  27325  0.0415   (1183.0/28508.0)\n",
       "Total  4288  40114  0.3147   (13972.0/44402.0)"
      ]
     },
     "metadata": {},
     "output_type": "display_data"
    },
    {
     "name": "stdout",
     "output_type": "stream",
     "text": [
      "Maximum Metrics: Maximum metrics at their respective thresholds\n",
      "\n"
     ]
    },
    {
     "data": {
      "text/html": [
       "<div style=\"overflow:auto\"><table style=\"width:50%\"><tr><td><b>metric</b></td>\n",
       "<td><b>threshold</b></td>\n",
       "<td><b>value</b></td>\n",
       "<td><b>idx</b></td></tr>\n",
       "<tr><td>max f1</td>\n",
       "<td>0.6306128</td>\n",
       "<td>0.7963918</td>\n",
       "<td>6.0</td></tr>\n",
       "<tr><td>max f2</td>\n",
       "<td>0.6046605</td>\n",
       "<td>0.8996806</td>\n",
       "<td>7.0</td></tr>\n",
       "<tr><td>max f0point5</td>\n",
       "<td>0.6482974</td>\n",
       "<td>0.7471640</td>\n",
       "<td>3.0</td></tr>\n",
       "<tr><td>max accuracy</td>\n",
       "<td>0.6306128</td>\n",
       "<td>0.6853295</td>\n",
       "<td>6.0</td></tr>\n",
       "<tr><td>max precision</td>\n",
       "<td>0.6620901</td>\n",
       "<td>0.8451599</td>\n",
       "<td>0.0</td></tr>\n",
       "<tr><td>max recall</td>\n",
       "<td>0.6046605</td>\n",
       "<td>1.0</td>\n",
       "<td>7.0</td></tr>\n",
       "<tr><td>max specificity</td>\n",
       "<td>0.6620901</td>\n",
       "<td>0.9065056</td>\n",
       "<td>0.0</td></tr>\n",
       "<tr><td>max absolute_mcc</td>\n",
       "<td>0.6482974</td>\n",
       "<td>0.3059479</td>\n",
       "<td>3.0</td></tr>\n",
       "<tr><td>max min_per_class_accuracy</td>\n",
       "<td>0.6482974</td>\n",
       "<td>0.6247369</td>\n",
       "<td>3.0</td></tr>\n",
       "<tr><td>max mean_per_class_accuracy</td>\n",
       "<td>0.6482974</td>\n",
       "<td>0.6595120</td>\n",
       "<td>3.0</td></tr></table></div>"
      ],
      "text/plain": [
       "metric                       threshold    value     idx\n",
       "---------------------------  -----------  --------  -----\n",
       "max f1                       0.630613     0.796392  6\n",
       "max f2                       0.604661     0.899681  7\n",
       "max f0point5                 0.648297     0.747164  3\n",
       "max accuracy                 0.630613     0.685329  6\n",
       "max precision                0.66209      0.84516   0\n",
       "max recall                   0.604661     1         7\n",
       "max specificity              0.66209      0.906506  0\n",
       "max absolute_mcc             0.648297     0.305948  3\n",
       "max min_per_class_accuracy   0.648297     0.624737  3\n",
       "max mean_per_class_accuracy  0.648297     0.659512  3"
      ]
     },
     "metadata": {},
     "output_type": "display_data"
    },
    {
     "name": "stdout",
     "output_type": "stream",
     "text": [
      "Gains/Lift Table: Avg response rate: 64.20 %, avg score: 64.19 %\n",
      "\n"
     ]
    },
    {
     "data": {
      "text/html": [
       "<div style=\"overflow:auto\"><table style=\"width:50%\"><tr><td><b></b></td>\n",
       "<td><b>group</b></td>\n",
       "<td><b>cumulative_data_fraction</b></td>\n",
       "<td><b>lower_threshold</b></td>\n",
       "<td><b>lift</b></td>\n",
       "<td><b>cumulative_lift</b></td>\n",
       "<td><b>response_rate</b></td>\n",
       "<td><b>score</b></td>\n",
       "<td><b>cumulative_response_rate</b></td>\n",
       "<td><b>cumulative_score</b></td>\n",
       "<td><b>capture_rate</b></td>\n",
       "<td><b>cumulative_capture_rate</b></td>\n",
       "<td><b>gain</b></td>\n",
       "<td><b>cumulative_gain</b></td></tr>\n",
       "<tr><td></td>\n",
       "<td>1</td>\n",
       "<td>0.2161389</td>\n",
       "<td>0.6620901</td>\n",
       "<td>1.3163600</td>\n",
       "<td>1.3163600</td>\n",
       "<td>0.8451599</td>\n",
       "<td>0.6620901</td>\n",
       "<td>0.8451599</td>\n",
       "<td>0.6620901</td>\n",
       "<td>0.2845166</td>\n",
       "<td>0.2845166</td>\n",
       "<td>31.6360036</td>\n",
       "<td>31.6360036</td></tr>\n",
       "<tr><td></td>\n",
       "<td>2</td>\n",
       "<td>0.4462186</td>\n",
       "<td>0.6528164</td>\n",
       "<td>1.1718048</td>\n",
       "<td>1.2418243</td>\n",
       "<td>0.7523493</td>\n",
       "<td>0.6529969</td>\n",
       "<td>0.7973048</td>\n",
       "<td>0.6574015</td>\n",
       "<td>0.2696085</td>\n",
       "<td>0.5541252</td>\n",
       "<td>17.1804815</td>\n",
       "<td>24.1824320</td></tr>\n",
       "<tr><td></td>\n",
       "<td>3</td>\n",
       "<td>0.5105401</td>\n",
       "<td>0.6482974</td>\n",
       "<td>1.0977953</td>\n",
       "<td>1.2236785</td>\n",
       "<td>0.7048319</td>\n",
       "<td>0.6482974</td>\n",
       "<td>0.7856544</td>\n",
       "<td>0.6562545</td>\n",
       "<td>0.0706118</td>\n",
       "<td>0.6247369</td>\n",
       "<td>9.7795267</td>\n",
       "<td>22.3678528</td></tr>\n",
       "<tr><td></td>\n",
       "<td>4</td>\n",
       "<td>0.7076933</td>\n",
       "<td>0.6337028</td>\n",
       "<td>0.8707494</td>\n",
       "<td>1.1253575</td>\n",
       "<td>0.5590587</td>\n",
       "<td>0.6337028</td>\n",
       "<td>0.7225281</td>\n",
       "<td>0.6499719</td>\n",
       "<td>0.1716711</td>\n",
       "<td>0.7964080</td>\n",
       "<td>-12.9250557</td>\n",
       "<td>12.5357514</td></tr>\n",
       "<tr><td></td>\n",
       "<td>5</td>\n",
       "<td>0.9034278</td>\n",
       "<td>0.6306128</td>\n",
       "<td>0.8281366</td>\n",
       "<td>1.0609624</td>\n",
       "<td>0.5316995</td>\n",
       "<td>0.6309350</td>\n",
       "<td>0.6811836</td>\n",
       "<td>0.6458474</td>\n",
       "<td>0.1620949</td>\n",
       "<td>0.9585029</td>\n",
       "<td>-17.1863358</td>\n",
       "<td>6.0962375</td></tr>\n",
       "<tr><td></td>\n",
       "<td>6</td>\n",
       "<td>1.0</td>\n",
       "<td>0.6046605</td>\n",
       "<td>0.4297004</td>\n",
       "<td>1.0</td>\n",
       "<td>0.2758862</td>\n",
       "<td>0.6046605</td>\n",
       "<td>0.6420432</td>\n",
       "<td>0.6418699</td>\n",
       "<td>0.0414971</td>\n",
       "<td>1.0</td>\n",
       "<td>-57.0299608</td>\n",
       "<td>0.0</td></tr></table></div>"
      ],
      "text/plain": [
       "    group    cumulative_data_fraction    lower_threshold    lift      cumulative_lift    response_rate    score     cumulative_response_rate    cumulative_score    capture_rate    cumulative_capture_rate    gain      cumulative_gain\n",
       "--  -------  --------------------------  -----------------  --------  -----------------  ---------------  --------  --------------------------  ------------------  --------------  -------------------------  --------  -----------------\n",
       "    1        0.216139                    0.66209            1.31636   1.31636            0.84516          0.66209   0.84516                     0.66209             0.284517        0.284517                   31.636    31.636\n",
       "    2        0.446219                    0.652816           1.1718    1.24182            0.752349         0.652997  0.797305                    0.657401            0.269609        0.554125                   17.1805   24.1824\n",
       "    3        0.51054                     0.648297           1.0978    1.22368            0.704832         0.648297  0.785654                    0.656254            0.0706118       0.624737                   9.77953   22.3679\n",
       "    4        0.707693                    0.633703           0.870749  1.12536            0.559059         0.633703  0.722528                    0.649972            0.171671        0.796408                   -12.9251  12.5358\n",
       "    5        0.903428                    0.630613           0.828137  1.06096            0.531699         0.630935  0.681184                    0.645847            0.162095        0.958503                   -17.1863  6.09624\n",
       "    6        1                           0.604661           0.4297    1                  0.275886         0.604661  0.642043                    0.64187             0.0414971       1                          -57.03    0"
      ]
     },
     "metadata": {},
     "output_type": "display_data"
    },
    {
     "name": "stdout",
     "output_type": "stream",
     "text": [
      "\n",
      "Scoring History: \n"
     ]
    },
    {
     "data": {
      "text/html": [
       "<div style=\"overflow:auto\"><table style=\"width:50%\"><tr><td><b></b></td>\n",
       "<td><b>timestamp</b></td>\n",
       "<td><b>duration</b></td>\n",
       "<td><b>number_of_trees</b></td>\n",
       "<td><b>training_rmse</b></td>\n",
       "<td><b>training_logloss</b></td>\n",
       "<td><b>training_auc</b></td>\n",
       "<td><b>training_pr_auc</b></td>\n",
       "<td><b>training_lift</b></td>\n",
       "<td><b>training_classification_error</b></td></tr>\n",
       "<tr><td></td>\n",
       "<td>2019-04-22 05:00:54</td>\n",
       "<td> 0.010 sec</td>\n",
       "<td>0.0</td>\n",
       "<td>0.4793994</td>\n",
       "<td>0.6522336</td>\n",
       "<td>0.5</td>\n",
       "<td>0.0</td>\n",
       "<td>1.0</td>\n",
       "<td>0.3579568</td></tr>\n",
       "<tr><td></td>\n",
       "<td>2019-04-22 05:00:55</td>\n",
       "<td> 0.400 sec</td>\n",
       "<td>1.0</td>\n",
       "<td>0.4736550</td>\n",
       "<td>0.6403868</td>\n",
       "<td>0.7002122</td>\n",
       "<td>0.5469333</td>\n",
       "<td>1.3163600</td>\n",
       "<td>0.3146705</td></tr></table></div>"
      ],
      "text/plain": [
       "    timestamp            duration    number_of_trees    training_rmse    training_logloss    training_auc    training_pr_auc    training_lift    training_classification_error\n",
       "--  -------------------  ----------  -----------------  ---------------  ------------------  --------------  -----------------  ---------------  -------------------------------\n",
       "    2019-04-22 05:00:54  0.010 sec   0                  0.479399         0.652234            0.5             0                  1                0.357957\n",
       "    2019-04-22 05:00:55  0.400 sec   1                  0.473655         0.640387            0.700212        0.546933           1.31636          0.314671"
      ]
     },
     "metadata": {},
     "output_type": "display_data"
    },
    {
     "name": "stdout",
     "output_type": "stream",
     "text": [
      "Variable Importances: \n"
     ]
    },
    {
     "data": {
      "text/html": [
       "<div style=\"overflow:auto\"><table style=\"width:50%\"><tr><td><b>variable</b></td>\n",
       "<td><b>relative_importance</b></td>\n",
       "<td><b>scaled_importance</b></td>\n",
       "<td><b>percentage</b></td></tr>\n",
       "<tr><td>C22</td>\n",
       "<td>458.4889832</td>\n",
       "<td>1.0</td>\n",
       "<td>0.3602207</td></tr>\n",
       "<tr><td>summary_C89</td>\n",
       "<td>372.2006226</td>\n",
       "<td>0.8117984</td>\n",
       "<td>0.2924266</td></tr>\n",
       "<tr><td>summary_C48</td>\n",
       "<td>253.5211792</td>\n",
       "<td>0.5529493</td>\n",
       "<td>0.1991838</td></tr>\n",
       "<tr><td>summary_C13</td>\n",
       "<td>145.2473450</td>\n",
       "<td>0.3167957</td>\n",
       "<td>0.1141164</td></tr>\n",
       "<tr><td>summary_C97</td>\n",
       "<td>43.3419533</td>\n",
       "<td>0.0945322</td>\n",
       "<td>0.0340524</td></tr>\n",
       "<tr><td>---</td>\n",
       "<td>---</td>\n",
       "<td>---</td>\n",
       "<td>---</td></tr>\n",
       "<tr><td>summary_C95</td>\n",
       "<td>0.0</td>\n",
       "<td>0.0</td>\n",
       "<td>0.0</td></tr>\n",
       "<tr><td>summary_C96</td>\n",
       "<td>0.0</td>\n",
       "<td>0.0</td>\n",
       "<td>0.0</td></tr>\n",
       "<tr><td>summary_C98</td>\n",
       "<td>0.0</td>\n",
       "<td>0.0</td>\n",
       "<td>0.0</td></tr>\n",
       "<tr><td>summary_C99</td>\n",
       "<td>0.0</td>\n",
       "<td>0.0</td>\n",
       "<td>0.0</td></tr>\n",
       "<tr><td>summary_C100</td>\n",
       "<td>0.0</td>\n",
       "<td>0.0</td>\n",
       "<td>0.0</td></tr></table></div>"
      ],
      "text/plain": [
       "variable      relative_importance    scaled_importance    percentage\n",
       "------------  ---------------------  -------------------  -------------------\n",
       "C22           458.4889831542969      1.0                  0.36022073632793544\n",
       "summary_C89   372.20062255859375     0.8117983991631393   0.2924266170963853\n",
       "summary_C48   253.52117919921875     0.5529493368740344   0.19918381728080825\n",
       "summary_C13   145.24734497070312     0.31679571441703     0.11411638551283691\n",
       "summary_C97   43.34195327758789      0.09453215861241725  0.03405244378203412\n",
       "---           ---                    ---                  ---\n",
       "summary_C95   0.0                    0.0                  0.0\n",
       "summary_C96   0.0                    0.0                  0.0\n",
       "summary_C98   0.0                    0.0                  0.0\n",
       "summary_C99   0.0                    0.0                  0.0\n",
       "summary_C100  0.0                    0.0                  0.0"
      ]
     },
     "metadata": {},
     "output_type": "display_data"
    },
    {
     "name": "stdout",
     "output_type": "stream",
     "text": [
      "\n",
      "See the whole table with table.as_data_frame()\n",
      "\n"
     ]
    }
   ],
   "source": [
    "print(surrogate)"
   ]
  },
  {
   "cell_type": "markdown",
   "metadata": {},
   "source": [
    "## 2.4 Gradient Boosting"
   ]
  },
  {
   "cell_type": "markdown",
   "metadata": {},
   "source": [
    "### 2.4.1 Train & Fit Model"
   ]
  },
  {
   "cell_type": "code",
   "execution_count": 3,
   "metadata": {},
   "outputs": [
    {
     "ename": "NameError",
     "evalue": "name 'H2OGradientBoostingEstimator' is not defined",
     "output_type": "error",
     "traceback": [
      "\u001b[0;31m---------------------------------------------------------------------------\u001b[0m",
      "\u001b[0;31mNameError\u001b[0m                                 Traceback (most recent call last)",
      "\u001b[0;32m<ipython-input-3-de5d5e0f596b>\u001b[0m in \u001b[0;36m<module>\u001b[0;34m\u001b[0m\n\u001b[0;32m----> 1\u001b[0;31m gbm = H2OGradientBoostingEstimator(stopping_metric = \"AUC\",\n\u001b[0m\u001b[1;32m      2\u001b[0m                                            \u001b[0mstopping_tolerance\u001b[0m \u001b[0;34m=\u001b[0m \u001b[0;36m0.001\u001b[0m\u001b[0;34m,\u001b[0m\u001b[0;34m\u001b[0m\u001b[0;34m\u001b[0m\u001b[0m\n\u001b[1;32m      3\u001b[0m                                            \u001b[0mstopping_rounds\u001b[0m \u001b[0;34m=\u001b[0m \u001b[0;36m5\u001b[0m\u001b[0;34m,\u001b[0m\u001b[0;34m\u001b[0m\u001b[0;34m\u001b[0m\u001b[0m\n\u001b[1;32m      4\u001b[0m                                            \u001b[0mscore_tree_interval\u001b[0m \u001b[0;34m=\u001b[0m \u001b[0;36m10\u001b[0m\u001b[0;34m,\u001b[0m\u001b[0;34m\u001b[0m\u001b[0;34m\u001b[0m\u001b[0m\n\u001b[1;32m      5\u001b[0m                                            model_id = 'gbm.hex')\n",
      "\u001b[0;31mNameError\u001b[0m: name 'H2OGradientBoostingEstimator' is not defined"
     ]
    }
   ],
   "source": [
    "gbm = H2OGradientBoostingEstimator(stopping_metric = \"AUC\",\n",
    "                                           stopping_tolerance = 0.001,\n",
    "                                           stopping_rounds = 5, \n",
    "                                           score_tree_interval = 10, \n",
    "                                           model_id = 'gbm.hex')\n",
    "gbm.train(x = predictors, \n",
    "                   y = response,\n",
    "                  training_frame = ext_train_new,\n",
    "                  validation_frame = ext_test_new)"
   ]
  },
  {
   "cell_type": "markdown",
   "metadata": {},
   "source": [
    "### 2.4.2 Interpretability"
   ]
  },
  {
   "cell_type": "code",
   "execution_count": null,
   "metadata": {},
   "outputs": [],
   "source": [
    "gbm.varimp_plot()"
   ]
  },
  {
   "cell_type": "code",
   "execution_count": null,
   "metadata": {
    "scrolled": false
   },
   "outputs": [],
   "source": [
    "pdp_helpfulness = gbm.partial_plot(ext_train_new, cols = ['C22'])"
   ]
  },
  {
   "cell_type": "code",
   "execution_count": null,
   "metadata": {},
   "outputs": [],
   "source": [
    "from iice import ice, ice_plot\n",
    "HelpfulnessNumerator_ice_df = ice(data=ext_test_s, column='C22', model=gbm)"
   ]
  },
  {
   "cell_type": "code",
   "execution_count": null,
   "metadata": {},
   "outputs": [],
   "source": [
    "quantile_dict = get_quantile_dict('PositiveReview', 'Id', ext_test_new)"
   ]
  },
  {
   "cell_type": "markdown",
   "metadata": {},
   "source": [
    "### 2.4.3 Matrix"
   ]
  },
  {
   "cell_type": "code",
   "execution_count": 47,
   "metadata": {},
   "outputs": [
    {
     "name": "stdout",
     "output_type": "stream",
     "text": [
      "AUC on validation data: 0.846\n"
     ]
    }
   ],
   "source": [
    "print(\"AUC on validation data: \" + str(round(gbm.auc(valid = True), 3)))"
   ]
  },
  {
   "cell_type": "code",
   "execution_count": 48,
   "metadata": {},
   "outputs": [
    {
     "name": "stdout",
     "output_type": "stream",
     "text": [
      "Confusion Matrix (Act/Pred) for max f1 @ threshold = 0.47887123153948047: \n"
     ]
    },
    {
     "data": {
      "text/html": [
       "<div style=\"overflow:auto\"><table style=\"width:50%\"><tr><td><b></b></td>\n",
       "<td><b>0</b></td>\n",
       "<td><b>1</b></td>\n",
       "<td><b>Error</b></td>\n",
       "<td><b>Rate</b></td></tr>\n",
       "<tr><td>0</td>\n",
       "<td>2446.0</td>\n",
       "<td>1766.0</td>\n",
       "<td>0.4193</td>\n",
       "<td> (1766.0/4212.0)</td></tr>\n",
       "<tr><td>1</td>\n",
       "<td>555.0</td>\n",
       "<td>6385.0</td>\n",
       "<td>0.08</td>\n",
       "<td> (555.0/6940.0)</td></tr>\n",
       "<tr><td>Total</td>\n",
       "<td>3001.0</td>\n",
       "<td>8151.0</td>\n",
       "<td>0.2081</td>\n",
       "<td> (2321.0/11152.0)</td></tr></table></div>"
      ],
      "text/plain": [
       "       0     1     Error    Rate\n",
       "-----  ----  ----  -------  ----------------\n",
       "0      2446  1766  0.4193   (1766.0/4212.0)\n",
       "1      555   6385  0.08     (555.0/6940.0)\n",
       "Total  3001  8151  0.2081   (2321.0/11152.0)"
      ]
     },
     "metadata": {},
     "output_type": "display_data"
    },
    {
     "data": {
      "text/plain": []
     },
     "execution_count": 48,
     "metadata": {},
     "output_type": "execute_result"
    }
   ],
   "source": [
    "gbm.confusion_matrix(valid=True)"
   ]
  },
  {
   "cell_type": "code",
   "execution_count": 49,
   "metadata": {},
   "outputs": [
    {
     "data": {
      "text/plain": [
       "{'train': 0.44591204451732713, 'valid': 0.357253899124959}"
      ]
     },
     "execution_count": 49,
     "metadata": {},
     "output_type": "execute_result"
    }
   ],
   "source": [
    "gbm.r2(train=True, valid=True)"
   ]
  },
  {
   "cell_type": "code",
   "execution_count": 135,
   "metadata": {},
   "outputs": [
    {
     "name": "stdout",
     "output_type": "stream",
     "text": [
      "H2O session _sid_867b closed.\n"
     ]
    }
   ],
   "source": [
    "h2o.cluster().shutdown()"
   ]
  },
  {
   "cell_type": "code",
   "execution_count": null,
   "metadata": {},
   "outputs": [],
   "source": []
  },
  {
   "cell_type": "code",
   "execution_count": null,
   "metadata": {},
   "outputs": [],
   "source": []
  }
 ],
 "metadata": {
  "kernelspec": {
   "display_name": "Python 3",
   "language": "python",
   "name": "python3"
  },
  "language_info": {
   "codemirror_mode": {
    "name": "ipython",
    "version": 3
   },
   "file_extension": ".py",
   "mimetype": "text/x-python",
   "name": "python",
   "nbconvert_exporter": "python",
   "pygments_lexer": "ipython3",
   "version": "3.7.2"
  },
  "toc": {
   "base_numbering": 1,
   "nav_menu": {},
   "number_sections": false,
   "sideBar": true,
   "skip_h1_title": false,
   "title_cell": "Table of Contents",
   "title_sidebar": "Contents",
   "toc_cell": false,
   "toc_position": {
    "height": "calc(100% - 180px)",
    "left": "10px",
    "top": "150px",
    "width": "336px"
   },
   "toc_section_display": true,
   "toc_window_display": true
  },
  "varInspector": {
   "cols": {
    "lenName": 16,
    "lenType": 16,
    "lenVar": 40
   },
   "kernels_config": {
    "python": {
     "delete_cmd_postfix": "",
     "delete_cmd_prefix": "del ",
     "library": "var_list.py",
     "varRefreshCmd": "print(var_dic_list())"
    },
    "r": {
     "delete_cmd_postfix": ") ",
     "delete_cmd_prefix": "rm(",
     "library": "var_list.r",
     "varRefreshCmd": "cat(var_dic_list()) "
    }
   },
   "types_to_exclude": [
    "module",
    "function",
    "builtin_function_or_method",
    "instance",
    "_Feature"
   ],
   "window_display": false
  }
 },
 "nbformat": 4,
 "nbformat_minor": 2
}
