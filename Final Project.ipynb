{
 "cells": [
  {
   "cell_type": "code",
   "execution_count": 1,
   "metadata": {},
   "outputs": [],
   "source": [
    "import h2o\n",
    "import operator\n",
    "from h2o.automl import H2OAutoML\n",
    "import random, os, sys\n",
    "from datetime import datetime\n",
    "import pandas as pd\n",
    "import logging\n",
    "import csv\n",
    "import optparse\n",
    "import time\n",
    "import json\n",
    "from distutils.util import strtobool\n",
    "import psutil\n",
    "import numpy as np\n",
    "from matplotlib import pyplot as plt\n",
    "from pycebox.ice import ice, ice_plot\n",
    "import warnings\n",
    "from h2o.estimators.glm import H2OGeneralizedLinearEstimator\n",
    "from h2o.estimators import H2OGradientBoostingEstimator\n",
    "warnings.filterwarnings(\"ignore\")"
   ]
  },
  {
   "cell_type": "markdown",
   "metadata": {},
   "source": [
    "# 1 Data Preparation"
   ]
  },
  {
   "cell_type": "markdown",
   "metadata": {},
   "source": [
    "## 1.1 H2O Initialization"
   ]
  },
  {
   "cell_type": "code",
   "execution_count": 2,
   "metadata": {},
   "outputs": [
    {
     "name": "stdout",
     "output_type": "stream",
     "text": [
      "29\n"
     ]
    }
   ],
   "source": [
    "pct_memory=4\n",
    "virtual_memory=psutil.virtual_memory()\n",
    "min_mem_size=int(round(int(pct_memory*virtual_memory.available)/1073741824,0))\n",
    "print(min_mem_size)"
   ]
  },
  {
   "cell_type": "code",
   "execution_count": 3,
   "metadata": {},
   "outputs": [
    {
     "name": "stdout",
     "output_type": "stream",
     "text": [
      "Checking whether there is an H2O instance running at http://localhost:54321 ..... not found.\n",
      "Attempting to start a local H2O server...\n",
      "  Java Version: java version \"10.0.2\" 2018-07-17; Java(TM) SE Runtime Environment 18.3 (build 10.0.2+13); Java HotSpot(TM) 64-Bit Server VM 18.3 (build 10.0.2+13, mixed mode)\n",
      "  Starting server from /anaconda3/lib/python3.7/site-packages/h2o/backend/bin/h2o.jar\n",
      "  Ice root: /var/folders/5l/qqvypzcs2sjbbnhb777lxczh0000gn/T/tmpa4e4f9_f\n",
      "  JVM stdout: /var/folders/5l/qqvypzcs2sjbbnhb777lxczh0000gn/T/tmpa4e4f9_f/h2o_mandy_started_from_python.out\n",
      "  JVM stderr: /var/folders/5l/qqvypzcs2sjbbnhb777lxczh0000gn/T/tmpa4e4f9_f/h2o_mandy_started_from_python.err\n",
      "  Server is running at http://127.0.0.1:54321\n",
      "Connecting to H2O server at http://127.0.0.1:54321 ... successful.\n"
     ]
    },
    {
     "data": {
      "text/html": [
       "<div style=\"overflow:auto\"><table style=\"width:50%\"><tr><td>H2O cluster uptime:</td>\n",
       "<td>01 secs</td></tr>\n",
       "<tr><td>H2O cluster timezone:</td>\n",
       "<td>America/New_York</td></tr>\n",
       "<tr><td>H2O data parsing timezone:</td>\n",
       "<td>UTC</td></tr>\n",
       "<tr><td>H2O cluster version:</td>\n",
       "<td>3.24.0.1</td></tr>\n",
       "<tr><td>H2O cluster version age:</td>\n",
       "<td>21 days and 24 minutes </td></tr>\n",
       "<tr><td>H2O cluster name:</td>\n",
       "<td>H2O_from_python_mandy_ktbc53</td></tr>\n",
       "<tr><td>H2O cluster total nodes:</td>\n",
       "<td>1</td></tr>\n",
       "<tr><td>H2O cluster free memory:</td>\n",
       "<td>29 Gb</td></tr>\n",
       "<tr><td>H2O cluster total cores:</td>\n",
       "<td>12</td></tr>\n",
       "<tr><td>H2O cluster allowed cores:</td>\n",
       "<td>12</td></tr>\n",
       "<tr><td>H2O cluster status:</td>\n",
       "<td>accepting new members, healthy</td></tr>\n",
       "<tr><td>H2O connection url:</td>\n",
       "<td>http://127.0.0.1:54321</td></tr>\n",
       "<tr><td>H2O connection proxy:</td>\n",
       "<td>None</td></tr>\n",
       "<tr><td>H2O internal security:</td>\n",
       "<td>False</td></tr>\n",
       "<tr><td>H2O API Extensions:</td>\n",
       "<td>Amazon S3, XGBoost, Algos, AutoML, Core V3, Core V4</td></tr>\n",
       "<tr><td>Python version:</td>\n",
       "<td>3.7.2 final</td></tr></table></div>"
      ],
      "text/plain": [
       "--------------------------  ---------------------------------------------------\n",
       "H2O cluster uptime:         01 secs\n",
       "H2O cluster timezone:       America/New_York\n",
       "H2O data parsing timezone:  UTC\n",
       "H2O cluster version:        3.24.0.1\n",
       "H2O cluster version age:    21 days and 24 minutes\n",
       "H2O cluster name:           H2O_from_python_mandy_ktbc53\n",
       "H2O cluster total nodes:    1\n",
       "H2O cluster free memory:    29 Gb\n",
       "H2O cluster total cores:    12\n",
       "H2O cluster allowed cores:  12\n",
       "H2O cluster status:         accepting new members, healthy\n",
       "H2O connection url:         http://127.0.0.1:54321\n",
       "H2O connection proxy:\n",
       "H2O internal security:      False\n",
       "H2O API Extensions:         Amazon S3, XGBoost, Algos, AutoML, Core V3, Core V4\n",
       "Python version:             3.7.2 final\n",
       "--------------------------  ---------------------------------------------------"
      ]
     },
     "metadata": {},
     "output_type": "display_data"
    }
   ],
   "source": [
    "h2o.init(strict_version_check=False,max_mem_size=min_mem_size)"
   ]
  },
  {
   "cell_type": "markdown",
   "metadata": {},
   "source": [
    "## 1.2 Data Import & Parse"
   ]
  },
  {
   "cell_type": "code",
   "execution_count": 4,
   "metadata": {},
   "outputs": [
    {
     "name": "stdout",
     "output_type": "stream",
     "text": [
      "Parse progress: |█████████████████████████████████████████████████████████| 100%\n"
     ]
    }
   ],
   "source": [
    "data_path = \"AmazonReviews.Small.csv\"\n",
    "\n",
    "# Load data into H2O\n",
    "reviews = h2o.import_file(data_path)"
   ]
  },
  {
   "cell_type": "code",
   "execution_count": 5,
   "metadata": {},
   "outputs": [
    {
     "data": {
      "text/plain": [
       "(55554, 10)"
      ]
     },
     "execution_count": 5,
     "metadata": {},
     "output_type": "execute_result"
    }
   ],
   "source": [
    "reviews.shape"
   ]
  },
  {
   "cell_type": "code",
   "execution_count": 6,
   "metadata": {
    "scrolled": false
   },
   "outputs": [
    {
     "data": {
      "text/html": [
       "<table>\n",
       "<thead>\n",
       "<tr><th>ProductId  </th><th>UserId        </th><th>Summary                     </th><th style=\"text-align: right;\">  Score</th><th style=\"text-align: right;\">  HelpfulnessDenominator</th><th style=\"text-align: right;\">    Id</th><th>ProfileName        </th><th style=\"text-align: right;\">  HelpfulnessNumerator</th><th style=\"text-align: right;\">       Time</th><th>Text                                                                                                                                                                                                                                                                                                                                                                            </th></tr>\n",
       "</thead>\n",
       "<tbody>\n",
       "<tr><td>B00141QYSQ </td><td>A1YS02UZZGRDCT</td><td>Do Not Buy                  </td><td style=\"text-align: right;\">      1</td><td style=\"text-align: right;\">                       2</td><td style=\"text-align: right;\"> 41471</td><td>Evan Eberhardt     </td><td style=\"text-align: right;\">                     2</td><td style=\"text-align: right;\">1.34836e+09</td><td>These are made in China (do not buy ANY pet food from China).  Dogswell has been using propylene glycol to soften their treats (what are they thinkng?).  Do not purchase or support this company in any way until they clean up their act.  And for whatever reason Amazon doesn't allow returns of this item, so I had to toss mine out.  Bad business all around on this one.</td></tr>\n",
       "<tr><td>B0089SPEO2 </td><td>A3JOYNYL458QHP</td><td>Less lemon and less zing    </td><td style=\"text-align: right;\">      3</td><td style=\"text-align: right;\">                       0</td><td style=\"text-align: right;\"> 28582</td><td>coleridge          </td><td style=\"text-align: right;\">                     0</td><td style=\"text-align: right;\">1.32391e+09</td><td>Everything is ok, except it just isn't as good as it is in the bags.  Just considerably more bland -- less lemon and less zing.  Boring.                                                                                                                                                                                                                                        </td></tr>\n",
       "<tr><td>B001PMCDK2 </td><td>A14TTMM0Z03Y2W</td><td>my cat goes crazy for these!</td><td style=\"text-align: right;\">      5</td><td style=\"text-align: right;\">                       0</td><td style=\"text-align: right;\">389965</td><td>Lindsay S. Bradford</td><td style=\"text-align: right;\">                     0</td><td style=\"text-align: right;\">1.3106e+09 </td><td>Best cat treat ever. There isn't anything comparable to the love my cat has for these treats, he snubs away any other kind now.<br />I know he likes to manipulate me with his cattiness but these treats are my way of manipulating him to come sit on my lap and have some chill time. :)                                                                                     </td></tr>\n",
       "</tbody>\n",
       "</table>"
      ]
     },
     "metadata": {},
     "output_type": "display_data"
    },
    {
     "data": {
      "text/plain": []
     },
     "execution_count": 6,
     "metadata": {},
     "output_type": "execute_result"
    }
   ],
   "source": [
    "reviews.head(3)"
   ]
  },
  {
   "cell_type": "code",
   "execution_count": 7,
   "metadata": {},
   "outputs": [],
   "source": [
    "reviews['PositiveReview']=(reviews['Score']>=reviews['Score'].mean()[0]).ifelse('1','0')"
   ]
  },
  {
   "cell_type": "code",
   "execution_count": 8,
   "metadata": {},
   "outputs": [
    {
     "data": {
      "text/html": [
       "<table>\n",
       "<thead>\n",
       "<tr><th style=\"text-align: right;\">  PositiveReview</th><th style=\"text-align: right;\">  Count</th></tr>\n",
       "</thead>\n",
       "<tbody>\n",
       "<tr><td style=\"text-align: right;\">               0</td><td style=\"text-align: right;\">  20106</td></tr>\n",
       "<tr><td style=\"text-align: right;\">               1</td><td style=\"text-align: right;\">  35448</td></tr>\n",
       "</tbody>\n",
       "</table>"
      ]
     },
     "metadata": {},
     "output_type": "display_data"
    },
    {
     "data": {
      "text/plain": []
     },
     "execution_count": 8,
     "metadata": {},
     "output_type": "execute_result"
    }
   ],
   "source": [
    "reviews['PositiveReview'].table()"
   ]
  },
  {
   "cell_type": "code",
   "execution_count": 9,
   "metadata": {},
   "outputs": [],
   "source": [
    "# Find the 80th quantile of time in the dataset\n",
    "time_split = reviews[\"Time\"].quantile(prob = [0.8])[1]\n",
    "reviews[\"Train\"] = (reviews[\"Time\"] < time_split).ifelse(\"Yes\", \"No\")"
   ]
  },
  {
   "cell_type": "code",
   "execution_count": 10,
   "metadata": {},
   "outputs": [
    {
     "data": {
      "text/html": [
       "<table>\n",
       "<thead>\n",
       "<tr><th>Train  </th><th style=\"text-align: right;\">  Count</th></tr>\n",
       "</thead>\n",
       "<tbody>\n",
       "<tr><td>No     </td><td style=\"text-align: right;\">  11152</td></tr>\n",
       "<tr><td>Yes    </td><td style=\"text-align: right;\">  44402</td></tr>\n",
       "</tbody>\n",
       "</table>"
      ]
     },
     "metadata": {},
     "output_type": "display_data"
    },
    {
     "data": {
      "text/plain": []
     },
     "execution_count": 10,
     "metadata": {},
     "output_type": "execute_result"
    }
   ],
   "source": [
    "reviews['Train'].table()"
   ]
  },
  {
   "cell_type": "code",
   "execution_count": 11,
   "metadata": {},
   "outputs": [],
   "source": [
    "train = reviews[reviews[\"Train\"] == \"Yes\"]\n",
    "test = reviews[reviews[\"Train\"] == \"No\"]"
   ]
  },
  {
   "cell_type": "markdown",
   "metadata": {},
   "source": [
    "## 1.3 Tokenize Words in Review"
   ]
  },
  {
   "cell_type": "code",
   "execution_count": 18,
   "metadata": {},
   "outputs": [],
   "source": [
    "data_path = \"stopwords.csv\"\n",
    "STOP_WORDS = pd.read_csv(data_path, header=0)"
   ]
  },
  {
   "cell_type": "code",
   "execution_count": 19,
   "metadata": {},
   "outputs": [
    {
     "data": {
      "text/html": [
       "<div>\n",
       "<style scoped>\n",
       "    .dataframe tbody tr th:only-of-type {\n",
       "        vertical-align: middle;\n",
       "    }\n",
       "\n",
       "    .dataframe tbody tr th {\n",
       "        vertical-align: top;\n",
       "    }\n",
       "\n",
       "    .dataframe thead th {\n",
       "        text-align: right;\n",
       "    }\n",
       "</style>\n",
       "<table border=\"1\" class=\"dataframe\">\n",
       "  <thead>\n",
       "    <tr style=\"text-align: right;\">\n",
       "      <th></th>\n",
       "      <th>STOP_WORD</th>\n",
       "    </tr>\n",
       "  </thead>\n",
       "  <tbody>\n",
       "    <tr>\n",
       "      <th>0</th>\n",
       "      <td>all</td>\n",
       "    </tr>\n",
       "    <tr>\n",
       "      <th>1</th>\n",
       "      <td>just</td>\n",
       "    </tr>\n",
       "    <tr>\n",
       "      <th>2</th>\n",
       "      <td>being</td>\n",
       "    </tr>\n",
       "    <tr>\n",
       "      <th>3</th>\n",
       "      <td>over</td>\n",
       "    </tr>\n",
       "    <tr>\n",
       "      <th>4</th>\n",
       "      <td>both</td>\n",
       "    </tr>\n",
       "  </tbody>\n",
       "</table>\n",
       "</div>"
      ],
      "text/plain": [
       "  STOP_WORD\n",
       "0       all\n",
       "1      just\n",
       "2     being\n",
       "3      over\n",
       "4      both"
      ]
     },
     "execution_count": 19,
     "metadata": {},
     "output_type": "execute_result"
    }
   ],
   "source": [
    "STOP_WORDS.head()"
   ]
  },
  {
   "cell_type": "code",
   "execution_count": 20,
   "metadata": {},
   "outputs": [],
   "source": [
    "STOP_WORDS = list(STOP_WORDS['STOP_WORD'])"
   ]
  },
  {
   "cell_type": "code",
   "execution_count": 21,
   "metadata": {},
   "outputs": [],
   "source": [
    "def tokenize(sentences, stop_word = STOP_WORDS):\n",
    "    tokenized = sentences.tokenize(\"\\\\W+\")\n",
    "    tokenized_lower = tokenized.tolower()\n",
    "    tokenized_filtered = tokenized_lower[(tokenized_lower.nchar() >= 2) | (tokenized_lower.isna()),:]\n",
    "    tokenized_words = tokenized_filtered[tokenized_filtered.grep(\"[0-9]\",invert=True,output_logical=True),:]\n",
    "    tokenized_words = tokenized_words[(tokenized_words.isna()) | (~ tokenized_words.isin(STOP_WORDS)),:]\n",
    "    return tokenized_words"
   ]
  },
  {
   "cell_type": "code",
   "execution_count": 22,
   "metadata": {},
   "outputs": [],
   "source": [
    "# Break reviews into sequence of words\n",
    "words = tokenize(reviews[\"Text\"])"
   ]
  },
  {
   "cell_type": "code",
   "execution_count": 23,
   "metadata": {},
   "outputs": [
    {
     "data": {
      "text/html": [
       "<table>\n",
       "<thead>\n",
       "<tr><th>C1       </th></tr>\n",
       "</thead>\n",
       "<tbody>\n",
       "<tr><td>made     </td></tr>\n",
       "<tr><td>china    </td></tr>\n",
       "<tr><td>buy      </td></tr>\n",
       "<tr><td>pet      </td></tr>\n",
       "<tr><td>food     </td></tr>\n",
       "<tr><td>china    </td></tr>\n",
       "<tr><td>dogswell </td></tr>\n",
       "<tr><td>using    </td></tr>\n",
       "<tr><td>propylene</td></tr>\n",
       "<tr><td>glycol   </td></tr>\n",
       "</tbody>\n",
       "</table>"
      ]
     },
     "metadata": {},
     "output_type": "display_data"
    },
    {
     "data": {
      "text/plain": []
     },
     "execution_count": 23,
     "metadata": {},
     "output_type": "execute_result"
    }
   ],
   "source": [
    "words.head()"
   ]
  },
  {
   "cell_type": "markdown",
   "metadata": {},
   "source": [
    "## 1.4 Word2Vec Model"
   ]
  },
  {
   "cell_type": "code",
   "execution_count": 24,
   "metadata": {},
   "outputs": [
    {
     "name": "stdout",
     "output_type": "stream",
     "text": [
      "word2vec Model Build progress: |██████████████████████████████████████████| 100%\n"
     ]
    },
    {
     "data": {
      "text/plain": [
       "'/Users/mandy/Documents/Study/AI-Addin/data/w2v.hex'"
      ]
     },
     "execution_count": 24,
     "metadata": {},
     "output_type": "execute_result"
    }
   ],
   "source": [
    "# Train Word2Vec Model\n",
    "from h2o.estimators.word2vec import H2OWord2vecEstimator\n",
    "\n",
    "\n",
    "w2v_model = H2OWord2vecEstimator(vec_size = 100, model_id = \"w2v.hex\")\n",
    "w2v_model.train(training_frame=words)\n",
    "\n",
    "models_path='data'\n",
    "h2o.save_model(w2v_model, path = models_path, force = True)"
   ]
  },
  {
   "cell_type": "code",
   "execution_count": 25,
   "metadata": {},
   "outputs": [
    {
     "data": {
      "text/plain": [
       "OrderedDict([('coffe', 0.8146992325782776),\n",
       "             ('coffees', 0.7962262630462646),\n",
       "             ('espresso', 0.7765772938728333),\n",
       "             ('esspresso', 0.7470539212226868),\n",
       "             ('wakeup', 0.738392174243927)])"
      ]
     },
     "execution_count": 25,
     "metadata": {},
     "output_type": "execute_result"
    }
   ],
   "source": [
    "# Sanity check - find synonyms for the word 'coffee'\n",
    "w2v_model.find_synonyms(\"coffee\", count = 5)"
   ]
  },
  {
   "cell_type": "code",
   "execution_count": 26,
   "metadata": {},
   "outputs": [
    {
     "data": {
      "text/plain": [
       "OrderedDict([('rancid', 0.6665993928909302),\n",
       "             ('inedible', 0.6664527058601379),\n",
       "             ('unedible', 0.642181932926178),\n",
       "             ('tasteless', 0.6371230483055115),\n",
       "             ('moldy', 0.6223236322402954)])"
      ]
     },
     "execution_count": 26,
     "metadata": {},
     "output_type": "execute_result"
    }
   ],
   "source": [
    "# Sanity check - find synonyms for the word 'stale'\n",
    "w2v_model.find_synonyms(\"stale\", count = 5)"
   ]
  },
  {
   "cell_type": "code",
   "execution_count": 27,
   "metadata": {},
   "outputs": [
    {
     "data": {
      "text/html": [
       "<table>\n",
       "<thead>\n",
       "<tr><th style=\"text-align: right;\">        C1</th><th style=\"text-align: right;\">          C2</th><th style=\"text-align: right;\">        C3</th><th style=\"text-align: right;\">         C4</th><th style=\"text-align: right;\">         C5</th><th style=\"text-align: right;\">        C6</th><th style=\"text-align: right;\">        C7</th><th style=\"text-align: right;\">        C8</th><th style=\"text-align: right;\">        C9</th><th style=\"text-align: right;\">       C10</th><th style=\"text-align: right;\">        C11</th><th style=\"text-align: right;\">        C12</th><th style=\"text-align: right;\">       C13</th><th style=\"text-align: right;\">         C14</th><th style=\"text-align: right;\">        C15</th><th style=\"text-align: right;\">        C16</th><th style=\"text-align: right;\">         C17</th><th style=\"text-align: right;\">        C18</th><th style=\"text-align: right;\">         C19</th><th style=\"text-align: right;\">       C20</th><th style=\"text-align: right;\">       C21</th><th style=\"text-align: right;\">        C22</th><th style=\"text-align: right;\">        C23</th><th style=\"text-align: right;\">        C24</th><th style=\"text-align: right;\">       C25</th><th style=\"text-align: right;\">        C26</th><th style=\"text-align: right;\">      C27</th><th style=\"text-align: right;\">        C28</th><th style=\"text-align: right;\">         C29</th><th style=\"text-align: right;\">        C30</th><th style=\"text-align: right;\">       C31</th><th style=\"text-align: right;\">      C32</th><th style=\"text-align: right;\">      C33</th><th style=\"text-align: right;\">        C34</th><th style=\"text-align: right;\">       C35</th><th style=\"text-align: right;\">       C36</th><th style=\"text-align: right;\">       C37</th><th style=\"text-align: right;\">        C38</th><th style=\"text-align: right;\">         C39</th><th style=\"text-align: right;\">       C40</th><th style=\"text-align: right;\">       C41</th><th style=\"text-align: right;\">       C42</th><th style=\"text-align: right;\">      C43</th><th style=\"text-align: right;\">       C44</th><th style=\"text-align: right;\">        C45</th><th style=\"text-align: right;\">       C46</th><th style=\"text-align: right;\">      C47</th><th style=\"text-align: right;\">       C48</th><th style=\"text-align: right;\">        C49</th><th style=\"text-align: right;\">       C50</th><th style=\"text-align: right;\">       C51</th><th style=\"text-align: right;\">       C52</th><th style=\"text-align: right;\">       C53</th><th style=\"text-align: right;\">      C54</th><th style=\"text-align: right;\">       C55</th><th style=\"text-align: right;\">         C56</th><th style=\"text-align: right;\">        C57</th><th style=\"text-align: right;\">      C58</th><th style=\"text-align: right;\">      C59</th><th style=\"text-align: right;\">        C60</th><th style=\"text-align: right;\">       C61</th><th style=\"text-align: right;\">        C62</th><th style=\"text-align: right;\">        C63</th><th style=\"text-align: right;\">        C64</th><th style=\"text-align: right;\">        C65</th><th style=\"text-align: right;\">        C66</th><th style=\"text-align: right;\">       C67</th><th style=\"text-align: right;\">       C68</th><th style=\"text-align: right;\">        C69</th><th style=\"text-align: right;\">        C70</th><th style=\"text-align: right;\">        C71</th><th style=\"text-align: right;\">         C72</th><th style=\"text-align: right;\">       C73</th><th style=\"text-align: right;\">       C74</th><th style=\"text-align: right;\">        C75</th><th style=\"text-align: right;\">       C76</th><th style=\"text-align: right;\">        C77</th><th style=\"text-align: right;\">        C78</th><th style=\"text-align: right;\">         C79</th><th style=\"text-align: right;\">       C80</th><th style=\"text-align: right;\">        C81</th><th style=\"text-align: right;\">        C82</th><th style=\"text-align: right;\">       C83</th><th style=\"text-align: right;\">         C84</th><th style=\"text-align: right;\">        C85</th><th style=\"text-align: right;\">       C86</th><th style=\"text-align: right;\">        C87</th><th style=\"text-align: right;\">       C88</th><th style=\"text-align: right;\">        C89</th><th style=\"text-align: right;\">      C90</th><th style=\"text-align: right;\">       C91</th><th style=\"text-align: right;\">        C92</th><th style=\"text-align: right;\">        C93</th><th style=\"text-align: right;\">        C94</th><th style=\"text-align: right;\">         C95</th><th style=\"text-align: right;\">       C96</th><th style=\"text-align: right;\">       C97</th><th style=\"text-align: right;\">        C98</th><th style=\"text-align: right;\">       C99</th><th style=\"text-align: right;\">     C100</th></tr>\n",
       "</thead>\n",
       "<tbody>\n",
       "<tr><td style=\"text-align: right;\"> 0.0410499</td><td style=\"text-align: right;\">-0.146204   </td><td style=\"text-align: right;\">-0.285427 </td><td style=\"text-align: right;\"> 0.0254471 </td><td style=\"text-align: right;\"> 0.117685  </td><td style=\"text-align: right;\">-0.0448131</td><td style=\"text-align: right;\">-0.0521254</td><td style=\"text-align: right;\">-0.122815 </td><td style=\"text-align: right;\"> 0.0376127</td><td style=\"text-align: right;\"> 0.0109521</td><td style=\"text-align: right;\">-0.102133  </td><td style=\"text-align: right;\">-0.0486561 </td><td style=\"text-align: right;\">-0.0621305</td><td style=\"text-align: right;\">-0.00975907 </td><td style=\"text-align: right;\">-0.00570562</td><td style=\"text-align: right;\">-0.180623  </td><td style=\"text-align: right;\">-0.020774   </td><td style=\"text-align: right;\">-0.0411431 </td><td style=\"text-align: right;\">-0.0147853  </td><td style=\"text-align: right;\">-0.0971181</td><td style=\"text-align: right;\">-0.0159122</td><td style=\"text-align: right;\">-0.0193051 </td><td style=\"text-align: right;\"> 0.00314792</td><td style=\"text-align: right;\"> 0.0954248 </td><td style=\"text-align: right;\"> 0.116065 </td><td style=\"text-align: right;\"> 0.140936  </td><td style=\"text-align: right;\">0.116127 </td><td style=\"text-align: right;\">-0.00374543</td><td style=\"text-align: right;\">-0.215285   </td><td style=\"text-align: right;\">-0.0270248 </td><td style=\"text-align: right;\"> 0.0119914</td><td style=\"text-align: right;\">0.247401 </td><td style=\"text-align: right;\">0.183703 </td><td style=\"text-align: right;\"> 0.0868549 </td><td style=\"text-align: right;\"> 0.0103296</td><td style=\"text-align: right;\"> 0.0208145</td><td style=\"text-align: right;\"> 0.122103 </td><td style=\"text-align: right;\">-0.0928743 </td><td style=\"text-align: right;\">-0.0100389  </td><td style=\"text-align: right;\">-0.11856  </td><td style=\"text-align: right;\"> 0.186428 </td><td style=\"text-align: right;\">-0.163182 </td><td style=\"text-align: right;\">0.149529 </td><td style=\"text-align: right;\">-0.0539655</td><td style=\"text-align: right;\"> 0.0085114 </td><td style=\"text-align: right;\">-0.141806 </td><td style=\"text-align: right;\">-0.224711</td><td style=\"text-align: right;\">-0.0691101</td><td style=\"text-align: right;\">-0.0657561 </td><td style=\"text-align: right;\">-0.0169354</td><td style=\"text-align: right;\"> 0.150188 </td><td style=\"text-align: right;\">-0.0732323</td><td style=\"text-align: right;\">-0.0405487</td><td style=\"text-align: right;\">0.0943669</td><td style=\"text-align: right;\">-0.0395443</td><td style=\"text-align: right;\">-0.0328437  </td><td style=\"text-align: right;\">-0.0313897 </td><td style=\"text-align: right;\">0.111981 </td><td style=\"text-align: right;\">0.244707 </td><td style=\"text-align: right;\"> 0.00756712</td><td style=\"text-align: right;\">-0.280116 </td><td style=\"text-align: right;\"> 0.249046  </td><td style=\"text-align: right;\">-0.0632348 </td><td style=\"text-align: right;\">-0.201192  </td><td style=\"text-align: right;\"> 0.0891857 </td><td style=\"text-align: right;\">-0.113636  </td><td style=\"text-align: right;\">-0.0861205</td><td style=\"text-align: right;\"> 0.0403625</td><td style=\"text-align: right;\"> 0.0984312 </td><td style=\"text-align: right;\"> 0.0624902 </td><td style=\"text-align: right;\"> 0.00508377</td><td style=\"text-align: right;\">-0.122918   </td><td style=\"text-align: right;\"> 0.0713066</td><td style=\"text-align: right;\">-0.156134 </td><td style=\"text-align: right;\">-0.12461   </td><td style=\"text-align: right;\"> 0.0667455</td><td style=\"text-align: right;\">-0.0425776 </td><td style=\"text-align: right;\"> 0.00643421</td><td style=\"text-align: right;\"> 0.117664   </td><td style=\"text-align: right;\">-0.148929 </td><td style=\"text-align: right;\"> 0.0787482 </td><td style=\"text-align: right;\">-0.0875336 </td><td style=\"text-align: right;\"> 0.106674 </td><td style=\"text-align: right;\">-0.00888346 </td><td style=\"text-align: right;\"> 0.00183531</td><td style=\"text-align: right;\"> 0.0121721</td><td style=\"text-align: right;\"> 0.0960461 </td><td style=\"text-align: right;\"> 0.108515 </td><td style=\"text-align: right;\">-0.00934751</td><td style=\"text-align: right;\">0.0343095</td><td style=\"text-align: right;\">-0.0163497</td><td style=\"text-align: right;\"> 0.0758473 </td><td style=\"text-align: right;\">-0.0762475 </td><td style=\"text-align: right;\"> 0.0400815 </td><td style=\"text-align: right;\">-0.0198935  </td><td style=\"text-align: right;\">-0.179636 </td><td style=\"text-align: right;\"> 0.04466  </td><td style=\"text-align: right;\">-0.0747715 </td><td style=\"text-align: right;\">-0.051563 </td><td style=\"text-align: right;\">0.086337 </td></tr>\n",
       "<tr><td style=\"text-align: right;\">-0.0168731</td><td style=\"text-align: right;\"> 0.205152   </td><td style=\"text-align: right;\"> 0.0178846</td><td style=\"text-align: right;\">-0.00401017</td><td style=\"text-align: right;\"> 0.186377  </td><td style=\"text-align: right;\"> 0.0609719</td><td style=\"text-align: right;\">-0.0516552</td><td style=\"text-align: right;\">-0.146039 </td><td style=\"text-align: right;\">-0.10241  </td><td style=\"text-align: right;\">-0.002283 </td><td style=\"text-align: right;\">-0.022299  </td><td style=\"text-align: right;\">-0.0561087 </td><td style=\"text-align: right;\"> 0.059518 </td><td style=\"text-align: right;\">-0.0687224  </td><td style=\"text-align: right;\">-0.0222154 </td><td style=\"text-align: right;\">-0.056836  </td><td style=\"text-align: right;\"> 0.140548   </td><td style=\"text-align: right;\">-0.00527059</td><td style=\"text-align: right;\">-0.0311035  </td><td style=\"text-align: right;\"> 0.0584353</td><td style=\"text-align: right;\"> 0.13725  </td><td style=\"text-align: right;\"> 0.143233  </td><td style=\"text-align: right;\">-0.048869  </td><td style=\"text-align: right;\">-0.0309075 </td><td style=\"text-align: right;\"> 0.0710254</td><td style=\"text-align: right;\">-0.0930747 </td><td style=\"text-align: right;\">0.0651379</td><td style=\"text-align: right;\"> 0.112067  </td><td style=\"text-align: right;\"> 0.104425   </td><td style=\"text-align: right;\">-0.083902  </td><td style=\"text-align: right;\"> 0.122894 </td><td style=\"text-align: right;\">0.0849256</td><td style=\"text-align: right;\">0.237759 </td><td style=\"text-align: right;\"> 0.00813777</td><td style=\"text-align: right;\">-0.02785  </td><td style=\"text-align: right;\"> 0.0416097</td><td style=\"text-align: right;\">-0.0274384</td><td style=\"text-align: right;\">-0.105021  </td><td style=\"text-align: right;\"> 0.000200458</td><td style=\"text-align: right;\">-0.279208 </td><td style=\"text-align: right;\"> 0.182049 </td><td style=\"text-align: right;\"> 0.0156211</td><td style=\"text-align: right;\">0.232548 </td><td style=\"text-align: right;\">-0.0410957</td><td style=\"text-align: right;\">-0.0394131 </td><td style=\"text-align: right;\">-0.119328 </td><td style=\"text-align: right;\">-0.139742</td><td style=\"text-align: right;\">-0.0800661</td><td style=\"text-align: right;\">-0.114642  </td><td style=\"text-align: right;\">-0.0899811</td><td style=\"text-align: right;\"> 0.0299466</td><td style=\"text-align: right;\">-0.266682 </td><td style=\"text-align: right;\"> 0.0116383</td><td style=\"text-align: right;\">0.235033 </td><td style=\"text-align: right;\"> 0.0166786</td><td style=\"text-align: right;\">-0.0832042  </td><td style=\"text-align: right;\"> 0.107546  </td><td style=\"text-align: right;\">0.0669999</td><td style=\"text-align: right;\">0.204786 </td><td style=\"text-align: right;\"> 0.155993  </td><td style=\"text-align: right;\">-0.192578 </td><td style=\"text-align: right;\"> 0.0450506 </td><td style=\"text-align: right;\">-0.0932742 </td><td style=\"text-align: right;\">-0.0258353 </td><td style=\"text-align: right;\"> 0.0131895 </td><td style=\"text-align: right;\"> 0.0182733 </td><td style=\"text-align: right;\">-0.078868 </td><td style=\"text-align: right;\">-0.18508  </td><td style=\"text-align: right;\"> 0.0709706 </td><td style=\"text-align: right;\">-0.0838733 </td><td style=\"text-align: right;\">-0.0803538 </td><td style=\"text-align: right;\"> 0.042668   </td><td style=\"text-align: right;\"> 0.166175 </td><td style=\"text-align: right;\">-0.172344 </td><td style=\"text-align: right;\"> 0.0344755 </td><td style=\"text-align: right;\"> 0.0963614</td><td style=\"text-align: right;\">-0.00450752</td><td style=\"text-align: right;\"> 0.0286235 </td><td style=\"text-align: right;\"> 0.0173997  </td><td style=\"text-align: right;\">-0.222903 </td><td style=\"text-align: right;\"> 0.0598912 </td><td style=\"text-align: right;\"> 0.00692643</td><td style=\"text-align: right;\">-0.0550072</td><td style=\"text-align: right;\"> 0.0250324  </td><td style=\"text-align: right;\">-0.037459  </td><td style=\"text-align: right;\">-0.0218965</td><td style=\"text-align: right;\">-0.0404033 </td><td style=\"text-align: right;\"> 0.127231 </td><td style=\"text-align: right;\">-0.0254501 </td><td style=\"text-align: right;\">0.173607 </td><td style=\"text-align: right;\">-0.0308788</td><td style=\"text-align: right;\"> 0.0493804 </td><td style=\"text-align: right;\">-0.078108  </td><td style=\"text-align: right;\">-0.0384999 </td><td style=\"text-align: right;\"> 0.000911163</td><td style=\"text-align: right;\">-0.17991  </td><td style=\"text-align: right;\">-0.168636 </td><td style=\"text-align: right;\">-0.134576  </td><td style=\"text-align: right;\"> 0.014041 </td><td style=\"text-align: right;\">0.110885 </td></tr>\n",
       "<tr><td style=\"text-align: right;\"> 0.0912552</td><td style=\"text-align: right;\">-0.0270904  </td><td style=\"text-align: right;\">-0.105998 </td><td style=\"text-align: right;\"> 0.117295  </td><td style=\"text-align: right;\"> 0.0426804 </td><td style=\"text-align: right;\">-0.0201742</td><td style=\"text-align: right;\">-0.0602782</td><td style=\"text-align: right;\"> 0.0473378</td><td style=\"text-align: right;\"> 0.0295703</td><td style=\"text-align: right;\">-0.0118265</td><td style=\"text-align: right;\">-0.0968422 </td><td style=\"text-align: right;\">-0.0164974 </td><td style=\"text-align: right;\">-0.0199767</td><td style=\"text-align: right;\"> 0.106042   </td><td style=\"text-align: right;\">-0.0378111 </td><td style=\"text-align: right;\">-0.00356926</td><td style=\"text-align: right;\"> 0.0359349  </td><td style=\"text-align: right;\">-0.0219406 </td><td style=\"text-align: right;\"> 0.00714618 </td><td style=\"text-align: right;\">-0.0624658</td><td style=\"text-align: right;\">-0.0283937</td><td style=\"text-align: right;\"> 0.0175243 </td><td style=\"text-align: right;\">-0.0536904 </td><td style=\"text-align: right;\"> 0.0910684 </td><td style=\"text-align: right;\"> 0.0705079</td><td style=\"text-align: right;\">-0.00438208</td><td style=\"text-align: right;\">0.0764417</td><td style=\"text-align: right;\">-0.023922  </td><td style=\"text-align: right;\"> 0.00313756 </td><td style=\"text-align: right;\">-0.023761  </td><td style=\"text-align: right;\"> 0.0115935</td><td style=\"text-align: right;\">0.162139 </td><td style=\"text-align: right;\">0.230323 </td><td style=\"text-align: right;\">-0.00402018</td><td style=\"text-align: right;\">-0.0225697</td><td style=\"text-align: right;\">-0.0798728</td><td style=\"text-align: right;\"> 0.0338326</td><td style=\"text-align: right;\">-0.00579746</td><td style=\"text-align: right;\"> 0.0887428  </td><td style=\"text-align: right;\">-0.0734863</td><td style=\"text-align: right;\"> 0.0442663</td><td style=\"text-align: right;\">-0.136482 </td><td style=\"text-align: right;\">0.234298 </td><td style=\"text-align: right;\">-0.0323383</td><td style=\"text-align: right;\">-0.10865   </td><td style=\"text-align: right;\">-0.203888 </td><td style=\"text-align: right;\">-0.126513</td><td style=\"text-align: right;\">-0.0637946</td><td style=\"text-align: right;\">-0.02811   </td><td style=\"text-align: right;\">-0.0212629</td><td style=\"text-align: right;\"> 0.134549 </td><td style=\"text-align: right;\">-0.251012 </td><td style=\"text-align: right;\"> 0.0506457</td><td style=\"text-align: right;\">0.0595697</td><td style=\"text-align: right;\">-0.0397004</td><td style=\"text-align: right;\">-0.0316828  </td><td style=\"text-align: right;\">-0.0702738 </td><td style=\"text-align: right;\">0.0479181</td><td style=\"text-align: right;\">0.102396 </td><td style=\"text-align: right;\">-0.00698299</td><td style=\"text-align: right;\">-0.190544 </td><td style=\"text-align: right;\"> 0.220229  </td><td style=\"text-align: right;\">-0.0110431 </td><td style=\"text-align: right;\">-0.106953  </td><td style=\"text-align: right;\">-0.10391   </td><td style=\"text-align: right;\"> 0.0218054 </td><td style=\"text-align: right;\">-0.125348 </td><td style=\"text-align: right;\">-0.14713  </td><td style=\"text-align: right;\"> 0.129716  </td><td style=\"text-align: right;\">-0.0167192 </td><td style=\"text-align: right;\"> 0.124648  </td><td style=\"text-align: right;\">-0.0890766  </td><td style=\"text-align: right;\"> 0.204822 </td><td style=\"text-align: right;\">-0.196557 </td><td style=\"text-align: right;\">-0.157732  </td><td style=\"text-align: right;\"> 0.0761307</td><td style=\"text-align: right;\"> 0.0466672 </td><td style=\"text-align: right;\"> 0.0122299 </td><td style=\"text-align: right;\"> 0.000125276</td><td style=\"text-align: right;\">-0.208611 </td><td style=\"text-align: right;\"> 0.0923396 </td><td style=\"text-align: right;\">-0.0229839 </td><td style=\"text-align: right;\"> 0.0148204</td><td style=\"text-align: right;\">-0.0100454  </td><td style=\"text-align: right;\">-0.14896   </td><td style=\"text-align: right;\">-0.0652911</td><td style=\"text-align: right;\"> 0.232896  </td><td style=\"text-align: right;\"> 0.141152 </td><td style=\"text-align: right;\">-0.0368149 </td><td style=\"text-align: right;\">0.0577446</td><td style=\"text-align: right;\"> 0.0432447</td><td style=\"text-align: right;\"> 0.147477  </td><td style=\"text-align: right;\">-0.115366  </td><td style=\"text-align: right;\"> 0.0207088 </td><td style=\"text-align: right;\">-0.0897639  </td><td style=\"text-align: right;\">-0.145678 </td><td style=\"text-align: right;\"> 0.0167911</td><td style=\"text-align: right;\">-0.155149  </td><td style=\"text-align: right;\"> 0.0189327</td><td style=\"text-align: right;\">0.157371 </td></tr>\n",
       "<tr><td style=\"text-align: right;\"> 0.0506611</td><td style=\"text-align: right;\">-0.0137952  </td><td style=\"text-align: right;\">-0.0842045</td><td style=\"text-align: right;\"> 0.0783967 </td><td style=\"text-align: right;\"> 0.172741  </td><td style=\"text-align: right;\">-0.0334506</td><td style=\"text-align: right;\">-0.0180625</td><td style=\"text-align: right;\"> 0.094259 </td><td style=\"text-align: right;\"> 0.0533953</td><td style=\"text-align: right;\">-0.150385 </td><td style=\"text-align: right;\">-0.00880885</td><td style=\"text-align: right;\"> 0.0320596 </td><td style=\"text-align: right;\"> 0.0450748</td><td style=\"text-align: right;\"> 1.22293e-05</td><td style=\"text-align: right;\"> 0.0389893 </td><td style=\"text-align: right;\">-0.0374257 </td><td style=\"text-align: right;\"> 0.106436   </td><td style=\"text-align: right;\">-0.0834178 </td><td style=\"text-align: right;\">-0.013194   </td><td style=\"text-align: right;\">-0.0867779</td><td style=\"text-align: right;\">-0.0395077</td><td style=\"text-align: right;\">-0.0497283 </td><td style=\"text-align: right;\"> 0.0231751 </td><td style=\"text-align: right;\"> 0.00448363</td><td style=\"text-align: right;\"> 0.023539 </td><td style=\"text-align: right;\"> 0.0412272 </td><td style=\"text-align: right;\">0.0771422</td><td style=\"text-align: right;\"> 0.0656852 </td><td style=\"text-align: right;\">-0.0597668  </td><td style=\"text-align: right;\">-0.0743301 </td><td style=\"text-align: right;\">-0.0167046</td><td style=\"text-align: right;\">0.104726 </td><td style=\"text-align: right;\">0.198659 </td><td style=\"text-align: right;\">-0.0536984 </td><td style=\"text-align: right;\">-0.107521 </td><td style=\"text-align: right;\"> 0.0628731</td><td style=\"text-align: right;\"> 0.166905 </td><td style=\"text-align: right;\">-0.0610736 </td><td style=\"text-align: right;\"> 0.150174   </td><td style=\"text-align: right;\">-0.125526 </td><td style=\"text-align: right;\">-0.0320474</td><td style=\"text-align: right;\">-0.196611 </td><td style=\"text-align: right;\">0.145083 </td><td style=\"text-align: right;\"> 0.0185329</td><td style=\"text-align: right;\">-0.119173  </td><td style=\"text-align: right;\">-0.152929 </td><td style=\"text-align: right;\">-0.182173</td><td style=\"text-align: right;\">-0.0532022</td><td style=\"text-align: right;\"> 0.00317026</td><td style=\"text-align: right;\">-0.0174073</td><td style=\"text-align: right;\"> 0.107379 </td><td style=\"text-align: right;\">-0.261378 </td><td style=\"text-align: right;\">-0.0386492</td><td style=\"text-align: right;\">0.094654 </td><td style=\"text-align: right;\"> 0.0579468</td><td style=\"text-align: right;\"> 0.048538   </td><td style=\"text-align: right;\"> 0.0189635 </td><td style=\"text-align: right;\">0.0879773</td><td style=\"text-align: right;\">0.186641 </td><td style=\"text-align: right;\"> 0.0815131 </td><td style=\"text-align: right;\">-0.0977653</td><td style=\"text-align: right;\"> 0.0770253 </td><td style=\"text-align: right;\">-0.0293778 </td><td style=\"text-align: right;\">-0.00577403</td><td style=\"text-align: right;\">-0.0597387 </td><td style=\"text-align: right;\"> 0.00467606</td><td style=\"text-align: right;\">-0.0847092</td><td style=\"text-align: right;\">-0.134728 </td><td style=\"text-align: right;\"> 0.0659106 </td><td style=\"text-align: right;\"> 0.056301  </td><td style=\"text-align: right;\"> 0.121194  </td><td style=\"text-align: right;\">-0.162735   </td><td style=\"text-align: right;\"> 0.204626 </td><td style=\"text-align: right;\">-0.153891 </td><td style=\"text-align: right;\">-0.162748  </td><td style=\"text-align: right;\"> 0.0403719</td><td style=\"text-align: right;\"> 0.00724629</td><td style=\"text-align: right;\"> 0.0665321 </td><td style=\"text-align: right;\"> 0.0841937  </td><td style=\"text-align: right;\">-0.201843 </td><td style=\"text-align: right;\"> 0.169799  </td><td style=\"text-align: right;\"> 0.0236409 </td><td style=\"text-align: right;\">-0.0227283</td><td style=\"text-align: right;\"> 0.0606121  </td><td style=\"text-align: right;\">-0.0687672 </td><td style=\"text-align: right;\">-0.0393128</td><td style=\"text-align: right;\"> 0.0726059 </td><td style=\"text-align: right;\"> 0.0853888</td><td style=\"text-align: right;\"> 0.0395319 </td><td style=\"text-align: right;\">0.165726 </td><td style=\"text-align: right;\"> 0.193156 </td><td style=\"text-align: right;\">-0.00103129</td><td style=\"text-align: right;\">-0.166754  </td><td style=\"text-align: right;\"> 0.0227474 </td><td style=\"text-align: right;\">-0.000277918</td><td style=\"text-align: right;\">-0.228838 </td><td style=\"text-align: right;\"> 0.0210472</td><td style=\"text-align: right;\"> 0.00668801</td><td style=\"text-align: right;\"> 0.0720316</td><td style=\"text-align: right;\">0.132373 </td></tr>\n",
       "<tr><td style=\"text-align: right;\"> 0.114573 </td><td style=\"text-align: right;\">-0.0908475  </td><td style=\"text-align: right;\">-0.119875 </td><td style=\"text-align: right;\"> 0.125378  </td><td style=\"text-align: right;\"> 0.144974  </td><td style=\"text-align: right;\">-0.0282216</td><td style=\"text-align: right;\">-0.0192489</td><td style=\"text-align: right;\">-0.0264971</td><td style=\"text-align: right;\">-0.0493008</td><td style=\"text-align: right;\">-0.0806598</td><td style=\"text-align: right;\"> 0.0297498 </td><td style=\"text-align: right;\"> 0.0113315 </td><td style=\"text-align: right;\">-0.0780106</td><td style=\"text-align: right;\"> 0.047113   </td><td style=\"text-align: right;\"> 0.0404016 </td><td style=\"text-align: right;\"> 0.0396386 </td><td style=\"text-align: right;\">-0.0603448  </td><td style=\"text-align: right;\">-0.0272163 </td><td style=\"text-align: right;\"> 0.0149022  </td><td style=\"text-align: right;\">-0.0719555</td><td style=\"text-align: right;\"> 0.0820749</td><td style=\"text-align: right;\">-0.0488909 </td><td style=\"text-align: right;\"> 0.00224674</td><td style=\"text-align: right;\"> 0.0349529 </td><td style=\"text-align: right;\"> 0.0378619</td><td style=\"text-align: right;\"> 0.0279213 </td><td style=\"text-align: right;\">0.116674 </td><td style=\"text-align: right;\"> 0.00143311</td><td style=\"text-align: right;\">-0.100346   </td><td style=\"text-align: right;\">-0.124134  </td><td style=\"text-align: right;\">-0.0108734</td><td style=\"text-align: right;\">0.249952 </td><td style=\"text-align: right;\">0.283916 </td><td style=\"text-align: right;\"> 0.12996   </td><td style=\"text-align: right;\">-0.0305271</td><td style=\"text-align: right;\"> 0.0154146</td><td style=\"text-align: right;\"> 0.113594 </td><td style=\"text-align: right;\">-0.0153916 </td><td style=\"text-align: right;\"> 0.0328989  </td><td style=\"text-align: right;\">-0.0447542</td><td style=\"text-align: right;\"> 0.141435 </td><td style=\"text-align: right;\">-0.208892 </td><td style=\"text-align: right;\">0.199607 </td><td style=\"text-align: right;\"> 0.0297651</td><td style=\"text-align: right;\">-0.0824929 </td><td style=\"text-align: right;\">-0.0988574</td><td style=\"text-align: right;\">-0.150216</td><td style=\"text-align: right;\">-0.0780354</td><td style=\"text-align: right;\">-0.113725  </td><td style=\"text-align: right;\">-0.0332269</td><td style=\"text-align: right;\"> 0.0914595</td><td style=\"text-align: right;\">-0.200636 </td><td style=\"text-align: right;\">-0.0785886</td><td style=\"text-align: right;\">0.0379611</td><td style=\"text-align: right;\"> 0.0338592</td><td style=\"text-align: right;\"> 0.06094    </td><td style=\"text-align: right;\"> 0.00469266</td><td style=\"text-align: right;\">0.0363625</td><td style=\"text-align: right;\">0.246734 </td><td style=\"text-align: right;\"> 0.0979311 </td><td style=\"text-align: right;\">-0.254923 </td><td style=\"text-align: right;\"> 0.250986  </td><td style=\"text-align: right;\">-0.0836997 </td><td style=\"text-align: right;\">-0.0959255 </td><td style=\"text-align: right;\"> 0.00987142</td><td style=\"text-align: right;\">-0.0977914 </td><td style=\"text-align: right;\">-0.114229 </td><td style=\"text-align: right;\">-0.0465815</td><td style=\"text-align: right;\"> 0.0789092 </td><td style=\"text-align: right;\"> 0.00766385</td><td style=\"text-align: right;\"> 0.0378326 </td><td style=\"text-align: right;\">-0.0970114  </td><td style=\"text-align: right;\"> 0.247009 </td><td style=\"text-align: right;\">-0.112024 </td><td style=\"text-align: right;\">-0.131794  </td><td style=\"text-align: right;\"> 0.0400208</td><td style=\"text-align: right;\"> 0.0557947 </td><td style=\"text-align: right;\"> 0.11573   </td><td style=\"text-align: right;\"> 0.0272576  </td><td style=\"text-align: right;\">-0.126925 </td><td style=\"text-align: right;\"> 0.166993  </td><td style=\"text-align: right;\">-0.0424934 </td><td style=\"text-align: right;\"> 0.0400003</td><td style=\"text-align: right;\"> 0.0719688  </td><td style=\"text-align: right;\">-0.0711352 </td><td style=\"text-align: right;\"> 0.0531966</td><td style=\"text-align: right;\"> 0.148717  </td><td style=\"text-align: right;\"> 0.137478 </td><td style=\"text-align: right;\"> 0.072239  </td><td style=\"text-align: right;\">0.130073 </td><td style=\"text-align: right;\"> 0.0144677</td><td style=\"text-align: right;\"> 0.0275516 </td><td style=\"text-align: right;\">-0.12297   </td><td style=\"text-align: right;\">-0.0486905 </td><td style=\"text-align: right;\">-0.0202865  </td><td style=\"text-align: right;\">-0.10617  </td><td style=\"text-align: right;\"> 0.0303917</td><td style=\"text-align: right;\">-0.0417576 </td><td style=\"text-align: right;\"> 0.0554972</td><td style=\"text-align: right;\">0.0827283</td></tr>\n",
       "<tr><td style=\"text-align: right;\">-0.100535 </td><td style=\"text-align: right;\"> 3.24303e-06</td><td style=\"text-align: right;\"> 0.058726 </td><td style=\"text-align: right;\"> 0.0647574 </td><td style=\"text-align: right;\"> 0.0127147 </td><td style=\"text-align: right;\"> 0.114625 </td><td style=\"text-align: right;\"> 0.0183061</td><td style=\"text-align: right;\">-0.0711609</td><td style=\"text-align: right;\">-0.191407 </td><td style=\"text-align: right;\"> 0.0330649</td><td style=\"text-align: right;\"> 0.047238  </td><td style=\"text-align: right;\">-0.0270909 </td><td style=\"text-align: right;\">-0.0763975</td><td style=\"text-align: right;\">-0.0430725  </td><td style=\"text-align: right;\"> 0.0565428 </td><td style=\"text-align: right;\"> 0.13024   </td><td style=\"text-align: right;\">-0.101793   </td><td style=\"text-align: right;\">-0.0846654 </td><td style=\"text-align: right;\"> 0.101003   </td><td style=\"text-align: right;\">-0.0092768</td><td style=\"text-align: right;\"> 0.0985707</td><td style=\"text-align: right;\"> 0.0781009 </td><td style=\"text-align: right;\">-0.00437601</td><td style=\"text-align: right;\"> 0.0495098 </td><td style=\"text-align: right;\">-0.0350157</td><td style=\"text-align: right;\">-0.0827689 </td><td style=\"text-align: right;\">0.0817964</td><td style=\"text-align: right;\"> 0.0400208 </td><td style=\"text-align: right;\"> 0.000684947</td><td style=\"text-align: right;\"> 0.00207585</td><td style=\"text-align: right;\"> 0.124239 </td><td style=\"text-align: right;\">0.242888 </td><td style=\"text-align: right;\">0.222392 </td><td style=\"text-align: right;\"> 0.00276832</td><td style=\"text-align: right;\">-0.0248025</td><td style=\"text-align: right;\"> 0.170765 </td><td style=\"text-align: right;\"> 0.303953 </td><td style=\"text-align: right;\">-0.171715  </td><td style=\"text-align: right;\"> 0.0050209  </td><td style=\"text-align: right;\">-0.0186733</td><td style=\"text-align: right;\"> 0.130924 </td><td style=\"text-align: right;\">-0.108778 </td><td style=\"text-align: right;\">0.165099 </td><td style=\"text-align: right;\"> 0.0273119</td><td style=\"text-align: right;\">-0.080385  </td><td style=\"text-align: right;\">-0.21923  </td><td style=\"text-align: right;\">-0.132835</td><td style=\"text-align: right;\">-0.0877117</td><td style=\"text-align: right;\">-0.0101175 </td><td style=\"text-align: right;\">-0.170858 </td><td style=\"text-align: right;\"> 0.0675197</td><td style=\"text-align: right;\">-0.32019  </td><td style=\"text-align: right;\"> 0.0359907</td><td style=\"text-align: right;\">0.222211 </td><td style=\"text-align: right;\"> 0.13579  </td><td style=\"text-align: right;\">-0.0769731  </td><td style=\"text-align: right;\"> 0.014757  </td><td style=\"text-align: right;\">0.157032 </td><td style=\"text-align: right;\">0.0666286</td><td style=\"text-align: right;\">-0.0509558 </td><td style=\"text-align: right;\">-0.061962 </td><td style=\"text-align: right;\">-0.0336827 </td><td style=\"text-align: right;\">-0.00187152</td><td style=\"text-align: right;\">-0.0578651 </td><td style=\"text-align: right;\">-0.102732  </td><td style=\"text-align: right;\">-0.0258282 </td><td style=\"text-align: right;\">-0.242585 </td><td style=\"text-align: right;\">-0.161733 </td><td style=\"text-align: right;\">-0.0598708 </td><td style=\"text-align: right;\"> 0.0181121 </td><td style=\"text-align: right;\">-0.014524  </td><td style=\"text-align: right;\">-0.0183062  </td><td style=\"text-align: right;\"> 0.141554 </td><td style=\"text-align: right;\">-0.367446 </td><td style=\"text-align: right;\"> 0.0313464 </td><td style=\"text-align: right;\"> 0.115229 </td><td style=\"text-align: right;\"> 0.104261  </td><td style=\"text-align: right;\">-0.0781347 </td><td style=\"text-align: right;\"> 0.0658166  </td><td style=\"text-align: right;\">-0.106229 </td><td style=\"text-align: right;\">-0.039503  </td><td style=\"text-align: right;\"> 0.0264593 </td><td style=\"text-align: right;\">-0.0949273</td><td style=\"text-align: right;\">-0.0332473  </td><td style=\"text-align: right;\"> 0.0368352 </td><td style=\"text-align: right;\"> 0.0384479</td><td style=\"text-align: right;\"> 0.0714165 </td><td style=\"text-align: right;\"> 0.0192971</td><td style=\"text-align: right;\">-0.131872  </td><td style=\"text-align: right;\">0.235761 </td><td style=\"text-align: right;\"> 0.0298589</td><td style=\"text-align: right;\"> 0.226202  </td><td style=\"text-align: right;\">-0.15642   </td><td style=\"text-align: right;\"> 0.0566576 </td><td style=\"text-align: right;\">-0.0481936  </td><td style=\"text-align: right;\">-0.056383 </td><td style=\"text-align: right;\">-0.0125857</td><td style=\"text-align: right;\">-0.0422501 </td><td style=\"text-align: right;\"> 0.103563 </td><td style=\"text-align: right;\">0.28344  </td></tr>\n",
       "<tr><td style=\"text-align: right;\"> 0.103052 </td><td style=\"text-align: right;\"> 0.0427662  </td><td style=\"text-align: right;\">-0.22549  </td><td style=\"text-align: right;\"> 0.0429238 </td><td style=\"text-align: right;\"> 0.0388938 </td><td style=\"text-align: right;\">-0.0316681</td><td style=\"text-align: right;\">-0.0894308</td><td style=\"text-align: right;\">-0.101373 </td><td style=\"text-align: right;\"> 0.0941385</td><td style=\"text-align: right;\"> 0.103232 </td><td style=\"text-align: right;\">-0.0364045 </td><td style=\"text-align: right;\"> 0.0783518 </td><td style=\"text-align: right;\"> 0.179848 </td><td style=\"text-align: right;\">-0.068744   </td><td style=\"text-align: right;\">-0.0806278 </td><td style=\"text-align: right;\"> 0.0302938 </td><td style=\"text-align: right;\"> 0.0477324  </td><td style=\"text-align: right;\">-0.0730001 </td><td style=\"text-align: right;\"> 0.000205803</td><td style=\"text-align: right;\"> 0.0837515</td><td style=\"text-align: right;\">-0.029379 </td><td style=\"text-align: right;\"> 0.049448  </td><td style=\"text-align: right;\"> 0.071626  </td><td style=\"text-align: right;\"> 0.061654  </td><td style=\"text-align: right;\"> 0.0248696</td><td style=\"text-align: right;\"> 0.100566  </td><td style=\"text-align: right;\">0.123634 </td><td style=\"text-align: right;\"> 0.0492704 </td><td style=\"text-align: right;\">-0.156722   </td><td style=\"text-align: right;\">-0.12901   </td><td style=\"text-align: right;\"> 0.182899 </td><td style=\"text-align: right;\">0.118488 </td><td style=\"text-align: right;\">0.161623 </td><td style=\"text-align: right;\"> 0.0273035 </td><td style=\"text-align: right;\"> 0.0301386</td><td style=\"text-align: right;\">-0.0261077</td><td style=\"text-align: right;\"> 0.0303689</td><td style=\"text-align: right;\">-0.143352  </td><td style=\"text-align: right;\"> 0.0307285  </td><td style=\"text-align: right;\">-0.0349046</td><td style=\"text-align: right;\"> 0.0451972</td><td style=\"text-align: right;\">-0.0783422</td><td style=\"text-align: right;\">0.133812 </td><td style=\"text-align: right;\">-0.0273586</td><td style=\"text-align: right;\">-0.00557686</td><td style=\"text-align: right;\">-0.174108 </td><td style=\"text-align: right;\">-0.17279 </td><td style=\"text-align: right;\">-0.151089 </td><td style=\"text-align: right;\"> 0.0357572 </td><td style=\"text-align: right;\"> 0.025474 </td><td style=\"text-align: right;\"> 0.184192 </td><td style=\"text-align: right;\">-0.23559  </td><td style=\"text-align: right;\"> 0.0900395</td><td style=\"text-align: right;\">0.156356 </td><td style=\"text-align: right;\">-0.124609 </td><td style=\"text-align: right;\">-0.0750397  </td><td style=\"text-align: right;\"> 0.117468  </td><td style=\"text-align: right;\">0.288239 </td><td style=\"text-align: right;\">0.209376 </td><td style=\"text-align: right;\"> 0.201682  </td><td style=\"text-align: right;\">-0.129195 </td><td style=\"text-align: right;\"> 0.142271  </td><td style=\"text-align: right;\">-0.15428   </td><td style=\"text-align: right;\">-0.0731583 </td><td style=\"text-align: right;\"> 0.0131253 </td><td style=\"text-align: right;\">-0.0449935 </td><td style=\"text-align: right;\">-0.0388547</td><td style=\"text-align: right;\">-0.248332 </td><td style=\"text-align: right;\">-0.00728553</td><td style=\"text-align: right;\">-0.0939739 </td><td style=\"text-align: right;\">-0.116022  </td><td style=\"text-align: right;\">-0.0237486  </td><td style=\"text-align: right;\"> 0.0906497</td><td style=\"text-align: right;\">-0.248279 </td><td style=\"text-align: right;\">-0.00468426</td><td style=\"text-align: right;\"> 0.0443866</td><td style=\"text-align: right;\"> 0.0995268 </td><td style=\"text-align: right;\"> 0.0323861 </td><td style=\"text-align: right;\">-0.0874842  </td><td style=\"text-align: right;\">-0.0143007</td><td style=\"text-align: right;\"> 0.0811689 </td><td style=\"text-align: right;\"> 0.0661178 </td><td style=\"text-align: right;\"> 0.0583037</td><td style=\"text-align: right;\">-0.000341724</td><td style=\"text-align: right;\">-0.0641421 </td><td style=\"text-align: right;\"> 0.0453663</td><td style=\"text-align: right;\"> 0.00646438</td><td style=\"text-align: right;\"> 0.0162067</td><td style=\"text-align: right;\"> 0.0996217 </td><td style=\"text-align: right;\">0.163336 </td><td style=\"text-align: right;\"> 0.10971  </td><td style=\"text-align: right;\"> 0.156952  </td><td style=\"text-align: right;\">-0.00620613</td><td style=\"text-align: right;\">-0.00364548</td><td style=\"text-align: right;\"> 0.130672   </td><td style=\"text-align: right;\">-0.151166 </td><td style=\"text-align: right;\">-0.0914219</td><td style=\"text-align: right;\">-0.0173219 </td><td style=\"text-align: right;\"> 0.0404571</td><td style=\"text-align: right;\">0.102401 </td></tr>\n",
       "<tr><td style=\"text-align: right;\">-0.0529679</td><td style=\"text-align: right;\"> 0.120622   </td><td style=\"text-align: right;\"> 0.0455575</td><td style=\"text-align: right;\"> 0.0387613 </td><td style=\"text-align: right;\">-0.00646485</td><td style=\"text-align: right;\"> 0.0895898</td><td style=\"text-align: right;\"> 0.0754013</td><td style=\"text-align: right;\">-0.147654 </td><td style=\"text-align: right;\">-0.0179827</td><td style=\"text-align: right;\"> 0.0356937</td><td style=\"text-align: right;\"> 0.0371227 </td><td style=\"text-align: right;\"> 0.00546085</td><td style=\"text-align: right;\"> 0.0295059</td><td style=\"text-align: right;\">-0.0640846  </td><td style=\"text-align: right;\">-0.0177558 </td><td style=\"text-align: right;\"> 0.0231174 </td><td style=\"text-align: right;\"> 0.0565039  </td><td style=\"text-align: right;\">-0.0503321 </td><td style=\"text-align: right;\"> 0.0114314  </td><td style=\"text-align: right;\">-0.0366281</td><td style=\"text-align: right;\">-0.0244215</td><td style=\"text-align: right;\"> 0.00164787</td><td style=\"text-align: right;\"> 0.0382627 </td><td style=\"text-align: right;\"> 0.0307331 </td><td style=\"text-align: right;\"> 0.0919329</td><td style=\"text-align: right;\">-0.0299767 </td><td style=\"text-align: right;\">0.0777428</td><td style=\"text-align: right;\"> 0.0287918 </td><td style=\"text-align: right;\"> 0.0976172  </td><td style=\"text-align: right;\">-0.0953497 </td><td style=\"text-align: right;\"> 0.105026 </td><td style=\"text-align: right;\">0.147502 </td><td style=\"text-align: right;\">0.145871 </td><td style=\"text-align: right;\">-0.0123128 </td><td style=\"text-align: right;\"> 0.0501302</td><td style=\"text-align: right;\"> 0.068744 </td><td style=\"text-align: right;\"> 0.116907 </td><td style=\"text-align: right;\">-0.0256992 </td><td style=\"text-align: right;\"> 0.0941147  </td><td style=\"text-align: right;\">-0.164725 </td><td style=\"text-align: right;\"> 0.0274403</td><td style=\"text-align: right;\">-0.0895667</td><td style=\"text-align: right;\">0.177024 </td><td style=\"text-align: right;\">-0.0840653</td><td style=\"text-align: right;\">-0.0171058 </td><td style=\"text-align: right;\">-0.115678 </td><td style=\"text-align: right;\">-0.199178</td><td style=\"text-align: right;\">-0.100984 </td><td style=\"text-align: right;\">-0.0889595 </td><td style=\"text-align: right;\">-0.108832 </td><td style=\"text-align: right;\"> 0.10482  </td><td style=\"text-align: right;\">-0.203023 </td><td style=\"text-align: right;\"> 0.123838 </td><td style=\"text-align: right;\">0.180377 </td><td style=\"text-align: right;\"> 0.148754 </td><td style=\"text-align: right;\">-0.0594844  </td><td style=\"text-align: right;\"> 0.0338831 </td><td style=\"text-align: right;\">0.120303 </td><td style=\"text-align: right;\">0.207964 </td><td style=\"text-align: right;\"> 0.0705291 </td><td style=\"text-align: right;\">-0.176961 </td><td style=\"text-align: right;\"> 0.142454  </td><td style=\"text-align: right;\">-0.00142848</td><td style=\"text-align: right;\">-0.0443478 </td><td style=\"text-align: right;\">-0.046992  </td><td style=\"text-align: right;\">-0.00346555</td><td style=\"text-align: right;\">-0.109103 </td><td style=\"text-align: right;\">-0.255558 </td><td style=\"text-align: right;\"> 0.108116  </td><td style=\"text-align: right;\"> 0.011013  </td><td style=\"text-align: right;\"> 0.0081189 </td><td style=\"text-align: right;\"> 0.096001   </td><td style=\"text-align: right;\"> 0.183715 </td><td style=\"text-align: right;\">-0.24485  </td><td style=\"text-align: right;\">-0.00751737</td><td style=\"text-align: right;\"> 0.131498 </td><td style=\"text-align: right;\">-0.0352646 </td><td style=\"text-align: right;\"> 0.00644242</td><td style=\"text-align: right;\"> 0.0645609  </td><td style=\"text-align: right;\">-0.109533 </td><td style=\"text-align: right;\">-0.00258295</td><td style=\"text-align: right;\"> 0.0165217 </td><td style=\"text-align: right;\">-0.0513945</td><td style=\"text-align: right;\"> 0.0813248  </td><td style=\"text-align: right;\">-0.0370831 </td><td style=\"text-align: right;\">-0.0263085</td><td style=\"text-align: right;\"> 0.0930693 </td><td style=\"text-align: right;\"> 0.0563272</td><td style=\"text-align: right;\">-0.11737   </td><td style=\"text-align: right;\">0.192417 </td><td style=\"text-align: right;\"> 0.0636439</td><td style=\"text-align: right;\"> 0.120956  </td><td style=\"text-align: right;\">-0.15707   </td><td style=\"text-align: right;\"> 0.071411  </td><td style=\"text-align: right;\">-0.0703979  </td><td style=\"text-align: right;\">-0.0566571</td><td style=\"text-align: right;\">-0.0679394</td><td style=\"text-align: right;\">-0.0956958 </td><td style=\"text-align: right;\"> 0.0604037</td><td style=\"text-align: right;\">0.14343  </td></tr>\n",
       "<tr><td style=\"text-align: right;\"> 0.0974911</td><td style=\"text-align: right;\"> 0.0124312  </td><td style=\"text-align: right;\"> 0.0568557</td><td style=\"text-align: right;\">-0.0112921 </td><td style=\"text-align: right;\">-0.0115069 </td><td style=\"text-align: right;\"> 0.0434067</td><td style=\"text-align: right;\">-0.0582426</td><td style=\"text-align: right;\">-0.0373623</td><td style=\"text-align: right;\">-0.0600723</td><td style=\"text-align: right;\"> 0.0736167</td><td style=\"text-align: right;\"> 0.0119664 </td><td style=\"text-align: right;\">-0.00394805</td><td style=\"text-align: right;\">-0.0800501</td><td style=\"text-align: right;\"> 0.0858012  </td><td style=\"text-align: right;\"> 0.0307373 </td><td style=\"text-align: right;\"> 0.00218562</td><td style=\"text-align: right;\">-0.000662542</td><td style=\"text-align: right;\">-0.00386545</td><td style=\"text-align: right;\"> 0.0604293  </td><td style=\"text-align: right;\">-0.0504546</td><td style=\"text-align: right;\">-0.07093  </td><td style=\"text-align: right;\">-0.017511  </td><td style=\"text-align: right;\"> 0.0358582 </td><td style=\"text-align: right;\"> 0.0079239 </td><td style=\"text-align: right;\">-0.0709053</td><td style=\"text-align: right;\">-0.018678  </td><td style=\"text-align: right;\">0.124469 </td><td style=\"text-align: right;\"> 0.0834668 </td><td style=\"text-align: right;\">-0.0290309  </td><td style=\"text-align: right;\"> 0.00209855</td><td style=\"text-align: right;\"> 0.0372774</td><td style=\"text-align: right;\">0.277406 </td><td style=\"text-align: right;\">0.193089 </td><td style=\"text-align: right;\">-0.00895861</td><td style=\"text-align: right;\"> 0.105934 </td><td style=\"text-align: right;\"> 0.0741554</td><td style=\"text-align: right;\"> 0.192377 </td><td style=\"text-align: right;\">-0.120013  </td><td style=\"text-align: right;\"> 0.0945824  </td><td style=\"text-align: right;\">-0.211546 </td><td style=\"text-align: right;\"> 0.0596744</td><td style=\"text-align: right;\">-0.111372 </td><td style=\"text-align: right;\">0.204362 </td><td style=\"text-align: right;\">-0.0131879</td><td style=\"text-align: right;\">-0.0110769 </td><td style=\"text-align: right;\">-0.160502 </td><td style=\"text-align: right;\">-0.206832</td><td style=\"text-align: right;\">-0.141472 </td><td style=\"text-align: right;\">-0.0556505 </td><td style=\"text-align: right;\">-0.0855232</td><td style=\"text-align: right;\"> 0.0553871</td><td style=\"text-align: right;\">-0.243674 </td><td style=\"text-align: right;\"> 0.0285456</td><td style=\"text-align: right;\">0.124191 </td><td style=\"text-align: right;\"> 0.0624327</td><td style=\"text-align: right;\">-0.0737457  </td><td style=\"text-align: right;\">-0.011227  </td><td style=\"text-align: right;\">0.148811 </td><td style=\"text-align: right;\">0.249787 </td><td style=\"text-align: right;\">-0.0704852 </td><td style=\"text-align: right;\">-0.0431512</td><td style=\"text-align: right;\"> 0.10948   </td><td style=\"text-align: right;\">-0.0124599 </td><td style=\"text-align: right;\">-0.142763  </td><td style=\"text-align: right;\">-0.0795356 </td><td style=\"text-align: right;\">-0.0607897 </td><td style=\"text-align: right;\"> 0.0135234</td><td style=\"text-align: right;\">-0.166552 </td><td style=\"text-align: right;\"> 0.0571128 </td><td style=\"text-align: right;\"> 0.0119895 </td><td style=\"text-align: right;\"> 0.131682  </td><td style=\"text-align: right;\"> 0.000980417</td><td style=\"text-align: right;\"> 0.159171 </td><td style=\"text-align: right;\">-0.225794 </td><td style=\"text-align: right;\">-0.147501  </td><td style=\"text-align: right;\">-0.0144165</td><td style=\"text-align: right;\"> 0.0107936 </td><td style=\"text-align: right;\"> 0.0984911 </td><td style=\"text-align: right;\"> 0.0432145  </td><td style=\"text-align: right;\">-0.139134 </td><td style=\"text-align: right;\"> 0.0606408 </td><td style=\"text-align: right;\">-0.0689437 </td><td style=\"text-align: right;\">-0.0408606</td><td style=\"text-align: right;\">-0.0516044  </td><td style=\"text-align: right;\"> 0.0148526 </td><td style=\"text-align: right;\"> 0.0347569</td><td style=\"text-align: right;\"> 0.217592  </td><td style=\"text-align: right;\">-0.0244741</td><td style=\"text-align: right;\">-0.0918961 </td><td style=\"text-align: right;\">0.102329 </td><td style=\"text-align: right;\"> 0.0896256</td><td style=\"text-align: right;\"> 0.0495221 </td><td style=\"text-align: right;\">-0.122336  </td><td style=\"text-align: right;\">-0.0376527 </td><td style=\"text-align: right;\">-0.0529544  </td><td style=\"text-align: right;\">-0.064037 </td><td style=\"text-align: right;\">-0.119646 </td><td style=\"text-align: right;\">-0.0332537 </td><td style=\"text-align: right;\"> 0.0909311</td><td style=\"text-align: right;\">0.214938 </td></tr>\n",
       "<tr><td style=\"text-align: right;\"> 0.0891836</td><td style=\"text-align: right;\"> 0.110556   </td><td style=\"text-align: right;\"> 0.39981  </td><td style=\"text-align: right;\"> 0.0171123 </td><td style=\"text-align: right;\"> 0.00268777</td><td style=\"text-align: right;\"> 0.267136 </td><td style=\"text-align: right;\">-0.13007  </td><td style=\"text-align: right;\"> 0.113267 </td><td style=\"text-align: right;\">-0.0803775</td><td style=\"text-align: right;\"> 0.110864 </td><td style=\"text-align: right;\"> 0.100619  </td><td style=\"text-align: right;\"> 0.114242  </td><td style=\"text-align: right;\">-0.3649   </td><td style=\"text-align: right;\">-0.056776   </td><td style=\"text-align: right;\"> 0.207821  </td><td style=\"text-align: right;\"> 0.113397  </td><td style=\"text-align: right;\"> 0.0090371  </td><td style=\"text-align: right;\">-0.0836816 </td><td style=\"text-align: right;\"> 0.0990825  </td><td style=\"text-align: right;\">-0.0934518</td><td style=\"text-align: right;\">-0.124576 </td><td style=\"text-align: right;\"> 0.303526  </td><td style=\"text-align: right;\"> 0.134231  </td><td style=\"text-align: right;\"> 0.18507   </td><td style=\"text-align: right;\"> 0.0558419</td><td style=\"text-align: right;\"> 0.0563253 </td><td style=\"text-align: right;\">0.085238 </td><td style=\"text-align: right;\">-0.0333618 </td><td style=\"text-align: right;\"> 0.133737   </td><td style=\"text-align: right;\">-0.480016  </td><td style=\"text-align: right;\"> 0.218823 </td><td style=\"text-align: right;\">0.239319 </td><td style=\"text-align: right;\">0.0188469</td><td style=\"text-align: right;\">-0.152855  </td><td style=\"text-align: right;\"> 0.21925  </td><td style=\"text-align: right;\"> 0.137518 </td><td style=\"text-align: right;\"> 0.166162 </td><td style=\"text-align: right;\"> 0.0150033 </td><td style=\"text-align: right;\">-0.0189001  </td><td style=\"text-align: right;\">-0.297155 </td><td style=\"text-align: right;\">-0.0293188</td><td style=\"text-align: right;\"> 0.233927 </td><td style=\"text-align: right;\">0.0594883</td><td style=\"text-align: right;\"> 0.156898 </td><td style=\"text-align: right;\"> 0.0889076 </td><td style=\"text-align: right;\">-0.193182 </td><td style=\"text-align: right;\">-0.288378</td><td style=\"text-align: right;\">-0.165917 </td><td style=\"text-align: right;\"> 0.0641153 </td><td style=\"text-align: right;\">-0.330115 </td><td style=\"text-align: right;\">-0.0497795</td><td style=\"text-align: right;\">-0.389367 </td><td style=\"text-align: right;\">-0.151631 </td><td style=\"text-align: right;\">0.459167 </td><td style=\"text-align: right;\"> 0.014252 </td><td style=\"text-align: right;\"> 0.000867818</td><td style=\"text-align: right;\"> 0.0308975 </td><td style=\"text-align: right;\">0.377617 </td><td style=\"text-align: right;\">0.109031 </td><td style=\"text-align: right;\"> 0.232244  </td><td style=\"text-align: right;\">-0.222076 </td><td style=\"text-align: right;\">-0.00578241</td><td style=\"text-align: right;\"> 0.0711652 </td><td style=\"text-align: right;\">-0.204884  </td><td style=\"text-align: right;\"> 0.181404  </td><td style=\"text-align: right;\">-0.0452496 </td><td style=\"text-align: right;\">-0.159601 </td><td style=\"text-align: right;\">-0.230577 </td><td style=\"text-align: right;\"> 0.105337  </td><td style=\"text-align: right;\">-0.108182  </td><td style=\"text-align: right;\">-0.0180736 </td><td style=\"text-align: right;\"> 0.00904558 </td><td style=\"text-align: right;\">-0.0138125</td><td style=\"text-align: right;\">-0.0113865</td><td style=\"text-align: right;\"> 0.0197306 </td><td style=\"text-align: right;\"> 0.0254961</td><td style=\"text-align: right;\"> 0.0588524 </td><td style=\"text-align: right;\"> 0.0650093 </td><td style=\"text-align: right;\">-0.130682   </td><td style=\"text-align: right;\">-0.412352 </td><td style=\"text-align: right;\">-0.119799  </td><td style=\"text-align: right;\"> 0.175135  </td><td style=\"text-align: right;\">-0.0200946</td><td style=\"text-align: right;\">-0.120421   </td><td style=\"text-align: right;\"> 0.378579  </td><td style=\"text-align: right;\"> 0.0367399</td><td style=\"text-align: right;\"> 0.116075  </td><td style=\"text-align: right;\">-0.117243 </td><td style=\"text-align: right;\">-0.182904  </td><td style=\"text-align: right;\">0.215444 </td><td style=\"text-align: right;\">-0.0268089</td><td style=\"text-align: right;\"> 0.0178152 </td><td style=\"text-align: right;\">-0.18583   </td><td style=\"text-align: right;\"> 0.164244  </td><td style=\"text-align: right;\">-0.0512912  </td><td style=\"text-align: right;\">-0.42338  </td><td style=\"text-align: right;\"> 0.0913392</td><td style=\"text-align: right;\">-0.216356  </td><td style=\"text-align: right;\">-0.041906 </td><td style=\"text-align: right;\">0.304043 </td></tr>\n",
       "</tbody>\n",
       "</table>"
      ]
     },
     "metadata": {},
     "output_type": "display_data"
    },
    {
     "data": {
      "text/plain": []
     },
     "execution_count": 27,
     "metadata": {},
     "output_type": "execute_result"
    }
   ],
   "source": [
    "# Calculate a vector for each review\n",
    "review_vecs = w2v_model.transform(words, aggregate_method = \"AVERAGE\")\n",
    "review_vecs"
   ]
  },
  {
   "cell_type": "code",
   "execution_count": 28,
   "metadata": {},
   "outputs": [],
   "source": [
    "# Add aggregated word embeddings \n",
    "ext_reviews = reviews.cbind(review_vecs)"
   ]
  },
  {
   "cell_type": "code",
   "execution_count": 29,
   "metadata": {},
   "outputs": [
    {
     "data": {
      "text/html": [
       "<table>\n",
       "<thead>\n",
       "<tr><th>ProductId  </th><th>UserId        </th><th>Summary                     </th><th style=\"text-align: right;\">  Score</th><th style=\"text-align: right;\">  HelpfulnessDenominator</th><th style=\"text-align: right;\">    Id</th><th>ProfileName        </th><th style=\"text-align: right;\">  HelpfulnessNumerator</th><th style=\"text-align: right;\">       Time</th><th>Text                                                                                                                                                                                                                                                                                                                                                                            </th><th style=\"text-align: right;\">  PositiveReview</th><th>Train  </th><th style=\"text-align: right;\">        C1</th><th style=\"text-align: right;\">        C2</th><th style=\"text-align: right;\">        C3</th><th style=\"text-align: right;\">         C4</th><th style=\"text-align: right;\">       C5</th><th style=\"text-align: right;\">        C6</th><th style=\"text-align: right;\">        C7</th><th style=\"text-align: right;\">        C8</th><th style=\"text-align: right;\">        C9</th><th style=\"text-align: right;\">       C10</th><th style=\"text-align: right;\">       C11</th><th style=\"text-align: right;\">       C12</th><th style=\"text-align: right;\">       C13</th><th style=\"text-align: right;\">        C14</th><th style=\"text-align: right;\">        C15</th><th style=\"text-align: right;\">        C16</th><th style=\"text-align: right;\">       C17</th><th style=\"text-align: right;\">        C18</th><th style=\"text-align: right;\">        C19</th><th style=\"text-align: right;\">       C20</th><th style=\"text-align: right;\">       C21</th><th style=\"text-align: right;\">       C22</th><th style=\"text-align: right;\">        C23</th><th style=\"text-align: right;\">       C24</th><th style=\"text-align: right;\">      C25</th><th style=\"text-align: right;\">        C26</th><th style=\"text-align: right;\">      C27</th><th style=\"text-align: right;\">        C28</th><th style=\"text-align: right;\">        C29</th><th style=\"text-align: right;\">       C30</th><th style=\"text-align: right;\">      C31</th><th style=\"text-align: right;\">      C32</th><th style=\"text-align: right;\">     C33</th><th style=\"text-align: right;\">        C34</th><th style=\"text-align: right;\">       C35</th><th style=\"text-align: right;\">       C36</th><th style=\"text-align: right;\">       C37</th><th style=\"text-align: right;\">        C38</th><th style=\"text-align: right;\">         C39</th><th style=\"text-align: right;\">       C40</th><th style=\"text-align: right;\">      C41</th><th style=\"text-align: right;\">       C42</th><th style=\"text-align: right;\">     C43</th><th style=\"text-align: right;\">       C44</th><th style=\"text-align: right;\">       C45</th><th style=\"text-align: right;\">      C46</th><th style=\"text-align: right;\">      C47</th><th style=\"text-align: right;\">       C48</th><th style=\"text-align: right;\">       C49</th><th style=\"text-align: right;\">       C50</th><th style=\"text-align: right;\">      C51</th><th style=\"text-align: right;\">       C52</th><th style=\"text-align: right;\">       C53</th><th style=\"text-align: right;\">      C54</th><th style=\"text-align: right;\">       C55</th><th style=\"text-align: right;\">       C56</th><th style=\"text-align: right;\">       C57</th><th style=\"text-align: right;\">      C58</th><th style=\"text-align: right;\">     C59</th><th style=\"text-align: right;\">        C60</th><th style=\"text-align: right;\">      C61</th><th style=\"text-align: right;\">      C62</th><th style=\"text-align: right;\">       C63</th><th style=\"text-align: right;\">       C64</th><th style=\"text-align: right;\">       C65</th><th style=\"text-align: right;\">       C66</th><th style=\"text-align: right;\">       C67</th><th style=\"text-align: right;\">       C68</th><th style=\"text-align: right;\">      C69</th><th style=\"text-align: right;\">       C70</th><th style=\"text-align: right;\">        C71</th><th style=\"text-align: right;\">       C72</th><th style=\"text-align: right;\">      C73</th><th style=\"text-align: right;\">      C74</th><th style=\"text-align: right;\">       C75</th><th style=\"text-align: right;\">      C76</th><th style=\"text-align: right;\">        C77</th><th style=\"text-align: right;\">       C78</th><th style=\"text-align: right;\">        C79</th><th style=\"text-align: right;\">      C80</th><th style=\"text-align: right;\">      C81</th><th style=\"text-align: right;\">        C82</th><th style=\"text-align: right;\">       C83</th><th style=\"text-align: right;\">        C84</th><th style=\"text-align: right;\">        C85</th><th style=\"text-align: right;\">       C86</th><th style=\"text-align: right;\">       C87</th><th style=\"text-align: right;\">     C88</th><th style=\"text-align: right;\">        C89</th><th style=\"text-align: right;\">      C90</th><th style=\"text-align: right;\">       C91</th><th style=\"text-align: right;\">      C92</th><th style=\"text-align: right;\">       C93</th><th style=\"text-align: right;\">       C94</th><th style=\"text-align: right;\">         C95</th><th style=\"text-align: right;\">      C96</th><th style=\"text-align: right;\">       C97</th><th style=\"text-align: right;\">       C98</th><th style=\"text-align: right;\">       C99</th><th style=\"text-align: right;\">    C100</th></tr>\n",
       "</thead>\n",
       "<tbody>\n",
       "<tr><td>B00141QYSQ </td><td>A1YS02UZZGRDCT</td><td>Do Not Buy                  </td><td style=\"text-align: right;\">      1</td><td style=\"text-align: right;\">                       2</td><td style=\"text-align: right;\"> 41471</td><td>Evan Eberhardt     </td><td style=\"text-align: right;\">                     2</td><td style=\"text-align: right;\">1.34836e+09</td><td>These are made in China (do not buy ANY pet food from China).  Dogswell has been using propylene glycol to soften their treats (what are they thinkng?).  Do not purchase or support this company in any way until they clean up their act.  And for whatever reason Amazon doesn't allow returns of this item, so I had to toss mine out.  Bad business all around on this one.</td><td style=\"text-align: right;\">               0</td><td>No     </td><td style=\"text-align: right;\"> 0.0410499</td><td style=\"text-align: right;\">-0.146204 </td><td style=\"text-align: right;\">-0.285427 </td><td style=\"text-align: right;\"> 0.0254471 </td><td style=\"text-align: right;\">0.117685 </td><td style=\"text-align: right;\">-0.0448131</td><td style=\"text-align: right;\">-0.0521254</td><td style=\"text-align: right;\">-0.122815 </td><td style=\"text-align: right;\"> 0.0376127</td><td style=\"text-align: right;\"> 0.0109521</td><td style=\"text-align: right;\">-0.102133 </td><td style=\"text-align: right;\">-0.0486561</td><td style=\"text-align: right;\">-0.0621305</td><td style=\"text-align: right;\">-0.00975907</td><td style=\"text-align: right;\">-0.00570562</td><td style=\"text-align: right;\">-0.180623  </td><td style=\"text-align: right;\">-0.020774 </td><td style=\"text-align: right;\">-0.0411431 </td><td style=\"text-align: right;\">-0.0147853 </td><td style=\"text-align: right;\">-0.0971181</td><td style=\"text-align: right;\">-0.0159122</td><td style=\"text-align: right;\">-0.0193051</td><td style=\"text-align: right;\"> 0.00314792</td><td style=\"text-align: right;\"> 0.0954248</td><td style=\"text-align: right;\">0.116065 </td><td style=\"text-align: right;\"> 0.140936  </td><td style=\"text-align: right;\">0.116127 </td><td style=\"text-align: right;\">-0.00374543</td><td style=\"text-align: right;\">-0.215285  </td><td style=\"text-align: right;\">-0.0270248</td><td style=\"text-align: right;\">0.0119914</td><td style=\"text-align: right;\">0.247401 </td><td style=\"text-align: right;\">0.183703</td><td style=\"text-align: right;\"> 0.0868549 </td><td style=\"text-align: right;\"> 0.0103296</td><td style=\"text-align: right;\"> 0.0208145</td><td style=\"text-align: right;\"> 0.122103 </td><td style=\"text-align: right;\">-0.0928743 </td><td style=\"text-align: right;\">-0.0100389  </td><td style=\"text-align: right;\">-0.11856  </td><td style=\"text-align: right;\">0.186428 </td><td style=\"text-align: right;\">-0.163182 </td><td style=\"text-align: right;\">0.149529</td><td style=\"text-align: right;\">-0.0539655</td><td style=\"text-align: right;\"> 0.0085114</td><td style=\"text-align: right;\">-0.141806</td><td style=\"text-align: right;\">-0.224711</td><td style=\"text-align: right;\">-0.0691101</td><td style=\"text-align: right;\">-0.0657561</td><td style=\"text-align: right;\">-0.0169354</td><td style=\"text-align: right;\">0.150188 </td><td style=\"text-align: right;\">-0.0732323</td><td style=\"text-align: right;\">-0.0405487</td><td style=\"text-align: right;\">0.0943669</td><td style=\"text-align: right;\">-0.0395443</td><td style=\"text-align: right;\">-0.0328437</td><td style=\"text-align: right;\">-0.0313897</td><td style=\"text-align: right;\">0.111981 </td><td style=\"text-align: right;\">0.244707</td><td style=\"text-align: right;\"> 0.00756712</td><td style=\"text-align: right;\">-0.280116</td><td style=\"text-align: right;\">0.249046 </td><td style=\"text-align: right;\">-0.0632348</td><td style=\"text-align: right;\">-0.201192 </td><td style=\"text-align: right;\"> 0.0891857</td><td style=\"text-align: right;\">-0.113636 </td><td style=\"text-align: right;\">-0.0861205</td><td style=\"text-align: right;\"> 0.0403625</td><td style=\"text-align: right;\">0.0984312</td><td style=\"text-align: right;\"> 0.0624902</td><td style=\"text-align: right;\"> 0.00508377</td><td style=\"text-align: right;\">-0.122918 </td><td style=\"text-align: right;\">0.0713066</td><td style=\"text-align: right;\">-0.156134</td><td style=\"text-align: right;\">-0.12461  </td><td style=\"text-align: right;\">0.0667455</td><td style=\"text-align: right;\">-0.0425776 </td><td style=\"text-align: right;\">0.00643421</td><td style=\"text-align: right;\">0.117664   </td><td style=\"text-align: right;\">-0.148929</td><td style=\"text-align: right;\">0.0787482</td><td style=\"text-align: right;\">-0.0875336 </td><td style=\"text-align: right;\"> 0.106674 </td><td style=\"text-align: right;\">-0.00888346</td><td style=\"text-align: right;\"> 0.00183531</td><td style=\"text-align: right;\"> 0.0121721</td><td style=\"text-align: right;\"> 0.0960461</td><td style=\"text-align: right;\">0.108515</td><td style=\"text-align: right;\">-0.00934751</td><td style=\"text-align: right;\">0.0343095</td><td style=\"text-align: right;\">-0.0163497</td><td style=\"text-align: right;\">0.0758473</td><td style=\"text-align: right;\">-0.0762475</td><td style=\"text-align: right;\"> 0.0400815</td><td style=\"text-align: right;\">-0.0198935  </td><td style=\"text-align: right;\">-0.179636</td><td style=\"text-align: right;\"> 0.04466  </td><td style=\"text-align: right;\">-0.0747715</td><td style=\"text-align: right;\">-0.051563 </td><td style=\"text-align: right;\">0.086337</td></tr>\n",
       "<tr><td>B0089SPEO2 </td><td>A3JOYNYL458QHP</td><td>Less lemon and less zing    </td><td style=\"text-align: right;\">      3</td><td style=\"text-align: right;\">                       0</td><td style=\"text-align: right;\"> 28582</td><td>coleridge          </td><td style=\"text-align: right;\">                     0</td><td style=\"text-align: right;\">1.32391e+09</td><td>Everything is ok, except it just isn't as good as it is in the bags.  Just considerably more bland -- less lemon and less zing.  Boring.                                                                                                                                                                                                                                        </td><td style=\"text-align: right;\">               0</td><td>Yes    </td><td style=\"text-align: right;\">-0.0168731</td><td style=\"text-align: right;\"> 0.205152 </td><td style=\"text-align: right;\"> 0.0178846</td><td style=\"text-align: right;\">-0.00401017</td><td style=\"text-align: right;\">0.186377 </td><td style=\"text-align: right;\"> 0.0609719</td><td style=\"text-align: right;\">-0.0516552</td><td style=\"text-align: right;\">-0.146039 </td><td style=\"text-align: right;\">-0.10241  </td><td style=\"text-align: right;\">-0.002283 </td><td style=\"text-align: right;\">-0.022299 </td><td style=\"text-align: right;\">-0.0561087</td><td style=\"text-align: right;\"> 0.059518 </td><td style=\"text-align: right;\">-0.0687224 </td><td style=\"text-align: right;\">-0.0222154 </td><td style=\"text-align: right;\">-0.056836  </td><td style=\"text-align: right;\"> 0.140548 </td><td style=\"text-align: right;\">-0.00527059</td><td style=\"text-align: right;\">-0.0311035 </td><td style=\"text-align: right;\"> 0.0584353</td><td style=\"text-align: right;\"> 0.13725  </td><td style=\"text-align: right;\"> 0.143233 </td><td style=\"text-align: right;\">-0.048869  </td><td style=\"text-align: right;\">-0.0309075</td><td style=\"text-align: right;\">0.0710254</td><td style=\"text-align: right;\">-0.0930747 </td><td style=\"text-align: right;\">0.0651379</td><td style=\"text-align: right;\"> 0.112067  </td><td style=\"text-align: right;\"> 0.104425  </td><td style=\"text-align: right;\">-0.083902 </td><td style=\"text-align: right;\">0.122894 </td><td style=\"text-align: right;\">0.0849256</td><td style=\"text-align: right;\">0.237759</td><td style=\"text-align: right;\"> 0.00813777</td><td style=\"text-align: right;\">-0.02785  </td><td style=\"text-align: right;\"> 0.0416097</td><td style=\"text-align: right;\">-0.0274384</td><td style=\"text-align: right;\">-0.105021  </td><td style=\"text-align: right;\"> 0.000200458</td><td style=\"text-align: right;\">-0.279208 </td><td style=\"text-align: right;\">0.182049 </td><td style=\"text-align: right;\"> 0.0156211</td><td style=\"text-align: right;\">0.232548</td><td style=\"text-align: right;\">-0.0410957</td><td style=\"text-align: right;\">-0.0394131</td><td style=\"text-align: right;\">-0.119328</td><td style=\"text-align: right;\">-0.139742</td><td style=\"text-align: right;\">-0.0800661</td><td style=\"text-align: right;\">-0.114642 </td><td style=\"text-align: right;\">-0.0899811</td><td style=\"text-align: right;\">0.0299466</td><td style=\"text-align: right;\">-0.266682 </td><td style=\"text-align: right;\"> 0.0116383</td><td style=\"text-align: right;\">0.235033 </td><td style=\"text-align: right;\"> 0.0166786</td><td style=\"text-align: right;\">-0.0832042</td><td style=\"text-align: right;\"> 0.107546 </td><td style=\"text-align: right;\">0.0669999</td><td style=\"text-align: right;\">0.204786</td><td style=\"text-align: right;\"> 0.155993  </td><td style=\"text-align: right;\">-0.192578</td><td style=\"text-align: right;\">0.0450506</td><td style=\"text-align: right;\">-0.0932742</td><td style=\"text-align: right;\">-0.0258353</td><td style=\"text-align: right;\"> 0.0131895</td><td style=\"text-align: right;\"> 0.0182733</td><td style=\"text-align: right;\">-0.078868 </td><td style=\"text-align: right;\">-0.18508  </td><td style=\"text-align: right;\">0.0709706</td><td style=\"text-align: right;\">-0.0838733</td><td style=\"text-align: right;\">-0.0803538 </td><td style=\"text-align: right;\"> 0.042668 </td><td style=\"text-align: right;\">0.166175 </td><td style=\"text-align: right;\">-0.172344</td><td style=\"text-align: right;\"> 0.0344755</td><td style=\"text-align: right;\">0.0963614</td><td style=\"text-align: right;\">-0.00450752</td><td style=\"text-align: right;\">0.0286235 </td><td style=\"text-align: right;\">0.0173997  </td><td style=\"text-align: right;\">-0.222903</td><td style=\"text-align: right;\">0.0598912</td><td style=\"text-align: right;\"> 0.00692643</td><td style=\"text-align: right;\">-0.0550072</td><td style=\"text-align: right;\"> 0.0250324 </td><td style=\"text-align: right;\">-0.037459  </td><td style=\"text-align: right;\">-0.0218965</td><td style=\"text-align: right;\">-0.0404033</td><td style=\"text-align: right;\">0.127231</td><td style=\"text-align: right;\">-0.0254501 </td><td style=\"text-align: right;\">0.173607 </td><td style=\"text-align: right;\">-0.0308788</td><td style=\"text-align: right;\">0.0493804</td><td style=\"text-align: right;\">-0.078108 </td><td style=\"text-align: right;\">-0.0384999</td><td style=\"text-align: right;\"> 0.000911163</td><td style=\"text-align: right;\">-0.17991 </td><td style=\"text-align: right;\">-0.168636 </td><td style=\"text-align: right;\">-0.134576 </td><td style=\"text-align: right;\"> 0.014041 </td><td style=\"text-align: right;\">0.110885</td></tr>\n",
       "<tr><td>B001PMCDK2 </td><td>A14TTMM0Z03Y2W</td><td>my cat goes crazy for these!</td><td style=\"text-align: right;\">      5</td><td style=\"text-align: right;\">                       0</td><td style=\"text-align: right;\">389965</td><td>Lindsay S. Bradford</td><td style=\"text-align: right;\">                     0</td><td style=\"text-align: right;\">1.3106e+09 </td><td>Best cat treat ever. There isn't anything comparable to the love my cat has for these treats, he snubs away any other kind now.<br />I know he likes to manipulate me with his cattiness but these treats are my way of manipulating him to come sit on my lap and have some chill time. :)                                                                                     </td><td style=\"text-align: right;\">               1</td><td>Yes    </td><td style=\"text-align: right;\"> 0.0912552</td><td style=\"text-align: right;\">-0.0270904</td><td style=\"text-align: right;\">-0.105998 </td><td style=\"text-align: right;\"> 0.117295  </td><td style=\"text-align: right;\">0.0426804</td><td style=\"text-align: right;\">-0.0201742</td><td style=\"text-align: right;\">-0.0602782</td><td style=\"text-align: right;\"> 0.0473378</td><td style=\"text-align: right;\"> 0.0295703</td><td style=\"text-align: right;\">-0.0118265</td><td style=\"text-align: right;\">-0.0968422</td><td style=\"text-align: right;\">-0.0164974</td><td style=\"text-align: right;\">-0.0199767</td><td style=\"text-align: right;\"> 0.106042  </td><td style=\"text-align: right;\">-0.0378111 </td><td style=\"text-align: right;\">-0.00356926</td><td style=\"text-align: right;\"> 0.0359349</td><td style=\"text-align: right;\">-0.0219406 </td><td style=\"text-align: right;\"> 0.00714618</td><td style=\"text-align: right;\">-0.0624658</td><td style=\"text-align: right;\">-0.0283937</td><td style=\"text-align: right;\"> 0.0175243</td><td style=\"text-align: right;\">-0.0536904 </td><td style=\"text-align: right;\"> 0.0910684</td><td style=\"text-align: right;\">0.0705079</td><td style=\"text-align: right;\">-0.00438208</td><td style=\"text-align: right;\">0.0764417</td><td style=\"text-align: right;\">-0.023922  </td><td style=\"text-align: right;\"> 0.00313756</td><td style=\"text-align: right;\">-0.023761 </td><td style=\"text-align: right;\">0.0115935</td><td style=\"text-align: right;\">0.162139 </td><td style=\"text-align: right;\">0.230323</td><td style=\"text-align: right;\">-0.00402018</td><td style=\"text-align: right;\">-0.0225697</td><td style=\"text-align: right;\">-0.0798728</td><td style=\"text-align: right;\"> 0.0338326</td><td style=\"text-align: right;\">-0.00579746</td><td style=\"text-align: right;\"> 0.0887428  </td><td style=\"text-align: right;\">-0.0734863</td><td style=\"text-align: right;\">0.0442663</td><td style=\"text-align: right;\">-0.136482 </td><td style=\"text-align: right;\">0.234298</td><td style=\"text-align: right;\">-0.0323383</td><td style=\"text-align: right;\">-0.10865  </td><td style=\"text-align: right;\">-0.203888</td><td style=\"text-align: right;\">-0.126513</td><td style=\"text-align: right;\">-0.0637946</td><td style=\"text-align: right;\">-0.02811  </td><td style=\"text-align: right;\">-0.0212629</td><td style=\"text-align: right;\">0.134549 </td><td style=\"text-align: right;\">-0.251012 </td><td style=\"text-align: right;\"> 0.0506457</td><td style=\"text-align: right;\">0.0595697</td><td style=\"text-align: right;\">-0.0397004</td><td style=\"text-align: right;\">-0.0316828</td><td style=\"text-align: right;\">-0.0702738</td><td style=\"text-align: right;\">0.0479181</td><td style=\"text-align: right;\">0.102396</td><td style=\"text-align: right;\">-0.00698299</td><td style=\"text-align: right;\">-0.190544</td><td style=\"text-align: right;\">0.220229 </td><td style=\"text-align: right;\">-0.0110431</td><td style=\"text-align: right;\">-0.106953 </td><td style=\"text-align: right;\">-0.10391  </td><td style=\"text-align: right;\"> 0.0218054</td><td style=\"text-align: right;\">-0.125348 </td><td style=\"text-align: right;\">-0.14713  </td><td style=\"text-align: right;\">0.129716 </td><td style=\"text-align: right;\">-0.0167192</td><td style=\"text-align: right;\"> 0.124648  </td><td style=\"text-align: right;\">-0.0890766</td><td style=\"text-align: right;\">0.204822 </td><td style=\"text-align: right;\">-0.196557</td><td style=\"text-align: right;\">-0.157732 </td><td style=\"text-align: right;\">0.0761307</td><td style=\"text-align: right;\"> 0.0466672 </td><td style=\"text-align: right;\">0.0122299 </td><td style=\"text-align: right;\">0.000125276</td><td style=\"text-align: right;\">-0.208611</td><td style=\"text-align: right;\">0.0923396</td><td style=\"text-align: right;\">-0.0229839 </td><td style=\"text-align: right;\"> 0.0148204</td><td style=\"text-align: right;\">-0.0100454 </td><td style=\"text-align: right;\">-0.14896   </td><td style=\"text-align: right;\">-0.0652911</td><td style=\"text-align: right;\"> 0.232896 </td><td style=\"text-align: right;\">0.141152</td><td style=\"text-align: right;\">-0.0368149 </td><td style=\"text-align: right;\">0.0577446</td><td style=\"text-align: right;\"> 0.0432447</td><td style=\"text-align: right;\">0.147477 </td><td style=\"text-align: right;\">-0.115366 </td><td style=\"text-align: right;\"> 0.0207088</td><td style=\"text-align: right;\">-0.0897639  </td><td style=\"text-align: right;\">-0.145678</td><td style=\"text-align: right;\"> 0.0167911</td><td style=\"text-align: right;\">-0.155149 </td><td style=\"text-align: right;\"> 0.0189327</td><td style=\"text-align: right;\">0.157371</td></tr>\n",
       "</tbody>\n",
       "</table>"
      ]
     },
     "metadata": {},
     "output_type": "display_data"
    },
    {
     "data": {
      "text/plain": []
     },
     "execution_count": 29,
     "metadata": {},
     "output_type": "execute_result"
    }
   ],
   "source": [
    "ext_reviews.head(3)"
   ]
  },
  {
   "cell_type": "markdown",
   "metadata": {},
   "source": [
    "## 1.5 Add Summary Column"
   ]
  },
  {
   "cell_type": "code",
   "execution_count": 31,
   "metadata": {},
   "outputs": [],
   "source": [
    "# Break summaries into sequence of word.\n",
    "summary_words = tokenize(reviews['Summary'].ascharacter())"
   ]
  },
  {
   "cell_type": "code",
   "execution_count": 32,
   "metadata": {},
   "outputs": [],
   "source": [
    "summary_vecs = w2v_model.transform(summary_words, aggregate_method='AVERAGE')\n",
    "summary_vecs.names = ['summary_'+ s for s in summary_vecs.names]\n",
    "\n",
    "ext_reviews_new = ext_reviews.cbind(summary_vecs)"
   ]
  },
  {
   "cell_type": "code",
   "execution_count": 33,
   "metadata": {},
   "outputs": [
    {
     "data": {
      "text/html": [
       "<table>\n",
       "<thead>\n",
       "<tr><th>ProductId  </th><th>UserId        </th><th>Summary                     </th><th style=\"text-align: right;\">  Score</th><th style=\"text-align: right;\">  HelpfulnessDenominator</th><th style=\"text-align: right;\">    Id</th><th>ProfileName        </th><th style=\"text-align: right;\">  HelpfulnessNumerator</th><th style=\"text-align: right;\">       Time</th><th>Text                                                                                                                                                                                                                                                                                                                                                                            </th><th style=\"text-align: right;\">  PositiveReview</th><th>Train  </th><th style=\"text-align: right;\">        C1</th><th style=\"text-align: right;\">        C2</th><th style=\"text-align: right;\">        C3</th><th style=\"text-align: right;\">         C4</th><th style=\"text-align: right;\">       C5</th><th style=\"text-align: right;\">        C6</th><th style=\"text-align: right;\">        C7</th><th style=\"text-align: right;\">        C8</th><th style=\"text-align: right;\">        C9</th><th style=\"text-align: right;\">       C10</th><th style=\"text-align: right;\">       C11</th><th style=\"text-align: right;\">       C12</th><th style=\"text-align: right;\">       C13</th><th style=\"text-align: right;\">        C14</th><th style=\"text-align: right;\">        C15</th><th style=\"text-align: right;\">        C16</th><th style=\"text-align: right;\">       C17</th><th style=\"text-align: right;\">        C18</th><th style=\"text-align: right;\">        C19</th><th style=\"text-align: right;\">       C20</th><th style=\"text-align: right;\">       C21</th><th style=\"text-align: right;\">       C22</th><th style=\"text-align: right;\">        C23</th><th style=\"text-align: right;\">       C24</th><th style=\"text-align: right;\">      C25</th><th style=\"text-align: right;\">        C26</th><th style=\"text-align: right;\">      C27</th><th style=\"text-align: right;\">        C28</th><th style=\"text-align: right;\">        C29</th><th style=\"text-align: right;\">       C30</th><th style=\"text-align: right;\">      C31</th><th style=\"text-align: right;\">      C32</th><th style=\"text-align: right;\">     C33</th><th style=\"text-align: right;\">        C34</th><th style=\"text-align: right;\">       C35</th><th style=\"text-align: right;\">       C36</th><th style=\"text-align: right;\">       C37</th><th style=\"text-align: right;\">        C38</th><th style=\"text-align: right;\">         C39</th><th style=\"text-align: right;\">       C40</th><th style=\"text-align: right;\">      C41</th><th style=\"text-align: right;\">       C42</th><th style=\"text-align: right;\">     C43</th><th style=\"text-align: right;\">       C44</th><th style=\"text-align: right;\">       C45</th><th style=\"text-align: right;\">      C46</th><th style=\"text-align: right;\">      C47</th><th style=\"text-align: right;\">       C48</th><th style=\"text-align: right;\">       C49</th><th style=\"text-align: right;\">       C50</th><th style=\"text-align: right;\">      C51</th><th style=\"text-align: right;\">       C52</th><th style=\"text-align: right;\">       C53</th><th style=\"text-align: right;\">      C54</th><th style=\"text-align: right;\">       C55</th><th style=\"text-align: right;\">       C56</th><th style=\"text-align: right;\">       C57</th><th style=\"text-align: right;\">      C58</th><th style=\"text-align: right;\">     C59</th><th style=\"text-align: right;\">        C60</th><th style=\"text-align: right;\">      C61</th><th style=\"text-align: right;\">      C62</th><th style=\"text-align: right;\">       C63</th><th style=\"text-align: right;\">       C64</th><th style=\"text-align: right;\">       C65</th><th style=\"text-align: right;\">       C66</th><th style=\"text-align: right;\">       C67</th><th style=\"text-align: right;\">       C68</th><th style=\"text-align: right;\">      C69</th><th style=\"text-align: right;\">       C70</th><th style=\"text-align: right;\">        C71</th><th style=\"text-align: right;\">       C72</th><th style=\"text-align: right;\">      C73</th><th style=\"text-align: right;\">      C74</th><th style=\"text-align: right;\">       C75</th><th style=\"text-align: right;\">      C76</th><th style=\"text-align: right;\">        C77</th><th style=\"text-align: right;\">       C78</th><th style=\"text-align: right;\">        C79</th><th style=\"text-align: right;\">      C80</th><th style=\"text-align: right;\">      C81</th><th style=\"text-align: right;\">        C82</th><th style=\"text-align: right;\">       C83</th><th style=\"text-align: right;\">        C84</th><th style=\"text-align: right;\">        C85</th><th style=\"text-align: right;\">       C86</th><th style=\"text-align: right;\">       C87</th><th style=\"text-align: right;\">     C88</th><th style=\"text-align: right;\">        C89</th><th style=\"text-align: right;\">      C90</th><th style=\"text-align: right;\">       C91</th><th style=\"text-align: right;\">      C92</th><th style=\"text-align: right;\">       C93</th><th style=\"text-align: right;\">       C94</th><th style=\"text-align: right;\">         C95</th><th style=\"text-align: right;\">      C96</th><th style=\"text-align: right;\">       C97</th><th style=\"text-align: right;\">       C98</th><th style=\"text-align: right;\">       C99</th><th style=\"text-align: right;\">    C100</th><th style=\"text-align: right;\">  summary_C1</th><th style=\"text-align: right;\">  summary_C2</th><th style=\"text-align: right;\">  summary_C3</th><th style=\"text-align: right;\">  summary_C4</th><th style=\"text-align: right;\">  summary_C5</th><th style=\"text-align: right;\">  summary_C6</th><th style=\"text-align: right;\">  summary_C7</th><th style=\"text-align: right;\">  summary_C8</th><th style=\"text-align: right;\">  summary_C9</th><th style=\"text-align: right;\">  summary_C10</th><th style=\"text-align: right;\">  summary_C11</th><th style=\"text-align: right;\">  summary_C12</th><th style=\"text-align: right;\">  summary_C13</th><th style=\"text-align: right;\">  summary_C14</th><th style=\"text-align: right;\">  summary_C15</th><th style=\"text-align: right;\">  summary_C16</th><th style=\"text-align: right;\">  summary_C17</th><th style=\"text-align: right;\">  summary_C18</th><th style=\"text-align: right;\">  summary_C19</th><th style=\"text-align: right;\">  summary_C20</th><th style=\"text-align: right;\">  summary_C21</th><th style=\"text-align: right;\">  summary_C22</th><th style=\"text-align: right;\">  summary_C23</th><th style=\"text-align: right;\">  summary_C24</th><th style=\"text-align: right;\">  summary_C25</th><th style=\"text-align: right;\">  summary_C26</th><th style=\"text-align: right;\">  summary_C27</th><th style=\"text-align: right;\">  summary_C28</th><th style=\"text-align: right;\">  summary_C29</th><th style=\"text-align: right;\">  summary_C30</th><th style=\"text-align: right;\">  summary_C31</th><th style=\"text-align: right;\">  summary_C32</th><th style=\"text-align: right;\">  summary_C33</th><th style=\"text-align: right;\">  summary_C34</th><th style=\"text-align: right;\">  summary_C35</th><th style=\"text-align: right;\">  summary_C36</th><th style=\"text-align: right;\">  summary_C37</th><th style=\"text-align: right;\">  summary_C38</th><th style=\"text-align: right;\">  summary_C39</th><th style=\"text-align: right;\">  summary_C40</th><th style=\"text-align: right;\">  summary_C41</th><th style=\"text-align: right;\">  summary_C42</th><th style=\"text-align: right;\">  summary_C43</th><th style=\"text-align: right;\">  summary_C44</th><th style=\"text-align: right;\">  summary_C45</th><th style=\"text-align: right;\">  summary_C46</th><th style=\"text-align: right;\">  summary_C47</th><th style=\"text-align: right;\">  summary_C48</th><th style=\"text-align: right;\">  summary_C49</th><th style=\"text-align: right;\">  summary_C50</th><th style=\"text-align: right;\">  summary_C51</th><th style=\"text-align: right;\">  summary_C52</th><th style=\"text-align: right;\">  summary_C53</th><th style=\"text-align: right;\">  summary_C54</th><th style=\"text-align: right;\">  summary_C55</th><th style=\"text-align: right;\">  summary_C56</th><th style=\"text-align: right;\">  summary_C57</th><th style=\"text-align: right;\">  summary_C58</th><th style=\"text-align: right;\">  summary_C59</th><th style=\"text-align: right;\">  summary_C60</th><th style=\"text-align: right;\">  summary_C61</th><th style=\"text-align: right;\">  summary_C62</th><th style=\"text-align: right;\">  summary_C63</th><th style=\"text-align: right;\">  summary_C64</th><th style=\"text-align: right;\">  summary_C65</th><th style=\"text-align: right;\">  summary_C66</th><th style=\"text-align: right;\">  summary_C67</th><th style=\"text-align: right;\">  summary_C68</th><th style=\"text-align: right;\">  summary_C69</th><th style=\"text-align: right;\">  summary_C70</th><th style=\"text-align: right;\">  summary_C71</th><th style=\"text-align: right;\">  summary_C72</th><th style=\"text-align: right;\">  summary_C73</th><th style=\"text-align: right;\">  summary_C74</th><th style=\"text-align: right;\">  summary_C75</th><th style=\"text-align: right;\">  summary_C76</th><th style=\"text-align: right;\">  summary_C77</th><th style=\"text-align: right;\">  summary_C78</th><th style=\"text-align: right;\">  summary_C79</th><th style=\"text-align: right;\">  summary_C80</th><th style=\"text-align: right;\">  summary_C81</th><th style=\"text-align: right;\">  summary_C82</th><th style=\"text-align: right;\">  summary_C83</th><th style=\"text-align: right;\">  summary_C84</th><th style=\"text-align: right;\">  summary_C85</th><th style=\"text-align: right;\">  summary_C86</th><th style=\"text-align: right;\">  summary_C87</th><th style=\"text-align: right;\">  summary_C88</th></tr>\n",
       "</thead>\n",
       "<tbody>\n",
       "<tr><td>B00141QYSQ </td><td>A1YS02UZZGRDCT</td><td>Do Not Buy                  </td><td style=\"text-align: right;\">      1</td><td style=\"text-align: right;\">                       2</td><td style=\"text-align: right;\"> 41471</td><td>Evan Eberhardt     </td><td style=\"text-align: right;\">                     2</td><td style=\"text-align: right;\">1.34836e+09</td><td>These are made in China (do not buy ANY pet food from China).  Dogswell has been using propylene glycol to soften their treats (what are they thinkng?).  Do not purchase or support this company in any way until they clean up their act.  And for whatever reason Amazon doesn't allow returns of this item, so I had to toss mine out.  Bad business all around on this one.</td><td style=\"text-align: right;\">               0</td><td>No     </td><td style=\"text-align: right;\"> 0.0410499</td><td style=\"text-align: right;\">-0.146204 </td><td style=\"text-align: right;\">-0.285427 </td><td style=\"text-align: right;\"> 0.0254471 </td><td style=\"text-align: right;\">0.117685 </td><td style=\"text-align: right;\">-0.0448131</td><td style=\"text-align: right;\">-0.0521254</td><td style=\"text-align: right;\">-0.122815 </td><td style=\"text-align: right;\"> 0.0376127</td><td style=\"text-align: right;\"> 0.0109521</td><td style=\"text-align: right;\">-0.102133 </td><td style=\"text-align: right;\">-0.0486561</td><td style=\"text-align: right;\">-0.0621305</td><td style=\"text-align: right;\">-0.00975907</td><td style=\"text-align: right;\">-0.00570562</td><td style=\"text-align: right;\">-0.180623  </td><td style=\"text-align: right;\">-0.020774 </td><td style=\"text-align: right;\">-0.0411431 </td><td style=\"text-align: right;\">-0.0147853 </td><td style=\"text-align: right;\">-0.0971181</td><td style=\"text-align: right;\">-0.0159122</td><td style=\"text-align: right;\">-0.0193051</td><td style=\"text-align: right;\"> 0.00314792</td><td style=\"text-align: right;\"> 0.0954248</td><td style=\"text-align: right;\">0.116065 </td><td style=\"text-align: right;\"> 0.140936  </td><td style=\"text-align: right;\">0.116127 </td><td style=\"text-align: right;\">-0.00374543</td><td style=\"text-align: right;\">-0.215285  </td><td style=\"text-align: right;\">-0.0270248</td><td style=\"text-align: right;\">0.0119914</td><td style=\"text-align: right;\">0.247401 </td><td style=\"text-align: right;\">0.183703</td><td style=\"text-align: right;\"> 0.0868549 </td><td style=\"text-align: right;\"> 0.0103296</td><td style=\"text-align: right;\"> 0.0208145</td><td style=\"text-align: right;\"> 0.122103 </td><td style=\"text-align: right;\">-0.0928743 </td><td style=\"text-align: right;\">-0.0100389  </td><td style=\"text-align: right;\">-0.11856  </td><td style=\"text-align: right;\">0.186428 </td><td style=\"text-align: right;\">-0.163182 </td><td style=\"text-align: right;\">0.149529</td><td style=\"text-align: right;\">-0.0539655</td><td style=\"text-align: right;\"> 0.0085114</td><td style=\"text-align: right;\">-0.141806</td><td style=\"text-align: right;\">-0.224711</td><td style=\"text-align: right;\">-0.0691101</td><td style=\"text-align: right;\">-0.0657561</td><td style=\"text-align: right;\">-0.0169354</td><td style=\"text-align: right;\">0.150188 </td><td style=\"text-align: right;\">-0.0732323</td><td style=\"text-align: right;\">-0.0405487</td><td style=\"text-align: right;\">0.0943669</td><td style=\"text-align: right;\">-0.0395443</td><td style=\"text-align: right;\">-0.0328437</td><td style=\"text-align: right;\">-0.0313897</td><td style=\"text-align: right;\">0.111981 </td><td style=\"text-align: right;\">0.244707</td><td style=\"text-align: right;\"> 0.00756712</td><td style=\"text-align: right;\">-0.280116</td><td style=\"text-align: right;\">0.249046 </td><td style=\"text-align: right;\">-0.0632348</td><td style=\"text-align: right;\">-0.201192 </td><td style=\"text-align: right;\"> 0.0891857</td><td style=\"text-align: right;\">-0.113636 </td><td style=\"text-align: right;\">-0.0861205</td><td style=\"text-align: right;\"> 0.0403625</td><td style=\"text-align: right;\">0.0984312</td><td style=\"text-align: right;\"> 0.0624902</td><td style=\"text-align: right;\"> 0.00508377</td><td style=\"text-align: right;\">-0.122918 </td><td style=\"text-align: right;\">0.0713066</td><td style=\"text-align: right;\">-0.156134</td><td style=\"text-align: right;\">-0.12461  </td><td style=\"text-align: right;\">0.0667455</td><td style=\"text-align: right;\">-0.0425776 </td><td style=\"text-align: right;\">0.00643421</td><td style=\"text-align: right;\">0.117664   </td><td style=\"text-align: right;\">-0.148929</td><td style=\"text-align: right;\">0.0787482</td><td style=\"text-align: right;\">-0.0875336 </td><td style=\"text-align: right;\"> 0.106674 </td><td style=\"text-align: right;\">-0.00888346</td><td style=\"text-align: right;\"> 0.00183531</td><td style=\"text-align: right;\"> 0.0121721</td><td style=\"text-align: right;\"> 0.0960461</td><td style=\"text-align: right;\">0.108515</td><td style=\"text-align: right;\">-0.00934751</td><td style=\"text-align: right;\">0.0343095</td><td style=\"text-align: right;\">-0.0163497</td><td style=\"text-align: right;\">0.0758473</td><td style=\"text-align: right;\">-0.0762475</td><td style=\"text-align: right;\"> 0.0400815</td><td style=\"text-align: right;\">-0.0198935  </td><td style=\"text-align: right;\">-0.179636</td><td style=\"text-align: right;\"> 0.04466  </td><td style=\"text-align: right;\">-0.0747715</td><td style=\"text-align: right;\">-0.051563 </td><td style=\"text-align: right;\">0.086337</td><td style=\"text-align: right;\">   0.201034 </td><td style=\"text-align: right;\">    0.04862 </td><td style=\"text-align: right;\">   0.0322846</td><td style=\"text-align: right;\">    0.1717  </td><td style=\"text-align: right;\">   0.176998 </td><td style=\"text-align: right;\">   0.102274 </td><td style=\"text-align: right;\">  -0.0149814</td><td style=\"text-align: right;\"> -0.0160084 </td><td style=\"text-align: right;\">  -0.200739 </td><td style=\"text-align: right;\">    0.197971 </td><td style=\"text-align: right;\">   -0.0647588</td><td style=\"text-align: right;\">   -0.0908953</td><td style=\"text-align: right;\">   -0.159827 </td><td style=\"text-align: right;\">    -0.159446</td><td style=\"text-align: right;\">   -0.171669 </td><td style=\"text-align: right;\">    0.127379 </td><td style=\"text-align: right;\">     0.156348</td><td style=\"text-align: right;\">    0.0982737</td><td style=\"text-align: right;\">    0.0290098</td><td style=\"text-align: right;\">    0.0380551</td><td style=\"text-align: right;\">    0.0836924</td><td style=\"text-align: right;\">    0.0108417</td><td style=\"text-align: right;\">   -0.0267286</td><td style=\"text-align: right;\">    0.0834928</td><td style=\"text-align: right;\">    0.269171 </td><td style=\"text-align: right;\">  -0.100711  </td><td style=\"text-align: right;\">   -0.0201106</td><td style=\"text-align: right;\">    0.1644   </td><td style=\"text-align: right;\">   -0.0922762</td><td style=\"text-align: right;\">   -0.142686 </td><td style=\"text-align: right;\">     0.222742</td><td style=\"text-align: right;\">    0.262842 </td><td style=\"text-align: right;\">     0.285044</td><td style=\"text-align: right;\">   0.194881  </td><td style=\"text-align: right;\">    0.023707 </td><td style=\"text-align: right;\">    0.152735 </td><td style=\"text-align: right;\">   0.273157  </td><td style=\"text-align: right;\">    0.11064  </td><td style=\"text-align: right;\">   -0.160933 </td><td style=\"text-align: right;\">   -0.0246083</td><td style=\"text-align: right;\">     0.357006</td><td style=\"text-align: right;\">    -0.383642</td><td style=\"text-align: right;\">     0.348962</td><td style=\"text-align: right;\">   0.00377666</td><td style=\"text-align: right;\">   0.0432101 </td><td style=\"text-align: right;\">   -0.0822788</td><td style=\"text-align: right;\">   -0.47511  </td><td style=\"text-align: right;\">  -0.0859422 </td><td style=\"text-align: right;\">    0.083014 </td><td style=\"text-align: right;\">    -0.165104</td><td style=\"text-align: right;\">    0.139594 </td><td style=\"text-align: right;\">    -0.200091</td><td style=\"text-align: right;\">  -0.00944079</td><td style=\"text-align: right;\">   -0.0181709</td><td style=\"text-align: right;\">    0.0247414</td><td style=\"text-align: right;\">   -0.0338022</td><td style=\"text-align: right;\">    0.0119891</td><td style=\"text-align: right;\">   -0.0151318</td><td style=\"text-align: right;\">     0.36178 </td><td style=\"text-align: right;\">    -0.202999</td><td style=\"text-align: right;\">    -0.156567</td><td style=\"text-align: right;\">    0.0578563</td><td style=\"text-align: right;\">   -0.153071 </td><td style=\"text-align: right;\">   -0.255589 </td><td style=\"text-align: right;\">    0.0930879</td><td style=\"text-align: right;\">  -0.00107657</td><td style=\"text-align: right;\">    -0.28325 </td><td style=\"text-align: right;\">   -0.0716239</td><td style=\"text-align: right;\">  -0.0143438 </td><td style=\"text-align: right;\">  -0.191867  </td><td style=\"text-align: right;\">   -0.0131288</td><td style=\"text-align: right;\">   -0.295636 </td><td style=\"text-align: right;\">     0.230921</td><td style=\"text-align: right;\">    -0.208801</td><td style=\"text-align: right;\">    0.0624483</td><td style=\"text-align: right;\">   0.074903  </td><td style=\"text-align: right;\">   -0.0163599</td><td style=\"text-align: right;\">    0.0145924</td><td style=\"text-align: right;\">   0.0659399 </td><td style=\"text-align: right;\">   0.00754669</td><td style=\"text-align: right;\">    0.393506 </td><td style=\"text-align: right;\">    0.123485 </td><td style=\"text-align: right;\">    0.257096 </td><td style=\"text-align: right;\">    0.0365595</td><td style=\"text-align: right;\">    0.0295972</td><td style=\"text-align: right;\">     0.198292</td><td style=\"text-align: right;\">   -0.0190884</td><td style=\"text-align: right;\">   0.0129937 </td></tr>\n",
       "<tr><td>B0089SPEO2 </td><td>A3JOYNYL458QHP</td><td>Less lemon and less zing    </td><td style=\"text-align: right;\">      3</td><td style=\"text-align: right;\">                       0</td><td style=\"text-align: right;\"> 28582</td><td>coleridge          </td><td style=\"text-align: right;\">                     0</td><td style=\"text-align: right;\">1.32391e+09</td><td>Everything is ok, except it just isn't as good as it is in the bags.  Just considerably more bland -- less lemon and less zing.  Boring.                                                                                                                                                                                                                                        </td><td style=\"text-align: right;\">               0</td><td>Yes    </td><td style=\"text-align: right;\">-0.0168731</td><td style=\"text-align: right;\"> 0.205152 </td><td style=\"text-align: right;\"> 0.0178846</td><td style=\"text-align: right;\">-0.00401017</td><td style=\"text-align: right;\">0.186377 </td><td style=\"text-align: right;\"> 0.0609719</td><td style=\"text-align: right;\">-0.0516552</td><td style=\"text-align: right;\">-0.146039 </td><td style=\"text-align: right;\">-0.10241  </td><td style=\"text-align: right;\">-0.002283 </td><td style=\"text-align: right;\">-0.022299 </td><td style=\"text-align: right;\">-0.0561087</td><td style=\"text-align: right;\"> 0.059518 </td><td style=\"text-align: right;\">-0.0687224 </td><td style=\"text-align: right;\">-0.0222154 </td><td style=\"text-align: right;\">-0.056836  </td><td style=\"text-align: right;\"> 0.140548 </td><td style=\"text-align: right;\">-0.00527059</td><td style=\"text-align: right;\">-0.0311035 </td><td style=\"text-align: right;\"> 0.0584353</td><td style=\"text-align: right;\"> 0.13725  </td><td style=\"text-align: right;\"> 0.143233 </td><td style=\"text-align: right;\">-0.048869  </td><td style=\"text-align: right;\">-0.0309075</td><td style=\"text-align: right;\">0.0710254</td><td style=\"text-align: right;\">-0.0930747 </td><td style=\"text-align: right;\">0.0651379</td><td style=\"text-align: right;\"> 0.112067  </td><td style=\"text-align: right;\"> 0.104425  </td><td style=\"text-align: right;\">-0.083902 </td><td style=\"text-align: right;\">0.122894 </td><td style=\"text-align: right;\">0.0849256</td><td style=\"text-align: right;\">0.237759</td><td style=\"text-align: right;\"> 0.00813777</td><td style=\"text-align: right;\">-0.02785  </td><td style=\"text-align: right;\"> 0.0416097</td><td style=\"text-align: right;\">-0.0274384</td><td style=\"text-align: right;\">-0.105021  </td><td style=\"text-align: right;\"> 0.000200458</td><td style=\"text-align: right;\">-0.279208 </td><td style=\"text-align: right;\">0.182049 </td><td style=\"text-align: right;\"> 0.0156211</td><td style=\"text-align: right;\">0.232548</td><td style=\"text-align: right;\">-0.0410957</td><td style=\"text-align: right;\">-0.0394131</td><td style=\"text-align: right;\">-0.119328</td><td style=\"text-align: right;\">-0.139742</td><td style=\"text-align: right;\">-0.0800661</td><td style=\"text-align: right;\">-0.114642 </td><td style=\"text-align: right;\">-0.0899811</td><td style=\"text-align: right;\">0.0299466</td><td style=\"text-align: right;\">-0.266682 </td><td style=\"text-align: right;\"> 0.0116383</td><td style=\"text-align: right;\">0.235033 </td><td style=\"text-align: right;\"> 0.0166786</td><td style=\"text-align: right;\">-0.0832042</td><td style=\"text-align: right;\"> 0.107546 </td><td style=\"text-align: right;\">0.0669999</td><td style=\"text-align: right;\">0.204786</td><td style=\"text-align: right;\"> 0.155993  </td><td style=\"text-align: right;\">-0.192578</td><td style=\"text-align: right;\">0.0450506</td><td style=\"text-align: right;\">-0.0932742</td><td style=\"text-align: right;\">-0.0258353</td><td style=\"text-align: right;\"> 0.0131895</td><td style=\"text-align: right;\"> 0.0182733</td><td style=\"text-align: right;\">-0.078868 </td><td style=\"text-align: right;\">-0.18508  </td><td style=\"text-align: right;\">0.0709706</td><td style=\"text-align: right;\">-0.0838733</td><td style=\"text-align: right;\">-0.0803538 </td><td style=\"text-align: right;\"> 0.042668 </td><td style=\"text-align: right;\">0.166175 </td><td style=\"text-align: right;\">-0.172344</td><td style=\"text-align: right;\"> 0.0344755</td><td style=\"text-align: right;\">0.0963614</td><td style=\"text-align: right;\">-0.00450752</td><td style=\"text-align: right;\">0.0286235 </td><td style=\"text-align: right;\">0.0173997  </td><td style=\"text-align: right;\">-0.222903</td><td style=\"text-align: right;\">0.0598912</td><td style=\"text-align: right;\"> 0.00692643</td><td style=\"text-align: right;\">-0.0550072</td><td style=\"text-align: right;\"> 0.0250324 </td><td style=\"text-align: right;\">-0.037459  </td><td style=\"text-align: right;\">-0.0218965</td><td style=\"text-align: right;\">-0.0404033</td><td style=\"text-align: right;\">0.127231</td><td style=\"text-align: right;\">-0.0254501 </td><td style=\"text-align: right;\">0.173607 </td><td style=\"text-align: right;\">-0.0308788</td><td style=\"text-align: right;\">0.0493804</td><td style=\"text-align: right;\">-0.078108 </td><td style=\"text-align: right;\">-0.0384999</td><td style=\"text-align: right;\"> 0.000911163</td><td style=\"text-align: right;\">-0.17991 </td><td style=\"text-align: right;\">-0.168636 </td><td style=\"text-align: right;\">-0.134576 </td><td style=\"text-align: right;\"> 0.014041 </td><td style=\"text-align: right;\">0.110885</td><td style=\"text-align: right;\">  -0.0665678</td><td style=\"text-align: right;\">    0.405279</td><td style=\"text-align: right;\">   0.157405 </td><td style=\"text-align: right;\">   -0.100755</td><td style=\"text-align: right;\">   0.331998 </td><td style=\"text-align: right;\">   0.0267557</td><td style=\"text-align: right;\">  -0.0214996</td><td style=\"text-align: right;\"> -0.251719  </td><td style=\"text-align: right;\">  -0.114198 </td><td style=\"text-align: right;\">    0.0374966</td><td style=\"text-align: right;\">   -0.0250457</td><td style=\"text-align: right;\">    0.0139228</td><td style=\"text-align: right;\">    0.0263862</td><td style=\"text-align: right;\">    -0.14306 </td><td style=\"text-align: right;\">    0.100204 </td><td style=\"text-align: right;\">   -0.0773675</td><td style=\"text-align: right;\">     0.205986</td><td style=\"text-align: right;\">    0.0835372</td><td style=\"text-align: right;\">   -0.105983 </td><td style=\"text-align: right;\">    0.0387578</td><td style=\"text-align: right;\">    0.210251 </td><td style=\"text-align: right;\">    0.209478 </td><td style=\"text-align: right;\">   -0.0518112</td><td style=\"text-align: right;\">    0.104754 </td><td style=\"text-align: right;\">    0.123476 </td><td style=\"text-align: right;\">  -0.214387  </td><td style=\"text-align: right;\">    0.132517 </td><td style=\"text-align: right;\">    0.29657  </td><td style=\"text-align: right;\">    0.25104  </td><td style=\"text-align: right;\">   -0.0464236</td><td style=\"text-align: right;\">     0.148411</td><td style=\"text-align: right;\">    0.0622699</td><td style=\"text-align: right;\">     0.253497</td><td style=\"text-align: right;\">   0.00348522</td><td style=\"text-align: right;\">   -0.0648988</td><td style=\"text-align: right;\">    0.0535789</td><td style=\"text-align: right;\">  -0.00462089</td><td style=\"text-align: right;\">   -0.278754 </td><td style=\"text-align: right;\">   -0.0878472</td><td style=\"text-align: right;\">   -0.40546  </td><td style=\"text-align: right;\">     0.179907</td><td style=\"text-align: right;\">     0.175289</td><td style=\"text-align: right;\">     0.306818</td><td style=\"text-align: right;\">  -0.172193  </td><td style=\"text-align: right;\">  -0.00234997</td><td style=\"text-align: right;\">   -0.050561 </td><td style=\"text-align: right;\">   -0.232443 </td><td style=\"text-align: right;\">   0.00385964</td><td style=\"text-align: right;\">   -0.216154 </td><td style=\"text-align: right;\">    -0.128535</td><td style=\"text-align: right;\">   -0.0475173</td><td style=\"text-align: right;\">    -0.105812</td><td style=\"text-align: right;\">  -0.0470452 </td><td style=\"text-align: right;\">    0.178673 </td><td style=\"text-align: right;\">   -0.149303 </td><td style=\"text-align: right;\">    0.0158127</td><td style=\"text-align: right;\">    0.0848726</td><td style=\"text-align: right;\">   -0.034424 </td><td style=\"text-align: right;\">     0.220438</td><td style=\"text-align: right;\">     0.268886</td><td style=\"text-align: right;\">    -0.228814</td><td style=\"text-align: right;\">    0.178036 </td><td style=\"text-align: right;\">   -0.0216873</td><td style=\"text-align: right;\">    0.0264948</td><td style=\"text-align: right;\">   -0.0285435</td><td style=\"text-align: right;\">   0.181957  </td><td style=\"text-align: right;\">    -0.113543</td><td style=\"text-align: right;\">   -0.265542 </td><td style=\"text-align: right;\">  -0.00170747</td><td style=\"text-align: right;\">  -0.127479  </td><td style=\"text-align: right;\">    0.0624225</td><td style=\"text-align: right;\">    0.132214 </td><td style=\"text-align: right;\">     0.180329</td><td style=\"text-align: right;\">    -0.15268 </td><td style=\"text-align: right;\">   -0.0563294</td><td style=\"text-align: right;\">   0.00471047</td><td style=\"text-align: right;\">    0.144737 </td><td style=\"text-align: right;\">    0.0489538</td><td style=\"text-align: right;\">  -0.00899912</td><td style=\"text-align: right;\">  -0.0883081 </td><td style=\"text-align: right;\">   -0.0492852</td><td style=\"text-align: right;\">   -0.0695404</td><td style=\"text-align: right;\">   -0.0411995</td><td style=\"text-align: right;\">    0.0154009</td><td style=\"text-align: right;\">    0.0196151</td><td style=\"text-align: right;\">    -0.151787</td><td style=\"text-align: right;\">   -0.13042  </td><td style=\"text-align: right;\">   0.00442384</td></tr>\n",
       "<tr><td>B001PMCDK2 </td><td>A14TTMM0Z03Y2W</td><td>my cat goes crazy for these!</td><td style=\"text-align: right;\">      5</td><td style=\"text-align: right;\">                       0</td><td style=\"text-align: right;\">389965</td><td>Lindsay S. Bradford</td><td style=\"text-align: right;\">                     0</td><td style=\"text-align: right;\">1.3106e+09 </td><td>Best cat treat ever. There isn't anything comparable to the love my cat has for these treats, he snubs away any other kind now.<br />I know he likes to manipulate me with his cattiness but these treats are my way of manipulating him to come sit on my lap and have some chill time. :)                                                                                     </td><td style=\"text-align: right;\">               1</td><td>Yes    </td><td style=\"text-align: right;\"> 0.0912552</td><td style=\"text-align: right;\">-0.0270904</td><td style=\"text-align: right;\">-0.105998 </td><td style=\"text-align: right;\"> 0.117295  </td><td style=\"text-align: right;\">0.0426804</td><td style=\"text-align: right;\">-0.0201742</td><td style=\"text-align: right;\">-0.0602782</td><td style=\"text-align: right;\"> 0.0473378</td><td style=\"text-align: right;\"> 0.0295703</td><td style=\"text-align: right;\">-0.0118265</td><td style=\"text-align: right;\">-0.0968422</td><td style=\"text-align: right;\">-0.0164974</td><td style=\"text-align: right;\">-0.0199767</td><td style=\"text-align: right;\"> 0.106042  </td><td style=\"text-align: right;\">-0.0378111 </td><td style=\"text-align: right;\">-0.00356926</td><td style=\"text-align: right;\"> 0.0359349</td><td style=\"text-align: right;\">-0.0219406 </td><td style=\"text-align: right;\"> 0.00714618</td><td style=\"text-align: right;\">-0.0624658</td><td style=\"text-align: right;\">-0.0283937</td><td style=\"text-align: right;\"> 0.0175243</td><td style=\"text-align: right;\">-0.0536904 </td><td style=\"text-align: right;\"> 0.0910684</td><td style=\"text-align: right;\">0.0705079</td><td style=\"text-align: right;\">-0.00438208</td><td style=\"text-align: right;\">0.0764417</td><td style=\"text-align: right;\">-0.023922  </td><td style=\"text-align: right;\"> 0.00313756</td><td style=\"text-align: right;\">-0.023761 </td><td style=\"text-align: right;\">0.0115935</td><td style=\"text-align: right;\">0.162139 </td><td style=\"text-align: right;\">0.230323</td><td style=\"text-align: right;\">-0.00402018</td><td style=\"text-align: right;\">-0.0225697</td><td style=\"text-align: right;\">-0.0798728</td><td style=\"text-align: right;\"> 0.0338326</td><td style=\"text-align: right;\">-0.00579746</td><td style=\"text-align: right;\"> 0.0887428  </td><td style=\"text-align: right;\">-0.0734863</td><td style=\"text-align: right;\">0.0442663</td><td style=\"text-align: right;\">-0.136482 </td><td style=\"text-align: right;\">0.234298</td><td style=\"text-align: right;\">-0.0323383</td><td style=\"text-align: right;\">-0.10865  </td><td style=\"text-align: right;\">-0.203888</td><td style=\"text-align: right;\">-0.126513</td><td style=\"text-align: right;\">-0.0637946</td><td style=\"text-align: right;\">-0.02811  </td><td style=\"text-align: right;\">-0.0212629</td><td style=\"text-align: right;\">0.134549 </td><td style=\"text-align: right;\">-0.251012 </td><td style=\"text-align: right;\"> 0.0506457</td><td style=\"text-align: right;\">0.0595697</td><td style=\"text-align: right;\">-0.0397004</td><td style=\"text-align: right;\">-0.0316828</td><td style=\"text-align: right;\">-0.0702738</td><td style=\"text-align: right;\">0.0479181</td><td style=\"text-align: right;\">0.102396</td><td style=\"text-align: right;\">-0.00698299</td><td style=\"text-align: right;\">-0.190544</td><td style=\"text-align: right;\">0.220229 </td><td style=\"text-align: right;\">-0.0110431</td><td style=\"text-align: right;\">-0.106953 </td><td style=\"text-align: right;\">-0.10391  </td><td style=\"text-align: right;\"> 0.0218054</td><td style=\"text-align: right;\">-0.125348 </td><td style=\"text-align: right;\">-0.14713  </td><td style=\"text-align: right;\">0.129716 </td><td style=\"text-align: right;\">-0.0167192</td><td style=\"text-align: right;\"> 0.124648  </td><td style=\"text-align: right;\">-0.0890766</td><td style=\"text-align: right;\">0.204822 </td><td style=\"text-align: right;\">-0.196557</td><td style=\"text-align: right;\">-0.157732 </td><td style=\"text-align: right;\">0.0761307</td><td style=\"text-align: right;\"> 0.0466672 </td><td style=\"text-align: right;\">0.0122299 </td><td style=\"text-align: right;\">0.000125276</td><td style=\"text-align: right;\">-0.208611</td><td style=\"text-align: right;\">0.0923396</td><td style=\"text-align: right;\">-0.0229839 </td><td style=\"text-align: right;\"> 0.0148204</td><td style=\"text-align: right;\">-0.0100454 </td><td style=\"text-align: right;\">-0.14896   </td><td style=\"text-align: right;\">-0.0652911</td><td style=\"text-align: right;\"> 0.232896 </td><td style=\"text-align: right;\">0.141152</td><td style=\"text-align: right;\">-0.0368149 </td><td style=\"text-align: right;\">0.0577446</td><td style=\"text-align: right;\"> 0.0432447</td><td style=\"text-align: right;\">0.147477 </td><td style=\"text-align: right;\">-0.115366 </td><td style=\"text-align: right;\"> 0.0207088</td><td style=\"text-align: right;\">-0.0897639  </td><td style=\"text-align: right;\">-0.145678</td><td style=\"text-align: right;\"> 0.0167911</td><td style=\"text-align: right;\">-0.155149 </td><td style=\"text-align: right;\"> 0.0189327</td><td style=\"text-align: right;\">0.157371</td><td style=\"text-align: right;\">   0.0469829</td><td style=\"text-align: right;\">    0.107085</td><td style=\"text-align: right;\">  -0.213946 </td><td style=\"text-align: right;\">    0.147834</td><td style=\"text-align: right;\">   0.0361402</td><td style=\"text-align: right;\">   0.0420234</td><td style=\"text-align: right;\">  -0.0716826</td><td style=\"text-align: right;\">  0.00258228</td><td style=\"text-align: right;\">   0.0363671</td><td style=\"text-align: right;\">   -0.119368 </td><td style=\"text-align: right;\">   -0.0960974</td><td style=\"text-align: right;\">   -0.0263268</td><td style=\"text-align: right;\">   -0.172966 </td><td style=\"text-align: right;\">     0.118091</td><td style=\"text-align: right;\">   -0.0305739</td><td style=\"text-align: right;\">   -0.0846643</td><td style=\"text-align: right;\">     0.126826</td><td style=\"text-align: right;\">   -0.153802 </td><td style=\"text-align: right;\">    0.121542 </td><td style=\"text-align: right;\">    0.0186649</td><td style=\"text-align: right;\">    0.162424 </td><td style=\"text-align: right;\">    0.035404 </td><td style=\"text-align: right;\">    0.0723681</td><td style=\"text-align: right;\">    0.246241 </td><td style=\"text-align: right;\">   -0.0118808</td><td style=\"text-align: right;\">   0.00339152</td><td style=\"text-align: right;\">    0.170054 </td><td style=\"text-align: right;\">    0.0119079</td><td style=\"text-align: right;\">    0.112047 </td><td style=\"text-align: right;\">   -0.0139549</td><td style=\"text-align: right;\">    -0.164973</td><td style=\"text-align: right;\">    0.20966  </td><td style=\"text-align: right;\">     0.377927</td><td style=\"text-align: right;\">   0.0966606 </td><td style=\"text-align: right;\">    0.122234 </td><td style=\"text-align: right;\">    0.0226609</td><td style=\"text-align: right;\">   0.0341644 </td><td style=\"text-align: right;\">    0.0017734</td><td style=\"text-align: right;\">    0.0690722</td><td style=\"text-align: right;\">   -0.0979075</td><td style=\"text-align: right;\">    -0.174374</td><td style=\"text-align: right;\">    -0.266569</td><td style=\"text-align: right;\">     0.245066</td><td style=\"text-align: right;\">   0.17542   </td><td style=\"text-align: right;\">  -0.103895  </td><td style=\"text-align: right;\">   -0.115994 </td><td style=\"text-align: right;\">   -0.0278633</td><td style=\"text-align: right;\">   0.0883597 </td><td style=\"text-align: right;\">    0.0491418</td><td style=\"text-align: right;\">     0.046675</td><td style=\"text-align: right;\">   -0.0350082</td><td style=\"text-align: right;\">    -0.190393</td><td style=\"text-align: right;\">  -0.0216066 </td><td style=\"text-align: right;\">    0.0148844</td><td style=\"text-align: right;\">   -0.0827715</td><td style=\"text-align: right;\">   -0.0330886</td><td style=\"text-align: right;\">   -0.053297 </td><td style=\"text-align: right;\">   -0.114395 </td><td style=\"text-align: right;\">     0.128076</td><td style=\"text-align: right;\">    -0.053784</td><td style=\"text-align: right;\">    -0.229546</td><td style=\"text-align: right;\">    0.23471  </td><td style=\"text-align: right;\">    0.0350555</td><td style=\"text-align: right;\">    0.0202692</td><td style=\"text-align: right;\">   -0.262295 </td><td style=\"text-align: right;\">   0.0698969 </td><td style=\"text-align: right;\">    -0.219446</td><td style=\"text-align: right;\">   -0.190976 </td><td style=\"text-align: right;\">   0.163798  </td><td style=\"text-align: right;\">  -0.00621894</td><td style=\"text-align: right;\">    0.08297  </td><td style=\"text-align: right;\">   -0.0945955</td><td style=\"text-align: right;\">     0.159346</td><td style=\"text-align: right;\">    -0.310078</td><td style=\"text-align: right;\">   -0.0221492</td><td style=\"text-align: right;\">   0.0612978 </td><td style=\"text-align: right;\">    0.26659  </td><td style=\"text-align: right;\">    0.0534949</td><td style=\"text-align: right;\">   0.0365602 </td><td style=\"text-align: right;\">  -0.573291  </td><td style=\"text-align: right;\">    0.149114 </td><td style=\"text-align: right;\">   -0.0184566</td><td style=\"text-align: right;\">    0.0641069</td><td style=\"text-align: right;\">   -0.0156953</td><td style=\"text-align: right;\">   -0.3165   </td><td style=\"text-align: right;\">    -0.120182</td><td style=\"text-align: right;\">    0.266773 </td><td style=\"text-align: right;\">   0.316747  </td></tr>\n",
       "</tbody>\n",
       "</table>"
      ]
     },
     "metadata": {},
     "output_type": "display_data"
    },
    {
     "data": {
      "text/plain": []
     },
     "execution_count": 33,
     "metadata": {},
     "output_type": "execute_result"
    }
   ],
   "source": [
    "ext_reviews_new.head(3)"
   ]
  },
  {
   "cell_type": "code",
   "execution_count": 34,
   "metadata": {},
   "outputs": [],
   "source": [
    "ext_train_new = ext_reviews_new[ext_reviews_new[\"Train\"] == \"Yes\"]\n",
    "ext_test_new = ext_reviews_new[ext_reviews_new[\"Train\"] == \"No\"]"
   ]
  },
  {
   "cell_type": "markdown",
   "metadata": {},
   "source": [
    "# 2 Training Models"
   ]
  },
  {
   "cell_type": "markdown",
   "metadata": {},
   "source": [
    "## 2.1 Linear Regression"
   ]
  },
  {
   "cell_type": "markdown",
   "metadata": {},
   "source": [
    "### 2.1.1 Train & Fit Model"
   ]
  },
  {
   "cell_type": "code",
   "execution_count": 24,
   "metadata": {},
   "outputs": [],
   "source": [
    "predictors = ['ProductId', 'UserId', 'HelpfulnessNumerator', 'HelpfulnessDenominator', 'Time'] + summary_vecs.names + review_vecs.names \n",
    "response = 'PositiveReview'"
   ]
  },
  {
   "cell_type": "code",
   "execution_count": 25,
   "metadata": {},
   "outputs": [
    {
     "name": "stdout",
     "output_type": "stream",
     "text": [
      "glm Model Build progress: |███████████████████████████████████████████████| 100%\n"
     ]
    }
   ],
   "source": [
    "# Initialize\n",
    "local_glm_plus = H2OGeneralizedLinearEstimator(family='binomial', model_id='glm_surrogate', lambda_search=True)\n",
    "# train \n",
    "local_glm_plus.train(x=predictors, y=response, training_frame=ext_train_new)"
   ]
  },
  {
   "cell_type": "markdown",
   "metadata": {},
   "source": [
    "### 2.1.2 Interpretability"
   ]
  },
  {
   "cell_type": "markdown",
   "metadata": {},
   "source": [
    "#### Vaviable Importance"
   ]
  },
  {
   "cell_type": "code",
   "execution_count": 26,
   "metadata": {},
   "outputs": [
    {
     "data": {
      "image/png": "[encoded data removed]",
      "text/plain": [
       "<Figure size 1008x720 with 1 Axes>"
      ]
     },
     "metadata": {
      "needs_background": "light"
     },
     "output_type": "display_data"
    }
   ],
   "source": [
    "local_glm_plus.varimp_plot()"
   ]
  },
  {
   "cell_type": "markdown",
   "metadata": {},
   "source": [
    "#### Partial Dependence Plot (PDP)"
   ]
  },
  {
   "cell_type": "code",
   "execution_count": 28,
   "metadata": {},
   "outputs": [
    {
     "name": "stdout",
     "output_type": "stream",
     "text": [
      "PartialDependencePlot progress: |█████████████████████████████████████████| 100%\n"
     ]
    },
    {
     "data": {
      "image/png": "[encoded data removed]",
      "text/plain": [
       "<Figure size 504x720 with 1 Axes>"
      ]
     },
     "metadata": {
      "needs_background": "light"
     },
     "output_type": "display_data"
    }
   ],
   "source": [
    "pdp_local_linear_plus = local_glm_plus.partial_plot(data = ext_train_new, cols = [\"HelpfulnessNumerator\"])"
   ]
  },
  {
   "cell_type": "markdown",
   "metadata": {},
   "source": [
    "#### Individual Conditional Expectation (ICE)"
   ]
  },
  {
   "cell_type": "code",
   "execution_count": 52,
   "metadata": {},
   "outputs": [
    {
     "ename": "AttributeError",
     "evalue": "'H2OFrame' object has no attribute 'values'",
     "output_type": "error",
     "traceback": [
      "\u001b[0;31m---------------------------------------------------------------------------\u001b[0m",
      "\u001b[0;31mAttributeError\u001b[0m                            Traceback (most recent call last)",
      "\u001b[0;32m<ipython-input-52-d08b5baa686a>\u001b[0m in \u001b[0;36m<module>\u001b[0;34m\u001b[0m\n\u001b[0;32m----> 1\u001b[0;31m \u001b[0mice_linear\u001b[0m \u001b[0;34m=\u001b[0m \u001b[0mice\u001b[0m\u001b[0;34m(\u001b[0m\u001b[0mext_train_new\u001b[0m\u001b[0;34m,\u001b[0m \u001b[0;34m'HelpfulnessNumerator'\u001b[0m\u001b[0;34m,\u001b[0m \u001b[0mlocal_glm_plus\u001b[0m\u001b[0;34m.\u001b[0m\u001b[0mpredict\u001b[0m\u001b[0;34m,\u001b[0m \u001b[0mnum_grid_points\u001b[0m\u001b[0;34m=\u001b[0m\u001b[0;36m100\u001b[0m\u001b[0;34m)\u001b[0m\u001b[0;34m\u001b[0m\u001b[0;34m\u001b[0m\u001b[0m\n\u001b[0m",
      "\u001b[0;32m/anaconda3/lib/python3.7/site-packages/pycebox/ice.py\u001b[0m in \u001b[0;36mice\u001b[0;34m(data, column, predict, num_grid_points)\u001b[0m\n\u001b[1;32m     61\u001b[0m     \"\"\"\n\u001b[1;32m     62\u001b[0m     \u001b[0mx_s\u001b[0m \u001b[0;34m=\u001b[0m \u001b[0m_get_grid_points\u001b[0m\u001b[0;34m(\u001b[0m\u001b[0mdata\u001b[0m\u001b[0;34m[\u001b[0m\u001b[0mcolumn\u001b[0m\u001b[0;34m]\u001b[0m\u001b[0;34m,\u001b[0m \u001b[0mnum_grid_points\u001b[0m\u001b[0;34m)\u001b[0m\u001b[0;34m\u001b[0m\u001b[0;34m\u001b[0m\u001b[0m\n\u001b[0;32m---> 63\u001b[0;31m     \u001b[0mice_data\u001b[0m\u001b[0;34m,\u001b[0m \u001b[0morig_column\u001b[0m \u001b[0;34m=\u001b[0m \u001b[0m_to_ice_data\u001b[0m\u001b[0;34m(\u001b[0m\u001b[0mdata\u001b[0m\u001b[0;34m,\u001b[0m \u001b[0mcolumn\u001b[0m\u001b[0;34m,\u001b[0m \u001b[0mx_s\u001b[0m\u001b[0;34m)\u001b[0m\u001b[0;34m\u001b[0m\u001b[0;34m\u001b[0m\u001b[0m\n\u001b[0m\u001b[1;32m     64\u001b[0m     \u001b[0mice_data\u001b[0m\u001b[0;34m[\u001b[0m\u001b[0;34m'ice_y'\u001b[0m\u001b[0;34m]\u001b[0m \u001b[0;34m=\u001b[0m \u001b[0mpredict\u001b[0m\u001b[0;34m(\u001b[0m\u001b[0mice_data\u001b[0m\u001b[0;34m.\u001b[0m\u001b[0mvalues\u001b[0m\u001b[0;34m)\u001b[0m\u001b[0;34m\u001b[0m\u001b[0;34m\u001b[0m\u001b[0m\n\u001b[1;32m     65\u001b[0m     \u001b[0mice_data\u001b[0m\u001b[0;34m[\u001b[0m\u001b[0;34m'data_{}'\u001b[0m\u001b[0;34m.\u001b[0m\u001b[0mformat\u001b[0m\u001b[0;34m(\u001b[0m\u001b[0mcolumn\u001b[0m\u001b[0;34m)\u001b[0m\u001b[0;34m]\u001b[0m \u001b[0;34m=\u001b[0m \u001b[0morig_column\u001b[0m\u001b[0;34m\u001b[0m\u001b[0;34m\u001b[0m\u001b[0m\n",
      "\u001b[0;32m/anaconda3/lib/python3.7/site-packages/pycebox/ice.py\u001b[0m in \u001b[0;36m_to_ice_data\u001b[0;34m(data, column, x_s)\u001b[0m\n\u001b[1;32m    193\u001b[0m     \u001b[0mCreate\u001b[0m \u001b[0mthe\u001b[0m \u001b[0mDataFrame\u001b[0m \u001b[0mnecessary\u001b[0m \u001b[0;32mfor\u001b[0m \u001b[0mICE\u001b[0m \u001b[0mcalculations\u001b[0m\u001b[0;34m\u001b[0m\u001b[0;34m\u001b[0m\u001b[0m\n\u001b[1;32m    194\u001b[0m     \"\"\"\n\u001b[0;32m--> 195\u001b[0;31m     \u001b[0mice_data\u001b[0m \u001b[0;34m=\u001b[0m \u001b[0mpd\u001b[0m\u001b[0;34m.\u001b[0m\u001b[0mDataFrame\u001b[0m\u001b[0;34m(\u001b[0m\u001b[0mnp\u001b[0m\u001b[0;34m.\u001b[0m\u001b[0mrepeat\u001b[0m\u001b[0;34m(\u001b[0m\u001b[0mdata\u001b[0m\u001b[0;34m.\u001b[0m\u001b[0mvalues\u001b[0m\u001b[0;34m,\u001b[0m \u001b[0mx_s\u001b[0m\u001b[0;34m.\u001b[0m\u001b[0msize\u001b[0m\u001b[0;34m,\u001b[0m \u001b[0maxis\u001b[0m\u001b[0;34m=\u001b[0m\u001b[0;36m0\u001b[0m\u001b[0;34m)\u001b[0m\u001b[0;34m,\u001b[0m \u001b[0mcolumns\u001b[0m\u001b[0;34m=\u001b[0m\u001b[0mdata\u001b[0m\u001b[0;34m.\u001b[0m\u001b[0mcolumns\u001b[0m\u001b[0;34m)\u001b[0m\u001b[0;34m\u001b[0m\u001b[0;34m\u001b[0m\u001b[0m\n\u001b[0m\u001b[1;32m    196\u001b[0m     \u001b[0mdata_column\u001b[0m \u001b[0;34m=\u001b[0m \u001b[0mice_data\u001b[0m\u001b[0;34m[\u001b[0m\u001b[0mcolumn\u001b[0m\u001b[0;34m]\u001b[0m\u001b[0;34m.\u001b[0m\u001b[0mcopy\u001b[0m\u001b[0;34m(\u001b[0m\u001b[0;34m)\u001b[0m\u001b[0;34m\u001b[0m\u001b[0;34m\u001b[0m\u001b[0m\n\u001b[1;32m    197\u001b[0m     \u001b[0mice_data\u001b[0m\u001b[0;34m[\u001b[0m\u001b[0mcolumn\u001b[0m\u001b[0;34m]\u001b[0m \u001b[0;34m=\u001b[0m \u001b[0mnp\u001b[0m\u001b[0;34m.\u001b[0m\u001b[0mtile\u001b[0m\u001b[0;34m(\u001b[0m\u001b[0mx_s\u001b[0m\u001b[0;34m,\u001b[0m \u001b[0mdata\u001b[0m\u001b[0;34m.\u001b[0m\u001b[0mshape\u001b[0m\u001b[0;34m[\u001b[0m\u001b[0;36m0\u001b[0m\u001b[0;34m]\u001b[0m\u001b[0;34m)\u001b[0m\u001b[0;34m\u001b[0m\u001b[0;34m\u001b[0m\u001b[0m\n",
      "\u001b[0;31mAttributeError\u001b[0m: 'H2OFrame' object has no attribute 'values'"
     ]
    }
   ],
   "source": [
    "ice_linear = ice(ext_train_new, 'HelpfulnessNumerator', local_glm_plus.predict, num_grid_points=100)"
   ]
  },
  {
   "cell_type": "markdown",
   "metadata": {},
   "source": [
    "### 2.1.3 Matrix"
   ]
  },
  {
   "cell_type": "code",
   "execution_count": 29,
   "metadata": {},
   "outputs": [
    {
     "name": "stdout",
     "output_type": "stream",
     "text": [
      "\n",
      "Local GLM Coefficients:\n",
      "C21:                      -4.367109075022356\n",
      "C29:                      -3.1352780319828635\n",
      "C51:                      -3.1204999574616368\n",
      "C30:                      -3.1158708397698898\n",
      "C55:                      -2.84341696256946\n",
      "C34:                      -2.6777491618688134\n",
      "C9:                       -2.6287326962273734\n",
      "C3:                       -2.326112489633461\n",
      "C83:                      -2.109372710883918\n",
      "C98:                      -2.003911628288666\n",
      "C39:                      -1.7824873571546964\n",
      "C82:                      -1.590938065907688\n",
      "C53:                      -1.5869125734562428\n",
      "C69:                      -1.461196010323064\n",
      "C67:                      -1.4595398702408677\n",
      "C11:                      -1.4556118577877177\n",
      "C26:                      -1.4207731398806778\n",
      "C95:                      -1.3073384376050694\n",
      "summary_C21:              -1.1193828358928604\n",
      "C89:                      -1.1180151412914847\n",
      "C28:                      -1.0373585246576182\n",
      "C59:                      -0.9988826858682753\n",
      "C38:                      -0.9579695500735979\n",
      "C45:                      -0.9087745308391416\n",
      "summary_C55:              -0.8481014291267837\n",
      "summary_C54:              -0.8192721756727749\n",
      "C16:                      -0.8134012050919619\n",
      "summary_C51:              -0.74444813151902\n",
      "C10:                      -0.7267823556926073\n",
      "C13:                      -0.7141982746829207\n",
      "C96:                      -0.654050743010279\n",
      "summary_C29:              -0.632142230227303\n",
      "C70:                      -0.6272879760265255\n",
      "C68:                      -0.6187095038807884\n",
      "summary_C30:              -0.6173477120622985\n",
      "summary_C95:              -0.6076756154716557\n",
      "summary_C10:              -0.5672535390205459\n",
      "C58:                      -0.5636887038274617\n",
      "C72:                      -0.5631730210779867\n",
      "summary_C58:              -0.5158406430005045\n",
      "C65:                      -0.5018112794511842\n",
      "C94:                      -0.4901714459787707\n",
      "summary_C82:              -0.4865108678978685\n",
      "summary_C68:              -0.46654792261355277\n",
      "summary_C96:              -0.458387290284109\n",
      "summary_C28:              -0.4472241942497194\n",
      "summary_C39:              -0.42683807252851075\n",
      "C79:                      -0.3761873759706521\n",
      "summary_C11:              -0.3747134094632161\n",
      "C4:                       -0.37301971649685417\n",
      "summary_C92:              -0.37103283611738835\n",
      "summary_C69:              -0.34923723792386857\n",
      "summary_C38:              -0.33058546978951414\n",
      "summary_C26:              -0.3295287940063426\n",
      "summary_C3:               -0.30936408318754743\n",
      "summary_C9:               -0.28400849543806805\n",
      "summary_C84:              -0.2674005278082431\n",
      "C71:                      -0.2480476506535685\n",
      "C33:                      -0.223335162485801\n",
      "summary_C90:              -0.21808046730828648\n",
      "C54:                      -0.17746832836771928\n",
      "summary_C83:              -0.17535489785299302\n",
      "summary_C4:               -0.17422666623527402\n",
      "C20:                      -0.1553756483132184\n",
      "summary_C45:              -0.14392490935423446\n",
      "summary_C13:              -0.142392485784565\n",
      "summary_C79:              -0.13453080602133385\n",
      "summary_C67:              -0.11824851240723169\n",
      "summary_C60:              -0.10802398669691492\n",
      "C92:                      -0.1059017729380461\n",
      "HelpfulnessDenominator:   -0.09168743089956381\n",
      "summary_C46:              -0.08345842593861715\n",
      "summary_C53:              -0.07558125137112684\n",
      "summary_C99:              -0.07262601014733619\n",
      "summary_C6:               -0.0691015129801446\n",
      "summary_C20:              -0.06608876363447039\n",
      "summary_C62:              -0.05429681941846374\n",
      "summary_C57:              -0.047909057755310534\n",
      "C23:                      -0.04198784902929243\n",
      "C75:                      -0.03711847543196972\n",
      "summary_C34:              -0.011492612786126212\n",
      "summary_C35:              -0.009314466846129164\n",
      "Time:                     -9.132819352158087e-10\n",
      "summary_C65:              0.004484602590265789\n",
      "summary_C76:              0.008053075738117366\n",
      "summary_C87:              0.015434736920982317\n",
      "summary_C75:              0.018935731415827977\n",
      "C57:                      0.037956777157181966\n",
      "summary_C81:              0.044965503111429876\n",
      "C78:                      0.051810949499909345\n",
      "summary_C71:              0.052138693432443636\n",
      "summary_C8:               0.06471217761326184\n",
      "summary_C2:               0.06977289829462867\n",
      "C84:                      0.07071673258188578\n",
      "summary_C56:              0.07739007520855215\n",
      "summary_C41:              0.09546268944397884\n",
      "C35:                      0.09995180884523583\n",
      "summary_C24:              0.10183314822453028\n",
      "HelpfulnessNumerator:     0.10577262424844018\n",
      "C62:                      0.1117114355461596\n",
      "summary_C47:              0.11247001956936115\n",
      "summary_C32:              0.12430951596122566\n",
      "summary_C48:              0.13061065707554162\n",
      "summary_C66:              0.13459644407258314\n",
      "C87:                      0.1355663604770062\n",
      "summary_C42:              0.14421496828190863\n",
      "C47:                      0.15826804156467444\n",
      "summary_C63:              0.15931381257533525\n",
      "C49:                      0.16897588270532762\n",
      "summary_C25:              0.18011685657608095\n",
      "summary_C97:              0.19706962465440694\n",
      "summary_C22:              0.2028570736022717\n",
      "C66:                      0.20841857602455502\n",
      "summary_C15:              0.21751243862868277\n",
      "summary_C1:               0.2393571042853679\n",
      "summary_C78:              0.2978744667539279\n",
      "C80:                      0.31826375671628665\n",
      "summary_C52:              0.3566636022952968\n",
      "summary_C74:              0.37215505906259727\n",
      "summary_C49:              0.39027654376742593\n",
      "summary_C40:              0.42712373625012795\n",
      "summary_C5:               0.47685105424452456\n",
      "C41:                      0.4865869779769637\n",
      "C91:                      0.5206821293137112\n",
      "summary_C50:              0.5518024847065353\n",
      "summary_C100:             0.5546785842872225\n",
      "summary_C27:              0.5552569415052935\n",
      "summary_C18:              0.557202947558795\n",
      "C44:                      0.6141730631001574\n",
      "summary_C85:              0.6176845014239958\n",
      "summary_C37:              0.6714581209812457\n",
      "summary_C19:              0.6752611094294755\n",
      "C56:                      0.6755924596377454\n",
      "C52:                      0.6805681477655058\n",
      "summary_C88:              0.6966484804034506\n",
      "summary_C73:              0.7740266030641244\n",
      "C74:                      0.7979017027406714\n",
      "C77:                      0.8042833210584539\n",
      "C93:                      0.8132237727669145\n",
      "C31:                      0.8148706395083537\n",
      "summary_C12:              0.825981596311332\n",
      "C19:                      0.8320971810133385\n",
      "Intercept:                0.8324955826771191\n",
      "C61:                      0.924054933075725\n",
      "summary_C36:              0.9269291090585885\n",
      "C97:                      0.9299315781048267\n",
      "summary_C17:              0.9656209864532245\n",
      "summary_C61:              0.9899261270111636\n",
      "summary_C93:              1.0028760300246258\n",
      "C27:                      1.0083338167494837\n",
      "C43:                      1.1055075450127905\n",
      "C42:                      1.1598162447647353\n",
      "C88:                      1.2218706460787074\n",
      "C12:                      1.2250505957398803\n",
      "C37:                      1.2726365601132774\n",
      "C85:                      1.4780637047714789\n",
      "C8:                       1.535701451442061\n",
      "C22:                      1.5627231332420566\n",
      "C48:                      1.5774753162585753\n",
      "C5:                       1.655847958871377\n",
      "C40:                      1.7462967557846891\n",
      "C24:                      1.7674897730633576\n",
      "C50:                      1.8440265848191315\n",
      "C18:                      1.9673611478932114\n",
      "C76:                      2.1478478221014625\n",
      "C100:                     2.2043495344076933\n",
      "C73:                      2.5265598774539826\n",
      "C15:                      2.7890769729894385\n",
      "C36:                      3.6623770250488055\n",
      "C17:                      3.905254139209873\n"
     ]
    }
   ],
   "source": [
    "print('\\nLocal GLM Coefficients:')\n",
    "for c_name, c_val in sorted(local_glm_plus.coef().items(), key=operator.itemgetter(1)):\n",
    "    if c_val != 0.0:\n",
    "        print('%s %s' % (str(c_name + ':').ljust(25), c_val))"
   ]
  },
  {
   "cell_type": "code",
   "execution_count": 30,
   "metadata": {},
   "outputs": [
    {
     "data": {
      "text/plain": [
       "{'train': 0.4333032337729773, 'valid': None}"
      ]
     },
     "execution_count": 30,
     "metadata": {},
     "output_type": "execute_result"
    }
   ],
   "source": [
    "local_glm_plus.r2(train=True, valid=True)"
   ]
  },
  {
   "cell_type": "code",
   "execution_count": 31,
   "metadata": {},
   "outputs": [
    {
     "data": {
      "text/plain": [
       "0.8770051173350655"
      ]
     },
     "execution_count": 31,
     "metadata": {},
     "output_type": "execute_result"
    }
   ],
   "source": [
    "local_glm_plus.auc()"
   ]
  },
  {
   "cell_type": "code",
   "execution_count": 32,
   "metadata": {},
   "outputs": [
    {
     "name": "stdout",
     "output_type": "stream",
     "text": [
      "Confusion Matrix (Act/Pred) for max f1 @ threshold = 0.4665592179349771: \n"
     ]
    },
    {
     "data": {
      "text/html": [
       "<div style=\"overflow:auto\"><table style=\"width:50%\"><tr><td><b></b></td>\n",
       "<td><b>0</b></td>\n",
       "<td><b>1</b></td>\n",
       "<td><b>Error</b></td>\n",
       "<td><b>Rate</b></td></tr>\n",
       "<tr><td>0</td>\n",
       "<td>10213.0</td>\n",
       "<td>5681.0</td>\n",
       "<td>0.3574</td>\n",
       "<td> (5681.0/15894.0)</td></tr>\n",
       "<tr><td>1</td>\n",
       "<td>2318.0</td>\n",
       "<td>26190.0</td>\n",
       "<td>0.0813</td>\n",
       "<td> (2318.0/28508.0)</td></tr>\n",
       "<tr><td>Total</td>\n",
       "<td>12531.0</td>\n",
       "<td>31871.0</td>\n",
       "<td>0.1801</td>\n",
       "<td> (7999.0/44402.0)</td></tr></table></div>"
      ],
      "text/plain": [
       "       0      1      Error    Rate\n",
       "-----  -----  -----  -------  ----------------\n",
       "0      10213  5681   0.3574   (5681.0/15894.0)\n",
       "1      2318   26190  0.0813   (2318.0/28508.0)\n",
       "Total  12531  31871  0.1801   (7999.0/44402.0)"
      ]
     },
     "metadata": {},
     "output_type": "display_data"
    },
    {
     "data": {
      "text/plain": []
     },
     "execution_count": 32,
     "metadata": {},
     "output_type": "execute_result"
    }
   ],
   "source": [
    "local_glm_plus.confusion_matrix()"
   ]
  },
  {
   "cell_type": "markdown",
   "metadata": {},
   "source": [
    "## 2.2 Logistic Regression"
   ]
  },
  {
   "cell_type": "markdown",
   "metadata": {},
   "source": [
    "### 2.2.1 Train & Fit Model"
   ]
  },
  {
   "cell_type": "code",
   "execution_count": 33,
   "metadata": {},
   "outputs": [],
   "source": [
    "predictors = ['ProductId', 'UserId', 'HelpfulnessNumerator', 'HelpfulnessDenominator', 'Time'] + summary_vecs.names + review_vecs.names \n",
    "response = 'PositiveReview'"
   ]
  },
  {
   "cell_type": "code",
   "execution_count": 34,
   "metadata": {},
   "outputs": [
    {
     "name": "stdout",
     "output_type": "stream",
     "text": [
      "glm Model Build progress: |███████████████████████████████████████████████| 100%\n"
     ]
    }
   ],
   "source": [
    "glm_logistic_plus_summary = H2OGeneralizedLinearEstimator(family = \"binomial\")\n",
    "glm_logistic_plus_summary.train(x=predictors, \n",
    "                               y= response, \n",
    "                               training_frame = ext_train_new, \n",
    "                               validation_frame = ext_test_new, \n",
    "                               model_id=\"glm_logistic\")"
   ]
  },
  {
   "cell_type": "markdown",
   "metadata": {},
   "source": [
    "### 2.2.2 Interpretability"
   ]
  },
  {
   "cell_type": "code",
   "execution_count": 35,
   "metadata": {},
   "outputs": [
    {
     "data": {
      "image/png": "[encoded data removed]",
      "text/plain": [
       "<Figure size 1008x720 with 1 Axes>"
      ]
     },
     "metadata": {
      "needs_background": "light"
     },
     "output_type": "display_data"
    }
   ],
   "source": [
    "glm_logistic_plus_summary.varimp_plot()"
   ]
  },
  {
   "cell_type": "code",
   "execution_count": 36,
   "metadata": {},
   "outputs": [
    {
     "name": "stdout",
     "output_type": "stream",
     "text": [
      "PartialDependencePlot progress: |█████████████████████████████████████████| 100%\n"
     ]
    },
    {
     "data": {
      "image/png": "[encoded data removed]",
      "text/plain": [
       "<Figure size 504x720 with 1 Axes>"
      ]
     },
     "metadata": {
      "needs_background": "light"
     },
     "output_type": "display_data"
    }
   ],
   "source": [
    "pdp_word_vecs = glm_logistic_plus_summary.partial_plot(data = ext_train_new, cols = [\"summary_C91\"])"
   ]
  },
  {
   "cell_type": "markdown",
   "metadata": {},
   "source": [
    "### 2.2.3 Matrix"
   ]
  },
  {
   "cell_type": "code",
   "execution_count": 37,
   "metadata": {},
   "outputs": [
    {
     "name": "stdout",
     "output_type": "stream",
     "text": [
      "With Summary and Review Embeddings AUC: 0.855\n"
     ]
    }
   ],
   "source": [
    "print(\"With Summary and Review Embeddings AUC: \" + str(round(glm_logistic_plus_summary.auc(valid = True), 3)))"
   ]
  },
  {
   "cell_type": "code",
   "execution_count": 38,
   "metadata": {},
   "outputs": [
    {
     "name": "stdout",
     "output_type": "stream",
     "text": [
      "Confusion Matrix (Act/Pred) for max f1 @ threshold = 0.5021467831125499: \n"
     ]
    },
    {
     "data": {
      "text/html": [
       "<div style=\"overflow:auto\"><table style=\"width:50%\"><tr><td><b></b></td>\n",
       "<td><b>0</b></td>\n",
       "<td><b>1</b></td>\n",
       "<td><b>Error</b></td>\n",
       "<td><b>Rate</b></td></tr>\n",
       "<tr><td>0</td>\n",
       "<td>2618.0</td>\n",
       "<td>1594.0</td>\n",
       "<td>0.3784</td>\n",
       "<td> (1594.0/4212.0)</td></tr>\n",
       "<tr><td>1</td>\n",
       "<td>633.0</td>\n",
       "<td>6307.0</td>\n",
       "<td>0.0912</td>\n",
       "<td> (633.0/6940.0)</td></tr>\n",
       "<tr><td>Total</td>\n",
       "<td>3251.0</td>\n",
       "<td>7901.0</td>\n",
       "<td>0.1997</td>\n",
       "<td> (2227.0/11152.0)</td></tr></table></div>"
      ],
      "text/plain": [
       "       0     1     Error    Rate\n",
       "-----  ----  ----  -------  ----------------\n",
       "0      2618  1594  0.3784   (1594.0/4212.0)\n",
       "1      633   6307  0.0912   (633.0/6940.0)\n",
       "Total  3251  7901  0.1997   (2227.0/11152.0)"
      ]
     },
     "metadata": {},
     "output_type": "display_data"
    },
    {
     "data": {
      "text/plain": []
     },
     "execution_count": 38,
     "metadata": {},
     "output_type": "execute_result"
    }
   ],
   "source": [
    "glm_logistic_plus_summary.confusion_matrix(valid = True)"
   ]
  },
  {
   "cell_type": "code",
   "execution_count": 39,
   "metadata": {},
   "outputs": [
    {
     "name": "stdout",
     "output_type": "stream",
     "text": [
      "Confusion Matrix (Act/Pred) for max f1 @ threshold = 0.5021467831125499: \n"
     ]
    },
    {
     "data": {
      "text/html": [
       "<div style=\"overflow:auto\"><table style=\"width:50%\"><tr><td><b></b></td>\n",
       "<td><b>0</b></td>\n",
       "<td><b>1</b></td>\n",
       "<td><b>Error</b></td>\n",
       "<td><b>Rate</b></td></tr>\n",
       "<tr><td>0</td>\n",
       "<td>2618.0</td>\n",
       "<td>1594.0</td>\n",
       "<td>0.3784</td>\n",
       "<td> (1594.0/4212.0)</td></tr>\n",
       "<tr><td>1</td>\n",
       "<td>633.0</td>\n",
       "<td>6307.0</td>\n",
       "<td>0.0912</td>\n",
       "<td> (633.0/6940.0)</td></tr>\n",
       "<tr><td>Total</td>\n",
       "<td>3251.0</td>\n",
       "<td>7901.0</td>\n",
       "<td>0.1997</td>\n",
       "<td> (2227.0/11152.0)</td></tr></table></div>"
      ],
      "text/plain": [
       "       0     1     Error    Rate\n",
       "-----  ----  ----  -------  ----------------\n",
       "0      2618  1594  0.3784   (1594.0/4212.0)\n",
       "1      633   6307  0.0912   (633.0/6940.0)\n",
       "Total  3251  7901  0.1997   (2227.0/11152.0)"
      ]
     },
     "metadata": {},
     "output_type": "display_data"
    },
    {
     "data": {
      "text/plain": []
     },
     "execution_count": 39,
     "metadata": {},
     "output_type": "execute_result"
    }
   ],
   "source": [
    "glm_logistic_plus_summary.confusion_matrix(valid = True)"
   ]
  },
  {
   "cell_type": "markdown",
   "metadata": {},
   "source": [
    "## 2.3 Decision Tree"
   ]
  },
  {
   "cell_type": "code",
   "execution_count": 40,
   "metadata": {},
   "outputs": [],
   "source": [
    "from h2o.estimators.random_forest import H2ORandomForestEstimator # for single tree\n",
    "# in-notebook display\n",
    "from IPython.display import Image\n",
    "from IPython.display import display\n",
    "%matplotlib inline"
   ]
  },
  {
   "cell_type": "markdown",
   "metadata": {},
   "source": [
    "### 2.3.1 Train & Fit Model"
   ]
  },
  {
   "cell_type": "code",
   "execution_count": 41,
   "metadata": {},
   "outputs": [],
   "source": [
    "predictors = ['ProductId', 'UserId', 'HelpfulnessNumerator', 'HelpfulnessDenominator', 'Time'] + review_vecs.names + summary_vecs.names\n",
    "response = 'PositiveReview'"
   ]
  },
  {
   "cell_type": "code",
   "execution_count": 42,
   "metadata": {},
   "outputs": [
    {
     "name": "stdout",
     "output_type": "stream",
     "text": [
      "gbm Model Build progress: |███████████████████████████████████████████████| 100%\n"
     ]
    }
   ],
   "source": [
    "# initialize single tree surrogate model\n",
    "model_id = 'dt_surrogate_mojo'\n",
    "\n",
    "# train single tree surrogate model\n",
    "surrogate = H2OGradientBoostingEstimator(ntrees=1,\n",
    "                                         sample_rate=1,\n",
    "                                         col_sample_rate=1,\n",
    "                                         max_depth=3,\n",
    "                                         seed=12345,\n",
    "                                         model_id=model_id)\n",
    "\n",
    "_ = surrogate.train(x=predictors, y=response, training_frame=ext_train_new)"
   ]
  },
  {
   "cell_type": "markdown",
   "metadata": {},
   "source": [
    "### 2.3.2 Interpretability"
   ]
  },
  {
   "cell_type": "markdown",
   "metadata": {},
   "source": [
    "### 3.3 Matrix"
   ]
  },
  {
   "cell_type": "code",
   "execution_count": 43,
   "metadata": {},
   "outputs": [
    {
     "name": "stdout",
     "output_type": "stream",
     "text": [
      "Model Details\n",
      "=============\n",
      "H2OGradientBoostingEstimator :  Gradient Boosting Machine\n",
      "Model Key:  dt_surrogate_mojo\n",
      "\n",
      "\n",
      "ModelMetricsBinomial: gbm\n",
      "** Reported on train data. **\n",
      "\n",
      "MSE: 0.2240243687513492\n",
      "RMSE: 0.4733121261401922\n",
      "LogLoss: 0.6397027506975472\n",
      "Mean Per-Class Error: 0.34342953260100517\n",
      "AUC: 0.7065069169486801\n",
      "pr_auc: 0.44590818082258726\n",
      "Gini: 0.4130138338973601\n",
      "Confusion Matrix (Act/Pred) for max f1 @ threshold = 0.618467952665474: \n"
     ]
    },
    {
     "data": {
      "text/html": [
       "<div style=\"overflow:auto\"><table style=\"width:50%\"><tr><td><b></b></td>\n",
       "<td><b>0</b></td>\n",
       "<td><b>1</b></td>\n",
       "<td><b>Error</b></td>\n",
       "<td><b>Rate</b></td></tr>\n",
       "<tr><td>0</td>\n",
       "<td>2311.0</td>\n",
       "<td>13583.0</td>\n",
       "<td>0.8546</td>\n",
       "<td> (13583.0/15894.0)</td></tr>\n",
       "<tr><td>1</td>\n",
       "<td>671.0</td>\n",
       "<td>27837.0</td>\n",
       "<td>0.0235</td>\n",
       "<td> (671.0/28508.0)</td></tr>\n",
       "<tr><td>Total</td>\n",
       "<td>2982.0</td>\n",
       "<td>41420.0</td>\n",
       "<td>0.321</td>\n",
       "<td> (14254.0/44402.0)</td></tr></table></div>"
      ],
      "text/plain": [
       "       0     1      Error    Rate\n",
       "-----  ----  -----  -------  -----------------\n",
       "0      2311  13583  0.8546   (13583.0/15894.0)\n",
       "1      671   27837  0.0235   (671.0/28508.0)\n",
       "Total  2982  41420  0.321    (14254.0/44402.0)"
      ]
     },
     "metadata": {},
     "output_type": "display_data"
    },
    {
     "name": "stdout",
     "output_type": "stream",
     "text": [
      "Maximum Metrics: Maximum metrics at their respective thresholds\n",
      "\n"
     ]
    },
    {
     "data": {
      "text/html": [
       "<div style=\"overflow:auto\"><table style=\"width:50%\"><tr><td><b>metric</b></td>\n",
       "<td><b>threshold</b></td>\n",
       "<td><b>value</b></td>\n",
       "<td><b>idx</b></td></tr>\n",
       "<tr><td>max f1</td>\n",
       "<td>0.6184680</td>\n",
       "<td>0.7961618</td>\n",
       "<td>6.0</td></tr>\n",
       "<tr><td>max f2</td>\n",
       "<td>0.5993574</td>\n",
       "<td>0.8996806</td>\n",
       "<td>7.0</td></tr>\n",
       "<tr><td>max f0point5</td>\n",
       "<td>0.6392298</td>\n",
       "<td>0.7499928</td>\n",
       "<td>3.0</td></tr>\n",
       "<tr><td>max accuracy</td>\n",
       "<td>0.6310742</td>\n",
       "<td>0.6918832</td>\n",
       "<td>5.0</td></tr>\n",
       "<tr><td>max precision</td>\n",
       "<td>0.6602216</td>\n",
       "<td>0.8259918</td>\n",
       "<td>0.0</td></tr>\n",
       "<tr><td>max recall</td>\n",
       "<td>0.5993574</td>\n",
       "<td>1.0</td>\n",
       "<td>7.0</td></tr>\n",
       "<tr><td>max specificity</td>\n",
       "<td>0.6602216</td>\n",
       "<td>0.8449100</td>\n",
       "<td>0.0</td></tr>\n",
       "<tr><td>max absolute_mcc</td>\n",
       "<td>0.6424581</td>\n",
       "<td>0.3020736</td>\n",
       "<td>2.0</td></tr>\n",
       "<tr><td>max min_per_class_accuracy</td>\n",
       "<td>0.6424581</td>\n",
       "<td>0.6460299</td>\n",
       "<td>2.0</td></tr>\n",
       "<tr><td>max mean_per_class_accuracy</td>\n",
       "<td>0.6424581</td>\n",
       "<td>0.6565705</td>\n",
       "<td>2.0</td></tr></table></div>"
      ],
      "text/plain": [
       "metric                       threshold    value     idx\n",
       "---------------------------  -----------  --------  -----\n",
       "max f1                       0.618468     0.796162  6\n",
       "max f2                       0.599357     0.899681  7\n",
       "max f0point5                 0.63923      0.749993  3\n",
       "max accuracy                 0.631074     0.691883  5\n",
       "max precision                0.660222     0.825992  0\n",
       "max recall                   0.599357     1         7\n",
       "max specificity              0.660222     0.84491   0\n",
       "max absolute_mcc             0.642458     0.302074  2\n",
       "max min_per_class_accuracy   0.642458     0.64603   2\n",
       "max mean_per_class_accuracy  0.642458     0.65657   2"
      ]
     },
     "metadata": {},
     "output_type": "display_data"
    },
    {
     "name": "stdout",
     "output_type": "stream",
     "text": [
      "Gains/Lift Table: Avg response rate: 64.20 %, avg score: 64.19 %\n",
      "\n"
     ]
    },
    {
     "data": {
      "text/html": [
       "<div style=\"overflow:auto\"><table style=\"width:50%\"><tr><td><b></b></td>\n",
       "<td><b>group</b></td>\n",
       "<td><b>cumulative_data_fraction</b></td>\n",
       "<td><b>lower_threshold</b></td>\n",
       "<td><b>lift</b></td>\n",
       "<td><b>cumulative_lift</b></td>\n",
       "<td><b>response_rate</b></td>\n",
       "<td><b>score</b></td>\n",
       "<td><b>cumulative_response_rate</b></td>\n",
       "<td><b>cumulative_score</b></td>\n",
       "<td><b>capture_rate</b></td>\n",
       "<td><b>cumulative_capture_rate</b></td>\n",
       "<td><b>gain</b></td>\n",
       "<td><b>cumulative_gain</b></td></tr>\n",
       "<tr><td></td>\n",
       "<td>1</td>\n",
       "<td>0.3190397</td>\n",
       "<td>0.6602216</td>\n",
       "<td>1.2865051</td>\n",
       "<td>1.2865051</td>\n",
       "<td>0.8259918</td>\n",
       "<td>0.6602216</td>\n",
       "<td>0.8259918</td>\n",
       "<td>0.6602216</td>\n",
       "<td>0.4104462</td>\n",
       "<td>0.4104462</td>\n",
       "<td>28.6505136</td>\n",
       "<td>28.6505136</td></tr>\n",
       "<tr><td></td>\n",
       "<td>2</td>\n",
       "<td>0.4585829</td>\n",
       "<td>0.6512197</td>\n",
       "<td>1.1437623</td>\n",
       "<td>1.2430696</td>\n",
       "<td>0.7343447</td>\n",
       "<td>0.6512197</td>\n",
       "<td>0.7981043</td>\n",
       "<td>0.6574824</td>\n",
       "<td>0.1596043</td>\n",
       "<td>0.5700505</td>\n",
       "<td>14.3762280</td>\n",
       "<td>24.3069583</td></tr>\n",
       "<tr><td></td>\n",
       "<td>3</td>\n",
       "<td>0.5550200</td>\n",
       "<td>0.6424581</td>\n",
       "<td>1.0064641</td>\n",
       "<td>1.2019584</td>\n",
       "<td>0.6461934</td>\n",
       "<td>0.6424581</td>\n",
       "<td>0.7717091</td>\n",
       "<td>0.6548719</td>\n",
       "<td>0.0970605</td>\n",
       "<td>0.6671110</td>\n",
       "<td>0.6464077</td>\n",
       "<td>20.1958368</td></tr>\n",
       "<tr><td></td>\n",
       "<td>4</td>\n",
       "<td>0.6266610</td>\n",
       "<td>0.6392298</td>\n",
       "<td>0.9562564</td>\n",
       "<td>1.1738693</td>\n",
       "<td>0.6139579</td>\n",
       "<td>0.6392298</td>\n",
       "<td>0.7536748</td>\n",
       "<td>0.6530837</td>\n",
       "<td>0.0685071</td>\n",
       "<td>0.7356181</td>\n",
       "<td>-4.3743596</td>\n",
       "<td>17.3869313</td></tr>\n",
       "<tr><td></td>\n",
       "<td>5</td>\n",
       "<td>0.8615603</td>\n",
       "<td>0.6310742</td>\n",
       "<td>0.8317765</td>\n",
       "<td>1.0805997</td>\n",
       "<td>0.5340364</td>\n",
       "<td>0.6311718</td>\n",
       "<td>0.6937917</td>\n",
       "<td>0.6471095</td>\n",
       "<td>0.1953838</td>\n",
       "<td>0.9310018</td>\n",
       "<td>-16.8223456</td>\n",
       "<td>8.0599738</td></tr>\n",
       "<tr><td></td>\n",
       "<td>6</td>\n",
       "<td>0.9328409</td>\n",
       "<td>0.6184680</td>\n",
       "<td>0.6377744</td>\n",
       "<td>1.0467624</td>\n",
       "<td>0.4094787</td>\n",
       "<td>0.6184680</td>\n",
       "<td>0.6720666</td>\n",
       "<td>0.6449209</td>\n",
       "<td>0.0454609</td>\n",
       "<td>0.9764627</td>\n",
       "<td>-36.2225620</td>\n",
       "<td>4.6762407</td></tr>\n",
       "<tr><td></td>\n",
       "<td>7</td>\n",
       "<td>1.0</td>\n",
       "<td>0.5993574</td>\n",
       "<td>0.3504699</td>\n",
       "<td>1.0</td>\n",
       "<td>0.2250168</td>\n",
       "<td>0.5993574</td>\n",
       "<td>0.6420432</td>\n",
       "<td>0.6418609</td>\n",
       "<td>0.0235373</td>\n",
       "<td>1.0</td>\n",
       "<td>-64.9530149</td>\n",
       "<td>0.0</td></tr></table></div>"
      ],
      "text/plain": [
       "    group    cumulative_data_fraction    lower_threshold    lift      cumulative_lift    response_rate    score     cumulative_response_rate    cumulative_score    capture_rate    cumulative_capture_rate    gain      cumulative_gain\n",
       "--  -------  --------------------------  -----------------  --------  -----------------  ---------------  --------  --------------------------  ------------------  --------------  -------------------------  --------  -----------------\n",
       "    1        0.31904                     0.660222           1.28651   1.28651            0.825992         0.660222  0.825992                    0.660222            0.410446        0.410446                   28.6505   28.6505\n",
       "    2        0.458583                    0.65122            1.14376   1.24307            0.734345         0.65122   0.798104                    0.657482            0.159604        0.570051                   14.3762   24.307\n",
       "    3        0.55502                     0.642458           1.00646   1.20196            0.646193         0.642458  0.771709                    0.654872            0.0970605       0.667111                   0.646408  20.1958\n",
       "    4        0.626661                    0.63923            0.956256  1.17387            0.613958         0.63923   0.753675                    0.653084            0.0685071       0.735618                   -4.37436  17.3869\n",
       "    5        0.86156                     0.631074           0.831777  1.0806             0.534036         0.631172  0.693792                    0.64711             0.195384        0.931002                   -16.8223  8.05997\n",
       "    6        0.932841                    0.618468           0.637774  1.04676            0.409479         0.618468  0.672067                    0.644921            0.0454609       0.976463                   -36.2226  4.67624\n",
       "    7        1                           0.599357           0.35047   1                  0.225017         0.599357  0.642043                    0.641861            0.0235373       1                          -64.953   0"
      ]
     },
     "metadata": {},
     "output_type": "display_data"
    },
    {
     "name": "stdout",
     "output_type": "stream",
     "text": [
      "\n",
      "Scoring History: \n"
     ]
    },
    {
     "data": {
      "text/html": [
       "<div style=\"overflow:auto\"><table style=\"width:50%\"><tr><td><b></b></td>\n",
       "<td><b>timestamp</b></td>\n",
       "<td><b>duration</b></td>\n",
       "<td><b>number_of_trees</b></td>\n",
       "<td><b>training_rmse</b></td>\n",
       "<td><b>training_logloss</b></td>\n",
       "<td><b>training_auc</b></td>\n",
       "<td><b>training_pr_auc</b></td>\n",
       "<td><b>training_lift</b></td>\n",
       "<td><b>training_classification_error</b></td></tr>\n",
       "<tr><td></td>\n",
       "<td>2019-04-21 14:44:16</td>\n",
       "<td> 0.008 sec</td>\n",
       "<td>0.0</td>\n",
       "<td>0.4793994</td>\n",
       "<td>0.6522336</td>\n",
       "<td>0.5</td>\n",
       "<td>0.0</td>\n",
       "<td>1.0</td>\n",
       "<td>0.3579568</td></tr>\n",
       "<tr><td></td>\n",
       "<td>2019-04-21 14:44:17</td>\n",
       "<td> 0.407 sec</td>\n",
       "<td>1.0</td>\n",
       "<td>0.4733121</td>\n",
       "<td>0.6397028</td>\n",
       "<td>0.7065069</td>\n",
       "<td>0.4459082</td>\n",
       "<td>1.2865051</td>\n",
       "<td>0.3210216</td></tr></table></div>"
      ],
      "text/plain": [
       "    timestamp            duration    number_of_trees    training_rmse    training_logloss    training_auc    training_pr_auc    training_lift    training_classification_error\n",
       "--  -------------------  ----------  -----------------  ---------------  ------------------  --------------  -----------------  ---------------  -------------------------------\n",
       "    2019-04-21 14:44:16  0.008 sec   0                  0.479399         0.652234            0.5             0                  1                0.357957\n",
       "    2019-04-21 14:44:17  0.407 sec   1                  0.473312         0.639703            0.706507        0.445908           1.28651          0.321022"
      ]
     },
     "metadata": {},
     "output_type": "display_data"
    },
    {
     "name": "stdout",
     "output_type": "stream",
     "text": [
      "Variable Importances: \n"
     ]
    },
    {
     "data": {
      "text/html": [
       "<div style=\"overflow:auto\"><table style=\"width:50%\"><tr><td><b>variable</b></td>\n",
       "<td><b>relative_importance</b></td>\n",
       "<td><b>scaled_importance</b></td>\n",
       "<td><b>percentage</b></td></tr>\n",
       "<tr><td>summary_C51</td>\n",
       "<td>583.0717163</td>\n",
       "<td>1.0</td>\n",
       "<td>0.4330695</td></tr>\n",
       "<tr><td>C51</td>\n",
       "<td>260.8253174</td>\n",
       "<td>0.4473297</td>\n",
       "<td>0.1937249</td></tr>\n",
       "<tr><td>summary_C40</td>\n",
       "<td>154.7588196</td>\n",
       "<td>0.2654199</td>\n",
       "<td>0.1149453</td></tr>\n",
       "<tr><td>summary_C100</td>\n",
       "<td>131.2238617</td>\n",
       "<td>0.2250561</td>\n",
       "<td>0.0974649</td></tr>\n",
       "<tr><td>summary_C12</td>\n",
       "<td>106.2958908</td>\n",
       "<td>0.1823033</td>\n",
       "<td>0.0789500</td></tr>\n",
       "<tr><td>---</td>\n",
       "<td>---</td>\n",
       "<td>---</td>\n",
       "<td>---</td></tr>\n",
       "<tr><td>summary_C95</td>\n",
       "<td>0.0</td>\n",
       "<td>0.0</td>\n",
       "<td>0.0</td></tr>\n",
       "<tr><td>summary_C96</td>\n",
       "<td>0.0</td>\n",
       "<td>0.0</td>\n",
       "<td>0.0</td></tr>\n",
       "<tr><td>summary_C97</td>\n",
       "<td>0.0</td>\n",
       "<td>0.0</td>\n",
       "<td>0.0</td></tr>\n",
       "<tr><td>summary_C98</td>\n",
       "<td>0.0</td>\n",
       "<td>0.0</td>\n",
       "<td>0.0</td></tr>\n",
       "<tr><td>summary_C99</td>\n",
       "<td>0.0</td>\n",
       "<td>0.0</td>\n",
       "<td>0.0</td></tr></table></div>"
      ],
      "text/plain": [
       "variable      relative_importance    scaled_importance    percentage\n",
       "------------  ---------------------  -------------------  -------------------\n",
       "summary_C51   583.0717163085938      1.0                  0.43306950378306935\n",
       "C51           260.8253173828125      0.44732973678450444  0.1937248671366764\n",
       "summary_C40   154.75881958007812     0.2654198707490919   0.11494525171947563\n",
       "summary_C100  131.22386169433594     0.22505612607160835  0.09746494484117134\n",
       "summary_C12   106.29589080810547     0.18230328763168444  0.07894999431267574\n",
       "---           ---                    ---                  ---\n",
       "summary_C95   0.0                    0.0                  0.0\n",
       "summary_C96   0.0                    0.0                  0.0\n",
       "summary_C97   0.0                    0.0                  0.0\n",
       "summary_C98   0.0                    0.0                  0.0\n",
       "summary_C99   0.0                    0.0                  0.0"
      ]
     },
     "metadata": {},
     "output_type": "display_data"
    },
    {
     "name": "stdout",
     "output_type": "stream",
     "text": [
      "\n",
      "See the whole table with table.as_data_frame()\n",
      "\n"
     ]
    }
   ],
   "source": [
    "print(surrogate)"
   ]
  },
  {
   "cell_type": "markdown",
   "metadata": {},
   "source": [
    "## 4 Gradient Boosting"
   ]
  },
  {
   "cell_type": "markdown",
   "metadata": {},
   "source": [
    "### 4.1 Train & Fit Model"
   ]
  },
  {
   "cell_type": "code",
   "execution_count": 44,
   "metadata": {},
   "outputs": [
    {
     "name": "stdout",
     "output_type": "stream",
     "text": [
      "gbm Model Build progress: |███████████████████████████████████████████████| 100%\n"
     ]
    }
   ],
   "source": [
    "gbm = H2OGradientBoostingEstimator(stopping_metric = \"AUC\",\n",
    "                                           stopping_tolerance = 0.001,\n",
    "                                           stopping_rounds = 5, \n",
    "                                           score_tree_interval = 10, \n",
    "                                           model_id = 'gbm.hex')\n",
    "gbm.train(x = predictors, \n",
    "                   y = response,\n",
    "                  training_frame = ext_train_new,\n",
    "                  validation_frame = ext_test_new)"
   ]
  },
  {
   "cell_type": "markdown",
   "metadata": {},
   "source": [
    "### 4.2 Interpretability"
   ]
  },
  {
   "cell_type": "code",
   "execution_count": 45,
   "metadata": {},
   "outputs": [
    {
     "data": {
      "image/png": "[encoded data removed]",
      "text/plain": [
       "<Figure size 1008x720 with 1 Axes>"
      ]
     },
     "metadata": {
      "needs_background": "light"
     },
     "output_type": "display_data"
    }
   ],
   "source": [
    "gbm.varimp_plot()"
   ]
  },
  {
   "cell_type": "code",
   "execution_count": 46,
   "metadata": {
    "scrolled": false
   },
   "outputs": [
    {
     "name": "stdout",
     "output_type": "stream",
     "text": [
      "PartialDependencePlot progress: |█████████████████████████████████████████| 100%\n"
     ]
    },
    {
     "data": {
      "image/png": "[encoded data removed]",
      "text/plain": [
       "<Figure size 504x720 with 1 Axes>"
      ]
     },
     "metadata": {
      "needs_background": "light"
     },
     "output_type": "display_data"
    }
   ],
   "source": [
    "pdp_helpfulness = gbm.partial_plot(ext_train_new, cols = ['HelpfulnessNumerator'])"
   ]
  },
  {
   "cell_type": "markdown",
   "metadata": {},
   "source": [
    "### 4.3 Matrix"
   ]
  },
  {
   "cell_type": "code",
   "execution_count": 47,
   "metadata": {},
   "outputs": [
    {
     "name": "stdout",
     "output_type": "stream",
     "text": [
      "AUC on validation data: 0.846\n"
     ]
    }
   ],
   "source": [
    "print(\"AUC on validation data: \" + str(round(gbm.auc(valid = True), 3)))"
   ]
  },
  {
   "cell_type": "code",
   "execution_count": 48,
   "metadata": {},
   "outputs": [
    {
     "name": "stdout",
     "output_type": "stream",
     "text": [
      "Confusion Matrix (Act/Pred) for max f1 @ threshold = 0.47887123153948047: \n"
     ]
    },
    {
     "data": {
      "text/html": [
       "<div style=\"overflow:auto\"><table style=\"width:50%\"><tr><td><b></b></td>\n",
       "<td><b>0</b></td>\n",
       "<td><b>1</b></td>\n",
       "<td><b>Error</b></td>\n",
       "<td><b>Rate</b></td></tr>\n",
       "<tr><td>0</td>\n",
       "<td>2446.0</td>\n",
       "<td>1766.0</td>\n",
       "<td>0.4193</td>\n",
       "<td> (1766.0/4212.0)</td></tr>\n",
       "<tr><td>1</td>\n",
       "<td>555.0</td>\n",
       "<td>6385.0</td>\n",
       "<td>0.08</td>\n",
       "<td> (555.0/6940.0)</td></tr>\n",
       "<tr><td>Total</td>\n",
       "<td>3001.0</td>\n",
       "<td>8151.0</td>\n",
       "<td>0.2081</td>\n",
       "<td> (2321.0/11152.0)</td></tr></table></div>"
      ],
      "text/plain": [
       "       0     1     Error    Rate\n",
       "-----  ----  ----  -------  ----------------\n",
       "0      2446  1766  0.4193   (1766.0/4212.0)\n",
       "1      555   6385  0.08     (555.0/6940.0)\n",
       "Total  3001  8151  0.2081   (2321.0/11152.0)"
      ]
     },
     "metadata": {},
     "output_type": "display_data"
    },
    {
     "data": {
      "text/plain": []
     },
     "execution_count": 48,
     "metadata": {},
     "output_type": "execute_result"
    }
   ],
   "source": [
    "gbm.confusion_matrix(valid=True)"
   ]
  },
  {
   "cell_type": "code",
   "execution_count": 49,
   "metadata": {},
   "outputs": [
    {
     "data": {
      "text/plain": [
       "{'train': 0.44591204451732713, 'valid': 0.357253899124959}"
      ]
     },
     "execution_count": 49,
     "metadata": {},
     "output_type": "execute_result"
    }
   ],
   "source": [
    "gbm.r2(train=True, valid=True)"
   ]
  },
  {
   "cell_type": "code",
   "execution_count": null,
   "metadata": {},
   "outputs": [],
   "source": [
    "# h2o.cluster().shutdown()"
   ]
  },
  {
   "cell_type": "code",
   "execution_count": null,
   "metadata": {},
   "outputs": [],
   "source": []
  },
  {
   "cell_type": "code",
   "execution_count": null,
   "metadata": {},
   "outputs": [],
   "source": []
  }
 ],
 "metadata": {
  "kernelspec": {
   "display_name": "Python 3",
   "language": "python",
   "name": "python3"
  },
  "language_info": {
   "codemirror_mode": {
    "name": "ipython",
    "version": 3
   },
   "file_extension": ".py",
   "mimetype": "text/x-python",
   "name": "python",
   "nbconvert_exporter": "python",
   "pygments_lexer": "ipython3",
   "version": "3.7.2"
  },
  "toc": {
   "base_numbering": 1,
   "nav_menu": {},
   "number_sections": false,
   "sideBar": true,
   "skip_h1_title": false,
   "title_cell": "Table of Contents",
   "title_sidebar": "Contents",
   "toc_cell": false,
   "toc_position": {
    "height": "calc(100% - 180px)",
    "left": "10px",
    "top": "150px",
    "width": "336px"
   },
   "toc_section_display": true,
   "toc_window_display": true
  },
  "varInspector": {
   "cols": {
    "lenName": 16,
    "lenType": 16,
    "lenVar": 40
   },
   "kernels_config": {
    "python": {
     "delete_cmd_postfix": "",
     "delete_cmd_prefix": "del ",
     "library": "var_list.py",
     "varRefreshCmd": "print(var_dic_list())"
    },
    "r": {
     "delete_cmd_postfix": ") ",
     "delete_cmd_prefix": "rm(",
     "library": "var_list.r",
     "varRefreshCmd": "cat(var_dic_list()) "
    }
   },
   "types_to_exclude": [
    "module",
    "function",
    "builtin_function_or_method",
    "instance",
    "_Feature"
   ],
   "window_display": false
  }
 },
 "nbformat": 4,
 "nbformat_minor": 2
}
